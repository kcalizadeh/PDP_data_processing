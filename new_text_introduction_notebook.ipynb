{
  "nbformat": 4,
  "nbformat_minor": 0,
  "metadata": {
    "colab": {
      "name": "new_text_introduction_notebook.ipynb",
      "provenance": [],
      "toc_visible": true,
      "authorship_tag": "ABX9TyMFP3XIdDuIpft9x+IOumgQ",
      "include_colab_link": true
    },
    "kernelspec": {
      "name": "python3",
      "display_name": "Python 3"
    },
    "language_info": {
      "name": "python"
    }
  },
  "cells": [
    {
      "cell_type": "markdown",
      "metadata": {
        "id": "view-in-github",
        "colab_type": "text"
      },
      "source": [
        "<a href=\"https://colab.research.google.com/github/kcalizadeh/PDP_data_processing/blob/master/new_text_introduction_notebook.ipynb\" target=\"_parent\"><img src=\"https://colab.research.google.com/assets/colab-badge.svg\" alt=\"Open In Colab\"/></a>"
      ]
    },
    {
      "cell_type": "markdown",
      "metadata": {
        "id": "7Cw_rJlXCob_"
      },
      "source": [
        "### Imports and Mounting Drive"
      ]
    },
    {
      "cell_type": "code",
      "metadata": {
        "colab": {
          "base_uri": "https://localhost:8080/"
        },
        "id": "nN4DvDsxCdio",
        "outputId": "fcbf5e75-03f8-4ea8-f48c-5b025fcf65d4"
      },
      "source": [
        "# this cell mounts drive, sets the correct directory, then imports all functions\n",
        "# and relevant libraries via the functions.py file\n",
        "from google.colab import drive\n",
        "import sys\n",
        "\n",
        "drive.mount('/gdrive',force_remount=True)\n",
        "\n",
        "drive_path = '/gdrive/MyDrive/Colab_Projects/philosophy_data_project'\n",
        "\n",
        "sys.path.append(drive_path)"
      ],
      "execution_count": 1,
      "outputs": [
        {
          "output_type": "stream",
          "text": [
            "Mounted at /gdrive\n"
          ],
          "name": "stdout"
        }
      ]
    },
    {
      "cell_type": "code",
      "metadata": {
        "id": "EAk2WGLbCn3t"
      },
      "source": [
        "from import_functions import *"
      ],
      "execution_count": 2,
      "outputs": []
    },
    {
      "cell_type": "code",
      "metadata": {
        "id": "fV19sbpUC2PF",
        "colab": {
          "base_uri": "https://localhost:8080/"
        },
        "outputId": "5e67568a-d79b-479a-9f1c-a653653d7cb9"
      },
      "source": [
        "import spacy.cli\n",
        "spacy.cli.download(\"en_core_web_lg\")\n",
        "import en_core_web_lg\n",
        "nlp = en_core_web_lg.load()"
      ],
      "execution_count": 3,
      "outputs": [
        {
          "output_type": "stream",
          "text": [
            "\u001b[38;5;2m✔ Download and installation successful\u001b[0m\n",
            "You can now load the model via spacy.load('en_core_web_lg')\n"
          ],
          "name": "stdout"
        }
      ]
    },
    {
      "cell_type": "markdown",
      "metadata": {
        "id": "PbT8yZ0pC30A"
      },
      "source": [
        "###Load the Text and Clip Front and End Matter"
      ]
    },
    {
      "cell_type": "code",
      "metadata": {
        "id": "G-MzN2T2DUYm"
      },
      "source": [
        "# if you are deleting an old text that was added here, make sure it is in the \n",
        "# primary database construction notebook\n",
        "sartre_being = get_text(drive_path + '/phil_txts/sartre_being_and_nothingness.txt')"
      ],
      "execution_count": 11,
      "outputs": []
    },
    {
      "cell_type": "code",
      "metadata": {
        "id": "0eilq25ib1Ba"
      },
      "source": [
        "sartre_being = sartre_being.split('MODERN')[1].split('1Paul')[0]"
      ],
      "execution_count": 23,
      "outputs": []
    },
    {
      "cell_type": "code",
      "metadata": {
        "id": "WuWrhYwOUbck",
        "colab": {
          "base_uri": "https://localhost:8080/"
        },
        "outputId": "2a22ebdd-5a3b-43fb-eda4-21b05c494c8d"
      },
      "source": [
        "len(sartre_being)"
      ],
      "execution_count": 24,
      "outputs": [
        {
          "output_type": "execute_result",
          "data": {
            "text/plain": [
              "1934411"
            ]
          },
          "metadata": {
            "tags": []
          },
          "execution_count": 24
        }
      ]
    },
    {
      "cell_type": "markdown",
      "metadata": {
        "id": "suHuy6isDUiC"
      },
      "source": [
        "### Clean the Text\n",
        "\n"
      ]
    },
    {
      "cell_type": "code",
      "metadata": {
        "id": "4lfFHzvnDUpf"
      },
      "source": [
        "def baseline_clean(to_correct, \n",
        "                   capitals=True, \n",
        "                   bracketed_fn=False, \n",
        "                   odd_words_dict={}):\n",
        "  # remove utf8 encoding characters and some punctuations\n",
        "  result = re.sub(r'[\\x00-\\x08\\x0b\\x0c\\x0e-\\x1f\\x7f-\\xff\\xad\\x0c6§\\\\\\£\\Â*_<>\"\"⎫•{}Γ~]', ' ', to_correct)\n",
        "  result = re.sub(r'[\\u2014\\u2013\\u2012-]', ' ', result)\n",
        "\n",
        "  # replace whitespace characters with actual whitespace\n",
        "  result = re.sub(r'\\s', ' ', result)\n",
        "\n",
        "  # replace odd quotation marks with a standard\n",
        "  result = re.sub(r'[‘’“”]', \"'\", result)\n",
        "\n",
        "  # replace the ﬀ, ﬃ and ﬁ with the appropriate counterparts\n",
        "  result = re.sub(r'ﬀ', 'ff', result)\n",
        "  result = re.sub(r'ﬁ', 'fi', result)\n",
        "  result = re.sub(r'ﬃ', 'ffi', result)\n",
        "\n",
        "  # replace some accented characters for ease of searching\n",
        "  result = re.sub(r'é', 'e', result)\n",
        "  result = re.sub(r'è', 'e', result)\n",
        "\n",
        "  # remove or standardize some recurring common and meaninless words/phrases\n",
        "  result = re.sub(r'\\s*This\\s*page\\s*intentionally\\s*left\\s*blank\\s*', ' ', result)\n",
        "  result = re.sub(r'(?i)Aufgabe\\s+', ' ', result)\n",
        "  result = re.sub(r',*\\s+cf\\.', ' ', result)\n",
        "\n",
        "  # some texts have footnotes conveniently in brackets - this removes them all, \n",
        "  # with a safety measure for unpaired brackets, and deletes all brackets afterwards\n",
        "  if bracketed_fn:\n",
        "    result = re.sub(r'\\[.{0,300}\\]|{.{0,300}}|{.{0,300}\\]|\\[.{0,300}}', ' ', result)\n",
        "  result = re.sub(r'[\\[\\]{}]', ' ', result)\n",
        "\n",
        "  # unify some abbreviations\n",
        "  result = re.sub(r'&', 'and', result)\n",
        "  result = re.sub(r'\\se\\.g\\.\\s', ' eg ', result)\n",
        "  result = re.sub(r'\\si\\.e\\.\\s', ' ie ', result)\n",
        "  result = re.sub('coroll\\.', 'coroll', result)\n",
        "  result = re.sub('pt\\.', 'pt', result)\n",
        "\n",
        "  # remove roman numerals, first capitalized ones\n",
        "  result = re.sub(r'\\s((I{2,}V*X*\\.*)|(IV\\.*)|(IX\\.*)|(V\\.*)|(V+I*\\.*)|(X+L*V*I*]\\.*))\\s', ' ', result)\n",
        "  # then lowercase\n",
        "  result = re.sub(r'\\s((i{2,}v*x*\\.*)|(iv\\.*)|(ix\\.*)|(v\\.*)|(v+i*\\.*)|(x+l*v*i*\\.*))\\s', ' ', result)\n",
        "\n",
        "  # remove periods and commas flanked by numbers\n",
        "  result = re.sub(r'\\d\\.\\d', ' ', result)\n",
        "  result = re.sub(r'\\d,\\d', ' ', result)\n",
        "\n",
        "  # remove the number-letter-number pattern used for many citations\n",
        "  result = re.sub(r'\\d*\\w{,2}\\d', ' ', result)\n",
        "\n",
        "  # remove numerical characters\n",
        "  result = re.sub(r'\\d+', ' ', result)\n",
        "\n",
        "  # remove words of 2+ characters that are entirely capitalized \n",
        "  # (these are almost always titles, headings, or speakers in a dialogue)\n",
        "  # remove capital I's that follow capital words - these almost always roman numerals\n",
        "  # some texts do use these capitalizations meaningfully, so we make this optional\n",
        "  if capitals:\n",
        "    result = re.sub(r'[A-Z]{2,}\\s+I', ' ', result)\n",
        "    result = re.sub(r'[A-Z]{2,}', ' ', result)\n",
        "\n",
        "  # remove isolated colons and semicolons that result from removal of titles\n",
        "  result = re.sub(r'\\s+:\\s*', ' ', result)\n",
        "  result = re.sub(r'\\s+;\\s*', ' ', result)\n",
        "\n",
        "  # remove isolated letters (do it several times because strings of isolated letters do not get captured properly)\n",
        "  result = re.sub(r'\\s[^aAI\\.]\\s', ' ', result)\n",
        "  result = re.sub(r'\\s[^aAI\\.]\\s', ' ', result)\n",
        "  result = re.sub(r'\\s[^aAI\\.]\\s', ' ', result)\n",
        "  result = re.sub(r'\\s[^aAI\\.]\\s', ' ', result)\n",
        "  result = re.sub(r'\\s[^aAI\\.]\\s', ' ', result)\n",
        "  result = re.sub(r'\\s[^aAI\\.]\\s', ' ', result)\n",
        "\n",
        "  # remove isolated letters at the end of sentences or before commas\n",
        "  result = re.sub(r'\\s[^aI]\\.', '.', result)\n",
        "  result = re.sub(r'\\s[^aI],', ',', result)\n",
        "\n",
        "  # deal with spaces around periods and commas\n",
        "  result = re.sub(r'\\s+,\\s+', ', ', result)\n",
        "  result = re.sub(r'\\s+\\.\\s+', '. ', result)\n",
        "\n",
        "  # remove empty parantheses\n",
        "  result = re.sub(r'(\\(\\s*\\.*\\s*\\))|(\\(\\s*,*\\s*)\\)', ' ', result)\n",
        "  result = re.sub(r'\\.\\)\\.', '.', result)\n",
        "  result = re.sub(r'\\.\\(\\.', '.', result)\n",
        "\n",
        "  # reduce multiple periods, commas, or whitespaces into a single one\n",
        "  result = re.sub(r'\\.+', '.', result)\n",
        "  result = re.sub(r',+', ',', result)\n",
        "  result = re.sub(r'\\s+', ' ', result)\n",
        "\n",
        "  # deal with isolated problem cases discovered in the data:\n",
        "  for key in odd_words_dict.keys():\n",
        "    result = re.sub(r''+key+'', odd_words_dict[key], result)\n",
        "\n",
        "  return result"
      ],
      "execution_count": 65,
      "outputs": []
    },
    {
      "cell_type": "code",
      "metadata": {
        "id": "1OjRlTV_EEHM"
      },
      "source": [
        "# note extras like bracketed footnotes or specific words to remove\n"
      ],
      "execution_count": 66,
      "outputs": []
    },
    {
      "cell_type": "code",
      "metadata": {
        "id": "V6Y9RIRBED-F"
      },
      "source": [
        "# build a dictionary for the book\n",
        "sartre_being_dict = {\n",
        "    'author': 'Sartre',\n",
        "    'title': 'Being and Nothingness',\n",
        "    'text': sartre_being,\n",
        "    'school': 'Existentialism',\n",
        "    'words to remove': [],\n",
        "    'remove capitals': True,\n",
        "    'bracketed fn': False,\n",
        "    'original date': 1943,\n",
        "    'corpus date': 2011\n",
        "}"
      ],
      "execution_count": 67,
      "outputs": []
    },
    {
      "cell_type": "code",
      "metadata": {
        "id": "7fkWlxhoIOjA",
        "cellView": "form"
      },
      "source": [
        "#@title Oddities Dictionary for Cleaning\n",
        "# a dictionary of oddities to clean up\n",
        "odd_words_dict = {'\\sderstanding': 'derstanding',\n",
        "                  '\\sditference\\s': ' difference ',\n",
        "                  '\\sforthe\\s': ' for the ',\n",
        "                  '\\sject': 'ject',\n",
        "                  '\\sSure ly\\s': ' Surely ',\n",
        "                  '\\spiness': 'piness',\n",
        "                  '\\sjects': 'jects', \n",
        "                  '\\sness': 'ness',\n",
        "                  '\\schil dren\\s': ' children ',\n",
        "                  '\\sper\\scent\\s': ' percent ',\n",
        "                  '\\sper\\scent\\.': ' percent.',\n",
        "                  '\\sper\\scent,': ' percent,',\n",
        "                  '\\wi\\son': 'ion',\n",
        "                  '\\spri\\sori': ' priori',\n",
        "                  '\\stences\\s': 'tences ',\n",
        "                  '\\sprincipleb': ' principle',\n",
        "                  '\\ssciousness': 'sciousness',\n",
        "                  '\\stion': 'tion',\n",
        "                  '\\spri\\s': ' pri',\n",
        "                  '\\scluding': 'cluding',\n",
        "                  '\\sdom': 'dom',\n",
        "                  '\\sers': 'ers',\n",
        "                  '\\scritiq\\s': ' critique ',\n",
        "                  '\\ssensati\\s': ' sensation ',\n",
        "                  '(?i)\\syou\\sll': \" you'll\",\n",
        "                  '\\sI\\sll': \" I'll\",\n",
        "                  '(?i)\\swe\\sll': \" we'll\",\n",
        "                  '(?i)he\\sll': \" he'll\",\n",
        "                  '(?i)who\\sll': \"who'll\",\n",
        "                  '(?i)\\sthere\\sll\\s': \" there'll \",\n",
        "                  '\\seduca\\s': ' education ',\n",
        "                  '\\slity\\s': 'lity ',\n",
        "                  '\\smultaneously\\s': 'multaneously ',\n",
        "                  '\\stically\\s': 'tically ',\n",
        "                  '\\sDa\\ssein\\s': ' Dasein ',\n",
        "                  '(?i)\\sthey\\sll\\s': \" they'll \",\n",
        "                  '(?i)\\sin\\tum\\s': ' in turn ',\n",
        "                  '\\scon~\\s': ' con',\n",
        "                  '\\sà\\s': ' a ',\n",
        "                  '\\sjor\\s': ' for ',\n",
        "                  '\\sluminating\\s': 'luminating ',\n",
        "                  '\\sselj\\s': ' self ',\n",
        "                  '\\stial\\s': 'tial ',\n",
        "                  '\\sversal\\s': 'versal ',\n",
        "                  '\\sexis\\st': ' exist',\n",
        "                  '\\splauded\\s': 'plauded ',\n",
        "                  '\\suiry\\s': 'uiry ',\n",
        "                  '\\svithin\\s': ' within ',\n",
        "                  '\\soj\\s': ' of ',\n",
        "                  '\\sposi\\st': ' posit',\n",
        "                  '\\sra\\sther\\s': ' rather ',\n",
        "                  '(?i)\\sthat\\sll\\s': \" that'll \",\n",
        "                  '(?i)\\sa\\sll\\s': ' all ',\n",
        "                  '\\so\\sther\\s': ' other ',\n",
        "                  '\\sra\\sther\\s': ' rather ',\n",
        "                  '\\snei\\sther\\s': ' neither ',\n",
        "                  '\\sei\\sther\\s': ' either ',\n",
        "                  '\\sfur\\sther\\s': ' further ',\n",
        "                  '\\sano\\sther': ' another ',\n",
        "                  '\\sneces\\s': ' neces',\n",
        "                  'u\\slar\\s': 'ular ',\n",
        "                  '\\sference\\s': 'ference ',\n",
        "                  '(?i)it\\sll\\s': \"it'll \",\n",
        "                  '\\stoge\\sther': ' together ',\n",
        "                  '\\sknowledgeb\\s': ' knowledge ',\n",
        "                  'r\\stain\\s': 'rtain ',\n",
        "                  'on\\stain\\s': 'ontain',\n",
        "                  '(?i)j\\sect\\s': 'ject',\n",
        "                  '\\sob\\sect\\s': ' object ',\n",
        "                  '\\sbtle\\s': 'btle ',\n",
        "                  '\\snition\\s': 'nition ',\n",
        "                  '\\sdering\\s': 'dering ', \n",
        "                  '\\sized\\s': 'ized ',\n",
        "                  '\\sther\\shand': ' other hand',\n",
        "                  '\\ture\\s': 'ture ',\n",
        "                  '\\sabso\\sl': ' absol',\n",
        "                  '\\stly\\s': 'tly ',\n",
        "                  '\\serty\\s': 'erty ',\n",
        "                  '\\sobj\\se': ' obj',\n",
        "                  '\\sffiir\\s': ' for ',\n",
        "                  '\\sndeed\\s': ' indeed ',\n",
        "                  '\\sfonn\\s': ' form ',\n",
        "                  '\\snally\\s': 'nally ',\n",
        "                  'ain\\sty\\s': 'ainty ',\n",
        "                  'ici\\sty\\s': 'icity ',\n",
        "                  '\\scog\\sni': ' cogni',\n",
        "                  '\\sacc\\s': ' acc',\n",
        "                  '\\sindi\\svid\\sual': ' individual', \n",
        "                  '\\sintu\\sit': ' intuit',\n",
        "                  'r\\sance\\s': 'rance ',\n",
        "                  '\\ssions\\s': 'sions ',\n",
        "                  '\\sances\\s': 'ances ',\n",
        "                  '\\sper\\sception\\s': ' perception ',\n",
        "                  '\\sse\\sries\\s': ' series ',\n",
        "                  '\\sque\\sries\\s': ' queries ',\n",
        "                  '\\sessary\\s': 'essary ',\n",
        "                  '\\sofa\\s': ' of a ',\n",
        "                  '\\scer\\stainty\\s': ' certainty ',\n",
        "                  'ec\\stivity\\s': 'ectivity ',\n",
        "                  '\\stivity\\s': 'tivity ',\n",
        "                  '\\slation\\s': 'lation ',\n",
        "                  '\\sir\\sr': ' irr',\n",
        "                  '\\ssub\\sstance\\s': ' substance ',\n",
        "                  'sec\\sond\\s': 'second ',\n",
        "                  '\\s\\.rv': '',\n",
        "                  '\\story\\s': 'tory ',\n",
        "                  '\\sture\\s': 'ture ',\n",
        "                  '\\sminate\\s': 'minate ',\n",
        "                  '\\sing\\s': 'ing ',\n",
        "                  '\\splicity\\s': 'plicity ',\n",
        "                  '\\ssimi\\slar\\s': ' similar ',\n",
        "                  '\\scom\\smunity\\s': ' community ',\n",
        "                  '\\sitselfa\\s': ' itself a ',\n",
        "                  '\\ssimp\\s': ' simply ',\n",
        "                  '\\scon\\stex': ' contex',\n",
        "                  '\\scon\\sseq': ' conseq',\n",
        "                  '\\scon\\stai': ' contai',\n",
        "                  '\\sofwhat\\s': ' of what ',\n",
        "                  '\\sui\\s': 'ui',\n",
        "                  '\\sofan\\s': ' of an ',\n",
        "                  '\\saccor\\sdance\\s': ' accordance ',\n",
        "                  '\\stranscen\\sdental\\s': ' transcendental ',\n",
        "                  '\\sap\\spearances\\s': ' appearances ',\n",
        "                  'e\\squences\\s': 'equences ',\n",
        "                  '\\sorits\\s': ' or its ',\n",
        "                  '\\simma\\sn': ' imman',\n",
        "                  '\\seq\\sua': ' equa',\n",
        "                  '\\simpl\\sied\\s': ' implied ',\n",
        "                  '\\sbuta\\s': ' but a ',\n",
        "                  '\\sa\\snd\\s': ' and ',\n",
        "                  '\\sence\\s': 'ence ',\n",
        "                  '\\stain\\s': 'tain ',\n",
        "                  '\\sunder\\sstanding\\s': ' understanding ',\n",
        "                  'i\\sence\\s': 'ience ',\n",
        "                  'r\\sence\\s': 'rence ',\n",
        "                  '\\stical\\s': 'tical ',\n",
        "                  '\\sobjectsb\\s': ' objects ',\n",
        "                  '\\stbe\\s': ' the ',\n",
        "                  '\\smul\\st': ' mult',\n",
        "                  '\\sgen\\seral\\s': ' general ',\n",
        "                  '\\suniver\\ssal\\s': ' universal ',\n",
        "                  '\\scon\\stent\\s': ' content ',\n",
        "                  '\\spar\\sticular\\s': ' particular ',\n",
        "                  'ver\\ssity\\s': 'versity ',\n",
        "                  '\\sCritiq\\s': ' Critique ',\n",
        "                  '\\sphilo\\ssophy\\s': ' philosophy ',\n",
        "                  '\\seq\\s': ' eq'}"
      ],
      "execution_count": 68,
      "outputs": []
    },
    {
      "cell_type": "code",
      "metadata": {
        "id": "bXDII00UED1c"
      },
      "source": [
        "# a function that takes the dictionary and returns a dataframe of sentences\n",
        "def from_raw_to_df(text_dict):\n",
        "  nlp.max_length = 9000000\n",
        "  text = text_dict['text']\n",
        "  text = remove_words(text, text_dict['words to remove'])\n",
        "  text = baseline_clean(text, capitals=text_dict['remove capitals'],\n",
        "                        bracketed_fn=text_dict['bracketed fn'],\n",
        "                        odd_words_dict=odd_words_dict)\n",
        "  text_nlp = nlp(text, disable=['ner'])\n",
        "  text_df = pd.DataFrame(columns=['title', 'author', 'school', 'sentence_spacy'])\n",
        "  text_df['sentence_spacy'] = list(text_nlp.sents)\n",
        "  text_df['author'] = text_dict['author']\n",
        "  text_df['title'] = text_dict['title']\n",
        "  text_df['school'] = text_dict['school']\n",
        "  text_df['original_publication_date'] = text_dict['original date']\n",
        "  text_df['corpus_edition_date'] = text_dict['corpus date']\n",
        "  text_df['sentence_str'] = text_df['sentence_spacy'].apply(lambda x: ''.join(list(str(x))))\n",
        "  return text_df"
      ],
      "execution_count": 69,
      "outputs": []
    },
    {
      "cell_type": "code",
      "metadata": {
        "id": "w14qMlTrFM4s"
      },
      "source": [
        "# use the function\n",
        "f_t_df = from_raw_to_df(sartre_being_dict)\n",
        "df = f_t_df"
      ],
      "execution_count": 70,
      "outputs": []
    },
    {
      "cell_type": "code",
      "metadata": {
        "colab": {
          "base_uri": "https://localhost:8080/",
          "height": 733
        },
        "id": "IZ3JhAyNFept",
        "outputId": "f39d6317-cbed-4842-dc83-ce952ea2fd7d"
      },
      "source": [
        "# checking the result\n",
        "pd.options.display.max_colwidth = 200\n",
        "df.sample(10)"
      ],
      "execution_count": 71,
      "outputs": [
        {
          "output_type": "execute_result",
          "data": {
            "text/html": [
              "<div>\n",
              "<style scoped>\n",
              "    .dataframe tbody tr th:only-of-type {\n",
              "        vertical-align: middle;\n",
              "    }\n",
              "\n",
              "    .dataframe tbody tr th {\n",
              "        vertical-align: top;\n",
              "    }\n",
              "\n",
              "    .dataframe thead th {\n",
              "        text-align: right;\n",
              "    }\n",
              "</style>\n",
              "<table border=\"1\" class=\"dataframe\">\n",
              "  <thead>\n",
              "    <tr style=\"text-align: right;\">\n",
              "      <th></th>\n",
              "      <th>title</th>\n",
              "      <th>author</th>\n",
              "      <th>school</th>\n",
              "      <th>sentence_spacy</th>\n",
              "      <th>original_publication_date</th>\n",
              "      <th>corpus_edition_date</th>\n",
              "      <th>sentence_str</th>\n",
              "    </tr>\n",
              "  </thead>\n",
              "  <tbody>\n",
              "    <tr>\n",
              "      <th>9923</th>\n",
              "      <td>Being and Nothingness</td>\n",
              "      <td>Sartre</td>\n",
              "      <td>Existentialism</td>\n",
              "      <td>(and, I, shall, figure, as, equivalent, structures, in, solidarity, with, each, other, .)</td>\n",
              "      <td>1943</td>\n",
              "      <td>2011</td>\n",
              "      <td>and I shall figure as equivalent structures in solidarity with each other.</td>\n",
              "    </tr>\n",
              "    <tr>\n",
              "      <th>13242</th>\n",
              "      <td>Being and Nothingness</td>\n",
              "      <td>Sartre</td>\n",
              "      <td>Existentialism</td>\n",
              "      <td>(The, unknown, object, is, given, as, immaculate, ,, as, virgin, ,, comparable, to, a, whiteness, .)</td>\n",
              "      <td>1943</td>\n",
              "      <td>2011</td>\n",
              "      <td>The unknown object is given as immaculate, as virgin, comparable to a whiteness.</td>\n",
              "    </tr>\n",
              "    <tr>\n",
              "      <th>5567</th>\n",
              "      <td>Being and Nothingness</td>\n",
              "      <td>Sartre</td>\n",
              "      <td>Existentialism</td>\n",
              "      <td>(This, being, was, not, in, me, potentially, before, the, appearance, of, the, Other, ,, for, it, could, not, have, found, any, place, in, the, For, itself, .)</td>\n",
              "      <td>1943</td>\n",
              "      <td>2011</td>\n",
              "      <td>This being was not in me potentially before the appearance of the Other, for it could not have found any place in the For itself.</td>\n",
              "    </tr>\n",
              "    <tr>\n",
              "      <th>4615</th>\n",
              "      <td>Being and Nothingness</td>\n",
              "      <td>Sartre</td>\n",
              "      <td>Existentialism</td>\n",
              "      <td>(For, example, ,, as, we, shall, see, later, ,, the, revelation, of, the, spatiality, of, being, is, one, with, the, non, positional, apprehension, by, the, for, itself, of, itself, as, unextended...</td>\n",
              "      <td>1943</td>\n",
              "      <td>2011</td>\n",
              "      <td>For example, as we shall see later, the revelation of the spatiality of being is one with the non positional apprehension by the for itself of itself as unextended.</td>\n",
              "    </tr>\n",
              "    <tr>\n",
              "      <th>2747</th>\n",
              "      <td>Being and Nothingness</td>\n",
              "      <td>Sartre</td>\n",
              "      <td>Existentialism</td>\n",
              "      <td>(The, possibility, of, being, stopped, by, a, fold, in, the, cloth, belongs, neither, to, the, billiard, ball, which, rolls, nor, to, the, cloth, ;, it, can, arise, only, in, the, organization, in...</td>\n",
              "      <td>1943</td>\n",
              "      <td>2011</td>\n",
              "      <td>The possibility of being stopped by a fold in the cloth belongs neither to the billiard ball which rolls nor to the cloth; it can arise only in the organization into a system of the ball and the c...</td>\n",
              "    </tr>\n",
              "    <tr>\n",
              "      <th>455</th>\n",
              "      <td>Being and Nothingness</td>\n",
              "      <td>Sartre</td>\n",
              "      <td>Existentialism</td>\n",
              "      <td>(In, a, word, ,, man, is, active, and, the, means, which, he, employs, are, called, passive, .)</td>\n",
              "      <td>1943</td>\n",
              "      <td>2011</td>\n",
              "      <td>In a word, man is active and the means which he employs are called passive.</td>\n",
              "    </tr>\n",
              "    <tr>\n",
              "      <th>9757</th>\n",
              "      <td>Being and Nothingness</td>\n",
              "      <td>Sartre</td>\n",
              "      <td>Existentialism</td>\n",
              "      <td>(This, is, why, one, hates, right, through, the, revealed, psychic, but, not, the, psychic, itself, ;, this, is, why, also, it, is, indifferent, whether, we, hate, the, Other, 's, transcendence, t...</td>\n",
              "      <td>1943</td>\n",
              "      <td>2011</td>\n",
              "      <td>This is why one hates right through the revealed psychic but not the psychic itself; this is why also it is indifferent whether we hate the Other's transcendence through what we empirically call h...</td>\n",
              "    </tr>\n",
              "    <tr>\n",
              "      <th>3729</th>\n",
              "      <td>Being and Nothingness</td>\n",
              "      <td>Sartre</td>\n",
              "      <td>Existentialism</td>\n",
              "      <td>(Etc, .)</td>\n",
              "      <td>1943</td>\n",
              "      <td>2011</td>\n",
              "      <td>Etc.</td>\n",
              "    </tr>\n",
              "    <tr>\n",
              "      <th>8607</th>\n",
              "      <td>Being and Nothingness</td>\n",
              "      <td>Sartre</td>\n",
              "      <td>Existentialism</td>\n",
              "      <td>(Considered, at, its, proper, place, and, time, and, in, its, original, contingency, ,, this, appearance, of, the, body, does, not, seem, to, be, capable, of, giving, rise, to, new, problems, .)</td>\n",
              "      <td>1943</td>\n",
              "      <td>2011</td>\n",
              "      <td>Considered at its proper place and time and in its original contingency, this appearance of the body does not seem to be capable of giving rise to new problems.</td>\n",
              "    </tr>\n",
              "    <tr>\n",
              "      <th>3403</th>\n",
              "      <td>Being and Nothingness</td>\n",
              "      <td>Sartre</td>\n",
              "      <td>Existentialism</td>\n",
              "      <td>(Because, Presence, is, outside, of, itself, toward, something, lacking, which, is, beyond, the, world, ,, it, can, be, outside, itself, as, presence, to, an, in, itself, which, it, is, not, .)</td>\n",
              "      <td>1943</td>\n",
              "      <td>2011</td>\n",
              "      <td>Because Presence is outside of itself toward something lacking which is beyond the world, it can be outside itself as presence to an in itself which it is not.</td>\n",
              "    </tr>\n",
              "  </tbody>\n",
              "</table>\n",
              "</div>"
            ],
            "text/plain": [
              "                       title  ...                                                                                                                                                                                             sentence_str\n",
              "9923   Being and Nothingness  ...                                                                                                                               and I shall figure as equivalent structures in solidarity with each other.\n",
              "13242  Being and Nothingness  ...                                                                                                                         The unknown object is given as immaculate, as virgin, comparable to a whiteness.\n",
              "5567   Being and Nothingness  ...                                                                        This being was not in me potentially before the appearance of the Other, for it could not have found any place in the For itself.\n",
              "4615   Being and Nothingness  ...                                     For example, as we shall see later, the revelation of the spatiality of being is one with the non positional apprehension by the for itself of itself as unextended.\n",
              "2747   Being and Nothingness  ...  The possibility of being stopped by a fold in the cloth belongs neither to the billiard ball which rolls nor to the cloth; it can arise only in the organization into a system of the ball and the c...\n",
              "455    Being and Nothingness  ...                                                                                                                              In a word, man is active and the means which he employs are called passive.\n",
              "9757   Being and Nothingness  ...  This is why one hates right through the revealed psychic but not the psychic itself; this is why also it is indifferent whether we hate the Other's transcendence through what we empirically call h...\n",
              "3729   Being and Nothingness  ...                                                                                                                                                                                                     Etc.\n",
              "8607   Being and Nothingness  ...                                         Considered at its proper place and time and in its original contingency, this appearance of the body does not seem to be capable of giving rise to new problems.\n",
              "3403   Being and Nothingness  ...                                          Because Presence is outside of itself toward something lacking which is beyond the world, it can be outside itself as presence to an in itself which it is not.\n",
              "\n",
              "[10 rows x 7 columns]"
            ]
          },
          "metadata": {
            "tags": []
          },
          "execution_count": 71
        }
      ]
    },
    {
      "cell_type": "code",
      "metadata": {
        "colab": {
          "base_uri": "https://localhost:8080/"
        },
        "id": "JZMqd8G0Ra-1",
        "outputId": "d8c3641d-28b3-420a-db5a-bea3e918112a"
      },
      "source": [
        "len(df)"
      ],
      "execution_count": 72,
      "outputs": [
        {
          "output_type": "execute_result",
          "data": {
            "text/plain": [
              "14066"
            ]
          },
          "metadata": {
            "tags": []
          },
          "execution_count": 72
        }
      ]
    },
    {
      "cell_type": "markdown",
      "metadata": {
        "id": "e-mqOl9pFgwH"
      },
      "source": [
        "#### Remove Short Sentences"
      ]
    },
    {
      "cell_type": "code",
      "metadata": {
        "colab": {
          "base_uri": "https://localhost:8080/",
          "height": 221
        },
        "id": "EfYhrwWuFzOl",
        "outputId": "78973e0d-58db-4d23-eea9-8f67eb8c4c5a"
      },
      "source": [
        "df['sentence_length'] = df['sentence_str'].map(lambda x: len(x))\n",
        "num_of_short_entries = len(df[df['sentence_length'] < 20])\n",
        "print(f\"there are {num_of_short_entries} so-called sentences with fewer than 20 characters\")\n",
        "df[df['sentence_length'] < 20].sample(5)"
      ],
      "execution_count": 73,
      "outputs": [
        {
          "output_type": "stream",
          "text": [
            "there are 355 so-called sentences with fewer than 20 characters\n"
          ],
          "name": "stdout"
        },
        {
          "output_type": "execute_result",
          "data": {
            "text/html": [
              "<div>\n",
              "<style scoped>\n",
              "    .dataframe tbody tr th:only-of-type {\n",
              "        vertical-align: middle;\n",
              "    }\n",
              "\n",
              "    .dataframe tbody tr th {\n",
              "        vertical-align: top;\n",
              "    }\n",
              "\n",
              "    .dataframe thead th {\n",
              "        text-align: right;\n",
              "    }\n",
              "</style>\n",
              "<table border=\"1\" class=\"dataframe\">\n",
              "  <thead>\n",
              "    <tr style=\"text-align: right;\">\n",
              "      <th></th>\n",
              "      <th>title</th>\n",
              "      <th>author</th>\n",
              "      <th>school</th>\n",
              "      <th>sentence_spacy</th>\n",
              "      <th>original_publication_date</th>\n",
              "      <th>corpus_edition_date</th>\n",
              "      <th>sentence_str</th>\n",
              "      <th>sentence_length</th>\n",
              "    </tr>\n",
              "  </thead>\n",
              "  <tbody>\n",
              "    <tr>\n",
              "      <th>8634</th>\n",
              "      <td>Being and Nothingness</td>\n",
              "      <td>Sartre</td>\n",
              "      <td>Existentialism</td>\n",
              "      <td>(Tr, .)</td>\n",
              "      <td>1943</td>\n",
              "      <td>2011</td>\n",
              "      <td>Tr.</td>\n",
              "      <td>3</td>\n",
              "    </tr>\n",
              "    <tr>\n",
              "      <th>4414</th>\n",
              "      <td>Being and Nothingness</td>\n",
              "      <td>Sartre</td>\n",
              "      <td>Existentialism</td>\n",
              "      <td>(Tr, .)</td>\n",
              "      <td>1943</td>\n",
              "      <td>2011</td>\n",
              "      <td>Tr.</td>\n",
              "      <td>3</td>\n",
              "    </tr>\n",
              "    <tr>\n",
              "      <th>9792</th>\n",
              "      <td>Being and Nothingness</td>\n",
              "      <td>Sartre</td>\n",
              "      <td>Existentialism</td>\n",
              "      <td>(But, no, .)</td>\n",
              "      <td>1943</td>\n",
              "      <td>2011</td>\n",
              "      <td>But no.</td>\n",
              "      <td>7</td>\n",
              "    </tr>\n",
              "    <tr>\n",
              "      <th>10888</th>\n",
              "      <td>Being and Nothingness</td>\n",
              "      <td>Sartre</td>\n",
              "      <td>Existentialism</td>\n",
              "      <td>(but, at, what, price, ?)</td>\n",
              "      <td>1943</td>\n",
              "      <td>2011</td>\n",
              "      <td>but at what price?</td>\n",
              "      <td>18</td>\n",
              "    </tr>\n",
              "    <tr>\n",
              "      <th>12762</th>\n",
              "      <td>Being and Nothingness</td>\n",
              "      <td>Sartre</td>\n",
              "      <td>Existentialism</td>\n",
              "      <td>(Tr, .)</td>\n",
              "      <td>1943</td>\n",
              "      <td>2011</td>\n",
              "      <td>Tr.</td>\n",
              "      <td>3</td>\n",
              "    </tr>\n",
              "  </tbody>\n",
              "</table>\n",
              "</div>"
            ],
            "text/plain": [
              "                       title  author  ...        sentence_str sentence_length\n",
              "8634   Being and Nothingness  Sartre  ...                 Tr.               3\n",
              "4414   Being and Nothingness  Sartre  ...                 Tr.               3\n",
              "9792   Being and Nothingness  Sartre  ...             But no.               7\n",
              "10888  Being and Nothingness  Sartre  ...  but at what price?              18\n",
              "12762  Being and Nothingness  Sartre  ...                 Tr.               3\n",
              "\n",
              "[5 rows x 8 columns]"
            ]
          },
          "metadata": {
            "tags": []
          },
          "execution_count": 73
        }
      ]
    },
    {
      "cell_type": "code",
      "metadata": {
        "colab": {
          "base_uri": "https://localhost:8080/"
        },
        "id": "RW0AZpVyF1Qk",
        "outputId": "67707f03-5964-4471-8236-71bc875a7d5b"
      },
      "source": [
        "df = df.drop(df[df['sentence_length'] < 20].index)\n",
        "len(df)"
      ],
      "execution_count": 74,
      "outputs": [
        {
          "output_type": "execute_result",
          "data": {
            "text/plain": [
              "13711"
            ]
          },
          "metadata": {
            "tags": []
          },
          "execution_count": 74
        }
      ]
    },
    {
      "cell_type": "markdown",
      "metadata": {
        "id": "BX9UfoDtF3Lz"
      },
      "source": [
        "#### Remove Cases of Self-Mention"
      ]
    },
    {
      "cell_type": "code",
      "metadata": {
        "colab": {
          "base_uri": "https://localhost:8080/",
          "height": 66
        },
        "id": "LJnDfK9IF8hU",
        "outputId": "9bdcc73f-14d1-4ba6-b76e-8a6879449126"
      },
      "source": [
        "# change the author name in this cell \n",
        "\n",
        "self_mentions = df[df['sentence_str'].str.contains('\\s'+'Kierkegaard'.lower())]\n",
        "print(len(self_mentions))\n",
        "self_mentions"
      ],
      "execution_count": 75,
      "outputs": [
        {
          "output_type": "stream",
          "text": [
            "0\n"
          ],
          "name": "stdout"
        },
        {
          "output_type": "execute_result",
          "data": {
            "text/html": [
              "<div>\n",
              "<style scoped>\n",
              "    .dataframe tbody tr th:only-of-type {\n",
              "        vertical-align: middle;\n",
              "    }\n",
              "\n",
              "    .dataframe tbody tr th {\n",
              "        vertical-align: top;\n",
              "    }\n",
              "\n",
              "    .dataframe thead th {\n",
              "        text-align: right;\n",
              "    }\n",
              "</style>\n",
              "<table border=\"1\" class=\"dataframe\">\n",
              "  <thead>\n",
              "    <tr style=\"text-align: right;\">\n",
              "      <th></th>\n",
              "      <th>title</th>\n",
              "      <th>author</th>\n",
              "      <th>school</th>\n",
              "      <th>sentence_spacy</th>\n",
              "      <th>original_publication_date</th>\n",
              "      <th>corpus_edition_date</th>\n",
              "      <th>sentence_str</th>\n",
              "      <th>sentence_length</th>\n",
              "    </tr>\n",
              "  </thead>\n",
              "  <tbody>\n",
              "  </tbody>\n",
              "</table>\n",
              "</div>"
            ],
            "text/plain": [
              "Empty DataFrame\n",
              "Columns: [title, author, school, sentence_spacy, original_publication_date, corpus_edition_date, sentence_str, sentence_length]\n",
              "Index: []"
            ]
          },
          "metadata": {
            "tags": []
          },
          "execution_count": 75
        }
      ]
    },
    {
      "cell_type": "code",
      "metadata": {
        "colab": {
          "base_uri": "https://localhost:8080/"
        },
        "id": "mt86zZ3RF8q8",
        "outputId": "432f002c-3bf2-4a34-fb76-3c84d74462f8"
      },
      "source": [
        "df = df.drop(df[df['sentence_str'].str.contains('\\s'+'Augustine'.lower())].index)\n",
        "\n",
        "len(df)"
      ],
      "execution_count": 76,
      "outputs": [
        {
          "output_type": "execute_result",
          "data": {
            "text/plain": [
              "13711"
            ]
          },
          "metadata": {
            "tags": []
          },
          "execution_count": 76
        }
      ]
    },
    {
      "cell_type": "markdown",
      "metadata": {
        "id": "vglbGXSFF8y4"
      },
      "source": [
        "#### Deal with Duplicates"
      ]
    },
    {
      "cell_type": "code",
      "metadata": {
        "colab": {
          "base_uri": "https://localhost:8080/"
        },
        "id": "DRXjQSIQHpa-",
        "outputId": "b554b180-796d-4a19-cfa3-2606611116a2"
      },
      "source": [
        "# find the total number of duplicates\n",
        "len(df['sentence_str'])-len(df['sentence_str'].drop_duplicates())"
      ],
      "execution_count": 77,
      "outputs": [
        {
          "output_type": "execute_result",
          "data": {
            "text/plain": [
              "18"
            ]
          },
          "metadata": {
            "tags": []
          },
          "execution_count": 77
        }
      ]
    },
    {
      "cell_type": "code",
      "metadata": {
        "colab": {
          "base_uri": "https://localhost:8080/",
          "height": 886
        },
        "id": "sHn4mTy2TR3P",
        "outputId": "3ccfe04a-a1ee-4980-ec4b-c8752605293a"
      },
      "source": [
        "doubles_df = pd.concat(g for _, g in df.groupby(\"sentence_str\") if len(g) > 1)\n",
        "doubles_df"
      ],
      "execution_count": 78,
      "outputs": [
        {
          "output_type": "execute_result",
          "data": {
            "text/html": [
              "<div>\n",
              "<style scoped>\n",
              "    .dataframe tbody tr th:only-of-type {\n",
              "        vertical-align: middle;\n",
              "    }\n",
              "\n",
              "    .dataframe tbody tr th {\n",
              "        vertical-align: top;\n",
              "    }\n",
              "\n",
              "    .dataframe thead th {\n",
              "        text-align: right;\n",
              "    }\n",
              "</style>\n",
              "<table border=\"1\" class=\"dataframe\">\n",
              "  <thead>\n",
              "    <tr style=\"text-align: right;\">\n",
              "      <th></th>\n",
              "      <th>title</th>\n",
              "      <th>author</th>\n",
              "      <th>school</th>\n",
              "      <th>sentence_spacy</th>\n",
              "      <th>original_publication_date</th>\n",
              "      <th>corpus_edition_date</th>\n",
              "      <th>sentence_str</th>\n",
              "      <th>sentence_length</th>\n",
              "    </tr>\n",
              "  </thead>\n",
              "  <tbody>\n",
              "    <tr>\n",
              "      <th>521</th>\n",
              "      <td>Being and Nothingness</td>\n",
              "      <td>Sartre</td>\n",
              "      <td>Existentialism</td>\n",
              "      <td>(Being, is, what, it, is, .)</td>\n",
              "      <td>1943</td>\n",
              "      <td>2011</td>\n",
              "      <td>Being is what it is.</td>\n",
              "      <td>20</td>\n",
              "    </tr>\n",
              "    <tr>\n",
              "      <th>5245</th>\n",
              "      <td>Being and Nothingness</td>\n",
              "      <td>Sartre</td>\n",
              "      <td>Existentialism</td>\n",
              "      <td>(Being, is, what, it, is, .)</td>\n",
              "      <td>1943</td>\n",
              "      <td>2011</td>\n",
              "      <td>Being is what it is.</td>\n",
              "      <td>20</td>\n",
              "    </tr>\n",
              "    <tr>\n",
              "      <th>686</th>\n",
              "      <td>Being and Nothingness</td>\n",
              "      <td>Sartre</td>\n",
              "      <td>Existentialism</td>\n",
              "      <td>(But, this, is, not, all, .)</td>\n",
              "      <td>1943</td>\n",
              "      <td>2011</td>\n",
              "      <td>But this is not all.</td>\n",
              "      <td>20</td>\n",
              "    </tr>\n",
              "    <tr>\n",
              "      <th>5976</th>\n",
              "      <td>Being and Nothingness</td>\n",
              "      <td>Sartre</td>\n",
              "      <td>Existentialism</td>\n",
              "      <td>(But, this, is, not, all, .)</td>\n",
              "      <td>1943</td>\n",
              "      <td>2011</td>\n",
              "      <td>But this is not all.</td>\n",
              "      <td>20</td>\n",
              "    </tr>\n",
              "    <tr>\n",
              "      <th>13830</th>\n",
              "      <td>Being and Nothingness</td>\n",
              "      <td>Sartre</td>\n",
              "      <td>Existentialism</td>\n",
              "      <td>(But, this, is, not, all, .)</td>\n",
              "      <td>1943</td>\n",
              "      <td>2011</td>\n",
              "      <td>But this is not all.</td>\n",
              "      <td>20</td>\n",
              "    </tr>\n",
              "    <tr>\n",
              "      <th>2471</th>\n",
              "      <td>Being and Nothingness</td>\n",
              "      <td>Sartre</td>\n",
              "      <td>Existentialism</td>\n",
              "      <td>(Desire, is, a, lack, of, being, .)</td>\n",
              "      <td>1943</td>\n",
              "      <td>2011</td>\n",
              "      <td>Desire is a lack of being.</td>\n",
              "      <td>26</td>\n",
              "    </tr>\n",
              "    <tr>\n",
              "      <th>13173</th>\n",
              "      <td>Being and Nothingness</td>\n",
              "      <td>Sartre</td>\n",
              "      <td>Existentialism</td>\n",
              "      <td>(Desire, is, a, lack, of, being, .)</td>\n",
              "      <td>1943</td>\n",
              "      <td>2011</td>\n",
              "      <td>Desire is a lack of being.</td>\n",
              "      <td>26</td>\n",
              "    </tr>\n",
              "    <tr>\n",
              "      <th>3847</th>\n",
              "      <td>Being and Nothingness</td>\n",
              "      <td>Sartre</td>\n",
              "      <td>Existentialism</td>\n",
              "      <td>(Let, us, look, more, closely, .)</td>\n",
              "      <td>1943</td>\n",
              "      <td>2011</td>\n",
              "      <td>Let us look more closely.</td>\n",
              "      <td>25</td>\n",
              "    </tr>\n",
              "    <tr>\n",
              "      <th>10675</th>\n",
              "      <td>Being and Nothingness</td>\n",
              "      <td>Sartre</td>\n",
              "      <td>Existentialism</td>\n",
              "      <td>(Let, us, look, more, closely, .)</td>\n",
              "      <td>1943</td>\n",
              "      <td>2011</td>\n",
              "      <td>Let us look more closely.</td>\n",
              "      <td>25</td>\n",
              "    </tr>\n",
              "    <tr>\n",
              "      <th>11370</th>\n",
              "      <td>Being and Nothingness</td>\n",
              "      <td>Sartre</td>\n",
              "      <td>Existentialism</td>\n",
              "      <td>(Let, us, look, more, closely, .)</td>\n",
              "      <td>1943</td>\n",
              "      <td>2011</td>\n",
              "      <td>Let us look more closely.</td>\n",
              "      <td>25</td>\n",
              "    </tr>\n",
              "    <tr>\n",
              "      <th>11906</th>\n",
              "      <td>Being and Nothingness</td>\n",
              "      <td>Sartre</td>\n",
              "      <td>Existentialism</td>\n",
              "      <td>(Let, us, look, more, closely, .)</td>\n",
              "      <td>1943</td>\n",
              "      <td>2011</td>\n",
              "      <td>Let us look more closely.</td>\n",
              "      <td>25</td>\n",
              "    </tr>\n",
              "    <tr>\n",
              "      <th>7329</th>\n",
              "      <td>Being and Nothingness</td>\n",
              "      <td>Sartre</td>\n",
              "      <td>Existentialism</td>\n",
              "      <td>(Philosophical, Library, ,, .)</td>\n",
              "      <td>1943</td>\n",
              "      <td>2011</td>\n",
              "      <td>Philosophical Library,.</td>\n",
              "      <td>23</td>\n",
              "    </tr>\n",
              "    <tr>\n",
              "      <th>12755</th>\n",
              "      <td>Being and Nothingness</td>\n",
              "      <td>Sartre</td>\n",
              "      <td>Existentialism</td>\n",
              "      <td>(Philosophical, Library, ,, .)</td>\n",
              "      <td>1943</td>\n",
              "      <td>2011</td>\n",
              "      <td>Philosophical Library,.</td>\n",
              "      <td>23</td>\n",
              "    </tr>\n",
              "    <tr>\n",
              "      <th>6463</th>\n",
              "      <td>Being and Nothingness</td>\n",
              "      <td>Sartre</td>\n",
              "      <td>Existentialism</td>\n",
              "      <td>(Two, important, consequences, result, .)</td>\n",
              "      <td>1943</td>\n",
              "      <td>2011</td>\n",
              "      <td>Two important consequences result.</td>\n",
              "      <td>34</td>\n",
              "    </tr>\n",
              "    <tr>\n",
              "      <th>10283</th>\n",
              "      <td>Being and Nothingness</td>\n",
              "      <td>Sartre</td>\n",
              "      <td>Existentialism</td>\n",
              "      <td>(Two, important, consequences, result, .)</td>\n",
              "      <td>1943</td>\n",
              "      <td>2011</td>\n",
              "      <td>Two important consequences result.</td>\n",
              "      <td>34</td>\n",
              "    </tr>\n",
              "    <tr>\n",
              "      <th>4824</th>\n",
              "      <td>Being and Nothingness</td>\n",
              "      <td>Sartre</td>\n",
              "      <td>Existentialism</td>\n",
              "      <td>(We, shall, return, to, this, point, .)</td>\n",
              "      <td>1943</td>\n",
              "      <td>2011</td>\n",
              "      <td>We shall return to this point.</td>\n",
              "      <td>30</td>\n",
              "    </tr>\n",
              "    <tr>\n",
              "      <th>5215</th>\n",
              "      <td>Being and Nothingness</td>\n",
              "      <td>Sartre</td>\n",
              "      <td>Existentialism</td>\n",
              "      <td>(We, shall, return, to, this, point, .)</td>\n",
              "      <td>1943</td>\n",
              "      <td>2011</td>\n",
              "      <td>We shall return to this point.</td>\n",
              "      <td>30</td>\n",
              "    </tr>\n",
              "    <tr>\n",
              "      <th>6494</th>\n",
              "      <td>Being and Nothingness</td>\n",
              "      <td>Sartre</td>\n",
              "      <td>Existentialism</td>\n",
              "      <td>(We, shall, return, to, this, point, .)</td>\n",
              "      <td>1943</td>\n",
              "      <td>2011</td>\n",
              "      <td>We shall return to this point.</td>\n",
              "      <td>30</td>\n",
              "    </tr>\n",
              "    <tr>\n",
              "      <th>10487</th>\n",
              "      <td>Being and Nothingness</td>\n",
              "      <td>Sartre</td>\n",
              "      <td>Existentialism</td>\n",
              "      <td>(We, shall, return, to, this, point, .)</td>\n",
              "      <td>1943</td>\n",
              "      <td>2011</td>\n",
              "      <td>We shall return to this point.</td>\n",
              "      <td>30</td>\n",
              "    </tr>\n",
              "    <tr>\n",
              "      <th>1787</th>\n",
              "      <td>Being and Nothingness</td>\n",
              "      <td>Sartre</td>\n",
              "      <td>Existentialism</td>\n",
              "      <td>(What, does, this, mean, ?)</td>\n",
              "      <td>1943</td>\n",
              "      <td>2011</td>\n",
              "      <td>What does this mean?</td>\n",
              "      <td>20</td>\n",
              "    </tr>\n",
              "    <tr>\n",
              "      <th>1968</th>\n",
              "      <td>Being and Nothingness</td>\n",
              "      <td>Sartre</td>\n",
              "      <td>Existentialism</td>\n",
              "      <td>(What, does, this, mean, ?)</td>\n",
              "      <td>1943</td>\n",
              "      <td>2011</td>\n",
              "      <td>What does this mean?</td>\n",
              "      <td>20</td>\n",
              "    </tr>\n",
              "    <tr>\n",
              "      <th>3083</th>\n",
              "      <td>Being and Nothingness</td>\n",
              "      <td>Sartre</td>\n",
              "      <td>Existentialism</td>\n",
              "      <td>(What, does, this, mean, ?)</td>\n",
              "      <td>1943</td>\n",
              "      <td>2011</td>\n",
              "      <td>What does this mean?</td>\n",
              "      <td>20</td>\n",
              "    </tr>\n",
              "    <tr>\n",
              "      <th>6353</th>\n",
              "      <td>Being and Nothingness</td>\n",
              "      <td>Sartre</td>\n",
              "      <td>Existentialism</td>\n",
              "      <td>(What, does, this, mean, ?)</td>\n",
              "      <td>1943</td>\n",
              "      <td>2011</td>\n",
              "      <td>What does this mean?</td>\n",
              "      <td>20</td>\n",
              "    </tr>\n",
              "    <tr>\n",
              "      <th>8226</th>\n",
              "      <td>Being and Nothingness</td>\n",
              "      <td>Sartre</td>\n",
              "      <td>Existentialism</td>\n",
              "      <td>(What, does, this, mean, ?)</td>\n",
              "      <td>1943</td>\n",
              "      <td>2011</td>\n",
              "      <td>What does this mean?</td>\n",
              "      <td>20</td>\n",
              "    </tr>\n",
              "    <tr>\n",
              "      <th>12025</th>\n",
              "      <td>Being and Nothingness</td>\n",
              "      <td>Sartre</td>\n",
              "      <td>Existentialism</td>\n",
              "      <td>(What, does, this, mean, ?)</td>\n",
              "      <td>1943</td>\n",
              "      <td>2011</td>\n",
              "      <td>What does this mean?</td>\n",
              "      <td>20</td>\n",
              "    </tr>\n",
              "    <tr>\n",
              "      <th>7308</th>\n",
              "      <td>Being and Nothingness</td>\n",
              "      <td>Sartre</td>\n",
              "      <td>Existentialism</td>\n",
              "      <td>(first, edition, of, the, complete, works, .)</td>\n",
              "      <td>1943</td>\n",
              "      <td>2011</td>\n",
              "      <td>first edition of the complete works.</td>\n",
              "      <td>36</td>\n",
              "    </tr>\n",
              "    <tr>\n",
              "      <th>7310</th>\n",
              "      <td>Being and Nothingness</td>\n",
              "      <td>Sartre</td>\n",
              "      <td>Existentialism</td>\n",
              "      <td>(first, edition, of, the, complete, works, .)</td>\n",
              "      <td>1943</td>\n",
              "      <td>2011</td>\n",
              "      <td>first edition of the complete works.</td>\n",
              "      <td>36</td>\n",
              "    </tr>\n",
              "  </tbody>\n",
              "</table>\n",
              "</div>"
            ],
            "text/plain": [
              "                       title  ... sentence_length\n",
              "521    Being and Nothingness  ...              20\n",
              "5245   Being and Nothingness  ...              20\n",
              "686    Being and Nothingness  ...              20\n",
              "5976   Being and Nothingness  ...              20\n",
              "13830  Being and Nothingness  ...              20\n",
              "2471   Being and Nothingness  ...              26\n",
              "13173  Being and Nothingness  ...              26\n",
              "3847   Being and Nothingness  ...              25\n",
              "10675  Being and Nothingness  ...              25\n",
              "11370  Being and Nothingness  ...              25\n",
              "11906  Being and Nothingness  ...              25\n",
              "7329   Being and Nothingness  ...              23\n",
              "12755  Being and Nothingness  ...              23\n",
              "6463   Being and Nothingness  ...              34\n",
              "10283  Being and Nothingness  ...              34\n",
              "4824   Being and Nothingness  ...              30\n",
              "5215   Being and Nothingness  ...              30\n",
              "6494   Being and Nothingness  ...              30\n",
              "10487  Being and Nothingness  ...              30\n",
              "1787   Being and Nothingness  ...              20\n",
              "1968   Being and Nothingness  ...              20\n",
              "3083   Being and Nothingness  ...              20\n",
              "6353   Being and Nothingness  ...              20\n",
              "8226   Being and Nothingness  ...              20\n",
              "12025  Being and Nothingness  ...              20\n",
              "7308   Being and Nothingness  ...              36\n",
              "7310   Being and Nothingness  ...              36\n",
              "\n",
              "[27 rows x 8 columns]"
            ]
          },
          "metadata": {
            "tags": []
          },
          "execution_count": 78
        }
      ]
    },
    {
      "cell_type": "code",
      "metadata": {
        "id": "ti-7vXDjTh0s"
      },
      "source": [
        "df = df.drop(df[df['sentence_str'].duplicated(keep='first')].index)"
      ],
      "execution_count": 79,
      "outputs": []
    },
    {
      "cell_type": "code",
      "metadata": {
        "colab": {
          "base_uri": "https://localhost:8080/"
        },
        "id": "eFT73wJCThrT",
        "outputId": "ac05ff27-0fce-4882-8190-3b73b78ba0a7"
      },
      "source": [
        "len(df)"
      ],
      "execution_count": 80,
      "outputs": [
        {
          "output_type": "execute_result",
          "data": {
            "text/plain": [
              "13693"
            ]
          },
          "metadata": {
            "tags": []
          },
          "execution_count": 80
        }
      ]
    },
    {
      "cell_type": "markdown",
      "metadata": {
        "id": "5HnVnn1WHrTW"
      },
      "source": [
        "#### Check for Foreign Languages"
      ]
    },
    {
      "cell_type": "code",
      "metadata": {
        "colab": {
          "base_uri": "https://localhost:8080/"
        },
        "id": "SVcwhudjH5jY",
        "outputId": "7735dee0-aaf7-46ce-8d2a-2aa8a4b105ce"
      },
      "source": [
        "# checking for 'der', a common article in German\n",
        "len((df[df['sentence_str'].str.contains('\\sder\\s')]))"
      ],
      "execution_count": 81,
      "outputs": [
        {
          "output_type": "execute_result",
          "data": {
            "text/plain": [
              "1"
            ]
          },
          "metadata": {
            "tags": []
          },
          "execution_count": 81
        }
      ]
    },
    {
      "cell_type": "code",
      "metadata": {
        "id": "0bC4to9oM0c-"
      },
      "source": [
        "df = df.drop(df[df['sentence_str'].str.contains('\\sder\\s')].index)"
      ],
      "execution_count": 82,
      "outputs": []
    },
    {
      "cell_type": "code",
      "metadata": {
        "colab": {
          "base_uri": "https://localhost:8080/"
        },
        "id": "jBzPHm8PH4XB",
        "outputId": "cfbb9a71-5bc1-418a-e38b-327021843ecd"
      },
      "source": [
        "# checking for 'il', a common article in French\n",
        "len(df[df['sentence_str'].str.contains('\\sil\\s')])"
      ],
      "execution_count": 83,
      "outputs": [
        {
          "output_type": "execute_result",
          "data": {
            "text/plain": [
              "0"
            ]
          },
          "metadata": {
            "tags": []
          },
          "execution_count": 83
        }
      ]
    },
    {
      "cell_type": "markdown",
      "metadata": {
        "id": "NxWbjI0IiAzE"
      },
      "source": [
        "#### Some Ad Hoc Cleaning"
      ]
    },
    {
      "cell_type": "code",
      "metadata": {
        "colab": {
          "base_uri": "https://localhost:8080/"
        },
        "id": "a8YsiZc_h-iu",
        "outputId": "d39b83b7-55e6-41df-d6da-62d32c9c9165"
      },
      "source": [
        "# miscellaneous nonsense sentences\n",
        "df = df.drop(df[df['sentence_str'].str.contains('\\spp\\s')].index)\n",
        "df = df.drop(df[df['sentence_str'].str.contains('\\stotam\\s')].index)\n",
        "df = df.drop(df[df['sentence_str'].str.contains('\\srree\\s')].index)\n",
        "df = df.drop(df[df['sentence_str'].str.contains('\\sflir\\s')].index)\n",
        "df = df.drop(df[(df['sentence_str'].str.contains('\\smodis\\s')) & (df['author'] != 'Kant')].index)\n",
        "\n",
        "len(df)"
      ],
      "execution_count": 84,
      "outputs": [
        {
          "output_type": "execute_result",
          "data": {
            "text/plain": [
              "13692"
            ]
          },
          "metadata": {
            "tags": []
          },
          "execution_count": 84
        }
      ]
    },
    {
      "cell_type": "code",
      "metadata": {
        "colab": {
          "base_uri": "https://localhost:8080/"
        },
        "id": "wwQzpQ2_iJEU",
        "outputId": "74e35521-5314-4bd9-98ef-f7f0ca05101e"
      },
      "source": [
        "# markers of french and notes\n",
        "df = df.drop(df[df['sentence_str'].str.contains('\\schapitre')].index)\n",
        "df = df.drop(df[df['sentence_str'].str.contains('\\salisme')].index)\n",
        "df = df.drop(df[df['sentence_str'].str.contains('\\sHahn')].index)\n",
        "\n",
        "len(df)"
      ],
      "execution_count": 85,
      "outputs": [
        {
          "output_type": "execute_result",
          "data": {
            "text/plain": [
              "13692"
            ]
          },
          "metadata": {
            "tags": []
          },
          "execution_count": 85
        }
      ]
    },
    {
      "cell_type": "code",
      "metadata": {
        "colab": {
          "base_uri": "https://localhost:8080/"
        },
        "id": "WcQoVnariNWg",
        "outputId": "5a1e6507-a610-40a0-f038-2b43f2cb6ac1"
      },
      "source": [
        "# some notes in Kant\n",
        "df = df.drop(df[df['sentence_str'].str.contains('\\sVorl\\s')].index)\n",
        "df = df.drop(df[df['sentence_str'].str.contains('\\sberschwenglich')].index)\n",
        "\n",
        "len(df)"
      ],
      "execution_count": 86,
      "outputs": [
        {
          "output_type": "execute_result",
          "data": {
            "text/plain": [
              "13692"
            ]
          },
          "metadata": {
            "tags": []
          },
          "execution_count": 86
        }
      ]
    },
    {
      "cell_type": "code",
      "metadata": {
        "colab": {
          "base_uri": "https://localhost:8080/"
        },
        "id": "GI3dJy_dibCA",
        "outputId": "099ed202-bc53-4ce7-df8a-13a85b8dda98"
      },
      "source": [
        "# a common phrase in Plato / Aristotle footnotes\n",
        "df = df.drop(df[(df['author']=='Plato') & (df['sentence_str'].str.contains('(?i)reading')) & (df['sentence_length'] < 40)].index)\n",
        "df = df.drop(df[(df['author']=='Aristotle') & (df['sentence_str'].str.contains('(?i)reading')) & (df['sentence_length'] < 40)].index)\n",
        "\n",
        "len(df)"
      ],
      "execution_count": 87,
      "outputs": [
        {
          "output_type": "execute_result",
          "data": {
            "text/plain": [
              "13692"
            ]
          },
          "metadata": {
            "tags": []
          },
          "execution_count": 87
        }
      ]
    },
    {
      "cell_type": "code",
      "metadata": {
        "colab": {
          "base_uri": "https://localhost:8080/"
        },
        "id": "DUt3mAjtigKB",
        "outputId": "8156c3cb-ff64-4e47-f22b-7298d21496a3"
      },
      "source": [
        "# mentions of Aristotle in Plato\n",
        "df = df.drop(df[(df['author']=='Plato') & df['sentence_str'].str.contains('Aristotle')].index)\n",
        "\n",
        "len(df)"
      ],
      "execution_count": 88,
      "outputs": [
        {
          "output_type": "execute_result",
          "data": {
            "text/plain": [
              "13692"
            ]
          },
          "metadata": {
            "tags": []
          },
          "execution_count": 88
        }
      ]
    },
    {
      "cell_type": "markdown",
      "metadata": {
        "id": "3Sd2rbDJHraR"
      },
      "source": [
        "### Lemmatize and Tokenize"
      ]
    },
    {
      "cell_type": "code",
      "metadata": {
        "id": "ziLKswX_Hrhd"
      },
      "source": [
        "from gensim.utils import simple_preprocess\n",
        "\n",
        "# use gensim to tokenize sentences\n",
        "df['tokenized_txt'] = df['sentence_str'].map(lambda x: simple_preprocess(x.lower(),deacc=True,\n",
        "                                                        max_len=200))\n",
        "\n",
        "# use spacey to get intelligent lemmatization\n",
        "def lemmatize_sentence(sentence):\n",
        "  lemmatized_txt = ''\n",
        "  for word in sentence:\n",
        "    lemmatized_txt += ' ' + str(word.lemma_)\n",
        "  return lemmatized_txt"
      ],
      "execution_count": 89,
      "outputs": []
    },
    {
      "cell_type": "code",
      "metadata": {
        "id": "8Sg_V1rxIdzJ"
      },
      "source": [
        "df['lemmatized_str'] = df['sentence_spacy'].apply(lemmatize_sentence)"
      ],
      "execution_count": 90,
      "outputs": []
    },
    {
      "cell_type": "code",
      "metadata": {
        "colab": {
          "base_uri": "https://localhost:8080/",
          "height": 935
        },
        "id": "0pyznlhXId8n",
        "outputId": "77e204a1-7588-41c0-8cdf-8f554a2c5616"
      },
      "source": [
        "df.sample(5)"
      ],
      "execution_count": 91,
      "outputs": [
        {
          "output_type": "execute_result",
          "data": {
            "text/html": [
              "<div>\n",
              "<style scoped>\n",
              "    .dataframe tbody tr th:only-of-type {\n",
              "        vertical-align: middle;\n",
              "    }\n",
              "\n",
              "    .dataframe tbody tr th {\n",
              "        vertical-align: top;\n",
              "    }\n",
              "\n",
              "    .dataframe thead th {\n",
              "        text-align: right;\n",
              "    }\n",
              "</style>\n",
              "<table border=\"1\" class=\"dataframe\">\n",
              "  <thead>\n",
              "    <tr style=\"text-align: right;\">\n",
              "      <th></th>\n",
              "      <th>title</th>\n",
              "      <th>author</th>\n",
              "      <th>school</th>\n",
              "      <th>sentence_spacy</th>\n",
              "      <th>original_publication_date</th>\n",
              "      <th>corpus_edition_date</th>\n",
              "      <th>sentence_str</th>\n",
              "      <th>sentence_length</th>\n",
              "      <th>tokenized_txt</th>\n",
              "      <th>lemmatized_str</th>\n",
              "    </tr>\n",
              "  </thead>\n",
              "  <tbody>\n",
              "    <tr>\n",
              "      <th>7277</th>\n",
              "      <td>Being and Nothingness</td>\n",
              "      <td>Sartre</td>\n",
              "      <td>Existentialism</td>\n",
              "      <td>(Thus, our, description, has, enabled, us, to, satisfy, the, preliminary, conditions, which, we, have, posited, for, any, theory, about, the, existence, of, the, Other, .)</td>\n",
              "      <td>1943</td>\n",
              "      <td>2011</td>\n",
              "      <td>Thus our description has enabled us to satisfy the preliminary conditions which we have posited for any theory about the existence of the Other.</td>\n",
              "      <td>144</td>\n",
              "      <td>[thus, our, description, has, enabled, us, to, satisfy, the, preliminary, conditions, which, we, have, posited, for, any, theory, about, the, existence, of, the, other]</td>\n",
              "      <td>thus -PRON- description have enable -PRON- to satisfy the preliminary condition which -PRON- have posit for any theory about the existence of the other .</td>\n",
              "    </tr>\n",
              "    <tr>\n",
              "      <th>5414</th>\n",
              "      <td>Being and Nothingness</td>\n",
              "      <td>Sartre</td>\n",
              "      <td>Existentialism</td>\n",
              "      <td>(There, are, certain, futures, in, the, world, which, are, defined, by, chance, and, become, autonomous, probables, ,, which, are, not, probabilized, but, which, are, as, probables, ,, as, fully, ...</td>\n",
              "      <td>1943</td>\n",
              "      <td>2011</td>\n",
              "      <td>There are certain futures in the world which are defined by chance and become autonomous probables, which are not probabilized but which are as probables, as fully constituted nows, with their con...</td>\n",
              "      <td>238</td>\n",
              "      <td>[there, are, certain, futures, in, the, world, which, are, defined, by, chance, and, become, autonomous, probables, which, are, not, probabilized, but, which, are, as, probables, as, fully, consti...</td>\n",
              "      <td>there be certain future in the world which be define by chance and become autonomous probable , which be not probabilize but which be as probable , as fully constitute now , with -PRON- content w...</td>\n",
              "    </tr>\n",
              "    <tr>\n",
              "      <th>12300</th>\n",
              "      <td>Being and Nothingness</td>\n",
              "      <td>Sartre</td>\n",
              "      <td>Existentialism</td>\n",
              "      <td>(,, then, anybody, at, all, can, die, in, my, place, as, in, the, song, in, which, lots, are, drawn, to, see, who, is, to, be, eaten, .)</td>\n",
              "      <td>1943</td>\n",
              "      <td>2011</td>\n",
              "      <td>, then anybody at all can die in my place as in the song in which lots are drawn to see who is to be eaten.</td>\n",
              "      <td>107</td>\n",
              "      <td>[then, anybody, at, all, can, die, in, my, place, as, in, the, song, in, which, lots, are, drawn, to, see, who, is, to, be, eaten]</td>\n",
              "      <td>, then anybody at all can die in -PRON- place as in the song in which lot be draw to see who be to be eat .</td>\n",
              "    </tr>\n",
              "    <tr>\n",
              "      <th>10645</th>\n",
              "      <td>Being and Nothingness</td>\n",
              "      <td>Sartre</td>\n",
              "      <td>Existentialism</td>\n",
              "      <td>(The, for, itself, which, exists, in, the, voluntary, mode, wishes, to, recover, itself, in, so, far, as, it, decides, and, acts, .)</td>\n",
              "      <td>1943</td>\n",
              "      <td>2011</td>\n",
              "      <td>The for itself which exists in the voluntary mode wishes to recover itself in so far as it decides and acts.</td>\n",
              "      <td>108</td>\n",
              "      <td>[the, for, itself, which, exists, in, the, voluntary, mode, wishes, to, recover, itself, in, so, far, as, it, decides, and, acts]</td>\n",
              "      <td>the for -PRON- which exist in the voluntary mode wish to recover -PRON- in so far as -PRON- decide and act .</td>\n",
              "    </tr>\n",
              "    <tr>\n",
              "      <th>4034</th>\n",
              "      <td>Being and Nothingness</td>\n",
              "      <td>Sartre</td>\n",
              "      <td>Existentialism</td>\n",
              "      <td>(Reflection, is, a, second, effort, by, the, for, itself, to, found, itself, ;, that, is, ,, to, be, for, itself, what, it, is, .)</td>\n",
              "      <td>1943</td>\n",
              "      <td>2011</td>\n",
              "      <td>Reflection is a second effort by the for itself to found itself; that is, to be for itself what it is.</td>\n",
              "      <td>102</td>\n",
              "      <td>[reflection, is, second, effort, by, the, for, itself, to, found, itself, that, is, to, be, for, itself, what, it, is]</td>\n",
              "      <td>reflection be a second effort by the for -PRON- to find -PRON- ; that is , to be for -PRON- what -PRON- be .</td>\n",
              "    </tr>\n",
              "  </tbody>\n",
              "</table>\n",
              "</div>"
            ],
            "text/plain": [
              "                       title  ...                                                                                                                                                                                           lemmatized_str\n",
              "7277   Being and Nothingness  ...                                                thus -PRON- description have enable -PRON- to satisfy the preliminary condition which -PRON- have posit for any theory about the existence of the other .\n",
              "5414   Being and Nothingness  ...   there be certain future in the world which be define by chance and become autonomous probable , which be not probabilize but which be as probable , as fully constitute now , with -PRON- content w...\n",
              "12300  Being and Nothingness  ...                                                                                              , then anybody at all can die in -PRON- place as in the song in which lot be draw to see who be to be eat .\n",
              "10645  Being and Nothingness  ...                                                                                             the for -PRON- which exist in the voluntary mode wish to recover -PRON- in so far as -PRON- decide and act .\n",
              "4034   Being and Nothingness  ...                                                                                             reflection be a second effort by the for -PRON- to find -PRON- ; that is , to be for -PRON- what -PRON- be .\n",
              "\n",
              "[5 rows x 10 columns]"
            ]
          },
          "metadata": {
            "tags": []
          },
          "execution_count": 91
        }
      ]
    },
    {
      "cell_type": "markdown",
      "metadata": {
        "id": "AJOxPwDpIeDT"
      },
      "source": [
        "### Combine with the Old Dataframe & Export to CSV"
      ]
    },
    {
      "cell_type": "code",
      "metadata": {
        "colab": {
          "base_uri": "https://localhost:8080/",
          "height": 1000
        },
        "id": "UU8QqgIXInkp",
        "outputId": "cb5addc2-ebbe-490a-f038-5bd41539840b"
      },
      "source": [
        "# load the old version and check it out\n",
        "og_df = pd.read_csv('/gdrive/MyDrive/Colab_Projects/philosophy_data_project/philosophy_data.csv')\n",
        "og_df.sample(5)"
      ],
      "execution_count": 96,
      "outputs": [
        {
          "output_type": "execute_result",
          "data": {
            "text/html": [
              "<div>\n",
              "<style scoped>\n",
              "    .dataframe tbody tr th:only-of-type {\n",
              "        vertical-align: middle;\n",
              "    }\n",
              "\n",
              "    .dataframe tbody tr th {\n",
              "        vertical-align: top;\n",
              "    }\n",
              "\n",
              "    .dataframe thead th {\n",
              "        text-align: right;\n",
              "    }\n",
              "</style>\n",
              "<table border=\"1\" class=\"dataframe\">\n",
              "  <thead>\n",
              "    <tr style=\"text-align: right;\">\n",
              "      <th></th>\n",
              "      <th>title</th>\n",
              "      <th>author</th>\n",
              "      <th>school</th>\n",
              "      <th>sentence_spacy</th>\n",
              "      <th>sentence_str</th>\n",
              "      <th>original_publication_date</th>\n",
              "      <th>corpus_edition_date</th>\n",
              "      <th>sentence_length</th>\n",
              "      <th>sentence_lowered</th>\n",
              "      <th>tokenized_txt</th>\n",
              "      <th>lemmatized_str</th>\n",
              "    </tr>\n",
              "  </thead>\n",
              "  <tbody>\n",
              "    <tr>\n",
              "      <th>360179</th>\n",
              "      <td>Proslogion</td>\n",
              "      <td>Anselm</td>\n",
              "      <td>scholasticism</td>\n",
              "      <td>this is what gives the impression of poverty found in 'secret diaries' or 'feminine autobiographies'; so occupied in flattering herself, the woman who does nothing becomes nothing and flatters a n...</td>\n",
              "      <td>this is what gives the impression of poverty found in 'secret diaries' or 'feminine autobiographies'; so occupied in flattering herself, the woman who does nothing becomes nothing and flatters a n...</td>\n",
              "      <td>1077</td>\n",
              "      <td>2000</td>\n",
              "      <td>203</td>\n",
              "      <td>this is what gives the impression of poverty found in 'secret diaries' or 'feminine autobiographies'; so occupied in flattering herself, the woman who does nothing becomes nothing and flatters a n...</td>\n",
              "      <td>['this', 'is', 'what', 'gives', 'the', 'impression', 'of', 'poverty', 'found', 'in', 'secret', 'diaries', 'or', 'feminine', 'autobiographies', 'so', 'occupied', 'in', 'flattering', 'herself', 'the...</td>\n",
              "      <td>this be what give the impression of poverty find in ' secret diary ' or ' feminine autobiography ' ; so occupy in flatter -PRON- , the woman who do nothing become nothing and flatter a nothing .</td>\n",
              "    </tr>\n",
              "    <tr>\n",
              "      <th>90708</th>\n",
              "      <td>Essay Concerning Human Understanding</td>\n",
              "      <td>Locke</td>\n",
              "      <td>empiricism</td>\n",
              "      <td>As it is in the motions of the body, so it is in the thoughts of our minds: where any one is such, that we have power to take it up, or lay it by, according to the preference of the mind, there we...</td>\n",
              "      <td>As it is in the motions of the body, so it is in the thoughts of our minds: where any one is such, that we have power to take it up, or lay it by, according to the preference of the mind, there we...</td>\n",
              "      <td>1689</td>\n",
              "      <td>2004</td>\n",
              "      <td>212</td>\n",
              "      <td>as it is in the motions of the body, so it is in the thoughts of our minds: where any one is such, that we have power to take it up, or lay it by, according to the preference of the mind, there we...</td>\n",
              "      <td>['as', 'it', 'is', 'in', 'the', 'motions', 'of', 'the', 'body', 'so', 'it', 'is', 'in', 'the', 'thoughts', 'of', 'our', 'minds', 'where', 'any', 'one', 'is', 'such', 'that', 'we', 'have', 'power',...</td>\n",
              "      <td>as -PRON- be in the motion of the body , so -PRON- be in the thought of -PRON- mind : where any one be such , that -PRON- have power to take -PRON- up , or lie -PRON- by , accord to the preferenc...</td>\n",
              "    </tr>\n",
              "    <tr>\n",
              "      <th>266072</th>\n",
              "      <td>The System Of Ethics</td>\n",
              "      <td>Fichte</td>\n",
              "      <td>german_idealism</td>\n",
              "      <td>In short, absolute sincerity and truthfulness is something I simply owe everyone; I am not permitted to say anything that contradicts the truth.</td>\n",
              "      <td>In short, absolute sincerity and truthfulness is something I simply owe everyone; I am not permitted to say anything that contradicts the truth.</td>\n",
              "      <td>1798</td>\n",
              "      <td>2005</td>\n",
              "      <td>144</td>\n",
              "      <td>in short, absolute sincerity and truthfulness is something i simply owe everyone; i am not permitted to say anything that contradicts the truth.</td>\n",
              "      <td>['in', 'short', 'absolute', 'sincerity', 'and', 'truthfulness', 'is', 'something', 'simply', 'owe', 'everyone', 'am', 'not', 'permitted', 'to', 'say', 'anything', 'that', 'contradicts', 'the', 'tr...</td>\n",
              "      <td>in short , absolute sincerity and truthfulness be something -PRON- simply owe everyone ; -PRON- be not permit to say anything that contradict the truth .</td>\n",
              "    </tr>\n",
              "    <tr>\n",
              "      <th>200591</th>\n",
              "      <td>The Order Of Things</td>\n",
              "      <td>Foucault</td>\n",
              "      <td>continental</td>\n",
              "      <td>It is no doubt difficult to maintain the human sciences that ethnology has a fundamental relation with historicity since it is traditionally the knowledge we have of peoples without histories; in ...</td>\n",
              "      <td>It is no doubt difficult to maintain the human sciences that ethnology has a fundamental relation with historicity since it is traditionally the knowledge we have of peoples without histories; in ...</td>\n",
              "      <td>1966</td>\n",
              "      <td>2002</td>\n",
              "      <td>358</td>\n",
              "      <td>it is no doubt difficult to maintain the human sciences that ethnology has a fundamental relation with historicity since it is traditionally the knowledge we have of peoples without histories; in ...</td>\n",
              "      <td>['it', 'is', 'no', 'doubt', 'difficult', 'to', 'maintain', 'the', 'human', 'sciences', 'that', 'ethnology', 'has', 'fundamental', 'relation', 'with', 'historicity', 'since', 'it', 'is', 'tradition...</td>\n",
              "      <td>-PRON- be no doubt difficult to maintain the human science that ethnology have a fundamental relation with historicity since -PRON- be traditionally the knowledge -PRON- have of people without hi...</td>\n",
              "    </tr>\n",
              "    <tr>\n",
              "      <th>235114</th>\n",
              "      <td>Being And Time</td>\n",
              "      <td>Heidegger</td>\n",
              "      <td>phenomenology</td>\n",
              "      <td>To say that it is illuminated means that it is cleared in itself as being in the world, not by another being, but in such a way that it is itself the clearing.</td>\n",
              "      <td>To say that it is illuminated means that it is cleared in itself as being in the world, not by another being, but in such a way that it is itself the clearing.</td>\n",
              "      <td>1927</td>\n",
              "      <td>1996</td>\n",
              "      <td>159</td>\n",
              "      <td>to say that it is illuminated means that it is cleared in itself as being in the world, not by another being, but in such a way that it is itself the clearing.</td>\n",
              "      <td>['to', 'say', 'that', 'it', 'is', 'illuminated', 'means', 'that', 'it', 'is', 'cleared', 'in', 'itself', 'as', 'being', 'in', 'the', 'world', 'not', 'by', 'another', 'being', 'but', 'in', 'such', ...</td>\n",
              "      <td>to say that -PRON- be illuminate mean that -PRON- be clear in -PRON- as be in the world , not by another being , but in such a way that -PRON- be -PRON- the clearing .</td>\n",
              "    </tr>\n",
              "  </tbody>\n",
              "</table>\n",
              "</div>"
            ],
            "text/plain": [
              "                                       title  ...                                                                                                                                                                                           lemmatized_str\n",
              "360179                            Proslogion  ...       this be what give the impression of poverty find in ' secret diary ' or ' feminine autobiography ' ; so occupy in flatter -PRON- , the woman who do nothing become nothing and flatter a nothing .\n",
              "90708   Essay Concerning Human Understanding  ...   as -PRON- be in the motion of the body , so -PRON- be in the thought of -PRON- mind : where any one be such , that -PRON- have power to take -PRON- up , or lie -PRON- by , accord to the preferenc...\n",
              "266072                  The System Of Ethics  ...                                                in short , absolute sincerity and truthfulness be something -PRON- simply owe everyone ; -PRON- be not permit to say anything that contradict the truth .\n",
              "200591                   The Order Of Things  ...   -PRON- be no doubt difficult to maintain the human science that ethnology have a fundamental relation with historicity since -PRON- be traditionally the knowledge -PRON- have of people without hi...\n",
              "235114                        Being And Time  ...                                  to say that -PRON- be illuminate mean that -PRON- be clear in -PRON- as be in the world , not by another being , but in such a way that -PRON- be -PRON- the clearing .\n",
              "\n",
              "[5 rows x 11 columns]"
            ]
          },
          "metadata": {
            "tags": []
          },
          "execution_count": 96
        }
      ]
    },
    {
      "cell_type": "code",
      "metadata": {
        "colab": {
          "base_uri": "https://localhost:8080/"
        },
        "id": "XfwEX5vzInx0",
        "outputId": "c7f43704-7cab-4079-a51c-90e473ae75a1"
      },
      "source": [
        "og_df['author'].value_counts(normalize=True)"
      ],
      "execution_count": 97,
      "outputs": [
        {
          "output_type": "execute_result",
          "data": {
            "text/plain": [
              "Aristotle          0.129434\n",
              "Plato              0.101803\n",
              "Hegel              0.060234\n",
              "Anselm             0.042660\n",
              "Foucault           0.040439\n",
              "Heidegger          0.040436\n",
              "Kant               0.037478\n",
              "Marx               0.035793\n",
              "Lewis              0.034814\n",
              "Malebranche        0.034487\n",
              "Deleuze            0.033275\n",
              "Kripke             0.033113\n",
              "Smith              0.031027\n",
              "Wittgenstein       0.023971\n",
              "Locke              0.023576\n",
              "Hume               0.022056\n",
              "Merleau-Ponty      0.020145\n",
              "Quine              0.019564\n",
              "Nietzsche          0.018081\n",
              "Derrida            0.015918\n",
              "Davis              0.015698\n",
              "Husserl            0.015236\n",
              "Hobbes             0.014623\n",
              "Fichte             0.014085\n",
              "Russell            0.013461\n",
              "Leibniz            0.013339\n",
              "Seneca             0.013318\n",
              "Popper             0.012413\n",
              "Lenin              0.011858\n",
              "Spinoza            0.010065\n",
              "Moore              0.009733\n",
              "Keynes             0.009051\n",
              "Ricardo            0.008199\n",
              "Beauvoir           0.008125\n",
              "Berkeley           0.007255\n",
              "Augustine          0.006790\n",
              "Marcus Aurelius    0.005869\n",
              "Kierkegaard        0.004681\n",
              "Wollstonecraft     0.004039\n",
              "Descartes          0.003004\n",
              "Epictetus          0.000857\n",
              "Name: author, dtype: float64"
            ]
          },
          "metadata": {
            "tags": []
          },
          "execution_count": 97
        }
      ]
    },
    {
      "cell_type": "code",
      "metadata": {
        "colab": {
          "base_uri": "https://localhost:8080/"
        },
        "id": "z1wqPSYwsrBN",
        "outputId": "4fcd39a9-b4ba-4b35-87bd-b59ee402cd1b"
      },
      "source": [
        "len(og_df)"
      ],
      "execution_count": 98,
      "outputs": [
        {
          "output_type": "execute_result",
          "data": {
            "text/plain": [
              "376865"
            ]
          },
          "metadata": {
            "tags": []
          },
          "execution_count": 98
        }
      ]
    },
    {
      "cell_type": "code",
      "metadata": {
        "colab": {
          "base_uri": "https://localhost:8080/"
        },
        "id": "VQcxBh37IoDJ",
        "outputId": "b5e99b51-2493-4272-8bf2-86522db65bc8"
      },
      "source": [
        "# append the new data\n",
        "new_df = og_df.append(df)\n",
        "new_df['author'].value_counts(normalize=True)"
      ],
      "execution_count": 99,
      "outputs": [
        {
          "output_type": "execute_result",
          "data": {
            "text/plain": [
              "Aristotle          0.124896\n",
              "Plato              0.098234\n",
              "Hegel              0.058122\n",
              "Anselm             0.041164\n",
              "Foucault           0.039021\n",
              "Heidegger          0.039019\n",
              "Kant               0.036164\n",
              "Sartre             0.035058\n",
              "Marx               0.034538\n",
              "Lewis              0.033593\n",
              "Malebranche        0.033278\n",
              "Deleuze            0.032108\n",
              "Kripke             0.031952\n",
              "Smith              0.029939\n",
              "Wittgenstein       0.023131\n",
              "Locke              0.022750\n",
              "Hume               0.021282\n",
              "Merleau-Ponty      0.019439\n",
              "Quine              0.018878\n",
              "Nietzsche          0.017447\n",
              "Derrida            0.015360\n",
              "Davis              0.015148\n",
              "Husserl            0.014702\n",
              "Hobbes             0.014111\n",
              "Fichte             0.013591\n",
              "Russell            0.012989\n",
              "Leibniz            0.012871\n",
              "Seneca             0.012851\n",
              "Popper             0.011978\n",
              "Lenin              0.011443\n",
              "Spinoza            0.009712\n",
              "Moore              0.009392\n",
              "Keynes             0.008734\n",
              "Ricardo            0.007912\n",
              "Beauvoir           0.007840\n",
              "Berkeley           0.007000\n",
              "Augustine          0.006552\n",
              "Marcus Aurelius    0.005664\n",
              "Kierkegaard        0.004517\n",
              "Wollstonecraft     0.003897\n",
              "Descartes          0.002898\n",
              "Epictetus          0.000827\n",
              "Name: author, dtype: float64"
            ]
          },
          "metadata": {
            "tags": []
          },
          "execution_count": 99
        }
      ]
    },
    {
      "cell_type": "code",
      "metadata": {
        "colab": {
          "base_uri": "https://localhost:8080/",
          "height": 1000
        },
        "id": "bwgCHszFf6_p",
        "outputId": "1e91c296-3e49-4e91-fb48-86c2962472c7"
      },
      "source": [
        "new_df[new_df['author']=='Sartre'].sample(5)"
      ],
      "execution_count": 100,
      "outputs": [
        {
          "output_type": "execute_result",
          "data": {
            "text/html": [
              "<div>\n",
              "<style scoped>\n",
              "    .dataframe tbody tr th:only-of-type {\n",
              "        vertical-align: middle;\n",
              "    }\n",
              "\n",
              "    .dataframe tbody tr th {\n",
              "        vertical-align: top;\n",
              "    }\n",
              "\n",
              "    .dataframe thead th {\n",
              "        text-align: right;\n",
              "    }\n",
              "</style>\n",
              "<table border=\"1\" class=\"dataframe\">\n",
              "  <thead>\n",
              "    <tr style=\"text-align: right;\">\n",
              "      <th></th>\n",
              "      <th>title</th>\n",
              "      <th>author</th>\n",
              "      <th>school</th>\n",
              "      <th>sentence_spacy</th>\n",
              "      <th>sentence_str</th>\n",
              "      <th>original_publication_date</th>\n",
              "      <th>corpus_edition_date</th>\n",
              "      <th>sentence_length</th>\n",
              "      <th>sentence_lowered</th>\n",
              "      <th>tokenized_txt</th>\n",
              "      <th>lemmatized_str</th>\n",
              "    </tr>\n",
              "  </thead>\n",
              "  <tbody>\n",
              "    <tr>\n",
              "      <th>1207</th>\n",
              "      <td>Being and Nothingness</td>\n",
              "      <td>Sartre</td>\n",
              "      <td>Existentialism</td>\n",
              "      <td>(The, earlier, resolution, of, ', not, playing, anymore, ', is, always, there, ,, and, in, the, majority, of, cases, the, gambler, when, in, the, presence, of, the, gaming, table, ,, turns, toward...</td>\n",
              "      <td>The earlier resolution of 'not playing anymore' is always there, and in the majority of cases the gambler when in the presence of the gaming table, turns toward it as if to ask it for help; for he...</td>\n",
              "      <td>1943</td>\n",
              "      <td>2011</td>\n",
              "      <td>385</td>\n",
              "      <td>NaN</td>\n",
              "      <td>[the, earlier, resolution, of, not, playing, anymore, is, always, there, and, in, the, majority, of, cases, the, gambler, when, in, the, presence, of, the, gaming, table, turns, toward, it, as, if...</td>\n",
              "      <td>the early resolution of ' not play anymore ' be always there , and in the majority of case the gambler when in the presence of the gaming table , turn toward -PRON- as if to ask -PRON- for help ;...</td>\n",
              "    </tr>\n",
              "    <tr>\n",
              "      <th>10719</th>\n",
              "      <td>Being and Nothingness</td>\n",
              "      <td>Sartre</td>\n",
              "      <td>Existentialism</td>\n",
              "      <td>(We, shall, see, in, the, next, chapter, what, is, the, meaning, of, the, word, having, and, to, what, extent, doing, is, a, method, of, appropriating, .)</td>\n",
              "      <td>We shall see in the next chapter what is the meaning of the word having and to what extent doing is a method of appropriating.</td>\n",
              "      <td>1943</td>\n",
              "      <td>2011</td>\n",
              "      <td>126</td>\n",
              "      <td>NaN</td>\n",
              "      <td>[we, shall, see, in, the, next, chapter, what, is, the, meaning, of, the, word, having, and, to, what, extent, doing, is, method, of, appropriating]</td>\n",
              "      <td>-PRON- shall see in the next chapter what be the meaning of the word have and to what extent do be a method of appropriate .</td>\n",
              "    </tr>\n",
              "    <tr>\n",
              "      <th>4006</th>\n",
              "      <td>Being and Nothingness</td>\n",
              "      <td>Sartre</td>\n",
              "      <td>Existentialism</td>\n",
              "      <td>(that, the, reflected, on, is, an, appearance, for, the, reflective, ,, and, the, reflective, can, be, witness, only, in, so, far, as, it, is, consciousness, (, of, ), being, so, ;, that, is, ,, t...</td>\n",
              "      <td>that the reflected on is an appearance for the reflective, and the reflective can be witness only in so far as it is consciousness (of) being so; that is, to the exact extent that this witness, wh...</td>\n",
              "      <td>1943</td>\n",
              "      <td>2011</td>\n",
              "      <td>266</td>\n",
              "      <td>NaN</td>\n",
              "      <td>[that, the, reflected, on, is, an, appearance, for, the, reflective, and, the, reflective, can, be, witness, only, in, so, far, as, it, is, consciousness, of, being, so, that, is, to, the, exact, ...</td>\n",
              "      <td>that the reflect on be an appearance for the reflective , and the reflective can be witness only in so far as -PRON- be consciousness ( of ) be so ; that is , to the exact extent that this witnes...</td>\n",
              "    </tr>\n",
              "    <tr>\n",
              "      <th>7364</th>\n",
              "      <td>Being and Nothingness</td>\n",
              "      <td>Sartre</td>\n",
              "      <td>Existentialism</td>\n",
              "      <td>(But, it, can, not, be, both, at, the, same, time, .)</td>\n",
              "      <td>But it can not be both at the same time.</td>\n",
              "      <td>1943</td>\n",
              "      <td>2011</td>\n",
              "      <td>40</td>\n",
              "      <td>NaN</td>\n",
              "      <td>[but, it, can, not, be, both, at, the, same, time]</td>\n",
              "      <td>but -PRON- can not be both at the same time .</td>\n",
              "    </tr>\n",
              "    <tr>\n",
              "      <th>8857</th>\n",
              "      <td>Being and Nothingness</td>\n",
              "      <td>Sartre</td>\n",
              "      <td>Existentialism</td>\n",
              "      <td>(The, lover, is, irritated, and, feels, himself, cheapened, when, he, thinks, that, the, beloved, has, chosen, him, from, among, others, ., ')</td>\n",
              "      <td>The lover is irritated and feels himself cheapened when he thinks that the beloved has chosen him from among others. '</td>\n",
              "      <td>1943</td>\n",
              "      <td>2011</td>\n",
              "      <td>118</td>\n",
              "      <td>NaN</td>\n",
              "      <td>[the, lover, is, irritated, and, feels, himself, cheapened, when, he, thinks, that, the, beloved, has, chosen, him, from, among, others]</td>\n",
              "      <td>the lover be irritated and feel -PRON- cheapen when -PRON- think that the beloved have choose -PRON- from among other . '</td>\n",
              "    </tr>\n",
              "  </tbody>\n",
              "</table>\n",
              "</div>"
            ],
            "text/plain": [
              "                       title  ...                                                                                                                                                                                           lemmatized_str\n",
              "1207   Being and Nothingness  ...   the early resolution of ' not play anymore ' be always there , and in the majority of case the gambler when in the presence of the gaming table , turn toward -PRON- as if to ask -PRON- for help ;...\n",
              "10719  Being and Nothingness  ...                                                                             -PRON- shall see in the next chapter what be the meaning of the word have and to what extent do be a method of appropriate .\n",
              "4006   Being and Nothingness  ...   that the reflect on be an appearance for the reflective , and the reflective can be witness only in so far as -PRON- be consciousness ( of ) be so ; that is , to the exact extent that this witnes...\n",
              "7364   Being and Nothingness  ...                                                                                                                                                            but -PRON- can not be both at the same time .\n",
              "8857   Being and Nothingness  ...                                                                                the lover be irritated and feel -PRON- cheapen when -PRON- think that the beloved have choose -PRON- from among other . '\n",
              "\n",
              "[5 rows x 11 columns]"
            ]
          },
          "metadata": {
            "tags": []
          },
          "execution_count": 100
        }
      ]
    },
    {
      "cell_type": "code",
      "metadata": {
        "colab": {
          "base_uri": "https://localhost:8080/"
        },
        "id": "Z5PW2K1kOmtE",
        "outputId": "0a6e7fbe-2997-4bcc-a9c7-f13ba67c2d12"
      },
      "source": [
        "len(new_df)"
      ],
      "execution_count": 101,
      "outputs": [
        {
          "output_type": "execute_result",
          "data": {
            "text/plain": [
              "390557"
            ]
          },
          "metadata": {
            "tags": []
          },
          "execution_count": 101
        }
      ]
    },
    {
      "cell_type": "code",
      "metadata": {
        "colab": {
          "base_uri": "https://localhost:8080/",
          "height": 17
        },
        "id": "ncmXLdXuIoMl",
        "outputId": "cac0e36d-8031-48a2-a705-0913ec74cc20"
      },
      "source": [
        "# export as csv\n",
        "from google.colab import files\n",
        "new_df.to_csv('phil_nlp.csv', index=False) \n",
        "files.download('phil_nlp.csv')"
      ],
      "execution_count": 102,
      "outputs": [
        {
          "output_type": "display_data",
          "data": {
            "application/javascript": [
              "\n",
              "    async function download(id, filename, size) {\n",
              "      if (!google.colab.kernel.accessAllowed) {\n",
              "        return;\n",
              "      }\n",
              "      const div = document.createElement('div');\n",
              "      const label = document.createElement('label');\n",
              "      label.textContent = `Downloading \"${filename}\": `;\n",
              "      div.appendChild(label);\n",
              "      const progress = document.createElement('progress');\n",
              "      progress.max = size;\n",
              "      div.appendChild(progress);\n",
              "      document.body.appendChild(div);\n",
              "\n",
              "      const buffers = [];\n",
              "      let downloaded = 0;\n",
              "\n",
              "      const channel = await google.colab.kernel.comms.open(id);\n",
              "      // Send a message to notify the kernel that we're ready.\n",
              "      channel.send({})\n",
              "\n",
              "      for await (const message of channel.messages) {\n",
              "        // Send a message to notify the kernel that we're ready.\n",
              "        channel.send({})\n",
              "        if (message.buffers) {\n",
              "          for (const buffer of message.buffers) {\n",
              "            buffers.push(buffer);\n",
              "            downloaded += buffer.byteLength;\n",
              "            progress.value = downloaded;\n",
              "          }\n",
              "        }\n",
              "      }\n",
              "      const blob = new Blob(buffers, {type: 'application/binary'});\n",
              "      const a = document.createElement('a');\n",
              "      a.href = window.URL.createObjectURL(blob);\n",
              "      a.download = filename;\n",
              "      div.appendChild(a);\n",
              "      a.click();\n",
              "      div.remove();\n",
              "    }\n",
              "  "
            ],
            "text/plain": [
              "<IPython.core.display.Javascript object>"
            ]
          },
          "metadata": {
            "tags": []
          }
        },
        {
          "output_type": "display_data",
          "data": {
            "application/javascript": [
              "download(\"download_5b4845d7-f031-4105-a874-cf4759fa0380\", \"phil_nlp.csv\", 348906761)"
            ],
            "text/plain": [
              "<IPython.core.display.Javascript object>"
            ]
          },
          "metadata": {
            "tags": []
          }
        }
      ]
    },
    {
      "cell_type": "markdown",
      "metadata": {
        "id": "vz0aj3NrECm3"
      },
      "source": [
        "###Upload Data to the SQL Server"
      ]
    },
    {
      "cell_type": "code",
      "metadata": {
        "colab": {
          "base_uri": "https://localhost:8080/",
          "height": 272
        },
        "id": "bW76POWkJL-b",
        "outputId": "ceeb664b-e486-4d73-8b79-e26fbf8a6dbc"
      },
      "source": [
        "# prepare to upload to the PostgreSQL database\n",
        "\n",
        "# note which dataframe you set this to - new_df for the whole dataset, df for \n",
        "# just the new text\n",
        "\n",
        "for_db = new_df\n",
        "for_db['date'] = for_db['original_publication_date']\n",
        "for_db['date'] = for_db['date'].apply(lambda x: str(x)[1:]+' BC' if x < 0 else str(x))\n",
        "for_db['sentence'] = for_db['sentence_str']\n",
        "for_db['school'] = for_db['school'].apply(lambda x: x.replace('_', ' ').title())\n",
        "for_db = for_db.drop(['sentence_spacy', \n",
        "                      'sentence_length',\n",
        "                      'sentence_lowered', \n",
        "                      'sentence_str', \n",
        "                      'tokenized_txt', \n",
        "                      'lemmatized_str',\n",
        "                      'corpus_edition_date',\n",
        "                      'original_publication_date'], axis=1)\n",
        "for_db.columns = [i.upper() for i in for_db.columns]\n",
        "\n",
        "for_db.sample(5)"
      ],
      "execution_count": 103,
      "outputs": [
        {
          "output_type": "execute_result",
          "data": {
            "text/html": [
              "<div>\n",
              "<style scoped>\n",
              "    .dataframe tbody tr th:only-of-type {\n",
              "        vertical-align: middle;\n",
              "    }\n",
              "\n",
              "    .dataframe tbody tr th {\n",
              "        vertical-align: top;\n",
              "    }\n",
              "\n",
              "    .dataframe thead th {\n",
              "        text-align: right;\n",
              "    }\n",
              "</style>\n",
              "<table border=\"1\" class=\"dataframe\">\n",
              "  <thead>\n",
              "    <tr style=\"text-align: right;\">\n",
              "      <th></th>\n",
              "      <th>TITLE</th>\n",
              "      <th>AUTHOR</th>\n",
              "      <th>SCHOOL</th>\n",
              "      <th>DATE</th>\n",
              "      <th>SENTENCE</th>\n",
              "    </tr>\n",
              "  </thead>\n",
              "  <tbody>\n",
              "    <tr>\n",
              "      <th>373091</th>\n",
              "      <td>Leviathan</td>\n",
              "      <td>Hobbes</td>\n",
              "      <td>Hobbes</td>\n",
              "      <td>1651</td>\n",
              "      <td>For though in the institution or acquisition of a Commonwealth, which is independent, there needs no writing, because the power of the representative has there no other bounds but such as are set ...</td>\n",
              "    </tr>\n",
              "    <tr>\n",
              "      <th>272467</th>\n",
              "      <td>Science Of Logic</td>\n",
              "      <td>Hegel</td>\n",
              "      <td>German Idealism</td>\n",
              "      <td>1817</td>\n",
              "      <td>it is only one ordinate with only one determination and law for it.</td>\n",
              "    </tr>\n",
              "    <tr>\n",
              "      <th>226318</th>\n",
              "      <td>The Phenomenology Of Perception</td>\n",
              "      <td>Merleau-Ponty</td>\n",
              "      <td>Phenomenology</td>\n",
              "      <td>1945</td>\n",
              "      <td>so etwas wie Selbstbewusstsein kann.'</td>\n",
              "    </tr>\n",
              "    <tr>\n",
              "      <th>339383</th>\n",
              "      <td>The Second Sex</td>\n",
              "      <td>Beauvoir</td>\n",
              "      <td>Feminism</td>\n",
              "      <td>1949</td>\n",
              "      <td>But I have already replied to this: Everything that proceeds from weakness, envy and revenge.</td>\n",
              "    </tr>\n",
              "    <tr>\n",
              "      <th>220410</th>\n",
              "      <td>The Phenomenology Of Perception</td>\n",
              "      <td>Merleau-Ponty</td>\n",
              "      <td>Phenomenology</td>\n",
              "      <td>1945</td>\n",
              "      <td>A psychology is always brought face to face with the problem of the constitution of the world.</td>\n",
              "    </tr>\n",
              "  </tbody>\n",
              "</table>\n",
              "</div>"
            ],
            "text/plain": [
              "                                  TITLE  ...                                                                                                                                                                                                 SENTENCE\n",
              "373091                        Leviathan  ...  For though in the institution or acquisition of a Commonwealth, which is independent, there needs no writing, because the power of the representative has there no other bounds but such as are set ...\n",
              "272467                 Science Of Logic  ...                                                                                                                                      it is only one ordinate with only one determination and law for it.\n",
              "226318  The Phenomenology Of Perception  ...                                                                                                                                                                    so etwas wie Selbstbewusstsein kann.'\n",
              "339383                   The Second Sex  ...                                                                                                            But I have already replied to this: Everything that proceeds from weakness, envy and revenge.\n",
              "220410  The Phenomenology Of Perception  ...                                                                                                           A psychology is always brought face to face with the problem of the constitution of the world.\n",
              "\n",
              "[5 rows x 5 columns]"
            ]
          },
          "metadata": {
            "tags": []
          },
          "execution_count": 103
        }
      ]
    },
    {
      "cell_type": "code",
      "metadata": {
        "colab": {
          "base_uri": "https://localhost:8080/"
        },
        "id": "hWSVKbmoVaAW",
        "outputId": "95db62aa-bef5-41e3-c887-5972cfbbce99"
      },
      "source": [
        "len(for_db)"
      ],
      "execution_count": 104,
      "outputs": [
        {
          "output_type": "execute_result",
          "data": {
            "text/plain": [
              "390557"
            ]
          },
          "metadata": {
            "tags": []
          },
          "execution_count": 104
        }
      ]
    },
    {
      "cell_type": "code",
      "metadata": {
        "colab": {
          "base_uri": "https://localhost:8080/"
        },
        "id": "Mni3N-fyK-jZ",
        "outputId": "00696d8e-2541-4ccd-e7cb-80ad8fccafe7"
      },
      "source": [
        "#importing sql library \n",
        "from sqlalchemy import create_engine \n",
        "  \n",
        "# create a reference  \n",
        "# for sql library \n",
        "engine = create_engine('po',\n",
        "                       echo=False)\n",
        "  \n",
        "# attach the data frame to the sql server \n",
        "for_db.to_sql('phil_nlp',          \n",
        "              con = engine,\n",
        "              if_exists='replace',\n",
        "              index=False,\n",
        "              method='multi') \n",
        "  \n",
        "# show the completed data as a test\n",
        "print(engine.execute(\"\"\"SELECT * FROM phil_nlp WHERE \"AUTHOR\" = 'Hobbes'\"\"\").fetchone()) "
      ],
      "execution_count": 105,
      "outputs": [
        {
          "output_type": "stream",
          "text": [
            "/usr/local/lib/python3.7/dist-packages/psycopg2/__init__.py:144: UserWarning: The psycopg2 wheel package will be renamed from release 2.8; in order to keep installing from binary please use \"pip install psycopg2-binary\" instead. For details see: <http://initd.org/psycopg/docs/install.html#binary-install-from-pypi>.\n",
            "  \"\"\")\n"
          ],
          "name": "stderr"
        },
        {
          "output_type": "stream",
          "text": [
            "('Leviathan', 'Hobbes', 'Hobbes', '1651', 'All which qualities called sensible are in the object that causeth them')\n"
          ],
          "name": "stdout"
        }
      ]
    },
    {
      "cell_type": "markdown",
      "metadata": {
        "id": "2NxRYDdaLGW2"
      },
      "source": [
        "Remember to add to the clipping and other elements to the notebook that creates the database as a whole. Then you're done!"
      ]
    },
    {
      "cell_type": "code",
      "metadata": {
        "id": "GK50YeA-LNtD",
        "colab": {
          "base_uri": "https://localhost:8080/"
        },
        "outputId": "b8b3fa95-a533-4747-abc1-9719ed1ed839"
      },
      "source": [
        "print(engine.execute(\"\"\"SELECT * FROM phil_nlp where \"AUTHOR\" = 'Sartre'\"\"\").fetchone()) "
      ],
      "execution_count": 106,
      "outputs": [
        {
          "output_type": "stream",
          "text": [
            "('Being and Nothingness', 'Sartre', 'Existentialism', '1943', 'In vain do I fulfill the functions of a caf waiter.')\n"
          ],
          "name": "stdout"
        }
      ]
    },
    {
      "cell_type": "code",
      "metadata": {
        "id": "EfaWbJkCid6W"
      },
      "source": [
        ""
      ],
      "execution_count": null,
      "outputs": []
    }
  ]
}