{
  "nbformat": 4,
  "nbformat_minor": 0,
  "metadata": {
    "colab": {
      "name": "new_text_introduction_notebook.ipynb",
      "provenance": [],
      "toc_visible": true,
      "authorship_tag": "ABX9TyN+pAzr/JfBiFFGj2f2oL7g",
      "include_colab_link": true
    },
    "kernelspec": {
      "name": "python3",
      "display_name": "Python 3"
    },
    "language_info": {
      "name": "python"
    }
  },
  "cells": [
    {
      "cell_type": "markdown",
      "metadata": {
        "id": "view-in-github",
        "colab_type": "text"
      },
      "source": [
        "<a href=\"https://colab.research.google.com/github/kcalizadeh/PDP_data_processing/blob/master/new_text_introduction_notebook.ipynb\" target=\"_parent\"><img src=\"https://colab.research.google.com/assets/colab-badge.svg\" alt=\"Open In Colab\"/></a>"
      ]
    },
    {
      "cell_type": "markdown",
      "metadata": {
        "id": "7Cw_rJlXCob_"
      },
      "source": [
        "### Imports and Mounting Drive"
      ]
    },
    {
      "cell_type": "code",
      "metadata": {
        "colab": {
          "base_uri": "https://localhost:8080/"
        },
        "id": "nN4DvDsxCdio",
        "outputId": "cd2f4aa2-d6a9-4b05-f89d-48ef2c086a30"
      },
      "source": [
        "# this cell mounts drive, sets the correct directory, then imports all functions\n",
        "# and relevant libraries via the functions.py file\n",
        "from google.colab import drive\n",
        "import sys\n",
        "\n",
        "drive.mount('/gdrive',force_remount=True)\n",
        "\n",
        "drive_path = '/gdrive/MyDrive/Colab_Projects/philosophy_data_project'\n",
        "\n",
        "sys.path.append(drive_path)"
      ],
      "execution_count": 1,
      "outputs": [
        {
          "output_type": "stream",
          "text": [
            "Mounted at /gdrive\n"
          ],
          "name": "stdout"
        }
      ]
    },
    {
      "cell_type": "code",
      "metadata": {
        "id": "EAk2WGLbCn3t"
      },
      "source": [
        "from import_functions import *"
      ],
      "execution_count": 2,
      "outputs": []
    },
    {
      "cell_type": "code",
      "metadata": {
        "colab": {
          "base_uri": "https://localhost:8080/"
        },
        "id": "fV19sbpUC2PF",
        "outputId": "05dd311f-8ecc-4c7c-9ae7-0b4d96629903"
      },
      "source": [
        "import spacy.cli\n",
        "spacy.cli.download(\"en_core_web_lg\")\n",
        "import en_core_web_lg\n",
        "nlp = en_core_web_lg.load()"
      ],
      "execution_count": 3,
      "outputs": [
        {
          "output_type": "stream",
          "text": [
            "\u001b[38;5;2m✔ Download and installation successful\u001b[0m\n",
            "You can now load the model via spacy.load('en_core_web_lg')\n"
          ],
          "name": "stdout"
        }
      ]
    },
    {
      "cell_type": "markdown",
      "metadata": {
        "id": "PbT8yZ0pC30A"
      },
      "source": [
        "###Load the Text and Clip Front and End Matter"
      ]
    },
    {
      "cell_type": "code",
      "metadata": {
        "id": "G-MzN2T2DUYm"
      },
      "source": [
        "beauvoir_second_sex = get_text(drive_path + '/phil_txts/beauvoir_second_sex.txt')"
      ],
      "execution_count": 97,
      "outputs": []
    },
    {
      "cell_type": "code",
      "metadata": {
        "id": "VKXD9zsCPkDO"
      },
      "source": [
        "beauvoir_second_sex = beauvoir_second_sex.split('’s message of freedom and independence')[1][57:].split('* Bold Chronicl')[0]"
      ],
      "execution_count": 98,
      "outputs": []
    },
    {
      "cell_type": "markdown",
      "metadata": {
        "id": "suHuy6isDUiC"
      },
      "source": [
        "### Clean the Text\n",
        "\n"
      ]
    },
    {
      "cell_type": "code",
      "metadata": {
        "id": "4lfFHzvnDUpf"
      },
      "source": [
        "def baseline_clean(to_correct, \n",
        "                   capitals=True, \n",
        "                   bracketed_fn=False, \n",
        "                   odd_words_dict={}):\n",
        "  # remove utf8 encoding characters and some punctuations\n",
        "  result = re.sub(r'[\\x00-\\x08\\x0b\\x0c\\x0e-\\x1f\\x7f-\\xff\\xad\\x0c6§\\\\\\£\\Â*_<>\"\"⎫•{}Γ~]', ' ', to_correct)\n",
        "  result = re.sub(r'[\\u2014\\u2013\\u2012-]', ' ', result)\n",
        "\n",
        "  # replace whitespace characters with actual whitespace\n",
        "  result = re.sub(r'\\s', ' ', result)\n",
        "\n",
        "  # replace odd quotation marks with a standard\n",
        "  result = re.sub(r'[‘’“”]', \"'\", result)\n",
        "\n",
        "  # replace the ﬀ, ﬃ and ﬁ with the appropriate counterparts\n",
        "  result = re.sub(r'ﬀ', 'ff', result)\n",
        "  result = re.sub(r'ﬁ', 'fi', result)\n",
        "  result = re.sub(r'ﬃ', 'ffi', result)\n",
        "\n",
        "  # replace some accented characters for ease of searching\n",
        "  result = re.sub(r'é', 'e', result)\n",
        "\n",
        "  # remove or standardize some recurring common and meaninless words/phrases\n",
        "  result = re.sub(r'\\s*This\\s*page\\s*intentionally\\s*left\\s*blank\\s*', ' ', result)\n",
        "  result = re.sub(r'(?i)Aufgabe\\s+', ' ', result)\n",
        "  result = re.sub(r',*\\s+cf\\.', ' ', result)\n",
        "\n",
        "  # some texts have footnotes conveniently in brackets - this removes them all, \n",
        "  # with a safety measure for unpaired brackets, and deletes all brackets afterwards\n",
        "  if bracketed_fn:\n",
        "    result = re.sub(r'\\[.{0,300}\\]|{.{0,300}}|{.{0,300}\\]|\\[.{0,300}}', ' ', result)\n",
        "  result = re.sub(r'[\\[\\]{}]', ' ', result)\n",
        "\n",
        "  # unify some abbreviations\n",
        "  result = re.sub(r'&', 'and', result)\n",
        "  result = re.sub(r'\\se\\.g\\.\\s', ' eg ', result)\n",
        "  result = re.sub(r'\\si\\.e\\.\\s', ' ie ', result)\n",
        "  result = re.sub('coroll\\.', 'coroll', result)\n",
        "  result = re.sub('pt\\.', 'pt', result)\n",
        "\n",
        "  # remove roman numerals, first capitalized ones\n",
        "  result = re.sub(r'\\s((I{2,}V*X*\\.*)|(IV\\.*)|(IX\\.*)|(V\\.*)|(V+I*\\.*)|(X+L*V*I*]\\.*))\\s', ' ', result)\n",
        "  # then lowercase\n",
        "  result = re.sub(r'\\s((i{2,}v*x*\\.*)|(iv\\.*)|(ix\\.*)|(v\\.*)|(v+i*\\.*)|(x+l*v*i*\\.*))\\s', ' ', result)\n",
        "\n",
        "  # remove periods and commas flanked by numbers\n",
        "  result = re.sub(r'\\d\\.\\d', ' ', result)\n",
        "  result = re.sub(r'\\d,\\d', ' ', result)\n",
        "\n",
        "  # remove the number-letter-number pattern used for many citations\n",
        "  result = re.sub(r'\\d*\\w{,2}\\d', ' ', result)\n",
        "\n",
        "  # remove numerical characters\n",
        "  result = re.sub(r'\\d+', ' ', result)\n",
        "\n",
        "  # remove words of 2+ characters that are entirely capitalized \n",
        "  # (these are almost always titles, headings, or speakers in a dialogue)\n",
        "  # remove capital I's that follow capital words - these almost always roman numerals\n",
        "  # some texts do use these capitalizations meaningfully, so we make this optional\n",
        "  if capitals:\n",
        "    result = re.sub(r'[A-Z]{2,}\\s+I', ' ', result)\n",
        "    result = re.sub(r'[A-Z]{2,}', ' ', result)\n",
        "\n",
        "  # remove isolated colons and semicolons that result from removal of titles\n",
        "  result = re.sub(r'\\s+:\\s*', ' ', result)\n",
        "  result = re.sub(r'\\s+;\\s*', ' ', result)\n",
        "\n",
        "  # remove isolated letters (do it several times because strings of isolated letters do not get captured properly)\n",
        "  result = re.sub(r'\\s[^aAI\\.]\\s', ' ', result)\n",
        "  result = re.sub(r'\\s[^aAI\\.]\\s', ' ', result)\n",
        "  result = re.sub(r'\\s[^aAI\\.]\\s', ' ', result)\n",
        "  result = re.sub(r'\\s[^aAI\\.]\\s', ' ', result)\n",
        "  result = re.sub(r'\\s[^aAI\\.]\\s', ' ', result)\n",
        "  result = re.sub(r'\\s[^aAI\\.]\\s', ' ', result)\n",
        "\n",
        "  # remove isolated letters at the end of sentences or before commas\n",
        "  result = re.sub(r'\\s[^aI]\\.', '.', result)\n",
        "  result = re.sub(r'\\s[^aI],', ',', result)\n",
        "\n",
        "  # deal with spaces around periods and commas\n",
        "  result = re.sub(r'\\s+,\\s+', ', ', result)\n",
        "  result = re.sub(r'\\s+\\.\\s+', '. ', result)\n",
        "\n",
        "  # remove empty parantheses\n",
        "  result = re.sub(r'(\\(\\s*\\.*\\s*\\))|(\\(\\s*,*\\s*)\\)', ' ', result)\n",
        "  result = re.sub(r'\\.\\)\\.', '.', result)\n",
        "  result = re.sub(r'\\.\\(\\.', '.', result)\n",
        "\n",
        "  # reduce multiple periods, commas, or whitespaces into a single one\n",
        "  result = re.sub(r'\\.+', '.', result)\n",
        "  result = re.sub(r',+', ',', result)\n",
        "  result = re.sub(r'\\s+', ' ', result)\n",
        "\n",
        "  # deal with isolated problem cases discovered in the data:\n",
        "  for key in odd_words_dict.keys():\n",
        "    result = re.sub(r''+key+'', odd_words_dict[key], result)\n",
        "\n",
        "  return result"
      ],
      "execution_count": 109,
      "outputs": []
    },
    {
      "cell_type": "code",
      "metadata": {
        "id": "1OjRlTV_EEHM"
      },
      "source": [
        "# note extras like bracketed footnotes or specific words to remove\n",
        "\n"
      ],
      "execution_count": 110,
      "outputs": []
    },
    {
      "cell_type": "code",
      "metadata": {
        "id": "V6Y9RIRBED-F"
      },
      "source": [
        "# build a dictionary for the book\n",
        "book_dict = {\n",
        "    'author': 'mary wollstonecraft',\n",
        "    'title': 'vindication of the rights of woman',\n",
        "    'text': wollstonecraft_vindication,\n",
        "    'school': 'feminism',\n",
        "    'words to remove': [],\n",
        "    'remove capitals': False,\n",
        "    'bracketed fn': False\n",
        "}\n"
      ],
      "execution_count": 111,
      "outputs": []
    },
    {
      "cell_type": "code",
      "metadata": {
        "cellView": "form",
        "id": "7fkWlxhoIOjA"
      },
      "source": [
        "#@title Oddities Dictionary for Cleaning\n",
        "# a dictionary of oddities to clean up\n",
        "odd_words_dict = {'\\sderstanding': 'derstanding',\n",
        "                  '\\sditference\\s': ' difference ',\n",
        "                  '\\sforthe\\s': ' for the ',\n",
        "                  '\\sject': 'ject',\n",
        "                  '\\sjects': 'jects', \n",
        "                  '\\sness': 'ness',\n",
        "                  '\\sper\\scent\\s': ' percent ',\n",
        "                  '\\sper\\scent\\.': ' percent.',\n",
        "                  '\\sper\\scent,': ' percent,',\n",
        "                  '\\wi\\son': 'ion',\n",
        "                  '\\spri\\sori': ' priori',\n",
        "                  '\\stences\\s': 'tences ',\n",
        "                  '\\sprincipleb': ' principle',\n",
        "                  '\\ssciousness': 'sciousness',\n",
        "                  '\\stion': 'tion',\n",
        "                  '\\spri\\s': ' pri',\n",
        "                  '\\scluding': 'cluding',\n",
        "                  '\\sdom': 'dom',\n",
        "                  '\\sers': 'ers',\n",
        "                  '\\scritiq\\s': ' critique ',\n",
        "                  '\\ssensati\\s': ' sensation ',\n",
        "                  '(?i)\\syou\\sll': \" you'll\",\n",
        "                  '\\sI\\sll': \" I'll\",\n",
        "                  '(?i)\\swe\\sll': \" we'll\",\n",
        "                  '(?i)he\\sll': \" he'll\",\n",
        "                  '(?i)who\\sll': \"who'll\",\n",
        "                  '(?i)\\sthere\\sll\\s': \" there'll \",\n",
        "                  '\\seduca\\s': ' education ',\n",
        "                  '\\slity\\s': 'lity ',\n",
        "                  '\\smultaneously\\s': 'multaneously ',\n",
        "                  '\\stically\\s': 'tically ',\n",
        "                  '\\sDa\\ssein\\s': ' Dasein ',\n",
        "                  '(?i)\\sthey\\sll\\s': \" they'll \",\n",
        "                  '(?i)\\sin\\tum\\s': ' in turn ',\n",
        "                  '\\scon~\\s': ' con',\n",
        "                  '\\sà\\s': ' a ',\n",
        "                  '\\sjor\\s': ' for ',\n",
        "                  '\\sluminating\\s': 'luminating ',\n",
        "                  '\\sselj\\s': ' self ',\n",
        "                  '\\stial\\s': 'tial ',\n",
        "                  '\\sversal\\s': 'versal ',\n",
        "                  '\\sexis\\st': ' exist',\n",
        "                  '\\splauded\\s': 'plauded ',\n",
        "                  '\\suiry\\s': 'uiry ',\n",
        "                  '\\svithin\\s': ' within ',\n",
        "                  '\\soj\\s': ' of ',\n",
        "                  '\\sposi\\st': ' posit',\n",
        "                  '\\sra\\sther\\s': ' rather ',\n",
        "                  '(?i)\\sthat\\sll\\s': \" that'll \",\n",
        "                  '(?i)\\sa\\sll\\s': ' all ',\n",
        "                  '\\so\\sther\\s': ' other ',\n",
        "                  '\\sra\\sther\\s': ' rather ',\n",
        "                  '\\snei\\sther\\s': ' neither ',\n",
        "                  '\\sei\\sther\\s': ' either ',\n",
        "                  '\\sfur\\sther\\s': ' further ',\n",
        "                  '\\sano\\sther': ' another ',\n",
        "                  '\\sneces\\s': ' neces',\n",
        "                  'u\\slar\\s': 'ular ',\n",
        "                  '\\sference\\s': 'ference ',\n",
        "                  '(?i)it\\sll\\s': \"it'll \",\n",
        "                  '\\stoge\\sther': ' together ',\n",
        "                  '\\sknowledgeb\\s': ' knowledge ',\n",
        "                  'r\\stain\\s': 'rtain ',\n",
        "                  'on\\stain\\s': 'ontain',\n",
        "                  '(?i)j\\sect\\s': 'ject',\n",
        "                  '\\sob\\sect\\s': ' object ',\n",
        "                  '\\sbtle\\s': 'btle ',\n",
        "                  '\\snition\\s': 'nition ',\n",
        "                  '\\sdering\\s': 'dering ', \n",
        "                  '\\sized\\s': 'ized ',\n",
        "                  '\\sther\\shand': ' other hand',\n",
        "                  '\\ture\\s': 'ture ',\n",
        "                  '\\sabso\\sl': ' absol',\n",
        "                  '\\stly\\s': 'tly ',\n",
        "                  '\\serty\\s': 'erty ',\n",
        "                  '\\sobj\\se': ' obj',\n",
        "                  '\\sffiir\\s': ' for ',\n",
        "                  '\\sndeed\\s': ' indeed ',\n",
        "                  '\\sfonn\\s': ' form ',\n",
        "                  '\\snally\\s': 'nally ',\n",
        "                  'ain\\sty\\s': 'ainty ',\n",
        "                  'ici\\sty\\s': 'icity ',\n",
        "                  '\\scog\\sni': ' cogni',\n",
        "                  '\\sacc\\s': ' acc',\n",
        "                  '\\sindi\\svid\\sual': ' individual', \n",
        "                  '\\sintu\\sit': ' intuit',\n",
        "                  'r\\sance\\s': 'rance ',\n",
        "                  '\\ssions\\s': 'sions ',\n",
        "                  '\\sances\\s': 'ances ',\n",
        "                  '\\sper\\sception\\s': ' perception ',\n",
        "                  '\\sse\\sries\\s': ' series ',\n",
        "                  '\\sque\\sries\\s': ' queries ',\n",
        "                  '\\sessary\\s': 'essary ',\n",
        "                  '\\sofa\\s': ' of a ',\n",
        "                  '\\scer\\stainty\\s': ' certainty ',\n",
        "                  'ec\\stivity\\s': 'ectivity ',\n",
        "                  '\\stivity\\s': 'tivity ',\n",
        "                  '\\slation\\s': 'lation ',\n",
        "                  '\\sir\\sr': ' irr',\n",
        "                  '\\ssub\\sstance\\s': ' substance ',\n",
        "                  'sec\\sond\\s': 'second ',\n",
        "                  '\\s\\.rv': '',\n",
        "                  '\\story\\s': 'tory ',\n",
        "                  '\\sture\\s': 'ture ',\n",
        "                  '\\sminate\\s': 'minate ',\n",
        "                  '\\sing\\s': 'ing ',\n",
        "                  '\\splicity\\s': 'plicity ',\n",
        "                  '\\ssimi\\slar\\s': ' similar ',\n",
        "                  '\\scom\\smunity\\s': ' community ',\n",
        "                  '\\sitselfa\\s': ' itself a ',\n",
        "                  '\\ssimp\\s': ' simply ',\n",
        "                  '\\scon\\stex': ' contex',\n",
        "                  '\\scon\\sseq': ' conseq',\n",
        "                  '\\scon\\stai': ' contai',\n",
        "                  '\\sofwhat\\s': ' of what ',\n",
        "                  '\\sui\\s': 'ui',\n",
        "                  '\\sofan\\s': ' of an ',\n",
        "                  '\\saccor\\sdance\\s': ' accordance ',\n",
        "                  '\\stranscen\\sdental\\s': ' transcendental ',\n",
        "                  '\\sap\\spearances\\s': ' appearances ',\n",
        "                  'e\\squences\\s': 'equences ',\n",
        "                  '\\sorits\\s': ' or its ',\n",
        "                  '\\simma\\sn': ' imman',\n",
        "                  '\\seq\\sua': ' equa',\n",
        "                  '\\simpl\\sied\\s': ' implied ',\n",
        "                  '\\sbuta\\s': ' but a ',\n",
        "                  '\\sa\\snd\\s': ' and ',\n",
        "                  '\\sence\\s': 'ence ',\n",
        "                  '\\stain\\s': 'tain ',\n",
        "                  '\\sunder\\sstanding\\s': ' understanding ',\n",
        "                  'i\\sence\\s': 'ience ',\n",
        "                  'r\\sence\\s': 'rence ',\n",
        "                  '\\stical\\s': 'tical ',\n",
        "                  '\\sobjectsb\\s': ' objects ',\n",
        "                  '\\stbe\\s': ' the ',\n",
        "                  '\\smul\\st': ' mult',\n",
        "                  '\\sgen\\seral\\s': ' general ',\n",
        "                  '\\suniver\\ssal\\s': ' universal ',\n",
        "                  '\\scon\\stent\\s': ' content ',\n",
        "                  '\\spar\\sticular\\s': ' particular ',\n",
        "                  'ver\\ssity\\s': 'versity ',\n",
        "                  '\\sCritiq\\s': ' Critique ',\n",
        "                  '\\sphilo\\ssophy\\s': ' philosophy ',\n",
        "                  '\\seq\\s': ' eq'}"
      ],
      "execution_count": 112,
      "outputs": []
    },
    {
      "cell_type": "code",
      "metadata": {
        "id": "bXDII00UED1c"
      },
      "source": [
        "# a function that takes the dictionary and returns a dataframe of sentences\n",
        "def from_raw_to_df(text_dict):\n",
        "  nlp.max_length = 9000000\n",
        "  text = text_dict['text']\n",
        "  text = remove_words(text, text_dict['words to remove'])\n",
        "  text = baseline_clean(text, capitals=text_dict['remove capitals'],\n",
        "                        bracketed_fn=text_dict['bracketed fn'],\n",
        "                        odd_words_dict=odd_words_dict)\n",
        "  text_nlp = nlp(text, disable=['ner'])\n",
        "  text_df = pd.DataFrame(columns=['title', 'author', 'school', 'sentence_spacy'])\n",
        "  text_df['sentence_spacy'] = list(text_nlp.sents)\n",
        "  text_df['author'] = text_dict['author']\n",
        "  text_df['title'] = text_dict['title']\n",
        "  text_df['school'] = text_dict['school']\n",
        "  text_df['sentence_str'] = text_df['sentence_spacy'].apply(lambda x: ''.join(list(str(x))))\n",
        "  return text_df"
      ],
      "execution_count": 113,
      "outputs": []
    },
    {
      "cell_type": "code",
      "metadata": {
        "id": "w14qMlTrFM4s"
      },
      "source": [
        "# use the function\n",
        "df = from_raw_to_df(book_dict)"
      ],
      "execution_count": 114,
      "outputs": []
    },
    {
      "cell_type": "code",
      "metadata": {
        "colab": {
          "base_uri": "https://localhost:8080/",
          "height": 780
        },
        "id": "IZ3JhAyNFept",
        "outputId": "23110811-9c94-49af-dd06-ccb70f07a7c0"
      },
      "source": [
        "# checking the result\n",
        "pd.options.display.max_colwidth = 200\n",
        "df.sample(10)"
      ],
      "execution_count": 115,
      "outputs": [
        {
          "output_type": "execute_result",
          "data": {
            "text/html": [
              "<div>\n",
              "<style scoped>\n",
              "    .dataframe tbody tr th:only-of-type {\n",
              "        vertical-align: middle;\n",
              "    }\n",
              "\n",
              "    .dataframe tbody tr th {\n",
              "        vertical-align: top;\n",
              "    }\n",
              "\n",
              "    .dataframe thead th {\n",
              "        text-align: right;\n",
              "    }\n",
              "</style>\n",
              "<table border=\"1\" class=\"dataframe\">\n",
              "  <thead>\n",
              "    <tr style=\"text-align: right;\">\n",
              "      <th></th>\n",
              "      <th>title</th>\n",
              "      <th>author</th>\n",
              "      <th>school</th>\n",
              "      <th>sentence_spacy</th>\n",
              "      <th>sentence_str</th>\n",
              "    </tr>\n",
              "  </thead>\n",
              "  <tbody>\n",
              "    <tr>\n",
              "      <th>184</th>\n",
              "      <td>The Second Sex</td>\n",
              "      <td>Simone de Beauvoir</td>\n",
              "      <td>feminism</td>\n",
              "      <td>(The, same, vicious, circle, can, be, found, in, all, analogous, circumstances, :, when, an, individual, or, a, group, of, individuals, is, kept, in, a, situation, of, inferiority, ,, the, fact, i...</td>\n",
              "      <td>The same vicious circle can be found in all analogous circumstances: when an individual or a group of individuals is kept in a situation of inferiority, the fact is that he or they are inferior.</td>\n",
              "    </tr>\n",
              "    <tr>\n",
              "      <th>1651</th>\n",
              "      <td>The Second Sex</td>\n",
              "      <td>Simone de Beauvoir</td>\n",
              "      <td>feminism</td>\n",
              "      <td>(As, soon, as, the, marriage, is, consummated, ,, ', Beaumanoir, says, ,, ', the, possessions, of, each, party, are, held, in, common, by, virtue, of, the, marriage, and, the, man, is, the, guardi...</td>\n",
              "      <td>As soon as the marriage is consummated,' Beaumanoir says, 'the possessions of each party are held in common by virtue of the marriage and the man is the guardian of them.'</td>\n",
              "    </tr>\n",
              "    <tr>\n",
              "      <th>7659</th>\n",
              "      <td>The Second Sex</td>\n",
              "      <td>Simone de Beauvoir</td>\n",
              "      <td>feminism</td>\n",
              "      <td>(She, detested, men, .)</td>\n",
              "      <td>She detested men.</td>\n",
              "    </tr>\n",
              "    <tr>\n",
              "      <th>6938</th>\n",
              "      <td>The Second Sex</td>\n",
              "      <td>Simone de Beauvoir</td>\n",
              "      <td>feminism</td>\n",
              "      <td>(Not, enough, has, been, said, not, only, about, the, fear, of, masculine, aggressiveness, but, also, about, a, deep, feeling, of, frustration, at, the, disgust, that, is, mixed, with, her, desire...</td>\n",
              "      <td>Not enough has been said not only about the fear of masculine aggressiveness but also about a deep feeling of frustration at the disgust that is mixed with her desires: sexual satisfaction must be...</td>\n",
              "    </tr>\n",
              "    <tr>\n",
              "      <th>8368</th>\n",
              "      <td>The Second Sex</td>\n",
              "      <td>Simone de Beauvoir</td>\n",
              "      <td>feminism</td>\n",
              "      <td>(This, means, it, must, above, all, be, free, .)</td>\n",
              "      <td>This means it must above all be free.</td>\n",
              "    </tr>\n",
              "    <tr>\n",
              "      <th>4321</th>\n",
              "      <td>The Second Sex</td>\n",
              "      <td>Simone de Beauvoir</td>\n",
              "      <td>feminism</td>\n",
              "      <td>(She, is, a, ', free, genius, ,, something, like, one, of, those, spirits, of, the, air, which, certain, magical, practices, momentarily, permit, us, to, entertain, but, which, we, can, never, ove...</td>\n",
              "      <td>She is a 'free genius, something like one of those spirits of the air which certain magical practices momentarily permit us to entertain but which we can never overcome.'</td>\n",
              "    </tr>\n",
              "    <tr>\n",
              "      <th>9957</th>\n",
              "      <td>The Second Sex</td>\n",
              "      <td>Simone de Beauvoir</td>\n",
              "      <td>feminism</td>\n",
              "      <td>(The, light, plumage, of, her, lashes, ,, lowered, over, her, cheek, ,, interposed, between, the, scenes, of, earth, and, the, bluish, dream, of, her, eye)</td>\n",
              "      <td>The light plumage of her lashes, lowered over her cheek, interposed between the scenes of earth and the bluish dream of her eye</td>\n",
              "    </tr>\n",
              "    <tr>\n",
              "      <th>1591</th>\n",
              "      <td>The Second Sex</td>\n",
              "      <td>Simone de Beauvoir</td>\n",
              "      <td>feminism</td>\n",
              "      <td>(When, feudalism, emerges, out, of, the, convulsions, of, the, early, Middle, Ages, ,, woman, 's, condition, looks, very, uncertain, .)</td>\n",
              "      <td>When feudalism emerges out of the convulsions of the early Middle Ages, woman's condition looks very uncertain.</td>\n",
              "    </tr>\n",
              "    <tr>\n",
              "      <th>1231</th>\n",
              "      <td>The Second Sex</td>\n",
              "      <td>Simone de Beauvoir</td>\n",
              "      <td>feminism</td>\n",
              "      <td>(He, must, have, heirs, who, will, extend, his, life, on, earth, because, he, bequeaths, them, his, possessions, ,, and, who, will, give, him, in, turn, ,, beyond, the, tomb, ,, the, necessary, ho...</td>\n",
              "      <td>He must have heirs who will extend his life on earth because he bequeaths them his possessions, and who will give him in turn, beyond the tomb, the necessary honors for the repose of his soul.</td>\n",
              "    </tr>\n",
              "    <tr>\n",
              "      <th>487</th>\n",
              "      <td>The Second Sex</td>\n",
              "      <td>Simone de Beauvoir</td>\n",
              "      <td>feminism</td>\n",
              "      <td>(The, privilege, of, many, female, insects, comes, from, the, fact, that, fertilization, is, generally, a, rapid, process, while, ovulation, and, incubation, of, the, eggs, demand, a, long, period...</td>\n",
              "      <td>The privilege of many female insects comes from the fact that fertilization is generally a rapid process while ovulation and incubation of the eggs demand a long period of time.</td>\n",
              "    </tr>\n",
              "  </tbody>\n",
              "</table>\n",
              "</div>"
            ],
            "text/plain": [
              "               title  ...                                                                                                                                                                                             sentence_str\n",
              "184   The Second Sex  ...       The same vicious circle can be found in all analogous circumstances: when an individual or a group of individuals is kept in a situation of inferiority, the fact is that he or they are inferior.\n",
              "1651  The Second Sex  ...                              As soon as the marriage is consummated,' Beaumanoir says, 'the possessions of each party are held in common by virtue of the marriage and the man is the guardian of them.'\n",
              "7659  The Second Sex  ...                                                                                                                                                                                        She detested men.\n",
              "6938  The Second Sex  ...  Not enough has been said not only about the fear of masculine aggressiveness but also about a deep feeling of frustration at the disgust that is mixed with her desires: sexual satisfaction must be...\n",
              "8368  The Second Sex  ...                                                                                                                                                                    This means it must above all be free.\n",
              "4321  The Second Sex  ...                               She is a 'free genius, something like one of those spirits of the air which certain magical practices momentarily permit us to entertain but which we can never overcome.'\n",
              "9957  The Second Sex  ...                                                                          The light plumage of her lashes, lowered over her cheek, interposed between the scenes of earth and the bluish dream of her eye\n",
              "1591  The Second Sex  ...                                                                                          When feudalism emerges out of the convulsions of the early Middle Ages, woman's condition looks very uncertain.\n",
              "1231  The Second Sex  ...         He must have heirs who will extend his life on earth because he bequeaths them his possessions, and who will give him in turn, beyond the tomb, the necessary honors for the repose of his soul.\n",
              "487   The Second Sex  ...                        The privilege of many female insects comes from the fact that fertilization is generally a rapid process while ovulation and incubation of the eggs demand a long period of time.\n",
              "\n",
              "[10 rows x 5 columns]"
            ]
          },
          "metadata": {
            "tags": []
          },
          "execution_count": 115
        }
      ]
    },
    {
      "cell_type": "code",
      "metadata": {
        "colab": {
          "base_uri": "https://localhost:8080/"
        },
        "id": "JZMqd8G0Ra-1",
        "outputId": "7f9e5983-7e24-4a7d-9914-ad34914250c6"
      },
      "source": [
        "len(df)"
      ],
      "execution_count": 116,
      "outputs": [
        {
          "output_type": "execute_result",
          "data": {
            "text/plain": [
              "13646"
            ]
          },
          "metadata": {
            "tags": []
          },
          "execution_count": 116
        }
      ]
    },
    {
      "cell_type": "markdown",
      "metadata": {
        "id": "e-mqOl9pFgwH"
      },
      "source": [
        "#### Remove Short Sentences"
      ]
    },
    {
      "cell_type": "code",
      "metadata": {
        "colab": {
          "base_uri": "https://localhost:8080/",
          "height": 213
        },
        "id": "EfYhrwWuFzOl",
        "outputId": "154d1f67-6f0b-4731-886b-e269fcbbf314"
      },
      "source": [
        "df['sentence_length'] = df['sentence_str'].map(lambda x: len(x))\n",
        "num_of_short_entries = len(df[df['sentence_length'] < 20])\n",
        "print(f\"there are {num_of_short_entries} so-called sentences with fewer than 20 characters\")\n",
        "df[df['sentence_length'] < 20].sample(5)"
      ],
      "execution_count": 117,
      "outputs": [
        {
          "output_type": "stream",
          "text": [
            "there are 559 so-called sentences with fewer than 20 characters\n"
          ],
          "name": "stdout"
        },
        {
          "output_type": "execute_result",
          "data": {
            "text/html": [
              "<div>\n",
              "<style scoped>\n",
              "    .dataframe tbody tr th:only-of-type {\n",
              "        vertical-align: middle;\n",
              "    }\n",
              "\n",
              "    .dataframe tbody tr th {\n",
              "        vertical-align: top;\n",
              "    }\n",
              "\n",
              "    .dataframe thead th {\n",
              "        text-align: right;\n",
              "    }\n",
              "</style>\n",
              "<table border=\"1\" class=\"dataframe\">\n",
              "  <thead>\n",
              "    <tr style=\"text-align: right;\">\n",
              "      <th></th>\n",
              "      <th>title</th>\n",
              "      <th>author</th>\n",
              "      <th>school</th>\n",
              "      <th>sentence_spacy</th>\n",
              "      <th>sentence_str</th>\n",
              "      <th>sentence_length</th>\n",
              "    </tr>\n",
              "  </thead>\n",
              "  <tbody>\n",
              "    <tr>\n",
              "      <th>7</th>\n",
              "      <td>The Second Sex</td>\n",
              "      <td>Simone de Beauvoir</td>\n",
              "      <td>feminism</td>\n",
              "      <td>(And, what, is, it, ?)</td>\n",
              "      <td>And what is it?</td>\n",
              "      <td>15</td>\n",
              "    </tr>\n",
              "    <tr>\n",
              "      <th>4590</th>\n",
              "      <td>The Second Sex</td>\n",
              "      <td>Simone de Beauvoir</td>\n",
              "      <td>feminism</td>\n",
              "      <td>(The, Girls, .)</td>\n",
              "      <td>The Girls.</td>\n",
              "      <td>10</td>\n",
              "    </tr>\n",
              "    <tr>\n",
              "      <th>12137</th>\n",
              "      <td>The Second Sex</td>\n",
              "      <td>Simone de Beauvoir</td>\n",
              "      <td>feminism</td>\n",
              "      <td>(…)</td>\n",
              "      <td>…</td>\n",
              "      <td>1</td>\n",
              "    </tr>\n",
              "    <tr>\n",
              "      <th>7134</th>\n",
              "      <td>The Second Sex</td>\n",
              "      <td>Simone de Beauvoir</td>\n",
              "      <td>feminism</td>\n",
              "      <td>(X.)</td>\n",
              "      <td>X.</td>\n",
              "      <td>2</td>\n",
              "    </tr>\n",
              "    <tr>\n",
              "      <th>10217</th>\n",
              "      <td>The Second Sex</td>\n",
              "      <td>Simone de Beauvoir</td>\n",
              "      <td>feminism</td>\n",
              "      <td>(But, my, God, !)</td>\n",
              "      <td>But my God!</td>\n",
              "      <td>11</td>\n",
              "    </tr>\n",
              "  </tbody>\n",
              "</table>\n",
              "</div>"
            ],
            "text/plain": [
              "                title              author  ...     sentence_str sentence_length\n",
              "7      The Second Sex  Simone de Beauvoir  ...  And what is it?              15\n",
              "4590   The Second Sex  Simone de Beauvoir  ...       The Girls.              10\n",
              "12137  The Second Sex  Simone de Beauvoir  ...                …               1\n",
              "7134   The Second Sex  Simone de Beauvoir  ...               X.               2\n",
              "10217  The Second Sex  Simone de Beauvoir  ...      But my God!              11\n",
              "\n",
              "[5 rows x 6 columns]"
            ]
          },
          "metadata": {
            "tags": []
          },
          "execution_count": 117
        }
      ]
    },
    {
      "cell_type": "code",
      "metadata": {
        "colab": {
          "base_uri": "https://localhost:8080/"
        },
        "id": "RW0AZpVyF1Qk",
        "outputId": "fbbbe621-faff-401b-c64a-0812f0abbec8"
      },
      "source": [
        "df = df.drop(df[df['sentence_length'] < 20].index)\n",
        "len(df)"
      ],
      "execution_count": 118,
      "outputs": [
        {
          "output_type": "execute_result",
          "data": {
            "text/plain": [
              "13087"
            ]
          },
          "metadata": {
            "tags": []
          },
          "execution_count": 118
        }
      ]
    },
    {
      "cell_type": "markdown",
      "metadata": {
        "id": "BX9UfoDtF3Lz"
      },
      "source": [
        "#### Remove Cases of Self-Mention"
      ]
    },
    {
      "cell_type": "code",
      "metadata": {
        "colab": {
          "base_uri": "https://localhost:8080/",
          "height": 64
        },
        "id": "LJnDfK9IF8hU",
        "outputId": "2af8c8bb-781f-40a2-bde8-0e7afb804107"
      },
      "source": [
        "self_mentions = df[df['sentence_str'].str.contains('\\s'+'Beauvoir'.lower())]\n",
        "print(len(self_mentions))\n",
        "self_mentions"
      ],
      "execution_count": 119,
      "outputs": [
        {
          "output_type": "stream",
          "text": [
            "0\n"
          ],
          "name": "stdout"
        },
        {
          "output_type": "execute_result",
          "data": {
            "text/html": [
              "<div>\n",
              "<style scoped>\n",
              "    .dataframe tbody tr th:only-of-type {\n",
              "        vertical-align: middle;\n",
              "    }\n",
              "\n",
              "    .dataframe tbody tr th {\n",
              "        vertical-align: top;\n",
              "    }\n",
              "\n",
              "    .dataframe thead th {\n",
              "        text-align: right;\n",
              "    }\n",
              "</style>\n",
              "<table border=\"1\" class=\"dataframe\">\n",
              "  <thead>\n",
              "    <tr style=\"text-align: right;\">\n",
              "      <th></th>\n",
              "      <th>title</th>\n",
              "      <th>author</th>\n",
              "      <th>school</th>\n",
              "      <th>sentence_spacy</th>\n",
              "      <th>sentence_str</th>\n",
              "      <th>sentence_length</th>\n",
              "    </tr>\n",
              "  </thead>\n",
              "  <tbody>\n",
              "  </tbody>\n",
              "</table>\n",
              "</div>"
            ],
            "text/plain": [
              "Empty DataFrame\n",
              "Columns: [title, author, school, sentence_spacy, sentence_str, sentence_length]\n",
              "Index: []"
            ]
          },
          "metadata": {
            "tags": []
          },
          "execution_count": 119
        }
      ]
    },
    {
      "cell_type": "code",
      "metadata": {
        "colab": {
          "base_uri": "https://localhost:8080/"
        },
        "id": "mt86zZ3RF8q8",
        "outputId": "a226d9b7-026c-481c-a97a-9f6c9e13c8b4"
      },
      "source": [
        "df = df.drop(df[df['sentence_str'].str.contains('\\s'+'Beauvoir'.lower())].index)\n",
        "\n",
        "len(df)"
      ],
      "execution_count": 120,
      "outputs": [
        {
          "output_type": "execute_result",
          "data": {
            "text/plain": [
              "13087"
            ]
          },
          "metadata": {
            "tags": []
          },
          "execution_count": 120
        }
      ]
    },
    {
      "cell_type": "markdown",
      "metadata": {
        "id": "vglbGXSFF8y4"
      },
      "source": [
        "#### Deal with Duplicates"
      ]
    },
    {
      "cell_type": "code",
      "metadata": {
        "colab": {
          "base_uri": "https://localhost:8080/"
        },
        "id": "DRXjQSIQHpa-",
        "outputId": "df6150c4-bed8-4259-f4f6-66b01cbe9381"
      },
      "source": [
        "# find the total number of duplicates\n",
        "len(df['sentence_str'])-len(df['sentence_str'].drop_duplicates())"
      ],
      "execution_count": 121,
      "outputs": [
        {
          "output_type": "execute_result",
          "data": {
            "text/plain": [
              "38"
            ]
          },
          "metadata": {
            "tags": []
          },
          "execution_count": 121
        }
      ]
    },
    {
      "cell_type": "code",
      "metadata": {
        "colab": {
          "base_uri": "https://localhost:8080/",
          "height": 772
        },
        "id": "sHn4mTy2TR3P",
        "outputId": "81328ca2-8d93-43fa-ed0f-3b31bf028d67"
      },
      "source": [
        "doubles_df = pd.concat(g for _, g in df.groupby(\"sentence_str\") if len(g) > 1)\n",
        "doubles_df"
      ],
      "execution_count": 122,
      "outputs": [
        {
          "output_type": "execute_result",
          "data": {
            "text/html": [
              "<div>\n",
              "<style scoped>\n",
              "    .dataframe tbody tr th:only-of-type {\n",
              "        vertical-align: middle;\n",
              "    }\n",
              "\n",
              "    .dataframe tbody tr th {\n",
              "        vertical-align: top;\n",
              "    }\n",
              "\n",
              "    .dataframe thead th {\n",
              "        text-align: right;\n",
              "    }\n",
              "</style>\n",
              "<table border=\"1\" class=\"dataframe\">\n",
              "  <thead>\n",
              "    <tr style=\"text-align: right;\">\n",
              "      <th></th>\n",
              "      <th>title</th>\n",
              "      <th>author</th>\n",
              "      <th>school</th>\n",
              "      <th>sentence_spacy</th>\n",
              "      <th>sentence_str</th>\n",
              "      <th>sentence_length</th>\n",
              "    </tr>\n",
              "  </thead>\n",
              "  <tbody>\n",
              "    <tr>\n",
              "      <th>884</th>\n",
              "      <td>The Second Sex</td>\n",
              "      <td>Simone de Beauvoir</td>\n",
              "      <td>feminism</td>\n",
              "      <td>((, Psychoanalytical, Method, and, the, Doctrine, of, Freud, ), .)</td>\n",
              "      <td>(Psychoanalytical Method and the Doctrine of Freud).</td>\n",
              "      <td>52</td>\n",
              "    </tr>\n",
              "    <tr>\n",
              "      <th>12279</th>\n",
              "      <td>The Second Sex</td>\n",
              "      <td>Simone de Beauvoir</td>\n",
              "      <td>feminism</td>\n",
              "      <td>((, Psychoanalytical, Method, and, the, Doctrine, of, Freud, ), .)</td>\n",
              "      <td>(Psychoanalytical Method and the Doctrine of Freud).</td>\n",
              "      <td>52</td>\n",
              "    </tr>\n",
              "    <tr>\n",
              "      <th>934</th>\n",
              "      <td>The Second Sex</td>\n",
              "      <td>Simone de Beauvoir</td>\n",
              "      <td>feminism</td>\n",
              "      <td>(And, this, has, become, possible, only, within, a, large, modern, industry, that, not, only, accepts, women, 's, work, on, a, grand, scale, but, formally, requires, it, ., ')</td>\n",
              "      <td>And this has become possible only within a large modern industry that not only accepts women's work on a grand scale but formally requires it.'</td>\n",
              "      <td>143</td>\n",
              "    </tr>\n",
              "    <tr>\n",
              "      <th>2065</th>\n",
              "      <td>The Second Sex</td>\n",
              "      <td>Simone de Beauvoir</td>\n",
              "      <td>feminism</td>\n",
              "      <td>(And, this, has, become, possible, only, within, a, large, modern, industry, that, not, only, accepts, women, 's, work, on, a, grand, scale, but, formally, requires, it, ., ')</td>\n",
              "      <td>And this has become possible only within a large modern industry that not only accepts women's work on a grand scale but formally requires it.'</td>\n",
              "      <td>143</td>\n",
              "    </tr>\n",
              "    <tr>\n",
              "      <th>4869</th>\n",
              "      <td>The Second Sex</td>\n",
              "      <td>Simone de Beauvoir</td>\n",
              "      <td>feminism</td>\n",
              "      <td>(And, yet, the, very, worst, curse, when, one, is, a, woman)</td>\n",
              "      <td>And yet the very worst curse when one is a woman</td>\n",
              "      <td>48</td>\n",
              "    </tr>\n",
              "    <tr>\n",
              "      <th>...</th>\n",
              "      <td>...</td>\n",
              "      <td>...</td>\n",
              "      <td>...</td>\n",
              "      <td>...</td>\n",
              "      <td>...</td>\n",
              "      <td>...</td>\n",
              "    </tr>\n",
              "    <tr>\n",
              "      <th>3047</th>\n",
              "      <td>The Second Sex</td>\n",
              "      <td>Simone de Beauvoir</td>\n",
              "      <td>feminism</td>\n",
              "      <td>(You, should, always, dress, in, mourning, and, rags, ., ')</td>\n",
              "      <td>You should always dress in mourning and rags.'</td>\n",
              "      <td>46</td>\n",
              "    </tr>\n",
              "    <tr>\n",
              "      <th>883</th>\n",
              "      <td>The Second Sex</td>\n",
              "      <td>Simone de Beauvoir</td>\n",
              "      <td>feminism</td>\n",
              "      <td>(la, doctrine, freudienne)</td>\n",
              "      <td>la doctrine freudienne</td>\n",
              "      <td>22</td>\n",
              "    </tr>\n",
              "    <tr>\n",
              "      <th>7805</th>\n",
              "      <td>The Second Sex</td>\n",
              "      <td>Simone de Beauvoir</td>\n",
              "      <td>feminism</td>\n",
              "      <td>(la, doctrine, freudienne)</td>\n",
              "      <td>la doctrine freudienne</td>\n",
              "      <td>22</td>\n",
              "    </tr>\n",
              "    <tr>\n",
              "      <th>7971</th>\n",
              "      <td>The Second Sex</td>\n",
              "      <td>Simone de Beauvoir</td>\n",
              "      <td>feminism</td>\n",
              "      <td>(of, marriages, are, based, on, money, %, ), .)</td>\n",
              "      <td>of marriages are based on money %).</td>\n",
              "      <td>35</td>\n",
              "    </tr>\n",
              "    <tr>\n",
              "      <th>7972</th>\n",
              "      <td>The Second Sex</td>\n",
              "      <td>Simone de Beauvoir</td>\n",
              "      <td>feminism</td>\n",
              "      <td>(of, marriages, are, based, on, money, %, ), .)</td>\n",
              "      <td>of marriages are based on money %).</td>\n",
              "      <td>35</td>\n",
              "    </tr>\n",
              "  </tbody>\n",
              "</table>\n",
              "<p>65 rows × 6 columns</p>\n",
              "</div>"
            ],
            "text/plain": [
              "                title  ... sentence_length\n",
              "884    The Second Sex  ...              52\n",
              "12279  The Second Sex  ...              52\n",
              "934    The Second Sex  ...             143\n",
              "2065   The Second Sex  ...             143\n",
              "4869   The Second Sex  ...              48\n",
              "...               ...  ...             ...\n",
              "3047   The Second Sex  ...              46\n",
              "883    The Second Sex  ...              22\n",
              "7805   The Second Sex  ...              22\n",
              "7971   The Second Sex  ...              35\n",
              "7972   The Second Sex  ...              35\n",
              "\n",
              "[65 rows x 6 columns]"
            ]
          },
          "metadata": {
            "tags": []
          },
          "execution_count": 122
        }
      ]
    },
    {
      "cell_type": "code",
      "metadata": {
        "id": "ti-7vXDjTh0s"
      },
      "source": [
        "df = df.drop(df[df['sentence_str'].duplicated(keep=False)].index)"
      ],
      "execution_count": 123,
      "outputs": []
    },
    {
      "cell_type": "code",
      "metadata": {
        "colab": {
          "base_uri": "https://localhost:8080/"
        },
        "id": "eFT73wJCThrT",
        "outputId": "295dfbbd-502d-495d-be19-783df8e58857"
      },
      "source": [
        "len(df)"
      ],
      "execution_count": 124,
      "outputs": [
        {
          "output_type": "execute_result",
          "data": {
            "text/plain": [
              "13022"
            ]
          },
          "metadata": {
            "tags": []
          },
          "execution_count": 124
        }
      ]
    },
    {
      "cell_type": "markdown",
      "metadata": {
        "id": "5HnVnn1WHrTW"
      },
      "source": [
        "#### Check for Foreign Languages"
      ]
    },
    {
      "cell_type": "code",
      "metadata": {
        "colab": {
          "base_uri": "https://localhost:8080/"
        },
        "id": "SVcwhudjH5jY",
        "outputId": "e25435de-5c83-448b-ff5e-7db8fa987fdc"
      },
      "source": [
        "# checking for 'der', a common article in German\n",
        "len((df[df['sentence_str'].str.contains('\\sder\\s')]))"
      ],
      "execution_count": 125,
      "outputs": [
        {
          "output_type": "execute_result",
          "data": {
            "text/plain": [
              "0"
            ]
          },
          "metadata": {
            "tags": []
          },
          "execution_count": 125
        }
      ]
    },
    {
      "cell_type": "code",
      "metadata": {
        "colab": {
          "base_uri": "https://localhost:8080/"
        },
        "id": "jBzPHm8PH4XB",
        "outputId": "35c209eb-0c48-4e13-cf96-ea056ca8f4d2"
      },
      "source": [
        "# checking for 'il', a common article in French\n",
        "len(df[df['sentence_str'].str.contains('\\sil\\s')])"
      ],
      "execution_count": 126,
      "outputs": [
        {
          "output_type": "execute_result",
          "data": {
            "text/plain": [
              "0"
            ]
          },
          "metadata": {
            "tags": []
          },
          "execution_count": 126
        }
      ]
    },
    {
      "cell_type": "markdown",
      "metadata": {
        "id": "3Sd2rbDJHraR"
      },
      "source": [
        "### Lemmatize and Tokenize"
      ]
    },
    {
      "cell_type": "code",
      "metadata": {
        "id": "ziLKswX_Hrhd"
      },
      "source": [
        "from gensim.utils import simple_preprocess\n",
        "\n",
        "# use gensim to tokenize sentences\n",
        "df['tokenized_txt'] = df['sentence_str'].map(lambda x: simple_preprocess(x.lower(),deacc=True,\n",
        "                                                        max_len=200))\n",
        "\n",
        "# use spacey to get intelligent lemmatization\n",
        "def lemmatize_sentence(sentence):\n",
        "  lemmatized_txt = ''\n",
        "  for word in sentence:\n",
        "    lemmatized_txt += ' ' + str(word.lemma_)\n",
        "  return lemmatized_txt"
      ],
      "execution_count": 127,
      "outputs": []
    },
    {
      "cell_type": "code",
      "metadata": {
        "id": "8Sg_V1rxIdzJ"
      },
      "source": [
        "df['lemmatized_str'] = df['sentence_spacy'].apply(lemmatize_sentence)"
      ],
      "execution_count": 128,
      "outputs": []
    },
    {
      "cell_type": "code",
      "metadata": {
        "colab": {
          "base_uri": "https://localhost:8080/",
          "height": 1000
        },
        "id": "0pyznlhXId8n",
        "outputId": "303cd38d-f807-4011-cd61-23f168ffb9a3"
      },
      "source": [
        "df.sample(5)"
      ],
      "execution_count": 129,
      "outputs": [
        {
          "output_type": "execute_result",
          "data": {
            "text/html": [
              "<div>\n",
              "<style scoped>\n",
              "    .dataframe tbody tr th:only-of-type {\n",
              "        vertical-align: middle;\n",
              "    }\n",
              "\n",
              "    .dataframe tbody tr th {\n",
              "        vertical-align: top;\n",
              "    }\n",
              "\n",
              "    .dataframe thead th {\n",
              "        text-align: right;\n",
              "    }\n",
              "</style>\n",
              "<table border=\"1\" class=\"dataframe\">\n",
              "  <thead>\n",
              "    <tr style=\"text-align: right;\">\n",
              "      <th></th>\n",
              "      <th>title</th>\n",
              "      <th>author</th>\n",
              "      <th>school</th>\n",
              "      <th>sentence_spacy</th>\n",
              "      <th>sentence_str</th>\n",
              "      <th>sentence_length</th>\n",
              "      <th>tokenized_txt</th>\n",
              "      <th>lemmatized_str</th>\n",
              "    </tr>\n",
              "  </thead>\n",
              "  <tbody>\n",
              "    <tr>\n",
              "      <th>1818</th>\n",
              "      <td>The Second Sex</td>\n",
              "      <td>Simone de Beauvoir</td>\n",
              "      <td>feminism</td>\n",
              "      <td>(one, after, the, other, ,, Mme, de, Prie, ,, Mme, de, Mailly, ,, Mme, de, Ch, teauneuf, ,, Mme, de, Pompadour, ,, and, Mme, du, Barry, govern, Louis, there, is, barely, a, minister, without, his,...</td>\n",
              "      <td>one after the other, Mme de Prie, Mme de Mailly, Mme de Ch teauneuf, Mme de Pompadour, and Mme du Barry govern Louis there is barely a minister without his Egeria, to such a point that Montesquieu...</td>\n",
              "      <td>461</td>\n",
              "      <td>[one, after, the, other, mme, de, prie, mme, de, mailly, mme, de, ch, teauneuf, mme, de, pompadour, and, mme, du, barry, govern, louis, there, is, barely, minister, without, his, egeria, to, such,...</td>\n",
              "      <td>one after the other , Mme de Prie , Mme de Mailly , Mme de Ch teauneuf , Mme de Pompadour , and Mme du Barry govern Louis there be barely a minister without -PRON- Egeria , to such a point that M...</td>\n",
              "    </tr>\n",
              "    <tr>\n",
              "      <th>13560</th>\n",
              "      <td>The Second Sex</td>\n",
              "      <td>Simone de Beauvoir</td>\n",
              "      <td>feminism</td>\n",
              "      <td>(The, woman, has, to, understand, that, an, exchange, a, basic, law, of, political, economy, is, negotiated, according, to, the, value, the, proposed, merchandise, has, for, the, buyer, and, not, ...</td>\n",
              "      <td>The woman has to understand that an exchange a basic law of political economy is negotiated according to the value the proposed merchandise has for the buyer and not for the seller: she was duped ...</td>\n",
              "      <td>904</td>\n",
              "      <td>[the, woman, has, to, understand, that, an, exchange, basic, law, of, political, economy, is, negotiated, according, to, the, value, the, proposed, merchandise, has, for, the, buyer, and, not, for...</td>\n",
              "      <td>the woman have to understand that an exchange a basic law of political economy be negotiate accord to the value the propose merchandise have for the buyer and not for the seller : -PRON- be dupe ...</td>\n",
              "    </tr>\n",
              "    <tr>\n",
              "      <th>11854</th>\n",
              "      <td>The Second Sex</td>\n",
              "      <td>Simone de Beauvoir</td>\n",
              "      <td>feminism</td>\n",
              "      <td>(Socially, Manichaean, ,, the, woman, has, a, deep, need, to, be, ontologically, optimistic, :, the, moralities, of, action, do, not, suit, her, ,, since, it, is, forbidden, for, her, to, act, ;, ...</td>\n",
              "      <td>Socially Manichaean, the woman has a deep need to be ontologically optimistic: the moralities of action do not suit her, since it is forbidden for her to act; she submits to the given: so the give...</td>\n",
              "      <td>321</td>\n",
              "      <td>[socially, manichaean, the, woman, has, deep, need, to, be, ontologically, optimistic, the, moralities, of, action, do, not, suit, her, since, it, is, forbidden, for, her, to, act, she, submits, t...</td>\n",
              "      <td>socially Manichaean , the woman have a deep need to be ontologically optimistic : the morality of action do not suit -PRON- , since -PRON- be forbid for -PRON- to act ; -PRON- submit to the give ...</td>\n",
              "    </tr>\n",
              "    <tr>\n",
              "      <th>12435</th>\n",
              "      <td>The Second Sex</td>\n",
              "      <td>Simone de Beauvoir</td>\n",
              "      <td>feminism</td>\n",
              "      <td>(She, first, sought, in, love, a, confirmation, of, what, she, was, ,, her, past, ,, her, personage, ;, but, she, also, commits, her, future, :, to, justify, it, ,, she, destines, it, to, the, one...</td>\n",
              "      <td>She first sought in love a confirmation of what she was, her past, her personage; but she also commits her future: to justify it, she destines it to the one who possesses all values; she thus give...</td>\n",
              "      <td>293</td>\n",
              "      <td>[she, first, sought, in, love, confirmation, of, what, she, was, her, past, her, personage, but, she, also, commits, her, future, to, justify, it, she, destines, it, to, the, one, who, possesses, ...</td>\n",
              "      <td>-PRON- first seek in love a confirmation of what -PRON- be , -PRON- past , -PRON- personage ; but -PRON- also commit -PRON- future : to justify -PRON- , -PRON- destine -PRON- to the one who posse...</td>\n",
              "    </tr>\n",
              "    <tr>\n",
              "      <th>1380</th>\n",
              "      <td>The Second Sex</td>\n",
              "      <td>Simone de Beauvoir</td>\n",
              "      <td>feminism</td>\n",
              "      <td>(Woman, can, share, in, her, husband, 's, estate, if, the, son, proves, himself, unworthy, ;, if, she, is, a, ', privileged, wife, ,, ', she, is, entrusted, with, the, guardianship, of, minor, chi...</td>\n",
              "      <td>Woman can share in her husband's estate if the son proves himself unworthy; if she is a 'privileged wife,' she is entrusted with the guardianship of minor children in the case of her husband's dea...</td>\n",
              "      <td>263</td>\n",
              "      <td>[woman, can, share, in, her, husband, estate, if, the, son, proves, himself, unworthy, if, she, is, privileged, wife, she, is, entrusted, with, the, guardianship, of, minor, children, in, the, cas...</td>\n",
              "      <td>woman can share in -PRON- husband 's estate if the son prove -PRON- unworthy ; if -PRON- be a ' privileged wife , ' -PRON- be entrust with the guardianship of minor child in the case of -PRON- hu...</td>\n",
              "    </tr>\n",
              "  </tbody>\n",
              "</table>\n",
              "</div>"
            ],
            "text/plain": [
              "                title  ...                                                                                                                                                                                           lemmatized_str\n",
              "1818   The Second Sex  ...   one after the other , Mme de Prie , Mme de Mailly , Mme de Ch teauneuf , Mme de Pompadour , and Mme du Barry govern Louis there be barely a minister without -PRON- Egeria , to such a point that M...\n",
              "13560  The Second Sex  ...   the woman have to understand that an exchange a basic law of political economy be negotiate accord to the value the propose merchandise have for the buyer and not for the seller : -PRON- be dupe ...\n",
              "11854  The Second Sex  ...   socially Manichaean , the woman have a deep need to be ontologically optimistic : the morality of action do not suit -PRON- , since -PRON- be forbid for -PRON- to act ; -PRON- submit to the give ...\n",
              "12435  The Second Sex  ...   -PRON- first seek in love a confirmation of what -PRON- be , -PRON- past , -PRON- personage ; but -PRON- also commit -PRON- future : to justify -PRON- , -PRON- destine -PRON- to the one who posse...\n",
              "1380   The Second Sex  ...   woman can share in -PRON- husband 's estate if the son prove -PRON- unworthy ; if -PRON- be a ' privileged wife , ' -PRON- be entrust with the guardianship of minor child in the case of -PRON- hu...\n",
              "\n",
              "[5 rows x 8 columns]"
            ]
          },
          "metadata": {
            "tags": []
          },
          "execution_count": 129
        }
      ]
    },
    {
      "cell_type": "markdown",
      "metadata": {
        "id": "AJOxPwDpIeDT"
      },
      "source": [
        "### Combine with the Old Dataframe & Export to CSV"
      ]
    },
    {
      "cell_type": "code",
      "metadata": {
        "colab": {
          "base_uri": "https://localhost:8080/",
          "height": 1000
        },
        "id": "UU8QqgIXInkp",
        "outputId": "addbe9d5-e470-4798-8a2b-b4970e773c4c"
      },
      "source": [
        "# load the old version and check it out\n",
        "og_df = pd.read_csv('/gdrive/MyDrive/Colab_Projects/philosophy_data_project/philosophy_data.csv')\n",
        "og_df.sample(5)"
      ],
      "execution_count": 130,
      "outputs": [
        {
          "output_type": "execute_result",
          "data": {
            "text/html": [
              "<div>\n",
              "<style scoped>\n",
              "    .dataframe tbody tr th:only-of-type {\n",
              "        vertical-align: middle;\n",
              "    }\n",
              "\n",
              "    .dataframe tbody tr th {\n",
              "        vertical-align: top;\n",
              "    }\n",
              "\n",
              "    .dataframe thead th {\n",
              "        text-align: right;\n",
              "    }\n",
              "</style>\n",
              "<table border=\"1\" class=\"dataframe\">\n",
              "  <thead>\n",
              "    <tr style=\"text-align: right;\">\n",
              "      <th></th>\n",
              "      <th>title</th>\n",
              "      <th>author</th>\n",
              "      <th>school</th>\n",
              "      <th>sentence_spacy</th>\n",
              "      <th>sentence_str</th>\n",
              "      <th>sentence_length</th>\n",
              "      <th>sentence_lowered</th>\n",
              "      <th>tokenized_txt</th>\n",
              "      <th>lemmatized_str</th>\n",
              "      <th>sentence</th>\n",
              "    </tr>\n",
              "  </thead>\n",
              "  <tbody>\n",
              "    <tr>\n",
              "      <th>672</th>\n",
              "      <td>Plato - Complete Works</td>\n",
              "      <td>Plato</td>\n",
              "      <td>Plato</td>\n",
              "      <td>The jury now gives its verdict of guilty, and Meletus asks for the penalty of death.</td>\n",
              "      <td>The jury now gives its verdict of guilty, and Meletus asks for the penalty of death.</td>\n",
              "      <td>84</td>\n",
              "      <td>the jury now gives its verdict of guilty, and meletus asks for the penalty of death.</td>\n",
              "      <td>['the', 'jury', 'now', 'gives', 'its', 'verdict', 'of', 'guilty', 'and', 'meletus', 'asks', 'for', 'the', 'penalty', 'of', 'death']</td>\n",
              "      <td>the jury now give -PRON- verdict of guilty , and Meletus ask for the penalty of death .</td>\n",
              "      <td>The jury now gives its verdict of guilty, and Meletus asks for the penalty of death.</td>\n",
              "    </tr>\n",
              "    <tr>\n",
              "      <th>10148</th>\n",
              "      <td>Plato - Complete Works</td>\n",
              "      <td>Plato</td>\n",
              "      <td>Plato</td>\n",
              "      <td>And though it's not quite fair to those of us who have to speak last, if the first speeches turn out to be good enough and to exhaust our subject, I promise we won't complain.</td>\n",
              "      <td>And though it's not quite fair to those of us who have to speak last, if the first speeches turn out to be good enough and to exhaust our subject, I promise we won't complain.</td>\n",
              "      <td>175</td>\n",
              "      <td>and though it's not quite fair to those of us who have to speak last, if the first speeches turn out to be good enough and to exhaust our subject, i promise we won't complain.</td>\n",
              "      <td>['and', 'though', 'it', 'not', 'quite', 'fair', 'to', 'those', 'of', 'us', 'who', 'have', 'to', 'speak', 'last', 'if', 'the', 'first', 'speeches', 'turn', 'out', 'to', 'be', 'good', 'enough', 'and...</td>\n",
              "      <td>and though -PRON- be not quite fair to those of -PRON- who have to speak last , if the first speech turn out to be good enough and to exhaust -PRON- subject , -PRON- promise -PRON- will not compl...</td>\n",
              "      <td>And though it's not quite fair to those of us who have to speak last, if the first speeches turn out to be good enough and to exhaust our subject, I promise we won't complain.</td>\n",
              "    </tr>\n",
              "    <tr>\n",
              "      <th>293493</th>\n",
              "      <td>Capital</td>\n",
              "      <td>Marx</td>\n",
              "      <td>Communism</td>\n",
              "      <td>On this supposition, the half hours yield an annual product of one half hour yields half hours yield .e.</td>\n",
              "      <td>On this supposition, the half hours yield an annual product of one half hour yields half hours yield .e.</td>\n",
              "      <td>104</td>\n",
              "      <td>on this supposition, the half hours yield an annual product of one half hour yields half hours yield .e.</td>\n",
              "      <td>['on', 'this', 'supposition', 'the', 'half', 'hours', 'yield', 'an', 'annual', 'product', 'of', 'one', 'half', 'hour', 'yields', 'half', 'hours', 'yield']</td>\n",
              "      <td>on this supposition , the half hour yield an annual product of one half hour yield half hour yield .e .</td>\n",
              "      <td>On this supposition, the half hours yield an annual product of one half hour yields half hours yield .e.</td>\n",
              "    </tr>\n",
              "    <tr>\n",
              "      <th>52442</th>\n",
              "      <td>Aristotle - Complete Works</td>\n",
              "      <td>Aristotle</td>\n",
              "      <td>Aristotle</td>\n",
              "      <td>They are thus affected because they have never contemplated what is nobler the Universe and the greatest things of the Universe; for if they had properly attended to these things, they would.</td>\n",
              "      <td>They are thus affected because they have never contemplated what is nobler the Universe and the greatest things of the Universe; for if they had properly attended to these things, they would.</td>\n",
              "      <td>191</td>\n",
              "      <td>they are thus affected because they have never contemplated what is nobler the universe and the greatest things of the universe; for if they had properly attended to these things, they would.</td>\n",
              "      <td>['they', 'are', 'thus', 'affected', 'because', 'they', 'have', 'never', 'contemplated', 'what', 'is', 'nobler', 'the', 'universe', 'and', 'the', 'greatest', 'things', 'of', 'the', 'universe', 'for...</td>\n",
              "      <td>-PRON- be thus affect because -PRON- have never contemplate what be noble the Universe and the great thing of the Universe ; for if -PRON- have properly attend to these thing , -PRON- would .</td>\n",
              "      <td>They are thus affected because they have never contemplated what is nobler the Universe and the greatest things of the Universe; for if they had properly attended to these things, they would.</td>\n",
              "    </tr>\n",
              "    <tr>\n",
              "      <th>81504</th>\n",
              "      <td>Aristotle - Complete Works</td>\n",
              "      <td>Aristotle</td>\n",
              "      <td>Aristotle</td>\n",
              "      <td>Each of these three admits of two varieties.</td>\n",
              "      <td>Each of these three admits of two varieties.</td>\n",
              "      <td>44</td>\n",
              "      <td>each of these three admits of two varieties.</td>\n",
              "      <td>['each', 'of', 'these', 'three', 'admits', 'of', 'two', 'varieties']</td>\n",
              "      <td>each of these three admit of two variety .</td>\n",
              "      <td>Each of these three admits of two varieties.</td>\n",
              "    </tr>\n",
              "  </tbody>\n",
              "</table>\n",
              "</div>"
            ],
            "text/plain": [
              "                             title  ...                                                                                                                                                                                         sentence\n",
              "672         Plato - Complete Works  ...                                                                                                             The jury now gives its verdict of guilty, and Meletus asks for the penalty of death.\n",
              "10148       Plato - Complete Works  ...                  And though it's not quite fair to those of us who have to speak last, if the first speeches turn out to be good enough and to exhaust our subject, I promise we won't complain.\n",
              "293493                     Capital  ...                                                                                         On this supposition, the half hours yield an annual product of one half hour yields half hours yield .e.\n",
              "52442   Aristotle - Complete Works  ...  They are thus affected because they have never contemplated what is nobler the Universe and the greatest things of the Universe; for if they had properly attended to these things, they would.\n",
              "81504   Aristotle - Complete Works  ...                                                                                                                                                     Each of these three admits of two varieties.\n",
              "\n",
              "[5 rows x 10 columns]"
            ]
          },
          "metadata": {
            "tags": []
          },
          "execution_count": 130
        }
      ]
    },
    {
      "cell_type": "code",
      "metadata": {
        "colab": {
          "base_uri": "https://localhost:8080/"
        },
        "id": "XfwEX5vzInx0",
        "outputId": "16a65c93-0fab-4103-89be-707e1e940394"
      },
      "source": [
        "og_df['author'].value_counts(normalize=True)"
      ],
      "execution_count": 131,
      "outputs": [
        {
          "output_type": "execute_result",
          "data": {
            "text/plain": [
              "Aristotle          0.142557\n",
              "Plato              0.112125\n",
              "Hegel              0.066341\n",
              "Foucault           0.044539\n",
              "Heidegger          0.044536\n",
              "Kant               0.041289\n",
              "Nietzsche          0.039594\n",
              "Marx               0.039422\n",
              "Lewis              0.038343\n",
              "Malebranche        0.037984\n",
              "Deleuze            0.036648\n",
              "Kripke             0.036470\n",
              "Smith              0.034173\n",
              "Wittgenstein       0.026402\n",
              "Locke              0.025966\n",
              "Hume               0.024292\n",
              "Merleau-Ponty      0.022188\n",
              "Quine              0.021548\n",
              "Derrida            0.017532\n",
              "Husserl            0.016781\n",
              "Fichte             0.015513\n",
              "Russell            0.014826\n",
              "Leibniz            0.014691\n",
              "Popper             0.013671\n",
              "Lenin              0.013061\n",
              "Spinoza            0.011085\n",
              "Moore              0.010720\n",
              "Keynes             0.009969\n",
              "Ricardo            0.009031\n",
              "Berkeley           0.007990\n",
              "Marcus Aurelius    0.006465\n",
              "Descartes          0.003308\n",
              "Epictetus          0.000944\n",
              "Name: author, dtype: float64"
            ]
          },
          "metadata": {
            "tags": []
          },
          "execution_count": 131
        }
      ]
    },
    {
      "cell_type": "code",
      "metadata": {
        "colab": {
          "base_uri": "https://localhost:8080/"
        },
        "id": "VQcxBh37IoDJ",
        "outputId": "0f3051bf-b102-4785-8aa9-71449e9a3c5b"
      },
      "source": [
        "# append the new data\n",
        "new_df = og_df.append(df)\n",
        "new_df['author'].value_counts(normalize=True)"
      ],
      "execution_count": 132,
      "outputs": [
        {
          "output_type": "execute_result",
          "data": {
            "text/plain": [
              "Aristotle             0.137330\n",
              "Plato                 0.108014\n",
              "Hegel                 0.063909\n",
              "Foucault              0.042906\n",
              "Heidegger             0.042903\n",
              "Kant                  0.039775\n",
              "Nietzsche             0.038142\n",
              "Marx                  0.037976\n",
              "Lewis                 0.036937\n",
              "Simone de Beauvoir    0.036662\n",
              "Malebranche           0.036591\n",
              "Deleuze               0.035305\n",
              "Kripke                0.035133\n",
              "Smith                 0.032920\n",
              "Wittgenstein          0.025434\n",
              "Locke                 0.025014\n",
              "Hume                  0.023401\n",
              "Merleau-Ponty         0.021374\n",
              "Quine                 0.020758\n",
              "Derrida               0.016889\n",
              "Husserl               0.016166\n",
              "Fichte                0.014944\n",
              "Russell               0.014282\n",
              "Leibniz               0.014153\n",
              "Popper                0.013170\n",
              "Lenin                 0.012582\n",
              "Spinoza               0.010679\n",
              "Moore                 0.010327\n",
              "Keynes                0.009603\n",
              "Ricardo               0.008699\n",
              "Berkeley              0.007697\n",
              "Marcus Aurelius       0.006228\n",
              "Descartes             0.003187\n",
              "Epictetus             0.000909\n",
              "Name: author, dtype: float64"
            ]
          },
          "metadata": {
            "tags": []
          },
          "execution_count": 132
        }
      ]
    },
    {
      "cell_type": "code",
      "metadata": {
        "colab": {
          "base_uri": "https://localhost:8080/",
          "height": 17
        },
        "id": "ncmXLdXuIoMl",
        "outputId": "62d183c1-981c-4e7b-9de6-a7c85ce3fdbf"
      },
      "source": [
        "# export as csv\n",
        "from google.colab import files\n",
        "new_df.to_csv('phil_nlp.csv', index=False) \n",
        "files.download('phil_nlp.csv')"
      ],
      "execution_count": 133,
      "outputs": [
        {
          "output_type": "display_data",
          "data": {
            "application/javascript": [
              "\n",
              "    async function download(id, filename, size) {\n",
              "      if (!google.colab.kernel.accessAllowed) {\n",
              "        return;\n",
              "      }\n",
              "      const div = document.createElement('div');\n",
              "      const label = document.createElement('label');\n",
              "      label.textContent = `Downloading \"${filename}\": `;\n",
              "      div.appendChild(label);\n",
              "      const progress = document.createElement('progress');\n",
              "      progress.max = size;\n",
              "      div.appendChild(progress);\n",
              "      document.body.appendChild(div);\n",
              "\n",
              "      const buffers = [];\n",
              "      let downloaded = 0;\n",
              "\n",
              "      const channel = await google.colab.kernel.comms.open(id);\n",
              "      // Send a message to notify the kernel that we're ready.\n",
              "      channel.send({})\n",
              "\n",
              "      for await (const message of channel.messages) {\n",
              "        // Send a message to notify the kernel that we're ready.\n",
              "        channel.send({})\n",
              "        if (message.buffers) {\n",
              "          for (const buffer of message.buffers) {\n",
              "            buffers.push(buffer);\n",
              "            downloaded += buffer.byteLength;\n",
              "            progress.value = downloaded;\n",
              "          }\n",
              "        }\n",
              "      }\n",
              "      const blob = new Blob(buffers, {type: 'application/binary'});\n",
              "      const a = document.createElement('a');\n",
              "      a.href = window.URL.createObjectURL(blob);\n",
              "      a.download = filename;\n",
              "      div.appendChild(a);\n",
              "      a.click();\n",
              "      div.remove();\n",
              "    }\n",
              "  "
            ],
            "text/plain": [
              "<IPython.core.display.Javascript object>"
            ]
          },
          "metadata": {
            "tags": []
          }
        },
        {
          "output_type": "display_data",
          "data": {
            "application/javascript": [
              "download(\"download_0d8b6c5f-d8bf-49fc-a9bb-facde6639626\", \"phil_nlp.csv\", 366726602)"
            ],
            "text/plain": [
              "<IPython.core.display.Javascript object>"
            ]
          },
          "metadata": {
            "tags": []
          }
        }
      ]
    },
    {
      "cell_type": "markdown",
      "metadata": {
        "id": "vz0aj3NrECm3"
      },
      "source": [
        "###Upload Data to the SQL Server"
      ]
    },
    {
      "cell_type": "code",
      "metadata": {
        "colab": {
          "base_uri": "https://localhost:8080/",
          "height": 364
        },
        "id": "bW76POWkJL-b",
        "outputId": "ed13d446-3e99-45ab-c332-83359751e321"
      },
      "source": [
        "# prepare to upload to the PostgreSQL database\n",
        "for_db = df\n",
        "for_db['sentence'] = for_db['sentence_str']\n",
        "for_db['school'] = for_db['school'].apply(lambda x: x.replace('_', ' ').title())\n",
        "for_db = for_db.drop(['sentence_spacy', 'sentence_length', 'sentence_str', 'tokenized_txt', 'lemmatized_str'], axis=1)\n",
        "for_db.columns = [i.upper() for i in for_db.columns]\n",
        "\n",
        "for_db.sample(5)"
      ],
      "execution_count": 134,
      "outputs": [
        {
          "output_type": "execute_result",
          "data": {
            "text/html": [
              "<div>\n",
              "<style scoped>\n",
              "    .dataframe tbody tr th:only-of-type {\n",
              "        vertical-align: middle;\n",
              "    }\n",
              "\n",
              "    .dataframe tbody tr th {\n",
              "        vertical-align: top;\n",
              "    }\n",
              "\n",
              "    .dataframe thead th {\n",
              "        text-align: right;\n",
              "    }\n",
              "</style>\n",
              "<table border=\"1\" class=\"dataframe\">\n",
              "  <thead>\n",
              "    <tr style=\"text-align: right;\">\n",
              "      <th></th>\n",
              "      <th>TITLE</th>\n",
              "      <th>AUTHOR</th>\n",
              "      <th>SCHOOL</th>\n",
              "      <th>SENTENCE</th>\n",
              "    </tr>\n",
              "  </thead>\n",
              "  <tbody>\n",
              "    <tr>\n",
              "      <th>5060</th>\n",
              "      <td>The Second Sex</td>\n",
              "      <td>Simone de Beauvoir</td>\n",
              "      <td>Feminism</td>\n",
              "      <td>But what is very important is that there is no fundamental opposition between this objective figure that is his and his will for self affirmation in concrete projects.</td>\n",
              "    </tr>\n",
              "    <tr>\n",
              "      <th>488</th>\n",
              "      <td>The Second Sex</td>\n",
              "      <td>Simone de Beauvoir</td>\n",
              "      <td>Feminism</td>\n",
              "      <td>For termites, the enormous mush stuffed queen that lays an egg a second until she is sterile and then is pitilessly massacred is no less a slave than the dwarf male attached to her abdomen that fe...</td>\n",
              "    </tr>\n",
              "    <tr>\n",
              "      <th>12644</th>\n",
              "      <td>The Second Sex</td>\n",
              "      <td>Simone de Beauvoir</td>\n",
              "      <td>Feminism</td>\n",
              "      <td>I thought it would never end waiting for you, and now I feel it went too quickly since I did not see you.'</td>\n",
              "    </tr>\n",
              "    <tr>\n",
              "      <th>10367</th>\n",
              "      <td>The Second Sex</td>\n",
              "      <td>Simone de Beauvoir</td>\n",
              "      <td>Feminism</td>\n",
              "      <td>Her erotic qualities are integrated into social life and can only appear in this toned down form.</td>\n",
              "    </tr>\n",
              "    <tr>\n",
              "      <th>4121</th>\n",
              "      <td>The Second Sex</td>\n",
              "      <td>Simone de Beauvoir</td>\n",
              "      <td>Feminism</td>\n",
              "      <td>So it was good for him to love me?</td>\n",
              "    </tr>\n",
              "  </tbody>\n",
              "</table>\n",
              "</div>"
            ],
            "text/plain": [
              "                TITLE  ...                                                                                                                                                                                                 SENTENCE\n",
              "5060   The Second Sex  ...                                  But what is very important is that there is no fundamental opposition between this objective figure that is his and his will for self affirmation in concrete projects.\n",
              "488    The Second Sex  ...  For termites, the enormous mush stuffed queen that lays an egg a second until she is sterile and then is pitilessly massacred is no less a slave than the dwarf male attached to her abdomen that fe...\n",
              "12644  The Second Sex  ...                                                                                               I thought it would never end waiting for you, and now I feel it went too quickly since I did not see you.'\n",
              "10367  The Second Sex  ...                                                                                                        Her erotic qualities are integrated into social life and can only appear in this toned down form.\n",
              "4121   The Second Sex  ...                                                                                                                                                                       So it was good for him to love me?\n",
              "\n",
              "[5 rows x 4 columns]"
            ]
          },
          "metadata": {
            "tags": []
          },
          "execution_count": 134
        }
      ]
    },
    {
      "cell_type": "code",
      "metadata": {
        "colab": {
          "base_uri": "https://localhost:8080/"
        },
        "id": "hWSVKbmoVaAW",
        "outputId": "41f1fbc4-6d72-42f1-99cd-810a39ec9c8f"
      },
      "source": [
        "len(for_db)"
      ],
      "execution_count": 135,
      "outputs": [
        {
          "output_type": "execute_result",
          "data": {
            "text/plain": [
              "13022"
            ]
          },
          "metadata": {
            "tags": []
          },
          "execution_count": 135
        }
      ]
    },
    {
      "cell_type": "code",
      "metadata": {
        "colab": {
          "base_uri": "https://localhost:8080/"
        },
        "id": "Mni3N-fyK-jZ",
        "outputId": "f655c962-9ac6-4c1f-9abb-d5be68539edc"
      },
      "source": [
        "#importing sql library \n",
        "from sqlalchemy import create_engine \n",
        "  \n",
        "# create a reference  \n",
        "# for sql library \n",
        "engine = create_engine(URL,\n",
        "                       echo = False)\n",
        "  \n",
        "# attach the data frame to the sql  \n",
        "for_db.to_sql('phil_nlp', \n",
        "               con = engine,\n",
        "              if_exists='append') \n",
        "  \n",
        "# # show the complete data \n",
        "print(engine.execute(\"\"\"SELECT * FROM phil_nlp WHERE \"AUTHOR\" = 'Simone de Beauvoir'\"\"\").fetchone()) "
      ],
      "execution_count": 136,
      "outputs": [
        {
          "output_type": "stream",
          "text": [
            "(294, 'The Second Sex', 'Simone de Beauvoir', 'Feminism', \"Literal translation: 'different but equal.' .\")\n"
          ],
          "name": "stdout"
        }
      ]
    },
    {
      "cell_type": "markdown",
      "metadata": {
        "id": "2NxRYDdaLGW2"
      },
      "source": [
        "Remember to add to the clipping and other elements to the notebook that creates the database as a whole. Then you're done!"
      ]
    },
    {
      "cell_type": "code",
      "metadata": {
        "id": "GK50YeA-LNtD"
      },
      "source": [
        ""
      ],
      "execution_count": null,
      "outputs": []
    }
  ]
}