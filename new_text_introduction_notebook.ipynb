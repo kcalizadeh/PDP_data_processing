{
  "nbformat": 4,
  "nbformat_minor": 0,
  "metadata": {
    "colab": {
      "name": "new_text_introduction_notebook.ipynb",
      "provenance": [],
      "toc_visible": true,
      "authorship_tag": "ABX9TyO+2MEfWFhSJ6DdV/BCi/aX",
      "include_colab_link": true
    },
    "kernelspec": {
      "name": "python3",
      "display_name": "Python 3"
    },
    "language_info": {
      "name": "python"
    }
  },
  "cells": [
    {
      "cell_type": "markdown",
      "metadata": {
        "id": "view-in-github",
        "colab_type": "text"
      },
      "source": [
        "<a href=\"https://colab.research.google.com/github/kcalizadeh/PDP_data_processing/blob/master/new_text_introduction_notebook.ipynb\" target=\"_parent\"><img src=\"https://colab.research.google.com/assets/colab-badge.svg\" alt=\"Open In Colab\"/></a>"
      ]
    },
    {
      "cell_type": "markdown",
      "metadata": {
        "id": "7Cw_rJlXCob_"
      },
      "source": [
        "### Imports and Mounting Drive"
      ]
    },
    {
      "cell_type": "code",
      "metadata": {
        "colab": {
          "base_uri": "https://localhost:8080/"
        },
        "id": "nN4DvDsxCdio",
        "outputId": "7c139aba-6262-4548-c27f-a93817fc618e"
      },
      "source": [
        "# this cell mounts drive, sets the correct directory, then imports all functions\n",
        "# and relevant libraries via the functions.py file\n",
        "from google.colab import drive\n",
        "import sys\n",
        "\n",
        "drive.mount('/gdrive',force_remount=True)\n",
        "\n",
        "drive_path = '/gdrive/MyDrive/Colab_Projects/philosophy_data_project'\n",
        "\n",
        "sys.path.append(drive_path)"
      ],
      "execution_count": 6,
      "outputs": [
        {
          "output_type": "stream",
          "text": [
            "Mounted at /gdrive\n"
          ],
          "name": "stdout"
        }
      ]
    },
    {
      "cell_type": "code",
      "metadata": {
        "id": "EAk2WGLbCn3t"
      },
      "source": [
        "from import_functions import *"
      ],
      "execution_count": 7,
      "outputs": []
    },
    {
      "cell_type": "code",
      "metadata": {
        "id": "fV19sbpUC2PF",
        "colab": {
          "base_uri": "https://localhost:8080/"
        },
        "outputId": "18336a53-f2e9-491c-e8d2-6eaf5d6de470"
      },
      "source": [
        "import spacy.cli\n",
        "spacy.cli.download(\"en_core_web_lg\")\n",
        "import en_core_web_lg\n",
        "nlp = en_core_web_lg.load()"
      ],
      "execution_count": 8,
      "outputs": [
        {
          "output_type": "stream",
          "text": [
            "\u001b[38;5;2m✔ Download and installation successful\u001b[0m\n",
            "You can now load the model via spacy.load('en_core_web_lg')\n"
          ],
          "name": "stdout"
        }
      ]
    },
    {
      "cell_type": "markdown",
      "metadata": {
        "id": "PbT8yZ0pC30A"
      },
      "source": [
        "###Load the Text and Clip Front and End Matter"
      ]
    },
    {
      "cell_type": "code",
      "metadata": {
        "id": "G-MzN2T2DUYm"
      },
      "source": [
        "# if you are deleting an old text that was added here, make sure it is in the \n",
        "# primary database construction notebook\n",
        "kierkegaard_fear_trembling = get_text(drive_path + '/phil_txts/kierkegaard_fear_and_trembling.txt', encoding='utf-16')"
      ],
      "execution_count": 93,
      "outputs": []
    },
    {
      "cell_type": "code",
      "metadata": {
        "id": "0eilq25ib1Ba"
      },
      "source": [
        "kierkegaard_fear_trembling = kierkegaard_fear_trembling[348:]"
      ],
      "execution_count": 94,
      "outputs": []
    },
    {
      "cell_type": "code",
      "metadata": {
        "id": "WuWrhYwOUbck"
      },
      "source": [
        ""
      ],
      "execution_count": 94,
      "outputs": []
    },
    {
      "cell_type": "markdown",
      "metadata": {
        "id": "suHuy6isDUiC"
      },
      "source": [
        "### Clean the Text\n",
        "\n"
      ]
    },
    {
      "cell_type": "code",
      "metadata": {
        "id": "4lfFHzvnDUpf"
      },
      "source": [
        "def baseline_clean(to_correct, \n",
        "                   capitals=True, \n",
        "                   bracketed_fn=False, \n",
        "                   odd_words_dict={}):\n",
        "  # remove utf8 encoding characters and some punctuations\n",
        "  result = re.sub(r'[\\x00-\\x08\\x0b\\x0c\\x0e-\\x1f\\x7f-\\xff\\xad\\x0c6§\\\\\\£\\Â*_<>\"\"⎫•{}Γ~]', ' ', to_correct)\n",
        "  result = re.sub(r'[\\u2014\\u2013\\u2012-]', ' ', result)\n",
        "\n",
        "  # replace whitespace characters with actual whitespace\n",
        "  result = re.sub(r'\\s', ' ', result)\n",
        "\n",
        "  # replace odd quotation marks with a standard\n",
        "  result = re.sub(r'[‘’“”]', \"'\", result)\n",
        "\n",
        "  # replace the ﬀ, ﬃ and ﬁ with the appropriate counterparts\n",
        "  result = re.sub(r'ﬀ', 'ff', result)\n",
        "  result = re.sub(r'ﬁ', 'fi', result)\n",
        "  result = re.sub(r'ﬃ', 'ffi', result)\n",
        "\n",
        "  # replace some accented characters for ease of searching\n",
        "  result = re.sub(r'é', 'e', result)\n",
        "\n",
        "  # remove or standardize some recurring common and meaninless words/phrases\n",
        "  result = re.sub(r'\\s*This\\s*page\\s*intentionally\\s*left\\s*blank\\s*', ' ', result)\n",
        "  result = re.sub(r'(?i)Aufgabe\\s+', ' ', result)\n",
        "  result = re.sub(r',*\\s+cf\\.', ' ', result)\n",
        "\n",
        "  # some texts have footnotes conveniently in brackets - this removes them all, \n",
        "  # with a safety measure for unpaired brackets, and deletes all brackets afterwards\n",
        "  if bracketed_fn:\n",
        "    result = re.sub(r'\\[.{0,300}\\]|{.{0,300}}|{.{0,300}\\]|\\[.{0,300}}', ' ', result)\n",
        "  result = re.sub(r'[\\[\\]{}]', ' ', result)\n",
        "\n",
        "  # unify some abbreviations\n",
        "  result = re.sub(r'&', 'and', result)\n",
        "  result = re.sub(r'\\se\\.g\\.\\s', ' eg ', result)\n",
        "  result = re.sub(r'\\si\\.e\\.\\s', ' ie ', result)\n",
        "  result = re.sub('coroll\\.', 'coroll', result)\n",
        "  result = re.sub('pt\\.', 'pt', result)\n",
        "\n",
        "  # remove roman numerals, first capitalized ones\n",
        "  result = re.sub(r'\\s((I{2,}V*X*\\.*)|(IV\\.*)|(IX\\.*)|(V\\.*)|(V+I*\\.*)|(X+L*V*I*]\\.*))\\s', ' ', result)\n",
        "  # then lowercase\n",
        "  result = re.sub(r'\\s((i{2,}v*x*\\.*)|(iv\\.*)|(ix\\.*)|(v\\.*)|(v+i*\\.*)|(x+l*v*i*\\.*))\\s', ' ', result)\n",
        "\n",
        "  # remove periods and commas flanked by numbers\n",
        "  result = re.sub(r'\\d\\.\\d', ' ', result)\n",
        "  result = re.sub(r'\\d,\\d', ' ', result)\n",
        "\n",
        "  # remove the number-letter-number pattern used for many citations\n",
        "  result = re.sub(r'\\d*\\w{,2}\\d', ' ', result)\n",
        "\n",
        "  # remove numerical characters\n",
        "  result = re.sub(r'\\d+', ' ', result)\n",
        "\n",
        "  # remove words of 2+ characters that are entirely capitalized \n",
        "  # (these are almost always titles, headings, or speakers in a dialogue)\n",
        "  # remove capital I's that follow capital words - these almost always roman numerals\n",
        "  # some texts do use these capitalizations meaningfully, so we make this optional\n",
        "  if capitals:\n",
        "    result = re.sub(r'[A-Z]{2,}\\s+I', ' ', result)\n",
        "    result = re.sub(r'[A-Z]{2,}', ' ', result)\n",
        "\n",
        "  # remove isolated colons and semicolons that result from removal of titles\n",
        "  result = re.sub(r'\\s+:\\s*', ' ', result)\n",
        "  result = re.sub(r'\\s+;\\s*', ' ', result)\n",
        "\n",
        "  # remove isolated letters (do it several times because strings of isolated letters do not get captured properly)\n",
        "  result = re.sub(r'\\s[^aAI\\.]\\s', ' ', result)\n",
        "  result = re.sub(r'\\s[^aAI\\.]\\s', ' ', result)\n",
        "  result = re.sub(r'\\s[^aAI\\.]\\s', ' ', result)\n",
        "  result = re.sub(r'\\s[^aAI\\.]\\s', ' ', result)\n",
        "  result = re.sub(r'\\s[^aAI\\.]\\s', ' ', result)\n",
        "  result = re.sub(r'\\s[^aAI\\.]\\s', ' ', result)\n",
        "\n",
        "  # remove isolated letters at the end of sentences or before commas\n",
        "  result = re.sub(r'\\s[^aI]\\.', '.', result)\n",
        "  result = re.sub(r'\\s[^aI],', ',', result)\n",
        "\n",
        "  # deal with spaces around periods and commas\n",
        "  result = re.sub(r'\\s+,\\s+', ', ', result)\n",
        "  result = re.sub(r'\\s+\\.\\s+', '. ', result)\n",
        "\n",
        "  # remove empty parantheses\n",
        "  result = re.sub(r'(\\(\\s*\\.*\\s*\\))|(\\(\\s*,*\\s*)\\)', ' ', result)\n",
        "  result = re.sub(r'\\.\\)\\.', '.', result)\n",
        "  result = re.sub(r'\\.\\(\\.', '.', result)\n",
        "\n",
        "  # reduce multiple periods, commas, or whitespaces into a single one\n",
        "  result = re.sub(r'\\.+', '.', result)\n",
        "  result = re.sub(r',+', ',', result)\n",
        "  result = re.sub(r'\\s+', ' ', result)\n",
        "\n",
        "  # deal with isolated problem cases discovered in the data:\n",
        "  for key in odd_words_dict.keys():\n",
        "    result = re.sub(r''+key+'', odd_words_dict[key], result)\n",
        "\n",
        "  return result"
      ],
      "execution_count": 95,
      "outputs": []
    },
    {
      "cell_type": "code",
      "metadata": {
        "id": "1OjRlTV_EEHM"
      },
      "source": [
        "# note extras like bracketed footnotes or specific words to remove\n"
      ],
      "execution_count": 96,
      "outputs": []
    },
    {
      "cell_type": "code",
      "metadata": {
        "id": "V6Y9RIRBED-F"
      },
      "source": [
        "# build a dictionary for the book\n",
        "kierkegaard_fear_trembling_dict = {\n",
        "    'author': 'Kierkegaard',\n",
        "    'title': 'Fear and Trembling',\n",
        "    'text': kierkegaard_fear_trembling,\n",
        "    'school': 'Kierkegaard',\n",
        "    'words to remove': [],\n",
        "    'remove capitals': True,\n",
        "    'bracketed fn': False,\n",
        "    'original date': 1843,\n",
        "    'corpus date': 1941\n",
        "}"
      ],
      "execution_count": 97,
      "outputs": []
    },
    {
      "cell_type": "code",
      "metadata": {
        "id": "7fkWlxhoIOjA",
        "cellView": "form"
      },
      "source": [
        "#@title Oddities Dictionary for Cleaning\n",
        "# a dictionary of oddities to clean up\n",
        "odd_words_dict = {'\\sderstanding': 'derstanding',\n",
        "                  '\\sditference\\s': ' difference ',\n",
        "                  '\\sforthe\\s': ' for the ',\n",
        "                  '\\sject': 'ject',\n",
        "                  '\\sSure ly\\s': ' Surely ',\n",
        "                  '\\spiness': 'piness',\n",
        "                  '\\sjects': 'jects', \n",
        "                  '\\sness': 'ness',\n",
        "                  '\\schil dren\\s': ' children ',\n",
        "                  '\\sper\\scent\\s': ' percent ',\n",
        "                  '\\sper\\scent\\.': ' percent.',\n",
        "                  '\\sper\\scent,': ' percent,',\n",
        "                  '\\wi\\son': 'ion',\n",
        "                  '\\spri\\sori': ' priori',\n",
        "                  '\\stences\\s': 'tences ',\n",
        "                  '\\sprincipleb': ' principle',\n",
        "                  '\\ssciousness': 'sciousness',\n",
        "                  '\\stion': 'tion',\n",
        "                  '\\spri\\s': ' pri',\n",
        "                  '\\scluding': 'cluding',\n",
        "                  '\\sdom': 'dom',\n",
        "                  '\\sers': 'ers',\n",
        "                  '\\scritiq\\s': ' critique ',\n",
        "                  '\\ssensati\\s': ' sensation ',\n",
        "                  '(?i)\\syou\\sll': \" you'll\",\n",
        "                  '\\sI\\sll': \" I'll\",\n",
        "                  '(?i)\\swe\\sll': \" we'll\",\n",
        "                  '(?i)he\\sll': \" he'll\",\n",
        "                  '(?i)who\\sll': \"who'll\",\n",
        "                  '(?i)\\sthere\\sll\\s': \" there'll \",\n",
        "                  '\\seduca\\s': ' education ',\n",
        "                  '\\slity\\s': 'lity ',\n",
        "                  '\\smultaneously\\s': 'multaneously ',\n",
        "                  '\\stically\\s': 'tically ',\n",
        "                  '\\sDa\\ssein\\s': ' Dasein ',\n",
        "                  '(?i)\\sthey\\sll\\s': \" they'll \",\n",
        "                  '(?i)\\sin\\tum\\s': ' in turn ',\n",
        "                  '\\scon~\\s': ' con',\n",
        "                  '\\sà\\s': ' a ',\n",
        "                  '\\sjor\\s': ' for ',\n",
        "                  '\\sluminating\\s': 'luminating ',\n",
        "                  '\\sselj\\s': ' self ',\n",
        "                  '\\stial\\s': 'tial ',\n",
        "                  '\\sversal\\s': 'versal ',\n",
        "                  '\\sexis\\st': ' exist',\n",
        "                  '\\splauded\\s': 'plauded ',\n",
        "                  '\\suiry\\s': 'uiry ',\n",
        "                  '\\svithin\\s': ' within ',\n",
        "                  '\\soj\\s': ' of ',\n",
        "                  '\\sposi\\st': ' posit',\n",
        "                  '\\sra\\sther\\s': ' rather ',\n",
        "                  '(?i)\\sthat\\sll\\s': \" that'll \",\n",
        "                  '(?i)\\sa\\sll\\s': ' all ',\n",
        "                  '\\so\\sther\\s': ' other ',\n",
        "                  '\\sra\\sther\\s': ' rather ',\n",
        "                  '\\snei\\sther\\s': ' neither ',\n",
        "                  '\\sei\\sther\\s': ' either ',\n",
        "                  '\\sfur\\sther\\s': ' further ',\n",
        "                  '\\sano\\sther': ' another ',\n",
        "                  '\\sneces\\s': ' neces',\n",
        "                  'u\\slar\\s': 'ular ',\n",
        "                  '\\sference\\s': 'ference ',\n",
        "                  '(?i)it\\sll\\s': \"it'll \",\n",
        "                  '\\stoge\\sther': ' together ',\n",
        "                  '\\sknowledgeb\\s': ' knowledge ',\n",
        "                  'r\\stain\\s': 'rtain ',\n",
        "                  'on\\stain\\s': 'ontain',\n",
        "                  '(?i)j\\sect\\s': 'ject',\n",
        "                  '\\sob\\sect\\s': ' object ',\n",
        "                  '\\sbtle\\s': 'btle ',\n",
        "                  '\\snition\\s': 'nition ',\n",
        "                  '\\sdering\\s': 'dering ', \n",
        "                  '\\sized\\s': 'ized ',\n",
        "                  '\\sther\\shand': ' other hand',\n",
        "                  '\\ture\\s': 'ture ',\n",
        "                  '\\sabso\\sl': ' absol',\n",
        "                  '\\stly\\s': 'tly ',\n",
        "                  '\\serty\\s': 'erty ',\n",
        "                  '\\sobj\\se': ' obj',\n",
        "                  '\\sffiir\\s': ' for ',\n",
        "                  '\\sndeed\\s': ' indeed ',\n",
        "                  '\\sfonn\\s': ' form ',\n",
        "                  '\\snally\\s': 'nally ',\n",
        "                  'ain\\sty\\s': 'ainty ',\n",
        "                  'ici\\sty\\s': 'icity ',\n",
        "                  '\\scog\\sni': ' cogni',\n",
        "                  '\\sacc\\s': ' acc',\n",
        "                  '\\sindi\\svid\\sual': ' individual', \n",
        "                  '\\sintu\\sit': ' intuit',\n",
        "                  'r\\sance\\s': 'rance ',\n",
        "                  '\\ssions\\s': 'sions ',\n",
        "                  '\\sances\\s': 'ances ',\n",
        "                  '\\sper\\sception\\s': ' perception ',\n",
        "                  '\\sse\\sries\\s': ' series ',\n",
        "                  '\\sque\\sries\\s': ' queries ',\n",
        "                  '\\sessary\\s': 'essary ',\n",
        "                  '\\sofa\\s': ' of a ',\n",
        "                  '\\scer\\stainty\\s': ' certainty ',\n",
        "                  'ec\\stivity\\s': 'ectivity ',\n",
        "                  '\\stivity\\s': 'tivity ',\n",
        "                  '\\slation\\s': 'lation ',\n",
        "                  '\\sir\\sr': ' irr',\n",
        "                  '\\ssub\\sstance\\s': ' substance ',\n",
        "                  'sec\\sond\\s': 'second ',\n",
        "                  '\\s\\.rv': '',\n",
        "                  '\\story\\s': 'tory ',\n",
        "                  '\\sture\\s': 'ture ',\n",
        "                  '\\sminate\\s': 'minate ',\n",
        "                  '\\sing\\s': 'ing ',\n",
        "                  '\\splicity\\s': 'plicity ',\n",
        "                  '\\ssimi\\slar\\s': ' similar ',\n",
        "                  '\\scom\\smunity\\s': ' community ',\n",
        "                  '\\sitselfa\\s': ' itself a ',\n",
        "                  '\\ssimp\\s': ' simply ',\n",
        "                  '\\scon\\stex': ' contex',\n",
        "                  '\\scon\\sseq': ' conseq',\n",
        "                  '\\scon\\stai': ' contai',\n",
        "                  '\\sofwhat\\s': ' of what ',\n",
        "                  '\\sui\\s': 'ui',\n",
        "                  '\\sofan\\s': ' of an ',\n",
        "                  '\\saccor\\sdance\\s': ' accordance ',\n",
        "                  '\\stranscen\\sdental\\s': ' transcendental ',\n",
        "                  '\\sap\\spearances\\s': ' appearances ',\n",
        "                  'e\\squences\\s': 'equences ',\n",
        "                  '\\sorits\\s': ' or its ',\n",
        "                  '\\simma\\sn': ' imman',\n",
        "                  '\\seq\\sua': ' equa',\n",
        "                  '\\simpl\\sied\\s': ' implied ',\n",
        "                  '\\sbuta\\s': ' but a ',\n",
        "                  '\\sa\\snd\\s': ' and ',\n",
        "                  '\\sence\\s': 'ence ',\n",
        "                  '\\stain\\s': 'tain ',\n",
        "                  '\\sunder\\sstanding\\s': ' understanding ',\n",
        "                  'i\\sence\\s': 'ience ',\n",
        "                  'r\\sence\\s': 'rence ',\n",
        "                  '\\stical\\s': 'tical ',\n",
        "                  '\\sobjectsb\\s': ' objects ',\n",
        "                  '\\stbe\\s': ' the ',\n",
        "                  '\\smul\\st': ' mult',\n",
        "                  '\\sgen\\seral\\s': ' general ',\n",
        "                  '\\suniver\\ssal\\s': ' universal ',\n",
        "                  '\\scon\\stent\\s': ' content ',\n",
        "                  '\\spar\\sticular\\s': ' particular ',\n",
        "                  'ver\\ssity\\s': 'versity ',\n",
        "                  '\\sCritiq\\s': ' Critique ',\n",
        "                  '\\sphilo\\ssophy\\s': ' philosophy ',\n",
        "                  '\\seq\\s': ' eq'}"
      ],
      "execution_count": 98,
      "outputs": []
    },
    {
      "cell_type": "code",
      "metadata": {
        "id": "bXDII00UED1c"
      },
      "source": [
        "# a function that takes the dictionary and returns a dataframe of sentences\n",
        "def from_raw_to_df(text_dict):\n",
        "  nlp.max_length = 9000000\n",
        "  text = text_dict['text']\n",
        "  text = remove_words(text, text_dict['words to remove'])\n",
        "  text = baseline_clean(text, capitals=text_dict['remove capitals'],\n",
        "                        bracketed_fn=text_dict['bracketed fn'],\n",
        "                        odd_words_dict=odd_words_dict)\n",
        "  text_nlp = nlp(text, disable=['ner'])\n",
        "  text_df = pd.DataFrame(columns=['title', 'author', 'school', 'sentence_spacy'])\n",
        "  text_df['sentence_spacy'] = list(text_nlp.sents)\n",
        "  text_df['author'] = text_dict['author']\n",
        "  text_df['title'] = text_dict['title']\n",
        "  text_df['school'] = text_dict['school']\n",
        "  text_df['original_publication_date'] = text_dict['original date']\n",
        "  text_df['corpus_edition_date'] = text_dict['corpus date']\n",
        "  text_df['sentence_str'] = text_df['sentence_spacy'].apply(lambda x: ''.join(list(str(x))))\n",
        "  return text_df"
      ],
      "execution_count": 99,
      "outputs": []
    },
    {
      "cell_type": "code",
      "metadata": {
        "id": "w14qMlTrFM4s"
      },
      "source": [
        "# use the function\n",
        "f_t_df = from_raw_to_df(kierkegaard_fear_trembling_dict)\n",
        "df = f_t_df"
      ],
      "execution_count": 100,
      "outputs": []
    },
    {
      "cell_type": "code",
      "metadata": {
        "colab": {
          "base_uri": "https://localhost:8080/",
          "height": 1000
        },
        "id": "IZ3JhAyNFept",
        "outputId": "0724b133-7721-4d39-f1eb-f5e693b898e6"
      },
      "source": [
        "# checking the result\n",
        "pd.options.display.max_colwidth = 200\n",
        "df.sample(10)"
      ],
      "execution_count": 101,
      "outputs": [
        {
          "output_type": "execute_result",
          "data": {
            "text/html": [
              "<div>\n",
              "<style scoped>\n",
              "    .dataframe tbody tr th:only-of-type {\n",
              "        vertical-align: middle;\n",
              "    }\n",
              "\n",
              "    .dataframe tbody tr th {\n",
              "        vertical-align: top;\n",
              "    }\n",
              "\n",
              "    .dataframe thead th {\n",
              "        text-align: right;\n",
              "    }\n",
              "</style>\n",
              "<table border=\"1\" class=\"dataframe\">\n",
              "  <thead>\n",
              "    <tr style=\"text-align: right;\">\n",
              "      <th></th>\n",
              "      <th>title</th>\n",
              "      <th>author</th>\n",
              "      <th>school</th>\n",
              "      <th>sentence_spacy</th>\n",
              "      <th>original_publication_date</th>\n",
              "      <th>corpus_edition_date</th>\n",
              "      <th>sentence_str</th>\n",
              "    </tr>\n",
              "  </thead>\n",
              "  <tbody>\n",
              "    <tr>\n",
              "      <th>796</th>\n",
              "      <td>Fear and Trembling</td>\n",
              "      <td>Kierkegaard</td>\n",
              "      <td>Kierkegaard</td>\n",
              "      <td>(But, what, then, is, duty, Duty, is, precisely, the, expression, for, God, 's, will, .)</td>\n",
              "      <td>1843</td>\n",
              "      <td>1941</td>\n",
              "      <td>But what then is duty Duty is precisely the expression for God's will.</td>\n",
              "    </tr>\n",
              "    <tr>\n",
              "      <th>941</th>\n",
              "      <td>Fear and Trembling</td>\n",
              "      <td>Kierkegaard</td>\n",
              "      <td>Kierkegaard</td>\n",
              "      <td>(Faith, ,, on, the, contrary, ,, is, the, paradox, that, inwardness, is, higher, than, outwardness, or, ,, to, recall, an, expression, used, above, ,, the, uneven, number, is, higher, than, the, e...</td>\n",
              "      <td>1843</td>\n",
              "      <td>1941</td>\n",
              "      <td>Faith, on the contrary, is the paradox that inwardness is higher than outwardness or, to recall an expression used above, the uneven number is higher than the even.</td>\n",
              "    </tr>\n",
              "    <tr>\n",
              "      <th>557</th>\n",
              "      <td>Fear and Trembling</td>\n",
              "      <td>Kierkegaard</td>\n",
              "      <td>Kierkegaard</td>\n",
              "      <td>(To, become, another, man, he, feels, no, inclination, ,, nor, does, he, by, any, means, regard, this, as, greatness, .)</td>\n",
              "      <td>1843</td>\n",
              "      <td>1941</td>\n",
              "      <td>To become another man he feels no inclination, nor does he by any means regard this as greatness.</td>\n",
              "    </tr>\n",
              "    <tr>\n",
              "      <th>908</th>\n",
              "      <td>Fear and Trembling</td>\n",
              "      <td>Kierkegaard</td>\n",
              "      <td>Kierkegaard</td>\n",
              "      <td>(If, such, is, not, the, position, of, Abraham, ,, then, he, is, not, even, a, tragic, hero, but, a, murderer, .)</td>\n",
              "      <td>1843</td>\n",
              "      <td>1941</td>\n",
              "      <td>If such is not the position of Abraham, then he is not even a tragic hero but a murderer.</td>\n",
              "    </tr>\n",
              "    <tr>\n",
              "      <th>1464</th>\n",
              "      <td>Fear and Trembling</td>\n",
              "      <td>Kierkegaard</td>\n",
              "      <td>Kierkegaard</td>\n",
              "      <td>(that, faith, as, a, matter, of, course, is, the, immediate, .)</td>\n",
              "      <td>1843</td>\n",
              "      <td>1941</td>\n",
              "      <td>that faith as a matter of course is the immediate.</td>\n",
              "    </tr>\n",
              "    <tr>\n",
              "      <th>1302</th>\n",
              "      <td>Fear and Trembling</td>\n",
              "      <td>Kierkegaard</td>\n",
              "      <td>Kierkegaard</td>\n",
              "      <td>(In, this, case, he, must, embroil, himself, in, a, mystifictition, by, which, he, reduces, himself, to, naught, in, relation, to, her, .)</td>\n",
              "      <td>1843</td>\n",
              "      <td>1941</td>\n",
              "      <td>In this case he must embroil himself in a mystifictition by which he reduces himself to naught in relation to her.</td>\n",
              "    </tr>\n",
              "    <tr>\n",
              "      <th>0</th>\n",
              "      <td>Fear and Trembling</td>\n",
              "      <td>Kierkegaard</td>\n",
              "      <td>Kierkegaard</td>\n",
              "      <td>(Not, merely, in, the, realm, of, commerce, but, in, the, world, of, ideas, as, well, our, age, is, organizing, a, regular, clearance, sale, .)</td>\n",
              "      <td>1843</td>\n",
              "      <td>1941</td>\n",
              "      <td>Not merely in the realm of commerce but in the world of ideas as well our age is organizing a regular clearance sale.</td>\n",
              "    </tr>\n",
              "    <tr>\n",
              "      <th>260</th>\n",
              "      <td>Fear and Trembling</td>\n",
              "      <td>Kierkegaard</td>\n",
              "      <td>Kierkegaard</td>\n",
              "      <td>(make, him, blessed, in, thy, bosom, here)</td>\n",
              "      <td>1843</td>\n",
              "      <td>1941</td>\n",
              "      <td>make him blessed in thy bosom here</td>\n",
              "    </tr>\n",
              "    <tr>\n",
              "      <th>677</th>\n",
              "      <td>Fear and Trembling</td>\n",
              "      <td>Kierkegaard</td>\n",
              "      <td>Kierkegaard</td>\n",
              "      <td>(If, it, is, really, true, that, all, the, Philistinism, I, behold, in, life, (, which, I, do, not, permit, my, word, but, my, actions, to, condemn, ), is, not, what, it, seems, to, be, is, it, th...</td>\n",
              "      <td>1843</td>\n",
              "      <td>1941</td>\n",
              "      <td>If it is really true that all the Philistinism I behold in life (which I do not permit my word but my actions to condemn) is not what it seems to be is it the miracle That is conceivable, for the ...</td>\n",
              "    </tr>\n",
              "    <tr>\n",
              "      <th>1052</th>\n",
              "      <td>Fear and Trembling</td>\n",
              "      <td>Kierkegaard</td>\n",
              "      <td>Kierkegaard</td>\n",
              "      <td>(Humanly, speaking, ,, he, is, crazy, and, can, not, make, himself, intelligible, to, anyone, .)</td>\n",
              "      <td>1843</td>\n",
              "      <td>1941</td>\n",
              "      <td>Humanly speaking, he is crazy and cannot make himself intelligible to anyone.</td>\n",
              "    </tr>\n",
              "  </tbody>\n",
              "</table>\n",
              "</div>"
            ],
            "text/plain": [
              "                   title  ...                                                                                                                                                                                             sentence_str\n",
              "796   Fear and Trembling  ...                                                                                                                                   But what then is duty Duty is precisely the expression for God's will.\n",
              "941   Fear and Trembling  ...                                     Faith, on the contrary, is the paradox that inwardness is higher than outwardness or, to recall an expression used above, the uneven number is higher than the even.\n",
              "557   Fear and Trembling  ...                                                                                                        To become another man he feels no inclination, nor does he by any means regard this as greatness.\n",
              "908   Fear and Trembling  ...                                                                                                                If such is not the position of Abraham, then he is not even a tragic hero but a murderer.\n",
              "1464  Fear and Trembling  ...                                                                                                                                                       that faith as a matter of course is the immediate.\n",
              "1302  Fear and Trembling  ...                                                                                       In this case he must embroil himself in a mystifictition by which he reduces himself to naught in relation to her.\n",
              "0     Fear and Trembling  ...                                                                                    Not merely in the realm of commerce but in the world of ideas as well our age is organizing a regular clearance sale.\n",
              "260   Fear and Trembling  ...                                                                                                                                                                       make him blessed in thy bosom here\n",
              "677   Fear and Trembling  ...  If it is really true that all the Philistinism I behold in life (which I do not permit my word but my actions to condemn) is not what it seems to be is it the miracle That is conceivable, for the ...\n",
              "1052  Fear and Trembling  ...                                                                                                                            Humanly speaking, he is crazy and cannot make himself intelligible to anyone.\n",
              "\n",
              "[10 rows x 7 columns]"
            ]
          },
          "metadata": {
            "tags": []
          },
          "execution_count": 101
        }
      ]
    },
    {
      "cell_type": "code",
      "metadata": {
        "colab": {
          "base_uri": "https://localhost:8080/"
        },
        "id": "JZMqd8G0Ra-1",
        "outputId": "c311bb97-fc4f-4a94-f1b6-856911418a47"
      },
      "source": [
        "len(df)"
      ],
      "execution_count": 102,
      "outputs": [
        {
          "output_type": "execute_result",
          "data": {
            "text/plain": [
              "1824"
            ]
          },
          "metadata": {
            "tags": []
          },
          "execution_count": 102
        }
      ]
    },
    {
      "cell_type": "markdown",
      "metadata": {
        "id": "e-mqOl9pFgwH"
      },
      "source": [
        "#### Remove Short Sentences"
      ]
    },
    {
      "cell_type": "code",
      "metadata": {
        "colab": {
          "base_uri": "https://localhost:8080/",
          "height": 296
        },
        "id": "EfYhrwWuFzOl",
        "outputId": "cf9f7c5c-ee84-4c04-ee5c-61e05566bfda"
      },
      "source": [
        "df['sentence_length'] = df['sentence_str'].map(lambda x: len(x))\n",
        "num_of_short_entries = len(df[df['sentence_length'] < 20])\n",
        "print(f\"there are {num_of_short_entries} so-called sentences with fewer than 20 characters\")\n",
        "df[df['sentence_length'] < 20].sample(5)"
      ],
      "execution_count": 103,
      "outputs": [
        {
          "output_type": "stream",
          "text": [
            "there are 59 so-called sentences with fewer than 20 characters\n"
          ],
          "name": "stdout"
        },
        {
          "output_type": "execute_result",
          "data": {
            "text/html": [
              "<div>\n",
              "<style scoped>\n",
              "    .dataframe tbody tr th:only-of-type {\n",
              "        vertical-align: middle;\n",
              "    }\n",
              "\n",
              "    .dataframe tbody tr th {\n",
              "        vertical-align: top;\n",
              "    }\n",
              "\n",
              "    .dataframe thead th {\n",
              "        text-align: right;\n",
              "    }\n",
              "</style>\n",
              "<table border=\"1\" class=\"dataframe\">\n",
              "  <thead>\n",
              "    <tr style=\"text-align: right;\">\n",
              "      <th></th>\n",
              "      <th>title</th>\n",
              "      <th>author</th>\n",
              "      <th>school</th>\n",
              "      <th>sentence_spacy</th>\n",
              "      <th>original_publication_date</th>\n",
              "      <th>corpus_edition_date</th>\n",
              "      <th>sentence_str</th>\n",
              "      <th>sentence_length</th>\n",
              "    </tr>\n",
              "  </thead>\n",
              "  <tbody>\n",
              "    <tr>\n",
              "      <th>255</th>\n",
              "      <td>Fear and Trembling</td>\n",
              "      <td>Kierkegaard</td>\n",
              "      <td>Kierkegaard</td>\n",
              "      <td>(Was, it, not, so)</td>\n",
              "      <td>1843</td>\n",
              "      <td>1941</td>\n",
              "      <td>Was it not so</td>\n",
              "      <td>13</td>\n",
              "    </tr>\n",
              "    <tr>\n",
              "      <th>1819</th>\n",
              "      <td>Fear and Trembling</td>\n",
              "      <td>Kierkegaard</td>\n",
              "      <td>Kierkegaard</td>\n",
              "      <td>(Cf, .)</td>\n",
              "      <td>1843</td>\n",
              "      <td>1941</td>\n",
              "      <td>Cf.</td>\n",
              "      <td>3</td>\n",
              "    </tr>\n",
              "    <tr>\n",
              "      <th>1427</th>\n",
              "      <td>Fear and Trembling</td>\n",
              "      <td>Kierkegaard</td>\n",
              "      <td>Kierkegaard</td>\n",
              "      <td>(That, 's, easy, enough, .)</td>\n",
              "      <td>1843</td>\n",
              "      <td>1941</td>\n",
              "      <td>That's easy enough.</td>\n",
              "      <td>19</td>\n",
              "    </tr>\n",
              "    <tr>\n",
              "      <th>425</th>\n",
              "      <td>Fear and Trembling</td>\n",
              "      <td>Kierkegaard</td>\n",
              "      <td>Kierkegaard</td>\n",
              "      <td>(Let, us, go, further, .)</td>\n",
              "      <td>1843</td>\n",
              "      <td>1941</td>\n",
              "      <td>Let us go further.</td>\n",
              "      <td>18</td>\n",
              "    </tr>\n",
              "    <tr>\n",
              "      <th>1080</th>\n",
              "      <td>Fear and Trembling</td>\n",
              "      <td>Kierkegaard</td>\n",
              "      <td>Kierkegaard</td>\n",
              "      <td>(So, is, he, not, mad)</td>\n",
              "      <td>1843</td>\n",
              "      <td>1941</td>\n",
              "      <td>So is he not mad</td>\n",
              "      <td>16</td>\n",
              "    </tr>\n",
              "  </tbody>\n",
              "</table>\n",
              "</div>"
            ],
            "text/plain": [
              "                   title       author  ...         sentence_str sentence_length\n",
              "255   Fear and Trembling  Kierkegaard  ...        Was it not so              13\n",
              "1819  Fear and Trembling  Kierkegaard  ...                  Cf.               3\n",
              "1427  Fear and Trembling  Kierkegaard  ...  That's easy enough.              19\n",
              "425   Fear and Trembling  Kierkegaard  ...   Let us go further.              18\n",
              "1080  Fear and Trembling  Kierkegaard  ...     So is he not mad              16\n",
              "\n",
              "[5 rows x 8 columns]"
            ]
          },
          "metadata": {
            "tags": []
          },
          "execution_count": 103
        }
      ]
    },
    {
      "cell_type": "code",
      "metadata": {
        "colab": {
          "base_uri": "https://localhost:8080/"
        },
        "id": "RW0AZpVyF1Qk",
        "outputId": "faa52420-400f-4adf-fb11-9329182a0473"
      },
      "source": [
        "df = df.drop(df[df['sentence_length'] < 20].index)\n",
        "len(df)"
      ],
      "execution_count": 104,
      "outputs": [
        {
          "output_type": "execute_result",
          "data": {
            "text/plain": [
              "1765"
            ]
          },
          "metadata": {
            "tags": []
          },
          "execution_count": 104
        }
      ]
    },
    {
      "cell_type": "markdown",
      "metadata": {
        "id": "BX9UfoDtF3Lz"
      },
      "source": [
        "#### Remove Cases of Self-Mention"
      ]
    },
    {
      "cell_type": "code",
      "metadata": {
        "colab": {
          "base_uri": "https://localhost:8080/",
          "height": 64
        },
        "id": "LJnDfK9IF8hU",
        "outputId": "9eb3edb0-88b9-4f6d-e5b4-cc077034f513"
      },
      "source": [
        "# change the author name in this cell \n",
        "\n",
        "self_mentions = df[df['sentence_str'].str.contains('\\s'+'Kierkegaard'.lower())]\n",
        "print(len(self_mentions))\n",
        "self_mentions"
      ],
      "execution_count": 105,
      "outputs": [
        {
          "output_type": "stream",
          "text": [
            "0\n"
          ],
          "name": "stdout"
        },
        {
          "output_type": "execute_result",
          "data": {
            "text/html": [
              "<div>\n",
              "<style scoped>\n",
              "    .dataframe tbody tr th:only-of-type {\n",
              "        vertical-align: middle;\n",
              "    }\n",
              "\n",
              "    .dataframe tbody tr th {\n",
              "        vertical-align: top;\n",
              "    }\n",
              "\n",
              "    .dataframe thead th {\n",
              "        text-align: right;\n",
              "    }\n",
              "</style>\n",
              "<table border=\"1\" class=\"dataframe\">\n",
              "  <thead>\n",
              "    <tr style=\"text-align: right;\">\n",
              "      <th></th>\n",
              "      <th>title</th>\n",
              "      <th>author</th>\n",
              "      <th>school</th>\n",
              "      <th>sentence_spacy</th>\n",
              "      <th>original_publication_date</th>\n",
              "      <th>corpus_edition_date</th>\n",
              "      <th>sentence_str</th>\n",
              "      <th>sentence_length</th>\n",
              "    </tr>\n",
              "  </thead>\n",
              "  <tbody>\n",
              "  </tbody>\n",
              "</table>\n",
              "</div>"
            ],
            "text/plain": [
              "Empty DataFrame\n",
              "Columns: [title, author, school, sentence_spacy, original_publication_date, corpus_edition_date, sentence_str, sentence_length]\n",
              "Index: []"
            ]
          },
          "metadata": {
            "tags": []
          },
          "execution_count": 105
        }
      ]
    },
    {
      "cell_type": "code",
      "metadata": {
        "colab": {
          "base_uri": "https://localhost:8080/"
        },
        "id": "mt86zZ3RF8q8",
        "outputId": "65f526b5-8fbf-4b36-97d7-025722e8090a"
      },
      "source": [
        "df = df.drop(df[df['sentence_str'].str.contains('\\s'+'Augustine'.lower())].index)\n",
        "\n",
        "len(df)"
      ],
      "execution_count": 106,
      "outputs": [
        {
          "output_type": "execute_result",
          "data": {
            "text/plain": [
              "1765"
            ]
          },
          "metadata": {
            "tags": []
          },
          "execution_count": 106
        }
      ]
    },
    {
      "cell_type": "markdown",
      "metadata": {
        "id": "vglbGXSFF8y4"
      },
      "source": [
        "#### Deal with Duplicates"
      ]
    },
    {
      "cell_type": "code",
      "metadata": {
        "colab": {
          "base_uri": "https://localhost:8080/"
        },
        "id": "DRXjQSIQHpa-",
        "outputId": "3b73cdfd-d14e-4be9-c8ea-0e1913b5fc5b"
      },
      "source": [
        "# find the total number of duplicates\n",
        "len(df['sentence_str'])-len(df['sentence_str'].drop_duplicates())"
      ],
      "execution_count": 107,
      "outputs": [
        {
          "output_type": "execute_result",
          "data": {
            "text/plain": [
              "1"
            ]
          },
          "metadata": {
            "tags": []
          },
          "execution_count": 107
        }
      ]
    },
    {
      "cell_type": "code",
      "metadata": {
        "colab": {
          "base_uri": "https://localhost:8080/",
          "height": 174
        },
        "id": "sHn4mTy2TR3P",
        "outputId": "bf0b4166-ea0f-48ce-8b1d-678998671516"
      },
      "source": [
        "doubles_df = pd.concat(g for _, g in df.groupby(\"sentence_str\") if len(g) > 1)\n",
        "doubles_df"
      ],
      "execution_count": 108,
      "outputs": [
        {
          "output_type": "execute_result",
          "data": {
            "text/html": [
              "<div>\n",
              "<style scoped>\n",
              "    .dataframe tbody tr th:only-of-type {\n",
              "        vertical-align: middle;\n",
              "    }\n",
              "\n",
              "    .dataframe tbody tr th {\n",
              "        vertical-align: top;\n",
              "    }\n",
              "\n",
              "    .dataframe thead th {\n",
              "        text-align: right;\n",
              "    }\n",
              "</style>\n",
              "<table border=\"1\" class=\"dataframe\">\n",
              "  <thead>\n",
              "    <tr style=\"text-align: right;\">\n",
              "      <th></th>\n",
              "      <th>title</th>\n",
              "      <th>author</th>\n",
              "      <th>school</th>\n",
              "      <th>sentence_spacy</th>\n",
              "      <th>original_publication_date</th>\n",
              "      <th>corpus_edition_date</th>\n",
              "      <th>sentence_str</th>\n",
              "      <th>sentence_length</th>\n",
              "    </tr>\n",
              "  </thead>\n",
              "  <tbody>\n",
              "    <tr>\n",
              "      <th>154</th>\n",
              "      <td>Fear and Trembling</td>\n",
              "      <td>Kierkegaard</td>\n",
              "      <td>Kierkegaard</td>\n",
              "      <td>(There, is, no, song, of, Lamentations, by, Abraham, .)</td>\n",
              "      <td>1843</td>\n",
              "      <td>1941</td>\n",
              "      <td>There is no song of Lamentations by Abraham.</td>\n",
              "      <td>44</td>\n",
              "    </tr>\n",
              "    <tr>\n",
              "      <th>161</th>\n",
              "      <td>Fear and Trembling</td>\n",
              "      <td>Kierkegaard</td>\n",
              "      <td>Kierkegaard</td>\n",
              "      <td>(There, is, no, song, of, Lamentations, by, Abraham, .)</td>\n",
              "      <td>1843</td>\n",
              "      <td>1941</td>\n",
              "      <td>There is no song of Lamentations by Abraham.</td>\n",
              "      <td>44</td>\n",
              "    </tr>\n",
              "  </tbody>\n",
              "</table>\n",
              "</div>"
            ],
            "text/plain": [
              "                  title  ... sentence_length\n",
              "154  Fear and Trembling  ...              44\n",
              "161  Fear and Trembling  ...              44\n",
              "\n",
              "[2 rows x 8 columns]"
            ]
          },
          "metadata": {
            "tags": []
          },
          "execution_count": 108
        }
      ]
    },
    {
      "cell_type": "code",
      "metadata": {
        "id": "ti-7vXDjTh0s"
      },
      "source": [
        "df = df.drop(df[df['sentence_str'].duplicated(keep='first')].index)"
      ],
      "execution_count": 109,
      "outputs": []
    },
    {
      "cell_type": "code",
      "metadata": {
        "colab": {
          "base_uri": "https://localhost:8080/"
        },
        "id": "eFT73wJCThrT",
        "outputId": "ca7bb698-8759-45ba-b162-85c0544f1877"
      },
      "source": [
        "len(df)"
      ],
      "execution_count": 110,
      "outputs": [
        {
          "output_type": "execute_result",
          "data": {
            "text/plain": [
              "1764"
            ]
          },
          "metadata": {
            "tags": []
          },
          "execution_count": 110
        }
      ]
    },
    {
      "cell_type": "markdown",
      "metadata": {
        "id": "5HnVnn1WHrTW"
      },
      "source": [
        "#### Check for Foreign Languages"
      ]
    },
    {
      "cell_type": "code",
      "metadata": {
        "colab": {
          "base_uri": "https://localhost:8080/"
        },
        "id": "SVcwhudjH5jY",
        "outputId": "e0db3bb9-67c9-4a15-c4ae-4922f335d57e"
      },
      "source": [
        "# checking for 'der', a common article in German\n",
        "len((df[df['sentence_str'].str.contains('\\sder\\s')]))"
      ],
      "execution_count": 111,
      "outputs": [
        {
          "output_type": "execute_result",
          "data": {
            "text/plain": [
              "1"
            ]
          },
          "metadata": {
            "tags": []
          },
          "execution_count": 111
        }
      ]
    },
    {
      "cell_type": "code",
      "metadata": {
        "colab": {
          "base_uri": "https://localhost:8080/"
        },
        "id": "jBzPHm8PH4XB",
        "outputId": "fec0128f-ed16-4ab0-f488-22b31309cd46"
      },
      "source": [
        "# checking for 'il', a common article in French\n",
        "len(df[df['sentence_str'].str.contains('\\sil\\s')])"
      ],
      "execution_count": 112,
      "outputs": [
        {
          "output_type": "execute_result",
          "data": {
            "text/plain": [
              "0"
            ]
          },
          "metadata": {
            "tags": []
          },
          "execution_count": 112
        }
      ]
    },
    {
      "cell_type": "markdown",
      "metadata": {
        "id": "NxWbjI0IiAzE"
      },
      "source": [
        "#### Some Ad Hoc Cleaning"
      ]
    },
    {
      "cell_type": "code",
      "metadata": {
        "colab": {
          "base_uri": "https://localhost:8080/"
        },
        "id": "a8YsiZc_h-iu",
        "outputId": "9601067b-0ec9-4ce4-ef5c-1a7b1b52e0ff"
      },
      "source": [
        "# miscellaneous nonsense sentences\n",
        "df = df.drop(df[df['sentence_str'].str.contains('\\spp\\s')].index)\n",
        "df = df.drop(df[df['sentence_str'].str.contains('\\stotam\\s')].index)\n",
        "df = df.drop(df[df['sentence_str'].str.contains('\\srree\\s')].index)\n",
        "df = df.drop(df[df['sentence_str'].str.contains('\\sflir\\s')].index)\n",
        "df = df.drop(df[(df['sentence_str'].str.contains('\\smodis\\s')) & (df['author'] != 'Kant')].index)\n",
        "\n",
        "len(df)"
      ],
      "execution_count": 113,
      "outputs": [
        {
          "output_type": "execute_result",
          "data": {
            "text/plain": [
              "1764"
            ]
          },
          "metadata": {
            "tags": []
          },
          "execution_count": 113
        }
      ]
    },
    {
      "cell_type": "code",
      "metadata": {
        "colab": {
          "base_uri": "https://localhost:8080/"
        },
        "id": "wwQzpQ2_iJEU",
        "outputId": "3cd20ebb-5287-4712-e210-8dcdf89868a5"
      },
      "source": [
        "# markers of french and notes\n",
        "df = df.drop(df[df['sentence_str'].str.contains('\\schapitre')].index)\n",
        "df = df.drop(df[df['sentence_str'].str.contains('\\salisme')].index)\n",
        "df = df.drop(df[df['sentence_str'].str.contains('\\sHahn')].index)\n",
        "\n",
        "len(df)"
      ],
      "execution_count": 114,
      "outputs": [
        {
          "output_type": "execute_result",
          "data": {
            "text/plain": [
              "1764"
            ]
          },
          "metadata": {
            "tags": []
          },
          "execution_count": 114
        }
      ]
    },
    {
      "cell_type": "code",
      "metadata": {
        "colab": {
          "base_uri": "https://localhost:8080/"
        },
        "id": "WcQoVnariNWg",
        "outputId": "094bced3-b3b1-49c6-86ea-7ec266312170"
      },
      "source": [
        "# some notes in Kant\n",
        "df = df.drop(df[df['sentence_str'].str.contains('\\sVorl\\s')].index)\n",
        "df = df.drop(df[df['sentence_str'].str.contains('\\sberschwenglich')].index)\n",
        "\n",
        "len(df)"
      ],
      "execution_count": 115,
      "outputs": [
        {
          "output_type": "execute_result",
          "data": {
            "text/plain": [
              "1764"
            ]
          },
          "metadata": {
            "tags": []
          },
          "execution_count": 115
        }
      ]
    },
    {
      "cell_type": "code",
      "metadata": {
        "colab": {
          "base_uri": "https://localhost:8080/"
        },
        "id": "GI3dJy_dibCA",
        "outputId": "51c77ffe-7417-4218-9020-e39fbfc6db73"
      },
      "source": [
        "# a common phrase in Plato / Aristotle footnotes\n",
        "df = df.drop(df[(df['author']=='Plato') & (df['sentence_str'].str.contains('(?i)reading')) & (df['sentence_length'] < 40)].index)\n",
        "df = df.drop(df[(df['author']=='Aristotle') & (df['sentence_str'].str.contains('(?i)reading')) & (df['sentence_length'] < 40)].index)\n",
        "\n",
        "len(df)"
      ],
      "execution_count": 116,
      "outputs": [
        {
          "output_type": "execute_result",
          "data": {
            "text/plain": [
              "1764"
            ]
          },
          "metadata": {
            "tags": []
          },
          "execution_count": 116
        }
      ]
    },
    {
      "cell_type": "code",
      "metadata": {
        "colab": {
          "base_uri": "https://localhost:8080/"
        },
        "id": "DUt3mAjtigKB",
        "outputId": "74453b64-5513-41b2-b40e-ceb5dafea559"
      },
      "source": [
        "# mentions of Aristotle in Plato\n",
        "df = df.drop(df[(df['author']=='Plato') & df['sentence_str'].str.contains('Aristotle')].index)\n",
        "\n",
        "len(df)"
      ],
      "execution_count": 117,
      "outputs": [
        {
          "output_type": "execute_result",
          "data": {
            "text/plain": [
              "1764"
            ]
          },
          "metadata": {
            "tags": []
          },
          "execution_count": 117
        }
      ]
    },
    {
      "cell_type": "markdown",
      "metadata": {
        "id": "3Sd2rbDJHraR"
      },
      "source": [
        "### Lemmatize and Tokenize"
      ]
    },
    {
      "cell_type": "code",
      "metadata": {
        "id": "ziLKswX_Hrhd"
      },
      "source": [
        "from gensim.utils import simple_preprocess\n",
        "\n",
        "# use gensim to tokenize sentences\n",
        "df['tokenized_txt'] = df['sentence_str'].map(lambda x: simple_preprocess(x.lower(),deacc=True,\n",
        "                                                        max_len=200))\n",
        "\n",
        "# use spacey to get intelligent lemmatization\n",
        "def lemmatize_sentence(sentence):\n",
        "  lemmatized_txt = ''\n",
        "  for word in sentence:\n",
        "    lemmatized_txt += ' ' + str(word.lemma_)\n",
        "  return lemmatized_txt"
      ],
      "execution_count": 118,
      "outputs": []
    },
    {
      "cell_type": "code",
      "metadata": {
        "id": "8Sg_V1rxIdzJ"
      },
      "source": [
        "df['lemmatized_str'] = df['sentence_spacy'].apply(lemmatize_sentence)"
      ],
      "execution_count": 119,
      "outputs": []
    },
    {
      "cell_type": "code",
      "metadata": {
        "colab": {
          "base_uri": "https://localhost:8080/",
          "height": 1000
        },
        "id": "0pyznlhXId8n",
        "outputId": "88a6d07b-9c3d-4589-cbe3-8467c5c9a1d0"
      },
      "source": [
        "df.sample(5)"
      ],
      "execution_count": 120,
      "outputs": [
        {
          "output_type": "execute_result",
          "data": {
            "text/html": [
              "<div>\n",
              "<style scoped>\n",
              "    .dataframe tbody tr th:only-of-type {\n",
              "        vertical-align: middle;\n",
              "    }\n",
              "\n",
              "    .dataframe tbody tr th {\n",
              "        vertical-align: top;\n",
              "    }\n",
              "\n",
              "    .dataframe thead th {\n",
              "        text-align: right;\n",
              "    }\n",
              "</style>\n",
              "<table border=\"1\" class=\"dataframe\">\n",
              "  <thead>\n",
              "    <tr style=\"text-align: right;\">\n",
              "      <th></th>\n",
              "      <th>title</th>\n",
              "      <th>author</th>\n",
              "      <th>school</th>\n",
              "      <th>sentence_spacy</th>\n",
              "      <th>original_publication_date</th>\n",
              "      <th>corpus_edition_date</th>\n",
              "      <th>sentence_str</th>\n",
              "      <th>sentence_length</th>\n",
              "      <th>tokenized_txt</th>\n",
              "      <th>lemmatized_str</th>\n",
              "    </tr>\n",
              "  </thead>\n",
              "  <tbody>\n",
              "    <tr>\n",
              "      <th>1089</th>\n",
              "      <td>Fear and Trembling</td>\n",
              "      <td>Kierkegaard</td>\n",
              "      <td>Kierkegaard</td>\n",
              "      <td>(He, can, derive, evidence, from, no, man, which, it, is, ,, for, with, that, query, he, is, outside, the, paradox, .)</td>\n",
              "      <td>1843</td>\n",
              "      <td>1941</td>\n",
              "      <td>He can derive evidence from no man which it is, for with that query he is outside the paradox.</td>\n",
              "      <td>94</td>\n",
              "      <td>[he, can, derive, evidence, from, no, man, which, it, is, for, with, that, query, he, is, outside, the, paradox]</td>\n",
              "      <td>-PRON- can derive evidence from no man which -PRON- be , for with that query -PRON- be outside the paradox .</td>\n",
              "    </tr>\n",
              "    <tr>\n",
              "      <th>696</th>\n",
              "      <td>Fear and Trembling</td>\n",
              "      <td>Kierkegaard</td>\n",
              "      <td>Kierkegaard</td>\n",
              "      <td>(before, he, has, to, preach, ,, the, auditor, can, well, take, a, nap, during, the, discourse, ,, for, all, goes, smoothly, ,, without, the, least, trouble, from, any, quarter, .)</td>\n",
              "      <td>1843</td>\n",
              "      <td>1941</td>\n",
              "      <td>before he has to preach, the auditor can well take a nap during the discourse, for all goes smoothly, without the least trouble from any quarter.</td>\n",
              "      <td>145</td>\n",
              "      <td>[before, he, has, to, preach, the, auditor, can, well, take, nap, during, the, discourse, for, all, goes, smoothly, without, the, least, trouble, from, any, quarter]</td>\n",
              "      <td>before -PRON- have to preach , the auditor can well take a nap during the discourse , for all go smoothly , without the least trouble from any quarter .</td>\n",
              "    </tr>\n",
              "    <tr>\n",
              "      <th>406</th>\n",
              "      <td>Fear and Trembling</td>\n",
              "      <td>Kierkegaard</td>\n",
              "      <td>Kierkegaard</td>\n",
              "      <td>(and, I, can, not, talk, together)</td>\n",
              "      <td>1843</td>\n",
              "      <td>1941</td>\n",
              "      <td>and I cannot talk together</td>\n",
              "      <td>26</td>\n",
              "      <td>[and, cannot, talk, together]</td>\n",
              "      <td>and -PRON- can not talk together</td>\n",
              "    </tr>\n",
              "    <tr>\n",
              "      <th>1484</th>\n",
              "      <td>Fear and Trembling</td>\n",
              "      <td>Kierkegaard</td>\n",
              "      <td>Kierkegaard</td>\n",
              "      <td>(This, mere, thought, of, taking, time, upon, one, 's, conscience, ,, of, giving, it, time, to, explore, with, its, sleepless, vigilance, every, secret, thought, ,, with, such, effect, that, ,, if...</td>\n",
              "      <td>1843</td>\n",
              "      <td>1941</td>\n",
              "      <td>This mere thought of taking time upon one's conscience, of giving it time to explore with its sleepless vigilance every secret thought, with such effect that, if even, instant one does not make th...</td>\n",
              "      <td>243</td>\n",
              "      <td>[this, mere, thought, of, taking, time, upon, one, conscience, of, giving, it, time, to, explore, with, its, sleepless, vigilance, every, secret, thought, with, such, effect, that, if, even, insta...</td>\n",
              "      <td>this mere thought of take time upon one 's conscience , of give -PRON- time to explore with -PRON- sleepless vigilance every secret thought , with such effect that , if even , instant one do not ...</td>\n",
              "    </tr>\n",
              "    <tr>\n",
              "      <th>179</th>\n",
              "      <td>Fear and Trembling</td>\n",
              "      <td>Kierkegaard</td>\n",
              "      <td>Kierkegaard</td>\n",
              "      <td>(But, Abraham, believed, ,, therefore, he, was, young, for, he, who, always, hopes, for, the, best, becomes, old, ,, and, he, who, is, always, prepared, for, the, worst, grows, old, early, ,, but,...</td>\n",
              "      <td>1843</td>\n",
              "      <td>1941</td>\n",
              "      <td>But Abraham believed, therefore he was young for he who always hopes for the best becomes old, and he who is always prepared for the worst grows old early, but he who believes preserves an eternal...</td>\n",
              "      <td>203</td>\n",
              "      <td>[but, abraham, believed, therefore, he, was, young, for, he, who, always, hopes, for, the, best, becomes, old, and, he, who, is, always, prepared, for, the, worst, grows, old, early, but, he, who,...</td>\n",
              "      <td>but Abraham believe , therefore -PRON- be young for -PRON- who always hope for the good become old , and -PRON- who be always prepared for the bad grow old early , but -PRON- who believe preserve...</td>\n",
              "    </tr>\n",
              "  </tbody>\n",
              "</table>\n",
              "</div>"
            ],
            "text/plain": [
              "                   title  ...                                                                                                                                                                                           lemmatized_str\n",
              "1089  Fear and Trembling  ...                                                                                             -PRON- can derive evidence from no man which -PRON- be , for with that query -PRON- be outside the paradox .\n",
              "696   Fear and Trembling  ...                                                 before -PRON- have to preach , the auditor can well take a nap during the discourse , for all go smoothly , without the least trouble from any quarter .\n",
              "406   Fear and Trembling  ...                                                                                                                                                                         and -PRON- can not talk together\n",
              "1484  Fear and Trembling  ...   this mere thought of take time upon one 's conscience , of give -PRON- time to explore with -PRON- sleepless vigilance every secret thought , with such effect that , if even , instant one do not ...\n",
              "179   Fear and Trembling  ...   but Abraham believe , therefore -PRON- be young for -PRON- who always hope for the good become old , and -PRON- who be always prepared for the bad grow old early , but -PRON- who believe preserve...\n",
              "\n",
              "[5 rows x 10 columns]"
            ]
          },
          "metadata": {
            "tags": []
          },
          "execution_count": 120
        }
      ]
    },
    {
      "cell_type": "markdown",
      "metadata": {
        "id": "AJOxPwDpIeDT"
      },
      "source": [
        "### Combine with the Old Dataframe & Export to CSV"
      ]
    },
    {
      "cell_type": "code",
      "metadata": {
        "colab": {
          "base_uri": "https://localhost:8080/",
          "height": 1000
        },
        "id": "UU8QqgIXInkp",
        "outputId": "19383356-7aef-47ab-dd61-1f9e8c27849b"
      },
      "source": [
        "# load the old version and check it out\n",
        "og_df = pd.read_csv('/gdrive/MyDrive/Colab_Projects/philosophy_data_project/philosophy_data.csv')\n",
        "og_df.sample(5)"
      ],
      "execution_count": 121,
      "outputs": [
        {
          "output_type": "execute_result",
          "data": {
            "text/html": [
              "<div>\n",
              "<style scoped>\n",
              "    .dataframe tbody tr th:only-of-type {\n",
              "        vertical-align: middle;\n",
              "    }\n",
              "\n",
              "    .dataframe tbody tr th {\n",
              "        vertical-align: top;\n",
              "    }\n",
              "\n",
              "    .dataframe thead th {\n",
              "        text-align: right;\n",
              "    }\n",
              "</style>\n",
              "<table border=\"1\" class=\"dataframe\">\n",
              "  <thead>\n",
              "    <tr style=\"text-align: right;\">\n",
              "      <th></th>\n",
              "      <th>title</th>\n",
              "      <th>author</th>\n",
              "      <th>school</th>\n",
              "      <th>sentence_spacy</th>\n",
              "      <th>sentence_str</th>\n",
              "      <th>original_publication_date</th>\n",
              "      <th>corpus_edition_date</th>\n",
              "      <th>sentence_length</th>\n",
              "      <th>sentence_lowered</th>\n",
              "      <th>tokenized_txt</th>\n",
              "      <th>lemmatized_str</th>\n",
              "    </tr>\n",
              "  </thead>\n",
              "  <tbody>\n",
              "    <tr>\n",
              "      <th>211853</th>\n",
              "      <td>Difference And Repetition</td>\n",
              "      <td>Deleuze</td>\n",
              "      <td>continental</td>\n",
              "      <td>As for the negative, this is only the shadow cast upon the affirmations produced by a problem: negation appears alongside affirmation like a powerless double, albeit one which testifies to the exi...</td>\n",
              "      <td>As for the negative, this is only the shadow cast upon the affirmations produced by a problem: negation appears alongside affirmation like a powerless double, albeit one which testifies to the exi...</td>\n",
              "      <td>1968</td>\n",
              "      <td>1994</td>\n",
              "      <td>266</td>\n",
              "      <td>as for the negative, this is only the shadow cast upon the affirmations produced by a problem: negation appears alongside affirmation like a powerless double, albeit one which testifies to the exi...</td>\n",
              "      <td>['as', 'for', 'the', 'negative', 'this', 'is', 'only', 'the', 'shadow', 'cast', 'upon', 'the', 'affirmations', 'produced', 'by', 'problem', 'negation', 'appears', 'alongside', 'affirmation', 'like...</td>\n",
              "      <td>as for the negative , this be only the shadow cast upon the affirmation produce by a problem : negation appear alongside affirmation like a powerless double , albeit one which testify to the exis...</td>\n",
              "    </tr>\n",
              "    <tr>\n",
              "      <th>311385</th>\n",
              "      <td>The Wealth Of Nations</td>\n",
              "      <td>Smith</td>\n",
              "      <td>capitalism</td>\n",
              "      <td>The gross revenue of the society, the annual produce of their land and labour, is increased by the whole value which the labour of those workmen adds to the materials upon which they are employed,...</td>\n",
              "      <td>The gross revenue of the society, the annual produce of their land and labour, is increased by the whole value which the labour of those workmen adds to the materials upon which they are employed,...</td>\n",
              "      <td>1776</td>\n",
              "      <td>2009</td>\n",
              "      <td>341</td>\n",
              "      <td>the gross revenue of the society, the annual produce of their land and labour, is increased by the whole value which the labour of those workmen adds to the materials upon which they are employed,...</td>\n",
              "      <td>['the', 'gross', 'revenue', 'of', 'the', 'society', 'the', 'annual', 'produce', 'of', 'their', 'land', 'and', 'labour', 'is', 'increased', 'by', 'the', 'whole', 'value', 'which', 'the', 'labour', ...</td>\n",
              "      <td>the gross revenue of the society , the annual produce of -PRON- land and labour , be increase by the whole value which the labour of those workman add to the material upon which -PRON- be employ ...</td>\n",
              "    </tr>\n",
              "    <tr>\n",
              "      <th>160406</th>\n",
              "      <td>Quintessence</td>\n",
              "      <td>Quine</td>\n",
              "      <td>analytic</td>\n",
              "      <td>And it is hard to see what whole collection of general terms of nat ural science might not qualify likewise.</td>\n",
              "      <td>And it is hard to see what whole collection of general terms of nat ural science might not qualify likewise.</td>\n",
              "      <td>1950</td>\n",
              "      <td>2004</td>\n",
              "      <td>108</td>\n",
              "      <td>and it is hard to see what whole collection of general terms of nat ural science might not qualify likewise.</td>\n",
              "      <td>['and', 'it', 'is', 'hard', 'to', 'see', 'what', 'whole', 'collection', 'of', 'general', 'terms', 'of', 'nat', 'ural', 'science', 'might', 'not', 'qualify', 'likewise']</td>\n",
              "      <td>and -PRON- be hard to see what whole collection of general term of nat ural science may not qualify likewise .</td>\n",
              "    </tr>\n",
              "    <tr>\n",
              "      <th>155580</th>\n",
              "      <td>Lewis - Papers</td>\n",
              "      <td>Lewis</td>\n",
              "      <td>analytic</td>\n",
              "      <td>In speaking of our actual world without knowing just which world is ours, I am in effect generalizing over all worlds.</td>\n",
              "      <td>In speaking of our actual world without knowing just which world is ours, I am in effect generalizing over all worlds.</td>\n",
              "      <td>1985</td>\n",
              "      <td>2008</td>\n",
              "      <td>118</td>\n",
              "      <td>in speaking of our actual world without knowing just which world is ours, i am in effect generalizing over all worlds.</td>\n",
              "      <td>['in', 'speaking', 'of', 'our', 'actual', 'world', 'without', 'knowing', 'just', 'which', 'world', 'is', 'ours', 'am', 'in', 'effect', 'generalizing', 'over', 'all', 'worlds']</td>\n",
              "      <td>in speak of -PRON- actual world without know just which world be ours , -PRON- be in effect generalize over all world .</td>\n",
              "    </tr>\n",
              "    <tr>\n",
              "      <th>317653</th>\n",
              "      <td>The Wealth Of Nations</td>\n",
              "      <td>Smith</td>\n",
              "      <td>capitalism</td>\n",
              "      <td>The proper performance of every service seems to require, that its pay or recompence should be, as exactly as possible, proportioned to the nature of the service.</td>\n",
              "      <td>The proper performance of every service seems to require, that its pay or recompence should be, as exactly as possible, proportioned to the nature of the service.</td>\n",
              "      <td>1776</td>\n",
              "      <td>2009</td>\n",
              "      <td>162</td>\n",
              "      <td>the proper performance of every service seems to require, that its pay or recompence should be, as exactly as possible, proportioned to the nature of the service.</td>\n",
              "      <td>['the', 'proper', 'performance', 'of', 'every', 'service', 'seems', 'to', 'require', 'that', 'its', 'pay', 'or', 'recompence', 'should', 'be', 'as', 'exactly', 'as', 'possible', 'proportioned', 't...</td>\n",
              "      <td>the proper performance of every service seem to require , that -PRON- pay or recompence should be , as exactly as possible , proportioned to the nature of the service .</td>\n",
              "    </tr>\n",
              "  </tbody>\n",
              "</table>\n",
              "</div>"
            ],
            "text/plain": [
              "                            title  ...                                                                                                                                                                                           lemmatized_str\n",
              "211853  Difference And Repetition  ...   as for the negative , this be only the shadow cast upon the affirmation produce by a problem : negation appear alongside affirmation like a powerless double , albeit one which testify to the exis...\n",
              "311385      The Wealth Of Nations  ...   the gross revenue of the society , the annual produce of -PRON- land and labour , be increase by the whole value which the labour of those workman add to the material upon which -PRON- be employ ...\n",
              "160406               Quintessence  ...                                                                                           and -PRON- be hard to see what whole collection of general term of nat ural science may not qualify likewise .\n",
              "155580             Lewis - Papers  ...                                                                                  in speak of -PRON- actual world without know just which world be ours , -PRON- be in effect generalize over all world .\n",
              "317653      The Wealth Of Nations  ...                                 the proper performance of every service seem to require , that -PRON- pay or recompence should be , as exactly as possible , proportioned to the nature of the service .\n",
              "\n",
              "[5 rows x 11 columns]"
            ]
          },
          "metadata": {
            "tags": []
          },
          "execution_count": 121
        }
      ]
    },
    {
      "cell_type": "code",
      "metadata": {
        "colab": {
          "base_uri": "https://localhost:8080/"
        },
        "id": "XfwEX5vzInx0",
        "outputId": "9c53f483-c7b9-4f5f-cd1e-6bde7185ad6b"
      },
      "source": [
        "og_df['author'].value_counts(normalize=True)"
      ],
      "execution_count": 122,
      "outputs": [
        {
          "output_type": "execute_result",
          "data": {
            "text/plain": [
              "Aristotle          0.131981\n",
              "Plato              0.103807\n",
              "Hegel              0.061419\n",
              "Anselm             0.043500\n",
              "Foucault           0.041235\n",
              "Heidegger          0.041232\n",
              "Kant               0.038215\n",
              "Marx               0.036497\n",
              "Lewis              0.035499\n",
              "Malebranche        0.035166\n",
              "Deleuze            0.033929\n",
              "Kripke             0.033764\n",
              "Smith              0.031638\n",
              "Wittgenstein       0.024443\n",
              "Locke              0.024040\n",
              "Hume               0.022490\n",
              "Merleau-Ponty      0.020542\n",
              "Quine              0.019949\n",
              "Nietzsche          0.018437\n",
              "Derrida            0.016231\n",
              "Davis              0.016007\n",
              "Husserl            0.015536\n",
              "Fichte             0.014362\n",
              "Russell            0.013726\n",
              "Leibniz            0.013602\n",
              "Seneca             0.013580\n",
              "Popper             0.012657\n",
              "Lenin              0.012092\n",
              "Spinoza            0.010263\n",
              "Moore              0.009925\n",
              "Keynes             0.009229\n",
              "Ricardo            0.008361\n",
              "Beauvoir           0.008285\n",
              "Berkeley           0.007397\n",
              "Augustine          0.006924\n",
              "Marcus Aurelius    0.005985\n",
              "Wollstonecraft     0.004118\n",
              "Descartes          0.003063\n",
              "Epictetus          0.000874\n",
              "Name: author, dtype: float64"
            ]
          },
          "metadata": {
            "tags": []
          },
          "execution_count": 122
        }
      ]
    },
    {
      "cell_type": "code",
      "metadata": {
        "colab": {
          "base_uri": "https://localhost:8080/"
        },
        "id": "z1wqPSYwsrBN",
        "outputId": "d7411524-3780-43ad-e83c-1eba942c8791"
      },
      "source": [
        "len(og_df)"
      ],
      "execution_count": 123,
      "outputs": [
        {
          "output_type": "execute_result",
          "data": {
            "text/plain": [
              "369590"
            ]
          },
          "metadata": {
            "tags": []
          },
          "execution_count": 123
        }
      ]
    },
    {
      "cell_type": "code",
      "metadata": {
        "colab": {
          "base_uri": "https://localhost:8080/"
        },
        "id": "VQcxBh37IoDJ",
        "outputId": "c6934ea4-2d3a-4ab1-b3f0-59107379a0e1"
      },
      "source": [
        "# append the new data\n",
        "new_df = og_df.append(df)\n",
        "new_df['author'].value_counts(normalize=True)"
      ],
      "execution_count": 124,
      "outputs": [
        {
          "output_type": "execute_result",
          "data": {
            "text/plain": [
              "Aristotle          0.131354\n",
              "Plato              0.103314\n",
              "Hegel              0.061128\n",
              "Anselm             0.043293\n",
              "Foucault           0.041039\n",
              "Heidegger          0.041036\n",
              "Kant               0.038034\n",
              "Marx               0.036324\n",
              "Lewis              0.035330\n",
              "Malebranche        0.034999\n",
              "Deleuze            0.033768\n",
              "Kripke             0.033604\n",
              "Smith              0.031487\n",
              "Wittgenstein       0.024327\n",
              "Locke              0.023926\n",
              "Hume               0.022383\n",
              "Merleau-Ponty      0.020444\n",
              "Quine              0.019854\n",
              "Nietzsche          0.018349\n",
              "Derrida            0.016154\n",
              "Davis              0.015931\n",
              "Husserl            0.015462\n",
              "Fichte             0.014294\n",
              "Russell            0.013661\n",
              "Leibniz            0.013537\n",
              "Seneca             0.013515\n",
              "Popper             0.012597\n",
              "Lenin              0.012034\n",
              "Spinoza            0.010214\n",
              "Moore              0.009877\n",
              "Keynes             0.009185\n",
              "Ricardo            0.008321\n",
              "Beauvoir           0.008246\n",
              "Berkeley           0.007362\n",
              "Augustine          0.006891\n",
              "Marcus Aurelius    0.005957\n",
              "Kierkegaard        0.004750\n",
              "Wollstonecraft     0.004099\n",
              "Descartes          0.003048\n",
              "Epictetus          0.000870\n",
              "Name: author, dtype: float64"
            ]
          },
          "metadata": {
            "tags": []
          },
          "execution_count": 124
        }
      ]
    },
    {
      "cell_type": "code",
      "metadata": {
        "colab": {
          "base_uri": "https://localhost:8080/",
          "height": 954
        },
        "id": "bwgCHszFf6_p",
        "outputId": "af5bbd25-c080-429b-d096-159459637480"
      },
      "source": [
        "new_df[new_df['author']=='Kierkegaard'].sample(5)"
      ],
      "execution_count": 125,
      "outputs": [
        {
          "output_type": "execute_result",
          "data": {
            "text/html": [
              "<div>\n",
              "<style scoped>\n",
              "    .dataframe tbody tr th:only-of-type {\n",
              "        vertical-align: middle;\n",
              "    }\n",
              "\n",
              "    .dataframe tbody tr th {\n",
              "        vertical-align: top;\n",
              "    }\n",
              "\n",
              "    .dataframe thead th {\n",
              "        text-align: right;\n",
              "    }\n",
              "</style>\n",
              "<table border=\"1\" class=\"dataframe\">\n",
              "  <thead>\n",
              "    <tr style=\"text-align: right;\">\n",
              "      <th></th>\n",
              "      <th>title</th>\n",
              "      <th>author</th>\n",
              "      <th>school</th>\n",
              "      <th>sentence_spacy</th>\n",
              "      <th>sentence_str</th>\n",
              "      <th>original_publication_date</th>\n",
              "      <th>corpus_edition_date</th>\n",
              "      <th>sentence_length</th>\n",
              "      <th>sentence_lowered</th>\n",
              "      <th>tokenized_txt</th>\n",
              "      <th>lemmatized_str</th>\n",
              "    </tr>\n",
              "  </thead>\n",
              "  <tbody>\n",
              "    <tr>\n",
              "      <th>1353</th>\n",
              "      <td>Fear and Trembling</td>\n",
              "      <td>Kierkegaard</td>\n",
              "      <td>Kierkegaard</td>\n",
              "      <td>(He, had, in, fact, sent, it, ,, as, we, know, ,, but, it, was, kept, back, by, the, malice, of, a, lady, of, the, court, .)</td>\n",
              "      <td>He had in fact sent it, as we know, but it was kept back by the malice of a lady of the court.</td>\n",
              "      <td>1843</td>\n",
              "      <td>1941</td>\n",
              "      <td>94</td>\n",
              "      <td>NaN</td>\n",
              "      <td>[he, had, in, fact, sent, it, as, we, know, but, it, was, kept, back, by, the, malice, of, lady, of, the, court]</td>\n",
              "      <td>-PRON- have in fact send -PRON- , as -PRON- know , but -PRON- be keep back by the malice of a lady of the court .</td>\n",
              "    </tr>\n",
              "    <tr>\n",
              "      <th>1744</th>\n",
              "      <td>Fear and Trembling</td>\n",
              "      <td>Kierkegaard</td>\n",
              "      <td>Kierkegaard</td>\n",
              "      <td>(In, case, no, last, rejoinder, of, Socrates, had, existed, ,, I, should, have, been, able, to, think, myself, into, him, and, formulate, such, a, word, if, I, were, unable, to, do, it, ,, a, poet...</td>\n",
              "      <td>In case no last rejoinder of Socrates had existed, I should have been able to think myself into him and formulate such a word if I were unable to do it, a poet could, but no poet can catch up with...</td>\n",
              "      <td>1843</td>\n",
              "      <td>1941</td>\n",
              "      <td>205</td>\n",
              "      <td>NaN</td>\n",
              "      <td>[in, case, no, last, rejoinder, of, socrates, had, existed, should, have, been, able, to, think, myself, into, him, and, formulate, such, word, if, were, unable, to, do, it, poet, could, but, no, ...</td>\n",
              "      <td>in case no last rejoinder of Socrates have exist , -PRON- should have be able to think -PRON- into -PRON- and formulate such a word if -PRON- be unable to do -PRON- , a poet could , but no poet c...</td>\n",
              "    </tr>\n",
              "    <tr>\n",
              "      <th>1638</th>\n",
              "      <td>Fear and Trembling</td>\n",
              "      <td>Kierkegaard</td>\n",
              "      <td>Kierkegaard</td>\n",
              "      <td>(This, movement, ,, however, ,, is, as, properly, a, movement, of, irony, as, is, any, other, which, has, its, ground, in, the, fact, that, subjectivity, is, higher, than, reality, .)</td>\n",
              "      <td>This movement, however, is as properly a movement of irony as is any other which has its ground in the fact that subjectivity is higher than reality.</td>\n",
              "      <td>1843</td>\n",
              "      <td>1941</td>\n",
              "      <td>149</td>\n",
              "      <td>NaN</td>\n",
              "      <td>[this, movement, however, is, as, properly, movement, of, irony, as, is, any, other, which, has, its, ground, in, the, fact, that, subjectivity, is, higher, than, reality]</td>\n",
              "      <td>this movement , however , be as properly a movement of irony as be any other which have -PRON- ground in the fact that subjectivity be high than reality .</td>\n",
              "    </tr>\n",
              "    <tr>\n",
              "      <th>882</th>\n",
              "      <td>Fear and Trembling</td>\n",
              "      <td>Kierkegaard</td>\n",
              "      <td>Kierkegaard</td>\n",
              "      <td>(What, befalls, her, is, the, extraordinary, .)</td>\n",
              "      <td>What befalls her is the extraordinary.</td>\n",
              "      <td>1843</td>\n",
              "      <td>1941</td>\n",
              "      <td>38</td>\n",
              "      <td>NaN</td>\n",
              "      <td>[what, befalls, her, is, the, extraordinary]</td>\n",
              "      <td>what befall -PRON- be the extraordinary .</td>\n",
              "    </tr>\n",
              "    <tr>\n",
              "      <th>73</th>\n",
              "      <td>Fear and Trembling</td>\n",
              "      <td>Kierkegaard</td>\n",
              "      <td>Kierkegaard</td>\n",
              "      <td>(On, the, morning, of, the, fourth, day, Abraham, said, never, a, word, ,, but, he, lifted, up, his, eyes, and, saw, Mount, Moriah, afar, off, .)</td>\n",
              "      <td>On the morning of the fourth day Abraham said never a word, but he lifted up his eyes and saw Mount Moriah afar off.</td>\n",
              "      <td>1843</td>\n",
              "      <td>1941</td>\n",
              "      <td>116</td>\n",
              "      <td>NaN</td>\n",
              "      <td>[on, the, morning, of, the, fourth, day, abraham, said, never, word, but, he, lifted, up, his, eyes, and, saw, mount, moriah, afar, off]</td>\n",
              "      <td>on the morning of the fourth day Abraham say never a word , but -PRON- lift up -PRON- eye and see Mount Moriah afar off .</td>\n",
              "    </tr>\n",
              "  </tbody>\n",
              "</table>\n",
              "</div>"
            ],
            "text/plain": [
              "                   title  ...                                                                                                                                                                                           lemmatized_str\n",
              "1353  Fear and Trembling  ...                                                                                        -PRON- have in fact send -PRON- , as -PRON- know , but -PRON- be keep back by the malice of a lady of the court .\n",
              "1744  Fear and Trembling  ...   in case no last rejoinder of Socrates have exist , -PRON- should have be able to think -PRON- into -PRON- and formulate such a word if -PRON- be unable to do -PRON- , a poet could , but no poet c...\n",
              "1638  Fear and Trembling  ...                                               this movement , however , be as properly a movement of irony as be any other which have -PRON- ground in the fact that subjectivity be high than reality .\n",
              "882   Fear and Trembling  ...                                                                                                                                                                what befall -PRON- be the extraordinary .\n",
              "73    Fear and Trembling  ...                                                                                on the morning of the fourth day Abraham say never a word , but -PRON- lift up -PRON- eye and see Mount Moriah afar off .\n",
              "\n",
              "[5 rows x 11 columns]"
            ]
          },
          "metadata": {
            "tags": []
          },
          "execution_count": 125
        }
      ]
    },
    {
      "cell_type": "code",
      "metadata": {
        "colab": {
          "base_uri": "https://localhost:8080/",
          "height": 17
        },
        "id": "ncmXLdXuIoMl",
        "outputId": "335fd5c0-109c-4154-8c84-920689610a20"
      },
      "source": [
        "# export as csv\n",
        "from google.colab import files\n",
        "new_df.to_csv('phil_nlp.csv', index=False) \n",
        "files.download('phil_nlp.csv')"
      ],
      "execution_count": 126,
      "outputs": [
        {
          "output_type": "display_data",
          "data": {
            "application/javascript": [
              "\n",
              "    async function download(id, filename, size) {\n",
              "      if (!google.colab.kernel.accessAllowed) {\n",
              "        return;\n",
              "      }\n",
              "      const div = document.createElement('div');\n",
              "      const label = document.createElement('label');\n",
              "      label.textContent = `Downloading \"${filename}\": `;\n",
              "      div.appendChild(label);\n",
              "      const progress = document.createElement('progress');\n",
              "      progress.max = size;\n",
              "      div.appendChild(progress);\n",
              "      document.body.appendChild(div);\n",
              "\n",
              "      const buffers = [];\n",
              "      let downloaded = 0;\n",
              "\n",
              "      const channel = await google.colab.kernel.comms.open(id);\n",
              "      // Send a message to notify the kernel that we're ready.\n",
              "      channel.send({})\n",
              "\n",
              "      for await (const message of channel.messages) {\n",
              "        // Send a message to notify the kernel that we're ready.\n",
              "        channel.send({})\n",
              "        if (message.buffers) {\n",
              "          for (const buffer of message.buffers) {\n",
              "            buffers.push(buffer);\n",
              "            downloaded += buffer.byteLength;\n",
              "            progress.value = downloaded;\n",
              "          }\n",
              "        }\n",
              "      }\n",
              "      const blob = new Blob(buffers, {type: 'application/binary'});\n",
              "      const a = document.createElement('a');\n",
              "      a.href = window.URL.createObjectURL(blob);\n",
              "      a.download = filename;\n",
              "      div.appendChild(a);\n",
              "      a.click();\n",
              "      div.remove();\n",
              "    }\n",
              "  "
            ],
            "text/plain": [
              "<IPython.core.display.Javascript object>"
            ]
          },
          "metadata": {
            "tags": []
          }
        },
        {
          "output_type": "display_data",
          "data": {
            "application/javascript": [
              "download(\"download_f5e95367-28fe-4f56-9ac7-57c254a428a7\", \"phil_nlp.csv\", 333848234)"
            ],
            "text/plain": [
              "<IPython.core.display.Javascript object>"
            ]
          },
          "metadata": {
            "tags": []
          }
        }
      ]
    },
    {
      "cell_type": "markdown",
      "metadata": {
        "id": "vz0aj3NrECm3"
      },
      "source": [
        "###Upload Data to the SQL Server"
      ]
    },
    {
      "cell_type": "code",
      "metadata": {
        "colab": {
          "base_uri": "https://localhost:8080/",
          "height": 296
        },
        "id": "bW76POWkJL-b",
        "outputId": "8ef1766f-99dc-4ac4-d986-9854d54fc615"
      },
      "source": [
        "# prepare to upload to the PostgreSQL database\n",
        "\n",
        "# note which dataframe you set this to - new_df for the whole dataset, df for \n",
        "# just the new text\n",
        "\n",
        "for_db = new_df\n",
        "for_db['date'] = for_db['original_publication_date']\n",
        "for_db['date'] = for_db['date'].apply(lambda x: str(x)[1:]+' BC' if x < 0 else str(x))\n",
        "for_db['sentence'] = for_db['sentence_str']\n",
        "for_db['school'] = for_db['school'].apply(lambda x: x.replace('_', ' ').title())\n",
        "for_db = for_db.drop(['sentence_spacy', \n",
        "                      'sentence_length',\n",
        "                      'sentence_lowered', \n",
        "                      'sentence_str', \n",
        "                      'tokenized_txt', \n",
        "                      'lemmatized_str',\n",
        "                      'corpus_edition_date',\n",
        "                      'original_publication_date'], axis=1)\n",
        "for_db.columns = [i.upper() for i in for_db.columns]\n",
        "\n",
        "for_db.sample(5)"
      ],
      "execution_count": 127,
      "outputs": [
        {
          "output_type": "execute_result",
          "data": {
            "text/html": [
              "<div>\n",
              "<style scoped>\n",
              "    .dataframe tbody tr th:only-of-type {\n",
              "        vertical-align: middle;\n",
              "    }\n",
              "\n",
              "    .dataframe tbody tr th {\n",
              "        vertical-align: top;\n",
              "    }\n",
              "\n",
              "    .dataframe thead th {\n",
              "        text-align: right;\n",
              "    }\n",
              "</style>\n",
              "<table border=\"1\" class=\"dataframe\">\n",
              "  <thead>\n",
              "    <tr style=\"text-align: right;\">\n",
              "      <th></th>\n",
              "      <th>TITLE</th>\n",
              "      <th>AUTHOR</th>\n",
              "      <th>SCHOOL</th>\n",
              "      <th>DATE</th>\n",
              "      <th>SENTENCE</th>\n",
              "    </tr>\n",
              "  </thead>\n",
              "  <tbody>\n",
              "    <tr>\n",
              "      <th>205474</th>\n",
              "      <td>Writing And Difference</td>\n",
              "      <td>Derrida</td>\n",
              "      <td>Continental</td>\n",
              "      <td>1967</td>\n",
              "      <td>but in Europe and even in the Occident as a whole: Occidental takes precedence over the kind of performance improperly called theater recognizes as language, assigns the faculties and powers of a ...</td>\n",
              "    </tr>\n",
              "    <tr>\n",
              "      <th>72252</th>\n",
              "      <td>Aristotle - Complete Works</td>\n",
              "      <td>Aristotle</td>\n",
              "      <td>Aristotle</td>\n",
              "      <td>320 BC</td>\n",
              "      <td>Being in something' has similar and corresponding meanings to 'having'.</td>\n",
              "    </tr>\n",
              "    <tr>\n",
              "      <th>33578</th>\n",
              "      <td>Plato - Complete Works</td>\n",
              "      <td>Plato</td>\n",
              "      <td>Plato</td>\n",
              "      <td>350 BC</td>\n",
              "      <td>However, the political system which we are now establishing by law has avoided both of them.</td>\n",
              "    </tr>\n",
              "    <tr>\n",
              "      <th>352578</th>\n",
              "      <td>Proslogion</td>\n",
              "      <td>Anselm</td>\n",
              "      <td>Scholasticism</td>\n",
              "      <td>1077</td>\n",
              "      <td>And Rodrigo: 'For what is it to die but to stop being necessary? '</td>\n",
              "    </tr>\n",
              "    <tr>\n",
              "      <th>326501</th>\n",
              "      <td>Meditations</td>\n",
              "      <td>Marcus Aurelius</td>\n",
              "      <td>Stoicism</td>\n",
              "      <td>170</td>\n",
              "      <td>The third, is thy ruling part; and here consider; Thou art an old man; suffer not that excellent part to be brought in subjection, and to become slavish: suffer it not to be drawn up and down with...</td>\n",
              "    </tr>\n",
              "  </tbody>\n",
              "</table>\n",
              "</div>"
            ],
            "text/plain": [
              "                             TITLE  ...                                                                                                                                                                                                 SENTENCE\n",
              "205474      Writing And Difference  ...  but in Europe and even in the Occident as a whole: Occidental takes precedence over the kind of performance improperly called theater recognizes as language, assigns the faculties and powers of a ...\n",
              "72252   Aristotle - Complete Works  ...                                                                                                                                  Being in something' has similar and corresponding meanings to 'having'.\n",
              "33578       Plato - Complete Works  ...                                                                                                             However, the political system which we are now establishing by law has avoided both of them.\n",
              "352578                  Proslogion  ...                                                                                                                                       And Rodrigo: 'For what is it to die but to stop being necessary? '\n",
              "326501                 Meditations  ...  The third, is thy ruling part; and here consider; Thou art an old man; suffer not that excellent part to be brought in subjection, and to become slavish: suffer it not to be drawn up and down with...\n",
              "\n",
              "[5 rows x 5 columns]"
            ]
          },
          "metadata": {
            "tags": []
          },
          "execution_count": 127
        }
      ]
    },
    {
      "cell_type": "code",
      "metadata": {
        "colab": {
          "base_uri": "https://localhost:8080/"
        },
        "id": "hWSVKbmoVaAW",
        "outputId": "f91752bc-7ace-4f23-cd2c-8dc272128fc3"
      },
      "source": [
        "len(for_db)"
      ],
      "execution_count": 128,
      "outputs": [
        {
          "output_type": "execute_result",
          "data": {
            "text/plain": [
              "371354"
            ]
          },
          "metadata": {
            "tags": []
          },
          "execution_count": 128
        }
      ]
    },
    {
      "cell_type": "code",
      "metadata": {
        "colab": {
          "base_uri": "https://localhost:8080/"
        },
        "id": "Mni3N-fyK-jZ",
        "outputId": "df960de0-4810-4269-beaf-924e78aef7d7"
      },
      "source": [
        "#importing sql library \n",
        "from sqlalchemy import create_engine \n",
        "  \n",
        "# create a reference  \n",
        "# for sql library \n",
        "engine = create_engine('postgres,\n",
        "                       echo=False)\n",
        "  \n",
        "# attach the data frame to the sql server \n",
        "for_db.to_sql('phil_nlp',          \n",
        "              con = engine,\n",
        "              if_exists='replace',\n",
        "              index=False,\n",
        "              method='multi') \n",
        "  \n",
        "# show the completed data as a test\n",
        "print(engine.execute(\"\"\"SELECT * FROM phil_nlp WHERE \"AUTHOR\" = 'Kierkegaard'\"\"\").fetchone()) "
      ],
      "execution_count": 129,
      "outputs": [
        {
          "output_type": "stream",
          "text": [
            "('Fear and Trembling', 'Kierkegaard', 'Kierkegaard', '1843', 'Not merely in the realm of commerce but in the world of ideas as well our age is organizing a regular clearance sale.')\n"
          ],
          "name": "stdout"
        }
      ]
    },
    {
      "cell_type": "markdown",
      "metadata": {
        "id": "2NxRYDdaLGW2"
      },
      "source": [
        "Remember to add to the clipping and other elements to the notebook that creates the database as a whole. Then you're done!"
      ]
    },
    {
      "cell_type": "code",
      "metadata": {
        "id": "GK50YeA-LNtD",
        "colab": {
          "base_uri": "https://localhost:8080/"
        },
        "outputId": "26936c2e-4547-4928-ace4-389589a98ff6"
      },
      "source": [
        "print(engine.execute(\"\"\"SELECT * FROM phil_nlp where \"AUTHOR\" = 'Kierkegaard'\"\"\").fetchone()) "
      ],
      "execution_count": 65,
      "outputs": [
        {
          "output_type": "stream",
          "text": [
            "('Fear and Trembling', 'Kierkegaard', 'Kierkegaard', '1843', 'S ren Kierkegaard (Johannes De Silentio) Fear and Trembling')\n"
          ],
          "name": "stdout"
        }
      ]
    },
    {
      "cell_type": "code",
      "metadata": {
        "id": "EfaWbJkCid6W"
      },
      "source": [
        ""
      ],
      "execution_count": null,
      "outputs": []
    }
  ]
}