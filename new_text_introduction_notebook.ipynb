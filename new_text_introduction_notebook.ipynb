{
  "nbformat": 4,
  "nbformat_minor": 0,
  "metadata": {
    "colab": {
      "name": "new_text_introduction_notebook.ipynb",
      "provenance": [],
      "toc_visible": true,
      "authorship_tag": "ABX9TyPjcR1mp9daj29XbhUYmraN",
      "include_colab_link": true
    },
    "kernelspec": {
      "name": "python3",
      "display_name": "Python 3"
    },
    "language_info": {
      "name": "python"
    }
  },
  "cells": [
    {
      "cell_type": "markdown",
      "metadata": {
        "id": "view-in-github",
        "colab_type": "text"
      },
      "source": [
        "<a href=\"https://colab.research.google.com/github/kcalizadeh/PDP_data_processing/blob/master/new_text_introduction_notebook.ipynb\" target=\"_parent\"><img src=\"https://colab.research.google.com/assets/colab-badge.svg\" alt=\"Open In Colab\"/></a>"
      ]
    },
    {
      "cell_type": "markdown",
      "metadata": {
        "id": "7Cw_rJlXCob_"
      },
      "source": [
        "### Imports and Mounting Drive"
      ]
    },
    {
      "cell_type": "code",
      "metadata": {
        "colab": {
          "base_uri": "https://localhost:8080/"
        },
        "id": "nN4DvDsxCdio",
        "outputId": "6a0c96a6-8815-44f8-86ff-21306921fd2e"
      },
      "source": [
        "# this cell mounts drive, sets the correct directory, then imports all functions\n",
        "# and relevant libraries via the functions.py file\n",
        "from google.colab import drive\n",
        "import sys\n",
        "\n",
        "drive.mount('/gdrive',force_remount=True)\n",
        "\n",
        "drive_path = '/gdrive/MyDrive/Colab_Projects/philosophy_data_project'\n",
        "\n",
        "sys.path.append(drive_path)"
      ],
      "execution_count": 1,
      "outputs": [
        {
          "output_type": "stream",
          "text": [
            "Mounted at /gdrive\n"
          ],
          "name": "stdout"
        }
      ]
    },
    {
      "cell_type": "code",
      "metadata": {
        "id": "EAk2WGLbCn3t"
      },
      "source": [
        "from import_functions import *"
      ],
      "execution_count": 2,
      "outputs": []
    },
    {
      "cell_type": "code",
      "metadata": {
        "colab": {
          "base_uri": "https://localhost:8080/"
        },
        "id": "fV19sbpUC2PF",
        "outputId": "bda80c70-8897-48d5-ac58-d55a3cf76116"
      },
      "source": [
        "import spacy.cli\n",
        "spacy.cli.download(\"en_core_web_lg\")\n",
        "import en_core_web_lg\n",
        "nlp = en_core_web_lg.load()"
      ],
      "execution_count": 3,
      "outputs": [
        {
          "output_type": "stream",
          "text": [
            "\u001b[38;5;2m✔ Download and installation successful\u001b[0m\n",
            "You can now load the model via spacy.load('en_core_web_lg')\n"
          ],
          "name": "stdout"
        }
      ]
    },
    {
      "cell_type": "markdown",
      "metadata": {
        "id": "PbT8yZ0pC30A"
      },
      "source": [
        "###Load the Text and Clip Front and End Matter"
      ]
    },
    {
      "cell_type": "code",
      "metadata": {
        "id": "G-MzN2T2DUYm"
      },
      "source": [
        "# if you are deleting an old text that was added here, make sure it is in the \n",
        "# primary database construction notebook\n",
        "augustine_confessions = get_guten('http://www.gutenberg.org/cache/epub/3296/pg3296.txt')"
      ],
      "execution_count": 4,
      "outputs": []
    },
    {
      "cell_type": "code",
      "metadata": {
        "id": "VKXD9zsCPkDO"
      },
      "source": [
        "augustine_confessions = augustine_confessions.split('AD 401')[1][22:].split('GRATIAS TIBI DOMINE')[0]"
      ],
      "execution_count": 5,
      "outputs": []
    },
    {
      "cell_type": "markdown",
      "metadata": {
        "id": "suHuy6isDUiC"
      },
      "source": [
        "### Clean the Text\n",
        "\n"
      ]
    },
    {
      "cell_type": "code",
      "metadata": {
        "id": "4lfFHzvnDUpf"
      },
      "source": [
        "def baseline_clean(to_correct, \n",
        "                   capitals=True, \n",
        "                   bracketed_fn=False, \n",
        "                   odd_words_dict={}):\n",
        "  # remove utf8 encoding characters and some punctuations\n",
        "  result = re.sub(r'[\\x00-\\x08\\x0b\\x0c\\x0e-\\x1f\\x7f-\\xff\\xad\\x0c6§\\\\\\£\\Â*_<>\"\"⎫•{}Γ~]', ' ', to_correct)\n",
        "  result = re.sub(r'[\\u2014\\u2013\\u2012-]', ' ', result)\n",
        "\n",
        "  # replace whitespace characters with actual whitespace\n",
        "  result = re.sub(r'\\s', ' ', result)\n",
        "\n",
        "  # replace odd quotation marks with a standard\n",
        "  result = re.sub(r'[‘’“”]', \"'\", result)\n",
        "\n",
        "  # replace the ﬀ, ﬃ and ﬁ with the appropriate counterparts\n",
        "  result = re.sub(r'ﬀ', 'ff', result)\n",
        "  result = re.sub(r'ﬁ', 'fi', result)\n",
        "  result = re.sub(r'ﬃ', 'ffi', result)\n",
        "\n",
        "  # replace some accented characters for ease of searching\n",
        "  result = re.sub(r'é', 'e', result)\n",
        "\n",
        "  # remove or standardize some recurring common and meaninless words/phrases\n",
        "  result = re.sub(r'\\s*This\\s*page\\s*intentionally\\s*left\\s*blank\\s*', ' ', result)\n",
        "  result = re.sub(r'(?i)Aufgabe\\s+', ' ', result)\n",
        "  result = re.sub(r',*\\s+cf\\.', ' ', result)\n",
        "\n",
        "  # some texts have footnotes conveniently in brackets - this removes them all, \n",
        "  # with a safety measure for unpaired brackets, and deletes all brackets afterwards\n",
        "  if bracketed_fn:\n",
        "    result = re.sub(r'\\[.{0,300}\\]|{.{0,300}}|{.{0,300}\\]|\\[.{0,300}}', ' ', result)\n",
        "  result = re.sub(r'[\\[\\]{}]', ' ', result)\n",
        "\n",
        "  # unify some abbreviations\n",
        "  result = re.sub(r'&', 'and', result)\n",
        "  result = re.sub(r'\\se\\.g\\.\\s', ' eg ', result)\n",
        "  result = re.sub(r'\\si\\.e\\.\\s', ' ie ', result)\n",
        "  result = re.sub('coroll\\.', 'coroll', result)\n",
        "  result = re.sub('pt\\.', 'pt', result)\n",
        "\n",
        "  # remove roman numerals, first capitalized ones\n",
        "  result = re.sub(r'\\s((I{2,}V*X*\\.*)|(IV\\.*)|(IX\\.*)|(V\\.*)|(V+I*\\.*)|(X+L*V*I*]\\.*))\\s', ' ', result)\n",
        "  # then lowercase\n",
        "  result = re.sub(r'\\s((i{2,}v*x*\\.*)|(iv\\.*)|(ix\\.*)|(v\\.*)|(v+i*\\.*)|(x+l*v*i*\\.*))\\s', ' ', result)\n",
        "\n",
        "  # remove periods and commas flanked by numbers\n",
        "  result = re.sub(r'\\d\\.\\d', ' ', result)\n",
        "  result = re.sub(r'\\d,\\d', ' ', result)\n",
        "\n",
        "  # remove the number-letter-number pattern used for many citations\n",
        "  result = re.sub(r'\\d*\\w{,2}\\d', ' ', result)\n",
        "\n",
        "  # remove numerical characters\n",
        "  result = re.sub(r'\\d+', ' ', result)\n",
        "\n",
        "  # remove words of 2+ characters that are entirely capitalized \n",
        "  # (these are almost always titles, headings, or speakers in a dialogue)\n",
        "  # remove capital I's that follow capital words - these almost always roman numerals\n",
        "  # some texts do use these capitalizations meaningfully, so we make this optional\n",
        "  if capitals:\n",
        "    result = re.sub(r'[A-Z]{2,}\\s+I', ' ', result)\n",
        "    result = re.sub(r'[A-Z]{2,}', ' ', result)\n",
        "\n",
        "  # remove isolated colons and semicolons that result from removal of titles\n",
        "  result = re.sub(r'\\s+:\\s*', ' ', result)\n",
        "  result = re.sub(r'\\s+;\\s*', ' ', result)\n",
        "\n",
        "  # remove isolated letters (do it several times because strings of isolated letters do not get captured properly)\n",
        "  result = re.sub(r'\\s[^aAI\\.]\\s', ' ', result)\n",
        "  result = re.sub(r'\\s[^aAI\\.]\\s', ' ', result)\n",
        "  result = re.sub(r'\\s[^aAI\\.]\\s', ' ', result)\n",
        "  result = re.sub(r'\\s[^aAI\\.]\\s', ' ', result)\n",
        "  result = re.sub(r'\\s[^aAI\\.]\\s', ' ', result)\n",
        "  result = re.sub(r'\\s[^aAI\\.]\\s', ' ', result)\n",
        "\n",
        "  # remove isolated letters at the end of sentences or before commas\n",
        "  result = re.sub(r'\\s[^aI]\\.', '.', result)\n",
        "  result = re.sub(r'\\s[^aI],', ',', result)\n",
        "\n",
        "  # deal with spaces around periods and commas\n",
        "  result = re.sub(r'\\s+,\\s+', ', ', result)\n",
        "  result = re.sub(r'\\s+\\.\\s+', '. ', result)\n",
        "\n",
        "  # remove empty parantheses\n",
        "  result = re.sub(r'(\\(\\s*\\.*\\s*\\))|(\\(\\s*,*\\s*)\\)', ' ', result)\n",
        "  result = re.sub(r'\\.\\)\\.', '.', result)\n",
        "  result = re.sub(r'\\.\\(\\.', '.', result)\n",
        "\n",
        "  # reduce multiple periods, commas, or whitespaces into a single one\n",
        "  result = re.sub(r'\\.+', '.', result)\n",
        "  result = re.sub(r',+', ',', result)\n",
        "  result = re.sub(r'\\s+', ' ', result)\n",
        "\n",
        "  # deal with isolated problem cases discovered in the data:\n",
        "  for key in odd_words_dict.keys():\n",
        "    result = re.sub(r''+key+'', odd_words_dict[key], result)\n",
        "\n",
        "  return result"
      ],
      "execution_count": 6,
      "outputs": []
    },
    {
      "cell_type": "code",
      "metadata": {
        "id": "1OjRlTV_EEHM"
      },
      "source": [
        "# note extras like bracketed footnotes or specific words to remove\n",
        "\n"
      ],
      "execution_count": 7,
      "outputs": []
    },
    {
      "cell_type": "code",
      "metadata": {
        "id": "V6Y9RIRBED-F"
      },
      "source": [
        "# build a dictionary for the book\n",
        "book_dict = {\n",
        "    'author': 'Augustine',\n",
        "    'title': 'Confessions Of St. Augustine',\n",
        "    'text': augustine_confessions,\n",
        "    'school': 'Scholasticism',\n",
        "    'words to remove': [],\n",
        "    'remove capitals': False,\n",
        "    'bracketed fn': False,\n",
        "    'original date': 398,\n",
        "    'corpus date': 2002\n",
        "}\n"
      ],
      "execution_count": 8,
      "outputs": []
    },
    {
      "cell_type": "code",
      "metadata": {
        "cellView": "form",
        "id": "7fkWlxhoIOjA"
      },
      "source": [
        "#@title Oddities Dictionary for Cleaning\n",
        "# a dictionary of oddities to clean up\n",
        "odd_words_dict = {'\\sderstanding': 'derstanding',\n",
        "                  '\\sditference\\s': ' difference ',\n",
        "                  '\\sforthe\\s': ' for the ',\n",
        "                  '\\sject': 'ject',\n",
        "                  '\\sjects': 'jects', \n",
        "                  '\\sness': 'ness',\n",
        "                  '\\sper\\scent\\s': ' percent ',\n",
        "                  '\\sper\\scent\\.': ' percent.',\n",
        "                  '\\sper\\scent,': ' percent,',\n",
        "                  '\\wi\\son': 'ion',\n",
        "                  '\\spri\\sori': ' priori',\n",
        "                  '\\stences\\s': 'tences ',\n",
        "                  '\\sprincipleb': ' principle',\n",
        "                  '\\ssciousness': 'sciousness',\n",
        "                  '\\stion': 'tion',\n",
        "                  '\\spri\\s': ' pri',\n",
        "                  '\\scluding': 'cluding',\n",
        "                  '\\sdom': 'dom',\n",
        "                  '\\sers': 'ers',\n",
        "                  '\\scritiq\\s': ' critique ',\n",
        "                  '\\ssensati\\s': ' sensation ',\n",
        "                  '(?i)\\syou\\sll': \" you'll\",\n",
        "                  '\\sI\\sll': \" I'll\",\n",
        "                  '(?i)\\swe\\sll': \" we'll\",\n",
        "                  '(?i)he\\sll': \" he'll\",\n",
        "                  '(?i)who\\sll': \"who'll\",\n",
        "                  '(?i)\\sthere\\sll\\s': \" there'll \",\n",
        "                  '\\seduca\\s': ' education ',\n",
        "                  '\\slity\\s': 'lity ',\n",
        "                  '\\smultaneously\\s': 'multaneously ',\n",
        "                  '\\stically\\s': 'tically ',\n",
        "                  '\\sDa\\ssein\\s': ' Dasein ',\n",
        "                  '(?i)\\sthey\\sll\\s': \" they'll \",\n",
        "                  '(?i)\\sin\\tum\\s': ' in turn ',\n",
        "                  '\\scon~\\s': ' con',\n",
        "                  '\\sà\\s': ' a ',\n",
        "                  '\\sjor\\s': ' for ',\n",
        "                  '\\sluminating\\s': 'luminating ',\n",
        "                  '\\sselj\\s': ' self ',\n",
        "                  '\\stial\\s': 'tial ',\n",
        "                  '\\sversal\\s': 'versal ',\n",
        "                  '\\sexis\\st': ' exist',\n",
        "                  '\\splauded\\s': 'plauded ',\n",
        "                  '\\suiry\\s': 'uiry ',\n",
        "                  '\\svithin\\s': ' within ',\n",
        "                  '\\soj\\s': ' of ',\n",
        "                  '\\sposi\\st': ' posit',\n",
        "                  '\\sra\\sther\\s': ' rather ',\n",
        "                  '(?i)\\sthat\\sll\\s': \" that'll \",\n",
        "                  '(?i)\\sa\\sll\\s': ' all ',\n",
        "                  '\\so\\sther\\s': ' other ',\n",
        "                  '\\sra\\sther\\s': ' rather ',\n",
        "                  '\\snei\\sther\\s': ' neither ',\n",
        "                  '\\sei\\sther\\s': ' either ',\n",
        "                  '\\sfur\\sther\\s': ' further ',\n",
        "                  '\\sano\\sther': ' another ',\n",
        "                  '\\sneces\\s': ' neces',\n",
        "                  'u\\slar\\s': 'ular ',\n",
        "                  '\\sference\\s': 'ference ',\n",
        "                  '(?i)it\\sll\\s': \"it'll \",\n",
        "                  '\\stoge\\sther': ' together ',\n",
        "                  '\\sknowledgeb\\s': ' knowledge ',\n",
        "                  'r\\stain\\s': 'rtain ',\n",
        "                  'on\\stain\\s': 'ontain',\n",
        "                  '(?i)j\\sect\\s': 'ject',\n",
        "                  '\\sob\\sect\\s': ' object ',\n",
        "                  '\\sbtle\\s': 'btle ',\n",
        "                  '\\snition\\s': 'nition ',\n",
        "                  '\\sdering\\s': 'dering ', \n",
        "                  '\\sized\\s': 'ized ',\n",
        "                  '\\sther\\shand': ' other hand',\n",
        "                  '\\ture\\s': 'ture ',\n",
        "                  '\\sabso\\sl': ' absol',\n",
        "                  '\\stly\\s': 'tly ',\n",
        "                  '\\serty\\s': 'erty ',\n",
        "                  '\\sobj\\se': ' obj',\n",
        "                  '\\sffiir\\s': ' for ',\n",
        "                  '\\sndeed\\s': ' indeed ',\n",
        "                  '\\sfonn\\s': ' form ',\n",
        "                  '\\snally\\s': 'nally ',\n",
        "                  'ain\\sty\\s': 'ainty ',\n",
        "                  'ici\\sty\\s': 'icity ',\n",
        "                  '\\scog\\sni': ' cogni',\n",
        "                  '\\sacc\\s': ' acc',\n",
        "                  '\\sindi\\svid\\sual': ' individual', \n",
        "                  '\\sintu\\sit': ' intuit',\n",
        "                  'r\\sance\\s': 'rance ',\n",
        "                  '\\ssions\\s': 'sions ',\n",
        "                  '\\sances\\s': 'ances ',\n",
        "                  '\\sper\\sception\\s': ' perception ',\n",
        "                  '\\sse\\sries\\s': ' series ',\n",
        "                  '\\sque\\sries\\s': ' queries ',\n",
        "                  '\\sessary\\s': 'essary ',\n",
        "                  '\\sofa\\s': ' of a ',\n",
        "                  '\\scer\\stainty\\s': ' certainty ',\n",
        "                  'ec\\stivity\\s': 'ectivity ',\n",
        "                  '\\stivity\\s': 'tivity ',\n",
        "                  '\\slation\\s': 'lation ',\n",
        "                  '\\sir\\sr': ' irr',\n",
        "                  '\\ssub\\sstance\\s': ' substance ',\n",
        "                  'sec\\sond\\s': 'second ',\n",
        "                  '\\s\\.rv': '',\n",
        "                  '\\story\\s': 'tory ',\n",
        "                  '\\sture\\s': 'ture ',\n",
        "                  '\\sminate\\s': 'minate ',\n",
        "                  '\\sing\\s': 'ing ',\n",
        "                  '\\splicity\\s': 'plicity ',\n",
        "                  '\\ssimi\\slar\\s': ' similar ',\n",
        "                  '\\scom\\smunity\\s': ' community ',\n",
        "                  '\\sitselfa\\s': ' itself a ',\n",
        "                  '\\ssimp\\s': ' simply ',\n",
        "                  '\\scon\\stex': ' contex',\n",
        "                  '\\scon\\sseq': ' conseq',\n",
        "                  '\\scon\\stai': ' contai',\n",
        "                  '\\sofwhat\\s': ' of what ',\n",
        "                  '\\sui\\s': 'ui',\n",
        "                  '\\sofan\\s': ' of an ',\n",
        "                  '\\saccor\\sdance\\s': ' accordance ',\n",
        "                  '\\stranscen\\sdental\\s': ' transcendental ',\n",
        "                  '\\sap\\spearances\\s': ' appearances ',\n",
        "                  'e\\squences\\s': 'equences ',\n",
        "                  '\\sorits\\s': ' or its ',\n",
        "                  '\\simma\\sn': ' imman',\n",
        "                  '\\seq\\sua': ' equa',\n",
        "                  '\\simpl\\sied\\s': ' implied ',\n",
        "                  '\\sbuta\\s': ' but a ',\n",
        "                  '\\sa\\snd\\s': ' and ',\n",
        "                  '\\sence\\s': 'ence ',\n",
        "                  '\\stain\\s': 'tain ',\n",
        "                  '\\sunder\\sstanding\\s': ' understanding ',\n",
        "                  'i\\sence\\s': 'ience ',\n",
        "                  'r\\sence\\s': 'rence ',\n",
        "                  '\\stical\\s': 'tical ',\n",
        "                  '\\sobjectsb\\s': ' objects ',\n",
        "                  '\\stbe\\s': ' the ',\n",
        "                  '\\smul\\st': ' mult',\n",
        "                  '\\sgen\\seral\\s': ' general ',\n",
        "                  '\\suniver\\ssal\\s': ' universal ',\n",
        "                  '\\scon\\stent\\s': ' content ',\n",
        "                  '\\spar\\sticular\\s': ' particular ',\n",
        "                  'ver\\ssity\\s': 'versity ',\n",
        "                  '\\sCritiq\\s': ' Critique ',\n",
        "                  '\\sphilo\\ssophy\\s': ' philosophy ',\n",
        "                  '\\seq\\s': ' eq'}"
      ],
      "execution_count": 9,
      "outputs": []
    },
    {
      "cell_type": "code",
      "metadata": {
        "id": "bXDII00UED1c"
      },
      "source": [
        "# a function that takes the dictionary and returns a dataframe of sentences\n",
        "def from_raw_to_df(text_dict):\n",
        "  nlp.max_length = 9000000\n",
        "  text = text_dict['text']\n",
        "  text = remove_words(text, text_dict['words to remove'])\n",
        "  text = baseline_clean(text, capitals=text_dict['remove capitals'],\n",
        "                        bracketed_fn=text_dict['bracketed fn'],\n",
        "                        odd_words_dict=odd_words_dict)\n",
        "  text_nlp = nlp(text, disable=['ner'])\n",
        "  text_df = pd.DataFrame(columns=['title', 'author', 'school', 'sentence_spacy'])\n",
        "  text_df['sentence_spacy'] = list(text_nlp.sents)\n",
        "  text_df['author'] = text_dict['author']\n",
        "  text_df['title'] = text_dict['title']\n",
        "  text_df['school'] = text_dict['school']\n",
        "  text_df['original_publication_date'] = text_dict['original date']\n",
        "  text_df['corpus_edition_date'] = text_dict['corpus date']\n",
        "  text_df['sentence_str'] = text_df['sentence_spacy'].apply(lambda x: ''.join(list(str(x))))\n",
        "  return text_df"
      ],
      "execution_count": 10,
      "outputs": []
    },
    {
      "cell_type": "code",
      "metadata": {
        "id": "w14qMlTrFM4s"
      },
      "source": [
        "# use the function\n",
        "df = from_raw_to_df(book_dict)"
      ],
      "execution_count": 11,
      "outputs": []
    },
    {
      "cell_type": "code",
      "metadata": {
        "colab": {
          "base_uri": "https://localhost:8080/",
          "height": 1000
        },
        "id": "IZ3JhAyNFept",
        "outputId": "c3ccb961-79a6-468f-d715-248852bb8e84"
      },
      "source": [
        "# checking the result\n",
        "pd.options.display.max_colwidth = 200\n",
        "df.sample(10)"
      ],
      "execution_count": 12,
      "outputs": [
        {
          "output_type": "execute_result",
          "data": {
            "text/html": [
              "<div>\n",
              "<style scoped>\n",
              "    .dataframe tbody tr th:only-of-type {\n",
              "        vertical-align: middle;\n",
              "    }\n",
              "\n",
              "    .dataframe tbody tr th {\n",
              "        vertical-align: top;\n",
              "    }\n",
              "\n",
              "    .dataframe thead th {\n",
              "        text-align: right;\n",
              "    }\n",
              "</style>\n",
              "<table border=\"1\" class=\"dataframe\">\n",
              "  <thead>\n",
              "    <tr style=\"text-align: right;\">\n",
              "      <th></th>\n",
              "      <th>title</th>\n",
              "      <th>author</th>\n",
              "      <th>school</th>\n",
              "      <th>sentence_spacy</th>\n",
              "      <th>original_publication_date</th>\n",
              "      <th>corpus_edition_date</th>\n",
              "      <th>sentence_str</th>\n",
              "    </tr>\n",
              "  </thead>\n",
              "  <tbody>\n",
              "    <tr>\n",
              "      <th>630</th>\n",
              "      <td>Confessions Of St. Augustine</td>\n",
              "      <td>Augustine</td>\n",
              "      <td>Scholasticism</td>\n",
              "      <td>(As, if, in, an, armory, ,, one, ignorant, what, were, adapted, to, each, part, should, cover, his, head, with, greaves, ,, or, seek, to, be, shod, with, a, helmet, ,, and, complain, that, they, f...</td>\n",
              "      <td>398</td>\n",
              "      <td>2002</td>\n",
              "      <td>As if in an armory, one ignorant what were adapted to each part should cover his head with greaves, or seek to be shod with a helmet, and complain that they fitted not: or as if on a day when busi...</td>\n",
              "    </tr>\n",
              "    <tr>\n",
              "      <th>3892</th>\n",
              "      <td>Confessions Of St. Augustine</td>\n",
              "      <td>Augustine</td>\n",
              "      <td>Scholasticism</td>\n",
              "      <td>(First, then, was, that, to, be, spoken, of, ,, over, which, He, might, be, borne, ;, and, then, He, ,, whom, it, was, meet, not, otherwise, to, be, spoken, of, than, as, being, borne, .)</td>\n",
              "      <td>398</td>\n",
              "      <td>2002</td>\n",
              "      <td>First then was that to be spoken of, over which He might be borne; and then He, whom it was meet not otherwise to be spoken of than as being borne.</td>\n",
              "    </tr>\n",
              "    <tr>\n",
              "      <th>321</th>\n",
              "      <td>Confessions Of St. Augustine</td>\n",
              "      <td>Augustine</td>\n",
              "      <td>Scholasticism</td>\n",
              "      <td>(Before, them, what, more, foul, than, I, was, already, ,, displeasing, even, such, as, myself, ?)</td>\n",
              "      <td>398</td>\n",
              "      <td>2002</td>\n",
              "      <td>Before them what more foul than I was already, displeasing even such as myself?</td>\n",
              "    </tr>\n",
              "    <tr>\n",
              "      <th>3083</th>\n",
              "      <td>Confessions Of St. Augustine</td>\n",
              "      <td>Augustine</td>\n",
              "      <td>Scholasticism</td>\n",
              "      <td>(How, hast, Thou, loved, us, ,, good, Father, ,, who, sparedst, not, Thine, only, Son, ,, but, deliveredst, Him, up, for, us, ungodly, !)</td>\n",
              "      <td>398</td>\n",
              "      <td>2002</td>\n",
              "      <td>How hast Thou loved us, good Father, who sparedst not Thine only Son, but deliveredst Him up for us ungodly!</td>\n",
              "    </tr>\n",
              "    <tr>\n",
              "      <th>2755</th>\n",
              "      <td>Confessions Of St. Augustine</td>\n",
              "      <td>Augustine</td>\n",
              "      <td>Scholasticism</td>\n",
              "      <td>(Whence, she, shall, so, repay, them, ,, that, they, who, would, not, be, made, manifest, by, her, ,, she, both, against, their, will, makes, manifest, ,, and, herself, becometh, not, manifest, un...</td>\n",
              "      <td>398</td>\n",
              "      <td>2002</td>\n",
              "      <td>Whence she shall so repay them, that they who would not be made manifest by her, she both against their will makes manifest, and herself becometh not manifest unto them.</td>\n",
              "    </tr>\n",
              "    <tr>\n",
              "      <th>1150</th>\n",
              "      <td>Confessions Of St. Augustine</td>\n",
              "      <td>Augustine</td>\n",
              "      <td>Scholasticism</td>\n",
              "      <td>(Furthermore, ,, what, the, Manichees, had, criticised, in, Thy, Scriptures, ,, I, thought, could, not, be, defended, ;, yet, at, times, verily, I, had, a, wish, to, confer, upon, these, several, ...</td>\n",
              "      <td>398</td>\n",
              "      <td>2002</td>\n",
              "      <td>Furthermore, what the Manichees had criticised in Thy Scriptures, I thought could not be defended; yet at times verily I had a wish to confer upon these several points with some one very well skil...</td>\n",
              "    </tr>\n",
              "    <tr>\n",
              "      <th>1948</th>\n",
              "      <td>Confessions Of St. Augustine</td>\n",
              "      <td>Augustine</td>\n",
              "      <td>Scholasticism</td>\n",
              "      <td>(Whence, is, this, monstrousness, ?)</td>\n",
              "      <td>398</td>\n",
              "      <td>2002</td>\n",
              "      <td>Whence is this monstrousness?</td>\n",
              "    </tr>\n",
              "    <tr>\n",
              "      <th>232</th>\n",
              "      <td>Confessions Of St. Augustine</td>\n",
              "      <td>Augustine</td>\n",
              "      <td>Scholasticism</td>\n",
              "      <td>(echoed)</td>\n",
              "      <td>398</td>\n",
              "      <td>2002</td>\n",
              "      <td>echoed</td>\n",
              "    </tr>\n",
              "    <tr>\n",
              "      <th>3126</th>\n",
              "      <td>Confessions Of St. Augustine</td>\n",
              "      <td>Augustine</td>\n",
              "      <td>Scholasticism</td>\n",
              "      <td>(Behold, ,, Lord, my, God, ,, wherein, is, my, desire, .)</td>\n",
              "      <td>398</td>\n",
              "      <td>2002</td>\n",
              "      <td>Behold, Lord my God, wherein is my desire.</td>\n",
              "    </tr>\n",
              "    <tr>\n",
              "      <th>3071</th>\n",
              "      <td>Confessions Of St. Augustine</td>\n",
              "      <td>Augustine</td>\n",
              "      <td>Scholasticism</td>\n",
              "      <td>(For, they, were, mortal, ,, and, sinners, ;, but, thou, ,, Lord, ,, to, whom, they, proudly, sought, to, be, reconciled, ,, art, immortal, ,, and, without, sin, .)</td>\n",
              "      <td>398</td>\n",
              "      <td>2002</td>\n",
              "      <td>For they were mortal, and sinners; but thou, Lord, to whom they proudly sought to be reconciled, art immortal, and without sin.</td>\n",
              "    </tr>\n",
              "  </tbody>\n",
              "</table>\n",
              "</div>"
            ],
            "text/plain": [
              "                             title  ...                                                                                                                                                                                             sentence_str\n",
              "630   Confessions Of St. Augustine  ...  As if in an armory, one ignorant what were adapted to each part should cover his head with greaves, or seek to be shod with a helmet, and complain that they fitted not: or as if on a day when busi...\n",
              "3892  Confessions Of St. Augustine  ...                                                      First then was that to be spoken of, over which He might be borne; and then He, whom it was meet not otherwise to be spoken of than as being borne.\n",
              "321   Confessions Of St. Augustine  ...                                                                                                                          Before them what more foul than I was already, displeasing even such as myself?\n",
              "3083  Confessions Of St. Augustine  ...                                                                                             How hast Thou loved us, good Father, who sparedst not Thine only Son, but deliveredst Him up for us ungodly!\n",
              "2755  Confessions Of St. Augustine  ...                                Whence she shall so repay them, that they who would not be made manifest by her, she both against their will makes manifest, and herself becometh not manifest unto them.\n",
              "1150  Confessions Of St. Augustine  ...  Furthermore, what the Manichees had criticised in Thy Scriptures, I thought could not be defended; yet at times verily I had a wish to confer upon these several points with some one very well skil...\n",
              "1948  Confessions Of St. Augustine  ...                                                                                                                                                                            Whence is this monstrousness?\n",
              "232   Confessions Of St. Augustine  ...                                                                                                                                                                                                   echoed\n",
              "3126  Confessions Of St. Augustine  ...                                                                                                                                                               Behold, Lord my God, wherein is my desire.\n",
              "3071  Confessions Of St. Augustine  ...                                                                          For they were mortal, and sinners; but thou, Lord, to whom they proudly sought to be reconciled, art immortal, and without sin.\n",
              "\n",
              "[10 rows x 7 columns]"
            ]
          },
          "metadata": {
            "tags": []
          },
          "execution_count": 12
        }
      ]
    },
    {
      "cell_type": "code",
      "metadata": {
        "colab": {
          "base_uri": "https://localhost:8080/"
        },
        "id": "JZMqd8G0Ra-1",
        "outputId": "d243594c-623a-4fd9-d353-0af2ab3a511b"
      },
      "source": [
        "len(df)"
      ],
      "execution_count": 13,
      "outputs": [
        {
          "output_type": "execute_result",
          "data": {
            "text/plain": [
              "4261"
            ]
          },
          "metadata": {
            "tags": []
          },
          "execution_count": 13
        }
      ]
    },
    {
      "cell_type": "markdown",
      "metadata": {
        "id": "e-mqOl9pFgwH"
      },
      "source": [
        "#### Remove Short Sentences"
      ]
    },
    {
      "cell_type": "code",
      "metadata": {
        "colab": {
          "base_uri": "https://localhost:8080/",
          "height": 296
        },
        "id": "EfYhrwWuFzOl",
        "outputId": "962ab5e0-d49e-434a-fa50-d1c1159c4d1d"
      },
      "source": [
        "df['sentence_length'] = df['sentence_str'].map(lambda x: len(x))\n",
        "num_of_short_entries = len(df[df['sentence_length'] < 20])\n",
        "print(f\"there are {num_of_short_entries} so-called sentences with fewer than 20 characters\")\n",
        "df[df['sentence_length'] < 20].sample(5)"
      ],
      "execution_count": 14,
      "outputs": [
        {
          "output_type": "stream",
          "text": [
            "there are 186 so-called sentences with fewer than 20 characters\n"
          ],
          "name": "stdout"
        },
        {
          "output_type": "execute_result",
          "data": {
            "text/html": [
              "<div>\n",
              "<style scoped>\n",
              "    .dataframe tbody tr th:only-of-type {\n",
              "        vertical-align: middle;\n",
              "    }\n",
              "\n",
              "    .dataframe tbody tr th {\n",
              "        vertical-align: top;\n",
              "    }\n",
              "\n",
              "    .dataframe thead th {\n",
              "        text-align: right;\n",
              "    }\n",
              "</style>\n",
              "<table border=\"1\" class=\"dataframe\">\n",
              "  <thead>\n",
              "    <tr style=\"text-align: right;\">\n",
              "      <th></th>\n",
              "      <th>title</th>\n",
              "      <th>author</th>\n",
              "      <th>school</th>\n",
              "      <th>sentence_spacy</th>\n",
              "      <th>original_publication_date</th>\n",
              "      <th>corpus_edition_date</th>\n",
              "      <th>sentence_str</th>\n",
              "      <th>sentence_length</th>\n",
              "    </tr>\n",
              "  </thead>\n",
              "  <tbody>\n",
              "    <tr>\n",
              "      <th>3766</th>\n",
              "      <td>Confessions Of St. Augustine</td>\n",
              "      <td>Augustine</td>\n",
              "      <td>Scholasticism</td>\n",
              "      <td>(No, .)</td>\n",
              "      <td>398</td>\n",
              "      <td>2002</td>\n",
              "      <td>No.</td>\n",
              "      <td>3</td>\n",
              "    </tr>\n",
              "    <tr>\n",
              "      <th>2542</th>\n",
              "      <td>Confessions Of St. Augustine</td>\n",
              "      <td>Augustine</td>\n",
              "      <td>Scholasticism</td>\n",
              "      <td>(what, kind, it, is, ?)</td>\n",
              "      <td>398</td>\n",
              "      <td>2002</td>\n",
              "      <td>what kind it is?</td>\n",
              "      <td>16</td>\n",
              "    </tr>\n",
              "    <tr>\n",
              "      <th>2589</th>\n",
              "      <td>Confessions Of St. Augustine</td>\n",
              "      <td>Augustine</td>\n",
              "      <td>Scholasticism</td>\n",
              "      <td>(Who, will, say, so, ?)</td>\n",
              "      <td>398</td>\n",
              "      <td>2002</td>\n",
              "      <td>Who will say so?</td>\n",
              "      <td>16</td>\n",
              "    </tr>\n",
              "    <tr>\n",
              "      <th>21</th>\n",
              "      <td>Confessions Of St. Augustine</td>\n",
              "      <td>Augustine</td>\n",
              "      <td>Scholasticism</td>\n",
              "      <td>(Why, ?)</td>\n",
              "      <td>398</td>\n",
              "      <td>2002</td>\n",
              "      <td>Why?</td>\n",
              "      <td>4</td>\n",
              "    </tr>\n",
              "    <tr>\n",
              "      <th>2151</th>\n",
              "      <td>Confessions Of St. Augustine</td>\n",
              "      <td>Augustine</td>\n",
              "      <td>Scholasticism</td>\n",
              "      <td>(Know, this, :)</td>\n",
              "      <td>398</td>\n",
              "      <td>2002</td>\n",
              "      <td>Know this:</td>\n",
              "      <td>10</td>\n",
              "    </tr>\n",
              "  </tbody>\n",
              "</table>\n",
              "</div>"
            ],
            "text/plain": [
              "                             title  ... sentence_length\n",
              "3766  Confessions Of St. Augustine  ...               3\n",
              "2542  Confessions Of St. Augustine  ...              16\n",
              "2589  Confessions Of St. Augustine  ...              16\n",
              "21    Confessions Of St. Augustine  ...               4\n",
              "2151  Confessions Of St. Augustine  ...              10\n",
              "\n",
              "[5 rows x 8 columns]"
            ]
          },
          "metadata": {
            "tags": []
          },
          "execution_count": 14
        }
      ]
    },
    {
      "cell_type": "code",
      "metadata": {
        "colab": {
          "base_uri": "https://localhost:8080/"
        },
        "id": "RW0AZpVyF1Qk",
        "outputId": "7550c210-a47a-479e-9d11-633008f6d9a9"
      },
      "source": [
        "df = df.drop(df[df['sentence_length'] < 20].index)\n",
        "len(df)"
      ],
      "execution_count": 15,
      "outputs": [
        {
          "output_type": "execute_result",
          "data": {
            "text/plain": [
              "4075"
            ]
          },
          "metadata": {
            "tags": []
          },
          "execution_count": 15
        }
      ]
    },
    {
      "cell_type": "markdown",
      "metadata": {
        "id": "BX9UfoDtF3Lz"
      },
      "source": [
        "#### Remove Cases of Self-Mention"
      ]
    },
    {
      "cell_type": "code",
      "metadata": {
        "colab": {
          "base_uri": "https://localhost:8080/",
          "height": 64
        },
        "id": "LJnDfK9IF8hU",
        "outputId": "76afbe51-32d4-49a8-d619-0a9d6749b567"
      },
      "source": [
        "# change the author name in this cell \n",
        "\n",
        "self_mentions = df[df['sentence_str'].str.contains('\\s'+'Augustine'.lower())]\n",
        "print(len(self_mentions))\n",
        "self_mentions"
      ],
      "execution_count": 16,
      "outputs": [
        {
          "output_type": "stream",
          "text": [
            "0\n"
          ],
          "name": "stdout"
        },
        {
          "output_type": "execute_result",
          "data": {
            "text/html": [
              "<div>\n",
              "<style scoped>\n",
              "    .dataframe tbody tr th:only-of-type {\n",
              "        vertical-align: middle;\n",
              "    }\n",
              "\n",
              "    .dataframe tbody tr th {\n",
              "        vertical-align: top;\n",
              "    }\n",
              "\n",
              "    .dataframe thead th {\n",
              "        text-align: right;\n",
              "    }\n",
              "</style>\n",
              "<table border=\"1\" class=\"dataframe\">\n",
              "  <thead>\n",
              "    <tr style=\"text-align: right;\">\n",
              "      <th></th>\n",
              "      <th>title</th>\n",
              "      <th>author</th>\n",
              "      <th>school</th>\n",
              "      <th>sentence_spacy</th>\n",
              "      <th>original_publication_date</th>\n",
              "      <th>corpus_edition_date</th>\n",
              "      <th>sentence_str</th>\n",
              "      <th>sentence_length</th>\n",
              "    </tr>\n",
              "  </thead>\n",
              "  <tbody>\n",
              "  </tbody>\n",
              "</table>\n",
              "</div>"
            ],
            "text/plain": [
              "Empty DataFrame\n",
              "Columns: [title, author, school, sentence_spacy, original_publication_date, corpus_edition_date, sentence_str, sentence_length]\n",
              "Index: []"
            ]
          },
          "metadata": {
            "tags": []
          },
          "execution_count": 16
        }
      ]
    },
    {
      "cell_type": "code",
      "metadata": {
        "colab": {
          "base_uri": "https://localhost:8080/"
        },
        "id": "mt86zZ3RF8q8",
        "outputId": "a88d2844-c855-4648-f5a3-34ad4a9d7d4e"
      },
      "source": [
        "df = df.drop(df[df['sentence_str'].str.contains('\\s'+'Augustine'.lower())].index)\n",
        "\n",
        "len(df)"
      ],
      "execution_count": 17,
      "outputs": [
        {
          "output_type": "execute_result",
          "data": {
            "text/plain": [
              "4075"
            ]
          },
          "metadata": {
            "tags": []
          },
          "execution_count": 17
        }
      ]
    },
    {
      "cell_type": "markdown",
      "metadata": {
        "id": "vglbGXSFF8y4"
      },
      "source": [
        "#### Deal with Duplicates"
      ]
    },
    {
      "cell_type": "code",
      "metadata": {
        "colab": {
          "base_uri": "https://localhost:8080/"
        },
        "id": "DRXjQSIQHpa-",
        "outputId": "da1095be-4f17-4ddb-9028-6fa20924c0ca"
      },
      "source": [
        "# find the total number of duplicates\n",
        "len(df['sentence_str'])-len(df['sentence_str'].drop_duplicates())"
      ],
      "execution_count": 18,
      "outputs": [
        {
          "output_type": "execute_result",
          "data": {
            "text/plain": [
              "7"
            ]
          },
          "metadata": {
            "tags": []
          },
          "execution_count": 18
        }
      ]
    },
    {
      "cell_type": "code",
      "metadata": {
        "colab": {
          "base_uri": "https://localhost:8080/",
          "height": 1000
        },
        "id": "sHn4mTy2TR3P",
        "outputId": "8f4afed1-e014-420a-cb5d-0c53a0502e75"
      },
      "source": [
        "doubles_df = pd.concat(g for _, g in df.groupby(\"sentence_str\") if len(g) > 1)\n",
        "doubles_df"
      ],
      "execution_count": 19,
      "outputs": [
        {
          "output_type": "execute_result",
          "data": {
            "text/html": [
              "<div>\n",
              "<style scoped>\n",
              "    .dataframe tbody tr th:only-of-type {\n",
              "        vertical-align: middle;\n",
              "    }\n",
              "\n",
              "    .dataframe tbody tr th {\n",
              "        vertical-align: top;\n",
              "    }\n",
              "\n",
              "    .dataframe thead th {\n",
              "        text-align: right;\n",
              "    }\n",
              "</style>\n",
              "<table border=\"1\" class=\"dataframe\">\n",
              "  <thead>\n",
              "    <tr style=\"text-align: right;\">\n",
              "      <th></th>\n",
              "      <th>title</th>\n",
              "      <th>author</th>\n",
              "      <th>school</th>\n",
              "      <th>sentence_spacy</th>\n",
              "      <th>original_publication_date</th>\n",
              "      <th>corpus_edition_date</th>\n",
              "      <th>sentence_str</th>\n",
              "      <th>sentence_length</th>\n",
              "    </tr>\n",
              "  </thead>\n",
              "  <tbody>\n",
              "    <tr>\n",
              "      <th>3738</th>\n",
              "      <td>Confessions Of St. Augustine</td>\n",
              "      <td>Augustine</td>\n",
              "      <td>Scholasticism</td>\n",
              "      <td>(Another, he, who, says, ,, The, earth, was, invisible, and, without, form, ,, and, darkness, was, upon, the, deep, ;)</td>\n",
              "      <td>398</td>\n",
              "      <td>2002</td>\n",
              "      <td>Another he who says, The earth was invisible and without form, and darkness was upon the deep;</td>\n",
              "      <td>94</td>\n",
              "    </tr>\n",
              "    <tr>\n",
              "      <th>3740</th>\n",
              "      <td>Confessions Of St. Augustine</td>\n",
              "      <td>Augustine</td>\n",
              "      <td>Scholasticism</td>\n",
              "      <td>(Another, he, who, says, ,, The, earth, was, invisible, and, without, form, ,, and, darkness, was, upon, the, deep, ;)</td>\n",
              "      <td>398</td>\n",
              "      <td>2002</td>\n",
              "      <td>Another he who says, The earth was invisible and without form, and darkness was upon the deep;</td>\n",
              "      <td>94</td>\n",
              "    </tr>\n",
              "    <tr>\n",
              "      <th>2822</th>\n",
              "      <td>Confessions Of St. Augustine</td>\n",
              "      <td>Augustine</td>\n",
              "      <td>Scholasticism</td>\n",
              "      <td>(Give, what, Thou, enjoinest, ,, and, enjoin, what, Thou, wilt, .)</td>\n",
              "      <td>398</td>\n",
              "      <td>2002</td>\n",
              "      <td>Give what Thou enjoinest, and enjoin what Thou wilt.</td>\n",
              "      <td>52</td>\n",
              "    </tr>\n",
              "    <tr>\n",
              "      <th>2884</th>\n",
              "      <td>Confessions Of St. Augustine</td>\n",
              "      <td>Augustine</td>\n",
              "      <td>Scholasticism</td>\n",
              "      <td>(Give, what, Thou, enjoinest, ,, and, enjoin, what, Thou, wilt, .)</td>\n",
              "      <td>398</td>\n",
              "      <td>2002</td>\n",
              "      <td>Give what Thou enjoinest, and enjoin what Thou wilt.</td>\n",
              "      <td>52</td>\n",
              "    </tr>\n",
              "    <tr>\n",
              "      <th>3003</th>\n",
              "      <td>Confessions Of St. Augustine</td>\n",
              "      <td>Augustine</td>\n",
              "      <td>Scholasticism</td>\n",
              "      <td>(Give, what, Thou, enjoinest, ,, and, enjoin, what, Thou, wilt, .)</td>\n",
              "      <td>398</td>\n",
              "      <td>2002</td>\n",
              "      <td>Give what Thou enjoinest, and enjoin what Thou wilt.</td>\n",
              "      <td>52</td>\n",
              "    </tr>\n",
              "    <tr>\n",
              "      <th>3731</th>\n",
              "      <td>Confessions Of St. Augustine</td>\n",
              "      <td>Augustine</td>\n",
              "      <td>Scholasticism</td>\n",
              "      <td>(He, another, ,, that, saith, ,, In, the, Beginning, God, made, heaven, and, earth)</td>\n",
              "      <td>398</td>\n",
              "      <td>2002</td>\n",
              "      <td>He another, that saith, In the Beginning God made heaven and earth</td>\n",
              "      <td>66</td>\n",
              "    </tr>\n",
              "    <tr>\n",
              "      <th>3733</th>\n",
              "      <td>Confessions Of St. Augustine</td>\n",
              "      <td>Augustine</td>\n",
              "      <td>Scholasticism</td>\n",
              "      <td>(He, another, ,, that, saith, ,, In, the, Beginning, God, made, heaven, and, earth)</td>\n",
              "      <td>398</td>\n",
              "      <td>2002</td>\n",
              "      <td>He another, that saith, In the Beginning God made heaven and earth</td>\n",
              "      <td>66</td>\n",
              "    </tr>\n",
              "    <tr>\n",
              "      <th>2801</th>\n",
              "      <td>Confessions Of St. Augustine</td>\n",
              "      <td>Augustine</td>\n",
              "      <td>Scholasticism</td>\n",
              "      <td>(Lord, ,, have, pity, on, me, .)</td>\n",
              "      <td>398</td>\n",
              "      <td>2002</td>\n",
              "      <td>Lord, have pity on me.</td>\n",
              "      <td>22</td>\n",
              "    </tr>\n",
              "    <tr>\n",
              "      <th>2804</th>\n",
              "      <td>Confessions Of St. Augustine</td>\n",
              "      <td>Augustine</td>\n",
              "      <td>Scholasticism</td>\n",
              "      <td>(Lord, ,, have, pity, on, me, .)</td>\n",
              "      <td>398</td>\n",
              "      <td>2002</td>\n",
              "      <td>Lord, have pity on me.</td>\n",
              "      <td>22</td>\n",
              "    </tr>\n",
              "    <tr>\n",
              "      <th>1948</th>\n",
              "      <td>Confessions Of St. Augustine</td>\n",
              "      <td>Augustine</td>\n",
              "      <td>Scholasticism</td>\n",
              "      <td>(Whence, is, this, monstrousness, ?)</td>\n",
              "      <td>398</td>\n",
              "      <td>2002</td>\n",
              "      <td>Whence is this monstrousness?</td>\n",
              "      <td>29</td>\n",
              "    </tr>\n",
              "    <tr>\n",
              "      <th>1951</th>\n",
              "      <td>Confessions Of St. Augustine</td>\n",
              "      <td>Augustine</td>\n",
              "      <td>Scholasticism</td>\n",
              "      <td>(Whence, is, this, monstrousness, ?)</td>\n",
              "      <td>398</td>\n",
              "      <td>2002</td>\n",
              "      <td>Whence is this monstrousness?</td>\n",
              "      <td>29</td>\n",
              "    </tr>\n",
              "    <tr>\n",
              "      <th>2139</th>\n",
              "      <td>Confessions Of St. Augustine</td>\n",
              "      <td>Augustine</td>\n",
              "      <td>Scholasticism</td>\n",
              "      <td>(why, do, ye, love, vanity, ,, and, seek, after, leasing, ?)</td>\n",
              "      <td>398</td>\n",
              "      <td>2002</td>\n",
              "      <td>why do ye love vanity, and seek after leasing?</td>\n",
              "      <td>46</td>\n",
              "    </tr>\n",
              "    <tr>\n",
              "      <th>2146</th>\n",
              "      <td>Confessions Of St. Augustine</td>\n",
              "      <td>Augustine</td>\n",
              "      <td>Scholasticism</td>\n",
              "      <td>(why, do, ye, love, vanity, ,, and, seek, after, leasing, ?)</td>\n",
              "      <td>398</td>\n",
              "      <td>2002</td>\n",
              "      <td>why do ye love vanity, and seek after leasing?</td>\n",
              "      <td>46</td>\n",
              "    </tr>\n",
              "  </tbody>\n",
              "</table>\n",
              "</div>"
            ],
            "text/plain": [
              "                             title  ... sentence_length\n",
              "3738  Confessions Of St. Augustine  ...              94\n",
              "3740  Confessions Of St. Augustine  ...              94\n",
              "2822  Confessions Of St. Augustine  ...              52\n",
              "2884  Confessions Of St. Augustine  ...              52\n",
              "3003  Confessions Of St. Augustine  ...              52\n",
              "3731  Confessions Of St. Augustine  ...              66\n",
              "3733  Confessions Of St. Augustine  ...              66\n",
              "2801  Confessions Of St. Augustine  ...              22\n",
              "2804  Confessions Of St. Augustine  ...              22\n",
              "1948  Confessions Of St. Augustine  ...              29\n",
              "1951  Confessions Of St. Augustine  ...              29\n",
              "2139  Confessions Of St. Augustine  ...              46\n",
              "2146  Confessions Of St. Augustine  ...              46\n",
              "\n",
              "[13 rows x 8 columns]"
            ]
          },
          "metadata": {
            "tags": []
          },
          "execution_count": 19
        }
      ]
    },
    {
      "cell_type": "code",
      "metadata": {
        "id": "ti-7vXDjTh0s"
      },
      "source": [
        "df = df.drop(df[df['sentence_str'].duplicated(keep='first')].index)"
      ],
      "execution_count": 20,
      "outputs": []
    },
    {
      "cell_type": "code",
      "metadata": {
        "colab": {
          "base_uri": "https://localhost:8080/"
        },
        "id": "eFT73wJCThrT",
        "outputId": "fa490332-ed2a-4baf-81ae-60dc83428007"
      },
      "source": [
        "len(df)"
      ],
      "execution_count": 21,
      "outputs": [
        {
          "output_type": "execute_result",
          "data": {
            "text/plain": [
              "4068"
            ]
          },
          "metadata": {
            "tags": []
          },
          "execution_count": 21
        }
      ]
    },
    {
      "cell_type": "markdown",
      "metadata": {
        "id": "5HnVnn1WHrTW"
      },
      "source": [
        "#### Check for Foreign Languages"
      ]
    },
    {
      "cell_type": "code",
      "metadata": {
        "colab": {
          "base_uri": "https://localhost:8080/"
        },
        "id": "SVcwhudjH5jY",
        "outputId": "3396fd38-1f49-4bc5-98a4-99e1abca53af"
      },
      "source": [
        "# checking for 'der', a common article in German\n",
        "len((df[df['sentence_str'].str.contains('\\sder\\s')]))"
      ],
      "execution_count": 22,
      "outputs": [
        {
          "output_type": "execute_result",
          "data": {
            "text/plain": [
              "0"
            ]
          },
          "metadata": {
            "tags": []
          },
          "execution_count": 22
        }
      ]
    },
    {
      "cell_type": "code",
      "metadata": {
        "colab": {
          "base_uri": "https://localhost:8080/"
        },
        "id": "jBzPHm8PH4XB",
        "outputId": "be4b5dc4-5bc7-4241-b6f2-9efc05910d7a"
      },
      "source": [
        "# checking for 'il', a common article in French\n",
        "len(df[df['sentence_str'].str.contains('\\sil\\s')])"
      ],
      "execution_count": 23,
      "outputs": [
        {
          "output_type": "execute_result",
          "data": {
            "text/plain": [
              "0"
            ]
          },
          "metadata": {
            "tags": []
          },
          "execution_count": 23
        }
      ]
    },
    {
      "cell_type": "markdown",
      "metadata": {
        "id": "NxWbjI0IiAzE"
      },
      "source": [
        "#### Some Ad Hoc Cleaning"
      ]
    },
    {
      "cell_type": "code",
      "metadata": {
        "colab": {
          "base_uri": "https://localhost:8080/"
        },
        "id": "a8YsiZc_h-iu",
        "outputId": "a7eeed38-811b-4ee8-e4fe-41fd24d8bde4"
      },
      "source": [
        "# miscellaneous nonsense sentences\n",
        "df = df.drop(df[df['sentence_str'].str.contains('\\spp\\s')].index)\n",
        "df = df.drop(df[df['sentence_str'].str.contains('\\stotam\\s')].index)\n",
        "df = df.drop(df[df['sentence_str'].str.contains('\\srree\\s')].index)\n",
        "df = df.drop(df[df['sentence_str'].str.contains('\\sflir\\s')].index)\n",
        "df = df.drop(df[(df['sentence_str'].str.contains('\\smodis\\s')) & (df['author'] != 'Kant')].index)\n",
        "\n",
        "len(df)"
      ],
      "execution_count": 24,
      "outputs": [
        {
          "output_type": "execute_result",
          "data": {
            "text/plain": [
              "4068"
            ]
          },
          "metadata": {
            "tags": []
          },
          "execution_count": 24
        }
      ]
    },
    {
      "cell_type": "code",
      "metadata": {
        "colab": {
          "base_uri": "https://localhost:8080/"
        },
        "id": "wwQzpQ2_iJEU",
        "outputId": "c641b09c-066d-4c02-c662-f7c85af539fe"
      },
      "source": [
        "# markers of french and notes\n",
        "df = df.drop(df[df['sentence_str'].str.contains('\\schapitre')].index)\n",
        "df = df.drop(df[df['sentence_str'].str.contains('\\salisme')].index)\n",
        "df = df.drop(df[df['sentence_str'].str.contains('\\sHahn')].index)\n",
        "\n",
        "len(df)"
      ],
      "execution_count": 25,
      "outputs": [
        {
          "output_type": "execute_result",
          "data": {
            "text/plain": [
              "4068"
            ]
          },
          "metadata": {
            "tags": []
          },
          "execution_count": 25
        }
      ]
    },
    {
      "cell_type": "code",
      "metadata": {
        "colab": {
          "base_uri": "https://localhost:8080/"
        },
        "id": "WcQoVnariNWg",
        "outputId": "200a135c-6182-4892-e137-b537edf4f94b"
      },
      "source": [
        "# some notes in Kant\n",
        "df = df.drop(df[df['sentence_str'].str.contains('\\sVorl\\s')].index)\n",
        "df = df.drop(df[df['sentence_str'].str.contains('\\sberschwenglich')].index)\n",
        "\n",
        "len(df)"
      ],
      "execution_count": 26,
      "outputs": [
        {
          "output_type": "execute_result",
          "data": {
            "text/plain": [
              "4068"
            ]
          },
          "metadata": {
            "tags": []
          },
          "execution_count": 26
        }
      ]
    },
    {
      "cell_type": "code",
      "metadata": {
        "colab": {
          "base_uri": "https://localhost:8080/"
        },
        "id": "GI3dJy_dibCA",
        "outputId": "4810962a-d301-4516-9f0f-052c1422bb7b"
      },
      "source": [
        "# a common phrase in Plato / Aristotle footnotes\n",
        "df = df.drop(df[(df['author']=='Plato') & (df['sentence_str'].str.contains('(?i)reading')) & (df['sentence_length'] < 40)].index)\n",
        "df = df.drop(df[(df['author']=='Aristotle') & (df['sentence_str'].str.contains('(?i)reading')) & (df['sentence_length'] < 40)].index)\n",
        "\n",
        "len(df)"
      ],
      "execution_count": 27,
      "outputs": [
        {
          "output_type": "execute_result",
          "data": {
            "text/plain": [
              "4068"
            ]
          },
          "metadata": {
            "tags": []
          },
          "execution_count": 27
        }
      ]
    },
    {
      "cell_type": "code",
      "metadata": {
        "colab": {
          "base_uri": "https://localhost:8080/"
        },
        "id": "DUt3mAjtigKB",
        "outputId": "fb3190c8-f12d-4baa-f222-b3d62b323c10"
      },
      "source": [
        "# mentions of Aristotle in Plato\n",
        "df = df.drop(df[(df['author']=='Plato') & df['sentence_str'].str.contains('Aristotle')].index)\n",
        "\n",
        "len(df)"
      ],
      "execution_count": 28,
      "outputs": [
        {
          "output_type": "execute_result",
          "data": {
            "text/plain": [
              "4068"
            ]
          },
          "metadata": {
            "tags": []
          },
          "execution_count": 28
        }
      ]
    },
    {
      "cell_type": "markdown",
      "metadata": {
        "id": "3Sd2rbDJHraR"
      },
      "source": [
        "### Lemmatize and Tokenize"
      ]
    },
    {
      "cell_type": "code",
      "metadata": {
        "id": "ziLKswX_Hrhd"
      },
      "source": [
        "from gensim.utils import simple_preprocess\n",
        "\n",
        "# use gensim to tokenize sentences\n",
        "df['tokenized_txt'] = df['sentence_str'].map(lambda x: simple_preprocess(x.lower(),deacc=True,\n",
        "                                                        max_len=200))\n",
        "\n",
        "# use spacey to get intelligent lemmatization\n",
        "def lemmatize_sentence(sentence):\n",
        "  lemmatized_txt = ''\n",
        "  for word in sentence:\n",
        "    lemmatized_txt += ' ' + str(word.lemma_)\n",
        "  return lemmatized_txt"
      ],
      "execution_count": 29,
      "outputs": []
    },
    {
      "cell_type": "code",
      "metadata": {
        "id": "8Sg_V1rxIdzJ"
      },
      "source": [
        "df['lemmatized_str'] = df['sentence_spacy'].apply(lemmatize_sentence)"
      ],
      "execution_count": 30,
      "outputs": []
    },
    {
      "cell_type": "code",
      "metadata": {
        "colab": {
          "base_uri": "https://localhost:8080/",
          "height": 686
        },
        "id": "0pyznlhXId8n",
        "outputId": "ae583aaa-bb56-4fdd-8ffb-bf86b9346e70"
      },
      "source": [
        "df.sample(5)"
      ],
      "execution_count": 31,
      "outputs": [
        {
          "output_type": "execute_result",
          "data": {
            "text/html": [
              "<div>\n",
              "<style scoped>\n",
              "    .dataframe tbody tr th:only-of-type {\n",
              "        vertical-align: middle;\n",
              "    }\n",
              "\n",
              "    .dataframe tbody tr th {\n",
              "        vertical-align: top;\n",
              "    }\n",
              "\n",
              "    .dataframe thead th {\n",
              "        text-align: right;\n",
              "    }\n",
              "</style>\n",
              "<table border=\"1\" class=\"dataframe\">\n",
              "  <thead>\n",
              "    <tr style=\"text-align: right;\">\n",
              "      <th></th>\n",
              "      <th>title</th>\n",
              "      <th>author</th>\n",
              "      <th>school</th>\n",
              "      <th>sentence_spacy</th>\n",
              "      <th>original_publication_date</th>\n",
              "      <th>corpus_edition_date</th>\n",
              "      <th>sentence_str</th>\n",
              "      <th>sentence_length</th>\n",
              "      <th>tokenized_txt</th>\n",
              "      <th>lemmatized_str</th>\n",
              "    </tr>\n",
              "  </thead>\n",
              "  <tbody>\n",
              "    <tr>\n",
              "      <th>3673</th>\n",
              "      <td>Confessions Of St. Augustine</td>\n",
              "      <td>Augustine</td>\n",
              "      <td>Scholasticism</td>\n",
              "      <td>(For, this, ,, though, created, ,, is, also, called, wisdom, .)</td>\n",
              "      <td>398</td>\n",
              "      <td>2002</td>\n",
              "      <td>For this, though created, is also called wisdom.</td>\n",
              "      <td>48</td>\n",
              "      <td>[for, this, though, created, is, also, called, wisdom]</td>\n",
              "      <td>for this , though create , be also call wisdom .</td>\n",
              "    </tr>\n",
              "    <tr>\n",
              "      <th>1887</th>\n",
              "      <td>Confessions Of St. Augustine</td>\n",
              "      <td>Augustine</td>\n",
              "      <td>Scholasticism</td>\n",
              "      <td>(and, by, how, many, perils, arrive, we, at, a, greater, peril, ?)</td>\n",
              "      <td>398</td>\n",
              "      <td>2002</td>\n",
              "      <td>and by how many perils arrive we at a greater peril?</td>\n",
              "      <td>52</td>\n",
              "      <td>[and, by, how, many, perils, arrive, we, at, greater, peril]</td>\n",
              "      <td>and by how many peril arrive -PRON- at a great peril ?</td>\n",
              "    </tr>\n",
              "    <tr>\n",
              "      <th>3570</th>\n",
              "      <td>Confessions Of St. Augustine</td>\n",
              "      <td>Augustine</td>\n",
              "      <td>Scholasticism</td>\n",
              "      <td>(not, that, it, wanted, all, form, ,, but, because, it, had, such, as, my, mind, would, ,, if, presented, to, it, ,, turn, from, ,, as, unwonted, and, jarring, ,, and, human, frailness, would, be,...</td>\n",
              "      <td>398</td>\n",
              "      <td>2002</td>\n",
              "      <td>not that it wanted all form, but because it had such as my mind would, if presented to it, turn from, as unwonted and jarring, and human frailness would be troubled at.</td>\n",
              "      <td>168</td>\n",
              "      <td>[not, that, it, wanted, all, form, but, because, it, had, such, as, my, mind, would, if, presented, to, it, turn, from, as, unwonted, and, jarring, and, human, frailness, would, be, troubled, at]</td>\n",
              "      <td>not that -PRON- want all form , but because -PRON- have such as -PRON- mind would , if present to -PRON- , turn from , as unwonted and jarring , and human frailness would be trouble at .</td>\n",
              "    </tr>\n",
              "    <tr>\n",
              "      <th>1886</th>\n",
              "      <td>Confessions Of St. Augustine</td>\n",
              "      <td>Augustine</td>\n",
              "      <td>Scholasticism</td>\n",
              "      <td>(and, in, this, ,, what, is, there, not, brittle, ,, and, full, of, perils, ?)</td>\n",
              "      <td>398</td>\n",
              "      <td>2002</td>\n",
              "      <td>and in this, what is there not brittle, and full of perils?</td>\n",
              "      <td>59</td>\n",
              "      <td>[and, in, this, what, is, there, not, brittle, and, full, of, perils]</td>\n",
              "      <td>and in this , what be there not brittle , and full of peril ?</td>\n",
              "    </tr>\n",
              "    <tr>\n",
              "      <th>3941</th>\n",
              "      <td>Confessions Of St. Augustine</td>\n",
              "      <td>Augustine</td>\n",
              "      <td>Scholasticism</td>\n",
              "      <td>(And, they, contend, and, strive, ,, yet, ,, without, peace, ,, no, man, sees, that, vision, .)</td>\n",
              "      <td>398</td>\n",
              "      <td>2002</td>\n",
              "      <td>And they contend and strive, yet, without peace, no man sees that vision.</td>\n",
              "      <td>73</td>\n",
              "      <td>[and, they, contend, and, strive, yet, without, peace, no, man, sees, that, vision]</td>\n",
              "      <td>and -PRON- contend and strive , yet , without peace , no man see that vision .</td>\n",
              "    </tr>\n",
              "  </tbody>\n",
              "</table>\n",
              "</div>"
            ],
            "text/plain": [
              "                             title  ...                                                                                                                                                                               lemmatized_str\n",
              "3673  Confessions Of St. Augustine  ...                                                                                                                                             for this , though create , be also call wisdom .\n",
              "1887  Confessions Of St. Augustine  ...                                                                                                                                       and by how many peril arrive -PRON- at a great peril ?\n",
              "3570  Confessions Of St. Augustine  ...   not that -PRON- want all form , but because -PRON- have such as -PRON- mind would , if present to -PRON- , turn from , as unwonted and jarring , and human frailness would be trouble at .\n",
              "1886  Confessions Of St. Augustine  ...                                                                                                                                and in this , what be there not brittle , and full of peril ?\n",
              "3941  Confessions Of St. Augustine  ...                                                                                                               and -PRON- contend and strive , yet , without peace , no man see that vision .\n",
              "\n",
              "[5 rows x 10 columns]"
            ]
          },
          "metadata": {
            "tags": []
          },
          "execution_count": 31
        }
      ]
    },
    {
      "cell_type": "markdown",
      "metadata": {
        "id": "AJOxPwDpIeDT"
      },
      "source": [
        "### Combine with the Old Dataframe & Export to CSV"
      ]
    },
    {
      "cell_type": "code",
      "metadata": {
        "colab": {
          "base_uri": "https://localhost:8080/",
          "height": 467
        },
        "id": "UU8QqgIXInkp",
        "outputId": "b26e85c8-1b36-4f4e-f41e-d9e0d8dd5ee5"
      },
      "source": [
        "# load the old version and check it out\n",
        "og_df = pd.read_csv('/gdrive/MyDrive/Colab_Projects/philosophy_data_project/philosophy_data.csv')\n",
        "og_df.sample(5)"
      ],
      "execution_count": 6,
      "outputs": [
        {
          "output_type": "execute_result",
          "data": {
            "text/html": [
              "<div>\n",
              "<style scoped>\n",
              "    .dataframe tbody tr th:only-of-type {\n",
              "        vertical-align: middle;\n",
              "    }\n",
              "\n",
              "    .dataframe tbody tr th {\n",
              "        vertical-align: top;\n",
              "    }\n",
              "\n",
              "    .dataframe thead th {\n",
              "        text-align: right;\n",
              "    }\n",
              "</style>\n",
              "<table border=\"1\" class=\"dataframe\">\n",
              "  <thead>\n",
              "    <tr style=\"text-align: right;\">\n",
              "      <th></th>\n",
              "      <th>title</th>\n",
              "      <th>author</th>\n",
              "      <th>school</th>\n",
              "      <th>sentence_spacy</th>\n",
              "      <th>sentence_str</th>\n",
              "      <th>original_publication_date</th>\n",
              "      <th>corpus_edition_date</th>\n",
              "      <th>sentence_length</th>\n",
              "      <th>sentence_lowered</th>\n",
              "      <th>tokenized_txt</th>\n",
              "      <th>lemmatized_str</th>\n",
              "    </tr>\n",
              "  </thead>\n",
              "  <tbody>\n",
              "    <tr>\n",
              "      <th>84319</th>\n",
              "      <td>Aristotle - Complete Works</td>\n",
              "      <td>Aristotle</td>\n",
              "      <td>aristotle</td>\n",
              "      <td>Also those who have parents living, or childre...</td>\n",
              "      <td>Also those who have parents living, or childre...</td>\n",
              "      <td>-320</td>\n",
              "      <td>1991</td>\n",
              "      <td>135</td>\n",
              "      <td>also those who have parents living, or childre...</td>\n",
              "      <td>['also', 'those', 'who', 'have', 'parents', 'l...</td>\n",
              "      <td>also those who have parent live , or child , ...</td>\n",
              "    </tr>\n",
              "    <tr>\n",
              "      <th>105038</th>\n",
              "      <td>Three Dialogues</td>\n",
              "      <td>Berkeley</td>\n",
              "      <td>empiricism</td>\n",
              "      <td>Besides spirits, all that we know or conceive ...</td>\n",
              "      <td>Besides spirits, all that we know or conceive ...</td>\n",
              "      <td>1713</td>\n",
              "      <td>2009</td>\n",
              "      <td>64</td>\n",
              "      <td>besides spirits, all that we know or conceive ...</td>\n",
              "      <td>['besides', 'spirits', 'all', 'that', 'we', 'k...</td>\n",
              "      <td>besides spirit , all that -PRON- know or conc...</td>\n",
              "    </tr>\n",
              "    <tr>\n",
              "      <th>194500</th>\n",
              "      <td>History Of Madness</td>\n",
              "      <td>Foucault</td>\n",
              "      <td>continental</td>\n",
              "      <td>His health was only restored in the social val...</td>\n",
              "      <td>His health was only restored in the social val...</td>\n",
              "      <td>1961</td>\n",
              "      <td>2006</td>\n",
              "      <td>100</td>\n",
              "      <td>his health was only restored in the social val...</td>\n",
              "      <td>['his', 'health', 'was', 'only', 'restored', '...</td>\n",
              "      <td>-PRON- health be only restore in the social v...</td>\n",
              "    </tr>\n",
              "    <tr>\n",
              "      <th>143706</th>\n",
              "      <td>Philosophical Investigations</td>\n",
              "      <td>Wittgenstein</td>\n",
              "      <td>analytic</td>\n",
              "      <td>I suddenly see the solution of a puzzle picture.</td>\n",
              "      <td>I suddenly see the solution of a puzzle picture.</td>\n",
              "      <td>1953</td>\n",
              "      <td>1986</td>\n",
              "      <td>48</td>\n",
              "      <td>i suddenly see the solution of a puzzle picture.</td>\n",
              "      <td>['suddenly', 'see', 'the', 'solution', 'of', '...</td>\n",
              "      <td>-PRON- suddenly see the solution of a puzzle ...</td>\n",
              "    </tr>\n",
              "    <tr>\n",
              "      <th>80701</th>\n",
              "      <td>Aristotle - Complete Works</td>\n",
              "      <td>Aristotle</td>\n",
              "      <td>aristotle</td>\n",
              "      <td>The doubt in these cases is, not who is, but w...</td>\n",
              "      <td>The doubt in these cases is, not who is, but w...</td>\n",
              "      <td>-320</td>\n",
              "      <td>1991</td>\n",
              "      <td>227</td>\n",
              "      <td>the doubt in these cases is, not who is, but w...</td>\n",
              "      <td>['the', 'doubt', 'in', 'these', 'cases', 'is',...</td>\n",
              "      <td>the doubt in these case be , not who be , but...</td>\n",
              "    </tr>\n",
              "  </tbody>\n",
              "</table>\n",
              "</div>"
            ],
            "text/plain": [
              "                               title  ...                                     lemmatized_str\n",
              "84319     Aristotle - Complete Works  ...   also those who have parent live , or child , ...\n",
              "105038               Three Dialogues  ...   besides spirit , all that -PRON- know or conc...\n",
              "194500            History Of Madness  ...   -PRON- health be only restore in the social v...\n",
              "143706  Philosophical Investigations  ...   -PRON- suddenly see the solution of a puzzle ...\n",
              "80701     Aristotle - Complete Works  ...   the doubt in these case be , not who be , but...\n",
              "\n",
              "[5 rows x 11 columns]"
            ]
          },
          "metadata": {
            "tags": []
          },
          "execution_count": 6
        }
      ]
    },
    {
      "cell_type": "code",
      "metadata": {
        "colab": {
          "base_uri": "https://localhost:8080/"
        },
        "id": "XfwEX5vzInx0",
        "outputId": "b1f2db80-0299-454b-a8cf-cb9437988ac1"
      },
      "source": [
        "og_df['author'].value_counts(normalize=True)"
      ],
      "execution_count": 7,
      "outputs": [
        {
          "output_type": "execute_result",
          "data": {
            "text/plain": [
              "Aristotle          0.133687\n",
              "Plato              0.105148\n",
              "Hegel              0.062213\n",
              "Foucault           0.041768\n",
              "Heidegger          0.041765\n",
              "Kant               0.038720\n",
              "Nietzsche          0.037130\n",
              "Marx               0.036969\n",
              "Lewis              0.035957\n",
              "Beauvoir           0.035675\n",
              "Malebranche        0.035620\n",
              "Deleuze            0.034368\n",
              "Kripke             0.034201\n",
              "Smith              0.032047\n",
              "Wittgenstein       0.024759\n",
              "Locke              0.024351\n",
              "Hume               0.022780\n",
              "Merleau-Ponty      0.020807\n",
              "Quine              0.020207\n",
              "Derrida            0.016441\n",
              "Husserl            0.015737\n",
              "Fichte             0.014547\n",
              "Russell            0.013903\n",
              "Leibniz            0.013777\n",
              "Popper             0.012821\n",
              "Lenin              0.012248\n",
              "Augustine          0.011149\n",
              "Spinoza            0.010395\n",
              "Moore              0.010053\n",
              "Keynes             0.009348\n",
              "Ricardo            0.008469\n",
              "Davis              0.008384\n",
              "Berkeley           0.007493\n",
              "Wollstonecraft     0.007013\n",
              "Marcus Aurelius    0.006062\n",
              "Descartes          0.003102\n",
              "Epictetus          0.000885\n",
              "Name: author, dtype: float64"
            ]
          },
          "metadata": {
            "tags": []
          },
          "execution_count": 7
        }
      ]
    },
    {
      "cell_type": "code",
      "metadata": {
        "colab": {
          "base_uri": "https://localhost:8080/"
        },
        "id": "VQcxBh37IoDJ",
        "outputId": "4bbc5ce5-492b-4d7f-d6cc-a002c1e600fc"
      },
      "source": [
        "# append the new data\n",
        "new_df = og_df.append(df)\n",
        "new_df['author'].value_counts(normalize=True)"
      ],
      "execution_count": 34,
      "outputs": [
        {
          "output_type": "execute_result",
          "data": {
            "text/plain": [
              "Aristotle          0.133687\n",
              "Plato              0.105148\n",
              "Hegel              0.062213\n",
              "Foucault           0.041768\n",
              "Heidegger          0.041765\n",
              "Kant               0.038720\n",
              "Nietzsche          0.037130\n",
              "Marx               0.036969\n",
              "Lewis              0.035957\n",
              "Beauvoir           0.035675\n",
              "Malebranche        0.035620\n",
              "Deleuze            0.034368\n",
              "Kripke             0.034201\n",
              "Smith              0.032047\n",
              "Wittgenstein       0.024759\n",
              "Locke              0.024351\n",
              "Hume               0.022780\n",
              "Merleau-Ponty      0.020807\n",
              "Quine              0.020207\n",
              "Derrida            0.016441\n",
              "Husserl            0.015737\n",
              "Fichte             0.014547\n",
              "Russell            0.013903\n",
              "Leibniz            0.013777\n",
              "Popper             0.012821\n",
              "Lenin              0.012248\n",
              "Augustine          0.011149\n",
              "Spinoza            0.010395\n",
              "Moore              0.010053\n",
              "Keynes             0.009348\n",
              "Ricardo            0.008469\n",
              "Davis              0.008384\n",
              "Berkeley           0.007493\n",
              "Wollstonecraft     0.007013\n",
              "Marcus Aurelius    0.006062\n",
              "Descartes          0.003102\n",
              "Epictetus          0.000885\n",
              "Name: author, dtype: float64"
            ]
          },
          "metadata": {
            "tags": []
          },
          "execution_count": 34
        }
      ]
    },
    {
      "cell_type": "code",
      "metadata": {
        "colab": {
          "base_uri": "https://localhost:8080/",
          "height": 971
        },
        "id": "bwgCHszFf6_p",
        "outputId": "8b3f38dc-e3a0-494f-a996-033dce64dd4d"
      },
      "source": [
        "new_df[new_df['author']=='Augustine'].sample(5)"
      ],
      "execution_count": 35,
      "outputs": [
        {
          "output_type": "execute_result",
          "data": {
            "text/html": [
              "<div>\n",
              "<style scoped>\n",
              "    .dataframe tbody tr th:only-of-type {\n",
              "        vertical-align: middle;\n",
              "    }\n",
              "\n",
              "    .dataframe tbody tr th {\n",
              "        vertical-align: top;\n",
              "    }\n",
              "\n",
              "    .dataframe thead th {\n",
              "        text-align: right;\n",
              "    }\n",
              "</style>\n",
              "<table border=\"1\" class=\"dataframe\">\n",
              "  <thead>\n",
              "    <tr style=\"text-align: right;\">\n",
              "      <th></th>\n",
              "      <th>title</th>\n",
              "      <th>author</th>\n",
              "      <th>school</th>\n",
              "      <th>sentence_spacy</th>\n",
              "      <th>sentence_str</th>\n",
              "      <th>original_publication_date</th>\n",
              "      <th>corpus_edition_date</th>\n",
              "      <th>sentence_length</th>\n",
              "      <th>sentence_lowered</th>\n",
              "      <th>tokenized_txt</th>\n",
              "      <th>lemmatized_str</th>\n",
              "    </tr>\n",
              "  </thead>\n",
              "  <tbody>\n",
              "    <tr>\n",
              "      <th>358</th>\n",
              "      <td>Confessions Of St. Augustine</td>\n",
              "      <td>Augustine</td>\n",
              "      <td>Scholasticism</td>\n",
              "      <td>(And, ,, he, that, is, unmarried, thinketh, of, the, things, of, the, Lord, ,, how, he, may, please, the, Lord, ;, but)</td>\n",
              "      <td>And, he that is unmarried thinketh of the things of the Lord, how he may please the Lord; but</td>\n",
              "      <td>398</td>\n",
              "      <td>2002</td>\n",
              "      <td>93</td>\n",
              "      <td>NaN</td>\n",
              "      <td>[and, he, that, is, unmarried, thinketh, of, the, things, of, the, lord, how, he, may, please, the, lord, but]</td>\n",
              "      <td>and , -PRON- that be unmarried thinketh of the thing of the Lord , how -PRON- may please the Lord ; but</td>\n",
              "    </tr>\n",
              "    <tr>\n",
              "      <th>2062</th>\n",
              "      <td>Confessions Of St. Augustine</td>\n",
              "      <td>Augustine</td>\n",
              "      <td>Scholasticism</td>\n",
              "      <td>(BOOK, Lord, ,, I, am, Thy, servant, ;, I, am, Thy, servant, ,, and, the, son, of, Thy, handmaid, :)</td>\n",
              "      <td>BOOK Lord, I am Thy servant; I am Thy servant, and the son of Thy handmaid:</td>\n",
              "      <td>398</td>\n",
              "      <td>2002</td>\n",
              "      <td>75</td>\n",
              "      <td>NaN</td>\n",
              "      <td>[book, lord, am, thy, servant, am, thy, servant, and, the, son, of, thy, handmaid]</td>\n",
              "      <td>BOOK Lord , -PRON- be thy servant ; -PRON- be thy servant , and the son of Thy handmaid :</td>\n",
              "    </tr>\n",
              "    <tr>\n",
              "      <th>1056</th>\n",
              "      <td>Confessions Of St. Augustine</td>\n",
              "      <td>Augustine</td>\n",
              "      <td>Scholasticism</td>\n",
              "      <td>(For, after, it, was, clear, that, he, was, ignorant, of, those, arts, in, which, I, thought, he, excelled, ,, I, began, to, despair, of, his, opening, and, solving, the, difficulties, which, perp...</td>\n",
              "      <td>For after it was clear that he was ignorant of those arts in which I thought he excelled, I began to despair of his opening and solving the difficulties which perplexed me (of which indeed however...</td>\n",
              "      <td>398</td>\n",
              "      <td>2002</td>\n",
              "      <td>275</td>\n",
              "      <td>NaN</td>\n",
              "      <td>[for, after, it, was, clear, that, he, was, ignorant, of, those, arts, in, which, thought, he, excelled, began, to, despair, of, his, opening, and, solving, the, difficulties, which, perplexed, me...</td>\n",
              "      <td>for after -PRON- be clear that -PRON- be ignorant of those art in which -PRON- think -PRON- excel , -PRON- begin to despair of -PRON- opening and solve the difficulty which perplex -PRON- ( of wh...</td>\n",
              "    </tr>\n",
              "    <tr>\n",
              "      <th>1562</th>\n",
              "      <td>Confessions Of St. Augustine</td>\n",
              "      <td>Augustine</td>\n",
              "      <td>Scholasticism</td>\n",
              "      <td>(Let, him, not, so, say, ,, for, he, is, man, .)</td>\n",
              "      <td>Let him not so say, for he is man.</td>\n",
              "      <td>398</td>\n",
              "      <td>2002</td>\n",
              "      <td>34</td>\n",
              "      <td>NaN</td>\n",
              "      <td>[let, him, not, so, say, for, he, is, man]</td>\n",
              "      <td>let -PRON- not so say , for -PRON- be man .</td>\n",
              "    </tr>\n",
              "    <tr>\n",
              "      <th>750</th>\n",
              "      <td>Confessions Of St. Augustine</td>\n",
              "      <td>Augustine</td>\n",
              "      <td>Scholasticism</td>\n",
              "      <td>(But, he, so, shrunk, from, me, ,, as, from, an, enemy, ;, and, with, a, wonderful, and, sudden, freedom, bade, me, ,, as, I, would, continue, his, friend, ,, forbear, such, language, to, him, .)</td>\n",
              "      <td>But he so shrunk from me, as from an enemy; and with a wonderful and sudden freedom bade me, as I would continue his friend, forbear such language to him.</td>\n",
              "      <td>398</td>\n",
              "      <td>2002</td>\n",
              "      <td>154</td>\n",
              "      <td>NaN</td>\n",
              "      <td>[but, he, so, shrunk, from, me, as, from, an, enemy, and, with, wonderful, and, sudden, freedom, bade, me, as, would, continue, his, friend, forbear, such, language, to, him]</td>\n",
              "      <td>but -PRON- so shrink from -PRON- , as from an enemy ; and with a wonderful and sudden freedom bid -PRON- , as -PRON- would continue -PRON- friend , forbear such language to -PRON- .</td>\n",
              "    </tr>\n",
              "  </tbody>\n",
              "</table>\n",
              "</div>"
            ],
            "text/plain": [
              "                             title  ...                                                                                                                                                                                           lemmatized_str\n",
              "358   Confessions Of St. Augustine  ...                                                                                                  and , -PRON- that be unmarried thinketh of the thing of the Lord , how -PRON- may please the Lord ; but\n",
              "2062  Confessions Of St. Augustine  ...                                                                                                                BOOK Lord , -PRON- be thy servant ; -PRON- be thy servant , and the son of Thy handmaid :\n",
              "1056  Confessions Of St. Augustine  ...   for after -PRON- be clear that -PRON- be ignorant of those art in which -PRON- think -PRON- excel , -PRON- begin to despair of -PRON- opening and solve the difficulty which perplex -PRON- ( of wh...\n",
              "1562  Confessions Of St. Augustine  ...                                                                                                                                                              let -PRON- not so say , for -PRON- be man .\n",
              "750   Confessions Of St. Augustine  ...                    but -PRON- so shrink from -PRON- , as from an enemy ; and with a wonderful and sudden freedom bid -PRON- , as -PRON- would continue -PRON- friend , forbear such language to -PRON- .\n",
              "\n",
              "[5 rows x 11 columns]"
            ]
          },
          "metadata": {
            "tags": []
          },
          "execution_count": 35
        }
      ]
    },
    {
      "cell_type": "code",
      "metadata": {
        "colab": {
          "base_uri": "https://localhost:8080/",
          "height": 34
        },
        "id": "ncmXLdXuIoMl",
        "outputId": "0f47fd50-059e-463c-9c21-0842f9e4d0d1"
      },
      "source": [
        "# export as csv\n",
        "from google.colab import files\n",
        "new_df.to_csv('phil_nlp.csv', index=False) \n",
        "files.download('phil_nlp.csv')"
      ],
      "execution_count": 36,
      "outputs": [
        {
          "output_type": "display_data",
          "data": {
            "application/javascript": [
              "\n",
              "    async function download(id, filename, size) {\n",
              "      if (!google.colab.kernel.accessAllowed) {\n",
              "        return;\n",
              "      }\n",
              "      const div = document.createElement('div');\n",
              "      const label = document.createElement('label');\n",
              "      label.textContent = `Downloading \"${filename}\": `;\n",
              "      div.appendChild(label);\n",
              "      const progress = document.createElement('progress');\n",
              "      progress.max = size;\n",
              "      div.appendChild(progress);\n",
              "      document.body.appendChild(div);\n",
              "\n",
              "      const buffers = [];\n",
              "      let downloaded = 0;\n",
              "\n",
              "      const channel = await google.colab.kernel.comms.open(id);\n",
              "      // Send a message to notify the kernel that we're ready.\n",
              "      channel.send({})\n",
              "\n",
              "      for await (const message of channel.messages) {\n",
              "        // Send a message to notify the kernel that we're ready.\n",
              "        channel.send({})\n",
              "        if (message.buffers) {\n",
              "          for (const buffer of message.buffers) {\n",
              "            buffers.push(buffer);\n",
              "            downloaded += buffer.byteLength;\n",
              "            progress.value = downloaded;\n",
              "          }\n",
              "        }\n",
              "      }\n",
              "      const blob = new Blob(buffers, {type: 'application/binary'});\n",
              "      const a = document.createElement('a');\n",
              "      a.href = window.URL.createObjectURL(blob);\n",
              "      a.download = filename;\n",
              "      div.appendChild(a);\n",
              "      a.click();\n",
              "      div.remove();\n",
              "    }\n",
              "  "
            ],
            "text/plain": [
              "<IPython.core.display.Javascript object>"
            ]
          },
          "metadata": {
            "tags": []
          }
        },
        {
          "output_type": "display_data",
          "data": {
            "application/javascript": [
              "download(\"download_ce4579de-7284-46d9-a322-a6b2c42bdf82\", \"phil_nlp.csv\", 328135238)"
            ],
            "text/plain": [
              "<IPython.core.display.Javascript object>"
            ]
          },
          "metadata": {
            "tags": []
          }
        }
      ]
    },
    {
      "cell_type": "markdown",
      "metadata": {
        "id": "vz0aj3NrECm3"
      },
      "source": [
        "###Upload Data to the SQL Server"
      ]
    },
    {
      "cell_type": "code",
      "metadata": {
        "colab": {
          "base_uri": "https://localhost:8080/",
          "height": 195
        },
        "id": "bW76POWkJL-b",
        "outputId": "884e34f9-2b57-4db9-a0db-1cd9d2b968f1"
      },
      "source": [
        "# prepare to upload to the PostgreSQL database\n",
        "\n",
        "# note which dataframe you set this to - new_df for the whole dataset, df for \n",
        "# just the new text\n",
        "\n",
        "for_db = og_df\n",
        "for_db['date'] = for_db['original_publication_date']\n",
        "for_db['date'] = for_db['date'].apply(lambda x: str(x)[1:]+' BC' if x < 0 else str(x))\n",
        "for_db['sentence'] = for_db['sentence_str']\n",
        "for_db['school'] = for_db['school'].apply(lambda x: x.replace('_', ' ').title())\n",
        "for_db = for_db.drop(['sentence_spacy', \n",
        "                      'sentence_length',\n",
        "                      'sentence_lowered', \n",
        "                      'sentence_str', \n",
        "                      'tokenized_txt', \n",
        "                      'lemmatized_str',\n",
        "                      'corpus_edition_date',\n",
        "                      'original_publication_date'], axis=1)\n",
        "for_db.columns = [i.upper() for i in for_db.columns]\n",
        "\n",
        "for_db.sample(5)"
      ],
      "execution_count": 8,
      "outputs": [
        {
          "output_type": "execute_result",
          "data": {
            "text/html": [
              "<div>\n",
              "<style scoped>\n",
              "    .dataframe tbody tr th:only-of-type {\n",
              "        vertical-align: middle;\n",
              "    }\n",
              "\n",
              "    .dataframe tbody tr th {\n",
              "        vertical-align: top;\n",
              "    }\n",
              "\n",
              "    .dataframe thead th {\n",
              "        text-align: right;\n",
              "    }\n",
              "</style>\n",
              "<table border=\"1\" class=\"dataframe\">\n",
              "  <thead>\n",
              "    <tr style=\"text-align: right;\">\n",
              "      <th></th>\n",
              "      <th>TITLE</th>\n",
              "      <th>AUTHOR</th>\n",
              "      <th>SCHOOL</th>\n",
              "      <th>DATE</th>\n",
              "      <th>SENTENCE</th>\n",
              "    </tr>\n",
              "  </thead>\n",
              "  <tbody>\n",
              "    <tr>\n",
              "      <th>11129</th>\n",
              "      <td>Plato - Complete Works</td>\n",
              "      <td>Plato</td>\n",
              "      <td>Plato</td>\n",
              "      <td>350 BC</td>\n",
              "      <td>if I gave you half a chance.</td>\n",
              "    </tr>\n",
              "    <tr>\n",
              "      <th>27074</th>\n",
              "      <td>Plato - Complete Works</td>\n",
              "      <td>Plato</td>\n",
              "      <td>Plato</td>\n",
              "      <td>350 BC</td>\n",
              "      <td>And let's not be dazzled by looking at one man...</td>\n",
              "    </tr>\n",
              "    <tr>\n",
              "      <th>330561</th>\n",
              "      <td>Beyond Good And Evil</td>\n",
              "      <td>Nietzsche</td>\n",
              "      <td>Nietzsche</td>\n",
              "      <td>1886</td>\n",
              "      <td>I am affected, not because you have deceived m...</td>\n",
              "    </tr>\n",
              "    <tr>\n",
              "      <th>307188</th>\n",
              "      <td>Essential Works Of Lenin</td>\n",
              "      <td>Lenin</td>\n",
              "      <td>Communism</td>\n",
              "      <td>1862</td>\n",
              "      <td>But no one is so deaf as he who will not hear.</td>\n",
              "    </tr>\n",
              "    <tr>\n",
              "      <th>163663</th>\n",
              "      <td>Quintessence</td>\n",
              "      <td>Quine</td>\n",
              "      <td>Analytic</td>\n",
              "      <td>1950</td>\n",
              "      <td>This sort of indirect conformity to the theory...</td>\n",
              "    </tr>\n",
              "  </tbody>\n",
              "</table>\n",
              "</div>"
            ],
            "text/plain": [
              "                           TITLE  ...                                           SENTENCE\n",
              "11129     Plato - Complete Works  ...                       if I gave you half a chance.\n",
              "27074     Plato - Complete Works  ...  And let's not be dazzled by looking at one man...\n",
              "330561      Beyond Good And Evil  ...  I am affected, not because you have deceived m...\n",
              "307188  Essential Works Of Lenin  ...     But no one is so deaf as he who will not hear.\n",
              "163663              Quintessence  ...  This sort of indirect conformity to the theory...\n",
              "\n",
              "[5 rows x 5 columns]"
            ]
          },
          "metadata": {
            "tags": []
          },
          "execution_count": 8
        }
      ]
    },
    {
      "cell_type": "code",
      "metadata": {
        "colab": {
          "base_uri": "https://localhost:8080/"
        },
        "id": "hWSVKbmoVaAW",
        "outputId": "7c3edb49-24a0-44eb-ecff-2984ea1269d5"
      },
      "source": [
        "len(for_db)"
      ],
      "execution_count": 9,
      "outputs": [
        {
          "output_type": "execute_result",
          "data": {
            "text/plain": [
              "364876"
            ]
          },
          "metadata": {
            "tags": []
          },
          "execution_count": 9
        }
      ]
    },
    {
      "cell_type": "code",
      "metadata": {
        "colab": {
          "base_uri": "https://localhost:8080/"
        },
        "id": "Mni3N-fyK-jZ",
        "outputId": "1420c9d4-f6be-4ef7-b7ae-3de0e0ac27cf"
      },
      "source": [
        "#importing sql library \n",
        "from sqlalchemy import create_engine \n",
        "  \n",
        "# create a reference  \n",
        "# for sql library \n",
        "engine = create_engine('post7ed7joo',\n",
        "                       echo=False)\n",
        "  \n",
        "# attach the data frame to the sql server \n",
        "for_db.to_sql('phil_nlp', \n",
        "               con = engine,\n",
        "              if_exists='replace',\n",
        "              index=False,\n",
        "              method='multi') \n",
        "  \n",
        "# show the completed data as a test\n",
        "print(engine.execute(\"\"\"SELECT * FROM phil_nlp WHERE \"AUTHOR\" = 'Augustine'\"\"\").fetchone()) "
      ],
      "execution_count": 16,
      "outputs": [
        {
          "output_type": "stream",
          "text": [
            "('Confessions Of St. Augustine', 'Augustine', 'Scholasticism', '398', 'But were it utterly blotted out of the mind')\n"
          ],
          "name": "stdout"
        }
      ]
    },
    {
      "cell_type": "markdown",
      "metadata": {
        "id": "2NxRYDdaLGW2"
      },
      "source": [
        "Remember to add to the clipping and other elements to the notebook that creates the database as a whole. Then you're done!"
      ]
    },
    {
      "cell_type": "code",
      "metadata": {
        "id": "GK50YeA-LNtD",
        "colab": {
          "base_uri": "https://localhost:8080/"
        },
        "outputId": "150a5632-d480-4673-a072-00196ab59567"
      },
      "source": [
        "print(engine.execute(\"\"\"SELECT * FROM phil_nlp where 'AUTHOR' = 'Nietzsche' \"\"\").fetchone()) "
      ],
      "execution_count": 19,
      "outputs": [
        {
          "output_type": "stream",
          "text": [
            "None\n"
          ],
          "name": "stdout"
        }
      ]
    },
    {
      "cell_type": "code",
      "metadata": {
        "id": "EfaWbJkCid6W"
      },
      "source": [
        ""
      ],
      "execution_count": null,
      "outputs": []
    }
  ]
}