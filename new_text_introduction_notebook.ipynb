{
  "nbformat": 4,
  "nbformat_minor": 0,
  "metadata": {
    "colab": {
      "name": "new_text_introduction_notebook.ipynb",
      "provenance": [],
      "toc_visible": true,
      "authorship_tag": "ABX9TyNlK42q3EIKZJUc6U5git/R",
      "include_colab_link": true
    },
    "kernelspec": {
      "name": "python3",
      "display_name": "Python 3"
    },
    "language_info": {
      "name": "python"
    }
  },
  "cells": [
    {
      "cell_type": "markdown",
      "metadata": {
        "id": "view-in-github",
        "colab_type": "text"
      },
      "source": [
        "<a href=\"https://colab.research.google.com/github/kcalizadeh/PDP_data_processing/blob/master/new_text_introduction_notebook.ipynb\" target=\"_parent\"><img src=\"https://colab.research.google.com/assets/colab-badge.svg\" alt=\"Open In Colab\"/></a>"
      ]
    },
    {
      "cell_type": "markdown",
      "metadata": {
        "id": "7Cw_rJlXCob_"
      },
      "source": [
        "### Imports and Mounting Drive"
      ]
    },
    {
      "cell_type": "code",
      "metadata": {
        "colab": {
          "base_uri": "https://localhost:8080/"
        },
        "id": "nN4DvDsxCdio",
        "outputId": "05c6799e-15e1-49c9-d33f-b46bd2651aab"
      },
      "source": [
        "# this cell mounts drive, sets the correct directory, then imports all functions\n",
        "# and relevant libraries via the functions.py file\n",
        "from google.colab import drive\n",
        "import sys\n",
        "\n",
        "drive.mount('/gdrive',force_remount=True)\n",
        "\n",
        "drive_path = '/gdrive/MyDrive/Colab_Projects/philosophy_data_project'\n",
        "\n",
        "sys.path.append(drive_path)"
      ],
      "execution_count": 1,
      "outputs": [
        {
          "output_type": "stream",
          "text": [
            "Mounted at /gdrive\n"
          ],
          "name": "stdout"
        }
      ]
    },
    {
      "cell_type": "code",
      "metadata": {
        "id": "EAk2WGLbCn3t"
      },
      "source": [
        "from import_functions import *"
      ],
      "execution_count": 2,
      "outputs": []
    },
    {
      "cell_type": "code",
      "metadata": {
        "id": "fV19sbpUC2PF",
        "colab": {
          "base_uri": "https://localhost:8080/"
        },
        "outputId": "55f1f1fe-58f1-4f53-eb1e-42e89169eba2"
      },
      "source": [
        "import spacy.cli\n",
        "spacy.cli.download(\"en_core_web_lg\")\n",
        "import en_core_web_lg\n",
        "nlp = en_core_web_lg.load()"
      ],
      "execution_count": 3,
      "outputs": [
        {
          "output_type": "stream",
          "text": [
            "\u001b[38;5;2m✔ Download and installation successful\u001b[0m\n",
            "You can now load the model via spacy.load('en_core_web_lg')\n"
          ],
          "name": "stdout"
        }
      ]
    },
    {
      "cell_type": "markdown",
      "metadata": {
        "id": "PbT8yZ0pC30A"
      },
      "source": [
        "###Load the Text and Clip Front and End Matter"
      ]
    },
    {
      "cell_type": "code",
      "metadata": {
        "id": "G-MzN2T2DUYm"
      },
      "source": [
        "# if you are deleting an old text that was added here, make sure it is in the \n",
        "# primary database construction notebook\n",
        "chuang_tzu_book = get_text(drive_path + '/phil_txts/chuang_tzu_book.txt')"
      ],
      "execution_count": 4,
      "outputs": []
    },
    {
      "cell_type": "code",
      "metadata": {
        "id": "0eilq25ib1Ba"
      },
      "source": [
        "chuang_tzu_book = chuang_tzu_book.split('thinkers the world has ever')[1][61:].split('1. The Illus')[0][:-2]"
      ],
      "execution_count": 15,
      "outputs": []
    },
    {
      "cell_type": "code",
      "metadata": {
        "id": "WuWrhYwOUbck",
        "colab": {
          "base_uri": "https://localhost:8080/"
        },
        "outputId": "5e76cb17-9ef5-4285-81fc-b60b26d22262"
      },
      "source": [
        "len(chuang_tzu_book)"
      ],
      "execution_count": 16,
      "outputs": [
        {
          "output_type": "execute_result",
          "data": {
            "text/plain": [
              "530357"
            ]
          },
          "metadata": {
            "tags": []
          },
          "execution_count": 16
        }
      ]
    },
    {
      "cell_type": "markdown",
      "metadata": {
        "id": "suHuy6isDUiC"
      },
      "source": [
        "### Clean the Text\n",
        "\n"
      ]
    },
    {
      "cell_type": "code",
      "metadata": {
        "id": "4lfFHzvnDUpf"
      },
      "source": [
        "def baseline_clean(to_correct, \n",
        "                   capitals=True, \n",
        "                   bracketed_fn=False, \n",
        "                   odd_words_dict={}):\n",
        "  # remove utf8 encoding characters and some punctuations\n",
        "  result = re.sub(r'[\\x00-\\x08\\x0b\\x0c\\x0e-\\x1f\\x7f-\\xff\\xad\\x0c6§\\\\\\£\\Â*_<>\"\"⎫•{}Γ~]', ' ', to_correct)\n",
        "  result = re.sub(r'[\\u2014\\u2013\\u2012-]', ' ', result)\n",
        "\n",
        "  # replace whitespace characters with actual whitespace\n",
        "  result = re.sub(r'\\s', ' ', result)\n",
        "\n",
        "  # replace odd quotation marks with a standard\n",
        "  result = re.sub(r'[‘’“”]', \"'\", result)\n",
        "\n",
        "  # replace the ﬀ, ﬃ and ﬁ with the appropriate counterparts\n",
        "  result = re.sub(r'ﬀ', 'ff', result)\n",
        "  result = re.sub(r'ﬁ', 'fi', result)\n",
        "  result = re.sub(r'ﬃ', 'ffi', result)\n",
        "\n",
        "  # replace some accented characters for ease of searching\n",
        "  result = re.sub(r'é', 'e', result)\n",
        "  result = re.sub(r'è', 'e', result)\n",
        "\n",
        "  # remove or standardize some recurring common and meaninless words/phrases\n",
        "  result = re.sub(r'\\s*This\\s*page\\s*intentionally\\s*left\\s*blank\\s*', ' ', result)\n",
        "  result = re.sub(r'(?i)Aufgabe\\s+', ' ', result)\n",
        "  result = re.sub(r',*\\s+cf\\.', ' ', result)\n",
        "\n",
        "  # some texts have footnotes conveniently in brackets - this removes them all, \n",
        "  # with a safety measure for unpaired brackets, and deletes all brackets afterwards\n",
        "  if bracketed_fn:\n",
        "    result = re.sub(r'\\[.{0,300}\\]|{.{0,300}}|{.{0,300}\\]|\\[.{0,300}}', ' ', result)\n",
        "  result = re.sub(r'[\\[\\]{}]', ' ', result)\n",
        "\n",
        "  # unify some abbreviations\n",
        "  result = re.sub(r'&', 'and', result)\n",
        "  result = re.sub(r'\\se\\.g\\.\\s', ' eg ', result)\n",
        "  result = re.sub(r'\\si\\.e\\.\\s', ' ie ', result)\n",
        "  result = re.sub('coroll\\.', 'coroll', result)\n",
        "  result = re.sub('pt\\.', 'pt', result)\n",
        "\n",
        "  # remove roman numerals, first capitalized ones\n",
        "  result = re.sub(r'\\s((I{2,}V*X*\\.*)|(IV\\.*)|(IX\\.*)|(V\\.*)|(V+I*\\.*)|(X+L*V*I*]\\.*))\\s', ' ', result)\n",
        "  # then lowercase\n",
        "  result = re.sub(r'\\s((i{2,}v*x*\\.*)|(iv\\.*)|(ix\\.*)|(v\\.*)|(v+i*\\.*)|(x+l*v*i*\\.*))\\s', ' ', result)\n",
        "\n",
        "  # remove periods and commas flanked by numbers\n",
        "  result = re.sub(r'\\d\\.\\d', ' ', result)\n",
        "  result = re.sub(r'\\d,\\d', ' ', result)\n",
        "\n",
        "  # remove the number-letter-number pattern used for many citations\n",
        "  result = re.sub(r'\\d*\\w{,2}\\d', ' ', result)\n",
        "\n",
        "  # remove numerical characters\n",
        "  result = re.sub(r'\\d+', ' ', result)\n",
        "\n",
        "  # remove words of 2+ characters that are entirely capitalized \n",
        "  # (these are almost always titles, headings, or speakers in a dialogue)\n",
        "  # remove capital I's that follow capital words - these almost always roman numerals\n",
        "  # some texts do use these capitalizations meaningfully, so we make this optional\n",
        "  if capitals:\n",
        "    result = re.sub(r'[A-Z]{2,}\\s+I', ' ', result)\n",
        "    result = re.sub(r'[A-Z]{2,}', ' ', result)\n",
        "\n",
        "  # remove isolated colons and semicolons that result from removal of titles\n",
        "  result = re.sub(r'\\s+:\\s*', ' ', result)\n",
        "  result = re.sub(r'\\s+;\\s*', ' ', result)\n",
        "\n",
        "  # remove isolated letters (do it several times because strings of isolated letters do not get captured properly)\n",
        "  result = re.sub(r'\\s[^aAI\\.]\\s', ' ', result)\n",
        "  result = re.sub(r'\\s[^aAI\\.]\\s', ' ', result)\n",
        "  result = re.sub(r'\\s[^aAI\\.]\\s', ' ', result)\n",
        "  result = re.sub(r'\\s[^aAI\\.]\\s', ' ', result)\n",
        "  result = re.sub(r'\\s[^aAI\\.]\\s', ' ', result)\n",
        "  result = re.sub(r'\\s[^aAI\\.]\\s', ' ', result)\n",
        "\n",
        "  # remove isolated letters at the end of sentences or before commas\n",
        "  result = re.sub(r'\\s[^aI]\\.', '.', result)\n",
        "  result = re.sub(r'\\s[^aI],', ',', result)\n",
        "\n",
        "  # deal with spaces around periods and commas\n",
        "  result = re.sub(r'\\s+,\\s+', ', ', result)\n",
        "  result = re.sub(r'\\s+\\.\\s+', '. ', result)\n",
        "\n",
        "  # remove empty parantheses\n",
        "  result = re.sub(r'(\\(\\s*\\.*\\s*\\))|(\\(\\s*,*\\s*)\\)', ' ', result)\n",
        "  result = re.sub(r'\\.\\)\\.', '.', result)\n",
        "  result = re.sub(r'\\.\\(\\.', '.', result)\n",
        "\n",
        "  # reduce multiple periods, commas, or whitespaces into a single one\n",
        "  result = re.sub(r'\\.+', '.', result)\n",
        "  result = re.sub(r',+', ',', result)\n",
        "  result = re.sub(r'\\s+', ' ', result)\n",
        "\n",
        "  # deal with isolated problem cases discovered in the data:\n",
        "  for key in odd_words_dict.keys():\n",
        "    result = re.sub(r''+key+'', odd_words_dict[key], result)\n",
        "\n",
        "  return result"
      ],
      "execution_count": 17,
      "outputs": []
    },
    {
      "cell_type": "code",
      "metadata": {
        "id": "1OjRlTV_EEHM"
      },
      "source": [
        "# note extras like bracketed footnotes or specific words to remove\n"
      ],
      "execution_count": null,
      "outputs": []
    },
    {
      "cell_type": "code",
      "metadata": {
        "id": "V6Y9RIRBED-F"
      },
      "source": [
        "# build a dictionary for the book\n",
        "chuang_tzu_book_dict = {\n",
        "    'author': 'Zhuangzi',\n",
        "    'title': 'The Book of Zhuangzi ',\n",
        "    'text': chuang_tzu_book,\n",
        "    'school': 'Daoism',\n",
        "    'words to remove': [],\n",
        "    'remove capitals': True,\n",
        "    'bracketed fn': False,\n",
        "    'original date': -300,\n",
        "    'corpus date': 2006\n",
        "}"
      ],
      "execution_count": 18,
      "outputs": []
    },
    {
      "cell_type": "code",
      "metadata": {
        "id": "7fkWlxhoIOjA",
        "cellView": "form"
      },
      "source": [
        "#@title Oddities Dictionary for Cleaning\n",
        "# a dictionary of oddities to clean up\n",
        "odd_words_dict = {'\\sderstanding': 'derstanding',\n",
        "                  '\\sditference\\s': ' difference ',\n",
        "                  '\\sforthe\\s': ' for the ',\n",
        "                  '\\sject': 'ject',\n",
        "                  '\\sSure ly\\s': ' Surely ',\n",
        "                  '\\spiness': 'piness',\n",
        "                  '\\sjects': 'jects', \n",
        "                  '\\sness': 'ness',\n",
        "                  '\\schil dren\\s': ' children ',\n",
        "                  '\\sper\\scent\\s': ' percent ',\n",
        "                  '\\sper\\scent\\.': ' percent.',\n",
        "                  '\\sper\\scent,': ' percent,',\n",
        "                  '\\wi\\son': 'ion',\n",
        "                  '\\spri\\sori': ' priori',\n",
        "                  '\\stences\\s': 'tences ',\n",
        "                  '\\sprincipleb': ' principle',\n",
        "                  '\\ssciousness': 'sciousness',\n",
        "                  '\\stion': 'tion',\n",
        "                  '\\spri\\s': ' pri',\n",
        "                  '\\scluding': 'cluding',\n",
        "                  '\\sdom': 'dom',\n",
        "                  '\\sers': 'ers',\n",
        "                  '\\scritiq\\s': ' critique ',\n",
        "                  '\\ssensati\\s': ' sensation ',\n",
        "                  '(?i)\\syou\\sll': \" you'll\",\n",
        "                  '\\sI\\sll': \" I'll\",\n",
        "                  '(?i)\\swe\\sll': \" we'll\",\n",
        "                  '(?i)he\\sll': \" he'll\",\n",
        "                  '(?i)who\\sll': \"who'll\",\n",
        "                  '(?i)\\sthere\\sll\\s': \" there'll \",\n",
        "                  '\\seduca\\s': ' education ',\n",
        "                  '\\slity\\s': 'lity ',\n",
        "                  '\\smultaneously\\s': 'multaneously ',\n",
        "                  '\\stically\\s': 'tically ',\n",
        "                  '\\sDa\\ssein\\s': ' Dasein ',\n",
        "                  '(?i)\\sthey\\sll\\s': \" they'll \",\n",
        "                  '(?i)\\sin\\tum\\s': ' in turn ',\n",
        "                  '\\scon~\\s': ' con',\n",
        "                  '\\sà\\s': ' a ',\n",
        "                  '\\sjor\\s': ' for ',\n",
        "                  '\\sluminating\\s': 'luminating ',\n",
        "                  '\\sselj\\s': ' self ',\n",
        "                  '\\stial\\s': 'tial ',\n",
        "                  '\\sversal\\s': 'versal ',\n",
        "                  '\\sexis\\st': ' exist',\n",
        "                  '\\splauded\\s': 'plauded ',\n",
        "                  '\\suiry\\s': 'uiry ',\n",
        "                  '\\svithin\\s': ' within ',\n",
        "                  '\\soj\\s': ' of ',\n",
        "                  '\\sposi\\st': ' posit',\n",
        "                  '\\sra\\sther\\s': ' rather ',\n",
        "                  '(?i)\\sthat\\sll\\s': \" that'll \",\n",
        "                  '(?i)\\sa\\sll\\s': ' all ',\n",
        "                  '\\so\\sther\\s': ' other ',\n",
        "                  '\\sra\\sther\\s': ' rather ',\n",
        "                  '\\snei\\sther\\s': ' neither ',\n",
        "                  '\\sei\\sther\\s': ' either ',\n",
        "                  '\\sfur\\sther\\s': ' further ',\n",
        "                  '\\sano\\sther': ' another ',\n",
        "                  '\\sneces\\s': ' neces',\n",
        "                  'u\\slar\\s': 'ular ',\n",
        "                  '\\sference\\s': 'ference ',\n",
        "                  '(?i)it\\sll\\s': \"it'll \",\n",
        "                  '\\stoge\\sther': ' together ',\n",
        "                  '\\sknowledgeb\\s': ' knowledge ',\n",
        "                  'r\\stain\\s': 'rtain ',\n",
        "                  'on\\stain\\s': 'ontain',\n",
        "                  '(?i)j\\sect\\s': 'ject',\n",
        "                  '\\sob\\sect\\s': ' object ',\n",
        "                  '\\sbtle\\s': 'btle ',\n",
        "                  '\\snition\\s': 'nition ',\n",
        "                  '\\sdering\\s': 'dering ', \n",
        "                  '\\sized\\s': 'ized ',\n",
        "                  '\\sther\\shand': ' other hand',\n",
        "                  '\\ture\\s': 'ture ',\n",
        "                  '\\sabso\\sl': ' absol',\n",
        "                  '\\stly\\s': 'tly ',\n",
        "                  '\\serty\\s': 'erty ',\n",
        "                  '\\sobj\\se': ' obj',\n",
        "                  '\\sffiir\\s': ' for ',\n",
        "                  '\\sndeed\\s': ' indeed ',\n",
        "                  '\\sfonn\\s': ' form ',\n",
        "                  '\\snally\\s': 'nally ',\n",
        "                  'ain\\sty\\s': 'ainty ',\n",
        "                  'ici\\sty\\s': 'icity ',\n",
        "                  '\\scog\\sni': ' cogni',\n",
        "                  '\\sacc\\s': ' acc',\n",
        "                  '\\sindi\\svid\\sual': ' individual', \n",
        "                  '\\sintu\\sit': ' intuit',\n",
        "                  'r\\sance\\s': 'rance ',\n",
        "                  '\\ssions\\s': 'sions ',\n",
        "                  '\\sances\\s': 'ances ',\n",
        "                  '\\sper\\sception\\s': ' perception ',\n",
        "                  '\\sse\\sries\\s': ' series ',\n",
        "                  '\\sque\\sries\\s': ' queries ',\n",
        "                  '\\sessary\\s': 'essary ',\n",
        "                  '\\sofa\\s': ' of a ',\n",
        "                  '\\scer\\stainty\\s': ' certainty ',\n",
        "                  'ec\\stivity\\s': 'ectivity ',\n",
        "                  '\\stivity\\s': 'tivity ',\n",
        "                  '\\slation\\s': 'lation ',\n",
        "                  '\\sir\\sr': ' irr',\n",
        "                  '\\ssub\\sstance\\s': ' substance ',\n",
        "                  'sec\\sond\\s': 'second ',\n",
        "                  '\\s\\.rv': '',\n",
        "                  '\\story\\s': 'tory ',\n",
        "                  '\\sture\\s': 'ture ',\n",
        "                  '\\sminate\\s': 'minate ',\n",
        "                  '\\sing\\s': 'ing ',\n",
        "                  '\\splicity\\s': 'plicity ',\n",
        "                  '\\ssimi\\slar\\s': ' similar ',\n",
        "                  '\\scom\\smunity\\s': ' community ',\n",
        "                  '\\sitselfa\\s': ' itself a ',\n",
        "                  '\\ssimp\\s': ' simply ',\n",
        "                  '\\scon\\stex': ' contex',\n",
        "                  '\\scon\\sseq': ' conseq',\n",
        "                  '\\scon\\stai': ' contai',\n",
        "                  '\\sofwhat\\s': ' of what ',\n",
        "                  '\\sui\\s': 'ui',\n",
        "                  '\\sofan\\s': ' of an ',\n",
        "                  '\\saccor\\sdance\\s': ' accordance ',\n",
        "                  '\\stranscen\\sdental\\s': ' transcendental ',\n",
        "                  '\\sap\\spearances\\s': ' appearances ',\n",
        "                  'e\\squences\\s': 'equences ',\n",
        "                  '\\sorits\\s': ' or its ',\n",
        "                  '\\simma\\sn': ' imman',\n",
        "                  '\\seq\\sua': ' equa',\n",
        "                  '\\simpl\\sied\\s': ' implied ',\n",
        "                  '\\sbuta\\s': ' but a ',\n",
        "                  '\\sa\\snd\\s': ' and ',\n",
        "                  '\\sence\\s': 'ence ',\n",
        "                  '\\stain\\s': 'tain ',\n",
        "                  '\\sunder\\sstanding\\s': ' understanding ',\n",
        "                  'i\\sence\\s': 'ience ',\n",
        "                  'r\\sence\\s': 'rence ',\n",
        "                  '\\stical\\s': 'tical ',\n",
        "                  '\\sobjectsb\\s': ' objects ',\n",
        "                  '\\stbe\\s': ' the ',\n",
        "                  '\\smul\\st': ' mult',\n",
        "                  '\\sgen\\seral\\s': ' general ',\n",
        "                  '\\suniver\\ssal\\s': ' universal ',\n",
        "                  '\\scon\\stent\\s': ' content ',\n",
        "                  '\\spar\\sticular\\s': ' particular ',\n",
        "                  'ver\\ssity\\s': 'versity ',\n",
        "                  '\\sCritiq\\s': ' Critique ',\n",
        "                  '\\sphilo\\ssophy\\s': ' philosophy ',\n",
        "                  '\\seq\\s': ' eq'}"
      ],
      "execution_count": 22,
      "outputs": []
    },
    {
      "cell_type": "code",
      "metadata": {
        "id": "bXDII00UED1c"
      },
      "source": [
        "# a function that takes the dictionary and returns a dataframe of sentences\n",
        "def from_raw_to_df(text_dict):\n",
        "  nlp.max_length = 9000000\n",
        "  text = text_dict['text']\n",
        "  text = remove_words(text, text_dict['words to remove'])\n",
        "  text = baseline_clean(text, capitals=text_dict['remove capitals'],\n",
        "                        bracketed_fn=text_dict['bracketed fn'],\n",
        "                        odd_words_dict=odd_words_dict)\n",
        "  text_nlp = nlp(text, disable=['ner'])\n",
        "  text_df = pd.DataFrame(columns=['title', 'author', 'school', 'sentence_spacy'])\n",
        "  text_df['sentence_spacy'] = list(text_nlp.sents)\n",
        "  text_df['author'] = text_dict['author']\n",
        "  text_df['title'] = text_dict['title']\n",
        "  text_df['school'] = text_dict['school']\n",
        "  text_df['original_publication_date'] = text_dict['original date']\n",
        "  text_df['corpus_edition_date'] = text_dict['corpus date']\n",
        "  text_df['sentence_str'] = text_df['sentence_spacy'].apply(lambda x: ''.join(list(str(x))))\n",
        "  return text_df"
      ],
      "execution_count": 23,
      "outputs": []
    },
    {
      "cell_type": "code",
      "metadata": {
        "id": "w14qMlTrFM4s"
      },
      "source": [
        "# use the function\n",
        "f_t_df = from_raw_to_df(chuang_tzu_book_dict)\n",
        "df = f_t_df"
      ],
      "execution_count": 24,
      "outputs": []
    },
    {
      "cell_type": "code",
      "metadata": {
        "colab": {
          "base_uri": "https://localhost:8080/",
          "height": 716
        },
        "id": "IZ3JhAyNFept",
        "outputId": "0909b55e-2f06-4fec-88b9-1a3f249a4c7d"
      },
      "source": [
        "# checking the result\n",
        "pd.options.display.max_colwidth = 200\n",
        "df.sample(10)"
      ],
      "execution_count": 25,
      "outputs": [
        {
          "output_type": "execute_result",
          "data": {
            "text/html": [
              "<div>\n",
              "<style scoped>\n",
              "    .dataframe tbody tr th:only-of-type {\n",
              "        vertical-align: middle;\n",
              "    }\n",
              "\n",
              "    .dataframe tbody tr th {\n",
              "        vertical-align: top;\n",
              "    }\n",
              "\n",
              "    .dataframe thead th {\n",
              "        text-align: right;\n",
              "    }\n",
              "</style>\n",
              "<table border=\"1\" class=\"dataframe\">\n",
              "  <thead>\n",
              "    <tr style=\"text-align: right;\">\n",
              "      <th></th>\n",
              "      <th>title</th>\n",
              "      <th>author</th>\n",
              "      <th>school</th>\n",
              "      <th>sentence_spacy</th>\n",
              "      <th>original_publication_date</th>\n",
              "      <th>corpus_edition_date</th>\n",
              "      <th>sentence_str</th>\n",
              "    </tr>\n",
              "  </thead>\n",
              "  <tbody>\n",
              "    <tr>\n",
              "      <th>1406</th>\n",
              "      <td>The Book of Zhuangzi</td>\n",
              "      <td>Zhuangzi</td>\n",
              "      <td>Daoism</td>\n",
              "      <td>(My, description, of, being, wise, has, nothing, to, do, with, benevolence, and, righteousness, ,, it, is, that, one, should, be, led, by, one, 's, innate, nature, ,, nothing, more, .)</td>\n",
              "      <td>-300</td>\n",
              "      <td>2006</td>\n",
              "      <td>My description of being wise has nothing to do with benevolence and righteousness, it is that one should be led by one's innate nature, nothing more.</td>\n",
              "    </tr>\n",
              "    <tr>\n",
              "      <th>2857</th>\n",
              "      <td>The Book of Zhuangzi</td>\n",
              "      <td>Zhuangzi</td>\n",
              "      <td>Daoism</td>\n",
              "      <td>(Or, would, he, rather, have, lived, and, continued, to, crawl, about, in, the, mud, ?, ')</td>\n",
              "      <td>-300</td>\n",
              "      <td>2006</td>\n",
              "      <td>Or would he rather have lived and continued to crawl about in the mud?'</td>\n",
              "    </tr>\n",
              "    <tr>\n",
              "      <th>2207</th>\n",
              "      <td>The Book of Zhuangzi</td>\n",
              "      <td>Zhuangzi</td>\n",
              "      <td>Daoism</td>\n",
              "      <td>(If, the, nobleman, is, without, benevolence, ,, he, has, no, purpose, ;, if, without, righteousness, ,, he, has, no, life, .)</td>\n",
              "      <td>-300</td>\n",
              "      <td>2006</td>\n",
              "      <td>If the nobleman is without benevolence, he has no purpose; if without righteousness, he has no life.</td>\n",
              "    </tr>\n",
              "    <tr>\n",
              "      <th>2389</th>\n",
              "      <td>The Book of Zhuangzi</td>\n",
              "      <td>Zhuangzi</td>\n",
              "      <td>Daoism</td>\n",
              "      <td>(The, result, was, that, the, tree, was, chopped, down, in, Sung, ;, he, was, forced, out, of, Wei, ;, he, got, into, considerable, problems, in, Shang, and, Chou, .)</td>\n",
              "      <td>-300</td>\n",
              "      <td>2006</td>\n",
              "      <td>The result was that the tree was chopped down in Sung; he was forced out of Wei; he got into considerable problems in Shang and Chou.</td>\n",
              "    </tr>\n",
              "    <tr>\n",
              "      <th>454</th>\n",
              "      <td>The Book of Zhuangzi</td>\n",
              "      <td>Zhuangzi</td>\n",
              "      <td>Daoism</td>\n",
              "      <td>(The, great, Way, does, n't, get, involved, like, this, ,, mixing, many, things, together, .)</td>\n",
              "      <td>-300</td>\n",
              "      <td>2006</td>\n",
              "      <td>The great Way doesn't get involved like this, mixing many things together.</td>\n",
              "    </tr>\n",
              "    <tr>\n",
              "      <th>5417</th>\n",
              "      <td>The Book of Zhuangzi</td>\n",
              "      <td>Zhuangzi</td>\n",
              "      <td>Daoism</td>\n",
              "      <td>(In, the, ways, in, which, they, affect, their, true, form, ,, and, change, their, innate, natures, ,, they, are, different, .)</td>\n",
              "      <td>-300</td>\n",
              "      <td>2006</td>\n",
              "      <td>In the ways in which they affect their true form, and change their innate natures, they are different.</td>\n",
              "    </tr>\n",
              "    <tr>\n",
              "      <th>4813</th>\n",
              "      <td>The Book of Zhuangzi</td>\n",
              "      <td>Zhuangzi</td>\n",
              "      <td>Daoism</td>\n",
              "      <td>(His, heart, was, troubled, ,, so, he, asked, the, diviner, ,, who, said, ,, ', Kill, the, turtle, and, use, it, to, make, divinations, and, receive, an, oracle, ., ')</td>\n",
              "      <td>-300</td>\n",
              "      <td>2006</td>\n",
              "      <td>His heart was troubled, so he asked the diviner, who said, 'Kill the turtle and use it to make divinations and receive an oracle.'</td>\n",
              "    </tr>\n",
              "    <tr>\n",
              "      <th>2414</th>\n",
              "      <td>The Book of Zhuangzi</td>\n",
              "      <td>Zhuangzi</td>\n",
              "      <td>Daoism</td>\n",
              "      <td>(As, soon, as, they, saw, her, ,, the, wealthy, people, in, the, area, slammed, their, gates, shut, and, refused, to, venture, out, !)</td>\n",
              "      <td>-300</td>\n",
              "      <td>2006</td>\n",
              "      <td>As soon as they saw her, the wealthy people in the area slammed their gates shut and refused to venture out!</td>\n",
              "    </tr>\n",
              "    <tr>\n",
              "      <th>1256</th>\n",
              "      <td>The Book of Zhuangzi</td>\n",
              "      <td>Zhuangzi</td>\n",
              "      <td>Daoism</td>\n",
              "      <td>(How, can, you, think, you, have, grasped, my, Tao, ?)</td>\n",
              "      <td>-300</td>\n",
              "      <td>2006</td>\n",
              "      <td>How can you think you have grasped my Tao?</td>\n",
              "    </tr>\n",
              "    <tr>\n",
              "      <th>248</th>\n",
              "      <td>The Book of Zhuangzi</td>\n",
              "      <td>Zhuangzi</td>\n",
              "      <td>Daoism</td>\n",
              "      <td>(I, have, just, made, a, statement, ,, yet, I, do, not, know, whether, what, I, said, has, been, real, in, what, I, said, or, not, really, said, .)</td>\n",
              "      <td>-300</td>\n",
              "      <td>2006</td>\n",
              "      <td>I have just made a statement, yet I do not know whether what I said has been real in what I said or not really said.</td>\n",
              "    </tr>\n",
              "  </tbody>\n",
              "</table>\n",
              "</div>"
            ],
            "text/plain": [
              "                      title  ...                                                                                                                                           sentence_str\n",
              "1406  The Book of Zhuangzi   ...  My description of being wise has nothing to do with benevolence and righteousness, it is that one should be led by one's innate nature, nothing more.\n",
              "2857  The Book of Zhuangzi   ...                                                                                Or would he rather have lived and continued to crawl about in the mud?'\n",
              "2207  The Book of Zhuangzi   ...                                                   If the nobleman is without benevolence, he has no purpose; if without righteousness, he has no life.\n",
              "2389  The Book of Zhuangzi   ...                  The result was that the tree was chopped down in Sung; he was forced out of Wei; he got into considerable problems in Shang and Chou.\n",
              "454   The Book of Zhuangzi   ...                                                                             The great Way doesn't get involved like this, mixing many things together.\n",
              "5417  The Book of Zhuangzi   ...                                                 In the ways in which they affect their true form, and change their innate natures, they are different.\n",
              "4813  The Book of Zhuangzi   ...                     His heart was troubled, so he asked the diviner, who said, 'Kill the turtle and use it to make divinations and receive an oracle.'\n",
              "2414  The Book of Zhuangzi   ...                                           As soon as they saw her, the wealthy people in the area slammed their gates shut and refused to venture out!\n",
              "1256  The Book of Zhuangzi   ...                                                                                                             How can you think you have grasped my Tao?\n",
              "248   The Book of Zhuangzi   ...                                   I have just made a statement, yet I do not know whether what I said has been real in what I said or not really said.\n",
              "\n",
              "[10 rows x 7 columns]"
            ]
          },
          "metadata": {
            "tags": []
          },
          "execution_count": 25
        }
      ]
    },
    {
      "cell_type": "code",
      "metadata": {
        "colab": {
          "base_uri": "https://localhost:8080/"
        },
        "id": "JZMqd8G0Ra-1",
        "outputId": "5852e807-74d4-4913-b96e-83406bf80ae9"
      },
      "source": [
        "len(df)"
      ],
      "execution_count": 26,
      "outputs": [
        {
          "output_type": "execute_result",
          "data": {
            "text/plain": [
              "6105"
            ]
          },
          "metadata": {
            "tags": []
          },
          "execution_count": 26
        }
      ]
    },
    {
      "cell_type": "markdown",
      "metadata": {
        "id": "e-mqOl9pFgwH"
      },
      "source": [
        "#### Remove Short Sentences"
      ]
    },
    {
      "cell_type": "code",
      "metadata": {
        "colab": {
          "base_uri": "https://localhost:8080/",
          "height": 221
        },
        "id": "EfYhrwWuFzOl",
        "outputId": "b0f0c26e-e24c-467c-aa6b-cda0748337fc"
      },
      "source": [
        "df['sentence_length'] = df['sentence_str'].map(lambda x: len(x))\n",
        "num_of_short_entries = len(df[df['sentence_length'] < 20])\n",
        "print(f\"there are {num_of_short_entries} so-called sentences with fewer than 20 characters\")\n",
        "df[df['sentence_length'] < 20].sample(5)"
      ],
      "execution_count": 27,
      "outputs": [
        {
          "output_type": "stream",
          "text": [
            "there are 225 so-called sentences with fewer than 20 characters\n"
          ],
          "name": "stdout"
        },
        {
          "output_type": "execute_result",
          "data": {
            "text/html": [
              "<div>\n",
              "<style scoped>\n",
              "    .dataframe tbody tr th:only-of-type {\n",
              "        vertical-align: middle;\n",
              "    }\n",
              "\n",
              "    .dataframe tbody tr th {\n",
              "        vertical-align: top;\n",
              "    }\n",
              "\n",
              "    .dataframe thead th {\n",
              "        text-align: right;\n",
              "    }\n",
              "</style>\n",
              "<table border=\"1\" class=\"dataframe\">\n",
              "  <thead>\n",
              "    <tr style=\"text-align: right;\">\n",
              "      <th></th>\n",
              "      <th>title</th>\n",
              "      <th>author</th>\n",
              "      <th>school</th>\n",
              "      <th>sentence_spacy</th>\n",
              "      <th>original_publication_date</th>\n",
              "      <th>corpus_edition_date</th>\n",
              "      <th>sentence_str</th>\n",
              "      <th>sentence_length</th>\n",
              "    </tr>\n",
              "  </thead>\n",
              "  <tbody>\n",
              "    <tr>\n",
              "      <th>3455</th>\n",
              "      <td>The Book of Zhuangzi</td>\n",
              "      <td>Zhuangzi</td>\n",
              "      <td>Daoism</td>\n",
              "      <td>(Why, ?, ', ')</td>\n",
              "      <td>-300</td>\n",
              "      <td>2006</td>\n",
              "      <td>Why?' '</td>\n",
              "      <td>7</td>\n",
              "    </tr>\n",
              "    <tr>\n",
              "      <th>1149</th>\n",
              "      <td>The Book of Zhuangzi</td>\n",
              "      <td>Zhuangzi</td>\n",
              "      <td>Daoism</td>\n",
              "      <td>(')</td>\n",
              "      <td>-300</td>\n",
              "      <td>2006</td>\n",
              "      <td>'</td>\n",
              "      <td>1</td>\n",
              "    </tr>\n",
              "    <tr>\n",
              "      <th>1712</th>\n",
              "      <td>The Book of Zhuangzi</td>\n",
              "      <td>Zhuangzi</td>\n",
              "      <td>Daoism</td>\n",
              "      <td>(')</td>\n",
              "      <td>-300</td>\n",
              "      <td>2006</td>\n",
              "      <td>'</td>\n",
              "      <td>1</td>\n",
              "    </tr>\n",
              "    <tr>\n",
              "      <th>3078</th>\n",
              "      <td>The Book of Zhuangzi</td>\n",
              "      <td>Zhuangzi</td>\n",
              "      <td>Daoism</td>\n",
              "      <td>(')</td>\n",
              "      <td>-300</td>\n",
              "      <td>2006</td>\n",
              "      <td>'</td>\n",
              "      <td>1</td>\n",
              "    </tr>\n",
              "    <tr>\n",
              "      <th>5176</th>\n",
              "      <td>The Book of Zhuangzi</td>\n",
              "      <td>Zhuangzi</td>\n",
              "      <td>Daoism</td>\n",
              "      <td>(I, do, n't, know, ., ')</td>\n",
              "      <td>-300</td>\n",
              "      <td>2006</td>\n",
              "      <td>I don't know.'</td>\n",
              "      <td>14</td>\n",
              "    </tr>\n",
              "  </tbody>\n",
              "</table>\n",
              "</div>"
            ],
            "text/plain": [
              "                      title    author  ...    sentence_str sentence_length\n",
              "3455  The Book of Zhuangzi   Zhuangzi  ...         Why?' '               7\n",
              "1149  The Book of Zhuangzi   Zhuangzi  ...               '               1\n",
              "1712  The Book of Zhuangzi   Zhuangzi  ...               '               1\n",
              "3078  The Book of Zhuangzi   Zhuangzi  ...               '               1\n",
              "5176  The Book of Zhuangzi   Zhuangzi  ...  I don't know.'              14\n",
              "\n",
              "[5 rows x 8 columns]"
            ]
          },
          "metadata": {
            "tags": []
          },
          "execution_count": 27
        }
      ]
    },
    {
      "cell_type": "code",
      "metadata": {
        "colab": {
          "base_uri": "https://localhost:8080/"
        },
        "id": "RW0AZpVyF1Qk",
        "outputId": "114c3663-46f2-4a3b-e19d-9e7c3697aef3"
      },
      "source": [
        "df = df.drop(df[df['sentence_length'] < 20].index)\n",
        "len(df)"
      ],
      "execution_count": 28,
      "outputs": [
        {
          "output_type": "execute_result",
          "data": {
            "text/plain": [
              "5880"
            ]
          },
          "metadata": {
            "tags": []
          },
          "execution_count": 28
        }
      ]
    },
    {
      "cell_type": "markdown",
      "metadata": {
        "id": "BX9UfoDtF3Lz"
      },
      "source": [
        "#### Remove Cases of Self-Mention"
      ]
    },
    {
      "cell_type": "code",
      "metadata": {
        "colab": {
          "base_uri": "https://localhost:8080/",
          "height": 66
        },
        "id": "LJnDfK9IF8hU",
        "outputId": "61734145-ba08-4c07-9b72-83b3bdcce14a"
      },
      "source": [
        "# change the author name in this cell \n",
        "\n",
        "self_mentions = df[df['sentence_str'].str.contains('\\s'+'Chuang Tzu'.lower())]\n",
        "print(len(self_mentions))\n",
        "self_mentions"
      ],
      "execution_count": 30,
      "outputs": [
        {
          "output_type": "stream",
          "text": [
            "0\n"
          ],
          "name": "stdout"
        },
        {
          "output_type": "execute_result",
          "data": {
            "text/html": [
              "<div>\n",
              "<style scoped>\n",
              "    .dataframe tbody tr th:only-of-type {\n",
              "        vertical-align: middle;\n",
              "    }\n",
              "\n",
              "    .dataframe tbody tr th {\n",
              "        vertical-align: top;\n",
              "    }\n",
              "\n",
              "    .dataframe thead th {\n",
              "        text-align: right;\n",
              "    }\n",
              "</style>\n",
              "<table border=\"1\" class=\"dataframe\">\n",
              "  <thead>\n",
              "    <tr style=\"text-align: right;\">\n",
              "      <th></th>\n",
              "      <th>title</th>\n",
              "      <th>author</th>\n",
              "      <th>school</th>\n",
              "      <th>sentence_spacy</th>\n",
              "      <th>original_publication_date</th>\n",
              "      <th>corpus_edition_date</th>\n",
              "      <th>sentence_str</th>\n",
              "      <th>sentence_length</th>\n",
              "    </tr>\n",
              "  </thead>\n",
              "  <tbody>\n",
              "  </tbody>\n",
              "</table>\n",
              "</div>"
            ],
            "text/plain": [
              "Empty DataFrame\n",
              "Columns: [title, author, school, sentence_spacy, original_publication_date, corpus_edition_date, sentence_str, sentence_length]\n",
              "Index: []"
            ]
          },
          "metadata": {
            "tags": []
          },
          "execution_count": 30
        }
      ]
    },
    {
      "cell_type": "code",
      "metadata": {
        "colab": {
          "base_uri": "https://localhost:8080/"
        },
        "id": "mt86zZ3RF8q8",
        "outputId": "12cea58c-b526-4c79-a8ed-41ec415e6e88"
      },
      "source": [
        "df = df.drop(df[df['sentence_str'].str.contains('\\s'+'Augustine'.lower())].index)\n",
        "\n",
        "len(df)"
      ],
      "execution_count": 31,
      "outputs": [
        {
          "output_type": "execute_result",
          "data": {
            "text/plain": [
              "5880"
            ]
          },
          "metadata": {
            "tags": []
          },
          "execution_count": 31
        }
      ]
    },
    {
      "cell_type": "markdown",
      "metadata": {
        "id": "vglbGXSFF8y4"
      },
      "source": [
        "#### Deal with Duplicates"
      ]
    },
    {
      "cell_type": "code",
      "metadata": {
        "colab": {
          "base_uri": "https://localhost:8080/"
        },
        "id": "DRXjQSIQHpa-",
        "outputId": "692bf131-d4b7-4db2-88ab-41d9566eddd9"
      },
      "source": [
        "# find the total number of duplicates\n",
        "len(df['sentence_str'])-len(df['sentence_str'].drop_duplicates())"
      ],
      "execution_count": 32,
      "outputs": [
        {
          "output_type": "execute_result",
          "data": {
            "text/plain": [
              "10"
            ]
          },
          "metadata": {
            "tags": []
          },
          "execution_count": 32
        }
      ]
    },
    {
      "cell_type": "code",
      "metadata": {
        "colab": {
          "base_uri": "https://localhost:8080/",
          "height": 607
        },
        "id": "sHn4mTy2TR3P",
        "outputId": "3ee46fef-4aa6-4f6e-c035-29d4ca4dff58"
      },
      "source": [
        "doubles_df = pd.concat(g for _, g in df.groupby(\"sentence_str\") if len(g) > 1)\n",
        "doubles_df"
      ],
      "execution_count": 33,
      "outputs": [
        {
          "output_type": "execute_result",
          "data": {
            "text/html": [
              "<div>\n",
              "<style scoped>\n",
              "    .dataframe tbody tr th:only-of-type {\n",
              "        vertical-align: middle;\n",
              "    }\n",
              "\n",
              "    .dataframe tbody tr th {\n",
              "        vertical-align: top;\n",
              "    }\n",
              "\n",
              "    .dataframe thead th {\n",
              "        text-align: right;\n",
              "    }\n",
              "</style>\n",
              "<table border=\"1\" class=\"dataframe\">\n",
              "  <thead>\n",
              "    <tr style=\"text-align: right;\">\n",
              "      <th></th>\n",
              "      <th>title</th>\n",
              "      <th>author</th>\n",
              "      <th>school</th>\n",
              "      <th>sentence_spacy</th>\n",
              "      <th>original_publication_date</th>\n",
              "      <th>corpus_edition_date</th>\n",
              "      <th>sentence_str</th>\n",
              "      <th>sentence_length</th>\n",
              "    </tr>\n",
              "  </thead>\n",
              "  <tbody>\n",
              "    <tr>\n",
              "      <th>1272</th>\n",
              "      <td>The Book of Zhuangzi</td>\n",
              "      <td>Zhuangzi</td>\n",
              "      <td>Daoism</td>\n",
              "      <td>(Bring, him, again, if, you, can, ., ')</td>\n",
              "      <td>-300</td>\n",
              "      <td>2006</td>\n",
              "      <td>Bring him again if you can.'</td>\n",
              "      <td>28</td>\n",
              "    </tr>\n",
              "    <tr>\n",
              "      <th>1282</th>\n",
              "      <td>The Book of Zhuangzi</td>\n",
              "      <td>Zhuangzi</td>\n",
              "      <td>Daoism</td>\n",
              "      <td>(Bring, him, again, if, you, can, ., ')</td>\n",
              "      <td>-300</td>\n",
              "      <td>2006</td>\n",
              "      <td>Bring him again if you can.'</td>\n",
              "      <td>28</td>\n",
              "    </tr>\n",
              "    <tr>\n",
              "      <th>2206</th>\n",
              "      <td>The Book of Zhuangzi</td>\n",
              "      <td>Zhuangzi</td>\n",
              "      <td>Daoism</td>\n",
              "      <td>(Certainly, ,, ', said, Confucius, ., ')</td>\n",
              "      <td>-300</td>\n",
              "      <td>2006</td>\n",
              "      <td>Certainly,' said Confucius. '</td>\n",
              "      <td>29</td>\n",
              "    </tr>\n",
              "    <tr>\n",
              "      <th>3289</th>\n",
              "      <td>The Book of Zhuangzi</td>\n",
              "      <td>Zhuangzi</td>\n",
              "      <td>Daoism</td>\n",
              "      <td>(Certainly, ,, ', said, Confucius, ., ')</td>\n",
              "      <td>-300</td>\n",
              "      <td>2006</td>\n",
              "      <td>Certainly,' said Confucius. '</td>\n",
              "      <td>29</td>\n",
              "    </tr>\n",
              "    <tr>\n",
              "      <th>488</th>\n",
              "      <td>The Book of Zhuangzi</td>\n",
              "      <td>Zhuangzi</td>\n",
              "      <td>Daoism</td>\n",
              "      <td>(Confucius, said, ,, ', Is, that, it, ?)</td>\n",
              "      <td>-300</td>\n",
              "      <td>2006</td>\n",
              "      <td>Confucius said, 'Is that it?</td>\n",
              "      <td>28</td>\n",
              "    </tr>\n",
              "    <tr>\n",
              "      <th>512</th>\n",
              "      <td>The Book of Zhuangzi</td>\n",
              "      <td>Zhuangzi</td>\n",
              "      <td>Daoism</td>\n",
              "      <td>(Confucius, said, ,, ', Is, that, it, ?)</td>\n",
              "      <td>-300</td>\n",
              "      <td>2006</td>\n",
              "      <td>Confucius said, 'Is that it?</td>\n",
              "      <td>28</td>\n",
              "    </tr>\n",
              "    <tr>\n",
              "      <th>1167</th>\n",
              "      <td>The Book of Zhuangzi</td>\n",
              "      <td>Zhuangzi</td>\n",
              "      <td>Daoism</td>\n",
              "      <td>(Confucius, said, ,, ', What, do, you, mean, ?, ', ')</td>\n",
              "      <td>-300</td>\n",
              "      <td>2006</td>\n",
              "      <td>Confucius said, 'What do you mean?' '</td>\n",
              "      <td>37</td>\n",
              "    </tr>\n",
              "    <tr>\n",
              "      <th>1171</th>\n",
              "      <td>The Book of Zhuangzi</td>\n",
              "      <td>Zhuangzi</td>\n",
              "      <td>Daoism</td>\n",
              "      <td>(Confucius, said, ,, ', What, do, you, mean, ?, ', ')</td>\n",
              "      <td>-300</td>\n",
              "      <td>2006</td>\n",
              "      <td>Confucius said, 'What do you mean?' '</td>\n",
              "      <td>37</td>\n",
              "    </tr>\n",
              "    <tr>\n",
              "      <th>1472</th>\n",
              "      <td>The Book of Zhuangzi</td>\n",
              "      <td>Zhuangzi</td>\n",
              "      <td>Daoism</td>\n",
              "      <td>(How, do, I, know, all, this, ?)</td>\n",
              "      <td>-300</td>\n",
              "      <td>2006</td>\n",
              "      <td>How do I know all this?</td>\n",
              "      <td>23</td>\n",
              "    </tr>\n",
              "    <tr>\n",
              "      <th>1488</th>\n",
              "      <td>The Book of Zhuangzi</td>\n",
              "      <td>Zhuangzi</td>\n",
              "      <td>Daoism</td>\n",
              "      <td>(How, do, I, know, all, this, ?)</td>\n",
              "      <td>-300</td>\n",
              "      <td>2006</td>\n",
              "      <td>How do I know all this?</td>\n",
              "      <td>23</td>\n",
              "    </tr>\n",
              "    <tr>\n",
              "      <th>1507</th>\n",
              "      <td>The Book of Zhuangzi</td>\n",
              "      <td>Zhuangzi</td>\n",
              "      <td>Daoism</td>\n",
              "      <td>(How, do, I, know, all, this, ?)</td>\n",
              "      <td>-300</td>\n",
              "      <td>2006</td>\n",
              "      <td>How do I know all this?</td>\n",
              "      <td>23</td>\n",
              "    </tr>\n",
              "    <tr>\n",
              "      <th>736</th>\n",
              "      <td>The Book of Zhuangzi</td>\n",
              "      <td>Zhuangzi</td>\n",
              "      <td>Daoism</td>\n",
              "      <td>(What, do, you, mean, ?, ', ')</td>\n",
              "      <td>-300</td>\n",
              "      <td>2006</td>\n",
              "      <td>What do you mean?' '</td>\n",
              "      <td>20</td>\n",
              "    </tr>\n",
              "    <tr>\n",
              "      <th>2306</th>\n",
              "      <td>The Book of Zhuangzi</td>\n",
              "      <td>Zhuangzi</td>\n",
              "      <td>Daoism</td>\n",
              "      <td>(What, do, you, mean, ?, ', ')</td>\n",
              "      <td>-300</td>\n",
              "      <td>2006</td>\n",
              "      <td>What do you mean?' '</td>\n",
              "      <td>20</td>\n",
              "    </tr>\n",
              "    <tr>\n",
              "      <th>4218</th>\n",
              "      <td>The Book of Zhuangzi</td>\n",
              "      <td>Zhuangzi</td>\n",
              "      <td>Daoism</td>\n",
              "      <td>(What, do, you, mean, ?, ', ')</td>\n",
              "      <td>-300</td>\n",
              "      <td>2006</td>\n",
              "      <td>What do you mean?' '</td>\n",
              "      <td>20</td>\n",
              "    </tr>\n",
              "    <tr>\n",
              "      <th>394</th>\n",
              "      <td>The Book of Zhuangzi</td>\n",
              "      <td>Zhuangzi</td>\n",
              "      <td>Daoism</td>\n",
              "      <td>(said, Lord, Wen, Hui, ., ')</td>\n",
              "      <td>-300</td>\n",
              "      <td>2006</td>\n",
              "      <td>said Lord Wen Hui. '</td>\n",
              "      <td>20</td>\n",
              "    </tr>\n",
              "    <tr>\n",
              "      <th>415</th>\n",
              "      <td>The Book of Zhuangzi</td>\n",
              "      <td>Zhuangzi</td>\n",
              "      <td>Daoism</td>\n",
              "      <td>(said, Lord, Wen, Hui, ., ')</td>\n",
              "      <td>-300</td>\n",
              "      <td>2006</td>\n",
              "      <td>said Lord Wen Hui. '</td>\n",
              "      <td>20</td>\n",
              "    </tr>\n",
              "    <tr>\n",
              "      <th>5743</th>\n",
              "      <td>The Book of Zhuangzi</td>\n",
              "      <td>Zhuangzi</td>\n",
              "      <td>Daoism</td>\n",
              "      <td>(said, Po, Hun, Wu, Jen, ., ')</td>\n",
              "      <td>-300</td>\n",
              "      <td>2006</td>\n",
              "      <td>said Po Hun Wu Jen. '</td>\n",
              "      <td>21</td>\n",
              "    </tr>\n",
              "    <tr>\n",
              "      <th>5752</th>\n",
              "      <td>The Book of Zhuangzi</td>\n",
              "      <td>Zhuangzi</td>\n",
              "      <td>Daoism</td>\n",
              "      <td>(said, Po, Hun, Wu, Jen, ., ')</td>\n",
              "      <td>-300</td>\n",
              "      <td>2006</td>\n",
              "      <td>said Po Hun Wu Jen. '</td>\n",
              "      <td>21</td>\n",
              "    </tr>\n",
              "  </tbody>\n",
              "</table>\n",
              "</div>"
            ],
            "text/plain": [
              "                      title  ... sentence_length\n",
              "1272  The Book of Zhuangzi   ...              28\n",
              "1282  The Book of Zhuangzi   ...              28\n",
              "2206  The Book of Zhuangzi   ...              29\n",
              "3289  The Book of Zhuangzi   ...              29\n",
              "488   The Book of Zhuangzi   ...              28\n",
              "512   The Book of Zhuangzi   ...              28\n",
              "1167  The Book of Zhuangzi   ...              37\n",
              "1171  The Book of Zhuangzi   ...              37\n",
              "1472  The Book of Zhuangzi   ...              23\n",
              "1488  The Book of Zhuangzi   ...              23\n",
              "1507  The Book of Zhuangzi   ...              23\n",
              "736   The Book of Zhuangzi   ...              20\n",
              "2306  The Book of Zhuangzi   ...              20\n",
              "4218  The Book of Zhuangzi   ...              20\n",
              "394   The Book of Zhuangzi   ...              20\n",
              "415   The Book of Zhuangzi   ...              20\n",
              "5743  The Book of Zhuangzi   ...              21\n",
              "5752  The Book of Zhuangzi   ...              21\n",
              "\n",
              "[18 rows x 8 columns]"
            ]
          },
          "metadata": {
            "tags": []
          },
          "execution_count": 33
        }
      ]
    },
    {
      "cell_type": "code",
      "metadata": {
        "id": "ti-7vXDjTh0s"
      },
      "source": [
        "df = df.drop(df[df['sentence_str'].duplicated(keep='first')].index)"
      ],
      "execution_count": 34,
      "outputs": []
    },
    {
      "cell_type": "code",
      "metadata": {
        "colab": {
          "base_uri": "https://localhost:8080/"
        },
        "id": "eFT73wJCThrT",
        "outputId": "e07ce695-257b-4509-d3a0-d33d67fcd7ba"
      },
      "source": [
        "len(df)"
      ],
      "execution_count": 35,
      "outputs": [
        {
          "output_type": "execute_result",
          "data": {
            "text/plain": [
              "5870"
            ]
          },
          "metadata": {
            "tags": []
          },
          "execution_count": 35
        }
      ]
    },
    {
      "cell_type": "markdown",
      "metadata": {
        "id": "5HnVnn1WHrTW"
      },
      "source": [
        "#### Check for Foreign Languages"
      ]
    },
    {
      "cell_type": "code",
      "metadata": {
        "colab": {
          "base_uri": "https://localhost:8080/"
        },
        "id": "SVcwhudjH5jY",
        "outputId": "e0ae8826-c7fb-444d-9d51-2036cbc192da"
      },
      "source": [
        "# checking for 'der', a common article in German\n",
        "len((df[df['sentence_str'].str.contains('\\sder\\s')]))"
      ],
      "execution_count": 36,
      "outputs": [
        {
          "output_type": "execute_result",
          "data": {
            "text/plain": [
              "0"
            ]
          },
          "metadata": {
            "tags": []
          },
          "execution_count": 36
        }
      ]
    },
    {
      "cell_type": "code",
      "metadata": {
        "id": "0bC4to9oM0c-"
      },
      "source": [
        "df = df.drop(df[df['sentence_str'].str.contains('\\sder\\s')].index)"
      ],
      "execution_count": 37,
      "outputs": []
    },
    {
      "cell_type": "code",
      "metadata": {
        "colab": {
          "base_uri": "https://localhost:8080/"
        },
        "id": "jBzPHm8PH4XB",
        "outputId": "20d14371-999a-46ec-e822-4677a9f30ffc"
      },
      "source": [
        "# checking for 'il', a common article in French\n",
        "len(df[df['sentence_str'].str.contains('\\sil\\s')])"
      ],
      "execution_count": 38,
      "outputs": [
        {
          "output_type": "execute_result",
          "data": {
            "text/plain": [
              "0"
            ]
          },
          "metadata": {
            "tags": []
          },
          "execution_count": 38
        }
      ]
    },
    {
      "cell_type": "markdown",
      "metadata": {
        "id": "NxWbjI0IiAzE"
      },
      "source": [
        "#### Some Ad Hoc Cleaning"
      ]
    },
    {
      "cell_type": "code",
      "metadata": {
        "colab": {
          "base_uri": "https://localhost:8080/"
        },
        "id": "a8YsiZc_h-iu",
        "outputId": "5b0e66db-61ec-4375-b735-75450c240331"
      },
      "source": [
        "# miscellaneous nonsense sentences\n",
        "df = df.drop(df[df['sentence_str'].str.contains('\\spp\\s')].index)\n",
        "df = df.drop(df[df['sentence_str'].str.contains('\\stotam\\s')].index)\n",
        "df = df.drop(df[df['sentence_str'].str.contains('\\srree\\s')].index)\n",
        "df = df.drop(df[df['sentence_str'].str.contains('\\sflir\\s')].index)\n",
        "df = df.drop(df[(df['sentence_str'].str.contains('\\smodis\\s')) & (df['author'] != 'Kant')].index)\n",
        "\n",
        "len(df)"
      ],
      "execution_count": 39,
      "outputs": [
        {
          "output_type": "execute_result",
          "data": {
            "text/plain": [
              "5870"
            ]
          },
          "metadata": {
            "tags": []
          },
          "execution_count": 39
        }
      ]
    },
    {
      "cell_type": "code",
      "metadata": {
        "colab": {
          "base_uri": "https://localhost:8080/"
        },
        "id": "wwQzpQ2_iJEU",
        "outputId": "f7fc923a-28e7-4b44-bdca-1e5e891844e4"
      },
      "source": [
        "# markers of french and notes\n",
        "df = df.drop(df[df['sentence_str'].str.contains('\\schapitre')].index)\n",
        "df = df.drop(df[df['sentence_str'].str.contains('\\salisme')].index)\n",
        "df = df.drop(df[df['sentence_str'].str.contains('\\sHahn')].index)\n",
        "\n",
        "len(df)"
      ],
      "execution_count": 40,
      "outputs": [
        {
          "output_type": "execute_result",
          "data": {
            "text/plain": [
              "5870"
            ]
          },
          "metadata": {
            "tags": []
          },
          "execution_count": 40
        }
      ]
    },
    {
      "cell_type": "code",
      "metadata": {
        "colab": {
          "base_uri": "https://localhost:8080/"
        },
        "id": "WcQoVnariNWg",
        "outputId": "573ee8f3-94e8-4dcc-d1b7-4a5c8fe6b41e"
      },
      "source": [
        "# some notes in Kant\n",
        "df = df.drop(df[df['sentence_str'].str.contains('\\sVorl\\s')].index)\n",
        "df = df.drop(df[df['sentence_str'].str.contains('\\sberschwenglich')].index)\n",
        "\n",
        "len(df)"
      ],
      "execution_count": 41,
      "outputs": [
        {
          "output_type": "execute_result",
          "data": {
            "text/plain": [
              "5870"
            ]
          },
          "metadata": {
            "tags": []
          },
          "execution_count": 41
        }
      ]
    },
    {
      "cell_type": "code",
      "metadata": {
        "colab": {
          "base_uri": "https://localhost:8080/"
        },
        "id": "GI3dJy_dibCA",
        "outputId": "fa178e1e-45fb-4467-a747-2a62c9ec1a41"
      },
      "source": [
        "# a common phrase in Plato / Aristotle footnotes\n",
        "df = df.drop(df[(df['author']=='Plato') & (df['sentence_str'].str.contains('(?i)reading')) & (df['sentence_length'] < 40)].index)\n",
        "df = df.drop(df[(df['author']=='Aristotle') & (df['sentence_str'].str.contains('(?i)reading')) & (df['sentence_length'] < 40)].index)\n",
        "\n",
        "len(df)"
      ],
      "execution_count": 42,
      "outputs": [
        {
          "output_type": "execute_result",
          "data": {
            "text/plain": [
              "5870"
            ]
          },
          "metadata": {
            "tags": []
          },
          "execution_count": 42
        }
      ]
    },
    {
      "cell_type": "code",
      "metadata": {
        "colab": {
          "base_uri": "https://localhost:8080/"
        },
        "id": "DUt3mAjtigKB",
        "outputId": "0129f933-af61-4b21-8f5e-1e25f7bb5e67"
      },
      "source": [
        "# mentions of Aristotle in Plato\n",
        "df = df.drop(df[(df['author']=='Plato') & df['sentence_str'].str.contains('Aristotle')].index)\n",
        "\n",
        "len(df)"
      ],
      "execution_count": 43,
      "outputs": [
        {
          "output_type": "execute_result",
          "data": {
            "text/plain": [
              "5870"
            ]
          },
          "metadata": {
            "tags": []
          },
          "execution_count": 43
        }
      ]
    },
    {
      "cell_type": "markdown",
      "metadata": {
        "id": "3Sd2rbDJHraR"
      },
      "source": [
        "### Lemmatize and Tokenize"
      ]
    },
    {
      "cell_type": "code",
      "metadata": {
        "id": "ziLKswX_Hrhd"
      },
      "source": [
        "from gensim.utils import simple_preprocess\n",
        "\n",
        "# use gensim to tokenize sentences\n",
        "df['tokenized_txt'] = df['sentence_str'].map(lambda x: simple_preprocess(x.lower(),deacc=True,\n",
        "                                                        max_len=200))\n",
        "\n",
        "# use spacey to get intelligent lemmatization\n",
        "def lemmatize_sentence(sentence):\n",
        "  lemmatized_txt = ''\n",
        "  for word in sentence:\n",
        "    lemmatized_txt += ' ' + str(word.lemma_)\n",
        "  return lemmatized_txt"
      ],
      "execution_count": 44,
      "outputs": []
    },
    {
      "cell_type": "code",
      "metadata": {
        "id": "8Sg_V1rxIdzJ"
      },
      "source": [
        "df['lemmatized_str'] = df['sentence_spacy'].apply(lemmatize_sentence)"
      ],
      "execution_count": 45,
      "outputs": []
    },
    {
      "cell_type": "code",
      "metadata": {
        "colab": {
          "base_uri": "https://localhost:8080/",
          "height": 612
        },
        "id": "0pyznlhXId8n",
        "outputId": "f390b65d-cecc-4a25-dff1-9e28dc08d83e"
      },
      "source": [
        "df.sample(5)"
      ],
      "execution_count": 57,
      "outputs": [
        {
          "output_type": "execute_result",
          "data": {
            "text/html": [
              "<div>\n",
              "<style scoped>\n",
              "    .dataframe tbody tr th:only-of-type {\n",
              "        vertical-align: middle;\n",
              "    }\n",
              "\n",
              "    .dataframe tbody tr th {\n",
              "        vertical-align: top;\n",
              "    }\n",
              "\n",
              "    .dataframe thead th {\n",
              "        text-align: right;\n",
              "    }\n",
              "</style>\n",
              "<table border=\"1\" class=\"dataframe\">\n",
              "  <thead>\n",
              "    <tr style=\"text-align: right;\">\n",
              "      <th></th>\n",
              "      <th>title</th>\n",
              "      <th>author</th>\n",
              "      <th>school</th>\n",
              "      <th>sentence_spacy</th>\n",
              "      <th>original_publication_date</th>\n",
              "      <th>corpus_edition_date</th>\n",
              "      <th>sentence_str</th>\n",
              "      <th>sentence_length</th>\n",
              "      <th>tokenized_txt</th>\n",
              "      <th>lemmatized_str</th>\n",
              "    </tr>\n",
              "  </thead>\n",
              "  <tbody>\n",
              "    <tr>\n",
              "      <th>547</th>\n",
              "      <td>The Book of Zhuangzi</td>\n",
              "      <td>Zhuangzi</td>\n",
              "      <td>Daoism</td>\n",
              "      <td>(But, if, you, can, not, remain, still, ,, then, your, mind, goes, racing, off, ,, even, though, physically, you, remain, sitting, .)</td>\n",
              "      <td>-300</td>\n",
              "      <td>2006</td>\n",
              "      <td>But if you cannot remain still, then your mind goes racing off, even though physically you remain sitting.</td>\n",
              "      <td>106</td>\n",
              "      <td>[but, if, you, cannot, remain, still, then, your, mind, goes, racing, off, even, though, physically, you, remain, sitting]</td>\n",
              "      <td>but if -PRON- can not remain still , then -PRON- mind go race off , even though physically -PRON- remain sit .</td>\n",
              "    </tr>\n",
              "    <tr>\n",
              "      <th>6060</th>\n",
              "      <td>The Book of Zhuangzi</td>\n",
              "      <td>Zhuangzi</td>\n",
              "      <td>Daoism</td>\n",
              "      <td>(His, vision, of, the, origin, is, vast, and, penetrating, ,, ever, expanding, and, open, minded, ,, unshackled, by, anything, or, anybody, .)</td>\n",
              "      <td>-300</td>\n",
              "      <td>2006</td>\n",
              "      <td>His vision of the origin is vast and penetrating, ever expanding and open minded, unshackled by anything or anybody.</td>\n",
              "      <td>116</td>\n",
              "      <td>[his, vision, of, the, origin, is, vast, and, penetrating, ever, expanding, and, open, minded, unshackled, by, anything, or, anybody]</td>\n",
              "      <td>-PRON- vision of the origin be vast and penetrating , ever expand and open minded , unshackle by anything or anybody .</td>\n",
              "    </tr>\n",
              "    <tr>\n",
              "      <th>3844</th>\n",
              "      <td>The Book of Zhuangzi</td>\n",
              "      <td>Zhuangzi</td>\n",
              "      <td>Daoism</td>\n",
              "      <td>(The, Tao, has, no, name, ., ')</td>\n",
              "      <td>-300</td>\n",
              "      <td>2006</td>\n",
              "      <td>The Tao has no name.'</td>\n",
              "      <td>21</td>\n",
              "      <td>[the, tao, has, no, name]</td>\n",
              "      <td>the Tao have no name . '</td>\n",
              "    </tr>\n",
              "    <tr>\n",
              "      <th>5581</th>\n",
              "      <td>The Book of Zhuangzi</td>\n",
              "      <td>Zhuangzi</td>\n",
              "      <td>Daoism</td>\n",
              "      <td>(In, the, middle, lands, it, restores, harmony, to, the, people, and, is, in, balance, with, the, four, directions, .)</td>\n",
              "      <td>-300</td>\n",
              "      <td>2006</td>\n",
              "      <td>In the middle lands it restores harmony to the people and is in balance with the four directions.</td>\n",
              "      <td>97</td>\n",
              "      <td>[in, the, middle, lands, it, restores, harmony, to, the, people, and, is, in, balance, with, the, four, directions]</td>\n",
              "      <td>in the middle land -PRON- restore harmony to the people and be in balance with the four direction .</td>\n",
              "    </tr>\n",
              "    <tr>\n",
              "      <th>2677</th>\n",
              "      <td>The Book of Zhuangzi</td>\n",
              "      <td>Zhuangzi</td>\n",
              "      <td>Daoism</td>\n",
              "      <td>(The, time, since, they, were, born, is, nothing, in, comparison, to, the, time, before, they, were, born, .)</td>\n",
              "      <td>-300</td>\n",
              "      <td>2006</td>\n",
              "      <td>The time since they were born is nothing in comparison to the time before they were born.</td>\n",
              "      <td>89</td>\n",
              "      <td>[the, time, since, they, were, born, is, nothing, in, comparison, to, the, time, before, they, were, born]</td>\n",
              "      <td>the time since -PRON- be bear be nothing in comparison to the time before -PRON- be bear .</td>\n",
              "    </tr>\n",
              "  </tbody>\n",
              "</table>\n",
              "</div>"
            ],
            "text/plain": [
              "                      title  ...                                                                                                           lemmatized_str\n",
              "547   The Book of Zhuangzi   ...           but if -PRON- can not remain still , then -PRON- mind go race off , even though physically -PRON- remain sit .\n",
              "6060  The Book of Zhuangzi   ...   -PRON- vision of the origin be vast and penetrating , ever expand and open minded , unshackle by anything or anybody .\n",
              "3844  The Book of Zhuangzi   ...                                                                                                 the Tao have no name . '\n",
              "5581  The Book of Zhuangzi   ...                      in the middle land -PRON- restore harmony to the people and be in balance with the four direction .\n",
              "2677  The Book of Zhuangzi   ...                               the time since -PRON- be bear be nothing in comparison to the time before -PRON- be bear .\n",
              "\n",
              "[5 rows x 10 columns]"
            ]
          },
          "metadata": {
            "tags": []
          },
          "execution_count": 57
        }
      ]
    },
    {
      "cell_type": "markdown",
      "metadata": {
        "id": "AJOxPwDpIeDT"
      },
      "source": [
        "### Combine with the Old Dataframe & Export to CSV"
      ]
    },
    {
      "cell_type": "code",
      "metadata": {
        "colab": {
          "base_uri": "https://localhost:8080/",
          "height": 1000
        },
        "id": "UU8QqgIXInkp",
        "outputId": "f0d931d8-4c28-439b-fe73-99c4994be40e"
      },
      "source": [
        "# load the old version and check it out\n",
        "og_df = pd.read_csv('/gdrive/MyDrive/Colab_Projects/philosophy_data_project/philosophy_data.csv')\n",
        "og_df.sample(5)"
      ],
      "execution_count": 47,
      "outputs": [
        {
          "output_type": "execute_result",
          "data": {
            "text/html": [
              "<div>\n",
              "<style scoped>\n",
              "    .dataframe tbody tr th:only-of-type {\n",
              "        vertical-align: middle;\n",
              "    }\n",
              "\n",
              "    .dataframe tbody tr th {\n",
              "        vertical-align: top;\n",
              "    }\n",
              "\n",
              "    .dataframe thead th {\n",
              "        text-align: right;\n",
              "    }\n",
              "</style>\n",
              "<table border=\"1\" class=\"dataframe\">\n",
              "  <thead>\n",
              "    <tr style=\"text-align: right;\">\n",
              "      <th></th>\n",
              "      <th>title</th>\n",
              "      <th>author</th>\n",
              "      <th>school</th>\n",
              "      <th>sentence_spacy</th>\n",
              "      <th>sentence_str</th>\n",
              "      <th>original_publication_date</th>\n",
              "      <th>corpus_edition_date</th>\n",
              "      <th>sentence_length</th>\n",
              "      <th>sentence_lowered</th>\n",
              "      <th>tokenized_txt</th>\n",
              "      <th>lemmatized_str</th>\n",
              "    </tr>\n",
              "  </thead>\n",
              "  <tbody>\n",
              "    <tr>\n",
              "      <th>232130</th>\n",
              "      <td>The Idea Of Phenomenology</td>\n",
              "      <td>Husserl</td>\n",
              "      <td>phenomenology</td>\n",
              "      <td>Here we are not speaking of the acts of abstraction that occur in the psychological subject, and the psychological conditions under which they are performed.</td>\n",
              "      <td>Here we are not speaking of the acts of abstraction that occur in the psychological subject, and the psychological conditions under which they are performed.</td>\n",
              "      <td>1907</td>\n",
              "      <td>1999</td>\n",
              "      <td>157</td>\n",
              "      <td>here we are not speaking of the acts of abstraction that occur in the psychological subject, and the psychological conditions under which they are performed.</td>\n",
              "      <td>['here', 'we', 'are', 'not', 'speaking', 'of', 'the', 'acts', 'of', 'abstraction', 'that', 'occur', 'in', 'the', 'psychological', 'subject', 'and', 'the', 'psychological', 'conditions', 'under', '...</td>\n",
              "      <td>here -PRON- be not speak of the act of abstraction that occur in the psychological subject , and the psychological condition under which -PRON- be perform .</td>\n",
              "    </tr>\n",
              "    <tr>\n",
              "      <th>174170</th>\n",
              "      <td>Philosophical Troubles</td>\n",
              "      <td>Kripke</td>\n",
              "      <td>analytic</td>\n",
              "      <td>Now, this is what I think in fact is true for those cases of naming where the reference is fixed by description.</td>\n",
              "      <td>Now, this is what I think in fact is true for those cases of naming where the reference is fixed by description.</td>\n",
              "      <td>1975</td>\n",
              "      <td>2011</td>\n",
              "      <td>112</td>\n",
              "      <td>now, this is what i think in fact is true for those cases of naming where the reference is fixed by description.</td>\n",
              "      <td>['now', 'this', 'is', 'what', 'think', 'in', 'fact', 'is', 'true', 'for', 'those', 'cases', 'of', 'naming', 'where', 'the', 'reference', 'is', 'fixed', 'by', 'description']</td>\n",
              "      <td>now , this be what -PRON- think in fact be true for those case of name where the reference be fix by description .</td>\n",
              "    </tr>\n",
              "    <tr>\n",
              "      <th>257017</th>\n",
              "      <td>Critique Of Pure Reason</td>\n",
              "      <td>Kant</td>\n",
              "      <td>german_idealism</td>\n",
              "      <td>But the case is the same here as with other pure a priori rep resentations (e.g., space and time) that we can extract as clear concepts from experience only because we have put them into experienc...</td>\n",
              "      <td>But the case is the same here as with other pure a priori rep resentations (e.g., space and time) that we can extract as clear concepts from experience only because we have put them into experienc...</td>\n",
              "      <td>1781</td>\n",
              "      <td>1998</td>\n",
              "      <td>223</td>\n",
              "      <td>but the case is the same here as with other pure a priori rep resentations (e.g., space and time) that we can extract as clear concepts from experience only because we have put them into experienc...</td>\n",
              "      <td>['but', 'the', 'case', 'is', 'the', 'same', 'here', 'as', 'with', 'other', 'pure', 'priori', 'rep', 'resentations', 'space', 'and', 'time', 'that', 'we', 'can', 'extract', 'as', 'clear', 'concepts...</td>\n",
              "      <td>but the case be the same here as with other pure a priori rep resentation ( e.g. , space and time ) that -PRON- can extract as clear concept from experience only because -PRON- have put -PRON- in...</td>\n",
              "    </tr>\n",
              "    <tr>\n",
              "      <th>316673</th>\n",
              "      <td>The Wealth Of Nations</td>\n",
              "      <td>Smith</td>\n",
              "      <td>capitalism</td>\n",
              "      <td>Under the local or provincial administration of the justices of the peace in Great Britain, the six days labour which the country people are obliged to give to the reparation of the highways, is n...</td>\n",
              "      <td>Under the local or provincial administration of the justices of the peace in Great Britain, the six days labour which the country people are obliged to give to the reparation of the highways, is n...</td>\n",
              "      <td>1776</td>\n",
              "      <td>2009</td>\n",
              "      <td>319</td>\n",
              "      <td>under the local or provincial administration of the justices of the peace in great britain, the six days labour which the country people are obliged to give to the reparation of the highways, is n...</td>\n",
              "      <td>['under', 'the', 'local', 'or', 'provincial', 'administration', 'of', 'the', 'justices', 'of', 'the', 'peace', 'in', 'great', 'britain', 'the', 'six', 'days', 'labour', 'which', 'the', 'country', ...</td>\n",
              "      <td>under the local or provincial administration of the justice of the peace in Great Britain , the six day labour which the country people be oblige to give to the reparation of the highway , be not...</td>\n",
              "    </tr>\n",
              "    <tr>\n",
              "      <th>70185</th>\n",
              "      <td>Aristotle - Complete Works</td>\n",
              "      <td>Aristotle</td>\n",
              "      <td>aristotle</td>\n",
              "      <td>Why is it that, though in the rest of the body the left side is weaker than the right, this is not true of the eyes, but the sight of both eyes is equally acute?</td>\n",
              "      <td>Why is it that, though in the rest of the body the left side is weaker than the right, this is not true of the eyes, but the sight of both eyes is equally acute?</td>\n",
              "      <td>-320</td>\n",
              "      <td>1991</td>\n",
              "      <td>161</td>\n",
              "      <td>why is it that, though in the rest of the body the left side is weaker than the right, this is not true of the eyes, but the sight of both eyes is equally acute?</td>\n",
              "      <td>['why', 'is', 'it', 'that', 'though', 'in', 'the', 'rest', 'of', 'the', 'body', 'the', 'left', 'side', 'is', 'weaker', 'than', 'the', 'right', 'this', 'is', 'not', 'true', 'of', 'the', 'eyes', 'bu...</td>\n",
              "      <td>why be -PRON- that , though in the rest of the body the left side be weak than the right , this be not true of the eye , but the sight of both eye be equally acute ?</td>\n",
              "    </tr>\n",
              "  </tbody>\n",
              "</table>\n",
              "</div>"
            ],
            "text/plain": [
              "                             title  ...                                                                                                                                                                                           lemmatized_str\n",
              "232130   The Idea Of Phenomenology  ...                                             here -PRON- be not speak of the act of abstraction that occur in the psychological subject , and the psychological condition under which -PRON- be perform .\n",
              "174170      Philosophical Troubles  ...                                                                                       now , this be what -PRON- think in fact be true for those case of name where the reference be fix by description .\n",
              "257017     Critique Of Pure Reason  ...   but the case be the same here as with other pure a priori rep resentation ( e.g. , space and time ) that -PRON- can extract as clear concept from experience only because -PRON- have put -PRON- in...\n",
              "316673       The Wealth Of Nations  ...   under the local or provincial administration of the justice of the peace in Great Britain , the six day labour which the country people be oblige to give to the reparation of the highway , be not...\n",
              "70185   Aristotle - Complete Works  ...                                    why be -PRON- that , though in the rest of the body the left side be weak than the right , this be not true of the eye , but the sight of both eye be equally acute ?\n",
              "\n",
              "[5 rows x 11 columns]"
            ]
          },
          "metadata": {
            "tags": []
          },
          "execution_count": 47
        }
      ]
    },
    {
      "cell_type": "code",
      "metadata": {
        "colab": {
          "base_uri": "https://localhost:8080/"
        },
        "id": "XfwEX5vzInx0",
        "outputId": "0e778f5b-ff7a-4d47-9e84-a6f8fe638e2b"
      },
      "source": [
        "og_df['author'].value_counts(normalize=True)"
      ],
      "execution_count": 48,
      "outputs": [
        {
          "output_type": "execute_result",
          "data": {
            "text/plain": [
              "Aristotle          0.124896\n",
              "Plato              0.098234\n",
              "Hegel              0.058122\n",
              "Anselm             0.041164\n",
              "Foucault           0.039021\n",
              "Heidegger          0.039019\n",
              "Kant               0.036164\n",
              "Sartre             0.035058\n",
              "Marx               0.034538\n",
              "Lewis              0.033593\n",
              "Malebranche        0.033278\n",
              "Deleuze            0.032108\n",
              "Kripke             0.031952\n",
              "Smith              0.029939\n",
              "Wittgenstein       0.023131\n",
              "Locke              0.022750\n",
              "Hume               0.021282\n",
              "Merleau-Ponty      0.019439\n",
              "Quine              0.018878\n",
              "Nietzsche          0.017447\n",
              "Derrida            0.015360\n",
              "Davis              0.015148\n",
              "Husserl            0.014702\n",
              "Hobbes             0.014111\n",
              "Fichte             0.013591\n",
              "Russell            0.012989\n",
              "Leibniz            0.012871\n",
              "Seneca             0.012851\n",
              "Popper             0.011978\n",
              "Lenin              0.011443\n",
              "Spinoza            0.009712\n",
              "Moore              0.009392\n",
              "Keynes             0.008734\n",
              "Ricardo            0.007912\n",
              "Beauvoir           0.007840\n",
              "Berkeley           0.007000\n",
              "Augustine          0.006552\n",
              "Marcus Aurelius    0.005664\n",
              "Kierkegaard        0.004517\n",
              "Wollstonecraft     0.003897\n",
              "Descartes          0.002898\n",
              "Epictetus          0.000827\n",
              "Name: author, dtype: float64"
            ]
          },
          "metadata": {
            "tags": []
          },
          "execution_count": 48
        }
      ]
    },
    {
      "cell_type": "code",
      "metadata": {
        "colab": {
          "base_uri": "https://localhost:8080/"
        },
        "id": "z1wqPSYwsrBN",
        "outputId": "4fcd39a9-b4ba-4b35-87bd-b59ee402cd1b"
      },
      "source": [
        "len(og_df)"
      ],
      "execution_count": null,
      "outputs": [
        {
          "output_type": "execute_result",
          "data": {
            "text/plain": [
              "376865"
            ]
          },
          "metadata": {
            "tags": []
          },
          "execution_count": 98
        }
      ]
    },
    {
      "cell_type": "code",
      "metadata": {
        "colab": {
          "base_uri": "https://localhost:8080/"
        },
        "id": "VQcxBh37IoDJ",
        "outputId": "18554846-3dfe-4f7e-eaa4-b82f1c1f4d4f"
      },
      "source": [
        "# append the new data\n",
        "new_df = og_df.append(df)\n",
        "new_df['author'].value_counts(normalize=True)"
      ],
      "execution_count": 49,
      "outputs": [
        {
          "output_type": "execute_result",
          "data": {
            "text/plain": [
              "Aristotle          0.123047\n",
              "Plato              0.096779\n",
              "Hegel              0.057261\n",
              "Anselm             0.040555\n",
              "Foucault           0.038443\n",
              "Heidegger          0.038441\n",
              "Kant               0.035628\n",
              "Sartre             0.034539\n",
              "Marx               0.034026\n",
              "Lewis              0.033096\n",
              "Malebranche        0.032785\n",
              "Deleuze            0.031633\n",
              "Kripke             0.031479\n",
              "Smith              0.029496\n",
              "Wittgenstein       0.022789\n",
              "Locke              0.022413\n",
              "Hume               0.020967\n",
              "Merleau-Ponty      0.019151\n",
              "Quine              0.018599\n",
              "Nietzsche          0.017189\n",
              "Derrida            0.015133\n",
              "Davis              0.014923\n",
              "Zhuangzi           0.014807\n",
              "Husserl            0.014484\n",
              "Hobbes             0.013902\n",
              "Fichte             0.013390\n",
              "Russell            0.012797\n",
              "Leibniz            0.012681\n",
              "Seneca             0.012661\n",
              "Popper             0.011800\n",
              "Lenin              0.011273\n",
              "Spinoza            0.009568\n",
              "Moore              0.009253\n",
              "Keynes             0.008604\n",
              "Ricardo            0.007795\n",
              "Beauvoir           0.007724\n",
              "Berkeley           0.006897\n",
              "Augustine          0.006455\n",
              "Marcus Aurelius    0.005580\n",
              "Kierkegaard        0.004450\n",
              "Wollstonecraft     0.003839\n",
              "Descartes          0.002856\n",
              "Epictetus          0.000815\n",
              "Name: author, dtype: float64"
            ]
          },
          "metadata": {
            "tags": []
          },
          "execution_count": 49
        }
      ]
    },
    {
      "cell_type": "code",
      "metadata": {
        "colab": {
          "base_uri": "https://localhost:8080/",
          "height": 782
        },
        "id": "bwgCHszFf6_p",
        "outputId": "6642ada1-d25d-488f-e86d-06e9465a9f75"
      },
      "source": [
        "new_df[new_df['author']=='Zhuangzi'].sample(5)"
      ],
      "execution_count": 50,
      "outputs": [
        {
          "output_type": "execute_result",
          "data": {
            "text/html": [
              "<div>\n",
              "<style scoped>\n",
              "    .dataframe tbody tr th:only-of-type {\n",
              "        vertical-align: middle;\n",
              "    }\n",
              "\n",
              "    .dataframe tbody tr th {\n",
              "        vertical-align: top;\n",
              "    }\n",
              "\n",
              "    .dataframe thead th {\n",
              "        text-align: right;\n",
              "    }\n",
              "</style>\n",
              "<table border=\"1\" class=\"dataframe\">\n",
              "  <thead>\n",
              "    <tr style=\"text-align: right;\">\n",
              "      <th></th>\n",
              "      <th>title</th>\n",
              "      <th>author</th>\n",
              "      <th>school</th>\n",
              "      <th>sentence_spacy</th>\n",
              "      <th>sentence_str</th>\n",
              "      <th>original_publication_date</th>\n",
              "      <th>corpus_edition_date</th>\n",
              "      <th>sentence_length</th>\n",
              "      <th>sentence_lowered</th>\n",
              "      <th>tokenized_txt</th>\n",
              "      <th>lemmatized_str</th>\n",
              "    </tr>\n",
              "  </thead>\n",
              "  <tbody>\n",
              "    <tr>\n",
              "      <th>6103</th>\n",
              "      <td>The Book of Zhuangzi</td>\n",
              "      <td>Zhuangzi</td>\n",
              "      <td>Daoism</td>\n",
              "      <td>(Racing, after, the, multitude, of, things, in, this, world, and, never, returning, ,, he, was, indeed, like, someone, who, tries, to, have, the, last, word, with, an, echo, ,, or, who, tries, to,...</td>\n",
              "      <td>Racing after the multitude of things in this world and never returning, he was indeed like someone who tries to have the last word with an echo, or who tries to show that you can outrun your shadow.</td>\n",
              "      <td>-300</td>\n",
              "      <td>2006</td>\n",
              "      <td>198</td>\n",
              "      <td>NaN</td>\n",
              "      <td>[racing, after, the, multitude, of, things, in, this, world, and, never, returning, he, was, indeed, like, someone, who, tries, to, have, the, last, word, with, an, echo, or, who, tries, to, show,...</td>\n",
              "      <td>racing after the multitude of thing in this world and never return , -PRON- be indeed like someone who try to have the last word with an echo , or who try to show that -PRON- can outrun -PRON- sh...</td>\n",
              "    </tr>\n",
              "    <tr>\n",
              "      <th>1541</th>\n",
              "      <td>The Book of Zhuangzi</td>\n",
              "      <td>Zhuangzi</td>\n",
              "      <td>Daoism</td>\n",
              "      <td>(A, great, deal, of, knowledge, is, needed, to, make, fishing, lines, ,, traps, ,, baits, and, hooks, ,, but, the, result, is, that, the, fish, disperse, in, distress, in, the, water, .)</td>\n",
              "      <td>A great deal of knowledge is needed to make fishing lines, traps, baits and hooks, but the result is that the fish disperse in distress in the water.</td>\n",
              "      <td>-300</td>\n",
              "      <td>2006</td>\n",
              "      <td>149</td>\n",
              "      <td>NaN</td>\n",
              "      <td>[great, deal, of, knowledge, is, needed, to, make, fishing, lines, traps, baits, and, hooks, but, the, result, is, that, the, fish, disperse, in, distress, in, the, water]</td>\n",
              "      <td>a great deal of knowledge be need to make fishing line , trap , bait and hook , but the result be that the fish disperse in distress in the water .</td>\n",
              "    </tr>\n",
              "    <tr>\n",
              "      <th>3094</th>\n",
              "      <td>The Book of Zhuangzi</td>\n",
              "      <td>Zhuangzi</td>\n",
              "      <td>Daoism</td>\n",
              "      <td>(Surely, you, 're, with, that, ,, are, n't, you, ?, ')</td>\n",
              "      <td>Surely you're with that, aren't you?'</td>\n",
              "      <td>-300</td>\n",
              "      <td>2006</td>\n",
              "      <td>37</td>\n",
              "      <td>NaN</td>\n",
              "      <td>[surely, you, re, with, that, aren, you]</td>\n",
              "      <td>surely -PRON- be with that , be not -PRON- ? '</td>\n",
              "    </tr>\n",
              "    <tr>\n",
              "      <th>440</th>\n",
              "      <td>The Book of Zhuangzi</td>\n",
              "      <td>Zhuangzi</td>\n",
              "      <td>Daoism</td>\n",
              "      <td>(The, ancient, ones, considered, this, the, work, of, the, gods, who, free, us, from, bondage, ., ')</td>\n",
              "      <td>The ancient ones considered this the work of the gods who free us from bondage. '</td>\n",
              "      <td>-300</td>\n",
              "      <td>2006</td>\n",
              "      <td>81</td>\n",
              "      <td>NaN</td>\n",
              "      <td>[the, ancient, ones, considered, this, the, work, of, the, gods, who, free, us, from, bondage]</td>\n",
              "      <td>the ancient one consider this the work of the god who free -PRON- from bondage . '</td>\n",
              "    </tr>\n",
              "    <tr>\n",
              "      <th>2519</th>\n",
              "      <td>The Book of Zhuangzi</td>\n",
              "      <td>Zhuangzi</td>\n",
              "      <td>Daoism</td>\n",
              "      <td>(They, 've, done, nothing, !)</td>\n",
              "      <td>They've done nothing!</td>\n",
              "      <td>-300</td>\n",
              "      <td>2006</td>\n",
              "      <td>21</td>\n",
              "      <td>NaN</td>\n",
              "      <td>[they, ve, done, nothing]</td>\n",
              "      <td>-PRON- have do nothing !</td>\n",
              "    </tr>\n",
              "  </tbody>\n",
              "</table>\n",
              "</div>"
            ],
            "text/plain": [
              "                      title  ...                                                                                                                                                                                           lemmatized_str\n",
              "6103  The Book of Zhuangzi   ...   racing after the multitude of thing in this world and never return , -PRON- be indeed like someone who try to have the last word with an echo , or who try to show that -PRON- can outrun -PRON- sh...\n",
              "1541  The Book of Zhuangzi   ...                                                      a great deal of knowledge be need to make fishing line , trap , bait and hook , but the result be that the fish disperse in distress in the water .\n",
              "3094  The Book of Zhuangzi   ...                                                                                                                                                           surely -PRON- be with that , be not -PRON- ? '\n",
              "440   The Book of Zhuangzi   ...                                                                                                                       the ancient one consider this the work of the god who free -PRON- from bondage . '\n",
              "2519  The Book of Zhuangzi   ...                                                                                                                                                                                 -PRON- have do nothing !\n",
              "\n",
              "[5 rows x 11 columns]"
            ]
          },
          "metadata": {
            "tags": []
          },
          "execution_count": 50
        }
      ]
    },
    {
      "cell_type": "code",
      "metadata": {
        "colab": {
          "base_uri": "https://localhost:8080/"
        },
        "id": "Z5PW2K1kOmtE",
        "outputId": "743909f5-f3a9-4f00-e6f2-692a4174b2dc"
      },
      "source": [
        "len(new_df)"
      ],
      "execution_count": 51,
      "outputs": [
        {
          "output_type": "execute_result",
          "data": {
            "text/plain": [
              "396427"
            ]
          },
          "metadata": {
            "tags": []
          },
          "execution_count": 51
        }
      ]
    },
    {
      "cell_type": "code",
      "metadata": {
        "colab": {
          "base_uri": "https://localhost:8080/",
          "height": 17
        },
        "id": "ncmXLdXuIoMl",
        "outputId": "cb3d2361-c51f-4af3-d618-e37d6a437311"
      },
      "source": [
        "# export as csv\n",
        "from google.colab import files\n",
        "new_df.to_csv('phil_nlp.csv', index=False) \n",
        "files.download('phil_nlp.csv')"
      ],
      "execution_count": 52,
      "outputs": [
        {
          "output_type": "display_data",
          "data": {
            "application/javascript": [
              "\n",
              "    async function download(id, filename, size) {\n",
              "      if (!google.colab.kernel.accessAllowed) {\n",
              "        return;\n",
              "      }\n",
              "      const div = document.createElement('div');\n",
              "      const label = document.createElement('label');\n",
              "      label.textContent = `Downloading \"${filename}\": `;\n",
              "      div.appendChild(label);\n",
              "      const progress = document.createElement('progress');\n",
              "      progress.max = size;\n",
              "      div.appendChild(progress);\n",
              "      document.body.appendChild(div);\n",
              "\n",
              "      const buffers = [];\n",
              "      let downloaded = 0;\n",
              "\n",
              "      const channel = await google.colab.kernel.comms.open(id);\n",
              "      // Send a message to notify the kernel that we're ready.\n",
              "      channel.send({})\n",
              "\n",
              "      for await (const message of channel.messages) {\n",
              "        // Send a message to notify the kernel that we're ready.\n",
              "        channel.send({})\n",
              "        if (message.buffers) {\n",
              "          for (const buffer of message.buffers) {\n",
              "            buffers.push(buffer);\n",
              "            downloaded += buffer.byteLength;\n",
              "            progress.value = downloaded;\n",
              "          }\n",
              "        }\n",
              "      }\n",
              "      const blob = new Blob(buffers, {type: 'application/binary'});\n",
              "      const a = document.createElement('a');\n",
              "      a.href = window.URL.createObjectURL(blob);\n",
              "      a.download = filename;\n",
              "      div.appendChild(a);\n",
              "      a.click();\n",
              "      div.remove();\n",
              "    }\n",
              "  "
            ],
            "text/plain": [
              "<IPython.core.display.Javascript object>"
            ]
          },
          "metadata": {
            "tags": []
          }
        },
        {
          "output_type": "display_data",
          "data": {
            "application/javascript": [
              "download(\"download_3dd65f8d-2943-444d-9110-4146bfb15db8\", \"phil_nlp.csv\", 351577349)"
            ],
            "text/plain": [
              "<IPython.core.display.Javascript object>"
            ]
          },
          "metadata": {
            "tags": []
          }
        }
      ]
    },
    {
      "cell_type": "markdown",
      "metadata": {
        "id": "vz0aj3NrECm3"
      },
      "source": [
        "###Upload Data to the SQL Server"
      ]
    },
    {
      "cell_type": "code",
      "metadata": {
        "colab": {
          "base_uri": "https://localhost:8080/",
          "height": 272
        },
        "id": "bW76POWkJL-b",
        "outputId": "42d64a69-953e-4e43-d619-e9425be15ff9"
      },
      "source": [
        "# prepare to upload to the PostgreSQL database\n",
        "\n",
        "# note which dataframe you set this to - new_df for the whole dataset, df for \n",
        "# just the new text\n",
        "\n",
        "for_db = new_df\n",
        "for_db['date'] = for_db['original_publication_date']\n",
        "for_db['date'] = for_db['date'].apply(lambda x: str(x)[1:]+' BC' if x < 0 else str(x))\n",
        "for_db['sentence'] = for_db['sentence_str']\n",
        "for_db['school'] = for_db['school'].apply(lambda x: x.replace('_', ' ').title())\n",
        "for_db = for_db.drop(['sentence_spacy', \n",
        "                      'sentence_length',\n",
        "                      'sentence_lowered', \n",
        "                      'sentence_str', \n",
        "                      'tokenized_txt', \n",
        "                      'lemmatized_str',\n",
        "                      'corpus_edition_date',\n",
        "                      'original_publication_date'], axis=1)\n",
        "for_db.columns = [i.upper() for i in for_db.columns]\n",
        "\n",
        "for_db.sample(5)"
      ],
      "execution_count": 53,
      "outputs": [
        {
          "output_type": "execute_result",
          "data": {
            "text/html": [
              "<div>\n",
              "<style scoped>\n",
              "    .dataframe tbody tr th:only-of-type {\n",
              "        vertical-align: middle;\n",
              "    }\n",
              "\n",
              "    .dataframe tbody tr th {\n",
              "        vertical-align: top;\n",
              "    }\n",
              "\n",
              "    .dataframe thead th {\n",
              "        text-align: right;\n",
              "    }\n",
              "</style>\n",
              "<table border=\"1\" class=\"dataframe\">\n",
              "  <thead>\n",
              "    <tr style=\"text-align: right;\">\n",
              "      <th></th>\n",
              "      <th>TITLE</th>\n",
              "      <th>AUTHOR</th>\n",
              "      <th>SCHOOL</th>\n",
              "      <th>DATE</th>\n",
              "      <th>SENTENCE</th>\n",
              "    </tr>\n",
              "  </thead>\n",
              "  <tbody>\n",
              "    <tr>\n",
              "      <th>345604</th>\n",
              "      <td>Women, Race, And Class</td>\n",
              "      <td>Davis</td>\n",
              "      <td>Feminism</td>\n",
              "      <td>1981</td>\n",
              "      <td>Weep ye no more, Pallid Dudu!</td>\n",
              "    </tr>\n",
              "    <tr>\n",
              "      <th>117033</th>\n",
              "      <td>The Search After Truth</td>\n",
              "      <td>Malebranche</td>\n",
              "      <td>Rationalism</td>\n",
              "      <td>1674</td>\n",
              "      <td>I am not surprised that ordinary men or pagan philosophen consider only the soul's relation and union with the body, without recognizing lbe relation and union</td>\n",
              "    </tr>\n",
              "    <tr>\n",
              "      <th>68361</th>\n",
              "      <td>Aristotle - Complete Works</td>\n",
              "      <td>Aristotle</td>\n",
              "      <td>Aristotle</td>\n",
              "      <td>320 BC</td>\n",
              "      <td>The ray from, the line will fall outside the line and the shadow is formed when the sun is higher in the heavens, and when it is lower, and it will be shortest wh the sun is at its highest and ove...</td>\n",
              "    </tr>\n",
              "    <tr>\n",
              "      <th>124442</th>\n",
              "      <td>The Search After Truth</td>\n",
              "      <td>Malebranche</td>\n",
              "      <td>Rationalism</td>\n",
              "      <td>1674</td>\n",
              "      <td>The lines and figures of geometry, then, are well suited for representing relations between magnitudes to the imagination, or between things that vary quantitatively, such as space, time, weight, ...</td>\n",
              "    </tr>\n",
              "    <tr>\n",
              "      <th>387813</th>\n",
              "      <td>Being and Nothingness</td>\n",
              "      <td>Sartre</td>\n",
              "      <td>Existentialism</td>\n",
              "      <td>1943</td>\n",
              "      <td>This argument has never greatly troubled the partisans of human freedom.</td>\n",
              "    </tr>\n",
              "  </tbody>\n",
              "</table>\n",
              "</div>"
            ],
            "text/plain": [
              "                             TITLE  ...                                                                                                                                                                                                 SENTENCE\n",
              "345604      Women, Race, And Class  ...                                                                                                                                                                            Weep ye no more, Pallid Dudu!\n",
              "117033      The Search After Truth  ...                                          I am not surprised that ordinary men or pagan philosophen consider only the soul's relation and union with the body, without recognizing lbe relation and union\n",
              "68361   Aristotle - Complete Works  ...  The ray from, the line will fall outside the line and the shadow is formed when the sun is higher in the heavens, and when it is lower, and it will be shortest wh the sun is at its highest and ove...\n",
              "124442      The Search After Truth  ...  The lines and figures of geometry, then, are well suited for representing relations between magnitudes to the imagination, or between things that vary quantitatively, such as space, time, weight, ...\n",
              "387813       Being and Nothingness  ...                                                                                                                                 This argument has never greatly troubled the partisans of human freedom.\n",
              "\n",
              "[5 rows x 5 columns]"
            ]
          },
          "metadata": {
            "tags": []
          },
          "execution_count": 53
        }
      ]
    },
    {
      "cell_type": "code",
      "metadata": {
        "colab": {
          "base_uri": "https://localhost:8080/"
        },
        "id": "hWSVKbmoVaAW",
        "outputId": "7504297f-a1f5-4781-9f4c-e5039b0be0dd"
      },
      "source": [
        "len(for_db)"
      ],
      "execution_count": 54,
      "outputs": [
        {
          "output_type": "execute_result",
          "data": {
            "text/plain": [
              "396427"
            ]
          },
          "metadata": {
            "tags": []
          },
          "execution_count": 54
        }
      ]
    },
    {
      "cell_type": "code",
      "metadata": {
        "colab": {
          "base_uri": "https://localhost:8080/"
        },
        "id": "Mni3N-fyK-jZ",
        "outputId": "a0112ed9-2cce-4e35-b864-c5c73fa4f4e0"
      },
      "source": [
        "#importing sql library \n",
        "from sqlalchemy import create_engine \n",
        "  \n",
        "# create a reference  \n",
        "# for sql library \n",
        "engine = create_engine('p7joo',\n",
        "                       echo=False)\n",
        "  \n",
        "# attach the data frame to the sql server \n",
        "for_db.to_sql('phil_nlp',          \n",
        "              con = engine,\n",
        "              if_exists='replace',\n",
        "              index=False,\n",
        "              method='multi') \n",
        "  \n",
        "# show the completed data as a test\n",
        "print(engine.execute(\"\"\"SELECT * FROM phil_nlp WHERE \"AUTHOR\" = 'Zhuangzi'\"\"\").fetchone()) "
      ],
      "execution_count": 55,
      "outputs": [
        {
          "output_type": "stream",
          "text": [
            "/usr/local/lib/python3.7/dist-packages/psycopg2/__init__.py:144: UserWarning: The psycopg2 wheel package will be renamed from release 2.8; in order to keep installing from binary please use \"pip install psycopg2-binary\" instead. For details see: <http://initd.org/psycopg/docs/install.html#binary-install-from-pypi>.\n",
            "  \"\"\")\n"
          ],
          "name": "stderr"
        },
        {
          "output_type": "stream",
          "text": [
            "('The Book of Zhuangzi ', 'Zhuangzi', 'Daoism', '300 BC', 'Can you be a little baby?')\n"
          ],
          "name": "stdout"
        }
      ]
    },
    {
      "cell_type": "markdown",
      "metadata": {
        "id": "2NxRYDdaLGW2"
      },
      "source": [
        "Remember to add to the clipping and other elements to the notebook that creates the database as a whole. Then you're done!"
      ]
    },
    {
      "cell_type": "code",
      "metadata": {
        "id": "GK50YeA-LNtD",
        "colab": {
          "base_uri": "https://localhost:8080/"
        },
        "outputId": "b8b3fa95-a533-4747-abc1-9719ed1ed839"
      },
      "source": [
        "print(engine.execute(\"\"\"SELECT * FROM phil_nlp where \"AUTHOR\" = 'Sartre'\"\"\").fetchone()) "
      ],
      "execution_count": null,
      "outputs": [
        {
          "output_type": "stream",
          "text": [
            "('Being and Nothingness', 'Sartre', 'Existentialism', '1943', 'In vain do I fulfill the functions of a caf waiter.')\n"
          ],
          "name": "stdout"
        }
      ]
    },
    {
      "cell_type": "code",
      "metadata": {
        "id": "EfaWbJkCid6W"
      },
      "source": [
        ""
      ],
      "execution_count": null,
      "outputs": []
    }
  ]
}