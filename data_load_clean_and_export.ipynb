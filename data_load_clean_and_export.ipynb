{
  "nbformat": 4,
  "nbformat_minor": 0,
  "metadata": {
    "colab": {
      "name": "data_load_clean_and_export.ipynb",
      "provenance": [],
      "collapsed_sections": [],
      "toc_visible": true,
      "machine_shape": "hm",
      "authorship_tag": "ABX9TyPZOYD5TV0JOrWt59Egqc9o",
      "include_colab_link": true
    },
    "kernelspec": {
      "name": "python3",
      "display_name": "Python 3"
    },
    "accelerator": "GPU"
  },
  "cells": [
    {
      "cell_type": "markdown",
      "metadata": {
        "id": "view-in-github",
        "colab_type": "text"
      },
      "source": [
        "<a href=\"https://colab.research.google.com/github/kcalizadeh/PDP_data_processing/blob/master/data_load_clean_and_export.ipynb\" target=\"_parent\"><img src=\"https://colab.research.google.com/assets/colab-badge.svg\" alt=\"Open In Colab\"/></a>"
      ]
    },
    {
      "cell_type": "markdown",
      "metadata": {
        "id": "ce4uUmGtIwgG"
      },
      "source": [
        "### Imports and Mounting Drive"
      ]
    },
    {
      "cell_type": "code",
      "metadata": {
        "colab": {
          "base_uri": "https://localhost:8080/"
        },
        "id": "dQnwn5oZqw4P",
        "outputId": "095466b1-2f22-4b1f-ba89-d3cc8a61c6dd"
      },
      "source": [
        "# this cell mounts drive, sets the correct directory, then imports all functions\n",
        "# and relevant libraries via the functions.py file\n",
        "from google.colab import drive\n",
        "import sys\n",
        "\n",
        "drive.mount('/gdrive',force_remount=True)\n",
        "\n",
        "drive_path = '/gdrive/MyDrive/Colab_Projects/philosophy_data_project'\n",
        "\n",
        "sys.path.append(drive_path)"
      ],
      "execution_count": 1,
      "outputs": [
        {
          "output_type": "stream",
          "text": [
            "Mounted at /gdrive\n"
          ],
          "name": "stdout"
        }
      ]
    },
    {
      "cell_type": "code",
      "metadata": {
        "id": "icdKF0dyrAU5"
      },
      "source": [
        "from import_functions import *"
      ],
      "execution_count": 2,
      "outputs": []
    },
    {
      "cell_type": "code",
      "metadata": {
        "colab": {
          "base_uri": "https://localhost:8080/"
        },
        "id": "tym6E0D5rbwQ",
        "outputId": "792a2f1c-294c-4979-c4d9-747d07f86ace"
      },
      "source": [
        "import spacy.cli\n",
        "spacy.cli.download(\"en_core_web_lg\")\n",
        "import en_core_web_lg\n",
        "nlp = en_core_web_lg.load()"
      ],
      "execution_count": 3,
      "outputs": [
        {
          "output_type": "stream",
          "text": [
            "\u001b[38;5;2m✔ Download and installation successful\u001b[0m\n",
            "You can now load the model via spacy.load('en_core_web_lg')\n"
          ],
          "name": "stdout"
        }
      ]
    },
    {
      "cell_type": "code",
      "metadata": {
        "id": "YTfCjw3Rrt2I"
      },
      "source": [
        "# load the texts\n",
        "\n",
        "## plato\n",
        "plato_complete = get_text(drive_path + '/phil_txts/plato_complete_works.txt')\n",
        "\n",
        "# aristotle\n",
        "aristotle_vol_1 = get_text(drive_path + '/phil_txts/aristotle_complete_works_v1.txt')\n",
        "aristotle_vol_2 = get_text(drive_path + '/phil_txts/aristotle_complete_works_v2.txt')\n",
        "\n",
        "## rationalists\n",
        "spinoza_ethics = get_guten('http://www.gutenberg.org/cache/epub/3800/pg3800.txt')\n",
        "spinoza_improve_understanding = get_guten('http://www.gutenberg.org/cache/epub/1016/pg1016.txt')\n",
        "leibniz_theodicy = get_guten('http://www.gutenberg.org/cache/epub/17147/pg17147.txt')\n",
        "descartes_discourse_method = get_guten('http://www.gutenberg.org/cache/epub/59/pg59.txt')\n",
        "descartes_meditations = get_text(drive_path + '/phil_txts/descartes_meditations.txt')\n",
        "malebranche_search_truth = get_text(drive_path + '/phil_txts/malebranche_search_truth.txt')\n",
        "\n",
        "## empiricists\n",
        "locke_understanding_1 = get_guten('http://www.gutenberg.org/cache/epub/10615/pg10615.txt')\n",
        "locke_understanding_2 = get_guten('http://www.gutenberg.org/cache/epub/10616/pg10616.txt')\n",
        "locke_treatise_gov = get_guten('http://www.gutenberg.org/cache/epub/7370/pg7370.txt')\n",
        "hume_treatise = get_guten('http://www.gutenberg.org/cache/epub/4705/pg4705.txt')\n",
        "hume_natural_religion = get_guten('http://www.gutenberg.org/cache/epub/4583/pg4583.txt')\n",
        "berkeley_treatise = get_guten('http://www.gutenberg.org/cache/epub/4723/pg4723.txt')\n",
        "berkeley_three_dialogues = get_guten('http://www.gutenberg.org/cache/epub/4724/pg4724.txt')\n",
        "\n",
        "## german idealism\n",
        "kant_practical_reason = get_text(drive_path + '/phil_txts/kant_critique_practical_reason.txt')\n",
        "kant_judgement = get_text(drive_path + '/phil_txts/kant_critique_judgement.txt')\n",
        "kant_pure_reason = get_text(drive_path + '/phil_txts/kant_pure_reason.txt')\n",
        "fichte_ethics = get_text(drive_path + '/phil_txts/fichte_system_of_ethics.txt')\n",
        "hegel_logic = get_text(drive_path + '/phil_txts/hegel_science_of_logic.txt')\n",
        "hegel_phenomenology = get_text(drive_path + '/phil_txts/hegel_phenomenology_of_spirit.txt')\n",
        "hegel_right = get_text(drive_path + '/phil_txts/hegel_elements_of_right.txt')\n",
        "\n",
        "## analytic\n",
        "russell_problems_of_phil = get_guten('http://www.gutenberg.org/cache/epub/5827/pg5827.txt')\n",
        "russell_analylsis_of_mind = get_guten('http://www.gutenberg.org/cache/epub/2529/pg2529.txt')\n",
        "moore_studies = get_guten('http://www.gutenberg.org/files/50141/50141-0.txt')\n",
        "wittgenstein_tractatus = get_text(drive_path + '/phil_txts/wittgenstein_tractatus.txt')\n",
        "wittgenstein_investigations = get_text(drive_path + '/phil_txts/wittgenstien_philosophical_investigations.txt')\n",
        "lewis_papers1 = get_text(drive_path + '/phil_txts/lewis_papers_1.txt')\n",
        "lewis_papers2 = get_text(drive_path + '/phil_txts/lewis_papers_2.txt')\n",
        "quine_quintessence = get_text(drive_path + '/phil_txts/quine_quintessence.txt')\n",
        "popper_science = get_text(drive_path + '/phil_txts/popper_logic_of_science.txt')\n",
        "kripke_troubles = get_text(drive_path + '/phil_txts/kripke_philosophical_troubles.txt')\n",
        "kripke_naming = get_text(drive_path + '/phil_txts/kripke_naming_necessity.txt')\n",
        "\n",
        "## phenomenology\n",
        "ponty_perception = get_text(drive_path + '/phil_txts/merleau-ponty_phenomenology_of_perception.txt')\n",
        "husserl_idea_of = get_text(drive_path + '/phil_txts/husserl_idea_of_phenomenology.txt')\n",
        "husserl_crisis = get_text(drive_path + '/phil_txts/husserl_crisis_of_euro_sciences.txt')\n",
        "heidegger_being_time = get_text(drive_path + '/phil_txts/heidegger_being_and_time.txt')\n",
        "heidegger_track = get_text(drive_path + '/phil_txts/heidegger_off_the_beaten_track.txt')\n",
        "\n",
        "## continental\n",
        "foucault_order = get_text(drive_path + '/phil_txts/foucault_order_of_things.txt')\n",
        "foucault_madness = get_text(drive_path + '/phil_txts/foucault_history_of_madness.txt')\n",
        "foucault_clinic = get_text(drive_path + '/phil_txts/foucault_birth_of_clinic.txt')\n",
        "derrida_writing = get_text(drive_path + '/phil_txts/derrida_writing_difference.txt')\n",
        "deleuze_oedipus = get_text(drive_path + '/phil_txts/deleuze_guattari_anti-oedipus.txt')\n",
        "deleuze_difference = get_text(drive_path + '/phil_txts/deleuze_difference_repetition.txt')\n",
        "\n",
        "## marxism\n",
        "marx_kapital = get_text(drive_path + '/phil_txts/marx_kapital.txt')\n",
        "marx_manifesto = get_text(drive_path + '/phil_txts/marx_manifesto.txt')\n",
        "lenin_essential = get_text(drive_path + '/phil_txts/lenin_essential_works.txt')\n",
        "\n",
        "## capitalist economics\n",
        "smith_wealth = get_guten('http://www.gutenberg.org/files/3300/3300-0.txt')\n",
        "ricardo_political_economy = get_guten('http://www.gutenberg.org/cache/epub/33310/pg33310.txt')\n",
        "keynes_employment = get_text(drive_path + '/phil_txts/keynes_theory_of_employment.txt')\n",
        "\n",
        "## stoicism\n",
        "epictetus_enchiridion = get_guten('http://www.gutenberg.org/files/45109/45109-0.txt')\n",
        "aurelius_meditations = get_guten('http://www.gutenberg.org/cache/epub/2680/pg2680.txt')\n",
        "\n",
        "## new Wittgenstein text\n",
        "wittgenstein_certainty = get_text(drive_path + '/phil_txts/wittgenstein_certainty.txt')\n",
        "\n",
        "## Neitzsche texts\n",
        "nietzsche_ecce = get_guten('https://www.gutenberg.org/files/52190/52190-0.txt')\n",
        "nietzsche_twilight = get_guten('https://www.gutenberg.org/files/52263/52263-0.txt')\n",
        "nietzsche_antichrist = get_guten('https://www.gutenberg.org/cache/epub/19322/pg19322.txt')\n",
        "nietzsche_beyond = get_guten('https://www.gutenberg.org/cache/epub/4363/pg4363.txt')\n",
        "nietzsche_zarathustra = get_guten('https://www.gutenberg.org/files/1998/1998-0.txt')\n",
        "\n",
        "## feminism texts\n",
        "wollstonecraft_vindication = get_guten('http://www.gutenberg.org/cache/epub/3420/pg3420.txt')\n",
        "beauvoir_second_sex = get_text(drive_path + '/phil_txts/beauvoir_second_sex.txt')\n",
        "davis_wrc = get_text(drive_path + '/phil_txts/davis_women_race_class.txt')\n"
      ],
      "execution_count": 4,
      "outputs": []
    },
    {
      "cell_type": "code",
      "metadata": {
        "id": "rtnCGgKbrwVa"
      },
      "source": [
        "# use this cell to bring in the new texts\n",
        "\n",
        "augustine_confessions = get_guten('http://www.gutenberg.org/cache/epub/3296/pg3296.txt')"
      ],
      "execution_count": null,
      "outputs": []
    },
    {
      "cell_type": "markdown",
      "metadata": {
        "id": "Gtbq1njQKsSn"
      },
      "source": [
        "With texts imported, we need to clip front and end matter."
      ]
    },
    {
      "cell_type": "code",
      "metadata": {
        "id": "8cvmG0rir1tU"
      },
      "source": [
        "plato_complete = plato_complete.split('find that an enticing')[1][388:].split('Demeter, whose cult at')[0]\n",
        "\n",
        "aristotle_vol_1 = aristotle_vol_1.split('1a20-1b9')[1].split('799a16')[0]\n",
        "aristotle_vol_2 = aristotle_vol_2.split('830a5-830b4')[1].split('1462a5-1462a13')[0]\n",
        "\n",
        "spinoza_ethics = spinoza_ethics.split('ranslated from the Latin by R.')[1][71:].split('End of the Ethics')[0]\n",
        "spinoza_improve_understanding = spinoza_improve_understanding.split('Farewell.*')[1][20:].split('End of ')[0]\n",
        "leibniz_theodicy = leibniz_theodicy.split('appeared in 1710 as the')[1][202:].split('SUMMARY OF THE CON')[0][:-140]\n",
        "descartes_discourse_method = descartes_discourse_method.split('PREFATORY NOTE')[1][18:].split('End of the Pr')[0]\n",
        "descartes_meditations = descartes_meditations.split('LETTER')[1][1:].split('AND REPLIES')[0]\n",
        "malebranche_search_truth = malebranche_search_truth.split(\"n's Mind and the Use H\")[1][64:].split('Beati qui')[0]\n",
        "\n",
        "locke_understanding_1 = locke_understanding_1.split('2 Dorset Court, 24th of May, 1689')[1][50:].split('End of the Pro')[0][:-30]\n",
        "locke_understanding_2 = locke_understanding_2.split('1. Man fitted to form articulated Sounds.')[1][4:].split('End of the Pro')[0][:-25]\n",
        "locke_treatise_gov = locke_treatise_gov.split('now lodged in Christ College, Cambridge.')[1][21:].split('FINIS.')[0]\n",
        "hume_treatise = hume_treatise.split('ADVERTISEMENT')[1][9:].split('End of Pro')[0][:-14]\n",
        "hume_natural_religion = hume_natural_religion.split('PAMPHILUS TO HERMIPPUS')[1][6:].split('End of the Pro')[0][:-22]\n",
        "berkeley_treatise = berkeley_treatise.split('are too apt to condemn an opinion before they rightly')[1][47:].split('End of the Pr')[0][:-22]\n",
        "berkeley_three_dialogues = berkeley_three_dialogues.split('THE FIRST DIALOGUE')[1][17:].split('End of the Pro')[0][:-22]\n",
        "\n",
        "kant_practical_reason = kant_practical_reason.split('erner Pluhar an')[1][329:].split('stone of the wi')[0][:-20]\n",
        "kant_judgement = kant_judgement.split('TO THE FIRST EDITION,* 1790')[1][1:].split('EXPLANATORY NOTES')[0][:-39]\n",
        "kant_pure_reason = kant_pure_reason.split('Bacon of Verulam')[1][33:].split('(Persius, Satires, iii, 78-9).')[0][:-1]\n",
        "fichte_ethics = fichte_ethics.split('(“Krause Nachschrift,” 1798/99)')[1][111:].split('Page 345')[0][:-2]\n",
        "hegel_logic = hegel_logic.split('complete transformati')[1][249:].split('It is a matter of speculation how Hegel would have rev')[0][:-80]\n",
        "hegel_phenomenology = hegel_phenomenology.split('PREFACE: ON SCIENTIFIC')[1][1:].split('1I Adaptation')[0][:-62]\n",
        "hegel_right = hegel_right.split('he immediate occasion f')[1][184:].split('I Hegel lectured on the topics in')[0][:-28]\n",
        "\n",
        "russell_problems_of_phil = russell_problems_of_phil.split('n the following pages')[1].split('BIBLIOGRAPHICAL NOTE')[0]\n",
        "russell_analylsis_of_mind = russell_analylsis_of_mind.split('H. D. Lewis')[2][21:].split('End of Pro')[0]\n",
        "moore_studies = moore_studies.split('Aristotelian Society,_ 1919-20.')[1][23:].split('E Wes')[0][:-10]\n",
        "wittgenstein_tractatus = wittgenstein_tractatus.split('TRACTATUS LOGICO-PHILOSOPHICUS')[1][70:].split('I NDEX')[0][:-8]\n",
        "wittgenstein_investigations = wittgenstein_investigations.split('catty')[1][787:].split(\"above', 351\")[0]\n",
        "lewis_papers1 = lewis_papers1.split('The fifteen papers')[1][61:].split('Acquai')[0][:-10]\n",
        "lewis_papers2 = lewis_papers2.split('Part Four Counterfactuals and Time')[1][17:].split('end p.342')[0]\n",
        "quine_quintessence = quine_quintessence.split('T R UT H B Y C O N V E N T I O N')[1].split('CREDITS')[0][:-7]\n",
        "popper_science = popper_science.split('F IRST E NGLISH E DITION, 1959')[1][2:].split('This is the end of the text of the original book.')[0]\n",
        "kripke_troubles = kripke_troubles.split('apters 2, 3, 7, 10, 11, and 13 are previously unpublish')[1][103:].split('ans, Gareth. 198')[0][:-25]\n",
        "kripke_naming = kripke_naming.split('xjvdsa')[1][10:].split('hese addenda represe')[0][:-35]\n",
        "\n",
        "ponty_perception = ponty_perception.split('P REFACE')[1].split('B IBLIOGRAPHY')[0][:-65]\n",
        "husserl_idea_of = husserl_idea_of.split('LECTUREl')[1][9:].split('Abstraction, ideating, 47, 50, 65')[0][:-10]\n",
        "husserl_crisis = husserl_crisis.split('§ 1.')[1].split('Appendix X:')[0]\n",
        "heidegger_being_time = heidegger_being_time.split(\"AUTHOR'S PREFACE TO THE\")[1][25:].split('Not \"the\" sole way.')[0][:-8]\n",
        "heidegger_track = heidegger_track.split('translated in several ')[1][15:].split('et-up [dar Gestellj as the uunost obli')[0][:-32]\n",
        "\n",
        "foucault_order = foucault_order.split('P REFACE')[1]\n",
        "foucault_madness = foucault_madness.split('ickering simulacra, an')[1][112:].split('Page 591')[0]\n",
        "foucault_clinic = foucault_clinic.split('iagnostic (Paris, 1962, p.')[1][15:].split('de Sade.')[0][:-33]\n",
        "derrida_writing = derrida_writing.split('(Flaubert, Preface d la d')[1][10:].split('Reb Derissa')[0]\n",
        "deleuze_oedipus = deleuze_oedipus.split('xjdsde')[1].split('jajielaks')[0]\n",
        "deleuze_difference = deleuze_difference.split('Introduction:')[1].split('Plateaus')[0][:-65]\n",
        "\n",
        "marx_kapital = ((marx_kapital.split('E MAGNITUDE OF VALUE)')[1].split('expropriation of the laborer.')[0])+'expropriation of the laborer.')\n",
        "marx_manifesto = marx_manifesto.split('page 29')[1].split('Mao')[0][:-15]\n",
        "lenin_essential = lenin_essential.split('We will now sum up the theoretical')[1].split('SUGGESTIONS FOR FURTHER READING')[0]\n",
        "\n",
        "smith_wealth = smith_wealth.split('INTRODUCTION AND PLAN OF THE WORK.')[2].split('End of the Project Gutenberg EBook of An Inquiry into the Nat')[0]\n",
        "ricardo_political_economy = ricardo_political_economy.split('ON VALUE.')[1].split('  FOOTNOTES:')[0]\n",
        "keynes_employment = keynes_employment.split('GENERAL INTRODUCTION')[1].split('PRINTING ERRORS IN THE FIRST EDITION CORRECTE')[0][:-145]\n",
        "\n",
        "epictetus_enchiridion = epictetus_enchiridion.split('New York, 1927.')[1][99:].split('Footnotes')[0][:-45]\n",
        "aurelius_meditations = aurelius_meditations.split('Book vi. Num. xlviii.')[1].split('APPENDIX')[0]\n",
        "\n",
        "wittgenstein_certainty = wittgenstein_certainty.split('advice about the translation of this work.')[1][3:]\n",
        "\n",
        "nietzsche_zarathustra = nietzsche_zarathustra.split('FIRST PART. ZA')[1].split('APPENDIX.')[0]\n",
        "nietzsche_beyond = nietzsche_beyond.split('PREFACE')[2].split('FROM THE HEIGHTS')[0]\n",
        "nietzsche_ecce = nietzsche_ecce.split('PREFACE')[2].split('EDITORIAL NOTE TO POETRY')[0]\n",
        "nietzsche_antichrist = nietzsche_antichrist.split('PREFACE')[2].split('THE END')[0]\n",
        "nietzsche_twilight = nietzsche_twilight.split('re than a merely intellectual movement.')[1].split('End of the Project Gutenberg EBook of The Twilight of the Idols')[0]\n",
        "\n",
        "wollstonecraft_vindication = wollstonecraft_vindication.split('LATE BISHOP OF AUTUN.')[1][13:][:-80]\n",
        "beauvoir_second_sex = beauvoir_second_sex.split('’s message of freedom and independence')[1][57:].split('* Bold Chronicl')[0]\n",
        "davis_wrc = davis_wrc.split('for a New Womanhood')[1][14:].split('CHAPTER 1')[0][:-25]\n",
        "\n"
      ],
      "execution_count": null,
      "outputs": []
    },
    {
      "cell_type": "code",
      "metadata": {
        "id": "1uDGcFA-r3w7"
      },
      "source": [
        "# use this cell to deal with the new text and experiment until we have a good result\n",
        "\n",
        "augustine_confessions = augustine_confessions.split('AD 401')[1][22:].split('GRATIAS TIBI DOMINE')[0]"
      ],
      "execution_count": null,
      "outputs": []
    },
    {
      "cell_type": "markdown",
      "metadata": {
        "id": "UtyqxKStKvsc"
      },
      "source": [
        "Now we aggregate them by school and create a dictionary of various aggregates for future use. "
      ]
    },
    {
      "cell_type": "code",
      "metadata": {
        "id": "kghr6yp0r6Lv"
      },
      "source": [
        "# a list of books for each school, then aggregated and entered into a dictionary\n",
        "\n",
        "## original texts\n",
        "plato_texts = [plato_complete]\n",
        "aristotle_texts = [aristotle_vol_1, aristotle_vol_2]\n",
        "rationalist_texts = [spinoza_ethics, spinoza_improve_understanding, \n",
        "                    leibniz_theodicy, descartes_discourse_method, \n",
        "                     descartes_meditations, malebranche_search_truth]\n",
        "empiricist_texts = [locke_treatise_gov, locke_understanding_1, locke_understanding_2, \n",
        "                    hume_treatise, hume_natural_religion, berkeley_three_dialogues, \n",
        "                    berkeley_treatise]\n",
        "german_idealist_texts = [kant_practical_reason, kant_judgement, kant_pure_reason, \n",
        "                         fichte_ethics, hegel_logic, hegel_phenomenology, hegel_right]\n",
        "analytic_texts = [russell_analylsis_of_mind, russell_problems_of_phil, \n",
        "                  moore_studies, wittgenstein_investigations, wittgenstein_tractatus, \n",
        "                  lewis_papers1, lewis_papers2, quine_quintessence, popper_science, \n",
        "                  kripke_naming, kripke_troubles, wittgenstein_certainty]\n",
        "phenomenology_texts = [ponty_perception, husserl_crisis, \n",
        "                       husserl_idea_of, heidegger_being_time, heidegger_track]\n",
        "continental_texts = [foucault_clinic, foucault_madness, foucault_order, \n",
        "                     derrida_writing, deleuze_difference, deleuze_oedipus]\n",
        "marxist_texts = [marx_kapital, marx_manifesto, lenin_essential]\n",
        "capitalist_texts = [smith_wealth, ricardo_political_economy, keynes_employment]\n",
        "\n",
        "# new texts\n",
        "stoicism_texts = [epictetus_enchiridion, aurelius_meditations]\n",
        "nietzsche_texts = [nietzsche_antichrist, nietzsche_beyond, nietzsche_ecce,\n",
        "                  nietzsche_twilight, nietzsche_zarathustra]\n",
        "feminism_texts = [wollstonecraft_vindication, beauvoir_second_sex, davis_wrc]\n",
        "scholastic_text = [augustine_confessions]\n",
        "\n",
        "\n",
        "all_texts = plato_texts + aristotle_texts + empiricist_texts + rationalist_texts + analytic_texts + continental_texts + phenomenology_texts + german_idealist_texts + marxist_texts + capitalist_texts + stoicism_texts + nietzsche_texts + feminism_texts + scholastic_texts\n",
        "all_texts_string = ' . '.join(all_texts)\n",
        "\n",
        "text_dict_list = {'plato': plato_texts, 'aristotle': aristotle_texts, \n",
        "             'empiricism': empiricist_texts, 'rationalism': rationalist_texts, \n",
        "            'german_idealism': german_idealist_texts, \n",
        "             'phenomenology': phenomenology_texts, 'analytic': analytic_texts, \n",
        "            'continental': continental_texts, 'marxism': marxist_texts,\n",
        "             'capitalism': capitalist_texts, 'stoicism': stoicism_texts,\n",
        "             'nietzsche': nietzsche_texts, 'feminsim': feminism_texts,\n",
        "             'scholasticism': scholastic_texts}\n",
        "\n",
        "text_dict = {}\n",
        "for school in text_dict_list.keys():\n",
        "    text_dict[school] = ' . '.join(text_dict_list[school])"
      ],
      "execution_count": null,
      "outputs": []
    },
    {
      "cell_type": "code",
      "metadata": {
        "colab": {
          "base_uri": "https://localhost:8080/"
        },
        "id": "j7HOb7f_LUoe",
        "outputId": "126c466f-6acb-4a47-ad84-5481e3e0cabe"
      },
      "source": [
        "len(all_texts)"
      ],
      "execution_count": null,
      "outputs": [
        {
          "output_type": "execute_result",
          "data": {
            "text/plain": [
              "62"
            ]
          },
          "metadata": {
            "tags": []
          },
          "execution_count": 45
        }
      ]
    },
    {
      "cell_type": "markdown",
      "metadata": {
        "id": "lfajGZ7bK5Zg"
      },
      "source": [
        "### More In-Depth Cleaning\n",
        "\n",
        "The text here is often quite messy. We need to do some significant work to clean it up. This means dealing with things like:\n",
        "- headers of pages occurring repeatedly in the text\n",
        "- page numbers and citation numbers\n",
        "- footnotes, roman numerals, titles of chapters\n",
        "\n",
        "The process of dealing with these and getting the data ready for our models has a few steps:\n",
        "1. develop a general cleaning function that can work for every text (removing roman numerals, for example)\n",
        "2. examine each text itself and remove the specific headers that are relevant to it\n",
        "  - look for features that could capture all the footnotes here as well\n",
        "3. tokenize the text using spacy\n",
        "4. examine the tokens for unusual patterns \n",
        "  - there should be virtually no duplicate sentences\n",
        "  - we can remove sentences that are too short to mean anything\n",
        "  - remove sentences that contain terms that must be from footnotes (the author's name should be very rare in the actual text, for example)\n",
        "\n",
        "Unfortunately many of these steps can only be done ad hoc; there is no real way to know whether and what headers are in a text without examining the files individually. So the process is a bit tedious and time-consuming. Still, when we finish we will have data that is much cleaner and more useful for modeling. \n"
      ]
    },
    {
      "cell_type": "markdown",
      "metadata": {
        "id": "AcoDD6vbLpu9"
      },
      "source": [
        "#### 1. Baseline Cleaning"
      ]
    },
    {
      "cell_type": "markdown",
      "metadata": {
        "id": "8JLtqH5SLInh"
      },
      "source": [
        "Our first step is to develop a baseline cleaning function that can be applied to every text."
      ]
    },
    {
      "cell_type": "code",
      "metadata": {
        "id": "MkT0egnbr89k"
      },
      "source": [
        "def baseline_clean(to_correct, capitals=True, bracketed_fn=False, odd_words_dict={}):\n",
        "  # remove utf8 encoding characters and some punctuations\n",
        "  result = re.sub(r'[\\x00-\\x08\\x0b\\x0c\\x0e-\\x1f\\x7f-\\xff\\xad\\x0c6§\\\\\\£\\Â*_<>\"\"⎫•{}Γ~]', ' ', to_correct)\n",
        "  result = re.sub(r'[\\u2014\\u2013\\u2012-]', ' ', result)\n",
        "\n",
        "  # replace whitespace characters with actual whitespace\n",
        "  result = re.sub(r'\\s', ' ', result)\n",
        "\n",
        "  # replace odd quotation marks with a standard\n",
        "  result = re.sub(r'[‘’“”]', \"'\", result)\n",
        "\n",
        "  # replace the ﬀ, ﬃ and ﬁ with the appropriate counterparts\n",
        "  result = re.sub(r'ﬀ', 'ff', result)\n",
        "  result = re.sub(r'ﬁ', 'fi', result)\n",
        "  result = re.sub(r'ﬃ', 'ffi', result)\n",
        "\n",
        "  # replace some accented characters for ease of searching\n",
        "  result = re.sub(r'é', 'e', result)\n",
        "\n",
        "  # remove or standardize some recurring common and meaninless words/phrases\n",
        "  result = re.sub(r'\\s*This\\s*page\\s*intentionally\\s*left\\s*blank\\s*', ' ', result)\n",
        "  result = re.sub(r'(?i)Aufgabe\\s+', ' ', result)\n",
        "  result = re.sub(r',*\\s+cf\\.', ' ', result)\n",
        "\n",
        "  # some texts have footnotes conveniently in brackets - this removes them all, \n",
        "  # with a safety measure for unpaired brackets, and deletes all brackets afterwards\n",
        "  if bracketed_fn:\n",
        "    result = re.sub(r'\\[.{0,300}\\]|{.{0,300}}|{.{0,300}\\]|\\[.{0,300}}', ' ', result)\n",
        "  result = re.sub(r'[\\[\\]{}]', ' ', result)\n",
        "\n",
        "  # unify some abbreviations\n",
        "  result = re.sub(r'&', 'and', result)\n",
        "  result = re.sub(r'\\se\\.g\\.\\s', ' eg ', result)\n",
        "  result = re.sub(r'\\si\\.e\\.\\s', ' ie ', result)\n",
        "  result = re.sub('coroll\\.', 'coroll', result)\n",
        "  result = re.sub('pt\\.', 'pt', result)\n",
        "\n",
        "  # remove roman numerals, first capitalized ones\n",
        "  result = re.sub(r'\\s((I{2,}V*X*\\.*)|(IV\\.*)|(IX\\.*)|(V\\.*)|(V+I*\\.*)|(X+L*V*I*]\\.*))\\s', ' ', result)\n",
        "  # then lowercase\n",
        "  result = re.sub(r'\\s((i{2,}v*x*\\.*)|(iv\\.*)|(ix\\.*)|(v\\.*)|(v+i*\\.*)|(x+l*v*i*\\.*))\\s', ' ', result)\n",
        "\n",
        "  # remove periods and commas flanked by numbers\n",
        "  result = re.sub(r'\\d\\.\\d', ' ', result)\n",
        "  result = re.sub(r'\\d,\\d', ' ', result)\n",
        "\n",
        "  # remove the number-letter-number pattern used for many citations\n",
        "  result = re.sub(r'\\d*\\w{,2}\\d', ' ', result)\n",
        "\n",
        "  # remove numerical characters\n",
        "  result = re.sub(r'\\d+', ' ', result)\n",
        "\n",
        "  # remove words of 2+ characters that are entirely capitalized \n",
        "  # (these are almost always titles, headings, or speakers in a dialogue)\n",
        "  # remove capital I's that follow capital words - these almost always roman numerals\n",
        "  # some texts do use these capitalizations meaningfully, so we make this optional\n",
        "  if capitals:\n",
        "    result = re.sub(r'[A-Z]{2,}\\s+I', ' ', result)\n",
        "    result = re.sub(r'[A-Z]{2,}', ' ', result)\n",
        "\n",
        "  # remove isolated colons and semicolons that result from removal of titles\n",
        "  result = re.sub(r'\\s+:\\s*', ' ', result)\n",
        "  result = re.sub(r'\\s+;\\s*', ' ', result)\n",
        "\n",
        "  # remove isolated letters (do it several times because strings of isolated letters do not get captured properly)\n",
        "  result = re.sub(r'\\s[^aAI\\.]\\s', ' ', result)\n",
        "  result = re.sub(r'\\s[^aAI\\.]\\s', ' ', result)\n",
        "  result = re.sub(r'\\s[^aAI\\.]\\s', ' ', result)\n",
        "  result = re.sub(r'\\s[^aAI\\.]\\s', ' ', result)\n",
        "  result = re.sub(r'\\s[^aAI\\.]\\s', ' ', result)\n",
        "  result = re.sub(r'\\s[^aAI\\.]\\s', ' ', result)\n",
        "\n",
        "  # remove isolated letters at the end of sentences or before commas\n",
        "  result = re.sub(r'\\s[^aI]\\.', '.', result)\n",
        "  result = re.sub(r'\\s[^aI],', ',', result)\n",
        "\n",
        "  # deal with spaces around periods and commas\n",
        "  result = re.sub(r'\\s+,\\s+', ', ', result)\n",
        "  result = re.sub(r'\\s+\\.\\s+', '. ', result)\n",
        "\n",
        "  # remove empty parantheses\n",
        "  result = re.sub(r'(\\(\\s*\\.*\\s*\\))|(\\(\\s*,*\\s*)\\)', ' ', result)\n",
        "  result = re.sub(r'\\.\\)\\.', '.', result)\n",
        "  result = re.sub(r'\\.\\(\\.', '.', result)\n",
        "\n",
        "  # reduce multiple periods, commas, or whitespaces into a single one\n",
        "  result = re.sub(r'\\.+', '.', result)\n",
        "  result = re.sub(r',+', ',', result)\n",
        "  result = re.sub(r'\\s+', ' ', result)\n",
        "\n",
        "  # deal with isolated problem cases discovered in the data:\n",
        "  for key in odd_words_dict.keys():\n",
        "    result = re.sub(r''+key+'', odd_words_dict[key], result)\n",
        "\n",
        "  return result"
      ],
      "execution_count": null,
      "outputs": []
    },
    {
      "cell_type": "code",
      "metadata": {
        "colab": {
          "base_uri": "https://localhost:8080/",
          "height": 137
        },
        "id": "bOIF01WGsDzv",
        "outputId": "134e4226-4d19-489d-8a5b-b5e0b61bfd49"
      },
      "source": [
        "# use this cell to run the function on the new text and see if anything looks odd\n",
        "baseline_clean(davis_wrc)[10000:30000]"
      ],
      "execution_count": null,
      "outputs": [
        {
          "output_type": "execute_result",
          "data": {
            "application/vnd.google.colaboratory.intrinsic+json": {
              "type": "string"
            },
            "text/plain": [
              "\"en and women start together, and the women must work as steadily as the men and perform the same tasks as the men. Most slaveowners established systems of calculating their slaves' yield in terms of the average rates of productivity they demanded. Children, thus, were frequently rated as quarter hands. Women, it was generally assumed, were full hands unless they had been expressly assigned to be 'breeders' or 'sucklers,' in which case they sometimes ranked as less than full hands. Slaveowners naturally sought to ensure that their 'breeders' would bear children as often as biologically possible. But they never went so far as to exempt pregnant women and mothers with infant children from work in the fields. While many mothers were forced to leave their infants lying on the ground near the area where they worked, some refused to leave them unattended and tried to work at the normal pace with their babies on their backs. An ex slave described such a case on the plantation where he lived: One young woman did not, like the others, leave her child at the end of the row, but had contrived a sort of rude knapsack, made of a piece of coarse linen cloth, in which she fastened her child, which was very young, upon her back; and in this way carried it all day, and performed her task at the hoe with the other people. On other plantations, the women left their infants in the care of small children or older slaves who were not able to perform hard labor in the fields. Unable to nurse their infants regularly, they endured the pain caused by their swollen breasts. In one of the most popular slave narratives of the period, Moses Grandy related the miserable predicament of slave mothers: On the estate I am speaking of, those women who had sucking children suffered much from their breasts becoming full of milk, the infants being left at home. They therefore could not keep up with the other hands: I have seen the overseer beat them with raw hide, so that the blood and milk flew mingled from their breasts. Pregnant women were not only compelled to do the normal agricultural work, they could also expect the floggings workers normally received if they failed to fulfill their day's quota or if they 'impudently' protested their treatment. A woman who gives offense in the field, and is large in a family way, is compelled to lie down over a hole made to receive her corpulency, and is flogged with the whip or beat with a paddle, which has holes in it; at every stroke comes a blister. One of my sisters was so severely punished in this way, that labor was brought on, and the child was born in the field. This very overseer, Mr. Brooks, killed in this manner a girl named Mary. Her father and mother were in the field at that time. On those plantations and farms where pregnant women were dealt with more leniently, it was seldom on humanitarian grounds. It was simply that slaveholders appreciated the value of a slave child born alive in the same way that they appreciated the value of a newborn calf or colt. When timid attempts at industrialization were made in the pre Civil War South, slave labor complemented and frequently competed with free labor. Slaveowning industrialists used men, women and children alike, and when planters and farmers hired out their slaves, they found women and children in as great demand as men. Slave women and children comprised large proportions of the work forces in most slave employing textile, hemp and tobacco factories.… Slave women and children sometimes worked at 'heavy' industries such as sugar refining and rice milling.… Other heavy industries such as transportation and lumbering used slave women and children to a considerable extent. Women were not too 'feminine' to work in coal mines, in iron foundries or to be lumberjacks and ditchdiggers. When the Santee Canal was constructed in North Carolina, slave women were a full fifty percent of the labor force. Women also worked on the Louisiana levees, and many of the Southern railroads still in use today were constructed, in part, by female slave labor. The use of slave women as substitutes for beasts of burden to pull trams in the Southern min is reminiscent of the horrendous utilization of white female labor in England, as described in Karl Marx's Capital: In England women are still occasionally used instead of horses for hauling canal boats, because the labor required to produce horses and machines is an accurately known quantity, while that required to maintain the women of the surplus population is below all calculation. Like their British counterparts, the Southern industrialists made no secret of the reasons motivating them to employ women in their enterprises. Female slaves were a great deal more profitable than either free workers or male slaves. They 'cost less to capitalize and to maintain than prime males.' Required by the masters' demands to be as 'masculine' in the performance of their work as their men, Black women must have been profoundly affected by their experiences during slavery. Some, no doubt, were broken and destroyed, yet the majority survived and, in the process, acquired qualities considered taboo by the nineteenth century ideology of womanhood. A traveler during that period observed a slave crew in Mississippi returning home from the fields and described the group as including forty of the largest and strongest women I ever saw together; they were all in a simple uniform dress of a bluish check stuff; their legs and feet were bare; they carried themselves loftily, each having a hoe over the shoulder, and walking with a free, powerful swing like chasseurs on the march. While it is hardly likely that these women were expressing pride in the work they performed under the ever present threat of the whip, they must have been aware nonetheless of their enormous power their ability to produce and create. For, as Marx put it, 'labor is the living, shaping fire; it represents the impermanence of things, their temporality.' It is possible, of course, that this traveler's observations were tainted by racism of the paternalistic variety, but if not, then perhaps these women had learned to extract from the oppressive circumstances of their lives the strength they needed to resist the daily dehumanization of slavery. Their awareness of their endless capacity for hard work may have imparted to them a confidence in their ability to struggle for themselves, their families and their people. When the tentative pre Civil War forays into factory work gave way to an aggressive embrace of industrialization in the United States, it robbed many white women of the experience of performing productive labor. Their spinning wheels were rendered obsolete by the textile factories. Their candlemaking paraphernalia became museum pieces, like so many of the other tools which had previously assisted them to produce the articles required by their families for survival. As the ideology of femininity a by product of industrialization was popularized and disseminated through the new ladies' magazines and romantic novels, white women came to be seen as inhabitants of a sphere totally severed from the realm of productive work. The cleavage between the home and the public economy, brought on by industrial capitalism, established female inferiority more firmly than ever before. 'Woman' became synonymous in the prevailing propaganda with 'mother' and 'housewife,' and both 'mother' and 'housewife' bore the fatal mark of inferiority. But among Black female slaves, this vocabulary was nowhere to be found. The economic arrangements of slavery contradicted the hierarchical sexual roles incorporated in the new ideology. Male female relations within the slave community could not, therefore, conform to the dominant ideological pattern. Much has been made of the slaveholders' definition of the Black family as a matrilocal biological structure. Birth records on many plantations omitted the names of the fathers, listing only the children's mothers. And throughout the South, state legislatures adopted the principle of partus sequitur ventrem the child follows the condition of the mother. These were the dictates of the slaveowners, who fathered not a few slave children themselves. But were they also the norms according to which the slaves ordered their domestic relationships among themselves? Most historical and sociological examinations of the Black family during slavery have simply assumed that the masters' refusal to acknowledge fatherhood among their slaves was directly translated into a matriarchal family arrangement of the slaves' own making. The notorious government study on the 'Negro Family' popularly known as the 'Moynihan Report' directly linked the contemporary social and economic problems of the Black community to a putatively matriarchal family structure. 'In essence,' wrote Daniel Moynihan, the Negro community has been forced into a matriarchal structure which, because it is out of line with the rest of the American society, seriously retards the progress of the group as a whole and imposes a crushing burden on the Negro male and, in consequence, on a great many Negro women as well. According to the report's thesis, the source of oppression was deeper than the racial discrimination that produced unemployment, shoddy housing, inadequate education and substandard medical care. The root of oppression was described as a 'tangle of pathology' created by the absence of male authority among Black people! The controversial finale of the Moynihan Report was a call to introduce male authority (meaning male supremacy of course!) into the Black family and the community at large. One of Moynihan's 'liberal' supporters, the sociologist Lee Rainwater, took exception to the solutions recommended by the report. Rainwater proposed instead jobs, higher wages and other economic reforms. He even went so far as to encourage continued civil rights protests and demonstrations. But, like most white sociologists and some Black ones as well he reiterated the thesis that slavery had effectively destroyed the Black family. As a result, Black people were allegedly left with 'the mother centered family with its emphasis on the primacy of the mother child relation and only tenuous ties to a man.' Today, he said, Men often do not have real homes; they move about from one household where they have kinship or sexual ties to another. They live in flop houses and rooming houses; they spend their time in institutions. They are not household members in the only 'homes' they have the homes of their mothers and of their girlfriends. Neither Moynihan nor Rainwater had invented the theory of the Black family's internal deterioration under slavery. The pioneering work to support this thesis was done in the by the renowned Black sociologist. Franklin Frazier. In his book The Negro Family, published in Frazier dramatically described the horrendous impact of slavery on Black people, but he underestimated their ability to resist its insinuations into the social life they forged for themselves. He also misinterpreted the spirit of independence and self reliance Black women necessarily developed, and thus deplored the fact that 'neither economic necessity nor tradition had instilled (in the Black woman) the spirit of subordination to masculine authority.' Motivated by the controversy unleashed by the appearance of the Moynihan Report, as well as by his doubts concerning the validity of Frazier's theory, Herbert Gutman initiated his research on the slave family. About ten years later in he published his remarkable work The Black Family in Slavery and Freedom. Gutman's investigations uncovered fascinating evidence of a thriving and developing family during slavery. It was not the infamous matriarchal family he discovered, but rather one involving wife, husband, children and frequently other relatives, as well as adoptive kin. Dissociating himself from the questionable econometric conclusions reached by Fogel and Engerman, who claim that slavery left most families intact, Gutman confirms that countless slave families were forcibly disrupted. The separation, through indiscriminate sales of husbands, wives and children, was a terrifying hallmark of the North American variety of slavery. But, as he points out, the bonds of love and affection, the cultural norms governing family relations, and the overpowering desire to remain together survived the devastating onslaught of slavery. On the basis of letters and documents, such as birth records retrieved from plantations listing fathers as well as mothers, Gutman demonstrates not only that slaves adhered to strict norms regulating their familial arrangements, but that these norms differed from those governing the white family life around them. Marriage taboos, naming practices and sexual mores which, incidentally, sanctioned premarital intercourse set slaves apart from their masters. As they tried desperately and daily to maintain their family lives, enjoying as much autonomy as they could seize, slave men and women manifested irrepressible talent in humanizing an environment designed to convert them into a herd of subhuman labor units. Everyday choices made by slave men and women such as remaining with the same spouse for many years, naming or not naming the father of a child, taking as a wife a woman who had children by unnamed fathers, giving a newborn child the name of a father, an aunt or an uncle, or a grandparent, and dissolving an incompatible marriage contradicted in behavior, not in rhetoric, the powerful ideology that viewed the slave as a perpetual 'child' or a repressed 'savage.' Their domestic arrangements and kin networks together with the enlarged communities that flowed from these primordial ties made it clear to their children that the slaves were not 'non men' and 'non women.' It is unfortunate that Gutman did not attempt to determine the actual position of women within the slave family. In demonstrating the existence of a complex family life encompassing husbands and wives alike, Gutman eliminated one of the main pillars on which the matriarchy argument has stood. However, he did not substantially challenge the complementary claim that where there were two parent families, the woman dominated the man. Moreover, as Gutman's own research confirms, social life in the slave quarters was largely an extension of family life. Thus, women's role within the family must have defined, to a great extent, their social status within the slave community as a whole. Most scholarly studies have interpreted slave family life as elevating the women and debasing the men, even when both mother and father were present. According to Stanley Elkins, for example, the mother's role loomed far larger for the slave child than did that of the father. She controlled those few activities household care, preparation of food and rearing of children that were left to the slave family. The systematic designation of slave men as 'boys' by the master was a reflection, according to Elkins, of their inability to execute their fatherly responsibilities. Kenneth Stampp pursues this line of reasoning even further than Elkins: the typical slave family was matriarchal in form, for the mother's role was far more important than the father's. In so far as the family did have significance, it involved responsibilities which traditionally belonged to women, such as cleaning house, preparing food, making clothes, and raising children. The husband was at most his wife's assistant, her companion and her sex partner. He was often thought of as her possession (Mary's Tom), as was the cabin in which they lived. It is true that domestic life took on an exaggerated importance in the social lives of slaves, for it did indeed provide them with the only space where they could truly experience themselves as human beings. Black women, for this reason and also because they were workers just like their men were not debased by their domestic functions in the way that white women came to be. Unlike their white counterparts, they could never be treated as mere 'housewives.' But to go further and maintain that they consequently dominated their men is to fundamentally distort the reality of slave life. In an essay I wrote in using the few resources allowed me in my jail cell I characterized the significance of the slave woman's domestic functions in the following way: 'In the infinite anguish of ministering to the needs of the men and children around her, she was performing the only labor of the slave community which could not be directly and immediately claimed by the oppressor. There was no compensation for work in the fields; it served no useful purpose for the slaves. Domestic labor was the only meaningful labor for the slave community as a whole.… 'Precisely through performing the drudgery which has long been a central expression of the socially conditioned inferiority of women, the Black woman in chains could help to lay the foundation for some degree of autonomy, both for herself and her men. Even as she was suffering under her unique oppression as female, she was thrust into the center of the slave community. She was, therefore, essential to the survival of the community.' I have since realized that the special character of domestic labor during slavery, its centrality to men and women in bondage, involved work that was not exclusively female. Slave men executed important domestic responsibilities and were not, therefore as Kenneth Stampp would have it the mere helpmates of their women. For while women cooked and sewed, for example, men did the gardening and hunting. (Yams, corn and other vegetables, as well as wild animals such as rabbits and opossums, were always a delicious addition to the monotonous daily rations.) This sexual division of domestic labor does not appear to have been hierarchical: men's tasks were certainly not superior to and were hardly inferior to the work performed by women. They were both equally necessary. Moreover, from all indications, the division of labor between the sexes was not always so rigorous, for men would sometimes work in the cabin and women might tend the garden and perhaps even join the hunt. The salient theme emerging from domestic life in the slave quarters is one of sexual equality. The labor that slaves performed for their own sake and not for the aggrandizement of their masters was carried out on terms of equality. Within the confines of their family and community life, therefore, Black people managed to accomplish a magnificent feat. They transformed that negative equality which emanated from the equal oppression they suffered as slaves into a positive quality: the egalitarianism characterizing their social relations. Although Eugene Genovese's major argument in Roll, Jordan, Roll is, at best, problematic (i.e., that Black people accepted the paternalism associated with slavery), he does present an insightful, though abbreviated, picture of the slaves' home life. The story of the slave women as wives requires indirect examination. To deduce it from an assumption that the man was a guest in the house will not do. A review of the actual position of the men as husbands and fathers suggests that the position of the women was much more complex than usually credited. The women's attitude toward housework, especially cooking, and toward their own femininity by itself belies the conventional wisdom according to which the women unwittingly helped ruin their men by asserting themselves in the home, protecting their children, and assuming other normally masculine responsibilities. While there is a touch of male supremacy in his analysis, implying, as he does, that masculinity and femininity are immutable concepts, he clearly recognizes that What has usually been viewed as a debilitating female supremacy was in fact a closer approximation to a healthy sexual equality than was possible for whites a\""
            ]
          },
          "metadata": {
            "tags": []
          },
          "execution_count": 47
        }
      ]
    },
    {
      "cell_type": "markdown",
      "metadata": {
        "id": "6e3D7iGALiMC"
      },
      "source": [
        "#### 2. Text-by-Text Cleaning"
      ]
    },
    {
      "cell_type": "markdown",
      "metadata": {
        "id": "i_T4TRdEL2aM"
      },
      "source": [
        "In this step we will remove headers and other offensive features of specific texts. \n",
        "\n",
        "The most common problem is the presence of headings that appear at the top of each page in the original book. When converted to a string, these then get interpolated into the text, interrupting the normal flow of sentences (this happens for page numbers and citations as well, but those cases are much easier to deal with). \n",
        "\n",
        "To deal with this, we build a list of the headers for each book and then delete them from the string that represents the book. In the process, we may create some issues if the header is common, so we are careful to only delete when the loss is worth it.\n",
        "\n",
        "In some cases, of course, the texts are already clean and no extra steps are required."
      ]
    },
    {
      "cell_type": "code",
      "metadata": {
        "id": "JxmXkIWbsJVs"
      },
      "source": [
        "plato_to_rm = ['Apology', 'Sophist', 'Statesman', 'Symposium', \n",
        "                 'Second Alcibiades', 'Rival Lovers', 'Greater Hippias', \n",
        "                 'Lesser Hippias', 'Republic', 'Laws', 'Letters', 'Definitions',\n",
        "                 'On Virtue', 'On Justice', 'Epigrams', 'Translated b.+\\.']\n",
        "\n",
        "aristotle_to_rm = ['Aristotle', 'Book']\n",
        "\n",
        "descartes_meditations_to_rm = ['Letter of Dedication', 'Preface to the Reader', \n",
        "                               'Synopsis', 'First Meditation', 'Second Meditation', \n",
        "                               'Third Meditation', 'Fourth Meditation', 'Fifth Meditation', \n",
        "                               'Sixth Meditation']\n",
        "\n",
        "malebranche_search_to_rm = ['Nicolas Malebranche', 'Truth', 'Nicolas',]\n",
        "\n",
        "locke_gov_to_rm = ['Sect.']\n",
        "\n",
        "berkeley_dialogues_to_rm = ['PHIL.', 'PHILONOUS.', 'HYL.', 'HYLAS.']\n",
        "\n",
        "kant_judgement_to_rm = ['Introduction', 'Preface to the First Edition', \n",
        "                        'Critique of Aesthetic Judgement', 'Critique of Teleological Judgement',\n",
        "                        'Analytic of the Beautiful', 'Analytic of the Sublime',\n",
        "                        'Anaytic of Teleological Judgement', 'Dialectic of Aeshetic Judgement',\n",
        "                        'Critique of Teleological Judgement', 'Dialectic of Teleological Judgement',\n",
        "                        'Theory of the Method of Teleological Judgement',\n",
        "                        '‘First Introduction’ to the Critique of Judgement']\n",
        "\n",
        "kant_pure_reason_to_rm = ['Introduction', '\\s+Section\\s.+', '\\sDoctrine\\s*of\\s*Elements\\.\\s*.+',\n",
        "                          '\\sDoctrine\\s*of\\s*Method\\.\\s*.+']                        \n",
        "\n",
        "\n",
        "fichte_ethics_to_rm = ['Page']\n",
        "\n",
        "hegel_SoL_to_rm = ['Georg Wilhelm Friedrich Hegel', 'The Science of Logic']\n",
        "\n",
        "hegel_right_to_rm = ['Preface', 'Philosophy of Right', 'Philosophy ofRight', \n",
        "                     'Philosophy ojRight', 'Philosophy oj Right', \n",
        "                     'Introduction', 'Abstract Right', 'Ethical Life', 'Ethical Lift',\n",
        "                     'Morality']\n",
        "\n",
        "wittgenstein_tract_to_rm = ['tractatus logico-philosophicus']\n",
        "\n",
        "lewis_papers_1_to_rm = ['Introduction', 'Ontology', 'Holes', 'Anselm and Actuality', \n",
        "                        'Counterpart Theory and Quantified Modal Logic', \n",
        "                        'Counterparts of Persons and Their Bodies', 'Survival and Identity',\n",
        "                        'How to Define Theoretical Terms', 'Philosophy of Mind', \n",
        "                        'An Argument for the Identity Theory', 'Radical Interpretation',\n",
        "                        'Mad Pain and Partian Pain', 'Attitudes De Dicto and De Se',\n",
        "                        'Philosophy of Language', 'Languages and Language',\n",
        "                        'General Semantics', 'Scorekeeping in a Language Game',\n",
        "                        'Tensions', 'Truth in Fiction', 'This page intentionally left blank']\n",
        "\n",
        "lewis_papers_2_to_rm = ['end\\sp\\.']\n",
        "\n",
        "quine_quintessence_to_rm = ['(?i)\\s+Truth\\s+by\\s+Convention\\s+', '(?i)\\s+Two\\s+Dogams\\s+of\\s+Empiricism',\n",
        "                            '(?i)\\s+Two\\s+in\\s+Retrospect\\s+', '(?i)\\s+Carnap\\s+and\\s+Logical\\s+Truth',\n",
        "                            '(?i)\\s+Speaking\\s+of\\s+Objects\\s+', '(?i)\\s+Reference\\s+',\n",
        "                            '(?i)\\s+Translation\\s+and\\s+Meaning', '(?i)\\s+Progress\\s+on\\s+Two\\s+Fronts\\s+',\n",
        "                            '(?i)\\s+On\\s+What\\s+There\\s+is\\s+', '(?i)\\s+the\\s+scope\\s+and\\s+language\\s+of\\s+science\\s+',\n",
        "                            '(?i)\\s+on\\s+simple\\s+theories\\s+of\\s+a\\s+complex\\s+world\\s+',\n",
        "                            '(?i)\\s+ontic\\s+decision\\s+', '(?i)\\s+things\\s+and\\s+their\\s+place\\s+in\\s+theories\\s+',\n",
        "                            \"(?i)\\s+on\\s+Carnap\\s*'s\\s+views\\s+on\\s+ontology\\s+\",\n",
        "                            '(?i)\\s+empistemology\\s+naturalized\\s+', \n",
        "                            \"(?i)\\s+naturalism\\s;\\s+or,\\s+living\\s+within\\s+one\\s*'s\\s+means\\s+\",\n",
        "                            '(?i)\\s+the\\s+nature\\s+of\\s+natural\\s+knowledge\\s+',\n",
        "                            '(?i)\\s+five\\s+milestones\\s+of\\s+empiricism\\s+',\n",
        "                            '(?i)\\s+on\\s+mental\\s+entities\\s+', '(?i)\\s+mind\\s+and\\s+verbal\\s+dispositions\\s+',\n",
        "                            '(?i)\\s+confessions\\s+of\\s+a\\s+confirmed\\s+extensionalist\\s+',\n",
        "                            '(?i)\\s+quantifiers\\s+and\\s+propositional\\s+attitudes\\s+',\n",
        "                            '(?i)\\s+intensions\\s+revisited\\s+', '(?i)\\s+reference\\s+and\\s+modality\\s+',\n",
        "                            '(?i)\\s+three\\s+grades\\s+of\\s+modal\\s+involvement\\s+']\n",
        "\n",
        "popper_science_to_rm = ['the logic of science', 'a survey of some fundamental problems',\n",
        "                        'preface', 'on the problem of a theory of scientific method',\n",
        "                        'some structural components of a theory of experience',\n",
        "                        'degrees of testability', 'some observations on quantum theory',\n",
        "                        'corroboration, or how a theory stands up to tests']\n",
        "\n",
        "kripke_troubles_to_rm = ['Identity and Necessity', 'On Two Paradoxes of Knowledge',\n",
        "                          'Vacuous Names and Fictional Entities', 'Outline of a Theory of Truth',\n",
        "                          \"Speaker's Reference and Semantic Reference\",\n",
        "                          'A Puzzle about Belief', 'Nozick on Knowledge', \n",
        "                          \"Russell's Notion of Scope\", \"Frege's Theory of Sense and Reference\",\n",
        "                          'The First Person', 'Unrestricted Exportation and Some Morals for the Philosophy',\n",
        "                          'Presupposition and Anaphora', 'A Puzzle about Time and Thought']\n",
        "\n",
        "ponty_perception_to_rm = ['phenomenology of perception', 'preface',\n",
        "                          \"the 'sensation' as a unit of experience\", \n",
        "                          \"'association' and the 'projection of memories'\",\n",
        "                          \"'attention' and 'judgement'\", 'the phenomenal field', \n",
        "                          'experience and objective thought', 'the body as object and mechanistic psychology',\n",
        "                          'the experience of the body and classical psychology',\n",
        "                          \"the spatiality of one’s own body and motility\",\n",
        "                          \"the synthesis of one's own body\", 'the body in its sexual being',\n",
        "                          'the body as expression, and speech',\n",
        "                          'theory of the body is already a theory of perception',\n",
        "                          'sense experience', 'the thing and the natural world',\n",
        "                          'other selves and the human world']\n",
        "\n",
        "husserl_crisis_to_rm = ['Part\\s+', 'Idealization and the Science of Reality', \n",
        "                        'Denial of Scientific Philosophy', 'The Origin of Geometry',\n",
        "                        'Natural Science and Humanistic Science',\n",
        "                        'The Vienna Lecture']\n",
        "\n",
        "heidegger_b_and_t_to_rm = ['\\s+Being\\s*and\\s*Time\\s+', 'Int.', 'I.m', 'I.n']                                                  \n",
        "\n",
        "foucault_order_to_rm = ['the order of things', 'the prose of the world', '\\s+classifying\\s+',\n",
        "                        'exchanging', 'the limits of representation',\n",
        "                        'labour, life, language', 'man and his doubles']\n",
        "\n",
        "foucault_madness_to_rm = ['\\s+Page\\s']\n",
        "\n",
        "foucault_clinic_to_rm = ['\\(\\(.+\\)\\)']\n",
        "\n",
        "deleuze_difference_to_rm = ['Difference and Repetition', 'Difference in Itself',\n",
        "                            'Repetition for Itself', 'The Image of Thought',\n",
        "                            'Ideas and the Synthesis of Difference',\n",
        "                            'Asymmetrical Synthesis of the Sensible', 'Conclusion']\n",
        "\n",
        "marx_kapital_to_rm = ['http.+', 'Capital\\s+Vol\\..+']\n",
        "\n",
        "marx_manifesto_to_rm = ['\\s+page\\s+\\d+']\n",
        "\n",
        "keynes_employment_to_rm = ['(?i)\\s+The\\s+General\\s+Theory\\s+of\\s+Employment,*\\s+interest\\s+and\\s+money\\s+by\\s+john\\s+maynard\\s+keynes\\s+',\n",
        "                           'Table of Contents \\| Previous Chapter \\| Next Chapter', \n",
        "                           'Chapter\\s+\\d+']       \n",
        "\n",
        "do_not_remove_capitals = ['essay concerning human understanding bk 2', \n",
        "                          'a treatise of human nature', \n",
        "                          'dialogues concerning natural religion', 'three dialogues', \n",
        "                          'a treatise concerning the principles of human knowledge',\n",
        "                          'thus spake zarathustra', 'beyond good and evil']\n",
        "\n",
        "bracketed_fn = ['critique of practical reason', 'the communist manifesto', 'ecce homo']                                          "
      ],
      "execution_count": null,
      "outputs": []
    },
    {
      "cell_type": "markdown",
      "metadata": {
        "id": "4Z6-svnmMCtz"
      },
      "source": [
        "#### 3. Tokenizing and Rendering the Texts as a Dataframe"
      ]
    },
    {
      "cell_type": "markdown",
      "metadata": {
        "id": "meZEHHSgMEBd"
      },
      "source": [
        "We now are in a position to apply these methods to each text and return a dataframe for each of them. Although we are interested primarily in the schools of thought in general, it would be convenient and more useful for future projects if we also include the specific authors and titles. \n",
        "\n",
        "To prepare for this project, we build a dictionary for each school, so that we can then iterate over a list of dictionaries to create a dataframe for each."
      ]
    },
    {
      "cell_type": "code",
      "metadata": {
        "colab": {
          "base_uri": "https://localhost:8080/"
        },
        "id": "Ct6SmxnTsM1k",
        "outputId": "75e77bf9-ce4d-4131-ba5b-ea36c1df656e"
      },
      "source": [
        "# prepare lists that will be zipped into a dictionary\n",
        "\n",
        "# texts \n",
        "all_texts\n",
        "\n",
        "# titles\n",
        "title_list = [\"plato - complete works\", \"aristotle - complete works\", \"aristotle - complete works\",\n",
        "              'second treatise on government', 'essay concerning human understanding',\n",
        "              'essay concerning human understanding', 'a treatise of human nature', \n",
        "              'dialogues concerning natural religion', 'three dialogues', \n",
        "              'a treatise concerning the principles of human knowledge',\n",
        "              'ethics', 'on the improvement of understanding', 'theodicy',\n",
        "              'discourse on method', 'meditations on first philosophy', 'the search after truth',\n",
        "              'the analysis of mind', 'the problems of philosophy', 'philosophical studies',\n",
        "              'philosophical investigations', 'tractatus logico-philosophicus',\n",
        "              \"lewis - papers\", \"lewis - papers\", 'quintessence', \n",
        "              'the logic of scientific discovery', 'naming and necessity', \n",
        "              'philosophical troubles', 'on certainty', 'the birth of the clinic',\n",
        "              'history of madness',\n",
        "              'the order of things', 'writing and difference', 'difference and repetition',\n",
        "              'anti-oedipus', 'the phenomenology of perception', \n",
        "              'the crisis of the european sciences and phenomenology', \n",
        "              'the idea of phenomenology',\n",
        "              'being and time', 'off the beaten track', 'critique of practical reason', \n",
        "              'critique of judgement', 'critique of pure reason', \n",
        "              'the system of ethics', 'science of logic', 'the phenomenology of spirit',\n",
        "              'elements of the philosophy of right', 'capital', 'the communist manifesto', \n",
        "              'essential works of lenin', 'the wealth of nations', \n",
        "              'on the principles of political economy and taxation',\n",
        "              'a general theory of employment, interest, and money', 'enchiridion',\n",
        "              'meditations', 'the antichrist', 'beyond good and evil', 'ecce homo',\n",
        "              'twilight of the idols', 'thus spake zarathustra', 'vindication of the rights of woman',\n",
        "              'the second sex', 'women, race, and class']\n",
        "\n",
        "# publication dates (for translations, editions used, etc.)\n",
        "publication_dates = [1997, 1991, 1991, 2010, 2004, 2004, 2003, 2009, 2009, 2009,\n",
        "                     2003, 1997, 2005, 2008, 2008, 1997, 2008, 2004, 2015, 1986, \n",
        "                     2001, 2008, 2008, 2004, 2002, 1990, 2011, 1969, 2003, 2006,\n",
        "                     2002, 2001, 1994, 1997, 2002, 1970, 1999, 1996, 2001, 2002, \n",
        "                     2007, 1998, 2005, 2010, 1977, 1991, 1887, 1970, 1966, 2009, \n",
        "                     2010, 2003, 2014, 2008, 2006, 2003, 2016, 2016, 2008, 2001, \n",
        "                     2009, 1981]\n",
        "\n",
        "# original authorship dates (to track when the text was actually written)\n",
        "original_dates = [-350, -320, -320, 1689, 1689, 1689, 1739, 1779, 1713, 1710,\n",
        "                 1677, 1677, 1710, 1637, 1641, 1674, 1921, 1912, 1910, 1953, \n",
        "                 1921, 1985, 1985, 1950, 1959, 1972, 1975, 1950, 1963, 1961,\n",
        "                 1966, 1967, 1968, 1972, 1945, 1936, 1907, 1927, 1950, 1788,\n",
        "                 1790, 1781, 1798, 1817, 1807, 1820, 1883, 1848, 1862, 1776, \n",
        "                 1817, 1936, 125, 170, 1888, 1886, 1888, 1888, 1887, 1792,\n",
        "                 1949, 1981]\n",
        "\n",
        "# authors\n",
        "author_list = ['plato', 'aristotle', 'aristotle', 'locke', 'locke', 'locke',\n",
        "               'hume', 'hume', 'berkeley', 'berkeley', 'spinoza', 'spinoza',\n",
        "               'leibniz', 'descartes', 'descartes', 'malebranche', 'russell', \n",
        "               'russell', 'moore', 'wittgenstein', 'wittgenstein', 'lewis', 'lewis',\n",
        "               'quine', 'popper', 'kripke', 'kripke', 'wittgenstein', 'foucault', 'foucault', \n",
        "               'foucault', 'derrida', 'deleuze', 'deleuze', 'merleau-ponty', \n",
        "               'husserl', 'husserl', 'heidegger', 'heidegger', 'kant', 'kant',\n",
        "               'kant', 'fichte', 'hegel', 'hegel', 'hegel', 'marx', 'marx', 'lenin',\n",
        "               'smith', 'ricardo', 'keynes', 'epictetus', 'marcus aurelius',\n",
        "               'nietzsche', 'nietzsche', 'nietzsche', 'nietzsche', 'nietzsche',\n",
        "               'wollstonecraft', 'beauvoir', 'davis']\n",
        "\n",
        "school_list = ['plato', 'aristotle', 'aristotle', 'empiricism', 'empiricism', \n",
        "               'empiricism', 'empiricism', 'empiricism', 'empiricism', 'empiricism',\n",
        "               'rationalism', 'rationalism', 'rationalism', 'rationalism', \n",
        "               'rationalism', 'rationalism', 'analytic', 'analytic', 'analytic', \n",
        "               'analytic', 'analytic', 'analytic', 'analytic', 'analytic', 'analytic', \n",
        "               'analytic', 'analytic', 'analytic', 'continental', 'continental', 'continental', \n",
        "               'continental', 'continental', 'continental', 'phenomenology', \n",
        "               'phenomenology', 'phenomenology', 'phenomenology', 'phenomenology', \n",
        "               'german_idealism', 'german_idealism', 'german_idealism', 'german_idealism',\n",
        "               'german_idealism', 'german_idealism', 'german_idealism', 'communism', \n",
        "               'communism', 'communism', 'capitalism', 'capitalism', 'capitalism', \n",
        "               'stoicism', 'stoicism', 'nietzsche', 'nietzsche', 'nietzsche', \n",
        "               'nietzsche', 'nietzsche', 'feminism', 'feminism', 'feminism']               \n",
        "\n",
        "# words to remove \n",
        "to_rm_list = [plato_to_rm, aristotle_to_rm, aristotle_to_rm, locke_gov_to_rm, \n",
        "              [], [], [], [], berkeley_dialogues_to_rm, [], [], [], [], [], \n",
        "              descartes_meditations_to_rm, malebranche_search_to_rm, [],\n",
        "              [], [], [], wittgenstein_tract_to_rm, lewis_papers_1_to_rm, \n",
        "              lewis_papers_2_to_rm, quine_quintessence_to_rm, popper_science_to_rm,\n",
        "              [], kripke_troubles_to_rm, [], foucault_clinic_to_rm, foucault_madness_to_rm,\n",
        "              foucault_order_to_rm, [], deleuze_difference_to_rm, [],\n",
        "              ponty_perception_to_rm, husserl_crisis_to_rm, [], heidegger_b_and_t_to_rm,\n",
        "              [], [], kant_judgement_to_rm, kant_pure_reason_to_rm, fichte_ethics_to_rm, \n",
        "              hegel_SoL_to_rm, [], hegel_right_to_rm, marx_kapital_to_rm, \n",
        "              marx_manifesto_to_rm, [], [], [], keynes_employment_to_rm, [], [], \n",
        "              [], [], [], [], [], [], [], []]\n",
        "\n",
        "# check lengths to make sure all are present\n",
        "len(to_rm_list), len(all_texts), len(author_list), len(title_list), len(school_list), len(publication_dates), len(original_dates)"
      ],
      "execution_count": null,
      "outputs": [
        {
          "output_type": "execute_result",
          "data": {
            "text/plain": [
              "(62, 62, 62, 62, 62, 62, 62)"
            ]
          },
          "metadata": {
            "tags": []
          },
          "execution_count": 49
        }
      ]
    },
    {
      "cell_type": "code",
      "metadata": {
        "colab": {
          "base_uri": "https://localhost:8080/"
        },
        "id": "jWV3U1XIsPEe",
        "outputId": "7f1f4d9d-29e1-4568-e1b4-c2e690d342d1"
      },
      "source": [
        "# combine all these into a single list of dictionaries\n",
        "book_dicts = []\n",
        "for i in range(0, len(all_texts)):\n",
        "  book_dict = {}\n",
        "  book_dict['author'] = author_list[i].title()\n",
        "  book_dict['title'] = title_list[i].title()\n",
        "  book_dict['text'] = all_texts[i]\n",
        "  book_dict['school'] = school_list[i]\n",
        "  book_dict['words to remove'] = to_rm_list[i]\n",
        "  book_dict['remove capitals'] = True\n",
        "  book_dict['bracketed fn'] = False\n",
        "  book_dict['publication date'] = publication_dates[i]\n",
        "  book_dict['original date'] = original_dates[i]\n",
        "  book_dicts.append(book_dict)\n",
        "\n",
        "# mark the ones with bracketed footnotes \n",
        "for book in book_dicts:\n",
        "  if book['title'] in bracketed_fn:\n",
        "    book['bracketed fn'] = True\n",
        "\n",
        "# mark the ones with capitals we want to keep\n",
        "for book in book_dicts:\n",
        "  if book['title'] in do_not_remove_capitals:\n",
        "    book['remove capitals'] = False\n",
        "  \n",
        "# check length again to make sure\n",
        "len(book_dicts)"
      ],
      "execution_count": null,
      "outputs": [
        {
          "output_type": "execute_result",
          "data": {
            "text/plain": [
              "62"
            ]
          },
          "metadata": {
            "tags": []
          },
          "execution_count": 50
        }
      ]
    },
    {
      "cell_type": "code",
      "metadata": {
        "id": "ZMeasklebK9Y"
      },
      "source": [
        "# use this cell to build a single text dict if you are just adding a single new text\n"
      ],
      "execution_count": null,
      "outputs": []
    },
    {
      "cell_type": "markdown",
      "metadata": {
        "id": "Old9KJCnMSLo"
      },
      "source": [
        "With a dictionary for each text, we are prepared to clean them, build dataframes for each text, and combine them into a master dataframe for all our data. \n",
        "\n",
        "As part of that, we use a new dictionary where the keys correspond to textual oddities and the values correspond to their corrected version. This helps deal with many individual cases of strange behavior in the corpus."
      ]
    },
    {
      "cell_type": "code",
      "metadata": {
        "id": "Xe_GUeVisQ7C",
        "cellView": "form"
      },
      "source": [
        "#@title Oddities Dictionary for Cleaning\n",
        "# a dictionary of oddities to clean up\n",
        "odd_words_dict = {'\\sderstanding': 'derstanding',\n",
        "                  '\\sditference\\s': ' difference ',\n",
        "                  '\\sforthe\\s': ' for the ',\n",
        "                  '\\sject': 'ject',\n",
        "                  '\\sjects': 'jects', \n",
        "                  '\\sness': 'ness',\n",
        "                  '\\sper\\scent\\s': ' percent ',\n",
        "                  '\\sper\\scent\\.': ' percent.',\n",
        "                  '\\sper\\scent,': ' percent,',\n",
        "                  '\\wi\\son': 'ion',\n",
        "                  '\\spri\\sori': ' priori',\n",
        "                  '\\stences\\s': 'tences ',\n",
        "                  '\\sprincipleb': ' principle',\n",
        "                  '\\ssciousness': 'sciousness',\n",
        "                  '\\stion': 'tion',\n",
        "                  '\\spri\\s': ' pri',\n",
        "                  '\\scluding': 'cluding',\n",
        "                  '\\sdom': 'dom',\n",
        "                  '\\sers': 'ers',\n",
        "                  '\\scritiq\\s': ' critique ',\n",
        "                  '\\ssensati\\s': ' sensation ',\n",
        "                  '(?i)\\syou\\sll': \" you'll\",\n",
        "                  '\\sI\\sll': \" I'll\",\n",
        "                  '(?i)\\swe\\sll': \" we'll\",\n",
        "                  '(?i)he\\sll': \" he'll\",\n",
        "                  '(?i)who\\sll': \"who'll\",\n",
        "                  '(?i)\\sthere\\sll\\s': \" there'll \",\n",
        "                  '\\seduca\\s': ' education ',\n",
        "                  '\\slity\\s': 'lity ',\n",
        "                  '\\smultaneously\\s': 'multaneously ',\n",
        "                  '\\stically\\s': 'tically ',\n",
        "                  '\\sDa\\ssein\\s': ' Dasein ',\n",
        "                  '(?i)\\sthey\\sll\\s': \" they'll \",\n",
        "                  '(?i)\\sin\\tum\\s': ' in turn ',\n",
        "                  '\\scon~\\s': ' con',\n",
        "                  '\\sà\\s': ' a ',\n",
        "                  '\\sjor\\s': ' for ',\n",
        "                  '\\sluminating\\s': 'luminating ',\n",
        "                  '\\sselj\\s': ' self ',\n",
        "                  '\\stial\\s': 'tial ',\n",
        "                  '\\sversal\\s': 'versal ',\n",
        "                  '\\sexis\\st': ' exist',\n",
        "                  '\\splauded\\s': 'plauded ',\n",
        "                  '\\suiry\\s': 'uiry ',\n",
        "                  '\\svithin\\s': ' within ',\n",
        "                  '\\soj\\s': ' of ',\n",
        "                  '\\sposi\\st': ' posit',\n",
        "                  '\\sra\\sther\\s': ' rather ',\n",
        "                  '(?i)\\sthat\\sll\\s': \" that'll \",\n",
        "                  '(?i)\\sa\\sll\\s': ' all ',\n",
        "                  '\\so\\sther\\s': ' other ',\n",
        "                  '\\sra\\sther\\s': ' rather ',\n",
        "                  '\\snei\\sther\\s': ' neither ',\n",
        "                  '\\sei\\sther\\s': ' either ',\n",
        "                  '\\sfur\\sther\\s': ' further ',\n",
        "                  '\\sano\\sther': ' another ',\n",
        "                  '\\sneces\\s': ' neces',\n",
        "                  'u\\slar\\s': 'ular ',\n",
        "                  '\\sference\\s': 'ference ',\n",
        "                  '(?i)it\\sll\\s': \"it'll \",\n",
        "                  '\\stoge\\sther': ' together ',\n",
        "                  '\\sknowledgeb\\s': ' knowledge ',\n",
        "                  'r\\stain\\s': 'rtain ',\n",
        "                  'on\\stain\\s': 'ontain',\n",
        "                  '(?i)j\\sect\\s': 'ject',\n",
        "                  '\\sob\\sect\\s': ' object ',\n",
        "                  '\\sbtle\\s': 'btle ',\n",
        "                  '\\snition\\s': 'nition ',\n",
        "                  '\\sdering\\s': 'dering ', \n",
        "                  '\\sized\\s': 'ized ',\n",
        "                  '\\sther\\shand': ' other hand',\n",
        "                  '\\ture\\s': 'ture ',\n",
        "                  '\\sabso\\sl': ' absol',\n",
        "                  '\\stly\\s': 'tly ',\n",
        "                  '\\serty\\s': 'erty ',\n",
        "                  '\\sobj\\se': ' obj',\n",
        "                  '\\sffiir\\s': ' for ',\n",
        "                  '\\sndeed\\s': ' indeed ',\n",
        "                  '\\sfonn\\s': ' form ',\n",
        "                  '\\snally\\s': 'nally ',\n",
        "                  'ain\\sty\\s': 'ainty ',\n",
        "                  'ici\\sty\\s': 'icity ',\n",
        "                  '\\scog\\sni': ' cogni',\n",
        "                  '\\sacc\\s': ' acc',\n",
        "                  '\\sindi\\svid\\sual': ' individual', \n",
        "                  '\\sintu\\sit': ' intuit',\n",
        "                  'r\\sance\\s': 'rance ',\n",
        "                  '\\ssions\\s': 'sions ',\n",
        "                  '\\sances\\s': 'ances ',\n",
        "                  '\\sper\\sception\\s': ' perception ',\n",
        "                  '\\sse\\sries\\s': ' series ',\n",
        "                  '\\sque\\sries\\s': ' queries ',\n",
        "                  '\\sessary\\s': 'essary ',\n",
        "                  '\\sofa\\s': ' of a ',\n",
        "                  '\\scer\\stainty\\s': ' certainty ',\n",
        "                  'ec\\stivity\\s': 'ectivity ',\n",
        "                  '\\stivity\\s': 'tivity ',\n",
        "                  '\\slation\\s': 'lation ',\n",
        "                  '\\sir\\sr': ' irr',\n",
        "                  '\\ssub\\sstance\\s': ' substance ',\n",
        "                  'sec\\sond\\s': 'second ',\n",
        "                  '\\s\\.rv': '',\n",
        "                  '\\story\\s': 'tory ',\n",
        "                  '\\sture\\s': 'ture ',\n",
        "                  '\\sminate\\s': 'minate ',\n",
        "                  '\\sing\\s': 'ing ',\n",
        "                  '\\splicity\\s': 'plicity ',\n",
        "                  '\\ssimi\\slar\\s': ' similar ',\n",
        "                  '\\scom\\smunity\\s': ' community ',\n",
        "                  '\\sitselfa\\s': ' itself a ',\n",
        "                  '\\ssimp\\s': ' simply ',\n",
        "                  '\\scon\\stex': ' contex',\n",
        "                  '\\scon\\sseq': ' conseq',\n",
        "                  '\\scon\\stai': ' contai',\n",
        "                  '\\sofwhat\\s': ' of what ',\n",
        "                  '\\sui\\s': 'ui',\n",
        "                  '\\sofan\\s': ' of an ',\n",
        "                  '\\saccor\\sdance\\s': ' accordance ',\n",
        "                  '\\stranscen\\sdental\\s': ' transcendental ',\n",
        "                  '\\sap\\spearances\\s': ' appearances ',\n",
        "                  'e\\squences\\s': 'equences ',\n",
        "                  '\\sorits\\s': ' or its ',\n",
        "                  '\\simma\\sn': ' imman',\n",
        "                  '\\seq\\sua': ' equa',\n",
        "                  '\\simpl\\sied\\s': ' implied ',\n",
        "                  '\\sbuta\\s': ' but a ',\n",
        "                  '\\sa\\snd\\s': ' and ',\n",
        "                  '\\sence\\s': 'ence ',\n",
        "                  '\\stain\\s': 'tain ',\n",
        "                  '\\sunder\\sstanding\\s': ' understanding ',\n",
        "                  'i\\sence\\s': 'ience ',\n",
        "                  'r\\sence\\s': 'rence ',\n",
        "                  '\\stical\\s': 'tical ',\n",
        "                  '\\sobjectsb\\s': ' objects ',\n",
        "                  '\\stbe\\s': ' the ',\n",
        "                  '\\smul\\st': ' mult',\n",
        "                  '\\sgen\\seral\\s': ' general ',\n",
        "                  '\\suniver\\ssal\\s': ' universal ',\n",
        "                  '\\scon\\stent\\s': ' content ',\n",
        "                  '\\spar\\sticular\\s': ' particular ',\n",
        "                  'ver\\ssity\\s': 'versity ',\n",
        "                  '\\sCritiq\\s': ' Critique ',\n",
        "                  '\\sphilo\\ssophy\\s': ' philosophy ',\n",
        "                  '\\seq\\s': ' eq'}"
      ],
      "execution_count": null,
      "outputs": []
    },
    {
      "cell_type": "code",
      "metadata": {
        "id": "G_KZCE6YsYE7"
      },
      "source": [
        "# function for building the df for each school\n",
        "def from_raw_to_df(text_dict):\n",
        "  nlp.max_length = 9000000\n",
        "  text = text_dict['text']\n",
        "  text = remove_words(text, text_dict['words to remove'])\n",
        "  text = baseline_clean(text, capitals=text_dict['remove capitals'],\n",
        "                        bracketed_fn=text_dict['bracketed fn'],\n",
        "                        odd_words_dict=odd_words_dict)\n",
        "  text_nlp = nlp(text, disable=['ner'])\n",
        "  text_df = pd.DataFrame(columns=['title', 'author', 'school', 'sentence_spacy'])\n",
        "  text_df['sentence_spacy'] = list(text_nlp.sents)\n",
        "  text_df['author'] = text_dict['author']\n",
        "  text_df['title'] = text_dict['title']\n",
        "  text_df['school'] = text_dict['school']\n",
        "  text_df['original_publication_date'] = text_dict['original date']\n",
        "  text_df['corpus_edition_date'] = text_dict['publication date']\n",
        "  text_df['sentence_str'] = text_df['sentence_spacy'].apply(lambda x: ''.join(list(str(x))))\n",
        "  return text_df\n"
      ],
      "execution_count": null,
      "outputs": []
    },
    {
      "cell_type": "code",
      "metadata": {
        "id": "Gpk1QnbJb5TB",
        "colab": {
          "base_uri": "https://localhost:8080/"
        },
        "outputId": "8c4371ae-8a38-47aa-975a-4cd63f2ae168"
      },
      "source": [
        "# build the df for each school and combine them\n",
        "df = pd.DataFrame(columns=['title', 'author', 'school', 'sentence_spacy', 'sentence_str'])\n",
        "for book in book_dicts:\n",
        "  book_df = from_raw_to_df(book)\n",
        "  df = df.append(book_df, ignore_index=True)\n",
        "\n",
        "len(df)"
      ],
      "execution_count": null,
      "outputs": [
        {
          "output_type": "execute_result",
          "data": {
            "text/plain": [
              "400673"
            ]
          },
          "metadata": {
            "tags": []
          },
          "execution_count": 54
        }
      ]
    },
    {
      "cell_type": "code",
      "metadata": {
        "colab": {
          "base_uri": "https://localhost:8080/",
          "height": 931
        },
        "id": "0rTa7P8KwXC6",
        "outputId": "416532ac-dc80-4033-bfc0-dd44e439892e"
      },
      "source": [
        "pd.options.display.max_colwidth = 200\n",
        "df.sample(10)"
      ],
      "execution_count": null,
      "outputs": [
        {
          "output_type": "execute_result",
          "data": {
            "text/html": [
              "<div>\n",
              "<style scoped>\n",
              "    .dataframe tbody tr th:only-of-type {\n",
              "        vertical-align: middle;\n",
              "    }\n",
              "\n",
              "    .dataframe tbody tr th {\n",
              "        vertical-align: top;\n",
              "    }\n",
              "\n",
              "    .dataframe thead th {\n",
              "        text-align: right;\n",
              "    }\n",
              "</style>\n",
              "<table border=\"1\" class=\"dataframe\">\n",
              "  <thead>\n",
              "    <tr style=\"text-align: right;\">\n",
              "      <th></th>\n",
              "      <th>title</th>\n",
              "      <th>author</th>\n",
              "      <th>school</th>\n",
              "      <th>sentence_spacy</th>\n",
              "      <th>sentence_str</th>\n",
              "      <th>original_publication_date</th>\n",
              "      <th>corpus_edition_date</th>\n",
              "    </tr>\n",
              "  </thead>\n",
              "  <tbody>\n",
              "    <tr>\n",
              "      <th>190159</th>\n",
              "      <td>The Logic Of Scientific Discovery</td>\n",
              "      <td>Popper</td>\n",
              "      <td>analytic</td>\n",
              "      <td>(ff, .)</td>\n",
              "      <td>ff.</td>\n",
              "      <td>1959.0</td>\n",
              "      <td>2002.0</td>\n",
              "    </tr>\n",
              "    <tr>\n",
              "      <th>273788</th>\n",
              "      <td>Off The Beaten Track</td>\n",
              "      <td>Heidegger</td>\n",
              "      <td>phenomenology</td>\n",
              "      <td>(vennogen, Die, limmlischen, alles, ., ')</td>\n",
              "      <td>vennogen Die limmlischen alles. '</td>\n",
              "      <td>1950.0</td>\n",
              "      <td>2001.0</td>\n",
              "    </tr>\n",
              "    <tr>\n",
              "      <th>194150</th>\n",
              "      <td>Naming And Necessity</td>\n",
              "      <td>Kripke</td>\n",
              "      <td>analytic</td>\n",
              "      <td>(As, the, style, of, the, transcript, makes, clear, ,, I, gave, the, talks, without, a, written, text, ,, and, ,, in, fact, ,, without, notes, .)</td>\n",
              "      <td>As the style of the transcript makes clear, I gave the talks without a written text, and, in fact, without notes.</td>\n",
              "      <td>1972.0</td>\n",
              "      <td>1990.0</td>\n",
              "    </tr>\n",
              "    <tr>\n",
              "      <th>42040</th>\n",
              "      <td>Plato - Complete Works</td>\n",
              "      <td>Plato</td>\n",
              "      <td>plato</td>\n",
              "      <td>(After, the, teacher, of, literature, ,, surely, ,, we, have, to, address, the, lyre, master, ?)</td>\n",
              "      <td>After the teacher of literature, surely, we have to address the lyre master?</td>\n",
              "      <td>-350.0</td>\n",
              "      <td>1997.0</td>\n",
              "    </tr>\n",
              "    <tr>\n",
              "      <th>179145</th>\n",
              "      <td>Lewis - Papers</td>\n",
              "      <td>Lewis</td>\n",
              "      <td>analytic</td>\n",
              "      <td>(Nothing, less, would, do, ,, I, think, .)</td>\n",
              "      <td>Nothing less would do, I think.</td>\n",
              "      <td>1985.0</td>\n",
              "      <td>2008.0</td>\n",
              "    </tr>\n",
              "    <tr>\n",
              "      <th>85996</th>\n",
              "      <td>Aristotle - Complete Works</td>\n",
              "      <td>Aristotle</td>\n",
              "      <td>aristotle</td>\n",
              "      <td>(or, ', what, is, the, cause, of, the, inference, ,, or, of, the, wrong, inference, ', ?)</td>\n",
              "      <td>or 'what is the cause of the inference, or of the wrong inference'?</td>\n",
              "      <td>-320.0</td>\n",
              "      <td>1991.0</td>\n",
              "    </tr>\n",
              "    <tr>\n",
              "      <th>22828</th>\n",
              "      <td>Plato - Complete Works</td>\n",
              "      <td>Plato</td>\n",
              "      <td>plato</td>\n",
              "      <td>(After, I, had, agreed, to, these, things, ,, it, would, be, open, to, you, to, use, precisely, these, points, of, agreement, to, prove, that, wisdom, is, strength, .)</td>\n",
              "      <td>After I had agreed to these things, it would be open to you to use precisely these points of agreement to prove that wisdom is strength.</td>\n",
              "      <td>-350.0</td>\n",
              "      <td>1997.0</td>\n",
              "    </tr>\n",
              "    <tr>\n",
              "      <th>319235</th>\n",
              "      <td>Elements Of The Philosophy Of Right</td>\n",
              "      <td>Hegel</td>\n",
              "      <td>german_idealism</td>\n",
              "      <td>(cO, :)</td>\n",
              "      <td>cO:</td>\n",
              "      <td>1820.0</td>\n",
              "      <td>1991.0</td>\n",
              "    </tr>\n",
              "    <tr>\n",
              "      <th>384840</th>\n",
              "      <td>The Second Sex</td>\n",
              "      <td>Beauvoir</td>\n",
              "      <td>feminism</td>\n",
              "      <td>(We, do, not, even, know, if, ,, in, such, different, living, conditions, from, today, 's, ,, woman, 's, musculature, or, her, respiratory, system, was, not, as, developed, as, man, 's, .)</td>\n",
              "      <td>We do not even know if, in such different living conditions from today's, woman's musculature or her respiratory system was not as developed as man's.</td>\n",
              "      <td>1949.0</td>\n",
              "      <td>2009.0</td>\n",
              "    </tr>\n",
              "    <tr>\n",
              "      <th>67208</th>\n",
              "      <td>Aristotle - Complete Works</td>\n",
              "      <td>Aristotle</td>\n",
              "      <td>aristotle</td>\n",
              "      <td>(In, many, parts, these, ducts, are, visible, ,, particularly, those, leading, to, the, spine, ,, and, those, leading, from, the, bones, are, continuous, ,, eg, in, the, case, of, the, ribs, ;, bu...</td>\n",
              "      <td>In many parts these ducts are visible, particularly those leading to the spine, and those leading from the bones are continuous, eg in the case of the ribs; but how do we suppose that these ducts ...</td>\n",
              "      <td>-320.0</td>\n",
              "      <td>1991.0</td>\n",
              "    </tr>\n",
              "  </tbody>\n",
              "</table>\n",
              "</div>"
            ],
            "text/plain": [
              "                                      title  ... corpus_edition_date\n",
              "190159    The Logic Of Scientific Discovery  ...              2002.0\n",
              "273788                 Off The Beaten Track  ...              2001.0\n",
              "194150                 Naming And Necessity  ...              1990.0\n",
              "42040                Plato - Complete Works  ...              1997.0\n",
              "179145                       Lewis - Papers  ...              2008.0\n",
              "85996            Aristotle - Complete Works  ...              1991.0\n",
              "22828                Plato - Complete Works  ...              1997.0\n",
              "319235  Elements Of The Philosophy Of Right  ...              1991.0\n",
              "384840                       The Second Sex  ...              2009.0\n",
              "67208            Aristotle - Complete Works  ...              1991.0\n",
              "\n",
              "[10 rows x 7 columns]"
            ]
          },
          "metadata": {
            "tags": []
          },
          "execution_count": 55
        }
      ]
    },
    {
      "cell_type": "code",
      "metadata": {
        "colab": {
          "base_uri": "https://localhost:8080/"
        },
        "id": "EFFcGwHUwTKv",
        "outputId": "36309337-7349-4e98-ebfe-dd2b5e98eac6"
      },
      "source": [
        "df['school'].value_counts(normalize=True)"
      ],
      "execution_count": null,
      "outputs": [
        {
          "output_type": "execute_result",
          "data": {
            "text/plain": [
              "analytic           0.151757\n",
              "aristotle          0.135095\n",
              "plato              0.119963\n",
              "german_idealism    0.119189\n",
              "continental        0.088336\n",
              "phenomenology      0.076124\n",
              "rationalism        0.065480\n",
              "empiricism         0.052142\n",
              "communism          0.051865\n",
              "feminism           0.048651\n",
              "capitalism         0.047393\n",
              "nietzsche          0.037400\n",
              "stoicism           0.006604\n",
              "Name: school, dtype: float64"
            ]
          },
          "metadata": {
            "tags": []
          },
          "execution_count": 56
        }
      ]
    },
    {
      "cell_type": "markdown",
      "metadata": {
        "id": "5KYPxjPCcYqi"
      },
      "source": [
        "While this works if you need to add everything, if you want to just add one text, use this one the dictionary you made. "
      ]
    },
    {
      "cell_type": "code",
      "metadata": {
        "colab": {
          "base_uri": "https://localhost:8080/"
        },
        "id": "SujsiUfnsfvU",
        "outputId": "7561cd11-c322-4910-aa79-4813b6da4cce"
      },
      "source": [
        "len(df)"
      ],
      "execution_count": null,
      "outputs": [
        {
          "output_type": "execute_result",
          "data": {
            "text/plain": [
              "400673"
            ]
          },
          "metadata": {
            "tags": []
          },
          "execution_count": 57
        }
      ]
    },
    {
      "cell_type": "markdown",
      "metadata": {
        "id": "xsIOtvZsMkdx"
      },
      "source": [
        "### Cleaning the Dataframe "
      ]
    },
    {
      "cell_type": "markdown",
      "metadata": {
        "id": "zuTIcCizMweb"
      },
      "source": [
        "But before the fun stuff, to ensure that we get good results, we need to clean the dataframe. This will take a few steps:\n",
        "1. Determine a threshold length and cut the (so-called) sentences that are shorter than that length (this will already eliminate meaningless duplicates like punctuations)\n",
        "2. Check for words that indicate footnotes (words like 'edition' or 'ibid'); we can then cut these sentences from the data\n",
        "3. Check for duplicates; there should be few if any duplicates in the dataframe for each school\n",
        "4. Check for words that indicate other languages so that we can eliminate quotations, citations, or other non-English sentences"
      ]
    },
    {
      "cell_type": "markdown",
      "metadata": {
        "id": "WI3KwHHVM8ck"
      },
      "source": [
        "#### 1. Deal with Short Sentences"
      ]
    },
    {
      "cell_type": "code",
      "metadata": {
        "colab": {
          "base_uri": "https://localhost:8080/",
          "height": 296
        },
        "id": "LLkVXKfIwcup",
        "outputId": "b664d1b3-84ea-4404-f16f-fe413046a101"
      },
      "source": [
        "df['sentence_length'] = df['sentence_str'].map(lambda x: len(x))\n",
        "num_of_short_entries = len(df[df['sentence_length'] < 20])\n",
        "print(f\"there are {num_of_short_entries} so-called sentences with fewer than 20 characters\")\n",
        "df[df['sentence_length'] < 20].sample(5)"
      ],
      "execution_count": null,
      "outputs": [
        {
          "output_type": "stream",
          "text": [
            "there are 32170 so-called sentences with fewer than 20 characters\n"
          ],
          "name": "stdout"
        },
        {
          "output_type": "execute_result",
          "data": {
            "text/html": [
              "<div>\n",
              "<style scoped>\n",
              "    .dataframe tbody tr th:only-of-type {\n",
              "        vertical-align: middle;\n",
              "    }\n",
              "\n",
              "    .dataframe tbody tr th {\n",
              "        vertical-align: top;\n",
              "    }\n",
              "\n",
              "    .dataframe thead th {\n",
              "        text-align: right;\n",
              "    }\n",
              "</style>\n",
              "<table border=\"1\" class=\"dataframe\">\n",
              "  <thead>\n",
              "    <tr style=\"text-align: right;\">\n",
              "      <th></th>\n",
              "      <th>title</th>\n",
              "      <th>author</th>\n",
              "      <th>school</th>\n",
              "      <th>sentence_spacy</th>\n",
              "      <th>sentence_str</th>\n",
              "      <th>original_publication_date</th>\n",
              "      <th>corpus_edition_date</th>\n",
              "      <th>sentence_length</th>\n",
              "    </tr>\n",
              "  </thead>\n",
              "  <tbody>\n",
              "    <tr>\n",
              "      <th>21104</th>\n",
              "      <td>Plato - Complete Works</td>\n",
              "      <td>Plato</td>\n",
              "      <td>plato</td>\n",
              "      <td>(On, what, principle, ?)</td>\n",
              "      <td>On what principle?</td>\n",
              "      <td>-350.0</td>\n",
              "      <td>1997.0</td>\n",
              "      <td>18</td>\n",
              "    </tr>\n",
              "    <tr>\n",
              "      <th>45157</th>\n",
              "      <td>Plato - Complete Works</td>\n",
              "      <td>Plato</td>\n",
              "      <td>plato</td>\n",
              "      <td>(Precisely, that, .)</td>\n",
              "      <td>Precisely that.</td>\n",
              "      <td>-350.0</td>\n",
              "      <td>1997.0</td>\n",
              "      <td>15</td>\n",
              "    </tr>\n",
              "    <tr>\n",
              "      <th>318243</th>\n",
              "      <td>Elements Of The Philosophy Of Right</td>\n",
              "      <td>Hegel</td>\n",
              "      <td>german_idealism</td>\n",
              "      <td>(�, �)</td>\n",
              "      <td>� �</td>\n",
              "      <td>1820.0</td>\n",
              "      <td>1991.0</td>\n",
              "      <td>3</td>\n",
              "    </tr>\n",
              "    <tr>\n",
              "      <th>291161</th>\n",
              "      <td>Critique Of Pure Reason</td>\n",
              "      <td>Kant</td>\n",
              "      <td>german_idealism</td>\n",
              "      <td>(principles.a)</td>\n",
              "      <td>principles.a</td>\n",
              "      <td>1781.0</td>\n",
              "      <td>1998.0</td>\n",
              "      <td>12</td>\n",
              "    </tr>\n",
              "    <tr>\n",
              "      <th>17587</th>\n",
              "      <td>Plato - Complete Works</td>\n",
              "      <td>Plato</td>\n",
              "      <td>plato</td>\n",
              "      <td>(I, did, .)</td>\n",
              "      <td>I did.</td>\n",
              "      <td>-350.0</td>\n",
              "      <td>1997.0</td>\n",
              "      <td>6</td>\n",
              "    </tr>\n",
              "  </tbody>\n",
              "</table>\n",
              "</div>"
            ],
            "text/plain": [
              "                                      title  ... sentence_length\n",
              "21104                Plato - Complete Works  ...              18\n",
              "45157                Plato - Complete Works  ...              15\n",
              "318243  Elements Of The Philosophy Of Right  ...               3\n",
              "291161              Critique Of Pure Reason  ...              12\n",
              "17587                Plato - Complete Works  ...               6\n",
              "\n",
              "[5 rows x 8 columns]"
            ]
          },
          "metadata": {
            "tags": []
          },
          "execution_count": 58
        }
      ]
    },
    {
      "cell_type": "code",
      "metadata": {
        "colab": {
          "base_uri": "https://localhost:8080/"
        },
        "id": "2FOolcqOwcgz",
        "outputId": "0ede10cf-0d8a-438c-9450-a62c2fc3b0f7"
      },
      "source": [
        "df = df.drop(df[df['sentence_length'] < 20].index)\n",
        "len(df)"
      ],
      "execution_count": null,
      "outputs": [
        {
          "output_type": "execute_result",
          "data": {
            "text/plain": [
              "368503"
            ]
          },
          "metadata": {
            "tags": []
          },
          "execution_count": 59
        }
      ]
    },
    {
      "cell_type": "markdown",
      "metadata": {
        "id": "KaxL3byaM-RA"
      },
      "source": [
        "#### 2. Look at Words that Indicate Footnotes"
      ]
    },
    {
      "cell_type": "code",
      "metadata": {
        "colab": {
          "base_uri": "https://localhost:8080/"
        },
        "id": "SRM_W5p3wbkE",
        "outputId": "dba4d8a9-24b2-4bef-a474-07b078f2b7f2"
      },
      "source": [
        "fn_words = ['ch\\.', 'bk', 'sect\\.', 'div\\.', 'cf', 'ibid', 'prop\\.', 'Q\\.E\\.D\\.',\n",
        "            'pt\\.', 'coroll\\.', 'cf\\.']\n",
        "\n",
        "df['sentence_lowered'] = df['sentence_str'].map(lambda x: x.lower())\n",
        "\n",
        "fn_df = pd.DataFrame()\n",
        "for word in fn_words:\n",
        "  found_word = df[df['sentence_lowered'].str.contains('\\s' + word.lower())].copy()\n",
        "  found_word['word'] = word\n",
        "  fn_df = fn_df.append(found_word)\n",
        "\n",
        "len(fn_df)"
      ],
      "execution_count": null,
      "outputs": [
        {
          "output_type": "execute_result",
          "data": {
            "text/plain": [
              "707"
            ]
          },
          "metadata": {
            "tags": []
          },
          "execution_count": 60
        }
      ]
    },
    {
      "cell_type": "code",
      "metadata": {
        "id": "PyjxVFLmwirp",
        "colab": {
          "base_uri": "https://localhost:8080/",
          "height": 1000
        },
        "outputId": "0434b57c-4015-4590-b7ca-e5d1006210b3"
      },
      "source": [
        "fn_df.sample(5)"
      ],
      "execution_count": null,
      "outputs": [
        {
          "output_type": "execute_result",
          "data": {
            "text/html": [
              "<div>\n",
              "<style scoped>\n",
              "    .dataframe tbody tr th:only-of-type {\n",
              "        vertical-align: middle;\n",
              "    }\n",
              "\n",
              "    .dataframe tbody tr th {\n",
              "        vertical-align: top;\n",
              "    }\n",
              "\n",
              "    .dataframe thead th {\n",
              "        text-align: right;\n",
              "    }\n",
              "</style>\n",
              "<table border=\"1\" class=\"dataframe\">\n",
              "  <thead>\n",
              "    <tr style=\"text-align: right;\">\n",
              "      <th></th>\n",
              "      <th>title</th>\n",
              "      <th>author</th>\n",
              "      <th>school</th>\n",
              "      <th>sentence_spacy</th>\n",
              "      <th>sentence_str</th>\n",
              "      <th>original_publication_date</th>\n",
              "      <th>corpus_edition_date</th>\n",
              "      <th>sentence_length</th>\n",
              "      <th>sentence_lowered</th>\n",
              "      <th>word</th>\n",
              "    </tr>\n",
              "  </thead>\n",
              "  <tbody>\n",
              "    <tr>\n",
              "      <th>189608</th>\n",
              "      <td>The Logic Of Scientific Discovery</td>\n",
              "      <td>Popper</td>\n",
              "      <td>analytic</td>\n",
              "      <td>(The, axioms, Cf, ., section, .)</td>\n",
              "      <td>The axioms Cf. section.</td>\n",
              "      <td>1959.0</td>\n",
              "      <td>2002.0</td>\n",
              "      <td>23</td>\n",
              "      <td>the axioms cf. section.</td>\n",
              "      <td>cf\\.</td>\n",
              "    </tr>\n",
              "    <tr>\n",
              "      <th>126386</th>\n",
              "      <td>Ethics</td>\n",
              "      <td>Spinoza</td>\n",
              "      <td>rationalism</td>\n",
              "      <td>(The, mind, ,, in, so, far, as, it, reasons, ,, desires, nothing, beyond, understanding, ,, and, judges, nothing, to, be, useful, to, itself, ,, save, such, things, as, conduce, to, understanding,...</td>\n",
              "      <td>The mind, in so far as it reasons, desires nothing beyond understanding, and judges nothing to be useful to itself, save such things as conduce to understanding (by the foregoing Prop.</td>\n",
              "      <td>1677.0</td>\n",
              "      <td>2003.0</td>\n",
              "      <td>184</td>\n",
              "      <td>the mind, in so far as it reasons, desires nothing beyond understanding, and judges nothing to be useful to itself, save such things as conduce to understanding (by the foregoing prop.</td>\n",
              "      <td>prop\\.</td>\n",
              "    </tr>\n",
              "    <tr>\n",
              "      <th>185890</th>\n",
              "      <td>Quintessence</td>\n",
              "      <td>Quine</td>\n",
              "      <td>analytic</td>\n",
              "      <td>(beyon, cfh, is, is, the, problem, distingui, ,, hing, between, analvtic, truth, ,, which, issues, from, the, mere, mearl, lng, ', of, word, ,, md, wn, thetic, truth, ,, which, depends, more, than...</td>\n",
              "      <td>beyon cfh is is the problem distingui,hing between analvtic truth, which issues from the mere mearl lng' of word,md wn thetic truth, which depends more than meani ngs.</td>\n",
              "      <td>1950.0</td>\n",
              "      <td>2004.0</td>\n",
              "      <td>167</td>\n",
              "      <td>beyon cfh is is the problem distingui,hing between analvtic truth, which issues from the mere mearl lng' of word,md wn thetic truth, which depends more than meani ngs.</td>\n",
              "      <td>cf</td>\n",
              "    </tr>\n",
              "    <tr>\n",
              "      <th>307011</th>\n",
              "      <td>Science Of Logic</td>\n",
              "      <td>Hegel</td>\n",
              "      <td>german_idealism</td>\n",
              "      <td>(When, we, treat, the, identity, of, subject, and, predicate, as, meaning, that, at, one, time, one, determination, of, the, concept, belongs, to, the, subject, and, the, other, to, the, predicate...</td>\n",
              "      <td>When we treat the identity of subject and predicate as meaning that at one time one determination of the concept belongs to the subject and the other to the predicate, and at another time the conv...</td>\n",
              "      <td>1817.0</td>\n",
              "      <td>2010.0</td>\n",
              "      <td>373</td>\n",
              "      <td>when we treat the identity of subject and predicate as meaning that at one time one determination of the concept belongs to the subject and the other to the predicate, and at another time the conv...</td>\n",
              "      <td>cf</td>\n",
              "    </tr>\n",
              "    <tr>\n",
              "      <th>148016</th>\n",
              "      <td>The Search After Truth</td>\n",
              "      <td>Malebranche</td>\n",
              "      <td>rationalism</td>\n",
              "      <td>(Dei, bk, ., ch, ., would, have, no, force, compared, with, these, .)</td>\n",
              "      <td>Dei bk. ch. would have no force compared with these.</td>\n",
              "      <td>1674.0</td>\n",
              "      <td>1997.0</td>\n",
              "      <td>52</td>\n",
              "      <td>dei bk. ch. would have no force compared with these.</td>\n",
              "      <td>ch\\.</td>\n",
              "    </tr>\n",
              "  </tbody>\n",
              "</table>\n",
              "</div>"
            ],
            "text/plain": [
              "                                    title  ...    word\n",
              "189608  The Logic Of Scientific Discovery  ...    cf\\.\n",
              "126386                             Ethics  ...  prop\\.\n",
              "185890                       Quintessence  ...      cf\n",
              "307011                   Science Of Logic  ...      cf\n",
              "148016             The Search After Truth  ...    ch\\.\n",
              "\n",
              "[5 rows x 10 columns]"
            ]
          },
          "metadata": {
            "tags": []
          },
          "execution_count": 61
        }
      ]
    },
    {
      "cell_type": "markdown",
      "metadata": {
        "id": "MqiX6cbVNDPw"
      },
      "source": [
        "Unfortunately, there was too much noise and too many differences in how the sentences were tokenized, so this kind of cleaning did not prove useful. As can be seen above, many of the relevant terms were used in meaningful sentences attributable to the correct authors. \n",
        "\n",
        "We were able to tell that 'bk.' was almost never used productively, so we cut that. For others, this was instructive in helping us clean the text and making revisions to the baseline cleaning function."
      ]
    },
    {
      "cell_type": "code",
      "metadata": {
        "colab": {
          "base_uri": "https://localhost:8080/"
        },
        "id": "y2NY8j7Ewj1Q",
        "outputId": "d726e799-b2a8-4167-c37a-b895f5916344"
      },
      "source": [
        "df = df.drop(df[df['sentence_lowered'].str.contains('\\s+bk'.lower())].index)\n",
        "\n",
        "len(df)"
      ],
      "execution_count": null,
      "outputs": [
        {
          "output_type": "execute_result",
          "data": {
            "text/plain": [
              "368481"
            ]
          },
          "metadata": {
            "tags": []
          },
          "execution_count": 62
        }
      ]
    },
    {
      "cell_type": "markdown",
      "metadata": {
        "id": "MEqfL_K_NE7C"
      },
      "source": [
        "#### 3. Look at cases of Self-Mention by Authors"
      ]
    },
    {
      "cell_type": "code",
      "metadata": {
        "colab": {
          "base_uri": "https://localhost:8080/"
        },
        "id": "S7fhKsiFwj8K",
        "outputId": "c56f4bf3-821f-48c5-ee7e-b7fd5f2eb37a"
      },
      "source": [
        "self_mention_df = pd.DataFrame()\n",
        "for author in df['author'].unique():\n",
        "  self_mention_slice = df[(df['author'] == author) & \n",
        "                          (df['sentence_lowered'].str.contains('\\s'+author.lower()))].copy()\n",
        "  self_mention_df = self_mention_df.append(self_mention_slice)\n",
        "\n",
        "len(self_mention_df)"
      ],
      "execution_count": null,
      "outputs": [
        {
          "output_type": "execute_result",
          "data": {
            "text/plain": [
              "891"
            ]
          },
          "metadata": {
            "tags": []
          },
          "execution_count": 63
        }
      ]
    },
    {
      "cell_type": "code",
      "metadata": {
        "id": "0GFzGEz_wkFt",
        "colab": {
          "base_uri": "https://localhost:8080/",
          "height": 1000
        },
        "outputId": "01b493e3-41cc-4c5c-f3e4-87c94d3118e6"
      },
      "source": [
        "self_mention_df.sample(5)"
      ],
      "execution_count": null,
      "outputs": [
        {
          "output_type": "execute_result",
          "data": {
            "text/html": [
              "<div>\n",
              "<style scoped>\n",
              "    .dataframe tbody tr th:only-of-type {\n",
              "        vertical-align: middle;\n",
              "    }\n",
              "\n",
              "    .dataframe tbody tr th {\n",
              "        vertical-align: top;\n",
              "    }\n",
              "\n",
              "    .dataframe thead th {\n",
              "        text-align: right;\n",
              "    }\n",
              "</style>\n",
              "<table border=\"1\" class=\"dataframe\">\n",
              "  <thead>\n",
              "    <tr style=\"text-align: right;\">\n",
              "      <th></th>\n",
              "      <th>title</th>\n",
              "      <th>author</th>\n",
              "      <th>school</th>\n",
              "      <th>sentence_spacy</th>\n",
              "      <th>sentence_str</th>\n",
              "      <th>original_publication_date</th>\n",
              "      <th>corpus_edition_date</th>\n",
              "      <th>sentence_length</th>\n",
              "      <th>sentence_lowered</th>\n",
              "    </tr>\n",
              "  </thead>\n",
              "  <tbody>\n",
              "    <tr>\n",
              "      <th>27483</th>\n",
              "      <td>Plato - Complete Works</td>\n",
              "      <td>Plato</td>\n",
              "      <td>plato</td>\n",
              "      <td>(As, often, in, citing, Plato, ,, Aristotle, names, no, author, ,, but, provided, ,, as, seems, reasonable, ,, that, he, means, the, reader, to, know, it, as, Plato, 's, his, citation, seems, to, ...</td>\n",
              "      <td>As often in citing Plato, Aristotle names no author, but provided, as seems reasonable, that he means the reader to know it as Plato's his citation seems to assure its genuineness.</td>\n",
              "      <td>-350.0</td>\n",
              "      <td>1997.0</td>\n",
              "      <td>180</td>\n",
              "      <td>as often in citing plato, aristotle names no author, but provided, as seems reasonable, that he means the reader to know it as plato's his citation seems to assure its genuineness.</td>\n",
              "    </tr>\n",
              "    <tr>\n",
              "      <th>203612</th>\n",
              "      <td>Philosophical Troubles</td>\n",
              "      <td>Kripke</td>\n",
              "      <td>analytic</td>\n",
              "      <td>(See, my, remarks, on, this, in, Kripke, ,, and, also, Ludlow, and, Neale, .)</td>\n",
              "      <td>See my remarks on this in Kripke, and also Ludlow and Neale.</td>\n",
              "      <td>1975.0</td>\n",
              "      <td>2011.0</td>\n",
              "      <td>60</td>\n",
              "      <td>see my remarks on this in kripke, and also ludlow and neale.</td>\n",
              "    </tr>\n",
              "    <tr>\n",
              "      <th>6523</th>\n",
              "      <td>Plato - Complete Works</td>\n",
              "      <td>Plato</td>\n",
              "      <td>plato</td>\n",
              "      <td>(There, ensues, an, elaborate, discussion, of, the, meaning, of, ', what, is, ', as, well, as, of, ', what, is, not, ', ,, in, which, we, can, see, Plato, working, out, a, new, theory, of, the, na...</td>\n",
              "      <td>There ensues an elaborate discussion of the meaning of 'what is' as well as of 'what is not', in which we can see Plato working out a new theory of the nature of the Form of being, and its relatio...</td>\n",
              "      <td>-350.0</td>\n",
              "      <td>1997.0</td>\n",
              "      <td>341</td>\n",
              "      <td>there ensues an elaborate discussion of the meaning of 'what is' as well as of 'what is not', in which we can see plato working out a new theory of the nature of the form of being, and its relatio...</td>\n",
              "    </tr>\n",
              "    <tr>\n",
              "      <th>414</th>\n",
              "      <td>Plato - Complete Works</td>\n",
              "      <td>Plato</td>\n",
              "      <td>plato</td>\n",
              "      <td>(Except, for, an, interlude, when, he, engages, one, of, his, accusers, in, the, sort, of, question, and, answer, discussion, characteristic, of, Plato, 's, ', Socratic, ', dialogues, ,, we, see, ...</td>\n",
              "      <td>Except for an interlude when he engages one of his accusers in the sort of question and answer discussion characteristic of Plato's 'Socratic' dialogues, we see Socrates delivering a speech before...</td>\n",
              "      <td>-350.0</td>\n",
              "      <td>1997.0</td>\n",
              "      <td>231</td>\n",
              "      <td>except for an interlude when he engages one of his accusers in the sort of question and answer discussion characteristic of plato's 'socratic' dialogues, we see socrates delivering a speech before...</td>\n",
              "    </tr>\n",
              "    <tr>\n",
              "      <th>238595</th>\n",
              "      <td>Anti-Oedipus</td>\n",
              "      <td>Deleuze</td>\n",
              "      <td>continental</td>\n",
              "      <td>(For, Oedipus, is, not, a, mere, psychoanalytic, construct, ,, Deleuze, and, Guattari, explain, .)</td>\n",
              "      <td>For Oedipus is not a mere psychoanalytic construct, Deleuze and Guattari explain.</td>\n",
              "      <td>1972.0</td>\n",
              "      <td>1997.0</td>\n",
              "      <td>81</td>\n",
              "      <td>for oedipus is not a mere psychoanalytic construct, deleuze and guattari explain.</td>\n",
              "    </tr>\n",
              "  </tbody>\n",
              "</table>\n",
              "</div>"
            ],
            "text/plain": [
              "                         title  ...                                                                                                                                                                                         sentence_lowered\n",
              "27483   Plato - Complete Works  ...                     as often in citing plato, aristotle names no author, but provided, as seems reasonable, that he means the reader to know it as plato's his citation seems to assure its genuineness.\n",
              "203612  Philosophical Troubles  ...                                                                                                                                             see my remarks on this in kripke, and also ludlow and neale.\n",
              "6523    Plato - Complete Works  ...  there ensues an elaborate discussion of the meaning of 'what is' as well as of 'what is not', in which we can see plato working out a new theory of the nature of the form of being, and its relatio...\n",
              "414     Plato - Complete Works  ...  except for an interlude when he engages one of his accusers in the sort of question and answer discussion characteristic of plato's 'socratic' dialogues, we see socrates delivering a speech before...\n",
              "238595            Anti-Oedipus  ...                                                                                                                        for oedipus is not a mere psychoanalytic construct, deleuze and guattari explain.\n",
              "\n",
              "[5 rows x 9 columns]"
            ]
          },
          "metadata": {
            "tags": []
          },
          "execution_count": 64
        }
      ]
    },
    {
      "cell_type": "code",
      "metadata": {
        "colab": {
          "base_uri": "https://localhost:8080/"
        },
        "id": "9vxUnQkTwkNo",
        "outputId": "b4f0d19f-1d77-4d79-c798-2eed2c7c409a"
      },
      "source": [
        "for author in df['author'].unique():\n",
        "  df = df.drop(df[(df['author'] == author) & \n",
        "                  (df['sentence_lowered'].str.contains('\\s'+author.lower()))].index)\n",
        "\n",
        "len(df)"
      ],
      "execution_count": null,
      "outputs": [
        {
          "output_type": "execute_result",
          "data": {
            "text/plain": [
              "367590"
            ]
          },
          "metadata": {
            "tags": []
          },
          "execution_count": 65
        }
      ]
    },
    {
      "cell_type": "markdown",
      "metadata": {
        "id": "uMxaZemLNKeH"
      },
      "source": [
        "#### 4. Deal with Duplicates"
      ]
    },
    {
      "cell_type": "code",
      "metadata": {
        "colab": {
          "base_uri": "https://localhost:8080/"
        },
        "id": "QzOcjqfYwkU4",
        "outputId": "8edcdb24-e9b9-46c8-9a08-dd0175761acb"
      },
      "source": [
        "# find the total number of duplicates\n",
        "len(df['sentence_str'])-len(df['sentence_str'].drop_duplicates())"
      ],
      "execution_count": null,
      "outputs": [
        {
          "output_type": "execute_result",
          "data": {
            "text/plain": [
              "4909"
            ]
          },
          "metadata": {
            "tags": []
          },
          "execution_count": 66
        }
      ]
    },
    {
      "cell_type": "code",
      "metadata": {
        "colab": {
          "base_uri": "https://localhost:8080/"
        },
        "id": "AtY8ZrQawvZC",
        "outputId": "c71341a2-3123-4fef-c047-378c72b57482"
      },
      "source": [
        "# get the number of duplicates in each school\n",
        "for school in df['school'].unique():\n",
        "  print(school)\n",
        "  print(len(df.loc[df['school'] == school]['sentence_str']) - \n",
        "        len(df.loc[df['school'] == school]['sentence_str'].drop_duplicates()))"
      ],
      "execution_count": null,
      "outputs": [
        {
          "output_type": "stream",
          "text": [
            "plato\n",
            "291\n",
            "aristotle\n",
            "3351\n",
            "empiricism\n",
            "14\n",
            "rationalism\n",
            "39\n",
            "analytic\n",
            "295\n",
            "continental\n",
            "97\n",
            "phenomenology\n",
            "87\n",
            "german_idealism\n",
            "287\n",
            "communism\n",
            "84\n",
            "capitalism\n",
            "92\n",
            "stoicism\n",
            "0\n",
            "nietzsche\n",
            "166\n",
            "feminism\n",
            "43\n"
          ],
          "name": "stdout"
        }
      ]
    },
    {
      "cell_type": "code",
      "metadata": {
        "id": "juwoWPstwvgf",
        "colab": {
          "base_uri": "https://localhost:8080/",
          "height": 686
        },
        "outputId": "6798d176-1cf0-466e-dab3-40dbd28b1e26"
      },
      "source": [
        "doubles_df = pd.concat(g for _, g in df.groupby(\"sentence_str\") if len(g) > 1)\n",
        "doubles_df.sample(5)"
      ],
      "execution_count": null,
      "outputs": [
        {
          "output_type": "execute_result",
          "data": {
            "text/html": [
              "<div>\n",
              "<style scoped>\n",
              "    .dataframe tbody tr th:only-of-type {\n",
              "        vertical-align: middle;\n",
              "    }\n",
              "\n",
              "    .dataframe tbody tr th {\n",
              "        vertical-align: top;\n",
              "    }\n",
              "\n",
              "    .dataframe thead th {\n",
              "        text-align: right;\n",
              "    }\n",
              "</style>\n",
              "<table border=\"1\" class=\"dataframe\">\n",
              "  <thead>\n",
              "    <tr style=\"text-align: right;\">\n",
              "      <th></th>\n",
              "      <th>title</th>\n",
              "      <th>author</th>\n",
              "      <th>school</th>\n",
              "      <th>sentence_spacy</th>\n",
              "      <th>sentence_str</th>\n",
              "      <th>original_publication_date</th>\n",
              "      <th>corpus_edition_date</th>\n",
              "      <th>sentence_length</th>\n",
              "      <th>sentence_lowered</th>\n",
              "    </tr>\n",
              "  </thead>\n",
              "  <tbody>\n",
              "    <tr>\n",
              "      <th>38050</th>\n",
              "      <td>Plato - Complete Works</td>\n",
              "      <td>Plato</td>\n",
              "      <td>plato</td>\n",
              "      <td>(What, you, say, is, true, .)</td>\n",
              "      <td>What you say is true.</td>\n",
              "      <td>-350.0</td>\n",
              "      <td>1997.0</td>\n",
              "      <td>21</td>\n",
              "      <td>what you say is true.</td>\n",
              "    </tr>\n",
              "    <tr>\n",
              "      <th>74651</th>\n",
              "      <td>Aristotle - Complete Works</td>\n",
              "      <td>Aristotle</td>\n",
              "      <td>aristotle</td>\n",
              "      <td>(Some, effort, has, ,, however, ,, been, made, to, remove, certain, of, the, more, capricious, variations, of, translation, (, especially, in, the, more, philosophical, of, 's, treatises, ), .)</td>\n",
              "      <td>Some effort has, however, been made to remove certain of the more capricious variations of translation (especially in the more philosophical of 's treatises).</td>\n",
              "      <td>-320.0</td>\n",
              "      <td>1991.0</td>\n",
              "      <td>158</td>\n",
              "      <td>some effort has, however, been made to remove certain of the more capricious variations of translation (especially in the more philosophical of 's treatises).</td>\n",
              "    </tr>\n",
              "    <tr>\n",
              "      <th>79248</th>\n",
              "      <td>Aristotle - Complete Works</td>\n",
              "      <td>Aristotle</td>\n",
              "      <td>aristotle</td>\n",
              "      <td>((, The, three, exceptions, are, the, Categories, and, de, Interpretatione, ,, where, the, translations, of, .)</td>\n",
              "      <td>(The three exceptions are the Categories and de Interpretatione, where the translations of.</td>\n",
              "      <td>-320.0</td>\n",
              "      <td>1991.0</td>\n",
              "      <td>91</td>\n",
              "      <td>(the three exceptions are the categories and de interpretatione, where the translations of.</td>\n",
              "    </tr>\n",
              "    <tr>\n",
              "      <th>192862</th>\n",
              "      <td>The Logic Of Scientific Discovery</td>\n",
              "      <td>Popper</td>\n",
              "      <td>analytic</td>\n",
              "      <td>(Heisenberg, ,, Physikalische, Prinzipien, ,, .)</td>\n",
              "      <td>Heisenberg, Physikalische Prinzipien,.</td>\n",
              "      <td>1959.0</td>\n",
              "      <td>2002.0</td>\n",
              "      <td>38</td>\n",
              "      <td>heisenberg, physikalische prinzipien,.</td>\n",
              "    </tr>\n",
              "    <tr>\n",
              "      <th>329953</th>\n",
              "      <td>Capital</td>\n",
              "      <td>Marx</td>\n",
              "      <td>communism</td>\n",
              "      <td>(A, Prize, Essay, on, the, Comparative, Merits, of, Competition, and, Co, operation, .)</td>\n",
              "      <td>A Prize Essay on the Comparative Merits of Competition and Co operation.</td>\n",
              "      <td>1883.0</td>\n",
              "      <td>1887.0</td>\n",
              "      <td>72</td>\n",
              "      <td>a prize essay on the comparative merits of competition and co operation.</td>\n",
              "    </tr>\n",
              "  </tbody>\n",
              "</table>\n",
              "</div>"
            ],
            "text/plain": [
              "                                    title  ...                                                                                                                                                sentence_lowered\n",
              "38050              Plato - Complete Works  ...                                                                                                                                           what you say is true.\n",
              "74651          Aristotle - Complete Works  ...  some effort has, however, been made to remove certain of the more capricious variations of translation (especially in the more philosophical of 's treatises).\n",
              "79248          Aristotle - Complete Works  ...                                                                     (the three exceptions are the categories and de interpretatione, where the translations of.\n",
              "192862  The Logic Of Scientific Discovery  ...                                                                                                                          heisenberg, physikalische prinzipien,.\n",
              "329953                            Capital  ...                                                                                        a prize essay on the comparative merits of competition and co operation.\n",
              "\n",
              "[5 rows x 9 columns]"
            ]
          },
          "metadata": {
            "tags": []
          },
          "execution_count": 68
        }
      ]
    },
    {
      "cell_type": "markdown",
      "metadata": {
        "id": "83xx0eHWNOX3"
      },
      "source": [
        "From this it is clear that many of these duplicates are notes, meaninglessly short, or else headings that somehow escaped earlier efforts. Oddly, an enormous number of Aristotle's sentences seem to be doubled. Looking at the doubled sentences, this appears to be because similar notes were made in both of the two volumes of the text. \n",
        "\n",
        "Let's eliminate the aristotle doubles first, then take another look to see what the others are like. "
      ]
    },
    {
      "cell_type": "code",
      "metadata": {
        "id": "71OS1WlbwvqV",
        "colab": {
          "base_uri": "https://localhost:8080/"
        },
        "outputId": "df129884-8b26-42a5-a724-eaa1a1935d08"
      },
      "source": [
        "len(doubles_df[doubles_df['author'] != 'Aristotle'])"
      ],
      "execution_count": null,
      "outputs": [
        {
          "output_type": "execute_result",
          "data": {
            "text/plain": [
              "2516"
            ]
          },
          "metadata": {
            "tags": []
          },
          "execution_count": 69
        }
      ]
    },
    {
      "cell_type": "code",
      "metadata": {
        "id": "kotnwwvFwvy1",
        "colab": {
          "base_uri": "https://localhost:8080/",
          "height": 1000
        },
        "outputId": "db01f5e8-b570-46cc-8ce9-d9288e7fdf31"
      },
      "source": [
        "doubles_df[doubles_df['author'] != 'Aristole'].sample(5)"
      ],
      "execution_count": null,
      "outputs": [
        {
          "output_type": "execute_result",
          "data": {
            "text/html": [
              "<div>\n",
              "<style scoped>\n",
              "    .dataframe tbody tr th:only-of-type {\n",
              "        vertical-align: middle;\n",
              "    }\n",
              "\n",
              "    .dataframe tbody tr th {\n",
              "        vertical-align: top;\n",
              "    }\n",
              "\n",
              "    .dataframe thead th {\n",
              "        text-align: right;\n",
              "    }\n",
              "</style>\n",
              "<table border=\"1\" class=\"dataframe\">\n",
              "  <thead>\n",
              "    <tr style=\"text-align: right;\">\n",
              "      <th></th>\n",
              "      <th>title</th>\n",
              "      <th>author</th>\n",
              "      <th>school</th>\n",
              "      <th>sentence_spacy</th>\n",
              "      <th>sentence_str</th>\n",
              "      <th>original_publication_date</th>\n",
              "      <th>corpus_edition_date</th>\n",
              "      <th>sentence_length</th>\n",
              "      <th>sentence_lowered</th>\n",
              "    </tr>\n",
              "  </thead>\n",
              "  <tbody>\n",
              "    <tr>\n",
              "      <th>63808</th>\n",
              "      <td>Aristotle - Complete Works</td>\n",
              "      <td>Aristotle</td>\n",
              "      <td>aristotle</td>\n",
              "      <td>(A, single, asterisk, against, the, title, of, a, work, indicates, that, its, authenticity, has, been, seriously, doubted, ;, a, pair, of, asterisks, indicates, that, its, spuriousness, has, never...</td>\n",
              "      <td>A single asterisk against the title of a work indicates that its authenticity has been seriously doubted; a pair of asterisks indicates that its spuriousness has never been seriously contested.</td>\n",
              "      <td>-320.0</td>\n",
              "      <td>1991.0</td>\n",
              "      <td>193</td>\n",
              "      <td>a single asterisk against the title of a work indicates that its authenticity has been seriously doubted; a pair of asterisks indicates that its spuriousness has never been seriously contested.</td>\n",
              "    </tr>\n",
              "    <tr>\n",
              "      <th>75321</th>\n",
              "      <td>Aristotle - Complete Works</td>\n",
              "      <td>Aristotle</td>\n",
              "      <td>aristotle</td>\n",
              "      <td>(The, original, Translation, is, often, paraphrastic, :, some, of, the, translators, used, paraphrase, freely, and, deliberately, ,, attempting, not, so, much, to, English, 's, Greek, as, to, expl...</td>\n",
              "      <td>The original Translation is often paraphrastic: some of the translators used paraphrase freely and deliberately, attempting not so much to English 's Greek as to explain in their own words what he...</td>\n",
              "      <td>-320.0</td>\n",
              "      <td>1991.0</td>\n",
              "      <td>274</td>\n",
              "      <td>the original translation is often paraphrastic: some of the translators used paraphrase freely and deliberately, attempting not so much to english 's greek as to explain in their own words what he...</td>\n",
              "    </tr>\n",
              "    <tr>\n",
              "      <th>77587</th>\n",
              "      <td>Aristotle - Complete Works</td>\n",
              "      <td>Aristotle</td>\n",
              "      <td>aristotle</td>\n",
              "      <td>(There, are, occasional, errors, or, infelicities, of, translation, in, the, original, version, :, these, have, been, corrected, insofar, as, they, have, been, observed, .)</td>\n",
              "      <td>There are occasional errors or infelicities of translation in the original version: these have been corrected insofar as they have been observed.</td>\n",
              "      <td>-320.0</td>\n",
              "      <td>1991.0</td>\n",
              "      <td>145</td>\n",
              "      <td>there are occasional errors or infelicities of translation in the original version: these have been corrected insofar as they have been observed.</td>\n",
              "    </tr>\n",
              "    <tr>\n",
              "      <th>356700</th>\n",
              "      <td>On The Principles Of Political Economy And Taxation</td>\n",
              "      <td>Ricardo</td>\n",
              "      <td>capitalism</td>\n",
              "      <td>(If, profits, be, percent, .)</td>\n",
              "      <td>If profits be percent.</td>\n",
              "      <td>1817.0</td>\n",
              "      <td>2010.0</td>\n",
              "      <td>22</td>\n",
              "      <td>if profits be percent.</td>\n",
              "    </tr>\n",
              "    <tr>\n",
              "      <th>66178</th>\n",
              "      <td>Aristotle - Complete Works</td>\n",
              "      <td>Aristotle</td>\n",
              "      <td>aristotle</td>\n",
              "      <td>(The, text, of, The, Complete, Works, is, The, Revised, Oxford, Translation, of, The, Complete, Works, of, edited, by, Jonathan, Barnes, ,, and, published, by, Princeton, University, Press, in, .)</td>\n",
              "      <td>The text of The Complete Works is The Revised Oxford Translation of The Complete Works of edited by Jonathan Barnes, and published by Princeton University Press in.</td>\n",
              "      <td>-320.0</td>\n",
              "      <td>1991.0</td>\n",
              "      <td>164</td>\n",
              "      <td>the text of the complete works is the revised oxford translation of the complete works of edited by jonathan barnes, and published by princeton university press in.</td>\n",
              "    </tr>\n",
              "  </tbody>\n",
              "</table>\n",
              "</div>"
            ],
            "text/plain": [
              "                                                      title  ...                                                                                                                                                                                         sentence_lowered\n",
              "63808                            Aristotle - Complete Works  ...        a single asterisk against the title of a work indicates that its authenticity has been seriously doubted; a pair of asterisks indicates that its spuriousness has never been seriously contested.\n",
              "75321                            Aristotle - Complete Works  ...  the original translation is often paraphrastic: some of the translators used paraphrase freely and deliberately, attempting not so much to english 's greek as to explain in their own words what he...\n",
              "77587                            Aristotle - Complete Works  ...                                                        there are occasional errors or infelicities of translation in the original version: these have been corrected insofar as they have been observed.\n",
              "356700  On The Principles Of Political Economy And Taxation  ...                                                                                                                                                                                   if profits be percent.\n",
              "66178                            Aristotle - Complete Works  ...                                     the text of the complete works is the revised oxford translation of the complete works of edited by jonathan barnes, and published by princeton university press in.\n",
              "\n",
              "[5 rows x 9 columns]"
            ]
          },
          "metadata": {
            "tags": []
          },
          "execution_count": 70
        }
      ]
    },
    {
      "cell_type": "markdown",
      "metadata": {
        "id": "rSzTX0yNNV-K"
      },
      "source": [
        "Deeper exploration of the duplicates reveals that Kant has a lot of doubles that seem to be authentically from his texts. Plato also has several duplicate sentences, but these are almost all short phrases from the dialogues ('of course, yes' and that kind of thing). \n",
        "\n",
        "To preserve the Kant, while also removing the irrelevant duplicates, we will remove both copies of all duplicates from texts other than the Kant's *Critique of Pure Reason*. For that text, we will remove the short duplicates and keep one copy of the longer ones, thus preserving the meaningful sentences. "
      ]
    },
    {
      "cell_type": "code",
      "metadata": {
        "id": "qe5D6a2qwv7f",
        "colab": {
          "base_uri": "https://localhost:8080/"
        },
        "outputId": "000d41da-1b25-48fc-eb63-82b181326631"
      },
      "source": [
        "non_kant_indexes = df[(df['title'] != 'critique of pure reason') & \n",
        "                       (df['sentence_str'].duplicated(keep=False))].index\n",
        "kant_short_indexes = df[(df['title'] == 'critique of pure reason') &\n",
        "                        (df['sentence_str'].duplicated(keep=False)) &\n",
        "                        (df['sentence_length'] < 40)].index\n",
        "kant_long_indexes = df[(df['title'] == 'critique of pure reason') &\n",
        "                        (df['sentence_str'].duplicated(keep='first')) &\n",
        "                        (df['sentence_length'] >= 40)].index\n",
        "\n",
        "indexes_to_drop = [non_kant_indexes, kant_short_indexes, kant_long_indexes]\n",
        "for index in indexes_to_drop:\n",
        "  df = df.drop(index)\n",
        "\n",
        "len(df)"
      ],
      "execution_count": null,
      "outputs": [
        {
          "output_type": "execute_result",
          "data": {
            "text/plain": [
              "361520"
            ]
          },
          "metadata": {
            "tags": []
          },
          "execution_count": 71
        }
      ]
    },
    {
      "cell_type": "markdown",
      "metadata": {
        "id": "kcdlnijMNaMA"
      },
      "source": [
        "#### Check for Foreign-Language Sentences"
      ]
    },
    {
      "cell_type": "code",
      "metadata": {
        "colab": {
          "base_uri": "https://localhost:8080/"
        },
        "id": "JXUfIsqkwwOY",
        "outputId": "624f76ef-b3c4-4a3a-8f1e-38450940377e"
      },
      "source": [
        "# checking for 'der', a common article in German\n",
        "len((df[df['sentence_str'].str.contains('\\sder\\s')]))"
      ],
      "execution_count": null,
      "outputs": [
        {
          "output_type": "execute_result",
          "data": {
            "text/plain": [
              "319"
            ]
          },
          "metadata": {
            "tags": []
          },
          "execution_count": 72
        }
      ]
    },
    {
      "cell_type": "code",
      "metadata": {
        "colab": {
          "base_uri": "https://localhost:8080/"
        },
        "id": "Sds3G-P8w-KH",
        "outputId": "b36cb550-ae3a-41af-e91f-d8fe6d007540"
      },
      "source": [
        "df = df.drop(df[df['sentence_str'].str.contains('\\sder\\s')].index)\n",
        "\n",
        "len(df)"
      ],
      "execution_count": null,
      "outputs": [
        {
          "output_type": "execute_result",
          "data": {
            "text/plain": [
              "361201"
            ]
          },
          "metadata": {
            "tags": []
          },
          "execution_count": 73
        }
      ]
    },
    {
      "cell_type": "code",
      "metadata": {
        "id": "nsz9L0qCw-UM",
        "colab": {
          "base_uri": "https://localhost:8080/",
          "height": 1000
        },
        "outputId": "8ad3542a-836f-4f51-e9a3-2787054a99a4"
      },
      "source": [
        "# checking for 'il', a common article in French\n",
        "df[df['sentence_str'].str.contains('\\sil\\s')]"
      ],
      "execution_count": null,
      "outputs": [
        {
          "output_type": "execute_result",
          "data": {
            "text/html": [
              "<div>\n",
              "<style scoped>\n",
              "    .dataframe tbody tr th:only-of-type {\n",
              "        vertical-align: middle;\n",
              "    }\n",
              "\n",
              "    .dataframe tbody tr th {\n",
              "        vertical-align: top;\n",
              "    }\n",
              "\n",
              "    .dataframe thead th {\n",
              "        text-align: right;\n",
              "    }\n",
              "</style>\n",
              "<table border=\"1\" class=\"dataframe\">\n",
              "  <thead>\n",
              "    <tr style=\"text-align: right;\">\n",
              "      <th></th>\n",
              "      <th>title</th>\n",
              "      <th>author</th>\n",
              "      <th>school</th>\n",
              "      <th>sentence_spacy</th>\n",
              "      <th>sentence_str</th>\n",
              "      <th>original_publication_date</th>\n",
              "      <th>corpus_edition_date</th>\n",
              "      <th>sentence_length</th>\n",
              "      <th>sentence_lowered</th>\n",
              "    </tr>\n",
              "  </thead>\n",
              "  <tbody>\n",
              "    <tr>\n",
              "      <th>132863</th>\n",
              "      <td>Theodicy</td>\n",
              "      <td>Leibniz</td>\n",
              "      <td>rationalism</td>\n",
              "      <td>(lor, moto, sempre, Insieme, s'aggruppa, ,, dall, ', antico, Sempre, con, ordin, certo, il, nuovo, nasce, ;, Ne, tracciando, primi, semi, ,, fanno, Di, moto, un, tal, principio, ,, il, qual, poi, ...</td>\n",
              "      <td>lor moto sempre Insieme s'aggruppa, dall' antico Sempre con ordin certo il nuovo nasce; Ne tracciando primi semi, fanno Di moto un tal principio, il qual poi rompa I decreti del fato, acci non seg...</td>\n",
              "      <td>1710.0</td>\n",
              "      <td>2005.0</td>\n",
              "      <td>330</td>\n",
              "      <td>lor moto sempre insieme s'aggruppa, dall' antico sempre con ordin certo il nuovo nasce; ne tracciando primi semi, fanno di moto un tal principio, il qual poi rompa i decreti del fato, acci non seg...</td>\n",
              "    </tr>\n",
              "    <tr>\n",
              "      <th>132864</th>\n",
              "      <td>Theodicy</td>\n",
              "      <td>Leibniz</td>\n",
              "      <td>rationalism</td>\n",
              "      <td>(I, moti, ancora, Si, declinan, sovente, ,, non, in, tempo, Certo, ,, ne, certa, region, ,, solo, Quando, dove, commanda, il, nostro, arbitrio, ;, Poiche, senz, ', alcun, dubbio, queste, cose, sol...</td>\n",
              "      <td>I moti ancora Si declinan sovente, non in tempo Certo, ne certa region, solo Quando dove commanda il nostro arbitrio; Poiche senz' alcun dubbio queste cose sol principio il voler proprio, quindi V...</td>\n",
              "      <td>1710.0</td>\n",
              "      <td>2005.0</td>\n",
              "      <td>232</td>\n",
              "      <td>i moti ancora si declinan sovente, non in tempo certo, ne certa region, solo quando dove commanda il nostro arbitrio; poiche senz' alcun dubbio queste cose sol principio il voler proprio, quindi v...</td>\n",
              "    </tr>\n",
              "    <tr>\n",
              "      <th>136927</th>\n",
              "      <td>The Search After Truth</td>\n",
              "      <td>Malebranche</td>\n",
              "      <td>rationalism</td>\n",
              "      <td>(This, is, the, order, we, observe, in, this, treatise, :, il, is, divided, into, three, parts, .)</td>\n",
              "      <td>This is the order we observe in this treatise: il is divided into three parts.</td>\n",
              "      <td>1674.0</td>\n",
              "      <td>1997.0</td>\n",
              "      <td>78</td>\n",
              "      <td>this is the order we observe in this treatise: il is divided into three parts.</td>\n",
              "    </tr>\n",
              "    <tr>\n",
              "      <th>139476</th>\n",
              "      <td>The Search After Truth</td>\n",
              "      <td>Malebranche</td>\n",
              "      <td>rationalism</td>\n",
              "      <td>(both, what, they, are, and, what, they, are, thinking, (, which, I, really, do, not, bel, ,, I, warn, that, it, is, only, because, I, desire, to, dispute, the, This, paragraph, is, italicized, be...</td>\n",
              "      <td>both what they are and what they are thinking (which I really do not bel, I warn that it is only because I desire to dispute the This paragraph is italicized because you may omil il as being difli...</td>\n",
              "      <td>1674.0</td>\n",
              "      <td>1997.0</td>\n",
              "      <td>276</td>\n",
              "      <td>both what they are and what they are thinking (which i really do not bel, i warn that it is only because i desire to dispute the this paragraph is italicized because you may omil il as being difli...</td>\n",
              "    </tr>\n",
              "    <tr>\n",
              "      <th>140989</th>\n",
              "      <td>The Search After Truth</td>\n",
              "      <td>Malebranche</td>\n",
              "      <td>rationalism</td>\n",
              "      <td>(But, perhaps, il, would, be, appropriate, to, speak, of, their, quotations, ,, which, will, enable, us, to, understand, to, some, extent, the, disposition, of, their, mind, .)</td>\n",
              "      <td>But perhaps il would be appropriate to speak of their quotations, which will enable us to understand to some extent the disposition of their mind.</td>\n",
              "      <td>1674.0</td>\n",
              "      <td>1997.0</td>\n",
              "      <td>146</td>\n",
              "      <td>but perhaps il would be appropriate to speak of their quotations, which will enable us to understand to some extent the disposition of their mind.</td>\n",
              "    </tr>\n",
              "    <tr>\n",
              "      <th>144030</th>\n",
              "      <td>The Search After Truth</td>\n",
              "      <td>Malebranche</td>\n",
              "      <td>rationalism</td>\n",
              "      <td>(illiSl, ', il, nul, Utnpkll, ', .)</td>\n",
              "      <td>illiSl' il nul Utnpkll'.</td>\n",
              "      <td>1674.0</td>\n",
              "      <td>1997.0</td>\n",
              "      <td>24</td>\n",
              "      <td>illisl' il nul utnpkll'.</td>\n",
              "    </tr>\n",
              "    <tr>\n",
              "      <th>147215</th>\n",
              "      <td>The Search After Truth</td>\n",
              "      <td>Malebranche</td>\n",
              "      <td>rationalism</td>\n",
              "      <td>(regarding, those, of, Arnauld, in, the, second, volume, of, the, il, of, my, replies, .)</td>\n",
              "      <td>regarding those of Arnauld in the second volume of the il of my replies.</td>\n",
              "      <td>1674.0</td>\n",
              "      <td>1997.0</td>\n",
              "      <td>72</td>\n",
              "      <td>regarding those of arnauld in the second volume of the il of my replies.</td>\n",
              "    </tr>\n",
              "    <tr>\n",
              "      <th>180401</th>\n",
              "      <td>Quintessence</td>\n",
              "      <td>Quine</td>\n",
              "      <td>analytic</td>\n",
              "      <td>(oh, ,, et, de, conteml, ,, ier, eternellement, il, pro, /, Jre, l, (, Il, ', brti, .)</td>\n",
              "      <td>oh,et de conteml,ier eternellement il pro/Jre l( Il' brti.</td>\n",
              "      <td>1950.0</td>\n",
              "      <td>2004.0</td>\n",
              "      <td>58</td>\n",
              "      <td>oh,et de conteml,ier eternellement il pro/jre l( il' brti.</td>\n",
              "    </tr>\n",
              "    <tr>\n",
              "      <th>185683</th>\n",
              "      <td>Quintessence</td>\n",
              "      <td>Quine</td>\n",
              "      <td>analytic</td>\n",
              "      <td>(The, Ca, rtesian, quest, for, certainty, had, been, the, remote, motivation, of, epistemology, ,, both, il, its, conceptual, and, its, doctrinal, side, ;, but, that, quest, was, seen, as, a, lost...</td>\n",
              "      <td>The Ca rtesian quest for certainty had been the remote motivation of epistemology, both il its conceptual and its doctrinal side; but that quest was seen as a lost cause.</td>\n",
              "      <td>1950.0</td>\n",
              "      <td>2004.0</td>\n",
              "      <td>170</td>\n",
              "      <td>the ca rtesian quest for certainty had been the remote motivation of epistemology, both il its conceptual and its doctrinal side; but that quest was seen as a lost cause.</td>\n",
              "    </tr>\n",
              "    <tr>\n",
              "      <th>200891</th>\n",
              "      <td>Philosophical Troubles</td>\n",
              "      <td>Kripke</td>\n",
              "      <td>analytic</td>\n",
              "      <td>(If, God, did, not, exist, ,, Voltaire, said, ,, il, faudrait, l'inventer, ., ')</td>\n",
              "      <td>If God did not exist, Voltaire said, il faudrait l'inventer.'</td>\n",
              "      <td>1975.0</td>\n",
              "      <td>2011.0</td>\n",
              "      <td>61</td>\n",
              "      <td>if god did not exist, voltaire said, il faudrait l'inventer.'</td>\n",
              "    </tr>\n",
              "    <tr>\n",
              "      <th>236377</th>\n",
              "      <td>Difference And Repetition</td>\n",
              "      <td>Deleuze</td>\n",
              "      <td>continental</td>\n",
              "      <td>(Qu'en, est, il, de, I'etre, ?, .)</td>\n",
              "      <td>Qu'en est il de I'etre?.</td>\n",
              "      <td>1968.0</td>\n",
              "      <td>1994.0</td>\n",
              "      <td>24</td>\n",
              "      <td>qu'en est il de i'etre?.</td>\n",
              "    </tr>\n",
              "    <tr>\n",
              "      <th>241662</th>\n",
              "      <td>Anti-Oedipus</td>\n",
              "      <td>Deleuze</td>\n",
              "      <td>continental</td>\n",
              "      <td>(But, ethnologists, observe, how, difficult, it, is, to, distinguish, those, protoclasses, from, the, castes, organized, by, the, il, ial, mach.ine, and, from, the, rankings, distributed, by, the,...</td>\n",
              "      <td>But ethnologists observe how difficult it is to distinguish those protoclasses from the castes organized by the il ial mach.ine and from the rankings distributed by the segmentary prmutrve machine.</td>\n",
              "      <td>1972.0</td>\n",
              "      <td>1997.0</td>\n",
              "      <td>197</td>\n",
              "      <td>but ethnologists observe how difficult it is to distinguish those protoclasses from the castes organized by the il ial mach.ine and from the rankings distributed by the segmentary prmutrve machine.</td>\n",
              "    </tr>\n",
              "    <tr>\n",
              "      <th>262671</th>\n",
              "      <td>Being And Time</td>\n",
              "      <td>Heidegger</td>\n",
              "      <td>phenomenology</td>\n",
              "      <td>(What, is, at, hand, is, discovered, as, such, in, its, serviceability, usab, il, ity, ,, detrimentality, .)</td>\n",
              "      <td>What is at hand is discovered as such in its serviceability usab il ity, detrimentality.</td>\n",
              "      <td>1927.0</td>\n",
              "      <td>1996.0</td>\n",
              "      <td>88</td>\n",
              "      <td>what is at hand is discovered as such in its serviceability usab il ity, detrimentality.</td>\n",
              "    </tr>\n",
              "    <tr>\n",
              "      <th>270702</th>\n",
              "      <td>Off The Beaten Track</td>\n",
              "      <td>Heidegger</td>\n",
              "      <td>phenomenology</td>\n",
              "      <td>(Of, all, things, (, those, ,, namely, ,, that, man, has, around, him, in, use, and, usage, ,, il, .lcrra)</td>\n",
              "      <td>Of all things (those, namely, that man has around him in use and usage, il .lcrra</td>\n",
              "      <td>1950.0</td>\n",
              "      <td>2001.0</td>\n",
              "      <td>81</td>\n",
              "      <td>of all things (those, namely, that man has around him in use and usage, il .lcrra</td>\n",
              "    </tr>\n",
              "    <tr>\n",
              "      <th>272357</th>\n",
              "      <td>Off The Beaten Track</td>\n",
              "      <td>Heidegger</td>\n",
              "      <td>phenomenology</td>\n",
              "      <td>(Aristotle, characterizes, the, contem, plation, of, beings, as, beings, as, hna, il, a, way, in, which, our, seeing, and, perceiving, stands, by, ,, that, is, ,, stands, by, what, is, present, as...</td>\n",
              "      <td>Aristotle characterizes the contem plation of beings as beings as hna il a way in which our seeing and perceiving stands by, that is, stands by what is present as such.</td>\n",
              "      <td>1950.0</td>\n",
              "      <td>2001.0</td>\n",
              "      <td>168</td>\n",
              "      <td>aristotle characterizes the contem plation of beings as beings as hna il a way in which our seeing and perceiving stands by, that is, stands by what is present as such.</td>\n",
              "    </tr>\n",
              "    <tr>\n",
              "      <th>283925</th>\n",
              "      <td>Critique Of Pure Reason</td>\n",
              "      <td>Kant</td>\n",
              "      <td>german_idealism</td>\n",
              "      <td>(This, is, evidently, the, effect, not, of, the, thoughtlessness, of, our, age, ,, but, of, its, ripened, power, of, judgment, ,, which, will, no, longer, be, put, off, with, il, Now, and, again, ...</td>\n",
              "      <td>This is evidently the effect not of the thoughtlessness of our age, but of its ripened power of judgment, which will no longer be put off with il Now and again one hears complaints about the super...</td>\n",
              "      <td>1781.0</td>\n",
              "      <td>1998.0</td>\n",
              "      <td>281</td>\n",
              "      <td>this is evidently the effect not of the thoughtlessness of our age, but of its ripened power of judgment, which will no longer be put off with il now and again one hears complaints about the super...</td>\n",
              "    </tr>\n",
              "    <tr>\n",
              "      <th>285427</th>\n",
              "      <td>Critique Of Pure Reason</td>\n",
              "      <td>Kant</td>\n",
              "      <td>german_idealism</td>\n",
              "      <td>(The, second, part, of, the, transcendental, logic, must, therefore, be, a, critique, of, this, dialectical, illusion, ,, and, is, called, transcendental, dialectic, ,, not, as, an, art, of, dogma...</td>\n",
              "      <td>The second part of the transcendental logic must therefore be a critique of this dialectical illusion, and is called transcendental dialectic, not as an art of dogmatically arousing such il lusion...</td>\n",
              "      <td>1781.0</td>\n",
              "      <td>1998.0</td>\n",
              "      <td>679</td>\n",
              "      <td>the second part of the transcendental logic must therefore be a critique of this dialectical illusion, and is called transcendental dialectic, not as an art of dogmatically arousing such il lusion...</td>\n",
              "    </tr>\n",
              "    <tr>\n",
              "      <th>317679</th>\n",
              "      <td>Elements Of The Philosophy Of Right</td>\n",
              "      <td>Hegel</td>\n",
              "      <td>german_idealism</td>\n",
              "      <td>(The, buds, have, the, tree, within, Ciand, il, coiitain, its, entire, strength, ,, although, they, are, not, yet, the, tree, itself, .)</td>\n",
              "      <td>The buds have the tree within Ciand il coiitain its entire strength, although they are not yet the tree itself.</td>\n",
              "      <td>1820.0</td>\n",
              "      <td>1991.0</td>\n",
              "      <td>111</td>\n",
              "      <td>the buds have the tree within ciand il coiitain its entire strength, although they are not yet the tree itself.</td>\n",
              "    </tr>\n",
              "    <tr>\n",
              "      <th>320862</th>\n",
              "      <td>Elements Of The Philosophy Of Right</td>\n",
              "      <td>Hegel</td>\n",
              "      <td>german_idealism</td>\n",
              "      <td>(rather, than, des, Bosen, (, ', e, il, in, general, ', ))</td>\n",
              "      <td>rather than des Bosen ('e il in general ')</td>\n",
              "      <td>1820.0</td>\n",
              "      <td>1991.0</td>\n",
              "      <td>42</td>\n",
              "      <td>rather than des bosen ('e il in general ')</td>\n",
              "    </tr>\n",
              "    <tr>\n",
              "      <th>324549</th>\n",
              "      <td>Capital</td>\n",
              "      <td>Marx</td>\n",
              "      <td>communism</td>\n",
              "      <td>(colla, mano, dell'uomo, il, glutine, di, un, insetto, si, trasmuti, in, velluto, ovvero, alcuni, pezzetti, di, metalio)</td>\n",
              "      <td>colla mano dell'uomo il glutine di un insetto si trasmuti in velluto ovvero alcuni pezzetti di metalio</td>\n",
              "      <td>1883.0</td>\n",
              "      <td>1887.0</td>\n",
              "      <td>102</td>\n",
              "      <td>colla mano dell'uomo il glutine di un insetto si trasmuti in velluto ovvero alcuni pezzetti di metalio</td>\n",
              "    </tr>\n",
              "    <tr>\n",
              "      <th>324702</th>\n",
              "      <td>Capital</td>\n",
              "      <td>Marx</td>\n",
              "      <td>communism</td>\n",
              "      <td>(des, hommes, tandis, que, leur, propre, religion, est, une, emanation, de, Dieu, Ainsi, il, a, eu, de, l'histoire, ,)</td>\n",
              "      <td>des hommes tandis que leur propre religion est une emanation de Dieu Ainsi il a eu de l'histoire,</td>\n",
              "      <td>1883.0</td>\n",
              "      <td>1887.0</td>\n",
              "      <td>97</td>\n",
              "      <td>des hommes tandis que leur propre religion est une emanation de dieu ainsi il a eu de l'histoire,</td>\n",
              "    </tr>\n",
              "    <tr>\n",
              "      <th>324930</th>\n",
              "      <td>Capital</td>\n",
              "      <td>Marx</td>\n",
              "      <td>communism</td>\n",
              "      <td>(L'argent, n'est, pas, simple, signe, ,, car, il, est, lui, meme, richesse, ,, il, ne, repr, sente, pas, les, valeurs, ,, il, les, quivaut, .)</td>\n",
              "      <td>L'argent n'est pas simple signe, car il est lui meme richesse, il ne repr sente pas les valeurs, il les quivaut.</td>\n",
              "      <td>1883.0</td>\n",
              "      <td>1887.0</td>\n",
              "      <td>112</td>\n",
              "      <td>l'argent n'est pas simple signe, car il est lui meme richesse, il ne repr sente pas les valeurs, il les quivaut.</td>\n",
              "    </tr>\n",
              "    <tr>\n",
              "      <th>324938</th>\n",
              "      <td>Capital</td>\n",
              "      <td>Marx</td>\n",
              "      <td>communism</td>\n",
              "      <td>(tat, ,, la, provision, et, toute, l'ordonnance, des, monnaies, ,, de, donner, tel, cours, ,, et, pour, tel, prix, comme, il, nous, plait, et, bon, nous, semble, .)</td>\n",
              "      <td>tat, la provision et toute l'ordonnance des monnaies, de donner tel cours, et pour tel prix comme il nous plait et bon nous semble.</td>\n",
              "      <td>1883.0</td>\n",
              "      <td>1887.0</td>\n",
              "      <td>131</td>\n",
              "      <td>tat, la provision et toute l'ordonnance des monnaies, de donner tel cours, et pour tel prix comme il nous plait et bon nous semble.</td>\n",
              "    </tr>\n",
              "    <tr>\n",
              "      <th>324944</th>\n",
              "      <td>Capital</td>\n",
              "      <td>Marx</td>\n",
              "      <td>communism</td>\n",
              "      <td>(Saggio, sopra, il, giusto, pregio, delle, cose, ,, Custodi, Parte, Moderna, ,, .)</td>\n",
              "      <td>Saggio sopra il giusto pregio delle cose, Custodi Parte Moderna,.</td>\n",
              "      <td>1883.0</td>\n",
              "      <td>1887.0</td>\n",
              "      <td>65</td>\n",
              "      <td>saggio sopra il giusto pregio delle cose, custodi parte moderna,.</td>\n",
              "    </tr>\n",
              "    <tr>\n",
              "      <th>325725</th>\n",
              "      <td>Capital</td>\n",
              "      <td>Marx</td>\n",
              "      <td>communism</td>\n",
              "      <td>(Ou, bien, ,, il, faut, consentir, dire, qu'une, valeur, d'un, million, en, argent, vaut, plus, qu'une, valeur, gale, en, merchandises, .)</td>\n",
              "      <td>Ou bien, il faut consentir dire qu'une valeur d'un million en argent vaut plus qu'une valeur gale en merchandises.</td>\n",
              "      <td>1883.0</td>\n",
              "      <td>1887.0</td>\n",
              "      <td>114</td>\n",
              "      <td>ou bien, il faut consentir dire qu'une valeur d'un million en argent vaut plus qu'une valeur gale en merchandises.</td>\n",
              "    </tr>\n",
              "    <tr>\n",
              "      <th>325753</th>\n",
              "      <td>Capital</td>\n",
              "      <td>Marx</td>\n",
              "      <td>communism</td>\n",
              "      <td>(Pour, avoir, cet, argent, ,, il, faut, avoir, vendu, ,, ., ,, .)</td>\n",
              "      <td>Pour avoir cet argent, il faut avoir vendu, .,.</td>\n",
              "      <td>1883.0</td>\n",
              "      <td>1887.0</td>\n",
              "      <td>47</td>\n",
              "      <td>pour avoir cet argent, il faut avoir vendu, .,.</td>\n",
              "    </tr>\n",
              "    <tr>\n",
              "      <th>325757</th>\n",
              "      <td>Capital</td>\n",
              "      <td>Marx</td>\n",
              "      <td>communism</td>\n",
              "      <td>(que, nous, pouvons, sirer, d'acheter, ,, il, repr, sente, aussi, les, choses)</td>\n",
              "      <td>que nous pouvons sirer d'acheter, il repr sente aussi les choses</td>\n",
              "      <td>1883.0</td>\n",
              "      <td>1887.0</td>\n",
              "      <td>64</td>\n",
              "      <td>que nous pouvons sirer d'acheter, il repr sente aussi les choses</td>\n",
              "    </tr>\n",
              "    <tr>\n",
              "      <th>325840</th>\n",
              "      <td>Capital</td>\n",
              "      <td>Marx</td>\n",
              "      <td>communism</td>\n",
              "      <td>(vent, il, est, cenain, que, chaque, denr, ou, merchandise, ,, en, paniculier, ,)</td>\n",
              "      <td>vent il est cenain que chaque denr ou merchandise, en paniculier,</td>\n",
              "      <td>1883.0</td>\n",
              "      <td>1887.0</td>\n",
              "      <td>65</td>\n",
              "      <td>vent il est cenain que chaque denr ou merchandise, en paniculier,</td>\n",
              "    </tr>\n",
              "    <tr>\n",
              "      <th>325931</th>\n",
              "      <td>Capital</td>\n",
              "      <td>Marx</td>\n",
              "      <td>communism</td>\n",
              "      <td>(quanto, pi, si, pu, il, numero, de'venditori, d'ogni, merce, ,)</td>\n",
              "      <td>quanto pi si pu il numero de'venditori d'ogni merce,</td>\n",
              "      <td>1883.0</td>\n",
              "      <td>1887.0</td>\n",
              "      <td>52</td>\n",
              "      <td>quanto pi si pu il numero de'venditori d'ogni merce,</td>\n",
              "    </tr>\n",
              "    <tr>\n",
              "      <th>325932</th>\n",
              "      <td>Capital</td>\n",
              "      <td>Marx</td>\n",
              "      <td>communism</td>\n",
              "      <td>(diminuere, quanto, pi, si, puo, il, numero, dei, compratori, ,, quest, ), sono, cardini, sui, quali, si, raggirano, tutte, le, operazioni, di, economia, politica, .)</td>\n",
              "      <td>diminuere quanto pi si puo il numero dei compratori, quest) sono cardini sui quali si raggirano tutte le operazioni di economia politica.</td>\n",
              "      <td>1883.0</td>\n",
              "      <td>1887.0</td>\n",
              "      <td>137</td>\n",
              "      <td>diminuere quanto pi si puo il numero dei compratori, quest) sono cardini sui quali si raggirano tutte le operazioni di economia politica.</td>\n",
              "    </tr>\n",
              "    <tr>\n",
              "      <th>326254</th>\n",
              "      <td>Capital</td>\n",
              "      <td>Marx</td>\n",
              "      <td>communism</td>\n",
              "      <td>(Si, l'on, gagnait, longtemps, en, tout, avec, tous, ,, il, faudrait, rendre, de, bon, accord, les, plus, grandes, parties)</td>\n",
              "      <td>Si l'on gagnait longtemps en tout avec tous, il faudrait rendre de bon accord les plus grandes parties</td>\n",
              "      <td>1883.0</td>\n",
              "      <td>1887.0</td>\n",
              "      <td>102</td>\n",
              "      <td>si l'on gagnait longtemps en tout avec tous, il faudrait rendre de bon accord les plus grandes parties</td>\n",
              "    </tr>\n",
              "    <tr>\n",
              "      <th>326292</th>\n",
              "      <td>Capital</td>\n",
              "      <td>Marx</td>\n",
              "      <td>communism</td>\n",
              "      <td>(mercante, non, conta, quasi, per, niente, il, lucro, fatto, ,, ma, mira, sempre, al, futuro, .)</td>\n",
              "      <td>mercante non conta quasi per niente il lucro fatto, ma mira sempre al futuro.</td>\n",
              "      <td>1883.0</td>\n",
              "      <td>1887.0</td>\n",
              "      <td>77</td>\n",
              "      <td>mercante non conta quasi per niente il lucro fatto, ma mira sempre al futuro.</td>\n",
              "    </tr>\n",
              "    <tr>\n",
              "      <th>326519</th>\n",
              "      <td>Capital</td>\n",
              "      <td>Marx</td>\n",
              "      <td>communism</td>\n",
              "      <td>(soci, form, il, n'y, a, pas, de, surabondant, en, aucun, genre, .)</td>\n",
              "      <td>soci form il n'y a pas de surabondant en aucun genre.</td>\n",
              "      <td>1883.0</td>\n",
              "      <td>1887.0</td>\n",
              "      <td>53</td>\n",
              "      <td>soci form il n'y a pas de surabondant en aucun genre.</td>\n",
              "    </tr>\n",
              "    <tr>\n",
              "      <th>329909</th>\n",
              "      <td>Capital</td>\n",
              "      <td>Marx</td>\n",
              "      <td>communism</td>\n",
              "      <td>(En, tout, genre, de, travail, il, doit, arriver, ,)</td>\n",
              "      <td>En tout genre de travail il doit arriver,</td>\n",
              "      <td>1883.0</td>\n",
              "      <td>1887.0</td>\n",
              "      <td>41</td>\n",
              "      <td>en tout genre de travail il doit arriver,</td>\n",
              "    </tr>\n",
              "    <tr>\n",
              "      <th>330161</th>\n",
              "      <td>Capital</td>\n",
              "      <td>Marx</td>\n",
              "      <td>communism</td>\n",
              "      <td>(Des, ma, ons, par, exemple, ,, occup, faire, passer, de, mains, en, mains, des, briques, un, chafaudage, sup, rieur, ,, font, tous, la, me, besogne, ,, et, pourtant, il, existe, parmi, eux, une, ...</td>\n",
              "      <td>Des ma ons par exemple, occup faire passer de mains en mains des briques un chafaudage sup rieur, font tous la me besogne, et pourtant il existe parmi eux une esp ce de division de travail,</td>\n",
              "      <td>1883.0</td>\n",
              "      <td>1887.0</td>\n",
              "      <td>189</td>\n",
              "      <td>des ma ons par exemple, occup faire passer de mains en mains des briques un chafaudage sup rieur, font tous la me besogne, et pourtant il existe parmi eux une esp ce de division de travail,</td>\n",
              "    </tr>\n",
              "    <tr>\n",
              "      <th>330170</th>\n",
              "      <td>Capital</td>\n",
              "      <td>Marx</td>\n",
              "      <td>communism</td>\n",
              "      <td>(Est, il, question, d'ex)</td>\n",
              "      <td>Est il question d'ex</td>\n",
              "      <td>1883.0</td>\n",
              "      <td>1887.0</td>\n",
              "      <td>20</td>\n",
              "      <td>est il question d'ex</td>\n",
              "    </tr>\n",
              "    <tr>\n",
              "      <th>330199</th>\n",
              "      <td>Capital</td>\n",
              "      <td>Marx</td>\n",
              "      <td>communism</td>\n",
              "      <td>(a, che, le, forze, per, essere, riunite, possono, diminuere, il, tempo, ed, accrescere, lo, spazio, della, loro, azione, .)</td>\n",
              "      <td>a che le forze per essere riunite possono diminuere il tempo ed accrescere lo spazio della loro azione.</td>\n",
              "      <td>1883.0</td>\n",
              "      <td>1887.0</td>\n",
              "      <td>103</td>\n",
              "      <td>a che le forze per essere riunite possono diminuere il tempo ed accrescere lo spazio della loro azione.</td>\n",
              "    </tr>\n",
              "    <tr>\n",
              "      <th>333261</th>\n",
              "      <td>Capital</td>\n",
              "      <td>Marx</td>\n",
              "      <td>communism</td>\n",
              "      <td>(En, quoi, l'effet, d'une, machine, diff, re, il, de, celui, de, nouveaux, habitants, ?)</td>\n",
              "      <td>En quoi l'effet d'une machine diff re il de celui de nouveaux habitants?</td>\n",
              "      <td>1883.0</td>\n",
              "      <td>1887.0</td>\n",
              "      <td>72</td>\n",
              "      <td>en quoi l'effet d'une machine diff re il de celui de nouveaux habitants?</td>\n",
              "    </tr>\n",
              "    <tr>\n",
              "      <th>335973</th>\n",
              "      <td>Capital</td>\n",
              "      <td>Marx</td>\n",
              "      <td>communism</td>\n",
              "      <td>(bien, li, ,, sates, laquelle, il, est, impossible, ,, je, le, clare, ,, d'expliquer, les, plus, grandes, difficult, de, l, ', conomie, politique, ,, et, notamment, ,, comment)</td>\n",
              "      <td>bien li, sates laquelle il est impossible, je le clare, d'expliquer les plus grandes difficult de l' conomie politique, et notamment, comment</td>\n",
              "      <td>1883.0</td>\n",
              "      <td>1887.0</td>\n",
              "      <td>141</td>\n",
              "      <td>bien li, sates laquelle il est impossible, je le clare, d'expliquer les plus grandes difficult de l' conomie politique, et notamment, comment</td>\n",
              "    </tr>\n",
              "    <tr>\n",
              "      <th>336470</th>\n",
              "      <td>Capital</td>\n",
              "      <td>Marx</td>\n",
              "      <td>communism</td>\n",
              "      <td>((, il, bene, ed, il, male, economico, in, una, nazione, sempre, all, ,, istessa, misura, ))</td>\n",
              "      <td>(il bene ed il male economico in una nazione sempre all, istessa misura)</td>\n",
              "      <td>1883.0</td>\n",
              "      <td>1887.0</td>\n",
              "      <td>72</td>\n",
              "      <td>(il bene ed il male economico in una nazione sempre all, istessa misura)</td>\n",
              "    </tr>\n",
              "    <tr>\n",
              "      <th>337734</th>\n",
              "      <td>Capital</td>\n",
              "      <td>Marx</td>\n",
              "      <td>communism</td>\n",
              "      <td>(a, veloppement, des, forces, productives, ,, il, a, une, force, productive, de, pression, ;, que, ces, rapports, ne, produisent, la, richesse, bourgeoise, ,, c'est, dire, la, richesse, de, la, cl...</td>\n",
              "      <td>a veloppement des forces productives, il a une force productive de pression; que ces rapports ne produisent la richesse bourgeoise, c'est dire la richesse de la classe bourgeoise, qu'en an antissa...</td>\n",
              "      <td>1883.0</td>\n",
              "      <td>1887.0</td>\n",
              "      <td>317</td>\n",
              "      <td>a veloppement des forces productives, il a une force productive de pression; que ces rapports ne produisent la richesse bourgeoise, c'est dire la richesse de la classe bourgeoise, qu'en an antissa...</td>\n",
              "    </tr>\n",
              "    <tr>\n",
              "      <th>337757</th>\n",
              "      <td>Capital</td>\n",
              "      <td>Marx</td>\n",
              "      <td>communism</td>\n",
              "      <td>(Les, nations, pauvres, ,, c'est, le, peuple, est, son, aise, ;, et, les, nations, riches, ,, c'est, il, est, ordinairement, pauvre, .)</td>\n",
              "      <td>Les nations pauvres, c'est le peuple est son aise; et les nations riches, c'est il est ordinairement pauvre.</td>\n",
              "      <td>1883.0</td>\n",
              "      <td>1887.0</td>\n",
              "      <td>108</td>\n",
              "      <td>les nations pauvres, c'est le peuple est son aise; et les nations riches, c'est il est ordinairement pauvre.</td>\n",
              "    </tr>\n",
              "    <tr>\n",
              "      <th>338574</th>\n",
              "      <td>Capital</td>\n",
              "      <td>Marx</td>\n",
              "      <td>communism</td>\n",
              "      <td>(et, pour, comble, de, ruine, ,, il, n'ose)</td>\n",
              "      <td>et pour comble de ruine, il n'ose</td>\n",
              "      <td>1883.0</td>\n",
              "      <td>1887.0</td>\n",
              "      <td>33</td>\n",
              "      <td>et pour comble de ruine, il n'ose</td>\n",
              "    </tr>\n",
              "    <tr>\n",
              "      <th>338575</th>\n",
              "      <td>Capital</td>\n",
              "      <td>Marx</td>\n",
              "      <td>communism</td>\n",
              "      <td>(pas, vendre, sea, productions, et, comme, il, le, veut, ;)</td>\n",
              "      <td>pas vendre sea productions et comme il le veut;</td>\n",
              "      <td>1883.0</td>\n",
              "      <td>1887.0</td>\n",
              "      <td>47</td>\n",
              "      <td>pas vendre sea productions et comme il le veut;</td>\n",
              "    </tr>\n",
              "    <tr>\n",
              "      <th>338582</th>\n",
              "      <td>Capital</td>\n",
              "      <td>Marx</td>\n",
              "      <td>communism</td>\n",
              "      <td>(En, il, travaille, comme, un, forcat, au, labourage, et, la, colte, ;, il, se, couche, heures)</td>\n",
              "      <td>En il travaille comme un forcat au labourage et la colte; il se couche heures</td>\n",
              "      <td>1883.0</td>\n",
              "      <td>1887.0</td>\n",
              "      <td>77</td>\n",
              "      <td>en il travaille comme un forcat au labourage et la colte; il se couche heures</td>\n",
              "    </tr>\n",
              "    <tr>\n",
              "      <th>338583</th>\n",
              "      <td>Capital</td>\n",
              "      <td>Marx</td>\n",
              "      <td>communism</td>\n",
              "      <td>(et, se, ve, deux, ,, pour, suffire, aux, travaux, ;, en, hiver, il, devrait, parer, ses, forces, par, un, plus, grand, repos)</td>\n",
              "      <td>et se ve deux, pour suffire aux travaux; en hiver il devrait parer ses forces par un plus grand repos</td>\n",
              "      <td>1883.0</td>\n",
              "      <td>1887.0</td>\n",
              "      <td>101</td>\n",
              "      <td>et se ve deux, pour suffire aux travaux; en hiver il devrait parer ses forces par un plus grand repos</td>\n",
              "    </tr>\n",
              "    <tr>\n",
              "      <th>338588</th>\n",
              "      <td>Capital</td>\n",
              "      <td>Marx</td>\n",
              "      <td>communism</td>\n",
              "      <td>(et, se, ve, cinq, on, six, ;, on, bien, il, se, couche, neuf, ,, et)</td>\n",
              "      <td>et se ve cinq on six; on bien il se couche neuf, et</td>\n",
              "      <td>1883.0</td>\n",
              "      <td>1887.0</td>\n",
              "      <td>51</td>\n",
              "      <td>et se ve cinq on six; on bien il se couche neuf, et</td>\n",
              "    </tr>\n",
              "    <tr>\n",
              "      <th>339145</th>\n",
              "      <td>Capital</td>\n",
              "      <td>Marx</td>\n",
              "      <td>communism</td>\n",
              "      <td>(Si, les, Tartares, inondaient, I'Europe, aujourd'hui, ,, il, faudrait, bien, des, affaires, pour, leur, faire, entendre, ce, que, c'est, qu'un, financier, parmi, nous, .)</td>\n",
              "      <td>Si les Tartares inondaient I'Europe aujourd'hui, il faudrait bien des affaires pour leur faire entendre ce que c'est qu'un financier parmi nous.</td>\n",
              "      <td>1883.0</td>\n",
              "      <td>1887.0</td>\n",
              "      <td>144</td>\n",
              "      <td>si les tartares inondaient i'europe aujourd'hui, il faudrait bien des affaires pour leur faire entendre ce que c'est qu'un financier parmi nous.</td>\n",
              "    </tr>\n",
              "    <tr>\n",
              "      <th>367876</th>\n",
              "      <td>Beyond Good And Evil</td>\n",
              "      <td>Nietzsche</td>\n",
              "      <td>nietzsche</td>\n",
              "      <td>(There, is, something, ticklish, in, the, truth, ,, and, in, the, for, the, truth, ;, and, if, man, goes, about, it, too, humanely, il, ne, cherche, le, vrai, que, pour, faire, le, bien)</td>\n",
              "      <td>There is something ticklish in the truth, and in the for the truth; and if man goes about it too humanely il ne cherche le vrai que pour faire le bien</td>\n",
              "      <td>1886.0</td>\n",
              "      <td>2003.0</td>\n",
              "      <td>150</td>\n",
              "      <td>there is something ticklish in the truth, and in the for the truth; and if man goes about it too humanely il ne cherche le vrai que pour faire le bien</td>\n",
              "    </tr>\n",
              "    <tr>\n",
              "      <th>367908</th>\n",
              "      <td>Beyond Good And Evil</td>\n",
              "      <td>Nietzsche</td>\n",
              "      <td>nietzsche</td>\n",
              "      <td>(Pour, etre, bon, philosophe, ,, says, this, last, great, psychologist, ,, il, faut, etre, sec, ,, clair, ,, sans, illusion, .)</td>\n",
              "      <td>Pour etre bon philosophe, says this last great psychologist, il faut etre sec, clair, sans illusion.</td>\n",
              "      <td>1886.0</td>\n",
              "      <td>2003.0</td>\n",
              "      <td>100</td>\n",
              "      <td>pour etre bon philosophe, says this last great psychologist, il faut etre sec, clair, sans illusion.</td>\n",
              "    </tr>\n",
              "    <tr>\n",
              "      <th>371483</th>\n",
              "      <td>Twilight Of The Idols</td>\n",
              "      <td>Nietzsche</td>\n",
              "      <td>nietzsche</td>\n",
              "      <td>(Formerly, ,, owing, to, the, stupidity, inherent, in, passion, ,, men, waged, war, against, passion, itself, :, men, pledged, themselves, to, annihilate, it, ,, all, ancient, moral, mongers, were...</td>\n",
              "      <td>Formerly, owing to the stupidity inherent in passion, men waged war against passion itself: men pledged themselves to annihilate it, all ancient moral mongers were unanimous on this point, il faut...</td>\n",
              "      <td>1888.0</td>\n",
              "      <td>2016.0</td>\n",
              "      <td>215</td>\n",
              "      <td>formerly, owing to the stupidity inherent in passion, men waged war against passion itself: men pledged themselves to annihilate it, all ancient moral mongers were unanimous on this point, il faut...</td>\n",
              "    </tr>\n",
              "    <tr>\n",
              "      <th>372467</th>\n",
              "      <td>Twilight Of The Idols</td>\n",
              "      <td>Nietzsche</td>\n",
              "      <td>nietzsche</td>\n",
              "      <td>(It, has, been, said, ,, and, not, without, subtlety, :, il, est, indigne, des, grands, cœurs, de, pandre, le, trouble)</td>\n",
              "      <td>It has been said, and not without subtlety: il est indigne des grands cœurs de pandre le trouble</td>\n",
              "      <td>1888.0</td>\n",
              "      <td>2016.0</td>\n",
              "      <td>96</td>\n",
              "      <td>it has been said, and not without subtlety: il est indigne des grands cœurs de pandre le trouble</td>\n",
              "    </tr>\n",
              "  </tbody>\n",
              "</table>\n",
              "</div>"
            ],
            "text/plain": [
              "                                      title  ...                                                                                                                                                                                         sentence_lowered\n",
              "132863                             Theodicy  ...  lor moto sempre insieme s'aggruppa, dall' antico sempre con ordin certo il nuovo nasce; ne tracciando primi semi, fanno di moto un tal principio, il qual poi rompa i decreti del fato, acci non seg...\n",
              "132864                             Theodicy  ...  i moti ancora si declinan sovente, non in tempo certo, ne certa region, solo quando dove commanda il nostro arbitrio; poiche senz' alcun dubbio queste cose sol principio il voler proprio, quindi v...\n",
              "136927               The Search After Truth  ...                                                                                                                           this is the order we observe in this treatise: il is divided into three parts.\n",
              "139476               The Search After Truth  ...  both what they are and what they are thinking (which i really do not bel, i warn that it is only because i desire to dispute the this paragraph is italicized because you may omil il as being difli...\n",
              "140989               The Search After Truth  ...                                                       but perhaps il would be appropriate to speak of their quotations, which will enable us to understand to some extent the disposition of their mind.\n",
              "144030               The Search After Truth  ...                                                                                                                                                                                 illisl' il nul utnpkll'.\n",
              "147215               The Search After Truth  ...                                                                                                                                 regarding those of arnauld in the second volume of the il of my replies.\n",
              "180401                         Quintessence  ...                                                                                                                                               oh,et de conteml,ier eternellement il pro/jre l( il' brti.\n",
              "185683                         Quintessence  ...                               the ca rtesian quest for certainty had been the remote motivation of epistemology, both il its conceptual and its doctrinal side; but that quest was seen as a lost cause.\n",
              "200891               Philosophical Troubles  ...                                                                                                                                            if god did not exist, voltaire said, il faudrait l'inventer.'\n",
              "236377            Difference And Repetition  ...                                                                                                                                                                                 qu'en est il de i'etre?.\n",
              "241662                         Anti-Oedipus  ...    but ethnologists observe how difficult it is to distinguish those protoclasses from the castes organized by the il ial mach.ine and from the rankings distributed by the segmentary prmutrve machine.\n",
              "262671                       Being And Time  ...                                                                                                                 what is at hand is discovered as such in its serviceability usab il ity, detrimentality.\n",
              "270702                 Off The Beaten Track  ...                                                                                                                        of all things (those, namely, that man has around him in use and usage, il .lcrra\n",
              "272357                 Off The Beaten Track  ...                                 aristotle characterizes the contem plation of beings as beings as hna il a way in which our seeing and perceiving stands by, that is, stands by what is present as such.\n",
              "283925              Critique Of Pure Reason  ...  this is evidently the effect not of the thoughtlessness of our age, but of its ripened power of judgment, which will no longer be put off with il now and again one hears complaints about the super...\n",
              "285427              Critique Of Pure Reason  ...  the second part of the transcendental logic must therefore be a critique of this dialectical illusion, and is called transcendental dialectic, not as an art of dogmatically arousing such il lusion...\n",
              "317679  Elements Of The Philosophy Of Right  ...                                                                                          the buds have the tree within ciand il coiitain its entire strength, although they are not yet the tree itself.\n",
              "320862  Elements Of The Philosophy Of Right  ...                                                                                                                                                               rather than des bosen ('e il in general ')\n",
              "324549                              Capital  ...                                                                                                   colla mano dell'uomo il glutine di un insetto si trasmuti in velluto ovvero alcuni pezzetti di metalio\n",
              "324702                              Capital  ...                                                                                                        des hommes tandis que leur propre religion est une emanation de dieu ainsi il a eu de l'histoire,\n",
              "324930                              Capital  ...                                                                                         l'argent n'est pas simple signe, car il est lui meme richesse, il ne repr sente pas les valeurs, il les quivaut.\n",
              "324938                              Capital  ...                                                                      tat, la provision et toute l'ordonnance des monnaies, de donner tel cours, et pour tel prix comme il nous plait et bon nous semble.\n",
              "324944                              Capital  ...                                                                                                                                        saggio sopra il giusto pregio delle cose, custodi parte moderna,.\n",
              "325725                              Capital  ...                                                                                       ou bien, il faut consentir dire qu'une valeur d'un million en argent vaut plus qu'une valeur gale en merchandises.\n",
              "325753                              Capital  ...                                                                                                                                                          pour avoir cet argent, il faut avoir vendu, .,.\n",
              "325757                              Capital  ...                                                                                                                                         que nous pouvons sirer d'acheter, il repr sente aussi les choses\n",
              "325840                              Capital  ...                                                                                                                                        vent il est cenain que chaque denr ou merchandise, en paniculier,\n",
              "325931                              Capital  ...                                                                                                                                                     quanto pi si pu il numero de'venditori d'ogni merce,\n",
              "325932                              Capital  ...                                                                diminuere quanto pi si puo il numero dei compratori, quest) sono cardini sui quali si raggirano tutte le operazioni di economia politica.\n",
              "326254                              Capital  ...                                                                                                   si l'on gagnait longtemps en tout avec tous, il faudrait rendre de bon accord les plus grandes parties\n",
              "326292                              Capital  ...                                                                                                                            mercante non conta quasi per niente il lucro fatto, ma mira sempre al futuro.\n",
              "326519                              Capital  ...                                                                                                                                                    soci form il n'y a pas de surabondant en aucun genre.\n",
              "329909                              Capital  ...                                                                                                                                                                en tout genre de travail il doit arriver,\n",
              "330161                              Capital  ...            des ma ons par exemple, occup faire passer de mains en mains des briques un chafaudage sup rieur, font tous la me besogne, et pourtant il existe parmi eux une esp ce de division de travail,\n",
              "330170                              Capital  ...                                                                                                                                                                                     est il question d'ex\n",
              "330199                              Capital  ...                                                                                                  a che le forze per essere riunite possono diminuere il tempo ed accrescere lo spazio della loro azione.\n",
              "333261                              Capital  ...                                                                                                                                 en quoi l'effet d'une machine diff re il de celui de nouveaux habitants?\n",
              "335973                              Capital  ...                                                            bien li, sates laquelle il est impossible, je le clare, d'expliquer les plus grandes difficult de l' conomie politique, et notamment, comment\n",
              "336470                              Capital  ...                                                                                                                                 (il bene ed il male economico in una nazione sempre all, istessa misura)\n",
              "337734                              Capital  ...  a veloppement des forces productives, il a une force productive de pression; que ces rapports ne produisent la richesse bourgeoise, c'est dire la richesse de la classe bourgeoise, qu'en an antissa...\n",
              "337757                              Capital  ...                                                                                             les nations pauvres, c'est le peuple est son aise; et les nations riches, c'est il est ordinairement pauvre.\n",
              "338574                              Capital  ...                                                                                                                                                                        et pour comble de ruine, il n'ose\n",
              "338575                              Capital  ...                                                                                                                                                          pas vendre sea productions et comme il le veut;\n",
              "338582                              Capital  ...                                                                                                                            en il travaille comme un forcat au labourage et la colte; il se couche heures\n",
              "338583                              Capital  ...                                                                                                    et se ve deux, pour suffire aux travaux; en hiver il devrait parer ses forces par un plus grand repos\n",
              "338588                              Capital  ...                                                                                                                                                      et se ve cinq on six; on bien il se couche neuf, et\n",
              "339145                              Capital  ...                                                         si les tartares inondaient i'europe aujourd'hui, il faudrait bien des affaires pour leur faire entendre ce que c'est qu'un financier parmi nous.\n",
              "367876                 Beyond Good And Evil  ...                                                   there is something ticklish in the truth, and in the for the truth; and if man goes about it too humanely il ne cherche le vrai que pour faire le bien\n",
              "367908                 Beyond Good And Evil  ...                                                                                                     pour etre bon philosophe, says this last great psychologist, il faut etre sec, clair, sans illusion.\n",
              "371483                Twilight Of The Idols  ...  formerly, owing to the stupidity inherent in passion, men waged war against passion itself: men pledged themselves to annihilate it, all ancient moral mongers were unanimous on this point, il faut...\n",
              "372467                Twilight Of The Idols  ...                                                                                                         it has been said, and not without subtlety: il est indigne des grands cœurs de pandre le trouble\n",
              "\n",
              "[52 rows x 9 columns]"
            ]
          },
          "metadata": {
            "tags": []
          },
          "execution_count": 74
        }
      ]
    },
    {
      "cell_type": "code",
      "metadata": {
        "colab": {
          "base_uri": "https://localhost:8080/"
        },
        "id": "-ER9muOkw-qu",
        "outputId": "fe18aac2-5981-4d54-912e-fd61356975a5"
      },
      "source": [
        "df = df.drop(df[df['sentence_str'].str.contains('\\sil\\s')].index)\n",
        "\n",
        "len(df)"
      ],
      "execution_count": null,
      "outputs": [
        {
          "output_type": "execute_result",
          "data": {
            "text/plain": [
              "361149"
            ]
          },
          "metadata": {
            "tags": []
          },
          "execution_count": 75
        }
      ]
    },
    {
      "cell_type": "markdown",
      "metadata": {
        "id": "0jsR1QpNNlNJ"
      },
      "source": [
        "#### Some Ad Hoc Cleaning"
      ]
    },
    {
      "cell_type": "code",
      "metadata": {
        "colab": {
          "base_uri": "https://localhost:8080/"
        },
        "id": "b1sF0lzxw-zd",
        "outputId": "c77fe29c-ea6f-4fc3-9cc3-f95696a08e80"
      },
      "source": [
        "# miscellaneous nonsense sentences\n",
        "df = df.drop(df[df['sentence_str'].str.contains('\\spp\\s')].index)\n",
        "df = df.drop(df[df['sentence_str'].str.contains('\\stotam\\s')].index)\n",
        "df = df.drop(df[df['sentence_str'].str.contains('\\srree\\s')].index)\n",
        "df = df.drop(df[df['sentence_str'].str.contains('\\sflir\\s')].index)\n",
        "df = df.drop(df[(df['sentence_str'].str.contains('\\smodis\\s')) & (df['author'] != 'Kant')].index)\n",
        "\n",
        "len(df)"
      ],
      "execution_count": null,
      "outputs": [
        {
          "output_type": "execute_result",
          "data": {
            "text/plain": [
              "361143"
            ]
          },
          "metadata": {
            "tags": []
          },
          "execution_count": 76
        }
      ]
    },
    {
      "cell_type": "code",
      "metadata": {
        "colab": {
          "base_uri": "https://localhost:8080/"
        },
        "id": "OqBnHZG6w-9F",
        "outputId": "82712890-dbd1-41e0-ad05-35d9af3f212f"
      },
      "source": [
        "# markers of french and notes\n",
        "df = df.drop(df[df['sentence_str'].str.contains('\\schapitre')].index)\n",
        "df = df.drop(df[df['sentence_str'].str.contains('\\salisme')].index)\n",
        "df = df.drop(df[df['sentence_str'].str.contains('\\sHahn')].index)\n",
        "\n",
        "len(df)"
      ],
      "execution_count": null,
      "outputs": [
        {
          "output_type": "execute_result",
          "data": {
            "text/plain": [
              "361126"
            ]
          },
          "metadata": {
            "tags": []
          },
          "execution_count": 77
        }
      ]
    },
    {
      "cell_type": "code",
      "metadata": {
        "colab": {
          "base_uri": "https://localhost:8080/"
        },
        "id": "Oq5I3pL4w9r7",
        "outputId": "1d3a14ba-f611-4215-bd98-03fd15bcc443"
      },
      "source": [
        "# some notes in Kant\n",
        "df = df.drop(df[df['sentence_str'].str.contains('\\sVorl\\s')].index)\n",
        "df = df.drop(df[df['sentence_str'].str.contains('\\sberschwenglich')].index)\n",
        "\n",
        "len(df)"
      ],
      "execution_count": null,
      "outputs": [
        {
          "output_type": "execute_result",
          "data": {
            "text/plain": [
              "361108"
            ]
          },
          "metadata": {
            "tags": []
          },
          "execution_count": 78
        }
      ]
    },
    {
      "cell_type": "code",
      "metadata": {
        "colab": {
          "base_uri": "https://localhost:8080/"
        },
        "id": "w3nv5S4exJXK",
        "outputId": "1b26896f-ebe7-4dd0-d4cc-5612f62262f4"
      },
      "source": [
        "# a common phrase in Plato / Aristotle footnotes\n",
        "df = df.drop(df[(df['author']=='Plato') & (df['sentence_str'].str.contains('(?i)reading')) & (df['sentence_length'] < 40)].index)\n",
        "df = df.drop(df[(df['author']=='Aristotle') & (df['sentence_str'].str.contains('(?i)reading')) & (df['sentence_length'] < 40)].index)\n",
        "\n",
        "len(df)"
      ],
      "execution_count": null,
      "outputs": [
        {
          "output_type": "execute_result",
          "data": {
            "text/plain": [
              "360834"
            ]
          },
          "metadata": {
            "tags": []
          },
          "execution_count": 79
        }
      ]
    },
    {
      "cell_type": "code",
      "metadata": {
        "colab": {
          "base_uri": "https://localhost:8080/"
        },
        "id": "dCx9E2tkdqt4",
        "outputId": "8d3a2906-5e5a-4053-fff3-205e14ac1cc0"
      },
      "source": [
        "# mentions of Aristotle in Plato\n",
        "df = df.drop(df[(df['author']=='Plato') & df['sentence_str'].str.contains('Aristotle')].index)\n",
        "\n",
        "len(df)"
      ],
      "execution_count": null,
      "outputs": [
        {
          "output_type": "execute_result",
          "data": {
            "text/plain": [
              "360808"
            ]
          },
          "metadata": {
            "tags": []
          },
          "execution_count": 80
        }
      ]
    },
    {
      "cell_type": "markdown",
      "metadata": {
        "id": "vtli1TPlNq55"
      },
      "source": [
        "### Lemmatizing, Tokenizing, and Exporting"
      ]
    },
    {
      "cell_type": "code",
      "metadata": {
        "colab": {
          "base_uri": "https://localhost:8080/"
        },
        "id": "ybCPk5oixJgd",
        "outputId": "963c16c2-4089-4649-ac8f-a0e3cdf9b62d"
      },
      "source": [
        "df['school'].value_counts(normalize=True)"
      ],
      "execution_count": null,
      "outputs": [
        {
          "output_type": "execute_result",
          "data": {
            "text/plain": [
              "analytic           0.153614\n",
              "aristotle          0.135194\n",
              "german_idealism    0.116782\n",
              "plato              0.106334\n",
              "continental        0.093620\n",
              "phenomenology      0.079192\n",
              "rationalism        0.063604\n",
              "empiricism         0.055240\n",
              "feminism           0.051648\n",
              "capitalism         0.050426\n",
              "communism          0.049772\n",
              "nietzsche          0.037549\n",
              "stoicism           0.007026\n",
              "Name: school, dtype: float64"
            ]
          },
          "metadata": {
            "tags": []
          },
          "execution_count": 81
        }
      ]
    },
    {
      "cell_type": "code",
      "metadata": {
        "id": "S1wT-MvpxJot"
      },
      "source": [
        "from gensim.utils import simple_preprocess\n",
        "\n",
        "# use gensim to tokenize sentences\n",
        "df['tokenized_txt'] = df['sentence_str'].map(lambda x: simple_preprocess(x.lower(),deacc=True,\n",
        "                                                        max_len=200))\n",
        "\n",
        "# use spacey to get intelligent lemmatization\n",
        "def lemmatize_sentence(sentence):\n",
        "  lemmatized_txt = ''\n",
        "  for word in sentence:\n",
        "    lemmatized_txt += ' ' + str(word.lemma_)\n",
        "  return lemmatized_txt"
      ],
      "execution_count": null,
      "outputs": []
    },
    {
      "cell_type": "code",
      "metadata": {
        "id": "3O3mXZKkxJxM"
      },
      "source": [
        "df['lemmatized_str'] = df['sentence_spacy'].apply(lemmatize_sentence)"
      ],
      "execution_count": null,
      "outputs": []
    },
    {
      "cell_type": "code",
      "metadata": {
        "colab": {
          "base_uri": "https://localhost:8080/"
        },
        "id": "NIAE4NYsVyrc",
        "outputId": "d35ea4a9-c624-4cc3-9fb0-3668f0c0e4f5"
      },
      "source": [
        "# cleaning up the types of the columns\n",
        "df['original_publication_date'] = df['original_publication_date'].astype(int)\n",
        "df['corpus_edition_date'] = df['corpus_edition_date'].astype(int)\n",
        "\n",
        "df.dtypes"
      ],
      "execution_count": null,
      "outputs": [
        {
          "output_type": "execute_result",
          "data": {
            "text/plain": [
              "title                        object\n",
              "author                       object\n",
              "school                       object\n",
              "sentence_spacy               object\n",
              "sentence_str                 object\n",
              "original_publication_date     int64\n",
              "corpus_edition_date           int64\n",
              "sentence_length               int64\n",
              "sentence_lowered             object\n",
              "tokenized_txt                object\n",
              "lemmatized_str               object\n",
              "dtype: object"
            ]
          },
          "metadata": {
            "tags": []
          },
          "execution_count": 87
        }
      ]
    },
    {
      "cell_type": "code",
      "metadata": {
        "colab": {
          "base_uri": "https://localhost:8080/",
          "height": 1000
        },
        "id": "mxmcq_BQxJ48",
        "outputId": "2020511b-e59b-4ef3-87a3-4bda784d2c70"
      },
      "source": [
        "df.sample(5)"
      ],
      "execution_count": null,
      "outputs": [
        {
          "output_type": "execute_result",
          "data": {
            "text/html": [
              "<div>\n",
              "<style scoped>\n",
              "    .dataframe tbody tr th:only-of-type {\n",
              "        vertical-align: middle;\n",
              "    }\n",
              "\n",
              "    .dataframe tbody tr th {\n",
              "        vertical-align: top;\n",
              "    }\n",
              "\n",
              "    .dataframe thead th {\n",
              "        text-align: right;\n",
              "    }\n",
              "</style>\n",
              "<table border=\"1\" class=\"dataframe\">\n",
              "  <thead>\n",
              "    <tr style=\"text-align: right;\">\n",
              "      <th></th>\n",
              "      <th>title</th>\n",
              "      <th>author</th>\n",
              "      <th>school</th>\n",
              "      <th>sentence_spacy</th>\n",
              "      <th>sentence_str</th>\n",
              "      <th>original_publication_date</th>\n",
              "      <th>corpus_edition_date</th>\n",
              "      <th>sentence_length</th>\n",
              "      <th>sentence_lowered</th>\n",
              "      <th>tokenized_txt</th>\n",
              "      <th>lemmatized_str</th>\n",
              "    </tr>\n",
              "  </thead>\n",
              "  <tbody>\n",
              "    <tr>\n",
              "      <th>285344</th>\n",
              "      <td>Critique Of Pure Reason</td>\n",
              "      <td>Kant</td>\n",
              "      <td>german_idealism</td>\n",
              "      <td>(But, on, this, account, one, must, not, mix, their, roles, ,, rather, one, has, great, cause, to, separate, them, carefully, from, each, other, and, distinguish, them, .)</td>\n",
              "      <td>But on this account one must not mix their roles, rather one has great cause to separate them carefully from each other and distinguish them.</td>\n",
              "      <td>1781</td>\n",
              "      <td>1998</td>\n",
              "      <td>141</td>\n",
              "      <td>but on this account one must not mix their roles, rather one has great cause to separate them carefully from each other and distinguish them.</td>\n",
              "      <td>[but, on, this, account, one, must, not, mix, their, roles, rather, one, has, great, cause, to, separate, them, carefully, from, each, other, and, distinguish, them]</td>\n",
              "      <td>but on this account one must not mix -PRON- role , rather one have great cause to separate -PRON- carefully from each other and distinguish -PRON- .</td>\n",
              "    </tr>\n",
              "    <tr>\n",
              "      <th>213860</th>\n",
              "      <td>History Of Madness</td>\n",
              "      <td>Foucault</td>\n",
              "      <td>continental</td>\n",
              "      <td>(That, serves, to, explain, the, common, Reformation, trend, where, the, property, that, belonged, to, the, church, was, turned, over, to, lay, charities, .)</td>\n",
              "      <td>That serves to explain the common Reformation trend where the property that belonged to the church was turned over to lay charities.</td>\n",
              "      <td>1961</td>\n",
              "      <td>2006</td>\n",
              "      <td>132</td>\n",
              "      <td>that serves to explain the common reformation trend where the property that belonged to the church was turned over to lay charities.</td>\n",
              "      <td>[that, serves, to, explain, the, common, reformation, trend, where, the, property, that, belonged, to, the, church, was, turned, over, to, lay, charities]</td>\n",
              "      <td>that serve to explain the common Reformation trend where the property that belong to the church be turn over to lay charity .</td>\n",
              "    </tr>\n",
              "    <tr>\n",
              "      <th>93076</th>\n",
              "      <td>Aristotle - Complete Works</td>\n",
              "      <td>Aristotle</td>\n",
              "      <td>aristotle</td>\n",
              "      <td>(The, man, who, makes, profit, from, any, source, is, greedy, of, gain, ;, the, man, who, makes, it, from, none, ,, or, perhaps, few, ,, is, a, waster, .)</td>\n",
              "      <td>The man who makes profit from any source is greedy of gain; the man who makes it from none, or perhaps few, is a waster.</td>\n",
              "      <td>-320</td>\n",
              "      <td>1991</td>\n",
              "      <td>120</td>\n",
              "      <td>the man who makes profit from any source is greedy of gain; the man who makes it from none, or perhaps few, is a waster.</td>\n",
              "      <td>[the, man, who, makes, profit, from, any, source, is, greedy, of, gain, the, man, who, makes, it, from, none, or, perhaps, few, is, waster]</td>\n",
              "      <td>the man who make profit from any source be greedy of gain ; the man who make -PRON- from none , or perhaps few , be a waster .</td>\n",
              "    </tr>\n",
              "    <tr>\n",
              "      <th>161154</th>\n",
              "      <td>Philosophical Investigations</td>\n",
              "      <td>Wittgenstein</td>\n",
              "      <td>analytic</td>\n",
              "      <td>(The, concept, ', order, ', would, have, lost, its, purpose, .)</td>\n",
              "      <td>The concept 'order' would have lost its purpose.</td>\n",
              "      <td>1953</td>\n",
              "      <td>1986</td>\n",
              "      <td>48</td>\n",
              "      <td>the concept 'order' would have lost its purpose.</td>\n",
              "      <td>[the, concept, order, would, have, lost, its, purpose]</td>\n",
              "      <td>the concept ' order ' would have lose -PRON- purpose .</td>\n",
              "    </tr>\n",
              "    <tr>\n",
              "      <th>382655</th>\n",
              "      <td>Vindication Of The Rights Of Woman</td>\n",
              "      <td>Wollstonecraft</td>\n",
              "      <td>feminism</td>\n",
              "      <td>(The, exalted, pleasure, which, intellectual, pursuits, afford, would, scarcely, be, equivalent, to, the, hours, of, languor, that, follow, ;, especially, ,, if, it, be, necessary, to, take, into,...</td>\n",
              "      <td>The exalted pleasure which intellectual pursuits afford would scarcely be equivalent to the hours of languor that follow; especially, if it be necessary to take into the reckoning the doubts and d...</td>\n",
              "      <td>1792</td>\n",
              "      <td>2001</td>\n",
              "      <td>237</td>\n",
              "      <td>the exalted pleasure which intellectual pursuits afford would scarcely be equivalent to the hours of languor that follow; especially, if it be necessary to take into the reckoning the doubts and d...</td>\n",
              "      <td>[the, exalted, pleasure, which, intellectual, pursuits, afford, would, scarcely, be, equivalent, to, the, hours, of, languor, that, follow, especially, if, it, be, necessary, to, take, into, the, ...</td>\n",
              "      <td>the exalted pleasure which intellectual pursuit afford would scarcely be equivalent to the hour of languor that follow ; especially , if -PRON- be necessary to take into the reckoning the doubt a...</td>\n",
              "    </tr>\n",
              "  </tbody>\n",
              "</table>\n",
              "</div>"
            ],
            "text/plain": [
              "                                     title  ...                                                                                                                                                                                           lemmatized_str\n",
              "285344             Critique Of Pure Reason  ...                                                     but on this account one must not mix -PRON- role , rather one have great cause to separate -PRON- carefully from each other and distinguish -PRON- .\n",
              "213860                  History Of Madness  ...                                                                            that serve to explain the common Reformation trend where the property that belong to the church be turn over to lay charity .\n",
              "93076           Aristotle - Complete Works  ...                                                                           the man who make profit from any source be greedy of gain ; the man who make -PRON- from none , or perhaps few , be a waster .\n",
              "161154        Philosophical Investigations  ...                                                                                                                                                   the concept ' order ' would have lose -PRON- purpose .\n",
              "382655  Vindication Of The Rights Of Woman  ...   the exalted pleasure which intellectual pursuit afford would scarcely be equivalent to the hour of languor that follow ; especially , if -PRON- be necessary to take into the reckoning the doubt a...\n",
              "\n",
              "[5 rows x 11 columns]"
            ]
          },
          "metadata": {
            "tags": []
          },
          "execution_count": 88
        }
      ]
    },
    {
      "cell_type": "markdown",
      "metadata": {
        "id": "FeEVIBYZN64H"
      },
      "source": [
        "Now we can export the new CSV to use in other projects. "
      ]
    },
    {
      "cell_type": "code",
      "metadata": {
        "id": "6v0M4jbUxKBt",
        "colab": {
          "base_uri": "https://localhost:8080/",
          "height": 34
        },
        "outputId": "1c375d98-ad63-40ae-c33a-c4aaef9cdb16"
      },
      "source": [
        "# export the csv\n",
        "from google.colab import files\n",
        "df.to_csv('philosophy_data.csv', index=False) \n",
        "files.download('philosophy_data.csv')"
      ],
      "execution_count": null,
      "outputs": [
        {
          "output_type": "display_data",
          "data": {
            "application/javascript": [
              "\n",
              "    async function download(id, filename, size) {\n",
              "      if (!google.colab.kernel.accessAllowed) {\n",
              "        return;\n",
              "      }\n",
              "      const div = document.createElement('div');\n",
              "      const label = document.createElement('label');\n",
              "      label.textContent = `Downloading \"${filename}\": `;\n",
              "      div.appendChild(label);\n",
              "      const progress = document.createElement('progress');\n",
              "      progress.max = size;\n",
              "      div.appendChild(progress);\n",
              "      document.body.appendChild(div);\n",
              "\n",
              "      const buffers = [];\n",
              "      let downloaded = 0;\n",
              "\n",
              "      const channel = await google.colab.kernel.comms.open(id);\n",
              "      // Send a message to notify the kernel that we're ready.\n",
              "      channel.send({})\n",
              "\n",
              "      for await (const message of channel.messages) {\n",
              "        // Send a message to notify the kernel that we're ready.\n",
              "        channel.send({})\n",
              "        if (message.buffers) {\n",
              "          for (const buffer of message.buffers) {\n",
              "            buffers.push(buffer);\n",
              "            downloaded += buffer.byteLength;\n",
              "            progress.value = downloaded;\n",
              "          }\n",
              "        }\n",
              "      }\n",
              "      const blob = new Blob(buffers, {type: 'application/binary'});\n",
              "      const a = document.createElement('a');\n",
              "      a.href = window.URL.createObjectURL(blob);\n",
              "      a.download = filename;\n",
              "      div.appendChild(a);\n",
              "      a.click();\n",
              "      div.remove();\n",
              "    }\n",
              "  "
            ],
            "text/plain": [
              "<IPython.core.display.Javascript object>"
            ]
          },
          "metadata": {
            "tags": []
          }
        },
        {
          "output_type": "display_data",
          "data": {
            "application/javascript": [
              "download(\"download_f34149e5-4a10-44b4-a621-017f28c767a2\", \"philosophy_data.csv\", 325097302)"
            ],
            "text/plain": [
              "<IPython.core.display.Javascript object>"
            ]
          },
          "metadata": {
            "tags": []
          }
        }
      ]
    },
    {
      "cell_type": "markdown",
      "metadata": {
        "id": "ZUjHGmITs37Q"
      },
      "source": [
        "With the data exported in CSV format, all that remains is to upload it to the Heroku PostgreSQL database for searching."
      ]
    },
    {
      "cell_type": "code",
      "metadata": {
        "colab": {
          "base_uri": "https://localhost:8080/",
          "height": 501
        },
        "id": "cZSrMDngBWXV",
        "outputId": "8b9a7d37-f518-4adc-c6fe-3246e739d1ba"
      },
      "source": [
        "df = pd.read_csv('/gdrive/MyDrive/Colab_Projects/philosophy_data_project/philosophy_data.csv')\n",
        "df.sample(5)"
      ],
      "execution_count": 5,
      "outputs": [
        {
          "output_type": "execute_result",
          "data": {
            "text/html": [
              "<div>\n",
              "<style scoped>\n",
              "    .dataframe tbody tr th:only-of-type {\n",
              "        vertical-align: middle;\n",
              "    }\n",
              "\n",
              "    .dataframe tbody tr th {\n",
              "        vertical-align: top;\n",
              "    }\n",
              "\n",
              "    .dataframe thead th {\n",
              "        text-align: right;\n",
              "    }\n",
              "</style>\n",
              "<table border=\"1\" class=\"dataframe\">\n",
              "  <thead>\n",
              "    <tr style=\"text-align: right;\">\n",
              "      <th></th>\n",
              "      <th>title</th>\n",
              "      <th>author</th>\n",
              "      <th>school</th>\n",
              "      <th>sentence_spacy</th>\n",
              "      <th>sentence_str</th>\n",
              "      <th>original_publication_date</th>\n",
              "      <th>corpus_edition_date</th>\n",
              "      <th>sentence_length</th>\n",
              "      <th>sentence_lowered</th>\n",
              "      <th>tokenized_txt</th>\n",
              "      <th>lemmatized_str</th>\n",
              "    </tr>\n",
              "  </thead>\n",
              "  <tbody>\n",
              "    <tr>\n",
              "      <th>34884</th>\n",
              "      <td>Plato - Complete Works</td>\n",
              "      <td>Plato</td>\n",
              "      <td>plato</td>\n",
              "      <td>Neither you nor anyone else who has got into t...</td>\n",
              "      <td>Neither you nor anyone else who has got into t...</td>\n",
              "      <td>-350</td>\n",
              "      <td>1997</td>\n",
              "      <td>249</td>\n",
              "      <td>neither you nor anyone else who has got into t...</td>\n",
              "      <td>['neither', 'you', 'nor', 'anyone', 'else', 'w...</td>\n",
              "      <td>neither -PRON- nor anyone else who have get i...</td>\n",
              "    </tr>\n",
              "    <tr>\n",
              "      <th>21600</th>\n",
              "      <td>Plato - Complete Works</td>\n",
              "      <td>Plato</td>\n",
              "      <td>plato</td>\n",
              "      <td>You're deceiving me, my dear Hippias, and are ...</td>\n",
              "      <td>You're deceiving me, my dear Hippias, and are ...</td>\n",
              "      <td>-350</td>\n",
              "      <td>1997</td>\n",
              "      <td>74</td>\n",
              "      <td>you're deceiving me, my dear hippias, and are ...</td>\n",
              "      <td>['you', 're', 'deceiving', 'me', 'my', 'dear',...</td>\n",
              "      <td>-PRON- be deceive -PRON- , -PRON- dear Hippia...</td>\n",
              "    </tr>\n",
              "    <tr>\n",
              "      <th>205684</th>\n",
              "      <td>Writing And Difference</td>\n",
              "      <td>Derrida</td>\n",
              "      <td>continental</td>\n",
              "      <td>And we shall thereby approach the very heart o...</td>\n",
              "      <td>And we shall thereby approach the very heart o...</td>\n",
              "      <td>1967</td>\n",
              "      <td>2001</td>\n",
              "      <td>59</td>\n",
              "      <td>and we shall thereby approach the very heart o...</td>\n",
              "      <td>['and', 'we', 'shall', 'thereby', 'approach', ...</td>\n",
              "      <td>and -PRON- shall thereby approach the very he...</td>\n",
              "    </tr>\n",
              "    <tr>\n",
              "      <th>342589</th>\n",
              "      <td>Vindication Of The Rights Of Woman</td>\n",
              "      <td>Wollstonecraft</td>\n",
              "      <td>feminism</td>\n",
              "      <td>have submitted to superior strength, to enjoy ...</td>\n",
              "      <td>have submitted to superior strength, to enjoy ...</td>\n",
              "      <td>1792</td>\n",
              "      <td>2001</td>\n",
              "      <td>340</td>\n",
              "      <td>have submitted to superior strength, to enjoy ...</td>\n",
              "      <td>['have', 'submitted', 'to', 'superior', 'stren...</td>\n",
              "      <td>have submit to superior strength , to enjoy w...</td>\n",
              "    </tr>\n",
              "    <tr>\n",
              "      <th>4722</th>\n",
              "      <td>Plato - Complete Works</td>\n",
              "      <td>Plato</td>\n",
              "      <td>plato</td>\n",
              "      <td>Then when a man judges, the objects of his jud...</td>\n",
              "      <td>Then when a man judges, the objects of his jud...</td>\n",
              "      <td>-350</td>\n",
              "      <td>1997</td>\n",
              "      <td>129</td>\n",
              "      <td>then when a man judges, the objects of his jud...</td>\n",
              "      <td>['then', 'when', 'man', 'judges', 'the', 'obje...</td>\n",
              "      <td>then when a man judge , the object of -PRON- ...</td>\n",
              "    </tr>\n",
              "  </tbody>\n",
              "</table>\n",
              "</div>"
            ],
            "text/plain": [
              "                                     title  ...                                     lemmatized_str\n",
              "34884               Plato - Complete Works  ...   neither -PRON- nor anyone else who have get i...\n",
              "21600               Plato - Complete Works  ...   -PRON- be deceive -PRON- , -PRON- dear Hippia...\n",
              "205684              Writing And Difference  ...   and -PRON- shall thereby approach the very he...\n",
              "342589  Vindication Of The Rights Of Woman  ...   have submit to superior strength , to enjoy w...\n",
              "4722                Plato - Complete Works  ...   then when a man judge , the object of -PRON- ...\n",
              "\n",
              "[5 rows x 11 columns]"
            ]
          },
          "metadata": {
            "tags": []
          },
          "execution_count": 5
        }
      ]
    },
    {
      "cell_type": "code",
      "metadata": {
        "id": "vJ6Wd171JZZf",
        "colab": {
          "base_uri": "https://localhost:8080/",
          "height": 195
        },
        "outputId": "fe28cdc7-a2b4-43c9-e73b-9dcc01c54963"
      },
      "source": [
        "# prepare to upload to the PostgreSQL database\n",
        "for_db = df\n",
        "for_db['date'] = for_db['original_publication_date']\n",
        "for_db['date'] = for_db['date'].apply(lambda x: str(x)[1:]+' BC' if x < 0 else str(x))\n",
        "for_db['sentence'] = for_db['sentence_str']\n",
        "for_db['school'] = for_db['school'].apply(lambda x: x.replace('_', ' ').title())\n",
        "for_db = for_db.drop(['sentence_spacy', \n",
        "                      'sentence_length',\n",
        "                      'sentence_lowered', \n",
        "                      'sentence_str', \n",
        "                      'tokenized_txt', \n",
        "                      'lemmatized_str',\n",
        "                      'corpus_edition_date',\n",
        "                      'original_publication_date'], axis=1)\n",
        "for_db.columns = [i.upper() for i in for_db.columns]\n",
        "\n",
        "for_db.sample(5)"
      ],
      "execution_count": 7,
      "outputs": [
        {
          "output_type": "execute_result",
          "data": {
            "text/html": [
              "<div>\n",
              "<style scoped>\n",
              "    .dataframe tbody tr th:only-of-type {\n",
              "        vertical-align: middle;\n",
              "    }\n",
              "\n",
              "    .dataframe tbody tr th {\n",
              "        vertical-align: top;\n",
              "    }\n",
              "\n",
              "    .dataframe thead th {\n",
              "        text-align: right;\n",
              "    }\n",
              "</style>\n",
              "<table border=\"1\" class=\"dataframe\">\n",
              "  <thead>\n",
              "    <tr style=\"text-align: right;\">\n",
              "      <th></th>\n",
              "      <th>TITLE</th>\n",
              "      <th>AUTHOR</th>\n",
              "      <th>SCHOOL</th>\n",
              "      <th>DATE</th>\n",
              "      <th>SENTENCE</th>\n",
              "    </tr>\n",
              "  </thead>\n",
              "  <tbody>\n",
              "    <tr>\n",
              "      <th>270232</th>\n",
              "      <td>Science Of Logic</td>\n",
              "      <td>Hegel</td>\n",
              "      <td>German Idealism</td>\n",
              "      <td>1817</td>\n",
              "      <td>That these magnitudes constituting the amount ...</td>\n",
              "    </tr>\n",
              "    <tr>\n",
              "      <th>137246</th>\n",
              "      <td>Philosophical Studies</td>\n",
              "      <td>Moore</td>\n",
              "      <td>Analytic</td>\n",
              "      <td>1910</td>\n",
              "      <td>To this question it is usual to give a negativ...</td>\n",
              "    </tr>\n",
              "    <tr>\n",
              "      <th>63130</th>\n",
              "      <td>Aristotle - Complete Works</td>\n",
              "      <td>Aristotle</td>\n",
              "      <td>Aristotle</td>\n",
              "      <td>320 BC</td>\n",
              "      <td>In the same way, the last residue is the same ...</td>\n",
              "    </tr>\n",
              "    <tr>\n",
              "      <th>24403</th>\n",
              "      <td>Plato - Complete Works</td>\n",
              "      <td>Plato</td>\n",
              "      <td>Plato</td>\n",
              "      <td>350 BC</td>\n",
              "      <td>But if the wealth of all the cities came to be...</td>\n",
              "    </tr>\n",
              "    <tr>\n",
              "      <th>320182</th>\n",
              "      <td>On The Principles Of Political Economy And Tax...</td>\n",
              "      <td>Ricardo</td>\n",
              "      <td>Capitalism</td>\n",
              "      <td>1817</td>\n",
              "      <td>, we shall by degrees approach a sounder and m...</td>\n",
              "    </tr>\n",
              "  </tbody>\n",
              "</table>\n",
              "</div>"
            ],
            "text/plain": [
              "                                                    TITLE  ...                                           SENTENCE\n",
              "270232                                   Science Of Logic  ...  That these magnitudes constituting the amount ...\n",
              "137246                              Philosophical Studies  ...  To this question it is usual to give a negativ...\n",
              "63130                          Aristotle - Complete Works  ...  In the same way, the last residue is the same ...\n",
              "24403                              Plato - Complete Works  ...  But if the wealth of all the cities came to be...\n",
              "320182  On The Principles Of Political Economy And Tax...  ...  , we shall by degrees approach a sounder and m...\n",
              "\n",
              "[5 rows x 5 columns]"
            ]
          },
          "metadata": {
            "tags": []
          },
          "execution_count": 7
        }
      ]
    },
    {
      "cell_type": "code",
      "metadata": {
        "colab": {
          "base_uri": "https://localhost:8080/",
          "height": 402
        },
        "id": "2CD4ylxGmZ-7",
        "outputId": "47ce02dc-479e-40bc-8eae-d96717f89a44"
      },
      "source": [
        "for_db[for_db['AUTHOR']=='Davis']"
      ],
      "execution_count": 8,
      "outputs": [
        {
          "output_type": "execute_result",
          "data": {
            "text/html": [
              "<div>\n",
              "<style scoped>\n",
              "    .dataframe tbody tr th:only-of-type {\n",
              "        vertical-align: middle;\n",
              "    }\n",
              "\n",
              "    .dataframe tbody tr th {\n",
              "        vertical-align: top;\n",
              "    }\n",
              "\n",
              "    .dataframe thead th {\n",
              "        text-align: right;\n",
              "    }\n",
              "</style>\n",
              "<table border=\"1\" class=\"dataframe\">\n",
              "  <thead>\n",
              "    <tr style=\"text-align: right;\">\n",
              "      <th></th>\n",
              "      <th>TITLE</th>\n",
              "      <th>AUTHOR</th>\n",
              "      <th>SCHOOL</th>\n",
              "      <th>DATE</th>\n",
              "      <th>SENTENCE</th>\n",
              "    </tr>\n",
              "  </thead>\n",
              "  <tbody>\n",
              "    <tr>\n",
              "      <th>357749</th>\n",
              "      <td>Women, Race, And Class</td>\n",
              "      <td>Davis</td>\n",
              "      <td>Feminism</td>\n",
              "      <td>1981</td>\n",
              "      <td>When the influential scholar Ulrich.</td>\n",
              "    </tr>\n",
              "    <tr>\n",
              "      <th>357750</th>\n",
              "      <td>Women, Race, And Class</td>\n",
              "      <td>Davis</td>\n",
              "      <td>Feminism</td>\n",
              "      <td>1981</td>\n",
              "      <td>Phillips declared in that slavery in the Old S...</td>\n",
              "    </tr>\n",
              "    <tr>\n",
              "      <th>357751</th>\n",
              "      <td>Women, Race, And Class</td>\n",
              "      <td>Davis</td>\n",
              "      <td>Feminism</td>\n",
              "      <td>1981</td>\n",
              "      <td>As the decades passed and the debate raged on,...</td>\n",
              "    </tr>\n",
              "    <tr>\n",
              "      <th>357752</th>\n",
              "      <td>Women, Race, And Class</td>\n",
              "      <td>Davis</td>\n",
              "      <td>Feminism</td>\n",
              "      <td>1981</td>\n",
              "      <td>But amidst all this scholarly activity, the sp...</td>\n",
              "    </tr>\n",
              "    <tr>\n",
              "      <th>357753</th>\n",
              "      <td>Women, Race, And Class</td>\n",
              "      <td>Davis</td>\n",
              "      <td>Feminism</td>\n",
              "      <td>1981</td>\n",
              "      <td>The ceaseless arguments about her 'sexual prom...</td>\n",
              "    </tr>\n",
              "    <tr>\n",
              "      <th>...</th>\n",
              "      <td>...</td>\n",
              "      <td>...</td>\n",
              "      <td>...</td>\n",
              "      <td>...</td>\n",
              "      <td>...</td>\n",
              "    </tr>\n",
              "    <tr>\n",
              "      <th>360803</th>\n",
              "      <td>Women, Race, And Class</td>\n",
              "      <td>Davis</td>\n",
              "      <td>Feminism</td>\n",
              "      <td>1981</td>\n",
              "      <td>But the socialization of housework including m...</td>\n",
              "    </tr>\n",
              "    <tr>\n",
              "      <th>360804</th>\n",
              "      <td>Women, Race, And Class</td>\n",
              "      <td>Davis</td>\n",
              "      <td>Feminism</td>\n",
              "      <td>1981</td>\n",
              "      <td>The only significant steps toward endingdomest...</td>\n",
              "    </tr>\n",
              "    <tr>\n",
              "      <th>360805</th>\n",
              "      <td>Women, Race, And Class</td>\n",
              "      <td>Davis</td>\n",
              "      <td>Feminism</td>\n",
              "      <td>1981</td>\n",
              "      <td>Working women, therefore, have a special and v...</td>\n",
              "    </tr>\n",
              "    <tr>\n",
              "      <th>360806</th>\n",
              "      <td>Women, Race, And Class</td>\n",
              "      <td>Davis</td>\n",
              "      <td>Feminism</td>\n",
              "      <td>1981</td>\n",
              "      <td>Moreover, under capitalism, campaigns for jobs...</td>\n",
              "    </tr>\n",
              "    <tr>\n",
              "      <th>360807</th>\n",
              "      <td>Women, Race, And Class</td>\n",
              "      <td>Davis</td>\n",
              "      <td>Feminism</td>\n",
              "      <td>1981</td>\n",
              "      <td>This strategy calls into question the validity...</td>\n",
              "    </tr>\n",
              "  </tbody>\n",
              "</table>\n",
              "<p>3059 rows × 5 columns</p>\n",
              "</div>"
            ],
            "text/plain": [
              "                         TITLE  ...                                           SENTENCE\n",
              "357749  Women, Race, And Class  ...               When the influential scholar Ulrich.\n",
              "357750  Women, Race, And Class  ...  Phillips declared in that slavery in the Old S...\n",
              "357751  Women, Race, And Class  ...  As the decades passed and the debate raged on,...\n",
              "357752  Women, Race, And Class  ...  But amidst all this scholarly activity, the sp...\n",
              "357753  Women, Race, And Class  ...  The ceaseless arguments about her 'sexual prom...\n",
              "...                        ...  ...                                                ...\n",
              "360803  Women, Race, And Class  ...  But the socialization of housework including m...\n",
              "360804  Women, Race, And Class  ...  The only significant steps toward endingdomest...\n",
              "360805  Women, Race, And Class  ...  Working women, therefore, have a special and v...\n",
              "360806  Women, Race, And Class  ...  Moreover, under capitalism, campaigns for jobs...\n",
              "360807  Women, Race, And Class  ...  This strategy calls into question the validity...\n",
              "\n",
              "[3059 rows x 5 columns]"
            ]
          },
          "metadata": {
            "tags": []
          },
          "execution_count": 8
        }
      ]
    },
    {
      "cell_type": "code",
      "metadata": {
        "colab": {
          "base_uri": "https://localhost:8080/"
        },
        "id": "kQtdMppSEkGJ",
        "outputId": "8ae4ae18-2ff3-4eb5-bd6d-abd30213f5b0"
      },
      "source": [
        "len(for_db)"
      ],
      "execution_count": 9,
      "outputs": [
        {
          "output_type": "execute_result",
          "data": {
            "text/plain": [
              "360808"
            ]
          },
          "metadata": {
            "tags": []
          },
          "execution_count": 9
        }
      ]
    },
    {
      "cell_type": "code",
      "metadata": {
        "id": "H6hb7ky006Gp",
        "colab": {
          "base_uri": "https://localhost:8080/",
          "height": 441
        },
        "outputId": "72a0ce03-a8ac-44bc-e965-3ad0b9deb53b"
      },
      "source": [
        "#importing sql library \n",
        "from sqlalchemy import create_engine \n",
        "  \n",
        "# create a reference  \n",
        "# for sql library \n",
        "engine = create_engine('',\n",
        "                       echo = False)\n",
        "  \n",
        "# attach the data frame to the sql  \n",
        "for_db.to_sql('phil_nlp', \n",
        "               con = engine,\n",
        "              if_exists='append',\n",
        "              method = 'multi') \n",
        "  \n",
        "# # show the complete data \n",
        "print(engine.execute(\"\"\"SELECT * FROM phil_nlp WHERE \"AUTHOR\" = 'Mary Wollstonecraft'\"\"\").fetchone()) "
      ],
      "execution_count": 11,
      "outputs": [
        {
          "output_type": "stream",
          "text": [
            "/usr/local/lib/python3.7/dist-packages/psycopg2/__init__.py:144: UserWarning: The psycopg2 wheel package will be renamed from release 2.8; in order to keep installing from binary please use \"pip install psycopg2-binary\" instead. For details see: <http://initd.org/psycopg/docs/install.html#binary-install-from-pypi>.\n",
            "  \"\"\")\n"
          ],
          "name": "stderr"
        },
        {
          "output_type": "error",
          "ename": "TypeError",
          "evalue": "ignored",
          "traceback": [
            "\u001b[0;31m---------------------------------------------------------------------------\u001b[0m",
            "\u001b[0;31mTypeError\u001b[0m                                 Traceback (most recent call last)",
            "\u001b[0;32m<ipython-input-11-6567860d542c>\u001b[0m in \u001b[0;36m<module>\u001b[0;34m()\u001b[0m\n\u001b[1;32m     10\u001b[0m for_db.to_sql('phil_nlp', \n\u001b[1;32m     11\u001b[0m                \u001b[0mcon\u001b[0m \u001b[0;34m=\u001b[0m \u001b[0mengine\u001b[0m\u001b[0;34m,\u001b[0m\u001b[0;34m\u001b[0m\u001b[0;34m\u001b[0m\u001b[0m\n\u001b[0;32m---> 12\u001b[0;31m               if_exists='append') \n\u001b[0m\u001b[1;32m     13\u001b[0m \u001b[0;34m\u001b[0m\u001b[0m\n\u001b[1;32m     14\u001b[0m \u001b[0;31m# # show the complete data\u001b[0m\u001b[0;34m\u001b[0m\u001b[0;34m\u001b[0m\u001b[0;34m\u001b[0m\u001b[0m\n",
            "\u001b[0;32m/usr/local/lib/python3.7/dist-packages/pandas/core/generic.py\u001b[0m in \u001b[0;36mto_sql\u001b[0;34m(self, name, con, schema, if_exists, index, index_label, chunksize, dtype, method)\u001b[0m\n\u001b[1;32m   2613\u001b[0m             \u001b[0mchunksize\u001b[0m\u001b[0;34m=\u001b[0m\u001b[0mchunksize\u001b[0m\u001b[0;34m,\u001b[0m\u001b[0;34m\u001b[0m\u001b[0;34m\u001b[0m\u001b[0m\n\u001b[1;32m   2614\u001b[0m             \u001b[0mdtype\u001b[0m\u001b[0;34m=\u001b[0m\u001b[0mdtype\u001b[0m\u001b[0;34m,\u001b[0m\u001b[0;34m\u001b[0m\u001b[0;34m\u001b[0m\u001b[0m\n\u001b[0;32m-> 2615\u001b[0;31m             \u001b[0mmethod\u001b[0m\u001b[0;34m=\u001b[0m\u001b[0mmethod\u001b[0m\u001b[0;34m,\u001b[0m\u001b[0;34m\u001b[0m\u001b[0;34m\u001b[0m\u001b[0m\n\u001b[0m\u001b[1;32m   2616\u001b[0m         )\n\u001b[1;32m   2617\u001b[0m \u001b[0;34m\u001b[0m\u001b[0m\n",
            "\u001b[0;32m/usr/local/lib/python3.7/dist-packages/pandas/io/sql.py\u001b[0m in \u001b[0;36mto_sql\u001b[0;34m(frame, name, con, schema, if_exists, index, index_label, chunksize, dtype, method)\u001b[0m\n\u001b[1;32m    596\u001b[0m         \u001b[0mchunksize\u001b[0m\u001b[0;34m=\u001b[0m\u001b[0mchunksize\u001b[0m\u001b[0;34m,\u001b[0m\u001b[0;34m\u001b[0m\u001b[0;34m\u001b[0m\u001b[0m\n\u001b[1;32m    597\u001b[0m         \u001b[0mdtype\u001b[0m\u001b[0;34m=\u001b[0m\u001b[0mdtype\u001b[0m\u001b[0;34m,\u001b[0m\u001b[0;34m\u001b[0m\u001b[0;34m\u001b[0m\u001b[0m\n\u001b[0;32m--> 598\u001b[0;31m         \u001b[0mmethod\u001b[0m\u001b[0;34m=\u001b[0m\u001b[0mmethod\u001b[0m\u001b[0;34m,\u001b[0m\u001b[0;34m\u001b[0m\u001b[0;34m\u001b[0m\u001b[0m\n\u001b[0m\u001b[1;32m    599\u001b[0m     )\n\u001b[1;32m    600\u001b[0m \u001b[0;34m\u001b[0m\u001b[0m\n",
            "\u001b[0;32m/usr/local/lib/python3.7/dist-packages/pandas/io/sql.py\u001b[0m in \u001b[0;36mto_sql\u001b[0;34m(self, frame, name, if_exists, index, index_label, schema, chunksize, dtype, method)\u001b[0m\n\u001b[1;32m   1396\u001b[0m \u001b[0;34m\u001b[0m\u001b[0m\n\u001b[1;32m   1397\u001b[0m         \u001b[0;32mtry\u001b[0m\u001b[0;34m:\u001b[0m\u001b[0;34m\u001b[0m\u001b[0;34m\u001b[0m\u001b[0m\n\u001b[0;32m-> 1398\u001b[0;31m             \u001b[0mtable\u001b[0m\u001b[0;34m.\u001b[0m\u001b[0minsert\u001b[0m\u001b[0;34m(\u001b[0m\u001b[0mchunksize\u001b[0m\u001b[0;34m,\u001b[0m \u001b[0mmethod\u001b[0m\u001b[0;34m=\u001b[0m\u001b[0mmethod\u001b[0m\u001b[0;34m)\u001b[0m\u001b[0;34m\u001b[0m\u001b[0;34m\u001b[0m\u001b[0m\n\u001b[0m\u001b[1;32m   1399\u001b[0m         \u001b[0;32mexcept\u001b[0m \u001b[0mexc\u001b[0m\u001b[0;34m.\u001b[0m\u001b[0mSQLAlchemyError\u001b[0m \u001b[0;32mas\u001b[0m \u001b[0merr\u001b[0m\u001b[0;34m:\u001b[0m\u001b[0;34m\u001b[0m\u001b[0;34m\u001b[0m\u001b[0m\n\u001b[1;32m   1400\u001b[0m             \u001b[0;31m# GH34431\u001b[0m\u001b[0;34m\u001b[0m\u001b[0;34m\u001b[0m\u001b[0;34m\u001b[0m\u001b[0m\n",
            "\u001b[0;32m/usr/local/lib/python3.7/dist-packages/pandas/io/sql.py\u001b[0m in \u001b[0;36minsert\u001b[0;34m(self, chunksize, method)\u001b[0m\n\u001b[1;32m    828\u001b[0m \u001b[0;34m\u001b[0m\u001b[0m\n\u001b[1;32m    829\u001b[0m                 \u001b[0mchunk_iter\u001b[0m \u001b[0;34m=\u001b[0m \u001b[0mzip\u001b[0m\u001b[0;34m(\u001b[0m\u001b[0;34m*\u001b[0m\u001b[0;34m[\u001b[0m\u001b[0marr\u001b[0m\u001b[0;34m[\u001b[0m\u001b[0mstart_i\u001b[0m\u001b[0;34m:\u001b[0m\u001b[0mend_i\u001b[0m\u001b[0;34m]\u001b[0m \u001b[0;32mfor\u001b[0m \u001b[0marr\u001b[0m \u001b[0;32min\u001b[0m \u001b[0mdata_list\u001b[0m\u001b[0;34m]\u001b[0m\u001b[0;34m)\u001b[0m\u001b[0;34m\u001b[0m\u001b[0;34m\u001b[0m\u001b[0m\n\u001b[0;32m--> 830\u001b[0;31m                 \u001b[0mexec_insert\u001b[0m\u001b[0;34m(\u001b[0m\u001b[0mconn\u001b[0m\u001b[0;34m,\u001b[0m \u001b[0mkeys\u001b[0m\u001b[0;34m,\u001b[0m \u001b[0mchunk_iter\u001b[0m\u001b[0;34m)\u001b[0m\u001b[0;34m\u001b[0m\u001b[0;34m\u001b[0m\u001b[0m\n\u001b[0m\u001b[1;32m    831\u001b[0m \u001b[0;34m\u001b[0m\u001b[0m\n\u001b[1;32m    832\u001b[0m     def _query_iterator(\n",
            "\u001b[0;32m/usr/local/lib/python3.7/dist-packages/pandas/io/sql.py\u001b[0m in \u001b[0;36m_execute_insert\u001b[0;34m(self, conn, keys, data_iter)\u001b[0m\n\u001b[1;32m    745\u001b[0m         \"\"\"\n\u001b[1;32m    746\u001b[0m         \u001b[0mdata\u001b[0m \u001b[0;34m=\u001b[0m \u001b[0;34m[\u001b[0m\u001b[0mdict\u001b[0m\u001b[0;34m(\u001b[0m\u001b[0mzip\u001b[0m\u001b[0;34m(\u001b[0m\u001b[0mkeys\u001b[0m\u001b[0;34m,\u001b[0m \u001b[0mrow\u001b[0m\u001b[0;34m)\u001b[0m\u001b[0;34m)\u001b[0m \u001b[0;32mfor\u001b[0m \u001b[0mrow\u001b[0m \u001b[0;32min\u001b[0m \u001b[0mdata_iter\u001b[0m\u001b[0;34m]\u001b[0m\u001b[0;34m\u001b[0m\u001b[0;34m\u001b[0m\u001b[0m\n\u001b[0;32m--> 747\u001b[0;31m         \u001b[0mconn\u001b[0m\u001b[0;34m.\u001b[0m\u001b[0mexecute\u001b[0m\u001b[0;34m(\u001b[0m\u001b[0mself\u001b[0m\u001b[0;34m.\u001b[0m\u001b[0mtable\u001b[0m\u001b[0;34m.\u001b[0m\u001b[0minsert\u001b[0m\u001b[0;34m(\u001b[0m\u001b[0;34m)\u001b[0m\u001b[0;34m,\u001b[0m \u001b[0mdata\u001b[0m\u001b[0;34m)\u001b[0m\u001b[0;34m\u001b[0m\u001b[0;34m\u001b[0m\u001b[0m\n\u001b[0m\u001b[1;32m    748\u001b[0m \u001b[0;34m\u001b[0m\u001b[0m\n\u001b[1;32m    749\u001b[0m     \u001b[0;32mdef\u001b[0m \u001b[0m_execute_insert_multi\u001b[0m\u001b[0;34m(\u001b[0m\u001b[0mself\u001b[0m\u001b[0;34m,\u001b[0m \u001b[0mconn\u001b[0m\u001b[0;34m,\u001b[0m \u001b[0mkeys\u001b[0m\u001b[0;34m,\u001b[0m \u001b[0mdata_iter\u001b[0m\u001b[0;34m)\u001b[0m\u001b[0;34m:\u001b[0m\u001b[0;34m\u001b[0m\u001b[0;34m\u001b[0m\u001b[0m\n",
            "\u001b[0;32m/usr/local/lib/python3.7/dist-packages/sqlalchemy/engine/base.py\u001b[0m in \u001b[0;36mexecute\u001b[0;34m(self, statement, *multiparams, **params)\u001b[0m\n\u001b[1;32m   1198\u001b[0m             )\n\u001b[1;32m   1199\u001b[0m         \u001b[0;32melse\u001b[0m\u001b[0;34m:\u001b[0m\u001b[0;34m\u001b[0m\u001b[0;34m\u001b[0m\u001b[0m\n\u001b[0;32m-> 1200\u001b[0;31m             \u001b[0;32mreturn\u001b[0m \u001b[0mmeth\u001b[0m\u001b[0;34m(\u001b[0m\u001b[0mself\u001b[0m\u001b[0;34m,\u001b[0m \u001b[0mmultiparams\u001b[0m\u001b[0;34m,\u001b[0m \u001b[0mparams\u001b[0m\u001b[0;34m,\u001b[0m \u001b[0m_EMPTY_EXECUTION_OPTS\u001b[0m\u001b[0;34m)\u001b[0m\u001b[0;34m\u001b[0m\u001b[0;34m\u001b[0m\u001b[0m\n\u001b[0m\u001b[1;32m   1201\u001b[0m \u001b[0;34m\u001b[0m\u001b[0m\n\u001b[1;32m   1202\u001b[0m     \u001b[0;32mdef\u001b[0m \u001b[0m_execute_function\u001b[0m\u001b[0;34m(\u001b[0m\u001b[0mself\u001b[0m\u001b[0;34m,\u001b[0m \u001b[0mfunc\u001b[0m\u001b[0;34m,\u001b[0m \u001b[0mmultiparams\u001b[0m\u001b[0;34m,\u001b[0m \u001b[0mparams\u001b[0m\u001b[0;34m,\u001b[0m \u001b[0mexecution_options\u001b[0m\u001b[0;34m)\u001b[0m\u001b[0;34m:\u001b[0m\u001b[0;34m\u001b[0m\u001b[0;34m\u001b[0m\u001b[0m\n",
            "\u001b[0;32m/usr/local/lib/python3.7/dist-packages/sqlalchemy/sql/elements.py\u001b[0m in \u001b[0;36m_execute_on_connection\u001b[0;34m(self, connection, multiparams, params, execution_options)\u001b[0m\n\u001b[1;32m    312\u001b[0m         \u001b[0;32mif\u001b[0m \u001b[0mself\u001b[0m\u001b[0;34m.\u001b[0m\u001b[0msupports_execution\u001b[0m\u001b[0;34m:\u001b[0m\u001b[0;34m\u001b[0m\u001b[0;34m\u001b[0m\u001b[0m\n\u001b[1;32m    313\u001b[0m             return connection._execute_clauseelement(\n\u001b[0;32m--> 314\u001b[0;31m                 \u001b[0mself\u001b[0m\u001b[0;34m,\u001b[0m \u001b[0mmultiparams\u001b[0m\u001b[0;34m,\u001b[0m \u001b[0mparams\u001b[0m\u001b[0;34m,\u001b[0m \u001b[0mexecution_options\u001b[0m\u001b[0;34m\u001b[0m\u001b[0;34m\u001b[0m\u001b[0m\n\u001b[0m\u001b[1;32m    315\u001b[0m             )\n\u001b[1;32m    316\u001b[0m         \u001b[0;32melse\u001b[0m\u001b[0;34m:\u001b[0m\u001b[0;34m\u001b[0m\u001b[0;34m\u001b[0m\u001b[0m\n",
            "\u001b[0;32m/usr/local/lib/python3.7/dist-packages/sqlalchemy/engine/base.py\u001b[0m in \u001b[0;36m_execute_clauseelement\u001b[0;34m(self, elem, multiparams, params, execution_options)\u001b[0m\n\u001b[1;32m   1397\u001b[0m             \u001b[0melem\u001b[0m\u001b[0;34m,\u001b[0m\u001b[0;34m\u001b[0m\u001b[0;34m\u001b[0m\u001b[0m\n\u001b[1;32m   1398\u001b[0m             \u001b[0mextracted_params\u001b[0m\u001b[0;34m,\u001b[0m\u001b[0;34m\u001b[0m\u001b[0;34m\u001b[0m\u001b[0m\n\u001b[0;32m-> 1399\u001b[0;31m             \u001b[0mcache_hit\u001b[0m\u001b[0;34m=\u001b[0m\u001b[0mcache_hit\u001b[0m\u001b[0;34m,\u001b[0m\u001b[0;34m\u001b[0m\u001b[0;34m\u001b[0m\u001b[0m\n\u001b[0m\u001b[1;32m   1400\u001b[0m         )\n\u001b[1;32m   1401\u001b[0m         \u001b[0;32mif\u001b[0m \u001b[0mhas_events\u001b[0m\u001b[0;34m:\u001b[0m\u001b[0;34m\u001b[0m\u001b[0;34m\u001b[0m\u001b[0m\n",
            "\u001b[0;32m/usr/local/lib/python3.7/dist-packages/sqlalchemy/engine/base.py\u001b[0m in \u001b[0;36m_execute_context\u001b[0;34m(self, dialect, constructor, statement, parameters, execution_options, *args, **kw)\u001b[0m\n\u001b[1;32m   1747\u001b[0m         \u001b[0;32mexcept\u001b[0m \u001b[0mBaseException\u001b[0m \u001b[0;32mas\u001b[0m \u001b[0me\u001b[0m\u001b[0;34m:\u001b[0m\u001b[0;34m\u001b[0m\u001b[0;34m\u001b[0m\u001b[0m\n\u001b[1;32m   1748\u001b[0m             self._handle_dbapi_exception(\n\u001b[0;32m-> 1749\u001b[0;31m                 \u001b[0me\u001b[0m\u001b[0;34m,\u001b[0m \u001b[0mstatement\u001b[0m\u001b[0;34m,\u001b[0m \u001b[0mparameters\u001b[0m\u001b[0;34m,\u001b[0m \u001b[0mcursor\u001b[0m\u001b[0;34m,\u001b[0m \u001b[0mcontext\u001b[0m\u001b[0;34m\u001b[0m\u001b[0;34m\u001b[0m\u001b[0m\n\u001b[0m\u001b[1;32m   1750\u001b[0m             )\n\u001b[1;32m   1751\u001b[0m \u001b[0;34m\u001b[0m\u001b[0m\n",
            "\u001b[0;32m/usr/local/lib/python3.7/dist-packages/sqlalchemy/engine/base.py\u001b[0m in \u001b[0;36m_handle_dbapi_exception\u001b[0;34m(self, e, statement, parameters, cursor, context)\u001b[0m\n\u001b[1;32m   1931\u001b[0m                 )\n\u001b[1;32m   1932\u001b[0m             \u001b[0;32melse\u001b[0m\u001b[0;34m:\u001b[0m\u001b[0;34m\u001b[0m\u001b[0;34m\u001b[0m\u001b[0m\n\u001b[0;32m-> 1933\u001b[0;31m                 \u001b[0mutil\u001b[0m\u001b[0;34m.\u001b[0m\u001b[0mraise_\u001b[0m\u001b[0;34m(\u001b[0m\u001b[0mexc_info\u001b[0m\u001b[0;34m[\u001b[0m\u001b[0;36m1\u001b[0m\u001b[0;34m]\u001b[0m\u001b[0;34m,\u001b[0m \u001b[0mwith_traceback\u001b[0m\u001b[0;34m=\u001b[0m\u001b[0mexc_info\u001b[0m\u001b[0;34m[\u001b[0m\u001b[0;36m2\u001b[0m\u001b[0;34m]\u001b[0m\u001b[0;34m)\u001b[0m\u001b[0;34m\u001b[0m\u001b[0;34m\u001b[0m\u001b[0m\n\u001b[0m\u001b[1;32m   1934\u001b[0m \u001b[0;34m\u001b[0m\u001b[0m\n\u001b[1;32m   1935\u001b[0m         \u001b[0;32mfinally\u001b[0m\u001b[0;34m:\u001b[0m\u001b[0;34m\u001b[0m\u001b[0;34m\u001b[0m\u001b[0m\n",
            "\u001b[0;32m/usr/local/lib/python3.7/dist-packages/sqlalchemy/util/compat.py\u001b[0m in \u001b[0;36mraise_\u001b[0;34m(***failed resolving arguments***)\u001b[0m\n\u001b[1;32m    196\u001b[0m \u001b[0;34m\u001b[0m\u001b[0m\n\u001b[1;32m    197\u001b[0m         \u001b[0;32mtry\u001b[0m\u001b[0;34m:\u001b[0m\u001b[0;34m\u001b[0m\u001b[0;34m\u001b[0m\u001b[0m\n\u001b[0;32m--> 198\u001b[0;31m             \u001b[0;32mraise\u001b[0m \u001b[0mexception\u001b[0m\u001b[0;34m\u001b[0m\u001b[0;34m\u001b[0m\u001b[0m\n\u001b[0m\u001b[1;32m    199\u001b[0m         \u001b[0;32mfinally\u001b[0m\u001b[0;34m:\u001b[0m\u001b[0;34m\u001b[0m\u001b[0;34m\u001b[0m\u001b[0m\n\u001b[1;32m    200\u001b[0m             \u001b[0;31m# credit to\u001b[0m\u001b[0;34m\u001b[0m\u001b[0;34m\u001b[0m\u001b[0;34m\u001b[0m\u001b[0m\n",
            "\u001b[0;32m/usr/local/lib/python3.7/dist-packages/sqlalchemy/engine/base.py\u001b[0m in \u001b[0;36m_execute_context\u001b[0;34m(self, dialect, constructor, statement, parameters, execution_options, *args, **kw)\u001b[0m\n\u001b[1;32m   1684\u001b[0m                 \u001b[0;32mif\u001b[0m \u001b[0;32mnot\u001b[0m \u001b[0mevt_handled\u001b[0m\u001b[0;34m:\u001b[0m\u001b[0;34m\u001b[0m\u001b[0;34m\u001b[0m\u001b[0m\n\u001b[1;32m   1685\u001b[0m                     self.dialect.do_executemany(\n\u001b[0;32m-> 1686\u001b[0;31m                         \u001b[0mcursor\u001b[0m\u001b[0;34m,\u001b[0m \u001b[0mstatement\u001b[0m\u001b[0;34m,\u001b[0m \u001b[0mparameters\u001b[0m\u001b[0;34m,\u001b[0m \u001b[0mcontext\u001b[0m\u001b[0;34m\u001b[0m\u001b[0;34m\u001b[0m\u001b[0m\n\u001b[0m\u001b[1;32m   1687\u001b[0m                     )\n\u001b[1;32m   1688\u001b[0m             \u001b[0;32melif\u001b[0m \u001b[0;32mnot\u001b[0m \u001b[0mparameters\u001b[0m \u001b[0;32mand\u001b[0m \u001b[0mcontext\u001b[0m\u001b[0;34m.\u001b[0m\u001b[0mno_parameters\u001b[0m\u001b[0;34m:\u001b[0m\u001b[0;34m\u001b[0m\u001b[0;34m\u001b[0m\u001b[0m\n",
            "\u001b[0;32m/usr/local/lib/python3.7/dist-packages/sqlalchemy/dialects/postgresql/psycopg2.py\u001b[0m in \u001b[0;36mdo_executemany\u001b[0;34m(self, cursor, statement, parameters, context)\u001b[0m\n\u001b[1;32m    899\u001b[0m                 \u001b[0mtemplate\u001b[0m\u001b[0;34m=\u001b[0m\u001b[0mexecutemany_values\u001b[0m\u001b[0;34m,\u001b[0m\u001b[0;34m\u001b[0m\u001b[0;34m\u001b[0m\u001b[0m\n\u001b[1;32m    900\u001b[0m                 \u001b[0mfetch\u001b[0m\u001b[0;34m=\u001b[0m\u001b[0mbool\u001b[0m\u001b[0;34m(\u001b[0m\u001b[0mcontext\u001b[0m\u001b[0;34m.\u001b[0m\u001b[0mcompiled\u001b[0m\u001b[0;34m.\u001b[0m\u001b[0mreturning\u001b[0m\u001b[0;34m)\u001b[0m\u001b[0;34m,\u001b[0m\u001b[0;34m\u001b[0m\u001b[0;34m\u001b[0m\u001b[0m\n\u001b[0;32m--> 901\u001b[0;31m                 \u001b[0;34m**\u001b[0m\u001b[0mkwargs\u001b[0m\u001b[0;34m\u001b[0m\u001b[0;34m\u001b[0m\u001b[0m\n\u001b[0m\u001b[1;32m    902\u001b[0m             )\n\u001b[1;32m    903\u001b[0m \u001b[0;34m\u001b[0m\u001b[0m\n",
            "\u001b[0;31mTypeError\u001b[0m: execute_values() got an unexpected keyword argument 'fetch'"
          ]
        }
      ]
    },
    {
      "cell_type": "code",
      "metadata": {
        "id": "3sf_LC6IlI4y"
      },
      "source": [
        ""
      ],
      "execution_count": null,
      "outputs": []
    }
  ]
}