{
  "nbformat": 4,
  "nbformat_minor": 0,
  "metadata": {
    "colab": {
      "name": "data_load_clean_and_export.ipynb",
      "provenance": [],
      "collapsed_sections": [
        "6e3D7iGALiMC",
        "4Z6-svnmMCtz",
        "WI3KwHHVM8ck",
        "KaxL3byaM-RA",
        "MEqfL_K_NE7C",
        "uMxaZemLNKeH",
        "kcdlnijMNaMA",
        "0jsR1QpNNlNJ"
      ],
      "toc_visible": true,
      "machine_shape": "hm",
      "authorship_tag": "ABX9TyOQ2EIzGAyyX52TeZUkFtzu",
      "include_colab_link": true
    },
    "kernelspec": {
      "name": "python3",
      "display_name": "Python 3"
    },
    "accelerator": "GPU"
  },
  "cells": [
    {
      "cell_type": "markdown",
      "metadata": {
        "id": "view-in-github",
        "colab_type": "text"
      },
      "source": [
        "<a href=\"https://colab.research.google.com/github/kcalizadeh/PDP_data_processing/blob/master/data_load_clean_and_export.ipynb\" target=\"_parent\"><img src=\"https://colab.research.google.com/assets/colab-badge.svg\" alt=\"Open In Colab\"/></a>"
      ]
    },
    {
      "cell_type": "markdown",
      "metadata": {
        "id": "ce4uUmGtIwgG"
      },
      "source": [
        "### Imports and Mounting Drive"
      ]
    },
    {
      "cell_type": "code",
      "metadata": {
        "colab": {
          "base_uri": "https://localhost:8080/"
        },
        "id": "dQnwn5oZqw4P",
        "outputId": "79ef49bf-6ddd-4096-f583-a72505f75e1e"
      },
      "source": [
        "# this cell mounts drive, sets the correct directory, then imports all functions\n",
        "# and relevant libraries via the functions.py file\n",
        "from google.colab import drive\n",
        "import sys\n",
        "\n",
        "drive.mount('/gdrive',force_remount=True)\n",
        "\n",
        "drive_path = '/gdrive/MyDrive/Colab_Projects/philosophy_data_project'\n",
        "\n",
        "sys.path.append(drive_path)"
      ],
      "execution_count": null,
      "outputs": [
        {
          "output_type": "stream",
          "text": [
            "Mounted at /gdrive\n"
          ],
          "name": "stdout"
        }
      ]
    },
    {
      "cell_type": "code",
      "metadata": {
        "id": "icdKF0dyrAU5"
      },
      "source": [
        "from import_functions import *"
      ],
      "execution_count": null,
      "outputs": []
    },
    {
      "cell_type": "code",
      "metadata": {
        "colab": {
          "base_uri": "https://localhost:8080/"
        },
        "id": "tym6E0D5rbwQ",
        "outputId": "36a437e7-1cd9-45de-ffef-2398e38d1c83"
      },
      "source": [
        "import spacy.cli\n",
        "spacy.cli.download(\"en_core_web_lg\")\n",
        "import en_core_web_lg\n",
        "nlp = en_core_web_lg.load()"
      ],
      "execution_count": null,
      "outputs": [
        {
          "output_type": "stream",
          "text": [
            "\u001b[38;5;2m✔ Download and installation successful\u001b[0m\n",
            "You can now load the model via spacy.load('en_core_web_lg')\n"
          ],
          "name": "stdout"
        }
      ]
    },
    {
      "cell_type": "code",
      "metadata": {
        "id": "YTfCjw3Rrt2I"
      },
      "source": [
        "# load the texts\n",
        "\n",
        "## plato\n",
        "plato_complete = get_text(drive_path + '/phil_txts/plato_complete_works.txt')\n",
        "\n",
        "# aristotle\n",
        "aristotle_vol_1 = get_text(drive_path + '/phil_txts/aristotle_complete_works_v1.txt')\n",
        "aristotle_vol_2 = get_text(drive_path + '/phil_txts/aristotle_complete_works_v2.txt')\n",
        "\n",
        "## rationalists\n",
        "spinoza_ethics = get_guten('http://www.gutenberg.org/cache/epub/3800/pg3800.txt')\n",
        "spinoza_improve_understanding = get_guten('http://www.gutenberg.org/cache/epub/1016/pg1016.txt')\n",
        "leibniz_theodicy = get_guten('http://www.gutenberg.org/cache/epub/17147/pg17147.txt')\n",
        "descartes_discourse_method = get_guten('http://www.gutenberg.org/cache/epub/59/pg59.txt')\n",
        "descartes_meditations = get_text(drive_path + '/phil_txts/descartes_meditations.txt')\n",
        "malebranche_search_truth = get_text(drive_path + '/phil_txts/malebranche_search_truth.txt')\n",
        "\n",
        "## empiricists\n",
        "locke_understanding_1 = get_guten('http://www.gutenberg.org/cache/epub/10615/pg10615.txt')\n",
        "locke_understanding_2 = get_guten('http://www.gutenberg.org/cache/epub/10616/pg10616.txt')\n",
        "locke_treatise_gov = get_guten('http://www.gutenberg.org/cache/epub/7370/pg7370.txt')\n",
        "hume_treatise = get_guten('http://www.gutenberg.org/cache/epub/4705/pg4705.txt')\n",
        "hume_natural_religion = get_guten('http://www.gutenberg.org/cache/epub/4583/pg4583.txt')\n",
        "berkeley_treatise = get_guten('http://www.gutenberg.org/cache/epub/4723/pg4723.txt')\n",
        "berkeley_three_dialogues = get_guten('http://www.gutenberg.org/cache/epub/4724/pg4724.txt')\n",
        "\n",
        "## german idealism\n",
        "kant_practical_reason = get_text(drive_path + '/phil_txts/kant_critique_practical_reason.txt')\n",
        "kant_judgement = get_text(drive_path + '/phil_txts/kant_critique_judgement.txt')\n",
        "kant_pure_reason = get_text(drive_path + '/phil_txts/kant_pure_reason.txt')\n",
        "fichte_ethics = get_text(drive_path + '/phil_txts/fichte_system_of_ethics.txt')\n",
        "hegel_logic = get_text(drive_path + '/phil_txts/hegel_science_of_logic.txt')\n",
        "hegel_phenomenology = get_text(drive_path + '/phil_txts/hegel_phenomenology_of_spirit.txt')\n",
        "hegel_right = get_text(drive_path + '/phil_txts/hegel_elements_of_right.txt')\n",
        "\n",
        "## analytic\n",
        "russell_problems_of_phil = get_guten('http://www.gutenberg.org/cache/epub/5827/pg5827.txt')\n",
        "russell_analylsis_of_mind = get_guten('http://www.gutenberg.org/cache/epub/2529/pg2529.txt')\n",
        "moore_studies = get_guten('http://www.gutenberg.org/files/50141/50141-0.txt')\n",
        "wittgenstein_tractatus = get_text(drive_path + '/phil_txts/wittgenstein_tractatus.txt')\n",
        "wittgenstein_investigations = get_text(drive_path + '/phil_txts/wittgenstien_philosophical_investigations.txt')\n",
        "lewis_papers1 = get_text(drive_path + '/phil_txts/lewis_papers_1.txt')\n",
        "lewis_papers2 = get_text(drive_path + '/phil_txts/lewis_papers_2.txt')\n",
        "quine_quintessence = get_text(drive_path + '/phil_txts/quine_quintessence.txt')\n",
        "popper_science = get_text(drive_path + '/phil_txts/popper_logic_of_science.txt')\n",
        "kripke_troubles = get_text(drive_path + '/phil_txts/kripke_philosophical_troubles.txt')\n",
        "kripke_naming = get_text(drive_path + '/phil_txts/kripke_naming_necessity.txt')\n",
        "\n",
        "## phenomenology\n",
        "ponty_perception = get_text(drive_path + '/phil_txts/merleau-ponty_phenomenology_of_perception.txt')\n",
        "husserl_idea_of = get_text(drive_path + '/phil_txts/husserl_idea_of_phenomenology.txt')\n",
        "husserl_crisis = get_text(drive_path + '/phil_txts/husserl_crisis_of_euro_sciences.txt')\n",
        "heidegger_being_time = get_text(drive_path + '/phil_txts/heidegger_being_and_time.txt')\n",
        "heidegger_track = get_text(drive_path + '/phil_txts/heidegger_off_the_beaten_track.txt')\n",
        "\n",
        "## continental\n",
        "foucault_order = get_text(drive_path + '/phil_txts/foucault_order_of_things.txt')\n",
        "foucault_madness = get_text(drive_path + '/phil_txts/foucault_history_of_madness.txt')\n",
        "foucault_clinic = get_text(drive_path + '/phil_txts/foucault_birth_of_clinic.txt')\n",
        "derrida_writing = get_text(drive_path + '/phil_txts/derrida_writing_difference.txt')\n",
        "deleuze_oedipus = get_text(drive_path + '/phil_txts/deleuze_guattari_anti-oedipus.txt')\n",
        "deleuze_difference = get_text(drive_path + '/phil_txts/deleuze_difference_repetition.txt')\n",
        "\n",
        "## marxism\n",
        "marx_kapital = get_text(drive_path + '/phil_txts/marx_kapital.txt')\n",
        "marx_manifesto = get_text(drive_path + '/phil_txts/marx_manifesto.txt')\n",
        "lenin_essential = get_text(drive_path + '/phil_txts/lenin_essential_works.txt')\n",
        "\n",
        "## capitalist economics\n",
        "smith_wealth = get_guten('http://www.gutenberg.org/files/3300/3300-0.txt')\n",
        "ricardo_political_economy = get_guten('http://www.gutenberg.org/cache/epub/33310/pg33310.txt')\n",
        "keynes_employment = get_text(drive_path + '/phil_txts/keynes_theory_of_employment.txt')\n",
        "\n",
        "## stoicism\n",
        "epictetus_enchiridion = get_guten('http://www.gutenberg.org/files/45109/45109-0.txt')\n",
        "aurelius_meditations = get_guten('http://www.gutenberg.org/cache/epub/2680/pg2680.txt')\n",
        "\n",
        "## new Wittgenstein text\n",
        "wittgenstein_certainty = get_text(drive_path + '/phil_txts/wittgenstein_certainty.txt')\n",
        "\n",
        "## Neitzsche texts\n",
        "nietzsche_ecce = get_guten('https://www.gutenberg.org/files/52190/52190-0.txt')\n",
        "nietzsche_twilight = get_guten('https://www.gutenberg.org/files/52263/52263-0.txt')\n",
        "nietzsche_antichrist = get_guten('https://www.gutenberg.org/cache/epub/19322/pg19322.txt')\n",
        "nietzsche_beyond = get_guten('https://www.gutenberg.org/cache/epub/4363/pg4363.txt')\n",
        "nietzsche_zarathustra = get_guten('https://www.gutenberg.org/files/1998/1998-0.txt')\n",
        "\n",
        "## feminism texts\n",
        "wollstonecraft_vindication = get_guten('http://www.gutenberg.org/cache/epub/3420/pg3420.txt')\n"
      ],
      "execution_count": null,
      "outputs": []
    },
    {
      "cell_type": "code",
      "metadata": {
        "id": "rtnCGgKbrwVa"
      },
      "source": [
        "# use this cell to bring in the new texts\n",
        "\n",
        "\n",
        "beauvoir_second_sex = get_text(drive_path + '/phil_txts/beauvoir_second_sex.txt')"
      ],
      "execution_count": null,
      "outputs": []
    },
    {
      "cell_type": "markdown",
      "metadata": {
        "id": "Gtbq1njQKsSn"
      },
      "source": [
        "With texts imported, we need to clip front and end matter."
      ]
    },
    {
      "cell_type": "code",
      "metadata": {
        "id": "8cvmG0rir1tU"
      },
      "source": [
        "plato_complete = plato_complete.split('find that an enticing')[1][388:].split('Demeter, whose cult at')[0]\n",
        "\n",
        "aristotle_vol_1 = aristotle_vol_1.split('1a20-1b9')[1].split('799a16')[0]\n",
        "aristotle_vol_2 = aristotle_vol_2.split('830a5-830b4')[1].split('1462a5-1462a13')[0]\n",
        "\n",
        "spinoza_ethics = spinoza_ethics.split('ranslated from the Latin by R.')[1][71:].split('End of the Ethics')[0]\n",
        "spinoza_improve_understanding = spinoza_improve_understanding.split('Farewell.*')[1][20:].split('End of ')[0]\n",
        "leibniz_theodicy = leibniz_theodicy.split('appeared in 1710 as the')[1][202:].split('SUMMARY OF THE CON')[0][:-140]\n",
        "descartes_discourse_method = descartes_discourse_method.split('PREFATORY NOTE')[1][18:].split('End of the Pr')[0]\n",
        "descartes_meditations = descartes_meditations.split('LETTER')[1][1:].split('AND REPLIES')[0]\n",
        "malebranche_search_truth = malebranche_search_truth.split(\"n's Mind and the Use H\")[1][64:].split('Beati qui')[0]\n",
        "\n",
        "locke_understanding_1 = locke_understanding_1.split('2 Dorset Court, 24th of May, 1689')[1][50:].split('End of the Pro')[0][:-30]\n",
        "locke_understanding_2 = locke_understanding_2.split('1. Man fitted to form articulated Sounds.')[1][4:].split('End of the Pro')[0][:-25]\n",
        "locke_treatise_gov = locke_treatise_gov.split('now lodged in Christ College, Cambridge.')[1][21:].split('FINIS.')[0]\n",
        "hume_treatise = hume_treatise.split('ADVERTISEMENT')[1][9:].split('End of Pro')[0][:-14]\n",
        "hume_natural_religion = hume_natural_religion.split('PAMPHILUS TO HERMIPPUS')[1][6:].split('End of the Pro')[0][:-22]\n",
        "berkeley_treatise = berkeley_treatise.split('are too apt to condemn an opinion before they rightly')[1][47:].split('End of the Pr')[0][:-22]\n",
        "berkeley_three_dialogues = berkeley_three_dialogues.split('THE FIRST DIALOGUE')[1][17:].split('End of the Pro')[0][:-22]\n",
        "\n",
        "kant_practical_reason = kant_practical_reason.split('erner Pluhar an')[1][329:].split('stone of the wi')[0][:-20]\n",
        "kant_judgement = kant_judgement.split('TO THE FIRST EDITION,* 1790')[1][1:].split('EXPLANATORY NOTES')[0][:-39]\n",
        "kant_pure_reason = kant_pure_reason.split('Bacon of Verulam')[1][33:].split('(Persius, Satires, iii, 78-9).')[0][:-1]\n",
        "fichte_ethics = fichte_ethics.split('(“Krause Nachschrift,” 1798/99)')[1][111:].split('Page 345')[0][:-2]\n",
        "hegel_logic = hegel_logic.split('complete transformati')[1][249:].split('It is a matter of speculation how Hegel would have rev')[0][:-80]\n",
        "hegel_phenomenology = hegel_phenomenology.split('PREFACE: ON SCIENTIFIC')[1][1:].split('1I Adaptation')[0][:-62]\n",
        "hegel_right = hegel_right.split('he immediate occasion f')[1][184:].split('I Hegel lectured on the topics in')[0][:-28]\n",
        "\n",
        "russell_problems_of_phil = russell_problems_of_phil.split('n the following pages')[1].split('BIBLIOGRAPHICAL NOTE')[0]\n",
        "russell_analylsis_of_mind = russell_analylsis_of_mind.split('H. D. Lewis')[2][21:].split('End of Pro')[0]\n",
        "moore_studies = moore_studies.split('Aristotelian Society,_ 1919-20.')[1][23:].split('E Wes')[0][:-10]\n",
        "wittgenstein_tractatus = wittgenstein_tractatus.split('TRACTATUS LOGICO-PHILOSOPHICUS')[1][70:].split('I NDEX')[0][:-8]\n",
        "wittgenstein_investigations = wittgenstein_investigations.split('catty')[1][787:].split(\"above', 351\")[0]\n",
        "lewis_papers1 = lewis_papers1.split('The fifteen papers')[1][61:].split('Acquai')[0][:-10]\n",
        "lewis_papers2 = lewis_papers2.split('Part Four Counterfactuals and Time')[1][17:].split('end p.342')[0]\n",
        "quine_quintessence = quine_quintessence.split('T R UT H B Y C O N V E N T I O N')[1].split('CREDITS')[0][:-7]\n",
        "popper_science = popper_science.split('F IRST E NGLISH E DITION, 1959')[1][2:].split('This is the end of the text of the original book.')[0]\n",
        "kripke_troubles = kripke_troubles.split('apters 2, 3, 7, 10, 11, and 13 are previously unpublish')[1][103:].split('ans, Gareth. 198')[0][:-25]\n",
        "kripke_naming = kripke_naming.split('xjvdsa')[1][10:].split('hese addenda represe')[0][:-35]\n",
        "\n",
        "ponty_perception = ponty_perception.split('P REFACE')[1].split('B IBLIOGRAPHY')[0][:-65]\n",
        "husserl_idea_of = husserl_idea_of.split('LECTUREl')[1][9:].split('Abstraction, ideating, 47, 50, 65')[0][:-10]\n",
        "husserl_crisis = husserl_crisis.split('§ 1.')[1].split('Appendix X:')[0]\n",
        "heidegger_being_time = heidegger_being_time.split(\"AUTHOR'S PREFACE TO THE\")[1][25:].split('Not \"the\" sole way.')[0][:-8]\n",
        "heidegger_track = heidegger_track.split('translated in several ')[1][15:].split('et-up [dar Gestellj as the uunost obli')[0][:-32]\n",
        "\n",
        "foucault_order = foucault_order.split('P REFACE')[1]\n",
        "foucault_madness = foucault_madness.split('ickering simulacra, an')[1][112:].split('Page 591')[0]\n",
        "foucault_clinic = foucault_clinic.split('iagnostic (Paris, 1962, p.')[1][15:].split('de Sade.')[0][:-33]\n",
        "derrida_writing = derrida_writing.split('(Flaubert, Preface d la d')[1][10:].split('Reb Derissa')[0]\n",
        "deleuze_oedipus = deleuze_oedipus.split('xjdsde')[1].split('jajielaks')[0]\n",
        "deleuze_difference = deleuze_difference.split('Introduction:')[1].split('Plateaus')[0][:-65]\n",
        "\n",
        "marx_kapital = ((marx_kapital.split('E MAGNITUDE OF VALUE)')[1].split('expropriation of the laborer.')[0])+'expropriation of the laborer.')\n",
        "marx_manifesto = marx_manifesto.split('page 29')[1].split('Mao')[0][:-15]\n",
        "lenin_essential = lenin_essential.split('We will now sum up the theoretical')[1].split('SUGGESTIONS FOR FURTHER READING')[0]\n",
        "\n",
        "smith_wealth = smith_wealth.split('INTRODUCTION AND PLAN OF THE WORK.')[2].split('End of the Project Gutenberg EBook of An Inquiry into the Nat')[0]\n",
        "ricardo_political_economy = ricardo_political_economy.split('ON VALUE.')[1].split('  FOOTNOTES:')[0]\n",
        "keynes_employment = keynes_employment.split('GENERAL INTRODUCTION')[1].split('PRINTING ERRORS IN THE FIRST EDITION CORRECTE')[0][:-145]\n",
        "\n",
        "epictetus_enchiridion = epictetus_enchiridion.split('New York, 1927.')[1][99:].split('Footnotes')[0][:-45]\n",
        "aurelius_meditations = aurelius_meditations.split('Book vi. Num. xlviii.')[1].split('APPENDIX')[0]\n",
        "\n",
        "wittgenstein_certainty = wittgenstein_certainty.split('advice about the translation of this work.')[1][3:]\n",
        "\n",
        "nietzsche_zarathustra = nietzsche_zarathustra.split('FIRST PART. ZA')[1].split('APPENDIX.')[0]\n",
        "nietzsche_beyond = nietzsche_beyond.split('PREFACE')[2].split('FROM THE HEIGHTS')[0]\n",
        "nietzsche_ecce = nietzsche_ecce.split('PREFACE')[2].split('EDITORIAL NOTE TO POETRY')[0]\n",
        "nietzsche_antichrist = nietzsche_antichrist.split('PREFACE')[2].split('THE END')[0]\n",
        "nietzsche_twilight = nietzsche_twilight.split('re than a merely intellectual movement.')[1].split('End of the Project Gutenberg EBook of The Twilight of the Idols')[0]\n",
        "\n",
        "wollstonecraft_vindication = wollstonecraft_vindication.split('LATE BISHOP OF AUTUN.')[1][13:][:-80]\n",
        "\n"
      ],
      "execution_count": null,
      "outputs": []
    },
    {
      "cell_type": "code",
      "metadata": {
        "id": "1uDGcFA-r3w7"
      },
      "source": [
        "# use this cell to deal with the new text and experiment until we have a good result\n",
        "\n",
        "beauvoir_second_sex = beauvoir_second_sex.split('’s message of freedom and independence')[1][57:].split('* Bold Chronicl')[0]"
      ],
      "execution_count": null,
      "outputs": []
    },
    {
      "cell_type": "markdown",
      "metadata": {
        "id": "UtyqxKStKvsc"
      },
      "source": [
        "Now we aggregate them by school and create a dictionary of various aggregates for future use. "
      ]
    },
    {
      "cell_type": "code",
      "metadata": {
        "id": "kghr6yp0r6Lv"
      },
      "source": [
        "# a list of books for each school, then aggregated and entered into a dictionary\n",
        "\n",
        "## original texts\n",
        "plato_texts = [plato_complete]\n",
        "aristotle_texts = [aristotle_vol_1, aristotle_vol_2]\n",
        "rationalist_texts = [spinoza_ethics, spinoza_improve_understanding, \n",
        "                    leibniz_theodicy, descartes_discourse_method, \n",
        "                     descartes_meditations, malebranche_search_truth]\n",
        "empiricist_texts = [locke_treatise_gov, locke_understanding_1, locke_understanding_2, \n",
        "                    hume_treatise, hume_natural_religion, berkeley_three_dialogues, \n",
        "                    berkeley_treatise]\n",
        "german_idealist_texts = [kant_practical_reason, kant_judgement, kant_pure_reason, \n",
        "                         fichte_ethics, hegel_logic, hegel_phenomenology, hegel_right]\n",
        "analytic_texts = [russell_analylsis_of_mind, russell_problems_of_phil, \n",
        "                  moore_studies, wittgenstein_investigations, wittgenstein_tractatus, \n",
        "                  lewis_papers1, lewis_papers2, quine_quintessence, popper_science, \n",
        "                  kripke_naming, kripke_troubles, wittgenstein_certainty]\n",
        "phenomenology_texts = [ponty_perception, husserl_crisis, \n",
        "                       husserl_idea_of, heidegger_being_time, heidegger_track]\n",
        "continental_texts = [foucault_clinic, foucault_madness, foucault_order, \n",
        "                     derrida_writing, deleuze_difference, deleuze_oedipus]\n",
        "marxist_texts = [marx_kapital, marx_manifesto, lenin_essential]\n",
        "capitalist_texts = [smith_wealth, ricardo_political_economy, keynes_employment]\n",
        "\n",
        "# new texts\n",
        "stoicism_texts = [epictetus_enchiridion, aurelius_meditations]\n",
        "nietzsche_texts = [nietzsche_antichrist, nietzsche_beyond, nietzsche_ecce,\n",
        "                  nietzsche_twilight, nietzsche_zarathustra]\n",
        "feminism_texts = [wollstonecraft_vindication, beauvoir_second_sex]\n",
        "\n",
        "\n",
        "all_texts = plato_texts + aristotle_texts + empiricist_texts + rationalist_texts + analytic_texts + continental_texts + phenomenology_texts + german_idealist_texts + marxist_texts + capitalist_texts + stoicism_texts + nietzsche_texts + feminism_texts\n",
        "all_texts_string = ' . '.join(all_texts)\n",
        "\n",
        "text_dict_list = {'plato': plato_texts, 'aristotle': aristotle_texts, \n",
        "             'empiricism': empiricist_texts, 'rationalism': rationalist_texts, \n",
        "            'german_idealism': german_idealist_texts, \n",
        "             'phenomenology': phenomenology_texts, 'analytic': analytic_texts, \n",
        "            'continental': continental_texts, 'marxism': marxist_texts,\n",
        "             'capitalism': capitalist_texts, 'stoicism': stoicism_texts,\n",
        "             'nietzsche': nietzsche_texts, 'feminsim': feminism_texts}\n",
        "\n",
        "text_dict = {}\n",
        "for school in text_dict_list.keys():\n",
        "    text_dict[school] = ' . '.join(text_dict_list[school])"
      ],
      "execution_count": null,
      "outputs": []
    },
    {
      "cell_type": "markdown",
      "metadata": {
        "id": "lfajGZ7bK5Zg"
      },
      "source": [
        "### More In-Depth Cleaning\n",
        "\n",
        "The text here is often quite messy. We need to do some significant work to clean it up. This means dealing with things like:\n",
        "- headers of pages occurring repeatedly in the text\n",
        "- page numbers and citation numbers\n",
        "- footnotes, roman numerals, titles of chapters\n",
        "\n",
        "The process of dealing with these and getting the data ready for our models has a few steps:\n",
        "1. develop a general cleaning function that can work for every text (removing roman numerals, for example)\n",
        "2. examine each text itself and remove the specific headers that are relevant to it\n",
        "  - look for features that could capture all the footnotes here as well\n",
        "3. tokenize the text using spacy\n",
        "4. examine the tokens for unusual patterns \n",
        "  - there should be virtually no duplicate sentences\n",
        "  - we can remove sentences that are too short to mean anything\n",
        "  - remove sentences that contain terms that must be from footnotes (the author's name should be very rare in the actual text, for example)\n",
        "\n",
        "Unfortunately many of these steps can only be done ad hoc; there is no real way to know whether and what headers are in a text without examining the files individually. So the process is a bit tedious and time-consuming. Still, when we finish we will have data that is much cleaner and more useful for modeling. \n"
      ]
    },
    {
      "cell_type": "markdown",
      "metadata": {
        "id": "AcoDD6vbLpu9"
      },
      "source": [
        "#### 1. Baseline Cleaning"
      ]
    },
    {
      "cell_type": "markdown",
      "metadata": {
        "id": "8JLtqH5SLInh"
      },
      "source": [
        "Our first step is to develop a baseline cleaning function that can be applied to every text."
      ]
    },
    {
      "cell_type": "code",
      "metadata": {
        "id": "MkT0egnbr89k"
      },
      "source": [
        "def baseline_clean(to_correct, capitals=True, bracketed_fn=False, odd_words_dict={}):\n",
        "  # remove utf8 encoding characters and some punctuations\n",
        "  result = re.sub(r'[\\x00-\\x08\\x0b\\x0c\\x0e-\\x1f\\x7f-\\xff\\xad\\x0c6§\\\\\\£\\Â*_<>\"\"⎫•{}Γ~]', ' ', to_correct)\n",
        "  result = re.sub(r'[\\u2014\\u2013\\u2012-]', ' ', result)\n",
        "\n",
        "  # replace whitespace characters with actual whitespace\n",
        "  result = re.sub(r'\\s', ' ', result)\n",
        "\n",
        "  # replace odd quotation marks with a standard\n",
        "  result = re.sub(r'[‘’“”]', \"'\", result)\n",
        "\n",
        "  # replace the ﬀ, ﬃ and ﬁ with the appropriate counterparts\n",
        "  result = re.sub(r'ﬀ', 'ff', result)\n",
        "  result = re.sub(r'ﬁ', 'fi', result)\n",
        "  result = re.sub(r'ﬃ', 'ffi', result)\n",
        "\n",
        "  # replace some accented characters for ease of searching\n",
        "  result = re.sub(r'é', 'e', result)\n",
        "\n",
        "  # remove or standardize some recurring common and meaninless words/phrases\n",
        "  result = re.sub(r'\\s*This\\s*page\\s*intentionally\\s*left\\s*blank\\s*', ' ', result)\n",
        "  result = re.sub(r'(?i)Aufgabe\\s+', ' ', result)\n",
        "  result = re.sub(r',*\\s+cf\\.', ' ', result)\n",
        "\n",
        "  # some texts have footnotes conveniently in brackets - this removes them all, \n",
        "  # with a safety measure for unpaired brackets, and deletes all brackets afterwards\n",
        "  if bracketed_fn:\n",
        "    result = re.sub(r'\\[.{0,300}\\]|{.{0,300}}|{.{0,300}\\]|\\[.{0,300}}', ' ', result)\n",
        "  result = re.sub(r'[\\[\\]{}]', ' ', result)\n",
        "\n",
        "  # unify some abbreviations\n",
        "  result = re.sub(r'&', 'and', result)\n",
        "  result = re.sub(r'\\se\\.g\\.\\s', ' eg ', result)\n",
        "  result = re.sub(r'\\si\\.e\\.\\s', ' ie ', result)\n",
        "  result = re.sub('coroll\\.', 'coroll', result)\n",
        "  result = re.sub('pt\\.', 'pt', result)\n",
        "\n",
        "  # remove roman numerals, first capitalized ones\n",
        "  result = re.sub(r'\\s((I{2,}V*X*\\.*)|(IV\\.*)|(IX\\.*)|(V\\.*)|(V+I*\\.*)|(X+L*V*I*]\\.*))\\s', ' ', result)\n",
        "  # then lowercase\n",
        "  result = re.sub(r'\\s((i{2,}v*x*\\.*)|(iv\\.*)|(ix\\.*)|(v\\.*)|(v+i*\\.*)|(x+l*v*i*\\.*))\\s', ' ', result)\n",
        "\n",
        "  # remove periods and commas flanked by numbers\n",
        "  result = re.sub(r'\\d\\.\\d', ' ', result)\n",
        "  result = re.sub(r'\\d,\\d', ' ', result)\n",
        "\n",
        "  # remove the number-letter-number pattern used for many citations\n",
        "  result = re.sub(r'\\d*\\w{,2}\\d', ' ', result)\n",
        "\n",
        "  # remove numerical characters\n",
        "  result = re.sub(r'\\d+', ' ', result)\n",
        "\n",
        "  # remove words of 2+ characters that are entirely capitalized \n",
        "  # (these are almost always titles, headings, or speakers in a dialogue)\n",
        "  # remove capital I's that follow capital words - these almost always roman numerals\n",
        "  # some texts do use these capitalizations meaningfully, so we make this optional\n",
        "  if capitals:\n",
        "    result = re.sub(r'[A-Z]{2,}\\s+I', ' ', result)\n",
        "    result = re.sub(r'[A-Z]{2,}', ' ', result)\n",
        "\n",
        "  # remove isolated colons and semicolons that result from removal of titles\n",
        "  result = re.sub(r'\\s+:\\s*', ' ', result)\n",
        "  result = re.sub(r'\\s+;\\s*', ' ', result)\n",
        "\n",
        "  # remove isolated letters (do it several times because strings of isolated letters do not get captured properly)\n",
        "  result = re.sub(r'\\s[^aAI\\.]\\s', ' ', result)\n",
        "  result = re.sub(r'\\s[^aAI\\.]\\s', ' ', result)\n",
        "  result = re.sub(r'\\s[^aAI\\.]\\s', ' ', result)\n",
        "  result = re.sub(r'\\s[^aAI\\.]\\s', ' ', result)\n",
        "  result = re.sub(r'\\s[^aAI\\.]\\s', ' ', result)\n",
        "  result = re.sub(r'\\s[^aAI\\.]\\s', ' ', result)\n",
        "\n",
        "  # remove isolated letters at the end of sentences or before commas\n",
        "  result = re.sub(r'\\s[^aI]\\.', '.', result)\n",
        "  result = re.sub(r'\\s[^aI],', ',', result)\n",
        "\n",
        "  # deal with spaces around periods and commas\n",
        "  result = re.sub(r'\\s+,\\s+', ', ', result)\n",
        "  result = re.sub(r'\\s+\\.\\s+', '. ', result)\n",
        "\n",
        "  # remove empty parantheses\n",
        "  result = re.sub(r'(\\(\\s*\\.*\\s*\\))|(\\(\\s*,*\\s*)\\)', ' ', result)\n",
        "  result = re.sub(r'\\.\\)\\.', '.', result)\n",
        "  result = re.sub(r'\\.\\(\\.', '.', result)\n",
        "\n",
        "  # reduce multiple periods, commas, or whitespaces into a single one\n",
        "  result = re.sub(r'\\.+', '.', result)\n",
        "  result = re.sub(r',+', ',', result)\n",
        "  result = re.sub(r'\\s+', ' ', result)\n",
        "\n",
        "  # deal with isolated problem cases discovered in the data:\n",
        "  for key in odd_words_dict.keys():\n",
        "    result = re.sub(r''+key+'', odd_words_dict[key], result)\n",
        "\n",
        "  return result"
      ],
      "execution_count": null,
      "outputs": []
    },
    {
      "cell_type": "code",
      "metadata": {
        "colab": {
          "base_uri": "https://localhost:8080/",
          "height": 136
        },
        "id": "bOIF01WGsDzv",
        "outputId": "4369eccb-993c-413c-b4d5-0c4b49f57a3e"
      },
      "source": [
        "# use this cell to run the function on the new text and see if anything looks odd\n",
        "baseline_clean(wollstonecraft_vindication)[10000:30000]"
      ],
      "execution_count": null,
      "outputs": [
        {
          "output_type": "execute_result",
          "data": {
            "application/vnd.google.colaboratory.intrinsic+json": {
              "type": "string"
            },
            "text/plain": [
              "\" a great difference between man and man, or that the civilization, which has hitherto taken place in the world, has been very partial. I have turned over various books written on the subject of education, and patiently observed the conduct of parents and the management of schools; but what has been the result? a profound conviction, that the neglected education of my fellow creatures is the grand source of the misery I deplore; and that women in particular, are rendered weak and wretched by a variety of concurring causes, originating from one hasty conclusion. The conduct and manners of women, in fact, evidently prove, that their minds are not in a healthy state; for, like the flowers that are planted in too rich a soil, strength and usefulness are sacrificed to beauty; and the flaunting leaves, after having pleased a fastidious eye, fade, disregarded on the stalk, long before the season when they ought to have arrived at maturity. One cause of this barren blooming I attribute to a false system of education, gathered from the books written on this subject by men, who, considering females rather as women than human creatures, have been more anxious to make them alluring mistresses than rational wives; and the understanding of the sex has been so bubbled by this specious homage, that the civilized women of the present century, with a few exceptions, are only anxious to inspire love, when they ought to cherish a nobler ambition, and by their abilities and virtues exact respect. In a treatise, therefore, on female rights and manners, the works which have been particularly written for their improvement must not be overlooked; especially when it is asserted, in direct terms, that the minds of women are enfeebled by false refinement; that the books of instruction, written by men of genius, have had the same tendency as more frivolous productions; and that, in the true style of Mahometanism, they are only considered as females, and not as a part of the human species, when improvable reason is allowed to be the dignified distinction, which raises men above the brute creation, and puts a natural sceptre in a feeble hand. Yet, because I am a woman, I would not lead my readers to suppose, that I mean violently to agitate the contested question respecting the equality and inferiority of the sex; but as the subject lies in my way, and I cannot pass it over without subjecting the main tendency of my reasoning to misconstruction, I shall stop a moment to deliver, in a few words, my opinion. In the government of the physical world, it is observable that the female, in general, is inferior to the male. The male pursues, the female yields this is the law of nature; and it does not appear to be suspended or abrogated in favour of woman. This physical superiority cannot be denied and it is a noble prerogative! But not content with this natural pre eminence, men endeavour to sink us still lower, merely to render us alluring objects for a moment; and women, intoxicated by the adoration which men, under the influence of their senses, pay them, do not seek to obtain a durable interest in their hearts, or to become the friends of the fellow creatures who find amusement in their society. I am aware of an obvious inference: from every quarter have I heard exclamations against masculine women; but where are they to be found? If, by this appellation, men mean to inveigh against their ardour in hunting, shooting, and gaming, I shall most cordially join in the cry; but if it be, against the imitation of manly virtues, or, more properly speaking, the attainment of those talents and virtues, the exercise of which ennobles the human character, and which raise females in the scale of animal being, when they are comprehensively termed mankind all those who view them with a philosophical eye must, I should think, wish with me, that they may every day grow more and more masculine. This discussion naturally divides the subject. I shall first consider women in the grand light of human creatures, who, in common with men, are placed on this earth to unfold their faculties; and afterwards I shall more particularly point out their peculiar designation. I wish also to steer clear of an error, which many respectable writers have fallen into; for the instruction which has hitherto been addressed to women, has rather been applicable to if the little indirect advice, that is scattered through Sandford and Merton, be excepted; but, addressing my sex in a firmer tone, I pay particular attention to those in the middle class, because they appear to be in the most natural state. Perhaps the seeds of false refinement, immorality, and vanity have ever been shed by the great. Weak, artificial beings raised above the common wants and affections of their race, in a premature unnatural manner, undermine the very foundation of virtue, and spread corruption through the whole mass of society! As a class of mankind they have the strongest claim to pity! the education of the rich tends to render them vain and helpless, and the unfolding mind is not strengthened by the practice of those duties which dignify the human character. They only live to amuse themselves, and by the same law which in nature invariably produces certain effects, they soon only afford barren amusement. But as I purpose taking a separate view of the different ranks of society, and of the moral character of women, in each, this hint is, for the present, sufficient; and I have only alluded to the subject, because it appears to me to be the very essence of an introduction to give a cursory account of the contents of the work it introduces. My own sex, I hope, will excuse me, if I treat them like rational creatures, instead of flattering their graces, and viewing them as if they were in a state of perpetual childhood, unable to stand alone. I earnestly wish to point out in what true dignity and human happiness consists I wish to persuade women to endeavour to acquire strength, both of mind and body, and to convince them, that the soft phrases, susceptibility of heart, delicacy of sentiment, and refinement of taste, are almost synonymous with epithets of weakness, and that those beings who are only the objects of pity and that kind of love, which has been termed its sister, will soon become objects of contempt Dismissing then those pretty feminine phrases, which the men condescendingly use to soften our slavish dependence, and despising that weak elegancy of mind, exquisite sensibility, and sweet docility of manners, supposed to be the sexual characteristics of the weaker vessel, I wish to show that elegance is inferior to virtue, that the first object of laudable ambition is to obtain a character as a human being, regardless of the distinction of sex; and that secondary views should be brought to this simple touchstone. This is a rough sketch of my plan; and should I express my conviction with the energetic emotions that I feel whenever I think of the subject, the dictates of experience and reflection will be felt by some of my readers. Animated by this important object, I shall disdain to cull my phrases or polish my style I aim at being useful, and sincerity will render me unaffected; for wishing rather to persuade by the force of my arguments, than dazzle by the elegance of my language, I shall not waste my time in rounding periods, nor in fabricating the turgid bombast of artificial feelings, which, coming from the head, never reach the heart. I shall be employed about things, not words! and, anxious to render my sex more respectable members of society, I shall try to avoid that flowery diction which has slided from essays into novels, and from novels into familiar letters and conversation. These pretty nothings, these caricatures of the real beauty of sensibility, dropping glibly from the tongue, vitiate the taste, and create a kind of sickly delicacy that turns away from simple unadorned truth; and a deluge of false sentiments and over stretched feelings, stifling the natural emotions of the heart, render the domestic pleasures insipid, that ought to sweeten the exercise of those severe duties, which educate a rational and immortal being for a nobler field of action. The education of women has, of late, been more attended to than formerly; yet they are still reckoned a frivolous sex, and ridiculed or pitied by the writers who endeavour by satire or instruction to improve them. It is acknowledged that they spend many of the first years of their lives in acquiring a smattering of accomplishments: meanwhile, strength of body and mind are sacrificed to libertine notions of beauty, to the desire of establishing themselves, the only way women can rise in the world by marriage. And this desire making mere animals of them, when they marry, they act as such children may be expected to act: they dress; they paint, and nickname God's creatures. Surely these weak beings are only fit for the seraglio! Can they govern a family, or take care of the poor babes whom they bring into the world? If then it can be fairly deduced from the present conduct of the sex, from the prevalent fondness for pleasure, which takes place of ambition and those nobler passions that open and enlarge the soul; that the instruction which women have received has only tended, with the constitution of civil society, to render them insignificant objects of desire; mere propagators of fools! if it can be proved, that in aiming to accomplish them, without cultivating their understandings, they are taken out of their sphere of duties, and made ridiculous and useless when the short lived bloom of beauty is over I presume that men will excuse me for endeavouring to persuade them to become more masculine and respectable. Footnote. A lively writer, I cannot recollect his name, asks what business women turned of forty have to do in the world.) Indeed the word masculine is only a bugbear: there is little reason to fear that women will acquire too much courage or fortitude; for their apparent inferiority with respect to bodily strength, must render them, in some degree, dependent on men in the various relations of life; but why should it be increased by prejudices that give a sex to virtue, and confound simple truths with sensual reveries? Women are, in fact, so much degraded by mistaken notions of female excellence, that I do not mean to add a paradox when I assert, that this artificial weakness produces a propensity to tyrannize, and gives birth to cunning, the natural opponent of strength, which leads them to play off those contemptible infantile airs that undermine esteem even whilst they excite desire. Do not foster these prejudices, and they will naturally fall into their subordinate, yet respectable station in life. It seems scarcely necessary to say, that I now speak of the sex in general. Many individuals have more sense than their male relatives; and, as nothing preponderates where there is a constant struggle for an equilibrium, without it has naturally more gravity, some women govern their husbands without degrading themselves, because intellect will always govern. . In the present state of society, it appears necessary to go back to first principles in search of the most simple truths, and to dispute with some prevailing prejudice every inch of ground. To clear my way, I must be allowed to ask some plain questions, and the answers will probably appear as unequivocal as the axioms on which reasoning is built; though, when entangled with various motives of action, they are formally contradicted, either by the words or conduct of men. In what does man's pre eminence over the brute creation consist? The answer is as clear as that a half is less than the whole; in Reason. What acquirement exalts one being above another? Virtue; we spontaneously reply. For what purpose were the passions implanted? That man by struggling with them might attain a degree of knowledge denied to the brutes: whispers Experience. Consequently the perfection of our nature and capability of happiness, must be estimated by the degree of reason, virtue, and knowledge, that distinguish the individual, and direct the laws which bind society: and that from the exercise of reason, knowledge and virtue naturally flow, is equally undeniable, if mankind be viewed collectively. The rights and duties of man thus simplified, it seems almost impertinent to attempt to illustrate truths that appear so incontrovertible: yet such deeply rooted prejudices have clouded reason, and such spurious qualities have assumed the name of virtues, that it is necessary to pursue the course of reason as it has been perplexed and involved in error, by various adventitious circumstances, comparing the simple axiom with casual deviations. Men, in general, seem to employ their reason to justify prejudices, which they have imbibed, they cannot trace how, rather than to root them out. The mind must be strong that resolutely forms its own principles; for a kind of intellectual cowardice prevails which makes many men shrink from the task, or only do it by halves. Yet the imperfect conclusions thus drawn, are frequently very plausible, because they are built on partial experience, on just, though narrow, views. Going back to first principles, vice skulks, with all its native deformity, from close investigation; but a set of shallow reasoners are always exclaiming that these arguments prove too much, and that a measure rotten at the core may be expedient. Thus expediency is continually contrasted with simple principles, till truth is lost in a mist of words, virtue in forms, and knowledge rendered a sounding nothing, by the specious prejudices that assume its name. That the society is formed in the wisest manner, whose constitution is founded on the nature of man, strikes, in the abstract, every thinking being so forcibly, that it looks like presumption to endeavour to bring forward proofs; though proof must be brought, or the strong hold of prescription will never be forced by reason; yet to urge prescription as an argument to justify the depriving men (or women) of their natural rights, is one of the absurd sophisms which daily insult common sense. The civilization of the bulk of the people of Europe, is very partial; nay, it may be made a question, whether they have acquired any virtues in exchange for innocence, equivalent to the misery produced by the vices that have been plastered over unsightly ignorance, and the freedom which has been bartered for splendid slavery. The desire of dazzling by riches, the most certain pre eminence that man can obtain, the pleasure of commanding flattering sycophants, and many other complicated low calculations of doting self love, have all contributed to overwhelm the mass of mankind, and make liberty a convenient handle for mock patriotism. For whilst rank and titles are held of the utmost importance, before which Genius must hide its diminished head, it is, with a few exceptions, very unfortunate for a nation when a man of abilities, without rank or property, pushes himself forward to notice. Alas! what unheard of misery have thousands suffered to purchase a cardinal's hat for an intriguing obscure adventurer, who longed to be ranked with princes, or lord it over them by seizing the triple crown! Such, indeed, has been the wretchedness that has flowed from hereditary honours, riches, and monarchy, that men of lively sensibility have almost uttered blasphemy in order to justify the dispensations of providence. Man has been held out as independent of his power who made him, or as a lawless planet darting from its orbit to steal the celestial fire of reason; and the vengeance of heaven, lurking in the subtile flame, sufficiently punished his temerity, by introducing evil into the world. Impressed by this view of the misery and disorder which pervaded society, and fatigued with jostling against artificial fools, Rousseau became enamoured of solitude, and, being at the same time an optimist, he labours with uncommon eloquence to prove that man was naturally a solitary animal. Misled by his respect for the goodness of God, who certainly for what man of sense and feeling can doubt it! gave life only to communicate happiness, he considers evil as positive, and the work of man; not aware that he was exalting one attribute at the expense of another, equally necessary to divine perfection. Reared on a false hypothesis, his arguments in favour of a state of nature are plausible, but unsound. I say unsound; for to assert that a state of nature is preferable to civilization in all its possible perfection, is, in other words, to arraign supreme wisdom; and the paradoxical exclamation, that God has made all things right, and that evil has been introduced by the creature whom he formed, knowing what he formed, is as unphilosophical as impious. When that wise Being, who created us and placed us here, saw the fair idea, he willed, by allowing it to be so, that the passions should unfold our reason, because he could see that present evil would produce future good. Could the helpless creature whom he called from nothing, break loose from his providence, and boldly learn to know good by practising evil without his permission? No. How could that energetic advocate for immortality argue so inconsistently? Had mankind remained for ever in the brutal state of nature, which even his magic pen cannot paint as a state in which a single virtue took root, it would have been clear, though not to the sensitive unreflecting wanderer, that man was born to run the circle of life and death, and adorn God's garden for some purpose which could not easily be reconciled with his attributes. But if, to crown the whole, there were to be rational creatures produced, allowed to rise in excellency by the exercise of powers implanted for that purpose; if benignity itself thought fit to call into existence a creature above the brutes, who could think and improve himself, why should that inestimable gift, for a gift it was, if a man was so created as to have a capacity to rise above the state in which sensation produced brutal ease, be called, in direct terms, a curse? A curse it might be reckoned, if all our existence was bounded by our continuance in this world; for why should the gracious fountain of life give us passions, and the power of reflecting, only to embitter our days, and inspire us with mistaken notions of dignity? Why should he lead us from love of ourselves to the sublime emotions which the discovery of his wisdom and goodness excites, if these feelings were not set in motion to improve our nature, of which they make a part, and render us capable of enjoying a more godlike portion of happiness? Firmly persuaded that no evil exists in the world that God did not design to take place, I build my belief on the perfection of God. Rousseau exerts himself to prove, that all right originally: a crowd of authors that all now right: and I, that all right. But, true to his first position, next to a state of nature, Rousseau celebrates barbarism, and, apostrophizing the shade of Fabricius, he forgets that, in conquering the world, the Romans never dreamed of establishing their own liberty on a firm basis, or of extending the reign of virtue. Eager to support his system, he stigmatizes, as vicious, every effort of genius; and uttering the apotheosis of savage virtues, he exalts those to demigods, who were scarcely human the brutal Spartans, who in defiance of justice and gratitude, sacrificed, in cold blood, the slaves that had shown themselves men to rescue their oppressors. Disgusted with artificial manners and virtues, the citizen of Geneva, instead of properly sifting the subject, threw away the wheat with the chaff, without waiting to inquire whether the evils, which his ardent soul turned from indignantly, were the consequence of civilization, or the vestiges of barbarism. He saw vice trampling on virtue, and the sem\""
            ]
          },
          "metadata": {
            "tags": []
          },
          "execution_count": 10
        }
      ]
    },
    {
      "cell_type": "markdown",
      "metadata": {
        "id": "6e3D7iGALiMC"
      },
      "source": [
        "#### 2. Text-by-Text Cleaning"
      ]
    },
    {
      "cell_type": "markdown",
      "metadata": {
        "id": "i_T4TRdEL2aM"
      },
      "source": [
        "In this step we will remove headers and other offensive features of specific texts. \n",
        "\n",
        "The most common problem is the presence of headings that appear at the top of each page in the original book. When converted to a string, these then get interpolated into the text, interrupting the normal flow of sentences (this happens for page numbers and citations as well, but those cases are much easier to deal with). \n",
        "\n",
        "To deal with this, we build a list of the headers for each book and then delete them from the string that represents the book. In the process, we may create some issues if the header is common, so we are careful to only delete when the loss is worth it.\n",
        "\n",
        "In some cases, of course, the texts are already clean and no extra steps are required."
      ]
    },
    {
      "cell_type": "code",
      "metadata": {
        "id": "JxmXkIWbsJVs"
      },
      "source": [
        "plato_to_rm = ['Apology', 'Sophist', 'Statesman', 'Symposium', \n",
        "                 'Second Alcibiades', 'Rival Lovers', 'Greater Hippias', \n",
        "                 'Lesser Hippias', 'Republic', 'Laws', 'Letters', 'Definitions',\n",
        "                 'On Virtue', 'On Justice', 'Epigrams', 'Translated b.+\\.']\n",
        "\n",
        "aristotle_to_rm = ['Aristotle', 'Book']\n",
        "\n",
        "descartes_meditations_to_rm = ['Letter of Dedication', 'Preface to the Reader', \n",
        "                               'Synopsis', 'First Meditation', 'Second Meditation', \n",
        "                               'Third Meditation', 'Fourth Meditation', 'Fifth Meditation', \n",
        "                               'Sixth Meditation']\n",
        "\n",
        "malebranche_search_to_rm = ['Nicolas Malebranche', 'Truth', 'Nicolas',]\n",
        "\n",
        "locke_gov_to_rm = ['Sect.']\n",
        "\n",
        "berkeley_dialogues_to_rm = ['PHIL.', 'PHILONOUS.', 'HYL.', 'HYLAS.']\n",
        "\n",
        "kant_judgement_to_rm = ['Introduction', 'Preface to the First Edition', \n",
        "                        'Critique of Aesthetic Judgement', 'Critique of Teleological Judgement',\n",
        "                        'Analytic of the Beautiful', 'Analytic of the Sublime',\n",
        "                        'Anaytic of Teleological Judgement', 'Dialectic of Aeshetic Judgement',\n",
        "                        'Critique of Teleological Judgement', 'Dialectic of Teleological Judgement',\n",
        "                        'Theory of the Method of Teleological Judgement',\n",
        "                        '‘First Introduction’ to the Critique of Judgement']\n",
        "\n",
        "kant_pure_reason_to_rm = ['Introduction', '\\s+Section\\s.+', '\\sDoctrine\\s*of\\s*Elements\\.\\s*.+',\n",
        "                          '\\sDoctrine\\s*of\\s*Method\\.\\s*.+']                        \n",
        "\n",
        "\n",
        "fichte_ethics_to_rm = ['Page']\n",
        "\n",
        "hegel_SoL_to_rm = ['Georg Wilhelm Friedrich Hegel', 'The Science of Logic']\n",
        "\n",
        "hegel_right_to_rm = ['Preface', 'Philosophy of Right', 'Philosophy ofRight', \n",
        "                     'Philosophy ojRight', 'Philosophy oj Right', \n",
        "                     'Introduction', 'Abstract Right', 'Ethical Life', 'Ethical Lift',\n",
        "                     'Morality']\n",
        "\n",
        "wittgenstein_tract_to_rm = ['tractatus logico-philosophicus']\n",
        "\n",
        "lewis_papers_1_to_rm = ['Introduction', 'Ontology', 'Holes', 'Anselm and Actuality', \n",
        "                        'Counterpart Theory and Quantified Modal Logic', \n",
        "                        'Counterparts of Persons and Their Bodies', 'Survival and Identity',\n",
        "                        'How to Define Theoretical Terms', 'Philosophy of Mind', \n",
        "                        'An Argument for the Identity Theory', 'Radical Interpretation',\n",
        "                        'Mad Pain and Partian Pain', 'Attitudes De Dicto and De Se',\n",
        "                        'Philosophy of Language', 'Languages and Language',\n",
        "                        'General Semantics', 'Scorekeeping in a Language Game',\n",
        "                        'Tensions', 'Truth in Fiction', 'This page intentionally left blank']\n",
        "\n",
        "lewis_papers_2_to_rm = ['end\\sp\\.']\n",
        "\n",
        "quine_quintessence_to_rm = ['(?i)\\s+Truth\\s+by\\s+Convention\\s+', '(?i)\\s+Two\\s+Dogams\\s+of\\s+Empiricism',\n",
        "                            '(?i)\\s+Two\\s+in\\s+Retrospect\\s+', '(?i)\\s+Carnap\\s+and\\s+Logical\\s+Truth',\n",
        "                            '(?i)\\s+Speaking\\s+of\\s+Objects\\s+', '(?i)\\s+Reference\\s+',\n",
        "                            '(?i)\\s+Translation\\s+and\\s+Meaning', '(?i)\\s+Progress\\s+on\\s+Two\\s+Fronts\\s+',\n",
        "                            '(?i)\\s+On\\s+What\\s+There\\s+is\\s+', '(?i)\\s+the\\s+scope\\s+and\\s+language\\s+of\\s+science\\s+',\n",
        "                            '(?i)\\s+on\\s+simple\\s+theories\\s+of\\s+a\\s+complex\\s+world\\s+',\n",
        "                            '(?i)\\s+ontic\\s+decision\\s+', '(?i)\\s+things\\s+and\\s+their\\s+place\\s+in\\s+theories\\s+',\n",
        "                            \"(?i)\\s+on\\s+Carnap\\s*'s\\s+views\\s+on\\s+ontology\\s+\",\n",
        "                            '(?i)\\s+empistemology\\s+naturalized\\s+', \n",
        "                            \"(?i)\\s+naturalism\\s;\\s+or,\\s+living\\s+within\\s+one\\s*'s\\s+means\\s+\",\n",
        "                            '(?i)\\s+the\\s+nature\\s+of\\s+natural\\s+knowledge\\s+',\n",
        "                            '(?i)\\s+five\\s+milestones\\s+of\\s+empiricism\\s+',\n",
        "                            '(?i)\\s+on\\s+mental\\s+entities\\s+', '(?i)\\s+mind\\s+and\\s+verbal\\s+dispositions\\s+',\n",
        "                            '(?i)\\s+confessions\\s+of\\s+a\\s+confirmed\\s+extensionalist\\s+',\n",
        "                            '(?i)\\s+quantifiers\\s+and\\s+propositional\\s+attitudes\\s+',\n",
        "                            '(?i)\\s+intensions\\s+revisited\\s+', '(?i)\\s+reference\\s+and\\s+modality\\s+',\n",
        "                            '(?i)\\s+three\\s+grades\\s+of\\s+modal\\s+involvement\\s+']\n",
        "\n",
        "popper_science_to_rm = ['the logic of science', 'a survey of some fundamental problems',\n",
        "                        'preface', 'on the problem of a theory of scientific method',\n",
        "                        'some structural components of a theory of experience',\n",
        "                        'degrees of testability', 'some observations on quantum theory',\n",
        "                        'corroboration, or how a theory stands up to tests']\n",
        "\n",
        "kripke_troubles_to_rm = ['Identity and Necessity', 'On Two Paradoxes of Knowledge',\n",
        "                          'Vacuous Names and Fictional Entities', 'Outline of a Theory of Truth',\n",
        "                          \"Speaker's Reference and Semantic Reference\",\n",
        "                          'A Puzzle about Belief', 'Nozick on Knowledge', \n",
        "                          \"Russell's Notion of Scope\", \"Frege's Theory of Sense and Reference\",\n",
        "                          'The First Person', 'Unrestricted Exportation and Some Morals for the Philosophy',\n",
        "                          'Presupposition and Anaphora', 'A Puzzle about Time and Thought']\n",
        "\n",
        "ponty_perception_to_rm = ['phenomenology of perception', 'preface',\n",
        "                          \"the 'sensation' as a unit of experience\", \n",
        "                          \"'association' and the 'projection of memories'\",\n",
        "                          \"'attention' and 'judgement'\", 'the phenomenal field', \n",
        "                          'experience and objective thought', 'the body as object and mechanistic psychology',\n",
        "                          'the experience of the body and classical psychology',\n",
        "                          \"the spatiality of one’s own body and motility\",\n",
        "                          \"the synthesis of one's own body\", 'the body in its sexual being',\n",
        "                          'the body as expression, and speech',\n",
        "                          'theory of the body is already a theory of perception',\n",
        "                          'sense experience', 'the thing and the natural world',\n",
        "                          'other selves and the human world']\n",
        "\n",
        "husserl_crisis_to_rm = ['Part\\s+', 'Idealization and the Science of Reality', \n",
        "                        'Denial of Scientific Philosophy', 'The Origin of Geometry',\n",
        "                        'Natural Science and Humanistic Science',\n",
        "                        'The Vienna Lecture']\n",
        "\n",
        "heidegger_b_and_t_to_rm = ['\\s+Being\\s*and\\s*Time\\s+', 'Int.', 'I.m', 'I.n']                                                  \n",
        "\n",
        "foucault_order_to_rm = ['the order of things', 'the prose of the world', '\\s+classifying\\s+',\n",
        "                        'exchanging', 'the limits of representation',\n",
        "                        'labour, life, language', 'man and his doubles']\n",
        "\n",
        "foucault_madness_to_rm = ['\\s+Page\\s']\n",
        "\n",
        "foucault_clinic_to_rm = ['\\(\\(.+\\)\\)']\n",
        "\n",
        "deleuze_difference_to_rm = ['Difference and Repetition', 'Difference in Itself',\n",
        "                            'Repetition for Itself', 'The Image of Thought',\n",
        "                            'Ideas and the Synthesis of Difference',\n",
        "                            'Asymmetrical Synthesis of the Sensible', 'Conclusion']\n",
        "\n",
        "marx_kapital_to_rm = ['http.+', 'Capital\\s+Vol\\..+']\n",
        "\n",
        "marx_manifesto_to_rm = ['\\s+page\\s+\\d+']\n",
        "\n",
        "keynes_employment_to_rm = ['(?i)\\s+The\\s+General\\s+Theory\\s+of\\s+Employment,*\\s+interest\\s+and\\s+money\\s+by\\s+john\\s+maynard\\s+keynes\\s+',\n",
        "                           'Table of Contents \\| Previous Chapter \\| Next Chapter', \n",
        "                           'Chapter\\s+\\d+']       \n",
        "\n",
        "do_not_remove_capitals = ['essay concerning human understanding bk 2', \n",
        "                          'a treatise of human nature', \n",
        "                          'dialogues concerning natural religion', 'three dialogues', \n",
        "                          'a treatise concerning the principles of human knowledge',\n",
        "                          'thus spake zarathustra', 'beyond good and evil']\n",
        "\n",
        "bracketed_fn = ['critique of practical reason', 'the communist manifesto', 'ecce homo']                                          "
      ],
      "execution_count": null,
      "outputs": []
    },
    {
      "cell_type": "markdown",
      "metadata": {
        "id": "4Z6-svnmMCtz"
      },
      "source": [
        "#### 3. Tokenizing and Rendering the Texts as a Dataframe"
      ]
    },
    {
      "cell_type": "markdown",
      "metadata": {
        "id": "meZEHHSgMEBd"
      },
      "source": [
        "We now are in a position to apply these methods to each text and return a dataframe for each of them. Although we are interested primarily in the schools of thought in general, it would be convenient and more useful for future projects if we also include the specific authors and titles. \n",
        "\n",
        "To prepare for this project, we build a dictionary for each school, so that we can then iterate over a list of dictionaries to create a dataframe for each."
      ]
    },
    {
      "cell_type": "code",
      "metadata": {
        "colab": {
          "base_uri": "https://localhost:8080/"
        },
        "id": "Ct6SmxnTsM1k",
        "outputId": "7602c6b0-a5be-45e9-b9f0-48199d2512a7"
      },
      "source": [
        "# prepare lists that will be zipped into a dictionary\n",
        "\n",
        "# texts \n",
        "all_texts\n",
        "\n",
        "# titles\n",
        "title_list = [\"plato - complete works\", \"aristotle - complete works\", \"aristotle - complete works\",\n",
        "              'second treatise on government', 'essay concerning human understanding',\n",
        "              'essay concerning human understanding', 'a treatise of human nature', \n",
        "              'dialogues concerning natural religion', 'three dialogues', \n",
        "              'a treatise concerning the principles of human knowledge',\n",
        "              'ethics', 'on the improvement of understanding', 'theodicy',\n",
        "              'discourse on method', 'meditations on first philosophy', 'the search after truth',\n",
        "              'the analysis of mind', 'the problems of philosophy', 'philosophical studies',\n",
        "              'philosophical investigations', 'tractatus logico-philosophicus',\n",
        "              \"lewis - papers\", \"lewis - papers\", 'quintessence', \n",
        "              'the logic of scientific discovery', 'naming and necessity', \n",
        "              'philosophical troubles', 'on certainty', 'the birth of the clinic',\n",
        "              'madness and civilization',\n",
        "              'the order of things', 'writing and difference', 'difference and repetition',\n",
        "              'anti-oedipus', 'the phenomenology of perception', \n",
        "              'the crisis of the european sciences and phenomenology', \n",
        "              'the idea of phenomenology',\n",
        "              'being and time', 'off the beaten track', 'critique of practical reason', \n",
        "              'critique of judgement', 'critique of pure reason', \n",
        "              'the system of ethics', 'science of logic', 'the phenomenology of spirit',\n",
        "              'elements of the philosophy of right', 'capital', 'the communist manifesto', \n",
        "              'essential works of lenin', 'the wealth of nations', \n",
        "              'on the principles of political economy and taxation',\n",
        "              'a general theory of employment, interest, and money', 'enchiridion',\n",
        "              'meditations', 'the antichrist', 'beyond good and evil', 'ecce homo',\n",
        "              'twilight of the idols', 'thus spake zarathustra', 'vindication of the rights of woman']\n",
        "\n",
        "# dates\n",
        "publication_dates = [-360, -322, -322,\n",
        "              'second treatise on government', 'essay concerning human understanding',\n",
        "              'essay concerning human understanding', 'a treatise of human nature', \n",
        "              'dialogues concerning natural religion', 'three dialogues', \n",
        "              'a treatise concerning the principles of human knowledge',\n",
        "              'ethics', 'on the improvement of understanding', 'theodicy',\n",
        "              'discourse on method', 'meditations on first philosophy', 'the search after truth',\n",
        "              'the analysis of mind', 'the problems of philosophy', 'philosophical studies',\n",
        "              'philosophical investigations', 'tractatus logico-philosophicus',\n",
        "              \"lewis - papers\", \"lewis - papers\", 'quintessence', \n",
        "              'the logic of scientific discovery', 'naming and necessity', \n",
        "              'philosophical troubles', 'on certainty', 'the birth of the clinic',\n",
        "              'madness and civilization',\n",
        "              'the order of things', 'writing and difference', 'difference and repetition',\n",
        "              'anti-oedipus', 'the phenomenology of perception', \n",
        "              'the crisis of the european sciences and phenomenology', \n",
        "              'the idea of phenomenology',\n",
        "              'being and time', 'off the beaten track', 'critique of practical reason', \n",
        "              'critique of judgement', 'critique of pure reason', \n",
        "              'the system of ethics', 'science of logic', 'the phenomenology of spirit',\n",
        "              'elements of the philosophy of right', 'capital', 'the communist manifesto', \n",
        "              'essential works of lenin', 'the wealth of nations', \n",
        "              'on the principles of political economy and taxation',\n",
        "              'a general theory of employment, interest, and money', 'enchiridion',\n",
        "              'meditations', 'the antichrist', 'beyond good and evil', 'ecce homo',\n",
        "              'twilight of the idols', 'thus spake zarathustra', 'vindication of the rights of woman']\n",
        "\n",
        "# authors\n",
        "author_list = ['plato', 'aristotle', 'aristotle', 'locke', 'locke', 'locke',\n",
        "               'hume', 'hume', 'berkeley', 'berkeley', 'spinoza', 'spinoza',\n",
        "               'leibniz', 'descartes', 'descartes', 'malebranche', 'russell', \n",
        "               'russell', 'moore', 'wittgenstein', 'wittgenstein', 'lewis', 'lewis',\n",
        "               'quine', 'popper', 'kripke', 'kripke', 'wittgenstein', 'foucault', 'foucault', \n",
        "               'foucault', 'derrida', 'deleuze', 'deleuze', 'merleau-ponty', \n",
        "               'husserl', 'husserl', 'heidegger', 'heidegger', 'kant', 'kant',\n",
        "               'kant', 'fichte', 'hegel', 'hegel', 'hegel', 'marx', 'marx', 'lenin',\n",
        "               'smith', 'ricardo', 'keynes', 'epictetus', 'marcus aurelius',\n",
        "               'nietzsche', 'nietzsche', 'nietzsche', 'nietzsche', 'nietzsche',\n",
        "               'mary wollstonecraft']\n",
        "\n",
        "school_list = ['plato', 'aristotle', 'aristotle', 'empiricism', 'empiricism', \n",
        "               'empiricism', 'empiricism', 'empiricism', 'empiricism', 'empiricism',\n",
        "               'rationalism', 'rationalism', 'rationalism', 'rationalism', \n",
        "               'rationalism', 'rationalism', 'analytic', 'analytic', 'analytic', \n",
        "               'analytic', 'analytic', 'analytic', 'analytic', 'analytic', 'analytic', \n",
        "               'analytic', 'analytic', 'analytic', 'continental', 'continental', 'continental', \n",
        "               'continental', 'continental', 'continental', 'phenomenology', \n",
        "               'phenomenology', 'phenomenology', 'phenomenology', 'phenomenology', \n",
        "               'german_idealism', 'german_idealism', 'german_idealism', 'german_idealism',\n",
        "               'german_idealism', 'german_idealism', 'german_idealism', 'communism', \n",
        "               'communism', 'communism', 'capitalism', 'capitalism', 'capitalism', \n",
        "               'stoicism', 'stoicism', 'nietzsche', 'nietzsche', 'nietzsche', \n",
        "               'nietzsche', 'nietzsche', 'feminism']               \n",
        "\n",
        "# words to remove \n",
        "to_rm_list = [plato_to_rm, aristotle_to_rm, aristotle_to_rm, locke_gov_to_rm, \n",
        "              [], [], [], [], berkeley_dialogues_to_rm, [], [], [], [], [], \n",
        "              descartes_meditations_to_rm, malebranche_search_to_rm, [],\n",
        "              [], [], [], wittgenstein_tract_to_rm, lewis_papers_1_to_rm, \n",
        "              lewis_papers_2_to_rm, quine_quintessence_to_rm, popper_science_to_rm,\n",
        "              [], kripke_troubles_to_rm, [], foucault_clinic_to_rm, foucault_madness_to_rm,\n",
        "              foucault_order_to_rm, [], deleuze_difference_to_rm, [],\n",
        "              ponty_perception_to_rm, husserl_crisis_to_rm, [], heidegger_b_and_t_to_rm,\n",
        "              [], [], kant_judgement_to_rm, kant_pure_reason_to_rm, fichte_ethics_to_rm, \n",
        "              hegel_SoL_to_rm, [], hegel_right_to_rm, marx_kapital_to_rm, \n",
        "              marx_manifesto_to_rm, [], [], [], keynes_employment_to_rm, [], [], \n",
        "              [], [], [], [], [], []]\n",
        "\n",
        "# check lengths to make sure all are present\n",
        "len(to_rm_list), len(all_texts), len(author_list), len(title_list), len(school_list)"
      ],
      "execution_count": null,
      "outputs": [
        {
          "output_type": "execute_result",
          "data": {
            "text/plain": [
              "(60, 60, 60, 60, 60)"
            ]
          },
          "metadata": {
            "tags": []
          },
          "execution_count": 13
        }
      ]
    },
    {
      "cell_type": "code",
      "metadata": {
        "colab": {
          "base_uri": "https://localhost:8080/"
        },
        "id": "jWV3U1XIsPEe",
        "outputId": "35b5a2db-5a66-4500-ecbb-2046fbffaed3"
      },
      "source": [
        "# combine all these into a single list of dictionaries\n",
        "book_dicts = []\n",
        "for i in range(0, len(all_texts)):\n",
        "  book_dict = {}\n",
        "  book_dict['author'] = author_list[i].title()\n",
        "  book_dict['title'] = title_list[i].title()\n",
        "  book_dict['text'] = all_texts[i]\n",
        "  book_dict['school'] = school_list[i]\n",
        "  book_dict['words to remove'] = to_rm_list[i]\n",
        "  book_dict['remove capitals'] = True\n",
        "  book_dict['bracketed fn'] = False\n",
        "  book_dicts.append(book_dict)\n",
        "\n",
        "# mark the ones with bracketed footnotes \n",
        "for book in book_dicts:\n",
        "  if book['title'] in bracketed_fn:\n",
        "    book['bracketed fn'] = True\n",
        "\n",
        "# mark the ones with capitals we want to keep\n",
        "for book in book_dicts:\n",
        "  if book['title'] in do_not_remove_capitals:\n",
        "    book['remove capitals'] = False\n",
        "  \n",
        "# check length again to make sure\n",
        "len(book_dicts)"
      ],
      "execution_count": null,
      "outputs": [
        {
          "output_type": "execute_result",
          "data": {
            "text/plain": [
              "59"
            ]
          },
          "metadata": {
            "tags": []
          },
          "execution_count": 15
        }
      ]
    },
    {
      "cell_type": "code",
      "metadata": {
        "id": "ZMeasklebK9Y"
      },
      "source": [
        "# use this cell to build a single text dict if you are just adding a single new text\n",
        "wollstonecraft_dict = {\n",
        "    'author': 'mary wollstonecraft',\n",
        "    'title': 'vindication of the rights of woman',\n",
        "    'text': wollstonecraft_vindication,\n",
        "    'school': 'feminism',\n",
        "    'words to remove': [],\n",
        "    'remove capitals': False,\n",
        "    'bracketed fn': False\n",
        "}\n"
      ],
      "execution_count": null,
      "outputs": []
    },
    {
      "cell_type": "markdown",
      "metadata": {
        "id": "Old9KJCnMSLo"
      },
      "source": [
        "With a dictionary for each text, we are prepared to clean them, build dataframes for each text, and combine them into a master dataframe for all our data. \n",
        "\n",
        "As part of that, we use a new dictionary where the keys correspond to textual oddities and the values correspond to their corrected version. This helps deal with many individual cases of strange behavior in the corpus."
      ]
    },
    {
      "cell_type": "code",
      "metadata": {
        "id": "Xe_GUeVisQ7C"
      },
      "source": [
        "#@title Oddities Dictionary for Cleaning\n",
        "# a dictionary of oddities to clean up\n",
        "odd_words_dict = {'\\sderstanding': 'derstanding',\n",
        "                  '\\sditference\\s': ' difference ',\n",
        "                  '\\sforthe\\s': ' for the ',\n",
        "                  '\\sject': 'ject',\n",
        "                  '\\sjects': 'jects', \n",
        "                  '\\sness': 'ness',\n",
        "                  '\\sper\\scent\\s': ' percent ',\n",
        "                  '\\sper\\scent\\.': ' percent.',\n",
        "                  '\\sper\\scent,': ' percent,',\n",
        "                  '\\wi\\son': 'ion',\n",
        "                  '\\spri\\sori': ' priori',\n",
        "                  '\\stences\\s': 'tences ',\n",
        "                  '\\sprincipleb': ' principle',\n",
        "                  '\\ssciousness': 'sciousness',\n",
        "                  '\\stion': 'tion',\n",
        "                  '\\spri\\s': ' pri',\n",
        "                  '\\scluding': 'cluding',\n",
        "                  '\\sdom': 'dom',\n",
        "                  '\\sers': 'ers',\n",
        "                  '\\scritiq\\s': ' critique ',\n",
        "                  '\\ssensati\\s': ' sensation ',\n",
        "                  '(?i)\\syou\\sll': \" you'll\",\n",
        "                  '\\sI\\sll': \" I'll\",\n",
        "                  '(?i)\\swe\\sll': \" we'll\",\n",
        "                  '(?i)he\\sll': \" he'll\",\n",
        "                  '(?i)who\\sll': \"who'll\",\n",
        "                  '(?i)\\sthere\\sll\\s': \" there'll \",\n",
        "                  '\\seduca\\s': ' education ',\n",
        "                  '\\slity\\s': 'lity ',\n",
        "                  '\\smultaneously\\s': 'multaneously ',\n",
        "                  '\\stically\\s': 'tically ',\n",
        "                  '\\sDa\\ssein\\s': ' Dasein ',\n",
        "                  '(?i)\\sthey\\sll\\s': \" they'll \",\n",
        "                  '(?i)\\sin\\tum\\s': ' in turn ',\n",
        "                  '\\scon~\\s': ' con',\n",
        "                  '\\sà\\s': ' a ',\n",
        "                  '\\sjor\\s': ' for ',\n",
        "                  '\\sluminating\\s': 'luminating ',\n",
        "                  '\\sselj\\s': ' self ',\n",
        "                  '\\stial\\s': 'tial ',\n",
        "                  '\\sversal\\s': 'versal ',\n",
        "                  '\\sexis\\st': ' exist',\n",
        "                  '\\splauded\\s': 'plauded ',\n",
        "                  '\\suiry\\s': 'uiry ',\n",
        "                  '\\svithin\\s': ' within ',\n",
        "                  '\\soj\\s': ' of ',\n",
        "                  '\\sposi\\st': ' posit',\n",
        "                  '\\sra\\sther\\s': ' rather ',\n",
        "                  '(?i)\\sthat\\sll\\s': \" that'll \",\n",
        "                  '(?i)\\sa\\sll\\s': ' all ',\n",
        "                  '\\so\\sther\\s': ' other ',\n",
        "                  '\\sra\\sther\\s': ' rather ',\n",
        "                  '\\snei\\sther\\s': ' neither ',\n",
        "                  '\\sei\\sther\\s': ' either ',\n",
        "                  '\\sfur\\sther\\s': ' further ',\n",
        "                  '\\sano\\sther': ' another ',\n",
        "                  '\\sneces\\s': ' neces',\n",
        "                  'u\\slar\\s': 'ular ',\n",
        "                  '\\sference\\s': 'ference ',\n",
        "                  '(?i)it\\sll\\s': \"it'll \",\n",
        "                  '\\stoge\\sther': ' together ',\n",
        "                  '\\sknowledgeb\\s': ' knowledge ',\n",
        "                  'r\\stain\\s': 'rtain ',\n",
        "                  'on\\stain\\s': 'ontain',\n",
        "                  '(?i)j\\sect\\s': 'ject',\n",
        "                  '\\sob\\sect\\s': ' object ',\n",
        "                  '\\sbtle\\s': 'btle ',\n",
        "                  '\\snition\\s': 'nition ',\n",
        "                  '\\sdering\\s': 'dering ', \n",
        "                  '\\sized\\s': 'ized ',\n",
        "                  '\\sther\\shand': ' other hand',\n",
        "                  '\\ture\\s': 'ture ',\n",
        "                  '\\sabso\\sl': ' absol',\n",
        "                  '\\stly\\s': 'tly ',\n",
        "                  '\\serty\\s': 'erty ',\n",
        "                  '\\sobj\\se': ' obj',\n",
        "                  '\\sffiir\\s': ' for ',\n",
        "                  '\\sndeed\\s': ' indeed ',\n",
        "                  '\\sfonn\\s': ' form ',\n",
        "                  '\\snally\\s': 'nally ',\n",
        "                  'ain\\sty\\s': 'ainty ',\n",
        "                  'ici\\sty\\s': 'icity ',\n",
        "                  '\\scog\\sni': ' cogni',\n",
        "                  '\\sacc\\s': ' acc',\n",
        "                  '\\sindi\\svid\\sual': ' individual', \n",
        "                  '\\sintu\\sit': ' intuit',\n",
        "                  'r\\sance\\s': 'rance ',\n",
        "                  '\\ssions\\s': 'sions ',\n",
        "                  '\\sances\\s': 'ances ',\n",
        "                  '\\sper\\sception\\s': ' perception ',\n",
        "                  '\\sse\\sries\\s': ' series ',\n",
        "                  '\\sque\\sries\\s': ' queries ',\n",
        "                  '\\sessary\\s': 'essary ',\n",
        "                  '\\sofa\\s': ' of a ',\n",
        "                  '\\scer\\stainty\\s': ' certainty ',\n",
        "                  'ec\\stivity\\s': 'ectivity ',\n",
        "                  '\\stivity\\s': 'tivity ',\n",
        "                  '\\slation\\s': 'lation ',\n",
        "                  '\\sir\\sr': ' irr',\n",
        "                  '\\ssub\\sstance\\s': ' substance ',\n",
        "                  'sec\\sond\\s': 'second ',\n",
        "                  '\\s\\.rv': '',\n",
        "                  '\\story\\s': 'tory ',\n",
        "                  '\\sture\\s': 'ture ',\n",
        "                  '\\sminate\\s': 'minate ',\n",
        "                  '\\sing\\s': 'ing ',\n",
        "                  '\\splicity\\s': 'plicity ',\n",
        "                  '\\ssimi\\slar\\s': ' similar ',\n",
        "                  '\\scom\\smunity\\s': ' community ',\n",
        "                  '\\sitselfa\\s': ' itself a ',\n",
        "                  '\\ssimp\\s': ' simply ',\n",
        "                  '\\scon\\stex': ' contex',\n",
        "                  '\\scon\\sseq': ' conseq',\n",
        "                  '\\scon\\stai': ' contai',\n",
        "                  '\\sofwhat\\s': ' of what ',\n",
        "                  '\\sui\\s': 'ui',\n",
        "                  '\\sofan\\s': ' of an ',\n",
        "                  '\\saccor\\sdance\\s': ' accordance ',\n",
        "                  '\\stranscen\\sdental\\s': ' transcendental ',\n",
        "                  '\\sap\\spearances\\s': ' appearances ',\n",
        "                  'e\\squences\\s': 'equences ',\n",
        "                  '\\sorits\\s': ' or its ',\n",
        "                  '\\simma\\sn': ' imman',\n",
        "                  '\\seq\\sua': ' equa',\n",
        "                  '\\simpl\\sied\\s': ' implied ',\n",
        "                  '\\sbuta\\s': ' but a ',\n",
        "                  '\\sa\\snd\\s': ' and ',\n",
        "                  '\\sence\\s': 'ence ',\n",
        "                  '\\stain\\s': 'tain ',\n",
        "                  '\\sunder\\sstanding\\s': ' understanding ',\n",
        "                  'i\\sence\\s': 'ience ',\n",
        "                  'r\\sence\\s': 'rence ',\n",
        "                  '\\stical\\s': 'tical ',\n",
        "                  '\\sobjectsb\\s': ' objects ',\n",
        "                  '\\stbe\\s': ' the ',\n",
        "                  '\\smul\\st': ' mult',\n",
        "                  '\\sgen\\seral\\s': ' general ',\n",
        "                  '\\suniver\\ssal\\s': ' universal ',\n",
        "                  '\\scon\\stent\\s': ' content ',\n",
        "                  '\\spar\\sticular\\s': ' particular ',\n",
        "                  'ver\\ssity\\s': 'versity ',\n",
        "                  '\\sCritiq\\s': ' Critique ',\n",
        "                  '\\sphilo\\ssophy\\s': ' philosophy ',\n",
        "                  '\\seq\\s': ' eq'}"
      ],
      "execution_count": null,
      "outputs": []
    },
    {
      "cell_type": "code",
      "metadata": {
        "id": "G_KZCE6YsYE7"
      },
      "source": [
        "# function for building the df for each school\n",
        "def from_raw_to_df(text_dict):\n",
        "  nlp.max_length = 9000000\n",
        "  text = text_dict['text']\n",
        "  text = remove_words(text, text_dict['words to remove'])\n",
        "  text = baseline_clean(text, capitals=text_dict['remove capitals'],\n",
        "                        bracketed_fn=text_dict['bracketed fn'],\n",
        "                        odd_words_dict=odd_words_dict)\n",
        "  text_nlp = nlp(text, disable=['ner'])\n",
        "  text_df = pd.DataFrame(columns=['title', 'author', 'school', 'sentence_spacy'])\n",
        "  text_df['sentence_spacy'] = list(text_nlp.sents)\n",
        "  text_df['author'] = text_dict['author']\n",
        "  text_df['title'] = text_dict['title']\n",
        "  text_df['school'] = text_dict['school']\n",
        "  text_df['sentence_str'] = text_df['sentence_spacy'].apply(lambda x: ''.join(list(str(x))))\n",
        "  return text_df\n"
      ],
      "execution_count": null,
      "outputs": []
    },
    {
      "cell_type": "code",
      "metadata": {
        "id": "Gpk1QnbJb5TB"
      },
      "source": [
        "# build the df for each school and combine them\n",
        "df = pd.DataFrame(columns=['title', 'author', 'school', 'sentence_spacy', 'sentence_str'])\n",
        "for book in book_dicts:\n",
        "  book_df = from_raw_to_df(book)\n",
        "  df = df.append(book_df, ignore_index=True)\n",
        "\n",
        "len(df)"
      ],
      "execution_count": null,
      "outputs": []
    },
    {
      "cell_type": "code",
      "metadata": {
        "colab": {
          "base_uri": "https://localhost:8080/",
          "height": 864
        },
        "id": "0rTa7P8KwXC6",
        "outputId": "df2c9f1c-1e98-4e8c-853b-ac767e87a93d"
      },
      "source": [
        "pd.options.display.max_colwidth = 200\n",
        "df.sample(10)"
      ],
      "execution_count": null,
      "outputs": [
        {
          "output_type": "execute_result",
          "data": {
            "text/html": [
              "<div>\n",
              "<style scoped>\n",
              "    .dataframe tbody tr th:only-of-type {\n",
              "        vertical-align: middle;\n",
              "    }\n",
              "\n",
              "    .dataframe tbody tr th {\n",
              "        vertical-align: top;\n",
              "    }\n",
              "\n",
              "    .dataframe thead th {\n",
              "        text-align: right;\n",
              "    }\n",
              "</style>\n",
              "<table border=\"1\" class=\"dataframe\">\n",
              "  <thead>\n",
              "    <tr style=\"text-align: right;\">\n",
              "      <th></th>\n",
              "      <th>title</th>\n",
              "      <th>author</th>\n",
              "      <th>school</th>\n",
              "      <th>sentence_spacy</th>\n",
              "      <th>sentence_str</th>\n",
              "    </tr>\n",
              "  </thead>\n",
              "  <tbody>\n",
              "    <tr>\n",
              "      <th>259170</th>\n",
              "      <td>The Idea Of Phenomenology</td>\n",
              "      <td>Husserl</td>\n",
              "      <td>phenomenology</td>\n",
              "      <td>(What, statements, can, I, make, about, it, ?)</td>\n",
              "      <td>What statements can I make about it?</td>\n",
              "    </tr>\n",
              "    <tr>\n",
              "      <th>77001</th>\n",
              "      <td>Aristotle - Complete Works</td>\n",
              "      <td>Aristotle</td>\n",
              "      <td>aristotle</td>\n",
              "      <td>(For, the, monstrosity, belongs, to, the, class, of, things, contrary, to, nature, ,, not, any, and, every, kind, of, nature, ,, but, nature, taken, as, what, holds, for, the, most, part, ;, nothi...</td>\n",
              "      <td>For the monstrosity belongs to the class of things contrary to nature, not any and every kind of nature, but nature taken as what holds for the most part; nothing can happen contrary to nature con...</td>\n",
              "    </tr>\n",
              "    <tr>\n",
              "      <th>344481</th>\n",
              "      <td>Essential Works Of Lenin</td>\n",
              "      <td>Lenin</td>\n",
              "      <td>communism</td>\n",
              "      <td>(The, difference, between, the, Marxists, and, the, anarchists, is, this, :, the, former, ,, while, aiming, at, the, complete, abolition, of, the, state, ,, recognize, that, this, aim, can, only, ...</td>\n",
              "      <td>The difference between the Marxists and the anarchists is this: the former, while aiming at the complete abolition of the state, recognize that this aim can only be achieved after classes have bee...</td>\n",
              "    </tr>\n",
              "    <tr>\n",
              "      <th>222007</th>\n",
              "      <td>The Order Of Things</td>\n",
              "      <td>Foucault</td>\n",
              "      <td>continental</td>\n",
              "      <td>(How, can, a, thought, melt, away, before, anything, other, than, itself, ?)</td>\n",
              "      <td>How can a thought melt away before anything other than itself?</td>\n",
              "    </tr>\n",
              "    <tr>\n",
              "      <th>246640</th>\n",
              "      <td>The Phenomenology Of Perception</td>\n",
              "      <td>Merleau-Ponty</td>\n",
              "      <td>phenomenology</td>\n",
              "      <td>(But, what, Gestalt, psychology, lacks, for, the, adequate, expression, of, these, perceptual, relationships, is, a, set, of, new, categories, :, it, has, admitted, the, principle, ,, and, applied...</td>\n",
              "      <td>But what Gestalt psychology lacks for the adequate expression of these perceptual relationships is a set of new categories: it has admitted the principle, and applied it to a few individual cases,</td>\n",
              "    </tr>\n",
              "    <tr>\n",
              "      <th>339576</th>\n",
              "      <td>The Communist Manifesto</td>\n",
              "      <td>Marx</td>\n",
              "      <td>communism</td>\n",
              "      <td>(The, proletarian, movement, is, the, self, conscious, ,, independent, movement, of, the, immense, majority, ,, in, the, interest, of, the, immense, majority, .)</td>\n",
              "      <td>The proletarian movement is the self conscious, independent movement of the immense majority, in the interest of the immense majority.</td>\n",
              "    </tr>\n",
              "    <tr>\n",
              "      <th>77874</th>\n",
              "      <td>Aristotle - Complete Works</td>\n",
              "      <td>Aristotle</td>\n",
              "      <td>aristotle</td>\n",
              "      <td>(That, is, why, they, also, honour, the, storks, ,, and, it, is, unlawful, to, kill, them, ,, and, ,, if, any, one, kills, them, ,, he, becomes, liable, to, the, same, penalties, as, a, homicide, .)</td>\n",
              "      <td>That is why they also honour the storks, and it is unlawful to kill them, and, if any one kills them, he becomes liable to the same penalties as a homicide.</td>\n",
              "    </tr>\n",
              "    <tr>\n",
              "      <th>198459</th>\n",
              "      <td>Philosophical Troubles</td>\n",
              "      <td>Kripke</td>\n",
              "      <td>analytic</td>\n",
              "      <td>(If, the, story, about, unicorns, had, really, been, true, ,, then, of, course, the, animals, would, really, be, around, and, we, could, refer, to, them, and, discover, their, internal, structure,...</td>\n",
              "      <td>If the story about unicorns had really been true, then of course the animals would really be around and we could refer to them and discover their internal structure later.</td>\n",
              "    </tr>\n",
              "    <tr>\n",
              "      <th>44646</th>\n",
              "      <td>Plato - Complete Works</td>\n",
              "      <td>Plato</td>\n",
              "      <td>plato</td>\n",
              "      <td>(If, he, has, come, across, people, who, were, able, to, give, him, some, information, about, any, problems, of, legislation, or, teaching, or, education, ,, or, if, he, actually, comes, back, wit...</td>\n",
              "      <td>If he has come across people who were able to give him some information about any problems of legislation or teaching or education, or if he actually comes back with some discoveries of his own,.</td>\n",
              "    </tr>\n",
              "    <tr>\n",
              "      <th>323628</th>\n",
              "      <td>Elements Of The Philosophy Of Right</td>\n",
              "      <td>Hegel</td>\n",
              "      <td>german_idealism</td>\n",
              "      <td>(Additioll, (, G, ), .)</td>\n",
              "      <td>Additioll (G).</td>\n",
              "    </tr>\n",
              "  </tbody>\n",
              "</table>\n",
              "</div>"
            ],
            "text/plain": [
              "                                      title  ...                                                                                                                                                                                             sentence_str\n",
              "259170            The Idea Of Phenomenology  ...                                                                                                                                                                     What statements can I make about it?\n",
              "77001            Aristotle - Complete Works  ...  For the monstrosity belongs to the class of things contrary to nature, not any and every kind of nature, but nature taken as what holds for the most part; nothing can happen contrary to nature con...\n",
              "344481             Essential Works Of Lenin  ...  The difference between the Marxists and the anarchists is this: the former, while aiming at the complete abolition of the state, recognize that this aim can only be achieved after classes have bee...\n",
              "222007                  The Order Of Things  ...                                                                                                                                           How can a thought melt away before anything other than itself?\n",
              "246640      The Phenomenology Of Perception  ...     But what Gestalt psychology lacks for the adequate expression of these perceptual relationships is a set of new categories: it has admitted the principle, and applied it to a few individual cases,\n",
              "339576              The Communist Manifesto  ...                                                                   The proletarian movement is the self conscious, independent movement of the immense majority, in the interest of the immense majority.\n",
              "77874            Aristotle - Complete Works  ...                                             That is why they also honour the storks, and it is unlawful to kill them, and, if any one kills them, he becomes liable to the same penalties as a homicide.\n",
              "198459               Philosophical Troubles  ...                              If the story about unicorns had really been true, then of course the animals would really be around and we could refer to them and discover their internal structure later.\n",
              "44646                Plato - Complete Works  ...      If he has come across people who were able to give him some information about any problems of legislation or teaching or education, or if he actually comes back with some discoveries of his own,.\n",
              "323628  Elements Of The Philosophy Of Right  ...                                                                                                                                                                                           Additioll (G).\n",
              "\n",
              "[10 rows x 5 columns]"
            ]
          },
          "metadata": {
            "tags": []
          },
          "execution_count": 18
        }
      ]
    },
    {
      "cell_type": "code",
      "metadata": {
        "colab": {
          "base_uri": "https://localhost:8080/"
        },
        "id": "EFFcGwHUwTKv",
        "outputId": "8d43d119-ab6d-44b4-ed0a-d9880cb3bc16"
      },
      "source": [
        "df['school'].value_counts(normalize=True)"
      ],
      "execution_count": null,
      "outputs": [
        {
          "output_type": "execute_result",
          "data": {
            "text/plain": [
              "analytic           0.159518\n",
              "aristotle          0.142004\n",
              "plato              0.126098\n",
              "german_idealism    0.125285\n",
              "continental        0.092854\n",
              "phenomenology      0.080017\n",
              "rationalism        0.068828\n",
              "empiricism         0.054809\n",
              "communism          0.054518\n",
              "capitalism         0.049816\n",
              "nietzsche          0.039312\n",
              "stoicism           0.006942\n",
              "Name: school, dtype: float64"
            ]
          },
          "metadata": {
            "tags": []
          },
          "execution_count": 19
        }
      ]
    },
    {
      "cell_type": "markdown",
      "metadata": {
        "id": "5KYPxjPCcYqi"
      },
      "source": [
        "While this works if you need to add everything, if you want to just add one text, use this one the dictionary you made. "
      ]
    },
    {
      "cell_type": "code",
      "metadata": {
        "colab": {
          "base_uri": "https://localhost:8080/",
          "height": 447
        },
        "id": "NgpjIPrrb_Ow",
        "outputId": "874f62d9-5f4a-4edc-a765-5025d507dcee"
      },
      "source": [
        "# if you need to add only one text, use the function on the single dictionary\n",
        "df = from_raw_to_df(wollstonecraft_dict)\n",
        "\n",
        "pd.options.display.max_colwidth = 200\n",
        "df.sample(5)"
      ],
      "execution_count": null,
      "outputs": [
        {
          "output_type": "execute_result",
          "data": {
            "text/html": [
              "<div>\n",
              "<style scoped>\n",
              "    .dataframe tbody tr th:only-of-type {\n",
              "        vertical-align: middle;\n",
              "    }\n",
              "\n",
              "    .dataframe tbody tr th {\n",
              "        vertical-align: top;\n",
              "    }\n",
              "\n",
              "    .dataframe thead th {\n",
              "        text-align: right;\n",
              "    }\n",
              "</style>\n",
              "<table border=\"1\" class=\"dataframe\">\n",
              "  <thead>\n",
              "    <tr style=\"text-align: right;\">\n",
              "      <th></th>\n",
              "      <th>title</th>\n",
              "      <th>author</th>\n",
              "      <th>school</th>\n",
              "      <th>sentence_spacy</th>\n",
              "      <th>sentence_str</th>\n",
              "    </tr>\n",
              "  </thead>\n",
              "  <tbody>\n",
              "    <tr>\n",
              "      <th>1967</th>\n",
              "      <td>vindication of the rights of woman</td>\n",
              "      <td>mary wollstonecraft</td>\n",
              "      <td>feminism</td>\n",
              "      <td>(For, man, is, so, constituted, that, he, can, only, attain, a, proper, use, of, his, faculties, by, exercising, them, ,, and, will, not, exercise, them, unless, necessity, ,, of, some, kind, ,, f...</td>\n",
              "      <td>For man is so constituted that he can only attain a proper use of his faculties by exercising them, and will not exercise them unless necessity, of some kind, first set the wheels in motion.</td>\n",
              "    </tr>\n",
              "    <tr>\n",
              "      <th>2307</th>\n",
              "      <td>vindication of the rights of woman</td>\n",
              "      <td>mary wollstonecraft</td>\n",
              "      <td>feminism</td>\n",
              "      <td>(When, ,, therefore, ,, I, call, women, slaves, ,, I, mean, in, a, political, and, civil, sense, ;, for, ,, indirectly, they, obtain, too, much, power, ,, and, are, debased, by, their, exertions, ...</td>\n",
              "      <td>When, therefore, I call women slaves, I mean in a political and civil sense; for, indirectly they obtain too much power, and are debased by their exertions to obtain illicit sway.</td>\n",
              "    </tr>\n",
              "    <tr>\n",
              "      <th>2562</th>\n",
              "      <td>vindication of the rights of woman</td>\n",
              "      <td>mary wollstonecraft</td>\n",
              "      <td>feminism</td>\n",
              "      <td>(The, niece, ,, who, had, considerable, abilities, ,, had, ,, before, she, was, left, to, his, guardianship, ,, been, indulged, in, desultory, reading, .)</td>\n",
              "      <td>The niece, who had considerable abilities, had, before she was left to his guardianship, been indulged in desultory reading.</td>\n",
              "    </tr>\n",
              "    <tr>\n",
              "      <th>1447</th>\n",
              "      <td>vindication of the rights of woman</td>\n",
              "      <td>mary wollstonecraft</td>\n",
              "      <td>feminism</td>\n",
              "      <td>(And, yet, this, woman, has, been, suffered, to, die, without, sufficient, respect, being, paid, to, her, memory, .)</td>\n",
              "      <td>And yet this woman has been suffered to die without sufficient respect being paid to her memory.</td>\n",
              "    </tr>\n",
              "    <tr>\n",
              "      <th>1813</th>\n",
              "      <td>vindication of the rights of woman</td>\n",
              "      <td>mary wollstonecraft</td>\n",
              "      <td>feminism</td>\n",
              "      <td>(it, is, indelicate, ,, not, to, say, immodest, ,, for, women, to, feign, an, unnatural, coldness, of, constitution, .)</td>\n",
              "      <td>it is indelicate, not to say immodest, for women to feign an unnatural coldness of constitution.</td>\n",
              "    </tr>\n",
              "  </tbody>\n",
              "</table>\n",
              "</div>"
            ],
            "text/plain": [
              "                                   title  ...                                                                                                                                                                                    sentence_str\n",
              "1967  vindication of the rights of woman  ...  For man is so constituted that he can only attain a proper use of his faculties by exercising them, and will not exercise them unless necessity, of some kind, first set the wheels in motion.\n",
              "2307  vindication of the rights of woman  ...             When, therefore, I call women slaves, I mean in a political and civil sense; for, indirectly they obtain too much power, and are debased by their exertions to obtain illicit sway.\n",
              "2562  vindication of the rights of woman  ...                                                                    The niece, who had considerable abilities, had, before she was left to his guardianship, been indulged in desultory reading.\n",
              "1447  vindication of the rights of woman  ...                                                                                                And yet this woman has been suffered to die without sufficient respect being paid to her memory.\n",
              "1813  vindication of the rights of woman  ...                                                                                                it is indelicate, not to say immodest, for women to feign an unnatural coldness of constitution.\n",
              "\n",
              "[5 rows x 5 columns]"
            ]
          },
          "metadata": {
            "tags": []
          },
          "execution_count": 90
        }
      ]
    },
    {
      "cell_type": "code",
      "metadata": {
        "colab": {
          "base_uri": "https://localhost:8080/"
        },
        "id": "SujsiUfnsfvU",
        "outputId": "a745e096-5c8a-476b-84ef-4b3d801de0eb"
      },
      "source": [
        "len(df)"
      ],
      "execution_count": null,
      "outputs": [
        {
          "output_type": "execute_result",
          "data": {
            "text/plain": [
              "2682"
            ]
          },
          "metadata": {
            "tags": []
          },
          "execution_count": 91
        }
      ]
    },
    {
      "cell_type": "markdown",
      "metadata": {
        "id": "xsIOtvZsMkdx"
      },
      "source": [
        "### Cleaning the Dataframe "
      ]
    },
    {
      "cell_type": "markdown",
      "metadata": {
        "id": "zuTIcCizMweb"
      },
      "source": [
        "But before the fun stuff, to ensure that we get good results, we need to clean the dataframe. This will take a few steps:\n",
        "1. Determine a threshold length and cut the (so-called) sentences that are shorter than that length (this will already eliminate meaningless duplicates like punctuations)\n",
        "2. Check for words that indicate footnotes (words like 'edition' or 'ibid'); we can then cut these sentences from the data\n",
        "3. Check for duplicates; there should be few if any duplicates in the dataframe for each school\n",
        "4. Check for words that indicate other languages so that we can eliminate quotations, citations, or other non-English sentences"
      ]
    },
    {
      "cell_type": "markdown",
      "metadata": {
        "id": "WI3KwHHVM8ck"
      },
      "source": [
        "#### 1. Deal with Short Sentences"
      ]
    },
    {
      "cell_type": "code",
      "metadata": {
        "colab": {
          "base_uri": "https://localhost:8080/",
          "height": 213
        },
        "id": "LLkVXKfIwcup",
        "outputId": "196cfc4e-3850-438f-b74b-aae04d3f3ed7"
      },
      "source": [
        "df['sentence_length'] = df['sentence_str'].map(lambda x: len(x))\n",
        "num_of_short_entries = len(df[df['sentence_length'] < 20])\n",
        "print(f\"there are {num_of_short_entries} so-called sentences with fewer than 20 characters\")\n",
        "df[df['sentence_length'] < 20].sample(5)"
      ],
      "execution_count": null,
      "outputs": [
        {
          "output_type": "stream",
          "text": [
            "there are 109 so-called sentences with fewer than 20 characters\n"
          ],
          "name": "stdout"
        },
        {
          "output_type": "execute_result",
          "data": {
            "text/html": [
              "<div>\n",
              "<style scoped>\n",
              "    .dataframe tbody tr th:only-of-type {\n",
              "        vertical-align: middle;\n",
              "    }\n",
              "\n",
              "    .dataframe tbody tr th {\n",
              "        vertical-align: top;\n",
              "    }\n",
              "\n",
              "    .dataframe thead th {\n",
              "        text-align: right;\n",
              "    }\n",
              "</style>\n",
              "<table border=\"1\" class=\"dataframe\">\n",
              "  <thead>\n",
              "    <tr style=\"text-align: right;\">\n",
              "      <th></th>\n",
              "      <th>title</th>\n",
              "      <th>author</th>\n",
              "      <th>school</th>\n",
              "      <th>sentence_spacy</th>\n",
              "      <th>sentence_str</th>\n",
              "      <th>sentence_length</th>\n",
              "    </tr>\n",
              "  </thead>\n",
              "  <tbody>\n",
              "    <tr>\n",
              "      <th>1428</th>\n",
              "      <td>vindication of the rights of woman</td>\n",
              "      <td>mary wollstonecraft</td>\n",
              "      <td>feminism</td>\n",
              "      <td>(Footnote, .)</td>\n",
              "      <td>Footnote.</td>\n",
              "      <td>9</td>\n",
              "    </tr>\n",
              "    <tr>\n",
              "      <th>1828</th>\n",
              "      <td>vindication of the rights of woman</td>\n",
              "      <td>mary wollstonecraft</td>\n",
              "      <td>feminism</td>\n",
              "      <td>(CHAPTER, .)</td>\n",
              "      <td>CHAPTER.</td>\n",
              "      <td>8</td>\n",
              "    </tr>\n",
              "    <tr>\n",
              "      <th>2119</th>\n",
              "      <td>vindication of the rights of woman</td>\n",
              "      <td>mary wollstonecraft</td>\n",
              "      <td>feminism</td>\n",
              "      <td>(CHAPTER, .)</td>\n",
              "      <td>CHAPTER.</td>\n",
              "      <td>8</td>\n",
              "    </tr>\n",
              "    <tr>\n",
              "      <th>1685</th>\n",
              "      <td>vindication of the rights of woman</td>\n",
              "      <td>mary wollstonecraft</td>\n",
              "      <td>feminism</td>\n",
              "      <td>(Footnote, .)</td>\n",
              "      <td>Footnote.</td>\n",
              "      <td>9</td>\n",
              "    </tr>\n",
              "    <tr>\n",
              "      <th>2539</th>\n",
              "      <td>vindication of the rights of woman</td>\n",
              "      <td>mary wollstonecraft</td>\n",
              "      <td>feminism</td>\n",
              "      <td>(SECTION, .)</td>\n",
              "      <td>SECTION.</td>\n",
              "      <td>8</td>\n",
              "    </tr>\n",
              "  </tbody>\n",
              "</table>\n",
              "</div>"
            ],
            "text/plain": [
              "                                   title  ... sentence_length\n",
              "1428  vindication of the rights of woman  ...               9\n",
              "1828  vindication of the rights of woman  ...               8\n",
              "2119  vindication of the rights of woman  ...               8\n",
              "1685  vindication of the rights of woman  ...               9\n",
              "2539  vindication of the rights of woman  ...               8\n",
              "\n",
              "[5 rows x 6 columns]"
            ]
          },
          "metadata": {
            "tags": []
          },
          "execution_count": 92
        }
      ]
    },
    {
      "cell_type": "code",
      "metadata": {
        "colab": {
          "base_uri": "https://localhost:8080/"
        },
        "id": "2FOolcqOwcgz",
        "outputId": "218f4c49-dd28-44df-f847-0f1d65775731"
      },
      "source": [
        "df = df.drop(df[df['sentence_length'] < 20].index)\n",
        "len(df)"
      ],
      "execution_count": null,
      "outputs": [
        {
          "output_type": "execute_result",
          "data": {
            "text/plain": [
              "2573"
            ]
          },
          "metadata": {
            "tags": []
          },
          "execution_count": 93
        }
      ]
    },
    {
      "cell_type": "markdown",
      "metadata": {
        "id": "KaxL3byaM-RA"
      },
      "source": [
        "#### 2. Look at Words that Indicate Footnotes"
      ]
    },
    {
      "cell_type": "code",
      "metadata": {
        "colab": {
          "base_uri": "https://localhost:8080/"
        },
        "id": "SRM_W5p3wbkE",
        "outputId": "b5566955-3bb9-4dc5-80d9-f84e110a1b8c"
      },
      "source": [
        "fn_words = ['ch\\.', 'bk', 'sect\\.', 'div\\.', 'cf', 'ibid', 'prop\\.', 'Q\\.E\\.D\\.',\n",
        "            'pt\\.', 'coroll\\.', 'cf\\.']\n",
        "\n",
        "df['sentence_lowered'] = df['sentence_str'].map(lambda x: x.lower())\n",
        "\n",
        "fn_df = pd.DataFrame()\n",
        "for word in fn_words:\n",
        "  found_word = df[df['sentence_lowered'].str.contains('\\s' + word.lower())].copy()\n",
        "  found_word['word'] = word\n",
        "  fn_df = fn_df.append(found_word)\n",
        "\n",
        "len(fn_df)"
      ],
      "execution_count": null,
      "outputs": [
        {
          "output_type": "execute_result",
          "data": {
            "text/plain": [
              "0"
            ]
          },
          "metadata": {
            "tags": []
          },
          "execution_count": 94
        }
      ]
    },
    {
      "cell_type": "code",
      "metadata": {
        "id": "PyjxVFLmwirp"
      },
      "source": [
        "#fn_df.sample(5)"
      ],
      "execution_count": null,
      "outputs": []
    },
    {
      "cell_type": "markdown",
      "metadata": {
        "id": "MqiX6cbVNDPw"
      },
      "source": [
        "Unfortunately, there was too much noise and too many differences in how the sentences were tokenized, so this kind of cleaning did not prove useful. As can be seen above, many of the relevant terms were used in meaningful sentences attributable to the correct authors. \n",
        "\n",
        "We were able to tell that 'bk.' was almost never used productively, so we cut that. For others, this was instructive in helping us clean the text and making revisions to the baseline cleaning function."
      ]
    },
    {
      "cell_type": "code",
      "metadata": {
        "colab": {
          "base_uri": "https://localhost:8080/"
        },
        "id": "y2NY8j7Ewj1Q",
        "outputId": "f2f22a6b-0c72-4918-e7a8-9a718ecac3ee"
      },
      "source": [
        "df = df.drop(df[df['sentence_lowered'].str.contains('\\s+bk'.lower())].index)\n",
        "\n",
        "len(df)"
      ],
      "execution_count": null,
      "outputs": [
        {
          "output_type": "execute_result",
          "data": {
            "text/plain": [
              "2573"
            ]
          },
          "metadata": {
            "tags": []
          },
          "execution_count": 96
        }
      ]
    },
    {
      "cell_type": "markdown",
      "metadata": {
        "id": "MEqfL_K_NE7C"
      },
      "source": [
        "#### 3. Look at cases of Self-Mention by Authors"
      ]
    },
    {
      "cell_type": "code",
      "metadata": {
        "colab": {
          "base_uri": "https://localhost:8080/"
        },
        "id": "S7fhKsiFwj8K",
        "outputId": "44784440-fd30-4832-d0cc-a0b156b93823"
      },
      "source": [
        "self_mention_df = pd.DataFrame()\n",
        "for author in df['author'].unique():\n",
        "  self_mention_slice = df[(df['author'] == author) & \n",
        "                          (df['sentence_lowered'].str.contains('\\s'+author.lower()))].copy()\n",
        "  self_mention_df = self_mention_df.append(self_mention_slice)\n",
        "\n",
        "len(self_mention_df)"
      ],
      "execution_count": null,
      "outputs": [
        {
          "output_type": "execute_result",
          "data": {
            "text/plain": [
              "0"
            ]
          },
          "metadata": {
            "tags": []
          },
          "execution_count": 97
        }
      ]
    },
    {
      "cell_type": "code",
      "metadata": {
        "id": "0GFzGEz_wkFt"
      },
      "source": [
        "self_mention_df.sample(5)"
      ],
      "execution_count": null,
      "outputs": []
    },
    {
      "cell_type": "code",
      "metadata": {
        "colab": {
          "base_uri": "https://localhost:8080/"
        },
        "id": "9vxUnQkTwkNo",
        "outputId": "3b52c0de-30c7-4e28-8445-fe155612b9f5"
      },
      "source": [
        "for author in df['author'].unique():\n",
        "  df = df.drop(df[(df['author'] == author) & \n",
        "                  (df['sentence_lowered'].str.contains('\\s'+author.lower()))].index)\n",
        "\n",
        "len(df)"
      ],
      "execution_count": null,
      "outputs": [
        {
          "output_type": "execute_result",
          "data": {
            "text/plain": [
              "2573"
            ]
          },
          "metadata": {
            "tags": []
          },
          "execution_count": 99
        }
      ]
    },
    {
      "cell_type": "markdown",
      "metadata": {
        "id": "uMxaZemLNKeH"
      },
      "source": [
        "#### 4. Deal with Duplicates"
      ]
    },
    {
      "cell_type": "code",
      "metadata": {
        "colab": {
          "base_uri": "https://localhost:8080/"
        },
        "id": "QzOcjqfYwkU4",
        "outputId": "c473a1f8-14a4-4925-ab22-769090ec5e8c"
      },
      "source": [
        "# find the total number of duplicates\n",
        "len(df['sentence_str'])-len(df['sentence_str'].drop_duplicates())"
      ],
      "execution_count": null,
      "outputs": [
        {
          "output_type": "execute_result",
          "data": {
            "text/plain": [
              "0"
            ]
          },
          "metadata": {
            "tags": []
          },
          "execution_count": 100
        }
      ]
    },
    {
      "cell_type": "code",
      "metadata": {
        "colab": {
          "base_uri": "https://localhost:8080/"
        },
        "id": "AtY8ZrQawvZC",
        "outputId": "a47a3b80-50bd-4e63-864b-380789da4f10"
      },
      "source": [
        "# get the number of duplicates in each school\n",
        "for school in df['school'].unique():\n",
        "  print(school)\n",
        "  print(len(df.loc[df['school'] == school]['sentence_str']) - \n",
        "        len(df.loc[df['school'] == school]['sentence_str'].drop_duplicates()))"
      ],
      "execution_count": null,
      "outputs": [
        {
          "output_type": "stream",
          "text": [
            "feminism\n",
            "0\n"
          ],
          "name": "stdout"
        }
      ]
    },
    {
      "cell_type": "code",
      "metadata": {
        "id": "juwoWPstwvgf"
      },
      "source": [
        "doubles_df = pd.concat(g for _, g in df.groupby(\"sentence_str\") if len(g) > 1)\n",
        "doubles_df.sample(5)"
      ],
      "execution_count": null,
      "outputs": []
    },
    {
      "cell_type": "markdown",
      "metadata": {
        "id": "83xx0eHWNOX3"
      },
      "source": [
        "From this it is clear that many of these duplicates are notes, meaninglessly short, or else headings that somehow escaped earlier efforts. Oddly, an enormous number of Aristotle's sentences seem to be doubled. Looking at the doubled sentences, this appears to be because similar notes were made in both of the two volumes of the text. \n",
        "\n",
        "Let's eliminate the aristotle doubles first, then take another look to see what the others are like. "
      ]
    },
    {
      "cell_type": "code",
      "metadata": {
        "id": "71OS1WlbwvqV"
      },
      "source": [
        "len(doubles_df[doubles_df['author'] != 'Aristotle'])"
      ],
      "execution_count": null,
      "outputs": []
    },
    {
      "cell_type": "code",
      "metadata": {
        "id": "kotnwwvFwvy1"
      },
      "source": [
        "doubles_df[doubles_df['author'] != 'Aristole'].sample(5)"
      ],
      "execution_count": null,
      "outputs": []
    },
    {
      "cell_type": "markdown",
      "metadata": {
        "id": "rSzTX0yNNV-K"
      },
      "source": [
        "Deeper exploration of the duplicates reveals that Kant has a lot of doubles that seem to be authentically from his texts. Plato also has several duplicate sentences, but these are almost all short phrases from the dialogues ('of course, yes' and that kind of thing). \n",
        "\n",
        "To preserve the Kant, while also removing the irrelevant duplicates, we will remove both copies of all duplicates from texts other than the Kant's *Critique of Pure Reason*. For that text, we will remove the short duplicates and keep one copy of the longer ones, thus preserving the meaningful sentences. "
      ]
    },
    {
      "cell_type": "code",
      "metadata": {
        "id": "qe5D6a2qwv7f"
      },
      "source": [
        "non_kant_indexes = df[(df['title'] != 'critique of pure reason') & \n",
        "                       (df['sentence_str'].duplicated(keep=False))].index\n",
        "kant_short_indexes = df[(df['title'] == 'critique of pure reason') &\n",
        "                        (df['sentence_str'].duplicated(keep=False)) &\n",
        "                        (df['sentence_length'] < 40)].index\n",
        "kant_long_indexes = df[(df['title'] == 'critique of pure reason') &\n",
        "                        (df['sentence_str'].duplicated(keep='first')) &\n",
        "                        (df['sentence_length'] >= 40)].index\n",
        "\n",
        "indexes_to_drop = [non_kant_indexes, kant_short_indexes, kant_long_indexes]\n",
        "for index in indexes_to_drop:\n",
        "  df = df.drop(index)\n",
        "\n",
        "len(df)"
      ],
      "execution_count": null,
      "outputs": []
    },
    {
      "cell_type": "code",
      "metadata": {
        "id": "GnNdnY0MwwFM"
      },
      "source": [
        "# (df[df['sentence_str'].str.contains('\\sder\\s')]).sample(5)"
      ],
      "execution_count": null,
      "outputs": []
    },
    {
      "cell_type": "markdown",
      "metadata": {
        "id": "kcdlnijMNaMA"
      },
      "source": [
        "#### Check for Foreign-Language Sentences"
      ]
    },
    {
      "cell_type": "code",
      "metadata": {
        "colab": {
          "base_uri": "https://localhost:8080/"
        },
        "id": "JXUfIsqkwwOY",
        "outputId": "4501a64a-bf46-43d1-dbf2-2fbc4e1f7c53"
      },
      "source": [
        "# checking for 'der', a common article in German\n",
        "len((df[df['sentence_str'].str.contains('\\sder\\s')]))"
      ],
      "execution_count": null,
      "outputs": [
        {
          "output_type": "execute_result",
          "data": {
            "text/plain": [
              "0"
            ]
          },
          "metadata": {
            "tags": []
          },
          "execution_count": 107
        }
      ]
    },
    {
      "cell_type": "code",
      "metadata": {
        "colab": {
          "base_uri": "https://localhost:8080/"
        },
        "id": "Sds3G-P8w-KH",
        "outputId": "b82ca2f6-5e5a-4f6d-a316-a5f80ebfcf34"
      },
      "source": [
        "df = df.drop(df[df['sentence_str'].str.contains('\\sder\\s')].index)\n",
        "\n",
        "len(df)"
      ],
      "execution_count": null,
      "outputs": [
        {
          "output_type": "execute_result",
          "data": {
            "text/plain": [
              "2573"
            ]
          },
          "metadata": {
            "tags": []
          },
          "execution_count": 108
        }
      ]
    },
    {
      "cell_type": "code",
      "metadata": {
        "id": "nsz9L0qCw-UM"
      },
      "source": [
        "# checking for 'il', a common article in French\n",
        "df[df['sentence_str'].str.contains('\\sil\\s')]"
      ],
      "execution_count": null,
      "outputs": []
    },
    {
      "cell_type": "code",
      "metadata": {
        "colab": {
          "base_uri": "https://localhost:8080/"
        },
        "id": "-ER9muOkw-qu",
        "outputId": "992db2f8-ada7-40c0-81aa-fc214f122cff"
      },
      "source": [
        "df = df.drop(df[df['sentence_str'].str.contains('\\sil\\s')].index)\n",
        "\n",
        "len(df)"
      ],
      "execution_count": null,
      "outputs": [
        {
          "output_type": "execute_result",
          "data": {
            "text/plain": [
              "2573"
            ]
          },
          "metadata": {
            "tags": []
          },
          "execution_count": 110
        }
      ]
    },
    {
      "cell_type": "markdown",
      "metadata": {
        "id": "0jsR1QpNNlNJ"
      },
      "source": [
        "#### Some Ad Hoc Cleaning"
      ]
    },
    {
      "cell_type": "code",
      "metadata": {
        "colab": {
          "base_uri": "https://localhost:8080/"
        },
        "id": "b1sF0lzxw-zd",
        "outputId": "d2a738b3-c06c-420e-af7d-3e3713279612"
      },
      "source": [
        "# miscellaneous nonsense sentences\n",
        "df = df.drop(df[df['sentence_str'].str.contains('\\spp\\s')].index)\n",
        "df = df.drop(df[df['sentence_str'].str.contains('\\stotam\\s')].index)\n",
        "df = df.drop(df[df['sentence_str'].str.contains('\\srree\\s')].index)\n",
        "df = df.drop(df[df['sentence_str'].str.contains('\\sflir\\s')].index)\n",
        "df = df.drop(df[(df['sentence_str'].str.contains('\\smodis\\s')) & (df['author'] != 'Kant')].index)\n",
        "\n",
        "len(df)"
      ],
      "execution_count": null,
      "outputs": [
        {
          "output_type": "execute_result",
          "data": {
            "text/plain": [
              "2573"
            ]
          },
          "metadata": {
            "tags": []
          },
          "execution_count": 111
        }
      ]
    },
    {
      "cell_type": "code",
      "metadata": {
        "colab": {
          "base_uri": "https://localhost:8080/"
        },
        "id": "OqBnHZG6w-9F",
        "outputId": "5b3e52bb-033f-496d-deda-f531bcf4387a"
      },
      "source": [
        "# markers of french and notes\n",
        "df = df.drop(df[df['sentence_str'].str.contains('\\schapitre')].index)\n",
        "df = df.drop(df[df['sentence_str'].str.contains('\\salisme')].index)\n",
        "df = df.drop(df[df['sentence_str'].str.contains('\\sHahn')].index)\n",
        "\n",
        "len(df)"
      ],
      "execution_count": null,
      "outputs": [
        {
          "output_type": "execute_result",
          "data": {
            "text/plain": [
              "2573"
            ]
          },
          "metadata": {
            "tags": []
          },
          "execution_count": 112
        }
      ]
    },
    {
      "cell_type": "code",
      "metadata": {
        "colab": {
          "base_uri": "https://localhost:8080/"
        },
        "id": "Oq5I3pL4w9r7",
        "outputId": "418e2bfe-addb-4cfd-9b4c-6627176ec2fe"
      },
      "source": [
        "# some notes in Kant\n",
        "df = df.drop(df[df['sentence_str'].str.contains('\\sVorl\\s')].index)\n",
        "\n",
        "len(df)"
      ],
      "execution_count": null,
      "outputs": [
        {
          "output_type": "execute_result",
          "data": {
            "text/plain": [
              "2573"
            ]
          },
          "metadata": {
            "tags": []
          },
          "execution_count": 113
        }
      ]
    },
    {
      "cell_type": "code",
      "metadata": {
        "colab": {
          "base_uri": "https://localhost:8080/"
        },
        "id": "w3nv5S4exJXK",
        "outputId": "edca73c5-41b0-4011-c5ee-b7530e0359aa"
      },
      "source": [
        "# a common phrase in Plato / Aristotle footnotes\n",
        "df = df.drop(df[(df['author']=='Plato') & (df['sentence_str'].str.contains('(?i)reading')) & (df['sentence_length'] < 40)].index)\n",
        "df = df.drop(df[(df['author']=='Aristotle') & (df['sentence_str'].str.contains('(?i)reading')) & (df['sentence_length'] < 40)].index)\n",
        "\n",
        "len(df)"
      ],
      "execution_count": null,
      "outputs": [
        {
          "output_type": "execute_result",
          "data": {
            "text/plain": [
              "2573"
            ]
          },
          "metadata": {
            "tags": []
          },
          "execution_count": 114
        }
      ]
    },
    {
      "cell_type": "code",
      "metadata": {
        "colab": {
          "base_uri": "https://localhost:8080/"
        },
        "id": "dCx9E2tkdqt4",
        "outputId": "d5dd9e33-ecba-4ae4-8326-bf38da8204c4"
      },
      "source": [
        "# mentions of Aristotle in Plato\n",
        "df = df.drop(df[(df['author']=='Plato') & df['sentence_str'].str.contains('Aristotle')].index)\n",
        "\n",
        "len(df)"
      ],
      "execution_count": null,
      "outputs": [
        {
          "output_type": "execute_result",
          "data": {
            "text/plain": [
              "2573"
            ]
          },
          "metadata": {
            "tags": []
          },
          "execution_count": 115
        }
      ]
    },
    {
      "cell_type": "markdown",
      "metadata": {
        "id": "vtli1TPlNq55"
      },
      "source": [
        "### Lemmatizing, Tokenizing, and Exporting"
      ]
    },
    {
      "cell_type": "code",
      "metadata": {
        "colab": {
          "base_uri": "https://localhost:8080/"
        },
        "id": "ybCPk5oixJgd",
        "outputId": "449a7e06-7e92-46e5-cde6-35957786a7f7"
      },
      "source": [
        "df['school'].value_counts(normalize=True)"
      ],
      "execution_count": null,
      "outputs": [
        {
          "output_type": "execute_result",
          "data": {
            "text/plain": [
              "feminism    1.0\n",
              "Name: school, dtype: float64"
            ]
          },
          "metadata": {
            "tags": []
          },
          "execution_count": 116
        }
      ]
    },
    {
      "cell_type": "code",
      "metadata": {
        "id": "S1wT-MvpxJot"
      },
      "source": [
        "from gensim.utils import simple_preprocess\n",
        "\n",
        "# use gensim to tokenize sentences\n",
        "df['tokenized_txt'] = df['sentence_str'].map(lambda x: simple_preprocess(x.lower(),deacc=True,\n",
        "                                                        max_len=200))\n",
        "\n",
        "# use spacey to get intelligent lemmatization\n",
        "def lemmatize_sentence(sentence):\n",
        "  lemmatized_txt = ''\n",
        "  for word in sentence:\n",
        "    lemmatized_txt += ' ' + str(word.lemma_)\n",
        "  return lemmatized_txt"
      ],
      "execution_count": null,
      "outputs": []
    },
    {
      "cell_type": "code",
      "metadata": {
        "id": "3O3mXZKkxJxM"
      },
      "source": [
        "df['lemmatized_str'] = df['sentence_spacy'].apply(lemmatize_sentence)"
      ],
      "execution_count": null,
      "outputs": []
    },
    {
      "cell_type": "code",
      "metadata": {
        "colab": {
          "base_uri": "https://localhost:8080/",
          "height": 1000
        },
        "id": "mxmcq_BQxJ48",
        "outputId": "314a6288-4d07-4eb0-983a-1ea56a5ca4b2"
      },
      "source": [
        "df.sample(5)"
      ],
      "execution_count": null,
      "outputs": [
        {
          "output_type": "execute_result",
          "data": {
            "text/html": [
              "<div>\n",
              "<style scoped>\n",
              "    .dataframe tbody tr th:only-of-type {\n",
              "        vertical-align: middle;\n",
              "    }\n",
              "\n",
              "    .dataframe tbody tr th {\n",
              "        vertical-align: top;\n",
              "    }\n",
              "\n",
              "    .dataframe thead th {\n",
              "        text-align: right;\n",
              "    }\n",
              "</style>\n",
              "<table border=\"1\" class=\"dataframe\">\n",
              "  <thead>\n",
              "    <tr style=\"text-align: right;\">\n",
              "      <th></th>\n",
              "      <th>title</th>\n",
              "      <th>author</th>\n",
              "      <th>school</th>\n",
              "      <th>sentence_spacy</th>\n",
              "      <th>sentence_str</th>\n",
              "      <th>sentence_length</th>\n",
              "      <th>sentence_lowered</th>\n",
              "      <th>tokenized_txt</th>\n",
              "      <th>lemmatized_str</th>\n",
              "    </tr>\n",
              "  </thead>\n",
              "  <tbody>\n",
              "    <tr>\n",
              "      <th>2067</th>\n",
              "      <td>vindication of the rights of woman</td>\n",
              "      <td>mary wollstonecraft</td>\n",
              "      <td>feminism</td>\n",
              "      <td>(The, few, employments, open, to, women, ,, so, far, from, being, liberal, ,, are, menial, ;, and, when, a, superior, education, enables, them, to, take, charge, of, the, education, of, children, ...</td>\n",
              "      <td>The few employments open to women, so far from being liberal, are menial; and when a superior education enables them to take charge of the education of children as governesses, they are not treate...</td>\n",
              "      <td>409</td>\n",
              "      <td>the few employments open to women, so far from being liberal, are menial; and when a superior education enables them to take charge of the education of children as governesses, they are not treate...</td>\n",
              "      <td>[the, few, employments, open, to, women, so, far, from, being, liberal, are, menial, and, when, superior, education, enables, them, to, take, charge, of, the, education, of, children, as, governes...</td>\n",
              "      <td>the few employment open to woman , so far from be liberal , be menial ; and when a superior education enable -PRON- to take charge of the education of child as governess , -PRON- be not treat lik...</td>\n",
              "    </tr>\n",
              "    <tr>\n",
              "      <th>2340</th>\n",
              "      <td>vindication of the rights of woman</td>\n",
              "      <td>mary wollstonecraft</td>\n",
              "      <td>feminism</td>\n",
              "      <td>(Only, employed, about, the, little, incidents, of, the, day, ,, they, necessarily, grow, up, cunning, .)</td>\n",
              "      <td>Only employed about the little incidents of the day, they necessarily grow up cunning.</td>\n",
              "      <td>86</td>\n",
              "      <td>only employed about the little incidents of the day, they necessarily grow up cunning.</td>\n",
              "      <td>[only, employed, about, the, little, incidents, of, the, day, they, necessarily, grow, up, cunning]</td>\n",
              "      <td>only employ about the little incident of the day , -PRON- necessarily grow up cunning .</td>\n",
              "    </tr>\n",
              "    <tr>\n",
              "      <th>243</th>\n",
              "      <td>vindication of the rights of woman</td>\n",
              "      <td>mary wollstonecraft</td>\n",
              "      <td>feminism</td>\n",
              "      <td>(But, can, the, crude, fruit, of, casual, observation, ,, never, brought, to, the, test, of, judgment, ,, formed, by, comparing, speculation, and, experience, ,, deserve, such, a, distinction, ?)</td>\n",
              "      <td>But can the crude fruit of casual observation, never brought to the test of judgment, formed by comparing speculation and experience, deserve such a distinction?</td>\n",
              "      <td>161</td>\n",
              "      <td>but can the crude fruit of casual observation, never brought to the test of judgment, formed by comparing speculation and experience, deserve such a distinction?</td>\n",
              "      <td>[but, can, the, crude, fruit, of, casual, observation, never, brought, to, the, test, of, judgment, formed, by, comparing, speculation, and, experience, deserve, such, distinction]</td>\n",
              "      <td>but can the crude fruit of casual observation , never bring to the test of judgment , form by compare speculation and experience , deserve such a distinction ?</td>\n",
              "    </tr>\n",
              "    <tr>\n",
              "      <th>651</th>\n",
              "      <td>vindication of the rights of woman</td>\n",
              "      <td>mary wollstonecraft</td>\n",
              "      <td>feminism</td>\n",
              "      <td>(I, must, ,, however, ,, previously, remark, ,, that, the, power, of, generalizing, ideas, ,, to, any, great, extent, ,, is, not, very, common, amongst, men, or, women, .)</td>\n",
              "      <td>I must, however, previously remark, that the power of generalizing ideas, to any great extent, is not very common amongst men or women.</td>\n",
              "      <td>135</td>\n",
              "      <td>i must, however, previously remark, that the power of generalizing ideas, to any great extent, is not very common amongst men or women.</td>\n",
              "      <td>[must, however, previously, remark, that, the, power, of, generalizing, ideas, to, any, great, extent, is, not, very, common, amongst, men, or, women]</td>\n",
              "      <td>-PRON- must , however , previously remark , that the power of generalize idea , to any great extent , be not very common amongst man or woman .</td>\n",
              "    </tr>\n",
              "    <tr>\n",
              "      <th>1496</th>\n",
              "      <td>vindication of the rights of woman</td>\n",
              "      <td>mary wollstonecraft</td>\n",
              "      <td>feminism</td>\n",
              "      <td>(The, ignorant, ,, on, the, contrary, ,, resemble, children, ,, and, suppose, ,, that, if, they, could, walk, straight, forward, they, should, at, last, arrive, where, the, earth, and, clouds, mee...</td>\n",
              "      <td>The ignorant, on the contrary, resemble children, and suppose, that if they could walk straight forward they should at last arrive where the earth and clouds meet.</td>\n",
              "      <td>163</td>\n",
              "      <td>the ignorant, on the contrary, resemble children, and suppose, that if they could walk straight forward they should at last arrive where the earth and clouds meet.</td>\n",
              "      <td>[the, ignorant, on, the, contrary, resemble, children, and, suppose, that, if, they, could, walk, straight, forward, they, should, at, last, arrive, where, the, earth, and, clouds, meet]</td>\n",
              "      <td>the ignorant , on the contrary , resemble child , and suppose , that if -PRON- could walk straight forward -PRON- should at last arrive where the earth and cloud meet .</td>\n",
              "    </tr>\n",
              "  </tbody>\n",
              "</table>\n",
              "</div>"
            ],
            "text/plain": [
              "                                   title  ...                                                                                                                                                                                           lemmatized_str\n",
              "2067  vindication of the rights of woman  ...   the few employment open to woman , so far from be liberal , be menial ; and when a superior education enable -PRON- to take charge of the education of child as governess , -PRON- be not treat lik...\n",
              "2340  vindication of the rights of woman  ...                                                                                                                  only employ about the little incident of the day , -PRON- necessarily grow up cunning .\n",
              "243   vindication of the rights of woman  ...                                          but can the crude fruit of casual observation , never bring to the test of judgment , form by compare speculation and experience , deserve such a distinction ?\n",
              "651   vindication of the rights of woman  ...                                                          -PRON- must , however , previously remark , that the power of generalize idea , to any great extent , be not very common amongst man or woman .\n",
              "1496  vindication of the rights of woman  ...                                 the ignorant , on the contrary , resemble child , and suppose , that if -PRON- could walk straight forward -PRON- should at last arrive where the earth and cloud meet .\n",
              "\n",
              "[5 rows x 9 columns]"
            ]
          },
          "metadata": {
            "tags": []
          },
          "execution_count": 119
        }
      ]
    },
    {
      "cell_type": "code",
      "metadata": {
        "id": "-5u1aTd6dvfa"
      },
      "source": [
        "og_df = pd.read_csv('/gdrive/MyDrive/Colab_Projects/philosophy_data_project/philosophy_data.csv')"
      ],
      "execution_count": null,
      "outputs": []
    },
    {
      "cell_type": "code",
      "metadata": {
        "id": "_yNIBJ_5d_no"
      },
      "source": [
        "# combine the dataframes\n",
        "# df = og_df.append(df)\n",
        "\n",
        "df['school'] = df['school'].apply(lambda x: x.title())\n",
        "df['author'] = df['author'].apply(lambda x: x.title())\n",
        "df['title'] = df['title'].apply(lambda x: x.title())"
      ],
      "execution_count": null,
      "outputs": []
    },
    {
      "cell_type": "code",
      "metadata": {
        "colab": {
          "base_uri": "https://localhost:8080/"
        },
        "id": "qlX3Aq4sx3QQ",
        "outputId": "f143062e-ddf2-496b-c99d-c82e2c2dc2fa"
      },
      "source": [
        "# check the new author's presence\n",
        "df['author'].value_counts(normalize=True)"
      ],
      "execution_count": null,
      "outputs": [
        {
          "output_type": "execute_result",
          "data": {
            "text/plain": [
              "Aristotle              0.141493\n",
              "Plato                  0.111288\n",
              "Hegel                  0.065846\n",
              "Foucault               0.044206\n",
              "Heidegger              0.044204\n",
              "Kant                   0.040981\n",
              "Nietzsche              0.039298\n",
              "Marx                   0.039127\n",
              "Lewis                  0.038057\n",
              "Malebranche            0.037700\n",
              "Deleuze                0.036375\n",
              "Kripke                 0.036198\n",
              "Smith                  0.033918\n",
              "Wittgenstein           0.026205\n",
              "Locke                  0.025773\n",
              "Hume                   0.024111\n",
              "Merleau-Ponty          0.022022\n",
              "Quine                  0.021387\n",
              "Derrida                0.017401\n",
              "Husserl                0.016656\n",
              "Fichte                 0.015397\n",
              "Russell                0.014715\n",
              "Leibniz                0.014582\n",
              "Popper                 0.013569\n",
              "Lenin                  0.012963\n",
              "Spinoza                0.011002\n",
              "Moore                  0.010640\n",
              "Keynes                 0.009894\n",
              "Ricardo                0.008963\n",
              "Berkeley               0.007930\n",
              "Mary Wollstonecraft    0.007463\n",
              "Marcus Aurelius        0.006416\n",
              "Descartes              0.003284\n",
              "Epictetus              0.000937\n",
              "Name: author, dtype: float64"
            ]
          },
          "metadata": {
            "tags": []
          },
          "execution_count": 129
        }
      ]
    },
    {
      "cell_type": "markdown",
      "metadata": {
        "id": "FeEVIBYZN64H"
      },
      "source": [
        "Now we can export the new CSV to use in other projects. "
      ]
    },
    {
      "cell_type": "code",
      "metadata": {
        "id": "6v0M4jbUxKBt",
        "colab": {
          "base_uri": "https://localhost:8080/",
          "height": 17
        },
        "outputId": "31dde1fc-a2e7-4575-92e8-ffa5d07b4f9e"
      },
      "source": [
        "# export the csv\n",
        "from google.colab import files\n",
        "df.to_csv('phil_nlp.csv', index=False) \n",
        "files.download('phil_nlp.csv')"
      ],
      "execution_count": null,
      "outputs": [
        {
          "output_type": "display_data",
          "data": {
            "application/javascript": [
              "\n",
              "    async function download(id, filename, size) {\n",
              "      if (!google.colab.kernel.accessAllowed) {\n",
              "        return;\n",
              "      }\n",
              "      const div = document.createElement('div');\n",
              "      const label = document.createElement('label');\n",
              "      label.textContent = `Downloading \"${filename}\": `;\n",
              "      div.appendChild(label);\n",
              "      const progress = document.createElement('progress');\n",
              "      progress.max = size;\n",
              "      div.appendChild(progress);\n",
              "      document.body.appendChild(div);\n",
              "\n",
              "      const buffers = [];\n",
              "      let downloaded = 0;\n",
              "\n",
              "      const channel = await google.colab.kernel.comms.open(id);\n",
              "      // Send a message to notify the kernel that we're ready.\n",
              "      channel.send({})\n",
              "\n",
              "      for await (const message of channel.messages) {\n",
              "        // Send a message to notify the kernel that we're ready.\n",
              "        channel.send({})\n",
              "        if (message.buffers) {\n",
              "          for (const buffer of message.buffers) {\n",
              "            buffers.push(buffer);\n",
              "            downloaded += buffer.byteLength;\n",
              "            progress.value = downloaded;\n",
              "          }\n",
              "        }\n",
              "      }\n",
              "      const blob = new Blob(buffers, {type: 'application/binary'});\n",
              "      const a = document.createElement('a');\n",
              "      a.href = window.URL.createObjectURL(blob);\n",
              "      a.download = filename;\n",
              "      div.appendChild(a);\n",
              "      a.click();\n",
              "      div.remove();\n",
              "    }\n",
              "  "
            ],
            "text/plain": [
              "<IPython.core.display.Javascript object>"
            ]
          },
          "metadata": {
            "tags": []
          }
        },
        {
          "output_type": "display_data",
          "data": {
            "application/javascript": [
              "download(\"download_5fe77410-faa5-4eb4-88d3-443375f3e5fa\", \"phil_nlp.csv\", 360605347)"
            ],
            "text/plain": [
              "<IPython.core.display.Javascript object>"
            ]
          },
          "metadata": {
            "tags": []
          }
        }
      ]
    },
    {
      "cell_type": "markdown",
      "metadata": {
        "id": "ZUjHGmITs37Q"
      },
      "source": [
        "With the data exported in CSV format, all that remains is to upload it to the Heroku PostgreSQL database for searching."
      ]
    },
    {
      "cell_type": "code",
      "metadata": {
        "id": "vJ6Wd171JZZf"
      },
      "source": [
        "# prepare to upload to the PostgreSQL database\n",
        "for_db = df\n",
        "for_db['sentence'] = for_db['sentence_str']\n",
        "for_db['school'] = for_db['school'].apply(lambda x: x.replace('_', ' ').title())\n",
        "for_db = for_db.drop(['sentence_spacy', 'sentence_length', 'sentence_str', 'sentence_lowered', 'tokenized_txt', 'lemmatized_str'], axis=1)\n",
        "for_db.columns = [i.upper() for i in for_db.columns]\n"
      ],
      "execution_count": null,
      "outputs": []
    },
    {
      "cell_type": "code",
      "metadata": {
        "colab": {
          "base_uri": "https://localhost:8080/",
          "height": 230
        },
        "id": "A4wxadz0lmG9",
        "outputId": "52043b2a-7504-452b-bc6a-d1369be07f56"
      },
      "source": [
        "for_db.sample(5)"
      ],
      "execution_count": null,
      "outputs": [
        {
          "output_type": "execute_result",
          "data": {
            "text/html": [
              "<div>\n",
              "<style scoped>\n",
              "    .dataframe tbody tr th:only-of-type {\n",
              "        vertical-align: middle;\n",
              "    }\n",
              "\n",
              "    .dataframe tbody tr th {\n",
              "        vertical-align: top;\n",
              "    }\n",
              "\n",
              "    .dataframe thead th {\n",
              "        text-align: right;\n",
              "    }\n",
              "</style>\n",
              "<table border=\"1\" class=\"dataframe\">\n",
              "  <thead>\n",
              "    <tr style=\"text-align: right;\">\n",
              "      <th></th>\n",
              "      <th>TITLE</th>\n",
              "      <th>AUTHOR</th>\n",
              "      <th>SCHOOL</th>\n",
              "      <th>SENTENCE</th>\n",
              "    </tr>\n",
              "  </thead>\n",
              "  <tbody>\n",
              "    <tr>\n",
              "      <th>221534</th>\n",
              "      <td>The Phenomenology Of Perception</td>\n",
              "      <td>Merleau-Ponty</td>\n",
              "      <td>Phenomenology</td>\n",
              "      <td>Take, for example, 'number blindness'.</td>\n",
              "    </tr>\n",
              "    <tr>\n",
              "      <th>122402</th>\n",
              "      <td>The Search After Truth</td>\n",
              "      <td>Malebranche</td>\n",
              "      <td>Rationalism</td>\n",
              "      <td>We shall now discuss the inclination we have for well being,.e., for pleasures and for all things that make us happier and more content.</td>\n",
              "    </tr>\n",
              "    <tr>\n",
              "      <th>146034</th>\n",
              "      <td>Lewis - Papers</td>\n",
              "      <td>Lewis</td>\n",
              "      <td>Analytic</td>\n",
              "      <td>Consider the paper towel roller.</td>\n",
              "    </tr>\n",
              "    <tr>\n",
              "      <th>308483</th>\n",
              "      <td>The Wealth Of Nations</td>\n",
              "      <td>Smith</td>\n",
              "      <td>Capitalism</td>\n",
              "      <td>But wages evidently make a part of it.</td>\n",
              "    </tr>\n",
              "    <tr>\n",
              "      <th>247235</th>\n",
              "      <td>Off The Beaten Track</td>\n",
              "      <td>Heidegger</td>\n",
              "      <td>Phenomenology</td>\n",
              "      <td>Only he who has seen genuinely sees.</td>\n",
              "    </tr>\n",
              "  </tbody>\n",
              "</table>\n",
              "</div>"
            ],
            "text/plain": [
              "                                  TITLE  ...                                                                                                                                  SENTENCE\n",
              "221534  The Phenomenology Of Perception  ...                                                                                                    Take, for example, 'number blindness'.\n",
              "122402           The Search After Truth  ...  We shall now discuss the inclination we have for well being,.e., for pleasures and for all things that make us happier and more content.\n",
              "146034                   Lewis - Papers  ...                                                                                                          Consider the paper towel roller.\n",
              "308483            The Wealth Of Nations  ...                                                                                                    But wages evidently make a part of it.\n",
              "247235             Off The Beaten Track  ...                                                                                                      Only he who has seen genuinely sees.\n",
              "\n",
              "[5 rows x 4 columns]"
            ]
          },
          "metadata": {
            "tags": []
          },
          "execution_count": 132
        }
      ]
    },
    {
      "cell_type": "code",
      "metadata": {
        "colab": {
          "base_uri": "https://localhost:8080/",
          "height": 638
        },
        "id": "2CD4ylxGmZ-7",
        "outputId": "2549a1d0-2468-448c-bf23-9cc7eb303dcd"
      },
      "source": [
        "for_db[for_db['AUTHOR']=='Mary Wollstonecraft']"
      ],
      "execution_count": null,
      "outputs": [
        {
          "output_type": "execute_result",
          "data": {
            "text/html": [
              "<div>\n",
              "<style scoped>\n",
              "    .dataframe tbody tr th:only-of-type {\n",
              "        vertical-align: middle;\n",
              "    }\n",
              "\n",
              "    .dataframe tbody tr th {\n",
              "        vertical-align: top;\n",
              "    }\n",
              "\n",
              "    .dataframe thead th {\n",
              "        text-align: right;\n",
              "    }\n",
              "</style>\n",
              "<table border=\"1\" class=\"dataframe\">\n",
              "  <thead>\n",
              "    <tr style=\"text-align: right;\">\n",
              "      <th></th>\n",
              "      <th>TITLE</th>\n",
              "      <th>AUTHOR</th>\n",
              "      <th>SCHOOL</th>\n",
              "      <th>SENTENCE</th>\n",
              "    </tr>\n",
              "  </thead>\n",
              "  <tbody>\n",
              "    <tr>\n",
              "      <th>0</th>\n",
              "      <td>Vindication Of The Rights Of Woman</td>\n",
              "      <td>Mary Wollstonecraft</td>\n",
              "      <td>Feminism</td>\n",
              "      <td>Having read with great pleasure a pamphlet, which you have lately published, on National Education, I dedicate this volume to you, the first dedication that I have ever written, to induce you to ...</td>\n",
              "    </tr>\n",
              "    <tr>\n",
              "      <th>1</th>\n",
              "      <td>Vindication Of The Rights Of Woman</td>\n",
              "      <td>Mary Wollstonecraft</td>\n",
              "      <td>Feminism</td>\n",
              "      <td>But, sir, I carry my respect for your understanding still farther: so far, that I am confident you will not throw my work aside, and hastily conclude that I am in the wrong because you did not vie...</td>\n",
              "    </tr>\n",
              "    <tr>\n",
              "      <th>2</th>\n",
              "      <td>Vindication Of The Rights Of Woman</td>\n",
              "      <td>Mary Wollstonecraft</td>\n",
              "      <td>Feminism</td>\n",
              "      <td>And pardon my frankness, but I must observe, that you treated it in too cursory a manner, contented to consider it as it had been considered formerly, when the rights of man, not to advert to woma...</td>\n",
              "    </tr>\n",
              "    <tr>\n",
              "      <th>3</th>\n",
              "      <td>Vindication Of The Rights Of Woman</td>\n",
              "      <td>Mary Wollstonecraft</td>\n",
              "      <td>Feminism</td>\n",
              "      <td>I call upon you, therefore, now to weigh what I have advanced respecting the rights of woman, and national education; and I call with the firm tone of humanity.</td>\n",
              "    </tr>\n",
              "    <tr>\n",
              "      <th>4</th>\n",
              "      <td>Vindication Of The Rights Of Woman</td>\n",
              "      <td>Mary Wollstonecraft</td>\n",
              "      <td>Feminism</td>\n",
              "      <td>For my arguments, sir, are dictated by a disinterested spirit: I plead for my sex, not for myself.</td>\n",
              "    </tr>\n",
              "    <tr>\n",
              "      <th>...</th>\n",
              "      <td>...</td>\n",
              "      <td>...</td>\n",
              "      <td>...</td>\n",
              "      <td>...</td>\n",
              "    </tr>\n",
              "    <tr>\n",
              "      <th>2677</th>\n",
              "      <td>Vindication Of The Rights Of Woman</td>\n",
              "      <td>Mary Wollstonecraft</td>\n",
              "      <td>Feminism</td>\n",
              "      <td>Let woman share the rights, and she will emulate the virtues of man; for she must grow more perfect when emancipated, or justify the authority that chains such a weak being to her duty.</td>\n",
              "    </tr>\n",
              "    <tr>\n",
              "      <th>2678</th>\n",
              "      <td>Vindication Of The Rights Of Woman</td>\n",
              "      <td>Mary Wollstonecraft</td>\n",
              "      <td>Feminism</td>\n",
              "      <td>If the latter, it will be expedient to open a fresh trade with Russia for whips; a present which a father should always make to his son in law on his wedding day, that a husband may keep his whole...</td>\n",
              "    </tr>\n",
              "    <tr>\n",
              "      <th>2679</th>\n",
              "      <td>Vindication Of The Rights Of Woman</td>\n",
              "      <td>Mary Wollstonecraft</td>\n",
              "      <td>Feminism</td>\n",
              "      <td>Allowing this position, women have not any inherent rights to claim; and, by the same rule their duties vanish, for rights and duties are inseparable.</td>\n",
              "    </tr>\n",
              "    <tr>\n",
              "      <th>2680</th>\n",
              "      <td>Vindication Of The Rights Of Woman</td>\n",
              "      <td>Mary Wollstonecraft</td>\n",
              "      <td>Feminism</td>\n",
              "      <td>Be just then, ye men of understanding!</td>\n",
              "    </tr>\n",
              "    <tr>\n",
              "      <th>2681</th>\n",
              "      <td>Vindication Of The Rights Of Woman</td>\n",
              "      <td>Mary Wollstonecraft</td>\n",
              "      <td>Feminism</td>\n",
              "      <td>and mark not more severely what women do amiss, than the vicious tricks of the horse or the ass for whom ye provide provender, and allow her the privileges of ignorance, to whom ye deny the rights...</td>\n",
              "    </tr>\n",
              "  </tbody>\n",
              "</table>\n",
              "<p>2573 rows × 4 columns</p>\n",
              "</div>"
            ],
            "text/plain": [
              "                                   TITLE  ...                                                                                                                                                                                                 SENTENCE\n",
              "0     Vindication Of The Rights Of Woman  ...   Having read with great pleasure a pamphlet, which you have lately published, on National Education, I dedicate this volume to you, the first dedication that I have ever written, to induce you to ...\n",
              "1     Vindication Of The Rights Of Woman  ...  But, sir, I carry my respect for your understanding still farther: so far, that I am confident you will not throw my work aside, and hastily conclude that I am in the wrong because you did not vie...\n",
              "2     Vindication Of The Rights Of Woman  ...  And pardon my frankness, but I must observe, that you treated it in too cursory a manner, contented to consider it as it had been considered formerly, when the rights of man, not to advert to woma...\n",
              "3     Vindication Of The Rights Of Woman  ...                                         I call upon you, therefore, now to weigh what I have advanced respecting the rights of woman, and national education; and I call with the firm tone of humanity.\n",
              "4     Vindication Of The Rights Of Woman  ...                                                                                                       For my arguments, sir, are dictated by a disinterested spirit: I plead for my sex, not for myself.\n",
              "...                                  ...  ...                                                                                                                                                                                                      ...\n",
              "2677  Vindication Of The Rights Of Woman  ...                Let woman share the rights, and she will emulate the virtues of man; for she must grow more perfect when emancipated, or justify the authority that chains such a weak being to her duty.\n",
              "2678  Vindication Of The Rights Of Woman  ...  If the latter, it will be expedient to open a fresh trade with Russia for whips; a present which a father should always make to his son in law on his wedding day, that a husband may keep his whole...\n",
              "2679  Vindication Of The Rights Of Woman  ...                                                   Allowing this position, women have not any inherent rights to claim; and, by the same rule their duties vanish, for rights and duties are inseparable.\n",
              "2680  Vindication Of The Rights Of Woman  ...                                                                                                                                                                   Be just then, ye men of understanding!\n",
              "2681  Vindication Of The Rights Of Woman  ...  and mark not more severely what women do amiss, than the vicious tricks of the horse or the ass for whom ye provide provender, and allow her the privileges of ignorance, to whom ye deny the rights...\n",
              "\n",
              "[2573 rows x 4 columns]"
            ]
          },
          "metadata": {
            "tags": []
          },
          "execution_count": 133
        }
      ]
    },
    {
      "cell_type": "code",
      "metadata": {
        "colab": {
          "base_uri": "https://localhost:8080/"
        },
        "id": "kQtdMppSEkGJ",
        "outputId": "bf6f0217-fd1c-446b-85f6-0ab1b0e69026"
      },
      "source": [
        "len(for_db)"
      ],
      "execution_count": null,
      "outputs": [
        {
          "output_type": "execute_result",
          "data": {
            "text/plain": [
              "344746"
            ]
          },
          "metadata": {
            "tags": []
          },
          "execution_count": 134
        }
      ]
    },
    {
      "cell_type": "code",
      "metadata": {
        "colab": {
          "base_uri": "https://localhost:8080/"
        },
        "id": "H6hb7ky006Gp",
        "outputId": "1aa0501b-8bed-4383-8e2a-46ecc75a85bb"
      },
      "source": [
        "#importing sql library \n",
        "from sqlalchemy import create_engine \n",
        "  \n",
        "# create a reference  \n",
        "# for sql library \n",
        "engine = create_engine(URL, \n",
        "                       echo = False)\n",
        "  \n",
        "# attach the data frame to the sql  \n",
        "for_db[for_db['AUTHOR']=='Mary Wollstonecraft'].to_sql('phil_nlp', \n",
        "               con = engine,\n",
        "              if_exists='append') \n",
        "  \n",
        "# # show the complete data \n",
        "print(engine.execute(\"\"\"SELECT * FROM phil_nlp WHERE \"AUTHOR\" = 'Mary Wollstonecraft'\"\"\").fetchone()) "
      ],
      "execution_count": null,
      "outputs": [
        {
          "output_type": "stream",
          "text": [
            "/usr/local/lib/python3.7/dist-packages/psycopg2/__init__.py:144: UserWarning: The psycopg2 wheel package will be renamed from release 2.8; in order to keep installing from binary please use \"pip install psycopg2-binary\" instead. For details see: <http://initd.org/psycopg/docs/install.html#binary-install-from-pypi>.\n",
            "  \"\"\")\n"
          ],
          "name": "stderr"
        },
        {
          "output_type": "stream",
          "text": [
            "(0, 'Vindication Of The Rights Of Woman', 'Mary Wollstonecraft', 'Feminism', ' Having read with great pleasure a pamphlet, which you have lately published, on National Education, I dedicate this volume to you, the first dedicat ... (77 characters truncated) ... ecause I think that you will understand me, which I do not suppose many pert witlings will, who may ridicule the arguments they are unable to answer.')\n"
          ],
          "name": "stdout"
        }
      ]
    },
    {
      "cell_type": "code",
      "metadata": {
        "id": "3sf_LC6IlI4y"
      },
      "source": [
        ""
      ],
      "execution_count": null,
      "outputs": []
    }
  ]
}