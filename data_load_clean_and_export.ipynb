{
  "nbformat": 4,
  "nbformat_minor": 0,
  "metadata": {
    "colab": {
      "name": "data_load_clean_and_export.ipynb",
      "provenance": [],
      "machine_shape": "hm",
      "authorship_tag": "ABX9TyPHLIqdALduJCvIH88asXWA",
      "include_colab_link": true
    },
    "kernelspec": {
      "name": "python3",
      "display_name": "Python 3"
    },
    "accelerator": "GPU"
  },
  "cells": [
    {
      "cell_type": "markdown",
      "metadata": {
        "id": "view-in-github",
        "colab_type": "text"
      },
      "source": [
        "<a href=\"https://colab.research.google.com/github/kcalizadeh/PDP_data_processing/blob/master/data_load_clean_and_export.ipynb\" target=\"_parent\"><img src=\"https://colab.research.google.com/assets/colab-badge.svg\" alt=\"Open In Colab\"/></a>"
      ]
    },
    {
      "cell_type": "code",
      "metadata": {
        "colab": {
          "base_uri": "https://localhost:8080/"
        },
        "id": "dQnwn5oZqw4P",
        "outputId": "2a838e43-9c4f-486d-c8d9-a6c950aa5bf6"
      },
      "source": [
        "# this cell mounts drive, sets the correct directory, then imports all functions\r\n",
        "# and relevant libraries via the functions.py file\r\n",
        "from google.colab import drive\r\n",
        "import sys\r\n",
        "\r\n",
        "drive.mount('/gdrive',force_remount=True)\r\n",
        "\r\n",
        "drive_path = '/gdrive/MyDrive/Colab_Projects/Phil_NLP'\r\n",
        "\r\n",
        "sys.path.append(drive_path)"
      ],
      "execution_count": 1,
      "outputs": [
        {
          "output_type": "stream",
          "text": [
            "Mounted at /gdrive\n"
          ],
          "name": "stdout"
        }
      ]
    },
    {
      "cell_type": "code",
      "metadata": {
        "id": "icdKF0dyrAU5"
      },
      "source": [
        "from import_functions import *"
      ],
      "execution_count": 2,
      "outputs": []
    },
    {
      "cell_type": "code",
      "metadata": {
        "colab": {
          "base_uri": "https://localhost:8080/"
        },
        "id": "tym6E0D5rbwQ",
        "outputId": "b0bfe26d-671c-47ae-ce02-e4848087da57"
      },
      "source": [
        "import spacy.cli\r\n",
        "spacy.cli.download(\"en_core_web_lg\")\r\n",
        "import en_core_web_lg\r\n",
        "nlp = en_core_web_lg.load()"
      ],
      "execution_count": 3,
      "outputs": [
        {
          "output_type": "stream",
          "text": [
            "\u001b[38;5;2m✔ Download and installation successful\u001b[0m\n",
            "You can now load the model via spacy.load('en_core_web_lg')\n"
          ],
          "name": "stdout"
        }
      ]
    },
    {
      "cell_type": "code",
      "metadata": {
        "id": "YTfCjw3Rrt2I"
      },
      "source": [
        "# load the texts\r\n",
        "\r\n",
        "## plato\r\n",
        "plato_complete = get_text(drive_path + '/phil_txts/plato_complete_works.txt')\r\n",
        "\r\n",
        "# aristotle\r\n",
        "aristotle_vol_1 = get_text(drive_path + '/phil_txts/aristotle_complete_works_v1.txt')\r\n",
        "aristotle_vol_2 = get_text(drive_path + '/phil_txts/aristotle_complete_works_v2.txt')\r\n",
        "\r\n",
        "## rationalists\r\n",
        "spinoza_ethics = get_guten('http://www.gutenberg.org/cache/epub/3800/pg3800.txt')\r\n",
        "spinoza_improve_understanding = get_guten('http://www.gutenberg.org/cache/epub/1016/pg1016.txt')\r\n",
        "leibniz_theodicy = get_guten('http://www.gutenberg.org/cache/epub/17147/pg17147.txt')\r\n",
        "descartes_discourse_method = get_guten('http://www.gutenberg.org/cache/epub/59/pg59.txt')\r\n",
        "descartes_meditations = get_text(drive_path + '/phil_txts/descartes_meditations.txt')\r\n",
        "malebranche_search_truth = get_text(drive_path + '/phil_txts/malebranche_search_truth.txt')\r\n",
        "\r\n",
        "## empiricists\r\n",
        "locke_understanding_1 = get_guten('http://www.gutenberg.org/cache/epub/10615/pg10615.txt')\r\n",
        "locke_understanding_2 = get_guten('http://www.gutenberg.org/cache/epub/10616/pg10616.txt')\r\n",
        "locke_treatise_gov = get_guten('http://www.gutenberg.org/cache/epub/7370/pg7370.txt')\r\n",
        "hume_treatise = get_guten('http://www.gutenberg.org/cache/epub/4705/pg4705.txt')\r\n",
        "hume_natural_religion = get_guten('http://www.gutenberg.org/cache/epub/4583/pg4583.txt')\r\n",
        "berkeley_treatise = get_guten('http://www.gutenberg.org/cache/epub/4723/pg4723.txt')\r\n",
        "berkeley_three_dialogues = get_guten('http://www.gutenberg.org/cache/epub/4724/pg4724.txt')\r\n",
        "\r\n",
        "## german idealism\r\n",
        "kant_practical_reason = get_text(drive_path + '/phil_txts/kant_critique_practical_reason.txt')\r\n",
        "kant_judgement = get_text(drive_path + '/phil_txts/kant_critique_judgement.txt')\r\n",
        "kant_pure_reason = get_text(drive_path + '/phil_txts/kant_pure_reason.txt')\r\n",
        "fichte_ethics = get_text(drive_path + '/phil_txts/fichte_system_of_ethics.txt')\r\n",
        "hegel_logic = get_text(drive_path + '/phil_txts/hegel_science_of_logic.txt')\r\n",
        "hegel_phenomenology = get_text(drive_path + '/phil_txts/hegel_phenomenology_of_spirit.txt')\r\n",
        "hegel_right = get_text(drive_path + '/phil_txts/hegel_elements_of_right.txt')\r\n",
        "\r\n",
        "## analytic\r\n",
        "russell_problems_of_phil = get_guten('http://www.gutenberg.org/cache/epub/5827/pg5827.txt')\r\n",
        "russell_analylsis_of_mind = get_guten('http://www.gutenberg.org/cache/epub/2529/pg2529.txt')\r\n",
        "moore_studies = get_guten('http://www.gutenberg.org/files/50141/50141-0.txt')\r\n",
        "wittgenstein_tractatus = get_text(drive_path + '/phil_txts/wittgenstein_tractatus.txt')\r\n",
        "wittgenstein_investigations = get_text(drive_path + '/phil_txts/wittgenstien_philosophical_investigations.txt')\r\n",
        "lewis_papers1 = get_text(drive_path + '/phil_txts/lewis_papers_1.txt')\r\n",
        "lewis_papers2 = get_text(drive_path + '/phil_txts/lewis_papers_2.txt')\r\n",
        "quine_quintessence = get_text(drive_path + '/phil_txts/quine_quintessence.txt')\r\n",
        "popper_science = get_text(drive_path + '/phil_txts/popper_logic_of_science.txt')\r\n",
        "kripke_troubles = get_text(drive_path + '/phil_txts/kripke_philosophical_troubles.txt')\r\n",
        "kripke_naming = get_text(drive_path + '/phil_txts/kripke_naming_necessity.txt')\r\n",
        "\r\n",
        "## phenomenology\r\n",
        "ponty_perception = get_text(drive_path + '/phil_txts/merleau-ponty_phenomenology_of_perception.txt')\r\n",
        "husserl_idea_of = get_text(drive_path + '/phil_txts/husserl_idea_of_phenomenology.txt')\r\n",
        "husserl_crisis = get_text(drive_path + '/phil_txts/husserl_crisis_of_euro_sciences.txt')\r\n",
        "heidegger_being_time = get_text(drive_path + '/phil_txts/heidegger_being_and_time.txt')\r\n",
        "heidegger_track = get_text(drive_path + '/phil_txts/heidegger_off_the_beaten_track.txt')\r\n",
        "\r\n",
        "## continental\r\n",
        "foucault_order = get_text(drive_path + '/phil_txts/foucault_order_of_things.txt')\r\n",
        "foucault_madness = get_text(drive_path + '/phil_txts/foucault_history_of_madness.txt')\r\n",
        "foucault_clinic = get_text(drive_path + '/phil_txts/foucault_birth_of_clinic.txt')\r\n",
        "derrida_writing = get_text(drive_path + '/phil_txts/derrida_writing_difference.txt')\r\n",
        "deleuze_oedipus = get_text(drive_path + '/phil_txts/deleuze_guattari_anti-oedipus.txt')\r\n",
        "deleuze_difference = get_text(drive_path + '/phil_txts/deleuze_difference_repetition.txt')\r\n",
        "\r\n",
        "## marxism\r\n",
        "marx_kapital = get_text(drive_path + '/phil_txts/marx_kapital.txt')\r\n",
        "marx_manifesto = get_text(drive_path + '/phil_txts/marx_manifesto.txt')\r\n",
        "lenin_essential = get_text(drive_path + '/phil_txts/lenin_essential_works.txt')\r\n",
        "\r\n",
        "## capitalist economics\r\n",
        "smith_wealth = get_guten('http://www.gutenberg.org/files/3300/3300-0.txt')\r\n",
        "ricardo_political_economy = get_guten('http://www.gutenberg.org/cache/epub/33310/pg33310.txt')\r\n",
        "keynes_employment = get_text(drive_path + '/phil_txts/keynes_theory_of_employment.txt')\r\n"
      ],
      "execution_count": 4,
      "outputs": []
    },
    {
      "cell_type": "code",
      "metadata": {
        "id": "rtnCGgKbrwVa"
      },
      "source": [
        "# use this cell to bring in the new texts\r\n",
        "\r\n",
        "## stoicism\r\n",
        "epictetus_enchiridion = get_guten('http://www.gutenberg.org/files/45109/45109-0.txt')"
      ],
      "execution_count": 5,
      "outputs": []
    },
    {
      "cell_type": "code",
      "metadata": {
        "id": "8cvmG0rir1tU"
      },
      "source": [
        "plato_complete = plato_complete.split('find that an enticing')[1][388:].split('Demeter, whose cult at')[0]\r\n",
        "\r\n",
        "aristotle_vol_1 = aristotle_vol_1.split('1a20-1b9')[1].split('799a16')[0]\r\n",
        "aristotle_vol_2 = aristotle_vol_2.split('830a5-830b4')[1].split('1462a5-1462a13')[0]\r\n",
        "\r\n",
        "spinoza_ethics = spinoza_ethics.split('ranslated from the Latin by R.')[1][71:].split('End of the Ethics')[0]\r\n",
        "spinoza_improve_understanding = spinoza_improve_understanding.split('Farewell.*')[1][20:].split('End of ')[0]\r\n",
        "leibniz_theodicy = leibniz_theodicy.split('appeared in 1710 as the')[1][202:].split('SUMMARY OF THE CON')[0][:-140]\r\n",
        "descartes_discourse_method = descartes_discourse_method.split('PREFATORY NOTE')[1][18:].split('End of the Pr')[0]\r\n",
        "descartes_meditations = descartes_meditations.split('LETTER')[1][1:].split('AND REPLIES')[0]\r\n",
        "malebranche_search_truth = malebranche_search_truth.split(\"n's Mind and the Use H\")[1][64:].split('Beati qui')[0]\r\n",
        "\r\n",
        "locke_understanding_1 = locke_understanding_1.split('2 Dorset Court, 24th of May, 1689')[1][50:].split('End of the Pro')[0][:-30]\r\n",
        "locke_understanding_2 = locke_understanding_2.split('1. Man fitted to form articulated Sounds.')[1][4:].split('End of the Pro')[0][:-25]\r\n",
        "locke_treatise_gov = locke_treatise_gov.split('now lodged in Christ College, Cambridge.')[1][21:].split('FINIS.')[0]\r\n",
        "hume_treatise = hume_treatise.split('ADVERTISEMENT')[1][9:].split('End of Pro')[0][:-14]\r\n",
        "hume_natural_religion = hume_natural_religion.split('PAMPHILUS TO HERMIPPUS')[1][6:].split('End of the Pro')[0][:-22]\r\n",
        "berkeley_treatise = berkeley_treatise.split('are too apt to condemn an opinion before they rightly')[1][47:].split('End of the Pr')[0][:-22]\r\n",
        "berkeley_three_dialogues = berkeley_three_dialogues.split('THE FIRST DIALOGUE')[1][17:].split('End of the Pro')[0][:-22]\r\n",
        "\r\n",
        "kant_practical_reason = kant_practical_reason.split('erner Pluhar an')[1][329:].split('stone of the wi')[0][:-20]\r\n",
        "kant_judgement = kant_judgement.split('TO THE FIRST EDITION,* 1790')[1][1:].split('EXPLANATORY NOTES')[0][:-39]\r\n",
        "kant_pure_reason = kant_pure_reason.split('Bacon of Verulam')[1][33:].split('(Persius, Satires, iii, 78-9).')[0][:-1]\r\n",
        "fichte_ethics = fichte_ethics.split('(“Krause Nachschrift,” 1798/99)')[1][111:].split('Page 345')[0][:-2]\r\n",
        "hegel_logic = hegel_logic.split('complete transformati')[1][249:].split('It is a matter of speculation how Hegel would have rev')[0][:-80]\r\n",
        "hegel_phenomenology = hegel_phenomenology.split('PREFACE: ON SCIENTIFIC')[1][1:].split('1I Adaptation')[0][:-62]\r\n",
        "hegel_right = hegel_right.split('he immediate occasion f')[1][184:].split('I Hegel lectured on the topics in')[0][:-28]\r\n",
        "\r\n",
        "russell_problems_of_phil = russell_problems_of_phil.split('n the following pages')[1].split('BIBLIOGRAPHICAL NOTE')[0]\r\n",
        "russell_analylsis_of_mind = russell_analylsis_of_mind.split('H. D. Lewis')[2][21:].split('End of Pro')[0]\r\n",
        "moore_studies = moore_studies.split('Aristotelian Society,_ 1919-20.')[1][23:].split('E Wes')[0][:-10]\r\n",
        "wittgenstein_tractatus = wittgenstein_tractatus.split('TRACTATUS LOGICO-PHILOSOPHICUS')[1][70:].split('I NDEX')[0][:-8]\r\n",
        "wittgenstein_investigations = wittgenstein_investigations.split('catty')[1][787:].split(\"above', 351\")[0]\r\n",
        "lewis_papers1 = lewis_papers1.split('The fifteen papers')[1][61:].split('Acquai')[0][:-10]\r\n",
        "lewis_papers2 = lewis_papers2.split('Part Four Counterfactuals and Time')[1][17:].split('end p.342')[0]\r\n",
        "quine_quintessence = quine_quintessence.split('T R UT H B Y C O N V E N T I O N')[1].split('CREDITS')[0][:-7]\r\n",
        "popper_science = popper_science.split('F IRST E NGLISH E DITION, 1959')[1][2:].split('This is the end of the text of the original book.')[0]\r\n",
        "kripke_troubles = kripke_troubles.split('apters 2, 3, 7, 10, 11, and 13 are previously unpublish')[1][103:].split('ans, Gareth. 198')[0][:-25]\r\n",
        "kripke_naming = kripke_naming.split('xjvdsa')[1][10:].split('hese addenda represe')[0][:-35]\r\n",
        "\r\n",
        "ponty_perception = ponty_perception.split('P REFACE')[1].split('B IBLIOGRAPHY')[0][:-65]\r\n",
        "husserl_idea_of = husserl_idea_of.split('LECTUREl')[1][9:].split('Abstraction, ideating, 47, 50, 65')[0][:-10]\r\n",
        "husserl_crisis = husserl_crisis.split('§ 1.')[1].split('Appendix X:')[0]\r\n",
        "heidegger_being_time = heidegger_being_time.split(\"AUTHOR'S PREFACE TO THE\")[1][25:].split('Not \"the\" sole way.')[0][:-8]\r\n",
        "heidegger_track = heidegger_track.split('translated in several ')[1][15:].split('et-up [dar Gestellj as the uunost obli')[0][:-32]\r\n",
        "\r\n",
        "foucault_order = foucault_order.split('P REFACE')[1]\r\n",
        "foucault_madness = foucault_madness.split('ickering simulacra, an')[1][112:].split('Page 591')[0]\r\n",
        "foucault_clinic = foucault_clinic.split('iagnostic (Paris, 1962, p.')[1][15:].split('de Sade.')[0][:-33]\r\n",
        "derrida_writing = derrida_writing.split('(Flaubert, Preface d la d')[1][10:].split('Reb Derissa')[0]\r\n",
        "deleuze_oedipus = deleuze_oedipus.split('xjdsde')[1].split('jajielaks')[0]\r\n",
        "deleuze_difference = deleuze_difference.split('Introduction:')[1].split('Plateaus')[0][:-65]\r\n",
        "\r\n",
        "marx_kapital = ((marx_kapital.split('E MAGNITUDE OF VALUE)')[1].split('expropriation of the laborer.')[0])+'expropriation of the laborer.')\r\n",
        "marx_manifesto = marx_manifesto.split('page 29')[1].split('Mao')[0][:-15]\r\n",
        "lenin_essential = lenin_essential.split('We will now sum up the theoretical')[1].split('SUGGESTIONS FOR FURTHER READING')[0]\r\n",
        "\r\n",
        "smith_wealth = smith_wealth.split('INTRODUCTION AND PLAN OF THE WORK.')[2].split('End of the Project Gutenberg EBook of An Inquiry into the Nat')[0]\r\n",
        "ricardo_political_economy = ricardo_political_economy.split('ON VALUE.')[1].split('  FOOTNOTES:')[0]\r\n",
        "keynes_employment = keynes_employment.split('GENERAL INTRODUCTION')[1].split('PRINTING ERRORS IN THE FIRST EDITION CORRECTE')[0][:-145]\r\n"
      ],
      "execution_count": 6,
      "outputs": []
    },
    {
      "cell_type": "code",
      "metadata": {
        "id": "1uDGcFA-r3w7"
      },
      "source": [
        "# use this cell to deal with the new text and experiment until we have a good result\r\n",
        "\r\n",
        "epictetus_enchiridion = epictetus_enchiridion.split('New York, 1927.')[1][99:].split('Footnotes')[0][:-45]"
      ],
      "execution_count": 7,
      "outputs": []
    },
    {
      "cell_type": "code",
      "metadata": {
        "id": "kghr6yp0r6Lv"
      },
      "source": [
        "# a list of books for each school, then aggregated and entered into a dictionary\r\n",
        "\r\n",
        "## original texts\r\n",
        "plato_texts = [plato_complete]\r\n",
        "aristotle_texts = [aristotle_vol_1, aristotle_vol_2]\r\n",
        "rationalist_texts = [spinoza_ethics, spinoza_improve_understanding, \r\n",
        "                    leibniz_theodicy, descartes_discourse_method, \r\n",
        "                     descartes_meditations, malebranche_search_truth]\r\n",
        "empiricist_texts = [locke_treatise_gov, locke_understanding_1, locke_understanding_2, \r\n",
        "                    hume_treatise, hume_natural_religion, berkeley_three_dialogues, \r\n",
        "                    berkeley_treatise]\r\n",
        "german_idealist_texts = [kant_practical_reason, kant_judgement, kant_pure_reason, \r\n",
        "                         fichte_ethics, hegel_logic, hegel_phenomenology, hegel_right]\r\n",
        "analytic_texts = [russell_analylsis_of_mind, russell_problems_of_phil, \r\n",
        "                  moore_studies, wittgenstein_investigations, wittgenstein_tractatus, \r\n",
        "                  lewis_papers1, lewis_papers2, quine_quintessence, popper_science, \r\n",
        "                  kripke_naming, kripke_troubles]\r\n",
        "phenomenology_texts = [ponty_perception, husserl_crisis, \r\n",
        "                       husserl_idea_of, heidegger_being_time, heidegger_track]\r\n",
        "continental_texts = [foucault_clinic, foucault_madness, foucault_order, \r\n",
        "                     derrida_writing, deleuze_difference, deleuze_oedipus]\r\n",
        "marxist_texts = [marx_kapital, marx_manifesto, lenin_essential]\r\n",
        "capitalist_texts = [smith_wealth, ricardo_political_economy, keynes_employment]\r\n",
        "\r\n",
        "# new texts\r\n",
        "stoicism_texts = [epictetus_enchiridion]\r\n",
        "\r\n",
        "\r\n",
        "all_texts = plato_texts + aristotle_texts + empiricist_texts + rationalist_texts + analytic_texts + continental_texts + phenomenology_texts + german_idealist_texts + marxist_texts + capitalist_texts + stoicism_texts\r\n",
        "all_texts_string = ' . '.join(all_texts)\r\n",
        "\r\n",
        "text_dict_list = {'plato': plato_texts, 'aristotle': aristotle_texts, \r\n",
        "             'empiricism': empiricist_texts, 'rationalism': rationalist_texts, \r\n",
        "            'german_idealism': german_idealist_texts, \r\n",
        "             'phenomenology': phenomenology_texts, 'analytic': analytic_texts, \r\n",
        "            'continental': continental_texts, 'marxism': marxist_texts,\r\n",
        "             'capitalism': capitalist_texts, 'stoicism': stoicism_texts}\r\n",
        "\r\n",
        "text_dict = {}\r\n",
        "for school in text_dict_list.keys():\r\n",
        "    text_dict[school] = ' . '.join(text_dict_list[school])"
      ],
      "execution_count": 8,
      "outputs": []
    },
    {
      "cell_type": "code",
      "metadata": {
        "id": "MkT0egnbr89k"
      },
      "source": [
        "def baseline_clean(to_correct, capitals=True, bracketed_fn=False, odd_words_dict={}):\r\n",
        "  # remove utf8 encoding characters and some punctuations\r\n",
        "  result = re.sub(r'[\\x00-\\x08\\x0b\\x0c\\x0e-\\x1f\\x7f-\\xff\\xad\\x0c6§\\\\\\£\\Â*_<>\"\"⎫•{}Γ~]', ' ', to_correct)\r\n",
        "  result = re.sub(r'[\\u2014\\u2013\\u2012-]', ' ', result)\r\n",
        "\r\n",
        "  # replace whitespace characters with actual whitespace\r\n",
        "  result = re.sub(r'\\s', ' ', result)\r\n",
        "\r\n",
        "  # replace odd quotation marks with a standard\r\n",
        "  result = re.sub(r'[‘’“”]', \"'\", result)\r\n",
        "\r\n",
        "  # replace the ﬀ, ﬃ and ﬁ with the appropriate counterparts\r\n",
        "  result = re.sub(r'ﬀ', 'ff', result)\r\n",
        "  result = re.sub(r'ﬁ', 'fi', result)\r\n",
        "  result = re.sub(r'ﬃ', 'ffi', result)\r\n",
        "\r\n",
        "  # remove or standardize some recurring common and meaninless words/phrases\r\n",
        "  result = re.sub(r'\\s*This\\s*page\\s*intentionally\\s*left\\s*blank\\s*', ' ', result)\r\n",
        "  result = re.sub(r'(?i)Aufgabe\\s+', ' ', result)\r\n",
        "  result = re.sub(r',*\\s+cf\\.', ' ', result)\r\n",
        "\r\n",
        "  # some texts have footnotes conveniently in brackets - this removes them all, \r\n",
        "  # with a safety measure for unpaired brackets, and deletes all brackets afterwards\r\n",
        "  if bracketed_fn:\r\n",
        "    result = re.sub(r'\\[.{0,300}\\]|{.{0,300}}|{.{0,300}\\]|\\[.{0,300}}', ' ', result)\r\n",
        "  result = re.sub(r'[\\[\\]{}]', ' ', result)\r\n",
        "\r\n",
        "  # unify some abbreviations\r\n",
        "  result = re.sub(r'&', 'and', result)\r\n",
        "  result = re.sub(r'\\se\\.g\\.\\s', ' eg ', result)\r\n",
        "  result = re.sub(r'\\si\\.e\\.\\s', ' ie ', result)\r\n",
        "  result = re.sub('coroll\\.', 'coroll', result)\r\n",
        "  result = re.sub('pt\\.', 'pt', result)\r\n",
        "\r\n",
        "  # remove roman numerals, first capitalized ones\r\n",
        "  result = re.sub(r'\\s((I{2,}V*X*\\.*)|(IV\\.*)|(IX\\.*)|(V\\.*)|(V+I*\\.*)|(X+L*V*I*]\\.*))\\s', ' ', result)\r\n",
        "  # then lowercase\r\n",
        "  result = re.sub(r'\\s((i{2,}v*x*\\.*)|(iv\\.*)|(ix\\.*)|(v\\.*)|(v+i*\\.*)|(x+l*v*i*\\.*))\\s', ' ', result)\r\n",
        "\r\n",
        "  # remove periods and commas flanked by numbers\r\n",
        "  result = re.sub(r'\\d\\.\\d', ' ', result)\r\n",
        "  result = re.sub(r'\\d,\\d', ' ', result)\r\n",
        "\r\n",
        "  # remove the number-letter-number pattern used for many citations\r\n",
        "  result = re.sub(r'\\d*\\w{,2}\\d', ' ', result)\r\n",
        "\r\n",
        "  # remove numerical characters\r\n",
        "  result = re.sub(r'\\d+', ' ', result)\r\n",
        "\r\n",
        "  # remove words of 2+ characters that are entirely capitalized \r\n",
        "  # (these are almost always titles, headings, or speakers in a dialogue)\r\n",
        "  # remove capital I's that follow capital words - these almost always roman numerals\r\n",
        "  # some texts do use these capitalizations meaningfully, so we make this optional\r\n",
        "  if capitals:\r\n",
        "    result = re.sub(r'[A-Z]{2,}\\s+I', ' ', result)\r\n",
        "    result = re.sub(r'[A-Z]{2,}', ' ', result)\r\n",
        "\r\n",
        "  # remove isolated colons and semicolons that result from removal of titles\r\n",
        "  result = re.sub(r'\\s+:\\s*', ' ', result)\r\n",
        "  result = re.sub(r'\\s+;\\s*', ' ', result)\r\n",
        "\r\n",
        "  # remove isolated letters (do it several times because strings of isolated letters do not get captured properly)\r\n",
        "  result = re.sub(r'\\s[^aAI\\.]\\s', ' ', result)\r\n",
        "  result = re.sub(r'\\s[^aAI\\.]\\s', ' ', result)\r\n",
        "  result = re.sub(r'\\s[^aAI\\.]\\s', ' ', result)\r\n",
        "  result = re.sub(r'\\s[^aAI\\.]\\s', ' ', result)\r\n",
        "  result = re.sub(r'\\s[^aAI\\.]\\s', ' ', result)\r\n",
        "  result = re.sub(r'\\s[^aAI\\.]\\s', ' ', result)\r\n",
        "\r\n",
        "  # remove isolated letters at the end of sentences or before commas\r\n",
        "  result = re.sub(r'\\s[^aI]\\.', '.', result)\r\n",
        "  result = re.sub(r'\\s[^aI],', ',', result)\r\n",
        "\r\n",
        "  # deal with spaces around periods and commas\r\n",
        "  result = re.sub(r'\\s+,\\s+', ', ', result)\r\n",
        "  result = re.sub(r'\\s+\\.\\s+', '. ', result)\r\n",
        "\r\n",
        "  # remove empty parantheses\r\n",
        "  result = re.sub(r'(\\(\\s*\\.*\\s*\\))|(\\(\\s*,*\\s*)\\)', ' ', result)\r\n",
        "\r\n",
        "  # reduce multiple periods, commas, or whitespaces into a single one\r\n",
        "  result = re.sub(r'\\.+', '.', result)\r\n",
        "  result = re.sub(r',+', ',', result)\r\n",
        "  result = re.sub(r'\\s+', ' ', result)\r\n",
        "\r\n",
        "  # deal with isolated problem cases discovered in the data:\r\n",
        "  for key in odd_words_dict.keys():\r\n",
        "    result = re.sub(r''+key+'', odd_words_dict[key], result)\r\n",
        "\r\n",
        "  return result"
      ],
      "execution_count": 9,
      "outputs": []
    },
    {
      "cell_type": "code",
      "metadata": {
        "colab": {
          "base_uri": "https://localhost:8080/",
          "height": 136
        },
        "id": "bOIF01WGsDzv",
        "outputId": "54ca552f-d580-41c8-9497-2fbaa091b964"
      },
      "source": [
        "# use this cell to run the function on the new text and see if anything looks odd\r\n",
        "baseline_clean(epictetus_enchiridion)[1000:3000]"
      ],
      "execution_count": 10,
      "outputs": [
        {
          "output_type": "execute_result",
          "data": {
            "application/vnd.google.colaboratory.intrinsic+json": {
              "type": "string"
            },
            "text/plain": [
              "\"y, nor will you suffer any harm. Aiming, therefore, at such great things, remember that you must not allow yourself any inclination, however slight, toward the attainment of the others; but that you must entirely quit some of them, and for the present postpone the rest. But if you would have these, and possess power and wealth likewise, you may miss the latter in seeking the former; and you will certainly fail of that by which alone happiness and freedom are procured. Seek at once, therefore, to be able to say to every unpleasing semblance, 'You are but a semblance and by no means the real thing.' And then examine it by those rules which you have; and first and chiefly by this: whether it concerns the things which are within our own power or those which are not; and if it concerns anything beyond our power, be prepared to say that it is nothing to you. Remember that desire demands the attainment of that of which you are desirous; and aversion demands the avoidance of that to which you are averse; that he who fails of the object of his desires is disappointed; and he who incurs the object of his aversion is wretched. If, then, you shun only those undesirable things which you can control, you will never incur anything which you shun; but if you shun sickness, or death, or poverty, you will run the risk of wretchedness. Remove the habit of aversion, then, from all things that are not within our power, and apply it to things undesirable which are within our power. But for the present, altogether restrain desire; for if you desire any of the things not within our own power, you must necessarily be disappointed; and you are not yet secure of those which are within our power, and so are legitimate objects of desire. Where it is practically necessary for you to pursue or avoid anything, do even this with discretion and gentleness and moderation. With regard to whatever objects either delight the mind or contribute to use or are tenderly beloved, remind yourself of what natu\""
            ]
          },
          "metadata": {
            "tags": []
          },
          "execution_count": 10
        }
      ]
    },
    {
      "cell_type": "code",
      "metadata": {
        "id": "JxmXkIWbsJVs"
      },
      "source": [
        "plato_to_rm = ['Apology', 'Sophist', 'Statesman', 'Symposium', \r\n",
        "                 'Second Alcibiades', 'Rival Lovers', 'Greater Hippias', \r\n",
        "                 'Lesser Hippias', 'Republic', 'Laws', 'Letters', 'Definitions',\r\n",
        "                 'On Virtue', 'On Justice', 'Epigrams', 'Translated b.+\\.']\r\n",
        "\r\n",
        "aristotle_to_rm = ['Aristotle', 'Book']\r\n",
        "\r\n",
        "descartes_meditations_to_rm = ['Letter of Dedication', 'Preface to the Reader', \r\n",
        "                               'Synopsis', 'First Meditation', 'Second Meditation', \r\n",
        "                               'Third Meditation', 'Fourth Meditation', 'Fifth Meditation', \r\n",
        "                               'Sixth Meditation']\r\n",
        "\r\n",
        "malebranche_search_to_rm = ['Nicolas Malebranche', 'Truth', 'Nicolas',]\r\n",
        "\r\n",
        "locke_gov_to_rm = ['Sect.']\r\n",
        "\r\n",
        "berkeley_dialogues_to_rm = ['PHIL.', 'PHILONOUS.', 'HYL.', 'HYLAS.']\r\n",
        "\r\n",
        "kant_judgement_to_rm = ['Introduction', 'Preface to the First Edition', \r\n",
        "                        'Critique of Aesthetic Judgement', 'Critique of Teleological Judgement',\r\n",
        "                        'Analytic of the Beautiful', 'Analytic of the Sublime',\r\n",
        "                        'Anaytic of Teleological Judgement', 'Dialectic of Aeshetic Judgement',\r\n",
        "                        'Critique of Teleological Judgement', 'Dialectic of Teleological Judgement',\r\n",
        "                        'Theory of the Method of Teleological Judgement',\r\n",
        "                        '‘First Introduction’ to the Critique of Judgement']\r\n",
        "\r\n",
        "kant_pure_reason_to_rm = ['Introduction', '\\s+Section\\s.+', '\\sDoctrine\\s*of\\s*Elements\\.\\s*.+',\r\n",
        "                          '\\sDoctrine\\s*of\\s*Method\\.\\s*.+']                        \r\n",
        "\r\n",
        "\r\n",
        "fichte_ethics_to_rm = ['Page']\r\n",
        "\r\n",
        "hegel_SoL_to_rm = ['Georg Wilhelm Friedrich Hegel', 'The Science of Logic']\r\n",
        "\r\n",
        "hegel_right_to_rm = ['Preface', 'Philosophy of Right', 'Philosophy ofRight', \r\n",
        "                     'Philosophy ojRight', 'Philosophy oj Right', \r\n",
        "                     'Introduction', 'Abstract Right', 'Ethical Life', 'Ethical Lift',\r\n",
        "                     'Morality']\r\n",
        "\r\n",
        "wittgenstein_tract_to_rm = ['tractatus logico-philosophicus']\r\n",
        "\r\n",
        "lewis_papers_1_to_rm = ['Introduction', 'Ontology', 'Holes', 'Anselm and Actuality', \r\n",
        "                        'Counterpart Theory and Quantified Modal Logic', \r\n",
        "                        'Counterparts of Persons and Their Bodies', 'Survival and Identity',\r\n",
        "                        'How to Define Theoretical Terms', 'Philosophy of Mind', \r\n",
        "                        'An Argument for the Identity Theory', 'Radical Interpretation',\r\n",
        "                        'Mad Pain and Partian Pain', 'Attitudes De Dicto and De Se',\r\n",
        "                        'Philosophy of Language', 'Languages and Language',\r\n",
        "                        'General Semantics', 'Scorekeeping in a Language Game',\r\n",
        "                        'Tensions', 'Truth in Fiction', 'This page intentionally left blank']\r\n",
        "\r\n",
        "lewis_papers_2_to_rm = ['end\\sp\\.']\r\n",
        "\r\n",
        "quine_quintessence_to_rm = ['(?i)\\s+Truth\\s+by\\s+Convention\\s+', '(?i)\\s+Two\\s+Dogams\\s+of\\s+Empiricism',\r\n",
        "                            '(?i)\\s+Two\\s+in\\s+Retrospect\\s+', '(?i)\\s+Carnap\\s+and\\s+Logical\\s+Truth',\r\n",
        "                            '(?i)\\s+Speaking\\s+of\\s+Objects\\s+', '(?i)\\s+Reference\\s+',\r\n",
        "                            '(?i)\\s+Translation\\s+and\\s+Meaning', '(?i)\\s+Progress\\s+on\\s+Two\\s+Fronts\\s+',\r\n",
        "                            '(?i)\\s+On\\s+What\\s+There\\s+is\\s+', '(?i)\\s+the\\s+scope\\s+and\\s+language\\s+of\\s+science\\s+',\r\n",
        "                            '(?i)\\s+on\\s+simple\\s+theories\\s+of\\s+a\\s+complex\\s+world\\s+',\r\n",
        "                            '(?i)\\s+ontic\\s+decision\\s+', '(?i)\\s+things\\s+and\\s+their\\s+place\\s+in\\s+theories\\s+',\r\n",
        "                            \"(?i)\\s+on\\s+Carnap\\s*'s\\s+views\\s+on\\s+ontology\\s+\",\r\n",
        "                            '(?i)\\s+empistemology\\s+naturalized\\s+', \r\n",
        "                            \"(?i)\\s+naturalism\\s;\\s+or,\\s+living\\s+within\\s+one\\s*'s\\s+means\\s+\",\r\n",
        "                            '(?i)\\s+the\\s+nature\\s+of\\s+natural\\s+knowledge\\s+',\r\n",
        "                            '(?i)\\s+five\\s+milestones\\s+of\\s+empiricism\\s+',\r\n",
        "                            '(?i)\\s+on\\s+mental\\s+entities\\s+', '(?i)\\s+mind\\s+and\\s+verbal\\s+dispositions\\s+',\r\n",
        "                            '(?i)\\s+confessions\\s+of\\s+a\\s+confirmed\\s+extensionalist\\s+',\r\n",
        "                            '(?i)\\s+quantifiers\\s+and\\s+propositional\\s+attitudes\\s+',\r\n",
        "                            '(?i)\\s+intensions\\s+revisited\\s+', '(?i)\\s+reference\\s+and\\s+modality\\s+',\r\n",
        "                            '(?i)\\s+three\\s+grades\\s+of\\s+modal\\s+involvement\\s+']\r\n",
        "\r\n",
        "popper_science_to_rm = ['the logic of science', 'a survey of some fundamental problems',\r\n",
        "                        'preface', 'on the problem of a theory of scientific method',\r\n",
        "                        'some structural components of a theory of experience',\r\n",
        "                        'degrees of testability', 'some observations on quantum theory',\r\n",
        "                        'corroboration, or how a theory stands up to tests']\r\n",
        "\r\n",
        "kripke_troubles_to_rm = ['Identity and Necessity', 'On Two Paradoxes of Knowledge',\r\n",
        "                          'Vacuous Names and Fictional Entities', 'Outline of a Theory of Truth',\r\n",
        "                          \"Speaker's Reference and Semantic Reference\",\r\n",
        "                          'A Puzzle about Belief', 'Nozick on Knowledge', \r\n",
        "                          \"Russell's Notion of Scope\", \"Frege's Theory of Sense and Reference\",\r\n",
        "                          'The First Person', 'Unrestricted Exportation and Some Morals for the Philosophy',\r\n",
        "                          'Presupposition and Anaphora', 'A Puzzle about Time and Thought']\r\n",
        "\r\n",
        "ponty_perception_to_rm = ['phenomenology of perception', 'preface',\r\n",
        "                          \"the 'sensation' as a unit of experience\", \r\n",
        "                          \"'association' and the 'projection of memories'\",\r\n",
        "                          \"'attention' and 'judgement'\", 'the phenomenal field', \r\n",
        "                          'experience and objective thought', 'the body as object and mechanistic psychology',\r\n",
        "                          'the experience of the body and classical psychology',\r\n",
        "                          \"the spatiality of one’s own body and motility\",\r\n",
        "                          \"the synthesis of one's own body\", 'the body in its sexual being',\r\n",
        "                          'the body as expression, and speech',\r\n",
        "                          'theory of the body is already a theory of perception',\r\n",
        "                          'sense experience', 'the thing and the natural world',\r\n",
        "                          'other selves and the human world']\r\n",
        "\r\n",
        "husserl_crisis_to_rm = ['Part\\s+', 'Idealization and the Science of Reality', \r\n",
        "                        'Denial of Scientific Philosophy', 'The Origin of Geometry',\r\n",
        "                        'Natural Science and Humanistic Science',\r\n",
        "                        'The Vienna Lecture']\r\n",
        "\r\n",
        "heidegger_b_and_t_to_rm = ['\\s+Being\\s*and\\s*Time\\s+', 'Int.', 'I.m', 'I.n']                                                  \r\n",
        "\r\n",
        "foucault_order_to_rm = ['the order of things', 'the prose of the world', '\\s+classifying\\s+',\r\n",
        "                        'exchanging', 'the limits of representation',\r\n",
        "                        'labour, life, language', 'man and his doubles']\r\n",
        "\r\n",
        "foucault_madness_to_rm = ['\\s+Page\\s']\r\n",
        "\r\n",
        "foucault_clinic_to_rm = ['\\(\\(.+\\)\\)']\r\n",
        "\r\n",
        "deleuze_difference_to_rm = ['Difference and Repetition', 'Difference in Itself',\r\n",
        "                            'Repetition for Itself', 'The Image of Thought',\r\n",
        "                            'Ideas and the Synthesis of Difference',\r\n",
        "                            'Asymmetrical Synthesis of the Sensible', 'Conclusion']\r\n",
        "\r\n",
        "marx_kapital_to_rm = ['http.+', 'Capital\\s+Vol\\..+']\r\n",
        "\r\n",
        "marx_manifesto_to_rm = ['\\s+page\\s+\\d+']\r\n",
        "\r\n",
        "keynes_employment_to_rm = ['(?i)\\s+The\\s+General\\s+Theory\\s+of\\s+Employment,*\\s+interest\\s+and\\s+money\\s+by\\s+john\\s+maynard\\s+keynes\\s+',\r\n",
        "                           'Table of Contents \\| Previous Chapter \\| Next Chapter', \r\n",
        "                           'Chapter\\s+\\d+']       \r\n",
        "\r\n",
        "do_not_remove_capitals = ['essay concerning human understanding bk 2', \r\n",
        "                          'a treatise of human nature', \r\n",
        "                          'dialogues concerning natural religion', 'three dialogues', \r\n",
        "                          'a treatise concerning the principles of human knowledge']\r\n",
        "\r\n",
        "bracketed_fn = ['critique of practical reason', 'the communist manifesto']                                          "
      ],
      "execution_count": 11,
      "outputs": []
    },
    {
      "cell_type": "code",
      "metadata": {
        "colab": {
          "base_uri": "https://localhost:8080/"
        },
        "id": "Ct6SmxnTsM1k",
        "outputId": "473764db-85ca-4b63-c629-9fee80ee3e07"
      },
      "source": [
        "# prepare lists that will be zipped into a dictionary\r\n",
        "\r\n",
        "# texts \r\n",
        "all_texts\r\n",
        "\r\n",
        "# titles\r\n",
        "title_list = [\"plato - complete works\", \"aristotle - complete works\", \"aristotle - complete works\",\r\n",
        "              'second treatise on government', 'essay concerning human understanding',\r\n",
        "              'essay concerning human understanding', 'a treatise of human nature', \r\n",
        "              'dialogues concerning natural religion', 'three dialogues', \r\n",
        "              'a treatise concerning the principles of human knowledge',\r\n",
        "              'ethics', 'on the improvement of understanding', 'theodicy',\r\n",
        "              'discourse on method', 'meditations', 'the search after truth',\r\n",
        "              'the analysis of mind', 'the problems of philosophy', 'philosophical studies',\r\n",
        "              'philosophical investigations', 'tractatus logico-philosophicus',\r\n",
        "              \"lewis - papers\", \"lewis - papers\", 'quintessence', \r\n",
        "              'the logic of scientific discovery', 'naming and necessity', \r\n",
        "              'philosophical troubles', 'the birth of the clinic', 'madness and civilization',\r\n",
        "              'the order of things', 'writing and difference', 'difference and repetition',\r\n",
        "              'anti-oedipus', 'the phenomenology of perception', \r\n",
        "              'the crisis of the european sciences and phenomenology', \r\n",
        "              'the idea of phenomenology',\r\n",
        "              'being and time', 'off the beaten track', 'critique of practical reason', \r\n",
        "              'critique of judgement', 'critique of pure reason', \r\n",
        "              'the system of ethics', 'science of logic', 'the phenomenology of spirit',\r\n",
        "              'elements of the philosophy of right', 'capital', 'the communist manifesto', \r\n",
        "              'essential works of lenin', 'the wealth of nations', \r\n",
        "              'on the principles of political economy and taxation',\r\n",
        "              'a general theory of employment, interest, and money', 'enchiridion']\r\n",
        "\r\n",
        "# authors\r\n",
        "author_list = ['plato', 'aristotle', 'aristotle', 'locke', 'locke', 'locke',\r\n",
        "               'hume', 'hume', 'berkeley', 'berkeley', 'spinoza', 'spinoza',\r\n",
        "               'leibniz', 'descartes', 'descartes', 'malebranche', 'russell', \r\n",
        "               'russell', 'moore', 'wittgenstein', 'wittgenstein', 'lewis', 'lewis',\r\n",
        "               'quine', 'popper', 'kripke', 'kripke', 'foucault', 'foucault', \r\n",
        "               'foucault', 'derrida', 'deleuze', 'deleuze', 'merleau-ponty', \r\n",
        "               'husserl', 'husserl', 'heidegger', 'heidegger', 'kant', 'kant',\r\n",
        "               'kant', 'fichte', 'hegel', 'hegel', 'hegel', 'marx', 'marx', 'lenin',\r\n",
        "               'smith', 'ricardo', 'keynes', 'epictetus']\r\n",
        "\r\n",
        "school_list = ['plato', 'aristotle', 'aristotle', 'empiricism', 'empiricism', \r\n",
        "               'empiricism', 'empiricism', 'empiricism', 'empiricism', 'empiricism',\r\n",
        "               'rationalism', 'rationalism', 'rationalism', 'rationalism', \r\n",
        "               'rationalism', 'rationalism', 'analytic', 'analytic', 'analytic', \r\n",
        "               'analytic', 'analytic', 'analytic', 'analytic', 'analytic', 'analytic', \r\n",
        "               'analytic', 'analytic', 'continental', 'continental', 'continental', \r\n",
        "               'continental', 'continental', 'continental', 'phenomenology', \r\n",
        "               'phenomenology', 'phenomenology', 'phenomenology', 'phenomenology', \r\n",
        "               'german_idealism', 'german_idealism', 'german_idealism', 'german_idealism',\r\n",
        "               'german_idealism', 'german_idealism', 'german_idealism', 'communism', \r\n",
        "               'communism', 'communism', 'capitalism', 'capitalism', 'capitalism', 'stoicism']               \r\n",
        "\r\n",
        "# words to remove \r\n",
        "to_rm_list = [plato_to_rm, aristotle_to_rm, aristotle_to_rm, locke_gov_to_rm, \r\n",
        "              [], [], [], [], berkeley_dialogues_to_rm, [], [], [], [], [], \r\n",
        "              descartes_meditations_to_rm, malebranche_search_to_rm, [],\r\n",
        "              [], [], [], wittgenstein_tract_to_rm, lewis_papers_1_to_rm, \r\n",
        "              lewis_papers_2_to_rm, quine_quintessence_to_rm, popper_science_to_rm,\r\n",
        "              [], kripke_troubles_to_rm, foucault_clinic_to_rm, foucault_madness_to_rm,\r\n",
        "              foucault_order_to_rm, [], deleuze_difference_to_rm, [],\r\n",
        "              ponty_perception_to_rm, husserl_crisis_to_rm, [], heidegger_b_and_t_to_rm,\r\n",
        "              [], [], kant_judgement_to_rm, kant_pure_reason_to_rm, fichte_ethics_to_rm, \r\n",
        "              hegel_SoL_to_rm, [], hegel_right_to_rm, marx_kapital_to_rm, \r\n",
        "              marx_manifesto_to_rm, [], [], [], keynes_employment_to_rm, []]\r\n",
        "\r\n",
        "# check lengths to make sure all are present\r\n",
        "len(to_rm_list), len(all_texts), len(author_list), len(title_list), len(school_list)"
      ],
      "execution_count": 12,
      "outputs": [
        {
          "output_type": "execute_result",
          "data": {
            "text/plain": [
              "(52, 52, 52, 52, 52)"
            ]
          },
          "metadata": {
            "tags": []
          },
          "execution_count": 12
        }
      ]
    },
    {
      "cell_type": "code",
      "metadata": {
        "colab": {
          "base_uri": "https://localhost:8080/"
        },
        "id": "jWV3U1XIsPEe",
        "outputId": "e6dcc1dd-f102-4312-cca7-833d593ffc3d"
      },
      "source": [
        "# combine all these into a single list of dictionaries\r\n",
        "book_dicts = []\r\n",
        "for i in range(0, len(all_texts)):\r\n",
        "  book_dict = {}\r\n",
        "  book_dict['author'] = author_list[i].title()\r\n",
        "  book_dict['title'] = title_list[i].title()\r\n",
        "  book_dict['text'] = all_texts[i]\r\n",
        "  book_dict['school'] = school_list[i]\r\n",
        "  book_dict['words to remove'] = to_rm_list[i]\r\n",
        "  book_dict['remove capitals'] = True\r\n",
        "  book_dict['bracketed fn'] = False\r\n",
        "  book_dicts.append(book_dict)\r\n",
        "\r\n",
        "# mark the ones with bracketed footnotes \r\n",
        "for book in book_dicts:\r\n",
        "  if book['title'] in bracketed_fn:\r\n",
        "    book['bracketed fn'] = True\r\n",
        "\r\n",
        "# mark the ones with capitals we want to keep\r\n",
        "for book in book_dicts:\r\n",
        "  if book['title'] in do_not_remove_capitals:\r\n",
        "    book['remove capitals'] = False\r\n",
        "  \r\n",
        "# check length again to make sure\r\n",
        "len(book_dicts)"
      ],
      "execution_count": 13,
      "outputs": [
        {
          "output_type": "execute_result",
          "data": {
            "text/plain": [
              "52"
            ]
          },
          "metadata": {
            "tags": []
          },
          "execution_count": 13
        }
      ]
    },
    {
      "cell_type": "code",
      "metadata": {
        "cellView": "form",
        "id": "Xe_GUeVisQ7C"
      },
      "source": [
        "#@title Oddities Dictionary for Cleaning\r\n",
        "# a dictionary of oddities to clean up\r\n",
        "odd_words_dict = {'\\sderstanding': 'derstanding',\r\n",
        "                  '\\sforthe\\s': ' for the ',\r\n",
        "                  '\\sject': 'ject',\r\n",
        "                  '\\sjects': 'jects', \r\n",
        "                  '\\sness': 'ness',\r\n",
        "                  '\\sper\\scent\\s': ' percent ',\r\n",
        "                  '\\sper\\scent\\.': ' percent.',\r\n",
        "                  '\\sper\\scent,': ' percent,',\r\n",
        "                  '\\wi\\son': 'ion',\r\n",
        "                  '\\spri\\sori': ' priori',\r\n",
        "                  '\\stences\\s': 'tences ',\r\n",
        "                  '\\sprincipleb': ' principle',\r\n",
        "                  '\\ssciousness': 'sciousness',\r\n",
        "                  '\\stion': 'tion',\r\n",
        "                  '\\spri\\s': ' pri',\r\n",
        "                  '\\scluding': 'cluding',\r\n",
        "                  '\\sdom': 'dom',\r\n",
        "                  '\\sers': 'ers',\r\n",
        "                  '\\scritiq\\s': ' critique ',\r\n",
        "                  '\\ssensati\\s': ' sensation ',\r\n",
        "                  '(?i)\\syou\\sll': \" you'll\",\r\n",
        "                  '\\sI\\sll': \" I'll\",\r\n",
        "                  '(?i)\\swe\\sll': \" we'll\",\r\n",
        "                  '(?i)he\\sll': \" he'll\",\r\n",
        "                  '(?i)who\\sll': \"who'll\",\r\n",
        "                  '(?i)\\sthere\\sll\\s': \" there'll \",\r\n",
        "                  '\\seduca\\s': ' education ',\r\n",
        "                  '\\slity\\s': 'lity ',\r\n",
        "                  '\\smultaneously\\s': 'multaneously ',\r\n",
        "                  '\\stically\\s': 'tically ',\r\n",
        "                  '\\sDa\\ssein\\s': ' Dasein ',\r\n",
        "                  '(?i)\\sthey\\sll\\s': \" they'll \",\r\n",
        "                  '(?i)\\sin\\tum\\s': ' in turn ',\r\n",
        "                  '\\scon~\\s': ' con',\r\n",
        "                  '\\sà\\s': ' a ',\r\n",
        "                  '\\sjor\\s': ' for ',\r\n",
        "                  '\\sluminating\\s': 'luminating ',\r\n",
        "                  '\\sselj\\s': ' self ',\r\n",
        "                  '\\stial\\s': 'tial ',\r\n",
        "                  '\\sversal\\s': 'versal ',\r\n",
        "                  '\\sexis\\st': ' exist',\r\n",
        "                  '\\splauded\\s': 'plauded ',\r\n",
        "                  '\\suiry\\s': 'uiry ',\r\n",
        "                  '\\svithin\\s': ' within ',\r\n",
        "                  '\\soj\\s': ' of ',\r\n",
        "                  '\\sposi\\st': ' posit',\r\n",
        "                  '\\sra\\sther\\s': ' rather ',\r\n",
        "                  '(?i)\\sthat\\sll\\s': \" that'll \",\r\n",
        "                  '(?i)\\sa\\sll\\s': ' all ',\r\n",
        "                  '\\so\\sther\\s': ' other ',\r\n",
        "                  '\\sra\\sther\\s': ' rather ',\r\n",
        "                  '\\snei\\sther\\s': ' neither ',\r\n",
        "                  '\\sei\\sther\\s': ' either ',\r\n",
        "                  '\\sfur\\sther\\s': ' further ',\r\n",
        "                  '\\sano\\sther': ' another ',\r\n",
        "                  '\\sneces\\s': ' neces',\r\n",
        "                  'u\\slar\\s': 'ular ',\r\n",
        "                  '\\sference\\s': 'ference ',\r\n",
        "                  '(?i)it\\sll\\s': \"it'll \",\r\n",
        "                  '\\stoge\\sther': ' together ',\r\n",
        "                  '\\sknowledgeb\\s': ' knowledge ',\r\n",
        "                  'r\\stain\\s': 'rtain ',\r\n",
        "                  'on\\stain\\s': 'ontain',\r\n",
        "                  '(?i)j\\sect\\s': 'ject',\r\n",
        "                  '\\sob\\sect\\s': ' object ',\r\n",
        "                  '\\sbtle\\s': 'btle ',\r\n",
        "                  '\\snition\\s': 'nition ',\r\n",
        "                  '\\sdering\\s': 'dering ', \r\n",
        "                  '\\sized\\s': 'ized ',\r\n",
        "                  '\\sther\\shand': ' other hand',\r\n",
        "                  '\\ture\\s': 'ture ',\r\n",
        "                  '\\sabso\\sl': ' absol',\r\n",
        "                  '\\stly\\s': 'tly ',\r\n",
        "                  '\\serty\\s': 'erty ',\r\n",
        "                  '\\sobj\\se': ' obj',\r\n",
        "                  '\\sffiir\\s': ' for ',\r\n",
        "                  '\\sndeed\\s': ' indeed ',\r\n",
        "                  '\\sfonn\\s': ' form ',\r\n",
        "                  '\\snally\\s': 'nally ',\r\n",
        "                  'ain\\sty\\s': 'ainty ',\r\n",
        "                  'ici\\sty\\s': 'icity ',\r\n",
        "                  '\\scog\\sni': ' cogni',\r\n",
        "                  '\\sacc\\s': ' acc',\r\n",
        "                  '\\sindi\\svid\\sual': ' individual', \r\n",
        "                  '\\sintu\\sit': ' intuit',\r\n",
        "                  'r\\sance\\s': 'rance ',\r\n",
        "                  '\\ssions\\s': 'sions ',\r\n",
        "                  '\\sances\\s': 'ances ',\r\n",
        "                  '\\sper\\sception\\s': ' perception ',\r\n",
        "                  '\\sse\\sries\\s': ' series ',\r\n",
        "                  '\\sque\\sries\\s': ' queries ',\r\n",
        "                  '\\sessary\\s': 'essary ',\r\n",
        "                  '\\sofa\\s': ' of a ',\r\n",
        "                  '\\scer\\stainty\\s': ' certainty ',\r\n",
        "                  'ec\\stivity\\s': 'ectivity ',\r\n",
        "                  '\\stivity\\s': 'tivity ',\r\n",
        "                  '\\slation\\s': 'lation ',\r\n",
        "                  '\\sir\\sr': ' irr',\r\n",
        "                  '\\ssub\\sstance\\s': ' substance ',\r\n",
        "                  'sec\\sond\\s': 'second ',\r\n",
        "                  '\\s\\.rv': '',\r\n",
        "                  '\\story\\s': 'tory ',\r\n",
        "                  '\\sture\\s': 'ture ',\r\n",
        "                  '\\sminate\\s': 'minate ',\r\n",
        "                  '\\sing\\s': 'ing ',\r\n",
        "                  '\\splicity\\s': 'plicity ',\r\n",
        "                  '\\ssimi\\slar\\s': ' similar ',\r\n",
        "                  '\\scom\\smunity\\s': ' community ',\r\n",
        "                  '\\sitselfa\\s': ' itself a ',\r\n",
        "                  '\\ssimp\\s': ' simply ',\r\n",
        "                  '\\scon\\stex': ' contex',\r\n",
        "                  '\\scon\\sseq': ' conseq',\r\n",
        "                  '\\scon\\stai': ' contai',\r\n",
        "                  '\\sofwhat\\s': ' of what ',\r\n",
        "                  '\\sui\\s': 'ui',\r\n",
        "                  '\\sofan\\s': ' of an ',\r\n",
        "                  '\\saccor\\sdance\\s': ' accordance ',\r\n",
        "                  '\\stranscen\\sdental\\s': ' transcendental ',\r\n",
        "                  '\\sap\\spearances\\s': ' appearances ',\r\n",
        "                  'e\\squences\\s': 'equences ',\r\n",
        "                  '\\sorits\\s': ' or its ',\r\n",
        "                  '\\simma\\sn': ' imman',\r\n",
        "                  '\\seq\\sua': ' equa',\r\n",
        "                  '\\simpl\\sied\\s': ' implied ',\r\n",
        "                  '\\sbuta\\s': ' but a ',\r\n",
        "                  '\\sa\\snd\\s': ' and ',\r\n",
        "                  '\\sence\\s': 'ence ',\r\n",
        "                  '\\stain\\s': 'tain ',\r\n",
        "                  '\\sunder\\sstanding\\s': ' understanding ',\r\n",
        "                  'i\\sence\\s': 'ience ',\r\n",
        "                  'r\\sence\\s': 'rence ',\r\n",
        "                  '\\stical\\s': 'tical ',\r\n",
        "                  '\\sobjectsb\\s': ' objects ',\r\n",
        "                  '\\stbe\\s': ' the ',\r\n",
        "                  '\\smul\\st': ' mult',\r\n",
        "                  '\\sgen\\seral\\s': ' general ',\r\n",
        "                  '\\suniver\\ssal\\s': ' universal ',\r\n",
        "                  '\\scon\\stent\\s': ' content ',\r\n",
        "                  '\\spar\\sticular\\s': ' particular ',\r\n",
        "                  'ver\\ssity\\s': 'versity ',\r\n",
        "                  '\\sCritiq\\s': ' Critique ',\r\n",
        "                  '\\sphilo\\ssophy\\s': ' philosophy ',\r\n",
        "                  '\\seq\\s': ' eq'}"
      ],
      "execution_count": 14,
      "outputs": []
    },
    {
      "cell_type": "code",
      "metadata": {
        "colab": {
          "base_uri": "https://localhost:8080/"
        },
        "id": "G_KZCE6YsYE7",
        "outputId": "3b0d9d1f-72f2-4345-b190-99eed48a0815"
      },
      "source": [
        "def from_raw_to_df(text_dict):\r\n",
        "  nlp.max_length = 9000000\r\n",
        "  text = text_dict['text']\r\n",
        "  text = remove_words(text, text_dict['words to remove'])\r\n",
        "  text = baseline_clean(text, capitals=text_dict['remove capitals'],\r\n",
        "                        bracketed_fn=text_dict['bracketed fn'],\r\n",
        "                        odd_words_dict=odd_words_dict)\r\n",
        "  text_nlp = nlp(text, disable=['ner'])\r\n",
        "  text_df = pd.DataFrame(columns=['title', 'author', 'school', 'sentence_spacy'])\r\n",
        "  text_df['sentence_spacy'] = list(text_nlp.sents)\r\n",
        "  text_df['author'] = text_dict['author']\r\n",
        "  text_df['title'] = text_dict['title']\r\n",
        "  text_df['school'] = text_dict['school']\r\n",
        "  text_df['sentence_str'] = text_df['sentence_spacy'].apply(lambda x: ''.join(list(str(x))))\r\n",
        "  return text_df\r\n",
        "\r\n",
        "df = pd.DataFrame(columns=['title', 'author', 'school', 'sentence_spacy', 'sentence_str'])\r\n",
        "for book in book_dicts:\r\n",
        "  book_df = from_raw_to_df(book)\r\n",
        "  df = df.append(book_df, ignore_index=True)\r\n",
        "\r\n",
        "len(df)"
      ],
      "execution_count": 15,
      "outputs": [
        {
          "output_type": "execute_result",
          "data": {
            "text/plain": [
              "361717"
            ]
          },
          "metadata": {
            "tags": []
          },
          "execution_count": 15
        }
      ]
    },
    {
      "cell_type": "code",
      "metadata": {
        "colab": {
          "base_uri": "https://localhost:8080/",
          "height": 630
        },
        "id": "0rTa7P8KwXC6",
        "outputId": "9b568062-3a9b-4f49-b379-fb9c1c5a6ee2"
      },
      "source": [
        "pd.options.display.max_colwidth = 200\r\n",
        "df.sample(10)"
      ],
      "execution_count": 17,
      "outputs": [
        {
          "output_type": "execute_result",
          "data": {
            "text/html": [
              "<div>\n",
              "<style scoped>\n",
              "    .dataframe tbody tr th:only-of-type {\n",
              "        vertical-align: middle;\n",
              "    }\n",
              "\n",
              "    .dataframe tbody tr th {\n",
              "        vertical-align: top;\n",
              "    }\n",
              "\n",
              "    .dataframe thead th {\n",
              "        text-align: right;\n",
              "    }\n",
              "</style>\n",
              "<table border=\"1\" class=\"dataframe\">\n",
              "  <thead>\n",
              "    <tr style=\"text-align: right;\">\n",
              "      <th></th>\n",
              "      <th>title</th>\n",
              "      <th>author</th>\n",
              "      <th>school</th>\n",
              "      <th>sentence_spacy</th>\n",
              "      <th>sentence_str</th>\n",
              "    </tr>\n",
              "  </thead>\n",
              "  <tbody>\n",
              "    <tr>\n",
              "      <th>46596</th>\n",
              "      <td>Plato - Complete Works</td>\n",
              "      <td>Plato</td>\n",
              "      <td>plato</td>\n",
              "      <td>(λαζονει, (, alazoneia, ), ,, pretentiousness, :)</td>\n",
              "      <td>λαζονει (alazoneia), pretentiousness:</td>\n",
              "    </tr>\n",
              "    <tr>\n",
              "      <th>179528</th>\n",
              "      <td>Lewis - Papers</td>\n",
              "      <td>Lewis</td>\n",
              "      <td>analytic</td>\n",
              "      <td>(This, paper, is, about, a, topic, that, does, not, arise, for, them, .)</td>\n",
              "      <td>This paper is about a topic that does not arise for them.</td>\n",
              "    </tr>\n",
              "    <tr>\n",
              "      <th>325950</th>\n",
              "      <td>Capital</td>\n",
              "      <td>Marx</td>\n",
              "      <td>communism</td>\n",
              "      <td>(Fifteen, hours, of, labour, for, a, child, years, old, !, .)</td>\n",
              "      <td>Fifteen hours of labour for a child years old!.</td>\n",
              "    </tr>\n",
              "    <tr>\n",
              "      <th>241934</th>\n",
              "      <td>Anti-Oedipus</td>\n",
              "      <td>Deleuze</td>\n",
              "      <td>continental</td>\n",
              "      <td>(That, is, why, ,, speaking, of, the, schizophrenic, nature, of, our, age, ,, I, said, ', until, the, process, is, completed, the, belly, of, the, world, shall, be, the, Third, Eye, ., ')</td>\n",
              "      <td>That is why, speaking of the schizophrenic nature of our age, I said 'until the process is completed the belly of the world shall be the Third Eye.'</td>\n",
              "    </tr>\n",
              "    <tr>\n",
              "      <th>45909</th>\n",
              "      <td>Plato - Complete Works</td>\n",
              "      <td>Plato</td>\n",
              "      <td>plato</td>\n",
              "      <td>(And, we, say, that, their, names, are, by, no, means, fixed, ;, there, is, no, reason, why, what, we, call, ', circles, ', might, not, be, called, ', straight, lines, ,, ', and, the, straight, li...</td>\n",
              "      <td>And we say that their names are by no means fixed; there is no reason why what we call 'circles' might not be called 'straight lines,' and the straight lines 'circles,' and their natures will be n...</td>\n",
              "    </tr>\n",
              "    <tr>\n",
              "      <th>338622</th>\n",
              "      <td>Essential Works Of Lenin</td>\n",
              "      <td>Lenin</td>\n",
              "      <td>communism</td>\n",
              "      <td>(The, authors, of, this, manifesto, quite, rightly, say, that, ', the, workers, of, Russia, are, only, just, awakening, ,, are, only, just, looking, around, ,, and, instinctively, clutch, at, the,...</td>\n",
              "      <td>The authors of this manifesto quite rightly say that 'the workers of Russia are only just awakening, are only just looking around, and instinctively clutch at the first means of struggle that come...</td>\n",
              "    </tr>\n",
              "    <tr>\n",
              "      <th>257862</th>\n",
              "      <td>Being And Time</td>\n",
              "      <td>Heidegger</td>\n",
              "      <td>phenomenology</td>\n",
              "      <td>(If, the, interpretation, of, the, meaning, of, being, is, to, become, a, task, ,, Dasein, not, only, the, primary, being, interrogated, ;, addition, to, this, it, is, the, being, that, always, al...</td>\n",
              "      <td>If the interpretation of the meaning of being is to become a task, Dasein not only the primary being interrogated; addition to this it is the being that always already in its being is related to w...</td>\n",
              "    </tr>\n",
              "    <tr>\n",
              "      <th>346869</th>\n",
              "      <td>The Wealth Of Nations</td>\n",
              "      <td>Smith</td>\n",
              "      <td>capitalism</td>\n",
              "      <td>(Even, the, stores, and, warehouses, from, which, goods, are, retailed, in, some, provinces, ,, particularly, in, Virginia, and, Maryland, ,, belong, many, of, them, to, merchants, who, reside, in...</td>\n",
              "      <td>Even the stores and warehouses from which goods are retailed in some provinces, particularly in Virginia and Maryland, belong many of them to merchants who reside in the mother country, and afford...</td>\n",
              "    </tr>\n",
              "    <tr>\n",
              "      <th>216572</th>\n",
              "      <td>Madness And Civilization</td>\n",
              "      <td>Foucault</td>\n",
              "      <td>continental</td>\n",
              "      <td>(only, the, negative, element, came, into, effect, ,, and, assistance, could, no, longer, be, required, :, ')</td>\n",
              "      <td>only the negative element came into effect, and assistance could no longer be required: '</td>\n",
              "    </tr>\n",
              "    <tr>\n",
              "      <th>228936</th>\n",
              "      <td>Writing And Difference</td>\n",
              "      <td>Derrida</td>\n",
              "      <td>continental</td>\n",
              "      <td>(The, theater, of, cruelty, is, to, be, born, by, separating, death, from, birth, and, by, erasing, the, name, of, man, .)</td>\n",
              "      <td>The theater of cruelty is to be born by separating death from birth and by erasing the name of man.</td>\n",
              "    </tr>\n",
              "  </tbody>\n",
              "</table>\n",
              "</div>"
            ],
            "text/plain": [
              "                           title  ...                                                                                                                                                                                             sentence_str\n",
              "46596     Plato - Complete Works  ...                                                                                                                                                                    λαζονει (alazoneia), pretentiousness:\n",
              "179528            Lewis - Papers  ...                                                                                                                                                This paper is about a topic that does not arise for them.\n",
              "325950                   Capital  ...                                                                                                                                                          Fifteen hours of labour for a child years old!.\n",
              "241934              Anti-Oedipus  ...                                                     That is why, speaking of the schizophrenic nature of our age, I said 'until the process is completed the belly of the world shall be the Third Eye.'\n",
              "45909     Plato - Complete Works  ...  And we say that their names are by no means fixed; there is no reason why what we call 'circles' might not be called 'straight lines,' and the straight lines 'circles,' and their natures will be n...\n",
              "338622  Essential Works Of Lenin  ...  The authors of this manifesto quite rightly say that 'the workers of Russia are only just awakening, are only just looking around, and instinctively clutch at the first means of struggle that come...\n",
              "257862            Being And Time  ...  If the interpretation of the meaning of being is to become a task, Dasein not only the primary being interrogated; addition to this it is the being that always already in its being is related to w...\n",
              "346869     The Wealth Of Nations  ...  Even the stores and warehouses from which goods are retailed in some provinces, particularly in Virginia and Maryland, belong many of them to merchants who reside in the mother country, and afford...\n",
              "216572  Madness And Civilization  ...                                                                                                                only the negative element came into effect, and assistance could no longer be required: '\n",
              "228936    Writing And Difference  ...                                                                                                      The theater of cruelty is to be born by separating death from birth and by erasing the name of man.\n",
              "\n",
              "[10 rows x 5 columns]"
            ]
          },
          "metadata": {
            "tags": []
          },
          "execution_count": 17
        }
      ]
    },
    {
      "cell_type": "code",
      "metadata": {
        "colab": {
          "base_uri": "https://localhost:8080/"
        },
        "id": "EFFcGwHUwTKv",
        "outputId": "6d8788b1-a87a-4546-d21a-a0ed666bf414"
      },
      "source": [
        "df['school'].value_counts(normalize=True)"
      ],
      "execution_count": 18,
      "outputs": [
        {
          "output_type": "execute_result",
          "data": {
            "text/plain": [
              "analytic           0.161892\n",
              "aristotle          0.149645\n",
              "plato              0.132886\n",
              "german_idealism    0.132070\n",
              "continental        0.097853\n",
              "phenomenology      0.084328\n",
              "rationalism        0.072676\n",
              "empiricism         0.057763\n",
              "communism          0.057465\n",
              "capitalism         0.052497\n",
              "stoicism           0.000926\n",
              "Name: school, dtype: float64"
            ]
          },
          "metadata": {
            "tags": []
          },
          "execution_count": 18
        }
      ]
    },
    {
      "cell_type": "code",
      "metadata": {
        "colab": {
          "base_uri": "https://localhost:8080/",
          "height": 404
        },
        "id": "SujsiUfnsfvU",
        "outputId": "fc2cc8a3-c684-4f41-967f-0b9bc4c29f4b"
      },
      "source": [
        "df[df['author']=='Epictetus']"
      ],
      "execution_count": 16,
      "outputs": [
        {
          "output_type": "execute_result",
          "data": {
            "text/html": [
              "<div>\n",
              "<style scoped>\n",
              "    .dataframe tbody tr th:only-of-type {\n",
              "        vertical-align: middle;\n",
              "    }\n",
              "\n",
              "    .dataframe tbody tr th {\n",
              "        vertical-align: top;\n",
              "    }\n",
              "\n",
              "    .dataframe thead th {\n",
              "        text-align: right;\n",
              "    }\n",
              "</style>\n",
              "<table border=\"1\" class=\"dataframe\">\n",
              "  <thead>\n",
              "    <tr style=\"text-align: right;\">\n",
              "      <th></th>\n",
              "      <th>title</th>\n",
              "      <th>author</th>\n",
              "      <th>school</th>\n",
              "      <th>sentence_spacy</th>\n",
              "      <th>sentence_str</th>\n",
              "    </tr>\n",
              "  </thead>\n",
              "  <tbody>\n",
              "    <tr>\n",
              "      <th>361382</th>\n",
              "      <td>Enchiridion</td>\n",
              "      <td>Epictetus</td>\n",
              "      <td>stoicism</td>\n",
              "      <td>(There, are, things, which, are, within, our, ...</td>\n",
              "      <td>There are things which are within our power, a...</td>\n",
              "    </tr>\n",
              "    <tr>\n",
              "      <th>361383</th>\n",
              "      <td>Enchiridion</td>\n",
              "      <td>Epictetus</td>\n",
              "      <td>stoicism</td>\n",
              "      <td>(Within, our, power, are, opinion, ,, aim, ,, ...</td>\n",
              "      <td>Within our power are opinion, aim, desire, ave...</td>\n",
              "    </tr>\n",
              "    <tr>\n",
              "      <th>361384</th>\n",
              "      <td>Enchiridion</td>\n",
              "      <td>Epictetus</td>\n",
              "      <td>stoicism</td>\n",
              "      <td>(Beyond, our, power, are, body, ,, property, ,...</td>\n",
              "      <td>Beyond our power are body, property, reputatio...</td>\n",
              "    </tr>\n",
              "    <tr>\n",
              "      <th>361385</th>\n",
              "      <td>Enchiridion</td>\n",
              "      <td>Epictetus</td>\n",
              "      <td>stoicism</td>\n",
              "      <td>(Now, the, things, within, our, power, are, by...</td>\n",
              "      <td>Now the things within our power are by nature ...</td>\n",
              "    </tr>\n",
              "    <tr>\n",
              "      <th>361386</th>\n",
              "      <td>Enchiridion</td>\n",
              "      <td>Epictetus</td>\n",
              "      <td>stoicism</td>\n",
              "      <td>(Remember, ,, then, ,, that, if, you, attribut...</td>\n",
              "      <td>Remember, then, that if you attribute freedom ...</td>\n",
              "    </tr>\n",
              "    <tr>\n",
              "      <th>...</th>\n",
              "      <td>...</td>\n",
              "      <td>...</td>\n",
              "      <td>...</td>\n",
              "      <td>...</td>\n",
              "      <td>...</td>\n",
              "    </tr>\n",
              "    <tr>\n",
              "      <th>361712</th>\n",
              "      <td>Enchiridion</td>\n",
              "      <td>Epictetus</td>\n",
              "      <td>stoicism</td>\n",
              "      <td>(I, follow, cheerfully, ;, and, ,, did, I, not...</td>\n",
              "      <td>I follow cheerfully; and, did I not, Wicked an...</td>\n",
              "    </tr>\n",
              "    <tr>\n",
              "      <th>361713</th>\n",
              "      <td>Enchiridion</td>\n",
              "      <td>Epictetus</td>\n",
              "      <td>stoicism</td>\n",
              "      <td>(Who'er, yields, properly, to, Fate, is, deeme...</td>\n",
              "      <td>Who'er yields properly to Fate is deemed Wise ...</td>\n",
              "    </tr>\n",
              "    <tr>\n",
              "      <th>361714</th>\n",
              "      <td>Enchiridion</td>\n",
              "      <td>Epictetus</td>\n",
              "      <td>stoicism</td>\n",
              "      <td>(And, this, third, :, ')</td>\n",
              "      <td>And this third: '</td>\n",
              "    </tr>\n",
              "    <tr>\n",
              "      <th>361715</th>\n",
              "      <td>Enchiridion</td>\n",
              "      <td>Epictetus</td>\n",
              "      <td>stoicism</td>\n",
              "      <td>(O, Crito, ,, if, it, thus, pleases, the, gods...</td>\n",
              "      <td>O Crito, if it thus pleases the gods, thus let...</td>\n",
              "    </tr>\n",
              "    <tr>\n",
              "      <th>361716</th>\n",
              "      <td>Enchiridion</td>\n",
              "      <td>Epictetus</td>\n",
              "      <td>stoicism</td>\n",
              "      <td>(Anytus, and, Melitus, may, kill, me, indeed, ...</td>\n",
              "      <td>Anytus and Melitus may kill me indeed; but hur...</td>\n",
              "    </tr>\n",
              "  </tbody>\n",
              "</table>\n",
              "<p>335 rows × 5 columns</p>\n",
              "</div>"
            ],
            "text/plain": [
              "              title  ...                                       sentence_str\n",
              "361382  Enchiridion  ...  There are things which are within our power, a...\n",
              "361383  Enchiridion  ...  Within our power are opinion, aim, desire, ave...\n",
              "361384  Enchiridion  ...  Beyond our power are body, property, reputatio...\n",
              "361385  Enchiridion  ...  Now the things within our power are by nature ...\n",
              "361386  Enchiridion  ...  Remember, then, that if you attribute freedom ...\n",
              "...             ...  ...                                                ...\n",
              "361712  Enchiridion  ...  I follow cheerfully; and, did I not, Wicked an...\n",
              "361713  Enchiridion  ...  Who'er yields properly to Fate is deemed Wise ...\n",
              "361714  Enchiridion  ...                                  And this third: '\n",
              "361715  Enchiridion  ...  O Crito, if it thus pleases the gods, thus let...\n",
              "361716  Enchiridion  ...  Anytus and Melitus may kill me indeed; but hur...\n",
              "\n",
              "[335 rows x 5 columns]"
            ]
          },
          "metadata": {
            "tags": []
          },
          "execution_count": 16
        }
      ]
    },
    {
      "cell_type": "code",
      "metadata": {
        "colab": {
          "base_uri": "https://localhost:8080/",
          "height": 213
        },
        "id": "LLkVXKfIwcup",
        "outputId": "508f3935-b3df-464a-9daf-6a943007c2e4"
      },
      "source": [
        "df['sentence_length'] = df['sentence_str'].map(lambda x: len(x))\r\n",
        "num_of_short_entries = len(df[df['sentence_length'] < 20])\r\n",
        "print(f\"there are {num_of_short_entries} so-called sentences with fewer than 20 characters\")\r\n",
        "df[df['sentence_length'] < 20].sample(5)"
      ],
      "execution_count": 19,
      "outputs": [
        {
          "output_type": "stream",
          "text": [
            "there are 29984 so-called sentences with fewer than 20 characters\n"
          ],
          "name": "stdout"
        },
        {
          "output_type": "execute_result",
          "data": {
            "text/html": [
              "<div>\n",
              "<style scoped>\n",
              "    .dataframe tbody tr th:only-of-type {\n",
              "        vertical-align: middle;\n",
              "    }\n",
              "\n",
              "    .dataframe tbody tr th {\n",
              "        vertical-align: top;\n",
              "    }\n",
              "\n",
              "    .dataframe thead th {\n",
              "        text-align: right;\n",
              "    }\n",
              "</style>\n",
              "<table border=\"1\" class=\"dataframe\">\n",
              "  <thead>\n",
              "    <tr style=\"text-align: right;\">\n",
              "      <th></th>\n",
              "      <th>title</th>\n",
              "      <th>author</th>\n",
              "      <th>school</th>\n",
              "      <th>sentence_spacy</th>\n",
              "      <th>sentence_str</th>\n",
              "      <th>sentence_length</th>\n",
              "    </tr>\n",
              "  </thead>\n",
              "  <tbody>\n",
              "    <tr>\n",
              "      <th>20772</th>\n",
              "      <td>Plato - Complete Works</td>\n",
              "      <td>Plato</td>\n",
              "      <td>plato</td>\n",
              "      <td>(He, agreed, with, him, .)</td>\n",
              "      <td>He agreed with him.</td>\n",
              "      <td>19</td>\n",
              "    </tr>\n",
              "    <tr>\n",
              "      <th>276017</th>\n",
              "      <td>Critique Of Practical Reason</td>\n",
              "      <td>Kant</td>\n",
              "      <td>german_idealism</td>\n",
              "      <td>(Cf, .)</td>\n",
              "      <td>Cf.</td>\n",
              "      <td>3</td>\n",
              "    </tr>\n",
              "    <tr>\n",
              "      <th>19662</th>\n",
              "      <td>Plato - Complete Works</td>\n",
              "      <td>Plato</td>\n",
              "      <td>plato</td>\n",
              "      <td>(How, so, ?)</td>\n",
              "      <td>How so?</td>\n",
              "      <td>7</td>\n",
              "    </tr>\n",
              "    <tr>\n",
              "      <th>108021</th>\n",
              "      <td>Essay Concerning Human Understanding</td>\n",
              "      <td>Locke</td>\n",
              "      <td>empiricism</td>\n",
              "      <td>(name, stands, for, .)</td>\n",
              "      <td>name stands for.</td>\n",
              "      <td>16</td>\n",
              "    </tr>\n",
              "    <tr>\n",
              "      <th>38368</th>\n",
              "      <td>Plato - Complete Works</td>\n",
              "      <td>Plato</td>\n",
              "      <td>plato</td>\n",
              "      <td>(I, agree, ., ')</td>\n",
              "      <td>I agree. '</td>\n",
              "      <td>10</td>\n",
              "    </tr>\n",
              "  </tbody>\n",
              "</table>\n",
              "</div>"
            ],
            "text/plain": [
              "                                       title  ... sentence_length\n",
              "20772                 Plato - Complete Works  ...              19\n",
              "276017          Critique Of Practical Reason  ...               3\n",
              "19662                 Plato - Complete Works  ...               7\n",
              "108021  Essay Concerning Human Understanding  ...              16\n",
              "38368                 Plato - Complete Works  ...              10\n",
              "\n",
              "[5 rows x 6 columns]"
            ]
          },
          "metadata": {
            "tags": []
          },
          "execution_count": 19
        }
      ]
    },
    {
      "cell_type": "code",
      "metadata": {
        "colab": {
          "base_uri": "https://localhost:8080/"
        },
        "id": "2FOolcqOwcgz",
        "outputId": "dceb8d83-59b4-4b44-cf85-e2c10a728aa2"
      },
      "source": [
        "df = df.drop(df[df['sentence_length'] < 20].index)\r\n",
        "len(df)"
      ],
      "execution_count": 20,
      "outputs": [
        {
          "output_type": "execute_result",
          "data": {
            "text/plain": [
              "331733"
            ]
          },
          "metadata": {
            "tags": []
          },
          "execution_count": 20
        }
      ]
    },
    {
      "cell_type": "code",
      "metadata": {
        "colab": {
          "base_uri": "https://localhost:8080/"
        },
        "id": "SRM_W5p3wbkE",
        "outputId": "036dba12-9d9c-4370-8e41-3e7ee6c6cf77"
      },
      "source": [
        "fn_words = ['ch\\.', 'bk', 'sect\\.', 'div\\.', 'cf', 'ibid', 'prop\\.', 'Q\\.E\\.D\\.',\r\n",
        "            'pt\\.', 'coroll\\.', 'cf\\.']\r\n",
        "\r\n",
        "df['sentence_lowered'] = df['sentence_str'].map(lambda x: x.lower())\r\n",
        "\r\n",
        "fn_df = pd.DataFrame()\r\n",
        "for word in fn_words:\r\n",
        "  found_word = df[df['sentence_lowered'].str.contains('\\s' + word.lower())].copy()\r\n",
        "  found_word['word'] = word\r\n",
        "  fn_df = fn_df.append(found_word)\r\n",
        "\r\n",
        "len(fn_df)"
      ],
      "execution_count": 21,
      "outputs": [
        {
          "output_type": "execute_result",
          "data": {
            "text/plain": [
              "705"
            ]
          },
          "metadata": {
            "tags": []
          },
          "execution_count": 21
        }
      ]
    },
    {
      "cell_type": "code",
      "metadata": {
        "colab": {
          "base_uri": "https://localhost:8080/",
          "height": 631
        },
        "id": "PyjxVFLmwirp",
        "outputId": "8f0d4e74-e677-4d04-e805-b9af8f387b77"
      },
      "source": [
        "fn_df.sample(5)"
      ],
      "execution_count": 22,
      "outputs": [
        {
          "output_type": "execute_result",
          "data": {
            "text/html": [
              "<div>\n",
              "<style scoped>\n",
              "    .dataframe tbody tr th:only-of-type {\n",
              "        vertical-align: middle;\n",
              "    }\n",
              "\n",
              "    .dataframe tbody tr th {\n",
              "        vertical-align: top;\n",
              "    }\n",
              "\n",
              "    .dataframe thead th {\n",
              "        text-align: right;\n",
              "    }\n",
              "</style>\n",
              "<table border=\"1\" class=\"dataframe\">\n",
              "  <thead>\n",
              "    <tr style=\"text-align: right;\">\n",
              "      <th></th>\n",
              "      <th>title</th>\n",
              "      <th>author</th>\n",
              "      <th>school</th>\n",
              "      <th>sentence_spacy</th>\n",
              "      <th>sentence_str</th>\n",
              "      <th>sentence_length</th>\n",
              "      <th>sentence_lowered</th>\n",
              "      <th>word</th>\n",
              "    </tr>\n",
              "  </thead>\n",
              "  <tbody>\n",
              "    <tr>\n",
              "      <th>306391</th>\n",
              "      <td>Science Of Logic</td>\n",
              "      <td>Hegel</td>\n",
              "      <td>german_idealism</td>\n",
              "      <td>(But, since, this, activity, is, negative, self, reference, ,, it, determines, itself, immediately, and, gives, itself, the, moment, of, particularity, ,, and, this, particularity, ,, as, likewise...</td>\n",
              "      <td>But since this activity is negative self reference, it determines itself immediately and gives itself the moment of particularity, and this particularity, as likewise Cf.</td>\n",
              "      <td>170</td>\n",
              "      <td>but since this activity is negative self reference, it determines itself immediately and gives itself the moment of particularity, and this particularity, as likewise cf.</td>\n",
              "      <td>cf\\.</td>\n",
              "    </tr>\n",
              "    <tr>\n",
              "      <th>123515</th>\n",
              "      <td>Ethics</td>\n",
              "      <td>Spinoza</td>\n",
              "      <td>rationalism</td>\n",
              "      <td>(This, proposition, follows, more, clearly, from, Prop, .)</td>\n",
              "      <td>This proposition follows more clearly from Prop.</td>\n",
              "      <td>48</td>\n",
              "      <td>this proposition follows more clearly from prop.</td>\n",
              "      <td>prop\\.</td>\n",
              "    </tr>\n",
              "    <tr>\n",
              "      <th>123172</th>\n",
              "      <td>Ethics</td>\n",
              "      <td>Spinoza</td>\n",
              "      <td>rationalism</td>\n",
              "      <td>(No, doubt, it, will, be, difficult, for, those, who, think, about, things, loosely, ,, and, have, not, been, accustomed, to, know, them, by, their, primary, causes, ,, to, comprehend, the, demons...</td>\n",
              "      <td>No doubt it will be difficult for those who think about things loosely, and have not been accustomed to know them by their primary causes, to comprehend the demonstration of Prop. vii.</td>\n",
              "      <td>184</td>\n",
              "      <td>no doubt it will be difficult for those who think about things loosely, and have not been accustomed to know them by their primary causes, to comprehend the demonstration of prop. vii.</td>\n",
              "      <td>prop\\.</td>\n",
              "    </tr>\n",
              "    <tr>\n",
              "      <th>254930</th>\n",
              "      <td>The Crisis Of The European Sciences And Phenomenology</td>\n",
              "      <td>Husserl</td>\n",
              "      <td>phenomenology</td>\n",
              "      <td>(The, old, temptations, return, ;, and, what, must, be, said, here, above, all, ,, apart, from, the, objections, of, principle, that, we, have, already, begun, to, make, in, respect, to, localizat...</td>\n",
              "      <td>The old temptations return; and what must be said here above all, apart from the objections of principle that we have already begun to make in respect to localization and causality cf.</td>\n",
              "      <td>184</td>\n",
              "      <td>the old temptations return; and what must be said here above all, apart from the objections of principle that we have already begun to make in respect to localization and causality cf.</td>\n",
              "      <td>cf\\.</td>\n",
              "    </tr>\n",
              "    <tr>\n",
              "      <th>296844</th>\n",
              "      <td>Science Of Logic</td>\n",
              "      <td>Hegel</td>\n",
              "      <td>german_idealism</td>\n",
              "      <td>(It, includes, the, alterability, of, being, without, altering, the, fact, itself, ,, namely, being, ,, of, which, it, is, the, determination, ;, qualitative, determinateness, is, on, the, contrar...</td>\n",
              "      <td>It includes the alterability of being without altering the fact itself, namely being, of which it is the determination; qualitative determinateness is on the contrary one with its being, it neithe...</td>\n",
              "      <td>256</td>\n",
              "      <td>it includes the alterability of being without altering the fact itself, namely being, of which it is the determination; qualitative determinateness is on the contrary one with its being, it neithe...</td>\n",
              "      <td>cf</td>\n",
              "    </tr>\n",
              "  </tbody>\n",
              "</table>\n",
              "</div>"
            ],
            "text/plain": [
              "                                                        title  ...    word\n",
              "306391                                       Science Of Logic  ...    cf\\.\n",
              "123515                                                 Ethics  ...  prop\\.\n",
              "123172                                                 Ethics  ...  prop\\.\n",
              "254930  The Crisis Of The European Sciences And Phenomenology  ...    cf\\.\n",
              "296844                                       Science Of Logic  ...      cf\n",
              "\n",
              "[5 rows x 8 columns]"
            ]
          },
          "metadata": {
            "tags": []
          },
          "execution_count": 22
        }
      ]
    },
    {
      "cell_type": "code",
      "metadata": {
        "colab": {
          "base_uri": "https://localhost:8080/"
        },
        "id": "y2NY8j7Ewj1Q",
        "outputId": "fd749d06-1d8e-468e-ea6f-c7f49b982bf5"
      },
      "source": [
        "df = df.drop(df[df['sentence_lowered'].str.contains('\\s+bk'.lower())].index)\r\n",
        "\r\n",
        "len(df)"
      ],
      "execution_count": 23,
      "outputs": [
        {
          "output_type": "execute_result",
          "data": {
            "text/plain": [
              "331711"
            ]
          },
          "metadata": {
            "tags": []
          },
          "execution_count": 23
        }
      ]
    },
    {
      "cell_type": "code",
      "metadata": {
        "colab": {
          "base_uri": "https://localhost:8080/"
        },
        "id": "S7fhKsiFwj8K",
        "outputId": "3f8b480f-f853-4028-c154-aa26a5fbe3cb"
      },
      "source": [
        "self_mention_df = pd.DataFrame()\r\n",
        "for author in df['author'].unique():\r\n",
        "  self_mention_slice = df[(df['author'] == author) & \r\n",
        "                          (df['sentence_lowered'].str.contains('\\s'+author.lower()))].copy()\r\n",
        "  self_mention_df = self_mention_df.append(self_mention_slice)\r\n",
        "\r\n",
        "len(self_mention_df)"
      ],
      "execution_count": 24,
      "outputs": [
        {
          "output_type": "execute_result",
          "data": {
            "text/plain": [
              "853"
            ]
          },
          "metadata": {
            "tags": []
          },
          "execution_count": 24
        }
      ]
    },
    {
      "cell_type": "code",
      "metadata": {
        "colab": {
          "base_uri": "https://localhost:8080/",
          "height": 414
        },
        "id": "0GFzGEz_wkFt",
        "outputId": "d6301692-8bdd-4e65-9d8b-2688c6e2246f"
      },
      "source": [
        "self_mention_df.sample(5)"
      ],
      "execution_count": 25,
      "outputs": [
        {
          "output_type": "execute_result",
          "data": {
            "text/html": [
              "<div>\n",
              "<style scoped>\n",
              "    .dataframe tbody tr th:only-of-type {\n",
              "        vertical-align: middle;\n",
              "    }\n",
              "\n",
              "    .dataframe tbody tr th {\n",
              "        vertical-align: top;\n",
              "    }\n",
              "\n",
              "    .dataframe thead th {\n",
              "        text-align: right;\n",
              "    }\n",
              "</style>\n",
              "<table border=\"1\" class=\"dataframe\">\n",
              "  <thead>\n",
              "    <tr style=\"text-align: right;\">\n",
              "      <th></th>\n",
              "      <th>title</th>\n",
              "      <th>author</th>\n",
              "      <th>school</th>\n",
              "      <th>sentence_spacy</th>\n",
              "      <th>sentence_str</th>\n",
              "      <th>sentence_length</th>\n",
              "      <th>sentence_lowered</th>\n",
              "    </tr>\n",
              "  </thead>\n",
              "  <tbody>\n",
              "    <tr>\n",
              "      <th>206503</th>\n",
              "      <td>Philosophical Troubles</td>\n",
              "      <td>Kripke</td>\n",
              "      <td>analytic</td>\n",
              "      <td>((, However, ,, most, of, these, authors, attempt, to, reduce, the, de, re, sense, to, The, present, paper, was, delivered, at, the, opening, conference, of, the, Saul, Kripke, Center, ,, held, at...</td>\n",
              "      <td>(However, most of these authors attempt to reduce the de re sense to The present paper was delivered at the opening conference of the Saul Kripke Center, held at the City University of New York, G...</td>\n",
              "      <td>218</td>\n",
              "      <td>(however, most of these authors attempt to reduce the de re sense to the present paper was delivered at the opening conference of the saul kripke center, held at the city university of new york, g...</td>\n",
              "    </tr>\n",
              "    <tr>\n",
              "      <th>18195</th>\n",
              "      <td>Plato - Complete Works</td>\n",
              "      <td>Plato</td>\n",
              "      <td>plato</td>\n",
              "      <td>(In, Plato, this, premonition, always, held, him, back, from, something, he, was, about, to, do, .)</td>\n",
              "      <td>In Plato this premonition always held him back from something he was about to do.</td>\n",
              "      <td>81</td>\n",
              "      <td>in plato this premonition always held him back from something he was about to do.</td>\n",
              "    </tr>\n",
              "    <tr>\n",
              "      <th>284535</th>\n",
              "      <td>Critique Of Pure Reason</td>\n",
              "      <td>Kant</td>\n",
              "      <td>german_idealism</td>\n",
              "      <td>(a, Inserted, in, Kant, 's, copy, of, the, first, edition, :, in, the, proposition, (, E, pp, .)</td>\n",
              "      <td>a Inserted in Kant's copy of the first edition: in the proposition (E pp.</td>\n",
              "      <td>73</td>\n",
              "      <td>a inserted in kant's copy of the first edition: in the proposition (e pp.</td>\n",
              "    </tr>\n",
              "    <tr>\n",
              "      <th>168904</th>\n",
              "      <td>Lewis - Papers</td>\n",
              "      <td>Lewis</td>\n",
              "      <td>analytic</td>\n",
              "      <td>(David, Lewis, ,, Convention, :)</td>\n",
              "      <td>David Lewis, Convention:</td>\n",
              "      <td>24</td>\n",
              "      <td>david lewis, convention:</td>\n",
              "    </tr>\n",
              "    <tr>\n",
              "      <th>17233</th>\n",
              "      <td>Plato - Complete Works</td>\n",
              "      <td>Plato</td>\n",
              "      <td>plato</td>\n",
              "      <td>(Omitting, (, which, seem, to, have, been, added, by, a, later, neo, Platonist, scholar, ), .)</td>\n",
              "      <td>Omitting (which seem to have been added by a later neo Platonist scholar).</td>\n",
              "      <td>74</td>\n",
              "      <td>omitting (which seem to have been added by a later neo platonist scholar).</td>\n",
              "    </tr>\n",
              "  </tbody>\n",
              "</table>\n",
              "</div>"
            ],
            "text/plain": [
              "                          title  ...                                                                                                                                                                                         sentence_lowered\n",
              "206503   Philosophical Troubles  ...  (however, most of these authors attempt to reduce the de re sense to the present paper was delivered at the opening conference of the saul kripke center, held at the city university of new york, g...\n",
              "18195    Plato - Complete Works  ...                                                                                                                        in plato this premonition always held him back from something he was about to do.\n",
              "284535  Critique Of Pure Reason  ...                                                                                                                                a inserted in kant's copy of the first edition: in the proposition (e pp.\n",
              "168904           Lewis - Papers  ...                                                                                                                                                                                 david lewis, convention:\n",
              "17233    Plato - Complete Works  ...                                                                                                                               omitting (which seem to have been added by a later neo platonist scholar).\n",
              "\n",
              "[5 rows x 7 columns]"
            ]
          },
          "metadata": {
            "tags": []
          },
          "execution_count": 25
        }
      ]
    },
    {
      "cell_type": "code",
      "metadata": {
        "colab": {
          "base_uri": "https://localhost:8080/"
        },
        "id": "9vxUnQkTwkNo",
        "outputId": "920c54c1-a27c-48c6-ce68-be79b95591a8"
      },
      "source": [
        "for author in df['author'].unique():\r\n",
        "  df = df.drop(df[(df['author'] == author) & \r\n",
        "                  (df['sentence_lowered'].str.contains('\\s'+author.lower()))].index)\r\n",
        "\r\n",
        "len(df)"
      ],
      "execution_count": 26,
      "outputs": [
        {
          "output_type": "execute_result",
          "data": {
            "text/plain": [
              "330858"
            ]
          },
          "metadata": {
            "tags": []
          },
          "execution_count": 26
        }
      ]
    },
    {
      "cell_type": "code",
      "metadata": {
        "colab": {
          "base_uri": "https://localhost:8080/"
        },
        "id": "QzOcjqfYwkU4",
        "outputId": "44b20f23-bf8e-4161-ad26-83235063ecc3"
      },
      "source": [
        "# find the total number of duplicates\r\n",
        "len(df['sentence_str'])-len(df['sentence_str'].drop_duplicates())"
      ],
      "execution_count": 27,
      "outputs": [
        {
          "output_type": "execute_result",
          "data": {
            "text/plain": [
              "4691"
            ]
          },
          "metadata": {
            "tags": []
          },
          "execution_count": 27
        }
      ]
    },
    {
      "cell_type": "code",
      "metadata": {
        "colab": {
          "base_uri": "https://localhost:8080/"
        },
        "id": "AtY8ZrQawvZC",
        "outputId": "0c7ba559-2dfb-4b0f-d787-2e35d5fb39fe"
      },
      "source": [
        "# get the number of duplicates in each school\r\n",
        "for school in df['school'].unique():\r\n",
        "  print(school)\r\n",
        "  print(len(df.loc[df['school'] == school]['sentence_str']) - \r\n",
        "        len(df.loc[df['school'] == school]['sentence_str'].drop_duplicates()))"
      ],
      "execution_count": 28,
      "outputs": [
        {
          "output_type": "stream",
          "text": [
            "plato\n",
            "291\n",
            "aristotle\n",
            "3351\n",
            "empiricism\n",
            "14\n",
            "rationalism\n",
            "39\n",
            "analytic\n",
            "289\n",
            "continental\n",
            "97\n",
            "phenomenology\n",
            "87\n",
            "german_idealism\n",
            "287\n",
            "communism\n",
            "84\n",
            "capitalism\n",
            "92\n",
            "stoicism\n",
            "0\n"
          ],
          "name": "stdout"
        }
      ]
    },
    {
      "cell_type": "code",
      "metadata": {
        "colab": {
          "base_uri": "https://localhost:8080/",
          "height": 765
        },
        "id": "juwoWPstwvgf",
        "outputId": "57f93d56-39d3-413b-d001-32222cb480c5"
      },
      "source": [
        "doubles_df = pd.concat(g for _, g in df.groupby(\"sentence_str\") if len(g) > 1)\r\n",
        "doubles_df.sample(5)"
      ],
      "execution_count": 29,
      "outputs": [
        {
          "output_type": "execute_result",
          "data": {
            "text/html": [
              "<div>\n",
              "<style scoped>\n",
              "    .dataframe tbody tr th:only-of-type {\n",
              "        vertical-align: middle;\n",
              "    }\n",
              "\n",
              "    .dataframe tbody tr th {\n",
              "        vertical-align: top;\n",
              "    }\n",
              "\n",
              "    .dataframe thead th {\n",
              "        text-align: right;\n",
              "    }\n",
              "</style>\n",
              "<table border=\"1\" class=\"dataframe\">\n",
              "  <thead>\n",
              "    <tr style=\"text-align: right;\">\n",
              "      <th></th>\n",
              "      <th>title</th>\n",
              "      <th>author</th>\n",
              "      <th>school</th>\n",
              "      <th>sentence_spacy</th>\n",
              "      <th>sentence_str</th>\n",
              "      <th>sentence_length</th>\n",
              "      <th>sentence_lowered</th>\n",
              "    </tr>\n",
              "  </thead>\n",
              "  <tbody>\n",
              "    <tr>\n",
              "      <th>50558</th>\n",
              "      <td>Aristotle - Complete Works</td>\n",
              "      <td>Aristotle</td>\n",
              "      <td>aristotle</td>\n",
              "      <td>(It, is, necessary, then, that, should, belong, to, every, .)</td>\n",
              "      <td>It is necessary then that should belong to every.</td>\n",
              "      <td>49</td>\n",
              "      <td>it is necessary then that should belong to every.</td>\n",
              "    </tr>\n",
              "    <tr>\n",
              "      <th>84751</th>\n",
              "      <td>Aristotle - Complete Works</td>\n",
              "      <td>Aristotle</td>\n",
              "      <td>aristotle</td>\n",
              "      <td>(In, addition, ,, the, new, Translation, contains, the, tenth, book, of, the, History, of, Animals, ,, and, the, third, book, of, the, Economics, ,, which, were, not, done, for, the, original, Tra...</td>\n",
              "      <td>In addition, the new Translation contains the tenth book of the History of Animals, and the third book of the Economics, which were not done for the original Translation; and the present selection...</td>\n",
              "      <td>298</td>\n",
              "      <td>in addition, the new translation contains the tenth book of the history of animals, and the third book of the economics, which were not done for the original translation; and the present selection...</td>\n",
              "    </tr>\n",
              "    <tr>\n",
              "      <th>282641</th>\n",
              "      <td>Critique Of Pure Reason</td>\n",
              "      <td>Kant</td>\n",
              "      <td>german_idealism</td>\n",
              "      <td>(Time, is, no, discursive, or, ,, as, one, calls, it, ,, general, concept, ,, but, a, pure, form, of, sensible, intuition, .)</td>\n",
              "      <td>Time is no discursive or, as one calls it, general concept, but a pure form of sensible intuition.</td>\n",
              "      <td>98</td>\n",
              "      <td>time is no discursive or, as one calls it, general concept, but a pure form of sensible intuition.</td>\n",
              "    </tr>\n",
              "    <tr>\n",
              "      <th>67024</th>\n",
              "      <td>Aristotle - Complete Works</td>\n",
              "      <td>Aristotle</td>\n",
              "      <td>aristotle</td>\n",
              "      <td>(It, might, be, added, that, the, revision, is, thus, closer, to, Jowett, 's, own, intentions, than, was, the, original, Translation, .)</td>\n",
              "      <td>It might be added that the revision is thus closer to Jowett's own intentions than was the original Translation.</td>\n",
              "      <td>112</td>\n",
              "      <td>it might be added that the revision is thus closer to jowett's own intentions than was the original translation.</td>\n",
              "    </tr>\n",
              "    <tr>\n",
              "      <th>63785</th>\n",
              "      <td>Aristotle - Complete Works</td>\n",
              "      <td>Aristotle</td>\n",
              "      <td>aristotle</td>\n",
              "      <td>(The, English, of, the, original, Translation, now, seems, in, some, respects, archaic, in, its, vocabulary, and, in, its, syntax, :, no, attempt, has, been, made, to, impose, a, consistently, mod...</td>\n",
              "      <td>The English of the original Translation now seems in some respects archaic in its vocabulary and in its syntax: no attempt has been made to impose a consistently modern style upon the translations...</td>\n",
              "      <td>300</td>\n",
              "      <td>the english of the original translation now seems in some respects archaic in its vocabulary and in its syntax: no attempt has been made to impose a consistently modern style upon the translations...</td>\n",
              "    </tr>\n",
              "  </tbody>\n",
              "</table>\n",
              "</div>"
            ],
            "text/plain": [
              "                             title  ...                                                                                                                                                                                         sentence_lowered\n",
              "50558   Aristotle - Complete Works  ...                                                                                                                                                        it is necessary then that should belong to every.\n",
              "84751   Aristotle - Complete Works  ...  in addition, the new translation contains the tenth book of the history of animals, and the third book of the economics, which were not done for the original translation; and the present selection...\n",
              "282641     Critique Of Pure Reason  ...                                                                                                       time is no discursive or, as one calls it, general concept, but a pure form of sensible intuition.\n",
              "67024   Aristotle - Complete Works  ...                                                                                         it might be added that the revision is thus closer to jowett's own intentions than was the original translation.\n",
              "63785   Aristotle - Complete Works  ...  the english of the original translation now seems in some respects archaic in its vocabulary and in its syntax: no attempt has been made to impose a consistently modern style upon the translations...\n",
              "\n",
              "[5 rows x 7 columns]"
            ]
          },
          "metadata": {
            "tags": []
          },
          "execution_count": 29
        }
      ]
    },
    {
      "cell_type": "code",
      "metadata": {
        "colab": {
          "base_uri": "https://localhost:8080/"
        },
        "id": "71OS1WlbwvqV",
        "outputId": "540a5c3e-d112-4972-9c96-ae4f80abb74a"
      },
      "source": [
        "len(doubles_df[doubles_df['author'] != 'Aristotle'])"
      ],
      "execution_count": 30,
      "outputs": [
        {
          "output_type": "execute_result",
          "data": {
            "text/plain": [
              "2164"
            ]
          },
          "metadata": {
            "tags": []
          },
          "execution_count": 30
        }
      ]
    },
    {
      "cell_type": "code",
      "metadata": {
        "colab": {
          "base_uri": "https://localhost:8080/",
          "height": 598
        },
        "id": "kotnwwvFwvy1",
        "outputId": "6ed31828-648c-4b73-e623-1a07460dc143"
      },
      "source": [
        "doubles_df[doubles_df['author'] != 'Aristole'].sample(5)"
      ],
      "execution_count": 31,
      "outputs": [
        {
          "output_type": "execute_result",
          "data": {
            "text/html": [
              "<div>\n",
              "<style scoped>\n",
              "    .dataframe tbody tr th:only-of-type {\n",
              "        vertical-align: middle;\n",
              "    }\n",
              "\n",
              "    .dataframe tbody tr th {\n",
              "        vertical-align: top;\n",
              "    }\n",
              "\n",
              "    .dataframe thead th {\n",
              "        text-align: right;\n",
              "    }\n",
              "</style>\n",
              "<table border=\"1\" class=\"dataframe\">\n",
              "  <thead>\n",
              "    <tr style=\"text-align: right;\">\n",
              "      <th></th>\n",
              "      <th>title</th>\n",
              "      <th>author</th>\n",
              "      <th>school</th>\n",
              "      <th>sentence_spacy</th>\n",
              "      <th>sentence_str</th>\n",
              "      <th>sentence_length</th>\n",
              "      <th>sentence_lowered</th>\n",
              "    </tr>\n",
              "  </thead>\n",
              "  <tbody>\n",
              "    <tr>\n",
              "      <th>207018</th>\n",
              "      <td>Philosophical Troubles</td>\n",
              "      <td>Kripke</td>\n",
              "      <td>analytic</td>\n",
              "      <td>(It, follows, trivially, that, Smith, 's, murderer, is, a, minimal, suspect, (, because, he, satisfies, the, description, ', Smith, 's, murderer, ', ))</td>\n",
              "      <td>It follows trivially that Smith's murderer is a minimal suspect (because he satisfies the description 'Smith's murderer')</td>\n",
              "      <td>121</td>\n",
              "      <td>it follows trivially that smith's murderer is a minimal suspect (because he satisfies the description 'smith's murderer')</td>\n",
              "    </tr>\n",
              "    <tr>\n",
              "      <th>94166</th>\n",
              "      <td>Aristotle - Complete Works</td>\n",
              "      <td>Aristotle</td>\n",
              "      <td>aristotle</td>\n",
              "      <td>(Jonathan, Barnes, ,, Princeton, University, Press, ,, Princeton,, .)</td>\n",
              "      <td>Jonathan Barnes, Princeton University Press, Princeton,.</td>\n",
              "      <td>56</td>\n",
              "      <td>jonathan barnes, princeton university press, princeton,.</td>\n",
              "    </tr>\n",
              "    <tr>\n",
              "      <th>357861</th>\n",
              "      <td>A General Theory Of Employment, Interest, And Money</td>\n",
              "      <td>Keynes</td>\n",
              "      <td>capitalism</td>\n",
              "      <td>(Practical, men, ,, who, believe, themselves, to, be, quite, exempt, from, any, intellectual, influences, ,, are, usually, the, slaves, of, some, defunct, economist, .)</td>\n",
              "      <td>Practical men, who believe themselves to be quite exempt from any intellectual influences, are usually the slaves of some defunct economist.</td>\n",
              "      <td>140</td>\n",
              "      <td>practical men, who believe themselves to be quite exempt from any intellectual influences, are usually the slaves of some defunct economist.</td>\n",
              "    </tr>\n",
              "    <tr>\n",
              "      <th>54599</th>\n",
              "      <td>Aristotle - Complete Works</td>\n",
              "      <td>Aristotle</td>\n",
              "      <td>aristotle</td>\n",
              "      <td>(., ., ., Note, to, the, Reader, ., ., ., ., ., ., ., ., ., ., ., ., ., ., ., ., ., ., ., ., ., ., ., ., ., ., ., ., ., ., ., ., ., ., ., ., ., ., ., ., ., ., ., ., ., .)</td>\n",
              "      <td>. . . Note to the Reader. . . . . . . . . . . . . . . . . . . . . . . . . . . . . . . . . . . . . . . . . . . . . .</td>\n",
              "      <td>115</td>\n",
              "      <td>. . . note to the reader. . . . . . . . . . . . . . . . . . . . . . . . . . . . . . . . . . . . . . . . . . . . . .</td>\n",
              "    </tr>\n",
              "    <tr>\n",
              "      <th>244025</th>\n",
              "      <td>The Phenomenology Of Perception</td>\n",
              "      <td>Merleau-Ponty</td>\n",
              "      <td>phenomenology</td>\n",
              "      <td>(Cassirer, ,, Philosophie, der, symbolischen, Formen, ,, .)</td>\n",
              "      <td>Cassirer, Philosophie der symbolischen Formen,.</td>\n",
              "      <td>47</td>\n",
              "      <td>cassirer, philosophie der symbolischen formen,.</td>\n",
              "    </tr>\n",
              "  </tbody>\n",
              "</table>\n",
              "</div>"
            ],
            "text/plain": [
              "                                                      title  ...                                                                                                                              sentence_lowered\n",
              "207018                               Philosophical Troubles  ...                     it follows trivially that smith's murderer is a minimal suspect (because he satisfies the description 'smith's murderer')\n",
              "94166                            Aristotle - Complete Works  ...                                                                                      jonathan barnes, princeton university press, princeton,.\n",
              "357861  A General Theory Of Employment, Interest, And Money  ...  practical men, who believe themselves to be quite exempt from any intellectual influences, are usually the slaves of some defunct economist.\n",
              "54599                            Aristotle - Complete Works  ...                           . . . note to the reader. . . . . . . . . . . . . . . . . . . . . . . . . . . . . . . . . . . . . . . . . . . . . .\n",
              "244025                      The Phenomenology Of Perception  ...                                                                                               cassirer, philosophie der symbolischen formen,.\n",
              "\n",
              "[5 rows x 7 columns]"
            ]
          },
          "metadata": {
            "tags": []
          },
          "execution_count": 31
        }
      ]
    },
    {
      "cell_type": "code",
      "metadata": {
        "colab": {
          "base_uri": "https://localhost:8080/"
        },
        "id": "qe5D6a2qwv7f",
        "outputId": "84331a66-8728-4113-f285-ae60e6508a69"
      },
      "source": [
        "non_kant_indexes = df[(df['title'] != 'critique of pure reason') & \r\n",
        "                       (df['sentence_str'].duplicated(keep=False))].index\r\n",
        "kant_short_indexes = df[(df['title'] == 'critique of pure reason') &\r\n",
        "                        (df['sentence_str'].duplicated(keep=False)) &\r\n",
        "                        (df['sentence_length'] < 40)].index\r\n",
        "kant_long_indexes = df[(df['title'] == 'critique of pure reason') &\r\n",
        "                        (df['sentence_str'].duplicated(keep='first')) &\r\n",
        "                        (df['sentence_length'] >= 40)].index\r\n",
        "\r\n",
        "indexes_to_drop = [non_kant_indexes, kant_short_indexes, kant_long_indexes]\r\n",
        "for index in indexes_to_drop:\r\n",
        "  df = df.drop(index)\r\n",
        "\r\n",
        "len(df)"
      ],
      "execution_count": 32,
      "outputs": [
        {
          "output_type": "execute_result",
          "data": {
            "text/plain": [
              "325140"
            ]
          },
          "metadata": {
            "tags": []
          },
          "execution_count": 32
        }
      ]
    },
    {
      "cell_type": "code",
      "metadata": {
        "colab": {
          "base_uri": "https://localhost:8080/",
          "height": 832
        },
        "id": "GnNdnY0MwwFM",
        "outputId": "efa54339-c04c-4625-d85d-9d2d2043473c"
      },
      "source": [
        "(df[df['sentence_str'].str.contains('\\sder\\s')]).sample(5)"
      ],
      "execution_count": 33,
      "outputs": [
        {
          "output_type": "execute_result",
          "data": {
            "text/html": [
              "<div>\n",
              "<style scoped>\n",
              "    .dataframe tbody tr th:only-of-type {\n",
              "        vertical-align: middle;\n",
              "    }\n",
              "\n",
              "    .dataframe tbody tr th {\n",
              "        vertical-align: top;\n",
              "    }\n",
              "\n",
              "    .dataframe thead th {\n",
              "        text-align: right;\n",
              "    }\n",
              "</style>\n",
              "<table border=\"1\" class=\"dataframe\">\n",
              "  <thead>\n",
              "    <tr style=\"text-align: right;\">\n",
              "      <th></th>\n",
              "      <th>title</th>\n",
              "      <th>author</th>\n",
              "      <th>school</th>\n",
              "      <th>sentence_spacy</th>\n",
              "      <th>sentence_str</th>\n",
              "      <th>sentence_length</th>\n",
              "      <th>sentence_lowered</th>\n",
              "    </tr>\n",
              "  </thead>\n",
              "  <tbody>\n",
              "    <tr>\n",
              "      <th>189740</th>\n",
              "      <td>The Logic Of Scientific Discovery</td>\n",
              "      <td>Popper</td>\n",
              "      <td>analytic</td>\n",
              "      <td>(which, may, Mach, ,, Principien, der, rmelehre, ,, .)</td>\n",
              "      <td>which may Mach, Principien der rmelehre,.</td>\n",
              "      <td>41</td>\n",
              "      <td>which may mach, principien der rmelehre,.</td>\n",
              "    </tr>\n",
              "    <tr>\n",
              "      <th>321354</th>\n",
              "      <td>Elements Of The Philosophy Of Right</td>\n",
              "      <td>Hegel</td>\n",
              "      <td>german_idealism</td>\n",
              "      <td>(This, determination, whereby, the, interests, and, rights, of, individuals, der, Einzehlen, are, posited, as, a, transient, moment, is, at, the, same, time, their, positive, aspect, ,, ie, that, ...</td>\n",
              "      <td>This determination whereby the interests and rights of individuals der Einzehlen are posited as a transient moment is at the same time their positive aspect, ie that aspect of their individuality ...</td>\n",
              "      <td>283</td>\n",
              "      <td>this determination whereby the interests and rights of individuals der einzehlen are posited as a transient moment is at the same time their positive aspect, ie that aspect of their individuality ...</td>\n",
              "    </tr>\n",
              "    <tr>\n",
              "      <th>320141</th>\n",
              "      <td>Elements Of The Philosophy Of Right</td>\n",
              "      <td>Hegel</td>\n",
              "      <td>german_idealism</td>\n",
              "      <td>(Einzehze, is, not, a, member, of, a, legally, recognized, berechtigten, corporation, (, and, it, is, only, through, work, ), ,, its, If, the, individual, der, legal, recognition, that, a, communi...</td>\n",
              "      <td>Einzehze is not a member of a legally recognized berechtigten corporation (and it is only through work), its If the individual der legal recognition that a community becomes a corporation), honour...</td>\n",
              "      <td>329</td>\n",
              "      <td>einzehze is not a member of a legally recognized berechtigten corporation (and it is only through work), its if the individual der legal recognition that a community becomes a corporation), honour...</td>\n",
              "    </tr>\n",
              "    <tr>\n",
              "      <th>189557</th>\n",
              "      <td>The Logic Of Scientific Discovery</td>\n",
              "      <td>Popper</td>\n",
              "      <td>analytic</td>\n",
              "      <td>(The, situation, here, is, quite, similar, to, what, we, met, before, when, discussing, the, distinction, Carnap, ,, Der, logische, Aufbau, der, Welt, ,, .)</td>\n",
              "      <td>The situation here is quite similar to what we met before when discussing the distinction Carnap, Der logische Aufbau der Welt,.</td>\n",
              "      <td>128</td>\n",
              "      <td>the situation here is quite similar to what we met before when discussing the distinction carnap, der logische aufbau der welt,.</td>\n",
              "    </tr>\n",
              "    <tr>\n",
              "      <th>180498</th>\n",
              "      <td>Quintessence</td>\n",
              "      <td>Quine</td>\n",
              "      <td>analytic</td>\n",
              "      <td>(,, X, /, a, lter, Dubl, �, ,, ber, das, Verhaltnis, der, glk, zur, a, thematik, ,, naien, der, PilliosophlC, pp, .)</td>\n",
              "      <td>, X/a lter Dubl�, ber das Verhaltnis der glk zur a thematik, naien der PilliosophlC pp.</td>\n",
              "      <td>87</td>\n",
              "      <td>, x/a lter dubl�, ber das verhaltnis der glk zur a thematik, naien der pilliosophlc pp.</td>\n",
              "    </tr>\n",
              "  </tbody>\n",
              "</table>\n",
              "</div>"
            ],
            "text/plain": [
              "                                      title  ...                                                                                                                                                                                         sentence_lowered\n",
              "189740    The Logic Of Scientific Discovery  ...                                                                                                                                                                which may mach, principien der rmelehre,.\n",
              "321354  Elements Of The Philosophy Of Right  ...  this determination whereby the interests and rights of individuals der einzehlen are posited as a transient moment is at the same time their positive aspect, ie that aspect of their individuality ...\n",
              "320141  Elements Of The Philosophy Of Right  ...  einzehze is not a member of a legally recognized berechtigten corporation (and it is only through work), its if the individual der legal recognition that a community becomes a corporation), honour...\n",
              "189557    The Logic Of Scientific Discovery  ...                                                                         the situation here is quite similar to what we met before when discussing the distinction carnap, der logische aufbau der welt,.\n",
              "180498                         Quintessence  ...                                                                                                                  , x/a lter dubl�, ber das verhaltnis der glk zur a thematik, naien der pilliosophlc pp.\n",
              "\n",
              "[5 rows x 7 columns]"
            ]
          },
          "metadata": {
            "tags": []
          },
          "execution_count": 33
        }
      ]
    },
    {
      "cell_type": "code",
      "metadata": {
        "colab": {
          "base_uri": "https://localhost:8080/"
        },
        "id": "JXUfIsqkwwOY",
        "outputId": "1eef6c76-1f3e-4d6c-a2d5-fda1805023bd"
      },
      "source": [
        "len((df[df['sentence_str'].str.contains('\\sder\\s')]))"
      ],
      "execution_count": 34,
      "outputs": [
        {
          "output_type": "execute_result",
          "data": {
            "text/plain": [
              "314"
            ]
          },
          "metadata": {
            "tags": []
          },
          "execution_count": 34
        }
      ]
    },
    {
      "cell_type": "code",
      "metadata": {
        "colab": {
          "base_uri": "https://localhost:8080/"
        },
        "id": "Sds3G-P8w-KH",
        "outputId": "9d765cef-d513-4b54-f206-b2090541c645"
      },
      "source": [
        "df = df.drop(df[df['sentence_str'].str.contains('\\sder\\s')].index)\r\n",
        "\r\n",
        "len(df)"
      ],
      "execution_count": 35,
      "outputs": [
        {
          "output_type": "execute_result",
          "data": {
            "text/plain": [
              "324826"
            ]
          },
          "metadata": {
            "tags": []
          },
          "execution_count": 35
        }
      ]
    },
    {
      "cell_type": "code",
      "metadata": {
        "colab": {
          "base_uri": "https://localhost:8080/",
          "height": 631
        },
        "id": "nsz9L0qCw-UM",
        "outputId": "6d3b5dcb-1160-42cd-97a9-0180c6dc49c0"
      },
      "source": [
        "df[df['sentence_str'].str.contains('\\sil\\s')].sample(5)"
      ],
      "execution_count": 36,
      "outputs": [
        {
          "output_type": "execute_result",
          "data": {
            "text/html": [
              "<div>\n",
              "<style scoped>\n",
              "    .dataframe tbody tr th:only-of-type {\n",
              "        vertical-align: middle;\n",
              "    }\n",
              "\n",
              "    .dataframe tbody tr th {\n",
              "        vertical-align: top;\n",
              "    }\n",
              "\n",
              "    .dataframe thead th {\n",
              "        text-align: right;\n",
              "    }\n",
              "</style>\n",
              "<table border=\"1\" class=\"dataframe\">\n",
              "  <thead>\n",
              "    <tr style=\"text-align: right;\">\n",
              "      <th></th>\n",
              "      <th>title</th>\n",
              "      <th>author</th>\n",
              "      <th>school</th>\n",
              "      <th>sentence_spacy</th>\n",
              "      <th>sentence_str</th>\n",
              "      <th>sentence_length</th>\n",
              "      <th>sentence_lowered</th>\n",
              "    </tr>\n",
              "  </thead>\n",
              "  <tbody>\n",
              "    <tr>\n",
              "      <th>323670</th>\n",
              "      <td>Capital</td>\n",
              "      <td>Marx</td>\n",
              "      <td>communism</td>\n",
              "      <td>(vent, il, est, cenain, que, chaque, denr, ou, merchandise, ,, en, paniculier, ,)</td>\n",
              "      <td>vent il est cenain que chaque denr ou merchandise, en paniculier,</td>\n",
              "      <td>65</td>\n",
              "      <td>vent il est cenain que chaque denr ou merchandise, en paniculier,</td>\n",
              "    </tr>\n",
              "    <tr>\n",
              "      <th>185745</th>\n",
              "      <td>Quintessence</td>\n",
              "      <td>Quine</td>\n",
              "      <td>analytic</td>\n",
              "      <td>(The, Ca, rtesian, quest, for, certainty, had, been, the, remote, motivation, of, epistemology, ,, both, il, its, conceptual, and, its, doctrinal, side, ;, but, that, quest, was, seen, as, a, lost...</td>\n",
              "      <td>The Ca rtesian quest for certainty had been the remote motivation of epistemology, both il its conceptual and its doctrinal side; but that quest was seen as a lost cause.</td>\n",
              "      <td>170</td>\n",
              "      <td>the ca rtesian quest for certainty had been the remote motivation of epistemology, both il its conceptual and its doctrinal side; but that quest was seen as a lost cause.</td>\n",
              "    </tr>\n",
              "    <tr>\n",
              "      <th>336408</th>\n",
              "      <td>Capital</td>\n",
              "      <td>Marx</td>\n",
              "      <td>communism</td>\n",
              "      <td>(pas, vendre, sea, productions, et, comme, il, le, veut, ;)</td>\n",
              "      <td>pas vendre sea productions et comme il le veut;</td>\n",
              "      <td>47</td>\n",
              "      <td>pas vendre sea productions et comme il le veut;</td>\n",
              "    </tr>\n",
              "    <tr>\n",
              "      <th>336415</th>\n",
              "      <td>Capital</td>\n",
              "      <td>Marx</td>\n",
              "      <td>communism</td>\n",
              "      <td>(En, il, travaille, comme, un, forcat, au, labourage, et, la, colte, ;, il, se, couche, heures)</td>\n",
              "      <td>En il travaille comme un forcat au labourage et la colte; il se couche heures</td>\n",
              "      <td>77</td>\n",
              "      <td>en il travaille comme un forcat au labourage et la colte; il se couche heures</td>\n",
              "    </tr>\n",
              "    <tr>\n",
              "      <th>333803</th>\n",
              "      <td>Capital</td>\n",
              "      <td>Marx</td>\n",
              "      <td>communism</td>\n",
              "      <td>(bien, li, ,, sates, laquelle, il, est, impossible, ,, je, le, clare, ,, d'expliquer, les, plus, grandes, difficult, de, l, ', conomie, politique, ,, et, notamment, ,, comment)</td>\n",
              "      <td>bien li, sates laquelle il est impossible, je le clare, d'expliquer les plus grandes difficult de l' conomie politique, et notamment, comment</td>\n",
              "      <td>141</td>\n",
              "      <td>bien li, sates laquelle il est impossible, je le clare, d'expliquer les plus grandes difficult de l' conomie politique, et notamment, comment</td>\n",
              "    </tr>\n",
              "  </tbody>\n",
              "</table>\n",
              "</div>"
            ],
            "text/plain": [
              "               title  ...                                                                                                                                                            sentence_lowered\n",
              "323670       Capital  ...                                                                                                           vent il est cenain que chaque denr ou merchandise, en paniculier,\n",
              "185745  Quintessence  ...  the ca rtesian quest for certainty had been the remote motivation of epistemology, both il its conceptual and its doctrinal side; but that quest was seen as a lost cause.\n",
              "336408       Capital  ...                                                                                                                             pas vendre sea productions et comme il le veut;\n",
              "336415       Capital  ...                                                                                               en il travaille comme un forcat au labourage et la colte; il se couche heures\n",
              "333803       Capital  ...                               bien li, sates laquelle il est impossible, je le clare, d'expliquer les plus grandes difficult de l' conomie politique, et notamment, comment\n",
              "\n",
              "[5 rows x 7 columns]"
            ]
          },
          "metadata": {
            "tags": []
          },
          "execution_count": 36
        }
      ]
    },
    {
      "cell_type": "code",
      "metadata": {
        "colab": {
          "base_uri": "https://localhost:8080/"
        },
        "id": "-ER9muOkw-qu",
        "outputId": "6bdfef99-efd2-4e7f-edc9-763a2ad94e29"
      },
      "source": [
        "df = df.drop(df[df['sentence_str'].str.contains('\\sil\\s')].index)\r\n",
        "\r\n",
        "len(df)"
      ],
      "execution_count": 37,
      "outputs": [
        {
          "output_type": "execute_result",
          "data": {
            "text/plain": [
              "324778"
            ]
          },
          "metadata": {
            "tags": []
          },
          "execution_count": 37
        }
      ]
    },
    {
      "cell_type": "code",
      "metadata": {
        "colab": {
          "base_uri": "https://localhost:8080/"
        },
        "id": "b1sF0lzxw-zd",
        "outputId": "27c45162-2e31-45bc-87b1-66a78877baa6"
      },
      "source": [
        "# miscellaneous nonsense sentences\r\n",
        "df = df.drop(df[df['sentence_str'].str.contains('\\spp\\s')].index)\r\n",
        "df = df.drop(df[df['sentence_str'].str.contains('\\stotam\\s')].index)\r\n",
        "df = df.drop(df[df['sentence_str'].str.contains('\\srree\\s')].index)\r\n",
        "df = df.drop(df[df['sentence_str'].str.contains('\\sflir\\s')].index)\r\n",
        "df = df.drop(df[(df['sentence_str'].str.contains('\\smodis\\s')) & (df['author'] != 'Kant')].index)\r\n",
        "\r\n",
        "len(df)"
      ],
      "execution_count": 38,
      "outputs": [
        {
          "output_type": "execute_result",
          "data": {
            "text/plain": [
              "324772"
            ]
          },
          "metadata": {
            "tags": []
          },
          "execution_count": 38
        }
      ]
    },
    {
      "cell_type": "code",
      "metadata": {
        "colab": {
          "base_uri": "https://localhost:8080/"
        },
        "id": "OqBnHZG6w-9F",
        "outputId": "c7c7fd42-87a0-4b14-84fd-cd115937071d"
      },
      "source": [
        "# markers of french and notes\r\n",
        "df = df.drop(df[df['sentence_str'].str.contains('\\schapitre')].index)\r\n",
        "df = df.drop(df[df['sentence_str'].str.contains('\\salisme')].index)\r\n",
        "df = df.drop(df[df['sentence_str'].str.contains('\\sHahn')].index)\r\n",
        "\r\n",
        "len(df)"
      ],
      "execution_count": 39,
      "outputs": [
        {
          "output_type": "execute_result",
          "data": {
            "text/plain": [
              "324755"
            ]
          },
          "metadata": {
            "tags": []
          },
          "execution_count": 39
        }
      ]
    },
    {
      "cell_type": "code",
      "metadata": {
        "colab": {
          "base_uri": "https://localhost:8080/"
        },
        "id": "Oq5I3pL4w9r7",
        "outputId": "d2a02d11-04ab-45fc-f001-ba7ef54a9d20"
      },
      "source": [
        "# some notes in Kant\r\n",
        "df = df.drop(df[df['sentence_str'].str.contains('\\sVorl\\s')].index)\r\n",
        "\r\n",
        "len(df)"
      ],
      "execution_count": 40,
      "outputs": [
        {
          "output_type": "execute_result",
          "data": {
            "text/plain": [
              "324737"
            ]
          },
          "metadata": {
            "tags": []
          },
          "execution_count": 40
        }
      ]
    },
    {
      "cell_type": "code",
      "metadata": {
        "colab": {
          "base_uri": "https://localhost:8080/"
        },
        "id": "w3nv5S4exJXK",
        "outputId": "e7069503-5834-43e3-98b3-b886c1cb8cd8"
      },
      "source": [
        "# a common phrase in Plato / Aristotle footnotes\r\n",
        "df = df.drop(df[(df['author']=='Plato') & (df['sentence_str'].str.contains('(?i)reading')) & (df['sentence_length'] < 40)].index)\r\n",
        "df = df.drop(df[(df['author']=='Aristotle') & (df['sentence_str'].str.contains('(?i)reading')) & (df['sentence_length'] < 40)].index)\r\n",
        "\r\n",
        "len(df)"
      ],
      "execution_count": 41,
      "outputs": [
        {
          "output_type": "execute_result",
          "data": {
            "text/plain": [
              "324463"
            ]
          },
          "metadata": {
            "tags": []
          },
          "execution_count": 41
        }
      ]
    },
    {
      "cell_type": "code",
      "metadata": {
        "colab": {
          "base_uri": "https://localhost:8080/"
        },
        "id": "ybCPk5oixJgd",
        "outputId": "e68e37fd-9a82-4f73-b2d3-10111feedeb3"
      },
      "source": [
        "df['school'].value_counts(normalize=True)"
      ],
      "execution_count": 42,
      "outputs": [
        {
          "output_type": "execute_result",
          "data": {
            "text/plain": [
              "analytic           0.164718\n",
              "aristotle          0.150338\n",
              "german_idealism    0.129867\n",
              "plato              0.118322\n",
              "continental        0.104114\n",
              "phenomenology      0.088062\n",
              "rationalism        0.070732\n",
              "empiricism         0.061428\n",
              "capitalism         0.056074\n",
              "communism          0.055350\n",
              "stoicism           0.000995\n",
              "Name: school, dtype: float64"
            ]
          },
          "metadata": {
            "tags": []
          },
          "execution_count": 42
        }
      ]
    },
    {
      "cell_type": "code",
      "metadata": {
        "id": "S1wT-MvpxJot"
      },
      "source": [
        "from gensim.utils import simple_preprocess\r\n",
        "\r\n",
        "\r\n",
        "df['tokenized_txt'] = df['sentence_str'].map(lambda x: simple_preprocess(x.lower(),deacc=True,\r\n",
        "                                                        max_len=200))\r\n",
        "\r\n",
        "def lemmatize_sentence(sentence):\r\n",
        "  lemmatized_txt = ''\r\n",
        "  for word in sentence:\r\n",
        "    lemmatized_txt += ' ' + str(word.lemma_)\r\n",
        "  return lemmatized_txt"
      ],
      "execution_count": 44,
      "outputs": []
    },
    {
      "cell_type": "code",
      "metadata": {
        "id": "3O3mXZKkxJxM"
      },
      "source": [
        "df['lemmatized_str'] = df['sentence_spacy'].apply(lemmatize_sentence)"
      ],
      "execution_count": 46,
      "outputs": []
    },
    {
      "cell_type": "code",
      "metadata": {
        "colab": {
          "base_uri": "https://localhost:8080/",
          "height": 982
        },
        "id": "mxmcq_BQxJ48",
        "outputId": "e8732165-efce-4a75-a831-c324d4c052b7"
      },
      "source": [
        "df.sample(5)"
      ],
      "execution_count": 47,
      "outputs": [
        {
          "output_type": "execute_result",
          "data": {
            "text/html": [
              "<div>\n",
              "<style scoped>\n",
              "    .dataframe tbody tr th:only-of-type {\n",
              "        vertical-align: middle;\n",
              "    }\n",
              "\n",
              "    .dataframe tbody tr th {\n",
              "        vertical-align: top;\n",
              "    }\n",
              "\n",
              "    .dataframe thead th {\n",
              "        text-align: right;\n",
              "    }\n",
              "</style>\n",
              "<table border=\"1\" class=\"dataframe\">\n",
              "  <thead>\n",
              "    <tr style=\"text-align: right;\">\n",
              "      <th></th>\n",
              "      <th>title</th>\n",
              "      <th>author</th>\n",
              "      <th>school</th>\n",
              "      <th>sentence_spacy</th>\n",
              "      <th>sentence_str</th>\n",
              "      <th>sentence_length</th>\n",
              "      <th>sentence_lowered</th>\n",
              "      <th>tokenized_txt</th>\n",
              "      <th>lemmatized_str</th>\n",
              "    </tr>\n",
              "  </thead>\n",
              "  <tbody>\n",
              "    <tr>\n",
              "      <th>270139</th>\n",
              "      <td>Off The Beaten Track</td>\n",
              "      <td>Heidegger</td>\n",
              "      <td>phenomenology</td>\n",
              "      <td>(In, the, age, of, subjectity, ,, in, which, the, essence, of, technology, is, grounded, ,, if, nature, as, being, is, put, in, opposition, to, consciousness, ,, then, this, nature, is, only, anot...</td>\n",
              "      <td>In the age of subjectity, in which the essence of technology is grounded, if nature as being is put in opposition to consciousness, then this nature is only another name for beings as the objects ...</td>\n",
              "      <td>310</td>\n",
              "      <td>in the age of subjectity, in which the essence of technology is grounded, if nature as being is put in opposition to consciousness, then this nature is only another name for beings as the objects ...</td>\n",
              "      <td>[in, the, age, of, subjectity, in, which, the, essence, of, technology, is, grounded, if, nature, as, being, is, put, in, opposition, to, consciousness, then, this, nature, is, only, another, name...</td>\n",
              "      <td>in the age of subjectity , in which the essence of technology be ground , if nature as be be put in opposition to consciousness , then this nature be only another name for being as the object of ...</td>\n",
              "    </tr>\n",
              "    <tr>\n",
              "      <th>119602</th>\n",
              "      <td>Dialogues Concerning Natural Religion</td>\n",
              "      <td>Hume</td>\n",
              "      <td>empiricism</td>\n",
              "      <td>(Thus, at, last, they, find, (, such, is, the, greatness, of, human, misery, ,, it, reconciles, even, contradictions, ), ,, that, they, complain, at, once, of, the, shortness, of, life, ,, and, of...</td>\n",
              "      <td>Thus at last they find (such is the greatness of human misery, it reconciles even contradictions), that they complain at once of the shortness of life, and of its vanity and sorrow.</td>\n",
              "      <td>181</td>\n",
              "      <td>thus at last they find (such is the greatness of human misery, it reconciles even contradictions), that they complain at once of the shortness of life, and of its vanity and sorrow.</td>\n",
              "      <td>[thus, at, last, they, find, such, is, the, greatness, of, human, misery, it, reconciles, even, contradictions, that, they, complain, at, once, of, the, shortness, of, life, and, of, its, vanity, ...</td>\n",
              "      <td>thus at last -PRON- find ( such be the greatness of human misery , -PRON- reconcile even contradiction ) , that -PRON- complain at once of the shortness of life , and of -PRON- vanity and sorrow .</td>\n",
              "    </tr>\n",
              "    <tr>\n",
              "      <th>219943</th>\n",
              "      <td>The Order Of Things</td>\n",
              "      <td>Foucault</td>\n",
              "      <td>continental</td>\n",
              "      <td>(In, Malebranche, and, Berkeley, ,, the, sign, arranged, by, God, is, the, cunning, and, thoughtful, superimposition, of, two, kinds, of, knowledge, .)</td>\n",
              "      <td>In Malebranche and Berkeley, the sign arranged by God is the cunning and thoughtful superimposition of two kinds of knowledge.</td>\n",
              "      <td>126</td>\n",
              "      <td>in malebranche and berkeley, the sign arranged by god is the cunning and thoughtful superimposition of two kinds of knowledge.</td>\n",
              "      <td>[in, malebranche, and, berkeley, the, sign, arranged, by, god, is, the, cunning, and, thoughtful, superimposition, of, two, kinds, of, knowledge]</td>\n",
              "      <td>in Malebranche and Berkeley , the sign arrange by God be the cunning and thoughtful superimposition of two kind of knowledge .</td>\n",
              "    </tr>\n",
              "    <tr>\n",
              "      <th>279143</th>\n",
              "      <td>Critique Of Judgement</td>\n",
              "      <td>Kant</td>\n",
              "      <td>german_idealism</td>\n",
              "      <td>(Hence, there, are, only, three, kinds, of, fine, art, :, the, art, of, speech, ,, formative, art, ,, and, the, art, of, the, play, of, sensations, (, as, external, sense, impressions, ), .)</td>\n",
              "      <td>Hence there are only three kinds of fine art: the art of speech, formative art, and the art of the play of sensations (as external sense impressions).</td>\n",
              "      <td>150</td>\n",
              "      <td>hence there are only three kinds of fine art: the art of speech, formative art, and the art of the play of sensations (as external sense impressions).</td>\n",
              "      <td>[hence, there, are, only, three, kinds, of, fine, art, the, art, of, speech, formative, art, and, the, art, of, the, play, of, sensations, as, external, sense, impressions]</td>\n",
              "      <td>hence there be only three kind of fine art : the art of speech , formative art , and the art of the play of sensation ( as external sense impression ) .</td>\n",
              "    </tr>\n",
              "    <tr>\n",
              "      <th>281462</th>\n",
              "      <td>Critique Of Judgement</td>\n",
              "      <td>Kant</td>\n",
              "      <td>german_idealism</td>\n",
              "      <td>(For, otherwise, a, countless, host, of, judgements, ,, not, only, those, belonging, to, the, understanding, but, also, especially, to, reason, ,, would, also, have, to, be, described, as, aesthet...</td>\n",
              "      <td>For otherwise a countless host of judgements, not only those belonging to the understanding but also especially to reason, would also have to be described as aesthetic because an object is thereby...</td>\n",
              "      <td>368</td>\n",
              "      <td>for otherwise a countless host of judgements, not only those belonging to the understanding but also especially to reason, would also have to be described as aesthetic because an object is thereby...</td>\n",
              "      <td>[for, otherwise, countless, host, of, judgements, not, only, those, belonging, to, the, understanding, but, also, especially, to, reason, would, also, have, to, be, described, as, aesthetic, becau...</td>\n",
              "      <td>for otherwise a countless host of judgement , not only those belong to the understanding but also especially to reason , would also have to be describe as aesthetic because an object be thereby d...</td>\n",
              "    </tr>\n",
              "  </tbody>\n",
              "</table>\n",
              "</div>"
            ],
            "text/plain": [
              "                                        title  ...                                                                                                                                                                                           lemmatized_str\n",
              "270139                   Off The Beaten Track  ...   in the age of subjectity , in which the essence of technology be ground , if nature as be be put in opposition to consciousness , then this nature be only another name for being as the object of ...\n",
              "119602  Dialogues Concerning Natural Religion  ...     thus at last -PRON- find ( such be the greatness of human misery , -PRON- reconcile even contradiction ) , that -PRON- complain at once of the shortness of life , and of -PRON- vanity and sorrow .\n",
              "219943                    The Order Of Things  ...                                                                           in Malebranche and Berkeley , the sign arrange by God be the cunning and thoughtful superimposition of two kind of knowledge .\n",
              "279143                  Critique Of Judgement  ...                                                 hence there be only three kind of fine art : the art of speech , formative art , and the art of the play of sensation ( as external sense impression ) .\n",
              "281462                  Critique Of Judgement  ...   for otherwise a countless host of judgement , not only those belong to the understanding but also especially to reason , would also have to be describe as aesthetic because an object be thereby d...\n",
              "\n",
              "[5 rows x 9 columns]"
            ]
          },
          "metadata": {
            "tags": []
          },
          "execution_count": 47
        }
      ]
    },
    {
      "cell_type": "code",
      "metadata": {
        "colab": {
          "base_uri": "https://localhost:8080/"
        },
        "id": "qlX3Aq4sx3QQ",
        "outputId": "c15ac663-8547-4404-bd3c-0261eec88170"
      },
      "source": [
        "len(df[df['author']=='Epictetus'])"
      ],
      "execution_count": 45,
      "outputs": [
        {
          "output_type": "execute_result",
          "data": {
            "text/plain": [
              "323"
            ]
          },
          "metadata": {
            "tags": []
          },
          "execution_count": 45
        }
      ]
    },
    {
      "cell_type": "code",
      "metadata": {
        "id": "6v0M4jbUxKBt"
      },
      "source": [
        "from google.colab import files\r\n",
        "df.to_csv('phil_nlp.csv', index=False) \r\n",
        "files.download('phil_nlp.csv')"
      ],
      "execution_count": null,
      "outputs": []
    },
    {
      "cell_type": "code",
      "metadata": {
        "id": "5ADalgoTxV_P"
      },
      "source": [
        ""
      ],
      "execution_count": null,
      "outputs": []
    },
    {
      "cell_type": "code",
      "metadata": {
        "id": "PAbZl7a_xWMK"
      },
      "source": [
        ""
      ],
      "execution_count": null,
      "outputs": []
    },
    {
      "cell_type": "code",
      "metadata": {
        "id": "cX9Ijw3yxWXd"
      },
      "source": [
        ""
      ],
      "execution_count": null,
      "outputs": []
    },
    {
      "cell_type": "code",
      "metadata": {
        "id": "EK1X306DxWgw"
      },
      "source": [
        ""
      ],
      "execution_count": null,
      "outputs": []
    }
  ]
}