{
  "nbformat": 4,
  "nbformat_minor": 0,
  "metadata": {
    "colab": {
      "name": "data_load_clean_and_export.ipynb",
      "provenance": [],
      "collapsed_sections": [],
      "toc_visible": true,
      "machine_shape": "hm",
      "authorship_tag": "ABX9TyOd00MgtaqSxS4icQbHUvfT",
      "include_colab_link": true
    },
    "kernelspec": {
      "name": "python3",
      "display_name": "Python 3"
    },
    "accelerator": "GPU"
  },
  "cells": [
    {
      "cell_type": "markdown",
      "metadata": {
        "id": "view-in-github",
        "colab_type": "text"
      },
      "source": [
        "<a href=\"https://colab.research.google.com/github/kcalizadeh/PDP_data_processing/blob/master/data_load_clean_and_export.ipynb\" target=\"_parent\"><img src=\"https://colab.research.google.com/assets/colab-badge.svg\" alt=\"Open In Colab\"/></a>"
      ]
    },
    {
      "cell_type": "markdown",
      "metadata": {
        "id": "ce4uUmGtIwgG"
      },
      "source": [
        "### Imports and Mounting Drive"
      ]
    },
    {
      "cell_type": "code",
      "metadata": {
        "colab": {
          "base_uri": "https://localhost:8080/"
        },
        "id": "dQnwn5oZqw4P",
        "outputId": "545cc446-dfca-4f0b-aea1-804ac49168a7"
      },
      "source": [
        "# this cell mounts drive, sets the correct directory, then imports all functions\n",
        "# and relevant libraries via the functions.py file\n",
        "from google.colab import drive\n",
        "import sys\n",
        "\n",
        "drive.mount('/gdrive',force_remount=True)\n",
        "\n",
        "drive_path = '/gdrive/MyDrive/Colab_Projects/philosophy_data_project'\n",
        "\n",
        "sys.path.append(drive_path)"
      ],
      "execution_count": null,
      "outputs": [
        {
          "output_type": "stream",
          "text": [
            "Mounted at /gdrive\n"
          ],
          "name": "stdout"
        }
      ]
    },
    {
      "cell_type": "code",
      "metadata": {
        "id": "icdKF0dyrAU5"
      },
      "source": [
        "from import_functions import *"
      ],
      "execution_count": null,
      "outputs": []
    },
    {
      "cell_type": "code",
      "metadata": {
        "colab": {
          "base_uri": "https://localhost:8080/"
        },
        "id": "tym6E0D5rbwQ",
        "outputId": "897ad89f-3ef9-4d31-adf2-d4af6707f7ca"
      },
      "source": [
        "import spacy.cli\n",
        "spacy.cli.download(\"en_core_web_lg\")\n",
        "import en_core_web_lg\n",
        "nlp = en_core_web_lg.load()"
      ],
      "execution_count": null,
      "outputs": [
        {
          "output_type": "stream",
          "text": [
            "\u001b[38;5;2m✔ Download and installation successful\u001b[0m\n",
            "You can now load the model via spacy.load('en_core_web_lg')\n"
          ],
          "name": "stdout"
        }
      ]
    },
    {
      "cell_type": "code",
      "metadata": {
        "id": "YTfCjw3Rrt2I"
      },
      "source": [
        "# load the texts\n",
        "\n",
        "## plato\n",
        "plato_complete = get_text(drive_path + '/phil_txts/plato_complete_works.txt')\n",
        "\n",
        "# aristotle\n",
        "aristotle_vol_1 = get_text(drive_path + '/phil_txts/aristotle_complete_works_v1.txt')\n",
        "aristotle_vol_2 = get_text(drive_path + '/phil_txts/aristotle_complete_works_v2.txt')\n",
        "\n",
        "## rationalists\n",
        "spinoza_ethics = get_guten('http://www.gutenberg.org/cache/epub/3800/pg3800.txt')\n",
        "spinoza_improve_understanding = get_guten('http://www.gutenberg.org/cache/epub/1016/pg1016.txt')\n",
        "leibniz_theodicy = get_guten('http://www.gutenberg.org/cache/epub/17147/pg17147.txt')\n",
        "descartes_discourse_method = get_guten('http://www.gutenberg.org/cache/epub/59/pg59.txt')\n",
        "descartes_meditations = get_text(drive_path + '/phil_txts/descartes_meditations.txt')\n",
        "malebranche_search_truth = get_text(drive_path + '/phil_txts/malebranche_search_truth.txt')\n",
        "\n",
        "## empiricists\n",
        "locke_understanding_1 = get_guten('http://www.gutenberg.org/cache/epub/10615/pg10615.txt')\n",
        "locke_understanding_2 = get_guten('http://www.gutenberg.org/cache/epub/10616/pg10616.txt')\n",
        "locke_treatise_gov = get_guten('http://www.gutenberg.org/cache/epub/7370/pg7370.txt')\n",
        "hume_treatise = get_guten('http://www.gutenberg.org/cache/epub/4705/pg4705.txt')\n",
        "hume_natural_religion = get_guten('http://www.gutenberg.org/cache/epub/4583/pg4583.txt')\n",
        "berkeley_treatise = get_guten('http://www.gutenberg.org/cache/epub/4723/pg4723.txt')\n",
        "berkeley_three_dialogues = get_guten('http://www.gutenberg.org/cache/epub/4724/pg4724.txt')\n",
        "\n",
        "## german idealism\n",
        "kant_practical_reason = get_text(drive_path + '/phil_txts/kant_critique_practical_reason.txt')\n",
        "kant_judgement = get_text(drive_path + '/phil_txts/kant_critique_judgement.txt')\n",
        "kant_pure_reason = get_text(drive_path + '/phil_txts/kant_pure_reason.txt')\n",
        "fichte_ethics = get_text(drive_path + '/phil_txts/fichte_system_of_ethics.txt')\n",
        "hegel_logic = get_text(drive_path + '/phil_txts/hegel_science_of_logic.txt')\n",
        "hegel_phenomenology = get_text(drive_path + '/phil_txts/hegel_phenomenology_of_spirit.txt')\n",
        "hegel_right = get_text(drive_path + '/phil_txts/hegel_elements_of_right.txt')\n",
        "\n",
        "## analytic\n",
        "russell_problems_of_phil = get_guten('http://www.gutenberg.org/cache/epub/5827/pg5827.txt')\n",
        "russell_analylsis_of_mind = get_guten('http://www.gutenberg.org/cache/epub/2529/pg2529.txt')\n",
        "moore_studies = get_guten('http://www.gutenberg.org/files/50141/50141-0.txt')\n",
        "wittgenstein_tractatus = get_text(drive_path + '/phil_txts/wittgenstein_tractatus.txt')\n",
        "wittgenstein_investigations = get_text(drive_path + '/phil_txts/wittgenstien_philosophical_investigations.txt')\n",
        "lewis_papers1 = get_text(drive_path + '/phil_txts/lewis_papers_1.txt')\n",
        "lewis_papers2 = get_text(drive_path + '/phil_txts/lewis_papers_2.txt')\n",
        "quine_quintessence = get_text(drive_path + '/phil_txts/quine_quintessence.txt')\n",
        "popper_science = get_text(drive_path + '/phil_txts/popper_logic_of_science.txt')\n",
        "kripke_troubles = get_text(drive_path + '/phil_txts/kripke_philosophical_troubles.txt')\n",
        "kripke_naming = get_text(drive_path + '/phil_txts/kripke_naming_necessity.txt')\n",
        "\n",
        "## phenomenology\n",
        "ponty_perception = get_text(drive_path + '/phil_txts/merleau-ponty_phenomenology_of_perception.txt')\n",
        "husserl_idea_of = get_text(drive_path + '/phil_txts/husserl_idea_of_phenomenology.txt')\n",
        "husserl_crisis = get_text(drive_path + '/phil_txts/husserl_crisis_of_euro_sciences.txt')\n",
        "heidegger_being_time = get_text(drive_path + '/phil_txts/heidegger_being_and_time.txt')\n",
        "heidegger_track = get_text(drive_path + '/phil_txts/heidegger_off_the_beaten_track.txt')\n",
        "\n",
        "## continental\n",
        "foucault_order = get_text(drive_path + '/phil_txts/foucault_order_of_things.txt')\n",
        "foucault_madness = get_text(drive_path + '/phil_txts/foucault_history_of_madness.txt')\n",
        "foucault_clinic = get_text(drive_path + '/phil_txts/foucault_birth_of_clinic.txt')\n",
        "derrida_writing = get_text(drive_path + '/phil_txts/derrida_writing_difference.txt')\n",
        "deleuze_oedipus = get_text(drive_path + '/phil_txts/deleuze_guattari_anti-oedipus.txt')\n",
        "deleuze_difference = get_text(drive_path + '/phil_txts/deleuze_difference_repetition.txt')\n",
        "\n",
        "## marxism\n",
        "marx_kapital = get_text(drive_path + '/phil_txts/marx_kapital.txt')\n",
        "marx_manifesto = get_text(drive_path + '/phil_txts/marx_manifesto.txt')\n",
        "lenin_essential = get_text(drive_path + '/phil_txts/lenin_essential_works.txt')\n",
        "\n",
        "## capitalist economics\n",
        "smith_wealth = get_guten('http://www.gutenberg.org/files/3300/3300-0.txt')\n",
        "ricardo_political_economy = get_guten('http://www.gutenberg.org/cache/epub/33310/pg33310.txt')\n",
        "keynes_employment = get_text(drive_path + '/phil_txts/keynes_theory_of_employment.txt')\n",
        "\n",
        "## stoicism\n",
        "epictetus_enchiridion = get_guten('http://www.gutenberg.org/files/45109/45109-0.txt')\n",
        "aurelius_meditations = get_guten('http://www.gutenberg.org/cache/epub/2680/pg2680.txt')\n",
        "seneca_all_texts = get_guten('http://www.gutenberg.org/files/56075/56075-0.txt')\n",
        "\n",
        "## new Wittgenstein text\n",
        "wittgenstein_certainty = get_text(drive_path + '/phil_txts/wittgenstein_certainty.txt')\n",
        "\n",
        "## Neitzsche texts\n",
        "nietzsche_ecce = get_guten('https://www.gutenberg.org/files/52190/52190-0.txt')\n",
        "nietzsche_twilight = get_guten('https://www.gutenberg.org/files/52263/52263-0.txt')\n",
        "nietzsche_antichrist = get_guten('https://www.gutenberg.org/cache/epub/19322/pg19322.txt')\n",
        "nietzsche_beyond = get_guten('https://www.gutenberg.org/cache/epub/4363/pg4363.txt')\n",
        "nietzsche_zarathustra = get_guten('https://www.gutenberg.org/files/1998/1998-0.txt')\n",
        "\n",
        "## feminism texts\n",
        "wollstonecraft_vindication = get_guten('http://www.gutenberg.org/cache/epub/3420/pg3420.txt')\n",
        "beauvoir_second_sex = get_text(drive_path + '/phil_txts/beauvoir_second_sex.txt')\n",
        "davis_wrc = get_text(drive_path + '/phil_txts/davis_women_race_class.txt')\n",
        "\n",
        "## scholastic texts\n",
        "augustine_confessions = get_guten('http://www.gutenberg.org/cache/epub/3296/pg3296.txt')\n",
        "anselm_proslogion = get_text(drive_path + '/phil_txts/anselm_proslogion.txt')\n",
        "anselm_de_veritate = get_text(drive_path + '/phil_txts/anselm_de_veritate.txt')\n",
        "\n"
      ],
      "execution_count": null,
      "outputs": []
    },
    {
      "cell_type": "code",
      "metadata": {
        "id": "rtnCGgKbrwVa"
      },
      "source": [
        "# use this cell to bring in the new texts\n",
        "kierkegaard_fear_trembling = get_text(drive_path + '/phil_txts/kierkegaard_fear_and_trembling.txt', encoding='utf-16')"
      ],
      "execution_count": null,
      "outputs": []
    },
    {
      "cell_type": "markdown",
      "metadata": {
        "id": "Gtbq1njQKsSn"
      },
      "source": [
        "With texts imported, we need to clip front and end matter."
      ]
    },
    {
      "cell_type": "code",
      "metadata": {
        "id": "8cvmG0rir1tU"
      },
      "source": [
        "plato_complete = plato_complete.split('find that an enticing')[1][388:].split('Demeter, whose cult at')[0]\n",
        "\n",
        "aristotle_vol_1 = aristotle_vol_1.split('1a20-1b9')[1].split('799a16')[0]\n",
        "aristotle_vol_2 = aristotle_vol_2.split('830a5-830b4')[1].split('1462a5-1462a13')[0]\n",
        "\n",
        "spinoza_ethics = spinoza_ethics.split('ranslated from the Latin by R.')[1][71:].split('End of the Ethics')[0]\n",
        "spinoza_improve_understanding = spinoza_improve_understanding.split('Farewell.*')[1][20:].split('End of ')[0]\n",
        "leibniz_theodicy = leibniz_theodicy.split('appeared in 1710 as the')[1][202:].split('SUMMARY OF THE CON')[0][:-140]\n",
        "descartes_discourse_method = descartes_discourse_method.split('PREFATORY NOTE')[1][18:].split('End of the Pr')[0]\n",
        "descartes_meditations = descartes_meditations.split('LETTER')[1][1:].split('AND REPLIES')[0]\n",
        "malebranche_search_truth = malebranche_search_truth.split(\"n's Mind and the Use H\")[1][64:].split('Beati qui')[0]\n",
        "\n",
        "locke_understanding_1 = locke_understanding_1.split('2 Dorset Court, 24th of May, 1689')[1][50:].split('End of the Pro')[0][:-30]\n",
        "locke_understanding_2 = locke_understanding_2.split('1. Man fitted to form articulated Sounds.')[1][4:].split('End of the Pro')[0][:-25]\n",
        "locke_treatise_gov = locke_treatise_gov.split('now lodged in Christ College, Cambridge.')[1][21:].split('FINIS.')[0]\n",
        "hume_treatise = hume_treatise.split('ADVERTISEMENT')[1][9:].split('End of Pro')[0][:-14]\n",
        "hume_natural_religion = hume_natural_religion.split('PAMPHILUS TO HERMIPPUS')[1][6:].split('End of the Pro')[0][:-22]\n",
        "berkeley_treatise = berkeley_treatise.split('are too apt to condemn an opinion before they rightly')[1][47:].split('End of the Pr')[0][:-22]\n",
        "berkeley_three_dialogues = berkeley_three_dialogues.split('THE FIRST DIALOGUE')[1][17:].split('End of the Pro')[0][:-22]\n",
        "\n",
        "kant_practical_reason = kant_practical_reason.split('erner Pluhar an')[1][329:].split('stone of the wi')[0][:-20]\n",
        "kant_judgement = kant_judgement.split('TO THE FIRST EDITION,* 1790')[1][1:].split('EXPLANATORY NOTES')[0][:-39]\n",
        "kant_pure_reason = kant_pure_reason.split('Bacon of Verulam')[1][33:].split('(Persius, Satires, iii, 78-9).')[0][:-1]\n",
        "fichte_ethics = fichte_ethics.split('(“Krause Nachschrift,” 1798/99)')[1][111:].split('Page 345')[0][:-2]\n",
        "hegel_logic = hegel_logic.split('complete transformati')[1][249:].split('It is a matter of speculation how Hegel would have rev')[0][:-80]\n",
        "hegel_phenomenology = hegel_phenomenology.split('PREFACE: ON SCIENTIFIC')[1][1:].split('1I Adaptation')[0][:-62]\n",
        "hegel_right = hegel_right.split('he immediate occasion f')[1][184:].split('I Hegel lectured on the topics in')[0][:-28]\n",
        "\n",
        "russell_problems_of_phil = russell_problems_of_phil.split('n the following pages')[1].split('BIBLIOGRAPHICAL NOTE')[0]\n",
        "russell_analylsis_of_mind = russell_analylsis_of_mind.split('H. D. Lewis')[2][21:].split('End of Pro')[0]\n",
        "moore_studies = moore_studies.split('Aristotelian Society,_ 1919-20.')[1][23:].split('E Wes')[0][:-10]\n",
        "wittgenstein_tractatus = wittgenstein_tractatus.split('TRACTATUS LOGICO-PHILOSOPHICUS')[1][70:].split('I NDEX')[0][:-8]\n",
        "wittgenstein_investigations = wittgenstein_investigations.split('catty')[1][787:].split(\"above', 351\")[0]\n",
        "lewis_papers1 = lewis_papers1.split('The fifteen papers')[1][61:].split('Acquai')[0][:-10]\n",
        "lewis_papers2 = lewis_papers2.split('Part Four Counterfactuals and Time')[1][17:].split('end p.342')[0]\n",
        "quine_quintessence = quine_quintessence.split('T R UT H B Y C O N V E N T I O N')[1].split('CREDITS')[0][:-7]\n",
        "popper_science = popper_science.split('F IRST E NGLISH E DITION, 1959')[1][2:].split('This is the end of the text of the original book.')[0]\n",
        "kripke_troubles = kripke_troubles.split('apters 2, 3, 7, 10, 11, and 13 are previously unpublish')[1][103:].split('ans, Gareth. 198')[0][:-25]\n",
        "kripke_naming = kripke_naming.split('xjvdsa')[1][10:].split('hese addenda represe')[0][:-35]\n",
        "\n",
        "ponty_perception = ponty_perception.split('P REFACE')[1].split('B IBLIOGRAPHY')[0][:-65]\n",
        "husserl_idea_of = husserl_idea_of.split('LECTUREl')[1][9:].split('Abstraction, ideating, 47, 50, 65')[0][:-10]\n",
        "husserl_crisis = husserl_crisis.split('§ 1.')[1].split('Appendix X:')[0]\n",
        "heidegger_being_time = heidegger_being_time.split(\"AUTHOR'S PREFACE TO THE\")[1][25:].split('Not \"the\" sole way.')[0][:-8]\n",
        "heidegger_track = heidegger_track.split('translated in several ')[1][15:].split('et-up [dar Gestellj as the uunost obli')[0][:-32]\n",
        "\n",
        "foucault_order = foucault_order.split('P REFACE')[1]\n",
        "foucault_madness = foucault_madness.split('ickering simulacra, an')[1][112:].split('Page 591')[0]\n",
        "foucault_clinic = foucault_clinic.split('iagnostic (Paris, 1962, p.')[1][15:].split('de Sade.')[0][:-33]\n",
        "derrida_writing = derrida_writing.split('(Flaubert, Preface d la d')[1][10:].split('Reb Derissa')[0]\n",
        "deleuze_oedipus = deleuze_oedipus.split('xjdsde')[1].split('jajielaks')[0]\n",
        "deleuze_difference = deleuze_difference.split('Introduction:')[1].split('Plateaus')[0][:-65]\n",
        "\n",
        "marx_kapital = ((marx_kapital.split('E MAGNITUDE OF VALUE)')[1].split('expropriation of the laborer.')[0])+'expropriation of the laborer.')\n",
        "marx_manifesto = marx_manifesto.split('page 29')[1].split('Mao')[0][:-15]\n",
        "lenin_essential = lenin_essential.split('We will now sum up the theoretical')[1].split('SUGGESTIONS FOR FURTHER READING')[0]\n",
        "\n",
        "smith_wealth = smith_wealth.split('INTRODUCTION AND PLAN OF THE WORK.')[2].split('End of the Project Gutenberg EBook of An Inquiry into the Nat')[0]\n",
        "ricardo_political_economy = ricardo_political_economy.split('ON VALUE.')[1].split('  FOOTNOTES:')[0]\n",
        "keynes_employment = keynes_employment.split('GENERAL INTRODUCTION')[1].split('PRINTING ERRORS IN THE FIRST EDITION CORRECTE')[0][:-145]\n",
        "\n",
        "epictetus_enchiridion = epictetus_enchiridion.split('New York, 1927.')[1][99:].split('Footnotes')[0][:-45]\n",
        "aurelius_meditations = aurelius_meditations.split('Book vi. Num. xlviii.')[1].split('APPENDIX')[0]\n",
        "seneca_on_benefits = seneca_all_texts.split('SENECA OF BENEFITS')[1][54:].split('SENECA OF ANGER')[0]\n",
        "seneca_on_anger = seneca_all_texts.split('SENECA OF ANGER')[1][95:].split('SENECA OF CLEMENCY')[0]\n",
        "seneca_on_clemency = seneca_all_texts.split('SENECA OF CLEMENCY')[1][7:].split('Obvious typographical errors have been corre')[0][:-80]\n",
        "\n",
        "wittgenstein_certainty = wittgenstein_certainty.split('advice about the translation of this work.')[1][3:]\n",
        "\n",
        "nietzsche_zarathustra = nietzsche_zarathustra.split('FIRST PART. ZA')[1].split('APPENDIX.')[0]\n",
        "nietzsche_beyond = nietzsche_beyond.split('PREFACE')[2].split('FROM THE HEIGHTS')[0]\n",
        "nietzsche_ecce = nietzsche_ecce.split('PREFACE')[2].split('EDITORIAL NOTE TO POETRY')[0]\n",
        "nietzsche_antichrist = nietzsche_antichrist.split('PREFACE')[2].split('THE END')[0]\n",
        "nietzsche_twilight = nietzsche_twilight.split('re than a merely intellectual movement.')[1].split('End of the Project Gutenberg EBook of The Twilight of the Idols')[0]\n",
        "\n",
        "wollstonecraft_vindication = wollstonecraft_vindication.split('LATE BISHOP OF AUTUN.')[1][13:][:-80]\n",
        "beauvoir_second_sex = beauvoir_second_sex.split('’s message of freedom and independence')[1][57:].split('* Bold Chronicl')[0]\n",
        "davis_wrc = davis_wrc.split('for a New Womanhood')[1][14:].split('CHAPTER 1')[0][:-25]\n",
        "\n",
        "augustine_confessions = augustine_confessions.split('AD 401')[1][22:].split('GRATIAS TIBI DOMINE')[0]\n",
        "anselm_proslogion = anselm_proslogion.split('PREFACE 1')[1].split('John 16:24.   Isaiah 9:6.')[0][:-75]\n",
        "anselm_de_veritate = anselm_de_veritate.split('Preface [to the Three Dialogues')[1][45:]"
      ],
      "execution_count": null,
      "outputs": []
    },
    {
      "cell_type": "code",
      "metadata": {
        "id": "1uDGcFA-r3w7"
      },
      "source": [
        "# use this cell to deal with the new text and experiment until we have a good result\n",
        "kierkegaard_fear_trembling = kierkegaard_fear_trembling[348:]"
      ],
      "execution_count": null,
      "outputs": []
    },
    {
      "cell_type": "markdown",
      "metadata": {
        "id": "UtyqxKStKvsc"
      },
      "source": [
        "Now we aggregate them by school and create a dictionary of various aggregates for future use. "
      ]
    },
    {
      "cell_type": "code",
      "metadata": {
        "id": "kghr6yp0r6Lv"
      },
      "source": [
        "# a list of books for each school, then aggregated and entered into a dictionary\n",
        "\n",
        "## original texts\n",
        "plato_texts = [plato_complete]\n",
        "aristotle_texts = [aristotle_vol_1, aristotle_vol_2]\n",
        "rationalist_texts = [spinoza_ethics, spinoza_improve_understanding, \n",
        "                    leibniz_theodicy, descartes_discourse_method, \n",
        "                     descartes_meditations, malebranche_search_truth]\n",
        "empiricist_texts = [locke_treatise_gov, locke_understanding_1, locke_understanding_2, \n",
        "                    hume_treatise, hume_natural_religion, berkeley_three_dialogues, \n",
        "                    berkeley_treatise]\n",
        "german_idealist_texts = [kant_practical_reason, kant_judgement, kant_pure_reason, \n",
        "                         fichte_ethics, hegel_logic, hegel_phenomenology, hegel_right]\n",
        "analytic_texts = [russell_analylsis_of_mind, russell_problems_of_phil, \n",
        "                  moore_studies, wittgenstein_investigations, wittgenstein_tractatus, \n",
        "                  lewis_papers1, lewis_papers2, quine_quintessence, popper_science, \n",
        "                  kripke_naming, kripke_troubles, wittgenstein_certainty]\n",
        "phenomenology_texts = [ponty_perception, husserl_crisis, \n",
        "                       husserl_idea_of, heidegger_being_time, heidegger_track]\n",
        "continental_texts = [foucault_clinic, foucault_madness, foucault_order, \n",
        "                     derrida_writing, deleuze_difference, deleuze_oedipus]\n",
        "marxist_texts = [marx_kapital, marx_manifesto, lenin_essential]\n",
        "capitalist_texts = [smith_wealth, ricardo_political_economy, keynes_employment]\n",
        "kierkegaard_text = [kierkegaard_fear_and_trembling]\n",
        "\n",
        "# new texts\n",
        "stoicism_texts = [epictetus_enchiridion, aurelius_meditations, seneca_on_benefits, \n",
        "                  seneca_on_anger, seneca_on_clemency]\n",
        "nietzsche_texts = [nietzsche_antichrist, nietzsche_beyond, nietzsche_ecce,\n",
        "                  nietzsche_twilight, nietzsche_zarathustra]\n",
        "feminism_texts = [wollstonecraft_vindication, beauvoir_second_sex, davis_wrc]\n",
        "scholastic_texts = [augustine_confessions, anselm_de_veritate, anselm_proslogion]\n",
        "\n",
        "\n",
        "all_texts = plato_texts + aristotle_texts + empiricist_texts + rationalist_texts + analytic_texts + continental_texts + phenomenology_texts + german_idealist_texts + marxist_texts + capitalist_texts + stoicism_texts + nietzsche_texts + feminism_texts + scholastic_texts + kierkegaard_texts\n",
        "all_texts_string = ' . '.join(all_texts)\n",
        "\n",
        "text_dict_list = {'plato': plato_texts, 'aristotle': aristotle_texts, \n",
        "             'empiricism': empiricist_texts, 'rationalism': rationalist_texts, \n",
        "            'german_idealism': german_idealist_texts, \n",
        "             'phenomenology': phenomenology_texts, 'analytic': analytic_texts, \n",
        "            'continental': continental_texts, 'marxism': marxist_texts,\n",
        "             'capitalism': capitalist_texts, 'stoicism': stoicism_texts,\n",
        "             'nietzsche': nietzsche_texts, 'feminism': feminism_texts,\n",
        "             'scholasticism': scholastic_texts, 'kierkegaard': kierkegaard_texts}\n",
        "\n",
        "text_dict = {}\n",
        "for school in text_dict_list.keys():\n",
        "    text_dict[school] = ' . '.join(text_dict_list[school])"
      ],
      "execution_count": null,
      "outputs": []
    },
    {
      "cell_type": "code",
      "metadata": {
        "colab": {
          "base_uri": "https://localhost:8080/"
        },
        "id": "j7HOb7f_LUoe",
        "outputId": "343c0d40-e234-409f-f887-1e530d47a26e"
      },
      "source": [
        "len(all_texts)"
      ],
      "execution_count": null,
      "outputs": [
        {
          "output_type": "execute_result",
          "data": {
            "text/plain": [
              "68"
            ]
          },
          "metadata": {
            "tags": []
          },
          "execution_count": 10
        }
      ]
    },
    {
      "cell_type": "markdown",
      "metadata": {
        "id": "lfajGZ7bK5Zg"
      },
      "source": [
        "### More In-Depth Cleaning\n",
        "\n",
        "The text here is often quite messy. We need to do some significant work to clean it up. This means dealing with things like:\n",
        "- headers of pages occurring repeatedly in the text\n",
        "- page numbers and citation numbers\n",
        "- footnotes, roman numerals, titles of chapters\n",
        "\n",
        "The process of dealing with these and getting the data ready for our models has a few steps:\n",
        "1. develop a general cleaning function that can work for every text (removing roman numerals, for example)\n",
        "2. examine each text itself and remove the specific headers that are relevant to it\n",
        "  - look for features that could capture all the footnotes here as well\n",
        "3. tokenize the text using spacy\n",
        "4. examine the tokens for unusual patterns \n",
        "  - there should be virtually no duplicate sentences\n",
        "  - we can remove sentences that are too short to mean anything\n",
        "  - remove sentences that contain terms that must be from footnotes (the author's name should be very rare in the actual text, for example)\n",
        "\n",
        "Unfortunately many of these steps can only be done ad hoc; there is no real way to know whether and what headers are in a text without examining the files individually. So the process is a bit tedious and time-consuming. Still, when we finish we will have data that is much cleaner and more useful for modeling. \n"
      ]
    },
    {
      "cell_type": "markdown",
      "metadata": {
        "id": "AcoDD6vbLpu9"
      },
      "source": [
        "#### 1. Baseline Cleaning"
      ]
    },
    {
      "cell_type": "markdown",
      "metadata": {
        "id": "8JLtqH5SLInh"
      },
      "source": [
        "Our first step is to develop a baseline cleaning function that can be applied to every text."
      ]
    },
    {
      "cell_type": "code",
      "metadata": {
        "id": "MkT0egnbr89k"
      },
      "source": [
        "def baseline_clean(to_correct, capitals=True, bracketed_fn=False, odd_words_dict={}):\n",
        "  # remove utf8 encoding characters and some punctuations\n",
        "  result = re.sub(r'[\\x00-\\x08\\x0b\\x0c\\x0e-\\x1f\\x7f-\\xff\\xad\\x0c6§\\\\\\£\\Â*_<>\"\"⎫•{}Γ~]', ' ', to_correct)\n",
        "  result = re.sub(r'[\\u2014\\u2013\\u2012-]', ' ', result)\n",
        "\n",
        "  # replace whitespace characters with actual whitespace\n",
        "  result = re.sub(r'\\s', ' ', result)\n",
        "\n",
        "  # replace odd quotation marks with a standard\n",
        "  result = re.sub(r'[‘’“”]', \"'\", result)\n",
        "\n",
        "  # replace the ﬀ, ﬃ and ﬁ with the appropriate counterparts\n",
        "  result = re.sub(r'ﬀ', 'ff', result)\n",
        "  result = re.sub(r'ﬁ', 'fi', result)\n",
        "  result = re.sub(r'ﬃ', 'ffi', result)\n",
        "\n",
        "  # replace some accented characters for ease of searching\n",
        "  result = re.sub(r'é', 'e', result)\n",
        "\n",
        "  # remove or standardize some recurring common and meaninless words/phrases\n",
        "  result = re.sub(r'\\s*This\\s*page\\s*intentionally\\s*left\\s*blank\\s*', ' ', result)\n",
        "  result = re.sub(r'(?i)Aufgabe\\s+', ' ', result)\n",
        "  result = re.sub(r',*\\s+cf\\.', ' ', result)\n",
        "\n",
        "  # some texts have footnotes conveniently in brackets - this removes them all, \n",
        "  # with a safety measure for unpaired brackets, and deletes all brackets afterwards\n",
        "  if bracketed_fn:\n",
        "    result = re.sub(r'\\[.{0,300}\\]|{.{0,300}}|{.{0,300}\\]|\\[.{0,300}}', ' ', result)\n",
        "  result = re.sub(r'[\\[\\]{}]', ' ', result)\n",
        "\n",
        "  # unify some abbreviations\n",
        "  result = re.sub(r'&', 'and', result)\n",
        "  result = re.sub(r'\\se\\.g\\.\\s', ' eg ', result)\n",
        "  result = re.sub(r'\\si\\.e\\.\\s', ' ie ', result)\n",
        "  result = re.sub('coroll\\.', 'coroll', result)\n",
        "  result = re.sub('pt\\.', 'pt', result)\n",
        "\n",
        "  # remove roman numerals, first capitalized ones\n",
        "  result = re.sub(r'\\s((I{2,}V*X*\\.*)|(IV\\.*)|(IX\\.*)|(V\\.*)|(V+I*\\.*)|(X+L*V*I*]\\.*))\\s', ' ', result)\n",
        "  # then lowercase\n",
        "  result = re.sub(r'\\s((i{2,}v*x*\\.*)|(iv\\.*)|(ix\\.*)|(v\\.*)|(v+i*\\.*)|(x+l*v*i*\\.*))\\s', ' ', result)\n",
        "\n",
        "  # remove periods and commas flanked by numbers\n",
        "  result = re.sub(r'\\d\\.\\d', ' ', result)\n",
        "  result = re.sub(r'\\d,\\d', ' ', result)\n",
        "\n",
        "  # remove the number-letter-number pattern used for many citations\n",
        "  result = re.sub(r'\\d*\\w{,2}\\d', ' ', result)\n",
        "\n",
        "  # remove numerical characters\n",
        "  result = re.sub(r'\\d+', ' ', result)\n",
        "\n",
        "  # remove words of 2+ characters that are entirely capitalized \n",
        "  # (these are almost always titles, headings, or speakers in a dialogue)\n",
        "  # remove capital I's that follow capital words - these almost always roman numerals\n",
        "  # some texts do use these capitalizations meaningfully, so we make this optional\n",
        "  if capitals:\n",
        "    result = re.sub(r'[A-Z]{2,}\\s+I', ' ', result)\n",
        "    result = re.sub(r'[A-Z]{2,}', ' ', result)\n",
        "\n",
        "  # remove isolated colons and semicolons that result from removal of titles\n",
        "  result = re.sub(r'\\s+:\\s*', ' ', result)\n",
        "  result = re.sub(r'\\s+;\\s*', ' ', result)\n",
        "\n",
        "  # remove isolated letters (do it several times because strings of isolated letters do not get captured properly)\n",
        "  result = re.sub(r'\\s[^aAI\\.]\\s', ' ', result)\n",
        "  result = re.sub(r'\\s[^aAI\\.]\\s', ' ', result)\n",
        "  result = re.sub(r'\\s[^aAI\\.]\\s', ' ', result)\n",
        "  result = re.sub(r'\\s[^aAI\\.]\\s', ' ', result)\n",
        "  result = re.sub(r'\\s[^aAI\\.]\\s', ' ', result)\n",
        "  result = re.sub(r'\\s[^aAI\\.]\\s', ' ', result)\n",
        "\n",
        "  # remove isolated letters at the end of sentences or before commas\n",
        "  result = re.sub(r'\\s[^aI]\\.', '.', result)\n",
        "  result = re.sub(r'\\s[^aI],', ',', result)\n",
        "\n",
        "  # deal with spaces around periods and commas\n",
        "  result = re.sub(r'\\s+,\\s+', ', ', result)\n",
        "  result = re.sub(r'\\s+\\.\\s+', '. ', result)\n",
        "\n",
        "  # remove empty parantheses\n",
        "  result = re.sub(r'(\\(\\s*\\.*\\s*\\))|(\\(\\s*,*\\s*)\\)', ' ', result)\n",
        "  result = re.sub(r'\\.\\)\\.', '.', result)\n",
        "  result = re.sub(r'\\.\\(\\.', '.', result)\n",
        "\n",
        "  # reduce multiple periods, commas, or whitespaces into a single one\n",
        "  result = re.sub(r'\\.+', '.', result)\n",
        "  result = re.sub(r',+', ',', result)\n",
        "  result = re.sub(r'\\s+', ' ', result)\n",
        "\n",
        "  # deal with isolated problem cases discovered in the data:\n",
        "  for key in odd_words_dict.keys():\n",
        "    result = re.sub(r''+key+'', odd_words_dict[key], result)\n",
        "\n",
        "  return result"
      ],
      "execution_count": null,
      "outputs": []
    },
    {
      "cell_type": "code",
      "metadata": {
        "colab": {
          "base_uri": "https://localhost:8080/",
          "height": 137
        },
        "id": "bOIF01WGsDzv",
        "outputId": "53178371-74df-4358-9bd6-9d61d8ea5c67"
      },
      "source": [
        "# use this cell to run the function on the new text and see if anything looks odd\n",
        "baseline_clean(kierkegaard_fear_and_trembling)[10000:30000]"
      ],
      "execution_count": null,
      "outputs": [
        {
          "output_type": "execute_result",
          "data": {
            "application/vnd.google.colaboratory.intrinsic+json": {
              "type": "string"
            },
            "text/plain": [
              "\"d Plato. This is not to discountenance the veneration we owe to parents; nor to make children the worse, but the better; and to stir up generous emulations: for, in contests of good offices, both parties are happy; as well the vanquished as those that overcome. It is the only honorable dispute that can arise betwixt a father and son, which of the two shall have the better of the other in the point of benefits. In the question betwixt a master and a servant, we must distinguish betwixt benefits, duties, and actions ministerial. By benefits we understand those good offices that we receive from strangers, which are voluntary, and may be forborne without blame. Duties are the parts of a son and wife, and incumbent upon kindred and relations. Offices ministerial belong to the part of a servant. Now, since it is the mind and not the condition of a person, that prints the value upon the benefit, a servant may oblige his master, and so may a subject his sovereign, or a common soldier his general, by doing more than he is expressly bound to do. Some things there are, which the law neither commands nor forbids; and here the servant is free. It would be very hard for a servant to be chastised for doing less than his duty, and not thanked for it when he does more. His body, it is true, is his master's, but his mind is his own: and there are many commands which a servant ought no more to obey than a master to impose. There is no man so great, but he may both need the help and service, and stand in fear of the power and unkindness, even of the meanest of mortals. One servant kills his master; another saves him, nay, preserves his master's life, perhaps, with the loss of his own: he exposes himself to torment and death; he stands firm against all threats and batteries: which is not only a benefit in a servant, but much the greater for his being so. When Domitius was besieged in Corfinium, and the place brought to great extremity, he pressed his servant so earnestly to poison him, that at last he was prevailed upon to give him a potion; which, it seems, was an innocent opiate, and Domitius outlived it: sar took the town, and gave Domitius his life, but it was his servant that gave it him first. There was another town besieged, and when it was upon the last pinch, two servants made their escape, and went over to the enemy: upon the Romans entering the town, and in the heat of the soldiers' fury, these two fellows ran directly home, took their mistress out of her house, and drove her before them, telling every body how barbarously she had used them formerly, and that they would now have their revenge; when they had her without the gates, they kept her close till the danger was over; by which means they gave their mistress her life, and she gave them their freedom. This was not the action of a servile mind, to do so glorious a thing, under an appearance of so great a villainy; for if they had not passed for deserters and parricides, they could not have gained their end. With one instance more (and that a very brave one) I shall conclude this chapter. In the civil wars of Rome, a party coming to search for a person of quality that was proscribed, a servant put on his master's clothes, and delivered himself up to the soldiers as the master of the house; he was taken into custody, and put to death, without discovering the mistake. What could be more glorious, than for a servant to die for his master, in that age, when there were not many servants that would not betray their masters? So generous a tenderness in a public cruelty; so invincible a faith in a general corruption; what could be more glorious, I say, than so exalted a virtue, as rather to choose death for the reward of his fidelity, than the greatest advantages he might otherwise have had for the violation of it?. The good will of the benefactor is the fountain of all benefits; nay it is the benefit itself, or, at least, the stamp that makes it valuable and current. Some there are, I know, that take the matter for the benefit, and tax the obligation by weight and measure. When anything is given them, they presently cast it up; 'What may such a house be worth? such an office? such an estate?' as if that were the benefit which is only the sign and mark of it: for the obligation rests in the mind, not in the matter; and all those advantages which we see, handle, or hold in actual possession by the courtesy of another, are but several modes or ways of explaining and putting the good will in execution. There needs no great subtlety to prove, that both benefits and injuries receive their value from the intention, when even brutes themselves are able to decide this question. Tread upon a dog by chance, or put him to pain upon the dressing of a wound; the one he passes by as an accident; and the other, in his fashion, he acknowledges as a kindness: but, offer to strike at him, though you do him no hurt at all, he flies yet in the face of you, even for the mischief that you barely meant him. It is further to be observed, that all benefits are good; and (like the distributions of Providence) made up of wisdom and bounty; whereas the gift itself is neither good nor bad, but may indifferently be applied, either to the one or to the other. The benefit is immortal, the gift perishable: for the benefit itself continues when we have no longer either the use or the matter of it. He that is dead was alive; he that has lost his eyes, did see; and, whatsoever is done, cannot be rendered undone. My friend (for instance) is taken by pirates; I redeem him; and after that he falls into other pirates' hands; his obligation to me is the same still as if he had preserved his freedom. And so, if I save a man from any misfortune, and he falls into another; if I give him a sum of money, which is afterwards taken away by thieves; it comes to the same case. Fortune may deprive us of the matter of a benefit, but the benefit itself remains inviolable. If the benefit resided in the matter, that which is good for one man would be so for another; whereas many times the very same thing, given to several persons, work contrary effects, even to the difference of life or death; and that which is one body's cure proves another body's poison. Beside that, the timing of it alters the value; and a crust of bread, upon a pinch, is a greater present than an imperial crown. What is more familiar than in a battle to shoot at an enemy and kill a friend? or, instead of a friend, to save an enemy? But yet this disappointment, in the event, does not at all operate upon the intention. What if a man cures me of a wen with a stroke that was designed to cut off my head? or, with a malicious blow upon my stomach, breaks an imposthume? or, what if he saves my life with a draught that was prepared to poison me? The providence of the issue does not at all discharge the obliquity of the intent. And the same reason holds good even in religion itself. It is not the incense, or the offering, that is acceptable to God, but the purity and devotion of the worshipper: neither is the bare will, without action, sufficient, that is, where we have the means of acting; for, in that case, it signifies as little to wish well, without well doing as to do good without willing it. There must be effect as well as intention, to make me owe a benefit; but, to will against it, does wholly discharge it. In fine, the conscience alone is the judge, both of benefits and injuries. It does not follow now, because the benefit rests in the good will, that therefore the good will should be always a benefit; for if it be not accompanied with government and discretion, those offices, which we call benefits are but the works of passion, or of chance; and many times, the greatest of all injuries. One man does me good by mistake; another ignorantly; a third upon force: but none of these cases do I take to be an obligation; for they were neither directed to me, nor was there any kindness of intention; we do not thank the seas for the advantages we receive by navigation; or the rivers with supplying us with fish and flowing of our grounds; we do not thank the trees either for their fruits or shades, or the winds for a fair gale; and what is the difference betwixt a reasonable creature that does not know and an inanimate that cannot? A good horse saves one man's life; a good suit of arms another's; and a man perhaps, that never intended it, saves a third. Where is the difference now betwixt the obligation of one and of the other? A man falls into a river, and the fright cures him of the ague; we may call this a kind of lucky mischance, but not a remedy. And so it is with the good we receive, either without, or beside, or contrary to intention. It is the mind, and not the event, that distinguishes a benefit from an injury. A. As it is the will that designs the benefit, and the matter that conveys it, so it is the judgment that perfects it; which depends upon so many critical niceties, that the least error, either in the person, the matter, the manner, the quality, the quantity, the time, or the place, spoils all. The consideration of the person is a main point: for we are to give by choice, and not by hazard. My inclination bids me oblige one man; I am bound in duty and justice to serve another; here it is a charity, there it is pity; and elsewhere, perhaps, encouragement. There are some that want, to whom I would not give; because, if I did, they would want still. To one man I would barely offer a benefit; but I would press it upon another. To say the truth, we do not employ any more profit than that which we bestow; and it is not to our friends, our acquaintances or countrymen, nor to this or that condition of men, that we are to restrain our bounties; but wheresoever there is a man, there is a place and occasion for a benefit. We give to some that are good already; to others, in hope to make them so: but we must do all with discretion; for we are as well answerable for what we give as for what we receive; nay, the misplacing of a benefit is worse than the not receiving of it; for the one is another man's fault; but the other is mine. The error of the giver does oft times excuse the ingratitude of the receiver: for a favor ill placed is rather a profusion than a benefit. It is the most shameful of losses, an inconsiderate bounty. I will choose a man of integrity, sincere, considerate, grateful, temperate, well natured, neither covetous nor sordid: and when I have obliged such a man, though not worth a groat in the world, I have gained my end. If we give only to receive, we lose the fairest objects of our charity: the absent, the sick, the captive, and the needy. When we oblige those that can never pay us again in kind, as a stranger upon his last farewell, or a necessitous person upon his death bed, we make Providence our debtor, and rejoice in the conscience even of a fruitless benefit. So long as we are affected with passions, and distracted with hopes and fears, and (the most unmanly of vices) with our pleasures, we are incompetent judges where to place our bounties: but when death presents itself, and that we come to our last will and testament, we leave our fortunes to the most worthy. He that gives nothing, but in hopes of receiving, must die intestate. It is the honesty of another man's mind that moves the kindness of mine; and I would sooner oblige a grateful man than an ungrateful: but this shall not hinder me from doing good also to a person that is known to be ungrateful: only with this difference, that I will serve the one in all extremities with my life and fortune, and the other no farther than stands with my convenience. But what shall I do, you will say, to know whether a man will be grateful or not? I will follow probability, and hope the best. He that sows is not sure to reap; nor the seaman to reach his port; nor the soldier to win the field: he that weds is not sure his wife shall be honest, or his children dutiful: but shall we therefore neither sow, sail, bear arms, nor marry? Nay, if I knew a man to be incurably thankless, I would yet be so kind as to put him in his way, or let him light a candle at mine, or draw water at my well; which may stand him perhaps in great stead, and yet not be reckoned as a benefit from me; for I do it carelessly, and not for his sake, but my own; as an office of humanity, without any choice or kindness. Next to the choice of the person follows that of the matter wherein a regard must be had to time, place, proportion, quality; and to the very nicks of opportunity and humor. One man values his peace above his honor, another his honor above his safety; and not a few there are that (provided they may save their bodies) never care what becomes of their souls. So that good offices depend much upon construction. Some take themselves to be obliged, when they are not; others will not believe it, when they are; and some again take obligations and injuries, the one for the other. For our better direction, let it be noted, 'That a benefit is a common tie betwixt the giver and receiver, with respect to both:' wherefore it must be accommodated to the rules of discretion; for all things have their bounds and measures, and so must liberality among the rest; that it be neither too much for the one nor too little for the other; the excess being every jot as bad as the defect. Alexander bestowed a city upon one of his favorites; who modestly excusing himself, 'That it was too much for him to receive.' 'Well, but,' says Alexander, 'it is not too much for me to give.' A haughty certainly, and an imprudent speech; for that which was not fit for the one to take could not be fit for the other to give. It passes in the world for greatness of mind to be perpetually giving and loading of people with bounties; but it is one thing to know how to give and another thing not to know how to keep. Give me a heart that is easy and open, but I will have no holes in it; let it be bountiful with judgment, but I will have nothing run out of it I know not how. How much greater was he that refused the city than the other that offered it? Some men throw away their money as if they were angry with it, which is the error commonly of weak minds and large fortunes. No man esteems of anything that comes to him by chance; but when it is governed by reason, it brings credit both to the giver and receiver; whereas those favors are, in some sort, scandalous, that make a man ashamed of his patron. It is a matter of great prudence, for the benefactor to suit the benefit to the condition of the receiver: who must be either his superior, his inferior, or his equal; and that which would be the highest obligation imaginable to the one, would perhaps be as great a mockery and affront to the other; as a plate of broken meat (for the purpose) to a rich man were an indignity, which to a poor man is a charity. The benefits of princes and of great men, are honors, offices, monies, profitable commissions, countenance, and protection: the poor man has nothing to present but good will, good advice, faith, industry, the service and hazard of his person, an early apple, peradventure, or some other cheap curiosity: equals indeed may correspond in kind; but whatsoever the present be, or to whomsoever we offer it, this general rule must be observed, that we always design the good and satisfaction of the receiver, and never grant anything to his detriment. It is not for a man to say, I was overcome by importunity; for when the fever is off, we detest the man that was prevailed upon to our destruction. I will no more undo a man with his will, than forbear saving him against it. It is a benefit in some cases to grant, and in others to deny; so that we are rather to consider the advantage than the desire of the petitioner. For we may in a passion earnestly beg for (and take it ill to be denied too) that very thing, which, upon second thoughts, we may come to curse, as the occasion of a most pernicious bounty. Never give anything that shall turn to mischief, infamy, or shame. I will consider another man's want or safety; but so as not to forget my own; unless in the case of a very excellent person, and then I shall not much heed what becomes of myself. There is no giving of water to a man in a fever; or putting a sword into a madman's hand. He that lends a man money to carry him to a bawdy house, or a weapon for his revenge, makes himself a partaker of his crime. He that would make an acceptable present, will pitch upon something that is desired, sought for, and hard to be found; that which he sees nowhere else, and which few have; or at least not in that place or season; something that may be always in his eye, and mind him of his benefactor. If it be lasting and durable, so much the better; as plate, rather than money; statues than apparel; for it will serve as a monitor to mind the receiver of the obligation, which the presenter cannot so handsomely do. However, let it not be improper, as arms to a woman, books to a clown, toys to a philosopher: I will not give to any man that which he cannot receive, as if I threw a ball to a man without hands; but I will make a return though he cannot receive it; for my business is not to oblige him, but to free myself: nor anything that may reproach a man of his vice or infirmity; as false dice to a cheat; spectacles to a man that is blind. Let it not be unseasonable neither; as a furred gown in summer, an umbrella in winter. It enhances the value of the present, if it was never given to him by anybody else, nor by me to any other; for that which we give to everybody is welcome to nobody. The particularity does much, but yet the same thing may receive a different estimate from several persons; for there are ways of marking and recommending it in such a manner, that if the same good office be done to twenty people, every one of them shall reckon himself peculiarly obliged as a cunning whore, if she has a thousand sweethearts, will persuade every one of them she loves him best. But this is rather the artifice of conversation than the virtue of it. The citizens of Megara send ambassadors to Alexander in the height of his glory, to offer him, as a compliment, the freedom of their city. Upon Alexander's smiling at the proposal, they told him, that it was a present which they had never made but to Hercules and himself. Whereupon Alexander treated them kindly, and accepted of it; not for the presenters' sake, but because they had joined him with Hercules; now unreasonably soever; for Hercules conquered nothing for himself, but made his business to vindicate and to protect the miserable, without any private interest or design; but this intemperate young man (whose virtue was nothing else but a successful temerity) was trained up from his youth in the trade of violence; the common enemy of mankind, as well of his friends as of his foes, and one that valued himself upon being terrible to all mortals: never considering, that the dullest creatures are as dangerous and as dreadful, as the fiercest; for the poison of a toad, or the tooth of a snake, will do a man's business, as sure as the paw of a tiger. There is not any benefit so glorious in itself, but it may yet be exceedingly sweetened and improved by the manner of conferring it. The virtue, I know, rests in the intent, the profit in the judicious application of the matter but the beauty and ornament of an obligation lies in the manner of it; and it is then perfect when the dignity of the office is accompanied with all the charms and delicacies of humanity, good nature, and address; and with dispatch too; for he that puts a man off from time to time, was never right at heart. In the first place, whatsoever we give, let us do it frankly a kind benefactor makes a man happy as soon as he can, and as much as he can. There should be no delay in a benefit but the modesty of the receiver. If we cannot forsee the request\""
            ]
          },
          "metadata": {
            "tags": []
          },
          "execution_count": 12
        }
      ]
    },
    {
      "cell_type": "markdown",
      "metadata": {
        "id": "6e3D7iGALiMC"
      },
      "source": [
        "#### 2. Text-by-Text Cleaning"
      ]
    },
    {
      "cell_type": "markdown",
      "metadata": {
        "id": "i_T4TRdEL2aM"
      },
      "source": [
        "In this step we will remove headers and other offensive features of specific texts. \n",
        "\n",
        "The most common problem is the presence of headings that appear at the top of each page in the original book. When converted to a string, these then get interpolated into the text, interrupting the normal flow of sentences (this happens for page numbers and citations as well, but those cases are much easier to deal with). \n",
        "\n",
        "To deal with this, we build a list of the headers for each book and then delete them from the string that represents the book. In the process, we may create some issues if the header is common, so we are careful to only delete when the loss is worth it.\n",
        "\n",
        "In some cases, of course, the texts are already clean and no extra steps are required."
      ]
    },
    {
      "cell_type": "code",
      "metadata": {
        "id": "JxmXkIWbsJVs"
      },
      "source": [
        "plato_to_rm = ['Apology', 'Sophist', 'Statesman', 'Symposium', \n",
        "                 'Second Alcibiades', 'Rival Lovers', 'Greater Hippias', \n",
        "                 'Lesser Hippias', 'Republic', 'Laws', 'Letters', 'Definitions',\n",
        "                 'On Virtue', 'On Justice', 'Epigrams', 'Translated b.+\\.']\n",
        "\n",
        "aristotle_to_rm = ['Aristotle', 'Book']\n",
        "\n",
        "descartes_meditations_to_rm = ['Letter of Dedication', 'Preface to the Reader', \n",
        "                               'Synopsis', 'First Meditation', 'Second Meditation', \n",
        "                               'Third Meditation', 'Fourth Meditation', 'Fifth Meditation', \n",
        "                               'Sixth Meditation']\n",
        "\n",
        "malebranche_search_to_rm = ['Nicolas Malebranche', 'Truth', 'Nicolas',]\n",
        "\n",
        "locke_gov_to_rm = ['Sect.']\n",
        "\n",
        "berkeley_dialogues_to_rm = ['PHIL.', 'PHILONOUS.', 'HYL.', 'HYLAS.']\n",
        "\n",
        "kant_judgement_to_rm = ['Introduction', 'Preface to the First Edition', \n",
        "                        'Critique of Aesthetic Judgement', 'Critique of Teleological Judgement',\n",
        "                        'Analytic of the Beautiful', 'Analytic of the Sublime',\n",
        "                        'Anaytic of Teleological Judgement', 'Dialectic of Aeshetic Judgement',\n",
        "                        'Critique of Teleological Judgement', 'Dialectic of Teleological Judgement',\n",
        "                        'Theory of the Method of Teleological Judgement',\n",
        "                        '‘First Introduction’ to the Critique of Judgement']\n",
        "\n",
        "kant_pure_reason_to_rm = ['Introduction', '\\s+Section\\s.+', '\\sDoctrine\\s*of\\s*Elements\\.\\s*.+',\n",
        "                          '\\sDoctrine\\s*of\\s*Method\\.\\s*.+']                        \n",
        "\n",
        "\n",
        "fichte_ethics_to_rm = ['Page']\n",
        "\n",
        "hegel_SoL_to_rm = ['Georg Wilhelm Friedrich Hegel', 'The Science of Logic']\n",
        "\n",
        "hegel_right_to_rm = ['Preface', 'Philosophy of Right', 'Philosophy ofRight', \n",
        "                     'Philosophy ojRight', 'Philosophy oj Right', \n",
        "                     'Introduction', 'Abstract Right', 'Ethical Life', 'Ethical Lift',\n",
        "                     'Morality']\n",
        "\n",
        "wittgenstein_tract_to_rm = ['tractatus logico-philosophicus']\n",
        "\n",
        "lewis_papers_1_to_rm = ['Introduction', 'Ontology', 'Holes', 'Anselm and Actuality', \n",
        "                        'Counterpart Theory and Quantified Modal Logic', \n",
        "                        'Counterparts of Persons and Their Bodies', 'Survival and Identity',\n",
        "                        'How to Define Theoretical Terms', 'Philosophy of Mind', \n",
        "                        'An Argument for the Identity Theory', 'Radical Interpretation',\n",
        "                        'Mad Pain and Partian Pain', 'Attitudes De Dicto and De Se',\n",
        "                        'Philosophy of Language', 'Languages and Language',\n",
        "                        'General Semantics', 'Scorekeeping in a Language Game',\n",
        "                        'Tensions', 'Truth in Fiction', 'This page intentionally left blank']\n",
        "\n",
        "lewis_papers_2_to_rm = ['end\\sp\\.']\n",
        "\n",
        "quine_quintessence_to_rm = ['(?i)\\s+Truth\\s+by\\s+Convention\\s+', '(?i)\\s+Two\\s+Dogams\\s+of\\s+Empiricism',\n",
        "                            '(?i)\\s+Two\\s+in\\s+Retrospect\\s+', '(?i)\\s+Carnap\\s+and\\s+Logical\\s+Truth',\n",
        "                            '(?i)\\s+Speaking\\s+of\\s+Objects\\s+', '(?i)\\s+Reference\\s+',\n",
        "                            '(?i)\\s+Translation\\s+and\\s+Meaning', '(?i)\\s+Progress\\s+on\\s+Two\\s+Fronts\\s+',\n",
        "                            '(?i)\\s+On\\s+What\\s+There\\s+is\\s+', '(?i)\\s+the\\s+scope\\s+and\\s+language\\s+of\\s+science\\s+',\n",
        "                            '(?i)\\s+on\\s+simple\\s+theories\\s+of\\s+a\\s+complex\\s+world\\s+',\n",
        "                            '(?i)\\s+ontic\\s+decision\\s+', '(?i)\\s+things\\s+and\\s+their\\s+place\\s+in\\s+theories\\s+',\n",
        "                            \"(?i)\\s+on\\s+Carnap\\s*'s\\s+views\\s+on\\s+ontology\\s+\",\n",
        "                            '(?i)\\s+empistemology\\s+naturalized\\s+', \n",
        "                            \"(?i)\\s+naturalism\\s;\\s+or,\\s+living\\s+within\\s+one\\s*'s\\s+means\\s+\",\n",
        "                            '(?i)\\s+the\\s+nature\\s+of\\s+natural\\s+knowledge\\s+',\n",
        "                            '(?i)\\s+five\\s+milestones\\s+of\\s+empiricism\\s+',\n",
        "                            '(?i)\\s+on\\s+mental\\s+entities\\s+', '(?i)\\s+mind\\s+and\\s+verbal\\s+dispositions\\s+',\n",
        "                            '(?i)\\s+confessions\\s+of\\s+a\\s+confirmed\\s+extensionalist\\s+',\n",
        "                            '(?i)\\s+quantifiers\\s+and\\s+propositional\\s+attitudes\\s+',\n",
        "                            '(?i)\\s+intensions\\s+revisited\\s+', '(?i)\\s+reference\\s+and\\s+modality\\s+',\n",
        "                            '(?i)\\s+three\\s+grades\\s+of\\s+modal\\s+involvement\\s+']\n",
        "\n",
        "popper_science_to_rm = ['the logic of science', 'a survey of some fundamental problems',\n",
        "                        'preface', 'on the problem of a theory of scientific method',\n",
        "                        'some structural components of a theory of experience',\n",
        "                        'degrees of testability', 'some observations on quantum theory',\n",
        "                        'corroboration, or how a theory stands up to tests']\n",
        "\n",
        "kripke_troubles_to_rm = ['Identity and Necessity', 'On Two Paradoxes of Knowledge',\n",
        "                          'Vacuous Names and Fictional Entities', 'Outline of a Theory of Truth',\n",
        "                          \"Speaker's Reference and Semantic Reference\",\n",
        "                          'A Puzzle about Belief', 'Nozick on Knowledge', \n",
        "                          \"Russell's Notion of Scope\", \"Frege's Theory of Sense and Reference\",\n",
        "                          'The First Person', 'Unrestricted Exportation and Some Morals for the Philosophy',\n",
        "                          'Presupposition and Anaphora', 'A Puzzle about Time and Thought']\n",
        "\n",
        "ponty_perception_to_rm = ['phenomenology of perception', 'preface',\n",
        "                          \"the 'sensation' as a unit of experience\", \n",
        "                          \"'association' and the 'projection of memories'\",\n",
        "                          \"'attention' and 'judgement'\", 'the phenomenal field', \n",
        "                          'experience and objective thought', 'the body as object and mechanistic psychology',\n",
        "                          'the experience of the body and classical psychology',\n",
        "                          \"the spatiality of one’s own body and motility\",\n",
        "                          \"the synthesis of one's own body\", 'the body in its sexual being',\n",
        "                          'the body as expression, and speech',\n",
        "                          'theory of the body is already a theory of perception',\n",
        "                          'sense experience', 'the thing and the natural world',\n",
        "                          'other selves and the human world']\n",
        "\n",
        "husserl_crisis_to_rm = ['Part\\s+', 'Idealization and the Science of Reality', \n",
        "                        'Denial of Scientific Philosophy', 'The Origin of Geometry',\n",
        "                        'Natural Science and Humanistic Science',\n",
        "                        'The Vienna Lecture']\n",
        "\n",
        "heidegger_b_and_t_to_rm = ['\\s+Being\\s*and\\s*Time\\s+', 'Int.', 'I.m', 'I.n']                                                  \n",
        "\n",
        "foucault_order_to_rm = ['the order of things', 'the prose of the world', '\\s+classifying\\s+',\n",
        "                        'exchanging', 'the limits of representation',\n",
        "                        'labour, life, language', 'man and his doubles']\n",
        "\n",
        "foucault_madness_to_rm = ['\\s+Page\\s']\n",
        "\n",
        "foucault_clinic_to_rm = ['\\(\\(.+\\)\\)']\n",
        "\n",
        "deleuze_difference_to_rm = ['Difference and Repetition', 'Difference in Itself',\n",
        "                            'Repetition for Itself', 'The Image of Thought',\n",
        "                            'Ideas and the Synthesis of Difference',\n",
        "                            'Asymmetrical Synthesis of the Sensible', 'Conclusion']\n",
        "\n",
        "marx_kapital_to_rm = ['http.+', 'Capital\\s+Vol\\..+']\n",
        "\n",
        "marx_manifesto_to_rm = ['\\s+page\\s+\\d+']\n",
        "\n",
        "keynes_employment_to_rm = ['(?i)\\s+The\\s+General\\s+Theory\\s+of\\s+Employment,*\\s+interest\\s+and\\s+money\\s+by\\s+john\\s+maynard\\s+keynes\\s+',\n",
        "                           'Table of Contents \\| Previous Chapter \\| Next Chapter', \n",
        "                           'Chapter\\s+\\d+']     \n",
        "\n",
        "anselm_de_veritate_to_rm = ['On Truth', 'rectitudo', 'S\\.', 'T\\.']\n",
        "anselm_proslogion_to_rm = ['Proslogion', 'Preface', '&']\n",
        "\n",
        "do_not_remove_capitals = ['essay concerning human understanding bk 2', \n",
        "                          'a treatise of human nature', \n",
        "                          'dialogues concerning natural religion', 'three dialogues', \n",
        "                          'a treatise concerning the principles of human knowledge',\n",
        "                          'thus spake zarathustra', 'beyond good and evil']\n",
        "\n",
        "bracketed_fn = ['critique of practical reason', 'the communist manifesto', 'ecce homo']                                          "
      ],
      "execution_count": null,
      "outputs": []
    },
    {
      "cell_type": "markdown",
      "metadata": {
        "id": "4Z6-svnmMCtz"
      },
      "source": [
        "#### 3. Tokenizing and Rendering the Texts as a Dataframe"
      ]
    },
    {
      "cell_type": "markdown",
      "metadata": {
        "id": "meZEHHSgMEBd"
      },
      "source": [
        "We now are in a position to apply these methods to each text and return a dataframe for each of them. Although we are interested primarily in the schools of thought in general, it would be convenient and more useful for future projects if we also include the specific authors and titles. \n",
        "\n",
        "To prepare for this project, we build a dictionary for each school, so that we can then iterate over a list of dictionaries to create a dataframe for each."
      ]
    },
    {
      "cell_type": "code",
      "metadata": {
        "colab": {
          "base_uri": "https://localhost:8080/"
        },
        "id": "Ct6SmxnTsM1k",
        "outputId": "3c40e071-69d2-4e6e-9f37-713b36f5c556"
      },
      "source": [
        "# prepare lists that will be zipped into a dictionary\n",
        "\n",
        "# texts \n",
        "all_texts\n",
        "\n",
        "# titles\n",
        "title_list = [\"plato - complete works\", \"aristotle - complete works\", \"aristotle - complete works\",\n",
        "              'second treatise on government', 'essay concerning human understanding',\n",
        "              'essay concerning human understanding', 'a treatise of human nature', \n",
        "              'dialogues concerning natural religion', 'three dialogues', \n",
        "              'a treatise concerning the principles of human knowledge',\n",
        "              'ethics', 'on the improvement of understanding', 'theodicy',\n",
        "              'discourse on method', 'meditations on first philosophy', 'the search after truth',\n",
        "              'the analysis of mind', 'the problems of philosophy', 'philosophical studies',\n",
        "              'philosophical investigations', 'tractatus logico-philosophicus',\n",
        "              \"lewis - papers\", \"lewis - papers\", 'quintessence', \n",
        "              'the logic of scientific discovery', 'naming and necessity', \n",
        "              'philosophical troubles', 'on certainty', 'the birth of the clinic',\n",
        "              'history of madness',\n",
        "              'the order of things', 'writing and difference', 'difference and repetition',\n",
        "              'anti-oedipus', 'the phenomenology of perception', \n",
        "              'the crisis of the european sciences and phenomenology', \n",
        "              'the idea of phenomenology',\n",
        "              'being and time', 'off the beaten track', 'critique of practical reason', \n",
        "              'critique of judgement', 'critique of pure reason', \n",
        "              'the system of ethics', 'science of logic', 'the phenomenology of spirit',\n",
        "              'elements of the philosophy of right', 'capital', 'the communist manifesto', \n",
        "              'essential works of lenin', 'the wealth of nations', \n",
        "              'on the principles of political economy and taxation',\n",
        "              'a general theory of employment, interest, and money', 'enchiridion',\n",
        "              'meditations', 'the antichrist', 'beyond good and evil', 'ecce homo',\n",
        "              'twilight of the idols', 'thus spake zarathustra', 'vindication of the rights of woman',\n",
        "              'the second sex', 'women, race, and class', 'confessions', 'proslogion',\n",
        "              'de veritate', 'on benefits', 'on anger', 'on clemency', 'fear and trembling']\n",
        "\n",
        "# publication dates (for translations, editions used, etc.)\n",
        "publication_dates = [1997, 1991, 1991, 2010, 2004, 2004, 2003, 2009, 2009, 2009,\n",
        "                     2003, 1997, 2005, 2008, 2008, 1997, 2008, 2004, 2015, 1986, \n",
        "                     2001, 2008, 2008, 2004, 2002, 1990, 2011, 1969, 2003, 2006,\n",
        "                     2002, 2001, 1994, 1997, 2002, 1970, 1999, 1996, 2001, 2002, \n",
        "                     2007, 1998, 2005, 2010, 1977, 1991, 1887, 1970, 1966, 2009, \n",
        "                     2010, 2003, 2014, 2008, 2006, 2003, 2016, 2016, 2008, 2001, \n",
        "                     2009, 1981, 2002, 2000, 2000, 2017, 2017, 2017, 1941]\n",
        "\n",
        "# original authorship dates (to track when the text was actually written)\n",
        "original_dates = [-350, -320, -320, 1689, 1689, 1689, 1739, 1779, 1713, 1710,\n",
        "                 1677, 1677, 1710, 1637, 1641, 1674, 1921, 1912, 1910, 1953, \n",
        "                 1921, 1985, 1985, 1950, 1959, 1972, 1975, 1950, 1963, 1961,\n",
        "                 1966, 1967, 1968, 1972, 1945, 1936, 1907, 1927, 1950, 1788,\n",
        "                 1790, 1781, 1798, 1817, 1807, 1820, 1883, 1848, 1862, 1776, \n",
        "                 1817, 1936, 125, 170, 1888, 1886, 1888, 1888, 1887, 1792,\n",
        "                 1949, 1981, 398, 1077, 1086, 59, 45, 55, 1843]\n",
        "\n",
        "# authors\n",
        "author_list = ['plato', 'aristotle', 'aristotle', 'locke', 'locke', 'locke',\n",
        "               'hume', 'hume', 'berkeley', 'berkeley', 'spinoza', 'spinoza',\n",
        "               'leibniz', 'descartes', 'descartes', 'malebranche', 'russell', \n",
        "               'russell', 'moore', 'wittgenstein', 'wittgenstein', 'lewis', 'lewis',\n",
        "               'quine', 'popper', 'kripke', 'kripke', 'wittgenstein', 'foucault', 'foucault', \n",
        "               'foucault', 'derrida', 'deleuze', 'deleuze', 'merleau-ponty', \n",
        "               'husserl', 'husserl', 'heidegger', 'heidegger', 'kant', 'kant',\n",
        "               'kant', 'fichte', 'hegel', 'hegel', 'hegel', 'marx', 'marx', 'lenin',\n",
        "               'smith', 'ricardo', 'keynes', 'epictetus', 'marcus aurelius',\n",
        "               'nietzsche', 'nietzsche', 'nietzsche', 'nietzsche', 'nietzsche',\n",
        "               'wollstonecraft', 'beauvoir', 'davis', 'augustine', 'anselm', 'anselm',\n",
        "               'seneca', 'seneca', 'seneca', 'kierkegaard']\n",
        "\n",
        "school_list = ['plato', 'aristotle', 'aristotle', 'empiricism', 'empiricism', \n",
        "               'empiricism', 'empiricism', 'empiricism', 'empiricism', 'empiricism',\n",
        "               'rationalism', 'rationalism', 'rationalism', 'rationalism', \n",
        "               'rationalism', 'rationalism', 'analytic', 'analytic', 'analytic', \n",
        "               'analytic', 'analytic', 'analytic', 'analytic', 'analytic', 'analytic', \n",
        "               'analytic', 'analytic', 'analytic', 'continental', 'continental', 'continental', \n",
        "               'continental', 'continental', 'continental', 'phenomenology', \n",
        "               'phenomenology', 'phenomenology', 'phenomenology', 'phenomenology', \n",
        "               'german_idealism', 'german_idealism', 'german_idealism', 'german_idealism',\n",
        "               'german_idealism', 'german_idealism', 'german_idealism', 'communism', \n",
        "               'communism', 'communism', 'capitalism', 'capitalism', 'capitalism', \n",
        "               'stoicism', 'stoicism', 'nietzsche', 'nietzsche', 'nietzsche', \n",
        "               'nietzsche', 'nietzsche', 'feminism', 'feminism', 'feminism', 'scholasticism',\n",
        "               'scholasticism', 'scholasticism', 'stoicism', 'stoicism', 'stoicism',\n",
        "               'kierkegaard']               \n",
        "\n",
        "# words to remove \n",
        "to_rm_list = [plato_to_rm, aristotle_to_rm, aristotle_to_rm, locke_gov_to_rm, \n",
        "              [], [], [], [], berkeley_dialogues_to_rm, [], [], [], [], [], \n",
        "              descartes_meditations_to_rm, malebranche_search_to_rm, [],\n",
        "              [], [], [], wittgenstein_tract_to_rm, lewis_papers_1_to_rm, \n",
        "              lewis_papers_2_to_rm, quine_quintessence_to_rm, popper_science_to_rm,\n",
        "              [], kripke_troubles_to_rm, [], foucault_clinic_to_rm, foucault_madness_to_rm,\n",
        "              foucault_order_to_rm, [], deleuze_difference_to_rm, [],\n",
        "              ponty_perception_to_rm, husserl_crisis_to_rm, [], heidegger_b_and_t_to_rm,\n",
        "              [], [], kant_judgement_to_rm, kant_pure_reason_to_rm, fichte_ethics_to_rm, \n",
        "              hegel_SoL_to_rm, [], hegel_right_to_rm, marx_kapital_to_rm, \n",
        "              marx_manifesto_to_rm, [], [], [], keynes_employment_to_rm, [], [], \n",
        "              [], [], [], [], [], [], [], [], [], anselm_proslogion_to_rm, anselm_de_veritate_to_rm,\n",
        "              [], [], [], []]\n",
        "\n",
        "# check lengths to make sure all are present\n",
        "len(to_rm_list), len(all_texts), len(author_list), len(title_list), len(school_list), len(publication_dates), len(original_dates)"
      ],
      "execution_count": null,
      "outputs": [
        {
          "output_type": "execute_result",
          "data": {
            "text/plain": [
              "(68, 68, 68, 68, 68, 68, 68)"
            ]
          },
          "metadata": {
            "tags": []
          },
          "execution_count": 14
        }
      ]
    },
    {
      "cell_type": "code",
      "metadata": {
        "colab": {
          "base_uri": "https://localhost:8080/"
        },
        "id": "jWV3U1XIsPEe",
        "outputId": "26582a41-d913-4046-eb20-6da6daab1042"
      },
      "source": [
        "# combine all these into a single list of dictionaries\n",
        "book_dicts = []\n",
        "for i in range(0, len(all_texts)):\n",
        "  book_dict = {}\n",
        "  book_dict['author'] = author_list[i].title()\n",
        "  book_dict['title'] = title_list[i].title()\n",
        "  book_dict['text'] = all_texts[i]\n",
        "  book_dict['school'] = school_list[i]\n",
        "  book_dict['words to remove'] = to_rm_list[i]\n",
        "  book_dict['remove capitals'] = True\n",
        "  book_dict['bracketed fn'] = False\n",
        "  book_dict['publication date'] = publication_dates[i]\n",
        "  book_dict['original date'] = original_dates[i]\n",
        "  book_dicts.append(book_dict)\n",
        "\n",
        "# mark the ones with bracketed footnotes \n",
        "for book in book_dicts:\n",
        "  if book['title'] in bracketed_fn:\n",
        "    book['bracketed fn'] = True\n",
        "\n",
        "# mark the ones with capitals we want to keep\n",
        "for book in book_dicts:\n",
        "  if book['title'] in do_not_remove_capitals:\n",
        "    book['remove capitals'] = False\n",
        "  \n",
        "# check length again to make sure\n",
        "len(book_dicts)"
      ],
      "execution_count": null,
      "outputs": [
        {
          "output_type": "execute_result",
          "data": {
            "text/plain": [
              "68"
            ]
          },
          "metadata": {
            "tags": []
          },
          "execution_count": 15
        }
      ]
    },
    {
      "cell_type": "code",
      "metadata": {
        "id": "ZMeasklebK9Y"
      },
      "source": [
        "# use this cell to build a single text dict if you are just adding a single new text\n"
      ],
      "execution_count": null,
      "outputs": []
    },
    {
      "cell_type": "markdown",
      "metadata": {
        "id": "Old9KJCnMSLo"
      },
      "source": [
        "With a dictionary for each text, we are prepared to clean them, build dataframes for each text, and combine them into a master dataframe for all our data. \n",
        "\n",
        "As part of that, we use a new dictionary where the keys correspond to textual oddities and the values correspond to their corrected version. This helps deal with many individual cases of strange behavior in the corpus."
      ]
    },
    {
      "cell_type": "code",
      "metadata": {
        "id": "Xe_GUeVisQ7C"
      },
      "source": [
        "#@title Oddities Dictionary for Cleaning\n",
        "# a dictionary of oddities to clean up\n",
        "odd_words_dict = {'\\sderstanding': 'derstanding',\n",
        "                  '\\sditference\\s': ' difference ',\n",
        "                  '\\sforthe\\s': ' for the ',\n",
        "                  '\\sject': 'ject',\n",
        "                  '\\sSure ly\\s': ' Surely ',\n",
        "                  '\\spiness': 'piness',\n",
        "                  '\\sjects': 'jects', \n",
        "                  '\\sness': 'ness',\n",
        "                  '\\schil dren\\s': ' children ',\n",
        "                  '\\sper\\scent\\s': ' percent ',\n",
        "                  '\\sper\\scent\\.': ' percent.',\n",
        "                  '\\sper\\scent,': ' percent,',\n",
        "                  '\\wi\\son': 'ion',\n",
        "                  '\\spri\\sori': ' priori',\n",
        "                  '\\stences\\s': 'tences ',\n",
        "                  '\\sprincipleb': ' principle',\n",
        "                  '\\ssciousness': 'sciousness',\n",
        "                  '\\stion': 'tion',\n",
        "                  '\\spri\\s': ' pri',\n",
        "                  '\\scluding': 'cluding',\n",
        "                  '\\sdom': 'dom',\n",
        "                  '\\sers': 'ers',\n",
        "                  '\\scritiq\\s': ' critique ',\n",
        "                  '\\ssensati\\s': ' sensation ',\n",
        "                  '(?i)\\syou\\sll': \" you'll\",\n",
        "                  '\\sI\\sll': \" I'll\",\n",
        "                  '(?i)\\swe\\sll': \" we'll\",\n",
        "                  '(?i)he\\sll': \" he'll\",\n",
        "                  '(?i)who\\sll': \"who'll\",\n",
        "                  '(?i)\\sthere\\sll\\s': \" there'll \",\n",
        "                  '\\seduca\\s': ' education ',\n",
        "                  '\\slity\\s': 'lity ',\n",
        "                  '\\smultaneously\\s': 'multaneously ',\n",
        "                  '\\stically\\s': 'tically ',\n",
        "                  '\\sDa\\ssein\\s': ' Dasein ',\n",
        "                  '(?i)\\sthey\\sll\\s': \" they'll \",\n",
        "                  '(?i)\\sin\\tum\\s': ' in turn ',\n",
        "                  '\\scon~\\s': ' con',\n",
        "                  '\\sà\\s': ' a ',\n",
        "                  '\\sjor\\s': ' for ',\n",
        "                  '\\sluminating\\s': 'luminating ',\n",
        "                  '\\sselj\\s': ' self ',\n",
        "                  '\\stial\\s': 'tial ',\n",
        "                  '\\sversal\\s': 'versal ',\n",
        "                  '\\sexis\\st': ' exist',\n",
        "                  '\\splauded\\s': 'plauded ',\n",
        "                  '\\suiry\\s': 'uiry ',\n",
        "                  '\\svithin\\s': ' within ',\n",
        "                  '\\soj\\s': ' of ',\n",
        "                  '\\sposi\\st': ' posit',\n",
        "                  '\\sra\\sther\\s': ' rather ',\n",
        "                  '(?i)\\sthat\\sll\\s': \" that'll \",\n",
        "                  '(?i)\\sa\\sll\\s': ' all ',\n",
        "                  '\\so\\sther\\s': ' other ',\n",
        "                  '\\sra\\sther\\s': ' rather ',\n",
        "                  '\\snei\\sther\\s': ' neither ',\n",
        "                  '\\sei\\sther\\s': ' either ',\n",
        "                  '\\sfur\\sther\\s': ' further ',\n",
        "                  '\\sano\\sther': ' another ',\n",
        "                  '\\sneces\\s': ' neces',\n",
        "                  'u\\slar\\s': 'ular ',\n",
        "                  '\\sference\\s': 'ference ',\n",
        "                  '(?i)it\\sll\\s': \"it'll \",\n",
        "                  '\\stoge\\sther': ' together ',\n",
        "                  '\\sknowledgeb\\s': ' knowledge ',\n",
        "                  'r\\stain\\s': 'rtain ',\n",
        "                  'on\\stain\\s': 'ontain',\n",
        "                  '(?i)j\\sect\\s': 'ject',\n",
        "                  '\\sob\\sect\\s': ' object ',\n",
        "                  '\\sbtle\\s': 'btle ',\n",
        "                  '\\snition\\s': 'nition ',\n",
        "                  '\\sdering\\s': 'dering ', \n",
        "                  '\\sized\\s': 'ized ',\n",
        "                  '\\sther\\shand': ' other hand',\n",
        "                  '\\ture\\s': 'ture ',\n",
        "                  '\\sabso\\sl': ' absol',\n",
        "                  '\\stly\\s': 'tly ',\n",
        "                  '\\serty\\s': 'erty ',\n",
        "                  '\\sobj\\se': ' obj',\n",
        "                  '\\sffiir\\s': ' for ',\n",
        "                  '\\sndeed\\s': ' indeed ',\n",
        "                  '\\sfonn\\s': ' form ',\n",
        "                  '\\snally\\s': 'nally ',\n",
        "                  'ain\\sty\\s': 'ainty ',\n",
        "                  'ici\\sty\\s': 'icity ',\n",
        "                  '\\scog\\sni': ' cogni',\n",
        "                  '\\sacc\\s': ' acc',\n",
        "                  '\\sindi\\svid\\sual': ' individual', \n",
        "                  '\\sintu\\sit': ' intuit',\n",
        "                  'r\\sance\\s': 'rance ',\n",
        "                  '\\ssions\\s': 'sions ',\n",
        "                  '\\sances\\s': 'ances ',\n",
        "                  '\\sper\\sception\\s': ' perception ',\n",
        "                  '\\sse\\sries\\s': ' series ',\n",
        "                  '\\sque\\sries\\s': ' queries ',\n",
        "                  '\\sessary\\s': 'essary ',\n",
        "                  '\\sofa\\s': ' of a ',\n",
        "                  '\\scer\\stainty\\s': ' certainty ',\n",
        "                  'ec\\stivity\\s': 'ectivity ',\n",
        "                  '\\stivity\\s': 'tivity ',\n",
        "                  '\\slation\\s': 'lation ',\n",
        "                  '\\sir\\sr': ' irr',\n",
        "                  '\\ssub\\sstance\\s': ' substance ',\n",
        "                  'sec\\sond\\s': 'second ',\n",
        "                  '\\s\\.rv': '',\n",
        "                  '\\story\\s': 'tory ',\n",
        "                  '\\sture\\s': 'ture ',\n",
        "                  '\\sminate\\s': 'minate ',\n",
        "                  '\\sing\\s': 'ing ',\n",
        "                  '\\splicity\\s': 'plicity ',\n",
        "                  '\\ssimi\\slar\\s': ' similar ',\n",
        "                  '\\scom\\smunity\\s': ' community ',\n",
        "                  '\\sitselfa\\s': ' itself a ',\n",
        "                  '\\ssimp\\s': ' simply ',\n",
        "                  '\\scon\\stex': ' contex',\n",
        "                  '\\scon\\sseq': ' conseq',\n",
        "                  '\\scon\\stai': ' contai',\n",
        "                  '\\sofwhat\\s': ' of what ',\n",
        "                  '\\sui\\s': 'ui',\n",
        "                  '\\sofan\\s': ' of an ',\n",
        "                  '\\saccor\\sdance\\s': ' accordance ',\n",
        "                  '\\stranscen\\sdental\\s': ' transcendental ',\n",
        "                  '\\sap\\spearances\\s': ' appearances ',\n",
        "                  'e\\squences\\s': 'equences ',\n",
        "                  '\\sorits\\s': ' or its ',\n",
        "                  '\\simma\\sn': ' imman',\n",
        "                  '\\seq\\sua': ' equa',\n",
        "                  '\\simpl\\sied\\s': ' implied ',\n",
        "                  '\\sbuta\\s': ' but a ',\n",
        "                  '\\sa\\snd\\s': ' and ',\n",
        "                  '\\sence\\s': 'ence ',\n",
        "                  '\\stain\\s': 'tain ',\n",
        "                  '\\sunder\\sstanding\\s': ' understanding ',\n",
        "                  'i\\sence\\s': 'ience ',\n",
        "                  'r\\sence\\s': 'rence ',\n",
        "                  '\\stical\\s': 'tical ',\n",
        "                  '\\sobjectsb\\s': ' objects ',\n",
        "                  '\\stbe\\s': ' the ',\n",
        "                  '\\smul\\st': ' mult',\n",
        "                  '\\sgen\\seral\\s': ' general ',\n",
        "                  '\\suniver\\ssal\\s': ' universal ',\n",
        "                  '\\scon\\stent\\s': ' content ',\n",
        "                  '\\spar\\sticular\\s': ' particular ',\n",
        "                  'ver\\ssity\\s': 'versity ',\n",
        "                  '\\sCritiq\\s': ' Critique ',\n",
        "                  '\\sphilo\\ssophy\\s': ' philosophy ',\n",
        "                  '\\seq\\s': ' eq'}"
      ],
      "execution_count": null,
      "outputs": []
    },
    {
      "cell_type": "code",
      "metadata": {
        "id": "G_KZCE6YsYE7"
      },
      "source": [
        "# function for building the df for each school\n",
        "def from_raw_to_df(text_dict):\n",
        "  nlp.max_length = 9000000\n",
        "  text = text_dict['text']\n",
        "  text = remove_words(text, text_dict['words to remove'])\n",
        "  text = baseline_clean(text, capitals=text_dict['remove capitals'],\n",
        "                        bracketed_fn=text_dict['bracketed fn'],\n",
        "                        odd_words_dict=odd_words_dict)\n",
        "  text_nlp = nlp(text, disable=['ner'])\n",
        "  text_df = pd.DataFrame(columns=['title', 'author', 'school', 'sentence_spacy'])\n",
        "  text_df['sentence_spacy'] = list(text_nlp.sents)\n",
        "  text_df['author'] = text_dict['author']\n",
        "  text_df['title'] = text_dict['title']\n",
        "  text_df['school'] = text_dict['school']\n",
        "  text_df['original_publication_date'] = text_dict['original date']\n",
        "  text_df['corpus_edition_date'] = text_dict['publication date']\n",
        "  text_df['sentence_str'] = text_df['sentence_spacy'].apply(lambda x: ''.join(list(str(x))))\n",
        "  return text_df\n"
      ],
      "execution_count": null,
      "outputs": []
    },
    {
      "cell_type": "code",
      "metadata": {
        "id": "Gpk1QnbJb5TB",
        "colab": {
          "base_uri": "https://localhost:8080/"
        },
        "outputId": "82ffd02d-9160-4c1b-8279-bbc2dc9b1cfc"
      },
      "source": [
        "# build the df for each school and combine them\n",
        "df = pd.DataFrame(columns=['title', 'author', 'school', 'sentence_spacy', 'sentence_str'])\n",
        "for book in book_dicts:\n",
        "  book_df = from_raw_to_df(book)\n",
        "  df = df.append(book_df, ignore_index=True)\n",
        "\n",
        "len(df)"
      ],
      "execution_count": null,
      "outputs": [
        {
          "output_type": "execute_result",
          "data": {
            "text/plain": [
              "409875"
            ]
          },
          "metadata": {
            "tags": []
          },
          "execution_count": 19
        }
      ]
    },
    {
      "cell_type": "code",
      "metadata": {
        "colab": {
          "base_uri": "https://localhost:8080/",
          "height": 864
        },
        "id": "0rTa7P8KwXC6",
        "outputId": "04eb7bdf-7ae8-4e22-8af9-27e6cca1f5ea"
      },
      "source": [
        "pd.options.display.max_colwidth = 200\n",
        "df.sample(10)"
      ],
      "execution_count": null,
      "outputs": [
        {
          "output_type": "execute_result",
          "data": {
            "text/html": [
              "<div>\n",
              "<style scoped>\n",
              "    .dataframe tbody tr th:only-of-type {\n",
              "        vertical-align: middle;\n",
              "    }\n",
              "\n",
              "    .dataframe tbody tr th {\n",
              "        vertical-align: top;\n",
              "    }\n",
              "\n",
              "    .dataframe thead th {\n",
              "        text-align: right;\n",
              "    }\n",
              "</style>\n",
              "<table border=\"1\" class=\"dataframe\">\n",
              "  <thead>\n",
              "    <tr style=\"text-align: right;\">\n",
              "      <th></th>\n",
              "      <th>title</th>\n",
              "      <th>author</th>\n",
              "      <th>school</th>\n",
              "      <th>sentence_spacy</th>\n",
              "      <th>sentence_str</th>\n",
              "      <th>original_publication_date</th>\n",
              "      <th>corpus_edition_date</th>\n",
              "    </tr>\n",
              "  </thead>\n",
              "  <tbody>\n",
              "    <tr>\n",
              "      <th>300019</th>\n",
              "      <td>Science Of Logic</td>\n",
              "      <td>Hegel</td>\n",
              "      <td>german_idealism</td>\n",
              "      <td>(The, manner, of, the, appearance, of, this, unity, has, thereby, been, defined, .)</td>\n",
              "      <td>The manner of the appearance of this unity has thereby been defined.</td>\n",
              "      <td>1817.0</td>\n",
              "      <td>2010.0</td>\n",
              "    </tr>\n",
              "    <tr>\n",
              "      <th>383637</th>\n",
              "      <td>Women, Race, And Class</td>\n",
              "      <td>Davis</td>\n",
              "      <td>feminism</td>\n",
              "      <td>(And, talk, first, and, foremost, to, mine, animals, !)</td>\n",
              "      <td>And talk first and foremost to mine animals!</td>\n",
              "      <td>1981.0</td>\n",
              "      <td>1981.0</td>\n",
              "    </tr>\n",
              "    <tr>\n",
              "      <th>307686</th>\n",
              "      <td>Science Of Logic</td>\n",
              "      <td>Hegel</td>\n",
              "      <td>german_idealism</td>\n",
              "      <td>(,, it, is, at, the, same, time, the, unity, of, the, two, extremes, .)</td>\n",
              "      <td>, it is at the same time the unity of the two extremes.</td>\n",
              "      <td>1817.0</td>\n",
              "      <td>2010.0</td>\n",
              "    </tr>\n",
              "    <tr>\n",
              "      <th>85608</th>\n",
              "      <td>Aristotle - Complete Works</td>\n",
              "      <td>Aristotle</td>\n",
              "      <td>aristotle</td>\n",
              "      <td>(And, similarly, some, have, inferred, from, the, sensible, world, the, truth, of, appearances, .)</td>\n",
              "      <td>And similarly some have inferred from the sensible world the truth of appearances.</td>\n",
              "      <td>-320.0</td>\n",
              "      <td>1991.0</td>\n",
              "    </tr>\n",
              "    <tr>\n",
              "      <th>387249</th>\n",
              "      <td>Confessions</td>\n",
              "      <td>Augustine</td>\n",
              "      <td>scholasticism</td>\n",
              "      <td>(Is, it, surprising, ,, that, such, a, tasteless, being, should, rather, caress, this, dog, than, her, children, ?)</td>\n",
              "      <td>Is it surprising, that such a tasteless being should rather caress this dog than her children?</td>\n",
              "      <td>398.0</td>\n",
              "      <td>2002.0</td>\n",
              "    </tr>\n",
              "    <tr>\n",
              "      <th>347971</th>\n",
              "      <td>The Wealth Of Nations</td>\n",
              "      <td>Smith</td>\n",
              "      <td>capitalism</td>\n",
              "      <td>(The, acquisition, of, such, talents, ,, by, the, maintenance, of, the, acquirer, during, his, education, ,, study, ,, or, apprenticeship, ,, always, costs, a, real, expense, ,, which, is, a, capi...</td>\n",
              "      <td>The acquisition of such talents, by the maintenance of the acquirer during his education, study, or apprenticeship, always costs a real expense, which is a capital fixed and realized, as it were, ...</td>\n",
              "      <td>1776.0</td>\n",
              "      <td>2009.0</td>\n",
              "    </tr>\n",
              "    <tr>\n",
              "      <th>142041</th>\n",
              "      <td>The Search After Truth</td>\n",
              "      <td>Malebranche</td>\n",
              "      <td>rationalism</td>\n",
              "      <td>(For, their, ultimate, happiness, was, only, an, idea, ,, since, there, is, no, felicity, without, pleasure, and, they, did, not, enjoy, pleasure, in, genuinely, virtuous, actions, .)</td>\n",
              "      <td>For their ultimate happiness was only an idea, since there is no felicity without pleasure and they did not enjoy pleasure in genuinely virtuous actions.</td>\n",
              "      <td>1674.0</td>\n",
              "      <td>1997.0</td>\n",
              "    </tr>\n",
              "    <tr>\n",
              "      <th>86593</th>\n",
              "      <td>Aristotle - Complete Works</td>\n",
              "      <td>Aristotle</td>\n",
              "      <td>aristotle</td>\n",
              "      <td>(It, would, become, clear, ,, if, they, tried, ,, that, what, has, now, been, said, is, true, .)</td>\n",
              "      <td>It would become clear, if they tried, that what has now been said is true.</td>\n",
              "      <td>-320.0</td>\n",
              "      <td>1991.0</td>\n",
              "    </tr>\n",
              "    <tr>\n",
              "      <th>125027</th>\n",
              "      <td>Ethics</td>\n",
              "      <td>Spinoza</td>\n",
              "      <td>rationalism</td>\n",
              "      <td>(E.D., Note, I.)</td>\n",
              "      <td>E.D. Note I.</td>\n",
              "      <td>1677.0</td>\n",
              "      <td>2003.0</td>\n",
              "    </tr>\n",
              "    <tr>\n",
              "      <th>9427</th>\n",
              "      <td>Plato - Complete Works</td>\n",
              "      <td>Plato</td>\n",
              "      <td>plato</td>\n",
              "      <td>(But, it, is, established, as, agreed, between, us)</td>\n",
              "      <td>But it is established as agreed between us</td>\n",
              "      <td>-350.0</td>\n",
              "      <td>1997.0</td>\n",
              "    </tr>\n",
              "  </tbody>\n",
              "</table>\n",
              "</div>"
            ],
            "text/plain": [
              "                             title  ... corpus_edition_date\n",
              "300019            Science Of Logic  ...              2010.0\n",
              "383637      Women, Race, And Class  ...              1981.0\n",
              "307686            Science Of Logic  ...              2010.0\n",
              "85608   Aristotle - Complete Works  ...              1991.0\n",
              "387249                 Confessions  ...              2002.0\n",
              "347971       The Wealth Of Nations  ...              2009.0\n",
              "142041      The Search After Truth  ...              1997.0\n",
              "86593   Aristotle - Complete Works  ...              1991.0\n",
              "125027                      Ethics  ...              2003.0\n",
              "9427        Plato - Complete Works  ...              1997.0\n",
              "\n",
              "[10 rows x 7 columns]"
            ]
          },
          "metadata": {
            "tags": []
          },
          "execution_count": 20
        }
      ]
    },
    {
      "cell_type": "code",
      "metadata": {
        "colab": {
          "base_uri": "https://localhost:8080/"
        },
        "id": "EFFcGwHUwTKv",
        "outputId": "ebf70939-30d0-4df5-9a0f-adb21d029293"
      },
      "source": [
        "df['school'].value_counts(normalize=True)"
      ],
      "execution_count": null,
      "outputs": [
        {
          "output_type": "execute_result",
          "data": {
            "text/plain": [
              "analytic           0.148350\n",
              "aristotle          0.132062\n",
              "plato              0.117270\n",
              "german_idealism    0.116514\n",
              "continental        0.086353\n",
              "phenomenology      0.074415\n",
              "rationalism        0.064010\n",
              "empiricism         0.050972\n",
              "communism          0.050701\n",
              "scholasticism      0.047551\n",
              "capitalism         0.046329\n",
              "feminism           0.028479\n",
              "stoicism           0.019618\n",
              "nietzsche          0.017376\n",
              "Name: school, dtype: float64"
            ]
          },
          "metadata": {
            "tags": []
          },
          "execution_count": 21
        }
      ]
    },
    {
      "cell_type": "markdown",
      "metadata": {
        "id": "5KYPxjPCcYqi"
      },
      "source": [
        "While this works if you need to add everything, if you want to just add one text, use this one the dictionary you made. "
      ]
    },
    {
      "cell_type": "code",
      "metadata": {
        "colab": {
          "base_uri": "https://localhost:8080/"
        },
        "id": "SujsiUfnsfvU",
        "outputId": "5f5b0b99-dc2f-4445-b1bd-6f491115ba49"
      },
      "source": [
        "len(df)"
      ],
      "execution_count": null,
      "outputs": [
        {
          "output_type": "execute_result",
          "data": {
            "text/plain": [
              "409875"
            ]
          },
          "metadata": {
            "tags": []
          },
          "execution_count": 22
        }
      ]
    },
    {
      "cell_type": "markdown",
      "metadata": {
        "id": "xsIOtvZsMkdx"
      },
      "source": [
        "### Cleaning the Dataframe "
      ]
    },
    {
      "cell_type": "markdown",
      "metadata": {
        "id": "zuTIcCizMweb"
      },
      "source": [
        "But before the fun stuff, to ensure that we get good results, we need to clean the dataframe. This will take a few steps:\n",
        "1. Determine a threshold length and cut the (so-called) sentences that are shorter than that length (this will already eliminate meaningless duplicates like punctuations)\n",
        "2. Check for words that indicate footnotes (words like 'edition' or 'ibid'); we can then cut these sentences from the data\n",
        "3. Check for duplicates; there should be few if any duplicates in the dataframe for each school\n",
        "4. Check for words that indicate other languages so that we can eliminate quotations, citations, or other non-English sentences"
      ]
    },
    {
      "cell_type": "markdown",
      "metadata": {
        "id": "WI3KwHHVM8ck"
      },
      "source": [
        "#### 1. Deal with Short Sentences"
      ]
    },
    {
      "cell_type": "code",
      "metadata": {
        "colab": {
          "base_uri": "https://localhost:8080/",
          "height": 279
        },
        "id": "LLkVXKfIwcup",
        "outputId": "8540bfd4-68e3-47ba-faca-9a05f2a89576"
      },
      "source": [
        "df['sentence_length'] = df['sentence_str'].map(lambda x: len(x))\n",
        "num_of_short_entries = len(df[df['sentence_length'] < 20])\n",
        "print(f\"there are {num_of_short_entries} so-called sentences with fewer than 20 characters\")\n",
        "df[df['sentence_length'] < 20].sample(5)"
      ],
      "execution_count": null,
      "outputs": [
        {
          "output_type": "stream",
          "text": [
            "there are 32539 so-called sentences with fewer than 20 characters\n"
          ],
          "name": "stdout"
        },
        {
          "output_type": "execute_result",
          "data": {
            "text/html": [
              "<div>\n",
              "<style scoped>\n",
              "    .dataframe tbody tr th:only-of-type {\n",
              "        vertical-align: middle;\n",
              "    }\n",
              "\n",
              "    .dataframe tbody tr th {\n",
              "        vertical-align: top;\n",
              "    }\n",
              "\n",
              "    .dataframe thead th {\n",
              "        text-align: right;\n",
              "    }\n",
              "</style>\n",
              "<table border=\"1\" class=\"dataframe\">\n",
              "  <thead>\n",
              "    <tr style=\"text-align: right;\">\n",
              "      <th></th>\n",
              "      <th>title</th>\n",
              "      <th>author</th>\n",
              "      <th>school</th>\n",
              "      <th>sentence_spacy</th>\n",
              "      <th>sentence_str</th>\n",
              "      <th>original_publication_date</th>\n",
              "      <th>corpus_edition_date</th>\n",
              "      <th>sentence_length</th>\n",
              "    </tr>\n",
              "  </thead>\n",
              "  <tbody>\n",
              "    <tr>\n",
              "      <th>14653</th>\n",
              "      <td>Plato - Complete Works</td>\n",
              "      <td>Plato</td>\n",
              "      <td>plato</td>\n",
              "      <td>(')</td>\n",
              "      <td>'</td>\n",
              "      <td>-350.0</td>\n",
              "      <td>1997.0</td>\n",
              "      <td>1</td>\n",
              "    </tr>\n",
              "    <tr>\n",
              "      <th>146920</th>\n",
              "      <td>The Search After Truth</td>\n",
              "      <td>Malebranche</td>\n",
              "      <td>rationalism</td>\n",
              "      <td>(Sap, .)</td>\n",
              "      <td>Sap.</td>\n",
              "      <td>1674.0</td>\n",
              "      <td>1997.0</td>\n",
              "      <td>4</td>\n",
              "    </tr>\n",
              "    <tr>\n",
              "      <th>138361</th>\n",
              "      <td>The Search After Truth</td>\n",
              "      <td>Malebranche</td>\n",
              "      <td>rationalism</td>\n",
              "      <td>(Ill.)</td>\n",
              "      <td>Ill.</td>\n",
              "      <td>1674.0</td>\n",
              "      <td>1997.0</td>\n",
              "      <td>4</td>\n",
              "    </tr>\n",
              "    <tr>\n",
              "      <th>183608</th>\n",
              "      <td>Quintessence</td>\n",
              "      <td>Quine</td>\n",
              "      <td>analytic</td>\n",
              "      <td>(I, th, ink)</td>\n",
              "      <td>I th ink</td>\n",
              "      <td>1950.0</td>\n",
              "      <td>2004.0</td>\n",
              "      <td>8</td>\n",
              "    </tr>\n",
              "    <tr>\n",
              "      <th>147216</th>\n",
              "      <td>The Search After Truth</td>\n",
              "      <td>Malebranche</td>\n",
              "      <td>rationalism</td>\n",
              "      <td>(There, .)</td>\n",
              "      <td>There.</td>\n",
              "      <td>1674.0</td>\n",
              "      <td>1997.0</td>\n",
              "      <td>6</td>\n",
              "    </tr>\n",
              "  </tbody>\n",
              "</table>\n",
              "</div>"
            ],
            "text/plain": [
              "                         title  ... sentence_length\n",
              "14653   Plato - Complete Works  ...               1\n",
              "146920  The Search After Truth  ...               4\n",
              "138361  The Search After Truth  ...               4\n",
              "183608            Quintessence  ...               8\n",
              "147216  The Search After Truth  ...               6\n",
              "\n",
              "[5 rows x 8 columns]"
            ]
          },
          "metadata": {
            "tags": []
          },
          "execution_count": 23
        }
      ]
    },
    {
      "cell_type": "code",
      "metadata": {
        "colab": {
          "base_uri": "https://localhost:8080/"
        },
        "id": "2FOolcqOwcgz",
        "outputId": "e8ad2577-7ab3-4470-ee1b-2a2b12a88efb"
      },
      "source": [
        "df = df.drop(df[df['sentence_length'] < 20].index)\n",
        "len(df)"
      ],
      "execution_count": null,
      "outputs": [
        {
          "output_type": "execute_result",
          "data": {
            "text/plain": [
              "377336"
            ]
          },
          "metadata": {
            "tags": []
          },
          "execution_count": 24
        }
      ]
    },
    {
      "cell_type": "markdown",
      "metadata": {
        "id": "KaxL3byaM-RA"
      },
      "source": [
        "#### 2. Look at Words that Indicate Footnotes"
      ]
    },
    {
      "cell_type": "code",
      "metadata": {
        "colab": {
          "base_uri": "https://localhost:8080/"
        },
        "id": "SRM_W5p3wbkE",
        "outputId": "9a573973-edb5-4ffb-e781-53f41d977066"
      },
      "source": [
        "fn_words = ['ch\\.', 'bk', 'sect\\.', 'div\\.', 'cf', 'ibid', 'prop\\.', 'Q\\.E\\.D\\.',\n",
        "            'pt\\.', 'coroll\\.', 'cf\\.']\n",
        "\n",
        "df['sentence_lowered'] = df['sentence_str'].map(lambda x: x.lower())\n",
        "\n",
        "fn_df = pd.DataFrame()\n",
        "for word in fn_words:\n",
        "  found_word = df[df['sentence_lowered'].str.contains('\\s' + word.lower())].copy()\n",
        "  found_word['word'] = word\n",
        "  fn_df = fn_df.append(found_word)\n",
        "\n",
        "len(fn_df)"
      ],
      "execution_count": null,
      "outputs": [
        {
          "output_type": "execute_result",
          "data": {
            "text/plain": [
              "707"
            ]
          },
          "metadata": {
            "tags": []
          },
          "execution_count": 25
        }
      ]
    },
    {
      "cell_type": "code",
      "metadata": {
        "id": "PyjxVFLmwirp",
        "colab": {
          "base_uri": "https://localhost:8080/",
          "height": 887
        },
        "outputId": "3c72d265-c1b4-4061-f93a-bffd97e7e7eb"
      },
      "source": [
        "fn_df.sample(5)"
      ],
      "execution_count": null,
      "outputs": [
        {
          "output_type": "execute_result",
          "data": {
            "text/html": [
              "<div>\n",
              "<style scoped>\n",
              "    .dataframe tbody tr th:only-of-type {\n",
              "        vertical-align: middle;\n",
              "    }\n",
              "\n",
              "    .dataframe tbody tr th {\n",
              "        vertical-align: top;\n",
              "    }\n",
              "\n",
              "    .dataframe thead th {\n",
              "        text-align: right;\n",
              "    }\n",
              "</style>\n",
              "<table border=\"1\" class=\"dataframe\">\n",
              "  <thead>\n",
              "    <tr style=\"text-align: right;\">\n",
              "      <th></th>\n",
              "      <th>title</th>\n",
              "      <th>author</th>\n",
              "      <th>school</th>\n",
              "      <th>sentence_spacy</th>\n",
              "      <th>sentence_str</th>\n",
              "      <th>original_publication_date</th>\n",
              "      <th>corpus_edition_date</th>\n",
              "      <th>sentence_length</th>\n",
              "      <th>sentence_lowered</th>\n",
              "      <th>word</th>\n",
              "    </tr>\n",
              "  </thead>\n",
              "  <tbody>\n",
              "    <tr>\n",
              "      <th>123834</th>\n",
              "      <td>Ethics</td>\n",
              "      <td>Spinoza</td>\n",
              "      <td>rationalism</td>\n",
              "      <td>(a, mode, which, expresses, in, a, certain, manner, the, nature, of, God, ,, in, so, far, as, he, is, a, thinking, thing, ,, and, therefore, (, Part, ., ,, Prop, ., ), involves, the, conception, o...</td>\n",
              "      <td>a mode which expresses in a certain manner the nature of God, in so far as he is a thinking thing, and therefore (Part., Prop.) involves the conception of no other attribute of God, and consequent...</td>\n",
              "      <td>1677.0</td>\n",
              "      <td>2003.0</td>\n",
              "      <td>213</td>\n",
              "      <td>a mode which expresses in a certain manner the nature of god, in so far as he is a thinking thing, and therefore (part., prop.) involves the conception of no other attribute of god, and consequent...</td>\n",
              "      <td>prop\\.</td>\n",
              "    </tr>\n",
              "    <tr>\n",
              "      <th>171540</th>\n",
              "      <td>Lewis - Papers</td>\n",
              "      <td>Lewis</td>\n",
              "      <td>analytic</td>\n",
              "      <td>(It, is, hard, to, see, how, Ibid, .)</td>\n",
              "      <td>It is hard to see how Ibid.</td>\n",
              "      <td>1985.0</td>\n",
              "      <td>2008.0</td>\n",
              "      <td>27</td>\n",
              "      <td>it is hard to see how ibid.</td>\n",
              "      <td>ibid</td>\n",
              "    </tr>\n",
              "    <tr>\n",
              "      <th>278065</th>\n",
              "      <td>Critique Of Practical Reason</td>\n",
              "      <td>Kant</td>\n",
              "      <td>german_idealism</td>\n",
              "      <td>(Has, not, every, even, moderately, honest, man, sometimes, found, that, he, abstained, from, an, otherwise, harmless, lie, by, which, he, could, either, have, extricated, himself, from, an, irkso...</td>\n",
              "      <td>Has not every even moderately honest man sometimes found that he abstained from an otherwise harmless lie by which he could either have extricated himself from an irksome transaction or even procu...</td>\n",
              "      <td>1788.0</td>\n",
              "      <td>2002.0</td>\n",
              "      <td>259</td>\n",
              "      <td>has not every even moderately honest man sometimes found that he abstained from an otherwise harmless lie by which he could either have extricated himself from an irksome transaction or even procu...</td>\n",
              "      <td>cf</td>\n",
              "    </tr>\n",
              "    <tr>\n",
              "      <th>148105</th>\n",
              "      <td>The Search After Truth</td>\n",
              "      <td>Malebranche</td>\n",
              "      <td>rationalism</td>\n",
              "      <td>(We, must, say, Deut, ., ch, .)</td>\n",
              "      <td>We must say Deut. ch.</td>\n",
              "      <td>1674.0</td>\n",
              "      <td>1997.0</td>\n",
              "      <td>21</td>\n",
              "      <td>we must say deut. ch.</td>\n",
              "      <td>ch\\.</td>\n",
              "    </tr>\n",
              "    <tr>\n",
              "      <th>306939</th>\n",
              "      <td>Science Of Logic</td>\n",
              "      <td>Hegel</td>\n",
              "      <td>german_idealism</td>\n",
              "      <td>(Inasmuch, as, judgment, is, the, concept, as, determinate, ,, the, only, Cf, .)</td>\n",
              "      <td>Inasmuch as judgment is the concept as determinate, the only Cf.</td>\n",
              "      <td>1817.0</td>\n",
              "      <td>2010.0</td>\n",
              "      <td>64</td>\n",
              "      <td>inasmuch as judgment is the concept as determinate, the only cf.</td>\n",
              "      <td>cf</td>\n",
              "    </tr>\n",
              "  </tbody>\n",
              "</table>\n",
              "</div>"
            ],
            "text/plain": [
              "                               title  ...    word\n",
              "123834                        Ethics  ...  prop\\.\n",
              "171540                Lewis - Papers  ...    ibid\n",
              "278065  Critique Of Practical Reason  ...      cf\n",
              "148105        The Search After Truth  ...    ch\\.\n",
              "306939              Science Of Logic  ...      cf\n",
              "\n",
              "[5 rows x 10 columns]"
            ]
          },
          "metadata": {
            "tags": []
          },
          "execution_count": 26
        }
      ]
    },
    {
      "cell_type": "markdown",
      "metadata": {
        "id": "MqiX6cbVNDPw"
      },
      "source": [
        "Unfortunately, there was too much noise and too many differences in how the sentences were tokenized, so this kind of cleaning did not prove useful. As can be seen above, many of the relevant terms were used in meaningful sentences attributable to the correct authors. \n",
        "\n",
        "We were able to tell that 'bk.' was almost never used productively, so we cut that. For others, this was instructive in helping us clean the text and making revisions to the baseline cleaning function."
      ]
    },
    {
      "cell_type": "code",
      "metadata": {
        "colab": {
          "base_uri": "https://localhost:8080/"
        },
        "id": "y2NY8j7Ewj1Q",
        "outputId": "6ab8ad87-2ada-49ce-c4dc-a2db63b9d030"
      },
      "source": [
        "df = df.drop(df[df['sentence_lowered'].str.contains('\\s+bk'.lower())].index)\n",
        "\n",
        "len(df)"
      ],
      "execution_count": null,
      "outputs": [
        {
          "output_type": "execute_result",
          "data": {
            "text/plain": [
              "377314"
            ]
          },
          "metadata": {
            "tags": []
          },
          "execution_count": 27
        }
      ]
    },
    {
      "cell_type": "markdown",
      "metadata": {
        "id": "MEqfL_K_NE7C"
      },
      "source": [
        "#### 3. Look at cases of Self-Mention by Authors"
      ]
    },
    {
      "cell_type": "code",
      "metadata": {
        "colab": {
          "base_uri": "https://localhost:8080/"
        },
        "id": "S7fhKsiFwj8K",
        "outputId": "5626d636-6458-4380-f962-2ff3583bda7f"
      },
      "source": [
        "self_mention_df = pd.DataFrame()\n",
        "for author in df['author'].unique():\n",
        "  self_mention_slice = df[(df['author'] == author) & \n",
        "                          (df['sentence_lowered'].str.contains('\\s'+author.lower()))].copy()\n",
        "  self_mention_df = self_mention_df.append(self_mention_slice)\n",
        "\n",
        "len(self_mention_df)"
      ],
      "execution_count": null,
      "outputs": [
        {
          "output_type": "execute_result",
          "data": {
            "text/plain": [
              "859"
            ]
          },
          "metadata": {
            "tags": []
          },
          "execution_count": 28
        }
      ]
    },
    {
      "cell_type": "code",
      "metadata": {
        "id": "0GFzGEz_wkFt",
        "colab": {
          "base_uri": "https://localhost:8080/",
          "height": 837
        },
        "outputId": "7623d577-7e66-4a6e-976b-000550c2b154"
      },
      "source": [
        "self_mention_df.sample(5)"
      ],
      "execution_count": null,
      "outputs": [
        {
          "output_type": "execute_result",
          "data": {
            "text/html": [
              "<div>\n",
              "<style scoped>\n",
              "    .dataframe tbody tr th:only-of-type {\n",
              "        vertical-align: middle;\n",
              "    }\n",
              "\n",
              "    .dataframe tbody tr th {\n",
              "        vertical-align: top;\n",
              "    }\n",
              "\n",
              "    .dataframe thead th {\n",
              "        text-align: right;\n",
              "    }\n",
              "</style>\n",
              "<table border=\"1\" class=\"dataframe\">\n",
              "  <thead>\n",
              "    <tr style=\"text-align: right;\">\n",
              "      <th></th>\n",
              "      <th>title</th>\n",
              "      <th>author</th>\n",
              "      <th>school</th>\n",
              "      <th>sentence_spacy</th>\n",
              "      <th>sentence_str</th>\n",
              "      <th>original_publication_date</th>\n",
              "      <th>corpus_edition_date</th>\n",
              "      <th>sentence_length</th>\n",
              "      <th>sentence_lowered</th>\n",
              "    </tr>\n",
              "  </thead>\n",
              "  <tbody>\n",
              "    <tr>\n",
              "      <th>288019</th>\n",
              "      <td>Critique Of Pure Reason</td>\n",
              "      <td>Kant</td>\n",
              "      <td>german_idealism</td>\n",
              "      <td>((, E., Added, in, Kant, 's, copy, of, the, first, edition, :)</td>\n",
              "      <td>(E. Added in Kant's copy of the first edition:</td>\n",
              "      <td>1781.0</td>\n",
              "      <td>1998.0</td>\n",
              "      <td>46</td>\n",
              "      <td>(e. added in kant's copy of the first edition:</td>\n",
              "    </tr>\n",
              "    <tr>\n",
              "      <th>308407</th>\n",
              "      <td>Science Of Logic</td>\n",
              "      <td>Hegel</td>\n",
              "      <td>german_idealism</td>\n",
              "      <td>(One, would, expect, Hegel, to, say, the, opposite, ,, namely, that, the, meteorological, relation, already, is, more, chemical, than, physical, .)</td>\n",
              "      <td>One would expect Hegel to say the opposite, namely that the meteorological relation already is more chemical than physical.</td>\n",
              "      <td>1817.0</td>\n",
              "      <td>2010.0</td>\n",
              "      <td>123</td>\n",
              "      <td>one would expect hegel to say the opposite, namely that the meteorological relation already is more chemical than physical.</td>\n",
              "    </tr>\n",
              "    <tr>\n",
              "      <th>305403</th>\n",
              "      <td>Science Of Logic</td>\n",
              "      <td>Hegel</td>\n",
              "      <td>german_idealism</td>\n",
              "      <td>(But, a, part, ,, thus, Hegel, is, referring, to, the, edition, (, cf, .)</td>\n",
              "      <td>But a part, thus Hegel is referring to the edition (cf.</td>\n",
              "      <td>1817.0</td>\n",
              "      <td>2010.0</td>\n",
              "      <td>55</td>\n",
              "      <td>but a part, thus hegel is referring to the edition (cf.</td>\n",
              "    </tr>\n",
              "    <tr>\n",
              "      <th>15679</th>\n",
              "      <td>Plato - Complete Works</td>\n",
              "      <td>Plato</td>\n",
              "      <td>plato</td>\n",
              "      <td>(Polus, was, a, pupil, of, Gorgias, ;, Plato, represents, him, in, the, Gorgias, ,, esp, .)</td>\n",
              "      <td>Polus was a pupil of Gorgias; Plato represents him in the Gorgias, esp.</td>\n",
              "      <td>-350.0</td>\n",
              "      <td>1997.0</td>\n",
              "      <td>71</td>\n",
              "      <td>polus was a pupil of gorgias; plato represents him in the gorgias, esp.</td>\n",
              "    </tr>\n",
              "    <tr>\n",
              "      <th>28809</th>\n",
              "      <td>Plato - Complete Works</td>\n",
              "      <td>Plato</td>\n",
              "      <td>plato</td>\n",
              "      <td>(All, the, others, present, ,, a, considerable, company, ,, represent, historical, personages, :, among, them, were, the, noted, sophist, and, teacher, of, oratory, ,, Thrasymachus, ,, and, Glauco...</td>\n",
              "      <td>All the others present, a considerable company, represent historical personages: among them were the noted sophist and teacher of oratory, Thrasymachus, and Glaucon and Adeimantus, Plato's brothers.</td>\n",
              "      <td>-350.0</td>\n",
              "      <td>1997.0</td>\n",
              "      <td>198</td>\n",
              "      <td>all the others present, a considerable company, represent historical personages: among them were the noted sophist and teacher of oratory, thrasymachus, and glaucon and adeimantus, plato's brothers.</td>\n",
              "    </tr>\n",
              "  </tbody>\n",
              "</table>\n",
              "</div>"
            ],
            "text/plain": [
              "                          title  ...                                                                                                                                                                                        sentence_lowered\n",
              "288019  Critique Of Pure Reason  ...                                                                                                                                                          (e. added in kant's copy of the first edition:\n",
              "308407         Science Of Logic  ...                                                                             one would expect hegel to say the opposite, namely that the meteorological relation already is more chemical than physical.\n",
              "305403         Science Of Logic  ...                                                                                                                                                 but a part, thus hegel is referring to the edition (cf.\n",
              "15679    Plato - Complete Works  ...                                                                                                                                 polus was a pupil of gorgias; plato represents him in the gorgias, esp.\n",
              "28809    Plato - Complete Works  ...  all the others present, a considerable company, represent historical personages: among them were the noted sophist and teacher of oratory, thrasymachus, and glaucon and adeimantus, plato's brothers.\n",
              "\n",
              "[5 rows x 9 columns]"
            ]
          },
          "metadata": {
            "tags": []
          },
          "execution_count": 29
        }
      ]
    },
    {
      "cell_type": "code",
      "metadata": {
        "colab": {
          "base_uri": "https://localhost:8080/"
        },
        "id": "9vxUnQkTwkNo",
        "outputId": "9e359eb1-c5f1-4f04-bc3e-d58315b9f7ec"
      },
      "source": [
        "for author in df['author'].unique():\n",
        "  df = df.drop(df[(df['author'] == author) & \n",
        "                  (df['sentence_lowered'].str.contains('\\s'+author.lower()))].index)\n",
        "\n",
        "len(df)"
      ],
      "execution_count": null,
      "outputs": [
        {
          "output_type": "execute_result",
          "data": {
            "text/plain": [
              "376455"
            ]
          },
          "metadata": {
            "tags": []
          },
          "execution_count": 30
        }
      ]
    },
    {
      "cell_type": "markdown",
      "metadata": {
        "id": "uMxaZemLNKeH"
      },
      "source": [
        "#### 4. Deal with Duplicates"
      ]
    },
    {
      "cell_type": "code",
      "metadata": {
        "colab": {
          "base_uri": "https://localhost:8080/"
        },
        "id": "QzOcjqfYwkU4",
        "outputId": "a6dad8b7-d151-4719-fa2b-93aaa11d51cb"
      },
      "source": [
        "# find the total number of duplicates\n",
        "len(df['sentence_str'])-len(df['sentence_str'].drop_duplicates())"
      ],
      "execution_count": null,
      "outputs": [
        {
          "output_type": "execute_result",
          "data": {
            "text/plain": [
              "4949"
            ]
          },
          "metadata": {
            "tags": []
          },
          "execution_count": 31
        }
      ]
    },
    {
      "cell_type": "code",
      "metadata": {
        "colab": {
          "base_uri": "https://localhost:8080/"
        },
        "id": "AtY8ZrQawvZC",
        "outputId": "d1ef7d60-5435-403b-b0ce-afa0c7342930"
      },
      "source": [
        "# get the number of duplicates in each school\n",
        "for school in df['school'].unique():\n",
        "  print(school)\n",
        "  print(len(df.loc[df['school'] == school]['sentence_str']) - \n",
        "        len(df.loc[df['school'] == school]['sentence_str'].drop_duplicates()))"
      ],
      "execution_count": null,
      "outputs": [
        {
          "output_type": "stream",
          "text": [
            "plato\n",
            "291\n",
            "aristotle\n",
            "3351\n",
            "empiricism\n",
            "14\n",
            "rationalism\n",
            "39\n",
            "analytic\n",
            "295\n",
            "continental\n",
            "97\n",
            "phenomenology\n",
            "87\n",
            "german_idealism\n",
            "287\n",
            "communism\n",
            "84\n",
            "capitalism\n",
            "92\n",
            "stoicism\n",
            "40\n",
            "nietzsche\n",
            "0\n",
            "feminism\n",
            "129\n",
            "scholasticism\n",
            "43\n"
          ],
          "name": "stdout"
        }
      ]
    },
    {
      "cell_type": "code",
      "metadata": {
        "id": "juwoWPstwvgf",
        "colab": {
          "base_uri": "https://localhost:8080/",
          "height": 669
        },
        "outputId": "1cfb8dcf-ea8b-4bf5-80a2-ac91c18a78eb"
      },
      "source": [
        "doubles_df = pd.concat(g for _, g in df.groupby(\"sentence_str\") if len(g) > 1)\n",
        "doubles_df.sample(5)"
      ],
      "execution_count": null,
      "outputs": [
        {
          "output_type": "execute_result",
          "data": {
            "text/html": [
              "<div>\n",
              "<style scoped>\n",
              "    .dataframe tbody tr th:only-of-type {\n",
              "        vertical-align: middle;\n",
              "    }\n",
              "\n",
              "    .dataframe tbody tr th {\n",
              "        vertical-align: top;\n",
              "    }\n",
              "\n",
              "    .dataframe thead th {\n",
              "        text-align: right;\n",
              "    }\n",
              "</style>\n",
              "<table border=\"1\" class=\"dataframe\">\n",
              "  <thead>\n",
              "    <tr style=\"text-align: right;\">\n",
              "      <th></th>\n",
              "      <th>title</th>\n",
              "      <th>author</th>\n",
              "      <th>school</th>\n",
              "      <th>sentence_spacy</th>\n",
              "      <th>sentence_str</th>\n",
              "      <th>original_publication_date</th>\n",
              "      <th>corpus_edition_date</th>\n",
              "      <th>sentence_length</th>\n",
              "      <th>sentence_lowered</th>\n",
              "    </tr>\n",
              "  </thead>\n",
              "  <tbody>\n",
              "    <tr>\n",
              "      <th>102485</th>\n",
              "      <td>Second Treatise On Government</td>\n",
              "      <td>Locke</td>\n",
              "      <td>empiricism</td>\n",
              "      <td>(What, made, him, free, of, that, law, ?)</td>\n",
              "      <td>What made him free of that law?</td>\n",
              "      <td>1689.0</td>\n",
              "      <td>2010.0</td>\n",
              "      <td>31</td>\n",
              "      <td>what made him free of that law?</td>\n",
              "    </tr>\n",
              "    <tr>\n",
              "      <th>92769</th>\n",
              "      <td>Aristotle - Complete Works</td>\n",
              "      <td>Aristotle</td>\n",
              "      <td>aristotle</td>\n",
              "      <td>(The, Complete, Works, of, Electronic, markup, by, Jamie, .)</td>\n",
              "      <td>The Complete Works of Electronic markup by Jamie.</td>\n",
              "      <td>-320.0</td>\n",
              "      <td>1991.0</td>\n",
              "      <td>49</td>\n",
              "      <td>the complete works of electronic markup by jamie.</td>\n",
              "    </tr>\n",
              "    <tr>\n",
              "      <th>382905</th>\n",
              "      <td>Women, Race, And Class</td>\n",
              "      <td>Davis</td>\n",
              "      <td>feminism</td>\n",
              "      <td>(Oh, ,, how, could, I, not, be, ardent, for, Eternity, ,, and, for, the, marriage, ring, of, rings, the, ring, of, the, return, ?)</td>\n",
              "      <td>Oh, how could I not be ardent for Eternity, and for the marriage ring of rings the ring of the return?</td>\n",
              "      <td>1981.0</td>\n",
              "      <td>1981.0</td>\n",
              "      <td>102</td>\n",
              "      <td>oh, how could i not be ardent for eternity, and for the marriage ring of rings the ring of the return?</td>\n",
              "    </tr>\n",
              "    <tr>\n",
              "      <th>7185</th>\n",
              "      <td>Plato - Complete Works</td>\n",
              "      <td>Plato</td>\n",
              "      <td>plato</td>\n",
              "      <td>(That, 's, what, we, have, to, do, .)</td>\n",
              "      <td>That's what we have to do.</td>\n",
              "      <td>-350.0</td>\n",
              "      <td>1997.0</td>\n",
              "      <td>26</td>\n",
              "      <td>that's what we have to do.</td>\n",
              "    </tr>\n",
              "    <tr>\n",
              "      <th>317896</th>\n",
              "      <td>Elements Of The Philosophy Of Right</td>\n",
              "      <td>Hegel</td>\n",
              "      <td>german_idealism</td>\n",
              "      <td>(it, is, primarily, a, statement, of, the, true, and, lasting, principle, which, must, underlie, the, justification, of, anything, whose, impact, is, merely, positive, ., ')</td>\n",
              "      <td>it is primarily a statement of the true and lasting principle which must underlie the justification of anything whose impact is merely positive. '</td>\n",
              "      <td>1820.0</td>\n",
              "      <td>1991.0</td>\n",
              "      <td>146</td>\n",
              "      <td>it is primarily a statement of the true and lasting principle which must underlie the justification of anything whose impact is merely positive. '</td>\n",
              "    </tr>\n",
              "  </tbody>\n",
              "</table>\n",
              "</div>"
            ],
            "text/plain": [
              "                                      title  ...                                                                                                                                    sentence_lowered\n",
              "102485        Second Treatise On Government  ...                                                                                                                     what made him free of that law?\n",
              "92769            Aristotle - Complete Works  ...                                                                                                   the complete works of electronic markup by jamie.\n",
              "382905               Women, Race, And Class  ...                                              oh, how could i not be ardent for eternity, and for the marriage ring of rings the ring of the return?\n",
              "7185                 Plato - Complete Works  ...                                                                                                                          that's what we have to do.\n",
              "317896  Elements Of The Philosophy Of Right  ...  it is primarily a statement of the true and lasting principle which must underlie the justification of anything whose impact is merely positive. '\n",
              "\n",
              "[5 rows x 9 columns]"
            ]
          },
          "metadata": {
            "tags": []
          },
          "execution_count": 33
        }
      ]
    },
    {
      "cell_type": "markdown",
      "metadata": {
        "id": "83xx0eHWNOX3"
      },
      "source": [
        "From this it is clear that many of these duplicates are notes, meaninglessly short, or else headings that somehow escaped earlier efforts. Oddly, an enormous number of Aristotle's sentences seem to be doubled. Looking at the doubled sentences, this appears to be because similar notes were made in both of the two volumes of the text. \n",
        "\n",
        "Let's eliminate the aristotle doubles first, then take another look to see what the others are like. "
      ]
    },
    {
      "cell_type": "code",
      "metadata": {
        "id": "71OS1WlbwvqV",
        "colab": {
          "base_uri": "https://localhost:8080/"
        },
        "outputId": "d88b7630-9db6-4f42-f72b-6ad221587342"
      },
      "source": [
        "len(doubles_df[doubles_df['author'] != 'Aristotle'])"
      ],
      "execution_count": null,
      "outputs": [
        {
          "output_type": "execute_result",
          "data": {
            "text/plain": [
              "2595"
            ]
          },
          "metadata": {
            "tags": []
          },
          "execution_count": 34
        }
      ]
    },
    {
      "cell_type": "code",
      "metadata": {
        "id": "kotnwwvFwvy1",
        "colab": {
          "base_uri": "https://localhost:8080/",
          "height": 1000
        },
        "outputId": "4b915e6f-a004-4ff2-e6a9-1498c483044b"
      },
      "source": [
        "doubles_df[doubles_df['author'] != 'Aristole'].sample(5)"
      ],
      "execution_count": null,
      "outputs": [
        {
          "output_type": "execute_result",
          "data": {
            "text/html": [
              "<div>\n",
              "<style scoped>\n",
              "    .dataframe tbody tr th:only-of-type {\n",
              "        vertical-align: middle;\n",
              "    }\n",
              "\n",
              "    .dataframe tbody tr th {\n",
              "        vertical-align: top;\n",
              "    }\n",
              "\n",
              "    .dataframe thead th {\n",
              "        text-align: right;\n",
              "    }\n",
              "</style>\n",
              "<table border=\"1\" class=\"dataframe\">\n",
              "  <thead>\n",
              "    <tr style=\"text-align: right;\">\n",
              "      <th></th>\n",
              "      <th>title</th>\n",
              "      <th>author</th>\n",
              "      <th>school</th>\n",
              "      <th>sentence_spacy</th>\n",
              "      <th>sentence_str</th>\n",
              "      <th>original_publication_date</th>\n",
              "      <th>corpus_edition_date</th>\n",
              "      <th>sentence_length</th>\n",
              "      <th>sentence_lowered</th>\n",
              "    </tr>\n",
              "  </thead>\n",
              "  <tbody>\n",
              "    <tr>\n",
              "      <th>350713</th>\n",
              "      <td>The Wealth Of Nations</td>\n",
              "      <td>Smith</td>\n",
              "      <td>capitalism</td>\n",
              "      <td>(In, years, of, scarcity, ,, though, the, bounty, is, frequently, suspended, ,, yet, the, great, exportation, which, it, occasions, in, years, of, plenty, ,, must, frequently, hinder, ,, more, or,...</td>\n",
              "      <td>In years of scarcity, though the bounty is frequently suspended, yet the great exportation which it occasions in years of plenty, must frequently hinder, more or less, the plenty of one year from ...</td>\n",
              "      <td>1776.0</td>\n",
              "      <td>2009.0</td>\n",
              "      <td>230</td>\n",
              "      <td>in years of scarcity, though the bounty is frequently suspended, yet the great exportation which it occasions in years of plenty, must frequently hinder, more or less, the plenty of one year from ...</td>\n",
              "    </tr>\n",
              "    <tr>\n",
              "      <th>83953</th>\n",
              "      <td>Aristotle - Complete Works</td>\n",
              "      <td>Aristotle</td>\n",
              "      <td>aristotle</td>\n",
              "      <td>(A, single, asterisk, against, the, title, of, a, work, indicates, that, its, authenticity, has, been, seriously, doubted, ;, a, pair, of, asterisks, indicates, that, its, spuriousness, has, never...</td>\n",
              "      <td>A single asterisk against the title of a work indicates that its authenticity has been seriously doubted; a pair of asterisks indicates that its spuriousness has never been seriously contested.</td>\n",
              "      <td>-320.0</td>\n",
              "      <td>1991.0</td>\n",
              "      <td>193</td>\n",
              "      <td>a single asterisk against the title of a work indicates that its authenticity has been seriously doubted; a pair of asterisks indicates that its spuriousness has never been seriously contested.</td>\n",
              "    </tr>\n",
              "    <tr>\n",
              "      <th>94341</th>\n",
              "      <td>Aristotle - Complete Works</td>\n",
              "      <td>Aristotle</td>\n",
              "      <td>aristotle</td>\n",
              "      <td>(In, the, United, Kingdom, :, Princeton, University, Press, ,, Oxford)</td>\n",
              "      <td>In the United Kingdom: Princeton University Press, Oxford</td>\n",
              "      <td>-320.0</td>\n",
              "      <td>1991.0</td>\n",
              "      <td>57</td>\n",
              "      <td>in the united kingdom: princeton university press, oxford</td>\n",
              "    </tr>\n",
              "    <tr>\n",
              "      <th>382086</th>\n",
              "      <td>Women, Race, And Class</td>\n",
              "      <td>Davis</td>\n",
              "      <td>feminism</td>\n",
              "      <td>(Thus, spake, Zarathustra, .)</td>\n",
              "      <td>Thus spake Zarathustra.</td>\n",
              "      <td>1981.0</td>\n",
              "      <td>1981.0</td>\n",
              "      <td>23</td>\n",
              "      <td>thus spake zarathustra.</td>\n",
              "    </tr>\n",
              "    <tr>\n",
              "      <th>97841</th>\n",
              "      <td>Aristotle - Complete Works</td>\n",
              "      <td>Aristotle</td>\n",
              "      <td>aristotle</td>\n",
              "      <td>(Indeed, ,, the, translators, themselves, did, not, always, strive, for, uniformity, within, a, single, treatise, or, a, single, book, .)</td>\n",
              "      <td>Indeed, the translators themselves did not always strive for uniformity within a single treatise or a single book.</td>\n",
              "      <td>-320.0</td>\n",
              "      <td>1991.0</td>\n",
              "      <td>114</td>\n",
              "      <td>indeed, the translators themselves did not always strive for uniformity within a single treatise or a single book.</td>\n",
              "    </tr>\n",
              "  </tbody>\n",
              "</table>\n",
              "</div>"
            ],
            "text/plain": [
              "                             title  ...                                                                                                                                                                                         sentence_lowered\n",
              "350713       The Wealth Of Nations  ...  in years of scarcity, though the bounty is frequently suspended, yet the great exportation which it occasions in years of plenty, must frequently hinder, more or less, the plenty of one year from ...\n",
              "83953   Aristotle - Complete Works  ...        a single asterisk against the title of a work indicates that its authenticity has been seriously doubted; a pair of asterisks indicates that its spuriousness has never been seriously contested.\n",
              "94341   Aristotle - Complete Works  ...                                                                                                                                                in the united kingdom: princeton university press, oxford\n",
              "382086      Women, Race, And Class  ...                                                                                                                                                                                  thus spake zarathustra.\n",
              "97841   Aristotle - Complete Works  ...                                                                                       indeed, the translators themselves did not always strive for uniformity within a single treatise or a single book.\n",
              "\n",
              "[5 rows x 9 columns]"
            ]
          },
          "metadata": {
            "tags": []
          },
          "execution_count": 35
        }
      ]
    },
    {
      "cell_type": "markdown",
      "metadata": {
        "id": "rSzTX0yNNV-K"
      },
      "source": [
        "Deeper exploration of the duplicates reveals that Kant has a lot of doubles that seem to be authentically from his texts. Plato also has several duplicate sentences, but these are almost all short phrases from the dialogues ('of course, yes' and that kind of thing). \n",
        "\n",
        "To preserve the Kant, while also removing the irrelevant duplicates, we will remove both copies of all duplicates from texts other than the Kant's *Critique of Pure Reason*. For that text, we will remove the short duplicates and keep one copy of the longer ones, thus preserving the meaningful sentences. "
      ]
    },
    {
      "cell_type": "code",
      "metadata": {
        "id": "qe5D6a2qwv7f",
        "colab": {
          "base_uri": "https://localhost:8080/"
        },
        "outputId": "9f9096f9-f8ca-42ba-b91b-dbed137ea027"
      },
      "source": [
        "non_kant_indexes = df[(df['title'] != 'critique of pure reason') & \n",
        "                       (df['sentence_str'].duplicated(keep=False))].index\n",
        "kant_short_indexes = df[(df['title'] == 'critique of pure reason') &\n",
        "                        (df['sentence_str'].duplicated(keep=False)) &\n",
        "                        (df['sentence_length'] < 40)].index\n",
        "kant_long_indexes = df[(df['title'] == 'critique of pure reason') &\n",
        "                        (df['sentence_str'].duplicated(keep='first')) &\n",
        "                        (df['sentence_length'] >= 40)].index\n",
        "\n",
        "indexes_to_drop = [non_kant_indexes, kant_short_indexes, kant_long_indexes]\n",
        "for index in indexes_to_drop:\n",
        "  df = df.drop(index)\n",
        "\n",
        "len(df)"
      ],
      "execution_count": null,
      "outputs": [
        {
          "output_type": "execute_result",
          "data": {
            "text/plain": [
              "370306"
            ]
          },
          "metadata": {
            "tags": []
          },
          "execution_count": 36
        }
      ]
    },
    {
      "cell_type": "markdown",
      "metadata": {
        "id": "kcdlnijMNaMA"
      },
      "source": [
        "#### Check for Foreign-Language Sentences"
      ]
    },
    {
      "cell_type": "code",
      "metadata": {
        "colab": {
          "base_uri": "https://localhost:8080/"
        },
        "id": "JXUfIsqkwwOY",
        "outputId": "e4182e78-3557-4d24-e556-88a3e92600ad"
      },
      "source": [
        "# checking for 'der', a common article in German\n",
        "len((df[df['sentence_str'].str.contains('\\sder\\s')]))"
      ],
      "execution_count": null,
      "outputs": [
        {
          "output_type": "execute_result",
          "data": {
            "text/plain": [
              "319"
            ]
          },
          "metadata": {
            "tags": []
          },
          "execution_count": 37
        }
      ]
    },
    {
      "cell_type": "code",
      "metadata": {
        "colab": {
          "base_uri": "https://localhost:8080/"
        },
        "id": "Sds3G-P8w-KH",
        "outputId": "e3e818ac-2818-40c7-e430-1d6990adcb55"
      },
      "source": [
        "df = df.drop(df[df['sentence_str'].str.contains('\\sder\\s')].index)\n",
        "\n",
        "len(df)"
      ],
      "execution_count": null,
      "outputs": [
        {
          "output_type": "execute_result",
          "data": {
            "text/plain": [
              "369987"
            ]
          },
          "metadata": {
            "tags": []
          },
          "execution_count": 38
        }
      ]
    },
    {
      "cell_type": "code",
      "metadata": {
        "id": "nsz9L0qCw-UM",
        "colab": {
          "base_uri": "https://localhost:8080/",
          "height": 1000
        },
        "outputId": "7362c8f4-8ae1-416c-eae1-ee657d7ba5c5"
      },
      "source": [
        "# checking for 'il', a common article in French\n",
        "df[df['sentence_str'].str.contains('\\sil\\s')]"
      ],
      "execution_count": null,
      "outputs": [
        {
          "output_type": "execute_result",
          "data": {
            "text/html": [
              "<div>\n",
              "<style scoped>\n",
              "    .dataframe tbody tr th:only-of-type {\n",
              "        vertical-align: middle;\n",
              "    }\n",
              "\n",
              "    .dataframe tbody tr th {\n",
              "        vertical-align: top;\n",
              "    }\n",
              "\n",
              "    .dataframe thead th {\n",
              "        text-align: right;\n",
              "    }\n",
              "</style>\n",
              "<table border=\"1\" class=\"dataframe\">\n",
              "  <thead>\n",
              "    <tr style=\"text-align: right;\">\n",
              "      <th></th>\n",
              "      <th>title</th>\n",
              "      <th>author</th>\n",
              "      <th>school</th>\n",
              "      <th>sentence_spacy</th>\n",
              "      <th>sentence_str</th>\n",
              "      <th>original_publication_date</th>\n",
              "      <th>corpus_edition_date</th>\n",
              "      <th>sentence_length</th>\n",
              "      <th>sentence_lowered</th>\n",
              "    </tr>\n",
              "  </thead>\n",
              "  <tbody>\n",
              "    <tr>\n",
              "      <th>132863</th>\n",
              "      <td>Theodicy</td>\n",
              "      <td>Leibniz</td>\n",
              "      <td>rationalism</td>\n",
              "      <td>(lor, moto, sempre, Insieme, s'aggruppa, ,, dall, ', antico, Sempre, con, ordin, certo, il, nuovo, nasce, ;, Ne, tracciando, primi, semi, ,, fanno, Di, moto, un, tal, principio, ,, il, qual, poi, ...</td>\n",
              "      <td>lor moto sempre Insieme s'aggruppa, dall' antico Sempre con ordin certo il nuovo nasce; Ne tracciando primi semi, fanno Di moto un tal principio, il qual poi rompa I decreti del fato, acci non seg...</td>\n",
              "      <td>1710.0</td>\n",
              "      <td>2005.0</td>\n",
              "      <td>330</td>\n",
              "      <td>lor moto sempre insieme s'aggruppa, dall' antico sempre con ordin certo il nuovo nasce; ne tracciando primi semi, fanno di moto un tal principio, il qual poi rompa i decreti del fato, acci non seg...</td>\n",
              "    </tr>\n",
              "    <tr>\n",
              "      <th>132864</th>\n",
              "      <td>Theodicy</td>\n",
              "      <td>Leibniz</td>\n",
              "      <td>rationalism</td>\n",
              "      <td>(I, moti, ancora, Si, declinan, sovente, ,, non, in, tempo, Certo, ,, ne, certa, region, ,, solo, Quando, dove, commanda, il, nostro, arbitrio, ;, Poiche, senz, ', alcun, dubbio, queste, cose, sol...</td>\n",
              "      <td>I moti ancora Si declinan sovente, non in tempo Certo, ne certa region, solo Quando dove commanda il nostro arbitrio; Poiche senz' alcun dubbio queste cose sol principio il voler proprio, quindi V...</td>\n",
              "      <td>1710.0</td>\n",
              "      <td>2005.0</td>\n",
              "      <td>232</td>\n",
              "      <td>i moti ancora si declinan sovente, non in tempo certo, ne certa region, solo quando dove commanda il nostro arbitrio; poiche senz' alcun dubbio queste cose sol principio il voler proprio, quindi v...</td>\n",
              "    </tr>\n",
              "    <tr>\n",
              "      <th>136927</th>\n",
              "      <td>The Search After Truth</td>\n",
              "      <td>Malebranche</td>\n",
              "      <td>rationalism</td>\n",
              "      <td>(This, is, the, order, we, observe, in, this, treatise, :, il, is, divided, into, three, parts, .)</td>\n",
              "      <td>This is the order we observe in this treatise: il is divided into three parts.</td>\n",
              "      <td>1674.0</td>\n",
              "      <td>1997.0</td>\n",
              "      <td>78</td>\n",
              "      <td>this is the order we observe in this treatise: il is divided into three parts.</td>\n",
              "    </tr>\n",
              "    <tr>\n",
              "      <th>139476</th>\n",
              "      <td>The Search After Truth</td>\n",
              "      <td>Malebranche</td>\n",
              "      <td>rationalism</td>\n",
              "      <td>(both, what, they, are, and, what, they, are, thinking, (, which, I, really, do, not, bel, ,, I, warn, that, it, is, only, because, I, desire, to, dispute, the, This, paragraph, is, italicized, be...</td>\n",
              "      <td>both what they are and what they are thinking (which I really do not bel, I warn that it is only because I desire to dispute the This paragraph is italicized because you may omil il as being difli...</td>\n",
              "      <td>1674.0</td>\n",
              "      <td>1997.0</td>\n",
              "      <td>276</td>\n",
              "      <td>both what they are and what they are thinking (which i really do not bel, i warn that it is only because i desire to dispute the this paragraph is italicized because you may omil il as being difli...</td>\n",
              "    </tr>\n",
              "    <tr>\n",
              "      <th>140989</th>\n",
              "      <td>The Search After Truth</td>\n",
              "      <td>Malebranche</td>\n",
              "      <td>rationalism</td>\n",
              "      <td>(But, perhaps, il, would, be, appropriate, to, speak, of, their, quotations, ,, which, will, enable, us, to, understand, to, some, extent, the, disposition, of, their, mind, .)</td>\n",
              "      <td>But perhaps il would be appropriate to speak of their quotations, which will enable us to understand to some extent the disposition of their mind.</td>\n",
              "      <td>1674.0</td>\n",
              "      <td>1997.0</td>\n",
              "      <td>146</td>\n",
              "      <td>but perhaps il would be appropriate to speak of their quotations, which will enable us to understand to some extent the disposition of their mind.</td>\n",
              "    </tr>\n",
              "    <tr>\n",
              "      <th>144030</th>\n",
              "      <td>The Search After Truth</td>\n",
              "      <td>Malebranche</td>\n",
              "      <td>rationalism</td>\n",
              "      <td>(illiSl, ', il, nul, Utnpkll, ', .)</td>\n",
              "      <td>illiSl' il nul Utnpkll'.</td>\n",
              "      <td>1674.0</td>\n",
              "      <td>1997.0</td>\n",
              "      <td>24</td>\n",
              "      <td>illisl' il nul utnpkll'.</td>\n",
              "    </tr>\n",
              "    <tr>\n",
              "      <th>147215</th>\n",
              "      <td>The Search After Truth</td>\n",
              "      <td>Malebranche</td>\n",
              "      <td>rationalism</td>\n",
              "      <td>(regarding, those, of, Arnauld, in, the, second, volume, of, the, il, of, my, replies, .)</td>\n",
              "      <td>regarding those of Arnauld in the second volume of the il of my replies.</td>\n",
              "      <td>1674.0</td>\n",
              "      <td>1997.0</td>\n",
              "      <td>72</td>\n",
              "      <td>regarding those of arnauld in the second volume of the il of my replies.</td>\n",
              "    </tr>\n",
              "    <tr>\n",
              "      <th>180401</th>\n",
              "      <td>Quintessence</td>\n",
              "      <td>Quine</td>\n",
              "      <td>analytic</td>\n",
              "      <td>(oh, ,, et, de, conteml, ,, ier, eternellement, il, pro, /, Jre, l, (, Il, ', brti, .)</td>\n",
              "      <td>oh,et de conteml,ier eternellement il pro/Jre l( Il' brti.</td>\n",
              "      <td>1950.0</td>\n",
              "      <td>2004.0</td>\n",
              "      <td>58</td>\n",
              "      <td>oh,et de conteml,ier eternellement il pro/jre l( il' brti.</td>\n",
              "    </tr>\n",
              "    <tr>\n",
              "      <th>185683</th>\n",
              "      <td>Quintessence</td>\n",
              "      <td>Quine</td>\n",
              "      <td>analytic</td>\n",
              "      <td>(The, Ca, rtesian, quest, for, certainty, had, been, the, remote, motivation, of, epistemology, ,, both, il, its, conceptual, and, its, doctrinal, side, ;, but, that, quest, was, seen, as, a, lost...</td>\n",
              "      <td>The Ca rtesian quest for certainty had been the remote motivation of epistemology, both il its conceptual and its doctrinal side; but that quest was seen as a lost cause.</td>\n",
              "      <td>1950.0</td>\n",
              "      <td>2004.0</td>\n",
              "      <td>170</td>\n",
              "      <td>the ca rtesian quest for certainty had been the remote motivation of epistemology, both il its conceptual and its doctrinal side; but that quest was seen as a lost cause.</td>\n",
              "    </tr>\n",
              "    <tr>\n",
              "      <th>200891</th>\n",
              "      <td>Philosophical Troubles</td>\n",
              "      <td>Kripke</td>\n",
              "      <td>analytic</td>\n",
              "      <td>(If, God, did, not, exist, ,, Voltaire, said, ,, il, faudrait, l'inventer, ., ')</td>\n",
              "      <td>If God did not exist, Voltaire said, il faudrait l'inventer.'</td>\n",
              "      <td>1975.0</td>\n",
              "      <td>2011.0</td>\n",
              "      <td>61</td>\n",
              "      <td>if god did not exist, voltaire said, il faudrait l'inventer.'</td>\n",
              "    </tr>\n",
              "    <tr>\n",
              "      <th>236377</th>\n",
              "      <td>Difference And Repetition</td>\n",
              "      <td>Deleuze</td>\n",
              "      <td>continental</td>\n",
              "      <td>(Qu'en, est, il, de, I'etre, ?, .)</td>\n",
              "      <td>Qu'en est il de I'etre?.</td>\n",
              "      <td>1968.0</td>\n",
              "      <td>1994.0</td>\n",
              "      <td>24</td>\n",
              "      <td>qu'en est il de i'etre?.</td>\n",
              "    </tr>\n",
              "    <tr>\n",
              "      <th>241662</th>\n",
              "      <td>Anti-Oedipus</td>\n",
              "      <td>Deleuze</td>\n",
              "      <td>continental</td>\n",
              "      <td>(But, ethnologists, observe, how, difficult, it, is, to, distinguish, those, protoclasses, from, the, castes, organized, by, the, il, ial, mach.ine, and, from, the, rankings, distributed, by, the,...</td>\n",
              "      <td>But ethnologists observe how difficult it is to distinguish those protoclasses from the castes organized by the il ial mach.ine and from the rankings distributed by the segmentary prmutrve machine.</td>\n",
              "      <td>1972.0</td>\n",
              "      <td>1997.0</td>\n",
              "      <td>197</td>\n",
              "      <td>but ethnologists observe how difficult it is to distinguish those protoclasses from the castes organized by the il ial mach.ine and from the rankings distributed by the segmentary prmutrve machine.</td>\n",
              "    </tr>\n",
              "    <tr>\n",
              "      <th>262671</th>\n",
              "      <td>Being And Time</td>\n",
              "      <td>Heidegger</td>\n",
              "      <td>phenomenology</td>\n",
              "      <td>(What, is, at, hand, is, discovered, as, such, in, its, serviceability, usab, il, ity, ,, detrimentality, .)</td>\n",
              "      <td>What is at hand is discovered as such in its serviceability usab il ity, detrimentality.</td>\n",
              "      <td>1927.0</td>\n",
              "      <td>1996.0</td>\n",
              "      <td>88</td>\n",
              "      <td>what is at hand is discovered as such in its serviceability usab il ity, detrimentality.</td>\n",
              "    </tr>\n",
              "    <tr>\n",
              "      <th>270702</th>\n",
              "      <td>Off The Beaten Track</td>\n",
              "      <td>Heidegger</td>\n",
              "      <td>phenomenology</td>\n",
              "      <td>(Of, all, things, (, those, ,, namely, ,, that, man, has, around, him, in, use, and, usage, ,, il, .lcrra)</td>\n",
              "      <td>Of all things (those, namely, that man has around him in use and usage, il .lcrra</td>\n",
              "      <td>1950.0</td>\n",
              "      <td>2001.0</td>\n",
              "      <td>81</td>\n",
              "      <td>of all things (those, namely, that man has around him in use and usage, il .lcrra</td>\n",
              "    </tr>\n",
              "    <tr>\n",
              "      <th>272357</th>\n",
              "      <td>Off The Beaten Track</td>\n",
              "      <td>Heidegger</td>\n",
              "      <td>phenomenology</td>\n",
              "      <td>(Aristotle, characterizes, the, contem, plation, of, beings, as, beings, as, hna, il, a, way, in, which, our, seeing, and, perceiving, stands, by, ,, that, is, ,, stands, by, what, is, present, as...</td>\n",
              "      <td>Aristotle characterizes the contem plation of beings as beings as hna il a way in which our seeing and perceiving stands by, that is, stands by what is present as such.</td>\n",
              "      <td>1950.0</td>\n",
              "      <td>2001.0</td>\n",
              "      <td>168</td>\n",
              "      <td>aristotle characterizes the contem plation of beings as beings as hna il a way in which our seeing and perceiving stands by, that is, stands by what is present as such.</td>\n",
              "    </tr>\n",
              "    <tr>\n",
              "      <th>283925</th>\n",
              "      <td>Critique Of Pure Reason</td>\n",
              "      <td>Kant</td>\n",
              "      <td>german_idealism</td>\n",
              "      <td>(This, is, evidently, the, effect, not, of, the, thoughtlessness, of, our, age, ,, but, of, its, ripened, power, of, judgment, ,, which, will, no, longer, be, put, off, with, il, Now, and, again, ...</td>\n",
              "      <td>This is evidently the effect not of the thoughtlessness of our age, but of its ripened power of judgment, which will no longer be put off with il Now and again one hears complaints about the super...</td>\n",
              "      <td>1781.0</td>\n",
              "      <td>1998.0</td>\n",
              "      <td>281</td>\n",
              "      <td>this is evidently the effect not of the thoughtlessness of our age, but of its ripened power of judgment, which will no longer be put off with il now and again one hears complaints about the super...</td>\n",
              "    </tr>\n",
              "    <tr>\n",
              "      <th>285427</th>\n",
              "      <td>Critique Of Pure Reason</td>\n",
              "      <td>Kant</td>\n",
              "      <td>german_idealism</td>\n",
              "      <td>(The, second, part, of, the, transcendental, logic, must, therefore, be, a, critique, of, this, dialectical, illusion, ,, and, is, called, transcendental, dialectic, ,, not, as, an, art, of, dogma...</td>\n",
              "      <td>The second part of the transcendental logic must therefore be a critique of this dialectical illusion, and is called transcendental dialectic, not as an art of dogmatically arousing such il lusion...</td>\n",
              "      <td>1781.0</td>\n",
              "      <td>1998.0</td>\n",
              "      <td>679</td>\n",
              "      <td>the second part of the transcendental logic must therefore be a critique of this dialectical illusion, and is called transcendental dialectic, not as an art of dogmatically arousing such il lusion...</td>\n",
              "    </tr>\n",
              "    <tr>\n",
              "      <th>317679</th>\n",
              "      <td>Elements Of The Philosophy Of Right</td>\n",
              "      <td>Hegel</td>\n",
              "      <td>german_idealism</td>\n",
              "      <td>(The, buds, have, the, tree, within, Ciand, il, coiitain, its, entire, strength, ,, although, they, are, not, yet, the, tree, itself, .)</td>\n",
              "      <td>The buds have the tree within Ciand il coiitain its entire strength, although they are not yet the tree itself.</td>\n",
              "      <td>1820.0</td>\n",
              "      <td>1991.0</td>\n",
              "      <td>111</td>\n",
              "      <td>the buds have the tree within ciand il coiitain its entire strength, although they are not yet the tree itself.</td>\n",
              "    </tr>\n",
              "    <tr>\n",
              "      <th>320862</th>\n",
              "      <td>Elements Of The Philosophy Of Right</td>\n",
              "      <td>Hegel</td>\n",
              "      <td>german_idealism</td>\n",
              "      <td>(rather, than, des, Bosen, (, ', e, il, in, general, ', ))</td>\n",
              "      <td>rather than des Bosen ('e il in general ')</td>\n",
              "      <td>1820.0</td>\n",
              "      <td>1991.0</td>\n",
              "      <td>42</td>\n",
              "      <td>rather than des bosen ('e il in general ')</td>\n",
              "    </tr>\n",
              "    <tr>\n",
              "      <th>324549</th>\n",
              "      <td>Capital</td>\n",
              "      <td>Marx</td>\n",
              "      <td>communism</td>\n",
              "      <td>(colla, mano, dell'uomo, il, glutine, di, un, insetto, si, trasmuti, in, velluto, ovvero, alcuni, pezzetti, di, metalio)</td>\n",
              "      <td>colla mano dell'uomo il glutine di un insetto si trasmuti in velluto ovvero alcuni pezzetti di metalio</td>\n",
              "      <td>1883.0</td>\n",
              "      <td>1887.0</td>\n",
              "      <td>102</td>\n",
              "      <td>colla mano dell'uomo il glutine di un insetto si trasmuti in velluto ovvero alcuni pezzetti di metalio</td>\n",
              "    </tr>\n",
              "    <tr>\n",
              "      <th>324702</th>\n",
              "      <td>Capital</td>\n",
              "      <td>Marx</td>\n",
              "      <td>communism</td>\n",
              "      <td>(des, hommes, tandis, que, leur, propre, religion, est, une, emanation, de, Dieu, Ainsi, il, a, eu, de, l'histoire, ,)</td>\n",
              "      <td>des hommes tandis que leur propre religion est une emanation de Dieu Ainsi il a eu de l'histoire,</td>\n",
              "      <td>1883.0</td>\n",
              "      <td>1887.0</td>\n",
              "      <td>97</td>\n",
              "      <td>des hommes tandis que leur propre religion est une emanation de dieu ainsi il a eu de l'histoire,</td>\n",
              "    </tr>\n",
              "    <tr>\n",
              "      <th>324930</th>\n",
              "      <td>Capital</td>\n",
              "      <td>Marx</td>\n",
              "      <td>communism</td>\n",
              "      <td>(L'argent, n'est, pas, simple, signe, ,, car, il, est, lui, meme, richesse, ,, il, ne, repr, sente, pas, les, valeurs, ,, il, les, quivaut, .)</td>\n",
              "      <td>L'argent n'est pas simple signe, car il est lui meme richesse, il ne repr sente pas les valeurs, il les quivaut.</td>\n",
              "      <td>1883.0</td>\n",
              "      <td>1887.0</td>\n",
              "      <td>112</td>\n",
              "      <td>l'argent n'est pas simple signe, car il est lui meme richesse, il ne repr sente pas les valeurs, il les quivaut.</td>\n",
              "    </tr>\n",
              "    <tr>\n",
              "      <th>324938</th>\n",
              "      <td>Capital</td>\n",
              "      <td>Marx</td>\n",
              "      <td>communism</td>\n",
              "      <td>(tat, ,, la, provision, et, toute, l'ordonnance, des, monnaies, ,, de, donner, tel, cours, ,, et, pour, tel, prix, comme, il, nous, plait, et, bon, nous, semble, .)</td>\n",
              "      <td>tat, la provision et toute l'ordonnance des monnaies, de donner tel cours, et pour tel prix comme il nous plait et bon nous semble.</td>\n",
              "      <td>1883.0</td>\n",
              "      <td>1887.0</td>\n",
              "      <td>131</td>\n",
              "      <td>tat, la provision et toute l'ordonnance des monnaies, de donner tel cours, et pour tel prix comme il nous plait et bon nous semble.</td>\n",
              "    </tr>\n",
              "    <tr>\n",
              "      <th>324944</th>\n",
              "      <td>Capital</td>\n",
              "      <td>Marx</td>\n",
              "      <td>communism</td>\n",
              "      <td>(Saggio, sopra, il, giusto, pregio, delle, cose, ,, Custodi, Parte, Moderna, ,, .)</td>\n",
              "      <td>Saggio sopra il giusto pregio delle cose, Custodi Parte Moderna,.</td>\n",
              "      <td>1883.0</td>\n",
              "      <td>1887.0</td>\n",
              "      <td>65</td>\n",
              "      <td>saggio sopra il giusto pregio delle cose, custodi parte moderna,.</td>\n",
              "    </tr>\n",
              "    <tr>\n",
              "      <th>325725</th>\n",
              "      <td>Capital</td>\n",
              "      <td>Marx</td>\n",
              "      <td>communism</td>\n",
              "      <td>(Ou, bien, ,, il, faut, consentir, dire, qu'une, valeur, d'un, million, en, argent, vaut, plus, qu'une, valeur, gale, en, merchandises, .)</td>\n",
              "      <td>Ou bien, il faut consentir dire qu'une valeur d'un million en argent vaut plus qu'une valeur gale en merchandises.</td>\n",
              "      <td>1883.0</td>\n",
              "      <td>1887.0</td>\n",
              "      <td>114</td>\n",
              "      <td>ou bien, il faut consentir dire qu'une valeur d'un million en argent vaut plus qu'une valeur gale en merchandises.</td>\n",
              "    </tr>\n",
              "    <tr>\n",
              "      <th>325753</th>\n",
              "      <td>Capital</td>\n",
              "      <td>Marx</td>\n",
              "      <td>communism</td>\n",
              "      <td>(Pour, avoir, cet, argent, ,, il, faut, avoir, vendu, ,, ., ,, .)</td>\n",
              "      <td>Pour avoir cet argent, il faut avoir vendu, .,.</td>\n",
              "      <td>1883.0</td>\n",
              "      <td>1887.0</td>\n",
              "      <td>47</td>\n",
              "      <td>pour avoir cet argent, il faut avoir vendu, .,.</td>\n",
              "    </tr>\n",
              "    <tr>\n",
              "      <th>325757</th>\n",
              "      <td>Capital</td>\n",
              "      <td>Marx</td>\n",
              "      <td>communism</td>\n",
              "      <td>(que, nous, pouvons, sirer, d'acheter, ,, il, repr, sente, aussi, les, choses)</td>\n",
              "      <td>que nous pouvons sirer d'acheter, il repr sente aussi les choses</td>\n",
              "      <td>1883.0</td>\n",
              "      <td>1887.0</td>\n",
              "      <td>64</td>\n",
              "      <td>que nous pouvons sirer d'acheter, il repr sente aussi les choses</td>\n",
              "    </tr>\n",
              "    <tr>\n",
              "      <th>325840</th>\n",
              "      <td>Capital</td>\n",
              "      <td>Marx</td>\n",
              "      <td>communism</td>\n",
              "      <td>(vent, il, est, cenain, que, chaque, denr, ou, merchandise, ,, en, paniculier, ,)</td>\n",
              "      <td>vent il est cenain que chaque denr ou merchandise, en paniculier,</td>\n",
              "      <td>1883.0</td>\n",
              "      <td>1887.0</td>\n",
              "      <td>65</td>\n",
              "      <td>vent il est cenain que chaque denr ou merchandise, en paniculier,</td>\n",
              "    </tr>\n",
              "    <tr>\n",
              "      <th>325931</th>\n",
              "      <td>Capital</td>\n",
              "      <td>Marx</td>\n",
              "      <td>communism</td>\n",
              "      <td>(quanto, pi, si, pu, il, numero, de'venditori, d'ogni, merce, ,)</td>\n",
              "      <td>quanto pi si pu il numero de'venditori d'ogni merce,</td>\n",
              "      <td>1883.0</td>\n",
              "      <td>1887.0</td>\n",
              "      <td>52</td>\n",
              "      <td>quanto pi si pu il numero de'venditori d'ogni merce,</td>\n",
              "    </tr>\n",
              "    <tr>\n",
              "      <th>325932</th>\n",
              "      <td>Capital</td>\n",
              "      <td>Marx</td>\n",
              "      <td>communism</td>\n",
              "      <td>(diminuere, quanto, pi, si, puo, il, numero, dei, compratori, ,, quest, ), sono, cardini, sui, quali, si, raggirano, tutte, le, operazioni, di, economia, politica, .)</td>\n",
              "      <td>diminuere quanto pi si puo il numero dei compratori, quest) sono cardini sui quali si raggirano tutte le operazioni di economia politica.</td>\n",
              "      <td>1883.0</td>\n",
              "      <td>1887.0</td>\n",
              "      <td>137</td>\n",
              "      <td>diminuere quanto pi si puo il numero dei compratori, quest) sono cardini sui quali si raggirano tutte le operazioni di economia politica.</td>\n",
              "    </tr>\n",
              "    <tr>\n",
              "      <th>326254</th>\n",
              "      <td>Capital</td>\n",
              "      <td>Marx</td>\n",
              "      <td>communism</td>\n",
              "      <td>(Si, l'on, gagnait, longtemps, en, tout, avec, tous, ,, il, faudrait, rendre, de, bon, accord, les, plus, grandes, parties)</td>\n",
              "      <td>Si l'on gagnait longtemps en tout avec tous, il faudrait rendre de bon accord les plus grandes parties</td>\n",
              "      <td>1883.0</td>\n",
              "      <td>1887.0</td>\n",
              "      <td>102</td>\n",
              "      <td>si l'on gagnait longtemps en tout avec tous, il faudrait rendre de bon accord les plus grandes parties</td>\n",
              "    </tr>\n",
              "    <tr>\n",
              "      <th>326292</th>\n",
              "      <td>Capital</td>\n",
              "      <td>Marx</td>\n",
              "      <td>communism</td>\n",
              "      <td>(mercante, non, conta, quasi, per, niente, il, lucro, fatto, ,, ma, mira, sempre, al, futuro, .)</td>\n",
              "      <td>mercante non conta quasi per niente il lucro fatto, ma mira sempre al futuro.</td>\n",
              "      <td>1883.0</td>\n",
              "      <td>1887.0</td>\n",
              "      <td>77</td>\n",
              "      <td>mercante non conta quasi per niente il lucro fatto, ma mira sempre al futuro.</td>\n",
              "    </tr>\n",
              "    <tr>\n",
              "      <th>326519</th>\n",
              "      <td>Capital</td>\n",
              "      <td>Marx</td>\n",
              "      <td>communism</td>\n",
              "      <td>(soci, form, il, n'y, a, pas, de, surabondant, en, aucun, genre, .)</td>\n",
              "      <td>soci form il n'y a pas de surabondant en aucun genre.</td>\n",
              "      <td>1883.0</td>\n",
              "      <td>1887.0</td>\n",
              "      <td>53</td>\n",
              "      <td>soci form il n'y a pas de surabondant en aucun genre.</td>\n",
              "    </tr>\n",
              "    <tr>\n",
              "      <th>329909</th>\n",
              "      <td>Capital</td>\n",
              "      <td>Marx</td>\n",
              "      <td>communism</td>\n",
              "      <td>(En, tout, genre, de, travail, il, doit, arriver, ,)</td>\n",
              "      <td>En tout genre de travail il doit arriver,</td>\n",
              "      <td>1883.0</td>\n",
              "      <td>1887.0</td>\n",
              "      <td>41</td>\n",
              "      <td>en tout genre de travail il doit arriver,</td>\n",
              "    </tr>\n",
              "    <tr>\n",
              "      <th>330161</th>\n",
              "      <td>Capital</td>\n",
              "      <td>Marx</td>\n",
              "      <td>communism</td>\n",
              "      <td>(Des, ma, ons, par, exemple, ,, occup, faire, passer, de, mains, en, mains, des, briques, un, chafaudage, sup, rieur, ,, font, tous, la, me, besogne, ,, et, pourtant, il, existe, parmi, eux, une, ...</td>\n",
              "      <td>Des ma ons par exemple, occup faire passer de mains en mains des briques un chafaudage sup rieur, font tous la me besogne, et pourtant il existe parmi eux une esp ce de division de travail,</td>\n",
              "      <td>1883.0</td>\n",
              "      <td>1887.0</td>\n",
              "      <td>189</td>\n",
              "      <td>des ma ons par exemple, occup faire passer de mains en mains des briques un chafaudage sup rieur, font tous la me besogne, et pourtant il existe parmi eux une esp ce de division de travail,</td>\n",
              "    </tr>\n",
              "    <tr>\n",
              "      <th>330170</th>\n",
              "      <td>Capital</td>\n",
              "      <td>Marx</td>\n",
              "      <td>communism</td>\n",
              "      <td>(Est, il, question, d'ex)</td>\n",
              "      <td>Est il question d'ex</td>\n",
              "      <td>1883.0</td>\n",
              "      <td>1887.0</td>\n",
              "      <td>20</td>\n",
              "      <td>est il question d'ex</td>\n",
              "    </tr>\n",
              "    <tr>\n",
              "      <th>330199</th>\n",
              "      <td>Capital</td>\n",
              "      <td>Marx</td>\n",
              "      <td>communism</td>\n",
              "      <td>(a, che, le, forze, per, essere, riunite, possono, diminuere, il, tempo, ed, accrescere, lo, spazio, della, loro, azione, .)</td>\n",
              "      <td>a che le forze per essere riunite possono diminuere il tempo ed accrescere lo spazio della loro azione.</td>\n",
              "      <td>1883.0</td>\n",
              "      <td>1887.0</td>\n",
              "      <td>103</td>\n",
              "      <td>a che le forze per essere riunite possono diminuere il tempo ed accrescere lo spazio della loro azione.</td>\n",
              "    </tr>\n",
              "    <tr>\n",
              "      <th>333261</th>\n",
              "      <td>Capital</td>\n",
              "      <td>Marx</td>\n",
              "      <td>communism</td>\n",
              "      <td>(En, quoi, l'effet, d'une, machine, diff, re, il, de, celui, de, nouveaux, habitants, ?)</td>\n",
              "      <td>En quoi l'effet d'une machine diff re il de celui de nouveaux habitants?</td>\n",
              "      <td>1883.0</td>\n",
              "      <td>1887.0</td>\n",
              "      <td>72</td>\n",
              "      <td>en quoi l'effet d'une machine diff re il de celui de nouveaux habitants?</td>\n",
              "    </tr>\n",
              "    <tr>\n",
              "      <th>335973</th>\n",
              "      <td>Capital</td>\n",
              "      <td>Marx</td>\n",
              "      <td>communism</td>\n",
              "      <td>(bien, li, ,, sates, laquelle, il, est, impossible, ,, je, le, clare, ,, d'expliquer, les, plus, grandes, difficult, de, l, ', conomie, politique, ,, et, notamment, ,, comment)</td>\n",
              "      <td>bien li, sates laquelle il est impossible, je le clare, d'expliquer les plus grandes difficult de l' conomie politique, et notamment, comment</td>\n",
              "      <td>1883.0</td>\n",
              "      <td>1887.0</td>\n",
              "      <td>141</td>\n",
              "      <td>bien li, sates laquelle il est impossible, je le clare, d'expliquer les plus grandes difficult de l' conomie politique, et notamment, comment</td>\n",
              "    </tr>\n",
              "    <tr>\n",
              "      <th>336470</th>\n",
              "      <td>Capital</td>\n",
              "      <td>Marx</td>\n",
              "      <td>communism</td>\n",
              "      <td>((, il, bene, ed, il, male, economico, in, una, nazione, sempre, all, ,, istessa, misura, ))</td>\n",
              "      <td>(il bene ed il male economico in una nazione sempre all, istessa misura)</td>\n",
              "      <td>1883.0</td>\n",
              "      <td>1887.0</td>\n",
              "      <td>72</td>\n",
              "      <td>(il bene ed il male economico in una nazione sempre all, istessa misura)</td>\n",
              "    </tr>\n",
              "    <tr>\n",
              "      <th>337734</th>\n",
              "      <td>Capital</td>\n",
              "      <td>Marx</td>\n",
              "      <td>communism</td>\n",
              "      <td>(a, veloppement, des, forces, productives, ,, il, a, une, force, productive, de, pression, ;, que, ces, rapports, ne, produisent, la, richesse, bourgeoise, ,, c'est, dire, la, richesse, de, la, cl...</td>\n",
              "      <td>a veloppement des forces productives, il a une force productive de pression; que ces rapports ne produisent la richesse bourgeoise, c'est dire la richesse de la classe bourgeoise, qu'en an antissa...</td>\n",
              "      <td>1883.0</td>\n",
              "      <td>1887.0</td>\n",
              "      <td>317</td>\n",
              "      <td>a veloppement des forces productives, il a une force productive de pression; que ces rapports ne produisent la richesse bourgeoise, c'est dire la richesse de la classe bourgeoise, qu'en an antissa...</td>\n",
              "    </tr>\n",
              "    <tr>\n",
              "      <th>337757</th>\n",
              "      <td>Capital</td>\n",
              "      <td>Marx</td>\n",
              "      <td>communism</td>\n",
              "      <td>(Les, nations, pauvres, ,, c'est, le, peuple, est, son, aise, ;, et, les, nations, riches, ,, c'est, il, est, ordinairement, pauvre, .)</td>\n",
              "      <td>Les nations pauvres, c'est le peuple est son aise; et les nations riches, c'est il est ordinairement pauvre.</td>\n",
              "      <td>1883.0</td>\n",
              "      <td>1887.0</td>\n",
              "      <td>108</td>\n",
              "      <td>les nations pauvres, c'est le peuple est son aise; et les nations riches, c'est il est ordinairement pauvre.</td>\n",
              "    </tr>\n",
              "    <tr>\n",
              "      <th>338574</th>\n",
              "      <td>Capital</td>\n",
              "      <td>Marx</td>\n",
              "      <td>communism</td>\n",
              "      <td>(et, pour, comble, de, ruine, ,, il, n'ose)</td>\n",
              "      <td>et pour comble de ruine, il n'ose</td>\n",
              "      <td>1883.0</td>\n",
              "      <td>1887.0</td>\n",
              "      <td>33</td>\n",
              "      <td>et pour comble de ruine, il n'ose</td>\n",
              "    </tr>\n",
              "    <tr>\n",
              "      <th>338575</th>\n",
              "      <td>Capital</td>\n",
              "      <td>Marx</td>\n",
              "      <td>communism</td>\n",
              "      <td>(pas, vendre, sea, productions, et, comme, il, le, veut, ;)</td>\n",
              "      <td>pas vendre sea productions et comme il le veut;</td>\n",
              "      <td>1883.0</td>\n",
              "      <td>1887.0</td>\n",
              "      <td>47</td>\n",
              "      <td>pas vendre sea productions et comme il le veut;</td>\n",
              "    </tr>\n",
              "    <tr>\n",
              "      <th>338582</th>\n",
              "      <td>Capital</td>\n",
              "      <td>Marx</td>\n",
              "      <td>communism</td>\n",
              "      <td>(En, il, travaille, comme, un, forcat, au, labourage, et, la, colte, ;, il, se, couche, heures)</td>\n",
              "      <td>En il travaille comme un forcat au labourage et la colte; il se couche heures</td>\n",
              "      <td>1883.0</td>\n",
              "      <td>1887.0</td>\n",
              "      <td>77</td>\n",
              "      <td>en il travaille comme un forcat au labourage et la colte; il se couche heures</td>\n",
              "    </tr>\n",
              "    <tr>\n",
              "      <th>338583</th>\n",
              "      <td>Capital</td>\n",
              "      <td>Marx</td>\n",
              "      <td>communism</td>\n",
              "      <td>(et, se, ve, deux, ,, pour, suffire, aux, travaux, ;, en, hiver, il, devrait, parer, ses, forces, par, un, plus, grand, repos)</td>\n",
              "      <td>et se ve deux, pour suffire aux travaux; en hiver il devrait parer ses forces par un plus grand repos</td>\n",
              "      <td>1883.0</td>\n",
              "      <td>1887.0</td>\n",
              "      <td>101</td>\n",
              "      <td>et se ve deux, pour suffire aux travaux; en hiver il devrait parer ses forces par un plus grand repos</td>\n",
              "    </tr>\n",
              "    <tr>\n",
              "      <th>338588</th>\n",
              "      <td>Capital</td>\n",
              "      <td>Marx</td>\n",
              "      <td>communism</td>\n",
              "      <td>(et, se, ve, cinq, on, six, ;, on, bien, il, se, couche, neuf, ,, et)</td>\n",
              "      <td>et se ve cinq on six; on bien il se couche neuf, et</td>\n",
              "      <td>1883.0</td>\n",
              "      <td>1887.0</td>\n",
              "      <td>51</td>\n",
              "      <td>et se ve cinq on six; on bien il se couche neuf, et</td>\n",
              "    </tr>\n",
              "    <tr>\n",
              "      <th>339145</th>\n",
              "      <td>Capital</td>\n",
              "      <td>Marx</td>\n",
              "      <td>communism</td>\n",
              "      <td>(Si, les, Tartares, inondaient, I'Europe, aujourd'hui, ,, il, faudrait, bien, des, affaires, pour, leur, faire, entendre, ce, que, c'est, qu'un, financier, parmi, nous, .)</td>\n",
              "      <td>Si les Tartares inondaient I'Europe aujourd'hui, il faudrait bien des affaires pour leur faire entendre ce que c'est qu'un financier parmi nous.</td>\n",
              "      <td>1883.0</td>\n",
              "      <td>1887.0</td>\n",
              "      <td>144</td>\n",
              "      <td>si les tartares inondaient i'europe aujourd'hui, il faudrait bien des affaires pour leur faire entendre ce que c'est qu'un financier parmi nous.</td>\n",
              "    </tr>\n",
              "    <tr>\n",
              "      <th>371686</th>\n",
              "      <td>Thus Spake Zarathustra</td>\n",
              "      <td>Nietzsche</td>\n",
              "      <td>nietzsche</td>\n",
              "      <td>(There, is, something, ticklish, in, the, truth, ,, and, in, the, for, the, truth, ;, and, if, man, goes, about, it, too, humanely, il, ne, cherche, le, vrai, que, pour, faire, le, bien)</td>\n",
              "      <td>There is something ticklish in the truth, and in the for the truth; and if man goes about it too humanely il ne cherche le vrai que pour faire le bien</td>\n",
              "      <td>1887.0</td>\n",
              "      <td>2008.0</td>\n",
              "      <td>150</td>\n",
              "      <td>there is something ticklish in the truth, and in the for the truth; and if man goes about it too humanely il ne cherche le vrai que pour faire le bien</td>\n",
              "    </tr>\n",
              "    <tr>\n",
              "      <th>371718</th>\n",
              "      <td>Thus Spake Zarathustra</td>\n",
              "      <td>Nietzsche</td>\n",
              "      <td>nietzsche</td>\n",
              "      <td>(Pour, etre, bon, philosophe, ,, says, this, last, great, psychologist, ,, il, faut, etre, sec, ,, clair, ,, sans, illusion, .)</td>\n",
              "      <td>Pour etre bon philosophe, says this last great psychologist, il faut etre sec, clair, sans illusion.</td>\n",
              "      <td>1887.0</td>\n",
              "      <td>2008.0</td>\n",
              "      <td>100</td>\n",
              "      <td>pour etre bon philosophe, says this last great psychologist, il faut etre sec, clair, sans illusion.</td>\n",
              "    </tr>\n",
              "    <tr>\n",
              "      <th>375293</th>\n",
              "      <td>The Second Sex</td>\n",
              "      <td>Beauvoir</td>\n",
              "      <td>feminism</td>\n",
              "      <td>(Formerly, ,, owing, to, the, stupidity, inherent, in, passion, ,, men, waged, war, against, passion, itself, :, men, pledged, themselves, to, annihilate, it, ,, all, ancient, moral, mongers, were...</td>\n",
              "      <td>Formerly, owing to the stupidity inherent in passion, men waged war against passion itself: men pledged themselves to annihilate it, all ancient moral mongers were unanimous on this point, il faut...</td>\n",
              "      <td>1949.0</td>\n",
              "      <td>2009.0</td>\n",
              "      <td>215</td>\n",
              "      <td>formerly, owing to the stupidity inherent in passion, men waged war against passion itself: men pledged themselves to annihilate it, all ancient moral mongers were unanimous on this point, il faut...</td>\n",
              "    </tr>\n",
              "    <tr>\n",
              "      <th>376277</th>\n",
              "      <td>The Second Sex</td>\n",
              "      <td>Beauvoir</td>\n",
              "      <td>feminism</td>\n",
              "      <td>(It, has, been, said, ,, and, not, without, subtlety, :, il, est, indigne, des, grands, cœurs, de, pandre, le, trouble)</td>\n",
              "      <td>It has been said, and not without subtlety: il est indigne des grands cœurs de pandre le trouble</td>\n",
              "      <td>1949.0</td>\n",
              "      <td>2009.0</td>\n",
              "      <td>96</td>\n",
              "      <td>it has been said, and not without subtlety: il est indigne des grands cœurs de pandre le trouble</td>\n",
              "    </tr>\n",
              "  </tbody>\n",
              "</table>\n",
              "</div>"
            ],
            "text/plain": [
              "                                      title  ...                                                                                                                                                                                         sentence_lowered\n",
              "132863                             Theodicy  ...  lor moto sempre insieme s'aggruppa, dall' antico sempre con ordin certo il nuovo nasce; ne tracciando primi semi, fanno di moto un tal principio, il qual poi rompa i decreti del fato, acci non seg...\n",
              "132864                             Theodicy  ...  i moti ancora si declinan sovente, non in tempo certo, ne certa region, solo quando dove commanda il nostro arbitrio; poiche senz' alcun dubbio queste cose sol principio il voler proprio, quindi v...\n",
              "136927               The Search After Truth  ...                                                                                                                           this is the order we observe in this treatise: il is divided into three parts.\n",
              "139476               The Search After Truth  ...  both what they are and what they are thinking (which i really do not bel, i warn that it is only because i desire to dispute the this paragraph is italicized because you may omil il as being difli...\n",
              "140989               The Search After Truth  ...                                                       but perhaps il would be appropriate to speak of their quotations, which will enable us to understand to some extent the disposition of their mind.\n",
              "144030               The Search After Truth  ...                                                                                                                                                                                 illisl' il nul utnpkll'.\n",
              "147215               The Search After Truth  ...                                                                                                                                 regarding those of arnauld in the second volume of the il of my replies.\n",
              "180401                         Quintessence  ...                                                                                                                                               oh,et de conteml,ier eternellement il pro/jre l( il' brti.\n",
              "185683                         Quintessence  ...                               the ca rtesian quest for certainty had been the remote motivation of epistemology, both il its conceptual and its doctrinal side; but that quest was seen as a lost cause.\n",
              "200891               Philosophical Troubles  ...                                                                                                                                            if god did not exist, voltaire said, il faudrait l'inventer.'\n",
              "236377            Difference And Repetition  ...                                                                                                                                                                                 qu'en est il de i'etre?.\n",
              "241662                         Anti-Oedipus  ...    but ethnologists observe how difficult it is to distinguish those protoclasses from the castes organized by the il ial mach.ine and from the rankings distributed by the segmentary prmutrve machine.\n",
              "262671                       Being And Time  ...                                                                                                                 what is at hand is discovered as such in its serviceability usab il ity, detrimentality.\n",
              "270702                 Off The Beaten Track  ...                                                                                                                        of all things (those, namely, that man has around him in use and usage, il .lcrra\n",
              "272357                 Off The Beaten Track  ...                                 aristotle characterizes the contem plation of beings as beings as hna il a way in which our seeing and perceiving stands by, that is, stands by what is present as such.\n",
              "283925              Critique Of Pure Reason  ...  this is evidently the effect not of the thoughtlessness of our age, but of its ripened power of judgment, which will no longer be put off with il now and again one hears complaints about the super...\n",
              "285427              Critique Of Pure Reason  ...  the second part of the transcendental logic must therefore be a critique of this dialectical illusion, and is called transcendental dialectic, not as an art of dogmatically arousing such il lusion...\n",
              "317679  Elements Of The Philosophy Of Right  ...                                                                                          the buds have the tree within ciand il coiitain its entire strength, although they are not yet the tree itself.\n",
              "320862  Elements Of The Philosophy Of Right  ...                                                                                                                                                               rather than des bosen ('e il in general ')\n",
              "324549                              Capital  ...                                                                                                   colla mano dell'uomo il glutine di un insetto si trasmuti in velluto ovvero alcuni pezzetti di metalio\n",
              "324702                              Capital  ...                                                                                                        des hommes tandis que leur propre religion est une emanation de dieu ainsi il a eu de l'histoire,\n",
              "324930                              Capital  ...                                                                                         l'argent n'est pas simple signe, car il est lui meme richesse, il ne repr sente pas les valeurs, il les quivaut.\n",
              "324938                              Capital  ...                                                                      tat, la provision et toute l'ordonnance des monnaies, de donner tel cours, et pour tel prix comme il nous plait et bon nous semble.\n",
              "324944                              Capital  ...                                                                                                                                        saggio sopra il giusto pregio delle cose, custodi parte moderna,.\n",
              "325725                              Capital  ...                                                                                       ou bien, il faut consentir dire qu'une valeur d'un million en argent vaut plus qu'une valeur gale en merchandises.\n",
              "325753                              Capital  ...                                                                                                                                                          pour avoir cet argent, il faut avoir vendu, .,.\n",
              "325757                              Capital  ...                                                                                                                                         que nous pouvons sirer d'acheter, il repr sente aussi les choses\n",
              "325840                              Capital  ...                                                                                                                                        vent il est cenain que chaque denr ou merchandise, en paniculier,\n",
              "325931                              Capital  ...                                                                                                                                                     quanto pi si pu il numero de'venditori d'ogni merce,\n",
              "325932                              Capital  ...                                                                diminuere quanto pi si puo il numero dei compratori, quest) sono cardini sui quali si raggirano tutte le operazioni di economia politica.\n",
              "326254                              Capital  ...                                                                                                   si l'on gagnait longtemps en tout avec tous, il faudrait rendre de bon accord les plus grandes parties\n",
              "326292                              Capital  ...                                                                                                                            mercante non conta quasi per niente il lucro fatto, ma mira sempre al futuro.\n",
              "326519                              Capital  ...                                                                                                                                                    soci form il n'y a pas de surabondant en aucun genre.\n",
              "329909                              Capital  ...                                                                                                                                                                en tout genre de travail il doit arriver,\n",
              "330161                              Capital  ...            des ma ons par exemple, occup faire passer de mains en mains des briques un chafaudage sup rieur, font tous la me besogne, et pourtant il existe parmi eux une esp ce de division de travail,\n",
              "330170                              Capital  ...                                                                                                                                                                                     est il question d'ex\n",
              "330199                              Capital  ...                                                                                                  a che le forze per essere riunite possono diminuere il tempo ed accrescere lo spazio della loro azione.\n",
              "333261                              Capital  ...                                                                                                                                 en quoi l'effet d'une machine diff re il de celui de nouveaux habitants?\n",
              "335973                              Capital  ...                                                            bien li, sates laquelle il est impossible, je le clare, d'expliquer les plus grandes difficult de l' conomie politique, et notamment, comment\n",
              "336470                              Capital  ...                                                                                                                                 (il bene ed il male economico in una nazione sempre all, istessa misura)\n",
              "337734                              Capital  ...  a veloppement des forces productives, il a une force productive de pression; que ces rapports ne produisent la richesse bourgeoise, c'est dire la richesse de la classe bourgeoise, qu'en an antissa...\n",
              "337757                              Capital  ...                                                                                             les nations pauvres, c'est le peuple est son aise; et les nations riches, c'est il est ordinairement pauvre.\n",
              "338574                              Capital  ...                                                                                                                                                                        et pour comble de ruine, il n'ose\n",
              "338575                              Capital  ...                                                                                                                                                          pas vendre sea productions et comme il le veut;\n",
              "338582                              Capital  ...                                                                                                                            en il travaille comme un forcat au labourage et la colte; il se couche heures\n",
              "338583                              Capital  ...                                                                                                    et se ve deux, pour suffire aux travaux; en hiver il devrait parer ses forces par un plus grand repos\n",
              "338588                              Capital  ...                                                                                                                                                      et se ve cinq on six; on bien il se couche neuf, et\n",
              "339145                              Capital  ...                                                         si les tartares inondaient i'europe aujourd'hui, il faudrait bien des affaires pour leur faire entendre ce que c'est qu'un financier parmi nous.\n",
              "371686               Thus Spake Zarathustra  ...                                                   there is something ticklish in the truth, and in the for the truth; and if man goes about it too humanely il ne cherche le vrai que pour faire le bien\n",
              "371718               Thus Spake Zarathustra  ...                                                                                                     pour etre bon philosophe, says this last great psychologist, il faut etre sec, clair, sans illusion.\n",
              "375293                       The Second Sex  ...  formerly, owing to the stupidity inherent in passion, men waged war against passion itself: men pledged themselves to annihilate it, all ancient moral mongers were unanimous on this point, il faut...\n",
              "376277                       The Second Sex  ...                                                                                                         it has been said, and not without subtlety: il est indigne des grands cœurs de pandre le trouble\n",
              "\n",
              "[52 rows x 9 columns]"
            ]
          },
          "metadata": {
            "tags": []
          },
          "execution_count": 39
        }
      ]
    },
    {
      "cell_type": "code",
      "metadata": {
        "colab": {
          "base_uri": "https://localhost:8080/"
        },
        "id": "-ER9muOkw-qu",
        "outputId": "71b1f2df-f05b-43d4-95e3-8ccab77380b0"
      },
      "source": [
        "df = df.drop(df[df['sentence_str'].str.contains('\\sil\\s')].index)\n",
        "\n",
        "len(df)"
      ],
      "execution_count": null,
      "outputs": [
        {
          "output_type": "execute_result",
          "data": {
            "text/plain": [
              "369935"
            ]
          },
          "metadata": {
            "tags": []
          },
          "execution_count": 40
        }
      ]
    },
    {
      "cell_type": "markdown",
      "metadata": {
        "id": "0jsR1QpNNlNJ"
      },
      "source": [
        "#### Some Ad Hoc Cleaning"
      ]
    },
    {
      "cell_type": "code",
      "metadata": {
        "colab": {
          "base_uri": "https://localhost:8080/"
        },
        "id": "b1sF0lzxw-zd",
        "outputId": "9d78e81c-126c-4e15-ce50-ededeaede678"
      },
      "source": [
        "# miscellaneous nonsense sentences\n",
        "df = df.drop(df[df['sentence_str'].str.contains('\\spp\\s')].index)\n",
        "df = df.drop(df[df['sentence_str'].str.contains('\\stotam\\s')].index)\n",
        "df = df.drop(df[df['sentence_str'].str.contains('\\srree\\s')].index)\n",
        "df = df.drop(df[df['sentence_str'].str.contains('\\sflir\\s')].index)\n",
        "df = df.drop(df[(df['sentence_str'].str.contains('\\smodis\\s')) & (df['author'] != 'Kant')].index)\n",
        "\n",
        "len(df)"
      ],
      "execution_count": null,
      "outputs": [
        {
          "output_type": "execute_result",
          "data": {
            "text/plain": [
              "369929"
            ]
          },
          "metadata": {
            "tags": []
          },
          "execution_count": 41
        }
      ]
    },
    {
      "cell_type": "code",
      "metadata": {
        "colab": {
          "base_uri": "https://localhost:8080/"
        },
        "id": "OqBnHZG6w-9F",
        "outputId": "2014a18d-c707-4ca5-88b0-a690702d3604"
      },
      "source": [
        "# markers of french and notes\n",
        "df = df.drop(df[df['sentence_str'].str.contains('\\schapitre')].index)\n",
        "df = df.drop(df[df['sentence_str'].str.contains('\\salisme')].index)\n",
        "df = df.drop(df[df['sentence_str'].str.contains('\\sHahn')].index)\n",
        "\n",
        "len(df)"
      ],
      "execution_count": null,
      "outputs": [
        {
          "output_type": "execute_result",
          "data": {
            "text/plain": [
              "369912"
            ]
          },
          "metadata": {
            "tags": []
          },
          "execution_count": 42
        }
      ]
    },
    {
      "cell_type": "code",
      "metadata": {
        "colab": {
          "base_uri": "https://localhost:8080/"
        },
        "id": "Oq5I3pL4w9r7",
        "outputId": "c2758a9a-60ce-41c0-ed7f-247ba781b33b"
      },
      "source": [
        "# some notes in Kant\n",
        "df = df.drop(df[df['sentence_str'].str.contains('\\sVorl\\s')].index)\n",
        "df = df.drop(df[df['sentence_str'].str.contains('\\sberschwenglich')].index)\n",
        "\n",
        "len(df)"
      ],
      "execution_count": null,
      "outputs": [
        {
          "output_type": "execute_result",
          "data": {
            "text/plain": [
              "369890"
            ]
          },
          "metadata": {
            "tags": []
          },
          "execution_count": 43
        }
      ]
    },
    {
      "cell_type": "code",
      "metadata": {
        "colab": {
          "base_uri": "https://localhost:8080/"
        },
        "id": "w3nv5S4exJXK",
        "outputId": "5fa1be0b-81cc-43ca-bebc-e1c586314e26"
      },
      "source": [
        "# a common phrase in Plato / Aristotle footnotes\n",
        "df = df.drop(df[(df['author']=='Plato') & (df['sentence_str'].str.contains('(?i)reading')) & (df['sentence_length'] < 40)].index)\n",
        "df = df.drop(df[(df['author']=='Aristotle') & (df['sentence_str'].str.contains('(?i)reading')) & (df['sentence_length'] < 40)].index)\n",
        "\n",
        "len(df)"
      ],
      "execution_count": null,
      "outputs": [
        {
          "output_type": "execute_result",
          "data": {
            "text/plain": [
              "369616"
            ]
          },
          "metadata": {
            "tags": []
          },
          "execution_count": 44
        }
      ]
    },
    {
      "cell_type": "code",
      "metadata": {
        "colab": {
          "base_uri": "https://localhost:8080/"
        },
        "id": "dCx9E2tkdqt4",
        "outputId": "cd4de058-4d54-4ce2-b297-67497d47b032"
      },
      "source": [
        "# mentions of Aristotle in Plato\n",
        "df = df.drop(df[(df['author']=='Plato') & df['sentence_str'].str.contains('Aristotle')].index)\n",
        "\n",
        "len(df)"
      ],
      "execution_count": null,
      "outputs": [
        {
          "output_type": "execute_result",
          "data": {
            "text/plain": [
              "369590"
            ]
          },
          "metadata": {
            "tags": []
          },
          "execution_count": 45
        }
      ]
    },
    {
      "cell_type": "markdown",
      "metadata": {
        "id": "vtli1TPlNq55"
      },
      "source": [
        "### Lemmatizing, Tokenizing, and Exporting"
      ]
    },
    {
      "cell_type": "code",
      "metadata": {
        "colab": {
          "base_uri": "https://localhost:8080/"
        },
        "id": "ybCPk5oixJgd",
        "outputId": "91a5a8a2-513d-4a07-9687-def7c7461320"
      },
      "source": [
        "df['school'].value_counts(normalize=True)"
      ],
      "execution_count": null,
      "outputs": [
        {
          "output_type": "execute_result",
          "data": {
            "text/plain": [
              "analytic           0.149963\n",
              "aristotle          0.131981\n",
              "german_idealism    0.113997\n",
              "plato              0.103807\n",
              "continental        0.091396\n",
              "phenomenology      0.077310\n",
              "rationalism        0.062093\n",
              "empiricism         0.053927\n",
              "scholasticism      0.050423\n",
              "capitalism         0.049228\n",
              "communism          0.048589\n",
              "feminism           0.028410\n",
              "stoicism           0.020439\n",
              "nietzsche          0.018437\n",
              "Name: school, dtype: float64"
            ]
          },
          "metadata": {
            "tags": []
          },
          "execution_count": 46
        }
      ]
    },
    {
      "cell_type": "markdown",
      "metadata": {
        "id": "_MySvh4hdpO1"
      },
      "source": [
        ""
      ]
    },
    {
      "cell_type": "code",
      "metadata": {
        "id": "S1wT-MvpxJot"
      },
      "source": [
        "from gensim.utils import simple_preprocess\n",
        "\n",
        "# use gensim to tokenize sentences\n",
        "df['tokenized_txt'] = df['sentence_str'].map(lambda x: simple_preprocess(x.lower(),deacc=True,\n",
        "                                                        max_len=200))\n",
        "\n",
        "# use spacey to get intelligent lemmatization\n",
        "def lemmatize_sentence(sentence):\n",
        "  lemmatized_txt = ''\n",
        "  for word in sentence:\n",
        "    lemmatized_txt += ' ' + str(word.lemma_)\n",
        "  return lemmatized_txt"
      ],
      "execution_count": null,
      "outputs": []
    },
    {
      "cell_type": "code",
      "metadata": {
        "id": "3O3mXZKkxJxM"
      },
      "source": [
        "df['lemmatized_str'] = df['sentence_spacy'].apply(lemmatize_sentence)"
      ],
      "execution_count": null,
      "outputs": []
    },
    {
      "cell_type": "code",
      "metadata": {
        "colab": {
          "base_uri": "https://localhost:8080/"
        },
        "id": "NIAE4NYsVyrc",
        "outputId": "d33e6933-8d10-45fc-ea89-bd2e2e04b709"
      },
      "source": [
        "# cleaning up the types of the columns\n",
        "df['original_publication_date'] = df['original_publication_date'].astype(int)\n",
        "df['corpus_edition_date'] = df['corpus_edition_date'].astype(int)\n",
        "\n",
        "df.dtypes"
      ],
      "execution_count": null,
      "outputs": [
        {
          "output_type": "execute_result",
          "data": {
            "text/plain": [
              "title                        object\n",
              "author                       object\n",
              "school                       object\n",
              "sentence_spacy               object\n",
              "sentence_str                 object\n",
              "original_publication_date     int64\n",
              "corpus_edition_date           int64\n",
              "sentence_length               int64\n",
              "sentence_lowered             object\n",
              "tokenized_txt                object\n",
              "lemmatized_str               object\n",
              "dtype: object"
            ]
          },
          "metadata": {
            "tags": []
          },
          "execution_count": 49
        }
      ]
    },
    {
      "cell_type": "code",
      "metadata": {
        "colab": {
          "base_uri": "https://localhost:8080/",
          "height": 837
        },
        "id": "mxmcq_BQxJ48",
        "outputId": "a5c71297-3814-4e3f-f5a8-6d523cfb5aa0"
      },
      "source": [
        "df.sample(5)"
      ],
      "execution_count": null,
      "outputs": [
        {
          "output_type": "execute_result",
          "data": {
            "text/html": [
              "<div>\n",
              "<style scoped>\n",
              "    .dataframe tbody tr th:only-of-type {\n",
              "        vertical-align: middle;\n",
              "    }\n",
              "\n",
              "    .dataframe tbody tr th {\n",
              "        vertical-align: top;\n",
              "    }\n",
              "\n",
              "    .dataframe thead th {\n",
              "        text-align: right;\n",
              "    }\n",
              "</style>\n",
              "<table border=\"1\" class=\"dataframe\">\n",
              "  <thead>\n",
              "    <tr style=\"text-align: right;\">\n",
              "      <th></th>\n",
              "      <th>title</th>\n",
              "      <th>author</th>\n",
              "      <th>school</th>\n",
              "      <th>sentence_spacy</th>\n",
              "      <th>sentence_str</th>\n",
              "      <th>original_publication_date</th>\n",
              "      <th>corpus_edition_date</th>\n",
              "      <th>sentence_length</th>\n",
              "      <th>sentence_lowered</th>\n",
              "      <th>tokenized_txt</th>\n",
              "      <th>lemmatized_str</th>\n",
              "    </tr>\n",
              "  </thead>\n",
              "  <tbody>\n",
              "    <tr>\n",
              "      <th>336623</th>\n",
              "      <td>Capital</td>\n",
              "      <td>Marx</td>\n",
              "      <td>communism</td>\n",
              "      <td>(In, all, cases, it, is, the, poverty, of, working, populations, .)</td>\n",
              "      <td>In all cases it is the poverty of working populations.</td>\n",
              "      <td>1883</td>\n",
              "      <td>1887</td>\n",
              "      <td>54</td>\n",
              "      <td>in all cases it is the poverty of working populations.</td>\n",
              "      <td>[in, all, cases, it, is, the, poverty, of, working, populations]</td>\n",
              "      <td>in all case -PRON- be the poverty of working population .</td>\n",
              "    </tr>\n",
              "    <tr>\n",
              "      <th>69811</th>\n",
              "      <td>Aristotle - Complete Works</td>\n",
              "      <td>Aristotle</td>\n",
              "      <td>aristotle</td>\n",
              "      <td>(The, head, is, clearly, distinguished, ,, and, in, it, the, eyes, ,, swollen, out, to, a, great, extent, .)</td>\n",
              "      <td>The head is clearly distinguished, and in it the eyes, swollen out to a great extent.</td>\n",
              "      <td>-320</td>\n",
              "      <td>1991</td>\n",
              "      <td>85</td>\n",
              "      <td>the head is clearly distinguished, and in it the eyes, swollen out to a great extent.</td>\n",
              "      <td>[the, head, is, clearly, distinguished, and, in, it, the, eyes, swollen, out, to, great, extent]</td>\n",
              "      <td>the head be clearly distinguished , and in -PRON- the eye , swell out to a great extent .</td>\n",
              "    </tr>\n",
              "    <tr>\n",
              "      <th>315414</th>\n",
              "      <td>The Phenomenology Of Spirit</td>\n",
              "      <td>Hegel</td>\n",
              "      <td>german_idealism</td>\n",
              "      <td>(which, had, only, the, semblance, of, an, antithesis, ;, it, is, universal, consciousness, and, will, .)</td>\n",
              "      <td>which had only the semblance of an antithesis; it is universal consciousness and will.</td>\n",
              "      <td>1807</td>\n",
              "      <td>1977</td>\n",
              "      <td>86</td>\n",
              "      <td>which had only the semblance of an antithesis; it is universal consciousness and will.</td>\n",
              "      <td>[which, had, only, the, semblance, of, an, antithesis, it, is, universal, consciousness, and, will]</td>\n",
              "      <td>which have only the semblance of an antithesis ; -PRON- be universal consciousness and will .</td>\n",
              "    </tr>\n",
              "    <tr>\n",
              "      <th>17521</th>\n",
              "      <td>Plato - Complete Works</td>\n",
              "      <td>Plato</td>\n",
              "      <td>plato</td>\n",
              "      <td>(According, to, legend, ,, they, murdered, their, mothers, to, avenge, the, deaths, of, their, fathers, .)</td>\n",
              "      <td>According to legend, they murdered their mothers to avenge the deaths of their fathers.</td>\n",
              "      <td>-350</td>\n",
              "      <td>1997</td>\n",
              "      <td>87</td>\n",
              "      <td>according to legend, they murdered their mothers to avenge the deaths of their fathers.</td>\n",
              "      <td>[according, to, legend, they, murdered, their, mothers, to, avenge, the, deaths, of, their, fathers]</td>\n",
              "      <td>accord to legend , -PRON- murder -PRON- mother to avenge the death of -PRON- father .</td>\n",
              "    </tr>\n",
              "    <tr>\n",
              "      <th>117159</th>\n",
              "      <td>A Treatise Of Human Nature</td>\n",
              "      <td>Hume</td>\n",
              "      <td>empiricism</td>\n",
              "      <td>(But, though, in, our, own, actions, we, may, frequently, lose, sight, of, that, interest, ,, which, we, have, in, maintaining, order, ,, and, may, follow, a, lesser, and, more, present, interest,...</td>\n",
              "      <td>But though in our own actions we may frequently lose sight of that interest, which we have in maintaining order, and may follow a lesser and more present interest, we never fail to observe the pre...</td>\n",
              "      <td>1739</td>\n",
              "      <td>2003</td>\n",
              "      <td>369</td>\n",
              "      <td>but though in our own actions we may frequently lose sight of that interest, which we have in maintaining order, and may follow a lesser and more present interest, we never fail to observe the pre...</td>\n",
              "      <td>[but, though, in, our, own, actions, we, may, frequently, lose, sight, of, that, interest, which, we, have, in, maintaining, order, and, may, follow, lesser, and, more, present, interest, we, neve...</td>\n",
              "      <td>but though in -PRON- own action -PRON- may frequently lose sight of that interest , which -PRON- have in maintain order , and may follow a less and more present interest , -PRON- never fail to ob...</td>\n",
              "    </tr>\n",
              "  </tbody>\n",
              "</table>\n",
              "</div>"
            ],
            "text/plain": [
              "                              title  ...                                                                                                                                                                                           lemmatized_str\n",
              "336623                      Capital  ...                                                                                                                                                in all case -PRON- be the poverty of working population .\n",
              "69811    Aristotle - Complete Works  ...                                                                                                                the head be clearly distinguished , and in -PRON- the eye , swell out to a great extent .\n",
              "315414  The Phenomenology Of Spirit  ...                                                                                                            which have only the semblance of an antithesis ; -PRON- be universal consciousness and will .\n",
              "17521        Plato - Complete Works  ...                                                                                                                    accord to legend , -PRON- murder -PRON- mother to avenge the death of -PRON- father .\n",
              "117159   A Treatise Of Human Nature  ...   but though in -PRON- own action -PRON- may frequently lose sight of that interest , which -PRON- have in maintain order , and may follow a less and more present interest , -PRON- never fail to ob...\n",
              "\n",
              "[5 rows x 11 columns]"
            ]
          },
          "metadata": {
            "tags": []
          },
          "execution_count": 50
        }
      ]
    },
    {
      "cell_type": "markdown",
      "metadata": {
        "id": "FeEVIBYZN64H"
      },
      "source": [
        "Now we can export the new CSV to use in other projects. "
      ]
    },
    {
      "cell_type": "code",
      "metadata": {
        "id": "6v0M4jbUxKBt",
        "colab": {
          "base_uri": "https://localhost:8080/",
          "height": 17
        },
        "outputId": "912ae2a3-2ca2-4931-cf55-d83365465cb3"
      },
      "source": [
        "# export the csv\n",
        "from google.colab import files\n",
        "df.to_csv('philosophy_data.csv', index=False) \n",
        "files.download('philosophy_data.csv')"
      ],
      "execution_count": null,
      "outputs": [
        {
          "output_type": "display_data",
          "data": {
            "application/javascript": [
              "\n",
              "    async function download(id, filename, size) {\n",
              "      if (!google.colab.kernel.accessAllowed) {\n",
              "        return;\n",
              "      }\n",
              "      const div = document.createElement('div');\n",
              "      const label = document.createElement('label');\n",
              "      label.textContent = `Downloading \"${filename}\": `;\n",
              "      div.appendChild(label);\n",
              "      const progress = document.createElement('progress');\n",
              "      progress.max = size;\n",
              "      div.appendChild(progress);\n",
              "      document.body.appendChild(div);\n",
              "\n",
              "      const buffers = [];\n",
              "      let downloaded = 0;\n",
              "\n",
              "      const channel = await google.colab.kernel.comms.open(id);\n",
              "      // Send a message to notify the kernel that we're ready.\n",
              "      channel.send({})\n",
              "\n",
              "      for await (const message of channel.messages) {\n",
              "        // Send a message to notify the kernel that we're ready.\n",
              "        channel.send({})\n",
              "        if (message.buffers) {\n",
              "          for (const buffer of message.buffers) {\n",
              "            buffers.push(buffer);\n",
              "            downloaded += buffer.byteLength;\n",
              "            progress.value = downloaded;\n",
              "          }\n",
              "        }\n",
              "      }\n",
              "      const blob = new Blob(buffers, {type: 'application/binary'});\n",
              "      const a = document.createElement('a');\n",
              "      a.href = window.URL.createObjectURL(blob);\n",
              "      a.download = filename;\n",
              "      div.appendChild(a);\n",
              "      a.click();\n",
              "      div.remove();\n",
              "    }\n",
              "  "
            ],
            "text/plain": [
              "<IPython.core.display.Javascript object>"
            ]
          },
          "metadata": {
            "tags": []
          }
        },
        {
          "output_type": "display_data",
          "data": {
            "application/javascript": [
              "download(\"download_ecf906ad-e6c6-4234-b76c-fbc232651412\", \"philosophy_data.csv\", 332585220)"
            ],
            "text/plain": [
              "<IPython.core.display.Javascript object>"
            ]
          },
          "metadata": {
            "tags": []
          }
        }
      ]
    },
    {
      "cell_type": "markdown",
      "metadata": {
        "id": "ZUjHGmITs37Q"
      },
      "source": [
        "With the data exported in CSV format, all that remains is to upload it to the Heroku PostgreSQL database for searching."
      ]
    },
    {
      "cell_type": "code",
      "metadata": {
        "colab": {
          "base_uri": "https://localhost:8080/",
          "height": 1000
        },
        "id": "cZSrMDngBWXV",
        "outputId": "f2d9fafc-5b6d-4202-d929-151f2327d72e"
      },
      "source": [
        "old_df = pd.read_csv('/gdrive/MyDrive/Colab_Projects/philosophy_data_project/philosophy_data.csv')\n",
        "old_df.sample(5)"
      ],
      "execution_count": null,
      "outputs": [
        {
          "output_type": "execute_result",
          "data": {
            "text/html": [
              "<div>\n",
              "<style scoped>\n",
              "    .dataframe tbody tr th:only-of-type {\n",
              "        vertical-align: middle;\n",
              "    }\n",
              "\n",
              "    .dataframe tbody tr th {\n",
              "        vertical-align: top;\n",
              "    }\n",
              "\n",
              "    .dataframe thead th {\n",
              "        text-align: right;\n",
              "    }\n",
              "</style>\n",
              "<table border=\"1\" class=\"dataframe\">\n",
              "  <thead>\n",
              "    <tr style=\"text-align: right;\">\n",
              "      <th></th>\n",
              "      <th>title</th>\n",
              "      <th>author</th>\n",
              "      <th>school</th>\n",
              "      <th>sentence_spacy</th>\n",
              "      <th>sentence_str</th>\n",
              "      <th>original_publication_date</th>\n",
              "      <th>corpus_edition_date</th>\n",
              "      <th>sentence_length</th>\n",
              "      <th>sentence_lowered</th>\n",
              "      <th>tokenized_txt</th>\n",
              "      <th>lemmatized_str</th>\n",
              "    </tr>\n",
              "  </thead>\n",
              "  <tbody>\n",
              "    <tr>\n",
              "      <th>125388</th>\n",
              "      <td>The Search After Truth</td>\n",
              "      <td>Malebranche</td>\n",
              "      <td>rationalism</td>\n",
              "      <td>The reason for this is that since sensations are modifications of the soul, we do not know them by clear ideas but only by inner sensation; and as I have explained in Bo Three, it is impossible to...</td>\n",
              "      <td>The reason for this is that since sensations are modifications of the soul, we do not know them by clear ideas but only by inner sensation; and as I have explained in Bo Three, it is impossible to...</td>\n",
              "      <td>1674</td>\n",
              "      <td>1997</td>\n",
              "      <td>234</td>\n",
              "      <td>the reason for this is that since sensations are modifications of the soul, we do not know them by clear ideas but only by inner sensation; and as i have explained in bo three, it is impossible to...</td>\n",
              "      <td>['the', 'reason', 'for', 'this', 'is', 'that', 'since', 'sensations', 'are', 'modifications', 'of', 'the', 'soul', 'we', 'do', 'not', 'know', 'them', 'by', 'clear', 'ideas', 'but', 'only', 'by', '...</td>\n",
              "      <td>the reason for this be that since sensation be modification of the soul , -PRON- do not know -PRON- by clear idea but only by inner sensation ; and as -PRON- have explain in Bo Three , -PRON- be ...</td>\n",
              "    </tr>\n",
              "    <tr>\n",
              "      <th>259984</th>\n",
              "      <td>Critique Of Pure Reason</td>\n",
              "      <td>Kant</td>\n",
              "      <td>german_idealism</td>\n",
              "      <td>The aim of reason with its ideal is, on the contrary, a thoroughgoing determination in accordance with a priori rules; hence it thinks for itself an object that is to be thoroughly determinable in...</td>\n",
              "      <td>The aim of reason with its ideal is, on the contrary, a thoroughgoing determination in accordance with a priori rules; hence it thinks for itself an object that is to be thoroughly determinable in...</td>\n",
              "      <td>1781</td>\n",
              "      <td>1998</td>\n",
              "      <td>347</td>\n",
              "      <td>the aim of reason with its ideal is, on the contrary, a thoroughgoing determination in accordance with a priori rules; hence it thinks for itself an object that is to be thoroughly determinable in...</td>\n",
              "      <td>['the', 'aim', 'of', 'reason', 'with', 'its', 'ideal', 'is', 'on', 'the', 'contrary', 'thoroughgoing', 'determination', 'in', 'accordance', 'with', 'priori', 'rules', 'hence', 'it', 'thinks', 'for...</td>\n",
              "      <td>the aim of reason with -PRON- ideal be , on the contrary , a thoroughgoing determination in accordance with a priori rule ; hence -PRON- think for -PRON- an object that be to be thoroughly determ...</td>\n",
              "    </tr>\n",
              "    <tr>\n",
              "      <th>71547</th>\n",
              "      <td>Aristotle - Complete Works</td>\n",
              "      <td>Aristotle</td>\n",
              "      <td>aristotle</td>\n",
              "      <td>Even the man whom one might suppose (B) to speak most consistently Empedocles, even he has made the same mistake; for he maintains that strife is a principle that causes destruction, but strife wo...</td>\n",
              "      <td>Even the man whom one might suppose (B) to speak most consistently Empedocles, even he has made the same mistake; for he maintains that strife is a principle that causes destruction, but strife wo...</td>\n",
              "      <td>-320</td>\n",
              "      <td>1991</td>\n",
              "      <td>307</td>\n",
              "      <td>even the man whom one might suppose (b) to speak most consistently empedocles, even he has made the same mistake; for he maintains that strife is a principle that causes destruction, but strife wo...</td>\n",
              "      <td>['even', 'the', 'man', 'whom', 'one', 'might', 'suppose', 'to', 'speak', 'most', 'consistently', 'empedocles', 'even', 'he', 'has', 'made', 'the', 'same', 'mistake', 'for', 'he', 'maintains', 'tha...</td>\n",
              "      <td>even the man whom one may suppose ( b ) to speak most consistently Empedocles , even -PRON- have make the same mistake ; for -PRON- maintain that strife be a principle that cause destruction , bu...</td>\n",
              "    </tr>\n",
              "    <tr>\n",
              "      <th>285287</th>\n",
              "      <td>Elements Of The Philosophy Of Right</td>\n",
              "      <td>Hegel</td>\n",
              "      <td>german_idealism</td>\n",
              "      <td>When a historical justification con fuses an origin in external factors with an ori 'n in the con cept, it unconsciously achieves the opposite of what it intends.</td>\n",
              "      <td>When a historical justification con fuses an origin in external factors with an ori 'n in the con cept, it unconsciously achieves the opposite of what it intends.</td>\n",
              "      <td>1820</td>\n",
              "      <td>1991</td>\n",
              "      <td>162</td>\n",
              "      <td>when a historical justification con fuses an origin in external factors with an ori 'n in the con cept, it unconsciously achieves the opposite of what it intends.</td>\n",
              "      <td>['when', 'historical', 'justification', 'con', 'fuses', 'an', 'origin', 'in', 'external', 'factors', 'with', 'an', 'ori', 'in', 'the', 'con', 'cept', 'it', 'unconsciously', 'achieves', 'the', 'opp...</td>\n",
              "      <td>when a historical justification con fuse an origin in external factor with an ori ' n in the con cept , -PRON- unconsciously achieve the opposite of what -PRON- intend .</td>\n",
              "    </tr>\n",
              "    <tr>\n",
              "      <th>253069</th>\n",
              "      <td>Critique Of Judgement</td>\n",
              "      <td>Kant</td>\n",
              "      <td>german_idealism</td>\n",
              "      <td>Hence, we are ignorant how far the mechanical mode of explanation possible for us may penetrate.</td>\n",
              "      <td>Hence, we are ignorant how far the mechanical mode of explanation possible for us may penetrate.</td>\n",
              "      <td>1790</td>\n",
              "      <td>2007</td>\n",
              "      <td>96</td>\n",
              "      <td>hence, we are ignorant how far the mechanical mode of explanation possible for us may penetrate.</td>\n",
              "      <td>['hence', 'we', 'are', 'ignorant', 'how', 'far', 'the', 'mechanical', 'mode', 'of', 'explanation', 'possible', 'for', 'us', 'may', 'penetrate']</td>\n",
              "      <td>hence , -PRON- be ignorant how far the mechanical mode of explanation possible for -PRON- may penetrate .</td>\n",
              "    </tr>\n",
              "  </tbody>\n",
              "</table>\n",
              "</div>"
            ],
            "text/plain": [
              "                                      title  ...                                                                                                                                                                                           lemmatized_str\n",
              "125388               The Search After Truth  ...   the reason for this be that since sensation be modification of the soul , -PRON- do not know -PRON- by clear idea but only by inner sensation ; and as -PRON- have explain in Bo Three , -PRON- be ...\n",
              "259984              Critique Of Pure Reason  ...   the aim of reason with -PRON- ideal be , on the contrary , a thoroughgoing determination in accordance with a priori rule ; hence -PRON- think for -PRON- an object that be to be thoroughly determ...\n",
              "71547            Aristotle - Complete Works  ...   even the man whom one may suppose ( b ) to speak most consistently Empedocles , even -PRON- have make the same mistake ; for -PRON- maintain that strife be a principle that cause destruction , bu...\n",
              "285287  Elements Of The Philosophy Of Right  ...                                when a historical justification con fuse an origin in external factor with an ori ' n in the con cept , -PRON- unconsciously achieve the opposite of what -PRON- intend .\n",
              "253069                Critique Of Judgement  ...                                                                                                hence , -PRON- be ignorant how far the mechanical mode of explanation possible for -PRON- may penetrate .\n",
              "\n",
              "[5 rows x 11 columns]"
            ]
          },
          "metadata": {
            "tags": []
          },
          "execution_count": 65
        }
      ]
    },
    {
      "cell_type": "code",
      "metadata": {
        "id": "vJ6Wd171JZZf",
        "colab": {
          "base_uri": "https://localhost:8080/",
          "height": 279
        },
        "outputId": "98877860-a2ca-4af9-ed1c-a3577effb47b"
      },
      "source": [
        "# prepare to upload to the PostgreSQL database\n",
        "for_db = old_df\n",
        "for_db['date'] = for_db['original_publication_date']\n",
        "for_db['date'] = for_db['date'].apply(lambda x: str(x)[1:]+' BC' if x < 0 else str(x))\n",
        "for_db['sentence'] = for_db['sentence_str']\n",
        "for_db['school'] = for_db['school'].apply(lambda x: x.replace('_', ' ').title())\n",
        "for_db = for_db.drop(['sentence_spacy', \n",
        "                      'sentence_length',\n",
        "                      'sentence_lowered', \n",
        "                      'sentence_str', \n",
        "                      'tokenized_txt', \n",
        "                      'lemmatized_str',\n",
        "                      'corpus_edition_date',\n",
        "                      'original_publication_date'], axis=1)\n",
        "for_db.columns = [i.upper() for i in for_db.columns]\n",
        "\n",
        "for_db.sample(5)"
      ],
      "execution_count": null,
      "outputs": [
        {
          "output_type": "execute_result",
          "data": {
            "text/html": [
              "<div>\n",
              "<style scoped>\n",
              "    .dataframe tbody tr th:only-of-type {\n",
              "        vertical-align: middle;\n",
              "    }\n",
              "\n",
              "    .dataframe tbody tr th {\n",
              "        vertical-align: top;\n",
              "    }\n",
              "\n",
              "    .dataframe thead th {\n",
              "        text-align: right;\n",
              "    }\n",
              "</style>\n",
              "<table border=\"1\" class=\"dataframe\">\n",
              "  <thead>\n",
              "    <tr style=\"text-align: right;\">\n",
              "      <th></th>\n",
              "      <th>TITLE</th>\n",
              "      <th>AUTHOR</th>\n",
              "      <th>SCHOOL</th>\n",
              "      <th>DATE</th>\n",
              "      <th>SENTENCE</th>\n",
              "    </tr>\n",
              "  </thead>\n",
              "  <tbody>\n",
              "    <tr>\n",
              "      <th>356760</th>\n",
              "      <td>Proslogion</td>\n",
              "      <td>Anselm</td>\n",
              "      <td>Scholasticism</td>\n",
              "      <td>1077</td>\n",
              "      <td>The break is more or less painful, depending on the case; if she has already broken the ties connecting her to her father, brothers and sisters, and above all her mother, she can leave painlessly;...</td>\n",
              "    </tr>\n",
              "    <tr>\n",
              "      <th>280054</th>\n",
              "      <td>The Phenomenology Of Spirit</td>\n",
              "      <td>Hegel</td>\n",
              "      <td>German Idealism</td>\n",
              "      <td>1807</td>\n",
              "      <td>Meaning' and 'perceiving', which previously were supersededjor us, are now superseded by and for consciousness itself.</td>\n",
              "    </tr>\n",
              "    <tr>\n",
              "      <th>361829</th>\n",
              "      <td>De Veritate</td>\n",
              "      <td>Anselm</td>\n",
              "      <td>Scholasticism</td>\n",
              "      <td>1086</td>\n",
              "      <td>Her 'kind' master's financial troubles compel him to sell Uncle Tom and Eliza's son Harry</td>\n",
              "    </tr>\n",
              "    <tr>\n",
              "      <th>241588</th>\n",
              "      <td>Off The Beaten Track</td>\n",
              "      <td>Heidegger</td>\n",
              "      <td>Phenomenology</td>\n",
              "      <td>1950</td>\n",
              "      <td>The temple and its precinct do not, however, float off into the indefinite.</td>\n",
              "    </tr>\n",
              "    <tr>\n",
              "      <th>246336</th>\n",
              "      <td>Off The Beaten Track</td>\n",
              "      <td>Heidegger</td>\n",
              "      <td>Phenomenology</td>\n",
              "      <td>1950</td>\n",
              "      <td>On the other hand, the risk that risks more fashions us a safebeing.</td>\n",
              "    </tr>\n",
              "  </tbody>\n",
              "</table>\n",
              "</div>"
            ],
            "text/plain": [
              "                              TITLE  ...                                                                                                                                                                                                 SENTENCE\n",
              "356760                   Proslogion  ...  The break is more or less painful, depending on the case; if she has already broken the ties connecting her to her father, brothers and sisters, and above all her mother, she can leave painlessly;...\n",
              "280054  The Phenomenology Of Spirit  ...                                                                                   Meaning' and 'perceiving', which previously were supersededjor us, are now superseded by and for consciousness itself.\n",
              "361829                  De Veritate  ...                                                                                                                Her 'kind' master's financial troubles compel him to sell Uncle Tom and Eliza's son Harry\n",
              "241588         Off The Beaten Track  ...                                                                                                                              The temple and its precinct do not, however, float off into the indefinite.\n",
              "246336         Off The Beaten Track  ...                                                                                                                                     On the other hand, the risk that risks more fashions us a safebeing.\n",
              "\n",
              "[5 rows x 5 columns]"
            ]
          },
          "metadata": {
            "tags": []
          },
          "execution_count": 66
        }
      ]
    },
    {
      "cell_type": "code",
      "metadata": {
        "colab": {
          "base_uri": "https://localhost:8080/",
          "height": 511
        },
        "id": "2CD4ylxGmZ-7",
        "outputId": "297f5696-f649-4bd9-e0fe-50f72803116e"
      },
      "source": [
        "for_db[for_db['TITLE']=='On Anger'].sample(10)"
      ],
      "execution_count": null,
      "outputs": [
        {
          "output_type": "execute_result",
          "data": {
            "text/html": [
              "<div>\n",
              "<style scoped>\n",
              "    .dataframe tbody tr th:only-of-type {\n",
              "        vertical-align: middle;\n",
              "    }\n",
              "\n",
              "    .dataframe tbody tr th {\n",
              "        vertical-align: top;\n",
              "    }\n",
              "\n",
              "    .dataframe thead th {\n",
              "        text-align: right;\n",
              "    }\n",
              "</style>\n",
              "<table border=\"1\" class=\"dataframe\">\n",
              "  <thead>\n",
              "    <tr style=\"text-align: right;\">\n",
              "      <th></th>\n",
              "      <th>TITLE</th>\n",
              "      <th>AUTHOR</th>\n",
              "      <th>SCHOOL</th>\n",
              "      <th>DATE</th>\n",
              "      <th>SENTENCE</th>\n",
              "    </tr>\n",
              "  </thead>\n",
              "  <tbody>\n",
              "    <tr>\n",
              "      <th>368675</th>\n",
              "      <td>On Anger</td>\n",
              "      <td>Seneca</td>\n",
              "      <td>Stoicism</td>\n",
              "      <td>45</td>\n",
              "      <td>For the statement's definition remains the same irrespective of whether what it states is or is not the case.</td>\n",
              "    </tr>\n",
              "    <tr>\n",
              "      <th>368834</th>\n",
              "      <td>On Anger</td>\n",
              "      <td>Seneca</td>\n",
              "      <td>Stoicism</td>\n",
              "      <td>45</td>\n",
              "      <td>I would say, rather, that He causes or permits something only wisely and well.</td>\n",
              "    </tr>\n",
              "    <tr>\n",
              "      <th>368754</th>\n",
              "      <td>On Anger</td>\n",
              "      <td>Seneca</td>\n",
              "      <td>Stoicism</td>\n",
              "      <td>45</td>\n",
              "      <td>For there are rational actions, such as giving alms, and there are non rational actions such as the action of fire, which heats.</td>\n",
              "    </tr>\n",
              "    <tr>\n",
              "      <th>368686</th>\n",
              "      <td>On Anger</td>\n",
              "      <td>Seneca</td>\n",
              "      <td>Stoicism</td>\n",
              "      <td>45</td>\n",
              "      <td>Moreover, when it signifies that what is is, its signification is true.</td>\n",
              "    </tr>\n",
              "    <tr>\n",
              "      <th>368869</th>\n",
              "      <td>On Anger</td>\n",
              "      <td>Seneca</td>\n",
              "      <td>Stoicism</td>\n",
              "      <td>45</td>\n",
              "      <td>So you see that it very often can happen that the same action both ought and ought not to be, though in different respects.</td>\n",
              "    </tr>\n",
              "    <tr>\n",
              "      <th>368964</th>\n",
              "      <td>On Anger</td>\n",
              "      <td>Seneca</td>\n",
              "      <td>Stoicism</td>\n",
              "      <td>45</td>\n",
              "      <td>Therefore, the rightness which brings praise to a thing which has rightness is present only in a rational nature, which alone per ceives the rightness we are talking about.</td>\n",
              "    </tr>\n",
              "    <tr>\n",
              "      <th>368763</th>\n",
              "      <td>On Anger</td>\n",
              "      <td>Seneca</td>\n",
              "      <td>Stoicism</td>\n",
              "      <td>45</td>\n",
              "      <td>For no one denies that such per Regarding the expression 'ab eo a</td>\n",
              "    </tr>\n",
              "    <tr>\n",
              "      <th>369065</th>\n",
              "      <td>On Anger</td>\n",
              "      <td>Seneca</td>\n",
              "      <td>Stoicism</td>\n",
              "      <td>45</td>\n",
              "      <td>And so, it will not be right for what ought to be signified to be signified?.</td>\n",
              "    </tr>\n",
              "    <tr>\n",
              "      <th>369058</th>\n",
              "      <td>On Anger</td>\n",
              "      <td>Seneca</td>\n",
              "      <td>Stoicism</td>\n",
              "      <td>45</td>\n",
              "      <td>For when what is is signified to be, or when what is not is signified not to be, then the signification is correct, or right, and (assuredly) rightness exists, without which the signification coul...</td>\n",
              "    </tr>\n",
              "    <tr>\n",
              "      <th>368747</th>\n",
              "      <td>On Anger</td>\n",
              "      <td>Seneca</td>\n",
              "      <td>Stoicism</td>\n",
              "      <td>45</td>\n",
              "      <td>But everyone admits that whoever does what he ought does what is good and what is right.</td>\n",
              "    </tr>\n",
              "  </tbody>\n",
              "</table>\n",
              "</div>"
            ],
            "text/plain": [
              "           TITLE  ...                                                                                                                                                                                                 SENTENCE\n",
              "368675  On Anger  ...                                                                                            For the statement's definition remains the same irrespective of whether what it states is or is not the case.\n",
              "368834  On Anger  ...                                                                                                                           I would say, rather, that He causes or permits something only wisely and well.\n",
              "368754  On Anger  ...                                                                         For there are rational actions, such as giving alms, and there are non rational actions such as the action of fire, which heats.\n",
              "368686  On Anger  ...                                                                                                                                  Moreover, when it signifies that what is is, its signification is true.\n",
              "368869  On Anger  ...                                                                              So you see that it very often can happen that the same action both ought and ought not to be, though in different respects.\n",
              "368964  On Anger  ...                             Therefore, the rightness which brings praise to a thing which has rightness is present only in a rational nature, which alone per ceives the rightness we are talking about.\n",
              "368763  On Anger  ...                                                                                                                                        For no one denies that such per Regarding the expression 'ab eo a\n",
              "369065  On Anger  ...                                                                                                                            And so, it will not be right for what ought to be signified to be signified?.\n",
              "369058  On Anger  ...  For when what is is signified to be, or when what is not is signified not to be, then the signification is correct, or right, and (assuredly) rightness exists, without which the signification coul...\n",
              "368747  On Anger  ...                                                                                                                 But everyone admits that whoever does what he ought does what is good and what is right.\n",
              "\n",
              "[10 rows x 5 columns]"
            ]
          },
          "metadata": {
            "tags": []
          },
          "execution_count": 69
        }
      ]
    },
    {
      "cell_type": "code",
      "metadata": {
        "colab": {
          "base_uri": "https://localhost:8080/"
        },
        "id": "kQtdMppSEkGJ",
        "outputId": "e7aa48df-1b5f-40c6-cbfe-cc60730279e4"
      },
      "source": [
        "len(for_db)"
      ],
      "execution_count": null,
      "outputs": [
        {
          "output_type": "execute_result",
          "data": {
            "text/plain": [
              "369590"
            ]
          },
          "metadata": {
            "tags": []
          },
          "execution_count": 70
        }
      ]
    },
    {
      "cell_type": "code",
      "metadata": {
        "id": "H6hb7ky006Gp",
        "colab": {
          "base_uri": "https://localhost:8080/"
        },
        "outputId": "ba1e4a8d-a0a7-48fa-89ff-6c2a964ca501"
      },
      "source": [
        "#importing sql library \n",
        "from sqlalchemy import create_engine \n",
        "  \n",
        "# create a reference  \n",
        "# for sql library \n",
        "engine = create_engine('poso',\n",
        "                       echo = False)\n",
        "  \n",
        "# attach the data frame to the sql  \n",
        "for_db.to_sql('phil_nlp', \n",
        "               con = engine,\n",
        "              if_exists='replace',\n",
        "              method = 'multi') \n",
        "  \n",
        "# # show the complete data \n",
        "print(engine.execute(\"\"\"SELECT * FROM phil_nlp WHERE \"AUTHOR\" = 'Seneca'\"\"\").fetchone()) "
      ],
      "execution_count": null,
      "outputs": [
        {
          "output_type": "stream",
          "text": [
            "(367021, 'On Benefits', 'Seneca', 'Stoicism', '59', 'shall I call it to remembrance.')\n"
          ],
          "name": "stdout"
        }
      ]
    },
    {
      "cell_type": "code",
      "metadata": {
        "id": "3sf_LC6IlI4y"
      },
      "source": [
        ""
      ],
      "execution_count": null,
      "outputs": []
    }
  ]
}