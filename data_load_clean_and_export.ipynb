{
  "nbformat": 4,
  "nbformat_minor": 0,
  "metadata": {
    "colab": {
      "name": "data_load_clean_and_export.ipynb",
      "provenance": [],
      "collapsed_sections": [
        "6e3D7iGALiMC",
        "4Z6-svnmMCtz",
        "WI3KwHHVM8ck",
        "KaxL3byaM-RA",
        "MEqfL_K_NE7C",
        "uMxaZemLNKeH",
        "kcdlnijMNaMA",
        "0jsR1QpNNlNJ"
      ],
      "toc_visible": true,
      "machine_shape": "hm",
      "authorship_tag": "ABX9TyPjmfeWKlJ1P/6uQxN5Gacq",
      "include_colab_link": true
    },
    "kernelspec": {
      "name": "python3",
      "display_name": "Python 3"
    },
    "accelerator": "GPU"
  },
  "cells": [
    {
      "cell_type": "markdown",
      "metadata": {
        "id": "view-in-github",
        "colab_type": "text"
      },
      "source": [
        "<a href=\"https://colab.research.google.com/github/kcalizadeh/PDP_data_processing/blob/master/data_load_clean_and_export.ipynb\" target=\"_parent\"><img src=\"https://colab.research.google.com/assets/colab-badge.svg\" alt=\"Open In Colab\"/></a>"
      ]
    },
    {
      "cell_type": "markdown",
      "metadata": {
        "id": "ce4uUmGtIwgG"
      },
      "source": [
        "### Imports and Mounting Drive"
      ]
    },
    {
      "cell_type": "code",
      "metadata": {
        "colab": {
          "base_uri": "https://localhost:8080/"
        },
        "id": "dQnwn5oZqw4P",
        "outputId": "2b12ff72-a092-450e-d5e2-47a8cbfee868"
      },
      "source": [
        "# this cell mounts drive, sets the correct directory, then imports all functions\r\n",
        "# and relevant libraries via the functions.py file\r\n",
        "from google.colab import drive\r\n",
        "import sys\r\n",
        "\r\n",
        "drive.mount('/gdrive',force_remount=True)\r\n",
        "\r\n",
        "drive_path = '/gdrive/MyDrive/Colab_Projects/philosophy_data_project'\r\n",
        "\r\n",
        "sys.path.append(drive_path)"
      ],
      "execution_count": 1,
      "outputs": [
        {
          "output_type": "stream",
          "text": [
            "Mounted at /gdrive\n"
          ],
          "name": "stdout"
        }
      ]
    },
    {
      "cell_type": "code",
      "metadata": {
        "id": "icdKF0dyrAU5"
      },
      "source": [
        "from import_functions import *"
      ],
      "execution_count": 2,
      "outputs": []
    },
    {
      "cell_type": "code",
      "metadata": {
        "colab": {
          "base_uri": "https://localhost:8080/"
        },
        "id": "tym6E0D5rbwQ",
        "outputId": "7492a29d-7c30-4ff8-81cb-fbf3d79aab02"
      },
      "source": [
        "import spacy.cli\r\n",
        "spacy.cli.download(\"en_core_web_lg\")\r\n",
        "import en_core_web_lg\r\n",
        "nlp = en_core_web_lg.load()"
      ],
      "execution_count": 3,
      "outputs": [
        {
          "output_type": "stream",
          "text": [
            "\u001b[38;5;2m✔ Download and installation successful\u001b[0m\n",
            "You can now load the model via spacy.load('en_core_web_lg')\n"
          ],
          "name": "stdout"
        }
      ]
    },
    {
      "cell_type": "code",
      "metadata": {
        "id": "YTfCjw3Rrt2I"
      },
      "source": [
        "# load the texts\r\n",
        "\r\n",
        "## plato\r\n",
        "plato_complete = get_text(drive_path + '/phil_txts/plato_complete_works.txt')\r\n",
        "\r\n",
        "# aristotle\r\n",
        "aristotle_vol_1 = get_text(drive_path + '/phil_txts/aristotle_complete_works_v1.txt')\r\n",
        "aristotle_vol_2 = get_text(drive_path + '/phil_txts/aristotle_complete_works_v2.txt')\r\n",
        "\r\n",
        "## rationalists\r\n",
        "spinoza_ethics = get_guten('http://www.gutenberg.org/cache/epub/3800/pg3800.txt')\r\n",
        "spinoza_improve_understanding = get_guten('http://www.gutenberg.org/cache/epub/1016/pg1016.txt')\r\n",
        "leibniz_theodicy = get_guten('http://www.gutenberg.org/cache/epub/17147/pg17147.txt')\r\n",
        "descartes_discourse_method = get_guten('http://www.gutenberg.org/cache/epub/59/pg59.txt')\r\n",
        "descartes_meditations = get_text(drive_path + '/phil_txts/descartes_meditations.txt')\r\n",
        "malebranche_search_truth = get_text(drive_path + '/phil_txts/malebranche_search_truth.txt')\r\n",
        "\r\n",
        "## empiricists\r\n",
        "locke_understanding_1 = get_guten('http://www.gutenberg.org/cache/epub/10615/pg10615.txt')\r\n",
        "locke_understanding_2 = get_guten('http://www.gutenberg.org/cache/epub/10616/pg10616.txt')\r\n",
        "locke_treatise_gov = get_guten('http://www.gutenberg.org/cache/epub/7370/pg7370.txt')\r\n",
        "hume_treatise = get_guten('http://www.gutenberg.org/cache/epub/4705/pg4705.txt')\r\n",
        "hume_natural_religion = get_guten('http://www.gutenberg.org/cache/epub/4583/pg4583.txt')\r\n",
        "berkeley_treatise = get_guten('http://www.gutenberg.org/cache/epub/4723/pg4723.txt')\r\n",
        "berkeley_three_dialogues = get_guten('http://www.gutenberg.org/cache/epub/4724/pg4724.txt')\r\n",
        "\r\n",
        "## german idealism\r\n",
        "kant_practical_reason = get_text(drive_path + '/phil_txts/kant_critique_practical_reason.txt')\r\n",
        "kant_judgement = get_text(drive_path + '/phil_txts/kant_critique_judgement.txt')\r\n",
        "kant_pure_reason = get_text(drive_path + '/phil_txts/kant_pure_reason.txt')\r\n",
        "fichte_ethics = get_text(drive_path + '/phil_txts/fichte_system_of_ethics.txt')\r\n",
        "hegel_logic = get_text(drive_path + '/phil_txts/hegel_science_of_logic.txt')\r\n",
        "hegel_phenomenology = get_text(drive_path + '/phil_txts/hegel_phenomenology_of_spirit.txt')\r\n",
        "hegel_right = get_text(drive_path + '/phil_txts/hegel_elements_of_right.txt')\r\n",
        "\r\n",
        "## analytic\r\n",
        "russell_problems_of_phil = get_guten('http://www.gutenberg.org/cache/epub/5827/pg5827.txt')\r\n",
        "russell_analylsis_of_mind = get_guten('http://www.gutenberg.org/cache/epub/2529/pg2529.txt')\r\n",
        "moore_studies = get_guten('http://www.gutenberg.org/files/50141/50141-0.txt')\r\n",
        "wittgenstein_tractatus = get_text(drive_path + '/phil_txts/wittgenstein_tractatus.txt')\r\n",
        "wittgenstein_investigations = get_text(drive_path + '/phil_txts/wittgenstien_philosophical_investigations.txt')\r\n",
        "lewis_papers1 = get_text(drive_path + '/phil_txts/lewis_papers_1.txt')\r\n",
        "lewis_papers2 = get_text(drive_path + '/phil_txts/lewis_papers_2.txt')\r\n",
        "quine_quintessence = get_text(drive_path + '/phil_txts/quine_quintessence.txt')\r\n",
        "popper_science = get_text(drive_path + '/phil_txts/popper_logic_of_science.txt')\r\n",
        "kripke_troubles = get_text(drive_path + '/phil_txts/kripke_philosophical_troubles.txt')\r\n",
        "kripke_naming = get_text(drive_path + '/phil_txts/kripke_naming_necessity.txt')\r\n",
        "\r\n",
        "## phenomenology\r\n",
        "ponty_perception = get_text(drive_path + '/phil_txts/merleau-ponty_phenomenology_of_perception.txt')\r\n",
        "husserl_idea_of = get_text(drive_path + '/phil_txts/husserl_idea_of_phenomenology.txt')\r\n",
        "husserl_crisis = get_text(drive_path + '/phil_txts/husserl_crisis_of_euro_sciences.txt')\r\n",
        "heidegger_being_time = get_text(drive_path + '/phil_txts/heidegger_being_and_time.txt')\r\n",
        "heidegger_track = get_text(drive_path + '/phil_txts/heidegger_off_the_beaten_track.txt')\r\n",
        "\r\n",
        "## continental\r\n",
        "foucault_order = get_text(drive_path + '/phil_txts/foucault_order_of_things.txt')\r\n",
        "foucault_madness = get_text(drive_path + '/phil_txts/foucault_history_of_madness.txt')\r\n",
        "foucault_clinic = get_text(drive_path + '/phil_txts/foucault_birth_of_clinic.txt')\r\n",
        "derrida_writing = get_text(drive_path + '/phil_txts/derrida_writing_difference.txt')\r\n",
        "deleuze_oedipus = get_text(drive_path + '/phil_txts/deleuze_guattari_anti-oedipus.txt')\r\n",
        "deleuze_difference = get_text(drive_path + '/phil_txts/deleuze_difference_repetition.txt')\r\n",
        "\r\n",
        "## marxism\r\n",
        "marx_kapital = get_text(drive_path + '/phil_txts/marx_kapital.txt')\r\n",
        "marx_manifesto = get_text(drive_path + '/phil_txts/marx_manifesto.txt')\r\n",
        "lenin_essential = get_text(drive_path + '/phil_txts/lenin_essential_works.txt')\r\n",
        "\r\n",
        "## capitalist economics\r\n",
        "smith_wealth = get_guten('http://www.gutenberg.org/files/3300/3300-0.txt')\r\n",
        "ricardo_political_economy = get_guten('http://www.gutenberg.org/cache/epub/33310/pg33310.txt')\r\n",
        "keynes_employment = get_text(drive_path + '/phil_txts/keynes_theory_of_employment.txt')\r\n",
        "\r\n",
        "## stoicism\r\n",
        "epictetus_enchiridion = get_guten('http://www.gutenberg.org/files/45109/45109-0.txt')\r\n",
        "aurelius_meditations = get_guten('http://www.gutenberg.org/cache/epub/2680/pg2680.txt')\r\n",
        "\r\n",
        "## new Wittgenstein text\r\n",
        "wittgenstein_certainty = get_text(drive_path + '/phil_txts/wittgenstein_certainty.txt')\r\n"
      ],
      "execution_count": 4,
      "outputs": []
    },
    {
      "cell_type": "code",
      "metadata": {
        "id": "rtnCGgKbrwVa"
      },
      "source": [
        "# use this cell to bring in the new texts\r\n",
        "\r\n",
        "# Neitzsche texts\r\n",
        "nietzsche_ecce = get_guten('https://www.gutenberg.org/files/52190/52190-0.txt')\r\n",
        "nietzsche_twilight = get_guten('https://www.gutenberg.org/files/52263/52263-0.txt')\r\n",
        "nietzsche_antichrist = get_guten('https://www.gutenberg.org/cache/epub/19322/pg19322.txt')\r\n",
        "nietzsche_beyond = get_guten('https://www.gutenberg.org/cache/epub/4363/pg4363.txt')\r\n",
        "nietzsche_zarathustra = get_guten('https://www.gutenberg.org/files/1998/1998-0.txt')"
      ],
      "execution_count": 5,
      "outputs": []
    },
    {
      "cell_type": "markdown",
      "metadata": {
        "id": "Gtbq1njQKsSn"
      },
      "source": [
        "With texts imported, we need to clip front and end matter."
      ]
    },
    {
      "cell_type": "code",
      "metadata": {
        "id": "8cvmG0rir1tU"
      },
      "source": [
        "plato_complete = plato_complete.split('find that an enticing')[1][388:].split('Demeter, whose cult at')[0]\r\n",
        "\r\n",
        "aristotle_vol_1 = aristotle_vol_1.split('1a20-1b9')[1].split('799a16')[0]\r\n",
        "aristotle_vol_2 = aristotle_vol_2.split('830a5-830b4')[1].split('1462a5-1462a13')[0]\r\n",
        "\r\n",
        "spinoza_ethics = spinoza_ethics.split('ranslated from the Latin by R.')[1][71:].split('End of the Ethics')[0]\r\n",
        "spinoza_improve_understanding = spinoza_improve_understanding.split('Farewell.*')[1][20:].split('End of ')[0]\r\n",
        "leibniz_theodicy = leibniz_theodicy.split('appeared in 1710 as the')[1][202:].split('SUMMARY OF THE CON')[0][:-140]\r\n",
        "descartes_discourse_method = descartes_discourse_method.split('PREFATORY NOTE')[1][18:].split('End of the Pr')[0]\r\n",
        "descartes_meditations = descartes_meditations.split('LETTER')[1][1:].split('AND REPLIES')[0]\r\n",
        "malebranche_search_truth = malebranche_search_truth.split(\"n's Mind and the Use H\")[1][64:].split('Beati qui')[0]\r\n",
        "\r\n",
        "locke_understanding_1 = locke_understanding_1.split('2 Dorset Court, 24th of May, 1689')[1][50:].split('End of the Pro')[0][:-30]\r\n",
        "locke_understanding_2 = locke_understanding_2.split('1. Man fitted to form articulated Sounds.')[1][4:].split('End of the Pro')[0][:-25]\r\n",
        "locke_treatise_gov = locke_treatise_gov.split('now lodged in Christ College, Cambridge.')[1][21:].split('FINIS.')[0]\r\n",
        "hume_treatise = hume_treatise.split('ADVERTISEMENT')[1][9:].split('End of Pro')[0][:-14]\r\n",
        "hume_natural_religion = hume_natural_religion.split('PAMPHILUS TO HERMIPPUS')[1][6:].split('End of the Pro')[0][:-22]\r\n",
        "berkeley_treatise = berkeley_treatise.split('are too apt to condemn an opinion before they rightly')[1][47:].split('End of the Pr')[0][:-22]\r\n",
        "berkeley_three_dialogues = berkeley_three_dialogues.split('THE FIRST DIALOGUE')[1][17:].split('End of the Pro')[0][:-22]\r\n",
        "\r\n",
        "kant_practical_reason = kant_practical_reason.split('erner Pluhar an')[1][329:].split('stone of the wi')[0][:-20]\r\n",
        "kant_judgement = kant_judgement.split('TO THE FIRST EDITION,* 1790')[1][1:].split('EXPLANATORY NOTES')[0][:-39]\r\n",
        "kant_pure_reason = kant_pure_reason.split('Bacon of Verulam')[1][33:].split('(Persius, Satires, iii, 78-9).')[0][:-1]\r\n",
        "fichte_ethics = fichte_ethics.split('(“Krause Nachschrift,” 1798/99)')[1][111:].split('Page 345')[0][:-2]\r\n",
        "hegel_logic = hegel_logic.split('complete transformati')[1][249:].split('It is a matter of speculation how Hegel would have rev')[0][:-80]\r\n",
        "hegel_phenomenology = hegel_phenomenology.split('PREFACE: ON SCIENTIFIC')[1][1:].split('1I Adaptation')[0][:-62]\r\n",
        "hegel_right = hegel_right.split('he immediate occasion f')[1][184:].split('I Hegel lectured on the topics in')[0][:-28]\r\n",
        "\r\n",
        "russell_problems_of_phil = russell_problems_of_phil.split('n the following pages')[1].split('BIBLIOGRAPHICAL NOTE')[0]\r\n",
        "russell_analylsis_of_mind = russell_analylsis_of_mind.split('H. D. Lewis')[2][21:].split('End of Pro')[0]\r\n",
        "moore_studies = moore_studies.split('Aristotelian Society,_ 1919-20.')[1][23:].split('E Wes')[0][:-10]\r\n",
        "wittgenstein_tractatus = wittgenstein_tractatus.split('TRACTATUS LOGICO-PHILOSOPHICUS')[1][70:].split('I NDEX')[0][:-8]\r\n",
        "wittgenstein_investigations = wittgenstein_investigations.split('catty')[1][787:].split(\"above', 351\")[0]\r\n",
        "lewis_papers1 = lewis_papers1.split('The fifteen papers')[1][61:].split('Acquai')[0][:-10]\r\n",
        "lewis_papers2 = lewis_papers2.split('Part Four Counterfactuals and Time')[1][17:].split('end p.342')[0]\r\n",
        "quine_quintessence = quine_quintessence.split('T R UT H B Y C O N V E N T I O N')[1].split('CREDITS')[0][:-7]\r\n",
        "popper_science = popper_science.split('F IRST E NGLISH E DITION, 1959')[1][2:].split('This is the end of the text of the original book.')[0]\r\n",
        "kripke_troubles = kripke_troubles.split('apters 2, 3, 7, 10, 11, and 13 are previously unpublish')[1][103:].split('ans, Gareth. 198')[0][:-25]\r\n",
        "kripke_naming = kripke_naming.split('xjvdsa')[1][10:].split('hese addenda represe')[0][:-35]\r\n",
        "\r\n",
        "ponty_perception = ponty_perception.split('P REFACE')[1].split('B IBLIOGRAPHY')[0][:-65]\r\n",
        "husserl_idea_of = husserl_idea_of.split('LECTUREl')[1][9:].split('Abstraction, ideating, 47, 50, 65')[0][:-10]\r\n",
        "husserl_crisis = husserl_crisis.split('§ 1.')[1].split('Appendix X:')[0]\r\n",
        "heidegger_being_time = heidegger_being_time.split(\"AUTHOR'S PREFACE TO THE\")[1][25:].split('Not \"the\" sole way.')[0][:-8]\r\n",
        "heidegger_track = heidegger_track.split('translated in several ')[1][15:].split('et-up [dar Gestellj as the uunost obli')[0][:-32]\r\n",
        "\r\n",
        "foucault_order = foucault_order.split('P REFACE')[1]\r\n",
        "foucault_madness = foucault_madness.split('ickering simulacra, an')[1][112:].split('Page 591')[0]\r\n",
        "foucault_clinic = foucault_clinic.split('iagnostic (Paris, 1962, p.')[1][15:].split('de Sade.')[0][:-33]\r\n",
        "derrida_writing = derrida_writing.split('(Flaubert, Preface d la d')[1][10:].split('Reb Derissa')[0]\r\n",
        "deleuze_oedipus = deleuze_oedipus.split('xjdsde')[1].split('jajielaks')[0]\r\n",
        "deleuze_difference = deleuze_difference.split('Introduction:')[1].split('Plateaus')[0][:-65]\r\n",
        "\r\n",
        "marx_kapital = ((marx_kapital.split('E MAGNITUDE OF VALUE)')[1].split('expropriation of the laborer.')[0])+'expropriation of the laborer.')\r\n",
        "marx_manifesto = marx_manifesto.split('page 29')[1].split('Mao')[0][:-15]\r\n",
        "lenin_essential = lenin_essential.split('We will now sum up the theoretical')[1].split('SUGGESTIONS FOR FURTHER READING')[0]\r\n",
        "\r\n",
        "smith_wealth = smith_wealth.split('INTRODUCTION AND PLAN OF THE WORK.')[2].split('End of the Project Gutenberg EBook of An Inquiry into the Nat')[0]\r\n",
        "ricardo_political_economy = ricardo_political_economy.split('ON VALUE.')[1].split('  FOOTNOTES:')[0]\r\n",
        "keynes_employment = keynes_employment.split('GENERAL INTRODUCTION')[1].split('PRINTING ERRORS IN THE FIRST EDITION CORRECTE')[0][:-145]\r\n",
        "\r\n",
        "epictetus_enchiridion = epictetus_enchiridion.split('New York, 1927.')[1][99:].split('Footnotes')[0][:-45]\r\n",
        "aurelius_meditations = aurelius_meditations.split('Book vi. Num. xlviii.')[1].split('APPENDIX')[0]\r\n",
        "\r\n",
        "wittgenstein_certainty = wittgenstein_certainty.split('advice about the translation of this work.')[1][3:]\r\n"
      ],
      "execution_count": 6,
      "outputs": []
    },
    {
      "cell_type": "code",
      "metadata": {
        "id": "1uDGcFA-r3w7"
      },
      "source": [
        "# use this cell to deal with the new text and experiment until we have a good result\r\n",
        "\r\n",
        "nietzsche_zarathustra = nietzsche_zarathustra.split('FIRST PART. ZA')[1].split('APPENDIX.')[0]\r\n",
        "nietzsche_beyond = nietzsche_beyond.split('PREFACE')[2].split('FROM THE HEIGHTS')[0]\r\n",
        "nietzsche_ecce = nietzsche_ecce.split('PREFACE')[2].split('EDITORIAL NOTE TO POETRY')[0]\r\n",
        "nietzsche_antichrist = nietzsche_antichrist.split('PREFACE')[2].split('THE END')[0]\r\n",
        "nietzsche_twilight = nietzsche_twilight.split('re than a merely intellectual movement.')[1].split('End of the Project Gutenberg EBook of The Twilight of the Idols')[0]"
      ],
      "execution_count": 7,
      "outputs": []
    },
    {
      "cell_type": "code",
      "metadata": {
        "colab": {
          "base_uri": "https://localhost:8080/"
        },
        "id": "v0FjrwgjSnFK",
        "outputId": "9fa6f04f-b246-45ca-db52-527fb6ed0e6c"
      },
      "source": [
        "print(len(nietzsche_beyond), len(nietzsche_antichrist), len(nietzsche_ecce), len(nietzsche_zarathustra), len(nietzsche_twilight))"
      ],
      "execution_count": 13,
      "outputs": [
        {
          "output_type": "stream",
          "text": [
            "383250 168863 216552 527760 414442\n"
          ],
          "name": "stdout"
        }
      ]
    },
    {
      "cell_type": "markdown",
      "metadata": {
        "id": "UtyqxKStKvsc"
      },
      "source": [
        "Now we aggregate them by school and create a dictionary of various aggregates for future use. "
      ]
    },
    {
      "cell_type": "code",
      "metadata": {
        "id": "kghr6yp0r6Lv"
      },
      "source": [
        "# a list of books for each school, then aggregated and entered into a dictionary\r\n",
        "\r\n",
        "## original texts\r\n",
        "plato_texts = [plato_complete]\r\n",
        "aristotle_texts = [aristotle_vol_1, aristotle_vol_2]\r\n",
        "rationalist_texts = [spinoza_ethics, spinoza_improve_understanding, \r\n",
        "                    leibniz_theodicy, descartes_discourse_method, \r\n",
        "                     descartes_meditations, malebranche_search_truth]\r\n",
        "empiricist_texts = [locke_treatise_gov, locke_understanding_1, locke_understanding_2, \r\n",
        "                    hume_treatise, hume_natural_religion, berkeley_three_dialogues, \r\n",
        "                    berkeley_treatise]\r\n",
        "german_idealist_texts = [kant_practical_reason, kant_judgement, kant_pure_reason, \r\n",
        "                         fichte_ethics, hegel_logic, hegel_phenomenology, hegel_right]\r\n",
        "analytic_texts = [russell_analylsis_of_mind, russell_problems_of_phil, \r\n",
        "                  moore_studies, wittgenstein_investigations, wittgenstein_tractatus, \r\n",
        "                  lewis_papers1, lewis_papers2, quine_quintessence, popper_science, \r\n",
        "                  kripke_naming, kripke_troubles, wittgenstein_certainty]\r\n",
        "phenomenology_texts = [ponty_perception, husserl_crisis, \r\n",
        "                       husserl_idea_of, heidegger_being_time, heidegger_track]\r\n",
        "continental_texts = [foucault_clinic, foucault_madness, foucault_order, \r\n",
        "                     derrida_writing, deleuze_difference, deleuze_oedipus]\r\n",
        "marxist_texts = [marx_kapital, marx_manifesto, lenin_essential]\r\n",
        "capitalist_texts = [smith_wealth, ricardo_political_economy, keynes_employment]\r\n",
        "\r\n",
        "# new texts\r\n",
        "stoicism_texts = [epictetus_enchiridion, aurelius_meditations]\r\n",
        "nietzsche_texts = [nietzsche_antichrist, nietzsche_beyond, nietzsche_ecce,\r\n",
        "                  nietzsche_twilight, nietzsche_zarathustra]\r\n",
        "\r\n",
        "\r\n",
        "all_texts = plato_texts + aristotle_texts + empiricist_texts + rationalist_texts + analytic_texts + continental_texts + phenomenology_texts + german_idealist_texts + marxist_texts + capitalist_texts + stoicism_texts + nietzsche_texts\r\n",
        "all_texts_string = ' . '.join(all_texts)\r\n",
        "\r\n",
        "text_dict_list = {'plato': plato_texts, 'aristotle': aristotle_texts, \r\n",
        "             'empiricism': empiricist_texts, 'rationalism': rationalist_texts, \r\n",
        "            'german_idealism': german_idealist_texts, \r\n",
        "             'phenomenology': phenomenology_texts, 'analytic': analytic_texts, \r\n",
        "            'continental': continental_texts, 'marxism': marxist_texts,\r\n",
        "             'capitalism': capitalist_texts, 'stoicism': stoicism_texts,\r\n",
        "             'nietzsche': nietzsche_texts}\r\n",
        "\r\n",
        "text_dict = {}\r\n",
        "for school in text_dict_list.keys():\r\n",
        "    text_dict[school] = ' . '.join(text_dict_list[school])"
      ],
      "execution_count": 9,
      "outputs": []
    },
    {
      "cell_type": "markdown",
      "metadata": {
        "id": "lfajGZ7bK5Zg"
      },
      "source": [
        "### More In-Depth Cleaning\r\n",
        "\r\n",
        "The text here is often quite messy. We need to do some significant work to clean it up. This means dealing with things like:\r\n",
        "- headers of pages occurring repeatedly in the text\r\n",
        "- page numbers and citation numbers\r\n",
        "- footnotes, roman numerals, titles of chapters\r\n",
        "\r\n",
        "The process of dealing with these and getting the data ready for our models has a few steps:\r\n",
        "1. develop a general cleaning function that can work for every text (removing roman numerals, for example)\r\n",
        "2. examine each text itself and remove the specific headers that are relevant to it\r\n",
        "  - look for features that could capture all the footnotes here as well\r\n",
        "3. tokenize the text using spacy\r\n",
        "4. examine the tokens for unusual patterns \r\n",
        "  - there should be virtually no duplicate sentences\r\n",
        "  - we can remove sentences that are too short to mean anything\r\n",
        "  - remove sentences that contain terms that must be from footnotes (the author's name should be very rare in the actual text, for example)\r\n",
        "\r\n",
        "Unfortunately many of these steps can only be done ad hoc; there is no real way to know whether and what headers are in a text without examining the files individually. So the process is a bit tedious and time-consuming. Still, when we finish we will have data that is much cleaner and more useful for modeling. \r\n"
      ]
    },
    {
      "cell_type": "markdown",
      "metadata": {
        "id": "AcoDD6vbLpu9"
      },
      "source": [
        "#### 1. Baseline Cleaning"
      ]
    },
    {
      "cell_type": "markdown",
      "metadata": {
        "id": "8JLtqH5SLInh"
      },
      "source": [
        "Our first step is to develop a baseline cleaning function that can be applied to every text."
      ]
    },
    {
      "cell_type": "code",
      "metadata": {
        "id": "MkT0egnbr89k"
      },
      "source": [
        "def baseline_clean(to_correct, capitals=True, bracketed_fn=False, odd_words_dict={}):\r\n",
        "  # remove utf8 encoding characters and some punctuations\r\n",
        "  result = re.sub(r'[\\x00-\\x08\\x0b\\x0c\\x0e-\\x1f\\x7f-\\xff\\xad\\x0c6§\\\\\\£\\Â*_<>\"\"⎫•{}Γ~]', ' ', to_correct)\r\n",
        "  result = re.sub(r'[\\u2014\\u2013\\u2012-]', ' ', result)\r\n",
        "\r\n",
        "  # replace whitespace characters with actual whitespace\r\n",
        "  result = re.sub(r'\\s', ' ', result)\r\n",
        "\r\n",
        "  # replace odd quotation marks with a standard\r\n",
        "  result = re.sub(r'[‘’“”]', \"'\", result)\r\n",
        "\r\n",
        "  # replace the ﬀ, ﬃ and ﬁ with the appropriate counterparts\r\n",
        "  result = re.sub(r'ﬀ', 'ff', result)\r\n",
        "  result = re.sub(r'ﬁ', 'fi', result)\r\n",
        "  result = re.sub(r'ﬃ', 'ffi', result)\r\n",
        "\r\n",
        "  # replace some accented characters for ease of searching\r\n",
        "  result = re.sub(r'é', 'e', result)\r\n",
        "\r\n",
        "  # remove or standardize some recurring common and meaninless words/phrases\r\n",
        "  result = re.sub(r'\\s*This\\s*page\\s*intentionally\\s*left\\s*blank\\s*', ' ', result)\r\n",
        "  result = re.sub(r'(?i)Aufgabe\\s+', ' ', result)\r\n",
        "  result = re.sub(r',*\\s+cf\\.', ' ', result)\r\n",
        "\r\n",
        "  # some texts have footnotes conveniently in brackets - this removes them all, \r\n",
        "  # with a safety measure for unpaired brackets, and deletes all brackets afterwards\r\n",
        "  if bracketed_fn:\r\n",
        "    result = re.sub(r'\\[.{0,300}\\]|{.{0,300}}|{.{0,300}\\]|\\[.{0,300}}', ' ', result)\r\n",
        "  result = re.sub(r'[\\[\\]{}]', ' ', result)\r\n",
        "\r\n",
        "  # unify some abbreviations\r\n",
        "  result = re.sub(r'&', 'and', result)\r\n",
        "  result = re.sub(r'\\se\\.g\\.\\s', ' eg ', result)\r\n",
        "  result = re.sub(r'\\si\\.e\\.\\s', ' ie ', result)\r\n",
        "  result = re.sub('coroll\\.', 'coroll', result)\r\n",
        "  result = re.sub('pt\\.', 'pt', result)\r\n",
        "\r\n",
        "  # remove roman numerals, first capitalized ones\r\n",
        "  result = re.sub(r'\\s((I{2,}V*X*\\.*)|(IV\\.*)|(IX\\.*)|(V\\.*)|(V+I*\\.*)|(X+L*V*I*]\\.*))\\s', ' ', result)\r\n",
        "  # then lowercase\r\n",
        "  result = re.sub(r'\\s((i{2,}v*x*\\.*)|(iv\\.*)|(ix\\.*)|(v\\.*)|(v+i*\\.*)|(x+l*v*i*\\.*))\\s', ' ', result)\r\n",
        "\r\n",
        "  # remove periods and commas flanked by numbers\r\n",
        "  result = re.sub(r'\\d\\.\\d', ' ', result)\r\n",
        "  result = re.sub(r'\\d,\\d', ' ', result)\r\n",
        "\r\n",
        "  # remove the number-letter-number pattern used for many citations\r\n",
        "  result = re.sub(r'\\d*\\w{,2}\\d', ' ', result)\r\n",
        "\r\n",
        "  # remove numerical characters\r\n",
        "  result = re.sub(r'\\d+', ' ', result)\r\n",
        "\r\n",
        "  # remove words of 2+ characters that are entirely capitalized \r\n",
        "  # (these are almost always titles, headings, or speakers in a dialogue)\r\n",
        "  # remove capital I's that follow capital words - these almost always roman numerals\r\n",
        "  # some texts do use these capitalizations meaningfully, so we make this optional\r\n",
        "  if capitals:\r\n",
        "    result = re.sub(r'[A-Z]{2,}\\s+I', ' ', result)\r\n",
        "    result = re.sub(r'[A-Z]{2,}', ' ', result)\r\n",
        "\r\n",
        "  # remove isolated colons and semicolons that result from removal of titles\r\n",
        "  result = re.sub(r'\\s+:\\s*', ' ', result)\r\n",
        "  result = re.sub(r'\\s+;\\s*', ' ', result)\r\n",
        "\r\n",
        "  # remove isolated letters (do it several times because strings of isolated letters do not get captured properly)\r\n",
        "  result = re.sub(r'\\s[^aAI\\.]\\s', ' ', result)\r\n",
        "  result = re.sub(r'\\s[^aAI\\.]\\s', ' ', result)\r\n",
        "  result = re.sub(r'\\s[^aAI\\.]\\s', ' ', result)\r\n",
        "  result = re.sub(r'\\s[^aAI\\.]\\s', ' ', result)\r\n",
        "  result = re.sub(r'\\s[^aAI\\.]\\s', ' ', result)\r\n",
        "  result = re.sub(r'\\s[^aAI\\.]\\s', ' ', result)\r\n",
        "\r\n",
        "  # remove isolated letters at the end of sentences or before commas\r\n",
        "  result = re.sub(r'\\s[^aI]\\.', '.', result)\r\n",
        "  result = re.sub(r'\\s[^aI],', ',', result)\r\n",
        "\r\n",
        "  # deal with spaces around periods and commas\r\n",
        "  result = re.sub(r'\\s+,\\s+', ', ', result)\r\n",
        "  result = re.sub(r'\\s+\\.\\s+', '. ', result)\r\n",
        "\r\n",
        "  # remove empty parantheses\r\n",
        "  result = re.sub(r'(\\(\\s*\\.*\\s*\\))|(\\(\\s*,*\\s*)\\)', ' ', result)\r\n",
        "  result = re.sub(r'\\.\\)\\.', '.', result)\r\n",
        "  result = re.sub(r'\\.\\(\\.', '.', result)\r\n",
        "\r\n",
        "  # reduce multiple periods, commas, or whitespaces into a single one\r\n",
        "  result = re.sub(r'\\.+', '.', result)\r\n",
        "  result = re.sub(r',+', ',', result)\r\n",
        "  result = re.sub(r'\\s+', ' ', result)\r\n",
        "\r\n",
        "  # deal with isolated problem cases discovered in the data:\r\n",
        "  for key in odd_words_dict.keys():\r\n",
        "    result = re.sub(r''+key+'', odd_words_dict[key], result)\r\n",
        "\r\n",
        "  return result"
      ],
      "execution_count": 14,
      "outputs": []
    },
    {
      "cell_type": "code",
      "metadata": {
        "colab": {
          "base_uri": "https://localhost:8080/",
          "height": 153
        },
        "id": "bOIF01WGsDzv",
        "outputId": "1b10c668-139f-48fe-e216-f6f648deb11a"
      },
      "source": [
        "# use this cell to run the function on the new text and see if anything looks odd\r\n",
        "baseline_clean(nietzsche_zarathustra)[10000:30000]"
      ],
      "execution_count": 15,
      "outputs": [
        {
          "output_type": "execute_result",
          "data": {
            "application/vnd.google.colaboratory.intrinsic+json": {
              "type": "string"
            },
            "text/plain": [
              "\"o scattereth golden words in advance of his deeds, and always doeth more than he promiseth: for he seeketh his own down going. I love him who justifieth the future ones, and redeemeth the past ones: for he is willing to succumb through the present ones. I love him who chasteneth his God, because he loveth his God: for he must succumb through the wrath of his God. I love him whose soul is deep even in the wounding, and may succumb through a small matter: thus goeth he willingly over the bridge. I love him whose soul is so overfull that he forgetteth himself, and all things are in him: thus all things become his down going. I love him who is of a free spirit and a free heart: thus is his head only the bowels of his heart; his heart, however, causeth his down going. I love all who are like heavy drops falling one by one out of the dark cloud that lowereth over man: they herald the coming of the lightning, and succumb as heralds. Lo, I am a herald of the lightning, and a heavy drop out of the cloud: the lightning, however, is the. When Zarathustra had spoken these words, he again looked at the people, and was silent. 'There they stand,' said he to his heart; 'there they laugh: they understand me not; I am not the mouth for these ears. Must one first batter their ears, that they may learn to hear with their eyes? Must one clatter like kettledrums and penitential preachers? Or do they only believe the stammerer? They have something whereof they are proud. What do they call it, that which maketh them proud? Culture, they call it; it distinguisheth them from the goatherds. They dislike, therefore, to hear of 'contempt' of themselves. So I will appeal to their pride. I will speak unto them of the most contemptible thing: that, however, is !' And thus spake Zarathustra unto the people: It is time for man to fix his goal. It is time for man to plant the germ of his highest hope. Still is his soil rich enough for it. But that soil will one day be poor and exhausted, and no lofty tree will any longer be able to grow thereon. Alas! there cometh the time when man will no longer launch the arrow of his longing beyond man and the string of his bow will have unlearned to whizz! I tell you: one must still have chaos in one, to give birth to a dancing star. I tell you: ye have still chaos in you. Alas! There cometh the time when man will no longer give birth to any star. Alas! There cometh the time of the most despicable man, who can no longer despise himself. Lo! I show you. 'What is love? What is creation? What is longing? What is a star?' so asketh the last man and blinketh. The earth hath then become small, and on it there hoppeth the last man who maketh everything small. His species is ineradicable like that of the ground flea; the last man liveth longest. 'We have discovered happiness' say the last men, and blink thereby. They have left the regions where it is hard to live; for they need warmth. One still loveth one's neighbour and rubbeth against him; for one needeth warmth. Turning ill and being distrustful, they consider sinful: they walk warily. He is a fool who still stumbleth over stones or men! A little poison now and then: that maketh pleasant dreams. And much poison at last for a pleasant death. One still worketh, for work is a pastime. But one is careful lest the pastime should hurt one. One no longer becometh poor or rich; both are too burdensome. Who still wanteth to rule? Who still wanteth to obey? Both are too burdensome. No shepherd, and one herd! Every one wanteth the same; every one is equal: he who hath other sentiments goeth voluntarily into the madhouse. 'Formerly all the world was insane,' say the subtlest of them, and blink thereby. They are clever and know all that hath happened: so there is no end to their raillery. People still fall out, but are soon reconciled otherwise it spoileth their stomachs. They have their little pleasures for the day, and their little pleasures for the night, but they have a regard for health. 'We have discovered happiness,' say the last men, and blink thereby. And here ended the first discourse of Zarathustra, which is also called 'The Prologue': for at this point the shouting and mirth of the multitude interrupted him. 'Give us this last man, Zarathustra,' they called out 'make us into these last men! Then will we make thee a present of the Superman!' And all the people exulted and smacked their lips. Zarathustra, however, turned sad, and said to his heart: 'They understand me not: I am not the mouth for these ears. Too long, perhaps, have I lived in the mountains; too much have I hearkened unto the brooks and trees: now do I speak unto them as unto the goatherds. Calm is my soul, and clear, like the mountains in the morning. But they think me cold, and a mocker with terrible jests. And now do they look at me and laugh: and while they laugh they hate me too. There is ice in their laughter.'. Then, however, something happened which made every mouth mute and every eye fixed. In the meantime, of course, the rope dancer had commenced his performance: he had come out at a little door, and was going along the rope which was stretched between two towers, so that it hung above the market place and the people. When he was just midway across, the little door opened once more, and a gaudily dressed fellow like a buffoon sprang out, and went rapidly after the first one. 'Go on, halt foot,' cried his frightful voice, 'go on, lazy bones, interloper, sallow face! lest I tickle thee with my heel! What dost thou here between the towers? In the tower is the place for thee, thou shouldst be locked up; to one better than thyself thou blockest the way!' And with every word he came nearer and nearer the first one. When, however, he was but a step behind, there happened the frightful thing which made every mouth mute and every eye fixed he uttered a yell like a devil, and jumped over the other who was in his way. The latter, however, when he thus saw his rival triumph, lost at the same time his head and his footing on the rope; he threw his pole away, and shot downwards faster than it, like an eddy of arms and legs, into the depth. The market place and the people were like the sea when the storm cometh on: they all flew apart and in disorder, especially where the body was about to fall. Zarathustra, however, remained standing, and just beside him fell the body, badly injured and disfigured, but not yet dead. After a while consciousness returned to the shattered man, and he saw Zarathustra kneeling beside him. 'What art thou doing there?' said he at last, 'I knew long ago that the devil would trip me up. Now he draggeth me to hell: wilt thou prevent him?' 'On mine honour, my friend,' answered Zarathustra, 'there is nothing of all that whereof thou speakest: there is no devil and no hell. Thy soul will be dead even sooner than thy body: fear, therefore, nothing any more!' The man looked up distrustfully. 'If thou speakest the truth,' said he, 'I lose nothing when I lose my life. I am not much more than an animal which hath been taught to dance by blows and scanty fare.' 'Not at all,' said Zarathustra, 'thou hast made danger thy calling; therein there is nothing contemptible. Now thou perishest by thy calling: therefore will I bury thee with mine own hands.' When Zarathustra had said this the dying one did not reply further; but he moved his hand as if he sought the hand of Zarathustra in gratitude. Meanwhile the evening came on, and the market place veiled itself in gloom. Then the people dispersed, for even curiosity and terror become fatigued. Zarathustra, however, still sat beside the dead man on the ground, absorbed in thought: so he forgot the time. But at last it became night, and a cold wind blew upon the lonely one. Then arose Zarathustra and said to his heart: Verily, a fine catch of fish hath Zarathustra made to day! It is not a man he hath caught, but a corpse. Sombre is human life, and as yet without meaning: a buffoon may be fateful to it. I want to teach men the sense of their existence, which is the Superman, the lightning out of the dark cloud man. But still am I far from them, and my sense speaketh not unto their sense. To men I am still something between a fool and a corpse. Gloomy is the night, gloomy are the ways of Zarathustra. Come, thou cold and stiff companion! I carry thee to the place where I shall bury thee with mine own hands. When Zarathustra had said this to his heart, he put the corpse upon his shoulders and set out on his way. Yet had he not gone a hundred steps, when there stole a man up to him and whispered in his ear and lo! he that spake was the buffoon from the tower. 'Leave this town, Zarathustra,' said he, 'there are too many here who hate thee. The good and just hate thee, and call thee their enemy and despiser; the believers in the orthodox belief hate thee, and call thee a danger to the multitude. It was thy good fortune to be laughed at: and verily thou spakest like a buffoon. It was thy good fortune to associate with the dead dog; by so humiliating thyself thou hast saved thy life to day. Depart, however, from this town, or tomorrow I shall jump over thee, a living man over a dead one.' And when he had said this, the buffoon vanished; Zarathustra, however, went on through the dark streets. At the gate of the town the grave diggers met him: they shone their torch on his face, and, recognising Zarathustra, they sorely derided him. 'Zarathustra is carrying away the dead dog: a fine thing that Zarathustra hath turned a grave digger! For our hands are too cleanly for that roast. Will Zarathustra steal the bite from the devil? Well then, good luck to the repast! If only the devil is not a better thief than Zarathustra! he will steal them both, he will eat them both!' And they laughed among themselves, and put their heads together. Zarathustra made no answer thereto, but went on his way. When he had gone on for two hours, past forests and swamps, he had heard too much of the hungry howling of the wolves, and he himself became a hungry. So he halted at a lonely house in which a light was burning. 'Hunger attacketh me,' said Zarathustra, 'like a robber. Among forests and swamps my hunger attacketh me, and late in the night. 'Strange humours hath my hunger. Often it cometh to me only after a repast, and all day it hath failed to come: where hath it been?' And thereupon Zarathustra knocked at the door of the house. An old man appeared, who carried a light, and asked: 'Who cometh unto me and my bad sleep?' 'A living man and a dead one,' said Zarathustra. 'Give me something to eat and drink, I forgot it during the day. He that feedeth the hungry refresheth his own soul, saith wisdom.' The old man withdrew, but came back immediately and offered Zarathustra bread and wine. 'A bad country for the hungry,' said he; 'that is why I live here. Animal and man come unto me, the anchorite. But bid thy companion eat and drink also, he is wearier than thou.' Zarathustra answered: 'My companion is dead; I shall hardly be able to persuade him to eat.' 'That doth not concern me,' said the old man sullenly; 'he that knocketh at my door must take what I offer him. Eat, and fare ye well!' Thereafter Zarathustra again went on for two hours, trusting to the path and the light of the stars: for he was an experienced night walker, and liked to look into the face of all that slept When the morning dawned, however, Zarathustra found himself in a thick forest, and no path was any longer visible. He then put the dead man in a hollow tree at his head for he wanted to protect him from the wolves and laid himself down on the ground and moss. And immediately he fell asleep, tired in body, but with a tranquil soul. Long slept Zarathustra; and not only the rosy dawn passed over his head, but also the morning. At last, however, his eyes opened, and amazedly he gazed into the forest and the stillness, amazedly he gazed into himself. Then he arose quickly, like a seafarer who all at once seeth the land; and he shouted for joy: for he saw a new truth. And he spake thus to his heart: A light hath dawned upon me: I need companions living ones; not dead companions and corpses, which I carry with me where I will. But I need living companions, who will follow me because they want to follow themselves and to the place where I will. A light hath dawned upon me. Not to the people is Zarathustra to speak, but to companions! Zarathustra shall not be the herd's herdsman and hound! To allure many from the herd for that purpose have I come. The people and the herd must be angry with me: a robber shall Zarathustra be called by the herdsmen. Herdsmen, I say, but they call themselves the good and just. Herdsmen, I say, but they call themselves the believers in the orthodox belief. Behold the good and just! Whom do they hate most? Him who breaketh up their tables of values, the breaker, the lawbreaker: he, however, is the creator. Behold the believers of all beliefs! Whom do they hate most? Him who breaketh up their tables of values, the breaker, the law breaker he, however, is the creator. Companions, the creator seeketh, not corpses and not herds or believers either. Fellow creators the creator seeketh those who grave new values on new tables. Companions, the creator seeketh, and fellow reapers: for everything is ripe for the harvest with him. But he lacketh the hundred sickles: so he plucketh the ears of corn and is vexed. Companions, the creator seeketh, and such as know how to whet their sickles. Destroyers, will they be called, and despisers of good and evil. But they are the reapers and rejoicers. Fellow creators, Zarathustra seeketh; fellow reapers and fellow rejoicers, Zarathustra seeketh: what hath he to do with herds and herdsmen and corpses! And thou, my first companion, rest in peace! Well have I buried thee in thy hollow tree; well have I hid thee from the wolves. But I part from thee; the time hath arrived. 'Twixt rosy dawn and rosy dawn there came unto me a new truth. I am not to be a herdsman, I am not to be a grave digger. Not any more will I discourse unto the people; for the last time have I spoken unto the dead. With the creators, the reapers, and the rejoicers will I associate: the rainbow will I show them, and all the stairs to the Superman. To the lone dwellers will I sing my song, and to the twain dwellers; and unto him who hath still ears for the unheard, will I make the heart heavy with my happiness. I make for my goal, I follow my course; over the loitering and tardy will I leap. Thus let my on going be their down going!. This had Zarathustra said to his heart when the sun stood at noon tide. Then he looked inquiringly aloft, for he heard above him the sharp call of a bird. And behold! An eagle swept through the air in wide circles, and on it hung a serpent, not like a prey, but like a friend: for it kept itself coiled round the eagle's neck. 'They are mine animals,' said Zarathustra, and rejoiced in his heart. 'The proudest animal under the sun, and the wisest animal under the sun, they have come out to reconnoitre. They want to know whether Zarathustra still liveth. Verily, do I still live? More dangerous have I found it among men than among animals; in dangerous paths goeth Zarathustra. Let mine animals lead me! When Zarathustra had said this, he remembered the words of the saint in the forest. Then he sighed and spake thus to his heart: 'Would that I were wiser! Would that I were wise from the very heart, like my serpent! But I am asking the impossible. Therefore do I ask my pride to go always with my wisdom! And if my wisdom should some day forsake me: alas! it loveth to fly away! may my pride then fly with my folly!' Thus began Zarathustra's down going. 'S. I. Three metamorphoses of the spirit do I designate to you: how the spirit becometh a camel, the camel a lion, and the lion at last a child. Many heavy things are there for the spirit, the strong load bearing spirit in which reverence dwelleth: for the heavy and the heaviest longeth its strength. What is heavy? so asketh the load bearing spirit; then kneeleth it down like the camel, and wanteth to be well laden. What is the heaviest thing, ye heroes? asketh the load bearing spirit, that I may take it upon me and rejoice in my strength. Is it not this: To humiliate oneself in order to mortify one's pride? To exhibit one's folly in order to mock at one's wisdom? Or is it this: To desert our cause when it celebrateth its triumph? To ascend high mountains to tempt the tempter? Or is it this: To feed on the acorns and grass of knowledge, and for the sake of truth to suffer hunger of soul? Or is it this: To be sick and dismiss comforters, and make friends of the deaf, who never hear thy requests? Or is it this: To go into foul water when it is the water of truth, and not disclaim cold frogs and hot toads? Or is it this: To love those who despise us, and give one's hand to the phantom when it is going to frighten us? All these heaviest things the load bearing spirit taketh upon itself: and like the camel, which, when laden, hasteneth into the wilderness, so hasteneth the spirit into its wilderness. But in the loneliest wilderness happeneth the second metamorphosis: here the spirit becometh a lion; freedom will it capture, and lordship in its own wilderness. Its last Lord it here seeketh: hostile will it be to him, and to its last God; for victory will it struggle with the great dragon. What is the great dragon which the spirit is no longer inclined to call Lord and God? 'Thou shalt,' is the great dragon called. But the spirit of the lion saith, 'I will.' 'Thou shalt,' lieth in its path, sparkling with gold a scale covered beast; and on every scale glittereth golden, 'Thou shalt!' The values of a thousand years glitter on those scales, and thus speaketh the mightiest of all dragons: 'All the values of things glitter on me. All values have already been created, and all created values do I represent. Verily, there shall be no 'I will' any more. Thus speaketh the dragon. My brethren, wherefore is there need of the lion in the spirit? Why sufficeth not the beast of burden, which renounceth and is reverent? To create new values that, even the lion cannot yet accomplish: but to create itself freedom for new creating that can the might of the lion do. To create itself freedom, and give a holy Nay even unto duty: for that, my brethren, there is need of the lion. To assume the right to new values that is the most formidable assumption for a load bearing and reverent spirit. Verily, unto such a spirit it is preying, and the work of a beast of prey. As its holiest, it once loved 'Thou shalt': now is it forced to find illusion and arbitrariness even in the holiest things, that it may capture freedom from its love: the lion is needed for this capture. But tell me, my brethren, what the child can do, which even the lion could not do? Why hath the preying lion still to become a child? Innocence is the child, and forgetfulness, a new beginning, a game, a self rolling wheel, a first movement, a holy Yea. Aye, for the game of creating, my brethren, there is needed a holy Yea unto life: will, willeth now the spirit; world winneth the world's outcast. Three metamorphoses of the spirit have I designated to you: how the spirit became a camel, the camel a lion, and the lion at last a child. Thus spake Zarathustra. And at that time he abode in the town which is called The Pied Cow. People commended unto Zarathustra a wise man, as one who could discourse well about sleep and virtue: greatly was he honoured and rewarded for it, and all the youths sat before his chair. To him went Zarathustra, and sat among the youths before his chair. And thus spake the wise man: Respect and modesty in presence of sleep! That is the first thing! And to go out of the way of all who sleep badly and keep awake at night! Modest is even the thief in presence of sleep: he always stealeth so\""
            ]
          },
          "metadata": {
            "tags": []
          },
          "execution_count": 15
        }
      ]
    },
    {
      "cell_type": "markdown",
      "metadata": {
        "id": "6e3D7iGALiMC"
      },
      "source": [
        "#### 2. Text-by-Text Cleaning"
      ]
    },
    {
      "cell_type": "markdown",
      "metadata": {
        "id": "i_T4TRdEL2aM"
      },
      "source": [
        "In this step we will remove headers and other offensive features of specific texts. \r\n",
        "\r\n",
        "The most common problem is the presence of headings that appear at the top of each page in the original book. When converted to a string, these then get interpolated into the text, interrupting the normal flow of sentences (this happens for page numbers and citations as well, but those cases are much easier to deal with). \r\n",
        "\r\n",
        "To deal with this, we build a list of the headers for each book and then delete them from the string that represents the book. In the process, we may create some issues if the header is common, so we are careful to only delete when the loss is worth it.\r\n",
        "\r\n",
        "In some cases, of course, the texts are already clean and no extra steps are required."
      ]
    },
    {
      "cell_type": "code",
      "metadata": {
        "id": "JxmXkIWbsJVs"
      },
      "source": [
        "plato_to_rm = ['Apology', 'Sophist', 'Statesman', 'Symposium', \r\n",
        "                 'Second Alcibiades', 'Rival Lovers', 'Greater Hippias', \r\n",
        "                 'Lesser Hippias', 'Republic', 'Laws', 'Letters', 'Definitions',\r\n",
        "                 'On Virtue', 'On Justice', 'Epigrams', 'Translated b.+\\.']\r\n",
        "\r\n",
        "aristotle_to_rm = ['Aristotle', 'Book']\r\n",
        "\r\n",
        "descartes_meditations_to_rm = ['Letter of Dedication', 'Preface to the Reader', \r\n",
        "                               'Synopsis', 'First Meditation', 'Second Meditation', \r\n",
        "                               'Third Meditation', 'Fourth Meditation', 'Fifth Meditation', \r\n",
        "                               'Sixth Meditation']\r\n",
        "\r\n",
        "malebranche_search_to_rm = ['Nicolas Malebranche', 'Truth', 'Nicolas',]\r\n",
        "\r\n",
        "locke_gov_to_rm = ['Sect.']\r\n",
        "\r\n",
        "berkeley_dialogues_to_rm = ['PHIL.', 'PHILONOUS.', 'HYL.', 'HYLAS.']\r\n",
        "\r\n",
        "kant_judgement_to_rm = ['Introduction', 'Preface to the First Edition', \r\n",
        "                        'Critique of Aesthetic Judgement', 'Critique of Teleological Judgement',\r\n",
        "                        'Analytic of the Beautiful', 'Analytic of the Sublime',\r\n",
        "                        'Anaytic of Teleological Judgement', 'Dialectic of Aeshetic Judgement',\r\n",
        "                        'Critique of Teleological Judgement', 'Dialectic of Teleological Judgement',\r\n",
        "                        'Theory of the Method of Teleological Judgement',\r\n",
        "                        '‘First Introduction’ to the Critique of Judgement']\r\n",
        "\r\n",
        "kant_pure_reason_to_rm = ['Introduction', '\\s+Section\\s.+', '\\sDoctrine\\s*of\\s*Elements\\.\\s*.+',\r\n",
        "                          '\\sDoctrine\\s*of\\s*Method\\.\\s*.+']                        \r\n",
        "\r\n",
        "\r\n",
        "fichte_ethics_to_rm = ['Page']\r\n",
        "\r\n",
        "hegel_SoL_to_rm = ['Georg Wilhelm Friedrich Hegel', 'The Science of Logic']\r\n",
        "\r\n",
        "hegel_right_to_rm = ['Preface', 'Philosophy of Right', 'Philosophy ofRight', \r\n",
        "                     'Philosophy ojRight', 'Philosophy oj Right', \r\n",
        "                     'Introduction', 'Abstract Right', 'Ethical Life', 'Ethical Lift',\r\n",
        "                     'Morality']\r\n",
        "\r\n",
        "wittgenstein_tract_to_rm = ['tractatus logico-philosophicus']\r\n",
        "\r\n",
        "lewis_papers_1_to_rm = ['Introduction', 'Ontology', 'Holes', 'Anselm and Actuality', \r\n",
        "                        'Counterpart Theory and Quantified Modal Logic', \r\n",
        "                        'Counterparts of Persons and Their Bodies', 'Survival and Identity',\r\n",
        "                        'How to Define Theoretical Terms', 'Philosophy of Mind', \r\n",
        "                        'An Argument for the Identity Theory', 'Radical Interpretation',\r\n",
        "                        'Mad Pain and Partian Pain', 'Attitudes De Dicto and De Se',\r\n",
        "                        'Philosophy of Language', 'Languages and Language',\r\n",
        "                        'General Semantics', 'Scorekeeping in a Language Game',\r\n",
        "                        'Tensions', 'Truth in Fiction', 'This page intentionally left blank']\r\n",
        "\r\n",
        "lewis_papers_2_to_rm = ['end\\sp\\.']\r\n",
        "\r\n",
        "quine_quintessence_to_rm = ['(?i)\\s+Truth\\s+by\\s+Convention\\s+', '(?i)\\s+Two\\s+Dogams\\s+of\\s+Empiricism',\r\n",
        "                            '(?i)\\s+Two\\s+in\\s+Retrospect\\s+', '(?i)\\s+Carnap\\s+and\\s+Logical\\s+Truth',\r\n",
        "                            '(?i)\\s+Speaking\\s+of\\s+Objects\\s+', '(?i)\\s+Reference\\s+',\r\n",
        "                            '(?i)\\s+Translation\\s+and\\s+Meaning', '(?i)\\s+Progress\\s+on\\s+Two\\s+Fronts\\s+',\r\n",
        "                            '(?i)\\s+On\\s+What\\s+There\\s+is\\s+', '(?i)\\s+the\\s+scope\\s+and\\s+language\\s+of\\s+science\\s+',\r\n",
        "                            '(?i)\\s+on\\s+simple\\s+theories\\s+of\\s+a\\s+complex\\s+world\\s+',\r\n",
        "                            '(?i)\\s+ontic\\s+decision\\s+', '(?i)\\s+things\\s+and\\s+their\\s+place\\s+in\\s+theories\\s+',\r\n",
        "                            \"(?i)\\s+on\\s+Carnap\\s*'s\\s+views\\s+on\\s+ontology\\s+\",\r\n",
        "                            '(?i)\\s+empistemology\\s+naturalized\\s+', \r\n",
        "                            \"(?i)\\s+naturalism\\s;\\s+or,\\s+living\\s+within\\s+one\\s*'s\\s+means\\s+\",\r\n",
        "                            '(?i)\\s+the\\s+nature\\s+of\\s+natural\\s+knowledge\\s+',\r\n",
        "                            '(?i)\\s+five\\s+milestones\\s+of\\s+empiricism\\s+',\r\n",
        "                            '(?i)\\s+on\\s+mental\\s+entities\\s+', '(?i)\\s+mind\\s+and\\s+verbal\\s+dispositions\\s+',\r\n",
        "                            '(?i)\\s+confessions\\s+of\\s+a\\s+confirmed\\s+extensionalist\\s+',\r\n",
        "                            '(?i)\\s+quantifiers\\s+and\\s+propositional\\s+attitudes\\s+',\r\n",
        "                            '(?i)\\s+intensions\\s+revisited\\s+', '(?i)\\s+reference\\s+and\\s+modality\\s+',\r\n",
        "                            '(?i)\\s+three\\s+grades\\s+of\\s+modal\\s+involvement\\s+']\r\n",
        "\r\n",
        "popper_science_to_rm = ['the logic of science', 'a survey of some fundamental problems',\r\n",
        "                        'preface', 'on the problem of a theory of scientific method',\r\n",
        "                        'some structural components of a theory of experience',\r\n",
        "                        'degrees of testability', 'some observations on quantum theory',\r\n",
        "                        'corroboration, or how a theory stands up to tests']\r\n",
        "\r\n",
        "kripke_troubles_to_rm = ['Identity and Necessity', 'On Two Paradoxes of Knowledge',\r\n",
        "                          'Vacuous Names and Fictional Entities', 'Outline of a Theory of Truth',\r\n",
        "                          \"Speaker's Reference and Semantic Reference\",\r\n",
        "                          'A Puzzle about Belief', 'Nozick on Knowledge', \r\n",
        "                          \"Russell's Notion of Scope\", \"Frege's Theory of Sense and Reference\",\r\n",
        "                          'The First Person', 'Unrestricted Exportation and Some Morals for the Philosophy',\r\n",
        "                          'Presupposition and Anaphora', 'A Puzzle about Time and Thought']\r\n",
        "\r\n",
        "ponty_perception_to_rm = ['phenomenology of perception', 'preface',\r\n",
        "                          \"the 'sensation' as a unit of experience\", \r\n",
        "                          \"'association' and the 'projection of memories'\",\r\n",
        "                          \"'attention' and 'judgement'\", 'the phenomenal field', \r\n",
        "                          'experience and objective thought', 'the body as object and mechanistic psychology',\r\n",
        "                          'the experience of the body and classical psychology',\r\n",
        "                          \"the spatiality of one’s own body and motility\",\r\n",
        "                          \"the synthesis of one's own body\", 'the body in its sexual being',\r\n",
        "                          'the body as expression, and speech',\r\n",
        "                          'theory of the body is already a theory of perception',\r\n",
        "                          'sense experience', 'the thing and the natural world',\r\n",
        "                          'other selves and the human world']\r\n",
        "\r\n",
        "husserl_crisis_to_rm = ['Part\\s+', 'Idealization and the Science of Reality', \r\n",
        "                        'Denial of Scientific Philosophy', 'The Origin of Geometry',\r\n",
        "                        'Natural Science and Humanistic Science',\r\n",
        "                        'The Vienna Lecture']\r\n",
        "\r\n",
        "heidegger_b_and_t_to_rm = ['\\s+Being\\s*and\\s*Time\\s+', 'Int.', 'I.m', 'I.n']                                                  \r\n",
        "\r\n",
        "foucault_order_to_rm = ['the order of things', 'the prose of the world', '\\s+classifying\\s+',\r\n",
        "                        'exchanging', 'the limits of representation',\r\n",
        "                        'labour, life, language', 'man and his doubles']\r\n",
        "\r\n",
        "foucault_madness_to_rm = ['\\s+Page\\s']\r\n",
        "\r\n",
        "foucault_clinic_to_rm = ['\\(\\(.+\\)\\)']\r\n",
        "\r\n",
        "deleuze_difference_to_rm = ['Difference and Repetition', 'Difference in Itself',\r\n",
        "                            'Repetition for Itself', 'The Image of Thought',\r\n",
        "                            'Ideas and the Synthesis of Difference',\r\n",
        "                            'Asymmetrical Synthesis of the Sensible', 'Conclusion']\r\n",
        "\r\n",
        "marx_kapital_to_rm = ['http.+', 'Capital\\s+Vol\\..+']\r\n",
        "\r\n",
        "marx_manifesto_to_rm = ['\\s+page\\s+\\d+']\r\n",
        "\r\n",
        "keynes_employment_to_rm = ['(?i)\\s+The\\s+General\\s+Theory\\s+of\\s+Employment,*\\s+interest\\s+and\\s+money\\s+by\\s+john\\s+maynard\\s+keynes\\s+',\r\n",
        "                           'Table of Contents \\| Previous Chapter \\| Next Chapter', \r\n",
        "                           'Chapter\\s+\\d+']       \r\n",
        "\r\n",
        "do_not_remove_capitals = ['essay concerning human understanding bk 2', \r\n",
        "                          'a treatise of human nature', \r\n",
        "                          'dialogues concerning natural religion', 'three dialogues', \r\n",
        "                          'a treatise concerning the principles of human knowledge',\r\n",
        "                          'thus spake zarathustra', 'beyond good and evil']\r\n",
        "\r\n",
        "bracketed_fn = ['critique of practical reason', 'the communist manifesto', 'ecce homo']                                          "
      ],
      "execution_count": 16,
      "outputs": []
    },
    {
      "cell_type": "markdown",
      "metadata": {
        "id": "4Z6-svnmMCtz"
      },
      "source": [
        "#### 3. Tokenizing and Rendering the Texts as a Dataframe"
      ]
    },
    {
      "cell_type": "markdown",
      "metadata": {
        "id": "meZEHHSgMEBd"
      },
      "source": [
        "We now are in a position to apply these methods to each text and return a dataframe for each of them. Although we are interested primarily in the schools of thought in general, it would be convenient and more useful for future projects if we also include the specific authors and titles. \r\n",
        "\r\n",
        "To prepare for this project, we build a dictionary for each school, so that we can then iterate over a list of dictionaries to create a dataframe for each."
      ]
    },
    {
      "cell_type": "code",
      "metadata": {
        "id": "zBejavTKXEU1"
      },
      "source": [
        "nietzsche_texts = [nietzsche_antichrist, nietzsche_beyond, nietzsche_ecce,\r\n",
        "                  nietzsche_twilight, nietzsche_zarathustra]"
      ],
      "execution_count": 17,
      "outputs": []
    },
    {
      "cell_type": "code",
      "metadata": {
        "colab": {
          "base_uri": "https://localhost:8080/"
        },
        "id": "Ct6SmxnTsM1k",
        "outputId": "8250e274-af1b-483c-a645-4a05e3e57b26"
      },
      "source": [
        "# prepare lists that will be zipped into a dictionary\r\n",
        "\r\n",
        "# texts \r\n",
        "all_texts\r\n",
        "\r\n",
        "# titles\r\n",
        "title_list = [\"plato - complete works\", \"aristotle - complete works\", \"aristotle - complete works\",\r\n",
        "              'second treatise on government', 'essay concerning human understanding',\r\n",
        "              'essay concerning human understanding', 'a treatise of human nature', \r\n",
        "              'dialogues concerning natural religion', 'three dialogues', \r\n",
        "              'a treatise concerning the principles of human knowledge',\r\n",
        "              'ethics', 'on the improvement of understanding', 'theodicy',\r\n",
        "              'discourse on method', 'meditations on first philosophy', 'the search after truth',\r\n",
        "              'the analysis of mind', 'the problems of philosophy', 'philosophical studies',\r\n",
        "              'philosophical investigations', 'tractatus logico-philosophicus',\r\n",
        "              \"lewis - papers\", \"lewis - papers\", 'quintessence', \r\n",
        "              'the logic of scientific discovery', 'naming and necessity', \r\n",
        "              'philosophical troubles', 'on certainty', 'the birth of the clinic',\r\n",
        "              'madness and civilization',\r\n",
        "              'the order of things', 'writing and difference', 'difference and repetition',\r\n",
        "              'anti-oedipus', 'the phenomenology of perception', \r\n",
        "              'the crisis of the european sciences and phenomenology', \r\n",
        "              'the idea of phenomenology',\r\n",
        "              'being and time', 'off the beaten track', 'critique of practical reason', \r\n",
        "              'critique of judgement', 'critique of pure reason', \r\n",
        "              'the system of ethics', 'science of logic', 'the phenomenology of spirit',\r\n",
        "              'elements of the philosophy of right', 'capital', 'the communist manifesto', \r\n",
        "              'essential works of lenin', 'the wealth of nations', \r\n",
        "              'on the principles of political economy and taxation',\r\n",
        "              'a general theory of employment, interest, and money', 'enchiridion',\r\n",
        "              'meditations', 'the antichrist', 'beyond good and evil', 'ecce homo',\r\n",
        "              'twilight of the idols', 'thus spake zarathustra']\r\n",
        "\r\n",
        "# authors\r\n",
        "author_list = ['plato', 'aristotle', 'aristotle', 'locke', 'locke', 'locke',\r\n",
        "               'hume', 'hume', 'berkeley', 'berkeley', 'spinoza', 'spinoza',\r\n",
        "               'leibniz', 'descartes', 'descartes', 'malebranche', 'russell', \r\n",
        "               'russell', 'moore', 'wittgenstein', 'wittgenstein', 'lewis', 'lewis',\r\n",
        "               'quine', 'popper', 'kripke', 'kripke', 'wittgenstein', 'foucault', 'foucault', \r\n",
        "               'foucault', 'derrida', 'deleuze', 'deleuze', 'merleau-ponty', \r\n",
        "               'husserl', 'husserl', 'heidegger', 'heidegger', 'kant', 'kant',\r\n",
        "               'kant', 'fichte', 'hegel', 'hegel', 'hegel', 'marx', 'marx', 'lenin',\r\n",
        "               'smith', 'ricardo', 'keynes', 'epictetus', 'marcus aurelius',\r\n",
        "               'nietzsche', 'nietzsche', 'nietzsche', 'nietzsche', 'nietzsche']\r\n",
        "\r\n",
        "school_list = ['plato', 'aristotle', 'aristotle', 'empiricism', 'empiricism', \r\n",
        "               'empiricism', 'empiricism', 'empiricism', 'empiricism', 'empiricism',\r\n",
        "               'rationalism', 'rationalism', 'rationalism', 'rationalism', \r\n",
        "               'rationalism', 'rationalism', 'analytic', 'analytic', 'analytic', \r\n",
        "               'analytic', 'analytic', 'analytic', 'analytic', 'analytic', 'analytic', \r\n",
        "               'analytic', 'analytic', 'analytic', 'continental', 'continental', 'continental', \r\n",
        "               'continental', 'continental', 'continental', 'phenomenology', \r\n",
        "               'phenomenology', 'phenomenology', 'phenomenology', 'phenomenology', \r\n",
        "               'german_idealism', 'german_idealism', 'german_idealism', 'german_idealism',\r\n",
        "               'german_idealism', 'german_idealism', 'german_idealism', 'communism', \r\n",
        "               'communism', 'communism', 'capitalism', 'capitalism', 'capitalism', \r\n",
        "               'stoicism', 'stoicism', 'nietzsche', 'nietzsche', 'nietzsche', \r\n",
        "               'nietzsche', 'nietzsche']               \r\n",
        "\r\n",
        "# words to remove \r\n",
        "to_rm_list = [plato_to_rm, aristotle_to_rm, aristotle_to_rm, locke_gov_to_rm, \r\n",
        "              [], [], [], [], berkeley_dialogues_to_rm, [], [], [], [], [], \r\n",
        "              descartes_meditations_to_rm, malebranche_search_to_rm, [],\r\n",
        "              [], [], [], wittgenstein_tract_to_rm, lewis_papers_1_to_rm, \r\n",
        "              lewis_papers_2_to_rm, quine_quintessence_to_rm, popper_science_to_rm,\r\n",
        "              [], kripke_troubles_to_rm, [], foucault_clinic_to_rm, foucault_madness_to_rm,\r\n",
        "              foucault_order_to_rm, [], deleuze_difference_to_rm, [],\r\n",
        "              ponty_perception_to_rm, husserl_crisis_to_rm, [], heidegger_b_and_t_to_rm,\r\n",
        "              [], [], kant_judgement_to_rm, kant_pure_reason_to_rm, fichte_ethics_to_rm, \r\n",
        "              hegel_SoL_to_rm, [], hegel_right_to_rm, marx_kapital_to_rm, \r\n",
        "              marx_manifesto_to_rm, [], [], [], keynes_employment_to_rm, [], [], \r\n",
        "              [], [], [], [], []]\r\n",
        "\r\n",
        "# check lengths to make sure all are present\r\n",
        "len(to_rm_list), len(all_texts), len(author_list), len(title_list), len(school_list)"
      ],
      "execution_count": 18,
      "outputs": [
        {
          "output_type": "execute_result",
          "data": {
            "text/plain": [
              "(59, 59, 59, 59, 59)"
            ]
          },
          "metadata": {
            "tags": []
          },
          "execution_count": 18
        }
      ]
    },
    {
      "cell_type": "code",
      "metadata": {
        "colab": {
          "base_uri": "https://localhost:8080/"
        },
        "id": "jWV3U1XIsPEe",
        "outputId": "a635d3af-59f4-4b4d-f1e1-337f8dcc3c70"
      },
      "source": [
        "# combine all these into a single list of dictionaries\r\n",
        "book_dicts = []\r\n",
        "for i in range(0, len(all_texts)):\r\n",
        "  book_dict = {}\r\n",
        "  book_dict['author'] = author_list[i].title()\r\n",
        "  book_dict['title'] = title_list[i].title()\r\n",
        "  book_dict['text'] = all_texts[i]\r\n",
        "  book_dict['school'] = school_list[i]\r\n",
        "  book_dict['words to remove'] = to_rm_list[i]\r\n",
        "  book_dict['remove capitals'] = True\r\n",
        "  book_dict['bracketed fn'] = False\r\n",
        "  book_dicts.append(book_dict)\r\n",
        "\r\n",
        "# mark the ones with bracketed footnotes \r\n",
        "for book in book_dicts:\r\n",
        "  if book['title'] in bracketed_fn:\r\n",
        "    book['bracketed fn'] = True\r\n",
        "\r\n",
        "# mark the ones with capitals we want to keep\r\n",
        "for book in book_dicts:\r\n",
        "  if book['title'] in do_not_remove_capitals:\r\n",
        "    book['remove capitals'] = False\r\n",
        "  \r\n",
        "# check length again to make sure\r\n",
        "len(book_dicts)"
      ],
      "execution_count": 19,
      "outputs": [
        {
          "output_type": "execute_result",
          "data": {
            "text/plain": [
              "59"
            ]
          },
          "metadata": {
            "tags": []
          },
          "execution_count": 19
        }
      ]
    },
    {
      "cell_type": "markdown",
      "metadata": {
        "id": "Old9KJCnMSLo"
      },
      "source": [
        "With a dictionary for each text, we are prepared to clean them, build dataframes for each text, and combine them into a master dataframe for all our data. \r\n",
        "\r\n",
        "As part of that, we use a new dictionary where the keys correspond to textual oddities and the values correspond to their corrected version. This helps deal with many individual cases of strange behavior in the corpus."
      ]
    },
    {
      "cell_type": "code",
      "metadata": {
        "id": "Xe_GUeVisQ7C",
        "cellView": "form"
      },
      "source": [
        "#@title Oddities Dictionary for Cleaning\r\n",
        "# a dictionary of oddities to clean up\r\n",
        "odd_words_dict = {'\\sderstanding': 'derstanding',\r\n",
        "                  '\\sditference\\s': ' difference ',\r\n",
        "                  '\\sforthe\\s': ' for the ',\r\n",
        "                  '\\sject': 'ject',\r\n",
        "                  '\\sjects': 'jects', \r\n",
        "                  '\\sness': 'ness',\r\n",
        "                  '\\sper\\scent\\s': ' percent ',\r\n",
        "                  '\\sper\\scent\\.': ' percent.',\r\n",
        "                  '\\sper\\scent,': ' percent,',\r\n",
        "                  '\\wi\\son': 'ion',\r\n",
        "                  '\\spri\\sori': ' priori',\r\n",
        "                  '\\stences\\s': 'tences ',\r\n",
        "                  '\\sprincipleb': ' principle',\r\n",
        "                  '\\ssciousness': 'sciousness',\r\n",
        "                  '\\stion': 'tion',\r\n",
        "                  '\\spri\\s': ' pri',\r\n",
        "                  '\\scluding': 'cluding',\r\n",
        "                  '\\sdom': 'dom',\r\n",
        "                  '\\sers': 'ers',\r\n",
        "                  '\\scritiq\\s': ' critique ',\r\n",
        "                  '\\ssensati\\s': ' sensation ',\r\n",
        "                  '(?i)\\syou\\sll': \" you'll\",\r\n",
        "                  '\\sI\\sll': \" I'll\",\r\n",
        "                  '(?i)\\swe\\sll': \" we'll\",\r\n",
        "                  '(?i)he\\sll': \" he'll\",\r\n",
        "                  '(?i)who\\sll': \"who'll\",\r\n",
        "                  '(?i)\\sthere\\sll\\s': \" there'll \",\r\n",
        "                  '\\seduca\\s': ' education ',\r\n",
        "                  '\\slity\\s': 'lity ',\r\n",
        "                  '\\smultaneously\\s': 'multaneously ',\r\n",
        "                  '\\stically\\s': 'tically ',\r\n",
        "                  '\\sDa\\ssein\\s': ' Dasein ',\r\n",
        "                  '(?i)\\sthey\\sll\\s': \" they'll \",\r\n",
        "                  '(?i)\\sin\\tum\\s': ' in turn ',\r\n",
        "                  '\\scon~\\s': ' con',\r\n",
        "                  '\\sà\\s': ' a ',\r\n",
        "                  '\\sjor\\s': ' for ',\r\n",
        "                  '\\sluminating\\s': 'luminating ',\r\n",
        "                  '\\sselj\\s': ' self ',\r\n",
        "                  '\\stial\\s': 'tial ',\r\n",
        "                  '\\sversal\\s': 'versal ',\r\n",
        "                  '\\sexis\\st': ' exist',\r\n",
        "                  '\\splauded\\s': 'plauded ',\r\n",
        "                  '\\suiry\\s': 'uiry ',\r\n",
        "                  '\\svithin\\s': ' within ',\r\n",
        "                  '\\soj\\s': ' of ',\r\n",
        "                  '\\sposi\\st': ' posit',\r\n",
        "                  '\\sra\\sther\\s': ' rather ',\r\n",
        "                  '(?i)\\sthat\\sll\\s': \" that'll \",\r\n",
        "                  '(?i)\\sa\\sll\\s': ' all ',\r\n",
        "                  '\\so\\sther\\s': ' other ',\r\n",
        "                  '\\sra\\sther\\s': ' rather ',\r\n",
        "                  '\\snei\\sther\\s': ' neither ',\r\n",
        "                  '\\sei\\sther\\s': ' either ',\r\n",
        "                  '\\sfur\\sther\\s': ' further ',\r\n",
        "                  '\\sano\\sther': ' another ',\r\n",
        "                  '\\sneces\\s': ' neces',\r\n",
        "                  'u\\slar\\s': 'ular ',\r\n",
        "                  '\\sference\\s': 'ference ',\r\n",
        "                  '(?i)it\\sll\\s': \"it'll \",\r\n",
        "                  '\\stoge\\sther': ' together ',\r\n",
        "                  '\\sknowledgeb\\s': ' knowledge ',\r\n",
        "                  'r\\stain\\s': 'rtain ',\r\n",
        "                  'on\\stain\\s': 'ontain',\r\n",
        "                  '(?i)j\\sect\\s': 'ject',\r\n",
        "                  '\\sob\\sect\\s': ' object ',\r\n",
        "                  '\\sbtle\\s': 'btle ',\r\n",
        "                  '\\snition\\s': 'nition ',\r\n",
        "                  '\\sdering\\s': 'dering ', \r\n",
        "                  '\\sized\\s': 'ized ',\r\n",
        "                  '\\sther\\shand': ' other hand',\r\n",
        "                  '\\ture\\s': 'ture ',\r\n",
        "                  '\\sabso\\sl': ' absol',\r\n",
        "                  '\\stly\\s': 'tly ',\r\n",
        "                  '\\serty\\s': 'erty ',\r\n",
        "                  '\\sobj\\se': ' obj',\r\n",
        "                  '\\sffiir\\s': ' for ',\r\n",
        "                  '\\sndeed\\s': ' indeed ',\r\n",
        "                  '\\sfonn\\s': ' form ',\r\n",
        "                  '\\snally\\s': 'nally ',\r\n",
        "                  'ain\\sty\\s': 'ainty ',\r\n",
        "                  'ici\\sty\\s': 'icity ',\r\n",
        "                  '\\scog\\sni': ' cogni',\r\n",
        "                  '\\sacc\\s': ' acc',\r\n",
        "                  '\\sindi\\svid\\sual': ' individual', \r\n",
        "                  '\\sintu\\sit': ' intuit',\r\n",
        "                  'r\\sance\\s': 'rance ',\r\n",
        "                  '\\ssions\\s': 'sions ',\r\n",
        "                  '\\sances\\s': 'ances ',\r\n",
        "                  '\\sper\\sception\\s': ' perception ',\r\n",
        "                  '\\sse\\sries\\s': ' series ',\r\n",
        "                  '\\sque\\sries\\s': ' queries ',\r\n",
        "                  '\\sessary\\s': 'essary ',\r\n",
        "                  '\\sofa\\s': ' of a ',\r\n",
        "                  '\\scer\\stainty\\s': ' certainty ',\r\n",
        "                  'ec\\stivity\\s': 'ectivity ',\r\n",
        "                  '\\stivity\\s': 'tivity ',\r\n",
        "                  '\\slation\\s': 'lation ',\r\n",
        "                  '\\sir\\sr': ' irr',\r\n",
        "                  '\\ssub\\sstance\\s': ' substance ',\r\n",
        "                  'sec\\sond\\s': 'second ',\r\n",
        "                  '\\s\\.rv': '',\r\n",
        "                  '\\story\\s': 'tory ',\r\n",
        "                  '\\sture\\s': 'ture ',\r\n",
        "                  '\\sminate\\s': 'minate ',\r\n",
        "                  '\\sing\\s': 'ing ',\r\n",
        "                  '\\splicity\\s': 'plicity ',\r\n",
        "                  '\\ssimi\\slar\\s': ' similar ',\r\n",
        "                  '\\scom\\smunity\\s': ' community ',\r\n",
        "                  '\\sitselfa\\s': ' itself a ',\r\n",
        "                  '\\ssimp\\s': ' simply ',\r\n",
        "                  '\\scon\\stex': ' contex',\r\n",
        "                  '\\scon\\sseq': ' conseq',\r\n",
        "                  '\\scon\\stai': ' contai',\r\n",
        "                  '\\sofwhat\\s': ' of what ',\r\n",
        "                  '\\sui\\s': 'ui',\r\n",
        "                  '\\sofan\\s': ' of an ',\r\n",
        "                  '\\saccor\\sdance\\s': ' accordance ',\r\n",
        "                  '\\stranscen\\sdental\\s': ' transcendental ',\r\n",
        "                  '\\sap\\spearances\\s': ' appearances ',\r\n",
        "                  'e\\squences\\s': 'equences ',\r\n",
        "                  '\\sorits\\s': ' or its ',\r\n",
        "                  '\\simma\\sn': ' imman',\r\n",
        "                  '\\seq\\sua': ' equa',\r\n",
        "                  '\\simpl\\sied\\s': ' implied ',\r\n",
        "                  '\\sbuta\\s': ' but a ',\r\n",
        "                  '\\sa\\snd\\s': ' and ',\r\n",
        "                  '\\sence\\s': 'ence ',\r\n",
        "                  '\\stain\\s': 'tain ',\r\n",
        "                  '\\sunder\\sstanding\\s': ' understanding ',\r\n",
        "                  'i\\sence\\s': 'ience ',\r\n",
        "                  'r\\sence\\s': 'rence ',\r\n",
        "                  '\\stical\\s': 'tical ',\r\n",
        "                  '\\sobjectsb\\s': ' objects ',\r\n",
        "                  '\\stbe\\s': ' the ',\r\n",
        "                  '\\smul\\st': ' mult',\r\n",
        "                  '\\sgen\\seral\\s': ' general ',\r\n",
        "                  '\\suniver\\ssal\\s': ' universal ',\r\n",
        "                  '\\scon\\stent\\s': ' content ',\r\n",
        "                  '\\spar\\sticular\\s': ' particular ',\r\n",
        "                  'ver\\ssity\\s': 'versity ',\r\n",
        "                  '\\sCritiq\\s': ' Critique ',\r\n",
        "                  '\\sphilo\\ssophy\\s': ' philosophy ',\r\n",
        "                  '\\seq\\s': ' eq'}"
      ],
      "execution_count": 20,
      "outputs": []
    },
    {
      "cell_type": "code",
      "metadata": {
        "colab": {
          "base_uri": "https://localhost:8080/"
        },
        "id": "G_KZCE6YsYE7",
        "outputId": "6bd892c7-04e8-4c01-b321-89adeb90e045"
      },
      "source": [
        "def from_raw_to_df(text_dict):\r\n",
        "  nlp.max_length = 9000000\r\n",
        "  text = text_dict['text']\r\n",
        "  text = remove_words(text, text_dict['words to remove'])\r\n",
        "  text = baseline_clean(text, capitals=text_dict['remove capitals'],\r\n",
        "                        bracketed_fn=text_dict['bracketed fn'],\r\n",
        "                        odd_words_dict=odd_words_dict)\r\n",
        "  text_nlp = nlp(text, disable=['ner'])\r\n",
        "  text_df = pd.DataFrame(columns=['title', 'author', 'school', 'sentence_spacy'])\r\n",
        "  text_df['sentence_spacy'] = list(text_nlp.sents)\r\n",
        "  text_df['author'] = text_dict['author']\r\n",
        "  text_df['title'] = text_dict['title']\r\n",
        "  text_df['school'] = text_dict['school']\r\n",
        "  text_df['sentence_str'] = text_df['sentence_spacy'].apply(lambda x: ''.join(list(str(x))))\r\n",
        "  return text_df\r\n",
        "\r\n",
        "df = pd.DataFrame(columns=['title', 'author', 'school', 'sentence_spacy', 'sentence_str'])\r\n",
        "for book in book_dicts:\r\n",
        "  book_df = from_raw_to_df(book)\r\n",
        "  df = df.append(book_df, ignore_index=True)\r\n",
        "\r\n",
        "len(df)"
      ],
      "execution_count": 21,
      "outputs": [
        {
          "output_type": "execute_result",
          "data": {
            "text/plain": [
              "381180"
            ]
          },
          "metadata": {
            "tags": []
          },
          "execution_count": 21
        }
      ]
    },
    {
      "cell_type": "code",
      "metadata": {
        "colab": {
          "base_uri": "https://localhost:8080/",
          "height": 747
        },
        "id": "0rTa7P8KwXC6",
        "outputId": "04a00e98-9cd5-40b5-d4e3-5d5524831c0c"
      },
      "source": [
        "pd.options.display.max_colwidth = 200\r\n",
        "df.sample(10)"
      ],
      "execution_count": 22,
      "outputs": [
        {
          "output_type": "execute_result",
          "data": {
            "text/html": [
              "<div>\n",
              "<style scoped>\n",
              "    .dataframe tbody tr th:only-of-type {\n",
              "        vertical-align: middle;\n",
              "    }\n",
              "\n",
              "    .dataframe tbody tr th {\n",
              "        vertical-align: top;\n",
              "    }\n",
              "\n",
              "    .dataframe thead th {\n",
              "        text-align: right;\n",
              "    }\n",
              "</style>\n",
              "<table border=\"1\" class=\"dataframe\">\n",
              "  <thead>\n",
              "    <tr style=\"text-align: right;\">\n",
              "      <th></th>\n",
              "      <th>title</th>\n",
              "      <th>author</th>\n",
              "      <th>school</th>\n",
              "      <th>sentence_spacy</th>\n",
              "      <th>sentence_str</th>\n",
              "    </tr>\n",
              "  </thead>\n",
              "  <tbody>\n",
              "    <tr>\n",
              "      <th>97537</th>\n",
              "      <td>Aristotle - Complete Works</td>\n",
              "      <td>Aristotle</td>\n",
              "      <td>aristotle</td>\n",
              "      <td>(Now, olives, are, abundant, in, this, country, .)</td>\n",
              "      <td>Now olives are abundant in this country.</td>\n",
              "    </tr>\n",
              "    <tr>\n",
              "      <th>213728</th>\n",
              "      <td>Madness And Civilization</td>\n",
              "      <td>Foucault</td>\n",
              "      <td>continental</td>\n",
              "      <td>(It, was, in, these, spaces, of, confinement, that, Pinel, and, the, psychiatry, of, the, nineteenth, century, met, the, mad, ,, and, lest, we, forget, it, was, there, too)</td>\n",
              "      <td>It was in these spaces of confinement that Pinel and the psychiatry of the nineteenth century met the mad, and lest we forget it was there too</td>\n",
              "    </tr>\n",
              "    <tr>\n",
              "      <th>168425</th>\n",
              "      <td>Lewis - Papers</td>\n",
              "      <td>Lewis</td>\n",
              "      <td>analytic</td>\n",
              "      <td>(definitionally, implies, by, an, alternate, route, .)</td>\n",
              "      <td>definitionally implies by an alternate route.</td>\n",
              "    </tr>\n",
              "    <tr>\n",
              "      <th>114170</th>\n",
              "      <td>A Treatise Of Human Nature</td>\n",
              "      <td>Hume</td>\n",
              "      <td>empiricism</td>\n",
              "      <td>(Nothing, appears, requisite, to, support, the, existence, of, a, perception, .)</td>\n",
              "      <td>Nothing appears requisite to support the existence of a perception.</td>\n",
              "    </tr>\n",
              "    <tr>\n",
              "      <th>373285</th>\n",
              "      <td>Twilight Of The Idols</td>\n",
              "      <td>Nietzsche</td>\n",
              "      <td>nietzsche</td>\n",
              "      <td>(The, great, lie, of, personal, immortality, destroys, all, reason, ,, all, nature, in, the, instincts, ,, everything, in, the, instincts, that, is, beneficent, ,, that, promotes, life, and, that,...</td>\n",
              "      <td>The great lie of personal immortality destroys all reason, all nature in the instincts, everything in the instincts that is beneficent, that promotes life and that is a guarantee of the future, he...</td>\n",
              "    </tr>\n",
              "    <tr>\n",
              "      <th>59258</th>\n",
              "      <td>Aristotle - Complete Works</td>\n",
              "      <td>Aristotle</td>\n",
              "      <td>aristotle</td>\n",
              "      <td>(Earth, then, has, to, exist, ;, for, it, is, earth, which, is, at, rest, at, the, centre, .)</td>\n",
              "      <td>Earth then has to exist; for it is earth which is at rest at the centre.</td>\n",
              "    </tr>\n",
              "    <tr>\n",
              "      <th>351407</th>\n",
              "      <td>The Wealth Of Nations</td>\n",
              "      <td>Smith</td>\n",
              "      <td>capitalism</td>\n",
              "      <td>(A, Roman, colony, ,, therefore, ,, whether, we, consider, the, nature, of, the, establishment, itself, ,, or, the, motives, for, making, it, ,, was, altogether, different, from, a, Greek, one, .)</td>\n",
              "      <td>A Roman colony, therefore, whether we consider the nature of the establishment itself, or the motives for making it, was altogether different from a Greek one.</td>\n",
              "    </tr>\n",
              "    <tr>\n",
              "      <th>50470</th>\n",
              "      <td>Aristotle - Complete Works</td>\n",
              "      <td>Aristotle</td>\n",
              "      <td>aristotle</td>\n",
              "      <td>(For, nothing, prevents, A, belonging, to, every, and, to, some, ,, though, does, not, belong, to, some, ,, eg, animal, to, every, man, and, to, some, white, things, ,, though, man, will, not, bel...</td>\n",
              "      <td>For nothing prevents A belonging to every and to some, though does not belong to some, eg animal to every man and to some white things, though man will not belong to some white things.</td>\n",
              "    </tr>\n",
              "    <tr>\n",
              "      <th>71296</th>\n",
              "      <td>Aristotle - Complete Works</td>\n",
              "      <td>Aristotle</td>\n",
              "      <td>aristotle</td>\n",
              "      <td>(River, fish, and, lake, fish, are, best, after, they, have, discharged, the, spawn, and, the, milt, ;, that, is, ,, when, they, have, fully, recovered, .)</td>\n",
              "      <td>River fish and lake fish are best after they have discharged the spawn and the milt; that is, when they have fully recovered.</td>\n",
              "    </tr>\n",
              "    <tr>\n",
              "      <th>267545</th>\n",
              "      <td>Being And Time</td>\n",
              "      <td>Heidegger</td>\n",
              "      <td>phenomenology</td>\n",
              "      <td>(Never, theless, ,, we, must, ask, whence, in, general, can, the, possibilities, be, drawn, upon, which, Dasein, factically, projects, itself, ?)</td>\n",
              "      <td>Never theless, we must ask whence in general can the possibilities be drawn upon which Dasein factically projects itself?</td>\n",
              "    </tr>\n",
              "  </tbody>\n",
              "</table>\n",
              "</div>"
            ],
            "text/plain": [
              "                             title  ...                                                                                                                                                                                             sentence_str\n",
              "97537   Aristotle - Complete Works  ...                                                                                                                                                                 Now olives are abundant in this country.\n",
              "213728    Madness And Civilization  ...                                                           It was in these spaces of confinement that Pinel and the psychiatry of the nineteenth century met the mad, and lest we forget it was there too\n",
              "168425              Lewis - Papers  ...                                                                                                                                                            definitionally implies by an alternate route.\n",
              "114170  A Treatise Of Human Nature  ...                                                                                                                                      Nothing appears requisite to support the existence of a perception.\n",
              "373285       Twilight Of The Idols  ...  The great lie of personal immortality destroys all reason, all nature in the instincts, everything in the instincts that is beneficent, that promotes life and that is a guarantee of the future, he...\n",
              "59258   Aristotle - Complete Works  ...                                                                                                                                 Earth then has to exist; for it is earth which is at rest at the centre.\n",
              "351407       The Wealth Of Nations  ...                                          A Roman colony, therefore, whether we consider the nature of the establishment itself, or the motives for making it, was altogether different from a Greek one.\n",
              "50470   Aristotle - Complete Works  ...                 For nothing prevents A belonging to every and to some, though does not belong to some, eg animal to every man and to some white things, though man will not belong to some white things.\n",
              "71296   Aristotle - Complete Works  ...                                                                            River fish and lake fish are best after they have discharged the spawn and the milt; that is, when they have fully recovered.\n",
              "267545              Being And Time  ...                                                                                Never theless, we must ask whence in general can the possibilities be drawn upon which Dasein factically projects itself?\n",
              "\n",
              "[10 rows x 5 columns]"
            ]
          },
          "metadata": {
            "tags": []
          },
          "execution_count": 22
        }
      ]
    },
    {
      "cell_type": "code",
      "metadata": {
        "colab": {
          "base_uri": "https://localhost:8080/"
        },
        "id": "EFFcGwHUwTKv",
        "outputId": "dfc099bc-c621-44df-f093-47805b082174"
      },
      "source": [
        "df['school'].value_counts(normalize=True)"
      ],
      "execution_count": 23,
      "outputs": [
        {
          "output_type": "execute_result",
          "data": {
            "text/plain": [
              "analytic           0.159518\n",
              "aristotle          0.142004\n",
              "plato              0.126098\n",
              "german_idealism    0.125285\n",
              "continental        0.092854\n",
              "phenomenology      0.080017\n",
              "rationalism        0.068828\n",
              "empiricism         0.054809\n",
              "communism          0.054518\n",
              "capitalism         0.049816\n",
              "nietzsche          0.039312\n",
              "stoicism           0.006942\n",
              "Name: school, dtype: float64"
            ]
          },
          "metadata": {
            "tags": []
          },
          "execution_count": 23
        }
      ]
    },
    {
      "cell_type": "code",
      "metadata": {
        "colab": {
          "base_uri": "https://localhost:8080/",
          "height": 1000
        },
        "id": "SujsiUfnsfvU",
        "outputId": "abbd70b4-d20e-40aa-d40c-c60d75c1b737"
      },
      "source": [
        "# use this cell to check the new author's sentences and see if anything seems amiss\r\n",
        "print(len(df[df['author']=='Nietzsche']))\r\n",
        "df[df['author']=='Nietzsche'].sample(20)"
      ],
      "execution_count": 25,
      "outputs": [
        {
          "output_type": "stream",
          "text": [
            "14985\n"
          ],
          "name": "stdout"
        },
        {
          "output_type": "execute_result",
          "data": {
            "text/html": [
              "<div>\n",
              "<style scoped>\n",
              "    .dataframe tbody tr th:only-of-type {\n",
              "        vertical-align: middle;\n",
              "    }\n",
              "\n",
              "    .dataframe tbody tr th {\n",
              "        vertical-align: top;\n",
              "    }\n",
              "\n",
              "    .dataframe thead th {\n",
              "        text-align: right;\n",
              "    }\n",
              "</style>\n",
              "<table border=\"1\" class=\"dataframe\">\n",
              "  <thead>\n",
              "    <tr style=\"text-align: right;\">\n",
              "      <th></th>\n",
              "      <th>title</th>\n",
              "      <th>author</th>\n",
              "      <th>school</th>\n",
              "      <th>sentence_spacy</th>\n",
              "      <th>sentence_str</th>\n",
              "    </tr>\n",
              "  </thead>\n",
              "  <tbody>\n",
              "    <tr>\n",
              "      <th>368098</th>\n",
              "      <td>Beyond Good And Evil</td>\n",
              "      <td>Nietzsche</td>\n",
              "      <td>nietzsche</td>\n",
              "      <td>(To, be, sure, to, make, also, the, bad, counter, reckoning, against, such, religions, ,, and, to, bring, to, light, their, secret, dangers, the, cost, is, always, excessive, and, terrible, when, ...</td>\n",
              "      <td>To be sure to make also the bad counter reckoning against such religions, and to bring to light their secret dangers the cost is always excessive and terrible when religions do operate as an educa...</td>\n",
              "    </tr>\n",
              "    <tr>\n",
              "      <th>378867</th>\n",
              "      <td>Thus Spake Zarathustra</td>\n",
              "      <td>Nietzsche</td>\n",
              "      <td>nietzsche</td>\n",
              "      <td>(All, too, small, ,, even, the, greatest, man, !)</td>\n",
              "      <td>All too small, even the greatest man!</td>\n",
              "    </tr>\n",
              "    <tr>\n",
              "      <th>368781</th>\n",
              "      <td>Beyond Good And Evil</td>\n",
              "      <td>Nietzsche</td>\n",
              "      <td>nietzsche</td>\n",
              "      <td>(But, let, us, not, be, afraid, !)</td>\n",
              "      <td>But let us not be afraid!</td>\n",
              "    </tr>\n",
              "    <tr>\n",
              "      <th>370850</th>\n",
              "      <td>Ecce Homo</td>\n",
              "      <td>Nietzsche</td>\n",
              "      <td>nietzsche</td>\n",
              "      <td>(Never, in, my, life, have, I, experienced, such, an, autumn, ;, nor, had, I, ever, imagined, that, such, things, were, possible, on, earth)</td>\n",
              "      <td>Never in my life have I experienced such an autumn; nor had I ever imagined that such things were possible on earth</td>\n",
              "    </tr>\n",
              "    <tr>\n",
              "      <th>370585</th>\n",
              "      <td>Ecce Homo</td>\n",
              "      <td>Nietzsche</td>\n",
              "      <td>nietzsche</td>\n",
              "      <td>(He, who, longs, to, feel, in, his, own, soul, the, whole, range, of, values, and, aims, that, have, prevailed, on, earth, until, his, day, ,, and, to, sail, round, all, the, coasts, of, this, ide...</td>\n",
              "      <td>He who longs to feel in his own soul the whole range of values and aims that have prevailed on earth until his day, and to sail round all the coasts of this ideal 'Mediterranean Sea'; who, from th...</td>\n",
              "    </tr>\n",
              "    <tr>\n",
              "      <th>368094</th>\n",
              "      <td>Beyond Good And Evil</td>\n",
              "      <td>Nietzsche</td>\n",
              "      <td>nietzsche</td>\n",
              "      <td>(Asceticism, and, Puritanism, are, almost, indispensable, means, of, educating, and, ennobling, a, race, which, seeks, to, rise, above, its, hereditary, baseness, and, work, itself, upwards, to, f...</td>\n",
              "      <td>Asceticism and Puritanism are almost indispensable means of educating and ennobling a race which seeks to rise above its hereditary baseness and work itself upwards to future supremacy.</td>\n",
              "    </tr>\n",
              "    <tr>\n",
              "      <th>380819</th>\n",
              "      <td>Thus Spake Zarathustra</td>\n",
              "      <td>Nietzsche</td>\n",
              "      <td>nietzsche</td>\n",
              "      <td>(The, ass, ,, however, ,, here, brayed, .)</td>\n",
              "      <td>The ass, however, here brayed.</td>\n",
              "    </tr>\n",
              "    <tr>\n",
              "      <th>373954</th>\n",
              "      <td>Twilight Of The Idols</td>\n",
              "      <td>Nietzsche</td>\n",
              "      <td>nietzsche</td>\n",
              "      <td>(And, if, this, momentary, state, has, already, existed, then, that, which, bore, it)</td>\n",
              "      <td>And if this momentary state has already existed then that which bore it</td>\n",
              "    </tr>\n",
              "    <tr>\n",
              "      <th>377480</th>\n",
              "      <td>Thus Spake Zarathustra</td>\n",
              "      <td>Nietzsche</td>\n",
              "      <td>nietzsche</td>\n",
              "      <td>(He, ,, however, ,, who, is, obtrusive, with, his, eyes, as, a, discerner, ,, how, can, he, ever, see, more, of, anything, than, its, foreground, !)</td>\n",
              "      <td>He, however, who is obtrusive with his eyes as a discerner, how can he ever see more of anything than its foreground!</td>\n",
              "    </tr>\n",
              "    <tr>\n",
              "      <th>378442</th>\n",
              "      <td>Thus Spake Zarathustra</td>\n",
              "      <td>Nietzsche</td>\n",
              "      <td>nietzsche</td>\n",
              "      <td>(And, he, who, can, ,, will, not, !)</td>\n",
              "      <td>And he who can, will not!</td>\n",
              "    </tr>\n",
              "    <tr>\n",
              "      <th>379657</th>\n",
              "      <td>Thus Spake Zarathustra</td>\n",
              "      <td>Nietzsche</td>\n",
              "      <td>nietzsche</td>\n",
              "      <td>(It, is, I, ,, the, ungodly, Zarathustra, ,, who, saith, :, ', Who, is, ungodlier, than, I, ,, that, I, may, enjoy, his, teaching, ?, ', ')</td>\n",
              "      <td>It is I, the ungodly Zarathustra, who saith: 'Who is ungodlier than I, that I may enjoy his teaching?''</td>\n",
              "    </tr>\n",
              "    <tr>\n",
              "      <th>367116</th>\n",
              "      <td>The Antichrist</td>\n",
              "      <td>Nietzsche</td>\n",
              "      <td>nietzsche</td>\n",
              "      <td>(The, fact, that, faith, ,, under, certain, circumstances, ,, may, work, for, blessedness, ,, but, that, this, blessedness, produced, by, an, i, d, fixe, by, no, means, makes, the, idea, itself, t...</td>\n",
              "      <td>The fact that faith, under certain circumstances, may work for blessedness, but that this blessedness produced by an id fixe by no means makes the idea itself true, and the fact that faith actuall...</td>\n",
              "    </tr>\n",
              "    <tr>\n",
              "      <th>373712</th>\n",
              "      <td>Twilight Of The Idols</td>\n",
              "      <td>Nietzsche</td>\n",
              "      <td>nietzsche</td>\n",
              "      <td>(Handicraft, ,, commerce, ,, agriculture, ,, science, ,, the, greater, part, of, art, ,, in, a, word, ,, the, whole, range, of, professional, and, business, callings, ,, is, compatible, only, with...</td>\n",
              "      <td>Handicraft, commerce, agriculture, science, the greater part of art, in a word, the whole range of professional and business callings, is compatible only with mediocre ability and ambition; such p...</td>\n",
              "    </tr>\n",
              "    <tr>\n",
              "      <th>370044</th>\n",
              "      <td>Ecce Homo</td>\n",
              "      <td>Nietzsche</td>\n",
              "      <td>nietzsche</td>\n",
              "      <td>(From, this, standpoint, even, the, blunders, of, one, 's, life, have, their, own, meaning, and, value, ,, the, temporary, deviations, and, aberrations, ,, the, moments, of, hesitation, and, of, m...</td>\n",
              "      <td>From this standpoint even the blunders of one's life have their own meaning and value, the temporary deviations and aberrations, the moments of hesitation and of modesty, the earnestness wasted up...</td>\n",
              "    </tr>\n",
              "    <tr>\n",
              "      <th>367102</th>\n",
              "      <td>The Antichrist</td>\n",
              "      <td>Nietzsche</td>\n",
              "      <td>nietzsche</td>\n",
              "      <td>(The, proof, by, power, ,, thus, assumed, ,, is, actually, no, more, at, bottom, than, a, belief, that, the, effects, which, faith, promises, will, not, fail, to, appear, .)</td>\n",
              "      <td>The proof by power, thus assumed, is actually no more at bottom than a belief that the effects which faith promises will not fail to appear.</td>\n",
              "    </tr>\n",
              "    <tr>\n",
              "      <th>370174</th>\n",
              "      <td>Ecce Homo</td>\n",
              "      <td>Nietzsche</td>\n",
              "      <td>nietzsche</td>\n",
              "      <td>(We, all, know, ,, some, of, us, even, from, experience, ,, what, a, long, ears, is, .)</td>\n",
              "      <td>We all know, some of us even from experience, what a long ears is.</td>\n",
              "    </tr>\n",
              "    <tr>\n",
              "      <th>379565</th>\n",
              "      <td>Thus Spake Zarathustra</td>\n",
              "      <td>Nietzsche</td>\n",
              "      <td>nietzsche</td>\n",
              "      <td>(Thou, bad, false, coiner, ,, how, couldst, thou, do, otherwise, !)</td>\n",
              "      <td>Thou bad false coiner, how couldst thou do otherwise!</td>\n",
              "    </tr>\n",
              "    <tr>\n",
              "      <th>378067</th>\n",
              "      <td>Thus Spake Zarathustra</td>\n",
              "      <td>Nietzsche</td>\n",
              "      <td>nietzsche</td>\n",
              "      <td>(they, do, otherwise, ,, then, would, they, also, otherwise, .)</td>\n",
              "      <td>they do otherwise, then would they also otherwise.</td>\n",
              "    </tr>\n",
              "    <tr>\n",
              "      <th>374106</th>\n",
              "      <td>Twilight Of The Idols</td>\n",
              "      <td>Nietzsche</td>\n",
              "      <td>nietzsche</td>\n",
              "      <td>(They, mutually, contradict, each, other, :, they, have, their, origin, in, different, tables, of, values, .)</td>\n",
              "      <td>They mutually contradict each other: they have their origin in different tables of values.</td>\n",
              "    </tr>\n",
              "    <tr>\n",
              "      <th>381001</th>\n",
              "      <td>Thus Spake Zarathustra</td>\n",
              "      <td>Nietzsche</td>\n",
              "      <td>nietzsche</td>\n",
              "      <td>(Every, pain, hath, torn, thy, heart, ,, father, pain, ,, fathers, ', pain, ,, forefathers, ', pain, ;, thy, speech, hath, become, ripe, ,)</td>\n",
              "      <td>Every pain hath torn thy heart, father pain, fathers' pain, forefathers' pain; thy speech hath become ripe,</td>\n",
              "    </tr>\n",
              "  </tbody>\n",
              "</table>\n",
              "</div>"
            ],
            "text/plain": [
              "                         title  ...                                                                                                                                                                                             sentence_str\n",
              "368098    Beyond Good And Evil  ...  To be sure to make also the bad counter reckoning against such religions, and to bring to light their secret dangers the cost is always excessive and terrible when religions do operate as an educa...\n",
              "378867  Thus Spake Zarathustra  ...                                                                                                                                                                    All too small, even the greatest man!\n",
              "368781    Beyond Good And Evil  ...                                                                                                                                                                                But let us not be afraid!\n",
              "370850               Ecce Homo  ...                                                                                      Never in my life have I experienced such an autumn; nor had I ever imagined that such things were possible on earth\n",
              "370585               Ecce Homo  ...  He who longs to feel in his own soul the whole range of values and aims that have prevailed on earth until his day, and to sail round all the coasts of this ideal 'Mediterranean Sea'; who, from th...\n",
              "368094    Beyond Good And Evil  ...                Asceticism and Puritanism are almost indispensable means of educating and ennobling a race which seeks to rise above its hereditary baseness and work itself upwards to future supremacy.\n",
              "380819  Thus Spake Zarathustra  ...                                                                                                                                                                           The ass, however, here brayed.\n",
              "373954   Twilight Of The Idols  ...                                                                                                                                  And if this momentary state has already existed then that which bore it\n",
              "377480  Thus Spake Zarathustra  ...                                                                                    He, however, who is obtrusive with his eyes as a discerner, how can he ever see more of anything than its foreground!\n",
              "378442  Thus Spake Zarathustra  ...                                                                                                                                                                                And he who can, will not!\n",
              "379657  Thus Spake Zarathustra  ...                                                                                                  It is I, the ungodly Zarathustra, who saith: 'Who is ungodlier than I, that I may enjoy his teaching?''\n",
              "367116          The Antichrist  ...  The fact that faith, under certain circumstances, may work for blessedness, but that this blessedness produced by an id fixe by no means makes the idea itself true, and the fact that faith actuall...\n",
              "373712   Twilight Of The Idols  ...  Handicraft, commerce, agriculture, science, the greater part of art, in a word, the whole range of professional and business callings, is compatible only with mediocre ability and ambition; such p...\n",
              "370044               Ecce Homo  ...  From this standpoint even the blunders of one's life have their own meaning and value, the temporary deviations and aberrations, the moments of hesitation and of modesty, the earnestness wasted up...\n",
              "367102          The Antichrist  ...                                                             The proof by power, thus assumed, is actually no more at bottom than a belief that the effects which faith promises will not fail to appear.\n",
              "370174               Ecce Homo  ...                                                                                                                                       We all know, some of us even from experience, what a long ears is.\n",
              "379565  Thus Spake Zarathustra  ...                                                                                                                                                    Thou bad false coiner, how couldst thou do otherwise!\n",
              "378067  Thus Spake Zarathustra  ...                                                                                                                                                       they do otherwise, then would they also otherwise.\n",
              "374106   Twilight Of The Idols  ...                                                                                                               They mutually contradict each other: they have their origin in different tables of values.\n",
              "381001  Thus Spake Zarathustra  ...                                                                                              Every pain hath torn thy heart, father pain, fathers' pain, forefathers' pain; thy speech hath become ripe,\n",
              "\n",
              "[20 rows x 5 columns]"
            ]
          },
          "metadata": {
            "tags": []
          },
          "execution_count": 25
        }
      ]
    },
    {
      "cell_type": "markdown",
      "metadata": {
        "id": "xsIOtvZsMkdx"
      },
      "source": [
        "### Cleaning the Dataframe "
      ]
    },
    {
      "cell_type": "markdown",
      "metadata": {
        "id": "zuTIcCizMweb"
      },
      "source": [
        "But before the fun stuff, to ensure that we get good results, we need to clean the dataframe. This will take a few steps:\r\n",
        "1. Determine a threshold length and cut the (so-called) sentences that are shorter than that length (this will already eliminate meaningless duplicates like punctuations)\r\n",
        "2. Check for words that indicate footnotes (words like 'edition' or 'ibid'); we can then cut these sentences from the data\r\n",
        "3. Check for duplicates; there should be few if any duplicates in the dataframe for each school\r\n",
        "4. Check for words that indicate other languages so that we can eliminate quotations, citations, or other non-English sentences"
      ]
    },
    {
      "cell_type": "markdown",
      "metadata": {
        "id": "WI3KwHHVM8ck"
      },
      "source": [
        "#### 1. Deal with Short Sentences"
      ]
    },
    {
      "cell_type": "code",
      "metadata": {
        "colab": {
          "base_uri": "https://localhost:8080/",
          "height": 213
        },
        "id": "LLkVXKfIwcup",
        "outputId": "82f2f474-768f-4d2a-fcd9-6b259060a300"
      },
      "source": [
        "df['sentence_length'] = df['sentence_str'].map(lambda x: len(x))\r\n",
        "num_of_short_entries = len(df[df['sentence_length'] < 20])\r\n",
        "print(f\"there are {num_of_short_entries} so-called sentences with fewer than 20 characters\")\r\n",
        "df[df['sentence_length'] < 20].sample(5)"
      ],
      "execution_count": 26,
      "outputs": [
        {
          "output_type": "stream",
          "text": [
            "there are 31392 so-called sentences with fewer than 20 characters\n"
          ],
          "name": "stdout"
        },
        {
          "output_type": "execute_result",
          "data": {
            "text/html": [
              "<div>\n",
              "<style scoped>\n",
              "    .dataframe tbody tr th:only-of-type {\n",
              "        vertical-align: middle;\n",
              "    }\n",
              "\n",
              "    .dataframe tbody tr th {\n",
              "        vertical-align: top;\n",
              "    }\n",
              "\n",
              "    .dataframe thead th {\n",
              "        text-align: right;\n",
              "    }\n",
              "</style>\n",
              "<table border=\"1\" class=\"dataframe\">\n",
              "  <thead>\n",
              "    <tr style=\"text-align: right;\">\n",
              "      <th></th>\n",
              "      <th>title</th>\n",
              "      <th>author</th>\n",
              "      <th>school</th>\n",
              "      <th>sentence_spacy</th>\n",
              "      <th>sentence_str</th>\n",
              "      <th>sentence_length</th>\n",
              "    </tr>\n",
              "  </thead>\n",
              "  <tbody>\n",
              "    <tr>\n",
              "      <th>102310</th>\n",
              "      <td>Second Treatise On Government</td>\n",
              "      <td>Locke</td>\n",
              "      <td>empiricism</td>\n",
              "      <td>(cxv, .)</td>\n",
              "      <td>cxv.</td>\n",
              "      <td>4</td>\n",
              "    </tr>\n",
              "    <tr>\n",
              "      <th>119149</th>\n",
              "      <td>Dialogues Concerning Natural Religion</td>\n",
              "      <td>Hume</td>\n",
              "      <td>empiricism</td>\n",
              "      <td>(et, omnes, Ignibus)</td>\n",
              "      <td>et omnes Ignibus</td>\n",
              "      <td>16</td>\n",
              "    </tr>\n",
              "    <tr>\n",
              "      <th>6384</th>\n",
              "      <td>Plato - Complete Works</td>\n",
              "      <td>Plato</td>\n",
              "      <td>plato</td>\n",
              "      <td>(Yes, ,, surely, .)</td>\n",
              "      <td>Yes, surely.</td>\n",
              "      <td>12</td>\n",
              "    </tr>\n",
              "    <tr>\n",
              "      <th>38620</th>\n",
              "      <td>Plato - Complete Works</td>\n",
              "      <td>Plato</td>\n",
              "      <td>plato</td>\n",
              "      <td>(Naturally, .)</td>\n",
              "      <td>Naturally.</td>\n",
              "      <td>10</td>\n",
              "    </tr>\n",
              "    <tr>\n",
              "      <th>34036</th>\n",
              "      <td>Plato - Complete Works</td>\n",
              "      <td>Plato</td>\n",
              "      <td>plato</td>\n",
              "      <td>(Book)</td>\n",
              "      <td>Book</td>\n",
              "      <td>4</td>\n",
              "    </tr>\n",
              "  </tbody>\n",
              "</table>\n",
              "</div>"
            ],
            "text/plain": [
              "                                        title  ... sentence_length\n",
              "102310          Second Treatise On Government  ...               4\n",
              "119149  Dialogues Concerning Natural Religion  ...              16\n",
              "6384                   Plato - Complete Works  ...              12\n",
              "38620                  Plato - Complete Works  ...              10\n",
              "34036                  Plato - Complete Works  ...               4\n",
              "\n",
              "[5 rows x 6 columns]"
            ]
          },
          "metadata": {
            "tags": []
          },
          "execution_count": 26
        }
      ]
    },
    {
      "cell_type": "code",
      "metadata": {
        "colab": {
          "base_uri": "https://localhost:8080/"
        },
        "id": "2FOolcqOwcgz",
        "outputId": "d0552b80-ebdc-48ae-f3fd-9303be16f7f6"
      },
      "source": [
        "df = df.drop(df[df['sentence_length'] < 20].index)\r\n",
        "len(df)"
      ],
      "execution_count": 27,
      "outputs": [
        {
          "output_type": "execute_result",
          "data": {
            "text/plain": [
              "349788"
            ]
          },
          "metadata": {
            "tags": []
          },
          "execution_count": 27
        }
      ]
    },
    {
      "cell_type": "markdown",
      "metadata": {
        "id": "KaxL3byaM-RA"
      },
      "source": [
        "#### 2. Look at Words that Indicate Footnotes"
      ]
    },
    {
      "cell_type": "code",
      "metadata": {
        "colab": {
          "base_uri": "https://localhost:8080/"
        },
        "id": "SRM_W5p3wbkE",
        "outputId": "0b87abe2-e858-47a1-8fdb-71fcc22dc840"
      },
      "source": [
        "fn_words = ['ch\\.', 'bk', 'sect\\.', 'div\\.', 'cf', 'ibid', 'prop\\.', 'Q\\.E\\.D\\.',\r\n",
        "            'pt\\.', 'coroll\\.', 'cf\\.']\r\n",
        "\r\n",
        "df['sentence_lowered'] = df['sentence_str'].map(lambda x: x.lower())\r\n",
        "\r\n",
        "fn_df = pd.DataFrame()\r\n",
        "for word in fn_words:\r\n",
        "  found_word = df[df['sentence_lowered'].str.contains('\\s' + word.lower())].copy()\r\n",
        "  found_word['word'] = word\r\n",
        "  fn_df = fn_df.append(found_word)\r\n",
        "\r\n",
        "len(fn_df)"
      ],
      "execution_count": 28,
      "outputs": [
        {
          "output_type": "execute_result",
          "data": {
            "text/plain": [
              "705"
            ]
          },
          "metadata": {
            "tags": []
          },
          "execution_count": 28
        }
      ]
    },
    {
      "cell_type": "code",
      "metadata": {
        "colab": {
          "base_uri": "https://localhost:8080/",
          "height": 614
        },
        "id": "PyjxVFLmwirp",
        "outputId": "1cba124d-b270-47cb-c0f3-a1661ad056c7"
      },
      "source": [
        "fn_df.sample(5)"
      ],
      "execution_count": 29,
      "outputs": [
        {
          "output_type": "execute_result",
          "data": {
            "text/html": [
              "<div>\n",
              "<style scoped>\n",
              "    .dataframe tbody tr th:only-of-type {\n",
              "        vertical-align: middle;\n",
              "    }\n",
              "\n",
              "    .dataframe tbody tr th {\n",
              "        vertical-align: top;\n",
              "    }\n",
              "\n",
              "    .dataframe thead th {\n",
              "        text-align: right;\n",
              "    }\n",
              "</style>\n",
              "<table border=\"1\" class=\"dataframe\">\n",
              "  <thead>\n",
              "    <tr style=\"text-align: right;\">\n",
              "      <th></th>\n",
              "      <th>title</th>\n",
              "      <th>author</th>\n",
              "      <th>school</th>\n",
              "      <th>sentence_spacy</th>\n",
              "      <th>sentence_str</th>\n",
              "      <th>sentence_length</th>\n",
              "      <th>sentence_lowered</th>\n",
              "      <th>word</th>\n",
              "    </tr>\n",
              "  </thead>\n",
              "  <tbody>\n",
              "    <tr>\n",
              "      <th>123532</th>\n",
              "      <td>Ethics</td>\n",
              "      <td>Spinoza</td>\n",
              "      <td>rationalism</td>\n",
              "      <td>(But, that, which, is, finite, ,, and, has, a, conditioned, existence, ,, can, not, be, produced, by, the, absolute, nature, of, any, attribute, of, God, ;, for, whatsoever, follows, from, the, ab...</td>\n",
              "      <td>But that which is finite, and has a conditioned existence, cannot be produced by the absolute nature of any attribute of God; for whatsoever follows from the absolute nature of any attribute of Go...</td>\n",
              "      <td>236</td>\n",
              "      <td>but that which is finite, and has a conditioned existence, cannot be produced by the absolute nature of any attribute of god; for whatsoever follows from the absolute nature of any attribute of go...</td>\n",
              "      <td>prop\\.</td>\n",
              "    </tr>\n",
              "    <tr>\n",
              "      <th>308607</th>\n",
              "      <td>Science Of Logic</td>\n",
              "      <td>Hegel</td>\n",
              "      <td>german_idealism</td>\n",
              "      <td>(But, as, the, unifying, means, ,, the, middle, Cf, .)</td>\n",
              "      <td>But as the unifying means, the middle Cf.</td>\n",
              "      <td>41</td>\n",
              "      <td>but as the unifying means, the middle cf.</td>\n",
              "      <td>cf</td>\n",
              "    </tr>\n",
              "    <tr>\n",
              "      <th>279195</th>\n",
              "      <td>Critique Of Practical Reason</td>\n",
              "      <td>Kant</td>\n",
              "      <td>german_idealism</td>\n",
              "      <td>(See, the, Critique, of, Pure, Reason, ,, A, /B., Cf, .)</td>\n",
              "      <td>See the Critique of Pure Reason, A /B. Cf.</td>\n",
              "      <td>42</td>\n",
              "      <td>see the critique of pure reason, a /b. cf.</td>\n",
              "      <td>cf\\.</td>\n",
              "    </tr>\n",
              "    <tr>\n",
              "      <th>306423</th>\n",
              "      <td>Science Of Logic</td>\n",
              "      <td>Hegel</td>\n",
              "      <td>german_idealism</td>\n",
              "      <td>(The, allusion, is, to, A, /B., Cf, .)</td>\n",
              "      <td>The allusion is to A /B. Cf.</td>\n",
              "      <td>28</td>\n",
              "      <td>the allusion is to a /b. cf.</td>\n",
              "      <td>cf\\.</td>\n",
              "    </tr>\n",
              "    <tr>\n",
              "      <th>300842</th>\n",
              "      <td>Science Of Logic</td>\n",
              "      <td>Hegel</td>\n",
              "      <td>german_idealism</td>\n",
              "      <td>(The, most, famous, of, his, proofs, rest, on, opposing, infinite, divisibility, (, imagined, as, if, it, were, actually, carried, out, and, hence, as, equivalent, Cf, .)</td>\n",
              "      <td>The most famous of his proofs rest on opposing infinite divisibility (imagined as if it were actually carried out and hence as equivalent Cf.</td>\n",
              "      <td>141</td>\n",
              "      <td>the most famous of his proofs rest on opposing infinite divisibility (imagined as if it were actually carried out and hence as equivalent cf.</td>\n",
              "      <td>cf\\.</td>\n",
              "    </tr>\n",
              "  </tbody>\n",
              "</table>\n",
              "</div>"
            ],
            "text/plain": [
              "                               title  ...    word\n",
              "123532                        Ethics  ...  prop\\.\n",
              "308607              Science Of Logic  ...      cf\n",
              "279195  Critique Of Practical Reason  ...    cf\\.\n",
              "306423              Science Of Logic  ...    cf\\.\n",
              "300842              Science Of Logic  ...    cf\\.\n",
              "\n",
              "[5 rows x 8 columns]"
            ]
          },
          "metadata": {
            "tags": []
          },
          "execution_count": 29
        }
      ]
    },
    {
      "cell_type": "markdown",
      "metadata": {
        "id": "MqiX6cbVNDPw"
      },
      "source": [
        "Unfortunately, there was too much noise and too many differences in how the sentences were tokenized, so this kind of cleaning did not prove useful. As can be seen above, many of the relevant terms were used in meaningful sentences attributable to the correct authors. \r\n",
        "\r\n",
        "We were able to tell that 'bk.' was almost never used productively, so we cut that. For others, this was instructive in helping us clean the text and making revisions to the baseline cleaning function."
      ]
    },
    {
      "cell_type": "code",
      "metadata": {
        "colab": {
          "base_uri": "https://localhost:8080/"
        },
        "id": "y2NY8j7Ewj1Q",
        "outputId": "6a6c32ec-713f-4f42-e678-b3be995ce932"
      },
      "source": [
        "df = df.drop(df[df['sentence_lowered'].str.contains('\\s+bk'.lower())].index)\r\n",
        "\r\n",
        "len(df)"
      ],
      "execution_count": 30,
      "outputs": [
        {
          "output_type": "execute_result",
          "data": {
            "text/plain": [
              "349766"
            ]
          },
          "metadata": {
            "tags": []
          },
          "execution_count": 30
        }
      ]
    },
    {
      "cell_type": "markdown",
      "metadata": {
        "id": "MEqfL_K_NE7C"
      },
      "source": [
        "#### 3. Look at cases of Self-Mention by Authors"
      ]
    },
    {
      "cell_type": "code",
      "metadata": {
        "colab": {
          "base_uri": "https://localhost:8080/"
        },
        "id": "S7fhKsiFwj8K",
        "outputId": "91c23724-d747-4e1c-ec3d-b1cdcef75416"
      },
      "source": [
        "self_mention_df = pd.DataFrame()\r\n",
        "for author in df['author'].unique():\r\n",
        "  self_mention_slice = df[(df['author'] == author) & \r\n",
        "                          (df['sentence_lowered'].str.contains('\\s'+author.lower()))].copy()\r\n",
        "  self_mention_df = self_mention_df.append(self_mention_slice)\r\n",
        "\r\n",
        "len(self_mention_df)"
      ],
      "execution_count": 31,
      "outputs": [
        {
          "output_type": "execute_result",
          "data": {
            "text/plain": [
              "885"
            ]
          },
          "metadata": {
            "tags": []
          },
          "execution_count": 31
        }
      ]
    },
    {
      "cell_type": "code",
      "metadata": {
        "colab": {
          "base_uri": "https://localhost:8080/",
          "height": 765
        },
        "id": "0GFzGEz_wkFt",
        "outputId": "3ccd2afc-da93-4e2b-e6da-8452b4ab0ea1"
      },
      "source": [
        "self_mention_df.sample(5)"
      ],
      "execution_count": 32,
      "outputs": [
        {
          "output_type": "execute_result",
          "data": {
            "text/html": [
              "<div>\n",
              "<style scoped>\n",
              "    .dataframe tbody tr th:only-of-type {\n",
              "        vertical-align: middle;\n",
              "    }\n",
              "\n",
              "    .dataframe tbody tr th {\n",
              "        vertical-align: top;\n",
              "    }\n",
              "\n",
              "    .dataframe thead th {\n",
              "        text-align: right;\n",
              "    }\n",
              "</style>\n",
              "<table border=\"1\" class=\"dataframe\">\n",
              "  <thead>\n",
              "    <tr style=\"text-align: right;\">\n",
              "      <th></th>\n",
              "      <th>title</th>\n",
              "      <th>author</th>\n",
              "      <th>school</th>\n",
              "      <th>sentence_spacy</th>\n",
              "      <th>sentence_str</th>\n",
              "      <th>sentence_length</th>\n",
              "      <th>sentence_lowered</th>\n",
              "    </tr>\n",
              "  </thead>\n",
              "  <tbody>\n",
              "    <tr>\n",
              "      <th>326025</th>\n",
              "      <td>Capital</td>\n",
              "      <td>Marx</td>\n",
              "      <td>communism</td>\n",
              "      <td>(On, the, subject, of, the, great, epochs, in, the, history, of, the, changes, in, the, relative, value, of, gold, and, silver, ,, see, Karl, Marx, ,, .)</td>\n",
              "      <td>On the subject of the great epochs in the history of the changes in the relative value of gold and silver, see Karl Marx,.</td>\n",
              "      <td>122</td>\n",
              "      <td>on the subject of the great epochs in the history of the changes in the relative value of gold and silver, see karl marx,.</td>\n",
              "    </tr>\n",
              "    <tr>\n",
              "      <th>47396</th>\n",
              "      <td>Plato - Complete Works</td>\n",
              "      <td>Plato</td>\n",
              "      <td>plato</td>\n",
              "      <td>(The, topic, and, the, setting, of, this, lyrical, little, dialogue, appear, to, be, derived, from, a, passage, in, Plato, 's, Phaedrus, where, Socrates, also, interprets, a, legend, about, the, t...</td>\n",
              "      <td>The topic and the setting of this lyrical little dialogue appear to be derived from a passage in Plato's Phaedrus where Socrates also interprets a legend about the transformation of human beings i...</td>\n",
              "      <td>211</td>\n",
              "      <td>the topic and the setting of this lyrical little dialogue appear to be derived from a passage in plato's phaedrus where socrates also interprets a legend about the transformation of human beings i...</td>\n",
              "    </tr>\n",
              "    <tr>\n",
              "      <th>373861</th>\n",
              "      <td>Twilight Of The Idols</td>\n",
              "      <td>Nietzsche</td>\n",
              "      <td>nietzsche</td>\n",
              "      <td>(It, will, be, seen, from, this, that, in, spite, of, Nietzsche, 's, ruthless, criticism, of, the, priests, ,, he, draws, a, sharp, distinction, between, Christianity, and, the, Church, .)</td>\n",
              "      <td>It will be seen from this that in spite of Nietzsche's ruthless criticism of the priests, he draws a sharp distinction between Christianity and the Church.</td>\n",
              "      <td>155</td>\n",
              "      <td>it will be seen from this that in spite of nietzsche's ruthless criticism of the priests, he draws a sharp distinction between christianity and the church.</td>\n",
              "    </tr>\n",
              "    <tr>\n",
              "      <th>330756</th>\n",
              "      <td>Capital</td>\n",
              "      <td>Marx</td>\n",
              "      <td>communism</td>\n",
              "      <td>((, Karl, Marx, ,, Mis, re, ,, andc, .)</td>\n",
              "      <td>(Karl Marx, Mis re, andc.</td>\n",
              "      <td>25</td>\n",
              "      <td>(karl marx, mis re, andc.</td>\n",
              "    </tr>\n",
              "    <tr>\n",
              "      <th>17977</th>\n",
              "      <td>Plato - Complete Works</td>\n",
              "      <td>Plato</td>\n",
              "      <td>plato</td>\n",
              "      <td>(In, preparing, this, translation, we, have, consulted, ,, in, addition, to, Burnet, 's, edition, ,, that, of, Antonio, Carlini, ,, Platone, :, Alcibiade, ,, Alcibiade, Secondo, ,, Ipparco, ,, Riv...</td>\n",
              "      <td>In preparing this translation we have consulted, in addition to Burnet's edition, that of Antonio Carlini, Platone: Alcibiade, Alcibiade Secondo, Ipparco, Rivali (Turin, .</td>\n",
              "      <td>171</td>\n",
              "      <td>in preparing this translation we have consulted, in addition to burnet's edition, that of antonio carlini, platone: alcibiade, alcibiade secondo, ipparco, rivali (turin, .</td>\n",
              "    </tr>\n",
              "  </tbody>\n",
              "</table>\n",
              "</div>"
            ],
            "text/plain": [
              "                         title  ...                                                                                                                                                                                         sentence_lowered\n",
              "326025                 Capital  ...                                                                               on the subject of the great epochs in the history of the changes in the relative value of gold and silver, see karl marx,.\n",
              "47396   Plato - Complete Works  ...  the topic and the setting of this lyrical little dialogue appear to be derived from a passage in plato's phaedrus where socrates also interprets a legend about the transformation of human beings i...\n",
              "373861   Twilight Of The Idols  ...                                              it will be seen from this that in spite of nietzsche's ruthless criticism of the priests, he draws a sharp distinction between christianity and the church.\n",
              "330756                 Capital  ...                                                                                                                                                                                (karl marx, mis re, andc.\n",
              "17977   Plato - Complete Works  ...                              in preparing this translation we have consulted, in addition to burnet's edition, that of antonio carlini, platone: alcibiade, alcibiade secondo, ipparco, rivali (turin, .\n",
              "\n",
              "[5 rows x 7 columns]"
            ]
          },
          "metadata": {
            "tags": []
          },
          "execution_count": 32
        }
      ]
    },
    {
      "cell_type": "code",
      "metadata": {
        "colab": {
          "base_uri": "https://localhost:8080/"
        },
        "id": "9vxUnQkTwkNo",
        "outputId": "e8bf719b-97e2-4174-f6c0-fef97c8eaa32"
      },
      "source": [
        "for author in df['author'].unique():\r\n",
        "  df = df.drop(df[(df['author'] == author) & \r\n",
        "                  (df['sentence_lowered'].str.contains('\\s'+author.lower()))].index)\r\n",
        "\r\n",
        "len(df)"
      ],
      "execution_count": 33,
      "outputs": [
        {
          "output_type": "execute_result",
          "data": {
            "text/plain": [
              "348881"
            ]
          },
          "metadata": {
            "tags": []
          },
          "execution_count": 33
        }
      ]
    },
    {
      "cell_type": "markdown",
      "metadata": {
        "id": "uMxaZemLNKeH"
      },
      "source": [
        "#### 4. Deal with Duplicates"
      ]
    },
    {
      "cell_type": "code",
      "metadata": {
        "colab": {
          "base_uri": "https://localhost:8080/"
        },
        "id": "QzOcjqfYwkU4",
        "outputId": "a0416e73-256c-4434-84f7-3498c667fe3c"
      },
      "source": [
        "# find the total number of duplicates\r\n",
        "len(df['sentence_str'])-len(df['sentence_str'].drop_duplicates())"
      ],
      "execution_count": 34,
      "outputs": [
        {
          "output_type": "execute_result",
          "data": {
            "text/plain": [
              "4866"
            ]
          },
          "metadata": {
            "tags": []
          },
          "execution_count": 34
        }
      ]
    },
    {
      "cell_type": "code",
      "metadata": {
        "colab": {
          "base_uri": "https://localhost:8080/"
        },
        "id": "AtY8ZrQawvZC",
        "outputId": "b776d9f8-4e83-460f-c430-1c0815012c1d"
      },
      "source": [
        "# get the number of duplicates in each school\r\n",
        "for school in df['school'].unique():\r\n",
        "  print(school)\r\n",
        "  print(len(df.loc[df['school'] == school]['sentence_str']) - \r\n",
        "        len(df.loc[df['school'] == school]['sentence_str'].drop_duplicates()))"
      ],
      "execution_count": 35,
      "outputs": [
        {
          "output_type": "stream",
          "text": [
            "plato\n",
            "291\n",
            "aristotle\n",
            "3351\n",
            "empiricism\n",
            "14\n",
            "rationalism\n",
            "39\n",
            "analytic\n",
            "295\n",
            "continental\n",
            "97\n",
            "phenomenology\n",
            "87\n",
            "german_idealism\n",
            "287\n",
            "communism\n",
            "84\n",
            "capitalism\n",
            "92\n",
            "stoicism\n",
            "0\n",
            "nietzsche\n",
            "166\n"
          ],
          "name": "stdout"
        }
      ]
    },
    {
      "cell_type": "code",
      "metadata": {
        "colab": {
          "base_uri": "https://localhost:8080/",
          "height": 514
        },
        "id": "juwoWPstwvgf",
        "outputId": "de1c426e-c646-437b-cd3c-9e3ca837a1e1"
      },
      "source": [
        "doubles_df = pd.concat(g for _, g in df.groupby(\"sentence_str\") if len(g) > 1)\r\n",
        "doubles_df.sample(5)"
      ],
      "execution_count": 36,
      "outputs": [
        {
          "output_type": "execute_result",
          "data": {
            "text/html": [
              "<div>\n",
              "<style scoped>\n",
              "    .dataframe tbody tr th:only-of-type {\n",
              "        vertical-align: middle;\n",
              "    }\n",
              "\n",
              "    .dataframe tbody tr th {\n",
              "        vertical-align: top;\n",
              "    }\n",
              "\n",
              "    .dataframe thead th {\n",
              "        text-align: right;\n",
              "    }\n",
              "</style>\n",
              "<table border=\"1\" class=\"dataframe\">\n",
              "  <thead>\n",
              "    <tr style=\"text-align: right;\">\n",
              "      <th></th>\n",
              "      <th>title</th>\n",
              "      <th>author</th>\n",
              "      <th>school</th>\n",
              "      <th>sentence_spacy</th>\n",
              "      <th>sentence_str</th>\n",
              "      <th>sentence_length</th>\n",
              "      <th>sentence_lowered</th>\n",
              "    </tr>\n",
              "  </thead>\n",
              "  <tbody>\n",
              "    <tr>\n",
              "      <th>369782</th>\n",
              "      <td>Ecce Homo</td>\n",
              "      <td>Nietzsche</td>\n",
              "      <td>nietzsche</td>\n",
              "      <td>(Summer, have, I, become, entirely, ,, and, summer, noontide, !)</td>\n",
              "      <td>Summer have I become entirely, and summer noontide!</td>\n",
              "      <td>51</td>\n",
              "      <td>summer have i become entirely, and summer noontide!</td>\n",
              "    </tr>\n",
              "    <tr>\n",
              "      <th>336946</th>\n",
              "      <td>Capital</td>\n",
              "      <td>Marx</td>\n",
              "      <td>communism</td>\n",
              "      <td>((, b, ), Number, of, Members, in, Family, .)</td>\n",
              "      <td>(b) Number of Members in Family.</td>\n",
              "      <td>32</td>\n",
              "      <td>(b) number of members in family.</td>\n",
              "    </tr>\n",
              "    <tr>\n",
              "      <th>78778</th>\n",
              "      <td>Aristotle - Complete Works</td>\n",
              "      <td>Aristotle</td>\n",
              "      <td>aristotle</td>\n",
              "      <td>(The, fourth, class, of, alterations, accounts, for, the, majority, of, changes, made, by, the, reviser, .)</td>\n",
              "      <td>The fourth class of alterations accounts for the majority of changes made by the reviser.</td>\n",
              "      <td>89</td>\n",
              "      <td>the fourth class of alterations accounts for the majority of changes made by the reviser.</td>\n",
              "    </tr>\n",
              "    <tr>\n",
              "      <th>52535</th>\n",
              "      <td>Aristotle - Complete Works</td>\n",
              "      <td>Aristotle</td>\n",
              "      <td>aristotle</td>\n",
              "      <td>(Some, effort, has, ,, however, ,, been, made, to, remove, certain, of, the, more, capricious, variations, of, translation, (, especially, in, the, more, philosophical, of, 's, treatises, ), .)</td>\n",
              "      <td>Some effort has, however, been made to remove certain of the more capricious variations of translation (especially in the more philosophical of 's treatises).</td>\n",
              "      <td>158</td>\n",
              "      <td>some effort has, however, been made to remove certain of the more capricious variations of translation (especially in the more philosophical of 's treatises).</td>\n",
              "    </tr>\n",
              "    <tr>\n",
              "      <th>330775</th>\n",
              "      <td>Capital</td>\n",
              "      <td>Marx</td>\n",
              "      <td>communism</td>\n",
              "      <td>((, Storch, :, Cours, d'Econ, .)</td>\n",
              "      <td>(Storch: Cours d'Econ.</td>\n",
              "      <td>22</td>\n",
              "      <td>(storch: cours d'econ.</td>\n",
              "    </tr>\n",
              "  </tbody>\n",
              "</table>\n",
              "</div>"
            ],
            "text/plain": [
              "                             title  ...                                                                                                                                                sentence_lowered\n",
              "369782                   Ecce Homo  ...                                                                                                             summer have i become entirely, and summer noontide!\n",
              "336946                     Capital  ...                                                                                                                                (b) number of members in family.\n",
              "78778   Aristotle - Complete Works  ...                                                                       the fourth class of alterations accounts for the majority of changes made by the reviser.\n",
              "52535   Aristotle - Complete Works  ...  some effort has, however, been made to remove certain of the more capricious variations of translation (especially in the more philosophical of 's treatises).\n",
              "330775                     Capital  ...                                                                                                                                          (storch: cours d'econ.\n",
              "\n",
              "[5 rows x 7 columns]"
            ]
          },
          "metadata": {
            "tags": []
          },
          "execution_count": 36
        }
      ]
    },
    {
      "cell_type": "markdown",
      "metadata": {
        "id": "83xx0eHWNOX3"
      },
      "source": [
        "From this it is clear that many of these duplicates are notes, meaninglessly short, or else headings that somehow escaped earlier efforts. Oddly, an enormous number of Aristotle's sentences seem to be doubled. Looking at the doubled sentences, this appears to be because similar notes were made in both of the two volumes of the text. \r\n",
        "\r\n",
        "Let's eliminate the aristotle doubles first, then take another look to see what the others are like. "
      ]
    },
    {
      "cell_type": "code",
      "metadata": {
        "colab": {
          "base_uri": "https://localhost:8080/"
        },
        "id": "71OS1WlbwvqV",
        "outputId": "8fad78da-7dcb-4178-9cef-1e00d428714c"
      },
      "source": [
        "len(doubles_df[doubles_df['author'] != 'Aristotle'])"
      ],
      "execution_count": 37,
      "outputs": [
        {
          "output_type": "execute_result",
          "data": {
            "text/plain": [
              "2442"
            ]
          },
          "metadata": {
            "tags": []
          },
          "execution_count": 37
        }
      ]
    },
    {
      "cell_type": "code",
      "metadata": {
        "colab": {
          "base_uri": "https://localhost:8080/",
          "height": 681
        },
        "id": "kotnwwvFwvy1",
        "outputId": "e56a4bb1-d70e-4aa0-957d-ed24c55e7c85"
      },
      "source": [
        "doubles_df[doubles_df['author'] != 'Aristole'].sample(5)"
      ],
      "execution_count": 38,
      "outputs": [
        {
          "output_type": "execute_result",
          "data": {
            "text/html": [
              "<div>\n",
              "<style scoped>\n",
              "    .dataframe tbody tr th:only-of-type {\n",
              "        vertical-align: middle;\n",
              "    }\n",
              "\n",
              "    .dataframe tbody tr th {\n",
              "        vertical-align: top;\n",
              "    }\n",
              "\n",
              "    .dataframe thead th {\n",
              "        text-align: right;\n",
              "    }\n",
              "</style>\n",
              "<table border=\"1\" class=\"dataframe\">\n",
              "  <thead>\n",
              "    <tr style=\"text-align: right;\">\n",
              "      <th></th>\n",
              "      <th>title</th>\n",
              "      <th>author</th>\n",
              "      <th>school</th>\n",
              "      <th>sentence_spacy</th>\n",
              "      <th>sentence_str</th>\n",
              "      <th>sentence_length</th>\n",
              "      <th>sentence_lowered</th>\n",
              "    </tr>\n",
              "  </thead>\n",
              "  <tbody>\n",
              "    <tr>\n",
              "      <th>66222</th>\n",
              "      <td>Aristotle - Complete Works</td>\n",
              "      <td>Aristotle</td>\n",
              "      <td>aristotle</td>\n",
              "      <td>(Ackrill, and, Oxford, University, Press, Oxford, University, Press, ,, ))</td>\n",
              "      <td>Ackrill and Oxford University Press Oxford University Press, )</td>\n",
              "      <td>62</td>\n",
              "      <td>ackrill and oxford university press oxford university press, )</td>\n",
              "    </tr>\n",
              "    <tr>\n",
              "      <th>88598</th>\n",
              "      <td>Aristotle - Complete Works</td>\n",
              "      <td>Aristotle</td>\n",
              "      <td>aristotle</td>\n",
              "      <td>(References, are, by, editor, 's, name, ,, series, or, publisher, stands, for, Oxford, Classical, Texts, ), ,, and, place, and, date, of, publication, .)</td>\n",
              "      <td>References are by editor's name, series or publisher stands for Oxford Classical Texts), and place and date of publication.</td>\n",
              "      <td>123</td>\n",
              "      <td>references are by editor's name, series or publisher stands for oxford classical texts), and place and date of publication.</td>\n",
              "    </tr>\n",
              "    <tr>\n",
              "      <th>74593</th>\n",
              "      <td>Aristotle - Complete Works</td>\n",
              "      <td>Aristotle</td>\n",
              "      <td>aristotle</td>\n",
              "      <td>(This, series, is, an, attempt, to, collect, the, most, important, texts, in, the, history, of, philosophy, ,, both, in, original, language, and, English, translation, (, if, the, original, langua...</td>\n",
              "      <td>This series is an attempt to collect the most important texts in the history of philosophy, both in original language and English translation (if the original language is other English).</td>\n",
              "      <td>186</td>\n",
              "      <td>this series is an attempt to collect the most important texts in the history of philosophy, both in original language and english translation (if the original language is other english).</td>\n",
              "    </tr>\n",
              "    <tr>\n",
              "      <th>375945</th>\n",
              "      <td>Thus Spake Zarathustra</td>\n",
              "      <td>Nietzsche</td>\n",
              "      <td>nietzsche</td>\n",
              "      <td>(:, there, is, the, origin, of, your, virtue, .)</td>\n",
              "      <td>: there is the origin of your virtue.</td>\n",
              "      <td>37</td>\n",
              "      <td>: there is the origin of your virtue.</td>\n",
              "    </tr>\n",
              "    <tr>\n",
              "      <th>78788</th>\n",
              "      <td>Aristotle - Complete Works</td>\n",
              "      <td>Aristotle</td>\n",
              "      <td>aristotle</td>\n",
              "      <td>(For, the, most, part, ,, the, Translation, is, flowing, and, expansive, ,, set, out, in, well, rounded, periods, and, expressed, in, a, language, which, is, usually, literary, and, sometimes, oro...</td>\n",
              "      <td>For the most part, the Translation is flowing and expansive, set out in well rounded periods and expressed in a language which is usually literary and sometimes orotund.</td>\n",
              "      <td>169</td>\n",
              "      <td>for the most part, the translation is flowing and expansive, set out in well rounded periods and expressed in a language which is usually literary and sometimes orotund.</td>\n",
              "    </tr>\n",
              "  </tbody>\n",
              "</table>\n",
              "</div>"
            ],
            "text/plain": [
              "                             title  ...                                                                                                                                                                            sentence_lowered\n",
              "66222   Aristotle - Complete Works  ...                                                                                                                              ackrill and oxford university press oxford university press, )\n",
              "88598   Aristotle - Complete Works  ...                                                                 references are by editor's name, series or publisher stands for oxford classical texts), and place and date of publication.\n",
              "74593   Aristotle - Complete Works  ...  this series is an attempt to collect the most important texts in the history of philosophy, both in original language and english translation (if the original language is other english).\n",
              "375945      Thus Spake Zarathustra  ...                                                                                                                                                       : there is the origin of your virtue.\n",
              "78788   Aristotle - Complete Works  ...                   for the most part, the translation is flowing and expansive, set out in well rounded periods and expressed in a language which is usually literary and sometimes orotund.\n",
              "\n",
              "[5 rows x 7 columns]"
            ]
          },
          "metadata": {
            "tags": []
          },
          "execution_count": 38
        }
      ]
    },
    {
      "cell_type": "markdown",
      "metadata": {
        "id": "rSzTX0yNNV-K"
      },
      "source": [
        "Deeper exploration of the duplicates reveals that Kant has a lot of doubles that seem to be authentically from his texts. Plato also has several duplicate sentences, but these are almost all short phrases from the dialogues ('of course, yes' and that kind of thing). \r\n",
        "\r\n",
        "To preserve the Kant, while also removing the irrelevant duplicates, we will remove both copies of all duplicates from texts other than the Kant's *Critique of Pure Reason*. For that text, we will remove the short duplicates and keep one copy of the longer ones, thus preserving the meaningful sentences. "
      ]
    },
    {
      "cell_type": "code",
      "metadata": {
        "colab": {
          "base_uri": "https://localhost:8080/"
        },
        "id": "qe5D6a2qwv7f",
        "outputId": "c8d9611e-92a3-477b-eeac-1e15fb2205b3"
      },
      "source": [
        "non_kant_indexes = df[(df['title'] != 'critique of pure reason') & \r\n",
        "                       (df['sentence_str'].duplicated(keep=False))].index\r\n",
        "kant_short_indexes = df[(df['title'] == 'critique of pure reason') &\r\n",
        "                        (df['sentence_str'].duplicated(keep=False)) &\r\n",
        "                        (df['sentence_length'] < 40)].index\r\n",
        "kant_long_indexes = df[(df['title'] == 'critique of pure reason') &\r\n",
        "                        (df['sentence_str'].duplicated(keep='first')) &\r\n",
        "                        (df['sentence_length'] >= 40)].index\r\n",
        "\r\n",
        "indexes_to_drop = [non_kant_indexes, kant_short_indexes, kant_long_indexes]\r\n",
        "for index in indexes_to_drop:\r\n",
        "  df = df.drop(index)\r\n",
        "\r\n",
        "len(df)"
      ],
      "execution_count": 39,
      "outputs": [
        {
          "output_type": "execute_result",
          "data": {
            "text/plain": [
              "342885"
            ]
          },
          "metadata": {
            "tags": []
          },
          "execution_count": 39
        }
      ]
    },
    {
      "cell_type": "code",
      "metadata": {
        "colab": {
          "base_uri": "https://localhost:8080/",
          "height": 598
        },
        "id": "GnNdnY0MwwFM",
        "outputId": "6e641a00-d1e0-43ce-ec3e-ff2c9a6a59e8"
      },
      "source": [
        "(df[df['sentence_str'].str.contains('\\sder\\s')]).sample(5)"
      ],
      "execution_count": 40,
      "outputs": [
        {
          "output_type": "execute_result",
          "data": {
            "text/html": [
              "<div>\n",
              "<style scoped>\n",
              "    .dataframe tbody tr th:only-of-type {\n",
              "        vertical-align: middle;\n",
              "    }\n",
              "\n",
              "    .dataframe tbody tr th {\n",
              "        vertical-align: top;\n",
              "    }\n",
              "\n",
              "    .dataframe thead th {\n",
              "        text-align: right;\n",
              "    }\n",
              "</style>\n",
              "<table border=\"1\" class=\"dataframe\">\n",
              "  <thead>\n",
              "    <tr style=\"text-align: right;\">\n",
              "      <th></th>\n",
              "      <th>title</th>\n",
              "      <th>author</th>\n",
              "      <th>school</th>\n",
              "      <th>sentence_spacy</th>\n",
              "      <th>sentence_str</th>\n",
              "      <th>sentence_length</th>\n",
              "      <th>sentence_lowered</th>\n",
              "    </tr>\n",
              "  </thead>\n",
              "  <tbody>\n",
              "    <tr>\n",
              "      <th>189112</th>\n",
              "      <td>The Logic Of Scientific Discovery</td>\n",
              "      <td>Popper</td>\n",
              "      <td>analytic</td>\n",
              "      <td>(Kritik, der, reinen, Vernuft, ,, Methodenlehre, ,, .)</td>\n",
              "      <td>Kritik der reinen Vernuft, Methodenlehre,.</td>\n",
              "      <td>42</td>\n",
              "      <td>kritik der reinen vernuft, methodenlehre,.</td>\n",
              "    </tr>\n",
              "    <tr>\n",
              "      <th>180556</th>\n",
              "      <td>Quintessence</td>\n",
              "      <td>Quine</td>\n",
              "      <td>analytic</td>\n",
              "      <td>(that, from, statements, which, are, true, un, der, ordinary, usage, leads, only, to, statements, which, are, likewise, true, under, ordinary, usage, ,, is, seen, from, the, fact, that, under, ord...</td>\n",
              "      <td>that from statements which are true un der ordinary usage leads only to statements which are likewise true under ordinary usage, is seen from the fact that under ordinary usage a statement is alwa...</td>\n",
              "      <td>240</td>\n",
              "      <td>that from statements which are true un der ordinary usage leads only to statements which are likewise true under ordinary usage, is seen from the fact that under ordinary usage a statement is alwa...</td>\n",
              "    </tr>\n",
              "    <tr>\n",
              "      <th>333005</th>\n",
              "      <td>Capital</td>\n",
              "      <td>Marx</td>\n",
              "      <td>communism</td>\n",
              "      <td>(uns, der, Gaben, Arbeitsios, uns, freun, ,, welche, die, ttin, uns, schenkt, .)</td>\n",
              "      <td>uns der Gaben Arbeitsios uns freun, welche die ttin uns schenkt.</td>\n",
              "      <td>64</td>\n",
              "      <td>uns der gaben arbeitsios uns freun, welche die ttin uns schenkt.</td>\n",
              "    </tr>\n",
              "    <tr>\n",
              "      <th>284599</th>\n",
              "      <td>Critique Of Pure Reason</td>\n",
              "      <td>Kant</td>\n",
              "      <td>german_idealism</td>\n",
              "      <td>(zur, Kritik, der, rein, en, Vernunft, dienen, kanne, .)</td>\n",
              "      <td>zur Kritik der rein en Vernunft dienen kanne.</td>\n",
              "      <td>45</td>\n",
              "      <td>zur kritik der rein en vernunft dienen kanne.</td>\n",
              "    </tr>\n",
              "    <tr>\n",
              "      <th>339408</th>\n",
              "      <td>The Communist Manifesto</td>\n",
              "      <td>Marx</td>\n",
              "      <td>communism</td>\n",
              "      <td>(I, have, attempted, to, retrace, this, process, of, dissolution, in, Der, Ursprung, der, Familie, des, Privateigentbums, und, des, Staats)</td>\n",
              "      <td>I have attempted to retrace this process of dissolution in Der Ursprung der Familie des Privateigentbums und des Staats</td>\n",
              "      <td>119</td>\n",
              "      <td>i have attempted to retrace this process of dissolution in der ursprung der familie des privateigentbums und des staats</td>\n",
              "    </tr>\n",
              "  </tbody>\n",
              "</table>\n",
              "</div>"
            ],
            "text/plain": [
              "                                    title  ...                                                                                                                                                                                         sentence_lowered\n",
              "189112  The Logic Of Scientific Discovery  ...                                                                                                                                                               kritik der reinen vernuft, methodenlehre,.\n",
              "180556                       Quintessence  ...  that from statements which are true un der ordinary usage leads only to statements which are likewise true under ordinary usage, is seen from the fact that under ordinary usage a statement is alwa...\n",
              "333005                            Capital  ...                                                                                                                                         uns der gaben arbeitsios uns freun, welche die ttin uns schenkt.\n",
              "284599            Critique Of Pure Reason  ...                                                                                                                                                            zur kritik der rein en vernunft dienen kanne.\n",
              "339408            The Communist Manifesto  ...                                                                                  i have attempted to retrace this process of dissolution in der ursprung der familie des privateigentbums und des staats\n",
              "\n",
              "[5 rows x 7 columns]"
            ]
          },
          "metadata": {
            "tags": []
          },
          "execution_count": 40
        }
      ]
    },
    {
      "cell_type": "markdown",
      "metadata": {
        "id": "kcdlnijMNaMA"
      },
      "source": [
        "#### Check for Foreign-Language Sentences"
      ]
    },
    {
      "cell_type": "code",
      "metadata": {
        "colab": {
          "base_uri": "https://localhost:8080/"
        },
        "id": "JXUfIsqkwwOY",
        "outputId": "3223cc95-5c69-4c56-afae-0f9ff5518a73"
      },
      "source": [
        "# checking for 'der', a common article in German\r\n",
        "len((df[df['sentence_str'].str.contains('\\sder\\s')]))"
      ],
      "execution_count": 41,
      "outputs": [
        {
          "output_type": "execute_result",
          "data": {
            "text/plain": [
              "319"
            ]
          },
          "metadata": {
            "tags": []
          },
          "execution_count": 41
        }
      ]
    },
    {
      "cell_type": "code",
      "metadata": {
        "colab": {
          "base_uri": "https://localhost:8080/"
        },
        "id": "Sds3G-P8w-KH",
        "outputId": "e5e79a9c-274e-4362-fdf9-325f1160da4b"
      },
      "source": [
        "df = df.drop(df[df['sentence_str'].str.contains('\\sder\\s')].index)\r\n",
        "\r\n",
        "len(df)"
      ],
      "execution_count": 42,
      "outputs": [
        {
          "output_type": "execute_result",
          "data": {
            "text/plain": [
              "342566"
            ]
          },
          "metadata": {
            "tags": []
          },
          "execution_count": 42
        }
      ]
    },
    {
      "cell_type": "code",
      "metadata": {
        "colab": {
          "base_uri": "https://localhost:8080/",
          "height": 681
        },
        "id": "nsz9L0qCw-UM",
        "outputId": "6647dfdc-7139-46fc-ce9e-7efa0044edcf"
      },
      "source": [
        "# checking for 'il', a common article in French\r\n",
        "df[df['sentence_str'].str.contains('\\sil\\s')].sample(5)"
      ],
      "execution_count": 43,
      "outputs": [
        {
          "output_type": "execute_result",
          "data": {
            "text/html": [
              "<div>\n",
              "<style scoped>\n",
              "    .dataframe tbody tr th:only-of-type {\n",
              "        vertical-align: middle;\n",
              "    }\n",
              "\n",
              "    .dataframe tbody tr th {\n",
              "        vertical-align: top;\n",
              "    }\n",
              "\n",
              "    .dataframe thead th {\n",
              "        text-align: right;\n",
              "    }\n",
              "</style>\n",
              "<table border=\"1\" class=\"dataframe\">\n",
              "  <thead>\n",
              "    <tr style=\"text-align: right;\">\n",
              "      <th></th>\n",
              "      <th>title</th>\n",
              "      <th>author</th>\n",
              "      <th>school</th>\n",
              "      <th>sentence_spacy</th>\n",
              "      <th>sentence_str</th>\n",
              "      <th>sentence_length</th>\n",
              "      <th>sentence_lowered</th>\n",
              "    </tr>\n",
              "  </thead>\n",
              "  <tbody>\n",
              "    <tr>\n",
              "      <th>330161</th>\n",
              "      <td>Capital</td>\n",
              "      <td>Marx</td>\n",
              "      <td>communism</td>\n",
              "      <td>(Des, ma, ons, par, exemple, ,, occup, faire, passer, de, mains, en, mains, des, briques, un, chafaudage, sup, rieur, ,, font, tous, la, me, besogne, ,, et, pourtant, il, existe, parmi, eux, une, ...</td>\n",
              "      <td>Des ma ons par exemple, occup faire passer de mains en mains des briques un chafaudage sup rieur, font tous la me besogne, et pourtant il existe parmi eux une esp ce de division de travail,</td>\n",
              "      <td>189</td>\n",
              "      <td>des ma ons par exemple, occup faire passer de mains en mains des briques un chafaudage sup rieur, font tous la me besogne, et pourtant il existe parmi eux une esp ce de division de travail,</td>\n",
              "    </tr>\n",
              "    <tr>\n",
              "      <th>325757</th>\n",
              "      <td>Capital</td>\n",
              "      <td>Marx</td>\n",
              "      <td>communism</td>\n",
              "      <td>(que, nous, pouvons, sirer, d'acheter, ,, il, repr, sente, aussi, les, choses)</td>\n",
              "      <td>que nous pouvons sirer d'acheter, il repr sente aussi les choses</td>\n",
              "      <td>64</td>\n",
              "      <td>que nous pouvons sirer d'acheter, il repr sente aussi les choses</td>\n",
              "    </tr>\n",
              "    <tr>\n",
              "      <th>325725</th>\n",
              "      <td>Capital</td>\n",
              "      <td>Marx</td>\n",
              "      <td>communism</td>\n",
              "      <td>(Ou, bien, ,, il, faut, consentir, dire, qu'une, valeur, d'un, million, en, argent, vaut, plus, qu'une, valeur, gale, en, merchandises, .)</td>\n",
              "      <td>Ou bien, il faut consentir dire qu'une valeur d'un million en argent vaut plus qu'une valeur gale en merchandises.</td>\n",
              "      <td>114</td>\n",
              "      <td>ou bien, il faut consentir dire qu'une valeur d'un million en argent vaut plus qu'une valeur gale en merchandises.</td>\n",
              "    </tr>\n",
              "    <tr>\n",
              "      <th>262671</th>\n",
              "      <td>Being And Time</td>\n",
              "      <td>Heidegger</td>\n",
              "      <td>phenomenology</td>\n",
              "      <td>(What, is, at, hand, is, discovered, as, such, in, its, serviceability, usab, il, ity, ,, detrimentality, .)</td>\n",
              "      <td>What is at hand is discovered as such in its serviceability usab il ity, detrimentality.</td>\n",
              "      <td>88</td>\n",
              "      <td>what is at hand is discovered as such in its serviceability usab il ity, detrimentality.</td>\n",
              "    </tr>\n",
              "    <tr>\n",
              "      <th>372467</th>\n",
              "      <td>Twilight Of The Idols</td>\n",
              "      <td>Nietzsche</td>\n",
              "      <td>nietzsche</td>\n",
              "      <td>(It, has, been, said, ,, and, not, without, subtlety, :, il, est, indigne, des, grands, cœurs, de, pandre, le, trouble)</td>\n",
              "      <td>It has been said, and not without subtlety: il est indigne des grands cœurs de pandre le trouble</td>\n",
              "      <td>96</td>\n",
              "      <td>it has been said, and not without subtlety: il est indigne des grands cœurs de pandre le trouble</td>\n",
              "    </tr>\n",
              "  </tbody>\n",
              "</table>\n",
              "</div>"
            ],
            "text/plain": [
              "                        title  ...                                                                                                                                                                               sentence_lowered\n",
              "330161                Capital  ...  des ma ons par exemple, occup faire passer de mains en mains des briques un chafaudage sup rieur, font tous la me besogne, et pourtant il existe parmi eux une esp ce de division de travail,\n",
              "325757                Capital  ...                                                                                                                               que nous pouvons sirer d'acheter, il repr sente aussi les choses\n",
              "325725                Capital  ...                                                                             ou bien, il faut consentir dire qu'une valeur d'un million en argent vaut plus qu'une valeur gale en merchandises.\n",
              "262671         Being And Time  ...                                                                                                       what is at hand is discovered as such in its serviceability usab il ity, detrimentality.\n",
              "372467  Twilight Of The Idols  ...                                                                                               it has been said, and not without subtlety: il est indigne des grands cœurs de pandre le trouble\n",
              "\n",
              "[5 rows x 7 columns]"
            ]
          },
          "metadata": {
            "tags": []
          },
          "execution_count": 43
        }
      ]
    },
    {
      "cell_type": "code",
      "metadata": {
        "colab": {
          "base_uri": "https://localhost:8080/"
        },
        "id": "-ER9muOkw-qu",
        "outputId": "11defe4e-b6e5-44c4-b871-88e485566376"
      },
      "source": [
        "df = df.drop(df[df['sentence_str'].str.contains('\\sil\\s')].index)\r\n",
        "\r\n",
        "len(df)"
      ],
      "execution_count": 44,
      "outputs": [
        {
          "output_type": "execute_result",
          "data": {
            "text/plain": [
              "342514"
            ]
          },
          "metadata": {
            "tags": []
          },
          "execution_count": 44
        }
      ]
    },
    {
      "cell_type": "markdown",
      "metadata": {
        "id": "0jsR1QpNNlNJ"
      },
      "source": [
        "#### Some Ad Hoc Cleaning"
      ]
    },
    {
      "cell_type": "code",
      "metadata": {
        "colab": {
          "base_uri": "https://localhost:8080/"
        },
        "id": "b1sF0lzxw-zd",
        "outputId": "bdb36b7d-7fe5-4064-8e59-281ed9546442"
      },
      "source": [
        "# miscellaneous nonsense sentences\r\n",
        "df = df.drop(df[df['sentence_str'].str.contains('\\spp\\s')].index)\r\n",
        "df = df.drop(df[df['sentence_str'].str.contains('\\stotam\\s')].index)\r\n",
        "df = df.drop(df[df['sentence_str'].str.contains('\\srree\\s')].index)\r\n",
        "df = df.drop(df[df['sentence_str'].str.contains('\\sflir\\s')].index)\r\n",
        "df = df.drop(df[(df['sentence_str'].str.contains('\\smodis\\s')) & (df['author'] != 'Kant')].index)\r\n",
        "\r\n",
        "len(df)"
      ],
      "execution_count": 45,
      "outputs": [
        {
          "output_type": "execute_result",
          "data": {
            "text/plain": [
              "342508"
            ]
          },
          "metadata": {
            "tags": []
          },
          "execution_count": 45
        }
      ]
    },
    {
      "cell_type": "code",
      "metadata": {
        "colab": {
          "base_uri": "https://localhost:8080/"
        },
        "id": "OqBnHZG6w-9F",
        "outputId": "fda7357b-bde4-43c9-f20c-65a1a909407a"
      },
      "source": [
        "# markers of french and notes\r\n",
        "df = df.drop(df[df['sentence_str'].str.contains('\\schapitre')].index)\r\n",
        "df = df.drop(df[df['sentence_str'].str.contains('\\salisme')].index)\r\n",
        "df = df.drop(df[df['sentence_str'].str.contains('\\sHahn')].index)\r\n",
        "\r\n",
        "len(df)"
      ],
      "execution_count": 46,
      "outputs": [
        {
          "output_type": "execute_result",
          "data": {
            "text/plain": [
              "342491"
            ]
          },
          "metadata": {
            "tags": []
          },
          "execution_count": 46
        }
      ]
    },
    {
      "cell_type": "code",
      "metadata": {
        "colab": {
          "base_uri": "https://localhost:8080/"
        },
        "id": "Oq5I3pL4w9r7",
        "outputId": "968ad56b-e207-4087-8922-3d3c6060b646"
      },
      "source": [
        "# some notes in Kant\r\n",
        "df = df.drop(df[df['sentence_str'].str.contains('\\sVorl\\s')].index)\r\n",
        "\r\n",
        "len(df)"
      ],
      "execution_count": 47,
      "outputs": [
        {
          "output_type": "execute_result",
          "data": {
            "text/plain": [
              "342473"
            ]
          },
          "metadata": {
            "tags": []
          },
          "execution_count": 47
        }
      ]
    },
    {
      "cell_type": "code",
      "metadata": {
        "colab": {
          "base_uri": "https://localhost:8080/"
        },
        "id": "w3nv5S4exJXK",
        "outputId": "a530a285-2fc9-4e07-c7d9-9fbd116ed8c2"
      },
      "source": [
        "# a common phrase in Plato / Aristotle footnotes\r\n",
        "df = df.drop(df[(df['author']=='Plato') & (df['sentence_str'].str.contains('(?i)reading')) & (df['sentence_length'] < 40)].index)\r\n",
        "df = df.drop(df[(df['author']=='Aristotle') & (df['sentence_str'].str.contains('(?i)reading')) & (df['sentence_length'] < 40)].index)\r\n",
        "\r\n",
        "len(df)"
      ],
      "execution_count": 48,
      "outputs": [
        {
          "output_type": "execute_result",
          "data": {
            "text/plain": [
              "342199"
            ]
          },
          "metadata": {
            "tags": []
          },
          "execution_count": 48
        }
      ]
    },
    {
      "cell_type": "code",
      "metadata": {
        "colab": {
          "base_uri": "https://localhost:8080/"
        },
        "id": "dCx9E2tkdqt4",
        "outputId": "80ec944e-504c-4ea8-8516-83aa387e4419"
      },
      "source": [
        "# mentions of Aristotle in Plato\r\n",
        "df = df.drop(df[(df['author']=='Plato') & df['sentence_str'].str.contains('Aristotle')].index)\r\n",
        "\r\n",
        "len(df)"
      ],
      "execution_count": 49,
      "outputs": [
        {
          "output_type": "execute_result",
          "data": {
            "text/plain": [
              "342173"
            ]
          },
          "metadata": {
            "tags": []
          },
          "execution_count": 49
        }
      ]
    },
    {
      "cell_type": "markdown",
      "metadata": {
        "id": "vtli1TPlNq55"
      },
      "source": [
        "### Lemmatizing, Tokenizing, and Exporting"
      ]
    },
    {
      "cell_type": "code",
      "metadata": {
        "colab": {
          "base_uri": "https://localhost:8080/"
        },
        "id": "ybCPk5oixJgd",
        "outputId": "397cfaef-0610-4f77-8346-b311d5d7774f"
      },
      "source": [
        "df['school'].value_counts(normalize=True)"
      ],
      "execution_count": 50,
      "outputs": [
        {
          "output_type": "execute_result",
          "data": {
            "text/plain": [
              "analytic           0.161979\n",
              "aristotle          0.142557\n",
              "german_idealism    0.123142\n",
              "plato              0.112125\n",
              "continental        0.098719\n",
              "phenomenology      0.083505\n",
              "rationalism        0.067068\n",
              "empiricism         0.058248\n",
              "capitalism         0.053172\n",
              "communism          0.052482\n",
              "nietzsche          0.039594\n",
              "stoicism           0.007409\n",
              "Name: school, dtype: float64"
            ]
          },
          "metadata": {
            "tags": []
          },
          "execution_count": 50
        }
      ]
    },
    {
      "cell_type": "code",
      "metadata": {
        "id": "S1wT-MvpxJot"
      },
      "source": [
        "from gensim.utils import simple_preprocess\r\n",
        "\r\n",
        "# use gensim to tokenize sentences\r\n",
        "df['tokenized_txt'] = df['sentence_str'].map(lambda x: simple_preprocess(x.lower(),deacc=True,\r\n",
        "                                                        max_len=200))\r\n",
        "\r\n",
        "# use spacey to get intelligent lemmatization\r\n",
        "def lemmatize_sentence(sentence):\r\n",
        "  lemmatized_txt = ''\r\n",
        "  for word in sentence:\r\n",
        "    lemmatized_txt += ' ' + str(word.lemma_)\r\n",
        "  return lemmatized_txt"
      ],
      "execution_count": 52,
      "outputs": []
    },
    {
      "cell_type": "code",
      "metadata": {
        "id": "3O3mXZKkxJxM"
      },
      "source": [
        "df['lemmatized_str'] = df['sentence_spacy'].apply(lemmatize_sentence)"
      ],
      "execution_count": 53,
      "outputs": []
    },
    {
      "cell_type": "code",
      "metadata": {
        "colab": {
          "base_uri": "https://localhost:8080/",
          "height": 919
        },
        "id": "mxmcq_BQxJ48",
        "outputId": "303d2ff8-a8c1-4e1e-962a-81ad4f03318b"
      },
      "source": [
        "df.sample(5)"
      ],
      "execution_count": 54,
      "outputs": [
        {
          "output_type": "execute_result",
          "data": {
            "text/html": [
              "<div>\n",
              "<style scoped>\n",
              "    .dataframe tbody tr th:only-of-type {\n",
              "        vertical-align: middle;\n",
              "    }\n",
              "\n",
              "    .dataframe tbody tr th {\n",
              "        vertical-align: top;\n",
              "    }\n",
              "\n",
              "    .dataframe thead th {\n",
              "        text-align: right;\n",
              "    }\n",
              "</style>\n",
              "<table border=\"1\" class=\"dataframe\">\n",
              "  <thead>\n",
              "    <tr style=\"text-align: right;\">\n",
              "      <th></th>\n",
              "      <th>title</th>\n",
              "      <th>author</th>\n",
              "      <th>school</th>\n",
              "      <th>sentence_spacy</th>\n",
              "      <th>sentence_str</th>\n",
              "      <th>sentence_length</th>\n",
              "      <th>sentence_lowered</th>\n",
              "      <th>tokenized_txt</th>\n",
              "      <th>lemmatized_str</th>\n",
              "    </tr>\n",
              "  </thead>\n",
              "  <tbody>\n",
              "    <tr>\n",
              "      <th>191213</th>\n",
              "      <td>The Logic Of Scientific Discovery</td>\n",
              "      <td>Popper</td>\n",
              "      <td>analytic</td>\n",
              "      <td>(note, to, section, ,, rge, ,, Kamke, ,, Reichenbach, and, Tornier, .)</td>\n",
              "      <td>note to section, rge, Kamke, Reichenbach and Tornier.</td>\n",
              "      <td>53</td>\n",
              "      <td>note to section, rge, kamke, reichenbach and tornier.</td>\n",
              "      <td>[note, to, section, rge, kamke, reichenbach, and, tornier]</td>\n",
              "      <td>note to section , rge , Kamke , Reichenbach and Tornier .</td>\n",
              "    </tr>\n",
              "    <tr>\n",
              "      <th>112447</th>\n",
              "      <td>A Treatise Of Human Nature</td>\n",
              "      <td>Hume</td>\n",
              "      <td>empiricism</td>\n",
              "      <td>(If, the, removal, of, a, cause, be, intuitively, absurd, in, the, one, case, ,, it, must, be, so, in, the, other, :)</td>\n",
              "      <td>If the removal of a cause be intuitively absurd in the one case, it must be so in the other:</td>\n",
              "      <td>92</td>\n",
              "      <td>if the removal of a cause be intuitively absurd in the one case, it must be so in the other:</td>\n",
              "      <td>[if, the, removal, of, cause, be, intuitively, absurd, in, the, one, case, it, must, be, so, in, the, other]</td>\n",
              "      <td>if the removal of a cause be intuitively absurd in the one case , -PRON- must be so in the other :</td>\n",
              "    </tr>\n",
              "    <tr>\n",
              "      <th>306912</th>\n",
              "      <td>Science Of Logic</td>\n",
              "      <td>Hegel</td>\n",
              "      <td>german_idealism</td>\n",
              "      <td>(A, this, is, a, one, reflected, into, itself, ,, without, repulsion, ;, or, the, repulsion, is, in, this, reflection, one, with, abstraction, ,, a, reflective, mediation, present, in, the, this, ...</td>\n",
              "      <td>A this is a one reflected into itself, without repulsion; or the repulsion is in this reflection one with abstraction, a reflective mediation present in the this that makes it a posited immediacy ...</td>\n",
              "      <td>233</td>\n",
              "      <td>a this is a one reflected into itself, without repulsion; or the repulsion is in this reflection one with abstraction, a reflective mediation present in the this that makes it a posited immediacy ...</td>\n",
              "      <td>[this, is, one, reflected, into, itself, without, repulsion, or, the, repulsion, is, in, this, reflection, one, with, abstraction, reflective, mediation, present, in, the, this, that, makes, it, p...</td>\n",
              "      <td>a this be a one reflect into -PRON- , without repulsion ; or the repulsion be in this reflection one with abstraction , a reflective mediation present in the this that make -PRON- a posit immedia...</td>\n",
              "    </tr>\n",
              "    <tr>\n",
              "      <th>216970</th>\n",
              "      <td>Madness And Civilization</td>\n",
              "      <td>Foucault</td>\n",
              "      <td>continental</td>\n",
              "      <td>(Faced, with, them, ,, the, medicine, of, movement, too, was, indecisive, ,, and, its, analyses, equally, unstable, .)</td>\n",
              "      <td>Faced with them, the medicine of movement too was indecisive, and its analyses equally unstable.</td>\n",
              "      <td>96</td>\n",
              "      <td>faced with them, the medicine of movement too was indecisive, and its analyses equally unstable.</td>\n",
              "      <td>[faced, with, them, the, medicine, of, movement, too, was, indecisive, and, its, analyses, equally, unstable]</td>\n",
              "      <td>face with -PRON- , the medicine of movement too be indecisive , and -PRON- analysis equally unstable .</td>\n",
              "    </tr>\n",
              "    <tr>\n",
              "      <th>261159</th>\n",
              "      <td>Being And Time</td>\n",
              "      <td>Heidegger</td>\n",
              "      <td>phenomenology</td>\n",
              "      <td>(The, forest, is, a, forest, of, timber, ,, the, mountain, a, quarry, of, rock, ,, the, river, is, water, power, ,, the, wind, is, wind, in, the, sail, .)</td>\n",
              "      <td>The forest is a forest of timber, the mountain a quarry of rock, the river is water power, the wind is wind in the sail.</td>\n",
              "      <td>120</td>\n",
              "      <td>the forest is a forest of timber, the mountain a quarry of rock, the river is water power, the wind is wind in the sail.</td>\n",
              "      <td>[the, forest, is, forest, of, timber, the, mountain, quarry, of, rock, the, river, is, water, power, the, wind, is, wind, in, the, sail]</td>\n",
              "      <td>the forest be a forest of timber , the mountain a quarry of rock , the river be water power , the wind be wind in the sail .</td>\n",
              "    </tr>\n",
              "  </tbody>\n",
              "</table>\n",
              "</div>"
            ],
            "text/plain": [
              "                                    title  ...                                                                                                                                                                                           lemmatized_str\n",
              "191213  The Logic Of Scientific Discovery  ...                                                                                                                                                note to section , rge , Kamke , Reichenbach and Tornier .\n",
              "112447         A Treatise Of Human Nature  ...                                                                                                       if the removal of a cause be intuitively absurd in the one case , -PRON- must be so in the other :\n",
              "306912                   Science Of Logic  ...   a this be a one reflect into -PRON- , without repulsion ; or the repulsion be in this reflection one with abstraction , a reflective mediation present in the this that make -PRON- a posit immedia...\n",
              "216970           Madness And Civilization  ...                                                                                                   face with -PRON- , the medicine of movement too be indecisive , and -PRON- analysis equally unstable .\n",
              "261159                     Being And Time  ...                                                                             the forest be a forest of timber , the mountain a quarry of rock , the river be water power , the wind be wind in the sail .\n",
              "\n",
              "[5 rows x 9 columns]"
            ]
          },
          "metadata": {
            "tags": []
          },
          "execution_count": 54
        }
      ]
    },
    {
      "cell_type": "code",
      "metadata": {
        "colab": {
          "base_uri": "https://localhost:8080/"
        },
        "id": "qlX3Aq4sx3QQ",
        "outputId": "c7ee4f21-49df-4058-b160-66a20394311d"
      },
      "source": [
        "# check the new author's presence\r\n",
        "print(len(df[df['author']=='Nietzsche']['title']))\r\n",
        "df[df['author']=='Nietzsche']['title'].value_counts()"
      ],
      "execution_count": 55,
      "outputs": [
        {
          "output_type": "execute_result",
          "data": {
            "text/plain": [
              "Thus Spake Zarathustra    5916\n",
              "Twilight Of The Idols     3052\n",
              "Beyond Good And Evil      1906\n",
              "Ecce Homo                 1504\n",
              "The Antichrist            1170\n",
              "Name: title, dtype: int64"
            ]
          },
          "metadata": {
            "tags": []
          },
          "execution_count": 55
        }
      ]
    },
    {
      "cell_type": "code",
      "metadata": {
        "id": "6v0M4jbUxKBt",
        "colab": {
          "base_uri": "https://localhost:8080/",
          "height": 17
        },
        "outputId": "9d120c56-97b9-447c-d03b-017a94615564"
      },
      "source": [
        "# export the csv\r\n",
        "from google.colab import files\r\n",
        "df.to_csv('phil_nlp.csv', index=False) \r\n",
        "files.download('phil_nlp.csv')"
      ],
      "execution_count": 68,
      "outputs": [
        {
          "output_type": "display_data",
          "data": {
            "application/javascript": [
              "\n",
              "    async function download(id, filename, size) {\n",
              "      if (!google.colab.kernel.accessAllowed) {\n",
              "        return;\n",
              "      }\n",
              "      const div = document.createElement('div');\n",
              "      const label = document.createElement('label');\n",
              "      label.textContent = `Downloading \"${filename}\": `;\n",
              "      div.appendChild(label);\n",
              "      const progress = document.createElement('progress');\n",
              "      progress.max = size;\n",
              "      div.appendChild(progress);\n",
              "      document.body.appendChild(div);\n",
              "\n",
              "      const buffers = [];\n",
              "      let downloaded = 0;\n",
              "\n",
              "      const channel = await google.colab.kernel.comms.open(id);\n",
              "      // Send a message to notify the kernel that we're ready.\n",
              "      channel.send({})\n",
              "\n",
              "      for await (const message of channel.messages) {\n",
              "        // Send a message to notify the kernel that we're ready.\n",
              "        channel.send({})\n",
              "        if (message.buffers) {\n",
              "          for (const buffer of message.buffers) {\n",
              "            buffers.push(buffer);\n",
              "            downloaded += buffer.byteLength;\n",
              "            progress.value = downloaded;\n",
              "          }\n",
              "        }\n",
              "      }\n",
              "      const blob = new Blob(buffers, {type: 'application/binary'});\n",
              "      const a = document.createElement('a');\n",
              "      a.href = window.URL.createObjectURL(blob);\n",
              "      a.download = filename;\n",
              "      div.appendChild(a);\n",
              "      a.click();\n",
              "      div.remove();\n",
              "    }\n",
              "  "
            ],
            "text/plain": [
              "<IPython.core.display.Javascript object>"
            ]
          },
          "metadata": {
            "tags": []
          }
        },
        {
          "output_type": "display_data",
          "data": {
            "application/javascript": [
              "download(\"download_9c98b3c3-2d49-4ba8-bcf3-762a368e546e\", \"phil_nlp.csv\", 357196883)"
            ],
            "text/plain": [
              "<IPython.core.display.Javascript object>"
            ]
          },
          "metadata": {
            "tags": []
          }
        }
      ]
    },
    {
      "cell_type": "code",
      "metadata": {
        "id": "vJ6Wd171JZZf"
      },
      "source": [
        "# prepare to upload to the PostgreSQL database\r\n",
        "for_db = df\r\n",
        "for_db['sentence'] = for_db['sentence_str']\r\n",
        "for_db['school'] = for_db['school'].apply(lambda x: x.replace('_', ' ').title())\r\n",
        "for_db = for_db.drop(['sentence_spacy', 'sentence_length', 'sentence_str', 'sentence_lowered', 'tokenized_txt', 'lemmatized_str'], axis=1)\r\n",
        "for_db.columns = [i.upper() for i in for_db.columns]\r\n"
      ],
      "execution_count": 64,
      "outputs": []
    },
    {
      "cell_type": "code",
      "metadata": {
        "colab": {
          "base_uri": "https://localhost:8080/",
          "height": 263
        },
        "id": "A4wxadz0lmG9",
        "outputId": "74c9be98-b9d3-4e05-8bd0-a59f6c30e9c1"
      },
      "source": [
        "for_db.sample(5)"
      ],
      "execution_count": 65,
      "outputs": [
        {
          "output_type": "execute_result",
          "data": {
            "text/html": [
              "<div>\n",
              "<style scoped>\n",
              "    .dataframe tbody tr th:only-of-type {\n",
              "        vertical-align: middle;\n",
              "    }\n",
              "\n",
              "    .dataframe tbody tr th {\n",
              "        vertical-align: top;\n",
              "    }\n",
              "\n",
              "    .dataframe thead th {\n",
              "        text-align: right;\n",
              "    }\n",
              "</style>\n",
              "<table border=\"1\" class=\"dataframe\">\n",
              "  <thead>\n",
              "    <tr style=\"text-align: right;\">\n",
              "      <th></th>\n",
              "      <th>TITLE</th>\n",
              "      <th>AUTHOR</th>\n",
              "      <th>SCHOOL</th>\n",
              "      <th>SENTENCE</th>\n",
              "    </tr>\n",
              "  </thead>\n",
              "  <tbody>\n",
              "    <tr>\n",
              "      <th>194621</th>\n",
              "      <td>Naming And Necessity</td>\n",
              "      <td>Kripke</td>\n",
              "      <td>Analytic</td>\n",
              "      <td>Suppose Nixon actually turned out to be an automaton.</td>\n",
              "    </tr>\n",
              "    <tr>\n",
              "      <th>347004</th>\n",
              "      <td>The Wealth Of Nations</td>\n",
              "      <td>Smith</td>\n",
              "      <td>Capitalism</td>\n",
              "      <td>The low money price for which they may be sold, is no proof that the real value of silver is there very high, but that the real value of those commodities is very low.</td>\n",
              "    </tr>\n",
              "    <tr>\n",
              "      <th>162399</th>\n",
              "      <td>Philosophical Investigations</td>\n",
              "      <td>Wittgenstein</td>\n",
              "      <td>Analytic</td>\n",
              "      <td>But: In spite of everything that he did, I held fast to the belief. .</td>\n",
              "    </tr>\n",
              "    <tr>\n",
              "      <th>34664</th>\n",
              "      <td>Plato - Complete Works</td>\n",
              "      <td>Plato</td>\n",
              "      <td>Plato</td>\n",
              "      <td>And who will these trustworthy people be?</td>\n",
              "    </tr>\n",
              "    <tr>\n",
              "      <th>358621</th>\n",
              "      <td>On The Principles Of Political Economy And Taxation</td>\n",
              "      <td>Ricardo</td>\n",
              "      <td>Capitalism</td>\n",
              "      <td>There are no circumstances under which taxation does not abridge the enjoyments of those on whom the taxes ultimately fall, and no means by which those enjoyments can again be extended, but the ac...</td>\n",
              "    </tr>\n",
              "  </tbody>\n",
              "</table>\n",
              "</div>"
            ],
            "text/plain": [
              "                                                      TITLE  ...                                                                                                                                                                                                 SENTENCE\n",
              "194621                                 Naming And Necessity  ...                                                                                                                                                    Suppose Nixon actually turned out to be an automaton.\n",
              "347004                                The Wealth Of Nations  ...                                  The low money price for which they may be sold, is no proof that the real value of silver is there very high, but that the real value of those commodities is very low.\n",
              "162399                         Philosophical Investigations  ...                                                                                                                                    But: In spite of everything that he did, I held fast to the belief. .\n",
              "34664                                Plato - Complete Works  ...                                                                                                                                                                And who will these trustworthy people be?\n",
              "358621  On The Principles Of Political Economy And Taxation  ...  There are no circumstances under which taxation does not abridge the enjoyments of those on whom the taxes ultimately fall, and no means by which those enjoyments can again be extended, but the ac...\n",
              "\n",
              "[5 rows x 4 columns]"
            ]
          },
          "metadata": {
            "tags": []
          },
          "execution_count": 65
        }
      ]
    },
    {
      "cell_type": "code",
      "metadata": {
        "colab": {
          "base_uri": "https://localhost:8080/",
          "height": 505
        },
        "id": "2CD4ylxGmZ-7",
        "outputId": "e7de464d-2803-4e81-db42-88f3aefe4bc1"
      },
      "source": [
        "for_db[for_db['AUTHOR']=='Nietzsche']"
      ],
      "execution_count": 66,
      "outputs": [
        {
          "output_type": "execute_result",
          "data": {
            "text/html": [
              "<div>\n",
              "<style scoped>\n",
              "    .dataframe tbody tr th:only-of-type {\n",
              "        vertical-align: middle;\n",
              "    }\n",
              "\n",
              "    .dataframe tbody tr th {\n",
              "        vertical-align: top;\n",
              "    }\n",
              "\n",
              "    .dataframe thead th {\n",
              "        text-align: right;\n",
              "    }\n",
              "</style>\n",
              "<table border=\"1\" class=\"dataframe\">\n",
              "  <thead>\n",
              "    <tr style=\"text-align: right;\">\n",
              "      <th></th>\n",
              "      <th>TITLE</th>\n",
              "      <th>AUTHOR</th>\n",
              "      <th>SCHOOL</th>\n",
              "      <th>SENTENCE</th>\n",
              "    </tr>\n",
              "  </thead>\n",
              "  <tbody>\n",
              "    <tr>\n",
              "      <th>366195</th>\n",
              "      <td>The Antichrist</td>\n",
              "      <td>Nietzsche</td>\n",
              "      <td>Nietzsche</td>\n",
              "      <td>This book belongs to the most rare of men.</td>\n",
              "    </tr>\n",
              "    <tr>\n",
              "      <th>366196</th>\n",
              "      <td>The Antichrist</td>\n",
              "      <td>Nietzsche</td>\n",
              "      <td>Nietzsche</td>\n",
              "      <td>Perhaps not one of them is yet alive.</td>\n",
              "    </tr>\n",
              "    <tr>\n",
              "      <th>366197</th>\n",
              "      <td>The Antichrist</td>\n",
              "      <td>Nietzsche</td>\n",
              "      <td>Nietzsche</td>\n",
              "      <td>It is possible that they may be among those who understand my Zarathustra how could I confound myself with those who are now sprouting ears?</td>\n",
              "    </tr>\n",
              "    <tr>\n",
              "      <th>366198</th>\n",
              "      <td>The Antichrist</td>\n",
              "      <td>Nietzsche</td>\n",
              "      <td>Nietzsche</td>\n",
              "      <td>First the day after tomorrow must come for me.</td>\n",
              "    </tr>\n",
              "    <tr>\n",
              "      <th>366199</th>\n",
              "      <td>The Antichrist</td>\n",
              "      <td>Nietzsche</td>\n",
              "      <td>Nietzsche</td>\n",
              "      <td>Some men are born posthumously.</td>\n",
              "    </tr>\n",
              "    <tr>\n",
              "      <th>...</th>\n",
              "      <td>...</td>\n",
              "      <td>...</td>\n",
              "      <td>...</td>\n",
              "      <td>...</td>\n",
              "    </tr>\n",
              "    <tr>\n",
              "      <th>381175</th>\n",
              "      <td>Thus Spake Zarathustra</td>\n",
              "      <td>Nietzsche</td>\n",
              "      <td>Nietzsche</td>\n",
              "      <td>My suffering and my fellow suffering what matter about them!</td>\n",
              "    </tr>\n",
              "    <tr>\n",
              "      <th>381176</th>\n",
              "      <td>Thus Spake Zarathustra</td>\n",
              "      <td>Nietzsche</td>\n",
              "      <td>Nietzsche</td>\n",
              "      <td>Do I then strive after I strive after my Well!</td>\n",
              "    </tr>\n",
              "    <tr>\n",
              "      <th>381177</th>\n",
              "      <td>Thus Spake Zarathustra</td>\n",
              "      <td>Nietzsche</td>\n",
              "      <td>Nietzsche</td>\n",
              "      <td>The lion hath come, my children are nigh, Zarathustra hath grown ripe, mine hour hath come:</td>\n",
              "    </tr>\n",
              "    <tr>\n",
              "      <th>381178</th>\n",
              "      <td>Thus Spake Zarathustra</td>\n",
              "      <td>Nietzsche</td>\n",
              "      <td>Nietzsche</td>\n",
              "      <td>This is morning, day beginneth: !'</td>\n",
              "    </tr>\n",
              "    <tr>\n",
              "      <th>381179</th>\n",
              "      <td>Thus Spake Zarathustra</td>\n",
              "      <td>Nietzsche</td>\n",
              "      <td>Nietzsche</td>\n",
              "      <td>Thus spake Zarathustra and left his cave, glowing and strong, like a morning sun coming out of gloomy mountains.</td>\n",
              "    </tr>\n",
              "  </tbody>\n",
              "</table>\n",
              "<p>13548 rows × 4 columns</p>\n",
              "</div>"
            ],
            "text/plain": [
              "                         TITLE  ...                                                                                                                                      SENTENCE\n",
              "366195          The Antichrist  ...                                                                                                    This book belongs to the most rare of men.\n",
              "366196          The Antichrist  ...                                                                                                         Perhaps not one of them is yet alive.\n",
              "366197          The Antichrist  ...  It is possible that they may be among those who understand my Zarathustra how could I confound myself with those who are now sprouting ears?\n",
              "366198          The Antichrist  ...                                                                                                First the day after tomorrow must come for me.\n",
              "366199          The Antichrist  ...                                                                                                               Some men are born posthumously.\n",
              "...                        ...  ...                                                                                                                                           ...\n",
              "381175  Thus Spake Zarathustra  ...                                                                                  My suffering and my fellow suffering what matter about them!\n",
              "381176  Thus Spake Zarathustra  ...                                                                                                Do I then strive after I strive after my Well!\n",
              "381177  Thus Spake Zarathustra  ...                                                   The lion hath come, my children are nigh, Zarathustra hath grown ripe, mine hour hath come:\n",
              "381178  Thus Spake Zarathustra  ...                                                                                                            This is morning, day beginneth: !'\n",
              "381179  Thus Spake Zarathustra  ...                              Thus spake Zarathustra and left his cave, glowing and strong, like a morning sun coming out of gloomy mountains.\n",
              "\n",
              "[13548 rows x 4 columns]"
            ]
          },
          "metadata": {
            "tags": []
          },
          "execution_count": 66
        }
      ]
    },
    {
      "cell_type": "code",
      "metadata": {
        "colab": {
          "base_uri": "https://localhost:8080/",
          "height": 369
        },
        "id": "H6hb7ky006Gp",
        "outputId": "b7c49bc2-4adc-4d49-d5b4-d24ac4f91feb"
      },
      "source": [
        "#importing sql library \r\n",
        "from sqlalchemy import create_engine \r\n",
        "  \r\n",
        "# create a reference  \r\n",
        "# for sql library \r\n",
        "engine = create_engine(, \r\n",
        "                       echo = False)\r\n",
        "  \r\n",
        "# attach the data frame to the sql  \r\n",
        "for_db[for_db['AUTHOR']=='Nietzsche'].to_sql('phil_nlp', \r\n",
        "               con = engine,\r\n",
        "              if_exists='append') \r\n",
        "  \r\n",
        "# # show the complete data \r\n",
        "print(engine.execute(\"\"\"SELECT * FROM phil_nlp WHERE \"AUTHOR\" = 'Nietzsche'\"\"\").fetchone()) "
      ],
      "execution_count": 67,
      "outputs": [
        {
          "output_type": "error",
          "ename": "KeyboardInterrupt",
          "evalue": "ignored",
          "traceback": [
            "\u001b[0;31m---------------------------------------------------------------------------\u001b[0m",
            "\u001b[0;31mKeyboardInterrupt\u001b[0m                         Traceback (most recent call last)",
            "\u001b[0;32m<ipython-input-67-5a27d9586426>\u001b[0m in \u001b[0;36m<module>\u001b[0;34m()\u001b[0m\n\u001b[1;32m     10\u001b[0m for_db[for_db['AUTHOR']=='Nietzsche'].to_sql('phil_nlp', \n\u001b[1;32m     11\u001b[0m                \u001b[0mcon\u001b[0m \u001b[0;34m=\u001b[0m \u001b[0mengine\u001b[0m\u001b[0;34m,\u001b[0m\u001b[0;34m\u001b[0m\u001b[0;34m\u001b[0m\u001b[0m\n\u001b[0;32m---> 12\u001b[0;31m               if_exists='append') \n\u001b[0m\u001b[1;32m     13\u001b[0m \u001b[0;34m\u001b[0m\u001b[0m\n\u001b[1;32m     14\u001b[0m \u001b[0;31m# # show the complete data\u001b[0m\u001b[0;34m\u001b[0m\u001b[0;34m\u001b[0m\u001b[0;34m\u001b[0m\u001b[0m\n",
            "\u001b[0;32m/usr/local/lib/python3.7/dist-packages/pandas/core/generic.py\u001b[0m in \u001b[0;36mto_sql\u001b[0;34m(self, name, con, schema, if_exists, index, index_label, chunksize, dtype, method)\u001b[0m\n\u001b[1;32m   2613\u001b[0m             \u001b[0mchunksize\u001b[0m\u001b[0;34m=\u001b[0m\u001b[0mchunksize\u001b[0m\u001b[0;34m,\u001b[0m\u001b[0;34m\u001b[0m\u001b[0;34m\u001b[0m\u001b[0m\n\u001b[1;32m   2614\u001b[0m             \u001b[0mdtype\u001b[0m\u001b[0;34m=\u001b[0m\u001b[0mdtype\u001b[0m\u001b[0;34m,\u001b[0m\u001b[0;34m\u001b[0m\u001b[0;34m\u001b[0m\u001b[0m\n\u001b[0;32m-> 2615\u001b[0;31m             \u001b[0mmethod\u001b[0m\u001b[0;34m=\u001b[0m\u001b[0mmethod\u001b[0m\u001b[0;34m,\u001b[0m\u001b[0;34m\u001b[0m\u001b[0;34m\u001b[0m\u001b[0m\n\u001b[0m\u001b[1;32m   2616\u001b[0m         )\n\u001b[1;32m   2617\u001b[0m \u001b[0;34m\u001b[0m\u001b[0m\n",
            "\u001b[0;32m/usr/local/lib/python3.7/dist-packages/pandas/io/sql.py\u001b[0m in \u001b[0;36mto_sql\u001b[0;34m(frame, name, con, schema, if_exists, index, index_label, chunksize, dtype, method)\u001b[0m\n\u001b[1;32m    596\u001b[0m         \u001b[0mchunksize\u001b[0m\u001b[0;34m=\u001b[0m\u001b[0mchunksize\u001b[0m\u001b[0;34m,\u001b[0m\u001b[0;34m\u001b[0m\u001b[0;34m\u001b[0m\u001b[0m\n\u001b[1;32m    597\u001b[0m         \u001b[0mdtype\u001b[0m\u001b[0;34m=\u001b[0m\u001b[0mdtype\u001b[0m\u001b[0;34m,\u001b[0m\u001b[0;34m\u001b[0m\u001b[0;34m\u001b[0m\u001b[0m\n\u001b[0;32m--> 598\u001b[0;31m         \u001b[0mmethod\u001b[0m\u001b[0;34m=\u001b[0m\u001b[0mmethod\u001b[0m\u001b[0;34m,\u001b[0m\u001b[0;34m\u001b[0m\u001b[0;34m\u001b[0m\u001b[0m\n\u001b[0m\u001b[1;32m    599\u001b[0m     )\n\u001b[1;32m    600\u001b[0m \u001b[0;34m\u001b[0m\u001b[0m\n",
            "\u001b[0;32m/usr/local/lib/python3.7/dist-packages/pandas/io/sql.py\u001b[0m in \u001b[0;36mto_sql\u001b[0;34m(self, frame, name, if_exists, index, index_label, schema, chunksize, dtype, method)\u001b[0m\n\u001b[1;32m   1396\u001b[0m \u001b[0;34m\u001b[0m\u001b[0m\n\u001b[1;32m   1397\u001b[0m         \u001b[0;32mtry\u001b[0m\u001b[0;34m:\u001b[0m\u001b[0;34m\u001b[0m\u001b[0;34m\u001b[0m\u001b[0m\n\u001b[0;32m-> 1398\u001b[0;31m             \u001b[0mtable\u001b[0m\u001b[0;34m.\u001b[0m\u001b[0minsert\u001b[0m\u001b[0;34m(\u001b[0m\u001b[0mchunksize\u001b[0m\u001b[0;34m,\u001b[0m \u001b[0mmethod\u001b[0m\u001b[0;34m=\u001b[0m\u001b[0mmethod\u001b[0m\u001b[0;34m)\u001b[0m\u001b[0;34m\u001b[0m\u001b[0;34m\u001b[0m\u001b[0m\n\u001b[0m\u001b[1;32m   1399\u001b[0m         \u001b[0;32mexcept\u001b[0m \u001b[0mexc\u001b[0m\u001b[0;34m.\u001b[0m\u001b[0mSQLAlchemyError\u001b[0m \u001b[0;32mas\u001b[0m \u001b[0merr\u001b[0m\u001b[0;34m:\u001b[0m\u001b[0;34m\u001b[0m\u001b[0;34m\u001b[0m\u001b[0m\n\u001b[1;32m   1400\u001b[0m             \u001b[0;31m# GH34431\u001b[0m\u001b[0;34m\u001b[0m\u001b[0;34m\u001b[0m\u001b[0;34m\u001b[0m\u001b[0m\n",
            "\u001b[0;32m/usr/local/lib/python3.7/dist-packages/pandas/io/sql.py\u001b[0m in \u001b[0;36minsert\u001b[0;34m(self, chunksize, method)\u001b[0m\n\u001b[1;32m    828\u001b[0m \u001b[0;34m\u001b[0m\u001b[0m\n\u001b[1;32m    829\u001b[0m                 \u001b[0mchunk_iter\u001b[0m \u001b[0;34m=\u001b[0m \u001b[0mzip\u001b[0m\u001b[0;34m(\u001b[0m\u001b[0;34m*\u001b[0m\u001b[0;34m[\u001b[0m\u001b[0marr\u001b[0m\u001b[0;34m[\u001b[0m\u001b[0mstart_i\u001b[0m\u001b[0;34m:\u001b[0m\u001b[0mend_i\u001b[0m\u001b[0;34m]\u001b[0m \u001b[0;32mfor\u001b[0m \u001b[0marr\u001b[0m \u001b[0;32min\u001b[0m \u001b[0mdata_list\u001b[0m\u001b[0;34m]\u001b[0m\u001b[0;34m)\u001b[0m\u001b[0;34m\u001b[0m\u001b[0;34m\u001b[0m\u001b[0m\n\u001b[0;32m--> 830\u001b[0;31m                 \u001b[0mexec_insert\u001b[0m\u001b[0;34m(\u001b[0m\u001b[0mconn\u001b[0m\u001b[0;34m,\u001b[0m \u001b[0mkeys\u001b[0m\u001b[0;34m,\u001b[0m \u001b[0mchunk_iter\u001b[0m\u001b[0;34m)\u001b[0m\u001b[0;34m\u001b[0m\u001b[0;34m\u001b[0m\u001b[0m\n\u001b[0m\u001b[1;32m    831\u001b[0m \u001b[0;34m\u001b[0m\u001b[0m\n\u001b[1;32m    832\u001b[0m     def _query_iterator(\n",
            "\u001b[0;32m/usr/local/lib/python3.7/dist-packages/pandas/io/sql.py\u001b[0m in \u001b[0;36m_execute_insert\u001b[0;34m(self, conn, keys, data_iter)\u001b[0m\n\u001b[1;32m    745\u001b[0m         \"\"\"\n\u001b[1;32m    746\u001b[0m         \u001b[0mdata\u001b[0m \u001b[0;34m=\u001b[0m \u001b[0;34m[\u001b[0m\u001b[0mdict\u001b[0m\u001b[0;34m(\u001b[0m\u001b[0mzip\u001b[0m\u001b[0;34m(\u001b[0m\u001b[0mkeys\u001b[0m\u001b[0;34m,\u001b[0m \u001b[0mrow\u001b[0m\u001b[0;34m)\u001b[0m\u001b[0;34m)\u001b[0m \u001b[0;32mfor\u001b[0m \u001b[0mrow\u001b[0m \u001b[0;32min\u001b[0m \u001b[0mdata_iter\u001b[0m\u001b[0;34m]\u001b[0m\u001b[0;34m\u001b[0m\u001b[0;34m\u001b[0m\u001b[0m\n\u001b[0;32m--> 747\u001b[0;31m         \u001b[0mconn\u001b[0m\u001b[0;34m.\u001b[0m\u001b[0mexecute\u001b[0m\u001b[0;34m(\u001b[0m\u001b[0mself\u001b[0m\u001b[0;34m.\u001b[0m\u001b[0mtable\u001b[0m\u001b[0;34m.\u001b[0m\u001b[0minsert\u001b[0m\u001b[0;34m(\u001b[0m\u001b[0;34m)\u001b[0m\u001b[0;34m,\u001b[0m \u001b[0mdata\u001b[0m\u001b[0;34m)\u001b[0m\u001b[0;34m\u001b[0m\u001b[0;34m\u001b[0m\u001b[0m\n\u001b[0m\u001b[1;32m    748\u001b[0m \u001b[0;34m\u001b[0m\u001b[0m\n\u001b[1;32m    749\u001b[0m     \u001b[0;32mdef\u001b[0m \u001b[0m_execute_insert_multi\u001b[0m\u001b[0;34m(\u001b[0m\u001b[0mself\u001b[0m\u001b[0;34m,\u001b[0m \u001b[0mconn\u001b[0m\u001b[0;34m,\u001b[0m \u001b[0mkeys\u001b[0m\u001b[0;34m,\u001b[0m \u001b[0mdata_iter\u001b[0m\u001b[0;34m)\u001b[0m\u001b[0;34m:\u001b[0m\u001b[0;34m\u001b[0m\u001b[0;34m\u001b[0m\u001b[0m\n",
            "\u001b[0;32m/usr/local/lib/python3.7/dist-packages/sqlalchemy/engine/base.py\u001b[0m in \u001b[0;36mexecute\u001b[0;34m(self, object_, *multiparams, **params)\u001b[0m\n\u001b[1;32m   1009\u001b[0m             )\n\u001b[1;32m   1010\u001b[0m         \u001b[0;32melse\u001b[0m\u001b[0;34m:\u001b[0m\u001b[0;34m\u001b[0m\u001b[0;34m\u001b[0m\u001b[0m\n\u001b[0;32m-> 1011\u001b[0;31m             \u001b[0;32mreturn\u001b[0m \u001b[0mmeth\u001b[0m\u001b[0;34m(\u001b[0m\u001b[0mself\u001b[0m\u001b[0;34m,\u001b[0m \u001b[0mmultiparams\u001b[0m\u001b[0;34m,\u001b[0m \u001b[0mparams\u001b[0m\u001b[0;34m)\u001b[0m\u001b[0;34m\u001b[0m\u001b[0;34m\u001b[0m\u001b[0m\n\u001b[0m\u001b[1;32m   1012\u001b[0m \u001b[0;34m\u001b[0m\u001b[0m\n\u001b[1;32m   1013\u001b[0m     \u001b[0;32mdef\u001b[0m \u001b[0m_execute_function\u001b[0m\u001b[0;34m(\u001b[0m\u001b[0mself\u001b[0m\u001b[0;34m,\u001b[0m \u001b[0mfunc\u001b[0m\u001b[0;34m,\u001b[0m \u001b[0mmultiparams\u001b[0m\u001b[0;34m,\u001b[0m \u001b[0mparams\u001b[0m\u001b[0;34m)\u001b[0m\u001b[0;34m:\u001b[0m\u001b[0;34m\u001b[0m\u001b[0;34m\u001b[0m\u001b[0m\n",
            "\u001b[0;32m/usr/local/lib/python3.7/dist-packages/sqlalchemy/sql/elements.py\u001b[0m in \u001b[0;36m_execute_on_connection\u001b[0;34m(self, connection, multiparams, params)\u001b[0m\n\u001b[1;32m    296\u001b[0m     \u001b[0;32mdef\u001b[0m \u001b[0m_execute_on_connection\u001b[0m\u001b[0;34m(\u001b[0m\u001b[0mself\u001b[0m\u001b[0;34m,\u001b[0m \u001b[0mconnection\u001b[0m\u001b[0;34m,\u001b[0m \u001b[0mmultiparams\u001b[0m\u001b[0;34m,\u001b[0m \u001b[0mparams\u001b[0m\u001b[0;34m)\u001b[0m\u001b[0;34m:\u001b[0m\u001b[0;34m\u001b[0m\u001b[0;34m\u001b[0m\u001b[0m\n\u001b[1;32m    297\u001b[0m         \u001b[0;32mif\u001b[0m \u001b[0mself\u001b[0m\u001b[0;34m.\u001b[0m\u001b[0msupports_execution\u001b[0m\u001b[0;34m:\u001b[0m\u001b[0;34m\u001b[0m\u001b[0;34m\u001b[0m\u001b[0m\n\u001b[0;32m--> 298\u001b[0;31m             \u001b[0;32mreturn\u001b[0m \u001b[0mconnection\u001b[0m\u001b[0;34m.\u001b[0m\u001b[0m_execute_clauseelement\u001b[0m\u001b[0;34m(\u001b[0m\u001b[0mself\u001b[0m\u001b[0;34m,\u001b[0m \u001b[0mmultiparams\u001b[0m\u001b[0;34m,\u001b[0m \u001b[0mparams\u001b[0m\u001b[0;34m)\u001b[0m\u001b[0;34m\u001b[0m\u001b[0;34m\u001b[0m\u001b[0m\n\u001b[0m\u001b[1;32m    299\u001b[0m         \u001b[0;32melse\u001b[0m\u001b[0;34m:\u001b[0m\u001b[0;34m\u001b[0m\u001b[0;34m\u001b[0m\u001b[0m\n\u001b[1;32m    300\u001b[0m             \u001b[0;32mraise\u001b[0m \u001b[0mexc\u001b[0m\u001b[0;34m.\u001b[0m\u001b[0mObjectNotExecutableError\u001b[0m\u001b[0;34m(\u001b[0m\u001b[0mself\u001b[0m\u001b[0;34m)\u001b[0m\u001b[0;34m\u001b[0m\u001b[0;34m\u001b[0m\u001b[0m\n",
            "\u001b[0;32m/usr/local/lib/python3.7/dist-packages/sqlalchemy/engine/base.py\u001b[0m in \u001b[0;36m_execute_clauseelement\u001b[0;34m(self, elem, multiparams, params)\u001b[0m\n\u001b[1;32m   1128\u001b[0m             \u001b[0mdistilled_params\u001b[0m\u001b[0;34m,\u001b[0m\u001b[0;34m\u001b[0m\u001b[0;34m\u001b[0m\u001b[0m\n\u001b[1;32m   1129\u001b[0m             \u001b[0mcompiled_sql\u001b[0m\u001b[0;34m,\u001b[0m\u001b[0;34m\u001b[0m\u001b[0;34m\u001b[0m\u001b[0m\n\u001b[0;32m-> 1130\u001b[0;31m             \u001b[0mdistilled_params\u001b[0m\u001b[0;34m,\u001b[0m\u001b[0;34m\u001b[0m\u001b[0;34m\u001b[0m\u001b[0m\n\u001b[0m\u001b[1;32m   1131\u001b[0m         )\n\u001b[1;32m   1132\u001b[0m         \u001b[0;32mif\u001b[0m \u001b[0mself\u001b[0m\u001b[0;34m.\u001b[0m\u001b[0m_has_events\u001b[0m \u001b[0;32mor\u001b[0m \u001b[0mself\u001b[0m\u001b[0;34m.\u001b[0m\u001b[0mengine\u001b[0m\u001b[0;34m.\u001b[0m\u001b[0m_has_events\u001b[0m\u001b[0;34m:\u001b[0m\u001b[0;34m\u001b[0m\u001b[0;34m\u001b[0m\u001b[0m\n",
            "\u001b[0;32m/usr/local/lib/python3.7/dist-packages/sqlalchemy/engine/base.py\u001b[0m in \u001b[0;36m_execute_context\u001b[0;34m(self, dialect, constructor, statement, parameters, *args)\u001b[0m\n\u001b[1;32m   1315\u001b[0m         \u001b[0;32mexcept\u001b[0m \u001b[0mBaseException\u001b[0m \u001b[0;32mas\u001b[0m \u001b[0me\u001b[0m\u001b[0;34m:\u001b[0m\u001b[0;34m\u001b[0m\u001b[0;34m\u001b[0m\u001b[0m\n\u001b[1;32m   1316\u001b[0m             self._handle_dbapi_exception(\n\u001b[0;32m-> 1317\u001b[0;31m                 \u001b[0me\u001b[0m\u001b[0;34m,\u001b[0m \u001b[0mstatement\u001b[0m\u001b[0;34m,\u001b[0m \u001b[0mparameters\u001b[0m\u001b[0;34m,\u001b[0m \u001b[0mcursor\u001b[0m\u001b[0;34m,\u001b[0m \u001b[0mcontext\u001b[0m\u001b[0;34m\u001b[0m\u001b[0;34m\u001b[0m\u001b[0m\n\u001b[0m\u001b[1;32m   1318\u001b[0m             )\n\u001b[1;32m   1319\u001b[0m \u001b[0;34m\u001b[0m\u001b[0m\n",
            "\u001b[0;32m/usr/local/lib/python3.7/dist-packages/sqlalchemy/engine/base.py\u001b[0m in \u001b[0;36m_handle_dbapi_exception\u001b[0;34m(self, e, statement, parameters, cursor, context)\u001b[0m\n\u001b[1;32m   1512\u001b[0m                 )\n\u001b[1;32m   1513\u001b[0m             \u001b[0;32melse\u001b[0m\u001b[0;34m:\u001b[0m\u001b[0;34m\u001b[0m\u001b[0;34m\u001b[0m\u001b[0m\n\u001b[0;32m-> 1514\u001b[0;31m                 \u001b[0mutil\u001b[0m\u001b[0;34m.\u001b[0m\u001b[0mraise_\u001b[0m\u001b[0;34m(\u001b[0m\u001b[0mexc_info\u001b[0m\u001b[0;34m[\u001b[0m\u001b[0;36m1\u001b[0m\u001b[0;34m]\u001b[0m\u001b[0;34m,\u001b[0m \u001b[0mwith_traceback\u001b[0m\u001b[0;34m=\u001b[0m\u001b[0mexc_info\u001b[0m\u001b[0;34m[\u001b[0m\u001b[0;36m2\u001b[0m\u001b[0;34m]\u001b[0m\u001b[0;34m)\u001b[0m\u001b[0;34m\u001b[0m\u001b[0;34m\u001b[0m\u001b[0m\n\u001b[0m\u001b[1;32m   1515\u001b[0m \u001b[0;34m\u001b[0m\u001b[0m\n\u001b[1;32m   1516\u001b[0m         \u001b[0;32mfinally\u001b[0m\u001b[0;34m:\u001b[0m\u001b[0;34m\u001b[0m\u001b[0;34m\u001b[0m\u001b[0m\n",
            "\u001b[0;32m/usr/local/lib/python3.7/dist-packages/sqlalchemy/util/compat.py\u001b[0m in \u001b[0;36mraise_\u001b[0;34m(***failed resolving arguments***)\u001b[0m\n\u001b[1;32m    180\u001b[0m \u001b[0;34m\u001b[0m\u001b[0m\n\u001b[1;32m    181\u001b[0m         \u001b[0;32mtry\u001b[0m\u001b[0;34m:\u001b[0m\u001b[0;34m\u001b[0m\u001b[0;34m\u001b[0m\u001b[0m\n\u001b[0;32m--> 182\u001b[0;31m             \u001b[0;32mraise\u001b[0m \u001b[0mexception\u001b[0m\u001b[0;34m\u001b[0m\u001b[0;34m\u001b[0m\u001b[0m\n\u001b[0m\u001b[1;32m    183\u001b[0m         \u001b[0;32mfinally\u001b[0m\u001b[0;34m:\u001b[0m\u001b[0;34m\u001b[0m\u001b[0;34m\u001b[0m\u001b[0m\n\u001b[1;32m    184\u001b[0m             \u001b[0;31m# credit to\u001b[0m\u001b[0;34m\u001b[0m\u001b[0;34m\u001b[0m\u001b[0;34m\u001b[0m\u001b[0m\n",
            "\u001b[0;32m/usr/local/lib/python3.7/dist-packages/sqlalchemy/engine/base.py\u001b[0m in \u001b[0;36m_execute_context\u001b[0;34m(self, dialect, constructor, statement, parameters, *args)\u001b[0m\n\u001b[1;32m   1255\u001b[0m                 \u001b[0;32mif\u001b[0m \u001b[0;32mnot\u001b[0m \u001b[0mevt_handled\u001b[0m\u001b[0;34m:\u001b[0m\u001b[0;34m\u001b[0m\u001b[0;34m\u001b[0m\u001b[0m\n\u001b[1;32m   1256\u001b[0m                     self.dialect.do_executemany(\n\u001b[0;32m-> 1257\u001b[0;31m                         \u001b[0mcursor\u001b[0m\u001b[0;34m,\u001b[0m \u001b[0mstatement\u001b[0m\u001b[0;34m,\u001b[0m \u001b[0mparameters\u001b[0m\u001b[0;34m,\u001b[0m \u001b[0mcontext\u001b[0m\u001b[0;34m\u001b[0m\u001b[0;34m\u001b[0m\u001b[0m\n\u001b[0m\u001b[1;32m   1258\u001b[0m                     )\n\u001b[1;32m   1259\u001b[0m             \u001b[0;32melif\u001b[0m \u001b[0;32mnot\u001b[0m \u001b[0mparameters\u001b[0m \u001b[0;32mand\u001b[0m \u001b[0mcontext\u001b[0m\u001b[0;34m.\u001b[0m\u001b[0mno_parameters\u001b[0m\u001b[0;34m:\u001b[0m\u001b[0;34m\u001b[0m\u001b[0;34m\u001b[0m\u001b[0m\n",
            "\u001b[0;32m/usr/local/lib/python3.7/dist-packages/sqlalchemy/dialects/postgresql/psycopg2.py\u001b[0m in \u001b[0;36mdo_executemany\u001b[0;34m(self, cursor, statement, parameters, context)\u001b[0m\n\u001b[1;32m    896\u001b[0m     \u001b[0;32mdef\u001b[0m \u001b[0mdo_executemany\u001b[0m\u001b[0;34m(\u001b[0m\u001b[0mself\u001b[0m\u001b[0;34m,\u001b[0m \u001b[0mcursor\u001b[0m\u001b[0;34m,\u001b[0m \u001b[0mstatement\u001b[0m\u001b[0;34m,\u001b[0m \u001b[0mparameters\u001b[0m\u001b[0;34m,\u001b[0m \u001b[0mcontext\u001b[0m\u001b[0;34m=\u001b[0m\u001b[0;32mNone\u001b[0m\u001b[0;34m)\u001b[0m\u001b[0;34m:\u001b[0m\u001b[0;34m\u001b[0m\u001b[0;34m\u001b[0m\u001b[0m\n\u001b[1;32m    897\u001b[0m         \u001b[0;32mif\u001b[0m \u001b[0mself\u001b[0m\u001b[0;34m.\u001b[0m\u001b[0mexecutemany_mode\u001b[0m \u001b[0;32mis\u001b[0m \u001b[0mEXECUTEMANY_DEFAULT\u001b[0m\u001b[0;34m:\u001b[0m\u001b[0;34m\u001b[0m\u001b[0;34m\u001b[0m\u001b[0m\n\u001b[0;32m--> 898\u001b[0;31m             \u001b[0mcursor\u001b[0m\u001b[0;34m.\u001b[0m\u001b[0mexecutemany\u001b[0m\u001b[0;34m(\u001b[0m\u001b[0mstatement\u001b[0m\u001b[0;34m,\u001b[0m \u001b[0mparameters\u001b[0m\u001b[0;34m)\u001b[0m\u001b[0;34m\u001b[0m\u001b[0;34m\u001b[0m\u001b[0m\n\u001b[0m\u001b[1;32m    899\u001b[0m             \u001b[0;32mreturn\u001b[0m\u001b[0;34m\u001b[0m\u001b[0;34m\u001b[0m\u001b[0m\n\u001b[1;32m    900\u001b[0m \u001b[0;34m\u001b[0m\u001b[0m\n",
            "\u001b[0;32m/usr/lib/python3.7/encodings/utf_8.py\u001b[0m in \u001b[0;36mdecode\u001b[0;34m(input, errors)\u001b[0m\n\u001b[1;32m     13\u001b[0m \u001b[0mencode\u001b[0m \u001b[0;34m=\u001b[0m \u001b[0mcodecs\u001b[0m\u001b[0;34m.\u001b[0m\u001b[0mutf_8_encode\u001b[0m\u001b[0;34m\u001b[0m\u001b[0;34m\u001b[0m\u001b[0m\n\u001b[1;32m     14\u001b[0m \u001b[0;34m\u001b[0m\u001b[0m\n\u001b[0;32m---> 15\u001b[0;31m \u001b[0;32mdef\u001b[0m \u001b[0mdecode\u001b[0m\u001b[0;34m(\u001b[0m\u001b[0minput\u001b[0m\u001b[0;34m,\u001b[0m \u001b[0merrors\u001b[0m\u001b[0;34m=\u001b[0m\u001b[0;34m'strict'\u001b[0m\u001b[0;34m)\u001b[0m\u001b[0;34m:\u001b[0m\u001b[0;34m\u001b[0m\u001b[0;34m\u001b[0m\u001b[0m\n\u001b[0m\u001b[1;32m     16\u001b[0m     \u001b[0;32mreturn\u001b[0m \u001b[0mcodecs\u001b[0m\u001b[0;34m.\u001b[0m\u001b[0mutf_8_decode\u001b[0m\u001b[0;34m(\u001b[0m\u001b[0minput\u001b[0m\u001b[0;34m,\u001b[0m \u001b[0merrors\u001b[0m\u001b[0;34m,\u001b[0m \u001b[0;32mTrue\u001b[0m\u001b[0;34m)\u001b[0m\u001b[0;34m\u001b[0m\u001b[0;34m\u001b[0m\u001b[0m\n\u001b[1;32m     17\u001b[0m \u001b[0;34m\u001b[0m\u001b[0m\n",
            "\u001b[0;31mKeyboardInterrupt\u001b[0m: "
          ]
        }
      ]
    },
    {
      "cell_type": "markdown",
      "metadata": {
        "id": "FeEVIBYZN64H"
      },
      "source": [
        "Now we can export the new CSV to use in other projects. "
      ]
    },
    {
      "cell_type": "code",
      "metadata": {
        "id": "4asBFcfwOUsx"
      },
      "source": [
        ""
      ],
      "execution_count": null,
      "outputs": []
    }
  ]
}