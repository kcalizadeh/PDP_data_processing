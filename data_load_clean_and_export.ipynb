{
  "nbformat": 4,
  "nbformat_minor": 0,
  "metadata": {
    "colab": {
      "name": "data_load_clean_and_export.ipynb",
      "provenance": [],
      "collapsed_sections": [
        "6e3D7iGALiMC",
        "4Z6-svnmMCtz",
        "WI3KwHHVM8ck",
        "KaxL3byaM-RA",
        "MEqfL_K_NE7C",
        "uMxaZemLNKeH",
        "kcdlnijMNaMA",
        "0jsR1QpNNlNJ"
      ],
      "toc_visible": true,
      "machine_shape": "hm",
      "authorship_tag": "ABX9TyMS26DTq8uoRrL2qoJW1jy8",
      "include_colab_link": true
    },
    "kernelspec": {
      "name": "python3",
      "display_name": "Python 3"
    },
    "accelerator": "GPU"
  },
  "cells": [
    {
      "cell_type": "markdown",
      "metadata": {
        "id": "view-in-github",
        "colab_type": "text"
      },
      "source": [
        "<a href=\"https://colab.research.google.com/github/kcalizadeh/PDP_data_processing/blob/master/data_load_clean_and_export.ipynb\" target=\"_parent\"><img src=\"https://colab.research.google.com/assets/colab-badge.svg\" alt=\"Open In Colab\"/></a>"
      ]
    },
    {
      "cell_type": "markdown",
      "metadata": {
        "id": "ce4uUmGtIwgG"
      },
      "source": [
        "### Imports and Mounting Drive"
      ]
    },
    {
      "cell_type": "code",
      "metadata": {
        "colab": {
          "base_uri": "https://localhost:8080/"
        },
        "id": "dQnwn5oZqw4P",
        "outputId": "56f56af4-8a72-44b0-ab4e-6b711438cff1"
      },
      "source": [
        "# this cell mounts drive, sets the correct directory, then imports all functions\r\n",
        "# and relevant libraries via the functions.py file\r\n",
        "from google.colab import drive\r\n",
        "import sys\r\n",
        "\r\n",
        "drive.mount('/gdrive',force_remount=True)\r\n",
        "\r\n",
        "drive_path = '/gdrive/MyDrive/Colab_Projects/philosophy_data_project'\r\n",
        "\r\n",
        "sys.path.append(drive_path)"
      ],
      "execution_count": null,
      "outputs": [
        {
          "output_type": "stream",
          "text": [
            "Mounted at /gdrive\n"
          ],
          "name": "stdout"
        }
      ]
    },
    {
      "cell_type": "code",
      "metadata": {
        "id": "icdKF0dyrAU5"
      },
      "source": [
        "from import_functions import *"
      ],
      "execution_count": null,
      "outputs": []
    },
    {
      "cell_type": "code",
      "metadata": {
        "colab": {
          "base_uri": "https://localhost:8080/"
        },
        "id": "tym6E0D5rbwQ",
        "outputId": "988afcd1-8c5b-4689-bd57-9b3c7b7ac5dd"
      },
      "source": [
        "import spacy.cli\r\n",
        "spacy.cli.download(\"en_core_web_lg\")\r\n",
        "import en_core_web_lg\r\n",
        "nlp = en_core_web_lg.load()"
      ],
      "execution_count": null,
      "outputs": [
        {
          "output_type": "stream",
          "text": [
            "\u001b[38;5;2m✔ Download and installation successful\u001b[0m\n",
            "You can now load the model via spacy.load('en_core_web_lg')\n"
          ],
          "name": "stdout"
        }
      ]
    },
    {
      "cell_type": "code",
      "metadata": {
        "id": "YTfCjw3Rrt2I"
      },
      "source": [
        "# load the texts\r\n",
        "\r\n",
        "## plato\r\n",
        "plato_complete = get_text(drive_path + '/phil_txts/plato_complete_works.txt')\r\n",
        "\r\n",
        "# aristotle\r\n",
        "aristotle_vol_1 = get_text(drive_path + '/phil_txts/aristotle_complete_works_v1.txt')\r\n",
        "aristotle_vol_2 = get_text(drive_path + '/phil_txts/aristotle_complete_works_v2.txt')\r\n",
        "\r\n",
        "## rationalists\r\n",
        "spinoza_ethics = get_guten('http://www.gutenberg.org/cache/epub/3800/pg3800.txt')\r\n",
        "spinoza_improve_understanding = get_guten('http://www.gutenberg.org/cache/epub/1016/pg1016.txt')\r\n",
        "leibniz_theodicy = get_guten('http://www.gutenberg.org/cache/epub/17147/pg17147.txt')\r\n",
        "descartes_discourse_method = get_guten('http://www.gutenberg.org/cache/epub/59/pg59.txt')\r\n",
        "descartes_meditations = get_text(drive_path + '/phil_txts/descartes_meditations.txt')\r\n",
        "malebranche_search_truth = get_text(drive_path + '/phil_txts/malebranche_search_truth.txt')\r\n",
        "\r\n",
        "## empiricists\r\n",
        "locke_understanding_1 = get_guten('http://www.gutenberg.org/cache/epub/10615/pg10615.txt')\r\n",
        "locke_understanding_2 = get_guten('http://www.gutenberg.org/cache/epub/10616/pg10616.txt')\r\n",
        "locke_treatise_gov = get_guten('http://www.gutenberg.org/cache/epub/7370/pg7370.txt')\r\n",
        "hume_treatise = get_guten('http://www.gutenberg.org/cache/epub/4705/pg4705.txt')\r\n",
        "hume_natural_religion = get_guten('http://www.gutenberg.org/cache/epub/4583/pg4583.txt')\r\n",
        "berkeley_treatise = get_guten('http://www.gutenberg.org/cache/epub/4723/pg4723.txt')\r\n",
        "berkeley_three_dialogues = get_guten('http://www.gutenberg.org/cache/epub/4724/pg4724.txt')\r\n",
        "\r\n",
        "## german idealism\r\n",
        "kant_practical_reason = get_text(drive_path + '/phil_txts/kant_critique_practical_reason.txt')\r\n",
        "kant_judgement = get_text(drive_path + '/phil_txts/kant_critique_judgement.txt')\r\n",
        "kant_pure_reason = get_text(drive_path + '/phil_txts/kant_pure_reason.txt')\r\n",
        "fichte_ethics = get_text(drive_path + '/phil_txts/fichte_system_of_ethics.txt')\r\n",
        "hegel_logic = get_text(drive_path + '/phil_txts/hegel_science_of_logic.txt')\r\n",
        "hegel_phenomenology = get_text(drive_path + '/phil_txts/hegel_phenomenology_of_spirit.txt')\r\n",
        "hegel_right = get_text(drive_path + '/phil_txts/hegel_elements_of_right.txt')\r\n",
        "\r\n",
        "## analytic\r\n",
        "russell_problems_of_phil = get_guten('http://www.gutenberg.org/cache/epub/5827/pg5827.txt')\r\n",
        "russell_analylsis_of_mind = get_guten('http://www.gutenberg.org/cache/epub/2529/pg2529.txt')\r\n",
        "moore_studies = get_guten('http://www.gutenberg.org/files/50141/50141-0.txt')\r\n",
        "wittgenstein_tractatus = get_text(drive_path + '/phil_txts/wittgenstein_tractatus.txt')\r\n",
        "wittgenstein_investigations = get_text(drive_path + '/phil_txts/wittgenstien_philosophical_investigations.txt')\r\n",
        "lewis_papers1 = get_text(drive_path + '/phil_txts/lewis_papers_1.txt')\r\n",
        "lewis_papers2 = get_text(drive_path + '/phil_txts/lewis_papers_2.txt')\r\n",
        "quine_quintessence = get_text(drive_path + '/phil_txts/quine_quintessence.txt')\r\n",
        "popper_science = get_text(drive_path + '/phil_txts/popper_logic_of_science.txt')\r\n",
        "kripke_troubles = get_text(drive_path + '/phil_txts/kripke_philosophical_troubles.txt')\r\n",
        "kripke_naming = get_text(drive_path + '/phil_txts/kripke_naming_necessity.txt')\r\n",
        "\r\n",
        "## phenomenology\r\n",
        "ponty_perception = get_text(drive_path + '/phil_txts/merleau-ponty_phenomenology_of_perception.txt')\r\n",
        "husserl_idea_of = get_text(drive_path + '/phil_txts/husserl_idea_of_phenomenology.txt')\r\n",
        "husserl_crisis = get_text(drive_path + '/phil_txts/husserl_crisis_of_euro_sciences.txt')\r\n",
        "heidegger_being_time = get_text(drive_path + '/phil_txts/heidegger_being_and_time.txt')\r\n",
        "heidegger_track = get_text(drive_path + '/phil_txts/heidegger_off_the_beaten_track.txt')\r\n",
        "\r\n",
        "## continental\r\n",
        "foucault_order = get_text(drive_path + '/phil_txts/foucault_order_of_things.txt')\r\n",
        "foucault_madness = get_text(drive_path + '/phil_txts/foucault_history_of_madness.txt')\r\n",
        "foucault_clinic = get_text(drive_path + '/phil_txts/foucault_birth_of_clinic.txt')\r\n",
        "derrida_writing = get_text(drive_path + '/phil_txts/derrida_writing_difference.txt')\r\n",
        "deleuze_oedipus = get_text(drive_path + '/phil_txts/deleuze_guattari_anti-oedipus.txt')\r\n",
        "deleuze_difference = get_text(drive_path + '/phil_txts/deleuze_difference_repetition.txt')\r\n",
        "\r\n",
        "## marxism\r\n",
        "marx_kapital = get_text(drive_path + '/phil_txts/marx_kapital.txt')\r\n",
        "marx_manifesto = get_text(drive_path + '/phil_txts/marx_manifesto.txt')\r\n",
        "lenin_essential = get_text(drive_path + '/phil_txts/lenin_essential_works.txt')\r\n",
        "\r\n",
        "## capitalist economics\r\n",
        "smith_wealth = get_guten('http://www.gutenberg.org/files/3300/3300-0.txt')\r\n",
        "ricardo_political_economy = get_guten('http://www.gutenberg.org/cache/epub/33310/pg33310.txt')\r\n",
        "keynes_employment = get_text(drive_path + '/phil_txts/keynes_theory_of_employment.txt')\r\n",
        "\r\n",
        "## stoicism\r\n",
        "epictetus_enchiridion = get_guten('http://www.gutenberg.org/files/45109/45109-0.txt')\r\n",
        "aurelius_meditations = get_guten('http://www.gutenberg.org/cache/epub/2680/pg2680.txt')\r\n"
      ],
      "execution_count": null,
      "outputs": []
    },
    {
      "cell_type": "code",
      "metadata": {
        "id": "rtnCGgKbrwVa"
      },
      "source": [
        "# use this cell to bring in the new texts\r\n",
        "\r\n",
        "## new Wittgenstein text\r\n",
        "wittgenstein_certainty = get_text(drive_path + '/phil_txts/wittgenstein_certainty.txt')"
      ],
      "execution_count": null,
      "outputs": []
    },
    {
      "cell_type": "markdown",
      "metadata": {
        "id": "Gtbq1njQKsSn"
      },
      "source": [
        "With texts imported, we need to clip front and end matter."
      ]
    },
    {
      "cell_type": "code",
      "metadata": {
        "id": "8cvmG0rir1tU"
      },
      "source": [
        "plato_complete = plato_complete.split('find that an enticing')[1][388:].split('Demeter, whose cult at')[0]\r\n",
        "\r\n",
        "aristotle_vol_1 = aristotle_vol_1.split('1a20-1b9')[1].split('799a16')[0]\r\n",
        "aristotle_vol_2 = aristotle_vol_2.split('830a5-830b4')[1].split('1462a5-1462a13')[0]\r\n",
        "\r\n",
        "spinoza_ethics = spinoza_ethics.split('ranslated from the Latin by R.')[1][71:].split('End of the Ethics')[0]\r\n",
        "spinoza_improve_understanding = spinoza_improve_understanding.split('Farewell.*')[1][20:].split('End of ')[0]\r\n",
        "leibniz_theodicy = leibniz_theodicy.split('appeared in 1710 as the')[1][202:].split('SUMMARY OF THE CON')[0][:-140]\r\n",
        "descartes_discourse_method = descartes_discourse_method.split('PREFATORY NOTE')[1][18:].split('End of the Pr')[0]\r\n",
        "descartes_meditations = descartes_meditations.split('LETTER')[1][1:].split('AND REPLIES')[0]\r\n",
        "malebranche_search_truth = malebranche_search_truth.split(\"n's Mind and the Use H\")[1][64:].split('Beati qui')[0]\r\n",
        "\r\n",
        "locke_understanding_1 = locke_understanding_1.split('2 Dorset Court, 24th of May, 1689')[1][50:].split('End of the Pro')[0][:-30]\r\n",
        "locke_understanding_2 = locke_understanding_2.split('1. Man fitted to form articulated Sounds.')[1][4:].split('End of the Pro')[0][:-25]\r\n",
        "locke_treatise_gov = locke_treatise_gov.split('now lodged in Christ College, Cambridge.')[1][21:].split('FINIS.')[0]\r\n",
        "hume_treatise = hume_treatise.split('ADVERTISEMENT')[1][9:].split('End of Pro')[0][:-14]\r\n",
        "hume_natural_religion = hume_natural_religion.split('PAMPHILUS TO HERMIPPUS')[1][6:].split('End of the Pro')[0][:-22]\r\n",
        "berkeley_treatise = berkeley_treatise.split('are too apt to condemn an opinion before they rightly')[1][47:].split('End of the Pr')[0][:-22]\r\n",
        "berkeley_three_dialogues = berkeley_three_dialogues.split('THE FIRST DIALOGUE')[1][17:].split('End of the Pro')[0][:-22]\r\n",
        "\r\n",
        "kant_practical_reason = kant_practical_reason.split('erner Pluhar an')[1][329:].split('stone of the wi')[0][:-20]\r\n",
        "kant_judgement = kant_judgement.split('TO THE FIRST EDITION,* 1790')[1][1:].split('EXPLANATORY NOTES')[0][:-39]\r\n",
        "kant_pure_reason = kant_pure_reason.split('Bacon of Verulam')[1][33:].split('(Persius, Satires, iii, 78-9).')[0][:-1]\r\n",
        "fichte_ethics = fichte_ethics.split('(“Krause Nachschrift,” 1798/99)')[1][111:].split('Page 345')[0][:-2]\r\n",
        "hegel_logic = hegel_logic.split('complete transformati')[1][249:].split('It is a matter of speculation how Hegel would have rev')[0][:-80]\r\n",
        "hegel_phenomenology = hegel_phenomenology.split('PREFACE: ON SCIENTIFIC')[1][1:].split('1I Adaptation')[0][:-62]\r\n",
        "hegel_right = hegel_right.split('he immediate occasion f')[1][184:].split('I Hegel lectured on the topics in')[0][:-28]\r\n",
        "\r\n",
        "russell_problems_of_phil = russell_problems_of_phil.split('n the following pages')[1].split('BIBLIOGRAPHICAL NOTE')[0]\r\n",
        "russell_analylsis_of_mind = russell_analylsis_of_mind.split('H. D. Lewis')[2][21:].split('End of Pro')[0]\r\n",
        "moore_studies = moore_studies.split('Aristotelian Society,_ 1919-20.')[1][23:].split('E Wes')[0][:-10]\r\n",
        "wittgenstein_tractatus = wittgenstein_tractatus.split('TRACTATUS LOGICO-PHILOSOPHICUS')[1][70:].split('I NDEX')[0][:-8]\r\n",
        "wittgenstein_investigations = wittgenstein_investigations.split('catty')[1][787:].split(\"above', 351\")[0]\r\n",
        "lewis_papers1 = lewis_papers1.split('The fifteen papers')[1][61:].split('Acquai')[0][:-10]\r\n",
        "lewis_papers2 = lewis_papers2.split('Part Four Counterfactuals and Time')[1][17:].split('end p.342')[0]\r\n",
        "quine_quintessence = quine_quintessence.split('T R UT H B Y C O N V E N T I O N')[1].split('CREDITS')[0][:-7]\r\n",
        "popper_science = popper_science.split('F IRST E NGLISH E DITION, 1959')[1][2:].split('This is the end of the text of the original book.')[0]\r\n",
        "kripke_troubles = kripke_troubles.split('apters 2, 3, 7, 10, 11, and 13 are previously unpublish')[1][103:].split('ans, Gareth. 198')[0][:-25]\r\n",
        "kripke_naming = kripke_naming.split('xjvdsa')[1][10:].split('hese addenda represe')[0][:-35]\r\n",
        "\r\n",
        "ponty_perception = ponty_perception.split('P REFACE')[1].split('B IBLIOGRAPHY')[0][:-65]\r\n",
        "husserl_idea_of = husserl_idea_of.split('LECTUREl')[1][9:].split('Abstraction, ideating, 47, 50, 65')[0][:-10]\r\n",
        "husserl_crisis = husserl_crisis.split('§ 1.')[1].split('Appendix X:')[0]\r\n",
        "heidegger_being_time = heidegger_being_time.split(\"AUTHOR'S PREFACE TO THE\")[1][25:].split('Not \"the\" sole way.')[0][:-8]\r\n",
        "heidegger_track = heidegger_track.split('translated in several ')[1][15:].split('et-up [dar Gestellj as the uunost obli')[0][:-32]\r\n",
        "\r\n",
        "foucault_order = foucault_order.split('P REFACE')[1]\r\n",
        "foucault_madness = foucault_madness.split('ickering simulacra, an')[1][112:].split('Page 591')[0]\r\n",
        "foucault_clinic = foucault_clinic.split('iagnostic (Paris, 1962, p.')[1][15:].split('de Sade.')[0][:-33]\r\n",
        "derrida_writing = derrida_writing.split('(Flaubert, Preface d la d')[1][10:].split('Reb Derissa')[0]\r\n",
        "deleuze_oedipus = deleuze_oedipus.split('xjdsde')[1].split('jajielaks')[0]\r\n",
        "deleuze_difference = deleuze_difference.split('Introduction:')[1].split('Plateaus')[0][:-65]\r\n",
        "\r\n",
        "marx_kapital = ((marx_kapital.split('E MAGNITUDE OF VALUE)')[1].split('expropriation of the laborer.')[0])+'expropriation of the laborer.')\r\n",
        "marx_manifesto = marx_manifesto.split('page 29')[1].split('Mao')[0][:-15]\r\n",
        "lenin_essential = lenin_essential.split('We will now sum up the theoretical')[1].split('SUGGESTIONS FOR FURTHER READING')[0]\r\n",
        "\r\n",
        "smith_wealth = smith_wealth.split('INTRODUCTION AND PLAN OF THE WORK.')[2].split('End of the Project Gutenberg EBook of An Inquiry into the Nat')[0]\r\n",
        "ricardo_political_economy = ricardo_political_economy.split('ON VALUE.')[1].split('  FOOTNOTES:')[0]\r\n",
        "keynes_employment = keynes_employment.split('GENERAL INTRODUCTION')[1].split('PRINTING ERRORS IN THE FIRST EDITION CORRECTE')[0][:-145]\r\n",
        "\r\n",
        "epictetus_enchiridion = epictetus_enchiridion.split('New York, 1927.')[1][99:].split('Footnotes')[0][:-45]\r\n",
        "aurelius_meditations = aurelius_meditations.split('Book vi. Num. xlviii.')[1].split('APPENDIX')[0]\r\n"
      ],
      "execution_count": null,
      "outputs": []
    },
    {
      "cell_type": "code",
      "metadata": {
        "id": "1uDGcFA-r3w7"
      },
      "source": [
        "# use this cell to deal with the new text and experiment until we have a good result\r\n",
        "\r\n",
        "wittgenstein_certainty = wittgenstein_certainty.split('advice about the translation of this work.')[1][3:]"
      ],
      "execution_count": null,
      "outputs": []
    },
    {
      "cell_type": "markdown",
      "metadata": {
        "id": "UtyqxKStKvsc"
      },
      "source": [
        "Now we aggregate them by school and create a dictionary of various aggregates for future use. "
      ]
    },
    {
      "cell_type": "code",
      "metadata": {
        "id": "kghr6yp0r6Lv"
      },
      "source": [
        "# a list of books for each school, then aggregated and entered into a dictionary\r\n",
        "\r\n",
        "## original texts\r\n",
        "plato_texts = [plato_complete]\r\n",
        "aristotle_texts = [aristotle_vol_1, aristotle_vol_2]\r\n",
        "rationalist_texts = [spinoza_ethics, spinoza_improve_understanding, \r\n",
        "                    leibniz_theodicy, descartes_discourse_method, \r\n",
        "                     descartes_meditations, malebranche_search_truth]\r\n",
        "empiricist_texts = [locke_treatise_gov, locke_understanding_1, locke_understanding_2, \r\n",
        "                    hume_treatise, hume_natural_religion, berkeley_three_dialogues, \r\n",
        "                    berkeley_treatise]\r\n",
        "german_idealist_texts = [kant_practical_reason, kant_judgement, kant_pure_reason, \r\n",
        "                         fichte_ethics, hegel_logic, hegel_phenomenology, hegel_right]\r\n",
        "analytic_texts = [russell_analylsis_of_mind, russell_problems_of_phil, \r\n",
        "                  moore_studies, wittgenstein_investigations, wittgenstein_tractatus, \r\n",
        "                  lewis_papers1, lewis_papers2, quine_quintessence, popper_science, \r\n",
        "                  kripke_naming, kripke_troubles, wittgenstein_certainty]\r\n",
        "phenomenology_texts = [ponty_perception, husserl_crisis, \r\n",
        "                       husserl_idea_of, heidegger_being_time, heidegger_track]\r\n",
        "continental_texts = [foucault_clinic, foucault_madness, foucault_order, \r\n",
        "                     derrida_writing, deleuze_difference, deleuze_oedipus]\r\n",
        "marxist_texts = [marx_kapital, marx_manifesto, lenin_essential]\r\n",
        "capitalist_texts = [smith_wealth, ricardo_political_economy, keynes_employment]\r\n",
        "\r\n",
        "# new texts\r\n",
        "stoicism_texts = [epictetus_enchiridion, aurelius_meditations]\r\n",
        "\r\n",
        "\r\n",
        "all_texts = plato_texts + aristotle_texts + empiricist_texts + rationalist_texts + analytic_texts + continental_texts + phenomenology_texts + german_idealist_texts + marxist_texts + capitalist_texts + stoicism_texts\r\n",
        "all_texts_string = ' . '.join(all_texts)\r\n",
        "\r\n",
        "text_dict_list = {'plato': plato_texts, 'aristotle': aristotle_texts, \r\n",
        "             'empiricism': empiricist_texts, 'rationalism': rationalist_texts, \r\n",
        "            'german_idealism': german_idealist_texts, \r\n",
        "             'phenomenology': phenomenology_texts, 'analytic': analytic_texts, \r\n",
        "            'continental': continental_texts, 'marxism': marxist_texts,\r\n",
        "             'capitalism': capitalist_texts, 'stoicism': stoicism_texts}\r\n",
        "\r\n",
        "text_dict = {}\r\n",
        "for school in text_dict_list.keys():\r\n",
        "    text_dict[school] = ' . '.join(text_dict_list[school])"
      ],
      "execution_count": null,
      "outputs": []
    },
    {
      "cell_type": "markdown",
      "metadata": {
        "id": "lfajGZ7bK5Zg"
      },
      "source": [
        "### More In-Depth Cleaning\r\n",
        "\r\n",
        "The text here is often quite messy. We need to do some significant work to clean it up. This means dealing with things like:\r\n",
        "- headers of pages occurring repeatedly in the text\r\n",
        "- page numbers and citation numbers\r\n",
        "- footnotes, roman numerals, titles of chapters\r\n",
        "\r\n",
        "The process of dealing with these and getting the data ready for our models has a few steps:\r\n",
        "1. develop a general cleaning function that can work for every text (removing roman numerals, for example)\r\n",
        "2. examine each text itself and remove the specific headers that are relevant to it\r\n",
        "  - look for features that could capture all the footnotes here as well\r\n",
        "3. tokenize the text using spacy\r\n",
        "4. examine the tokens for unusual patterns \r\n",
        "  - there should be virtually no duplicate sentences\r\n",
        "  - we can remove sentences that are too short to mean anything\r\n",
        "  - remove sentences that contain terms that must be from footnotes (the author's name should be very rare in the actual text, for example)\r\n",
        "\r\n",
        "Unfortunately many of these steps can only be done ad hoc; there is no real way to know whether and what headers are in a text without examining the files individually. So the process is a bit tedious and time-consuming. Still, when we finish we will have data that is much cleaner and more useful for modeling. \r\n"
      ]
    },
    {
      "cell_type": "markdown",
      "metadata": {
        "id": "AcoDD6vbLpu9"
      },
      "source": [
        "#### 1. Baseline Cleaning"
      ]
    },
    {
      "cell_type": "markdown",
      "metadata": {
        "id": "8JLtqH5SLInh"
      },
      "source": [
        "Our first step is to develop a baseline cleaning function that can be applied to every text."
      ]
    },
    {
      "cell_type": "code",
      "metadata": {
        "id": "MkT0egnbr89k"
      },
      "source": [
        "def baseline_clean(to_correct, capitals=True, bracketed_fn=False, odd_words_dict={}):\r\n",
        "  # remove utf8 encoding characters and some punctuations\r\n",
        "  result = re.sub(r'[\\x00-\\x08\\x0b\\x0c\\x0e-\\x1f\\x7f-\\xff\\xad\\x0c6§\\\\\\£\\Â*_<>\"\"⎫•{}Γ~]', ' ', to_correct)\r\n",
        "  result = re.sub(r'[\\u2014\\u2013\\u2012-]', ' ', result)\r\n",
        "\r\n",
        "  # replace whitespace characters with actual whitespace\r\n",
        "  result = re.sub(r'\\s', ' ', result)\r\n",
        "\r\n",
        "  # replace odd quotation marks with a standard\r\n",
        "  result = re.sub(r'[‘’“”]', \"'\", result)\r\n",
        "\r\n",
        "  # replace the ﬀ, ﬃ and ﬁ with the appropriate counterparts\r\n",
        "  result = re.sub(r'ﬀ', 'ff', result)\r\n",
        "  result = re.sub(r'ﬁ', 'fi', result)\r\n",
        "  result = re.sub(r'ﬃ', 'ffi', result)\r\n",
        "\r\n",
        "  # remove or standardize some recurring common and meaninless words/phrases\r\n",
        "  result = re.sub(r'\\s*This\\s*page\\s*intentionally\\s*left\\s*blank\\s*', ' ', result)\r\n",
        "  result = re.sub(r'(?i)Aufgabe\\s+', ' ', result)\r\n",
        "  result = re.sub(r',*\\s+cf\\.', ' ', result)\r\n",
        "\r\n",
        "  # some texts have footnotes conveniently in brackets - this removes them all, \r\n",
        "  # with a safety measure for unpaired brackets, and deletes all brackets afterwards\r\n",
        "  if bracketed_fn:\r\n",
        "    result = re.sub(r'\\[.{0,300}\\]|{.{0,300}}|{.{0,300}\\]|\\[.{0,300}}', ' ', result)\r\n",
        "  result = re.sub(r'[\\[\\]{}]', ' ', result)\r\n",
        "\r\n",
        "  # unify some abbreviations\r\n",
        "  result = re.sub(r'&', 'and', result)\r\n",
        "  result = re.sub(r'\\se\\.g\\.\\s', ' eg ', result)\r\n",
        "  result = re.sub(r'\\si\\.e\\.\\s', ' ie ', result)\r\n",
        "  result = re.sub('coroll\\.', 'coroll', result)\r\n",
        "  result = re.sub('pt\\.', 'pt', result)\r\n",
        "\r\n",
        "  # remove roman numerals, first capitalized ones\r\n",
        "  result = re.sub(r'\\s((I{2,}V*X*\\.*)|(IV\\.*)|(IX\\.*)|(V\\.*)|(V+I*\\.*)|(X+L*V*I*]\\.*))\\s', ' ', result)\r\n",
        "  # then lowercase\r\n",
        "  result = re.sub(r'\\s((i{2,}v*x*\\.*)|(iv\\.*)|(ix\\.*)|(v\\.*)|(v+i*\\.*)|(x+l*v*i*\\.*))\\s', ' ', result)\r\n",
        "\r\n",
        "  # remove periods and commas flanked by numbers\r\n",
        "  result = re.sub(r'\\d\\.\\d', ' ', result)\r\n",
        "  result = re.sub(r'\\d,\\d', ' ', result)\r\n",
        "\r\n",
        "  # remove the number-letter-number pattern used for many citations\r\n",
        "  result = re.sub(r'\\d*\\w{,2}\\d', ' ', result)\r\n",
        "\r\n",
        "  # remove numerical characters\r\n",
        "  result = re.sub(r'\\d+', ' ', result)\r\n",
        "\r\n",
        "  # remove words of 2+ characters that are entirely capitalized \r\n",
        "  # (these are almost always titles, headings, or speakers in a dialogue)\r\n",
        "  # remove capital I's that follow capital words - these almost always roman numerals\r\n",
        "  # some texts do use these capitalizations meaningfully, so we make this optional\r\n",
        "  if capitals:\r\n",
        "    result = re.sub(r'[A-Z]{2,}\\s+I', ' ', result)\r\n",
        "    result = re.sub(r'[A-Z]{2,}', ' ', result)\r\n",
        "\r\n",
        "  # remove isolated colons and semicolons that result from removal of titles\r\n",
        "  result = re.sub(r'\\s+:\\s*', ' ', result)\r\n",
        "  result = re.sub(r'\\s+;\\s*', ' ', result)\r\n",
        "\r\n",
        "  # remove isolated letters (do it several times because strings of isolated letters do not get captured properly)\r\n",
        "  result = re.sub(r'\\s[^aAI\\.]\\s', ' ', result)\r\n",
        "  result = re.sub(r'\\s[^aAI\\.]\\s', ' ', result)\r\n",
        "  result = re.sub(r'\\s[^aAI\\.]\\s', ' ', result)\r\n",
        "  result = re.sub(r'\\s[^aAI\\.]\\s', ' ', result)\r\n",
        "  result = re.sub(r'\\s[^aAI\\.]\\s', ' ', result)\r\n",
        "  result = re.sub(r'\\s[^aAI\\.]\\s', ' ', result)\r\n",
        "\r\n",
        "  # remove isolated letters at the end of sentences or before commas\r\n",
        "  result = re.sub(r'\\s[^aI]\\.', '.', result)\r\n",
        "  result = re.sub(r'\\s[^aI],', ',', result)\r\n",
        "\r\n",
        "  # deal with spaces around periods and commas\r\n",
        "  result = re.sub(r'\\s+,\\s+', ', ', result)\r\n",
        "  result = re.sub(r'\\s+\\.\\s+', '. ', result)\r\n",
        "\r\n",
        "  # remove empty parantheses\r\n",
        "  result = re.sub(r'(\\(\\s*\\.*\\s*\\))|(\\(\\s*,*\\s*)\\)', ' ', result)\r\n",
        "\r\n",
        "  # reduce multiple periods, commas, or whitespaces into a single one\r\n",
        "  result = re.sub(r'\\.+', '.', result)\r\n",
        "  result = re.sub(r',+', ',', result)\r\n",
        "  result = re.sub(r'\\s+', ' ', result)\r\n",
        "\r\n",
        "  # deal with isolated problem cases discovered in the data:\r\n",
        "  for key in odd_words_dict.keys():\r\n",
        "    result = re.sub(r''+key+'', odd_words_dict[key], result)\r\n",
        "\r\n",
        "  return result"
      ],
      "execution_count": null,
      "outputs": []
    },
    {
      "cell_type": "code",
      "metadata": {
        "colab": {
          "base_uri": "https://localhost:8080/",
          "height": 153
        },
        "id": "bOIF01WGsDzv",
        "outputId": "bde15c1a-649c-4de7-f04f-f49aace5ee4d"
      },
      "source": [
        "# use this cell to run the function on the new text and see if anything looks odd\r\n",
        "baseline_clean(wittgenstein_certainty)[10000:30000]"
      ],
      "execution_count": null,
      "outputs": [
        {
          "output_type": "execute_result",
          "data": {
            "application/vnd.google.colaboratory.intrinsic+json": {
              "type": "string"
            },
            "text/plain": [
              "\"s, or what physical object means. Thus it is instruction about the use of words, and physical object is a logical concept (Like colour, quantity,. . .) And that is why no such proposition as: There are physical objects can be formulated. Yet we encounter such unsuccessful shots at every turn. But is it an adequate answer to the scepticism of the idealist, or the assurances of the realist, to say that There are physical objects is nonsense? For them after all it is not nonsense. It would, however, be an answer to say: this assertion, or its opposite is a misfiring attempt to express what can't be expressed like that. And that it does misfire can be shewn; but that isn't the end of the matter. We need to realize that what presents itself to us as the first expression of a difficulty, or of its solution, may as yet not be correctly expressed at all. Just as one who has a just censure of a picture to make will often at first offer the censure where it does not belong, and an investigation is needed in order to find the right point of attack for the critic. Knowledge in mathematics: Here one has to keep on reminding oneself of the unimportance of the 'inner process' or 'state' andY ask Why should it important What does it matter to me? What is interesting is how we use mathematical propositions. This is how calculation is done, in such circumstances a calculation is treated as absolutely reliable, as certainly correct. Upon I know that here is my hand there may follow the question How do you know? and the answer to that presupposes that ,iJcan be known in that way. So, instead of I know that here is my hand one might say Here is my hand and then add how one knows. I know where I am feeling pain I know that I feel it here is as wrong as I know that I am in pain. But I know. where you touched my arm is right. One can say He believes it, but it isn't so but not He knows it, but it isn't so. Does this stem from the difference between the mental states of belief and of knowledge? No. One may for example call mental state what is expGssed by tone of voice in speaking, by gestures etc. It would thus bepossible to speak of a mental state of conviction, and that may be the same whether it is knowledge or false belief. To think that different states must correspond to the words believe and know would be as if one believed that different people had to correspond to the word and the name Ludwig because the concepts are different,. What sort of proposition is this: We cannot have miscalculated in I It must surely be a proposition of logic. But now, is it not the same, or doesn't it come to the same, as the statement I. If you demand a rule from which it follows that there can't have been a miscalculation here, the answer is that we did not learn this through a rule, but by learning to calculate. We got to know the nature of calculating by learning to calculate. But then can't it be described how we satisfy ourselves of the reliability of a calculation? yes! Yet no rule emerges when we do so. But the most important thing is: The rule is not needed. Nothing is lacking. We do calculate according to a rule, and that is enough. This is how one calculates. Calculating is this. What we learn at school, for example. Forget this transcendent certainty, which is connected with your concept of spirit. However, out of a host of calculations certain ones might be designated as reliable once for all, others as not yet fixed. And now, is this a logical distinction?. But remember: even when the calculation is something fixed for me, this is only a decision for a practical purpose. lo. Whendoes onesay,Iknowthat. one has checked the calculation. . . .?When. What sort of proposition is: What could a mistake here be like! It would have to be a logical proposition. But it is a logic that is not used, because what it iellH us is not learned th;ough propositions. lt is a logical proposition; for it does describe the conceptual (linguistic) situation. This situation is thus not the same for a proposition like At this distance from the sun there is a planet and Here is a hand (namely my own hand). The secbnd can't be called a hypothesis. But there isn't a sharp boundary line between them. So one might grant that Moore was right, if he is interpreted like this: a proposition saying that here is a physical object may have the same logical status as one saying that here is a red patch. For it is not true that a mistake merely gets more and more improbable as we pass from the planet to my own hand. No: at some point it has ceased to be conceivable. This is already suggested by the following: if it were not so, it would also be conceivable that we should be wrong in every statement about physical objects; that any we ever make are mistaken. So is the othcsispossible, that all the things around us don't exist? Would that not be like the hypothesis of our having miscalculated in all our calculations . When one says: Perhaps this planet doesn't exist and the light phenomenon arises in some other way then after all one needs an example of an object which does exist. This doesn't exist, as for exumple does. Or are we to say that cerainfy is merely a constructed point to which some things approximate more, some less closely? No. Doubt gradually loses its sense. This language game just like that. And everything descriptive of a language game is part of logic. Now might not I I am not just surmising, that here is my hand be conceived as a proposition of grammar? Hence not temporally But in that case isn't it like this one: I know, I am not just surmising, that I am seeing red''. And isn't the consequence So there are physical objects like: there are colours If ''I know etc. is conceived as a grammatical proposition, of course the I cannot be important. And it properly means There is no such thing as a doubt in this case or The expression 'I do not know' makes no sense in this case. And of course it follows from this that I makes no sense either. 'I know is here a logical insight. Only realism can't be proved by means of it. It is wrong to say that the 'hypothesis' that thiJ is a bit of paper would be confirmed or disconfirmed by later experience, and that, in I know that this is a bit of paper, the I know either relates to such an hypothesis or to a logical determination. A meaning of a word is a kind of employment of it. For it is what we learn when the word is incorporated into our language. A. That is why there exists a correspondence between the concepts 'rule' and 'meaning'. If we imagine the facts otherwise than as they are, certain language games lose some of their importance, while others become important. And in this way there is an alteration a gradual one in the use of the vocabulary of a language. Compare the meaning of a word with the 'function' of an official. And 'different meanings' with 'different functions'. When language games change, then there is a change in concepts, and with the concepts the meanings of words change. I make assertions about reality, assertions which have different degrees of assurance. How does the degree of assurance come out? What conseauences has it We may be dealing, fGr example, with the certainty of memory, or again of perception. I may be sure of something, but still know what test might convince me of error. I am eg quite sure of the date of a bandle, but if I should find a different date in a recognized work of history, I should alter my opinion, and this would not mean I lost all faith in judging. Could we imagine a man who keeps on making mistakes where we regard a mistake as ruled out, and in fact never encounter one.g. he says he lives in such and such a place, is so and so old, comes from such and such a city, and he speaks with the same certainty (giving all the tokens of it) as I do, but he is wrong. But what is his relation to this error? What am I to suppose? The question is: what is the logician to say here?. I should like to say: '?f I am wrong about this, I have no guarantee that anything I say is true. But others won't say that about me, nor will I say it about other people. For months I have lived at address, I have read the name of the street and the number of the house countless times, have received countless letters here and given countless people the address. If I am wrong about it, the mistake is hardly less than if I were (wrongly) to believe I was writing Chinese and not German. If my friend were to imagine one day that he had been living for a long time past in such and such a place, etc. etc., I should not call this a mistake, but rather a mental disturbance, perhaps a transient one. Not every false belief of this sort is a mistake. But what is the difference between mistake and mental disturbance? Or what is the difference between my treating it as a mistake and my treating it as mental disturbance?. Can we say: a mi takedoesn't only have a cause, it also has a ground? I.e., roughly: when someone makes a mistake, this can be fitted into what he knows aright. Would this be correct: If I merely believed wrongly that there is a table here in front of me, this might still be a mistake; but if I believe wrongly that I have seen tGs table, or one like it, every day for several months past, and have regularly used it, that isn't a mistake?. Naturally, my aim must be to say what the statements one would like to make here, but cannot make significantly. Perhaps I shall do a multiplication twice to make sure, or perhaps get someone else to work it over. But shall I work it over again twenty times, or get twenty people to go over it? And is that some sort of negligence? Would the certainty really be greater for being checked twenty times? And can I give a reu onwhy it isn't?. That I am a man and not a woman can be verified, but if I were to say I was a woman, and then tried to explain the error by, saying I hadn't checked the statement, the explanation would not be accepted. The anda/tb of my statements is the test of my unde sfanding of these statements. That is to say: if I make certain false statements, it becomes uncertain whether I understand them. What counts as an adequate test of a statement belongs to logic. It belongs to the description of the language game. The a/thof certain empirical propositions belongs to our frame of reference. Moore says he that the earth existed long before his birth. And put like that it seems to be a personal statement about him, even if it is in addition a statement about the physical world. Now it is philosophically uninteresting whether Moore knows this or that, but it is interesting that, and how, it can be known. If Moore had informed us that he knew the distance separating certain stars, we might conclude from that that he had made some specialinvestigations, and we shall want to know what these were. But Moore chooses precisely a case in which we all seem to know the same as he, and without being able to say how. I believe eg that I know as much about this matter (the existence of the earth) as Moore does, and if he knows that it is as he says, then I know it too. For it isn't, either, as if he had arrived at his proposition by pursuing some line of thought which, while it is open to me, I have not in fact pursued. And what goes into someone's knowing this? Knowledge of history, say He must know what it means to say: the earth has already existed for such and such a length of time. For not any intelligent adult must know that. We see men building and demolishing houses, and are led to ask: How long has this house been here? But how does one come on the idea of askine this about a mountain, for example? And have all men the mandn; of the earth as a body, which anday come into being and pass away? Why shouldn't I think of the earth as flat, but extending: without endOinevery direction (including depth)? But in thatYcase one might still say I know that this mountain existed long before my birth. But suppose I met a man who didn't believe that?. Suppose I replaced Moore's I know by I am of the unshakeable conviction. Can't an assertoric sentence, which was capable of functioning as an hypothesis, also be used as a foundation for research and action?.e. can't it simply be isolated from doubt, though' not according to any explicit rule? It simply gets assumed as a truism, never called in question, perhaps not evenever formulated. It may be for example that all enquiry on our part is set so as to exempt certain ropositionsfrom doubt. if thev are ever formulated. ey lie apkt grom the route traveiled by enquiry. One would like to say: Everything speaks for, and nothing against the earth's having existed long before. Yet might I not believe the contrary after all? But the question is: What would the practical effects of this belief be? Perhaps someone says: That's not the point. A belief is what it is whether it has any practical effects or not. One thinks: It is the same adjustment of the human mind anyway. has a primitive meaning similar to and related to. I know ''I see wissen videre. And I knew he was in the room, but he wasn't in the room is like I saw him in the room, but he wasn't there. I know is supposed to express a ,relation, not between me and the sense of a proposition (like I believe but between me and a fact. So that andeandct is taken into my consdousness. (Here is the reason why one wants to say that nothing that goes on in the outer world is really known, but only what happens in the domain of what are called sense data.) This would give us a picture of knowing as the perception of an outer event though visual rays which project it as it is into the eye and the consciousneand. Only thin 'the question at once arises whether one can be certain of this projection. And this picture does indeed show how our imagination presents knowledge, but not what lies at the bottom of this presentation. If Moore says he knows the earth existed etc., most of us will grant him that it has existed all that time, and also believe him when he says he is convinced of it. But has he also got the right ground for his conviction For if not, then after all he doesn't know (Russell). However, we can ask: May someone have telling grounds for believing that the earth has only existed for a short time, say since his own birth? Suppose he had always been told that,would he have any good reason to doubt it? Men have believed that they could make rain; why should not a king be brought up in the belief that the world began with him? And if Moore and this king were to meet and discuss, could Moore really prove his belief to be the right one? I do not say that Moore could not convert the king to his view, but it would be a conversion of a special kind; the king would be brought to look at the world in a different way. Remember that one is sometimes convinced of the correctness of a view by its simplicity or gmmetry,.e, these arewhat induce one to go over to this point of view. One then simply says something like: That's how it must be.''. The propositions presenting what Moore 'hows' are all of such a kind that it is difficult to imagine why anyone should believe the contrary.g. the proposition andat Moore has spent his whole life in close proximity to the earth. Once more I can speak of myself here instead of speaking of Moore. What could induce me to believe the opposite? Either a memory, or having been told. Everything that I have seen or heard gives me the conviction that no man has ever been far from the ekth. Nothing in my picture of the world speaks in favour ot the opposite. . But I did not get my picture of the world by satisfying myself of its correctness: nor do I have it because I am satisfied of its correctness. No: is the inherited background against which I distinguish between true and false. The propositions describing this world picture might be Dart of a kind of mvtholoev. And their role is like that of rules of a game; and the game cand be learned purely practically, without learning any explicit rules. It might be imagined that some propositions, of the form of empirical propositions, were hardened and functioned as channels for such empirical propositions as were not hardened but fluid; and that this relation altered with time, in that fluid propositions hardened, and hard ones became fluid. The mythology may change back into a state of flux, the river bed of thoughts may shift. But I distinguish between the movement of the waters on the river bed and the shift of the bed itself; though there is not a sharp division of the one from the other. But if someone were to sav So logic too is an em irical science he would be wrong. ye; this is ryght: the same pioposition may get treated at one time as something to test by experience, at another as a rule of testing. And the bank of that river consists partly of hard rock, subject to no alteration or only to an imperceptible one, partly of sand, which now in one place now in another gets washed away, or deposited. The truths which Moore says he knows, are such as, roughly speaking, all of us know, if he knows them. Such a proposition might be eg My body has never disappeared and reappeared again after an interval. Might I not believe that once, without knowing it, perhaps in a state of unconsciousness, I was taken far away from the earth. that other people even know this, but do not mention it to me? But this would not fit into the rest of my convictions at all. Not that I could describe the system of these convictions. Yet my convictions do form a system, a structure. And now if I were to say It is my unshakeable conviction that etc. this means in the present case too that I have not consciously arrived at the conviction by following a particular line of thought, but that.it is anchored in all my questions and anwers, so anchored that I cannot touch it. I am for example also convinced that the sun is not a hole in the vault of heaven. All testing, all confirmation and disconfirmation of a hypothesis takes place already within a system. And this system is not a more or less arbitrary and doubtful point of departure for all our arguments: no, it belongs to the essence of what we call an argumint. The system is norso much the point of departure, as the element in which arguments have their life. rob. Suppose some adult had told a child that he had been on the moon. The child tells me the story, and I say it was only a joke, the man hadn't been on the moon; no one has ever been on the moon; the moon is a long way off and it is impossible to climb up there or fly there. If now the child insists, saying perhaps there is a way of getting there which I don't know, etc. what reply could I make to him? What reply could I make to the adults of a tribe who believe that people sometimes go to the moon (perhaps that is how they interpret their dreams), and who indeed grant that there are no ordinary means of climbing up to it or flying there? But a child will not ordinarily stick to such a belief and will soon be convinced by what we tell him seriously. Isn't this altogether like the way one can instruct a child to believe in a God, or that none exists, and it will accordingly be able to produce apparently telling grounds for the one or the other But is there then no objective truth Isn't it true, or false, that someone has been on the moon? If we are thinking within our system, then it is certain that no one has ever been on the moon. Not merely is nothing of the sort ever seriously reported to us by reasonable people, but our whole system of physics forbids us to believe it. For this demands answers to the questions How did he overcome the force of gravity? How could he live without an atmosphere.? and a thousand others which could not be answered. But suppose that instead of all these answers we met the reply: We don't know how one gets to the moon, but those who get there know at once that they are there; and even you can't explain everyth\""
            ]
          },
          "metadata": {
            "tags": []
          },
          "execution_count": 10
        }
      ]
    },
    {
      "cell_type": "markdown",
      "metadata": {
        "id": "6e3D7iGALiMC"
      },
      "source": [
        "#### 2. Text-by-Text Cleaning"
      ]
    },
    {
      "cell_type": "markdown",
      "metadata": {
        "id": "i_T4TRdEL2aM"
      },
      "source": [
        "In this step we will remove headers and other offensive features of specific texts. \r\n",
        "\r\n",
        "The most common problem is the presence of headings that appear at the top of each page in the original book. When converted to a string, these then get interpolated into the text, interrupting the normal flow of sentences (this happens for page numbers and citations as well, but those cases are much easier to deal with). \r\n",
        "\r\n",
        "To deal with this, we build a list of the headers for each book and then delete them from the string that represents the book. In the process, we may create some issues if the header is common, so we are careful to only delete when the loss is worth it.\r\n",
        "\r\n",
        "In some cases, of course, the texts are already clean and no extra steps are required."
      ]
    },
    {
      "cell_type": "code",
      "metadata": {
        "id": "JxmXkIWbsJVs"
      },
      "source": [
        "plato_to_rm = ['Apology', 'Sophist', 'Statesman', 'Symposium', \r\n",
        "                 'Second Alcibiades', 'Rival Lovers', 'Greater Hippias', \r\n",
        "                 'Lesser Hippias', 'Republic', 'Laws', 'Letters', 'Definitions',\r\n",
        "                 'On Virtue', 'On Justice', 'Epigrams', 'Translated b.+\\.']\r\n",
        "\r\n",
        "aristotle_to_rm = ['Aristotle', 'Book']\r\n",
        "\r\n",
        "descartes_meditations_to_rm = ['Letter of Dedication', 'Preface to the Reader', \r\n",
        "                               'Synopsis', 'First Meditation', 'Second Meditation', \r\n",
        "                               'Third Meditation', 'Fourth Meditation', 'Fifth Meditation', \r\n",
        "                               'Sixth Meditation']\r\n",
        "\r\n",
        "malebranche_search_to_rm = ['Nicolas Malebranche', 'Truth', 'Nicolas',]\r\n",
        "\r\n",
        "locke_gov_to_rm = ['Sect.']\r\n",
        "\r\n",
        "berkeley_dialogues_to_rm = ['PHIL.', 'PHILONOUS.', 'HYL.', 'HYLAS.']\r\n",
        "\r\n",
        "kant_judgement_to_rm = ['Introduction', 'Preface to the First Edition', \r\n",
        "                        'Critique of Aesthetic Judgement', 'Critique of Teleological Judgement',\r\n",
        "                        'Analytic of the Beautiful', 'Analytic of the Sublime',\r\n",
        "                        'Anaytic of Teleological Judgement', 'Dialectic of Aeshetic Judgement',\r\n",
        "                        'Critique of Teleological Judgement', 'Dialectic of Teleological Judgement',\r\n",
        "                        'Theory of the Method of Teleological Judgement',\r\n",
        "                        '‘First Introduction’ to the Critique of Judgement']\r\n",
        "\r\n",
        "kant_pure_reason_to_rm = ['Introduction', '\\s+Section\\s.+', '\\sDoctrine\\s*of\\s*Elements\\.\\s*.+',\r\n",
        "                          '\\sDoctrine\\s*of\\s*Method\\.\\s*.+']                        \r\n",
        "\r\n",
        "\r\n",
        "fichte_ethics_to_rm = ['Page']\r\n",
        "\r\n",
        "hegel_SoL_to_rm = ['Georg Wilhelm Friedrich Hegel', 'The Science of Logic']\r\n",
        "\r\n",
        "hegel_right_to_rm = ['Preface', 'Philosophy of Right', 'Philosophy ofRight', \r\n",
        "                     'Philosophy ojRight', 'Philosophy oj Right', \r\n",
        "                     'Introduction', 'Abstract Right', 'Ethical Life', 'Ethical Lift',\r\n",
        "                     'Morality']\r\n",
        "\r\n",
        "wittgenstein_tract_to_rm = ['tractatus logico-philosophicus']\r\n",
        "\r\n",
        "lewis_papers_1_to_rm = ['Introduction', 'Ontology', 'Holes', 'Anselm and Actuality', \r\n",
        "                        'Counterpart Theory and Quantified Modal Logic', \r\n",
        "                        'Counterparts of Persons and Their Bodies', 'Survival and Identity',\r\n",
        "                        'How to Define Theoretical Terms', 'Philosophy of Mind', \r\n",
        "                        'An Argument for the Identity Theory', 'Radical Interpretation',\r\n",
        "                        'Mad Pain and Partian Pain', 'Attitudes De Dicto and De Se',\r\n",
        "                        'Philosophy of Language', 'Languages and Language',\r\n",
        "                        'General Semantics', 'Scorekeeping in a Language Game',\r\n",
        "                        'Tensions', 'Truth in Fiction', 'This page intentionally left blank']\r\n",
        "\r\n",
        "lewis_papers_2_to_rm = ['end\\sp\\.']\r\n",
        "\r\n",
        "quine_quintessence_to_rm = ['(?i)\\s+Truth\\s+by\\s+Convention\\s+', '(?i)\\s+Two\\s+Dogams\\s+of\\s+Empiricism',\r\n",
        "                            '(?i)\\s+Two\\s+in\\s+Retrospect\\s+', '(?i)\\s+Carnap\\s+and\\s+Logical\\s+Truth',\r\n",
        "                            '(?i)\\s+Speaking\\s+of\\s+Objects\\s+', '(?i)\\s+Reference\\s+',\r\n",
        "                            '(?i)\\s+Translation\\s+and\\s+Meaning', '(?i)\\s+Progress\\s+on\\s+Two\\s+Fronts\\s+',\r\n",
        "                            '(?i)\\s+On\\s+What\\s+There\\s+is\\s+', '(?i)\\s+the\\s+scope\\s+and\\s+language\\s+of\\s+science\\s+',\r\n",
        "                            '(?i)\\s+on\\s+simple\\s+theories\\s+of\\s+a\\s+complex\\s+world\\s+',\r\n",
        "                            '(?i)\\s+ontic\\s+decision\\s+', '(?i)\\s+things\\s+and\\s+their\\s+place\\s+in\\s+theories\\s+',\r\n",
        "                            \"(?i)\\s+on\\s+Carnap\\s*'s\\s+views\\s+on\\s+ontology\\s+\",\r\n",
        "                            '(?i)\\s+empistemology\\s+naturalized\\s+', \r\n",
        "                            \"(?i)\\s+naturalism\\s;\\s+or,\\s+living\\s+within\\s+one\\s*'s\\s+means\\s+\",\r\n",
        "                            '(?i)\\s+the\\s+nature\\s+of\\s+natural\\s+knowledge\\s+',\r\n",
        "                            '(?i)\\s+five\\s+milestones\\s+of\\s+empiricism\\s+',\r\n",
        "                            '(?i)\\s+on\\s+mental\\s+entities\\s+', '(?i)\\s+mind\\s+and\\s+verbal\\s+dispositions\\s+',\r\n",
        "                            '(?i)\\s+confessions\\s+of\\s+a\\s+confirmed\\s+extensionalist\\s+',\r\n",
        "                            '(?i)\\s+quantifiers\\s+and\\s+propositional\\s+attitudes\\s+',\r\n",
        "                            '(?i)\\s+intensions\\s+revisited\\s+', '(?i)\\s+reference\\s+and\\s+modality\\s+',\r\n",
        "                            '(?i)\\s+three\\s+grades\\s+of\\s+modal\\s+involvement\\s+']\r\n",
        "\r\n",
        "popper_science_to_rm = ['the logic of science', 'a survey of some fundamental problems',\r\n",
        "                        'preface', 'on the problem of a theory of scientific method',\r\n",
        "                        'some structural components of a theory of experience',\r\n",
        "                        'degrees of testability', 'some observations on quantum theory',\r\n",
        "                        'corroboration, or how a theory stands up to tests']\r\n",
        "\r\n",
        "kripke_troubles_to_rm = ['Identity and Necessity', 'On Two Paradoxes of Knowledge',\r\n",
        "                          'Vacuous Names and Fictional Entities', 'Outline of a Theory of Truth',\r\n",
        "                          \"Speaker's Reference and Semantic Reference\",\r\n",
        "                          'A Puzzle about Belief', 'Nozick on Knowledge', \r\n",
        "                          \"Russell's Notion of Scope\", \"Frege's Theory of Sense and Reference\",\r\n",
        "                          'The First Person', 'Unrestricted Exportation and Some Morals for the Philosophy',\r\n",
        "                          'Presupposition and Anaphora', 'A Puzzle about Time and Thought']\r\n",
        "\r\n",
        "ponty_perception_to_rm = ['phenomenology of perception', 'preface',\r\n",
        "                          \"the 'sensation' as a unit of experience\", \r\n",
        "                          \"'association' and the 'projection of memories'\",\r\n",
        "                          \"'attention' and 'judgement'\", 'the phenomenal field', \r\n",
        "                          'experience and objective thought', 'the body as object and mechanistic psychology',\r\n",
        "                          'the experience of the body and classical psychology',\r\n",
        "                          \"the spatiality of one’s own body and motility\",\r\n",
        "                          \"the synthesis of one's own body\", 'the body in its sexual being',\r\n",
        "                          'the body as expression, and speech',\r\n",
        "                          'theory of the body is already a theory of perception',\r\n",
        "                          'sense experience', 'the thing and the natural world',\r\n",
        "                          'other selves and the human world']\r\n",
        "\r\n",
        "husserl_crisis_to_rm = ['Part\\s+', 'Idealization and the Science of Reality', \r\n",
        "                        'Denial of Scientific Philosophy', 'The Origin of Geometry',\r\n",
        "                        'Natural Science and Humanistic Science',\r\n",
        "                        'The Vienna Lecture']\r\n",
        "\r\n",
        "heidegger_b_and_t_to_rm = ['\\s+Being\\s*and\\s*Time\\s+', 'Int.', 'I.m', 'I.n']                                                  \r\n",
        "\r\n",
        "foucault_order_to_rm = ['the order of things', 'the prose of the world', '\\s+classifying\\s+',\r\n",
        "                        'exchanging', 'the limits of representation',\r\n",
        "                        'labour, life, language', 'man and his doubles']\r\n",
        "\r\n",
        "foucault_madness_to_rm = ['\\s+Page\\s']\r\n",
        "\r\n",
        "foucault_clinic_to_rm = ['\\(\\(.+\\)\\)']\r\n",
        "\r\n",
        "deleuze_difference_to_rm = ['Difference and Repetition', 'Difference in Itself',\r\n",
        "                            'Repetition for Itself', 'The Image of Thought',\r\n",
        "                            'Ideas and the Synthesis of Difference',\r\n",
        "                            'Asymmetrical Synthesis of the Sensible', 'Conclusion']\r\n",
        "\r\n",
        "marx_kapital_to_rm = ['http.+', 'Capital\\s+Vol\\..+']\r\n",
        "\r\n",
        "marx_manifesto_to_rm = ['\\s+page\\s+\\d+']\r\n",
        "\r\n",
        "keynes_employment_to_rm = ['(?i)\\s+The\\s+General\\s+Theory\\s+of\\s+Employment,*\\s+interest\\s+and\\s+money\\s+by\\s+john\\s+maynard\\s+keynes\\s+',\r\n",
        "                           'Table of Contents \\| Previous Chapter \\| Next Chapter', \r\n",
        "                           'Chapter\\s+\\d+']       \r\n",
        "\r\n",
        "do_not_remove_capitals = ['essay concerning human understanding bk 2', \r\n",
        "                          'a treatise of human nature', \r\n",
        "                          'dialogues concerning natural religion', 'three dialogues', \r\n",
        "                          'a treatise concerning the principles of human knowledge']\r\n",
        "\r\n",
        "bracketed_fn = ['critique of practical reason', 'the communist manifesto']                                          "
      ],
      "execution_count": null,
      "outputs": []
    },
    {
      "cell_type": "markdown",
      "metadata": {
        "id": "4Z6-svnmMCtz"
      },
      "source": [
        "#### 3. Tokenizing and Rendering the Texts as a Dataframe"
      ]
    },
    {
      "cell_type": "markdown",
      "metadata": {
        "id": "meZEHHSgMEBd"
      },
      "source": [
        "We now are in a position to apply these methods to each text and return a dataframe for each of them. Although we are interested primarily in the schools of thought in general, it would be convenient and more useful for future projects if we also include the specific authors and titles. \r\n",
        "\r\n",
        "To prepare for this project, we build a dictionary for each school, so that we can then iterate over a list of dictionaries to create a dataframe for each."
      ]
    },
    {
      "cell_type": "code",
      "metadata": {
        "colab": {
          "base_uri": "https://localhost:8080/"
        },
        "id": "Ct6SmxnTsM1k",
        "outputId": "ed2c9b2b-baaf-47f6-abf6-6bf598d86fc0"
      },
      "source": [
        "# prepare lists that will be zipped into a dictionary\r\n",
        "\r\n",
        "# texts \r\n",
        "all_texts\r\n",
        "\r\n",
        "# titles\r\n",
        "title_list = [\"plato - complete works\", \"aristotle - complete works\", \"aristotle - complete works\",\r\n",
        "              'second treatise on government', 'essay concerning human understanding',\r\n",
        "              'essay concerning human understanding', 'a treatise of human nature', \r\n",
        "              'dialogues concerning natural religion', 'three dialogues', \r\n",
        "              'a treatise concerning the principles of human knowledge',\r\n",
        "              'ethics', 'on the improvement of understanding', 'theodicy',\r\n",
        "              'discourse on method', 'meditations on first philosophy', 'the search after truth',\r\n",
        "              'the analysis of mind', 'the problems of philosophy', 'philosophical studies',\r\n",
        "              'philosophical investigations', 'tractatus logico-philosophicus',\r\n",
        "              \"lewis - papers\", \"lewis - papers\", 'quintessence', \r\n",
        "              'the logic of scientific discovery', 'naming and necessity', \r\n",
        "              'philosophical troubles', 'on certainty', 'the birth of the clinic',\r\n",
        "              'madness and civilization',\r\n",
        "              'the order of things', 'writing and difference', 'difference and repetition',\r\n",
        "              'anti-oedipus', 'the phenomenology of perception', \r\n",
        "              'the crisis of the european sciences and phenomenology', \r\n",
        "              'the idea of phenomenology',\r\n",
        "              'being and time', 'off the beaten track', 'critique of practical reason', \r\n",
        "              'critique of judgement', 'critique of pure reason', \r\n",
        "              'the system of ethics', 'science of logic', 'the phenomenology of spirit',\r\n",
        "              'elements of the philosophy of right', 'capital', 'the communist manifesto', \r\n",
        "              'essential works of lenin', 'the wealth of nations', \r\n",
        "              'on the principles of political economy and taxation',\r\n",
        "              'a general theory of employment, interest, and money', 'enchiridion',\r\n",
        "              'meditations']\r\n",
        "\r\n",
        "# authors\r\n",
        "author_list = ['plato', 'aristotle', 'aristotle', 'locke', 'locke', 'locke',\r\n",
        "               'hume', 'hume', 'berkeley', 'berkeley', 'spinoza', 'spinoza',\r\n",
        "               'leibniz', 'descartes', 'descartes', 'malebranche', 'russell', \r\n",
        "               'russell', 'moore', 'wittgenstein', 'wittgenstein', 'lewis', 'lewis',\r\n",
        "               'quine', 'popper', 'kripke', 'kripke', 'wittgenstein', 'foucault', 'foucault', \r\n",
        "               'foucault', 'derrida', 'deleuze', 'deleuze', 'merleau-ponty', \r\n",
        "               'husserl', 'husserl', 'heidegger', 'heidegger', 'kant', 'kant',\r\n",
        "               'kant', 'fichte', 'hegel', 'hegel', 'hegel', 'marx', 'marx', 'lenin',\r\n",
        "               'smith', 'ricardo', 'keynes', 'epictetus', 'marcus aurelius']\r\n",
        "\r\n",
        "school_list = ['plato', 'aristotle', 'aristotle', 'empiricism', 'empiricism', \r\n",
        "               'empiricism', 'empiricism', 'empiricism', 'empiricism', 'empiricism',\r\n",
        "               'rationalism', 'rationalism', 'rationalism', 'rationalism', \r\n",
        "               'rationalism', 'rationalism', 'analytic', 'analytic', 'analytic', \r\n",
        "               'analytic', 'analytic', 'analytic', 'analytic', 'analytic', 'analytic', \r\n",
        "               'analytic', 'analytic', 'analytic', 'continental', 'continental', 'continental', \r\n",
        "               'continental', 'continental', 'continental', 'phenomenology', \r\n",
        "               'phenomenology', 'phenomenology', 'phenomenology', 'phenomenology', \r\n",
        "               'german_idealism', 'german_idealism', 'german_idealism', 'german_idealism',\r\n",
        "               'german_idealism', 'german_idealism', 'german_idealism', 'communism', \r\n",
        "               'communism', 'communism', 'capitalism', 'capitalism', 'capitalism', \r\n",
        "               'stoicism', 'stoicism']               \r\n",
        "\r\n",
        "# words to remove \r\n",
        "to_rm_list = [plato_to_rm, aristotle_to_rm, aristotle_to_rm, locke_gov_to_rm, \r\n",
        "              [], [], [], [], berkeley_dialogues_to_rm, [], [], [], [], [], \r\n",
        "              descartes_meditations_to_rm, malebranche_search_to_rm, [],\r\n",
        "              [], [], [], wittgenstein_tract_to_rm, lewis_papers_1_to_rm, \r\n",
        "              lewis_papers_2_to_rm, quine_quintessence_to_rm, popper_science_to_rm,\r\n",
        "              [], kripke_troubles_to_rm, [], foucault_clinic_to_rm, foucault_madness_to_rm,\r\n",
        "              foucault_order_to_rm, [], deleuze_difference_to_rm, [],\r\n",
        "              ponty_perception_to_rm, husserl_crisis_to_rm, [], heidegger_b_and_t_to_rm,\r\n",
        "              [], [], kant_judgement_to_rm, kant_pure_reason_to_rm, fichte_ethics_to_rm, \r\n",
        "              hegel_SoL_to_rm, [], hegel_right_to_rm, marx_kapital_to_rm, \r\n",
        "              marx_manifesto_to_rm, [], [], [], keynes_employment_to_rm, [], []]\r\n",
        "\r\n",
        "# check lengths to make sure all are present\r\n",
        "len(to_rm_list), len(all_texts), len(author_list), len(title_list), len(school_list)"
      ],
      "execution_count": null,
      "outputs": [
        {
          "output_type": "execute_result",
          "data": {
            "text/plain": [
              "(54, 54, 54, 54, 54)"
            ]
          },
          "metadata": {
            "tags": []
          },
          "execution_count": 12
        }
      ]
    },
    {
      "cell_type": "code",
      "metadata": {
        "colab": {
          "base_uri": "https://localhost:8080/"
        },
        "id": "jWV3U1XIsPEe",
        "outputId": "1cdde6e9-a20f-49b2-99f6-0679b1db2ff0"
      },
      "source": [
        "# combine all these into a single list of dictionaries\r\n",
        "book_dicts = []\r\n",
        "for i in range(0, len(all_texts)):\r\n",
        "  book_dict = {}\r\n",
        "  book_dict['author'] = author_list[i].title()\r\n",
        "  book_dict['title'] = title_list[i].title()\r\n",
        "  book_dict['text'] = all_texts[i]\r\n",
        "  book_dict['school'] = school_list[i]\r\n",
        "  book_dict['words to remove'] = to_rm_list[i]\r\n",
        "  book_dict['remove capitals'] = True\r\n",
        "  book_dict['bracketed fn'] = False\r\n",
        "  book_dicts.append(book_dict)\r\n",
        "\r\n",
        "# mark the ones with bracketed footnotes \r\n",
        "for book in book_dicts:\r\n",
        "  if book['title'] in bracketed_fn:\r\n",
        "    book['bracketed fn'] = True\r\n",
        "\r\n",
        "# mark the ones with capitals we want to keep\r\n",
        "for book in book_dicts:\r\n",
        "  if book['title'] in do_not_remove_capitals:\r\n",
        "    book['remove capitals'] = False\r\n",
        "  \r\n",
        "# check length again to make sure\r\n",
        "len(book_dicts)"
      ],
      "execution_count": null,
      "outputs": [
        {
          "output_type": "execute_result",
          "data": {
            "text/plain": [
              "54"
            ]
          },
          "metadata": {
            "tags": []
          },
          "execution_count": 13
        }
      ]
    },
    {
      "cell_type": "markdown",
      "metadata": {
        "id": "Old9KJCnMSLo"
      },
      "source": [
        "With a dictionary for each text, we are prepared to clean them, build dataframes for each text, and combine them into a master dataframe for all our data. \r\n",
        "\r\n",
        "As part of that, we use a new dictionary where the keys correspond to textual oddities and the values correspond to their corrected version. This helps deal with many individual cases of strange behavior in the corpus."
      ]
    },
    {
      "cell_type": "code",
      "metadata": {
        "id": "Xe_GUeVisQ7C",
        "cellView": "form"
      },
      "source": [
        "#@title Oddities Dictionary for Cleaning\r\n",
        "# a dictionary of oddities to clean up\r\n",
        "odd_words_dict = {'\\sderstanding': 'derstanding',\r\n",
        "                  '\\sditference\\s': ' difference ',\r\n",
        "                  '\\sforthe\\s': ' for the ',\r\n",
        "                  '\\sject': 'ject',\r\n",
        "                  '\\sjects': 'jects', \r\n",
        "                  '\\sness': 'ness',\r\n",
        "                  '\\sper\\scent\\s': ' percent ',\r\n",
        "                  '\\sper\\scent\\.': ' percent.',\r\n",
        "                  '\\sper\\scent,': ' percent,',\r\n",
        "                  '\\wi\\son': 'ion',\r\n",
        "                  '\\spri\\sori': ' priori',\r\n",
        "                  '\\stences\\s': 'tences ',\r\n",
        "                  '\\sprincipleb': ' principle',\r\n",
        "                  '\\ssciousness': 'sciousness',\r\n",
        "                  '\\stion': 'tion',\r\n",
        "                  '\\spri\\s': ' pri',\r\n",
        "                  '\\scluding': 'cluding',\r\n",
        "                  '\\sdom': 'dom',\r\n",
        "                  '\\sers': 'ers',\r\n",
        "                  '\\scritiq\\s': ' critique ',\r\n",
        "                  '\\ssensati\\s': ' sensation ',\r\n",
        "                  '(?i)\\syou\\sll': \" you'll\",\r\n",
        "                  '\\sI\\sll': \" I'll\",\r\n",
        "                  '(?i)\\swe\\sll': \" we'll\",\r\n",
        "                  '(?i)he\\sll': \" he'll\",\r\n",
        "                  '(?i)who\\sll': \"who'll\",\r\n",
        "                  '(?i)\\sthere\\sll\\s': \" there'll \",\r\n",
        "                  '\\seduca\\s': ' education ',\r\n",
        "                  '\\slity\\s': 'lity ',\r\n",
        "                  '\\smultaneously\\s': 'multaneously ',\r\n",
        "                  '\\stically\\s': 'tically ',\r\n",
        "                  '\\sDa\\ssein\\s': ' Dasein ',\r\n",
        "                  '(?i)\\sthey\\sll\\s': \" they'll \",\r\n",
        "                  '(?i)\\sin\\tum\\s': ' in turn ',\r\n",
        "                  '\\scon~\\s': ' con',\r\n",
        "                  '\\sà\\s': ' a ',\r\n",
        "                  '\\sjor\\s': ' for ',\r\n",
        "                  '\\sluminating\\s': 'luminating ',\r\n",
        "                  '\\sselj\\s': ' self ',\r\n",
        "                  '\\stial\\s': 'tial ',\r\n",
        "                  '\\sversal\\s': 'versal ',\r\n",
        "                  '\\sexis\\st': ' exist',\r\n",
        "                  '\\splauded\\s': 'plauded ',\r\n",
        "                  '\\suiry\\s': 'uiry ',\r\n",
        "                  '\\svithin\\s': ' within ',\r\n",
        "                  '\\soj\\s': ' of ',\r\n",
        "                  '\\sposi\\st': ' posit',\r\n",
        "                  '\\sra\\sther\\s': ' rather ',\r\n",
        "                  '(?i)\\sthat\\sll\\s': \" that'll \",\r\n",
        "                  '(?i)\\sa\\sll\\s': ' all ',\r\n",
        "                  '\\so\\sther\\s': ' other ',\r\n",
        "                  '\\sra\\sther\\s': ' rather ',\r\n",
        "                  '\\snei\\sther\\s': ' neither ',\r\n",
        "                  '\\sei\\sther\\s': ' either ',\r\n",
        "                  '\\sfur\\sther\\s': ' further ',\r\n",
        "                  '\\sano\\sther': ' another ',\r\n",
        "                  '\\sneces\\s': ' neces',\r\n",
        "                  'u\\slar\\s': 'ular ',\r\n",
        "                  '\\sference\\s': 'ference ',\r\n",
        "                  '(?i)it\\sll\\s': \"it'll \",\r\n",
        "                  '\\stoge\\sther': ' together ',\r\n",
        "                  '\\sknowledgeb\\s': ' knowledge ',\r\n",
        "                  'r\\stain\\s': 'rtain ',\r\n",
        "                  'on\\stain\\s': 'ontain',\r\n",
        "                  '(?i)j\\sect\\s': 'ject',\r\n",
        "                  '\\sob\\sect\\s': ' object ',\r\n",
        "                  '\\sbtle\\s': 'btle ',\r\n",
        "                  '\\snition\\s': 'nition ',\r\n",
        "                  '\\sdering\\s': 'dering ', \r\n",
        "                  '\\sized\\s': 'ized ',\r\n",
        "                  '\\sther\\shand': ' other hand',\r\n",
        "                  '\\ture\\s': 'ture ',\r\n",
        "                  '\\sabso\\sl': ' absol',\r\n",
        "                  '\\stly\\s': 'tly ',\r\n",
        "                  '\\serty\\s': 'erty ',\r\n",
        "                  '\\sobj\\se': ' obj',\r\n",
        "                  '\\sffiir\\s': ' for ',\r\n",
        "                  '\\sndeed\\s': ' indeed ',\r\n",
        "                  '\\sfonn\\s': ' form ',\r\n",
        "                  '\\snally\\s': 'nally ',\r\n",
        "                  'ain\\sty\\s': 'ainty ',\r\n",
        "                  'ici\\sty\\s': 'icity ',\r\n",
        "                  '\\scog\\sni': ' cogni',\r\n",
        "                  '\\sacc\\s': ' acc',\r\n",
        "                  '\\sindi\\svid\\sual': ' individual', \r\n",
        "                  '\\sintu\\sit': ' intuit',\r\n",
        "                  'r\\sance\\s': 'rance ',\r\n",
        "                  '\\ssions\\s': 'sions ',\r\n",
        "                  '\\sances\\s': 'ances ',\r\n",
        "                  '\\sper\\sception\\s': ' perception ',\r\n",
        "                  '\\sse\\sries\\s': ' series ',\r\n",
        "                  '\\sque\\sries\\s': ' queries ',\r\n",
        "                  '\\sessary\\s': 'essary ',\r\n",
        "                  '\\sofa\\s': ' of a ',\r\n",
        "                  '\\scer\\stainty\\s': ' certainty ',\r\n",
        "                  'ec\\stivity\\s': 'ectivity ',\r\n",
        "                  '\\stivity\\s': 'tivity ',\r\n",
        "                  '\\slation\\s': 'lation ',\r\n",
        "                  '\\sir\\sr': ' irr',\r\n",
        "                  '\\ssub\\sstance\\s': ' substance ',\r\n",
        "                  'sec\\sond\\s': 'second ',\r\n",
        "                  '\\s\\.rv': '',\r\n",
        "                  '\\story\\s': 'tory ',\r\n",
        "                  '\\sture\\s': 'ture ',\r\n",
        "                  '\\sminate\\s': 'minate ',\r\n",
        "                  '\\sing\\s': 'ing ',\r\n",
        "                  '\\splicity\\s': 'plicity ',\r\n",
        "                  '\\ssimi\\slar\\s': ' similar ',\r\n",
        "                  '\\scom\\smunity\\s': ' community ',\r\n",
        "                  '\\sitselfa\\s': ' itself a ',\r\n",
        "                  '\\ssimp\\s': ' simply ',\r\n",
        "                  '\\scon\\stex': ' contex',\r\n",
        "                  '\\scon\\sseq': ' conseq',\r\n",
        "                  '\\scon\\stai': ' contai',\r\n",
        "                  '\\sofwhat\\s': ' of what ',\r\n",
        "                  '\\sui\\s': 'ui',\r\n",
        "                  '\\sofan\\s': ' of an ',\r\n",
        "                  '\\saccor\\sdance\\s': ' accordance ',\r\n",
        "                  '\\stranscen\\sdental\\s': ' transcendental ',\r\n",
        "                  '\\sap\\spearances\\s': ' appearances ',\r\n",
        "                  'e\\squences\\s': 'equences ',\r\n",
        "                  '\\sorits\\s': ' or its ',\r\n",
        "                  '\\simma\\sn': ' imman',\r\n",
        "                  '\\seq\\sua': ' equa',\r\n",
        "                  '\\simpl\\sied\\s': ' implied ',\r\n",
        "                  '\\sbuta\\s': ' but a ',\r\n",
        "                  '\\sa\\snd\\s': ' and ',\r\n",
        "                  '\\sence\\s': 'ence ',\r\n",
        "                  '\\stain\\s': 'tain ',\r\n",
        "                  '\\sunder\\sstanding\\s': ' understanding ',\r\n",
        "                  'i\\sence\\s': 'ience ',\r\n",
        "                  'r\\sence\\s': 'rence ',\r\n",
        "                  '\\stical\\s': 'tical ',\r\n",
        "                  '\\sobjectsb\\s': ' objects ',\r\n",
        "                  '\\stbe\\s': ' the ',\r\n",
        "                  '\\smul\\st': ' mult',\r\n",
        "                  '\\sgen\\seral\\s': ' general ',\r\n",
        "                  '\\suniver\\ssal\\s': ' universal ',\r\n",
        "                  '\\scon\\stent\\s': ' content ',\r\n",
        "                  '\\spar\\sticular\\s': ' particular ',\r\n",
        "                  'ver\\ssity\\s': 'versity ',\r\n",
        "                  '\\sCritiq\\s': ' Critique ',\r\n",
        "                  '\\sphilo\\ssophy\\s': ' philosophy ',\r\n",
        "                  '\\seq\\s': ' eq'}"
      ],
      "execution_count": null,
      "outputs": []
    },
    {
      "cell_type": "code",
      "metadata": {
        "colab": {
          "base_uri": "https://localhost:8080/"
        },
        "id": "G_KZCE6YsYE7",
        "outputId": "4d329418-285e-4beb-c189-93937ef49414"
      },
      "source": [
        "def from_raw_to_df(text_dict):\r\n",
        "  nlp.max_length = 9000000\r\n",
        "  text = text_dict['text']\r\n",
        "  text = remove_words(text, text_dict['words to remove'])\r\n",
        "  text = baseline_clean(text, capitals=text_dict['remove capitals'],\r\n",
        "                        bracketed_fn=text_dict['bracketed fn'],\r\n",
        "                        odd_words_dict=odd_words_dict)\r\n",
        "  text_nlp = nlp(text, disable=['ner'])\r\n",
        "  text_df = pd.DataFrame(columns=['title', 'author', 'school', 'sentence_spacy'])\r\n",
        "  text_df['sentence_spacy'] = list(text_nlp.sents)\r\n",
        "  text_df['author'] = text_dict['author']\r\n",
        "  text_df['title'] = text_dict['title']\r\n",
        "  text_df['school'] = text_dict['school']\r\n",
        "  text_df['sentence_str'] = text_df['sentence_spacy'].apply(lambda x: ''.join(list(str(x))))\r\n",
        "  return text_df\r\n",
        "\r\n",
        "df = pd.DataFrame(columns=['title', 'author', 'school', 'sentence_spacy', 'sentence_str'])\r\n",
        "for book in book_dicts:\r\n",
        "  book_df = from_raw_to_df(book)\r\n",
        "  df = df.append(book_df, ignore_index=True)\r\n",
        "\r\n",
        "len(df)"
      ],
      "execution_count": null,
      "outputs": [
        {
          "output_type": "execute_result",
          "data": {
            "text/plain": [
              "366286"
            ]
          },
          "metadata": {
            "tags": []
          },
          "execution_count": 15
        }
      ]
    },
    {
      "cell_type": "code",
      "metadata": {
        "colab": {
          "base_uri": "https://localhost:8080/",
          "height": 847
        },
        "id": "0rTa7P8KwXC6",
        "outputId": "f6dc02ec-5244-45fb-bc3e-f329c0636bb5"
      },
      "source": [
        "pd.options.display.max_colwidth = 200\r\n",
        "df.sample(10)"
      ],
      "execution_count": null,
      "outputs": [
        {
          "output_type": "execute_result",
          "data": {
            "text/html": [
              "<div>\n",
              "<style scoped>\n",
              "    .dataframe tbody tr th:only-of-type {\n",
              "        vertical-align: middle;\n",
              "    }\n",
              "\n",
              "    .dataframe tbody tr th {\n",
              "        vertical-align: top;\n",
              "    }\n",
              "\n",
              "    .dataframe thead th {\n",
              "        text-align: right;\n",
              "    }\n",
              "</style>\n",
              "<table border=\"1\" class=\"dataframe\">\n",
              "  <thead>\n",
              "    <tr style=\"text-align: right;\">\n",
              "      <th></th>\n",
              "      <th>title</th>\n",
              "      <th>author</th>\n",
              "      <th>school</th>\n",
              "      <th>sentence_spacy</th>\n",
              "      <th>sentence_str</th>\n",
              "    </tr>\n",
              "  </thead>\n",
              "  <tbody>\n",
              "    <tr>\n",
              "      <th>319448</th>\n",
              "      <td>Elements Of The Philosophy Of Right</td>\n",
              "      <td>Hegel</td>\n",
              "      <td>german_idealism</td>\n",
              "      <td>(�, thing)</td>\n",
              "      <td>� thing</td>\n",
              "    </tr>\n",
              "    <tr>\n",
              "      <th>59405</th>\n",
              "      <td>Aristotle - Complete Works</td>\n",
              "      <td>Aristotle</td>\n",
              "      <td>aristotle</td>\n",
              "      <td>(What, happens, to, men, ,, then, ,, is, just, what, happens, to, coppersmiths, ,, who, are, so, accustomed, to, the, noise, of, the, smithy, that, it, makes, no, difference, to, them, .)</td>\n",
              "      <td>What happens to men, then, is just what happens to coppersmiths, who are so accustomed to the noise of the smithy that it makes no difference to them.</td>\n",
              "    </tr>\n",
              "    <tr>\n",
              "      <th>307419</th>\n",
              "      <td>Science Of Logic</td>\n",
              "      <td>Hegel</td>\n",
              "      <td>german_idealism</td>\n",
              "      <td>(This, sublation, of, the, judgment, coincides, with, what, the, determination, of, the, copula, becomes, ,, as, we, still, have, to, consider, ;, the, sublation, of, the, determinations, of, judg...</td>\n",
              "      <td>This sublation of the judgment coincides with what the determination of the copula becomes, as we still have to consider; the sublation of the determinations of judgment and their transition into ...</td>\n",
              "    </tr>\n",
              "    <tr>\n",
              "      <th>137641</th>\n",
              "      <td>The Search After Truth</td>\n",
              "      <td>Malebranche</td>\n",
              "      <td>rationalism</td>\n",
              "      <td>(In, order, to, understand, this, ,, it, must, be, considered, that, we, are, incessantly, carried, toward, the, good, by, natural, inclinations, ,, and, that, ,, pleasure, being, the, property, b...</td>\n",
              "      <td>In order to understand this, it must be considered that we are incessantly carried toward the good by natural inclinations, and that, pleasure being the property by which we distinguish good from ...</td>\n",
              "    </tr>\n",
              "    <tr>\n",
              "      <th>99915</th>\n",
              "      <td>Aristotle - Complete Works</td>\n",
              "      <td>Aristotle</td>\n",
              "      <td>aristotle</td>\n",
              "      <td>(Metaphors, like, other, things, may, be, inappropriate, .)</td>\n",
              "      <td>Metaphors like other things may be inappropriate.</td>\n",
              "    </tr>\n",
              "    <tr>\n",
              "      <th>294126</th>\n",
              "      <td>The System Of Ethics</td>\n",
              "      <td>Fichte</td>\n",
              "      <td>german_idealism</td>\n",
              "      <td>(Our, consciousness, proceeds, from, an, immediate, consciousness, of, our, own, activity, ,, and, we, find, ourselves, to, be, passive, only, by, means, of, the, latter, .)</td>\n",
              "      <td>Our consciousness proceeds from an immediate consciousness of our own activity, and we find ourselves to be passive only by means of the latter.</td>\n",
              "    </tr>\n",
              "    <tr>\n",
              "      <th>47600</th>\n",
              "      <td>Plato - Complete Works</td>\n",
              "      <td>Plato</td>\n",
              "      <td>plato</td>\n",
              "      <td>(To, my, mind, he, would, be, acting, unjustly, ., ', ')</td>\n",
              "      <td>To my mind he would be acting unjustly.' '</td>\n",
              "    </tr>\n",
              "    <tr>\n",
              "      <th>344871</th>\n",
              "      <td>The Wealth Of Nations</td>\n",
              "      <td>Smith</td>\n",
              "      <td>capitalism</td>\n",
              "      <td>(But, they, have, nothing, to, offer, in, exchange, ,, except, the, different, productions, of, their, respective, trades, ,, and, the, butcher, is, already, provided, with, all, the, bread, and, ...</td>\n",
              "      <td>But they have nothing to offer in exchange, except the different productions of their respective trades, and the butcher is already provided with all the bread and beer which he has immediate occa...</td>\n",
              "    </tr>\n",
              "    <tr>\n",
              "      <th>348109</th>\n",
              "      <td>The Wealth Of Nations</td>\n",
              "      <td>Smith</td>\n",
              "      <td>capitalism</td>\n",
              "      <td>(A.)</td>\n",
              "      <td>A.</td>\n",
              "    </tr>\n",
              "    <tr>\n",
              "      <th>195738</th>\n",
              "      <td>Naming And Necessity</td>\n",
              "      <td>Kripke</td>\n",
              "      <td>analytic</td>\n",
              "      <td>(What, should, we, think, about, this, ?)</td>\n",
              "      <td>What should we think about this?</td>\n",
              "    </tr>\n",
              "  </tbody>\n",
              "</table>\n",
              "</div>"
            ],
            "text/plain": [
              "                                      title  ...                                                                                                                                                                                             sentence_str\n",
              "319448  Elements Of The Philosophy Of Right  ...                                                                                                                                                                                                  � thing\n",
              "59405            Aristotle - Complete Works  ...                                                   What happens to men, then, is just what happens to coppersmiths, who are so accustomed to the noise of the smithy that it makes no difference to them.\n",
              "307419                     Science Of Logic  ...  This sublation of the judgment coincides with what the determination of the copula becomes, as we still have to consider; the sublation of the determinations of judgment and their transition into ...\n",
              "137641               The Search After Truth  ...  In order to understand this, it must be considered that we are incessantly carried toward the good by natural inclinations, and that, pleasure being the property by which we distinguish good from ...\n",
              "99915            Aristotle - Complete Works  ...                                                                                                                                                        Metaphors like other things may be inappropriate.\n",
              "294126                 The System Of Ethics  ...                                                         Our consciousness proceeds from an immediate consciousness of our own activity, and we find ourselves to be passive only by means of the latter.\n",
              "47600                Plato - Complete Works  ...                                                                                                                                                               To my mind he would be acting unjustly.' '\n",
              "344871                The Wealth Of Nations  ...  But they have nothing to offer in exchange, except the different productions of their respective trades, and the butcher is already provided with all the bread and beer which he has immediate occa...\n",
              "348109                The Wealth Of Nations  ...                                                                                                                                                                                                       A.\n",
              "195738                 Naming And Necessity  ...                                                                                                                                                                         What should we think about this?\n",
              "\n",
              "[10 rows x 5 columns]"
            ]
          },
          "metadata": {
            "tags": []
          },
          "execution_count": 16
        }
      ]
    },
    {
      "cell_type": "code",
      "metadata": {
        "colab": {
          "base_uri": "https://localhost:8080/"
        },
        "id": "EFFcGwHUwTKv",
        "outputId": "0e942434-733b-4060-eb09-2e5b21aa523f"
      },
      "source": [
        "df['school'].value_counts(normalize=True)"
      ],
      "execution_count": null,
      "outputs": [
        {
          "output_type": "execute_result",
          "data": {
            "text/plain": [
              "analytic           0.166037\n",
              "aristotle          0.147778\n",
              "plato              0.131228\n",
              "german_idealism    0.130423\n",
              "continental        0.096632\n",
              "phenomenology      0.083276\n",
              "rationalism        0.071769\n",
              "empiricism         0.057043\n",
              "communism          0.056748\n",
              "capitalism         0.051842\n",
              "stoicism           0.007224\n",
              "Name: school, dtype: float64"
            ]
          },
          "metadata": {
            "tags": []
          },
          "execution_count": 17
        }
      ]
    },
    {
      "cell_type": "code",
      "metadata": {
        "colab": {
          "base_uri": "https://localhost:8080/",
          "height": 1000
        },
        "id": "SujsiUfnsfvU",
        "outputId": "78b43270-e643-470d-98a7-a861c22939c2"
      },
      "source": [
        "# use this cell to check the new author's sentences and see if anything seems amiss\r\n",
        "print(len(df[df['title']=='On Certainty']))\r\n",
        "df[df['title']=='On Certainty'].sample(20)"
      ],
      "execution_count": null,
      "outputs": [
        {
          "output_type": "stream",
          "text": [
            "2258\n"
          ],
          "name": "stdout"
        },
        {
          "output_type": "execute_result",
          "data": {
            "text/html": [
              "<div>\n",
              "<style scoped>\n",
              "    .dataframe tbody tr th:only-of-type {\n",
              "        vertical-align: middle;\n",
              "    }\n",
              "\n",
              "    .dataframe tbody tr th {\n",
              "        vertical-align: top;\n",
              "    }\n",
              "\n",
              "    .dataframe thead th {\n",
              "        text-align: right;\n",
              "    }\n",
              "</style>\n",
              "<table border=\"1\" class=\"dataframe\">\n",
              "  <thead>\n",
              "    <tr style=\"text-align: right;\">\n",
              "      <th></th>\n",
              "      <th>title</th>\n",
              "      <th>author</th>\n",
              "      <th>school</th>\n",
              "      <th>sentence_spacy</th>\n",
              "      <th>sentence_str</th>\n",
              "    </tr>\n",
              "  </thead>\n",
              "  <tbody>\n",
              "    <tr>\n",
              "      <th>208460</th>\n",
              "      <td>On Certainty</td>\n",
              "      <td>Wittgenstein</td>\n",
              "      <td>analytic</td>\n",
              "      <td>(But, how, do, they, do, that, ?)</td>\n",
              "      <td>But how do they do that?</td>\n",
              "    </tr>\n",
              "    <tr>\n",
              "      <th>209305</th>\n",
              "      <td>On Certainty</td>\n",
              "      <td>Wittgenstein</td>\n",
              "      <td>analytic</td>\n",
              "      <td>((, I, do, not, merely, surmise, ), that, that, 's, a, tree, .)</td>\n",
              "      <td>(I do not merely surmise) that that's a tree.</td>\n",
              "    </tr>\n",
              "    <tr>\n",
              "      <th>208673</th>\n",
              "      <td>On Certainty</td>\n",
              "      <td>Wittgenstein</td>\n",
              "      <td>analytic</td>\n",
              "      <td>(So, do, I, know, the, contrary, ,, like, Moore, ?, .)</td>\n",
              "      <td>So do I know the contrary, like Moore?.</td>\n",
              "    </tr>\n",
              "    <tr>\n",
              "      <th>208094</th>\n",
              "      <td>On Certainty</td>\n",
              "      <td>Wittgenstein</td>\n",
              "      <td>analytic</td>\n",
              "      <td>(And, that, it, does, misfire, can, be, shewn, ;, but, that, is, n't, the, end, of, the, matter, .)</td>\n",
              "      <td>And that it does misfire can be shewn; but that isn't the end of the matter.</td>\n",
              "    </tr>\n",
              "    <tr>\n",
              "      <th>208037</th>\n",
              "      <td>On Certainty</td>\n",
              "      <td>Wittgenstein</td>\n",
              "      <td>analytic</td>\n",
              "      <td>(But, if, this, latter, is, inadmissible, ,, then, a, mistake, in, the, assertion, must, be, logically, impossible, too, .)</td>\n",
              "      <td>But if this latter is inadmissible, then a mistake in the assertion must be logically impossible too.</td>\n",
              "    </tr>\n",
              "    <tr>\n",
              "      <th>209997</th>\n",
              "      <td>On Certainty</td>\n",
              "      <td>Wittgenstein</td>\n",
              "      <td>analytic</td>\n",
              "      <td>(Why, ,, would, it, be, untbitlkabZe, that, I, should, stay, in, the, saddle, however, much, the, facts, bucked, .)</td>\n",
              "      <td>Why, would it be untbitlkabZe that I should stay in the saddle however much the facts bucked.</td>\n",
              "    </tr>\n",
              "    <tr>\n",
              "      <th>208577</th>\n",
              "      <td>On Certainty</td>\n",
              "      <td>Wittgenstein</td>\n",
              "      <td>analytic</td>\n",
              "      <td>(I, believe, know, ., ., .)</td>\n",
              "      <td>I believe know. . .</td>\n",
              "    </tr>\n",
              "    <tr>\n",
              "      <th>209859</th>\n",
              "      <td>On Certainty</td>\n",
              "      <td>Wittgenstein</td>\n",
              "      <td>analytic</td>\n",
              "      <td>((, Eds, ., ))</td>\n",
              "      <td>(Eds.)</td>\n",
              "    </tr>\n",
              "    <tr>\n",
              "      <th>209167</th>\n",
              "      <td>On Certainty</td>\n",
              "      <td>Wittgenstein</td>\n",
              "      <td>analytic</td>\n",
              "      <td>(Is, it, more, of, a, poof, of, the, existence, of, external, things, ,)</td>\n",
              "      <td>Is it more of a poof of the existence of external things,</td>\n",
              "    </tr>\n",
              "    <tr>\n",
              "      <th>209876</th>\n",
              "      <td>On Certainty</td>\n",
              "      <td>Wittgenstein</td>\n",
              "      <td>analytic</td>\n",
              "      <td>(I, know, has, meaning, only, when, it, is, uttered, by, a, person, .)</td>\n",
              "      <td>I know has meaning only when it is uttered by a person.</td>\n",
              "    </tr>\n",
              "    <tr>\n",
              "      <th>208394</th>\n",
              "      <td>On Certainty</td>\n",
              "      <td>Wittgenstein</td>\n",
              "      <td>analytic</td>\n",
              "      <td>(But, how, does, experience)</td>\n",
              "      <td>But how does experience</td>\n",
              "    </tr>\n",
              "    <tr>\n",
              "      <th>209118</th>\n",
              "      <td>On Certainty</td>\n",
              "      <td>Wittgenstein</td>\n",
              "      <td>analytic</td>\n",
              "      <td>(.j, .)</td>\n",
              "      <td>.j.</td>\n",
              "    </tr>\n",
              "    <tr>\n",
              "      <th>208881</th>\n",
              "      <td>On Certainty</td>\n",
              "      <td>Wittgenstein</td>\n",
              "      <td>analytic</td>\n",
              "      <td>(How, do, you, know, that, ?)</td>\n",
              "      <td>How do you know that?</td>\n",
              "    </tr>\n",
              "    <tr>\n",
              "      <th>209532</th>\n",
              "      <td>On Certainty</td>\n",
              "      <td>Wittgenstein</td>\n",
              "      <td>analytic</td>\n",
              "      <td>(Yesterday, he, was)</td>\n",
              "      <td>Yesterday he was</td>\n",
              "    </tr>\n",
              "    <tr>\n",
              "      <th>209276</th>\n",
              "      <td>On Certainty</td>\n",
              "      <td>Wittgenstein</td>\n",
              "      <td>analytic</td>\n",
              "      <td>(Even, a, proposition, like, this, one, ,, that, I, am, now, living, in, England, ,, has, these, two, sides, :, it, is, not, a, mistake, but, on, the, other, hand, ,, what, do, I, know, of, Englan...</td>\n",
              "      <td>Even a proposition like this one, that I am now living in England, has these two sides: it is not a mistake but on the other hand, what do I know of England?</td>\n",
              "    </tr>\n",
              "    <tr>\n",
              "      <th>209734</th>\n",
              "      <td>On Certainty</td>\n",
              "      <td>Wittgenstein</td>\n",
              "      <td>analytic</td>\n",
              "      <td>(Do, I, know, that, I, am, now, sitting, in, a, chair, ?)</td>\n",
              "      <td>Do I know that I am now sitting in a chair?</td>\n",
              "    </tr>\n",
              "    <tr>\n",
              "      <th>208781</th>\n",
              "      <td>On Certainty</td>\n",
              "      <td>Wittgenstein</td>\n",
              "      <td>analytic</td>\n",
              "      <td>(And, if, I, had, said, something, ,, and, that, had, removed, his, doubt, ,, I, should, not, know, how, or, why, .)</td>\n",
              "      <td>And if I had said something, and that had removed his doubt, I should not know how or why.</td>\n",
              "    </tr>\n",
              "    <tr>\n",
              "      <th>208222</th>\n",
              "      <td>On Certainty</td>\n",
              "      <td>Wittgenstein</td>\n",
              "      <td>analytic</td>\n",
              "      <td>(That, is, to, say, :, if, I, make, certain, false, statements, ,, it, becomes, uncertain, whether, I, understand, them, .)</td>\n",
              "      <td>That is to say: if I make certain false statements, it becomes uncertain whether I understand them.</td>\n",
              "    </tr>\n",
              "    <tr>\n",
              "      <th>209563</th>\n",
              "      <td>On Certainty</td>\n",
              "      <td>Wittgenstein</td>\n",
              "      <td>analytic</td>\n",
              "      <td>(What, if, it, seemed, to, turn, out, that, what, until, now, has, seemed, immune, to, doubt, was, a, false, assumption, ?)</td>\n",
              "      <td>What if it seemed to turn out that what until now has seemed immune to doubt was a false assumption?</td>\n",
              "    </tr>\n",
              "    <tr>\n",
              "      <th>208457</th>\n",
              "      <td>On Certainty</td>\n",
              "      <td>Wittgenstein</td>\n",
              "      <td>analytic</td>\n",
              "      <td>(and, some, are, more, or, less, liable, to, shift, .)</td>\n",
              "      <td>and some are more or less liable to shift.</td>\n",
              "    </tr>\n",
              "  </tbody>\n",
              "</table>\n",
              "</div>"
            ],
            "text/plain": [
              "               title  ...                                                                                                                                                   sentence_str\n",
              "208460  On Certainty  ...                                                                                                                                       But how do they do that?\n",
              "209305  On Certainty  ...                                                                                                                  (I do not merely surmise) that that's a tree.\n",
              "208673  On Certainty  ...                                                                                                                        So do I know the contrary, like Moore?.\n",
              "208094  On Certainty  ...                                                                                   And that it does misfire can be shewn; but that isn't the end of the matter.\n",
              "208037  On Certainty  ...                                                          But if this latter is inadmissible, then a mistake in the assertion must be logically impossible too.\n",
              "209997  On Certainty  ...                                                                  Why, would it be untbitlkabZe that I should stay in the saddle however much the facts bucked.\n",
              "208577  On Certainty  ...                                                                                                                                            I believe know. . .\n",
              "209859  On Certainty  ...                                                                                                                                                         (Eds.)\n",
              "209167  On Certainty  ...                                                                                                      Is it more of a poof of the existence of external things,\n",
              "209876  On Certainty  ...                                                                                                        I know has meaning only when it is uttered by a person.\n",
              "208394  On Certainty  ...                                                                                                                                        But how does experience\n",
              "209118  On Certainty  ...                                                                                                                                                            .j.\n",
              "208881  On Certainty  ...                                                                                                                                          How do you know that?\n",
              "209532  On Certainty  ...                                                                                                                                               Yesterday he was\n",
              "209276  On Certainty  ...  Even a proposition like this one, that I am now living in England, has these two sides: it is not a mistake but on the other hand, what do I know of England?\n",
              "209734  On Certainty  ...                                                                                                                    Do I know that I am now sitting in a chair?\n",
              "208781  On Certainty  ...                                                                     And if I had said something, and that had removed his doubt, I should not know how or why.\n",
              "208222  On Certainty  ...                                                            That is to say: if I make certain false statements, it becomes uncertain whether I understand them.\n",
              "209563  On Certainty  ...                                                           What if it seemed to turn out that what until now has seemed immune to doubt was a false assumption?\n",
              "208457  On Certainty  ...                                                                                                                     and some are more or less liable to shift.\n",
              "\n",
              "[20 rows x 5 columns]"
            ]
          },
          "metadata": {
            "tags": []
          },
          "execution_count": 18
        }
      ]
    },
    {
      "cell_type": "markdown",
      "metadata": {
        "id": "xsIOtvZsMkdx"
      },
      "source": [
        "### Cleaning the Dataframe "
      ]
    },
    {
      "cell_type": "markdown",
      "metadata": {
        "id": "zuTIcCizMweb"
      },
      "source": [
        "But before the fun stuff, to ensure that we get good results, we need to clean the dataframe. This will take a few steps:\r\n",
        "1. Determine a threshold length and cut the (so-called) sentences that are shorter than that length (this will already eliminate meaningless duplicates like punctuations)\r\n",
        "2. Check for words that indicate footnotes (words like 'edition' or 'ibid'); we can then cut these sentences from the data\r\n",
        "3. Check for duplicates; there should be few if any duplicates in the dataframe for each school\r\n",
        "4. Check for words that indicate other languages so that we can eliminate quotations, citations, or other non-English sentences"
      ]
    },
    {
      "cell_type": "markdown",
      "metadata": {
        "id": "WI3KwHHVM8ck"
      },
      "source": [
        "#### 1. Deal with Short Sentences"
      ]
    },
    {
      "cell_type": "code",
      "metadata": {
        "colab": {
          "base_uri": "https://localhost:8080/",
          "height": 213
        },
        "id": "LLkVXKfIwcup",
        "outputId": "d1c02dac-2b06-45f6-cbc6-f0348d460c2b"
      },
      "source": [
        "df['sentence_length'] = df['sentence_str'].map(lambda x: len(x))\r\n",
        "num_of_short_entries = len(df[df['sentence_length'] < 20])\r\n",
        "print(f\"there are {num_of_short_entries} so-called sentences with fewer than 20 characters\")\r\n",
        "df[df['sentence_length'] < 20].sample(5)"
      ],
      "execution_count": null,
      "outputs": [
        {
          "output_type": "stream",
          "text": [
            "there are 30348 so-called sentences with fewer than 20 characters\n"
          ],
          "name": "stdout"
        },
        {
          "output_type": "execute_result",
          "data": {
            "text/html": [
              "<div>\n",
              "<style scoped>\n",
              "    .dataframe tbody tr th:only-of-type {\n",
              "        vertical-align: middle;\n",
              "    }\n",
              "\n",
              "    .dataframe tbody tr th {\n",
              "        vertical-align: top;\n",
              "    }\n",
              "\n",
              "    .dataframe thead th {\n",
              "        text-align: right;\n",
              "    }\n",
              "</style>\n",
              "<table border=\"1\" class=\"dataframe\">\n",
              "  <thead>\n",
              "    <tr style=\"text-align: right;\">\n",
              "      <th></th>\n",
              "      <th>title</th>\n",
              "      <th>author</th>\n",
              "      <th>school</th>\n",
              "      <th>sentence_spacy</th>\n",
              "      <th>sentence_str</th>\n",
              "      <th>sentence_length</th>\n",
              "    </tr>\n",
              "  </thead>\n",
              "  <tbody>\n",
              "    <tr>\n",
              "      <th>175740</th>\n",
              "      <td>Lewis - Papers</td>\n",
              "      <td>Lewis</td>\n",
              "      <td>analytic</td>\n",
              "      <td>(Hintikka, ,, .)</td>\n",
              "      <td>Hintikka,.</td>\n",
              "      <td>10</td>\n",
              "    </tr>\n",
              "    <tr>\n",
              "      <th>284738</th>\n",
              "      <td>Critique Of Pure Reason</td>\n",
              "      <td>Kant</td>\n",
              "      <td>german_idealism</td>\n",
              "      <td>(I)</td>\n",
              "      <td>I</td>\n",
              "      <td>1</td>\n",
              "    </tr>\n",
              "    <tr>\n",
              "      <th>205207</th>\n",
              "      <td>Philosophical Troubles</td>\n",
              "      <td>Kripke</td>\n",
              "      <td>analytic</td>\n",
              "      <td>(Chicago, :)</td>\n",
              "      <td>Chicago:</td>\n",
              "      <td>8</td>\n",
              "    </tr>\n",
              "    <tr>\n",
              "      <th>135520</th>\n",
              "      <td>The Search After Truth</td>\n",
              "      <td>Malebranche</td>\n",
              "      <td>rationalism</td>\n",
              "      <td>(The, Search, after)</td>\n",
              "      <td>The Search after</td>\n",
              "      <td>16</td>\n",
              "    </tr>\n",
              "    <tr>\n",
              "      <th>16816</th>\n",
              "      <td>Plato - Complete Works</td>\n",
              "      <td>Plato</td>\n",
              "      <td>plato</td>\n",
              "      <td>(In, what, respect, ?)</td>\n",
              "      <td>In what respect?</td>\n",
              "      <td>16</td>\n",
              "    </tr>\n",
              "  </tbody>\n",
              "</table>\n",
              "</div>"
            ],
            "text/plain": [
              "                          title       author  ...      sentence_str sentence_length\n",
              "175740           Lewis - Papers        Lewis  ...        Hintikka,.              10\n",
              "284738  Critique Of Pure Reason         Kant  ...                 I               1\n",
              "205207   Philosophical Troubles       Kripke  ...          Chicago:               8\n",
              "135520   The Search After Truth  Malebranche  ...  The Search after              16\n",
              "16816    Plato - Complete Works        Plato  ...  In what respect?              16\n",
              "\n",
              "[5 rows x 6 columns]"
            ]
          },
          "metadata": {
            "tags": []
          },
          "execution_count": 19
        }
      ]
    },
    {
      "cell_type": "code",
      "metadata": {
        "colab": {
          "base_uri": "https://localhost:8080/"
        },
        "id": "2FOolcqOwcgz",
        "outputId": "f3cc09de-9b10-418c-958b-3ea6538e78fd"
      },
      "source": [
        "df = df.drop(df[df['sentence_length'] < 20].index)\r\n",
        "len(df)"
      ],
      "execution_count": null,
      "outputs": [
        {
          "output_type": "execute_result",
          "data": {
            "text/plain": [
              "335938"
            ]
          },
          "metadata": {
            "tags": []
          },
          "execution_count": 20
        }
      ]
    },
    {
      "cell_type": "markdown",
      "metadata": {
        "id": "KaxL3byaM-RA"
      },
      "source": [
        "#### 2. Look at Words that Indicate Footnotes"
      ]
    },
    {
      "cell_type": "code",
      "metadata": {
        "colab": {
          "base_uri": "https://localhost:8080/"
        },
        "id": "SRM_W5p3wbkE",
        "outputId": "7866a0b9-e9a1-42bb-f6e1-9da3769bacd1"
      },
      "source": [
        "fn_words = ['ch\\.', 'bk', 'sect\\.', 'div\\.', 'cf', 'ibid', 'prop\\.', 'Q\\.E\\.D\\.',\r\n",
        "            'pt\\.', 'coroll\\.', 'cf\\.']\r\n",
        "\r\n",
        "df['sentence_lowered'] = df['sentence_str'].map(lambda x: x.lower())\r\n",
        "\r\n",
        "fn_df = pd.DataFrame()\r\n",
        "for word in fn_words:\r\n",
        "  found_word = df[df['sentence_lowered'].str.contains('\\s' + word.lower())].copy()\r\n",
        "  found_word['word'] = word\r\n",
        "  fn_df = fn_df.append(found_word)\r\n",
        "\r\n",
        "len(fn_df)"
      ],
      "execution_count": null,
      "outputs": [
        {
          "output_type": "execute_result",
          "data": {
            "text/plain": [
              "705"
            ]
          },
          "metadata": {
            "tags": []
          },
          "execution_count": 21
        }
      ]
    },
    {
      "cell_type": "code",
      "metadata": {
        "colab": {
          "base_uri": "https://localhost:8080/",
          "height": 564
        },
        "id": "PyjxVFLmwirp",
        "outputId": "42a9d546-eb71-400e-f2ab-53db53ed566d"
      },
      "source": [
        "fn_df.sample(5)"
      ],
      "execution_count": null,
      "outputs": [
        {
          "output_type": "execute_result",
          "data": {
            "text/html": [
              "<div>\n",
              "<style scoped>\n",
              "    .dataframe tbody tr th:only-of-type {\n",
              "        vertical-align: middle;\n",
              "    }\n",
              "\n",
              "    .dataframe tbody tr th {\n",
              "        vertical-align: top;\n",
              "    }\n",
              "\n",
              "    .dataframe thead th {\n",
              "        text-align: right;\n",
              "    }\n",
              "</style>\n",
              "<table border=\"1\" class=\"dataframe\">\n",
              "  <thead>\n",
              "    <tr style=\"text-align: right;\">\n",
              "      <th></th>\n",
              "      <th>title</th>\n",
              "      <th>author</th>\n",
              "      <th>school</th>\n",
              "      <th>sentence_spacy</th>\n",
              "      <th>sentence_str</th>\n",
              "      <th>sentence_length</th>\n",
              "      <th>sentence_lowered</th>\n",
              "      <th>word</th>\n",
              "    </tr>\n",
              "  </thead>\n",
              "  <tbody>\n",
              "    <tr>\n",
              "      <th>146599</th>\n",
              "      <td>The Search After Truth</td>\n",
              "      <td>Malebranche</td>\n",
              "      <td>rationalism</td>\n",
              "      <td>(Con, (, of, St., Aug., bk, .)</td>\n",
              "      <td>Con( of St. Aug. bk.</td>\n",
              "      <td>20</td>\n",
              "      <td>con( of st. aug. bk.</td>\n",
              "      <td>bk</td>\n",
              "    </tr>\n",
              "    <tr>\n",
              "      <th>313875</th>\n",
              "      <td>The Phenomenology Of Spirit</td>\n",
              "      <td>Hegel</td>\n",
              "      <td>german_idealism</td>\n",
              "      <td>(It, takes, up, their, CfJntent, simply, as, it, is, ,, without, concerning, itself, ,, as, we, did, ,, with, the, particularity, and, contingency, inherent, in, its, reality, ;, it, is, concerned...</td>\n",
              "      <td>It takes up their CfJntent simply as it is, without concerning itself, as we did, with the particularity and contingency inherent in its reality; it is concerned with the commandment simply as com...</td>\n",
              "      <td>304</td>\n",
              "      <td>it takes up their cfjntent simply as it is, without concerning itself, as we did, with the particularity and contingency inherent in its reality; it is concerned with the commandment simply as com...</td>\n",
              "      <td>cf</td>\n",
              "    </tr>\n",
              "    <tr>\n",
              "      <th>25219</th>\n",
              "      <td>Plato - Complete Works</td>\n",
              "      <td>Plato</td>\n",
              "      <td>plato</td>\n",
              "      <td>(This, is, what, I, think, it, is, :, that, one, ought, either, to, be, a., Cf, .)</td>\n",
              "      <td>This is what I think it is: that one ought either to be a. Cf.</td>\n",
              "      <td>62</td>\n",
              "      <td>this is what i think it is: that one ought either to be a. cf.</td>\n",
              "      <td>cf</td>\n",
              "    </tr>\n",
              "    <tr>\n",
              "      <th>166974</th>\n",
              "      <td>Lewis - Papers</td>\n",
              "      <td>Lewis</td>\n",
              "      <td>analytic</td>\n",
              "      <td>(The, translation, of, remains, we, need, only, add, two, new, clauses, to, the, recursive, definition, of, Cf, .)</td>\n",
              "      <td>The translation of remains we need only add two new clauses to the recursive definition of Cf.</td>\n",
              "      <td>94</td>\n",
              "      <td>the translation of remains we need only add two new clauses to the recursive definition of cf.</td>\n",
              "      <td>cf\\.</td>\n",
              "    </tr>\n",
              "    <tr>\n",
              "      <th>123421</th>\n",
              "      <td>Ethics</td>\n",
              "      <td>Spinoza</td>\n",
              "      <td>rationalism</td>\n",
              "      <td>(xv, ., ), ,, therefore, (, by, Prop, .)</td>\n",
              "      <td>xv.), therefore (by Prop.</td>\n",
              "      <td>25</td>\n",
              "      <td>xv.), therefore (by prop.</td>\n",
              "      <td>prop\\.</td>\n",
              "    </tr>\n",
              "  </tbody>\n",
              "</table>\n",
              "</div>"
            ],
            "text/plain": [
              "                              title  ...    word\n",
              "146599       The Search After Truth  ...      bk\n",
              "313875  The Phenomenology Of Spirit  ...      cf\n",
              "25219        Plato - Complete Works  ...      cf\n",
              "166974               Lewis - Papers  ...    cf\\.\n",
              "123421                       Ethics  ...  prop\\.\n",
              "\n",
              "[5 rows x 8 columns]"
            ]
          },
          "metadata": {
            "tags": []
          },
          "execution_count": 22
        }
      ]
    },
    {
      "cell_type": "markdown",
      "metadata": {
        "id": "MqiX6cbVNDPw"
      },
      "source": [
        "Unfortunately, there was too much noise and too many differences in how the sentences were tokenized, so this kind of cleaning did not prove useful. As can be seen above, many of the relevant terms were used in meaningful sentences attributable to the correct authors. \r\n",
        "\r\n",
        "We were able to tell that 'bk.' was almost never used productively, so we cut that. For others, this was instructive in helping us clean the text and making revisions to the baseline cleaning function."
      ]
    },
    {
      "cell_type": "code",
      "metadata": {
        "colab": {
          "base_uri": "https://localhost:8080/"
        },
        "id": "y2NY8j7Ewj1Q",
        "outputId": "5b283df6-f4a2-4658-d535-5d8ee93947a7"
      },
      "source": [
        "df = df.drop(df[df['sentence_lowered'].str.contains('\\s+bk'.lower())].index)\r\n",
        "\r\n",
        "len(df)"
      ],
      "execution_count": null,
      "outputs": [
        {
          "output_type": "execute_result",
          "data": {
            "text/plain": [
              "335916"
            ]
          },
          "metadata": {
            "tags": []
          },
          "execution_count": 23
        }
      ]
    },
    {
      "cell_type": "markdown",
      "metadata": {
        "id": "MEqfL_K_NE7C"
      },
      "source": [
        "#### 3. Look at cases of Self-Mention by Authors"
      ]
    },
    {
      "cell_type": "code",
      "metadata": {
        "colab": {
          "base_uri": "https://localhost:8080/"
        },
        "id": "S7fhKsiFwj8K",
        "outputId": "bfebbc14-7327-4028-f2f7-085ef79b4c86"
      },
      "source": [
        "self_mention_df = pd.DataFrame()\r\n",
        "for author in df['author'].unique():\r\n",
        "  self_mention_slice = df[(df['author'] == author) & \r\n",
        "                          (df['sentence_lowered'].str.contains('\\s'+author.lower()))].copy()\r\n",
        "  self_mention_df = self_mention_df.append(self_mention_slice)\r\n",
        "\r\n",
        "len(self_mention_df)"
      ],
      "execution_count": null,
      "outputs": [
        {
          "output_type": "execute_result",
          "data": {
            "text/plain": [
              "853"
            ]
          },
          "metadata": {
            "tags": []
          },
          "execution_count": 24
        }
      ]
    },
    {
      "cell_type": "code",
      "metadata": {
        "colab": {
          "base_uri": "https://localhost:8080/",
          "height": 1000
        },
        "id": "0GFzGEz_wkFt",
        "outputId": "5a551abe-bf94-4850-e9df-01174fea0dcd"
      },
      "source": [
        "self_mention_df.sample(5)"
      ],
      "execution_count": null,
      "outputs": [
        {
          "output_type": "execute_result",
          "data": {
            "text/html": [
              "<div>\n",
              "<style scoped>\n",
              "    .dataframe tbody tr th:only-of-type {\n",
              "        vertical-align: middle;\n",
              "    }\n",
              "\n",
              "    .dataframe tbody tr th {\n",
              "        vertical-align: top;\n",
              "    }\n",
              "\n",
              "    .dataframe thead th {\n",
              "        text-align: right;\n",
              "    }\n",
              "</style>\n",
              "<table border=\"1\" class=\"dataframe\">\n",
              "  <thead>\n",
              "    <tr style=\"text-align: right;\">\n",
              "      <th></th>\n",
              "      <th>title</th>\n",
              "      <th>author</th>\n",
              "      <th>school</th>\n",
              "      <th>sentence_spacy</th>\n",
              "      <th>sentence_str</th>\n",
              "      <th>sentence_length</th>\n",
              "      <th>sentence_lowered</th>\n",
              "    </tr>\n",
              "  </thead>\n",
              "  <tbody>\n",
              "    <tr>\n",
              "      <th>284725</th>\n",
              "      <td>Critique Of Pure Reason</td>\n",
              "      <td>Kant</td>\n",
              "      <td>german_idealism</td>\n",
              "      <td>(The, following, version, from, the, first, edition, also, includes, the, notes, Kant, made, in, his, own, copy, of, that, edition, .)</td>\n",
              "      <td>The following version from the first edition also includes the notes Kant made in his own copy of that edition.</td>\n",
              "      <td>111</td>\n",
              "      <td>the following version from the first edition also includes the notes kant made in his own copy of that edition.</td>\n",
              "    </tr>\n",
              "    <tr>\n",
              "      <th>296351</th>\n",
              "      <td>The System Of Ethics</td>\n",
              "      <td>Fichte</td>\n",
              "      <td>german_idealism</td>\n",
              "      <td>(In, the, draft, of, a, letter, to, Reinhold, of, September, ,, Fichte, asserts, that, he, has, explicitly, retracted, the, preceding, speculations, on, freedom, and, predestination, ,, first, in,...</td>\n",
              "      <td>In the draft of a letter to Reinhold of September, Fichte asserts that he has explicitly retracted the preceding speculations on freedom and predestination, first in his lectures at Jena, and then...</td>\n",
              "      <td>228</td>\n",
              "      <td>in the draft of a letter to reinhold of september, fichte asserts that he has explicitly retracted the preceding speculations on freedom and predestination, first in his lectures at jena, and then...</td>\n",
              "    </tr>\n",
              "    <tr>\n",
              "      <th>276740</th>\n",
              "      <td>Critique Of Practical Reason</td>\n",
              "      <td>Kant</td>\n",
              "      <td>german_idealism</td>\n",
              "      <td>(An, appropriate, alternative, rendering, for, this, expression, would, be, ', infringes, ', ;, ', infringes, upon, ,, ', on, the, other, hand, ,, is, slightly, weaker, than, what, Kant, has, in, ...</td>\n",
              "      <td>An appropriate alternative rendering for this expression would be 'infringes'; 'infringes upon,' on the other hand, is slightly weaker than what Kant has in mind, as is most evident in contexts in...</td>\n",
              "      <td>347</td>\n",
              "      <td>an appropriate alternative rendering for this expression would be 'infringes'; 'infringes upon,' on the other hand, is slightly weaker than what kant has in mind, as is most evident in contexts in...</td>\n",
              "    </tr>\n",
              "    <tr>\n",
              "      <th>321244</th>\n",
              "      <td>Elements Of The Philosophy Of Right</td>\n",
              "      <td>Hegel</td>\n",
              "      <td>german_idealism</td>\n",
              "      <td>(I, which, likens, man, ,, in, contrast, to, the, gods, ,, to, an, evanescent, phenomenon, borne, upwards, by, ,, then, sinking, beneath, ,, the, waves, ,, is, Dot, found, in, Hotho, 's, transcrip...</td>\n",
              "      <td>I which likens man, in contrast to the gods, to an evanescent phenomenon borne upwards by, then sinking beneath, the waves, is Dot found in Hotho's transcription of Hegel's lectures, from which Ga...</td>\n",
              "      <td>227</td>\n",
              "      <td>i which likens man, in contrast to the gods, to an evanescent phenomenon borne upwards by, then sinking beneath, the waves, is dot found in hotho's transcription of hegel's lectures, from which ga...</td>\n",
              "    </tr>\n",
              "    <tr>\n",
              "      <th>46654</th>\n",
              "      <td>Plato - Complete Works</td>\n",
              "      <td>Plato</td>\n",
              "      <td>plato</td>\n",
              "      <td>(Plato, 's, influence, can, be, felt, at, one, point, only, :, when, Socrates, argues, ,, apparently, needlessly, ,, that, since, people, are, unwillingly, unjust, their, unjust, conduct, must, al...</td>\n",
              "      <td>Plato's influence can be felt at one point only: when Socrates argues, apparently needlessly, that since people are unwillingly unjust their unjust conduct must also be unwilling, the author is in...</td>\n",
              "      <td>280</td>\n",
              "      <td>plato's influence can be felt at one point only: when socrates argues, apparently needlessly, that since people are unwillingly unjust their unjust conduct must also be unwilling, the author is in...</td>\n",
              "    </tr>\n",
              "  </tbody>\n",
              "</table>\n",
              "</div>"
            ],
            "text/plain": [
              "                                      title  ...                                                                                                                                                                                         sentence_lowered\n",
              "284725              Critique Of Pure Reason  ...                                                                                          the following version from the first edition also includes the notes kant made in his own copy of that edition.\n",
              "296351                 The System Of Ethics  ...  in the draft of a letter to reinhold of september, fichte asserts that he has explicitly retracted the preceding speculations on freedom and predestination, first in his lectures at jena, and then...\n",
              "276740         Critique Of Practical Reason  ...  an appropriate alternative rendering for this expression would be 'infringes'; 'infringes upon,' on the other hand, is slightly weaker than what kant has in mind, as is most evident in contexts in...\n",
              "321244  Elements Of The Philosophy Of Right  ...  i which likens man, in contrast to the gods, to an evanescent phenomenon borne upwards by, then sinking beneath, the waves, is dot found in hotho's transcription of hegel's lectures, from which ga...\n",
              "46654                Plato - Complete Works  ...  plato's influence can be felt at one point only: when socrates argues, apparently needlessly, that since people are unwillingly unjust their unjust conduct must also be unwilling, the author is in...\n",
              "\n",
              "[5 rows x 7 columns]"
            ]
          },
          "metadata": {
            "tags": []
          },
          "execution_count": 25
        }
      ]
    },
    {
      "cell_type": "code",
      "metadata": {
        "colab": {
          "base_uri": "https://localhost:8080/"
        },
        "id": "9vxUnQkTwkNo",
        "outputId": "639808ae-07e9-4916-b907-81a55b575e43"
      },
      "source": [
        "for author in df['author'].unique():\r\n",
        "  df = df.drop(df[(df['author'] == author) & \r\n",
        "                  (df['sentence_lowered'].str.contains('\\s'+author.lower()))].index)\r\n",
        "\r\n",
        "len(df)"
      ],
      "execution_count": null,
      "outputs": [
        {
          "output_type": "execute_result",
          "data": {
            "text/plain": [
              "335063"
            ]
          },
          "metadata": {
            "tags": []
          },
          "execution_count": 26
        }
      ]
    },
    {
      "cell_type": "markdown",
      "metadata": {
        "id": "uMxaZemLNKeH"
      },
      "source": [
        "#### 4. Deal with Duplicates"
      ]
    },
    {
      "cell_type": "code",
      "metadata": {
        "colab": {
          "base_uri": "https://localhost:8080/"
        },
        "id": "QzOcjqfYwkU4",
        "outputId": "5ce7da45-7885-441a-f603-e44ea6fc8c2f"
      },
      "source": [
        "# find the total number of duplicates\r\n",
        "len(df['sentence_str'])-len(df['sentence_str'].drop_duplicates())"
      ],
      "execution_count": null,
      "outputs": [
        {
          "output_type": "execute_result",
          "data": {
            "text/plain": [
              "4697"
            ]
          },
          "metadata": {
            "tags": []
          },
          "execution_count": 27
        }
      ]
    },
    {
      "cell_type": "code",
      "metadata": {
        "colab": {
          "base_uri": "https://localhost:8080/"
        },
        "id": "AtY8ZrQawvZC",
        "outputId": "b78e6f86-164b-4649-b8bc-b02c1341654d"
      },
      "source": [
        "# get the number of duplicates in each school\r\n",
        "for school in df['school'].unique():\r\n",
        "  print(school)\r\n",
        "  print(len(df.loc[df['school'] == school]['sentence_str']) - \r\n",
        "        len(df.loc[df['school'] == school]['sentence_str'].drop_duplicates()))"
      ],
      "execution_count": null,
      "outputs": [
        {
          "output_type": "stream",
          "text": [
            "plato\n",
            "291\n",
            "aristotle\n",
            "3351\n",
            "empiricism\n",
            "14\n",
            "rationalism\n",
            "39\n",
            "analytic\n",
            "295\n",
            "continental\n",
            "97\n",
            "phenomenology\n",
            "87\n",
            "german_idealism\n",
            "287\n",
            "communism\n",
            "84\n",
            "capitalism\n",
            "92\n",
            "stoicism\n",
            "0\n"
          ],
          "name": "stdout"
        }
      ]
    },
    {
      "cell_type": "code",
      "metadata": {
        "colab": {
          "base_uri": "https://localhost:8080/",
          "height": 481
        },
        "id": "juwoWPstwvgf",
        "outputId": "89e2e29c-13a6-4c18-872c-b95e274219d9"
      },
      "source": [
        "doubles_df = pd.concat(g for _, g in df.groupby(\"sentence_str\") if len(g) > 1)\r\n",
        "doubles_df.sample(5)"
      ],
      "execution_count": null,
      "outputs": [
        {
          "output_type": "execute_result",
          "data": {
            "text/html": [
              "<div>\n",
              "<style scoped>\n",
              "    .dataframe tbody tr th:only-of-type {\n",
              "        vertical-align: middle;\n",
              "    }\n",
              "\n",
              "    .dataframe tbody tr th {\n",
              "        vertical-align: top;\n",
              "    }\n",
              "\n",
              "    .dataframe thead th {\n",
              "        text-align: right;\n",
              "    }\n",
              "</style>\n",
              "<table border=\"1\" class=\"dataframe\">\n",
              "  <thead>\n",
              "    <tr style=\"text-align: right;\">\n",
              "      <th></th>\n",
              "      <th>title</th>\n",
              "      <th>author</th>\n",
              "      <th>school</th>\n",
              "      <th>sentence_spacy</th>\n",
              "      <th>sentence_str</th>\n",
              "      <th>sentence_length</th>\n",
              "      <th>sentence_lowered</th>\n",
              "    </tr>\n",
              "  </thead>\n",
              "  <tbody>\n",
              "    <tr>\n",
              "      <th>14074</th>\n",
              "      <td>Plato - Complete Works</td>\n",
              "      <td>Plato</td>\n",
              "      <td>plato</td>\n",
              "      <td>(That, they, become, his, own, ,, ')</td>\n",
              "      <td>That they become his own,'</td>\n",
              "      <td>26</td>\n",
              "      <td>that they become his own,'</td>\n",
              "    </tr>\n",
              "    <tr>\n",
              "      <th>66204</th>\n",
              "      <td>Aristotle - Complete Works</td>\n",
              "      <td>Aristotle</td>\n",
              "      <td>aristotle</td>\n",
              "      <td>(The, fourth, class, of, alterations, accounts, for, the, majority, of, changes, made, by, the, reviser, .)</td>\n",
              "      <td>The fourth class of alterations accounts for the majority of changes made by the reviser.</td>\n",
              "      <td>89</td>\n",
              "      <td>the fourth class of alterations accounts for the majority of changes made by the reviser.</td>\n",
              "    </tr>\n",
              "    <tr>\n",
              "      <th>278610</th>\n",
              "      <td>Critique Of Practical Reason</td>\n",
              "      <td>Kant</td>\n",
              "      <td>german_idealism</td>\n",
              "      <td>(the, Metaphysics, of, Morals, ,)</td>\n",
              "      <td>the Metaphysics of Morals,</td>\n",
              "      <td>26</td>\n",
              "      <td>the metaphysics of morals,</td>\n",
              "    </tr>\n",
              "    <tr>\n",
              "      <th>94198</th>\n",
              "      <td>Aristotle - Complete Works</td>\n",
              "      <td>Aristotle</td>\n",
              "      <td>aristotle</td>\n",
              "      <td>(Ackrill, have, been, substituted, for, those, of, .)</td>\n",
              "      <td>Ackrill have been substituted for those of.</td>\n",
              "      <td>43</td>\n",
              "      <td>ackrill have been substituted for those of.</td>\n",
              "    </tr>\n",
              "    <tr>\n",
              "      <th>51180</th>\n",
              "      <td>Aristotle - Complete Works</td>\n",
              "      <td>Aristotle</td>\n",
              "      <td>aristotle</td>\n",
              "      <td>(For, the, most, part, ,, is, terse, ,, compact, ,, abrupt, ,, his, arguments, condensed, ,, his, thought, dense, .)</td>\n",
              "      <td>For the most part, is terse, compact, abrupt, his arguments condensed, his thought dense.</td>\n",
              "      <td>89</td>\n",
              "      <td>for the most part, is terse, compact, abrupt, his arguments condensed, his thought dense.</td>\n",
              "    </tr>\n",
              "  </tbody>\n",
              "</table>\n",
              "</div>"
            ],
            "text/plain": [
              "                               title  ...                                                                           sentence_lowered\n",
              "14074         Plato - Complete Works  ...                                                                 that they become his own,'\n",
              "66204     Aristotle - Complete Works  ...  the fourth class of alterations accounts for the majority of changes made by the reviser.\n",
              "278610  Critique Of Practical Reason  ...                                                                 the metaphysics of morals,\n",
              "94198     Aristotle - Complete Works  ...                                                ackrill have been substituted for those of.\n",
              "51180     Aristotle - Complete Works  ...  for the most part, is terse, compact, abrupt, his arguments condensed, his thought dense.\n",
              "\n",
              "[5 rows x 7 columns]"
            ]
          },
          "metadata": {
            "tags": []
          },
          "execution_count": 29
        }
      ]
    },
    {
      "cell_type": "markdown",
      "metadata": {
        "id": "83xx0eHWNOX3"
      },
      "source": [
        "From this it is clear that many of these duplicates are notes, meaninglessly short, or else headings that somehow escaped earlier efforts. Oddly, an enormous number of Aristotle's sentences seem to be doubled. Looking at the doubled sentences, this appears to be because similar notes were made in both of the two volumes of the text. \r\n",
        "\r\n",
        "Let's eliminate the aristotle doubles first, then take another look to see what the others are like. "
      ]
    },
    {
      "cell_type": "code",
      "metadata": {
        "colab": {
          "base_uri": "https://localhost:8080/"
        },
        "id": "71OS1WlbwvqV",
        "outputId": "ab5e5dde-c66f-4c99-d254-57ce5261ff5e"
      },
      "source": [
        "len(doubles_df[doubles_df['author'] != 'Aristotle'])"
      ],
      "execution_count": null,
      "outputs": [
        {
          "output_type": "execute_result",
          "data": {
            "text/plain": [
              "2175"
            ]
          },
          "metadata": {
            "tags": []
          },
          "execution_count": 30
        }
      ]
    },
    {
      "cell_type": "code",
      "metadata": {
        "colab": {
          "base_uri": "https://localhost:8080/",
          "height": 815
        },
        "id": "kotnwwvFwvy1",
        "outputId": "deb96681-5c91-40d7-fe17-4c72f79cb251"
      },
      "source": [
        "doubles_df[doubles_df['author'] != 'Aristole'].sample(5)"
      ],
      "execution_count": null,
      "outputs": [
        {
          "output_type": "execute_result",
          "data": {
            "text/html": [
              "<div>\n",
              "<style scoped>\n",
              "    .dataframe tbody tr th:only-of-type {\n",
              "        vertical-align: middle;\n",
              "    }\n",
              "\n",
              "    .dataframe tbody tr th {\n",
              "        vertical-align: top;\n",
              "    }\n",
              "\n",
              "    .dataframe thead th {\n",
              "        text-align: right;\n",
              "    }\n",
              "</style>\n",
              "<table border=\"1\" class=\"dataframe\">\n",
              "  <thead>\n",
              "    <tr style=\"text-align: right;\">\n",
              "      <th></th>\n",
              "      <th>title</th>\n",
              "      <th>author</th>\n",
              "      <th>school</th>\n",
              "      <th>sentence_spacy</th>\n",
              "      <th>sentence_str</th>\n",
              "      <th>sentence_length</th>\n",
              "      <th>sentence_lowered</th>\n",
              "    </tr>\n",
              "  </thead>\n",
              "  <tbody>\n",
              "    <tr>\n",
              "      <th>94355</th>\n",
              "      <td>Aristotle - Complete Works</td>\n",
              "      <td>Aristotle</td>\n",
              "      <td>aristotle</td>\n",
              "      <td>(By, with, the, publication, of, the, eleventh, volume, ,, the, whole, of, the, standard, corpus, aristotelicum, had, been, put, into, English, .)</td>\n",
              "      <td>By with the publication of the eleventh volume, the whole of the standard corpus aristotelicum had been put into English.</td>\n",
              "      <td>121</td>\n",
              "      <td>by with the publication of the eleventh volume, the whole of the standard corpus aristotelicum had been put into english.</td>\n",
              "    </tr>\n",
              "    <tr>\n",
              "      <th>339982</th>\n",
              "      <td>The Communist Manifesto</td>\n",
              "      <td>Marx</td>\n",
              "      <td>communism</td>\n",
              "      <td>(Note, by, Engels, to, the, German, edition, of, .)</td>\n",
              "      <td>Note by Engels to the German edition of.</td>\n",
              "      <td>40</td>\n",
              "      <td>note by engels to the german edition of.</td>\n",
              "    </tr>\n",
              "    <tr>\n",
              "      <th>74925</th>\n",
              "      <td>Aristotle - Complete Works</td>\n",
              "      <td>Aristotle</td>\n",
              "      <td>aristotle</td>\n",
              "      <td>(In, the, original, Translation, ,, the, amount, and, scope, of, annotation, differed, greatly, from, one, volume, to, the, next, :, some, treatises, carried, virtually, no, footnotes, ,, others, ...</td>\n",
              "      <td>In the original Translation, the amount and scope of annotation differed greatly from one volume to the next: some treatises carried virtually no footnotes, others (notably the biological writings...</td>\n",
              "      <td>460</td>\n",
              "      <td>in the original translation, the amount and scope of annotation differed greatly from one volume to the next: some treatises carried virtually no footnotes, others (notably the biological writings...</td>\n",
              "    </tr>\n",
              "    <tr>\n",
              "      <th>285166</th>\n",
              "      <td>Critique Of Pure Reason</td>\n",
              "      <td>Kant</td>\n",
              "      <td>german_idealism</td>\n",
              "      <td>(a, rose, ,, counts, in, an, empirical, sense, as, a, thing, in, itself, ,, which, yet, can, appear, different, to, every, eye, in, regard, to, color, .)</td>\n",
              "      <td>a rose, counts in an empirical sense as a thing in itself, which yet can appear different to every eye in regard to color.</td>\n",
              "      <td>122</td>\n",
              "      <td>a rose, counts in an empirical sense as a thing in itself, which yet can appear different to every eye in regard to color.</td>\n",
              "    </tr>\n",
              "    <tr>\n",
              "      <th>83952</th>\n",
              "      <td>Aristotle - Complete Works</td>\n",
              "      <td>Aristotle</td>\n",
              "      <td>aristotle</td>\n",
              "      <td>(;, the, translation, of, the, Posterior, Analytics, is, reprinted, by, permission, of, Oxford, University, Press, Oxford, University, Press, ,, ), ;, the, translation, of, the, third, book, of, t...</td>\n",
              "      <td>; the translation of the Posterior Analytics is reprinted by permission of Oxford University Press Oxford University Press, ); the translation of the third book of the Economics is reprinted by pe...</td>\n",
              "      <td>431</td>\n",
              "      <td>; the translation of the posterior analytics is reprinted by permission of oxford university press oxford university press, ); the translation of the third book of the economics is reprinted by pe...</td>\n",
              "    </tr>\n",
              "  </tbody>\n",
              "</table>\n",
              "</div>"
            ],
            "text/plain": [
              "                             title  ...                                                                                                                                                                                         sentence_lowered\n",
              "94355   Aristotle - Complete Works  ...                                                                                by with the publication of the eleventh volume, the whole of the standard corpus aristotelicum had been put into english.\n",
              "339982     The Communist Manifesto  ...                                                                                                                                                                 note by engels to the german edition of.\n",
              "74925   Aristotle - Complete Works  ...  in the original translation, the amount and scope of annotation differed greatly from one volume to the next: some treatises carried virtually no footnotes, others (notably the biological writings...\n",
              "285166     Critique Of Pure Reason  ...                                                                               a rose, counts in an empirical sense as a thing in itself, which yet can appear different to every eye in regard to color.\n",
              "83952   Aristotle - Complete Works  ...  ; the translation of the posterior analytics is reprinted by permission of oxford university press oxford university press, ); the translation of the third book of the economics is reprinted by pe...\n",
              "\n",
              "[5 rows x 7 columns]"
            ]
          },
          "metadata": {
            "tags": []
          },
          "execution_count": 31
        }
      ]
    },
    {
      "cell_type": "markdown",
      "metadata": {
        "id": "rSzTX0yNNV-K"
      },
      "source": [
        "Deeper exploration of the duplicates reveals that Kant has a lot of doubles that seem to be authentically from his texts. Plato also has several duplicate sentences, but these are almost all short phrases from the dialogues ('of course, yes' and that kind of thing). \r\n",
        "\r\n",
        "To preserve the Kant, while also removing the irrelevant duplicates, we will remove both copies of all duplicates from texts other than the Kant's *Critique of Pure Reason*. For that text, we will remove the short duplicates and keep one copy of the longer ones, thus preserving the meaningful sentences. "
      ]
    },
    {
      "cell_type": "code",
      "metadata": {
        "colab": {
          "base_uri": "https://localhost:8080/"
        },
        "id": "qe5D6a2qwv7f",
        "outputId": "91e947c1-39a1-4b3b-e205-71e5c4c55f34"
      },
      "source": [
        "non_kant_indexes = df[(df['title'] != 'critique of pure reason') & \r\n",
        "                       (df['sentence_str'].duplicated(keep=False))].index\r\n",
        "kant_short_indexes = df[(df['title'] == 'critique of pure reason') &\r\n",
        "                        (df['sentence_str'].duplicated(keep=False)) &\r\n",
        "                        (df['sentence_length'] < 40)].index\r\n",
        "kant_long_indexes = df[(df['title'] == 'critique of pure reason') &\r\n",
        "                        (df['sentence_str'].duplicated(keep='first')) &\r\n",
        "                        (df['sentence_length'] >= 40)].index\r\n",
        "\r\n",
        "indexes_to_drop = [non_kant_indexes, kant_short_indexes, kant_long_indexes]\r\n",
        "for index in indexes_to_drop:\r\n",
        "  df = df.drop(index)\r\n",
        "\r\n",
        "len(df)"
      ],
      "execution_count": null,
      "outputs": [
        {
          "output_type": "execute_result",
          "data": {
            "text/plain": [
              "329334"
            ]
          },
          "metadata": {
            "tags": []
          },
          "execution_count": 32
        }
      ]
    },
    {
      "cell_type": "code",
      "metadata": {
        "colab": {
          "base_uri": "https://localhost:8080/",
          "height": 882
        },
        "id": "GnNdnY0MwwFM",
        "outputId": "3b22697f-d3fd-4f2d-8cd3-9dc1842152cf"
      },
      "source": [
        "(df[df['sentence_str'].str.contains('\\sder\\s')]).sample(5)"
      ],
      "execution_count": null,
      "outputs": [
        {
          "output_type": "execute_result",
          "data": {
            "text/html": [
              "<div>\n",
              "<style scoped>\n",
              "    .dataframe tbody tr th:only-of-type {\n",
              "        vertical-align: middle;\n",
              "    }\n",
              "\n",
              "    .dataframe tbody tr th {\n",
              "        vertical-align: top;\n",
              "    }\n",
              "\n",
              "    .dataframe thead th {\n",
              "        text-align: right;\n",
              "    }\n",
              "</style>\n",
              "<table border=\"1\" class=\"dataframe\">\n",
              "  <thead>\n",
              "    <tr style=\"text-align: right;\">\n",
              "      <th></th>\n",
              "      <th>title</th>\n",
              "      <th>author</th>\n",
              "      <th>school</th>\n",
              "      <th>sentence_spacy</th>\n",
              "      <th>sentence_str</th>\n",
              "      <th>sentence_length</th>\n",
              "      <th>sentence_lowered</th>\n",
              "    </tr>\n",
              "  </thead>\n",
              "  <tbody>\n",
              "    <tr>\n",
              "      <th>272357</th>\n",
              "      <td>Off The Beaten Track</td>\n",
              "      <td>Heidegger</td>\n",
              "      <td>phenomenology</td>\n",
              "      <td>(This, execution, is, the, prevailing, of, the, force, U'll, /, ten, der, Gezvalt, ), which, ,, as, the, will, of, the, absolute, ,, wills, that, the, absolute, come, to, presence, in, its, absolu...</td>\n",
              "      <td>This execution is the prevailing of the force U'll/ten der Gezvalt) which, as the will of the absolute, wills that the absolute come to presence in its absoluteness with us.</td>\n",
              "      <td>173</td>\n",
              "      <td>this execution is the prevailing of the force u'll/ten der gezvalt) which, as the will of the absolute, wills that the absolute come to presence in its absoluteness with us.</td>\n",
              "    </tr>\n",
              "    <tr>\n",
              "      <th>190965</th>\n",
              "      <td>The Logic Of Scientific Discovery</td>\n",
              "      <td>Popper</td>\n",
              "      <td>analytic</td>\n",
              "      <td>(But, there, are, other, problems, which, On, the, relations, between, transformation, groups, and, ', individualization, ', Weyl, ,, Philosophie, der, Mathematik, .)</td>\n",
              "      <td>But there are other problems which On the relations between transformation groups and 'individualization' Weyl, Philosophie der Mathematik.</td>\n",
              "      <td>139</td>\n",
              "      <td>but there are other problems which on the relations between transformation groups and 'individualization' weyl, philosophie der mathematik.</td>\n",
              "    </tr>\n",
              "    <tr>\n",
              "      <th>268928</th>\n",
              "      <td>Off The Beaten Track</td>\n",
              "      <td>Heidegger</td>\n",
              "      <td>phenomenology</td>\n",
              "      <td>(and, content, are, the, commonplace, concepts, der, which, anything, and, everything, can, be, subswned, .)</td>\n",
              "      <td>and content are the commonplace concepts der which anything and everything can be subswned.</td>\n",
              "      <td>91</td>\n",
              "      <td>and content are the commonplace concepts der which anything and everything can be subswned.</td>\n",
              "    </tr>\n",
              "    <tr>\n",
              "      <th>251375</th>\n",
              "      <td>The Phenomenology Of Perception</td>\n",
              "      <td>Merleau-Ponty</td>\n",
              "      <td>phenomenology</td>\n",
              "      <td>(They, bring, about, the, patterning, of, tactile, phenomena, ,, just, as, light, shows, up, the, configuration, of, a, See, Katz, ,, Der, Aufbau, der, Tastwelt, ,, .)</td>\n",
              "      <td>They bring about the patterning of tactile phenomena, just as light shows up the configuration of a See Katz, Der Aufbau der Tastwelt,.</td>\n",
              "      <td>135</td>\n",
              "      <td>they bring about the patterning of tactile phenomena, just as light shows up the configuration of a see katz, der aufbau der tastwelt,.</td>\n",
              "    </tr>\n",
              "    <tr>\n",
              "      <th>192606</th>\n",
              "      <td>The Logic Of Scientific Discovery</td>\n",
              "      <td>Popper</td>\n",
              "      <td>analytic</td>\n",
              "      <td>(Schlick, comments, on, this, passage, of, Heisenberg, 's, as, follows, :, ', I, would, have, expressed, myself, even, more, strongly, ,, in, complete, agreement, with, the, fundamental, views, of...</td>\n",
              "      <td>Schlick comments on this passage of Heisenberg's as follows: 'I would have expressed myself even more strongly, in complete agreement with the fundamental views of both Bohr and Heisenberg themsel...</td>\n",
              "      <td>253</td>\n",
              "      <td>schlick comments on this passage of heisenberg's as follows: 'i would have expressed myself even more strongly, in complete agreement with the fundamental views of both bohr and heisenberg themsel...</td>\n",
              "    </tr>\n",
              "  </tbody>\n",
              "</table>\n",
              "</div>"
            ],
            "text/plain": [
              "                                    title  ...                                                                                                                                                                                         sentence_lowered\n",
              "272357               Off The Beaten Track  ...                            this execution is the prevailing of the force u'll/ten der gezvalt) which, as the will of the absolute, wills that the absolute come to presence in its absoluteness with us.\n",
              "190965  The Logic Of Scientific Discovery  ...                                                              but there are other problems which on the relations between transformation groups and 'individualization' weyl, philosophie der mathematik.\n",
              "268928               Off The Beaten Track  ...                                                                                                              and content are the commonplace concepts der which anything and everything can be subswned.\n",
              "251375    The Phenomenology Of Perception  ...                                                                  they bring about the patterning of tactile phenomena, just as light shows up the configuration of a see katz, der aufbau der tastwelt,.\n",
              "192606  The Logic Of Scientific Discovery  ...  schlick comments on this passage of heisenberg's as follows: 'i would have expressed myself even more strongly, in complete agreement with the fundamental views of both bohr and heisenberg themsel...\n",
              "\n",
              "[5 rows x 7 columns]"
            ]
          },
          "metadata": {
            "tags": []
          },
          "execution_count": 33
        }
      ]
    },
    {
      "cell_type": "markdown",
      "metadata": {
        "id": "kcdlnijMNaMA"
      },
      "source": [
        "#### Check for Foreign-Language Sentences"
      ]
    },
    {
      "cell_type": "code",
      "metadata": {
        "colab": {
          "base_uri": "https://localhost:8080/"
        },
        "id": "JXUfIsqkwwOY",
        "outputId": "03256ecb-fe52-442d-ef84-978a9690622b"
      },
      "source": [
        "# checking for 'der', a common article in German\r\n",
        "len((df[df['sentence_str'].str.contains('\\sder\\s')]))"
      ],
      "execution_count": null,
      "outputs": [
        {
          "output_type": "execute_result",
          "data": {
            "text/plain": [
              "314"
            ]
          },
          "metadata": {
            "tags": []
          },
          "execution_count": 34
        }
      ]
    },
    {
      "cell_type": "code",
      "metadata": {
        "colab": {
          "base_uri": "https://localhost:8080/"
        },
        "id": "Sds3G-P8w-KH",
        "outputId": "c8d4ea61-6c1d-4a33-b209-8430978250d8"
      },
      "source": [
        "df = df.drop(df[df['sentence_str'].str.contains('\\sder\\s')].index)\r\n",
        "\r\n",
        "len(df)"
      ],
      "execution_count": null,
      "outputs": [
        {
          "output_type": "execute_result",
          "data": {
            "text/plain": [
              "329020"
            ]
          },
          "metadata": {
            "tags": []
          },
          "execution_count": 35
        }
      ]
    },
    {
      "cell_type": "code",
      "metadata": {
        "colab": {
          "base_uri": "https://localhost:8080/",
          "height": 681
        },
        "id": "nsz9L0qCw-UM",
        "outputId": "95ced82a-f03e-4ff6-ce43-0357e00e3bb6"
      },
      "source": [
        "# checking for 'il', a common article in French\r\n",
        "df[df['sentence_str'].str.contains('\\sil\\s')].sample(5)"
      ],
      "execution_count": null,
      "outputs": [
        {
          "output_type": "execute_result",
          "data": {
            "text/html": [
              "<div>\n",
              "<style scoped>\n",
              "    .dataframe tbody tr th:only-of-type {\n",
              "        vertical-align: middle;\n",
              "    }\n",
              "\n",
              "    .dataframe tbody tr th {\n",
              "        vertical-align: top;\n",
              "    }\n",
              "\n",
              "    .dataframe thead th {\n",
              "        text-align: right;\n",
              "    }\n",
              "</style>\n",
              "<table border=\"1\" class=\"dataframe\">\n",
              "  <thead>\n",
              "    <tr style=\"text-align: right;\">\n",
              "      <th></th>\n",
              "      <th>title</th>\n",
              "      <th>author</th>\n",
              "      <th>school</th>\n",
              "      <th>sentence_spacy</th>\n",
              "      <th>sentence_str</th>\n",
              "      <th>sentence_length</th>\n",
              "      <th>sentence_lowered</th>\n",
              "    </tr>\n",
              "  </thead>\n",
              "  <tbody>\n",
              "    <tr>\n",
              "      <th>325025</th>\n",
              "      <td>Capital</td>\n",
              "      <td>Marx</td>\n",
              "      <td>communism</td>\n",
              "      <td>(tat, ,, la, provision, et, toute, l'ordonnance, des, monnaies, ,, de, donner, tel, cours, ,, et, pour, tel, prix, comme, il, nous, plait, et, bon, nous, semble, .)</td>\n",
              "      <td>tat, la provision et toute l'ordonnance des monnaies, de donner tel cours, et pour tel prix comme il nous plait et bon nous semble.</td>\n",
              "      <td>131</td>\n",
              "      <td>tat, la provision et toute l'ordonnance des monnaies, de donner tel cours, et pour tel prix comme il nous plait et bon nous semble.</td>\n",
              "    </tr>\n",
              "    <tr>\n",
              "      <th>326607</th>\n",
              "      <td>Capital</td>\n",
              "      <td>Marx</td>\n",
              "      <td>communism</td>\n",
              "      <td>(soci, form, il, n'y, a, pas, de, surabondant, en, aucun, genre, .)</td>\n",
              "      <td>soci form il n'y a pas de surabondant en aucun genre.</td>\n",
              "      <td>53</td>\n",
              "      <td>soci form il n'y a pas de surabondant en aucun genre.</td>\n",
              "    </tr>\n",
              "    <tr>\n",
              "      <th>132917</th>\n",
              "      <td>Theodicy</td>\n",
              "      <td>Leibniz</td>\n",
              "      <td>rationalism</td>\n",
              "      <td>(lor, moto, sempre, Insieme, s'aggruppa, ,, dall, ', antico, Sempre, con, ordin, certo, il, nuovo, nasce, ;, Ne, tracciando, primi, semi, ,, fanno, Di, moto, un, tal, principio, ,, il, qual, poi, ...</td>\n",
              "      <td>lor moto sempre Insieme s'aggruppa, dall' antico Sempre con ordin certo il nuovo nasce; Ne tracciando primi semi, fanno Di moto un tal principio, il qual poi rompa I decreti del fato, acci non seg...</td>\n",
              "      <td>330</td>\n",
              "      <td>lor moto sempre insieme s'aggruppa, dall' antico sempre con ordin certo il nuovo nasce; ne tracciando primi semi, fanno di moto un tal principio, il qual poi rompa i decreti del fato, acci non seg...</td>\n",
              "    </tr>\n",
              "    <tr>\n",
              "      <th>330287</th>\n",
              "      <td>Capital</td>\n",
              "      <td>Marx</td>\n",
              "      <td>communism</td>\n",
              "      <td>(a, che, le, forze, per, essere, riunite, possono, diminuere, il, tempo, ed, accrescere, lo, spazio, della, loro, azione, .)</td>\n",
              "      <td>a che le forze per essere riunite possono diminuere il tempo ed accrescere lo spazio della loro azione.</td>\n",
              "      <td>103</td>\n",
              "      <td>a che le forze per essere riunite possono diminuere il tempo ed accrescere lo spazio della loro azione.</td>\n",
              "    </tr>\n",
              "    <tr>\n",
              "      <th>320946</th>\n",
              "      <td>Elements Of The Philosophy Of Right</td>\n",
              "      <td>Hegel</td>\n",
              "      <td>german_idealism</td>\n",
              "      <td>(rather, than, des, Bosen, (, ', e, il, in, general, ', ))</td>\n",
              "      <td>rather than des Bosen ('e il in general ')</td>\n",
              "      <td>42</td>\n",
              "      <td>rather than des bosen ('e il in general ')</td>\n",
              "    </tr>\n",
              "  </tbody>\n",
              "</table>\n",
              "</div>"
            ],
            "text/plain": [
              "                                      title  ...                                                                                                                                                                                         sentence_lowered\n",
              "325025                              Capital  ...                                                                      tat, la provision et toute l'ordonnance des monnaies, de donner tel cours, et pour tel prix comme il nous plait et bon nous semble.\n",
              "326607                              Capital  ...                                                                                                                                                    soci form il n'y a pas de surabondant en aucun genre.\n",
              "132917                             Theodicy  ...  lor moto sempre insieme s'aggruppa, dall' antico sempre con ordin certo il nuovo nasce; ne tracciando primi semi, fanno di moto un tal principio, il qual poi rompa i decreti del fato, acci non seg...\n",
              "330287                              Capital  ...                                                                                                  a che le forze per essere riunite possono diminuere il tempo ed accrescere lo spazio della loro azione.\n",
              "320946  Elements Of The Philosophy Of Right  ...                                                                                                                                                               rather than des bosen ('e il in general ')\n",
              "\n",
              "[5 rows x 7 columns]"
            ]
          },
          "metadata": {
            "tags": []
          },
          "execution_count": 36
        }
      ]
    },
    {
      "cell_type": "code",
      "metadata": {
        "colab": {
          "base_uri": "https://localhost:8080/"
        },
        "id": "-ER9muOkw-qu",
        "outputId": "b29f6ba0-f394-4801-f389-c7c9d45ef4f1"
      },
      "source": [
        "df = df.drop(df[df['sentence_str'].str.contains('\\sil\\s')].index)\r\n",
        "\r\n",
        "len(df)"
      ],
      "execution_count": null,
      "outputs": [
        {
          "output_type": "execute_result",
          "data": {
            "text/plain": [
              "328972"
            ]
          },
          "metadata": {
            "tags": []
          },
          "execution_count": 37
        }
      ]
    },
    {
      "cell_type": "markdown",
      "metadata": {
        "id": "0jsR1QpNNlNJ"
      },
      "source": [
        "#### Some Ad Hoc Cleaning"
      ]
    },
    {
      "cell_type": "code",
      "metadata": {
        "colab": {
          "base_uri": "https://localhost:8080/"
        },
        "id": "b1sF0lzxw-zd",
        "outputId": "bb87663c-a3b0-40cb-e81d-484660494ae9"
      },
      "source": [
        "# miscellaneous nonsense sentences\r\n",
        "df = df.drop(df[df['sentence_str'].str.contains('\\spp\\s')].index)\r\n",
        "df = df.drop(df[df['sentence_str'].str.contains('\\stotam\\s')].index)\r\n",
        "df = df.drop(df[df['sentence_str'].str.contains('\\srree\\s')].index)\r\n",
        "df = df.drop(df[df['sentence_str'].str.contains('\\sflir\\s')].index)\r\n",
        "df = df.drop(df[(df['sentence_str'].str.contains('\\smodis\\s')) & (df['author'] != 'Kant')].index)\r\n",
        "\r\n",
        "len(df)"
      ],
      "execution_count": null,
      "outputs": [
        {
          "output_type": "execute_result",
          "data": {
            "text/plain": [
              "328966"
            ]
          },
          "metadata": {
            "tags": []
          },
          "execution_count": 38
        }
      ]
    },
    {
      "cell_type": "code",
      "metadata": {
        "colab": {
          "base_uri": "https://localhost:8080/"
        },
        "id": "OqBnHZG6w-9F",
        "outputId": "83651219-5554-46cc-c7ca-0de78b7a5a12"
      },
      "source": [
        "# markers of french and notes\r\n",
        "df = df.drop(df[df['sentence_str'].str.contains('\\schapitre')].index)\r\n",
        "df = df.drop(df[df['sentence_str'].str.contains('\\salisme')].index)\r\n",
        "df = df.drop(df[df['sentence_str'].str.contains('\\sHahn')].index)\r\n",
        "\r\n",
        "len(df)"
      ],
      "execution_count": null,
      "outputs": [
        {
          "output_type": "execute_result",
          "data": {
            "text/plain": [
              "328949"
            ]
          },
          "metadata": {
            "tags": []
          },
          "execution_count": 39
        }
      ]
    },
    {
      "cell_type": "code",
      "metadata": {
        "colab": {
          "base_uri": "https://localhost:8080/"
        },
        "id": "Oq5I3pL4w9r7",
        "outputId": "29d1c65d-6804-4167-b97b-d1518d48c416"
      },
      "source": [
        "# some notes in Kant\r\n",
        "df = df.drop(df[df['sentence_str'].str.contains('\\sVorl\\s')].index)\r\n",
        "\r\n",
        "len(df)"
      ],
      "execution_count": null,
      "outputs": [
        {
          "output_type": "execute_result",
          "data": {
            "text/plain": [
              "328931"
            ]
          },
          "metadata": {
            "tags": []
          },
          "execution_count": 40
        }
      ]
    },
    {
      "cell_type": "code",
      "metadata": {
        "colab": {
          "base_uri": "https://localhost:8080/"
        },
        "id": "w3nv5S4exJXK",
        "outputId": "143c55a1-3bd8-4a25-d54c-5cd7c0705e50"
      },
      "source": [
        "# a common phrase in Plato / Aristotle footnotes\r\n",
        "df = df.drop(df[(df['author']=='Plato') & (df['sentence_str'].str.contains('(?i)reading')) & (df['sentence_length'] < 40)].index)\r\n",
        "df = df.drop(df[(df['author']=='Aristotle') & (df['sentence_str'].str.contains('(?i)reading')) & (df['sentence_length'] < 40)].index)\r\n",
        "\r\n",
        "len(df)"
      ],
      "execution_count": null,
      "outputs": [
        {
          "output_type": "execute_result",
          "data": {
            "text/plain": [
              "328657"
            ]
          },
          "metadata": {
            "tags": []
          },
          "execution_count": 41
        }
      ]
    },
    {
      "cell_type": "markdown",
      "metadata": {
        "id": "vtli1TPlNq55"
      },
      "source": [
        "### Lemmatizing, Tokenizing, and Exporting"
      ]
    },
    {
      "cell_type": "code",
      "metadata": {
        "colab": {
          "base_uri": "https://localhost:8080/"
        },
        "id": "ybCPk5oixJgd",
        "outputId": "b67999eb-a687-4649-8691-7b9811b0ef6f"
      },
      "source": [
        "df['school'].value_counts(normalize=True)"
      ],
      "execution_count": null,
      "outputs": [
        {
          "output_type": "execute_result",
          "data": {
            "text/plain": [
              "analytic           0.168647\n",
              "aristotle          0.148419\n",
              "german_idealism    0.128210\n",
              "plato              0.116812\n",
              "continental        0.102785\n",
              "phenomenology      0.086939\n",
              "rationalism        0.069830\n",
              "empiricism         0.060644\n",
              "capitalism         0.055359\n",
              "communism          0.054644\n",
              "stoicism           0.007713\n",
              "Name: school, dtype: float64"
            ]
          },
          "metadata": {
            "tags": []
          },
          "execution_count": 42
        }
      ]
    },
    {
      "cell_type": "code",
      "metadata": {
        "id": "S1wT-MvpxJot"
      },
      "source": [
        "from gensim.utils import simple_preprocess\r\n",
        "\r\n",
        "# use gensim to tokenize sentences\r\n",
        "df['tokenized_txt'] = df['sentence_str'].map(lambda x: simple_preprocess(x.lower(),deacc=True,\r\n",
        "                                                        max_len=200))\r\n",
        "\r\n",
        "# use spacey to get intelligent lemmatization\r\n",
        "def lemmatize_sentence(sentence):\r\n",
        "  lemmatized_txt = ''\r\n",
        "  for word in sentence:\r\n",
        "    lemmatized_txt += ' ' + str(word.lemma_)\r\n",
        "  return lemmatized_txt"
      ],
      "execution_count": null,
      "outputs": []
    },
    {
      "cell_type": "code",
      "metadata": {
        "id": "3O3mXZKkxJxM"
      },
      "source": [
        "df['lemmatized_str'] = df['sentence_spacy'].apply(lemmatize_sentence)"
      ],
      "execution_count": null,
      "outputs": []
    },
    {
      "cell_type": "code",
      "metadata": {
        "colab": {
          "base_uri": "https://localhost:8080/",
          "height": 1000
        },
        "id": "mxmcq_BQxJ48",
        "outputId": "4d1494cd-b3d8-446c-ed9a-b26c50c34ce8"
      },
      "source": [
        "df.sample(5)"
      ],
      "execution_count": null,
      "outputs": [
        {
          "output_type": "execute_result",
          "data": {
            "text/html": [
              "<div>\n",
              "<style scoped>\n",
              "    .dataframe tbody tr th:only-of-type {\n",
              "        vertical-align: middle;\n",
              "    }\n",
              "\n",
              "    .dataframe tbody tr th {\n",
              "        vertical-align: top;\n",
              "    }\n",
              "\n",
              "    .dataframe thead th {\n",
              "        text-align: right;\n",
              "    }\n",
              "</style>\n",
              "<table border=\"1\" class=\"dataframe\">\n",
              "  <thead>\n",
              "    <tr style=\"text-align: right;\">\n",
              "      <th></th>\n",
              "      <th>title</th>\n",
              "      <th>author</th>\n",
              "      <th>school</th>\n",
              "      <th>sentence_spacy</th>\n",
              "      <th>sentence_str</th>\n",
              "      <th>sentence_length</th>\n",
              "      <th>sentence_lowered</th>\n",
              "      <th>tokenized_txt</th>\n",
              "      <th>lemmatized_str</th>\n",
              "    </tr>\n",
              "  </thead>\n",
              "  <tbody>\n",
              "    <tr>\n",
              "      <th>7069</th>\n",
              "      <td>Plato - Complete Works</td>\n",
              "      <td>Plato</td>\n",
              "      <td>plato</td>\n",
              "      <td>(Or, if, they, did, appear, to, make, correct, objections, ,, but, their, controversies, did, n't, make, them, look, any, the, wiser, for, it, ,, then, just, as, you, say, people, would, hardly, b...</td>\n",
              "      <td>Or if they did appear to make correct objections, but their controversies didn't make them look any the wiser for it, then just as you say people would hardly be willing to pay them money to becom...</td>\n",
              "      <td>213</td>\n",
              "      <td>or if they did appear to make correct objections, but their controversies didn't make them look any the wiser for it, then just as you say people would hardly be willing to pay them money to becom...</td>\n",
              "      <td>[or, if, they, did, appear, to, make, correct, objections, but, their, controversies, didn, make, them, look, any, the, wiser, for, it, then, just, as, you, say, people, would, hardly, be, willing...</td>\n",
              "      <td>or if -PRON- do appear to make correct objection , but -PRON- controversy do not make -PRON- look any the wise for -PRON- , then just as -PRON- say people would hardly be willing to pay -PRON- mo...</td>\n",
              "    </tr>\n",
              "    <tr>\n",
              "      <th>167373</th>\n",
              "      <td>Lewis - Papers</td>\n",
              "      <td>Lewis</td>\n",
              "      <td>analytic</td>\n",
              "      <td>(and, so, is, to, say, that, in, some, world, it, has, a, such, and, such, counterpart, that, does, so)</td>\n",
              "      <td>and so is to say that in some world it has a such and such counterpart that does so</td>\n",
              "      <td>83</td>\n",
              "      <td>and so is to say that in some world it has a such and such counterpart that does so</td>\n",
              "      <td>[and, so, is, to, say, that, in, some, world, it, has, such, and, such, counterpart, that, does, so]</td>\n",
              "      <td>and so be to say that in some world -PRON- have a such and such counterpart that do so</td>\n",
              "    </tr>\n",
              "    <tr>\n",
              "      <th>77841</th>\n",
              "      <td>Aristotle - Complete Works</td>\n",
              "      <td>Aristotle</td>\n",
              "      <td>aristotle</td>\n",
              "      <td>(For, it, is, said, that, once, ,, when, there, was, no, stallion, present, ,, a, keeper, disguised, the, mother, and, set, her, foal, on, her, .)</td>\n",
              "      <td>For it is said that once, when there was no stallion present, a keeper disguised the mother and set her foal on her.</td>\n",
              "      <td>116</td>\n",
              "      <td>for it is said that once, when there was no stallion present, a keeper disguised the mother and set her foal on her.</td>\n",
              "      <td>[for, it, is, said, that, once, when, there, was, no, stallion, present, keeper, disguised, the, mother, and, set, her, foal, on, her]</td>\n",
              "      <td>for -PRON- be say that once , when there be no stallion present , a keeper disguise the mother and set -PRON- foal on -PRON- .</td>\n",
              "    </tr>\n",
              "    <tr>\n",
              "      <th>259296</th>\n",
              "      <td>The Idea Of Phenomenology</td>\n",
              "      <td>Husserl</td>\n",
              "      <td>phenomenology</td>\n",
              "      <td>(follows, from, the, fact, that, the, entire, meditation, on, evidence, ,, which, we, have, ,, following, Descartes, ,, carried, out, ,, and, which, was, surely, illuminated, throughout, by, clari...</td>\n",
              "      <td>follows from the fact that the entire meditation on evidence, which we have, following Descartes, carried out, and which was surely illuminated throughout by clarity and self evidence, would lose ...</td>\n",
              "      <td>209</td>\n",
              "      <td>follows from the fact that the entire meditation on evidence, which we have, following descartes, carried out, and which was surely illuminated throughout by clarity and self evidence, would lose ...</td>\n",
              "      <td>[follows, from, the, fact, that, the, entire, meditation, on, evidence, which, we, have, following, descartes, carried, out, and, which, was, surely, illuminated, throughout, by, clarity, and, sel...</td>\n",
              "      <td>follow from the fact that the entire meditation on evidence , which -PRON- have , follow Descartes , carry out , and which be surely illuminate throughout by clarity and self evidence , would los...</td>\n",
              "    </tr>\n",
              "    <tr>\n",
              "      <th>64365</th>\n",
              "      <td>Aristotle - Complete Works</td>\n",
              "      <td>Aristotle</td>\n",
              "      <td>aristotle</td>\n",
              "      <td>(the, activity, of, what, is, transparent, qua, transparent, ;, where, this, power, is, present, ,, there, is, also, the, potentiality, of, the, contrary, ,, viz, .)</td>\n",
              "      <td>the activity of what is transparent qua transparent; where this power is present, there is also the potentiality of the contrary, viz.</td>\n",
              "      <td>134</td>\n",
              "      <td>the activity of what is transparent qua transparent; where this power is present, there is also the potentiality of the contrary, viz.</td>\n",
              "      <td>[the, activity, of, what, is, transparent, qua, transparent, where, this, power, is, present, there, is, also, the, potentiality, of, the, contrary, viz]</td>\n",
              "      <td>the activity of what be transparent qua transparent ; where this power be present , there be also the potentiality of the contrary , viz .</td>\n",
              "    </tr>\n",
              "  </tbody>\n",
              "</table>\n",
              "</div>"
            ],
            "text/plain": [
              "                             title  ...                                                                                                                                                                                           lemmatized_str\n",
              "7069        Plato - Complete Works  ...   or if -PRON- do appear to make correct objection , but -PRON- controversy do not make -PRON- look any the wise for -PRON- , then just as -PRON- say people would hardly be willing to pay -PRON- mo...\n",
              "167373              Lewis - Papers  ...                                                                                                                   and so be to say that in some world -PRON- have a such and such counterpart that do so\n",
              "77841   Aristotle - Complete Works  ...                                                                           for -PRON- be say that once , when there be no stallion present , a keeper disguise the mother and set -PRON- foal on -PRON- .\n",
              "259296   The Idea Of Phenomenology  ...   follow from the fact that the entire meditation on evidence , which -PRON- have , follow Descartes , carry out , and which be surely illuminate throughout by clarity and self evidence , would los...\n",
              "64365   Aristotle - Complete Works  ...                                                               the activity of what be transparent qua transparent ; where this power be present , there be also the potentiality of the contrary , viz .\n",
              "\n",
              "[5 rows x 9 columns]"
            ]
          },
          "metadata": {
            "tags": []
          },
          "execution_count": 45
        }
      ]
    },
    {
      "cell_type": "code",
      "metadata": {
        "colab": {
          "base_uri": "https://localhost:8080/"
        },
        "id": "qlX3Aq4sx3QQ",
        "outputId": "7a9c9cce-62c2-4cde-db12-be353b84adc2"
      },
      "source": [
        "# check the new author's presence\r\n",
        "len(df[df['title']=='On Certainty'])"
      ],
      "execution_count": null,
      "outputs": [
        {
          "output_type": "execute_result",
          "data": {
            "text/plain": [
              "1984"
            ]
          },
          "metadata": {
            "tags": []
          },
          "execution_count": 46
        }
      ]
    },
    {
      "cell_type": "code",
      "metadata": {
        "colab": {
          "base_uri": "https://localhost:8080/"
        },
        "id": "Y2jf9Hz-l3al",
        "outputId": "5cb4150a-c54a-480c-b6ea-21274357c348"
      },
      "source": [
        "df.columns = [i.lower() for i in df.columns]\r\n",
        "df.columns"
      ],
      "execution_count": null,
      "outputs": [
        {
          "output_type": "execute_result",
          "data": {
            "text/plain": [
              "Index(['title', 'author', 'school', 'sentence_spacy', 'sentence_str',\n",
              "       'sentence_length', 'sentence_lowered', 'tokenized_txt',\n",
              "       'lemmatized_str'],\n",
              "      dtype='object')"
            ]
          },
          "metadata": {
            "tags": []
          },
          "execution_count": 47
        }
      ]
    },
    {
      "cell_type": "code",
      "metadata": {
        "id": "vJ6Wd171JZZf"
      },
      "source": [
        "# prepare to upload to the database\r\n",
        "for_db = df\r\n",
        "for_db['sentence'] = for_db['sentence_str']\r\n",
        "for_db['school'] = for_db['school'].apply(lambda x: x.replace('_', ' ').title())\r\n",
        "for_db = for_db.drop(['sentence_spacy', 'sentence_length', 'sentence_str', 'sentence_lowered', 'tokenized_txt', 'lemmatized_str'], axis=1)\r\n",
        "for_db.columns = [i.upper() for i in for_db.columns]\r\n"
      ],
      "execution_count": null,
      "outputs": []
    },
    {
      "cell_type": "code",
      "metadata": {
        "colab": {
          "base_uri": "https://localhost:8080/",
          "height": 313
        },
        "id": "A4wxadz0lmG9",
        "outputId": "0c0cdd3e-6a68-4c43-be30-36b0dd8dbb55"
      },
      "source": [
        "for_db.sample(5)"
      ],
      "execution_count": null,
      "outputs": [
        {
          "output_type": "execute_result",
          "data": {
            "text/html": [
              "<div>\n",
              "<style scoped>\n",
              "    .dataframe tbody tr th:only-of-type {\n",
              "        vertical-align: middle;\n",
              "    }\n",
              "\n",
              "    .dataframe tbody tr th {\n",
              "        vertical-align: top;\n",
              "    }\n",
              "\n",
              "    .dataframe thead th {\n",
              "        text-align: right;\n",
              "    }\n",
              "</style>\n",
              "<table border=\"1\" class=\"dataframe\">\n",
              "  <thead>\n",
              "    <tr style=\"text-align: right;\">\n",
              "      <th></th>\n",
              "      <th>TITLE</th>\n",
              "      <th>AUTHOR</th>\n",
              "      <th>SCHOOL</th>\n",
              "      <th>SENTENCE</th>\n",
              "    </tr>\n",
              "  </thead>\n",
              "  <tbody>\n",
              "    <tr>\n",
              "      <th>223838</th>\n",
              "      <td>The Order Of Things</td>\n",
              "      <td>Foucault</td>\n",
              "      <td>Continental</td>\n",
              "      <td>And it is these fundamental necessities of knowledge that we must give voice to.</td>\n",
              "    </tr>\n",
              "    <tr>\n",
              "      <th>168711</th>\n",
              "      <td>Lewis - Papers</td>\n",
              "      <td>Lewis</td>\n",
              "      <td>Analytic</td>\n",
              "      <td>They are unified in that they are cumulative: the theory governing any physical phenomenon is explained by theories governing phenomena out of which that phenomenon is composed and by the way it i...</td>\n",
              "    </tr>\n",
              "    <tr>\n",
              "      <th>144974</th>\n",
              "      <td>The Search After Truth</td>\n",
              "      <td>Malebranche</td>\n",
              "      <td>Rationalism</td>\n",
              "      <td>I mean a body so separated from others.</td>\n",
              "    </tr>\n",
              "    <tr>\n",
              "      <th>263105</th>\n",
              "      <td>Being And Time</td>\n",
              "      <td>Heidegger</td>\n",
              "      <td>Phenomenology</td>\n",
              "      <td>The constitutive function of discourse for the existentialityof existence first becomes completely clear in these phenomena.</td>\n",
              "    </tr>\n",
              "    <tr>\n",
              "      <th>283679</th>\n",
              "      <td>Critique Of Judgement</td>\n",
              "      <td>Kant</td>\n",
              "      <td>German Idealism</td>\n",
              "      <td>is not a simple relation of the representation to the object but rather involves a receptivity on the part of the subject); on the contrary, it contributes nothing whatsoever to our knowledge of o...</td>\n",
              "    </tr>\n",
              "  </tbody>\n",
              "</table>\n",
              "</div>"
            ],
            "text/plain": [
              "                         TITLE  ...                                                                                                                                                                                                 SENTENCE\n",
              "223838     The Order Of Things  ...                                                                                                                         And it is these fundamental necessities of knowledge that we must give voice to.\n",
              "168711          Lewis - Papers  ...  They are unified in that they are cumulative: the theory governing any physical phenomenon is explained by theories governing phenomena out of which that phenomenon is composed and by the way it i...\n",
              "144974  The Search After Truth  ...                                                                                                                                                                  I mean a body so separated from others.\n",
              "263105          Being And Time  ...                                                                             The constitutive function of discourse for the existentialityof existence first becomes completely clear in these phenomena.\n",
              "283679   Critique Of Judgement  ...  is not a simple relation of the representation to the object but rather involves a receptivity on the part of the subject); on the contrary, it contributes nothing whatsoever to our knowledge of o...\n",
              "\n",
              "[5 rows x 4 columns]"
            ]
          },
          "metadata": {
            "tags": []
          },
          "execution_count": 51
        }
      ]
    },
    {
      "cell_type": "code",
      "metadata": {
        "colab": {
          "base_uri": "https://localhost:8080/"
        },
        "id": "H6hb7ky006Gp",
        "outputId": "e8044278-efbe-46aa-e322-920da1cf5baa"
      },
      "source": [
        "#importing sql library \r\n",
        "from sqlalchemy import create_engine \r\n",
        "  \r\n",
        "# create a referrence  \r\n",
        "# for sql library \r\n",
        "                       echo = False) \r\n",
        "  \r\n",
        "# attach the data frame to the sql  \r\n",
        "# with a name of the table  \r\n",
        "# as \"Employee_Data\" \r\n",
        "for_db.to_sql('phil_nlp', \r\n",
        "               con = engine) \r\n",
        "  \r\n",
        "# # show the complete data \r\n",
        "# # from Employee_Data table \r\n",
        "print(engine.execute(\"SELECT * FROM phil_nlp\").fetchone()) "
      ],
      "execution_count": null,
      "outputs": [
        {
          "output_type": "stream",
          "text": [
            "(0, 'Plato - Complete Works', 'Plato', 'Plato', \" What's new, Socrates, to make you leave your usual haunts in the Lyceum and spend your time here by the king archon's court?\")\n"
          ],
          "name": "stdout"
        }
      ]
    },
    {
      "cell_type": "markdown",
      "metadata": {
        "id": "FeEVIBYZN64H"
      },
      "source": [
        "Now we can export the new CSV to use in other projects. "
      ]
    },
    {
      "cell_type": "code",
      "metadata": {
        "id": "6v0M4jbUxKBt",
        "colab": {
          "base_uri": "https://localhost:8080/",
          "height": 33
        },
        "outputId": "223f7f97-39f0-4067-aeb3-b9dc1452c5b1"
      },
      "source": [
        "from google.colab import files\r\n",
        "df.to_csv('phil_nlp.csv', index=False) \r\n",
        "files.download('phil_nlp.csv')"
      ],
      "execution_count": null,
      "outputs": [
        {
          "output_type": "display_data",
          "data": {
            "application/javascript": [
              "\n",
              "    async function download(id, filename, size) {\n",
              "      if (!google.colab.kernel.accessAllowed) {\n",
              "        return;\n",
              "      }\n",
              "      const div = document.createElement('div');\n",
              "      const label = document.createElement('label');\n",
              "      label.textContent = `Downloading \"${filename}\": `;\n",
              "      div.appendChild(label);\n",
              "      const progress = document.createElement('progress');\n",
              "      progress.max = size;\n",
              "      div.appendChild(progress);\n",
              "      document.body.appendChild(div);\n",
              "\n",
              "      const buffers = [];\n",
              "      let downloaded = 0;\n",
              "\n",
              "      const channel = await google.colab.kernel.comms.open(id);\n",
              "      // Send a message to notify the kernel that we're ready.\n",
              "      channel.send({})\n",
              "\n",
              "      for await (const message of channel.messages) {\n",
              "        // Send a message to notify the kernel that we're ready.\n",
              "        channel.send({})\n",
              "        if (message.buffers) {\n",
              "          for (const buffer of message.buffers) {\n",
              "            buffers.push(buffer);\n",
              "            downloaded += buffer.byteLength;\n",
              "            progress.value = downloaded;\n",
              "          }\n",
              "        }\n",
              "      }\n",
              "      const blob = new Blob(buffers, {type: 'application/binary'});\n",
              "      const a = document.createElement('a');\n",
              "      a.href = window.URL.createObjectURL(blob);\n",
              "      a.download = filename;\n",
              "      div.appendChild(a);\n",
              "      a.click();\n",
              "      div.remove();\n",
              "    }\n",
              "  "
            ],
            "text/plain": [
              "<IPython.core.display.Javascript object>"
            ]
          },
          "metadata": {
            "tags": []
          }
        },
        {
          "output_type": "display_data",
          "data": {
            "application/javascript": [
              "download(\"download_33e1db30-20d3-401c-a03f-5dc63c75ced3\", \"phil_nlp.csv\", 295329960)"
            ],
            "text/plain": [
              "<IPython.core.display.Javascript object>"
            ]
          },
          "metadata": {
            "tags": []
          }
        }
      ]
    },
    {
      "cell_type": "code",
      "metadata": {
        "id": "4asBFcfwOUsx"
      },
      "source": [
        ""
      ],
      "execution_count": null,
      "outputs": []
    }
  ]
}