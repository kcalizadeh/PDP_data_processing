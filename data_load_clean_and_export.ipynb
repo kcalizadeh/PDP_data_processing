{
  "nbformat": 4,
  "nbformat_minor": 0,
  "metadata": {
    "colab": {
      "name": "data_load_clean_and_export.ipynb",
      "provenance": [],
      "collapsed_sections": [
        "6e3D7iGALiMC",
        "4Z6-svnmMCtz",
        "WI3KwHHVM8ck",
        "KaxL3byaM-RA",
        "MEqfL_K_NE7C",
        "uMxaZemLNKeH",
        "kcdlnijMNaMA",
        "0jsR1QpNNlNJ"
      ],
      "toc_visible": true,
      "machine_shape": "hm",
      "authorship_tag": "ABX9TyPS+iCHFeNhu1NxJ7jKlyOW",
      "include_colab_link": true
    },
    "kernelspec": {
      "name": "python3",
      "display_name": "Python 3"
    },
    "accelerator": "GPU"
  },
  "cells": [
    {
      "cell_type": "markdown",
      "metadata": {
        "id": "view-in-github",
        "colab_type": "text"
      },
      "source": [
        "<a href=\"https://colab.research.google.com/github/kcalizadeh/PDP_data_processing/blob/master/data_load_clean_and_export.ipynb\" target=\"_parent\"><img src=\"https://colab.research.google.com/assets/colab-badge.svg\" alt=\"Open In Colab\"/></a>"
      ]
    },
    {
      "cell_type": "markdown",
      "metadata": {
        "id": "ce4uUmGtIwgG"
      },
      "source": [
        "### Imports and Mounting Drive"
      ]
    },
    {
      "cell_type": "code",
      "metadata": {
        "colab": {
          "base_uri": "https://localhost:8080/"
        },
        "id": "dQnwn5oZqw4P",
        "outputId": "c7c7dd11-ac47-4a28-c602-2837b7cf3f37"
      },
      "source": [
        "# this cell mounts drive, sets the correct directory, then imports all functions\n",
        "# and relevant libraries via the functions.py file\n",
        "from google.colab import drive\n",
        "import sys\n",
        "\n",
        "drive.mount('/gdrive',force_remount=True)\n",
        "\n",
        "drive_path = '/gdrive/MyDrive/Colab_Projects/philosophy_data_project'\n",
        "\n",
        "sys.path.append(drive_path)"
      ],
      "execution_count": 1,
      "outputs": [
        {
          "output_type": "stream",
          "text": [
            "Mounted at /gdrive\n"
          ],
          "name": "stdout"
        }
      ]
    },
    {
      "cell_type": "code",
      "metadata": {
        "id": "icdKF0dyrAU5"
      },
      "source": [
        "from import_functions import *"
      ],
      "execution_count": 2,
      "outputs": []
    },
    {
      "cell_type": "code",
      "metadata": {
        "colab": {
          "base_uri": "https://localhost:8080/"
        },
        "id": "tym6E0D5rbwQ",
        "outputId": "9044fe3c-4354-4f14-ce2d-3290ab45671a"
      },
      "source": [
        "import spacy.cli\n",
        "spacy.cli.download(\"en_core_web_lg\")\n",
        "import en_core_web_lg\n",
        "nlp = en_core_web_lg.load()"
      ],
      "execution_count": 3,
      "outputs": [
        {
          "output_type": "stream",
          "text": [
            "\u001b[38;5;2m✔ Download and installation successful\u001b[0m\n",
            "You can now load the model via spacy.load('en_core_web_lg')\n"
          ],
          "name": "stdout"
        }
      ]
    },
    {
      "cell_type": "code",
      "metadata": {
        "id": "YTfCjw3Rrt2I"
      },
      "source": [
        "# load the texts\n",
        "\n",
        "## plato\n",
        "plato_complete = get_text(drive_path + '/phil_txts/plato_complete_works.txt')\n",
        "\n",
        "# aristotle\n",
        "aristotle_vol_1 = get_text(drive_path + '/phil_txts/aristotle_complete_works_v1.txt')\n",
        "aristotle_vol_2 = get_text(drive_path + '/phil_txts/aristotle_complete_works_v2.txt')\n",
        "\n",
        "## rationalists\n",
        "spinoza_ethics = get_guten('http://www.gutenberg.org/cache/epub/3800/pg3800.txt')\n",
        "spinoza_improve_understanding = get_guten('http://www.gutenberg.org/cache/epub/1016/pg1016.txt')\n",
        "leibniz_theodicy = get_guten('http://www.gutenberg.org/cache/epub/17147/pg17147.txt')\n",
        "descartes_discourse_method = get_guten('http://www.gutenberg.org/cache/epub/59/pg59.txt')\n",
        "descartes_meditations = get_text(drive_path + '/phil_txts/descartes_meditations.txt')\n",
        "malebranche_search_truth = get_text(drive_path + '/phil_txts/malebranche_search_truth.txt')\n",
        "\n",
        "## empiricists\n",
        "locke_understanding_1 = get_guten('http://www.gutenberg.org/cache/epub/10615/pg10615.txt')\n",
        "locke_understanding_2 = get_guten('http://www.gutenberg.org/cache/epub/10616/pg10616.txt')\n",
        "locke_treatise_gov = get_guten('http://www.gutenberg.org/cache/epub/7370/pg7370.txt')\n",
        "hume_treatise = get_guten('http://www.gutenberg.org/cache/epub/4705/pg4705.txt')\n",
        "hume_natural_religion = get_guten('http://www.gutenberg.org/cache/epub/4583/pg4583.txt')\n",
        "berkeley_treatise = get_guten('http://www.gutenberg.org/cache/epub/4723/pg4723.txt')\n",
        "berkeley_three_dialogues = get_guten('http://www.gutenberg.org/cache/epub/4724/pg4724.txt')\n",
        "\n",
        "## german idealism\n",
        "kant_practical_reason = get_text(drive_path + '/phil_txts/kant_critique_practical_reason.txt')\n",
        "kant_judgement = get_text(drive_path + '/phil_txts/kant_critique_judgement.txt')\n",
        "kant_pure_reason = get_text(drive_path + '/phil_txts/kant_pure_reason.txt')\n",
        "fichte_ethics = get_text(drive_path + '/phil_txts/fichte_system_of_ethics.txt')\n",
        "hegel_logic = get_text(drive_path + '/phil_txts/hegel_science_of_logic.txt')\n",
        "hegel_phenomenology = get_text(drive_path + '/phil_txts/hegel_phenomenology_of_spirit.txt')\n",
        "hegel_right = get_text(drive_path + '/phil_txts/hegel_elements_of_right.txt')\n",
        "\n",
        "## analytic\n",
        "russell_problems_of_phil = get_guten('http://www.gutenberg.org/cache/epub/5827/pg5827.txt')\n",
        "russell_analylsis_of_mind = get_guten('http://www.gutenberg.org/cache/epub/2529/pg2529.txt')\n",
        "moore_studies = get_guten('http://www.gutenberg.org/files/50141/50141-0.txt')\n",
        "wittgenstein_tractatus = get_text(drive_path + '/phil_txts/wittgenstein_tractatus.txt')\n",
        "wittgenstein_investigations = get_text(drive_path + '/phil_txts/wittgenstien_philosophical_investigations.txt')\n",
        "lewis_papers1 = get_text(drive_path + '/phil_txts/lewis_papers_1.txt')\n",
        "lewis_papers2 = get_text(drive_path + '/phil_txts/lewis_papers_2.txt')\n",
        "quine_quintessence = get_text(drive_path + '/phil_txts/quine_quintessence.txt')\n",
        "popper_science = get_text(drive_path + '/phil_txts/popper_logic_of_science.txt')\n",
        "kripke_troubles = get_text(drive_path + '/phil_txts/kripke_philosophical_troubles.txt')\n",
        "kripke_naming = get_text(drive_path + '/phil_txts/kripke_naming_necessity.txt')\n",
        "\n",
        "## phenomenology\n",
        "ponty_perception = get_text(drive_path + '/phil_txts/merleau-ponty_phenomenology_of_perception.txt')\n",
        "husserl_idea_of = get_text(drive_path + '/phil_txts/husserl_idea_of_phenomenology.txt')\n",
        "husserl_crisis = get_text(drive_path + '/phil_txts/husserl_crisis_of_euro_sciences.txt')\n",
        "heidegger_being_time = get_text(drive_path + '/phil_txts/heidegger_being_and_time.txt')\n",
        "heidegger_track = get_text(drive_path + '/phil_txts/heidegger_off_the_beaten_track.txt')\n",
        "\n",
        "## continental\n",
        "foucault_order = get_text(drive_path + '/phil_txts/foucault_order_of_things.txt')\n",
        "foucault_madness = get_text(drive_path + '/phil_txts/foucault_history_of_madness.txt')\n",
        "foucault_clinic = get_text(drive_path + '/phil_txts/foucault_birth_of_clinic.txt')\n",
        "derrida_writing = get_text(drive_path + '/phil_txts/derrida_writing_difference.txt')\n",
        "deleuze_oedipus = get_text(drive_path + '/phil_txts/deleuze_guattari_anti-oedipus.txt')\n",
        "deleuze_difference = get_text(drive_path + '/phil_txts/deleuze_difference_repetition.txt')\n",
        "\n",
        "## marxism\n",
        "marx_kapital = get_text(drive_path + '/phil_txts/marx_kapital.txt')\n",
        "marx_manifesto = get_text(drive_path + '/phil_txts/marx_manifesto.txt')\n",
        "lenin_essential = get_text(drive_path + '/phil_txts/lenin_essential_works.txt')\n",
        "\n",
        "## capitalist economics\n",
        "smith_wealth = get_guten('http://www.gutenberg.org/files/3300/3300-0.txt')\n",
        "ricardo_political_economy = get_guten('http://www.gutenberg.org/cache/epub/33310/pg33310.txt')\n",
        "keynes_employment = get_text(drive_path + '/phil_txts/keynes_theory_of_employment.txt')\n",
        "\n",
        "## stoicism\n",
        "epictetus_enchiridion = get_guten('http://www.gutenberg.org/files/45109/45109-0.txt')\n",
        "aurelius_meditations = get_guten('http://www.gutenberg.org/cache/epub/2680/pg2680.txt')\n",
        "\n",
        "## new Wittgenstein text\n",
        "wittgenstein_certainty = get_text(drive_path + '/phil_txts/wittgenstein_certainty.txt')\n",
        "\n",
        "## Neitzsche texts\n",
        "nietzsche_ecce = get_guten('https://www.gutenberg.org/files/52190/52190-0.txt')\n",
        "nietzsche_twilight = get_guten('https://www.gutenberg.org/files/52263/52263-0.txt')\n",
        "nietzsche_antichrist = get_guten('https://www.gutenberg.org/cache/epub/19322/pg19322.txt')\n",
        "nietzsche_beyond = get_guten('https://www.gutenberg.org/cache/epub/4363/pg4363.txt')\n",
        "nietzsche_zarathustra = get_guten('https://www.gutenberg.org/files/1998/1998-0.txt')\n",
        "\n",
        "## feminism texts\n",
        "wollstonecraft_vindication = get_guten('http://www.gutenberg.org/cache/epub/3420/pg3420.txt')\n"
      ],
      "execution_count": 4,
      "outputs": []
    },
    {
      "cell_type": "code",
      "metadata": {
        "id": "rtnCGgKbrwVa"
      },
      "source": [
        "# use this cell to bring in the new texts\n",
        "\n",
        "beauvoir_second_sex = get_text(drive_path + '/phil_txts/beauvoir_second_sex.txt')"
      ],
      "execution_count": 5,
      "outputs": []
    },
    {
      "cell_type": "markdown",
      "metadata": {
        "id": "Gtbq1njQKsSn"
      },
      "source": [
        "With texts imported, we need to clip front and end matter."
      ]
    },
    {
      "cell_type": "code",
      "metadata": {
        "id": "8cvmG0rir1tU"
      },
      "source": [
        "plato_complete = plato_complete.split('find that an enticing')[1][388:].split('Demeter, whose cult at')[0]\n",
        "\n",
        "aristotle_vol_1 = aristotle_vol_1.split('1a20-1b9')[1].split('799a16')[0]\n",
        "aristotle_vol_2 = aristotle_vol_2.split('830a5-830b4')[1].split('1462a5-1462a13')[0]\n",
        "\n",
        "spinoza_ethics = spinoza_ethics.split('ranslated from the Latin by R.')[1][71:].split('End of the Ethics')[0]\n",
        "spinoza_improve_understanding = spinoza_improve_understanding.split('Farewell.*')[1][20:].split('End of ')[0]\n",
        "leibniz_theodicy = leibniz_theodicy.split('appeared in 1710 as the')[1][202:].split('SUMMARY OF THE CON')[0][:-140]\n",
        "descartes_discourse_method = descartes_discourse_method.split('PREFATORY NOTE')[1][18:].split('End of the Pr')[0]\n",
        "descartes_meditations = descartes_meditations.split('LETTER')[1][1:].split('AND REPLIES')[0]\n",
        "malebranche_search_truth = malebranche_search_truth.split(\"n's Mind and the Use H\")[1][64:].split('Beati qui')[0]\n",
        "\n",
        "locke_understanding_1 = locke_understanding_1.split('2 Dorset Court, 24th of May, 1689')[1][50:].split('End of the Pro')[0][:-30]\n",
        "locke_understanding_2 = locke_understanding_2.split('1. Man fitted to form articulated Sounds.')[1][4:].split('End of the Pro')[0][:-25]\n",
        "locke_treatise_gov = locke_treatise_gov.split('now lodged in Christ College, Cambridge.')[1][21:].split('FINIS.')[0]\n",
        "hume_treatise = hume_treatise.split('ADVERTISEMENT')[1][9:].split('End of Pro')[0][:-14]\n",
        "hume_natural_religion = hume_natural_religion.split('PAMPHILUS TO HERMIPPUS')[1][6:].split('End of the Pro')[0][:-22]\n",
        "berkeley_treatise = berkeley_treatise.split('are too apt to condemn an opinion before they rightly')[1][47:].split('End of the Pr')[0][:-22]\n",
        "berkeley_three_dialogues = berkeley_three_dialogues.split('THE FIRST DIALOGUE')[1][17:].split('End of the Pro')[0][:-22]\n",
        "\n",
        "kant_practical_reason = kant_practical_reason.split('erner Pluhar an')[1][329:].split('stone of the wi')[0][:-20]\n",
        "kant_judgement = kant_judgement.split('TO THE FIRST EDITION,* 1790')[1][1:].split('EXPLANATORY NOTES')[0][:-39]\n",
        "kant_pure_reason = kant_pure_reason.split('Bacon of Verulam')[1][33:].split('(Persius, Satires, iii, 78-9).')[0][:-1]\n",
        "fichte_ethics = fichte_ethics.split('(“Krause Nachschrift,” 1798/99)')[1][111:].split('Page 345')[0][:-2]\n",
        "hegel_logic = hegel_logic.split('complete transformati')[1][249:].split('It is a matter of speculation how Hegel would have rev')[0][:-80]\n",
        "hegel_phenomenology = hegel_phenomenology.split('PREFACE: ON SCIENTIFIC')[1][1:].split('1I Adaptation')[0][:-62]\n",
        "hegel_right = hegel_right.split('he immediate occasion f')[1][184:].split('I Hegel lectured on the topics in')[0][:-28]\n",
        "\n",
        "russell_problems_of_phil = russell_problems_of_phil.split('n the following pages')[1].split('BIBLIOGRAPHICAL NOTE')[0]\n",
        "russell_analylsis_of_mind = russell_analylsis_of_mind.split('H. D. Lewis')[2][21:].split('End of Pro')[0]\n",
        "moore_studies = moore_studies.split('Aristotelian Society,_ 1919-20.')[1][23:].split('E Wes')[0][:-10]\n",
        "wittgenstein_tractatus = wittgenstein_tractatus.split('TRACTATUS LOGICO-PHILOSOPHICUS')[1][70:].split('I NDEX')[0][:-8]\n",
        "wittgenstein_investigations = wittgenstein_investigations.split('catty')[1][787:].split(\"above', 351\")[0]\n",
        "lewis_papers1 = lewis_papers1.split('The fifteen papers')[1][61:].split('Acquai')[0][:-10]\n",
        "lewis_papers2 = lewis_papers2.split('Part Four Counterfactuals and Time')[1][17:].split('end p.342')[0]\n",
        "quine_quintessence = quine_quintessence.split('T R UT H B Y C O N V E N T I O N')[1].split('CREDITS')[0][:-7]\n",
        "popper_science = popper_science.split('F IRST E NGLISH E DITION, 1959')[1][2:].split('This is the end of the text of the original book.')[0]\n",
        "kripke_troubles = kripke_troubles.split('apters 2, 3, 7, 10, 11, and 13 are previously unpublish')[1][103:].split('ans, Gareth. 198')[0][:-25]\n",
        "kripke_naming = kripke_naming.split('xjvdsa')[1][10:].split('hese addenda represe')[0][:-35]\n",
        "\n",
        "ponty_perception = ponty_perception.split('P REFACE')[1].split('B IBLIOGRAPHY')[0][:-65]\n",
        "husserl_idea_of = husserl_idea_of.split('LECTUREl')[1][9:].split('Abstraction, ideating, 47, 50, 65')[0][:-10]\n",
        "husserl_crisis = husserl_crisis.split('§ 1.')[1].split('Appendix X:')[0]\n",
        "heidegger_being_time = heidegger_being_time.split(\"AUTHOR'S PREFACE TO THE\")[1][25:].split('Not \"the\" sole way.')[0][:-8]\n",
        "heidegger_track = heidegger_track.split('translated in several ')[1][15:].split('et-up [dar Gestellj as the uunost obli')[0][:-32]\n",
        "\n",
        "foucault_order = foucault_order.split('P REFACE')[1]\n",
        "foucault_madness = foucault_madness.split('ickering simulacra, an')[1][112:].split('Page 591')[0]\n",
        "foucault_clinic = foucault_clinic.split('iagnostic (Paris, 1962, p.')[1][15:].split('de Sade.')[0][:-33]\n",
        "derrida_writing = derrida_writing.split('(Flaubert, Preface d la d')[1][10:].split('Reb Derissa')[0]\n",
        "deleuze_oedipus = deleuze_oedipus.split('xjdsde')[1].split('jajielaks')[0]\n",
        "deleuze_difference = deleuze_difference.split('Introduction:')[1].split('Plateaus')[0][:-65]\n",
        "\n",
        "marx_kapital = ((marx_kapital.split('E MAGNITUDE OF VALUE)')[1].split('expropriation of the laborer.')[0])+'expropriation of the laborer.')\n",
        "marx_manifesto = marx_manifesto.split('page 29')[1].split('Mao')[0][:-15]\n",
        "lenin_essential = lenin_essential.split('We will now sum up the theoretical')[1].split('SUGGESTIONS FOR FURTHER READING')[0]\n",
        "\n",
        "smith_wealth = smith_wealth.split('INTRODUCTION AND PLAN OF THE WORK.')[2].split('End of the Project Gutenberg EBook of An Inquiry into the Nat')[0]\n",
        "ricardo_political_economy = ricardo_political_economy.split('ON VALUE.')[1].split('  FOOTNOTES:')[0]\n",
        "keynes_employment = keynes_employment.split('GENERAL INTRODUCTION')[1].split('PRINTING ERRORS IN THE FIRST EDITION CORRECTE')[0][:-145]\n",
        "\n",
        "epictetus_enchiridion = epictetus_enchiridion.split('New York, 1927.')[1][99:].split('Footnotes')[0][:-45]\n",
        "aurelius_meditations = aurelius_meditations.split('Book vi. Num. xlviii.')[1].split('APPENDIX')[0]\n",
        "\n",
        "wittgenstein_certainty = wittgenstein_certainty.split('advice about the translation of this work.')[1][3:]\n",
        "\n",
        "nietzsche_zarathustra = nietzsche_zarathustra.split('FIRST PART. ZA')[1].split('APPENDIX.')[0]\n",
        "nietzsche_beyond = nietzsche_beyond.split('PREFACE')[2].split('FROM THE HEIGHTS')[0]\n",
        "nietzsche_ecce = nietzsche_ecce.split('PREFACE')[2].split('EDITORIAL NOTE TO POETRY')[0]\n",
        "nietzsche_antichrist = nietzsche_antichrist.split('PREFACE')[2].split('THE END')[0]\n",
        "nietzsche_twilight = nietzsche_twilight.split('re than a merely intellectual movement.')[1].split('End of the Project Gutenberg EBook of The Twilight of the Idols')[0]\n",
        "\n",
        "wollstonecraft_vindication = wollstonecraft_vindication.split('LATE BISHOP OF AUTUN.')[1][13:][:-80]\n",
        "\n"
      ],
      "execution_count": 6,
      "outputs": []
    },
    {
      "cell_type": "code",
      "metadata": {
        "id": "1uDGcFA-r3w7"
      },
      "source": [
        "# use this cell to deal with the new text and experiment until we have a good result\n",
        "\n",
        "beauvoir_second_sex = beauvoir_second_sex.split('’s message of freedom and independence')[1][57:].split('* Bold Chronicl')[0]"
      ],
      "execution_count": 7,
      "outputs": []
    },
    {
      "cell_type": "markdown",
      "metadata": {
        "id": "UtyqxKStKvsc"
      },
      "source": [
        "Now we aggregate them by school and create a dictionary of various aggregates for future use. "
      ]
    },
    {
      "cell_type": "code",
      "metadata": {
        "id": "kghr6yp0r6Lv"
      },
      "source": [
        "# a list of books for each school, then aggregated and entered into a dictionary\n",
        "\n",
        "## original texts\n",
        "plato_texts = [plato_complete]\n",
        "aristotle_texts = [aristotle_vol_1, aristotle_vol_2]\n",
        "rationalist_texts = [spinoza_ethics, spinoza_improve_understanding, \n",
        "                    leibniz_theodicy, descartes_discourse_method, \n",
        "                     descartes_meditations, malebranche_search_truth]\n",
        "empiricist_texts = [locke_treatise_gov, locke_understanding_1, locke_understanding_2, \n",
        "                    hume_treatise, hume_natural_religion, berkeley_three_dialogues, \n",
        "                    berkeley_treatise]\n",
        "german_idealist_texts = [kant_practical_reason, kant_judgement, kant_pure_reason, \n",
        "                         fichte_ethics, hegel_logic, hegel_phenomenology, hegel_right]\n",
        "analytic_texts = [russell_analylsis_of_mind, russell_problems_of_phil, \n",
        "                  moore_studies, wittgenstein_investigations, wittgenstein_tractatus, \n",
        "                  lewis_papers1, lewis_papers2, quine_quintessence, popper_science, \n",
        "                  kripke_naming, kripke_troubles, wittgenstein_certainty]\n",
        "phenomenology_texts = [ponty_perception, husserl_crisis, \n",
        "                       husserl_idea_of, heidegger_being_time, heidegger_track]\n",
        "continental_texts = [foucault_clinic, foucault_madness, foucault_order, \n",
        "                     derrida_writing, deleuze_difference, deleuze_oedipus]\n",
        "marxist_texts = [marx_kapital, marx_manifesto, lenin_essential]\n",
        "capitalist_texts = [smith_wealth, ricardo_political_economy, keynes_employment]\n",
        "\n",
        "# new texts\n",
        "stoicism_texts = [epictetus_enchiridion, aurelius_meditations]\n",
        "nietzsche_texts = [nietzsche_antichrist, nietzsche_beyond, nietzsche_ecce,\n",
        "                  nietzsche_twilight, nietzsche_zarathustra]\n",
        "feminism_texts = [wollstonecraft_vindication, beauvoir_second_sex]\n",
        "\n",
        "\n",
        "all_texts = plato_texts + aristotle_texts + empiricist_texts + rationalist_texts + analytic_texts + continental_texts + phenomenology_texts + german_idealist_texts + marxist_texts + capitalist_texts + stoicism_texts + nietzsche_texts + feminism_texts\n",
        "all_texts_string = ' . '.join(all_texts)\n",
        "\n",
        "text_dict_list = {'plato': plato_texts, 'aristotle': aristotle_texts, \n",
        "             'empiricism': empiricist_texts, 'rationalism': rationalist_texts, \n",
        "            'german_idealism': german_idealist_texts, \n",
        "             'phenomenology': phenomenology_texts, 'analytic': analytic_texts, \n",
        "            'continental': continental_texts, 'marxism': marxist_texts,\n",
        "             'capitalism': capitalist_texts, 'stoicism': stoicism_texts,\n",
        "             'nietzsche': nietzsche_texts, 'feminsim': feminism_texts}\n",
        "\n",
        "text_dict = {}\n",
        "for school in text_dict_list.keys():\n",
        "    text_dict[school] = ' . '.join(text_dict_list[school])"
      ],
      "execution_count": 8,
      "outputs": []
    },
    {
      "cell_type": "markdown",
      "metadata": {
        "id": "lfajGZ7bK5Zg"
      },
      "source": [
        "### More In-Depth Cleaning\n",
        "\n",
        "The text here is often quite messy. We need to do some significant work to clean it up. This means dealing with things like:\n",
        "- headers of pages occurring repeatedly in the text\n",
        "- page numbers and citation numbers\n",
        "- footnotes, roman numerals, titles of chapters\n",
        "\n",
        "The process of dealing with these and getting the data ready for our models has a few steps:\n",
        "1. develop a general cleaning function that can work for every text (removing roman numerals, for example)\n",
        "2. examine each text itself and remove the specific headers that are relevant to it\n",
        "  - look for features that could capture all the footnotes here as well\n",
        "3. tokenize the text using spacy\n",
        "4. examine the tokens for unusual patterns \n",
        "  - there should be virtually no duplicate sentences\n",
        "  - we can remove sentences that are too short to mean anything\n",
        "  - remove sentences that contain terms that must be from footnotes (the author's name should be very rare in the actual text, for example)\n",
        "\n",
        "Unfortunately many of these steps can only be done ad hoc; there is no real way to know whether and what headers are in a text without examining the files individually. So the process is a bit tedious and time-consuming. Still, when we finish we will have data that is much cleaner and more useful for modeling. \n"
      ]
    },
    {
      "cell_type": "markdown",
      "metadata": {
        "id": "AcoDD6vbLpu9"
      },
      "source": [
        "#### 1. Baseline Cleaning"
      ]
    },
    {
      "cell_type": "markdown",
      "metadata": {
        "id": "8JLtqH5SLInh"
      },
      "source": [
        "Our first step is to develop a baseline cleaning function that can be applied to every text."
      ]
    },
    {
      "cell_type": "code",
      "metadata": {
        "id": "MkT0egnbr89k"
      },
      "source": [
        "def baseline_clean(to_correct, capitals=True, bracketed_fn=False, odd_words_dict={}):\n",
        "  # remove utf8 encoding characters and some punctuations\n",
        "  result = re.sub(r'[\\x00-\\x08\\x0b\\x0c\\x0e-\\x1f\\x7f-\\xff\\xad\\x0c6§\\\\\\£\\Â*_<>\"\"⎫•{}Γ~]', ' ', to_correct)\n",
        "  result = re.sub(r'[\\u2014\\u2013\\u2012-]', ' ', result)\n",
        "\n",
        "  # replace whitespace characters with actual whitespace\n",
        "  result = re.sub(r'\\s', ' ', result)\n",
        "\n",
        "  # replace odd quotation marks with a standard\n",
        "  result = re.sub(r'[‘’“”]', \"'\", result)\n",
        "\n",
        "  # replace the ﬀ, ﬃ and ﬁ with the appropriate counterparts\n",
        "  result = re.sub(r'ﬀ', 'ff', result)\n",
        "  result = re.sub(r'ﬁ', 'fi', result)\n",
        "  result = re.sub(r'ﬃ', 'ffi', result)\n",
        "\n",
        "  # replace some accented characters for ease of searching\n",
        "  result = re.sub(r'é', 'e', result)\n",
        "\n",
        "  # remove or standardize some recurring common and meaninless words/phrases\n",
        "  result = re.sub(r'\\s*This\\s*page\\s*intentionally\\s*left\\s*blank\\s*', ' ', result)\n",
        "  result = re.sub(r'(?i)Aufgabe\\s+', ' ', result)\n",
        "  result = re.sub(r',*\\s+cf\\.', ' ', result)\n",
        "\n",
        "  # some texts have footnotes conveniently in brackets - this removes them all, \n",
        "  # with a safety measure for unpaired brackets, and deletes all brackets afterwards\n",
        "  if bracketed_fn:\n",
        "    result = re.sub(r'\\[.{0,300}\\]|{.{0,300}}|{.{0,300}\\]|\\[.{0,300}}', ' ', result)\n",
        "  result = re.sub(r'[\\[\\]{}]', ' ', result)\n",
        "\n",
        "  # unify some abbreviations\n",
        "  result = re.sub(r'&', 'and', result)\n",
        "  result = re.sub(r'\\se\\.g\\.\\s', ' eg ', result)\n",
        "  result = re.sub(r'\\si\\.e\\.\\s', ' ie ', result)\n",
        "  result = re.sub('coroll\\.', 'coroll', result)\n",
        "  result = re.sub('pt\\.', 'pt', result)\n",
        "\n",
        "  # remove roman numerals, first capitalized ones\n",
        "  result = re.sub(r'\\s((I{2,}V*X*\\.*)|(IV\\.*)|(IX\\.*)|(V\\.*)|(V+I*\\.*)|(X+L*V*I*]\\.*))\\s', ' ', result)\n",
        "  # then lowercase\n",
        "  result = re.sub(r'\\s((i{2,}v*x*\\.*)|(iv\\.*)|(ix\\.*)|(v\\.*)|(v+i*\\.*)|(x+l*v*i*\\.*))\\s', ' ', result)\n",
        "\n",
        "  # remove periods and commas flanked by numbers\n",
        "  result = re.sub(r'\\d\\.\\d', ' ', result)\n",
        "  result = re.sub(r'\\d,\\d', ' ', result)\n",
        "\n",
        "  # remove the number-letter-number pattern used for many citations\n",
        "  result = re.sub(r'\\d*\\w{,2}\\d', ' ', result)\n",
        "\n",
        "  # remove numerical characters\n",
        "  result = re.sub(r'\\d+', ' ', result)\n",
        "\n",
        "  # remove words of 2+ characters that are entirely capitalized \n",
        "  # (these are almost always titles, headings, or speakers in a dialogue)\n",
        "  # remove capital I's that follow capital words - these almost always roman numerals\n",
        "  # some texts do use these capitalizations meaningfully, so we make this optional\n",
        "  if capitals:\n",
        "    result = re.sub(r'[A-Z]{2,}\\s+I', ' ', result)\n",
        "    result = re.sub(r'[A-Z]{2,}', ' ', result)\n",
        "\n",
        "  # remove isolated colons and semicolons that result from removal of titles\n",
        "  result = re.sub(r'\\s+:\\s*', ' ', result)\n",
        "  result = re.sub(r'\\s+;\\s*', ' ', result)\n",
        "\n",
        "  # remove isolated letters (do it several times because strings of isolated letters do not get captured properly)\n",
        "  result = re.sub(r'\\s[^aAI\\.]\\s', ' ', result)\n",
        "  result = re.sub(r'\\s[^aAI\\.]\\s', ' ', result)\n",
        "  result = re.sub(r'\\s[^aAI\\.]\\s', ' ', result)\n",
        "  result = re.sub(r'\\s[^aAI\\.]\\s', ' ', result)\n",
        "  result = re.sub(r'\\s[^aAI\\.]\\s', ' ', result)\n",
        "  result = re.sub(r'\\s[^aAI\\.]\\s', ' ', result)\n",
        "\n",
        "  # remove isolated letters at the end of sentences or before commas\n",
        "  result = re.sub(r'\\s[^aI]\\.', '.', result)\n",
        "  result = re.sub(r'\\s[^aI],', ',', result)\n",
        "\n",
        "  # deal with spaces around periods and commas\n",
        "  result = re.sub(r'\\s+,\\s+', ', ', result)\n",
        "  result = re.sub(r'\\s+\\.\\s+', '. ', result)\n",
        "\n",
        "  # remove empty parantheses\n",
        "  result = re.sub(r'(\\(\\s*\\.*\\s*\\))|(\\(\\s*,*\\s*)\\)', ' ', result)\n",
        "  result = re.sub(r'\\.\\)\\.', '.', result)\n",
        "  result = re.sub(r'\\.\\(\\.', '.', result)\n",
        "\n",
        "  # reduce multiple periods, commas, or whitespaces into a single one\n",
        "  result = re.sub(r'\\.+', '.', result)\n",
        "  result = re.sub(r',+', ',', result)\n",
        "  result = re.sub(r'\\s+', ' ', result)\n",
        "\n",
        "  # deal with isolated problem cases discovered in the data:\n",
        "  for key in odd_words_dict.keys():\n",
        "    result = re.sub(r''+key+'', odd_words_dict[key], result)\n",
        "\n",
        "  return result"
      ],
      "execution_count": 9,
      "outputs": []
    },
    {
      "cell_type": "code",
      "metadata": {
        "colab": {
          "base_uri": "https://localhost:8080/",
          "height": 142
        },
        "id": "bOIF01WGsDzv",
        "outputId": "8252c184-dff6-4f37-8afb-c369a0a7b58d"
      },
      "source": [
        "# use this cell to run the function on the new text and see if anything looks odd\n",
        "baseline_clean(beauvoir_second_sex)[10000:30000]"
      ],
      "execution_count": 10,
      "outputs": [
        {
          "output_type": "execute_result",
          "data": {
            "application/vnd.google.colaboratory.intrinsic+json": {
              "type": "string"
            },
            "text/plain": [
              "\"y in opposition; it asserts itself as the essential and sets up the other as inessential, as the object. But the other consciousness has an opposing reciprocal claim: traveling, a local is shocked to realize that in neighboring countries locals view him as a foreigner; between villages, clans, nations, and classes there are wars, potlatches, agreements, treaties, and struggles that remove the absolute meaning from the idea of the Other and bring out its relativity; whether one likes it or not, individuals and groups have no choice but to recognize the reciprocity of their relation. How is it, then, that between the sexes this reciprocity has not been put forward, that one of the terms has been asserted as the only essential one, denying any relativity in regard to its correlative, defining the latter as pure alterity? Why do women not contest male sovereignty? No subject posits itself spontaneously and at once as the inessential from the outset; it is not the Other who, defining itself as Other, defines the One; the Other is posited as Other by the One positing itself as One. But in order for the Other not to turn into the One, the Other has to submit to this foreign point of view. Where does this submission in woman come from? There are other cases where, for a shorter or longer time, one category has managed to dominate another absolutely. It is often numerical inequality that confers this privilege: the majority imposes its law on or persecutes the minority. But women are not a minority like American blacks, or like Jews: there are as many women as men on the earth. Often, the two opposing groups concerned were once independent of each other; either they were not aware of each other in the past, or they accepted each other's autonomy; and some historical event subordinated the weaker to the stronger: the Jewish Diaspora, slavery in America, and the colonial conquests are facts with dates. In these cases, for the oppressed there was a before: they share a past, a tradition, sometimes a religion, or a culture. In this sense, the parallel Bebel draws between women and the proletariat would be the best founded: proletarians are not a numerical minority either, and yet they have never formed a separate group. However, not one event but a whole historical development explains their existence as a class and accounts for the distribution of these individuals in this class. There have not always been proletarians: there have always been women; they are women by their physiological structure; as far back as history can be traced, they have always been subordinate to men; their dependence is not the consequence of an event or a becoming, it did not happen. Alterity here appears to be an absolute, partly because it falls outside the accidental nature of historical fact. A situation created over time can come undone at another time blacks in Haiti for one are a good example; on the contrary, a natural condition seems to defy change. In truth, nature is no more an immutable given than is historical reality. If woman discovers herself as the inessential and never turns into the essential, it is because she does not bring about this transformation herself. Proletarians say 'we.' So do blacks. Positing themselves as subjects, they thus transform the bourgeois or whites into 'others.' Women except in certain abstract gatherings such as conferences do not use 'we'; men say 'women,' and women adopt this word to refer to themselves; but they do not posit themselves authentically as Subjects. The proletarians made the revolution in Russia, the blacks in Haiti, the Indo Chinese are fighting in Indochina. Women's actions have never been more than symbolic agitation; they have won only what men have been willing to concede to them; they have taken nothing; they have received. It is that they lack the concrete means to organize themselves into a unit that could posit itself in opposition. They have no past, no history, no religion of their own; and unlike the proletariat, they have no solidarity of labor or interests; they even lack their own space that makes communities of American blacks, the Jews in ghettos, or the workers in Saint Denis or Renault factories. They live dispersed among men, tied by homes, work, economic interests, and social conditions to certain men fathers or husbands more closely than to other women. As bourgeois women, they are in solidarity with bourgeois men and not with women proletarians; as white women, they are in solidarity with white men and not with black women. The proletariat could plan to massacre the whole ruling class; a fanatic Jew or black could dream of seizing the secret of the atomic bomb and turning all of humanity entirely Jewish or entirely black: but a woman could not even dream of exterminating males. The tie that binds her to her oppressors is unlike any other. The division of the sexes is a biological given, not a moment in human history. Their opposition took shape within an original Mitsein, and she has not broken it. The couple is a fundamental unit with the two halves riveted to each other: cleavage of society by sex is not possible. This is the fundamental characteristic of woman: she is the Other at the heart of a whole whose two components are necessary to each other. One might think that this reciprocity would have facilitated her liberation; when Hercules spins wool at Omphale's feet, his desire enchains him. Why was Omphale unable to acquire long lasting power? Medea, in revenge against Jason, kills her children: this brutal legend suggests that the bond attaching the woman to her child could have given her a formidable upper hand. In Lysistrata, Aristophanes lightheartedly imagined a group of women who, uniting together for the social good, tried to take advantage of men's need for them: but it is only a comedy. The legend that claims that the ravished Sabine women resisted their ravishers with obstinate sterility also recounts that by whipping them with leather straps, the men magically won them over into submission. Biological need sexual desire and desire for posterity which makes the male dependent on the female, has not liberated women socially. Master and slave are also linked by a reciprocal economic need that does not free the slave. That is, in the master slave relation, the master does not posit the need he has for the other; he holds the power to satisfy this need and does not mediate it; the slave, on the other hand, out of dependence, hope, or fear, internalizes his need for the master; however equally compelling the need may be to them both, it always plays in favor of the oppressor over the oppressed: this explains the slow pace of working class liberation, for example. Now, woman has always been, if not man's slave, at least his vassal; the two sexes have never divided the world up equally; and still today, even though her condition is changing, woman is heavily handicapped. In no country is her legal status identical to man's, and often it puts her at a considerable disadvantage. Even when her rights are recognized abstractly, long standing habit keeps them from being concretely manifested in customs. Economically, men and women almost form two castes; all things being equal, the former have better jobs, higher wages, and greater chances to succeed than their new female competitors; they occupy many more places in industry, in politics, and so forth, and they hold the most important positions. In addition to their concrete power, they are invested with a prestige whose tradition is reinforced by the child's whole education: the present incorporates the past, and in the past all history was made by males. At the moment that women are beginning to share in the making of the world, this world still belongs to men: men have no doubt about this, and women barely doubt it. Refusing to be the Other, refusing complicity with man, would mean renouncing all the advantages an alliance with the superior caste confers on them. Lord man will materially protect liege woman and will be in charge of justifying her existence: along with the economic risk, she eludes the metaphysical risk of a freedom that must invent its goals without help. Indeed, beside every individual's claim to assert himself as subject an ethical claim lies the temptation to flee freedom and to make himself into a thing: it is a pernicious path because the individual, passive, alienated, and lost, is prey to a foreign will, cut off from his transcendence, robbed of all worth. But it is an easy path: the anguish and stress of authentically assumed existence are thus avoided. The man who sets the woman up as an Other will thus find in her a deep complicity. Hence woman makes no claim for herself as subject because she lacks the concrete means, because she senses the necessary link connecting her to man without positing its reciprocity, and because she often derives satisfaction from her role as Other. But a question immediately arises: How did this whole story begin? It is understandable that the duality of the sexes, like all duality, be expressed in conflict. It is understandable that if one of the two succeeded in imposing its superiority, it had to establish itself as absolute. It remains to be explained how it was that man won at the outset. It seems possible that women might have carried off the victory, or that the battle might never be resolved. Why is it that this world has always belonged to men and that only today things are beginning to change? Is this change a good thing? Will it bring about an equal sharing of the world between men and women or not? These questions are far from new; they have already had many answers; but the very fact that woman is Other challenges all the justifications that men have ever given: these were only too clearly dictated by their own interest. 'Everything that men have written about women should be viewed with suspicion, because they are both judge and party,' wrote Poulain de la Barre, a little known seventeenth century feminist. Males have always and everywhere paraded their satisfaction of feeling they are kings of creation. 'Blessed be the Lord our God, and the Lord of all worlds that has not made me a woman,' Jews say in their morning prayers; meanwhile, their wives resignedly murmur: 'Blessed be the Lord for creating me according to his will.' Among the blessings Plato thanked the gods for was, first, being born free and not a slave and, second, a man and not a woman. But males could not have enjoyed this privilege so fully had they not considered it as founded in the absolute and in eternity: they sought to make the fact of their supremacy a right. 'Those who made and compiled the laws, being men, favored their own sex, and the jurisconsults have turned the laws into principles,' Poulain de la Barre continues. Lawmakers, priests, philosophers, writers, and scholars have gone to great lengths to prove that women's subordinate condition was willed in heaven and profitable on earth. Religions forged by men reflect this will for domination: they found ammunition in the legends of Eve and Pandora. They have put philosophy and theology in their service, as seen in the previously cited words of Aristotle and Saint Thomas. Since ancient times, satirists and moralists have delighted in depicting women's weaknesses. The violent indictments brought against them all through French literature are well known: Montherlant, with less verve, picks up the tradition from Jean de Meung. This hostility seems sometimes founded but is often gratuitous; in truth, it covers up a more or less skillfully camouflaged will to self justification. 'It is much easier to accuse one sex than to excuse the other,' says Montaigne. In certain cases, the process is transparent. It is striking, for example, that the Roman code limiting a wife's rights invokes 'the imbecility and fragility of the sex' just when a weakening family structure makes her a threat to male heirs. It is striking that in the sixteenth century, to keep a married woman under wardship, the authority of Saint Augustine affirming 'the wife is an animal neither reliable nor stable' is called on, whereas the unmarried woman is recognized as capable of managing her own affairs. Montaigne well understood the arbitrariness and injustice of the lot assigned to women: 'Women are not wrong at all when they reject the rules of life that have been introduced into the world, inasmuch as it is the men who have made these without them. There is a natural plotting and scheming between them and us.' But he does not go so far as to champion their cause. It is only in the eighteenth century that deeply democratic men begin to consider the issue objectively. Diderot, for one, tries to prove that, like man, woman is a human being. A bit later, John Stuart Mill ardently defends women. But these philosophers are exceptional in their impartiality. In the nineteenth century the feminist quarrel once again becomes a partisan quarrel; one of the consequences of the Industrial Revolution is that women enter the labor force: at that point, women's demands leave the realm of the theoretical and find economic grounds; their adversaries become all the more aggressive; even though landed property is partially discredited, the bourgeoisie clings to the old values where family solidity guarantees private property: it insists all the more fiercely that woman's place be in the home as her emancipation becomes a real threat; even within the working class, men tried to thwart women's liberation because women were becoming dangerous competitors especially as women were used to working for low salaries. To prove women's inferiority, antifeminists began to draw not only, as before, on religion, philosophy, and theology but also on science: biology, experimental psychology, and so forth. At most they were willing to grant 'separate but equal status' to the other sex. That winning formula is most significant: it is exactly that formula the Jim Crow laws put into practice with regard to black Americans; this so called egalitarian segregation served only to introduce the most extreme forms of discrimination. This convergence is in no way pure chance: whether it is race, caste, class, or sex reduced to an inferior condition, the justification process is the same. 'The eternal feminine' corresponds to 'the black soul' or 'the Jewish character.' However, the Jewish problem on the whole is very different from the two others: for the anti Semite, the Jew is more an enemy than an inferior, and no place on this earth is recognized as his own; it would be preferable to see him annihilated. But there are deep analogies between the situations of women and blacks: both are liberated today from the same paternalism, and the former master caste wants to keep them 'in their place,' that is, the place chosen for them; in both cases, they praise, more or less sincerely, the virtues of the 'good black,' the carefree, childlike, merry soul of the resigned black, and the woman who is a 'true woman' frivolous, infantile, irresponsible, the woman subjugated to man. In both cases, the ruling caste bases its argument on the state of affairs it created itself. The familiar line from George Bernard Shaw sums it up: The white American relegates the black to the rank of shoe shine boy, and then concludes that blacks are only good for shining shoes. The same vicious circle can be found in all analogous circumstances: when an individual or a group of individuals is kept in a situation of inferiority, the fact is that he or they are inferior. But the scope of the verb to be must be understood; bad faith means giving it a substantive value, when in fact it has the sense of the Hegelian dynamic: to be is to have become, to have been made as one manifests oneself. Yes, women in general are today inferior to men; that is, their situation provides them with fewer possibilities: the question is whether this state of affairs must be perpetuated. Many men wish it would be: not all men have yet laid down their arms. The conservative bourgeoisie continues to view women's liberation as a danger threatening their morality and their interests. Some men feel threatened by women's competition. In Hebdo Latin the other day, a student declared: 'Every woman student who takes a position as a doctor or lawyer is stealing a place from us.' That student never questioned his rights over this world. Economic interests are not the only ones in play. One of the benefits that oppression secures for the oppressor is that the humblest among them feels superior: in the United States a 'poor white' from the South can console himself for not being a 'dirty nigger'; and more prosperous whites cleverly exploit this pride. Likewise, the most mediocre of males believes himself a demigod next to women. It was easier for. de Montherlant to think himself a hero in front of women (handpicked, by the way) than to act the man among men, a role that many women assumed better than he did. Thus, in one of his articles in Le Figaro Litt raire in September. Claude Mauriac whom everyone admires for his powerful originality cou write about women: 'We listen in a tone sic! of polite indifference to the most brilliant one among them, knowing that her intelligence, in a more or less dazzling way, reflects ideas that come from us.' Clearly his female interlocutor does not reflect. Mauriac's own ideas, since he is known not to have any; that she reflects ideas originating with men is possible: among males themselves, more than one of them takes as his own opinions he did not invent; one might wonder if it would not be in. Claude Mauriac's interest to converse with a good reflection of Descartes, Marx, or Gide rather than with himself; what is remarkable is that with the ambiguous 'we,' he identifies with Saint Paul, Hegel, Lenin, and Nietzsche, and from their heights he looks down on the herd of women who dare to speak to him on an equal footing; frankly, I know of more than one woman who would not put up with. Mauriac's 'tone of polite indifference.' I have stressed this example because of its disarming masculine na vet. Men profit in many other more subtle ways from woman's alterity. For all those suffering from an inferiority complex, this is a miraculous liniment; no one is more arrogant toward women, more aggressive or more disdainful, than a man anxious about his own virility. Those who are not threatened by their fellow men are far more likely to recognize woman as a counterpart; but even for them the myth of the Woman, of the Other, remains precious for many reasons; they can hardly be blamed for not wanting to lightheartedly sacrifice all the benefits they derive from the myth: they know what they lose by relinquishing the woman of their dreams, but they do not know what the woman of tomorrow will bring them. It takes great abnegation to refuse to posit oneself as unique and absolute Subject. Besides, the vast majority of men do not explicitly make this position their own. They do not posit woman as inferior: they are too imbued today with the democratic ideal not to recognize all human beings as equals. Within the family, the male child and then the young man sees the woman as having the same social dignity as the adult male; afterward, he experiences in desire and love the resistance and independence of the desired and loved woman; married, he respects in his wife the spouse and the mother, and in the concrete experience of married life she affirms herself opposite him as a freedom. He can thus convince himself that there is no longer a social hierarchy between the sexes and that on the whole, in spite of their differences, woman is an equal. As he nevertheless recognizes some points of inferiority professional incapacity being the predominant one he attributes them to nature. When he has an attitude of benevolence and partnership toward a \""
            ]
          },
          "metadata": {
            "tags": []
          },
          "execution_count": 10
        }
      ]
    },
    {
      "cell_type": "markdown",
      "metadata": {
        "id": "6e3D7iGALiMC"
      },
      "source": [
        "#### 2. Text-by-Text Cleaning"
      ]
    },
    {
      "cell_type": "markdown",
      "metadata": {
        "id": "i_T4TRdEL2aM"
      },
      "source": [
        "In this step we will remove headers and other offensive features of specific texts. \n",
        "\n",
        "The most common problem is the presence of headings that appear at the top of each page in the original book. When converted to a string, these then get interpolated into the text, interrupting the normal flow of sentences (this happens for page numbers and citations as well, but those cases are much easier to deal with). \n",
        "\n",
        "To deal with this, we build a list of the headers for each book and then delete them from the string that represents the book. In the process, we may create some issues if the header is common, so we are careful to only delete when the loss is worth it.\n",
        "\n",
        "In some cases, of course, the texts are already clean and no extra steps are required."
      ]
    },
    {
      "cell_type": "code",
      "metadata": {
        "id": "JxmXkIWbsJVs"
      },
      "source": [
        "plato_to_rm = ['Apology', 'Sophist', 'Statesman', 'Symposium', \n",
        "                 'Second Alcibiades', 'Rival Lovers', 'Greater Hippias', \n",
        "                 'Lesser Hippias', 'Republic', 'Laws', 'Letters', 'Definitions',\n",
        "                 'On Virtue', 'On Justice', 'Epigrams', 'Translated b.+\\.']\n",
        "\n",
        "aristotle_to_rm = ['Aristotle', 'Book']\n",
        "\n",
        "descartes_meditations_to_rm = ['Letter of Dedication', 'Preface to the Reader', \n",
        "                               'Synopsis', 'First Meditation', 'Second Meditation', \n",
        "                               'Third Meditation', 'Fourth Meditation', 'Fifth Meditation', \n",
        "                               'Sixth Meditation']\n",
        "\n",
        "malebranche_search_to_rm = ['Nicolas Malebranche', 'Truth', 'Nicolas',]\n",
        "\n",
        "locke_gov_to_rm = ['Sect.']\n",
        "\n",
        "berkeley_dialogues_to_rm = ['PHIL.', 'PHILONOUS.', 'HYL.', 'HYLAS.']\n",
        "\n",
        "kant_judgement_to_rm = ['Introduction', 'Preface to the First Edition', \n",
        "                        'Critique of Aesthetic Judgement', 'Critique of Teleological Judgement',\n",
        "                        'Analytic of the Beautiful', 'Analytic of the Sublime',\n",
        "                        'Anaytic of Teleological Judgement', 'Dialectic of Aeshetic Judgement',\n",
        "                        'Critique of Teleological Judgement', 'Dialectic of Teleological Judgement',\n",
        "                        'Theory of the Method of Teleological Judgement',\n",
        "                        '‘First Introduction’ to the Critique of Judgement']\n",
        "\n",
        "kant_pure_reason_to_rm = ['Introduction', '\\s+Section\\s.+', '\\sDoctrine\\s*of\\s*Elements\\.\\s*.+',\n",
        "                          '\\sDoctrine\\s*of\\s*Method\\.\\s*.+']                        \n",
        "\n",
        "\n",
        "fichte_ethics_to_rm = ['Page']\n",
        "\n",
        "hegel_SoL_to_rm = ['Georg Wilhelm Friedrich Hegel', 'The Science of Logic']\n",
        "\n",
        "hegel_right_to_rm = ['Preface', 'Philosophy of Right', 'Philosophy ofRight', \n",
        "                     'Philosophy ojRight', 'Philosophy oj Right', \n",
        "                     'Introduction', 'Abstract Right', 'Ethical Life', 'Ethical Lift',\n",
        "                     'Morality']\n",
        "\n",
        "wittgenstein_tract_to_rm = ['tractatus logico-philosophicus']\n",
        "\n",
        "lewis_papers_1_to_rm = ['Introduction', 'Ontology', 'Holes', 'Anselm and Actuality', \n",
        "                        'Counterpart Theory and Quantified Modal Logic', \n",
        "                        'Counterparts of Persons and Their Bodies', 'Survival and Identity',\n",
        "                        'How to Define Theoretical Terms', 'Philosophy of Mind', \n",
        "                        'An Argument for the Identity Theory', 'Radical Interpretation',\n",
        "                        'Mad Pain and Partian Pain', 'Attitudes De Dicto and De Se',\n",
        "                        'Philosophy of Language', 'Languages and Language',\n",
        "                        'General Semantics', 'Scorekeeping in a Language Game',\n",
        "                        'Tensions', 'Truth in Fiction', 'This page intentionally left blank']\n",
        "\n",
        "lewis_papers_2_to_rm = ['end\\sp\\.']\n",
        "\n",
        "quine_quintessence_to_rm = ['(?i)\\s+Truth\\s+by\\s+Convention\\s+', '(?i)\\s+Two\\s+Dogams\\s+of\\s+Empiricism',\n",
        "                            '(?i)\\s+Two\\s+in\\s+Retrospect\\s+', '(?i)\\s+Carnap\\s+and\\s+Logical\\s+Truth',\n",
        "                            '(?i)\\s+Speaking\\s+of\\s+Objects\\s+', '(?i)\\s+Reference\\s+',\n",
        "                            '(?i)\\s+Translation\\s+and\\s+Meaning', '(?i)\\s+Progress\\s+on\\s+Two\\s+Fronts\\s+',\n",
        "                            '(?i)\\s+On\\s+What\\s+There\\s+is\\s+', '(?i)\\s+the\\s+scope\\s+and\\s+language\\s+of\\s+science\\s+',\n",
        "                            '(?i)\\s+on\\s+simple\\s+theories\\s+of\\s+a\\s+complex\\s+world\\s+',\n",
        "                            '(?i)\\s+ontic\\s+decision\\s+', '(?i)\\s+things\\s+and\\s+their\\s+place\\s+in\\s+theories\\s+',\n",
        "                            \"(?i)\\s+on\\s+Carnap\\s*'s\\s+views\\s+on\\s+ontology\\s+\",\n",
        "                            '(?i)\\s+empistemology\\s+naturalized\\s+', \n",
        "                            \"(?i)\\s+naturalism\\s;\\s+or,\\s+living\\s+within\\s+one\\s*'s\\s+means\\s+\",\n",
        "                            '(?i)\\s+the\\s+nature\\s+of\\s+natural\\s+knowledge\\s+',\n",
        "                            '(?i)\\s+five\\s+milestones\\s+of\\s+empiricism\\s+',\n",
        "                            '(?i)\\s+on\\s+mental\\s+entities\\s+', '(?i)\\s+mind\\s+and\\s+verbal\\s+dispositions\\s+',\n",
        "                            '(?i)\\s+confessions\\s+of\\s+a\\s+confirmed\\s+extensionalist\\s+',\n",
        "                            '(?i)\\s+quantifiers\\s+and\\s+propositional\\s+attitudes\\s+',\n",
        "                            '(?i)\\s+intensions\\s+revisited\\s+', '(?i)\\s+reference\\s+and\\s+modality\\s+',\n",
        "                            '(?i)\\s+three\\s+grades\\s+of\\s+modal\\s+involvement\\s+']\n",
        "\n",
        "popper_science_to_rm = ['the logic of science', 'a survey of some fundamental problems',\n",
        "                        'preface', 'on the problem of a theory of scientific method',\n",
        "                        'some structural components of a theory of experience',\n",
        "                        'degrees of testability', 'some observations on quantum theory',\n",
        "                        'corroboration, or how a theory stands up to tests']\n",
        "\n",
        "kripke_troubles_to_rm = ['Identity and Necessity', 'On Two Paradoxes of Knowledge',\n",
        "                          'Vacuous Names and Fictional Entities', 'Outline of a Theory of Truth',\n",
        "                          \"Speaker's Reference and Semantic Reference\",\n",
        "                          'A Puzzle about Belief', 'Nozick on Knowledge', \n",
        "                          \"Russell's Notion of Scope\", \"Frege's Theory of Sense and Reference\",\n",
        "                          'The First Person', 'Unrestricted Exportation and Some Morals for the Philosophy',\n",
        "                          'Presupposition and Anaphora', 'A Puzzle about Time and Thought']\n",
        "\n",
        "ponty_perception_to_rm = ['phenomenology of perception', 'preface',\n",
        "                          \"the 'sensation' as a unit of experience\", \n",
        "                          \"'association' and the 'projection of memories'\",\n",
        "                          \"'attention' and 'judgement'\", 'the phenomenal field', \n",
        "                          'experience and objective thought', 'the body as object and mechanistic psychology',\n",
        "                          'the experience of the body and classical psychology',\n",
        "                          \"the spatiality of one’s own body and motility\",\n",
        "                          \"the synthesis of one's own body\", 'the body in its sexual being',\n",
        "                          'the body as expression, and speech',\n",
        "                          'theory of the body is already a theory of perception',\n",
        "                          'sense experience', 'the thing and the natural world',\n",
        "                          'other selves and the human world']\n",
        "\n",
        "husserl_crisis_to_rm = ['Part\\s+', 'Idealization and the Science of Reality', \n",
        "                        'Denial of Scientific Philosophy', 'The Origin of Geometry',\n",
        "                        'Natural Science and Humanistic Science',\n",
        "                        'The Vienna Lecture']\n",
        "\n",
        "heidegger_b_and_t_to_rm = ['\\s+Being\\s*and\\s*Time\\s+', 'Int.', 'I.m', 'I.n']                                                  \n",
        "\n",
        "foucault_order_to_rm = ['the order of things', 'the prose of the world', '\\s+classifying\\s+',\n",
        "                        'exchanging', 'the limits of representation',\n",
        "                        'labour, life, language', 'man and his doubles']\n",
        "\n",
        "foucault_madness_to_rm = ['\\s+Page\\s']\n",
        "\n",
        "foucault_clinic_to_rm = ['\\(\\(.+\\)\\)']\n",
        "\n",
        "deleuze_difference_to_rm = ['Difference and Repetition', 'Difference in Itself',\n",
        "                            'Repetition for Itself', 'The Image of Thought',\n",
        "                            'Ideas and the Synthesis of Difference',\n",
        "                            'Asymmetrical Synthesis of the Sensible', 'Conclusion']\n",
        "\n",
        "marx_kapital_to_rm = ['http.+', 'Capital\\s+Vol\\..+']\n",
        "\n",
        "marx_manifesto_to_rm = ['\\s+page\\s+\\d+']\n",
        "\n",
        "keynes_employment_to_rm = ['(?i)\\s+The\\s+General\\s+Theory\\s+of\\s+Employment,*\\s+interest\\s+and\\s+money\\s+by\\s+john\\s+maynard\\s+keynes\\s+',\n",
        "                           'Table of Contents \\| Previous Chapter \\| Next Chapter', \n",
        "                           'Chapter\\s+\\d+']       \n",
        "\n",
        "do_not_remove_capitals = ['essay concerning human understanding bk 2', \n",
        "                          'a treatise of human nature', \n",
        "                          'dialogues concerning natural religion', 'three dialogues', \n",
        "                          'a treatise concerning the principles of human knowledge',\n",
        "                          'thus spake zarathustra', 'beyond good and evil']\n",
        "\n",
        "bracketed_fn = ['critique of practical reason', 'the communist manifesto', 'ecce homo']                                          "
      ],
      "execution_count": 11,
      "outputs": []
    },
    {
      "cell_type": "markdown",
      "metadata": {
        "id": "4Z6-svnmMCtz"
      },
      "source": [
        "#### 3. Tokenizing and Rendering the Texts as a Dataframe"
      ]
    },
    {
      "cell_type": "markdown",
      "metadata": {
        "id": "meZEHHSgMEBd"
      },
      "source": [
        "We now are in a position to apply these methods to each text and return a dataframe for each of them. Although we are interested primarily in the schools of thought in general, it would be convenient and more useful for future projects if we also include the specific authors and titles. \n",
        "\n",
        "To prepare for this project, we build a dictionary for each school, so that we can then iterate over a list of dictionaries to create a dataframe for each."
      ]
    },
    {
      "cell_type": "code",
      "metadata": {
        "colab": {
          "base_uri": "https://localhost:8080/"
        },
        "id": "Ct6SmxnTsM1k",
        "outputId": "2a7f35b5-d7b5-4555-e0eb-905d11692753"
      },
      "source": [
        "# prepare lists that will be zipped into a dictionary\n",
        "\n",
        "# texts \n",
        "all_texts\n",
        "\n",
        "# titles\n",
        "title_list = [\"plato - complete works\", \"aristotle - complete works\", \"aristotle - complete works\",\n",
        "              'second treatise on government', 'essay concerning human understanding',\n",
        "              'essay concerning human understanding', 'a treatise of human nature', \n",
        "              'dialogues concerning natural religion', 'three dialogues', \n",
        "              'a treatise concerning the principles of human knowledge',\n",
        "              'ethics', 'on the improvement of understanding', 'theodicy',\n",
        "              'discourse on method', 'meditations on first philosophy', 'the search after truth',\n",
        "              'the analysis of mind', 'the problems of philosophy', 'philosophical studies',\n",
        "              'philosophical investigations', 'tractatus logico-philosophicus',\n",
        "              \"lewis - papers\", \"lewis - papers\", 'quintessence', \n",
        "              'the logic of scientific discovery', 'naming and necessity', \n",
        "              'philosophical troubles', 'on certainty', 'the birth of the clinic',\n",
        "              'history of madness',\n",
        "              'the order of things', 'writing and difference', 'difference and repetition',\n",
        "              'anti-oedipus', 'the phenomenology of perception', \n",
        "              'the crisis of the european sciences and phenomenology', \n",
        "              'the idea of phenomenology',\n",
        "              'being and time', 'off the beaten track', 'critique of practical reason', \n",
        "              'critique of judgement', 'critique of pure reason', \n",
        "              'the system of ethics', 'science of logic', 'the phenomenology of spirit',\n",
        "              'elements of the philosophy of right', 'capital', 'the communist manifesto', \n",
        "              'essential works of lenin', 'the wealth of nations', \n",
        "              'on the principles of political economy and taxation',\n",
        "              'a general theory of employment, interest, and money', 'enchiridion',\n",
        "              'meditations', 'the antichrist', 'beyond good and evil', 'ecce homo',\n",
        "              'twilight of the idols', 'thus spake zarathustra', 'vindication of the rights of woman',\n",
        "              'the second sex']\n",
        "\n",
        "# # dates\n",
        "publication_dates = [1997, 1991, 1991, 2010, 2004, 2004, 2003, 2009, 2009, 2009,\n",
        "                     2003, 1997, 2005, 2008, 2008, 1997, 2008, 2004, 2015, 1986, \n",
        "                     2001, 2008, 2008, 2004, 2002, 1990, 2011, 1969, 2003, 2006,\n",
        "                     2002, 2001, 1994, 1997, 2002, 1970, 1999, 1996, 2001, 2002, \n",
        "                     2007, 1998, 2005, 2010, 1977, 1991, 1887, 1970, 1966, 2009, \n",
        "                     2010, 2003, 2014, 2008, 2006, 2003, 2016, 2016, 2008, 2001, \n",
        "                     2009]\n",
        "\n",
        "# authors\n",
        "author_list = ['plato', 'aristotle', 'aristotle', 'locke', 'locke', 'locke',\n",
        "               'hume', 'hume', 'berkeley', 'berkeley', 'spinoza', 'spinoza',\n",
        "               'leibniz', 'descartes', 'descartes', 'malebranche', 'russell', \n",
        "               'russell', 'moore', 'wittgenstein', 'wittgenstein', 'lewis', 'lewis',\n",
        "               'quine', 'popper', 'kripke', 'kripke', 'wittgenstein', 'foucault', 'foucault', \n",
        "               'foucault', 'derrida', 'deleuze', 'deleuze', 'merleau-ponty', \n",
        "               'husserl', 'husserl', 'heidegger', 'heidegger', 'kant', 'kant',\n",
        "               'kant', 'fichte', 'hegel', 'hegel', 'hegel', 'marx', 'marx', 'lenin',\n",
        "               'smith', 'ricardo', 'keynes', 'epictetus', 'marcus aurelius',\n",
        "               'nietzsche', 'nietzsche', 'nietzsche', 'nietzsche', 'nietzsche',\n",
        "               'wollstonecraft', 'beauvoir']\n",
        "\n",
        "school_list = ['plato', 'aristotle', 'aristotle', 'empiricism', 'empiricism', \n",
        "               'empiricism', 'empiricism', 'empiricism', 'empiricism', 'empiricism',\n",
        "               'rationalism', 'rationalism', 'rationalism', 'rationalism', \n",
        "               'rationalism', 'rationalism', 'analytic', 'analytic', 'analytic', \n",
        "               'analytic', 'analytic', 'analytic', 'analytic', 'analytic', 'analytic', \n",
        "               'analytic', 'analytic', 'analytic', 'continental', 'continental', 'continental', \n",
        "               'continental', 'continental', 'continental', 'phenomenology', \n",
        "               'phenomenology', 'phenomenology', 'phenomenology', 'phenomenology', \n",
        "               'german_idealism', 'german_idealism', 'german_idealism', 'german_idealism',\n",
        "               'german_idealism', 'german_idealism', 'german_idealism', 'communism', \n",
        "               'communism', 'communism', 'capitalism', 'capitalism', 'capitalism', \n",
        "               'stoicism', 'stoicism', 'nietzsche', 'nietzsche', 'nietzsche', \n",
        "               'nietzsche', 'nietzsche', 'feminism', 'feminism']               \n",
        "\n",
        "# words to remove \n",
        "to_rm_list = [plato_to_rm, aristotle_to_rm, aristotle_to_rm, locke_gov_to_rm, \n",
        "              [], [], [], [], berkeley_dialogues_to_rm, [], [], [], [], [], \n",
        "              descartes_meditations_to_rm, malebranche_search_to_rm, [],\n",
        "              [], [], [], wittgenstein_tract_to_rm, lewis_papers_1_to_rm, \n",
        "              lewis_papers_2_to_rm, quine_quintessence_to_rm, popper_science_to_rm,\n",
        "              [], kripke_troubles_to_rm, [], foucault_clinic_to_rm, foucault_madness_to_rm,\n",
        "              foucault_order_to_rm, [], deleuze_difference_to_rm, [],\n",
        "              ponty_perception_to_rm, husserl_crisis_to_rm, [], heidegger_b_and_t_to_rm,\n",
        "              [], [], kant_judgement_to_rm, kant_pure_reason_to_rm, fichte_ethics_to_rm, \n",
        "              hegel_SoL_to_rm, [], hegel_right_to_rm, marx_kapital_to_rm, \n",
        "              marx_manifesto_to_rm, [], [], [], keynes_employment_to_rm, [], [], \n",
        "              [], [], [], [], [], [], []]\n",
        "\n",
        "# check lengths to make sure all are present\n",
        "len(to_rm_list), len(all_texts), len(author_list), len(title_list), len(school_list), len(publication_dates)"
      ],
      "execution_count": 12,
      "outputs": [
        {
          "output_type": "execute_result",
          "data": {
            "text/plain": [
              "(61, 61, 61, 61, 61, 61)"
            ]
          },
          "metadata": {
            "tags": []
          },
          "execution_count": 12
        }
      ]
    },
    {
      "cell_type": "code",
      "metadata": {
        "colab": {
          "base_uri": "https://localhost:8080/"
        },
        "id": "jWV3U1XIsPEe",
        "outputId": "8a6b8a1f-c52b-44b2-d8e5-b3a78864ba92"
      },
      "source": [
        "# combine all these into a single list of dictionaries\n",
        "book_dicts = []\n",
        "for i in range(0, len(all_texts)):\n",
        "  book_dict = {}\n",
        "  book_dict['author'] = author_list[i].title()\n",
        "  book_dict['title'] = title_list[i].title()\n",
        "  book_dict['text'] = all_texts[i]\n",
        "  book_dict['school'] = school_list[i]\n",
        "  book_dict['words to remove'] = to_rm_list[i]\n",
        "  book_dict['remove capitals'] = True\n",
        "  book_dict['bracketed fn'] = False\n",
        "  book_dicts.append(book_dict)\n",
        "\n",
        "# mark the ones with bracketed footnotes \n",
        "for book in book_dicts:\n",
        "  if book['title'] in bracketed_fn:\n",
        "    book['bracketed fn'] = True\n",
        "\n",
        "# mark the ones with capitals we want to keep\n",
        "for book in book_dicts:\n",
        "  if book['title'] in do_not_remove_capitals:\n",
        "    book['remove capitals'] = False\n",
        "  \n",
        "# check length again to make sure\n",
        "len(book_dicts)"
      ],
      "execution_count": 13,
      "outputs": [
        {
          "output_type": "execute_result",
          "data": {
            "text/plain": [
              "61"
            ]
          },
          "metadata": {
            "tags": []
          },
          "execution_count": 13
        }
      ]
    },
    {
      "cell_type": "code",
      "metadata": {
        "id": "ZMeasklebK9Y"
      },
      "source": [
        "# use this cell to build a single text dict if you are just adding a single new text\n",
        "wollstonecraft_dict = {\n",
        "    'author': 'mary wollstonecraft',\n",
        "    'title': 'vindication of the rights of woman',\n",
        "    'text': wollstonecraft_vindication,\n",
        "    'school': 'feminism',\n",
        "    'words to remove': [],\n",
        "    'remove capitals': False,\n",
        "    'bracketed fn': False\n",
        "}\n"
      ],
      "execution_count": 14,
      "outputs": []
    },
    {
      "cell_type": "markdown",
      "metadata": {
        "id": "Old9KJCnMSLo"
      },
      "source": [
        "With a dictionary for each text, we are prepared to clean them, build dataframes for each text, and combine them into a master dataframe for all our data. \n",
        "\n",
        "As part of that, we use a new dictionary where the keys correspond to textual oddities and the values correspond to their corrected version. This helps deal with many individual cases of strange behavior in the corpus."
      ]
    },
    {
      "cell_type": "code",
      "metadata": {
        "id": "Xe_GUeVisQ7C",
        "cellView": "form"
      },
      "source": [
        "#@title Oddities Dictionary for Cleaning\n",
        "# a dictionary of oddities to clean up\n",
        "odd_words_dict = {'\\sderstanding': 'derstanding',\n",
        "                  '\\sditference\\s': ' difference ',\n",
        "                  '\\sforthe\\s': ' for the ',\n",
        "                  '\\sject': 'ject',\n",
        "                  '\\sjects': 'jects', \n",
        "                  '\\sness': 'ness',\n",
        "                  '\\sper\\scent\\s': ' percent ',\n",
        "                  '\\sper\\scent\\.': ' percent.',\n",
        "                  '\\sper\\scent,': ' percent,',\n",
        "                  '\\wi\\son': 'ion',\n",
        "                  '\\spri\\sori': ' priori',\n",
        "                  '\\stences\\s': 'tences ',\n",
        "                  '\\sprincipleb': ' principle',\n",
        "                  '\\ssciousness': 'sciousness',\n",
        "                  '\\stion': 'tion',\n",
        "                  '\\spri\\s': ' pri',\n",
        "                  '\\scluding': 'cluding',\n",
        "                  '\\sdom': 'dom',\n",
        "                  '\\sers': 'ers',\n",
        "                  '\\scritiq\\s': ' critique ',\n",
        "                  '\\ssensati\\s': ' sensation ',\n",
        "                  '(?i)\\syou\\sll': \" you'll\",\n",
        "                  '\\sI\\sll': \" I'll\",\n",
        "                  '(?i)\\swe\\sll': \" we'll\",\n",
        "                  '(?i)he\\sll': \" he'll\",\n",
        "                  '(?i)who\\sll': \"who'll\",\n",
        "                  '(?i)\\sthere\\sll\\s': \" there'll \",\n",
        "                  '\\seduca\\s': ' education ',\n",
        "                  '\\slity\\s': 'lity ',\n",
        "                  '\\smultaneously\\s': 'multaneously ',\n",
        "                  '\\stically\\s': 'tically ',\n",
        "                  '\\sDa\\ssein\\s': ' Dasein ',\n",
        "                  '(?i)\\sthey\\sll\\s': \" they'll \",\n",
        "                  '(?i)\\sin\\tum\\s': ' in turn ',\n",
        "                  '\\scon~\\s': ' con',\n",
        "                  '\\sà\\s': ' a ',\n",
        "                  '\\sjor\\s': ' for ',\n",
        "                  '\\sluminating\\s': 'luminating ',\n",
        "                  '\\sselj\\s': ' self ',\n",
        "                  '\\stial\\s': 'tial ',\n",
        "                  '\\sversal\\s': 'versal ',\n",
        "                  '\\sexis\\st': ' exist',\n",
        "                  '\\splauded\\s': 'plauded ',\n",
        "                  '\\suiry\\s': 'uiry ',\n",
        "                  '\\svithin\\s': ' within ',\n",
        "                  '\\soj\\s': ' of ',\n",
        "                  '\\sposi\\st': ' posit',\n",
        "                  '\\sra\\sther\\s': ' rather ',\n",
        "                  '(?i)\\sthat\\sll\\s': \" that'll \",\n",
        "                  '(?i)\\sa\\sll\\s': ' all ',\n",
        "                  '\\so\\sther\\s': ' other ',\n",
        "                  '\\sra\\sther\\s': ' rather ',\n",
        "                  '\\snei\\sther\\s': ' neither ',\n",
        "                  '\\sei\\sther\\s': ' either ',\n",
        "                  '\\sfur\\sther\\s': ' further ',\n",
        "                  '\\sano\\sther': ' another ',\n",
        "                  '\\sneces\\s': ' neces',\n",
        "                  'u\\slar\\s': 'ular ',\n",
        "                  '\\sference\\s': 'ference ',\n",
        "                  '(?i)it\\sll\\s': \"it'll \",\n",
        "                  '\\stoge\\sther': ' together ',\n",
        "                  '\\sknowledgeb\\s': ' knowledge ',\n",
        "                  'r\\stain\\s': 'rtain ',\n",
        "                  'on\\stain\\s': 'ontain',\n",
        "                  '(?i)j\\sect\\s': 'ject',\n",
        "                  '\\sob\\sect\\s': ' object ',\n",
        "                  '\\sbtle\\s': 'btle ',\n",
        "                  '\\snition\\s': 'nition ',\n",
        "                  '\\sdering\\s': 'dering ', \n",
        "                  '\\sized\\s': 'ized ',\n",
        "                  '\\sther\\shand': ' other hand',\n",
        "                  '\\ture\\s': 'ture ',\n",
        "                  '\\sabso\\sl': ' absol',\n",
        "                  '\\stly\\s': 'tly ',\n",
        "                  '\\serty\\s': 'erty ',\n",
        "                  '\\sobj\\se': ' obj',\n",
        "                  '\\sffiir\\s': ' for ',\n",
        "                  '\\sndeed\\s': ' indeed ',\n",
        "                  '\\sfonn\\s': ' form ',\n",
        "                  '\\snally\\s': 'nally ',\n",
        "                  'ain\\sty\\s': 'ainty ',\n",
        "                  'ici\\sty\\s': 'icity ',\n",
        "                  '\\scog\\sni': ' cogni',\n",
        "                  '\\sacc\\s': ' acc',\n",
        "                  '\\sindi\\svid\\sual': ' individual', \n",
        "                  '\\sintu\\sit': ' intuit',\n",
        "                  'r\\sance\\s': 'rance ',\n",
        "                  '\\ssions\\s': 'sions ',\n",
        "                  '\\sances\\s': 'ances ',\n",
        "                  '\\sper\\sception\\s': ' perception ',\n",
        "                  '\\sse\\sries\\s': ' series ',\n",
        "                  '\\sque\\sries\\s': ' queries ',\n",
        "                  '\\sessary\\s': 'essary ',\n",
        "                  '\\sofa\\s': ' of a ',\n",
        "                  '\\scer\\stainty\\s': ' certainty ',\n",
        "                  'ec\\stivity\\s': 'ectivity ',\n",
        "                  '\\stivity\\s': 'tivity ',\n",
        "                  '\\slation\\s': 'lation ',\n",
        "                  '\\sir\\sr': ' irr',\n",
        "                  '\\ssub\\sstance\\s': ' substance ',\n",
        "                  'sec\\sond\\s': 'second ',\n",
        "                  '\\s\\.rv': '',\n",
        "                  '\\story\\s': 'tory ',\n",
        "                  '\\sture\\s': 'ture ',\n",
        "                  '\\sminate\\s': 'minate ',\n",
        "                  '\\sing\\s': 'ing ',\n",
        "                  '\\splicity\\s': 'plicity ',\n",
        "                  '\\ssimi\\slar\\s': ' similar ',\n",
        "                  '\\scom\\smunity\\s': ' community ',\n",
        "                  '\\sitselfa\\s': ' itself a ',\n",
        "                  '\\ssimp\\s': ' simply ',\n",
        "                  '\\scon\\stex': ' contex',\n",
        "                  '\\scon\\sseq': ' conseq',\n",
        "                  '\\scon\\stai': ' contai',\n",
        "                  '\\sofwhat\\s': ' of what ',\n",
        "                  '\\sui\\s': 'ui',\n",
        "                  '\\sofan\\s': ' of an ',\n",
        "                  '\\saccor\\sdance\\s': ' accordance ',\n",
        "                  '\\stranscen\\sdental\\s': ' transcendental ',\n",
        "                  '\\sap\\spearances\\s': ' appearances ',\n",
        "                  'e\\squences\\s': 'equences ',\n",
        "                  '\\sorits\\s': ' or its ',\n",
        "                  '\\simma\\sn': ' imman',\n",
        "                  '\\seq\\sua': ' equa',\n",
        "                  '\\simpl\\sied\\s': ' implied ',\n",
        "                  '\\sbuta\\s': ' but a ',\n",
        "                  '\\sa\\snd\\s': ' and ',\n",
        "                  '\\sence\\s': 'ence ',\n",
        "                  '\\stain\\s': 'tain ',\n",
        "                  '\\sunder\\sstanding\\s': ' understanding ',\n",
        "                  'i\\sence\\s': 'ience ',\n",
        "                  'r\\sence\\s': 'rence ',\n",
        "                  '\\stical\\s': 'tical ',\n",
        "                  '\\sobjectsb\\s': ' objects ',\n",
        "                  '\\stbe\\s': ' the ',\n",
        "                  '\\smul\\st': ' mult',\n",
        "                  '\\sgen\\seral\\s': ' general ',\n",
        "                  '\\suniver\\ssal\\s': ' universal ',\n",
        "                  '\\scon\\stent\\s': ' content ',\n",
        "                  '\\spar\\sticular\\s': ' particular ',\n",
        "                  'ver\\ssity\\s': 'versity ',\n",
        "                  '\\sCritiq\\s': ' Critique ',\n",
        "                  '\\sphilo\\ssophy\\s': ' philosophy ',\n",
        "                  '\\seq\\s': ' eq'}"
      ],
      "execution_count": 15,
      "outputs": []
    },
    {
      "cell_type": "code",
      "metadata": {
        "id": "G_KZCE6YsYE7"
      },
      "source": [
        "# function for building the df for each school\n",
        "def from_raw_to_df(text_dict):\n",
        "  nlp.max_length = 9000000\n",
        "  text = text_dict['text']\n",
        "  text = remove_words(text, text_dict['words to remove'])\n",
        "  text = baseline_clean(text, capitals=text_dict['remove capitals'],\n",
        "                        bracketed_fn=text_dict['bracketed fn'],\n",
        "                        odd_words_dict=odd_words_dict)\n",
        "  text_nlp = nlp(text, disable=['ner'])\n",
        "  text_df = pd.DataFrame(columns=['title', 'author', 'school', 'sentence_spacy'])\n",
        "  text_df['sentence_spacy'] = list(text_nlp.sents)\n",
        "  text_df['author'] = text_dict['author']\n",
        "  text_df['title'] = text_dict['title']\n",
        "  text_df['school'] = text_dict['school']\n",
        "  text_df['sentence_str'] = text_df['sentence_spacy'].apply(lambda x: ''.join(list(str(x))))\n",
        "  return text_df\n"
      ],
      "execution_count": 16,
      "outputs": []
    },
    {
      "cell_type": "code",
      "metadata": {
        "id": "Gpk1QnbJb5TB",
        "colab": {
          "base_uri": "https://localhost:8080/"
        },
        "outputId": "ab7b9555-5fbc-4325-f4ea-97f16b22369d"
      },
      "source": [
        "# build the df for each school and combine them\n",
        "df = pd.DataFrame(columns=['title', 'author', 'school', 'sentence_spacy', 'sentence_str'])\n",
        "for book in book_dicts:\n",
        "  book_df = from_raw_to_df(book)\n",
        "  df = df.append(book_df, ignore_index=True)\n",
        "\n",
        "len(df)"
      ],
      "execution_count": 17,
      "outputs": [
        {
          "output_type": "execute_result",
          "data": {
            "text/plain": [
              "397470"
            ]
          },
          "metadata": {
            "tags": []
          },
          "execution_count": 17
        }
      ]
    },
    {
      "cell_type": "code",
      "metadata": {
        "colab": {
          "base_uri": "https://localhost:8080/",
          "height": 713
        },
        "id": "0rTa7P8KwXC6",
        "outputId": "53407a11-2db1-460a-a709-3270be0e8818"
      },
      "source": [
        "pd.options.display.max_colwidth = 200\n",
        "df.sample(10)"
      ],
      "execution_count": 18,
      "outputs": [
        {
          "output_type": "execute_result",
          "data": {
            "text/html": [
              "<div>\n",
              "<style scoped>\n",
              "    .dataframe tbody tr th:only-of-type {\n",
              "        vertical-align: middle;\n",
              "    }\n",
              "\n",
              "    .dataframe tbody tr th {\n",
              "        vertical-align: top;\n",
              "    }\n",
              "\n",
              "    .dataframe thead th {\n",
              "        text-align: right;\n",
              "    }\n",
              "</style>\n",
              "<table border=\"1\" class=\"dataframe\">\n",
              "  <thead>\n",
              "    <tr style=\"text-align: right;\">\n",
              "      <th></th>\n",
              "      <th>title</th>\n",
              "      <th>author</th>\n",
              "      <th>school</th>\n",
              "      <th>sentence_spacy</th>\n",
              "      <th>sentence_str</th>\n",
              "    </tr>\n",
              "  </thead>\n",
              "  <tbody>\n",
              "    <tr>\n",
              "      <th>332783</th>\n",
              "      <td>Capital</td>\n",
              "      <td>Marx</td>\n",
              "      <td>communism</td>\n",
              "      <td>(of, Fact, .)</td>\n",
              "      <td>of Fact.</td>\n",
              "    </tr>\n",
              "    <tr>\n",
              "      <th>310390</th>\n",
              "      <td>The Phenomenology Of Spirit</td>\n",
              "      <td>Hegel</td>\n",
              "      <td>german_idealism</td>\n",
              "      <td>(And, we, should, be, sufficiently, prejudiced, in, favour, of, what, is, excellent, ,, to, suppose, that, it, will, be, put, to, usc, ,, and, will, find, acceptance, .)</td>\n",
              "      <td>And we should be sufficiently prejudiced in favour of what is excellent, to suppose that it will be put to usc, and will find acceptance.</td>\n",
              "    </tr>\n",
              "    <tr>\n",
              "      <th>150430</th>\n",
              "      <td>The Analysis Of Mind</td>\n",
              "      <td>Russell</td>\n",
              "      <td>analytic</td>\n",
              "      <td>(A, photographic, plate, exposed, on, a, clear, night, reproduces, the, appearance, of, the, portion, of, the, sky, concerned, ,, with, more, or, fewer, stars, according, to, the, power, of, the, ...</td>\n",
              "      <td>A photographic plate exposed on a clear night reproduces the appearance of the portion of the sky concerned, with more or fewer stars according to the power of the telescope that is being used.</td>\n",
              "    </tr>\n",
              "    <tr>\n",
              "      <th>79541</th>\n",
              "      <td>Aristotle - Complete Works</td>\n",
              "      <td>Aristotle</td>\n",
              "      <td>aristotle</td>\n",
              "      <td>(Reading, dia, ti, .)</td>\n",
              "      <td>Reading dia ti.</td>\n",
              "    </tr>\n",
              "    <tr>\n",
              "      <th>188259</th>\n",
              "      <td>Quintessence</td>\n",
              "      <td>Quine</td>\n",
              "      <td>analytic</td>\n",
              "      <td>(One, might, not, expect, occurrences, of, statements, within, state, ments, to, be, truth, functional, ,, in, general, ,, even, when, the, contexts, are, not, referentially, opaque, ;, certainly,...</td>\n",
              "      <td>One might not expect occurrences of statements within state ments to be truth functional, in general, even when the contexts are not referentially opaque; certainly not when the contexts are refer...</td>\n",
              "    </tr>\n",
              "    <tr>\n",
              "      <th>297081</th>\n",
              "      <td>The System Of Ethics</td>\n",
              "      <td>Fichte</td>\n",
              "      <td>german_idealism</td>\n",
              "      <td>(If, it, is, the, former, ,, then, one, will, demonstrate, the, same, concern, for, others, ;, if, it, is, the, latter, ,, then, it, will, be, directed, exclusively, toward, oneself, .)</td>\n",
              "      <td>If it is the former, then one will demonstrate the same concern for others; if it is the latter, then it will be directed exclusively toward oneself.</td>\n",
              "    </tr>\n",
              "    <tr>\n",
              "      <th>42403</th>\n",
              "      <td>Plato - Complete Works</td>\n",
              "      <td>Plato</td>\n",
              "      <td>plato</td>\n",
              "      <td>(So, it, 's, a, reasonable, and, natural, supposition, that, a, political, system, organized, along, these, lines, will, be, unique, among, contemporary, constitutions, in, finding, room, for, the...</td>\n",
              "      <td>So it's a reasonable and natural supposition that a political system organized along these lines will be unique among contemporary constitutions in finding room for the military training cum sport...</td>\n",
              "    </tr>\n",
              "    <tr>\n",
              "      <th>178043</th>\n",
              "      <td>Lewis - Papers</td>\n",
              "      <td>Lewis</td>\n",
              "      <td>analytic</td>\n",
              "      <td>(It, is, as, if, someone, thought, that, a, good, explanation, of, any, current, event, had, to, be, one, that, revealed, the, sinister, doings, of, the, .)</td>\n",
              "      <td>It is as if someone thought that a good explanation of any current event had to be one that revealed the sinister doings of the.</td>\n",
              "    </tr>\n",
              "    <tr>\n",
              "      <th>215245</th>\n",
              "      <td>History Of Madness</td>\n",
              "      <td>Foucault</td>\n",
              "      <td>continental</td>\n",
              "      <td>(Jesus, on, the, Cross, was, the, scandal, of, the, world, ,, and, it, looked, like, ignorance, and, madness, to, the, eyes, of, that, century, ., ')</td>\n",
              "      <td>Jesus on the Cross was the scandal of the world, and it looked like ignorance and madness to the eyes of that century.'</td>\n",
              "    </tr>\n",
              "    <tr>\n",
              "      <th>158108</th>\n",
              "      <td>Philosophical Studies</td>\n",
              "      <td>Moore</td>\n",
              "      <td>analytic</td>\n",
              "      <td>(Everybody, would, admit, that, the, fundamental, idea, ,, with, which, Aristotle, 's, Ethics, is, concerned, ,, is, an, idea, which, it, is, the, business, of, Moral, Philosophy, to, discuss, ;, ...</td>\n",
              "      <td>Everybody would admit that the fundamental idea, with which Aristotle's Ethics is concerned, is an idea which it is the business of Moral Philosophy to discuss; and yet I think it is quite plain t...</td>\n",
              "    </tr>\n",
              "  </tbody>\n",
              "</table>\n",
              "</div>"
            ],
            "text/plain": [
              "                              title  ...                                                                                                                                                                                             sentence_str\n",
              "332783                      Capital  ...                                                                                                                                                                                                 of Fact.\n",
              "310390  The Phenomenology Of Spirit  ...                                                                And we should be sufficiently prejudiced in favour of what is excellent, to suppose that it will be put to usc, and will find acceptance.\n",
              "150430         The Analysis Of Mind  ...        A photographic plate exposed on a clear night reproduces the appearance of the portion of the sky concerned, with more or fewer stars according to the power of the telescope that is being used.\n",
              "79541    Aristotle - Complete Works  ...                                                                                                                                                                                          Reading dia ti.\n",
              "188259                 Quintessence  ...  One might not expect occurrences of statements within state ments to be truth functional, in general, even when the contexts are not referentially opaque; certainly not when the contexts are refer...\n",
              "297081         The System Of Ethics  ...                                                    If it is the former, then one will demonstrate the same concern for others; if it is the latter, then it will be directed exclusively toward oneself.\n",
              "42403        Plato - Complete Works  ...  So it's a reasonable and natural supposition that a political system organized along these lines will be unique among contemporary constitutions in finding room for the military training cum sport...\n",
              "178043               Lewis - Papers  ...                                                                         It is as if someone thought that a good explanation of any current event had to be one that revealed the sinister doings of the.\n",
              "215245           History Of Madness  ...                                                                                  Jesus on the Cross was the scandal of the world, and it looked like ignorance and madness to the eyes of that century.'\n",
              "158108        Philosophical Studies  ...  Everybody would admit that the fundamental idea, with which Aristotle's Ethics is concerned, is an idea which it is the business of Moral Philosophy to discuss; and yet I think it is quite plain t...\n",
              "\n",
              "[10 rows x 5 columns]"
            ]
          },
          "metadata": {
            "tags": []
          },
          "execution_count": 18
        }
      ]
    },
    {
      "cell_type": "code",
      "metadata": {
        "colab": {
          "base_uri": "https://localhost:8080/"
        },
        "id": "EFFcGwHUwTKv",
        "outputId": "07811649-fc91-43d8-e058-a3ff5f7d413e"
      },
      "source": [
        "df['school'].value_counts(normalize=True)"
      ],
      "execution_count": 19,
      "outputs": [
        {
          "output_type": "execute_result",
          "data": {
            "text/plain": [
              "analytic           0.152980\n",
              "aristotle          0.136184\n",
              "plato              0.120930\n",
              "german_idealism    0.120150\n",
              "continental        0.089048\n",
              "phenomenology      0.076738\n",
              "rationalism        0.066007\n",
              "empiricism         0.052562\n",
              "communism          0.052283\n",
              "capitalism         0.047775\n",
              "feminism           0.040984\n",
              "nietzsche          0.037701\n",
              "stoicism           0.006657\n",
              "Name: school, dtype: float64"
            ]
          },
          "metadata": {
            "tags": []
          },
          "execution_count": 19
        }
      ]
    },
    {
      "cell_type": "markdown",
      "metadata": {
        "id": "5KYPxjPCcYqi"
      },
      "source": [
        "While this works if you need to add everything, if you want to just add one text, use this one the dictionary you made. "
      ]
    },
    {
      "cell_type": "code",
      "metadata": {
        "colab": {
          "base_uri": "https://localhost:8080/"
        },
        "id": "SujsiUfnsfvU",
        "outputId": "c426457a-5b4c-48ff-8c53-060fe0ce4071"
      },
      "source": [
        "len(df)"
      ],
      "execution_count": 20,
      "outputs": [
        {
          "output_type": "execute_result",
          "data": {
            "text/plain": [
              "397470"
            ]
          },
          "metadata": {
            "tags": []
          },
          "execution_count": 20
        }
      ]
    },
    {
      "cell_type": "markdown",
      "metadata": {
        "id": "xsIOtvZsMkdx"
      },
      "source": [
        "### Cleaning the Dataframe "
      ]
    },
    {
      "cell_type": "markdown",
      "metadata": {
        "id": "zuTIcCizMweb"
      },
      "source": [
        "But before the fun stuff, to ensure that we get good results, we need to clean the dataframe. This will take a few steps:\n",
        "1. Determine a threshold length and cut the (so-called) sentences that are shorter than that length (this will already eliminate meaningless duplicates like punctuations)\n",
        "2. Check for words that indicate footnotes (words like 'edition' or 'ibid'); we can then cut these sentences from the data\n",
        "3. Check for duplicates; there should be few if any duplicates in the dataframe for each school\n",
        "4. Check for words that indicate other languages so that we can eliminate quotations, citations, or other non-English sentences"
      ]
    },
    {
      "cell_type": "markdown",
      "metadata": {
        "id": "WI3KwHHVM8ck"
      },
      "source": [
        "#### 1. Deal with Short Sentences"
      ]
    },
    {
      "cell_type": "code",
      "metadata": {
        "colab": {
          "base_uri": "https://localhost:8080/",
          "height": 212
        },
        "id": "LLkVXKfIwcup",
        "outputId": "e5b0e983-4c8e-433d-a689-39afbecc30a5"
      },
      "source": [
        "df['sentence_length'] = df['sentence_str'].map(lambda x: len(x))\n",
        "num_of_short_entries = len(df[df['sentence_length'] < 20])\n",
        "print(f\"there are {num_of_short_entries} so-called sentences with fewer than 20 characters\")\n",
        "df[df['sentence_length'] < 20].sample(5)"
      ],
      "execution_count": 21,
      "outputs": [
        {
          "output_type": "stream",
          "text": [
            "there are 32036 so-called sentences with fewer than 20 characters\n"
          ],
          "name": "stdout"
        },
        {
          "output_type": "execute_result",
          "data": {
            "text/html": [
              "<div>\n",
              "<style scoped>\n",
              "    .dataframe tbody tr th:only-of-type {\n",
              "        vertical-align: middle;\n",
              "    }\n",
              "\n",
              "    .dataframe tbody tr th {\n",
              "        vertical-align: top;\n",
              "    }\n",
              "\n",
              "    .dataframe thead th {\n",
              "        text-align: right;\n",
              "    }\n",
              "</style>\n",
              "<table border=\"1\" class=\"dataframe\">\n",
              "  <thead>\n",
              "    <tr style=\"text-align: right;\">\n",
              "      <th></th>\n",
              "      <th>title</th>\n",
              "      <th>author</th>\n",
              "      <th>school</th>\n",
              "      <th>sentence_spacy</th>\n",
              "      <th>sentence_str</th>\n",
              "      <th>sentence_length</th>\n",
              "    </tr>\n",
              "  </thead>\n",
              "  <tbody>\n",
              "    <tr>\n",
              "      <th>286554</th>\n",
              "      <td>Critique Of Pure Reason</td>\n",
              "      <td>Kant</td>\n",
              "      <td>german_idealism</td>\n",
              "      <td>(,, old, ,, at, another, .)</td>\n",
              "      <td>, old, at another.</td>\n",
              "      <td>18</td>\n",
              "    </tr>\n",
              "    <tr>\n",
              "      <th>324865</th>\n",
              "      <td>Capital</td>\n",
              "      <td>Marx</td>\n",
              "      <td>communism</td>\n",
              "      <td>(Footnotes)</td>\n",
              "      <td>Footnotes</td>\n",
              "      <td>9</td>\n",
              "    </tr>\n",
              "    <tr>\n",
              "      <th>291359</th>\n",
              "      <td>Critique Of Pure Reason</td>\n",
              "      <td>Kant</td>\n",
              "      <td>german_idealism</td>\n",
              "      <td>(I)</td>\n",
              "      <td>I</td>\n",
              "      <td>1</td>\n",
              "    </tr>\n",
              "    <tr>\n",
              "      <th>208014</th>\n",
              "      <td>On Certainty</td>\n",
              "      <td>Wittgenstein</td>\n",
              "      <td>analytic</td>\n",
              "      <td>(I)</td>\n",
              "      <td>I</td>\n",
              "      <td>1</td>\n",
              "    </tr>\n",
              "    <tr>\n",
              "      <th>318836</th>\n",
              "      <td>Elements Of The Philosophy Of Right</td>\n",
              "      <td>Hegel</td>\n",
              "      <td>german_idealism</td>\n",
              "      <td>(�)</td>\n",
              "      <td>�</td>\n",
              "      <td>1</td>\n",
              "    </tr>\n",
              "  </tbody>\n",
              "</table>\n",
              "</div>"
            ],
            "text/plain": [
              "                                      title  ... sentence_length\n",
              "286554              Critique Of Pure Reason  ...              18\n",
              "324865                              Capital  ...               9\n",
              "291359              Critique Of Pure Reason  ...               1\n",
              "208014                         On Certainty  ...               1\n",
              "318836  Elements Of The Philosophy Of Right  ...               1\n",
              "\n",
              "[5 rows x 6 columns]"
            ]
          },
          "metadata": {
            "tags": []
          },
          "execution_count": 21
        }
      ]
    },
    {
      "cell_type": "code",
      "metadata": {
        "colab": {
          "base_uri": "https://localhost:8080/"
        },
        "id": "2FOolcqOwcgz",
        "outputId": "41262cbb-ab87-423f-8932-877f4d16012a"
      },
      "source": [
        "df = df.drop(df[df['sentence_length'] < 20].index)\n",
        "len(df)"
      ],
      "execution_count": 22,
      "outputs": [
        {
          "output_type": "execute_result",
          "data": {
            "text/plain": [
              "365434"
            ]
          },
          "metadata": {
            "tags": []
          },
          "execution_count": 22
        }
      ]
    },
    {
      "cell_type": "markdown",
      "metadata": {
        "id": "KaxL3byaM-RA"
      },
      "source": [
        "#### 2. Look at Words that Indicate Footnotes"
      ]
    },
    {
      "cell_type": "code",
      "metadata": {
        "colab": {
          "base_uri": "https://localhost:8080/"
        },
        "id": "SRM_W5p3wbkE",
        "outputId": "5cbd059d-124a-4d13-a174-410af98cc8a9"
      },
      "source": [
        "fn_words = ['ch\\.', 'bk', 'sect\\.', 'div\\.', 'cf', 'ibid', 'prop\\.', 'Q\\.E\\.D\\.',\n",
        "            'pt\\.', 'coroll\\.', 'cf\\.']\n",
        "\n",
        "df['sentence_lowered'] = df['sentence_str'].map(lambda x: x.lower())\n",
        "\n",
        "fn_df = pd.DataFrame()\n",
        "for word in fn_words:\n",
        "  found_word = df[df['sentence_lowered'].str.contains('\\s' + word.lower())].copy()\n",
        "  found_word['word'] = word\n",
        "  fn_df = fn_df.append(found_word)\n",
        "\n",
        "len(fn_df)"
      ],
      "execution_count": 23,
      "outputs": [
        {
          "output_type": "execute_result",
          "data": {
            "text/plain": [
              "707"
            ]
          },
          "metadata": {
            "tags": []
          },
          "execution_count": 23
        }
      ]
    },
    {
      "cell_type": "code",
      "metadata": {
        "id": "PyjxVFLmwirp",
        "colab": {
          "base_uri": "https://localhost:8080/",
          "height": 514
        },
        "outputId": "0f9bd252-9678-425c-8853-409355036aad"
      },
      "source": [
        "fn_df.sample(5)"
      ],
      "execution_count": 24,
      "outputs": [
        {
          "output_type": "execute_result",
          "data": {
            "text/html": [
              "<div>\n",
              "<style scoped>\n",
              "    .dataframe tbody tr th:only-of-type {\n",
              "        vertical-align: middle;\n",
              "    }\n",
              "\n",
              "    .dataframe tbody tr th {\n",
              "        vertical-align: top;\n",
              "    }\n",
              "\n",
              "    .dataframe thead th {\n",
              "        text-align: right;\n",
              "    }\n",
              "</style>\n",
              "<table border=\"1\" class=\"dataframe\">\n",
              "  <thead>\n",
              "    <tr style=\"text-align: right;\">\n",
              "      <th></th>\n",
              "      <th>title</th>\n",
              "      <th>author</th>\n",
              "      <th>school</th>\n",
              "      <th>sentence_spacy</th>\n",
              "      <th>sentence_str</th>\n",
              "      <th>sentence_length</th>\n",
              "      <th>sentence_lowered</th>\n",
              "      <th>word</th>\n",
              "    </tr>\n",
              "  </thead>\n",
              "  <tbody>\n",
              "    <tr>\n",
              "      <th>204425</th>\n",
              "      <td>Philosophical Troubles</td>\n",
              "      <td>Kripke</td>\n",
              "      <td>analytic</td>\n",
              "      <td>(Picardi, has, also, called, my, attention, to, the, discussion, in, Mendelsohn, ,, ch, ., section, .)</td>\n",
              "      <td>Picardi has also called my attention to the discussion in Mendelsohn, ch. section.</td>\n",
              "      <td>82</td>\n",
              "      <td>picardi has also called my attention to the discussion in mendelsohn, ch. section.</td>\n",
              "      <td>ch\\.</td>\n",
              "    </tr>\n",
              "    <tr>\n",
              "      <th>305602</th>\n",
              "      <td>Science Of Logic</td>\n",
              "      <td>Hegel</td>\n",
              "      <td>german_idealism</td>\n",
              "      <td>(In, its, true, presentation, ,, this, exposition, is, the, preceding, whole, of, the, logical, Cf, .)</td>\n",
              "      <td>In its true presentation, this exposition is the preceding whole of the logical Cf.</td>\n",
              "      <td>83</td>\n",
              "      <td>in its true presentation, this exposition is the preceding whole of the logical cf.</td>\n",
              "      <td>cf</td>\n",
              "    </tr>\n",
              "    <tr>\n",
              "      <th>123928</th>\n",
              "      <td>Ethics</td>\n",
              "      <td>Spinoza</td>\n",
              "      <td>rationalism</td>\n",
              "      <td>(of, the, last, Prop, ., ), is, constituted, by, certain, modes, of, the, attributes, of, God, ,, namely, (, by, Ax, .)</td>\n",
              "      <td>of the last Prop.) is constituted by certain modes of the attributes of God, namely (by Ax.</td>\n",
              "      <td>91</td>\n",
              "      <td>of the last prop.) is constituted by certain modes of the attributes of god, namely (by ax.</td>\n",
              "      <td>prop\\.</td>\n",
              "    </tr>\n",
              "    <tr>\n",
              "      <th>146963</th>\n",
              "      <td>The Search After Truth</td>\n",
              "      <td>Malebranche</td>\n",
              "      <td>rationalism</td>\n",
              "      <td>(on, ch, ., of, Job, ., ', ', lnaccessihilem, dixit, sed, omni, homini, humana, sapienti, .)</td>\n",
              "      <td>on ch. of Job. ''lnaccessihilem dixit sed omni homini humana sapienti.</td>\n",
              "      <td>70</td>\n",
              "      <td>on ch. of job. ''lnaccessihilem dixit sed omni homini humana sapienti.</td>\n",
              "      <td>ch\\.</td>\n",
              "    </tr>\n",
              "    <tr>\n",
              "      <th>309195</th>\n",
              "      <td>Science Of Logic</td>\n",
              "      <td>Hegel</td>\n",
              "      <td>german_idealism</td>\n",
              "      <td>(But, because, ,, according, to, the, determination, that, it, has, here, ,, Cf, .)</td>\n",
              "      <td>But because, according to the determination that it has here, Cf.</td>\n",
              "      <td>65</td>\n",
              "      <td>but because, according to the determination that it has here, cf.</td>\n",
              "      <td>cf</td>\n",
              "    </tr>\n",
              "  </tbody>\n",
              "</table>\n",
              "</div>"
            ],
            "text/plain": [
              "                         title  ...    word\n",
              "204425  Philosophical Troubles  ...    ch\\.\n",
              "305602        Science Of Logic  ...      cf\n",
              "123928                  Ethics  ...  prop\\.\n",
              "146963  The Search After Truth  ...    ch\\.\n",
              "309195        Science Of Logic  ...      cf\n",
              "\n",
              "[5 rows x 8 columns]"
            ]
          },
          "metadata": {
            "tags": []
          },
          "execution_count": 24
        }
      ]
    },
    {
      "cell_type": "markdown",
      "metadata": {
        "id": "MqiX6cbVNDPw"
      },
      "source": [
        "Unfortunately, there was too much noise and too many differences in how the sentences were tokenized, so this kind of cleaning did not prove useful. As can be seen above, many of the relevant terms were used in meaningful sentences attributable to the correct authors. \n",
        "\n",
        "We were able to tell that 'bk.' was almost never used productively, so we cut that. For others, this was instructive in helping us clean the text and making revisions to the baseline cleaning function."
      ]
    },
    {
      "cell_type": "code",
      "metadata": {
        "colab": {
          "base_uri": "https://localhost:8080/"
        },
        "id": "y2NY8j7Ewj1Q",
        "outputId": "cd3fde37-f7de-4bee-ae31-a8eb3087c914"
      },
      "source": [
        "df = df.drop(df[df['sentence_lowered'].str.contains('\\s+bk'.lower())].index)\n",
        "\n",
        "len(df)"
      ],
      "execution_count": 25,
      "outputs": [
        {
          "output_type": "execute_result",
          "data": {
            "text/plain": [
              "365412"
            ]
          },
          "metadata": {
            "tags": []
          },
          "execution_count": 25
        }
      ]
    },
    {
      "cell_type": "markdown",
      "metadata": {
        "id": "MEqfL_K_NE7C"
      },
      "source": [
        "#### 3. Look at cases of Self-Mention by Authors"
      ]
    },
    {
      "cell_type": "code",
      "metadata": {
        "colab": {
          "base_uri": "https://localhost:8080/"
        },
        "id": "S7fhKsiFwj8K",
        "outputId": "9d35f83c-140b-41cf-8f24-196beb1841c7"
      },
      "source": [
        "self_mention_df = pd.DataFrame()\n",
        "for author in df['author'].unique():\n",
        "  self_mention_slice = df[(df['author'] == author) & \n",
        "                          (df['sentence_lowered'].str.contains('\\s'+author.lower()))].copy()\n",
        "  self_mention_df = self_mention_df.append(self_mention_slice)\n",
        "\n",
        "len(self_mention_df)"
      ],
      "execution_count": 26,
      "outputs": [
        {
          "output_type": "execute_result",
          "data": {
            "text/plain": [
              "890"
            ]
          },
          "metadata": {
            "tags": []
          },
          "execution_count": 26
        }
      ]
    },
    {
      "cell_type": "code",
      "metadata": {
        "id": "0GFzGEz_wkFt",
        "colab": {
          "base_uri": "https://localhost:8080/",
          "height": 834
        },
        "outputId": "8a70fcd9-b7cf-42f7-f87e-60f97b9f21ad"
      },
      "source": [
        "self_mention_df.sample(5)"
      ],
      "execution_count": 27,
      "outputs": [
        {
          "output_type": "execute_result",
          "data": {
            "text/html": [
              "<div>\n",
              "<style scoped>\n",
              "    .dataframe tbody tr th:only-of-type {\n",
              "        vertical-align: middle;\n",
              "    }\n",
              "\n",
              "    .dataframe tbody tr th {\n",
              "        vertical-align: top;\n",
              "    }\n",
              "\n",
              "    .dataframe thead th {\n",
              "        text-align: right;\n",
              "    }\n",
              "</style>\n",
              "<table border=\"1\" class=\"dataframe\">\n",
              "  <thead>\n",
              "    <tr style=\"text-align: right;\">\n",
              "      <th></th>\n",
              "      <th>title</th>\n",
              "      <th>author</th>\n",
              "      <th>school</th>\n",
              "      <th>sentence_spacy</th>\n",
              "      <th>sentence_str</th>\n",
              "      <th>sentence_length</th>\n",
              "      <th>sentence_lowered</th>\n",
              "    </tr>\n",
              "  </thead>\n",
              "  <tbody>\n",
              "    <tr>\n",
              "      <th>301837</th>\n",
              "      <td>Science Of Logic</td>\n",
              "      <td>Hegel</td>\n",
              "      <td>german_idealism</td>\n",
              "      <td>(According, to, the, critical, editors, ,, Hegel, derives, his, information, from, Carnot, 's, Réflexions, sur, la, métaphysique, du, calcul, infinitésimal, .)</td>\n",
              "      <td>According to the critical editors, Hegel derives his information from Carnot's Réflexions sur la métaphysique du calcul infinitésimal.</td>\n",
              "      <td>137</td>\n",
              "      <td>according to the critical editors, hegel derives his information from carnot's réflexions sur la métaphysique du calcul infinitésimal.</td>\n",
              "    </tr>\n",
              "    <tr>\n",
              "      <th>347980</th>\n",
              "      <td>The Wealth Of Nations</td>\n",
              "      <td>Smith</td>\n",
              "      <td>capitalism</td>\n",
              "      <td>(Fourthly, ,, and, lastly, ,, of, the, work, which, is, made, up, and, completed, ,, but, which, is, still, in, the, hands, of, the, merchant, and, manufacturer, ,, and, not, yet, disposed, of, or...</td>\n",
              "      <td>Fourthly, and lastly, of the work which is made up and completed, but which is still in the hands of the merchant and manufacturer, and not yet disposed of or distributed to the proper consumers; ...</td>\n",
              "      <td>357</td>\n",
              "      <td>fourthly, and lastly, of the work which is made up and completed, but which is still in the hands of the merchant and manufacturer, and not yet disposed of or distributed to the proper consumers; ...</td>\n",
              "    </tr>\n",
              "    <tr>\n",
              "      <th>277634</th>\n",
              "      <td>Critique Of Practical Reason</td>\n",
              "      <td>Kant</td>\n",
              "      <td>german_idealism</td>\n",
              "      <td>(First, ,, by, Kant, 's, grammar, it, refers, back, to, the, original, subject, of, the, sentence, ,, which, is, ', freedom, ', ;, to, refer, back, to, ', actions, ,, ', Kant, would, have, used, a...</td>\n",
              "      <td>First, by Kant's grammar it refers back to the original subject of the sentence, which is 'freedom'; to refer back to 'actions,' Kant would have used a phrase like der letzteren, 'the latter.'</td>\n",
              "      <td>192</td>\n",
              "      <td>first, by kant's grammar it refers back to the original subject of the sentence, which is 'freedom'; to refer back to 'actions,' kant would have used a phrase like der letzteren, 'the latter.'</td>\n",
              "    </tr>\n",
              "    <tr>\n",
              "      <th>28689</th>\n",
              "      <td>Plato - Complete Works</td>\n",
              "      <td>Plato</td>\n",
              "      <td>plato</td>\n",
              "      <td>(Or, is, he, a, spokesman, for, Plato, and, his, dialectical, attempt, to, establish, the, Socratic, way, of, thinking, on, deeper, and, better, foundations, than, those, built, upon, by, competin...</td>\n",
              "      <td>Or is he a spokesman for Plato and his dialectical attempt to establish the Socratic way of thinking on deeper and better foundations than those built upon by competing followers of Socrates?</td>\n",
              "      <td>191</td>\n",
              "      <td>or is he a spokesman for plato and his dialectical attempt to establish the socratic way of thinking on deeper and better foundations than those built upon by competing followers of socrates?</td>\n",
              "    </tr>\n",
              "    <tr>\n",
              "      <th>296306</th>\n",
              "      <td>The System Of Ethics</td>\n",
              "      <td>Fichte</td>\n",
              "      <td>german_idealism</td>\n",
              "      <td>(Indeed, ,, this, would, appear, to, be, precisely, Fichte, 's, point, :, the, basic, drive, of, the, I, (, that, is, ,, of, a, free, being, ), is, its, drive, to, become, an, I, (, or, to, become...</td>\n",
              "      <td>Indeed, this would appear to be precisely Fichte's point: the basic drive of the I (that is, of a free being) is its drive to become an I (or to become self sufficient).</td>\n",
              "      <td>169</td>\n",
              "      <td>indeed, this would appear to be precisely fichte's point: the basic drive of the i (that is, of a free being) is its drive to become an i (or to become self sufficient).</td>\n",
              "    </tr>\n",
              "  </tbody>\n",
              "</table>\n",
              "</div>"
            ],
            "text/plain": [
              "                               title  ...                                                                                                                                                                                         sentence_lowered\n",
              "301837              Science Of Logic  ...                                                                according to the critical editors, hegel derives his information from carnot's réflexions sur la métaphysique du calcul infinitésimal.\n",
              "347980         The Wealth Of Nations  ...  fourthly, and lastly, of the work which is made up and completed, but which is still in the hands of the merchant and manufacturer, and not yet disposed of or distributed to the proper consumers; ...\n",
              "277634  Critique Of Practical Reason  ...         first, by kant's grammar it refers back to the original subject of the sentence, which is 'freedom'; to refer back to 'actions,' kant would have used a phrase like der letzteren, 'the latter.'\n",
              "28689         Plato - Complete Works  ...          or is he a spokesman for plato and his dialectical attempt to establish the socratic way of thinking on deeper and better foundations than those built upon by competing followers of socrates?\n",
              "296306          The System Of Ethics  ...                                indeed, this would appear to be precisely fichte's point: the basic drive of the i (that is, of a free being) is its drive to become an i (or to become self sufficient).\n",
              "\n",
              "[5 rows x 7 columns]"
            ]
          },
          "metadata": {
            "tags": []
          },
          "execution_count": 27
        }
      ]
    },
    {
      "cell_type": "code",
      "metadata": {
        "colab": {
          "base_uri": "https://localhost:8080/"
        },
        "id": "9vxUnQkTwkNo",
        "outputId": "d8a06652-4a2d-4381-e798-f364cd464dbb"
      },
      "source": [
        "for author in df['author'].unique():\n",
        "  df = df.drop(df[(df['author'] == author) & \n",
        "                  (df['sentence_lowered'].str.contains('\\s'+author.lower()))].index)\n",
        "\n",
        "len(df)"
      ],
      "execution_count": 28,
      "outputs": [
        {
          "output_type": "execute_result",
          "data": {
            "text/plain": [
              "364522"
            ]
          },
          "metadata": {
            "tags": []
          },
          "execution_count": 28
        }
      ]
    },
    {
      "cell_type": "markdown",
      "metadata": {
        "id": "uMxaZemLNKeH"
      },
      "source": [
        "#### 4. Deal with Duplicates"
      ]
    },
    {
      "cell_type": "code",
      "metadata": {
        "colab": {
          "base_uri": "https://localhost:8080/"
        },
        "id": "QzOcjqfYwkU4",
        "outputId": "01306711-26e0-40aa-dde1-1fcf1b546669"
      },
      "source": [
        "# find the total number of duplicates\n",
        "len(df['sentence_str'])-len(df['sentence_str'].drop_duplicates())"
      ],
      "execution_count": 29,
      "outputs": [
        {
          "output_type": "execute_result",
          "data": {
            "text/plain": [
              "4904"
            ]
          },
          "metadata": {
            "tags": []
          },
          "execution_count": 29
        }
      ]
    },
    {
      "cell_type": "code",
      "metadata": {
        "colab": {
          "base_uri": "https://localhost:8080/"
        },
        "id": "AtY8ZrQawvZC",
        "outputId": "4c9cdda9-af66-4980-abb5-5a277cd0b8e9"
      },
      "source": [
        "# get the number of duplicates in each school\n",
        "for school in df['school'].unique():\n",
        "  print(school)\n",
        "  print(len(df.loc[df['school'] == school]['sentence_str']) - \n",
        "        len(df.loc[df['school'] == school]['sentence_str'].drop_duplicates()))"
      ],
      "execution_count": 30,
      "outputs": [
        {
          "output_type": "stream",
          "text": [
            "plato\n",
            "291\n",
            "aristotle\n",
            "3351\n",
            "empiricism\n",
            "14\n",
            "rationalism\n",
            "39\n",
            "analytic\n",
            "295\n",
            "continental\n",
            "97\n",
            "phenomenology\n",
            "87\n",
            "german_idealism\n",
            "287\n",
            "communism\n",
            "84\n",
            "capitalism\n",
            "92\n",
            "stoicism\n",
            "0\n",
            "nietzsche\n",
            "166\n",
            "feminism\n",
            "38\n"
          ],
          "name": "stdout"
        }
      ]
    },
    {
      "cell_type": "code",
      "metadata": {
        "id": "juwoWPstwvgf",
        "colab": {
          "base_uri": "https://localhost:8080/",
          "height": 498
        },
        "outputId": "89f01ab8-0b10-4a6f-c9aa-a243c0b174ce"
      },
      "source": [
        "doubles_df = pd.concat(g for _, g in df.groupby(\"sentence_str\") if len(g) > 1)\n",
        "doubles_df.sample(5)"
      ],
      "execution_count": 31,
      "outputs": [
        {
          "output_type": "execute_result",
          "data": {
            "text/html": [
              "<div>\n",
              "<style scoped>\n",
              "    .dataframe tbody tr th:only-of-type {\n",
              "        vertical-align: middle;\n",
              "    }\n",
              "\n",
              "    .dataframe tbody tr th {\n",
              "        vertical-align: top;\n",
              "    }\n",
              "\n",
              "    .dataframe thead th {\n",
              "        text-align: right;\n",
              "    }\n",
              "</style>\n",
              "<table border=\"1\" class=\"dataframe\">\n",
              "  <thead>\n",
              "    <tr style=\"text-align: right;\">\n",
              "      <th></th>\n",
              "      <th>title</th>\n",
              "      <th>author</th>\n",
              "      <th>school</th>\n",
              "      <th>sentence_spacy</th>\n",
              "      <th>sentence_str</th>\n",
              "      <th>sentence_length</th>\n",
              "      <th>sentence_lowered</th>\n",
              "    </tr>\n",
              "  </thead>\n",
              "  <tbody>\n",
              "    <tr>\n",
              "      <th>66559</th>\n",
              "      <td>Aristotle - Complete Works</td>\n",
              "      <td>Aristotle</td>\n",
              "      <td>aristotle</td>\n",
              "      <td>(For, the, most, part, ,, the, Translation, is, flowing, and, expansive, ,, set, out, in, well, rounded, periods, and, expressed, in, a, language, which, is, usually, literary, and, sometimes, oro...</td>\n",
              "      <td>For the most part, the Translation is flowing and expansive, set out in well rounded periods and expressed in a language which is usually literary and sometimes orotund.</td>\n",
              "      <td>169</td>\n",
              "      <td>for the most part, the translation is flowing and expansive, set out in well rounded periods and expressed in a language which is usually literary and sometimes orotund.</td>\n",
              "    </tr>\n",
              "    <tr>\n",
              "      <th>72373</th>\n",
              "      <td>Aristotle - Complete Works</td>\n",
              "      <td>Aristotle</td>\n",
              "      <td>aristotle</td>\n",
              "      <td>(References, consist, of, a, page, number, ,, a, column, letter, ,, and, a, line, number, .)</td>\n",
              "      <td>References consist of a page number, a column letter, and a line number.</td>\n",
              "      <td>72</td>\n",
              "      <td>references consist of a page number, a column letter, and a line number.</td>\n",
              "    </tr>\n",
              "    <tr>\n",
              "      <th>325828</th>\n",
              "      <td>Capital</td>\n",
              "      <td>Marx</td>\n",
              "      <td>communism</td>\n",
              "      <td>(Money, Answers, all, Things, .)</td>\n",
              "      <td>Money Answers all Things.</td>\n",
              "      <td>25</td>\n",
              "      <td>money answers all things.</td>\n",
              "    </tr>\n",
              "    <tr>\n",
              "      <th>333039</th>\n",
              "      <td>Capital</td>\n",
              "      <td>Marx</td>\n",
              "      <td>communism</td>\n",
              "      <td>(,, for, st, October, ,, pp, .)</td>\n",
              "      <td>, for st October, pp.</td>\n",
              "      <td>21</td>\n",
              "      <td>, for st october, pp.</td>\n",
              "    </tr>\n",
              "    <tr>\n",
              "      <th>67048</th>\n",
              "      <td>Aristotle - Complete Works</td>\n",
              "      <td>Aristotle</td>\n",
              "      <td>aristotle</td>\n",
              "      <td>(In, the, reviser, 's, opinion, ,, 's, sinewy, Greek, is, best, translated, into, correspondingly, tough, English, ;, but, to, achieve, that, would, demand, a, new, translation, ,, not, a, revisio...</td>\n",
              "      <td>In the reviser's opinion, 's sinewy Greek is best translated into correspondingly tough English; but to achieve that would demand a new translation, not a revision.</td>\n",
              "      <td>164</td>\n",
              "      <td>in the reviser's opinion, 's sinewy greek is best translated into correspondingly tough english; but to achieve that would demand a new translation, not a revision.</td>\n",
              "    </tr>\n",
              "  </tbody>\n",
              "</table>\n",
              "</div>"
            ],
            "text/plain": [
              "                             title  ...                                                                                                                                                           sentence_lowered\n",
              "66559   Aristotle - Complete Works  ...  for the most part, the translation is flowing and expansive, set out in well rounded periods and expressed in a language which is usually literary and sometimes orotund.\n",
              "72373   Aristotle - Complete Works  ...                                                                                                   references consist of a page number, a column letter, and a line number.\n",
              "325828                     Capital  ...                                                                                                                                                  money answers all things.\n",
              "333039                     Capital  ...                                                                                                                                                      , for st october, pp.\n",
              "67048   Aristotle - Complete Works  ...       in the reviser's opinion, 's sinewy greek is best translated into correspondingly tough english; but to achieve that would demand a new translation, not a revision.\n",
              "\n",
              "[5 rows x 7 columns]"
            ]
          },
          "metadata": {
            "tags": []
          },
          "execution_count": 31
        }
      ]
    },
    {
      "cell_type": "markdown",
      "metadata": {
        "id": "83xx0eHWNOX3"
      },
      "source": [
        "From this it is clear that many of these duplicates are notes, meaninglessly short, or else headings that somehow escaped earlier efforts. Oddly, an enormous number of Aristotle's sentences seem to be doubled. Looking at the doubled sentences, this appears to be because similar notes were made in both of the two volumes of the text. \n",
        "\n",
        "Let's eliminate the aristotle doubles first, then take another look to see what the others are like. "
      ]
    },
    {
      "cell_type": "code",
      "metadata": {
        "id": "71OS1WlbwvqV",
        "colab": {
          "base_uri": "https://localhost:8080/"
        },
        "outputId": "fb626a59-5377-4816-d2a7-5d6f6709c38c"
      },
      "source": [
        "len(doubles_df[doubles_df['author'] != 'Aristotle'])"
      ],
      "execution_count": 32,
      "outputs": [
        {
          "output_type": "execute_result",
          "data": {
            "text/plain": [
              "2507"
            ]
          },
          "metadata": {
            "tags": []
          },
          "execution_count": 32
        }
      ]
    },
    {
      "cell_type": "code",
      "metadata": {
        "id": "kotnwwvFwvy1",
        "colab": {
          "base_uri": "https://localhost:8080/",
          "height": 598
        },
        "outputId": "81da1d0a-9ff2-4dae-f10e-799ee71c2505"
      },
      "source": [
        "doubles_df[doubles_df['author'] != 'Aristole'].sample(5)"
      ],
      "execution_count": 33,
      "outputs": [
        {
          "output_type": "execute_result",
          "data": {
            "text/html": [
              "<div>\n",
              "<style scoped>\n",
              "    .dataframe tbody tr th:only-of-type {\n",
              "        vertical-align: middle;\n",
              "    }\n",
              "\n",
              "    .dataframe tbody tr th {\n",
              "        vertical-align: top;\n",
              "    }\n",
              "\n",
              "    .dataframe thead th {\n",
              "        text-align: right;\n",
              "    }\n",
              "</style>\n",
              "<table border=\"1\" class=\"dataframe\">\n",
              "  <thead>\n",
              "    <tr style=\"text-align: right;\">\n",
              "      <th></th>\n",
              "      <th>title</th>\n",
              "      <th>author</th>\n",
              "      <th>school</th>\n",
              "      <th>sentence_spacy</th>\n",
              "      <th>sentence_str</th>\n",
              "      <th>sentence_length</th>\n",
              "      <th>sentence_lowered</th>\n",
              "    </tr>\n",
              "  </thead>\n",
              "  <tbody>\n",
              "    <tr>\n",
              "      <th>100618</th>\n",
              "      <td>Aristotle - Complete Works</td>\n",
              "      <td>Aristotle</td>\n",
              "      <td>aristotle</td>\n",
              "      <td>(A, quantity, of, work, has, been, done, on, the, Greek, text, of, during, the, past, half, century, :, in, many, cases, new, and, better, texts, are, now, available, ,, and, the, reviser, has, fr...</td>\n",
              "      <td>A quantity of work has been done on the Greek text of during the past half century: in many cases new and better texts are now available, and the reviser has from time to time emended the original...</td>\n",
              "      <td>239</td>\n",
              "      <td>a quantity of work has been done on the greek text of during the past half century: in many cases new and better texts are now available, and the reviser has from time to time emended the original...</td>\n",
              "    </tr>\n",
              "    <tr>\n",
              "      <th>83901</th>\n",
              "      <td>Aristotle - Complete Works</td>\n",
              "      <td>Aristotle</td>\n",
              "      <td>aristotle</td>\n",
              "      <td>(In, Ross, added, a, twelfth, volume, ,, of, selected, fragments, ,, and, thus, completed, the, task, begun, almost, half, a, century, earlier, .)</td>\n",
              "      <td>In Ross added a twelfth volume, of selected fragments, and thus completed the task begun almost half a century earlier.</td>\n",
              "      <td>119</td>\n",
              "      <td>in ross added a twelfth volume, of selected fragments, and thus completed the task begun almost half a century earlier.</td>\n",
              "    </tr>\n",
              "    <tr>\n",
              "      <th>140937</th>\n",
              "      <td>The Search After Truth</td>\n",
              "      <td>Malebranche</td>\n",
              "      <td>rationalism</td>\n",
              "      <td>(The, discourse, of, counterfeit, scholars, .)</td>\n",
              "      <td>The discourse of counterfeit scholars.</td>\n",
              "      <td>38</td>\n",
              "      <td>the discourse of counterfeit scholars.</td>\n",
              "    </tr>\n",
              "    <tr>\n",
              "      <th>94341</th>\n",
              "      <td>Aristotle - Complete Works</td>\n",
              "      <td>Aristotle</td>\n",
              "      <td>aristotle</td>\n",
              "      <td>(In, the, United, Kingdom, :, Princeton, University, Press, ,, Oxford)</td>\n",
              "      <td>In the United Kingdom: Princeton University Press, Oxford</td>\n",
              "      <td>57</td>\n",
              "      <td>in the united kingdom: princeton university press, oxford</td>\n",
              "    </tr>\n",
              "    <tr>\n",
              "      <th>65967</th>\n",
              "      <td>Aristotle - Complete Works</td>\n",
              "      <td>Aristotle</td>\n",
              "      <td>aristotle</td>\n",
              "      <td>(In, a, codicil, to, the, will, ,, appended, less, than, a, month, before, his, death, ,, he, expressed, the, hope, that, ', the, translation, of, may, be, finished, as, soon, as, possible, ., ')</td>\n",
              "      <td>In a codicil to the will, appended less than a month before his death, he expressed the hope that 'the translation of may be finished as soon as possible.'</td>\n",
              "      <td>155</td>\n",
              "      <td>in a codicil to the will, appended less than a month before his death, he expressed the hope that 'the translation of may be finished as soon as possible.'</td>\n",
              "    </tr>\n",
              "  </tbody>\n",
              "</table>\n",
              "</div>"
            ],
            "text/plain": [
              "                             title  ...                                                                                                                                                                                         sentence_lowered\n",
              "100618  Aristotle - Complete Works  ...  a quantity of work has been done on the greek text of during the past half century: in many cases new and better texts are now available, and the reviser has from time to time emended the original...\n",
              "83901   Aristotle - Complete Works  ...                                                                                  in ross added a twelfth volume, of selected fragments, and thus completed the task begun almost half a century earlier.\n",
              "140937      The Search After Truth  ...                                                                                                                                                                   the discourse of counterfeit scholars.\n",
              "94341   Aristotle - Complete Works  ...                                                                                                                                                in the united kingdom: princeton university press, oxford\n",
              "65967   Aristotle - Complete Works  ...                                              in a codicil to the will, appended less than a month before his death, he expressed the hope that 'the translation of may be finished as soon as possible.'\n",
              "\n",
              "[5 rows x 7 columns]"
            ]
          },
          "metadata": {
            "tags": []
          },
          "execution_count": 33
        }
      ]
    },
    {
      "cell_type": "markdown",
      "metadata": {
        "id": "rSzTX0yNNV-K"
      },
      "source": [
        "Deeper exploration of the duplicates reveals that Kant has a lot of doubles that seem to be authentically from his texts. Plato also has several duplicate sentences, but these are almost all short phrases from the dialogues ('of course, yes' and that kind of thing). \n",
        "\n",
        "To preserve the Kant, while also removing the irrelevant duplicates, we will remove both copies of all duplicates from texts other than the Kant's *Critique of Pure Reason*. For that text, we will remove the short duplicates and keep one copy of the longer ones, thus preserving the meaningful sentences. "
      ]
    },
    {
      "cell_type": "code",
      "metadata": {
        "id": "qe5D6a2qwv7f",
        "colab": {
          "base_uri": "https://localhost:8080/"
        },
        "outputId": "bf847de7-6d82-4d5e-f7ba-2fc56e6a121d"
      },
      "source": [
        "non_kant_indexes = df[(df['title'] != 'critique of pure reason') & \n",
        "                       (df['sentence_str'].duplicated(keep=False))].index\n",
        "kant_short_indexes = df[(df['title'] == 'critique of pure reason') &\n",
        "                        (df['sentence_str'].duplicated(keep=False)) &\n",
        "                        (df['sentence_length'] < 40)].index\n",
        "kant_long_indexes = df[(df['title'] == 'critique of pure reason') &\n",
        "                        (df['sentence_str'].duplicated(keep='first')) &\n",
        "                        (df['sentence_length'] >= 40)].index\n",
        "\n",
        "indexes_to_drop = [non_kant_indexes, kant_short_indexes, kant_long_indexes]\n",
        "for index in indexes_to_drop:\n",
        "  df = df.drop(index)\n",
        "\n",
        "len(df)"
      ],
      "execution_count": 34,
      "outputs": [
        {
          "output_type": "execute_result",
          "data": {
            "text/plain": [
              "358461"
            ]
          },
          "metadata": {
            "tags": []
          },
          "execution_count": 34
        }
      ]
    },
    {
      "cell_type": "markdown",
      "metadata": {
        "id": "kcdlnijMNaMA"
      },
      "source": [
        "#### Check for Foreign-Language Sentences"
      ]
    },
    {
      "cell_type": "code",
      "metadata": {
        "colab": {
          "base_uri": "https://localhost:8080/"
        },
        "id": "JXUfIsqkwwOY",
        "outputId": "f081ebae-b0af-40e1-c526-55678b3213bc"
      },
      "source": [
        "# checking for 'der', a common article in German\n",
        "len((df[df['sentence_str'].str.contains('\\sder\\s')]))"
      ],
      "execution_count": 35,
      "outputs": [
        {
          "output_type": "execute_result",
          "data": {
            "text/plain": [
              "319"
            ]
          },
          "metadata": {
            "tags": []
          },
          "execution_count": 35
        }
      ]
    },
    {
      "cell_type": "code",
      "metadata": {
        "colab": {
          "base_uri": "https://localhost:8080/"
        },
        "id": "Sds3G-P8w-KH",
        "outputId": "64e65bc8-15a3-4ad2-f6b2-ff3b685fa6fb"
      },
      "source": [
        "df = df.drop(df[df['sentence_str'].str.contains('\\sder\\s')].index)\n",
        "\n",
        "len(df)"
      ],
      "execution_count": 36,
      "outputs": [
        {
          "output_type": "execute_result",
          "data": {
            "text/plain": [
              "358142"
            ]
          },
          "metadata": {
            "tags": []
          },
          "execution_count": 36
        }
      ]
    },
    {
      "cell_type": "code",
      "metadata": {
        "id": "nsz9L0qCw-UM",
        "colab": {
          "base_uri": "https://localhost:8080/",
          "height": 1000
        },
        "outputId": "7fb29274-ad37-4645-b75f-7bfc8917dc6c"
      },
      "source": [
        "# checking for 'il', a common article in French\n",
        "df[df['sentence_str'].str.contains('\\sil\\s')]"
      ],
      "execution_count": 37,
      "outputs": [
        {
          "output_type": "execute_result",
          "data": {
            "text/html": [
              "<div>\n",
              "<style scoped>\n",
              "    .dataframe tbody tr th:only-of-type {\n",
              "        vertical-align: middle;\n",
              "    }\n",
              "\n",
              "    .dataframe tbody tr th {\n",
              "        vertical-align: top;\n",
              "    }\n",
              "\n",
              "    .dataframe thead th {\n",
              "        text-align: right;\n",
              "    }\n",
              "</style>\n",
              "<table border=\"1\" class=\"dataframe\">\n",
              "  <thead>\n",
              "    <tr style=\"text-align: right;\">\n",
              "      <th></th>\n",
              "      <th>title</th>\n",
              "      <th>author</th>\n",
              "      <th>school</th>\n",
              "      <th>sentence_spacy</th>\n",
              "      <th>sentence_str</th>\n",
              "      <th>sentence_length</th>\n",
              "      <th>sentence_lowered</th>\n",
              "    </tr>\n",
              "  </thead>\n",
              "  <tbody>\n",
              "    <tr>\n",
              "      <th>132863</th>\n",
              "      <td>Theodicy</td>\n",
              "      <td>Leibniz</td>\n",
              "      <td>rationalism</td>\n",
              "      <td>(lor, moto, sempre, Insieme, s'aggruppa, ,, dall, ', antico, Sempre, con, ordin, certo, il, nuovo, nasce, ;, Ne, tracciando, primi, semi, ,, fanno, Di, moto, un, tal, principio, ,, il, qual, poi, ...</td>\n",
              "      <td>lor moto sempre Insieme s'aggruppa, dall' antico Sempre con ordin certo il nuovo nasce; Ne tracciando primi semi, fanno Di moto un tal principio, il qual poi rompa I decreti del fato, acci non seg...</td>\n",
              "      <td>330</td>\n",
              "      <td>lor moto sempre insieme s'aggruppa, dall' antico sempre con ordin certo il nuovo nasce; ne tracciando primi semi, fanno di moto un tal principio, il qual poi rompa i decreti del fato, acci non seg...</td>\n",
              "    </tr>\n",
              "    <tr>\n",
              "      <th>132864</th>\n",
              "      <td>Theodicy</td>\n",
              "      <td>Leibniz</td>\n",
              "      <td>rationalism</td>\n",
              "      <td>(I, moti, ancora, Si, declinan, sovente, ,, non, in, tempo, Certo, ,, ne, certa, region, ,, solo, Quando, dove, commanda, il, nostro, arbitrio, ;, Poiche, senz, ', alcun, dubbio, queste, cose, sol...</td>\n",
              "      <td>I moti ancora Si declinan sovente, non in tempo Certo, ne certa region, solo Quando dove commanda il nostro arbitrio; Poiche senz' alcun dubbio queste cose sol principio il voler proprio, quindi V...</td>\n",
              "      <td>232</td>\n",
              "      <td>i moti ancora si declinan sovente, non in tempo certo, ne certa region, solo quando dove commanda il nostro arbitrio; poiche senz' alcun dubbio queste cose sol principio il voler proprio, quindi v...</td>\n",
              "    </tr>\n",
              "    <tr>\n",
              "      <th>136927</th>\n",
              "      <td>The Search After Truth</td>\n",
              "      <td>Malebranche</td>\n",
              "      <td>rationalism</td>\n",
              "      <td>(This, is, the, order, we, observe, in, this, treatise, :, il, is, divided, into, three, parts, .)</td>\n",
              "      <td>This is the order we observe in this treatise: il is divided into three parts.</td>\n",
              "      <td>78</td>\n",
              "      <td>this is the order we observe in this treatise: il is divided into three parts.</td>\n",
              "    </tr>\n",
              "    <tr>\n",
              "      <th>139476</th>\n",
              "      <td>The Search After Truth</td>\n",
              "      <td>Malebranche</td>\n",
              "      <td>rationalism</td>\n",
              "      <td>(both, what, they, are, and, what, they, are, thinking, (, which, I, really, do, not, bel, ,, I, warn, that, it, is, only, because, I, desire, to, dispute, the, This, paragraph, is, italicized, be...</td>\n",
              "      <td>both what they are and what they are thinking (which I really do not bel, I warn that it is only because I desire to dispute the This paragraph is italicized because you may omil il as being difli...</td>\n",
              "      <td>276</td>\n",
              "      <td>both what they are and what they are thinking (which i really do not bel, i warn that it is only because i desire to dispute the this paragraph is italicized because you may omil il as being difli...</td>\n",
              "    </tr>\n",
              "    <tr>\n",
              "      <th>140989</th>\n",
              "      <td>The Search After Truth</td>\n",
              "      <td>Malebranche</td>\n",
              "      <td>rationalism</td>\n",
              "      <td>(But, perhaps, il, would, be, appropriate, to, speak, of, their, quotations, ,, which, will, enable, us, to, understand, to, some, extent, the, disposition, of, their, mind, .)</td>\n",
              "      <td>But perhaps il would be appropriate to speak of their quotations, which will enable us to understand to some extent the disposition of their mind.</td>\n",
              "      <td>146</td>\n",
              "      <td>but perhaps il would be appropriate to speak of their quotations, which will enable us to understand to some extent the disposition of their mind.</td>\n",
              "    </tr>\n",
              "    <tr>\n",
              "      <th>144030</th>\n",
              "      <td>The Search After Truth</td>\n",
              "      <td>Malebranche</td>\n",
              "      <td>rationalism</td>\n",
              "      <td>(illiSl, ', il, nul, Utnpkll, ', .)</td>\n",
              "      <td>illiSl' il nul Utnpkll'.</td>\n",
              "      <td>24</td>\n",
              "      <td>illisl' il nul utnpkll'.</td>\n",
              "    </tr>\n",
              "    <tr>\n",
              "      <th>147215</th>\n",
              "      <td>The Search After Truth</td>\n",
              "      <td>Malebranche</td>\n",
              "      <td>rationalism</td>\n",
              "      <td>(regarding, those, of, Arnauld, in, the, second, volume, of, the, il, of, my, replies, .)</td>\n",
              "      <td>regarding those of Arnauld in the second volume of the il of my replies.</td>\n",
              "      <td>72</td>\n",
              "      <td>regarding those of arnauld in the second volume of the il of my replies.</td>\n",
              "    </tr>\n",
              "    <tr>\n",
              "      <th>180401</th>\n",
              "      <td>Quintessence</td>\n",
              "      <td>Quine</td>\n",
              "      <td>analytic</td>\n",
              "      <td>(oh, ,, et, de, conteml, ,, ier, eternellement, il, pro, /, Jre, l, (, Il, ', brti, .)</td>\n",
              "      <td>oh,et de conteml,ier eternellement il pro/Jre l( Il' brti.</td>\n",
              "      <td>58</td>\n",
              "      <td>oh,et de conteml,ier eternellement il pro/jre l( il' brti.</td>\n",
              "    </tr>\n",
              "    <tr>\n",
              "      <th>185683</th>\n",
              "      <td>Quintessence</td>\n",
              "      <td>Quine</td>\n",
              "      <td>analytic</td>\n",
              "      <td>(The, Ca, rtesian, quest, for, certainty, had, been, the, remote, motivation, of, epistemology, ,, both, il, its, conceptual, and, its, doctrinal, side, ;, but, that, quest, was, seen, as, a, lost...</td>\n",
              "      <td>The Ca rtesian quest for certainty had been the remote motivation of epistemology, both il its conceptual and its doctrinal side; but that quest was seen as a lost cause.</td>\n",
              "      <td>170</td>\n",
              "      <td>the ca rtesian quest for certainty had been the remote motivation of epistemology, both il its conceptual and its doctrinal side; but that quest was seen as a lost cause.</td>\n",
              "    </tr>\n",
              "    <tr>\n",
              "      <th>200891</th>\n",
              "      <td>Philosophical Troubles</td>\n",
              "      <td>Kripke</td>\n",
              "      <td>analytic</td>\n",
              "      <td>(If, God, did, not, exist, ,, Voltaire, said, ,, il, faudrait, l'inventer, ., ')</td>\n",
              "      <td>If God did not exist, Voltaire said, il faudrait l'inventer.'</td>\n",
              "      <td>61</td>\n",
              "      <td>if god did not exist, voltaire said, il faudrait l'inventer.'</td>\n",
              "    </tr>\n",
              "    <tr>\n",
              "      <th>236377</th>\n",
              "      <td>Difference And Repetition</td>\n",
              "      <td>Deleuze</td>\n",
              "      <td>continental</td>\n",
              "      <td>(Qu'en, est, il, de, I'etre, ?, .)</td>\n",
              "      <td>Qu'en est il de I'etre?.</td>\n",
              "      <td>24</td>\n",
              "      <td>qu'en est il de i'etre?.</td>\n",
              "    </tr>\n",
              "    <tr>\n",
              "      <th>241662</th>\n",
              "      <td>Anti-Oedipus</td>\n",
              "      <td>Deleuze</td>\n",
              "      <td>continental</td>\n",
              "      <td>(But, ethnologists, observe, how, difficult, it, is, to, distinguish, those, protoclasses, from, the, castes, organized, by, the, il, ial, mach.ine, and, from, the, rankings, distributed, by, the,...</td>\n",
              "      <td>But ethnologists observe how difficult it is to distinguish those protoclasses from the castes organized by the il ial mach.ine and from the rankings distributed by the segmentary prmutrve machine.</td>\n",
              "      <td>197</td>\n",
              "      <td>but ethnologists observe how difficult it is to distinguish those protoclasses from the castes organized by the il ial mach.ine and from the rankings distributed by the segmentary prmutrve machine.</td>\n",
              "    </tr>\n",
              "    <tr>\n",
              "      <th>262671</th>\n",
              "      <td>Being And Time</td>\n",
              "      <td>Heidegger</td>\n",
              "      <td>phenomenology</td>\n",
              "      <td>(What, is, at, hand, is, discovered, as, such, in, its, serviceability, usab, il, ity, ,, detrimentality, .)</td>\n",
              "      <td>What is at hand is discovered as such in its serviceability usab il ity, detrimentality.</td>\n",
              "      <td>88</td>\n",
              "      <td>what is at hand is discovered as such in its serviceability usab il ity, detrimentality.</td>\n",
              "    </tr>\n",
              "    <tr>\n",
              "      <th>270702</th>\n",
              "      <td>Off The Beaten Track</td>\n",
              "      <td>Heidegger</td>\n",
              "      <td>phenomenology</td>\n",
              "      <td>(Of, all, things, (, those, ,, namely, ,, that, man, has, around, him, in, use, and, usage, ,, il, .lcrra)</td>\n",
              "      <td>Of all things (those, namely, that man has around him in use and usage, il .lcrra</td>\n",
              "      <td>81</td>\n",
              "      <td>of all things (those, namely, that man has around him in use and usage, il .lcrra</td>\n",
              "    </tr>\n",
              "    <tr>\n",
              "      <th>272357</th>\n",
              "      <td>Off The Beaten Track</td>\n",
              "      <td>Heidegger</td>\n",
              "      <td>phenomenology</td>\n",
              "      <td>(Aristotle, characterizes, the, contem, plation, of, beings, as, beings, as, hna, il, a, way, in, which, our, seeing, and, perceiving, stands, by, ,, that, is, ,, stands, by, what, is, present, as...</td>\n",
              "      <td>Aristotle characterizes the contem plation of beings as beings as hna il a way in which our seeing and perceiving stands by, that is, stands by what is present as such.</td>\n",
              "      <td>168</td>\n",
              "      <td>aristotle characterizes the contem plation of beings as beings as hna il a way in which our seeing and perceiving stands by, that is, stands by what is present as such.</td>\n",
              "    </tr>\n",
              "    <tr>\n",
              "      <th>283925</th>\n",
              "      <td>Critique Of Pure Reason</td>\n",
              "      <td>Kant</td>\n",
              "      <td>german_idealism</td>\n",
              "      <td>(This, is, evidently, the, effect, not, of, the, thoughtlessness, of, our, age, ,, but, of, its, ripened, power, of, judgment, ,, which, will, no, longer, be, put, off, with, il, Now, and, again, ...</td>\n",
              "      <td>This is evidently the effect not of the thoughtlessness of our age, but of its ripened power of judgment, which will no longer be put off with il Now and again one hears complaints about the super...</td>\n",
              "      <td>281</td>\n",
              "      <td>this is evidently the effect not of the thoughtlessness of our age, but of its ripened power of judgment, which will no longer be put off with il now and again one hears complaints about the super...</td>\n",
              "    </tr>\n",
              "    <tr>\n",
              "      <th>285427</th>\n",
              "      <td>Critique Of Pure Reason</td>\n",
              "      <td>Kant</td>\n",
              "      <td>german_idealism</td>\n",
              "      <td>(The, second, part, of, the, transcendental, logic, must, therefore, be, a, critique, of, this, dialectical, illusion, ,, and, is, called, transcendental, dialectic, ,, not, as, an, art, of, dogma...</td>\n",
              "      <td>The second part of the transcendental logic must therefore be a critique of this dialectical illusion, and is called transcendental dialectic, not as an art of dogmatically arousing such il lusion...</td>\n",
              "      <td>679</td>\n",
              "      <td>the second part of the transcendental logic must therefore be a critique of this dialectical illusion, and is called transcendental dialectic, not as an art of dogmatically arousing such il lusion...</td>\n",
              "    </tr>\n",
              "    <tr>\n",
              "      <th>317679</th>\n",
              "      <td>Elements Of The Philosophy Of Right</td>\n",
              "      <td>Hegel</td>\n",
              "      <td>german_idealism</td>\n",
              "      <td>(The, buds, have, the, tree, within, Ciand, il, coiitain, its, entire, strength, ,, although, they, are, not, yet, the, tree, itself, .)</td>\n",
              "      <td>The buds have the tree within Ciand il coiitain its entire strength, although they are not yet the tree itself.</td>\n",
              "      <td>111</td>\n",
              "      <td>the buds have the tree within ciand il coiitain its entire strength, although they are not yet the tree itself.</td>\n",
              "    </tr>\n",
              "    <tr>\n",
              "      <th>320862</th>\n",
              "      <td>Elements Of The Philosophy Of Right</td>\n",
              "      <td>Hegel</td>\n",
              "      <td>german_idealism</td>\n",
              "      <td>(rather, than, des, Bosen, (, ', e, il, in, general, ', ))</td>\n",
              "      <td>rather than des Bosen ('e il in general ')</td>\n",
              "      <td>42</td>\n",
              "      <td>rather than des bosen ('e il in general ')</td>\n",
              "    </tr>\n",
              "    <tr>\n",
              "      <th>324549</th>\n",
              "      <td>Capital</td>\n",
              "      <td>Marx</td>\n",
              "      <td>communism</td>\n",
              "      <td>(colla, mano, dell'uomo, il, glutine, di, un, insetto, si, trasmuti, in, velluto, ovvero, alcuni, pezzetti, di, metalio)</td>\n",
              "      <td>colla mano dell'uomo il glutine di un insetto si trasmuti in velluto ovvero alcuni pezzetti di metalio</td>\n",
              "      <td>102</td>\n",
              "      <td>colla mano dell'uomo il glutine di un insetto si trasmuti in velluto ovvero alcuni pezzetti di metalio</td>\n",
              "    </tr>\n",
              "    <tr>\n",
              "      <th>324702</th>\n",
              "      <td>Capital</td>\n",
              "      <td>Marx</td>\n",
              "      <td>communism</td>\n",
              "      <td>(des, hommes, tandis, que, leur, propre, religion, est, une, emanation, de, Dieu, Ainsi, il, a, eu, de, l'histoire, ,)</td>\n",
              "      <td>des hommes tandis que leur propre religion est une emanation de Dieu Ainsi il a eu de l'histoire,</td>\n",
              "      <td>97</td>\n",
              "      <td>des hommes tandis que leur propre religion est une emanation de dieu ainsi il a eu de l'histoire,</td>\n",
              "    </tr>\n",
              "    <tr>\n",
              "      <th>324930</th>\n",
              "      <td>Capital</td>\n",
              "      <td>Marx</td>\n",
              "      <td>communism</td>\n",
              "      <td>(L'argent, n'est, pas, simple, signe, ,, car, il, est, lui, meme, richesse, ,, il, ne, repr, sente, pas, les, valeurs, ,, il, les, quivaut, .)</td>\n",
              "      <td>L'argent n'est pas simple signe, car il est lui meme richesse, il ne repr sente pas les valeurs, il les quivaut.</td>\n",
              "      <td>112</td>\n",
              "      <td>l'argent n'est pas simple signe, car il est lui meme richesse, il ne repr sente pas les valeurs, il les quivaut.</td>\n",
              "    </tr>\n",
              "    <tr>\n",
              "      <th>324938</th>\n",
              "      <td>Capital</td>\n",
              "      <td>Marx</td>\n",
              "      <td>communism</td>\n",
              "      <td>(tat, ,, la, provision, et, toute, l'ordonnance, des, monnaies, ,, de, donner, tel, cours, ,, et, pour, tel, prix, comme, il, nous, plait, et, bon, nous, semble, .)</td>\n",
              "      <td>tat, la provision et toute l'ordonnance des monnaies, de donner tel cours, et pour tel prix comme il nous plait et bon nous semble.</td>\n",
              "      <td>131</td>\n",
              "      <td>tat, la provision et toute l'ordonnance des monnaies, de donner tel cours, et pour tel prix comme il nous plait et bon nous semble.</td>\n",
              "    </tr>\n",
              "    <tr>\n",
              "      <th>324944</th>\n",
              "      <td>Capital</td>\n",
              "      <td>Marx</td>\n",
              "      <td>communism</td>\n",
              "      <td>(Saggio, sopra, il, giusto, pregio, delle, cose, ,, Custodi, Parte, Moderna, ,, .)</td>\n",
              "      <td>Saggio sopra il giusto pregio delle cose, Custodi Parte Moderna,.</td>\n",
              "      <td>65</td>\n",
              "      <td>saggio sopra il giusto pregio delle cose, custodi parte moderna,.</td>\n",
              "    </tr>\n",
              "    <tr>\n",
              "      <th>325725</th>\n",
              "      <td>Capital</td>\n",
              "      <td>Marx</td>\n",
              "      <td>communism</td>\n",
              "      <td>(Ou, bien, ,, il, faut, consentir, dire, qu'une, valeur, d'un, million, en, argent, vaut, plus, qu'une, valeur, gale, en, merchandises, .)</td>\n",
              "      <td>Ou bien, il faut consentir dire qu'une valeur d'un million en argent vaut plus qu'une valeur gale en merchandises.</td>\n",
              "      <td>114</td>\n",
              "      <td>ou bien, il faut consentir dire qu'une valeur d'un million en argent vaut plus qu'une valeur gale en merchandises.</td>\n",
              "    </tr>\n",
              "    <tr>\n",
              "      <th>325753</th>\n",
              "      <td>Capital</td>\n",
              "      <td>Marx</td>\n",
              "      <td>communism</td>\n",
              "      <td>(Pour, avoir, cet, argent, ,, il, faut, avoir, vendu, ,, ., ,, .)</td>\n",
              "      <td>Pour avoir cet argent, il faut avoir vendu, .,.</td>\n",
              "      <td>47</td>\n",
              "      <td>pour avoir cet argent, il faut avoir vendu, .,.</td>\n",
              "    </tr>\n",
              "    <tr>\n",
              "      <th>325757</th>\n",
              "      <td>Capital</td>\n",
              "      <td>Marx</td>\n",
              "      <td>communism</td>\n",
              "      <td>(que, nous, pouvons, sirer, d'acheter, ,, il, repr, sente, aussi, les, choses)</td>\n",
              "      <td>que nous pouvons sirer d'acheter, il repr sente aussi les choses</td>\n",
              "      <td>64</td>\n",
              "      <td>que nous pouvons sirer d'acheter, il repr sente aussi les choses</td>\n",
              "    </tr>\n",
              "    <tr>\n",
              "      <th>325840</th>\n",
              "      <td>Capital</td>\n",
              "      <td>Marx</td>\n",
              "      <td>communism</td>\n",
              "      <td>(vent, il, est, cenain, que, chaque, denr, ou, merchandise, ,, en, paniculier, ,)</td>\n",
              "      <td>vent il est cenain que chaque denr ou merchandise, en paniculier,</td>\n",
              "      <td>65</td>\n",
              "      <td>vent il est cenain que chaque denr ou merchandise, en paniculier,</td>\n",
              "    </tr>\n",
              "    <tr>\n",
              "      <th>325931</th>\n",
              "      <td>Capital</td>\n",
              "      <td>Marx</td>\n",
              "      <td>communism</td>\n",
              "      <td>(quanto, pi, si, pu, il, numero, de'venditori, d'ogni, merce, ,)</td>\n",
              "      <td>quanto pi si pu il numero de'venditori d'ogni merce,</td>\n",
              "      <td>52</td>\n",
              "      <td>quanto pi si pu il numero de'venditori d'ogni merce,</td>\n",
              "    </tr>\n",
              "    <tr>\n",
              "      <th>325932</th>\n",
              "      <td>Capital</td>\n",
              "      <td>Marx</td>\n",
              "      <td>communism</td>\n",
              "      <td>(diminuere, quanto, pi, si, puo, il, numero, dei, compratori, ,, quest, ), sono, cardini, sui, quali, si, raggirano, tutte, le, operazioni, di, economia, politica, .)</td>\n",
              "      <td>diminuere quanto pi si puo il numero dei compratori, quest) sono cardini sui quali si raggirano tutte le operazioni di economia politica.</td>\n",
              "      <td>137</td>\n",
              "      <td>diminuere quanto pi si puo il numero dei compratori, quest) sono cardini sui quali si raggirano tutte le operazioni di economia politica.</td>\n",
              "    </tr>\n",
              "    <tr>\n",
              "      <th>326254</th>\n",
              "      <td>Capital</td>\n",
              "      <td>Marx</td>\n",
              "      <td>communism</td>\n",
              "      <td>(Si, l'on, gagnait, longtemps, en, tout, avec, tous, ,, il, faudrait, rendre, de, bon, accord, les, plus, grandes, parties)</td>\n",
              "      <td>Si l'on gagnait longtemps en tout avec tous, il faudrait rendre de bon accord les plus grandes parties</td>\n",
              "      <td>102</td>\n",
              "      <td>si l'on gagnait longtemps en tout avec tous, il faudrait rendre de bon accord les plus grandes parties</td>\n",
              "    </tr>\n",
              "    <tr>\n",
              "      <th>326292</th>\n",
              "      <td>Capital</td>\n",
              "      <td>Marx</td>\n",
              "      <td>communism</td>\n",
              "      <td>(mercante, non, conta, quasi, per, niente, il, lucro, fatto, ,, ma, mira, sempre, al, futuro, .)</td>\n",
              "      <td>mercante non conta quasi per niente il lucro fatto, ma mira sempre al futuro.</td>\n",
              "      <td>77</td>\n",
              "      <td>mercante non conta quasi per niente il lucro fatto, ma mira sempre al futuro.</td>\n",
              "    </tr>\n",
              "    <tr>\n",
              "      <th>326519</th>\n",
              "      <td>Capital</td>\n",
              "      <td>Marx</td>\n",
              "      <td>communism</td>\n",
              "      <td>(soci, form, il, n'y, a, pas, de, surabondant, en, aucun, genre, .)</td>\n",
              "      <td>soci form il n'y a pas de surabondant en aucun genre.</td>\n",
              "      <td>53</td>\n",
              "      <td>soci form il n'y a pas de surabondant en aucun genre.</td>\n",
              "    </tr>\n",
              "    <tr>\n",
              "      <th>329909</th>\n",
              "      <td>Capital</td>\n",
              "      <td>Marx</td>\n",
              "      <td>communism</td>\n",
              "      <td>(En, tout, genre, de, travail, il, doit, arriver, ,)</td>\n",
              "      <td>En tout genre de travail il doit arriver,</td>\n",
              "      <td>41</td>\n",
              "      <td>en tout genre de travail il doit arriver,</td>\n",
              "    </tr>\n",
              "    <tr>\n",
              "      <th>330161</th>\n",
              "      <td>Capital</td>\n",
              "      <td>Marx</td>\n",
              "      <td>communism</td>\n",
              "      <td>(Des, ma, ons, par, exemple, ,, occup, faire, passer, de, mains, en, mains, des, briques, un, chafaudage, sup, rieur, ,, font, tous, la, me, besogne, ,, et, pourtant, il, existe, parmi, eux, une, ...</td>\n",
              "      <td>Des ma ons par exemple, occup faire passer de mains en mains des briques un chafaudage sup rieur, font tous la me besogne, et pourtant il existe parmi eux une esp ce de division de travail,</td>\n",
              "      <td>189</td>\n",
              "      <td>des ma ons par exemple, occup faire passer de mains en mains des briques un chafaudage sup rieur, font tous la me besogne, et pourtant il existe parmi eux une esp ce de division de travail,</td>\n",
              "    </tr>\n",
              "    <tr>\n",
              "      <th>330170</th>\n",
              "      <td>Capital</td>\n",
              "      <td>Marx</td>\n",
              "      <td>communism</td>\n",
              "      <td>(Est, il, question, d'ex)</td>\n",
              "      <td>Est il question d'ex</td>\n",
              "      <td>20</td>\n",
              "      <td>est il question d'ex</td>\n",
              "    </tr>\n",
              "    <tr>\n",
              "      <th>330199</th>\n",
              "      <td>Capital</td>\n",
              "      <td>Marx</td>\n",
              "      <td>communism</td>\n",
              "      <td>(a, che, le, forze, per, essere, riunite, possono, diminuere, il, tempo, ed, accrescere, lo, spazio, della, loro, azione, .)</td>\n",
              "      <td>a che le forze per essere riunite possono diminuere il tempo ed accrescere lo spazio della loro azione.</td>\n",
              "      <td>103</td>\n",
              "      <td>a che le forze per essere riunite possono diminuere il tempo ed accrescere lo spazio della loro azione.</td>\n",
              "    </tr>\n",
              "    <tr>\n",
              "      <th>333261</th>\n",
              "      <td>Capital</td>\n",
              "      <td>Marx</td>\n",
              "      <td>communism</td>\n",
              "      <td>(En, quoi, l'effet, d'une, machine, diff, re, il, de, celui, de, nouveaux, habitants, ?)</td>\n",
              "      <td>En quoi l'effet d'une machine diff re il de celui de nouveaux habitants?</td>\n",
              "      <td>72</td>\n",
              "      <td>en quoi l'effet d'une machine diff re il de celui de nouveaux habitants?</td>\n",
              "    </tr>\n",
              "    <tr>\n",
              "      <th>335973</th>\n",
              "      <td>Capital</td>\n",
              "      <td>Marx</td>\n",
              "      <td>communism</td>\n",
              "      <td>(bien, li, ,, sates, laquelle, il, est, impossible, ,, je, le, clare, ,, d'expliquer, les, plus, grandes, difficult, de, l, ', conomie, politique, ,, et, notamment, ,, comment)</td>\n",
              "      <td>bien li, sates laquelle il est impossible, je le clare, d'expliquer les plus grandes difficult de l' conomie politique, et notamment, comment</td>\n",
              "      <td>141</td>\n",
              "      <td>bien li, sates laquelle il est impossible, je le clare, d'expliquer les plus grandes difficult de l' conomie politique, et notamment, comment</td>\n",
              "    </tr>\n",
              "    <tr>\n",
              "      <th>336470</th>\n",
              "      <td>Capital</td>\n",
              "      <td>Marx</td>\n",
              "      <td>communism</td>\n",
              "      <td>((, il, bene, ed, il, male, economico, in, una, nazione, sempre, all, ,, istessa, misura, ))</td>\n",
              "      <td>(il bene ed il male economico in una nazione sempre all, istessa misura)</td>\n",
              "      <td>72</td>\n",
              "      <td>(il bene ed il male economico in una nazione sempre all, istessa misura)</td>\n",
              "    </tr>\n",
              "    <tr>\n",
              "      <th>337734</th>\n",
              "      <td>Capital</td>\n",
              "      <td>Marx</td>\n",
              "      <td>communism</td>\n",
              "      <td>(a, veloppement, des, forces, productives, ,, il, a, une, force, productive, de, pression, ;, que, ces, rapports, ne, produisent, la, richesse, bourgeoise, ,, c'est, dire, la, richesse, de, la, cl...</td>\n",
              "      <td>a veloppement des forces productives, il a une force productive de pression; que ces rapports ne produisent la richesse bourgeoise, c'est dire la richesse de la classe bourgeoise, qu'en an antissa...</td>\n",
              "      <td>317</td>\n",
              "      <td>a veloppement des forces productives, il a une force productive de pression; que ces rapports ne produisent la richesse bourgeoise, c'est dire la richesse de la classe bourgeoise, qu'en an antissa...</td>\n",
              "    </tr>\n",
              "    <tr>\n",
              "      <th>337757</th>\n",
              "      <td>Capital</td>\n",
              "      <td>Marx</td>\n",
              "      <td>communism</td>\n",
              "      <td>(Les, nations, pauvres, ,, c'est, le, peuple, est, son, aise, ;, et, les, nations, riches, ,, c'est, il, est, ordinairement, pauvre, .)</td>\n",
              "      <td>Les nations pauvres, c'est le peuple est son aise; et les nations riches, c'est il est ordinairement pauvre.</td>\n",
              "      <td>108</td>\n",
              "      <td>les nations pauvres, c'est le peuple est son aise; et les nations riches, c'est il est ordinairement pauvre.</td>\n",
              "    </tr>\n",
              "    <tr>\n",
              "      <th>338574</th>\n",
              "      <td>Capital</td>\n",
              "      <td>Marx</td>\n",
              "      <td>communism</td>\n",
              "      <td>(et, pour, comble, de, ruine, ,, il, n'ose)</td>\n",
              "      <td>et pour comble de ruine, il n'ose</td>\n",
              "      <td>33</td>\n",
              "      <td>et pour comble de ruine, il n'ose</td>\n",
              "    </tr>\n",
              "    <tr>\n",
              "      <th>338575</th>\n",
              "      <td>Capital</td>\n",
              "      <td>Marx</td>\n",
              "      <td>communism</td>\n",
              "      <td>(pas, vendre, sea, productions, et, comme, il, le, veut, ;)</td>\n",
              "      <td>pas vendre sea productions et comme il le veut;</td>\n",
              "      <td>47</td>\n",
              "      <td>pas vendre sea productions et comme il le veut;</td>\n",
              "    </tr>\n",
              "    <tr>\n",
              "      <th>338582</th>\n",
              "      <td>Capital</td>\n",
              "      <td>Marx</td>\n",
              "      <td>communism</td>\n",
              "      <td>(En, il, travaille, comme, un, forcat, au, labourage, et, la, colte, ;, il, se, couche, heures)</td>\n",
              "      <td>En il travaille comme un forcat au labourage et la colte; il se couche heures</td>\n",
              "      <td>77</td>\n",
              "      <td>en il travaille comme un forcat au labourage et la colte; il se couche heures</td>\n",
              "    </tr>\n",
              "    <tr>\n",
              "      <th>338583</th>\n",
              "      <td>Capital</td>\n",
              "      <td>Marx</td>\n",
              "      <td>communism</td>\n",
              "      <td>(et, se, ve, deux, ,, pour, suffire, aux, travaux, ;, en, hiver, il, devrait, parer, ses, forces, par, un, plus, grand, repos)</td>\n",
              "      <td>et se ve deux, pour suffire aux travaux; en hiver il devrait parer ses forces par un plus grand repos</td>\n",
              "      <td>101</td>\n",
              "      <td>et se ve deux, pour suffire aux travaux; en hiver il devrait parer ses forces par un plus grand repos</td>\n",
              "    </tr>\n",
              "    <tr>\n",
              "      <th>338588</th>\n",
              "      <td>Capital</td>\n",
              "      <td>Marx</td>\n",
              "      <td>communism</td>\n",
              "      <td>(et, se, ve, cinq, on, six, ;, on, bien, il, se, couche, neuf, ,, et)</td>\n",
              "      <td>et se ve cinq on six; on bien il se couche neuf, et</td>\n",
              "      <td>51</td>\n",
              "      <td>et se ve cinq on six; on bien il se couche neuf, et</td>\n",
              "    </tr>\n",
              "    <tr>\n",
              "      <th>339145</th>\n",
              "      <td>Capital</td>\n",
              "      <td>Marx</td>\n",
              "      <td>communism</td>\n",
              "      <td>(Si, les, Tartares, inondaient, I'Europe, aujourd'hui, ,, il, faudrait, bien, des, affaires, pour, leur, faire, entendre, ce, que, c'est, qu'un, financier, parmi, nous, .)</td>\n",
              "      <td>Si les Tartares inondaient I'Europe aujourd'hui, il faudrait bien des affaires pour leur faire entendre ce que c'est qu'un financier parmi nous.</td>\n",
              "      <td>144</td>\n",
              "      <td>si les tartares inondaient i'europe aujourd'hui, il faudrait bien des affaires pour leur faire entendre ce que c'est qu'un financier parmi nous.</td>\n",
              "    </tr>\n",
              "    <tr>\n",
              "      <th>367876</th>\n",
              "      <td>Beyond Good And Evil</td>\n",
              "      <td>Nietzsche</td>\n",
              "      <td>nietzsche</td>\n",
              "      <td>(There, is, something, ticklish, in, the, truth, ,, and, in, the, for, the, truth, ;, and, if, man, goes, about, it, too, humanely, il, ne, cherche, le, vrai, que, pour, faire, le, bien)</td>\n",
              "      <td>There is something ticklish in the truth, and in the for the truth; and if man goes about it too humanely il ne cherche le vrai que pour faire le bien</td>\n",
              "      <td>150</td>\n",
              "      <td>there is something ticklish in the truth, and in the for the truth; and if man goes about it too humanely il ne cherche le vrai que pour faire le bien</td>\n",
              "    </tr>\n",
              "    <tr>\n",
              "      <th>367908</th>\n",
              "      <td>Beyond Good And Evil</td>\n",
              "      <td>Nietzsche</td>\n",
              "      <td>nietzsche</td>\n",
              "      <td>(Pour, etre, bon, philosophe, ,, says, this, last, great, psychologist, ,, il, faut, etre, sec, ,, clair, ,, sans, illusion, .)</td>\n",
              "      <td>Pour etre bon philosophe, says this last great psychologist, il faut etre sec, clair, sans illusion.</td>\n",
              "      <td>100</td>\n",
              "      <td>pour etre bon philosophe, says this last great psychologist, il faut etre sec, clair, sans illusion.</td>\n",
              "    </tr>\n",
              "    <tr>\n",
              "      <th>371483</th>\n",
              "      <td>Twilight Of The Idols</td>\n",
              "      <td>Nietzsche</td>\n",
              "      <td>nietzsche</td>\n",
              "      <td>(Formerly, ,, owing, to, the, stupidity, inherent, in, passion, ,, men, waged, war, against, passion, itself, :, men, pledged, themselves, to, annihilate, it, ,, all, ancient, moral, mongers, were...</td>\n",
              "      <td>Formerly, owing to the stupidity inherent in passion, men waged war against passion itself: men pledged themselves to annihilate it, all ancient moral mongers were unanimous on this point, il faut...</td>\n",
              "      <td>215</td>\n",
              "      <td>formerly, owing to the stupidity inherent in passion, men waged war against passion itself: men pledged themselves to annihilate it, all ancient moral mongers were unanimous on this point, il faut...</td>\n",
              "    </tr>\n",
              "    <tr>\n",
              "      <th>372467</th>\n",
              "      <td>Twilight Of The Idols</td>\n",
              "      <td>Nietzsche</td>\n",
              "      <td>nietzsche</td>\n",
              "      <td>(It, has, been, said, ,, and, not, without, subtlety, :, il, est, indigne, des, grands, cœurs, de, pandre, le, trouble)</td>\n",
              "      <td>It has been said, and not without subtlety: il est indigne des grands cœurs de pandre le trouble</td>\n",
              "      <td>96</td>\n",
              "      <td>it has been said, and not without subtlety: il est indigne des grands cœurs de pandre le trouble</td>\n",
              "    </tr>\n",
              "  </tbody>\n",
              "</table>\n",
              "</div>"
            ],
            "text/plain": [
              "                                      title  ...                                                                                                                                                                                         sentence_lowered\n",
              "132863                             Theodicy  ...  lor moto sempre insieme s'aggruppa, dall' antico sempre con ordin certo il nuovo nasce; ne tracciando primi semi, fanno di moto un tal principio, il qual poi rompa i decreti del fato, acci non seg...\n",
              "132864                             Theodicy  ...  i moti ancora si declinan sovente, non in tempo certo, ne certa region, solo quando dove commanda il nostro arbitrio; poiche senz' alcun dubbio queste cose sol principio il voler proprio, quindi v...\n",
              "136927               The Search After Truth  ...                                                                                                                           this is the order we observe in this treatise: il is divided into three parts.\n",
              "139476               The Search After Truth  ...  both what they are and what they are thinking (which i really do not bel, i warn that it is only because i desire to dispute the this paragraph is italicized because you may omil il as being difli...\n",
              "140989               The Search After Truth  ...                                                       but perhaps il would be appropriate to speak of their quotations, which will enable us to understand to some extent the disposition of their mind.\n",
              "144030               The Search After Truth  ...                                                                                                                                                                                 illisl' il nul utnpkll'.\n",
              "147215               The Search After Truth  ...                                                                                                                                 regarding those of arnauld in the second volume of the il of my replies.\n",
              "180401                         Quintessence  ...                                                                                                                                               oh,et de conteml,ier eternellement il pro/jre l( il' brti.\n",
              "185683                         Quintessence  ...                               the ca rtesian quest for certainty had been the remote motivation of epistemology, both il its conceptual and its doctrinal side; but that quest was seen as a lost cause.\n",
              "200891               Philosophical Troubles  ...                                                                                                                                            if god did not exist, voltaire said, il faudrait l'inventer.'\n",
              "236377            Difference And Repetition  ...                                                                                                                                                                                 qu'en est il de i'etre?.\n",
              "241662                         Anti-Oedipus  ...    but ethnologists observe how difficult it is to distinguish those protoclasses from the castes organized by the il ial mach.ine and from the rankings distributed by the segmentary prmutrve machine.\n",
              "262671                       Being And Time  ...                                                                                                                 what is at hand is discovered as such in its serviceability usab il ity, detrimentality.\n",
              "270702                 Off The Beaten Track  ...                                                                                                                        of all things (those, namely, that man has around him in use and usage, il .lcrra\n",
              "272357                 Off The Beaten Track  ...                                 aristotle characterizes the contem plation of beings as beings as hna il a way in which our seeing and perceiving stands by, that is, stands by what is present as such.\n",
              "283925              Critique Of Pure Reason  ...  this is evidently the effect not of the thoughtlessness of our age, but of its ripened power of judgment, which will no longer be put off with il now and again one hears complaints about the super...\n",
              "285427              Critique Of Pure Reason  ...  the second part of the transcendental logic must therefore be a critique of this dialectical illusion, and is called transcendental dialectic, not as an art of dogmatically arousing such il lusion...\n",
              "317679  Elements Of The Philosophy Of Right  ...                                                                                          the buds have the tree within ciand il coiitain its entire strength, although they are not yet the tree itself.\n",
              "320862  Elements Of The Philosophy Of Right  ...                                                                                                                                                               rather than des bosen ('e il in general ')\n",
              "324549                              Capital  ...                                                                                                   colla mano dell'uomo il glutine di un insetto si trasmuti in velluto ovvero alcuni pezzetti di metalio\n",
              "324702                              Capital  ...                                                                                                        des hommes tandis que leur propre religion est une emanation de dieu ainsi il a eu de l'histoire,\n",
              "324930                              Capital  ...                                                                                         l'argent n'est pas simple signe, car il est lui meme richesse, il ne repr sente pas les valeurs, il les quivaut.\n",
              "324938                              Capital  ...                                                                      tat, la provision et toute l'ordonnance des monnaies, de donner tel cours, et pour tel prix comme il nous plait et bon nous semble.\n",
              "324944                              Capital  ...                                                                                                                                        saggio sopra il giusto pregio delle cose, custodi parte moderna,.\n",
              "325725                              Capital  ...                                                                                       ou bien, il faut consentir dire qu'une valeur d'un million en argent vaut plus qu'une valeur gale en merchandises.\n",
              "325753                              Capital  ...                                                                                                                                                          pour avoir cet argent, il faut avoir vendu, .,.\n",
              "325757                              Capital  ...                                                                                                                                         que nous pouvons sirer d'acheter, il repr sente aussi les choses\n",
              "325840                              Capital  ...                                                                                                                                        vent il est cenain que chaque denr ou merchandise, en paniculier,\n",
              "325931                              Capital  ...                                                                                                                                                     quanto pi si pu il numero de'venditori d'ogni merce,\n",
              "325932                              Capital  ...                                                                diminuere quanto pi si puo il numero dei compratori, quest) sono cardini sui quali si raggirano tutte le operazioni di economia politica.\n",
              "326254                              Capital  ...                                                                                                   si l'on gagnait longtemps en tout avec tous, il faudrait rendre de bon accord les plus grandes parties\n",
              "326292                              Capital  ...                                                                                                                            mercante non conta quasi per niente il lucro fatto, ma mira sempre al futuro.\n",
              "326519                              Capital  ...                                                                                                                                                    soci form il n'y a pas de surabondant en aucun genre.\n",
              "329909                              Capital  ...                                                                                                                                                                en tout genre de travail il doit arriver,\n",
              "330161                              Capital  ...            des ma ons par exemple, occup faire passer de mains en mains des briques un chafaudage sup rieur, font tous la me besogne, et pourtant il existe parmi eux une esp ce de division de travail,\n",
              "330170                              Capital  ...                                                                                                                                                                                     est il question d'ex\n",
              "330199                              Capital  ...                                                                                                  a che le forze per essere riunite possono diminuere il tempo ed accrescere lo spazio della loro azione.\n",
              "333261                              Capital  ...                                                                                                                                 en quoi l'effet d'une machine diff re il de celui de nouveaux habitants?\n",
              "335973                              Capital  ...                                                            bien li, sates laquelle il est impossible, je le clare, d'expliquer les plus grandes difficult de l' conomie politique, et notamment, comment\n",
              "336470                              Capital  ...                                                                                                                                 (il bene ed il male economico in una nazione sempre all, istessa misura)\n",
              "337734                              Capital  ...  a veloppement des forces productives, il a une force productive de pression; que ces rapports ne produisent la richesse bourgeoise, c'est dire la richesse de la classe bourgeoise, qu'en an antissa...\n",
              "337757                              Capital  ...                                                                                             les nations pauvres, c'est le peuple est son aise; et les nations riches, c'est il est ordinairement pauvre.\n",
              "338574                              Capital  ...                                                                                                                                                                        et pour comble de ruine, il n'ose\n",
              "338575                              Capital  ...                                                                                                                                                          pas vendre sea productions et comme il le veut;\n",
              "338582                              Capital  ...                                                                                                                            en il travaille comme un forcat au labourage et la colte; il se couche heures\n",
              "338583                              Capital  ...                                                                                                    et se ve deux, pour suffire aux travaux; en hiver il devrait parer ses forces par un plus grand repos\n",
              "338588                              Capital  ...                                                                                                                                                      et se ve cinq on six; on bien il se couche neuf, et\n",
              "339145                              Capital  ...                                                         si les tartares inondaient i'europe aujourd'hui, il faudrait bien des affaires pour leur faire entendre ce que c'est qu'un financier parmi nous.\n",
              "367876                 Beyond Good And Evil  ...                                                   there is something ticklish in the truth, and in the for the truth; and if man goes about it too humanely il ne cherche le vrai que pour faire le bien\n",
              "367908                 Beyond Good And Evil  ...                                                                                                     pour etre bon philosophe, says this last great psychologist, il faut etre sec, clair, sans illusion.\n",
              "371483                Twilight Of The Idols  ...  formerly, owing to the stupidity inherent in passion, men waged war against passion itself: men pledged themselves to annihilate it, all ancient moral mongers were unanimous on this point, il faut...\n",
              "372467                Twilight Of The Idols  ...                                                                                                         it has been said, and not without subtlety: il est indigne des grands cœurs de pandre le trouble\n",
              "\n",
              "[52 rows x 7 columns]"
            ]
          },
          "metadata": {
            "tags": []
          },
          "execution_count": 37
        }
      ]
    },
    {
      "cell_type": "code",
      "metadata": {
        "colab": {
          "base_uri": "https://localhost:8080/"
        },
        "id": "-ER9muOkw-qu",
        "outputId": "b6175c27-6570-4bfb-c22d-a5cbd00a884e"
      },
      "source": [
        "df = df.drop(df[df['sentence_str'].str.contains('\\sil\\s')].index)\n",
        "\n",
        "len(df)"
      ],
      "execution_count": 38,
      "outputs": [
        {
          "output_type": "execute_result",
          "data": {
            "text/plain": [
              "358090"
            ]
          },
          "metadata": {
            "tags": []
          },
          "execution_count": 38
        }
      ]
    },
    {
      "cell_type": "markdown",
      "metadata": {
        "id": "0jsR1QpNNlNJ"
      },
      "source": [
        "#### Some Ad Hoc Cleaning"
      ]
    },
    {
      "cell_type": "code",
      "metadata": {
        "colab": {
          "base_uri": "https://localhost:8080/"
        },
        "id": "b1sF0lzxw-zd",
        "outputId": "fddf9c49-d7c1-4b82-b935-77c25ad02927"
      },
      "source": [
        "# miscellaneous nonsense sentences\n",
        "df = df.drop(df[df['sentence_str'].str.contains('\\spp\\s')].index)\n",
        "df = df.drop(df[df['sentence_str'].str.contains('\\stotam\\s')].index)\n",
        "df = df.drop(df[df['sentence_str'].str.contains('\\srree\\s')].index)\n",
        "df = df.drop(df[df['sentence_str'].str.contains('\\sflir\\s')].index)\n",
        "df = df.drop(df[(df['sentence_str'].str.contains('\\smodis\\s')) & (df['author'] != 'Kant')].index)\n",
        "\n",
        "len(df)"
      ],
      "execution_count": 39,
      "outputs": [
        {
          "output_type": "execute_result",
          "data": {
            "text/plain": [
              "358084"
            ]
          },
          "metadata": {
            "tags": []
          },
          "execution_count": 39
        }
      ]
    },
    {
      "cell_type": "code",
      "metadata": {
        "colab": {
          "base_uri": "https://localhost:8080/"
        },
        "id": "OqBnHZG6w-9F",
        "outputId": "9ede462d-fd84-4f9c-dd76-f9eeff85a33c"
      },
      "source": [
        "# markers of french and notes\n",
        "df = df.drop(df[df['sentence_str'].str.contains('\\schapitre')].index)\n",
        "df = df.drop(df[df['sentence_str'].str.contains('\\salisme')].index)\n",
        "df = df.drop(df[df['sentence_str'].str.contains('\\sHahn')].index)\n",
        "\n",
        "len(df)"
      ],
      "execution_count": 40,
      "outputs": [
        {
          "output_type": "execute_result",
          "data": {
            "text/plain": [
              "358067"
            ]
          },
          "metadata": {
            "tags": []
          },
          "execution_count": 40
        }
      ]
    },
    {
      "cell_type": "code",
      "metadata": {
        "colab": {
          "base_uri": "https://localhost:8080/"
        },
        "id": "Oq5I3pL4w9r7",
        "outputId": "1dffd7b2-6f53-4b79-c931-ae0063985bd0"
      },
      "source": [
        "# some notes in Kant\n",
        "df = df.drop(df[df['sentence_str'].str.contains('\\sVorl\\s')].index)\n",
        "\n",
        "len(df)"
      ],
      "execution_count": 41,
      "outputs": [
        {
          "output_type": "execute_result",
          "data": {
            "text/plain": [
              "358049"
            ]
          },
          "metadata": {
            "tags": []
          },
          "execution_count": 41
        }
      ]
    },
    {
      "cell_type": "code",
      "metadata": {
        "colab": {
          "base_uri": "https://localhost:8080/"
        },
        "id": "w3nv5S4exJXK",
        "outputId": "e8ccfab4-4550-4446-9ae4-9273d9a982fd"
      },
      "source": [
        "# a common phrase in Plato / Aristotle footnotes\n",
        "df = df.drop(df[(df['author']=='Plato') & (df['sentence_str'].str.contains('(?i)reading')) & (df['sentence_length'] < 40)].index)\n",
        "df = df.drop(df[(df['author']=='Aristotle') & (df['sentence_str'].str.contains('(?i)reading')) & (df['sentence_length'] < 40)].index)\n",
        "\n",
        "len(df)"
      ],
      "execution_count": 42,
      "outputs": [
        {
          "output_type": "execute_result",
          "data": {
            "text/plain": [
              "357775"
            ]
          },
          "metadata": {
            "tags": []
          },
          "execution_count": 42
        }
      ]
    },
    {
      "cell_type": "code",
      "metadata": {
        "colab": {
          "base_uri": "https://localhost:8080/"
        },
        "id": "dCx9E2tkdqt4",
        "outputId": "2c87c33d-3fab-4248-9216-59eb16c161a1"
      },
      "source": [
        "# mentions of Aristotle in Plato\n",
        "df = df.drop(df[(df['author']=='Plato') & df['sentence_str'].str.contains('Aristotle')].index)\n",
        "\n",
        "len(df)"
      ],
      "execution_count": 43,
      "outputs": [
        {
          "output_type": "execute_result",
          "data": {
            "text/plain": [
              "357749"
            ]
          },
          "metadata": {
            "tags": []
          },
          "execution_count": 43
        }
      ]
    },
    {
      "cell_type": "markdown",
      "metadata": {
        "id": "vtli1TPlNq55"
      },
      "source": [
        "### Lemmatizing, Tokenizing, and Exporting"
      ]
    },
    {
      "cell_type": "code",
      "metadata": {
        "colab": {
          "base_uri": "https://localhost:8080/"
        },
        "id": "ybCPk5oixJgd",
        "outputId": "ca1a3c18-a036-4c2b-ebd6-3801121752ae"
      },
      "source": [
        "df['school'].value_counts(normalize=True)"
      ],
      "execution_count": 44,
      "outputs": [
        {
          "output_type": "execute_result",
          "data": {
            "text/plain": [
              "analytic           0.154927\n",
              "aristotle          0.136350\n",
              "german_idealism    0.117781\n",
              "plato              0.107243\n",
              "continental        0.094421\n",
              "phenomenology      0.079869\n",
              "rationalism        0.064148\n",
              "empiricism         0.055712\n",
              "capitalism         0.050857\n",
              "communism          0.050197\n",
              "feminism           0.043539\n",
              "nietzsche          0.037870\n",
              "stoicism           0.007086\n",
              "Name: school, dtype: float64"
            ]
          },
          "metadata": {
            "tags": []
          },
          "execution_count": 44
        }
      ]
    },
    {
      "cell_type": "code",
      "metadata": {
        "id": "S1wT-MvpxJot"
      },
      "source": [
        "from gensim.utils import simple_preprocess\n",
        "\n",
        "# use gensim to tokenize sentences\n",
        "df['tokenized_txt'] = df['sentence_str'].map(lambda x: simple_preprocess(x.lower(),deacc=True,\n",
        "                                                        max_len=200))\n",
        "\n",
        "# use spacey to get intelligent lemmatization\n",
        "def lemmatize_sentence(sentence):\n",
        "  lemmatized_txt = ''\n",
        "  for word in sentence:\n",
        "    lemmatized_txt += ' ' + str(word.lemma_)\n",
        "  return lemmatized_txt"
      ],
      "execution_count": 45,
      "outputs": []
    },
    {
      "cell_type": "code",
      "metadata": {
        "id": "3O3mXZKkxJxM"
      },
      "source": [
        "df['lemmatized_str'] = df['sentence_spacy'].apply(lemmatize_sentence)"
      ],
      "execution_count": 46,
      "outputs": []
    },
    {
      "cell_type": "code",
      "metadata": {
        "colab": {
          "base_uri": "https://localhost:8080/",
          "height": 783
        },
        "id": "mxmcq_BQxJ48",
        "outputId": "2a8a7976-8246-442b-e575-75c2bb25cf96"
      },
      "source": [
        "df.sample(5)"
      ],
      "execution_count": 47,
      "outputs": [
        {
          "output_type": "execute_result",
          "data": {
            "text/html": [
              "<div>\n",
              "<style scoped>\n",
              "    .dataframe tbody tr th:only-of-type {\n",
              "        vertical-align: middle;\n",
              "    }\n",
              "\n",
              "    .dataframe tbody tr th {\n",
              "        vertical-align: top;\n",
              "    }\n",
              "\n",
              "    .dataframe thead th {\n",
              "        text-align: right;\n",
              "    }\n",
              "</style>\n",
              "<table border=\"1\" class=\"dataframe\">\n",
              "  <thead>\n",
              "    <tr style=\"text-align: right;\">\n",
              "      <th></th>\n",
              "      <th>title</th>\n",
              "      <th>author</th>\n",
              "      <th>school</th>\n",
              "      <th>sentence_spacy</th>\n",
              "      <th>sentence_str</th>\n",
              "      <th>sentence_length</th>\n",
              "      <th>sentence_lowered</th>\n",
              "      <th>tokenized_txt</th>\n",
              "      <th>lemmatized_str</th>\n",
              "    </tr>\n",
              "  </thead>\n",
              "  <tbody>\n",
              "    <tr>\n",
              "      <th>156541</th>\n",
              "      <td>Philosophical Studies</td>\n",
              "      <td>Moore</td>\n",
              "      <td>analytic</td>\n",
              "      <td>(Hume, does, not, ,, therefore, ,, bring, forward, any, arguments, at, all, sufficient, to, prove, either, that, he, can, not, know, any, one, object, to, be, causally, connected, with, any, other...</td>\n",
              "      <td>Hume does not, therefore, bring forward any arguments at all sufficient to prove either that he cannot know any one object to be causally connected with any other or that he cannot know any extern...</td>\n",
              "      <td>204</td>\n",
              "      <td>hume does not, therefore, bring forward any arguments at all sufficient to prove either that he cannot know any one object to be causally connected with any other or that he cannot know any extern...</td>\n",
              "      <td>[hume, does, not, therefore, bring, forward, any, arguments, at, all, sufficient, to, prove, either, that, he, cannot, know, any, one, object, to, be, causally, connected, with, any, other, or, th...</td>\n",
              "      <td>Hume do not , therefore , bring forward any argument at all sufficient to prove either that -PRON- can not know any one object to be causally connect with any other or that -PRON- can not know an...</td>\n",
              "    </tr>\n",
              "    <tr>\n",
              "      <th>396051</th>\n",
              "      <td>The Second Sex</td>\n",
              "      <td>Beauvoir</td>\n",
              "      <td>feminism</td>\n",
              "      <td>(and, he, took, action, ;, he, should, have, spoken, out, openly, ;, he, took, revenge, on, me, .)</td>\n",
              "      <td>and he took action; he should have spoken out openly; he took revenge on me.</td>\n",
              "      <td>76</td>\n",
              "      <td>and he took action; he should have spoken out openly; he took revenge on me.</td>\n",
              "      <td>[and, he, took, action, he, should, have, spoken, out, openly, he, took, revenge, on, me]</td>\n",
              "      <td>and -PRON- take action ; -PRON- should have speak out openly ; -PRON- take revenge on -PRON- .</td>\n",
              "    </tr>\n",
              "    <tr>\n",
              "      <th>81712</th>\n",
              "      <td>Aristotle - Complete Works</td>\n",
              "      <td>Aristotle</td>\n",
              "      <td>aristotle</td>\n",
              "      <td>(The, text, of, the, last, two, sentences, is, uncertain, .)</td>\n",
              "      <td>The text of the last two sentences is uncertain.</td>\n",
              "      <td>48</td>\n",
              "      <td>the text of the last two sentences is uncertain.</td>\n",
              "      <td>[the, text, of, the, last, two, sentences, is, uncertain]</td>\n",
              "      <td>the text of the last two sentence be uncertain .</td>\n",
              "    </tr>\n",
              "    <tr>\n",
              "      <th>36511</th>\n",
              "      <td>Plato - Complete Works</td>\n",
              "      <td>Plato</td>\n",
              "      <td>plato</td>\n",
              "      <td>(They, completely, bound, that, of, the, Same, by, flowing, against, it, in, the, opposite, direction, ,, and, held, it, fast, just, as, it, was, beginning, to, go, its, way, .)</td>\n",
              "      <td>They completely bound that of the Same by flowing against it in the opposite direction, and held it fast just as it was beginning to go its way.</td>\n",
              "      <td>144</td>\n",
              "      <td>they completely bound that of the same by flowing against it in the opposite direction, and held it fast just as it was beginning to go its way.</td>\n",
              "      <td>[they, completely, bound, that, of, the, same, by, flowing, against, it, in, the, opposite, direction, and, held, it, fast, just, as, it, was, beginning, to, go, its, way]</td>\n",
              "      <td>-PRON- completely bind that of the same by flow against -PRON- in the opposite direction , and hold -PRON- fast just as -PRON- be begin to go -PRON- way .</td>\n",
              "    </tr>\n",
              "    <tr>\n",
              "      <th>24972</th>\n",
              "      <td>Plato - Complete Works</td>\n",
              "      <td>Plato</td>\n",
              "      <td>plato</td>\n",
              "      <td>(Clearly, the, latter, ,, Socrates, ,, at, least, in, Cinesias, ', case, .)</td>\n",
              "      <td>Clearly the latter, Socrates, at least in Cinesias' case.</td>\n",
              "      <td>57</td>\n",
              "      <td>clearly the latter, socrates, at least in cinesias' case.</td>\n",
              "      <td>[clearly, the, latter, socrates, at, least, in, cinesias, case]</td>\n",
              "      <td>clearly the latter , Socrates , at least in Cinesias ' case .</td>\n",
              "    </tr>\n",
              "  </tbody>\n",
              "</table>\n",
              "</div>"
            ],
            "text/plain": [
              "                             title  ...                                                                                                                                                                                           lemmatized_str\n",
              "156541       Philosophical Studies  ...   Hume do not , therefore , bring forward any argument at all sufficient to prove either that -PRON- can not know any one object to be causally connect with any other or that -PRON- can not know an...\n",
              "396051              The Second Sex  ...                                                                                                           and -PRON- take action ; -PRON- should have speak out openly ; -PRON- take revenge on -PRON- .\n",
              "81712   Aristotle - Complete Works  ...                                                                                                                                                         the text of the last two sentence be uncertain .\n",
              "36511       Plato - Complete Works  ...                                               -PRON- completely bind that of the same by flow against -PRON- in the opposite direction , and hold -PRON- fast just as -PRON- be begin to go -PRON- way .\n",
              "24972       Plato - Complete Works  ...                                                                                                                                            clearly the latter , Socrates , at least in Cinesias ' case .\n",
              "\n",
              "[5 rows x 9 columns]"
            ]
          },
          "metadata": {
            "tags": []
          },
          "execution_count": 47
        }
      ]
    },
    {
      "cell_type": "markdown",
      "metadata": {
        "id": "FeEVIBYZN64H"
      },
      "source": [
        "Now we can export the new CSV to use in other projects. "
      ]
    },
    {
      "cell_type": "code",
      "metadata": {
        "id": "6v0M4jbUxKBt",
        "colab": {
          "base_uri": "https://localhost:8080/",
          "height": 17
        },
        "outputId": "878bc5e2-0c3e-4375-b22a-abff8a00d76a"
      },
      "source": [
        "# export the csv\n",
        "from google.colab import files\n",
        "df.to_csv('philosophy_data.csv', index=False) \n",
        "files.download('philosophy_data.csv')"
      ],
      "execution_count": 48,
      "outputs": [
        {
          "output_type": "display_data",
          "data": {
            "application/javascript": [
              "\n",
              "    async function download(id, filename, size) {\n",
              "      if (!google.colab.kernel.accessAllowed) {\n",
              "        return;\n",
              "      }\n",
              "      const div = document.createElement('div');\n",
              "      const label = document.createElement('label');\n",
              "      label.textContent = `Downloading \"${filename}\": `;\n",
              "      div.appendChild(label);\n",
              "      const progress = document.createElement('progress');\n",
              "      progress.max = size;\n",
              "      div.appendChild(progress);\n",
              "      document.body.appendChild(div);\n",
              "\n",
              "      const buffers = [];\n",
              "      let downloaded = 0;\n",
              "\n",
              "      const channel = await google.colab.kernel.comms.open(id);\n",
              "      // Send a message to notify the kernel that we're ready.\n",
              "      channel.send({})\n",
              "\n",
              "      for await (const message of channel.messages) {\n",
              "        // Send a message to notify the kernel that we're ready.\n",
              "        channel.send({})\n",
              "        if (message.buffers) {\n",
              "          for (const buffer of message.buffers) {\n",
              "            buffers.push(buffer);\n",
              "            downloaded += buffer.byteLength;\n",
              "            progress.value = downloaded;\n",
              "          }\n",
              "        }\n",
              "      }\n",
              "      const blob = new Blob(buffers, {type: 'application/binary'});\n",
              "      const a = document.createElement('a');\n",
              "      a.href = window.URL.createObjectURL(blob);\n",
              "      a.download = filename;\n",
              "      div.appendChild(a);\n",
              "      a.click();\n",
              "      div.remove();\n",
              "    }\n",
              "  "
            ],
            "text/plain": [
              "<IPython.core.display.Javascript object>"
            ]
          },
          "metadata": {
            "tags": []
          }
        },
        {
          "output_type": "display_data",
          "data": {
            "application/javascript": [
              "download(\"download_d244f24a-9207-4b6b-af9c-a930cba30cfc\", \"philosophy_data.csv\", 318982106)"
            ],
            "text/plain": [
              "<IPython.core.display.Javascript object>"
            ]
          },
          "metadata": {
            "tags": []
          }
        }
      ]
    },
    {
      "cell_type": "markdown",
      "metadata": {
        "id": "ZUjHGmITs37Q"
      },
      "source": [
        "With the data exported in CSV format, all that remains is to upload it to the Heroku PostgreSQL database for searching."
      ]
    },
    {
      "cell_type": "code",
      "metadata": {
        "id": "vJ6Wd171JZZf"
      },
      "source": [
        "# prepare to upload to the PostgreSQL database\n",
        "for_db = df\n",
        "for_db['sentence'] = for_db['sentence_str']\n",
        "for_db['school'] = for_db['school'].apply(lambda x: x.replace('_', ' ').title())\n",
        "for_db = for_db.drop(['sentence_spacy', 'sentence_length', 'sentence_str', 'sentence_lowered', 'tokenized_txt', 'lemmatized_str'], axis=1)\n",
        "for_db.columns = [i.upper() for i in for_db.columns]\n"
      ],
      "execution_count": null,
      "outputs": []
    },
    {
      "cell_type": "code",
      "metadata": {
        "colab": {
          "base_uri": "https://localhost:8080/",
          "height": 230
        },
        "id": "A4wxadz0lmG9",
        "outputId": "52043b2a-7504-452b-bc6a-d1369be07f56"
      },
      "source": [
        "for_db.sample(5)"
      ],
      "execution_count": null,
      "outputs": [
        {
          "output_type": "execute_result",
          "data": {
            "text/html": [
              "<div>\n",
              "<style scoped>\n",
              "    .dataframe tbody tr th:only-of-type {\n",
              "        vertical-align: middle;\n",
              "    }\n",
              "\n",
              "    .dataframe tbody tr th {\n",
              "        vertical-align: top;\n",
              "    }\n",
              "\n",
              "    .dataframe thead th {\n",
              "        text-align: right;\n",
              "    }\n",
              "</style>\n",
              "<table border=\"1\" class=\"dataframe\">\n",
              "  <thead>\n",
              "    <tr style=\"text-align: right;\">\n",
              "      <th></th>\n",
              "      <th>TITLE</th>\n",
              "      <th>AUTHOR</th>\n",
              "      <th>SCHOOL</th>\n",
              "      <th>SENTENCE</th>\n",
              "    </tr>\n",
              "  </thead>\n",
              "  <tbody>\n",
              "    <tr>\n",
              "      <th>221534</th>\n",
              "      <td>The Phenomenology Of Perception</td>\n",
              "      <td>Merleau-Ponty</td>\n",
              "      <td>Phenomenology</td>\n",
              "      <td>Take, for example, 'number blindness'.</td>\n",
              "    </tr>\n",
              "    <tr>\n",
              "      <th>122402</th>\n",
              "      <td>The Search After Truth</td>\n",
              "      <td>Malebranche</td>\n",
              "      <td>Rationalism</td>\n",
              "      <td>We shall now discuss the inclination we have for well being,.e., for pleasures and for all things that make us happier and more content.</td>\n",
              "    </tr>\n",
              "    <tr>\n",
              "      <th>146034</th>\n",
              "      <td>Lewis - Papers</td>\n",
              "      <td>Lewis</td>\n",
              "      <td>Analytic</td>\n",
              "      <td>Consider the paper towel roller.</td>\n",
              "    </tr>\n",
              "    <tr>\n",
              "      <th>308483</th>\n",
              "      <td>The Wealth Of Nations</td>\n",
              "      <td>Smith</td>\n",
              "      <td>Capitalism</td>\n",
              "      <td>But wages evidently make a part of it.</td>\n",
              "    </tr>\n",
              "    <tr>\n",
              "      <th>247235</th>\n",
              "      <td>Off The Beaten Track</td>\n",
              "      <td>Heidegger</td>\n",
              "      <td>Phenomenology</td>\n",
              "      <td>Only he who has seen genuinely sees.</td>\n",
              "    </tr>\n",
              "  </tbody>\n",
              "</table>\n",
              "</div>"
            ],
            "text/plain": [
              "                                  TITLE  ...                                                                                                                                  SENTENCE\n",
              "221534  The Phenomenology Of Perception  ...                                                                                                    Take, for example, 'number blindness'.\n",
              "122402           The Search After Truth  ...  We shall now discuss the inclination we have for well being,.e., for pleasures and for all things that make us happier and more content.\n",
              "146034                   Lewis - Papers  ...                                                                                                          Consider the paper towel roller.\n",
              "308483            The Wealth Of Nations  ...                                                                                                    But wages evidently make a part of it.\n",
              "247235             Off The Beaten Track  ...                                                                                                      Only he who has seen genuinely sees.\n",
              "\n",
              "[5 rows x 4 columns]"
            ]
          },
          "metadata": {
            "tags": []
          },
          "execution_count": 132
        }
      ]
    },
    {
      "cell_type": "code",
      "metadata": {
        "colab": {
          "base_uri": "https://localhost:8080/",
          "height": 638
        },
        "id": "2CD4ylxGmZ-7",
        "outputId": "2549a1d0-2468-448c-bf23-9cc7eb303dcd"
      },
      "source": [
        "for_db[for_db['AUTHOR']=='Mary Wollstonecraft']"
      ],
      "execution_count": null,
      "outputs": [
        {
          "output_type": "execute_result",
          "data": {
            "text/html": [
              "<div>\n",
              "<style scoped>\n",
              "    .dataframe tbody tr th:only-of-type {\n",
              "        vertical-align: middle;\n",
              "    }\n",
              "\n",
              "    .dataframe tbody tr th {\n",
              "        vertical-align: top;\n",
              "    }\n",
              "\n",
              "    .dataframe thead th {\n",
              "        text-align: right;\n",
              "    }\n",
              "</style>\n",
              "<table border=\"1\" class=\"dataframe\">\n",
              "  <thead>\n",
              "    <tr style=\"text-align: right;\">\n",
              "      <th></th>\n",
              "      <th>TITLE</th>\n",
              "      <th>AUTHOR</th>\n",
              "      <th>SCHOOL</th>\n",
              "      <th>SENTENCE</th>\n",
              "    </tr>\n",
              "  </thead>\n",
              "  <tbody>\n",
              "    <tr>\n",
              "      <th>0</th>\n",
              "      <td>Vindication Of The Rights Of Woman</td>\n",
              "      <td>Mary Wollstonecraft</td>\n",
              "      <td>Feminism</td>\n",
              "      <td>Having read with great pleasure a pamphlet, which you have lately published, on National Education, I dedicate this volume to you, the first dedication that I have ever written, to induce you to ...</td>\n",
              "    </tr>\n",
              "    <tr>\n",
              "      <th>1</th>\n",
              "      <td>Vindication Of The Rights Of Woman</td>\n",
              "      <td>Mary Wollstonecraft</td>\n",
              "      <td>Feminism</td>\n",
              "      <td>But, sir, I carry my respect for your understanding still farther: so far, that I am confident you will not throw my work aside, and hastily conclude that I am in the wrong because you did not vie...</td>\n",
              "    </tr>\n",
              "    <tr>\n",
              "      <th>2</th>\n",
              "      <td>Vindication Of The Rights Of Woman</td>\n",
              "      <td>Mary Wollstonecraft</td>\n",
              "      <td>Feminism</td>\n",
              "      <td>And pardon my frankness, but I must observe, that you treated it in too cursory a manner, contented to consider it as it had been considered formerly, when the rights of man, not to advert to woma...</td>\n",
              "    </tr>\n",
              "    <tr>\n",
              "      <th>3</th>\n",
              "      <td>Vindication Of The Rights Of Woman</td>\n",
              "      <td>Mary Wollstonecraft</td>\n",
              "      <td>Feminism</td>\n",
              "      <td>I call upon you, therefore, now to weigh what I have advanced respecting the rights of woman, and national education; and I call with the firm tone of humanity.</td>\n",
              "    </tr>\n",
              "    <tr>\n",
              "      <th>4</th>\n",
              "      <td>Vindication Of The Rights Of Woman</td>\n",
              "      <td>Mary Wollstonecraft</td>\n",
              "      <td>Feminism</td>\n",
              "      <td>For my arguments, sir, are dictated by a disinterested spirit: I plead for my sex, not for myself.</td>\n",
              "    </tr>\n",
              "    <tr>\n",
              "      <th>...</th>\n",
              "      <td>...</td>\n",
              "      <td>...</td>\n",
              "      <td>...</td>\n",
              "      <td>...</td>\n",
              "    </tr>\n",
              "    <tr>\n",
              "      <th>2677</th>\n",
              "      <td>Vindication Of The Rights Of Woman</td>\n",
              "      <td>Mary Wollstonecraft</td>\n",
              "      <td>Feminism</td>\n",
              "      <td>Let woman share the rights, and she will emulate the virtues of man; for she must grow more perfect when emancipated, or justify the authority that chains such a weak being to her duty.</td>\n",
              "    </tr>\n",
              "    <tr>\n",
              "      <th>2678</th>\n",
              "      <td>Vindication Of The Rights Of Woman</td>\n",
              "      <td>Mary Wollstonecraft</td>\n",
              "      <td>Feminism</td>\n",
              "      <td>If the latter, it will be expedient to open a fresh trade with Russia for whips; a present which a father should always make to his son in law on his wedding day, that a husband may keep his whole...</td>\n",
              "    </tr>\n",
              "    <tr>\n",
              "      <th>2679</th>\n",
              "      <td>Vindication Of The Rights Of Woman</td>\n",
              "      <td>Mary Wollstonecraft</td>\n",
              "      <td>Feminism</td>\n",
              "      <td>Allowing this position, women have not any inherent rights to claim; and, by the same rule their duties vanish, for rights and duties are inseparable.</td>\n",
              "    </tr>\n",
              "    <tr>\n",
              "      <th>2680</th>\n",
              "      <td>Vindication Of The Rights Of Woman</td>\n",
              "      <td>Mary Wollstonecraft</td>\n",
              "      <td>Feminism</td>\n",
              "      <td>Be just then, ye men of understanding!</td>\n",
              "    </tr>\n",
              "    <tr>\n",
              "      <th>2681</th>\n",
              "      <td>Vindication Of The Rights Of Woman</td>\n",
              "      <td>Mary Wollstonecraft</td>\n",
              "      <td>Feminism</td>\n",
              "      <td>and mark not more severely what women do amiss, than the vicious tricks of the horse or the ass for whom ye provide provender, and allow her the privileges of ignorance, to whom ye deny the rights...</td>\n",
              "    </tr>\n",
              "  </tbody>\n",
              "</table>\n",
              "<p>2573 rows × 4 columns</p>\n",
              "</div>"
            ],
            "text/plain": [
              "                                   TITLE  ...                                                                                                                                                                                                 SENTENCE\n",
              "0     Vindication Of The Rights Of Woman  ...   Having read with great pleasure a pamphlet, which you have lately published, on National Education, I dedicate this volume to you, the first dedication that I have ever written, to induce you to ...\n",
              "1     Vindication Of The Rights Of Woman  ...  But, sir, I carry my respect for your understanding still farther: so far, that I am confident you will not throw my work aside, and hastily conclude that I am in the wrong because you did not vie...\n",
              "2     Vindication Of The Rights Of Woman  ...  And pardon my frankness, but I must observe, that you treated it in too cursory a manner, contented to consider it as it had been considered formerly, when the rights of man, not to advert to woma...\n",
              "3     Vindication Of The Rights Of Woman  ...                                         I call upon you, therefore, now to weigh what I have advanced respecting the rights of woman, and national education; and I call with the firm tone of humanity.\n",
              "4     Vindication Of The Rights Of Woman  ...                                                                                                       For my arguments, sir, are dictated by a disinterested spirit: I plead for my sex, not for myself.\n",
              "...                                  ...  ...                                                                                                                                                                                                      ...\n",
              "2677  Vindication Of The Rights Of Woman  ...                Let woman share the rights, and she will emulate the virtues of man; for she must grow more perfect when emancipated, or justify the authority that chains such a weak being to her duty.\n",
              "2678  Vindication Of The Rights Of Woman  ...  If the latter, it will be expedient to open a fresh trade with Russia for whips; a present which a father should always make to his son in law on his wedding day, that a husband may keep his whole...\n",
              "2679  Vindication Of The Rights Of Woman  ...                                                   Allowing this position, women have not any inherent rights to claim; and, by the same rule their duties vanish, for rights and duties are inseparable.\n",
              "2680  Vindication Of The Rights Of Woman  ...                                                                                                                                                                   Be just then, ye men of understanding!\n",
              "2681  Vindication Of The Rights Of Woman  ...  and mark not more severely what women do amiss, than the vicious tricks of the horse or the ass for whom ye provide provender, and allow her the privileges of ignorance, to whom ye deny the rights...\n",
              "\n",
              "[2573 rows x 4 columns]"
            ]
          },
          "metadata": {
            "tags": []
          },
          "execution_count": 133
        }
      ]
    },
    {
      "cell_type": "code",
      "metadata": {
        "colab": {
          "base_uri": "https://localhost:8080/"
        },
        "id": "kQtdMppSEkGJ",
        "outputId": "bf6f0217-fd1c-446b-85f6-0ab1b0e69026"
      },
      "source": [
        "len(for_db)"
      ],
      "execution_count": null,
      "outputs": [
        {
          "output_type": "execute_result",
          "data": {
            "text/plain": [
              "344746"
            ]
          },
          "metadata": {
            "tags": []
          },
          "execution_count": 134
        }
      ]
    },
    {
      "cell_type": "code",
      "metadata": {
        "colab": {
          "base_uri": "https://localhost:8080/"
        },
        "id": "H6hb7ky006Gp",
        "outputId": "1aa0501b-8bed-4383-8e2a-46ecc75a85bb"
      },
      "source": [
        "#importing sql library \n",
        "from sqlalchemy import create_engine \n",
        "  \n",
        "# create a reference  \n",
        "# for sql library \n",
        "engine = create_engine(URL, \n",
        "                       echo = False)\n",
        "  \n",
        "# attach the data frame to the sql  \n",
        "for_db[for_db['AUTHOR']=='Mary Wollstonecraft'].to_sql('phil_nlp', \n",
        "               con = engine,\n",
        "              if_exists='append') \n",
        "  \n",
        "# # show the complete data \n",
        "print(engine.execute(\"\"\"SELECT * FROM phil_nlp WHERE \"AUTHOR\" = 'Mary Wollstonecraft'\"\"\").fetchone()) "
      ],
      "execution_count": null,
      "outputs": [
        {
          "output_type": "stream",
          "text": [
            "/usr/local/lib/python3.7/dist-packages/psycopg2/__init__.py:144: UserWarning: The psycopg2 wheel package will be renamed from release 2.8; in order to keep installing from binary please use \"pip install psycopg2-binary\" instead. For details see: <http://initd.org/psycopg/docs/install.html#binary-install-from-pypi>.\n",
            "  \"\"\")\n"
          ],
          "name": "stderr"
        },
        {
          "output_type": "stream",
          "text": [
            "(0, 'Vindication Of The Rights Of Woman', 'Mary Wollstonecraft', 'Feminism', ' Having read with great pleasure a pamphlet, which you have lately published, on National Education, I dedicate this volume to you, the first dedicat ... (77 characters truncated) ... ecause I think that you will understand me, which I do not suppose many pert witlings will, who may ridicule the arguments they are unable to answer.')\n"
          ],
          "name": "stdout"
        }
      ]
    },
    {
      "cell_type": "code",
      "metadata": {
        "id": "3sf_LC6IlI4y"
      },
      "source": [
        ""
      ],
      "execution_count": null,
      "outputs": []
    }
  ]
}