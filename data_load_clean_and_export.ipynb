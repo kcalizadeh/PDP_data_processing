{
  "nbformat": 4,
  "nbformat_minor": 0,
  "metadata": {
    "colab": {
      "name": "data_load_clean_and_export.ipynb",
      "provenance": [],
      "collapsed_sections": [
        "6e3D7iGALiMC",
        "4Z6-svnmMCtz",
        "WI3KwHHVM8ck",
        "KaxL3byaM-RA",
        "MEqfL_K_NE7C",
        "uMxaZemLNKeH",
        "kcdlnijMNaMA",
        "0jsR1QpNNlNJ"
      ],
      "machine_shape": "hm",
      "authorship_tag": "ABX9TyM+tuvAuvT0v1TROzdsi8Jd",
      "include_colab_link": true
    },
    "kernelspec": {
      "name": "python3",
      "display_name": "Python 3"
    },
    "accelerator": "GPU"
  },
  "cells": [
    {
      "cell_type": "markdown",
      "metadata": {
        "id": "view-in-github",
        "colab_type": "text"
      },
      "source": [
        "<a href=\"https://colab.research.google.com/github/kcalizadeh/PDP_data_processing/blob/master/data_load_clean_and_export.ipynb\" target=\"_parent\"><img src=\"https://colab.research.google.com/assets/colab-badge.svg\" alt=\"Open In Colab\"/></a>"
      ]
    },
    {
      "cell_type": "markdown",
      "metadata": {
        "id": "ce4uUmGtIwgG"
      },
      "source": [
        "### Imports and Mounting Drive"
      ]
    },
    {
      "cell_type": "code",
      "metadata": {
        "colab": {
          "base_uri": "https://localhost:8080/"
        },
        "id": "dQnwn5oZqw4P",
        "outputId": "741ffa5b-3aa8-400c-a56a-f29c527fe75f"
      },
      "source": [
        "# this cell mounts drive, sets the correct directory, then imports all functions\r\n",
        "# and relevant libraries via the functions.py file\r\n",
        "from google.colab import drive\r\n",
        "import sys\r\n",
        "\r\n",
        "drive.mount('/gdrive',force_remount=True)\r\n",
        "\r\n",
        "drive_path = '/gdrive/MyDrive/Colab_Projects/philosophy_data_project'\r\n",
        "\r\n",
        "sys.path.append(drive_path)"
      ],
      "execution_count": null,
      "outputs": [
        {
          "output_type": "stream",
          "text": [
            "Mounted at /gdrive\n"
          ],
          "name": "stdout"
        }
      ]
    },
    {
      "cell_type": "code",
      "metadata": {
        "id": "icdKF0dyrAU5"
      },
      "source": [
        "from import_functions import *"
      ],
      "execution_count": null,
      "outputs": []
    },
    {
      "cell_type": "code",
      "metadata": {
        "colab": {
          "base_uri": "https://localhost:8080/"
        },
        "id": "tym6E0D5rbwQ",
        "outputId": "3b8d448b-bdbe-4716-9557-321ce77ac814"
      },
      "source": [
        "import spacy.cli\r\n",
        "spacy.cli.download(\"en_core_web_lg\")\r\n",
        "import en_core_web_lg\r\n",
        "nlp = en_core_web_lg.load()"
      ],
      "execution_count": null,
      "outputs": [
        {
          "output_type": "stream",
          "text": [
            "\u001b[38;5;2m✔ Download and installation successful\u001b[0m\n",
            "You can now load the model via spacy.load('en_core_web_lg')\n"
          ],
          "name": "stdout"
        }
      ]
    },
    {
      "cell_type": "code",
      "metadata": {
        "id": "YTfCjw3Rrt2I"
      },
      "source": [
        "# load the texts\r\n",
        "\r\n",
        "## plato\r\n",
        "plato_complete = get_text(drive_path + '/phil_txts/plato_complete_works.txt')\r\n",
        "\r\n",
        "# aristotle\r\n",
        "aristotle_vol_1 = get_text(drive_path + '/phil_txts/aristotle_complete_works_v1.txt')\r\n",
        "aristotle_vol_2 = get_text(drive_path + '/phil_txts/aristotle_complete_works_v2.txt')\r\n",
        "\r\n",
        "## rationalists\r\n",
        "spinoza_ethics = get_guten('http://www.gutenberg.org/cache/epub/3800/pg3800.txt')\r\n",
        "spinoza_improve_understanding = get_guten('http://www.gutenberg.org/cache/epub/1016/pg1016.txt')\r\n",
        "leibniz_theodicy = get_guten('http://www.gutenberg.org/cache/epub/17147/pg17147.txt')\r\n",
        "descartes_discourse_method = get_guten('http://www.gutenberg.org/cache/epub/59/pg59.txt')\r\n",
        "descartes_meditations = get_text(drive_path + '/phil_txts/descartes_meditations.txt')\r\n",
        "malebranche_search_truth = get_text(drive_path + '/phil_txts/malebranche_search_truth.txt')\r\n",
        "\r\n",
        "## empiricists\r\n",
        "locke_understanding_1 = get_guten('http://www.gutenberg.org/cache/epub/10615/pg10615.txt')\r\n",
        "locke_understanding_2 = get_guten('http://www.gutenberg.org/cache/epub/10616/pg10616.txt')\r\n",
        "locke_treatise_gov = get_guten('http://www.gutenberg.org/cache/epub/7370/pg7370.txt')\r\n",
        "hume_treatise = get_guten('http://www.gutenberg.org/cache/epub/4705/pg4705.txt')\r\n",
        "hume_natural_religion = get_guten('http://www.gutenberg.org/cache/epub/4583/pg4583.txt')\r\n",
        "berkeley_treatise = get_guten('http://www.gutenberg.org/cache/epub/4723/pg4723.txt')\r\n",
        "berkeley_three_dialogues = get_guten('http://www.gutenberg.org/cache/epub/4724/pg4724.txt')\r\n",
        "\r\n",
        "## german idealism\r\n",
        "kant_practical_reason = get_text(drive_path + '/phil_txts/kant_critique_practical_reason.txt')\r\n",
        "kant_judgement = get_text(drive_path + '/phil_txts/kant_critique_judgement.txt')\r\n",
        "kant_pure_reason = get_text(drive_path + '/phil_txts/kant_pure_reason.txt')\r\n",
        "fichte_ethics = get_text(drive_path + '/phil_txts/fichte_system_of_ethics.txt')\r\n",
        "hegel_logic = get_text(drive_path + '/phil_txts/hegel_science_of_logic.txt')\r\n",
        "hegel_phenomenology = get_text(drive_path + '/phil_txts/hegel_phenomenology_of_spirit.txt')\r\n",
        "hegel_right = get_text(drive_path + '/phil_txts/hegel_elements_of_right.txt')\r\n",
        "\r\n",
        "## analytic\r\n",
        "russell_problems_of_phil = get_guten('http://www.gutenberg.org/cache/epub/5827/pg5827.txt')\r\n",
        "russell_analylsis_of_mind = get_guten('http://www.gutenberg.org/cache/epub/2529/pg2529.txt')\r\n",
        "moore_studies = get_guten('http://www.gutenberg.org/files/50141/50141-0.txt')\r\n",
        "wittgenstein_tractatus = get_text(drive_path + '/phil_txts/wittgenstein_tractatus.txt')\r\n",
        "wittgenstein_investigations = get_text(drive_path + '/phil_txts/wittgenstien_philosophical_investigations.txt')\r\n",
        "lewis_papers1 = get_text(drive_path + '/phil_txts/lewis_papers_1.txt')\r\n",
        "lewis_papers2 = get_text(drive_path + '/phil_txts/lewis_papers_2.txt')\r\n",
        "quine_quintessence = get_text(drive_path + '/phil_txts/quine_quintessence.txt')\r\n",
        "popper_science = get_text(drive_path + '/phil_txts/popper_logic_of_science.txt')\r\n",
        "kripke_troubles = get_text(drive_path + '/phil_txts/kripke_philosophical_troubles.txt')\r\n",
        "kripke_naming = get_text(drive_path + '/phil_txts/kripke_naming_necessity.txt')\r\n",
        "\r\n",
        "## phenomenology\r\n",
        "ponty_perception = get_text(drive_path + '/phil_txts/merleau-ponty_phenomenology_of_perception.txt')\r\n",
        "husserl_idea_of = get_text(drive_path + '/phil_txts/husserl_idea_of_phenomenology.txt')\r\n",
        "husserl_crisis = get_text(drive_path + '/phil_txts/husserl_crisis_of_euro_sciences.txt')\r\n",
        "heidegger_being_time = get_text(drive_path + '/phil_txts/heidegger_being_and_time.txt')\r\n",
        "heidegger_track = get_text(drive_path + '/phil_txts/heidegger_off_the_beaten_track.txt')\r\n",
        "\r\n",
        "## continental\r\n",
        "foucault_order = get_text(drive_path + '/phil_txts/foucault_order_of_things.txt')\r\n",
        "foucault_madness = get_text(drive_path + '/phil_txts/foucault_history_of_madness.txt')\r\n",
        "foucault_clinic = get_text(drive_path + '/phil_txts/foucault_birth_of_clinic.txt')\r\n",
        "derrida_writing = get_text(drive_path + '/phil_txts/derrida_writing_difference.txt')\r\n",
        "deleuze_oedipus = get_text(drive_path + '/phil_txts/deleuze_guattari_anti-oedipus.txt')\r\n",
        "deleuze_difference = get_text(drive_path + '/phil_txts/deleuze_difference_repetition.txt')\r\n",
        "\r\n",
        "## marxism\r\n",
        "marx_kapital = get_text(drive_path + '/phil_txts/marx_kapital.txt')\r\n",
        "marx_manifesto = get_text(drive_path + '/phil_txts/marx_manifesto.txt')\r\n",
        "lenin_essential = get_text(drive_path + '/phil_txts/lenin_essential_works.txt')\r\n",
        "\r\n",
        "## capitalist economics\r\n",
        "smith_wealth = get_guten('http://www.gutenberg.org/files/3300/3300-0.txt')\r\n",
        "ricardo_political_economy = get_guten('http://www.gutenberg.org/cache/epub/33310/pg33310.txt')\r\n",
        "keynes_employment = get_text(drive_path + '/phil_txts/keynes_theory_of_employment.txt')\r\n",
        "\r\n",
        "## stoicism\r\n",
        "epictetus_enchiridion = get_guten('http://www.gutenberg.org/files/45109/45109-0.txt')"
      ],
      "execution_count": null,
      "outputs": []
    },
    {
      "cell_type": "code",
      "metadata": {
        "id": "rtnCGgKbrwVa"
      },
      "source": [
        "# use this cell to bring in the new texts\r\n",
        "\r\n",
        "## stoicism\r\n",
        "aurelius_meditations = get_guten('http://www.gutenberg.org/cache/epub/2680/pg2680.txt')"
      ],
      "execution_count": null,
      "outputs": []
    },
    {
      "cell_type": "markdown",
      "metadata": {
        "id": "Gtbq1njQKsSn"
      },
      "source": [
        "With texts imported, we need to clip front and end matter."
      ]
    },
    {
      "cell_type": "code",
      "metadata": {
        "id": "8cvmG0rir1tU"
      },
      "source": [
        "plato_complete = plato_complete.split('find that an enticing')[1][388:].split('Demeter, whose cult at')[0]\r\n",
        "\r\n",
        "aristotle_vol_1 = aristotle_vol_1.split('1a20-1b9')[1].split('799a16')[0]\r\n",
        "aristotle_vol_2 = aristotle_vol_2.split('830a5-830b4')[1].split('1462a5-1462a13')[0]\r\n",
        "\r\n",
        "spinoza_ethics = spinoza_ethics.split('ranslated from the Latin by R.')[1][71:].split('End of the Ethics')[0]\r\n",
        "spinoza_improve_understanding = spinoza_improve_understanding.split('Farewell.*')[1][20:].split('End of ')[0]\r\n",
        "leibniz_theodicy = leibniz_theodicy.split('appeared in 1710 as the')[1][202:].split('SUMMARY OF THE CON')[0][:-140]\r\n",
        "descartes_discourse_method = descartes_discourse_method.split('PREFATORY NOTE')[1][18:].split('End of the Pr')[0]\r\n",
        "descartes_meditations = descartes_meditations.split('LETTER')[1][1:].split('AND REPLIES')[0]\r\n",
        "malebranche_search_truth = malebranche_search_truth.split(\"n's Mind and the Use H\")[1][64:].split('Beati qui')[0]\r\n",
        "\r\n",
        "locke_understanding_1 = locke_understanding_1.split('2 Dorset Court, 24th of May, 1689')[1][50:].split('End of the Pro')[0][:-30]\r\n",
        "locke_understanding_2 = locke_understanding_2.split('1. Man fitted to form articulated Sounds.')[1][4:].split('End of the Pro')[0][:-25]\r\n",
        "locke_treatise_gov = locke_treatise_gov.split('now lodged in Christ College, Cambridge.')[1][21:].split('FINIS.')[0]\r\n",
        "hume_treatise = hume_treatise.split('ADVERTISEMENT')[1][9:].split('End of Pro')[0][:-14]\r\n",
        "hume_natural_religion = hume_natural_religion.split('PAMPHILUS TO HERMIPPUS')[1][6:].split('End of the Pro')[0][:-22]\r\n",
        "berkeley_treatise = berkeley_treatise.split('are too apt to condemn an opinion before they rightly')[1][47:].split('End of the Pr')[0][:-22]\r\n",
        "berkeley_three_dialogues = berkeley_three_dialogues.split('THE FIRST DIALOGUE')[1][17:].split('End of the Pro')[0][:-22]\r\n",
        "\r\n",
        "kant_practical_reason = kant_practical_reason.split('erner Pluhar an')[1][329:].split('stone of the wi')[0][:-20]\r\n",
        "kant_judgement = kant_judgement.split('TO THE FIRST EDITION,* 1790')[1][1:].split('EXPLANATORY NOTES')[0][:-39]\r\n",
        "kant_pure_reason = kant_pure_reason.split('Bacon of Verulam')[1][33:].split('(Persius, Satires, iii, 78-9).')[0][:-1]\r\n",
        "fichte_ethics = fichte_ethics.split('(“Krause Nachschrift,” 1798/99)')[1][111:].split('Page 345')[0][:-2]\r\n",
        "hegel_logic = hegel_logic.split('complete transformati')[1][249:].split('It is a matter of speculation how Hegel would have rev')[0][:-80]\r\n",
        "hegel_phenomenology = hegel_phenomenology.split('PREFACE: ON SCIENTIFIC')[1][1:].split('1I Adaptation')[0][:-62]\r\n",
        "hegel_right = hegel_right.split('he immediate occasion f')[1][184:].split('I Hegel lectured on the topics in')[0][:-28]\r\n",
        "\r\n",
        "russell_problems_of_phil = russell_problems_of_phil.split('n the following pages')[1].split('BIBLIOGRAPHICAL NOTE')[0]\r\n",
        "russell_analylsis_of_mind = russell_analylsis_of_mind.split('H. D. Lewis')[2][21:].split('End of Pro')[0]\r\n",
        "moore_studies = moore_studies.split('Aristotelian Society,_ 1919-20.')[1][23:].split('E Wes')[0][:-10]\r\n",
        "wittgenstein_tractatus = wittgenstein_tractatus.split('TRACTATUS LOGICO-PHILOSOPHICUS')[1][70:].split('I NDEX')[0][:-8]\r\n",
        "wittgenstein_investigations = wittgenstein_investigations.split('catty')[1][787:].split(\"above', 351\")[0]\r\n",
        "lewis_papers1 = lewis_papers1.split('The fifteen papers')[1][61:].split('Acquai')[0][:-10]\r\n",
        "lewis_papers2 = lewis_papers2.split('Part Four Counterfactuals and Time')[1][17:].split('end p.342')[0]\r\n",
        "quine_quintessence = quine_quintessence.split('T R UT H B Y C O N V E N T I O N')[1].split('CREDITS')[0][:-7]\r\n",
        "popper_science = popper_science.split('F IRST E NGLISH E DITION, 1959')[1][2:].split('This is the end of the text of the original book.')[0]\r\n",
        "kripke_troubles = kripke_troubles.split('apters 2, 3, 7, 10, 11, and 13 are previously unpublish')[1][103:].split('ans, Gareth. 198')[0][:-25]\r\n",
        "kripke_naming = kripke_naming.split('xjvdsa')[1][10:].split('hese addenda represe')[0][:-35]\r\n",
        "\r\n",
        "ponty_perception = ponty_perception.split('P REFACE')[1].split('B IBLIOGRAPHY')[0][:-65]\r\n",
        "husserl_idea_of = husserl_idea_of.split('LECTUREl')[1][9:].split('Abstraction, ideating, 47, 50, 65')[0][:-10]\r\n",
        "husserl_crisis = husserl_crisis.split('§ 1.')[1].split('Appendix X:')[0]\r\n",
        "heidegger_being_time = heidegger_being_time.split(\"AUTHOR'S PREFACE TO THE\")[1][25:].split('Not \"the\" sole way.')[0][:-8]\r\n",
        "heidegger_track = heidegger_track.split('translated in several ')[1][15:].split('et-up [dar Gestellj as the uunost obli')[0][:-32]\r\n",
        "\r\n",
        "foucault_order = foucault_order.split('P REFACE')[1]\r\n",
        "foucault_madness = foucault_madness.split('ickering simulacra, an')[1][112:].split('Page 591')[0]\r\n",
        "foucault_clinic = foucault_clinic.split('iagnostic (Paris, 1962, p.')[1][15:].split('de Sade.')[0][:-33]\r\n",
        "derrida_writing = derrida_writing.split('(Flaubert, Preface d la d')[1][10:].split('Reb Derissa')[0]\r\n",
        "deleuze_oedipus = deleuze_oedipus.split('xjdsde')[1].split('jajielaks')[0]\r\n",
        "deleuze_difference = deleuze_difference.split('Introduction:')[1].split('Plateaus')[0][:-65]\r\n",
        "\r\n",
        "marx_kapital = ((marx_kapital.split('E MAGNITUDE OF VALUE)')[1].split('expropriation of the laborer.')[0])+'expropriation of the laborer.')\r\n",
        "marx_manifesto = marx_manifesto.split('page 29')[1].split('Mao')[0][:-15]\r\n",
        "lenin_essential = lenin_essential.split('We will now sum up the theoretical')[1].split('SUGGESTIONS FOR FURTHER READING')[0]\r\n",
        "\r\n",
        "smith_wealth = smith_wealth.split('INTRODUCTION AND PLAN OF THE WORK.')[2].split('End of the Project Gutenberg EBook of An Inquiry into the Nat')[0]\r\n",
        "ricardo_political_economy = ricardo_political_economy.split('ON VALUE.')[1].split('  FOOTNOTES:')[0]\r\n",
        "keynes_employment = keynes_employment.split('GENERAL INTRODUCTION')[1].split('PRINTING ERRORS IN THE FIRST EDITION CORRECTE')[0][:-145]\r\n",
        "\r\n",
        "epictetus_enchiridion = epictetus_enchiridion.split('New York, 1927.')[1][99:].split('Footnotes')[0][:-45]\r\n"
      ],
      "execution_count": null,
      "outputs": []
    },
    {
      "cell_type": "code",
      "metadata": {
        "id": "1uDGcFA-r3w7"
      },
      "source": [
        "# use this cell to deal with the new text and experiment until we have a good result\r\n",
        "\r\n",
        "aurelius_meditations = aurelius_meditations.split('Book vi. Num. xlviii.')[1].split('APPENDIX')[0]"
      ],
      "execution_count": null,
      "outputs": []
    },
    {
      "cell_type": "markdown",
      "metadata": {
        "id": "UtyqxKStKvsc"
      },
      "source": [
        "Now we aggregate them by school and create a dictionary of various aggregates for future use. "
      ]
    },
    {
      "cell_type": "code",
      "metadata": {
        "id": "kghr6yp0r6Lv"
      },
      "source": [
        "# a list of books for each school, then aggregated and entered into a dictionary\r\n",
        "\r\n",
        "## original texts\r\n",
        "plato_texts = [plato_complete]\r\n",
        "aristotle_texts = [aristotle_vol_1, aristotle_vol_2]\r\n",
        "rationalist_texts = [spinoza_ethics, spinoza_improve_understanding, \r\n",
        "                    leibniz_theodicy, descartes_discourse_method, \r\n",
        "                     descartes_meditations, malebranche_search_truth]\r\n",
        "empiricist_texts = [locke_treatise_gov, locke_understanding_1, locke_understanding_2, \r\n",
        "                    hume_treatise, hume_natural_religion, berkeley_three_dialogues, \r\n",
        "                    berkeley_treatise]\r\n",
        "german_idealist_texts = [kant_practical_reason, kant_judgement, kant_pure_reason, \r\n",
        "                         fichte_ethics, hegel_logic, hegel_phenomenology, hegel_right]\r\n",
        "analytic_texts = [russell_analylsis_of_mind, russell_problems_of_phil, \r\n",
        "                  moore_studies, wittgenstein_investigations, wittgenstein_tractatus, \r\n",
        "                  lewis_papers1, lewis_papers2, quine_quintessence, popper_science, \r\n",
        "                  kripke_naming, kripke_troubles]\r\n",
        "phenomenology_texts = [ponty_perception, husserl_crisis, \r\n",
        "                       husserl_idea_of, heidegger_being_time, heidegger_track]\r\n",
        "continental_texts = [foucault_clinic, foucault_madness, foucault_order, \r\n",
        "                     derrida_writing, deleuze_difference, deleuze_oedipus]\r\n",
        "marxist_texts = [marx_kapital, marx_manifesto, lenin_essential]\r\n",
        "capitalist_texts = [smith_wealth, ricardo_political_economy, keynes_employment]\r\n",
        "\r\n",
        "# new texts\r\n",
        "stoicism_texts = [epictetus_enchiridion, aurelius_meditations]\r\n",
        "\r\n",
        "\r\n",
        "all_texts = plato_texts + aristotle_texts + empiricist_texts + rationalist_texts + analytic_texts + continental_texts + phenomenology_texts + german_idealist_texts + marxist_texts + capitalist_texts + stoicism_texts\r\n",
        "all_texts_string = ' . '.join(all_texts)\r\n",
        "\r\n",
        "text_dict_list = {'plato': plato_texts, 'aristotle': aristotle_texts, \r\n",
        "             'empiricism': empiricist_texts, 'rationalism': rationalist_texts, \r\n",
        "            'german_idealism': german_idealist_texts, \r\n",
        "             'phenomenology': phenomenology_texts, 'analytic': analytic_texts, \r\n",
        "            'continental': continental_texts, 'marxism': marxist_texts,\r\n",
        "             'capitalism': capitalist_texts, 'stoicism': stoicism_texts}\r\n",
        "\r\n",
        "text_dict = {}\r\n",
        "for school in text_dict_list.keys():\r\n",
        "    text_dict[school] = ' . '.join(text_dict_list[school])"
      ],
      "execution_count": null,
      "outputs": []
    },
    {
      "cell_type": "markdown",
      "metadata": {
        "id": "lfajGZ7bK5Zg"
      },
      "source": [
        "### More In-Depth Cleaning\r\n",
        "\r\n",
        "The text here is often quite messy. We need to do some significant work to clean it up. This means dealing with things like:\r\n",
        "- headers of pages occurring repeatedly in the text\r\n",
        "- page numbers and citation numbers\r\n",
        "- footnotes, roman numerals, titles of chapters\r\n",
        "\r\n",
        "The process of dealing with these and getting the data ready for our models has a few steps:\r\n",
        "1. develop a general cleaning function that can work for every text (removing roman numerals, for example)\r\n",
        "2. examine each text itself and remove the specific headers that are relevant to it\r\n",
        "  - look for features that could capture all the footnotes here as well\r\n",
        "3. tokenize the text using spacy\r\n",
        "4. examine the tokens for unusual patterns \r\n",
        "  - there should be virtually no duplicate sentences\r\n",
        "  - we can remove sentences that are too short to mean anything\r\n",
        "  - remove sentences that contain terms that must be from footnotes (the author's name should be very rare in the actual text, for example)\r\n",
        "\r\n",
        "Unfortunately many of these steps can only be done ad hoc; there is no real way to know whether and what headers are in a text without examining the files individually. So the process is a bit tedious and time-consuming. Still, when we finish we will have data that is much cleaner and more useful for modeling. \r\n"
      ]
    },
    {
      "cell_type": "markdown",
      "metadata": {
        "id": "AcoDD6vbLpu9"
      },
      "source": [
        "#### 1. Baseline Cleaning"
      ]
    },
    {
      "cell_type": "markdown",
      "metadata": {
        "id": "8JLtqH5SLInh"
      },
      "source": [
        "Our first step is to develop a baseline cleaning function that can be applied to every text."
      ]
    },
    {
      "cell_type": "code",
      "metadata": {
        "id": "MkT0egnbr89k"
      },
      "source": [
        "def baseline_clean(to_correct, capitals=True, bracketed_fn=False, odd_words_dict={}):\r\n",
        "  # remove utf8 encoding characters and some punctuations\r\n",
        "  result = re.sub(r'[\\x00-\\x08\\x0b\\x0c\\x0e-\\x1f\\x7f-\\xff\\xad\\x0c6§\\\\\\£\\Â*_<>\"\"⎫•{}Γ~]', ' ', to_correct)\r\n",
        "  result = re.sub(r'[\\u2014\\u2013\\u2012-]', ' ', result)\r\n",
        "\r\n",
        "  # replace whitespace characters with actual whitespace\r\n",
        "  result = re.sub(r'\\s', ' ', result)\r\n",
        "\r\n",
        "  # replace odd quotation marks with a standard\r\n",
        "  result = re.sub(r'[‘’“”]', \"'\", result)\r\n",
        "\r\n",
        "  # replace the ﬀ, ﬃ and ﬁ with the appropriate counterparts\r\n",
        "  result = re.sub(r'ﬀ', 'ff', result)\r\n",
        "  result = re.sub(r'ﬁ', 'fi', result)\r\n",
        "  result = re.sub(r'ﬃ', 'ffi', result)\r\n",
        "\r\n",
        "  # remove or standardize some recurring common and meaninless words/phrases\r\n",
        "  result = re.sub(r'\\s*This\\s*page\\s*intentionally\\s*left\\s*blank\\s*', ' ', result)\r\n",
        "  result = re.sub(r'(?i)Aufgabe\\s+', ' ', result)\r\n",
        "  result = re.sub(r',*\\s+cf\\.', ' ', result)\r\n",
        "\r\n",
        "  # some texts have footnotes conveniently in brackets - this removes them all, \r\n",
        "  # with a safety measure for unpaired brackets, and deletes all brackets afterwards\r\n",
        "  if bracketed_fn:\r\n",
        "    result = re.sub(r'\\[.{0,300}\\]|{.{0,300}}|{.{0,300}\\]|\\[.{0,300}}', ' ', result)\r\n",
        "  result = re.sub(r'[\\[\\]{}]', ' ', result)\r\n",
        "\r\n",
        "  # unify some abbreviations\r\n",
        "  result = re.sub(r'&', 'and', result)\r\n",
        "  result = re.sub(r'\\se\\.g\\.\\s', ' eg ', result)\r\n",
        "  result = re.sub(r'\\si\\.e\\.\\s', ' ie ', result)\r\n",
        "  result = re.sub('coroll\\.', 'coroll', result)\r\n",
        "  result = re.sub('pt\\.', 'pt', result)\r\n",
        "\r\n",
        "  # remove roman numerals, first capitalized ones\r\n",
        "  result = re.sub(r'\\s((I{2,}V*X*\\.*)|(IV\\.*)|(IX\\.*)|(V\\.*)|(V+I*\\.*)|(X+L*V*I*]\\.*))\\s', ' ', result)\r\n",
        "  # then lowercase\r\n",
        "  result = re.sub(r'\\s((i{2,}v*x*\\.*)|(iv\\.*)|(ix\\.*)|(v\\.*)|(v+i*\\.*)|(x+l*v*i*\\.*))\\s', ' ', result)\r\n",
        "\r\n",
        "  # remove periods and commas flanked by numbers\r\n",
        "  result = re.sub(r'\\d\\.\\d', ' ', result)\r\n",
        "  result = re.sub(r'\\d,\\d', ' ', result)\r\n",
        "\r\n",
        "  # remove the number-letter-number pattern used for many citations\r\n",
        "  result = re.sub(r'\\d*\\w{,2}\\d', ' ', result)\r\n",
        "\r\n",
        "  # remove numerical characters\r\n",
        "  result = re.sub(r'\\d+', ' ', result)\r\n",
        "\r\n",
        "  # remove words of 2+ characters that are entirely capitalized \r\n",
        "  # (these are almost always titles, headings, or speakers in a dialogue)\r\n",
        "  # remove capital I's that follow capital words - these almost always roman numerals\r\n",
        "  # some texts do use these capitalizations meaningfully, so we make this optional\r\n",
        "  if capitals:\r\n",
        "    result = re.sub(r'[A-Z]{2,}\\s+I', ' ', result)\r\n",
        "    result = re.sub(r'[A-Z]{2,}', ' ', result)\r\n",
        "\r\n",
        "  # remove isolated colons and semicolons that result from removal of titles\r\n",
        "  result = re.sub(r'\\s+:\\s*', ' ', result)\r\n",
        "  result = re.sub(r'\\s+;\\s*', ' ', result)\r\n",
        "\r\n",
        "  # remove isolated letters (do it several times because strings of isolated letters do not get captured properly)\r\n",
        "  result = re.sub(r'\\s[^aAI\\.]\\s', ' ', result)\r\n",
        "  result = re.sub(r'\\s[^aAI\\.]\\s', ' ', result)\r\n",
        "  result = re.sub(r'\\s[^aAI\\.]\\s', ' ', result)\r\n",
        "  result = re.sub(r'\\s[^aAI\\.]\\s', ' ', result)\r\n",
        "  result = re.sub(r'\\s[^aAI\\.]\\s', ' ', result)\r\n",
        "  result = re.sub(r'\\s[^aAI\\.]\\s', ' ', result)\r\n",
        "\r\n",
        "  # remove isolated letters at the end of sentences or before commas\r\n",
        "  result = re.sub(r'\\s[^aI]\\.', '.', result)\r\n",
        "  result = re.sub(r'\\s[^aI],', ',', result)\r\n",
        "\r\n",
        "  # deal with spaces around periods and commas\r\n",
        "  result = re.sub(r'\\s+,\\s+', ', ', result)\r\n",
        "  result = re.sub(r'\\s+\\.\\s+', '. ', result)\r\n",
        "\r\n",
        "  # remove empty parantheses\r\n",
        "  result = re.sub(r'(\\(\\s*\\.*\\s*\\))|(\\(\\s*,*\\s*)\\)', ' ', result)\r\n",
        "\r\n",
        "  # reduce multiple periods, commas, or whitespaces into a single one\r\n",
        "  result = re.sub(r'\\.+', '.', result)\r\n",
        "  result = re.sub(r',+', ',', result)\r\n",
        "  result = re.sub(r'\\s+', ' ', result)\r\n",
        "\r\n",
        "  # deal with isolated problem cases discovered in the data:\r\n",
        "  for key in odd_words_dict.keys():\r\n",
        "    result = re.sub(r''+key+'', odd_words_dict[key], result)\r\n",
        "\r\n",
        "  return result"
      ],
      "execution_count": null,
      "outputs": []
    },
    {
      "cell_type": "code",
      "metadata": {
        "colab": {
          "base_uri": "https://localhost:8080/",
          "height": 136
        },
        "id": "bOIF01WGsDzv",
        "outputId": "5d88b798-6335-4e88-8975-1e6aac239984"
      },
      "source": [
        "# use this cell to run the function on the new text and see if anything looks odd\r\n",
        "baseline_clean(aurelius_meditations)[1000:3000]"
      ],
      "execution_count": null,
      "outputs": [
        {
          "output_type": "execute_result",
          "data": {
            "application/vnd.google.colaboratory.intrinsic+json": {
              "type": "string"
            },
            "text/plain": [
              "\"uent public schools and auditories, and to get me good and able teachers at home; and that I ought not to think much, if upon such occasions, I were at excessive charges. Of him that brought me up, not to be fondly addicted to either of the two great factions of the coursers in the circus, called Prasini, and Veneti: nor in the amphitheatre partially to favour any of the gladiators, or fencers, as either the Parmularii, or the Secutores. Moreover, to endure labour; nor to need many things; when I have anything to do, to do it myself rather than by others; not to meddle with many businesses; and not easily to admit of any slander. Of Diognetus, not to busy myself about vain things, and not easily to believe those things, which are commonly spoken, by such as take upon them to work wonders, and by sorcerers, or prestidigitators, and impostors; concerning the power of charms, and their driving out of demons, or evil spirits; and the like. Not to keep quails for the game; nor to be mad after such things. Not to be offended with other men's liberty of speech, and to apply myself unto philosophy. Him also I must thank, that ever I heard first Bacchius, then Tandasis and Marcianus, and that I did write dialogues in my youth; and that I took liking to the philosophers' little couch and skins, and such other things, which by the Grecian discipline are proper to those who profess philosophy. To Rusticus I am beholding, that I first entered into the conceit that my life wanted some redress and cure. And then, that I did not fall into the ambition of ordinary sophists, either to write tracts concerning the common theorems, or to exhort men unto virtue and the study of philosophy by public orations; as also that I never by way of ostentation did affect to show myself an active able man, for any kind of bodily exercises. And that I gave over the study of rhetoric and poetry, and of elegant neat language. That I did not use to walk about the house in my long robe, nor to do any su\""
            ]
          },
          "metadata": {
            "tags": []
          },
          "execution_count": 40
        }
      ]
    },
    {
      "cell_type": "markdown",
      "metadata": {
        "id": "6e3D7iGALiMC"
      },
      "source": [
        "#### 2. Text-by-Text Cleaning"
      ]
    },
    {
      "cell_type": "markdown",
      "metadata": {
        "id": "i_T4TRdEL2aM"
      },
      "source": [
        "In this step we will remove headers and other offensive features of specific texts. \r\n",
        "\r\n",
        "The most common problem is the presence of headings that appear at the top of each page in the original book. When converted to a string, these then get interpolated into the text, interrupting the normal flow of sentences (this happens for page numbers and citations as well, but those cases are much easier to deal with). \r\n",
        "\r\n",
        "To deal with this, we build a list of the headers for each book and then delete them from the string that represents the book. In the process, we may create some issues if the header is common, so we are careful to only delete when the loss is worth it.\r\n",
        "\r\n",
        "In some cases, of course, the texts are already clean and no extra steps are required."
      ]
    },
    {
      "cell_type": "code",
      "metadata": {
        "id": "JxmXkIWbsJVs"
      },
      "source": [
        "plato_to_rm = ['Apology', 'Sophist', 'Statesman', 'Symposium', \r\n",
        "                 'Second Alcibiades', 'Rival Lovers', 'Greater Hippias', \r\n",
        "                 'Lesser Hippias', 'Republic', 'Laws', 'Letters', 'Definitions',\r\n",
        "                 'On Virtue', 'On Justice', 'Epigrams', 'Translated b.+\\.']\r\n",
        "\r\n",
        "aristotle_to_rm = ['Aristotle', 'Book']\r\n",
        "\r\n",
        "descartes_meditations_to_rm = ['Letter of Dedication', 'Preface to the Reader', \r\n",
        "                               'Synopsis', 'First Meditation', 'Second Meditation', \r\n",
        "                               'Third Meditation', 'Fourth Meditation', 'Fifth Meditation', \r\n",
        "                               'Sixth Meditation']\r\n",
        "\r\n",
        "malebranche_search_to_rm = ['Nicolas Malebranche', 'Truth', 'Nicolas',]\r\n",
        "\r\n",
        "locke_gov_to_rm = ['Sect.']\r\n",
        "\r\n",
        "berkeley_dialogues_to_rm = ['PHIL.', 'PHILONOUS.', 'HYL.', 'HYLAS.']\r\n",
        "\r\n",
        "kant_judgement_to_rm = ['Introduction', 'Preface to the First Edition', \r\n",
        "                        'Critique of Aesthetic Judgement', 'Critique of Teleological Judgement',\r\n",
        "                        'Analytic of the Beautiful', 'Analytic of the Sublime',\r\n",
        "                        'Anaytic of Teleological Judgement', 'Dialectic of Aeshetic Judgement',\r\n",
        "                        'Critique of Teleological Judgement', 'Dialectic of Teleological Judgement',\r\n",
        "                        'Theory of the Method of Teleological Judgement',\r\n",
        "                        '‘First Introduction’ to the Critique of Judgement']\r\n",
        "\r\n",
        "kant_pure_reason_to_rm = ['Introduction', '\\s+Section\\s.+', '\\sDoctrine\\s*of\\s*Elements\\.\\s*.+',\r\n",
        "                          '\\sDoctrine\\s*of\\s*Method\\.\\s*.+']                        \r\n",
        "\r\n",
        "\r\n",
        "fichte_ethics_to_rm = ['Page']\r\n",
        "\r\n",
        "hegel_SoL_to_rm = ['Georg Wilhelm Friedrich Hegel', 'The Science of Logic']\r\n",
        "\r\n",
        "hegel_right_to_rm = ['Preface', 'Philosophy of Right', 'Philosophy ofRight', \r\n",
        "                     'Philosophy ojRight', 'Philosophy oj Right', \r\n",
        "                     'Introduction', 'Abstract Right', 'Ethical Life', 'Ethical Lift',\r\n",
        "                     'Morality']\r\n",
        "\r\n",
        "wittgenstein_tract_to_rm = ['tractatus logico-philosophicus']\r\n",
        "\r\n",
        "lewis_papers_1_to_rm = ['Introduction', 'Ontology', 'Holes', 'Anselm and Actuality', \r\n",
        "                        'Counterpart Theory and Quantified Modal Logic', \r\n",
        "                        'Counterparts of Persons and Their Bodies', 'Survival and Identity',\r\n",
        "                        'How to Define Theoretical Terms', 'Philosophy of Mind', \r\n",
        "                        'An Argument for the Identity Theory', 'Radical Interpretation',\r\n",
        "                        'Mad Pain and Partian Pain', 'Attitudes De Dicto and De Se',\r\n",
        "                        'Philosophy of Language', 'Languages and Language',\r\n",
        "                        'General Semantics', 'Scorekeeping in a Language Game',\r\n",
        "                        'Tensions', 'Truth in Fiction', 'This page intentionally left blank']\r\n",
        "\r\n",
        "lewis_papers_2_to_rm = ['end\\sp\\.']\r\n",
        "\r\n",
        "quine_quintessence_to_rm = ['(?i)\\s+Truth\\s+by\\s+Convention\\s+', '(?i)\\s+Two\\s+Dogams\\s+of\\s+Empiricism',\r\n",
        "                            '(?i)\\s+Two\\s+in\\s+Retrospect\\s+', '(?i)\\s+Carnap\\s+and\\s+Logical\\s+Truth',\r\n",
        "                            '(?i)\\s+Speaking\\s+of\\s+Objects\\s+', '(?i)\\s+Reference\\s+',\r\n",
        "                            '(?i)\\s+Translation\\s+and\\s+Meaning', '(?i)\\s+Progress\\s+on\\s+Two\\s+Fronts\\s+',\r\n",
        "                            '(?i)\\s+On\\s+What\\s+There\\s+is\\s+', '(?i)\\s+the\\s+scope\\s+and\\s+language\\s+of\\s+science\\s+',\r\n",
        "                            '(?i)\\s+on\\s+simple\\s+theories\\s+of\\s+a\\s+complex\\s+world\\s+',\r\n",
        "                            '(?i)\\s+ontic\\s+decision\\s+', '(?i)\\s+things\\s+and\\s+their\\s+place\\s+in\\s+theories\\s+',\r\n",
        "                            \"(?i)\\s+on\\s+Carnap\\s*'s\\s+views\\s+on\\s+ontology\\s+\",\r\n",
        "                            '(?i)\\s+empistemology\\s+naturalized\\s+', \r\n",
        "                            \"(?i)\\s+naturalism\\s;\\s+or,\\s+living\\s+within\\s+one\\s*'s\\s+means\\s+\",\r\n",
        "                            '(?i)\\s+the\\s+nature\\s+of\\s+natural\\s+knowledge\\s+',\r\n",
        "                            '(?i)\\s+five\\s+milestones\\s+of\\s+empiricism\\s+',\r\n",
        "                            '(?i)\\s+on\\s+mental\\s+entities\\s+', '(?i)\\s+mind\\s+and\\s+verbal\\s+dispositions\\s+',\r\n",
        "                            '(?i)\\s+confessions\\s+of\\s+a\\s+confirmed\\s+extensionalist\\s+',\r\n",
        "                            '(?i)\\s+quantifiers\\s+and\\s+propositional\\s+attitudes\\s+',\r\n",
        "                            '(?i)\\s+intensions\\s+revisited\\s+', '(?i)\\s+reference\\s+and\\s+modality\\s+',\r\n",
        "                            '(?i)\\s+three\\s+grades\\s+of\\s+modal\\s+involvement\\s+']\r\n",
        "\r\n",
        "popper_science_to_rm = ['the logic of science', 'a survey of some fundamental problems',\r\n",
        "                        'preface', 'on the problem of a theory of scientific method',\r\n",
        "                        'some structural components of a theory of experience',\r\n",
        "                        'degrees of testability', 'some observations on quantum theory',\r\n",
        "                        'corroboration, or how a theory stands up to tests']\r\n",
        "\r\n",
        "kripke_troubles_to_rm = ['Identity and Necessity', 'On Two Paradoxes of Knowledge',\r\n",
        "                          'Vacuous Names and Fictional Entities', 'Outline of a Theory of Truth',\r\n",
        "                          \"Speaker's Reference and Semantic Reference\",\r\n",
        "                          'A Puzzle about Belief', 'Nozick on Knowledge', \r\n",
        "                          \"Russell's Notion of Scope\", \"Frege's Theory of Sense and Reference\",\r\n",
        "                          'The First Person', 'Unrestricted Exportation and Some Morals for the Philosophy',\r\n",
        "                          'Presupposition and Anaphora', 'A Puzzle about Time and Thought']\r\n",
        "\r\n",
        "ponty_perception_to_rm = ['phenomenology of perception', 'preface',\r\n",
        "                          \"the 'sensation' as a unit of experience\", \r\n",
        "                          \"'association' and the 'projection of memories'\",\r\n",
        "                          \"'attention' and 'judgement'\", 'the phenomenal field', \r\n",
        "                          'experience and objective thought', 'the body as object and mechanistic psychology',\r\n",
        "                          'the experience of the body and classical psychology',\r\n",
        "                          \"the spatiality of one’s own body and motility\",\r\n",
        "                          \"the synthesis of one's own body\", 'the body in its sexual being',\r\n",
        "                          'the body as expression, and speech',\r\n",
        "                          'theory of the body is already a theory of perception',\r\n",
        "                          'sense experience', 'the thing and the natural world',\r\n",
        "                          'other selves and the human world']\r\n",
        "\r\n",
        "husserl_crisis_to_rm = ['Part\\s+', 'Idealization and the Science of Reality', \r\n",
        "                        'Denial of Scientific Philosophy', 'The Origin of Geometry',\r\n",
        "                        'Natural Science and Humanistic Science',\r\n",
        "                        'The Vienna Lecture']\r\n",
        "\r\n",
        "heidegger_b_and_t_to_rm = ['\\s+Being\\s*and\\s*Time\\s+', 'Int.', 'I.m', 'I.n']                                                  \r\n",
        "\r\n",
        "foucault_order_to_rm = ['the order of things', 'the prose of the world', '\\s+classifying\\s+',\r\n",
        "                        'exchanging', 'the limits of representation',\r\n",
        "                        'labour, life, language', 'man and his doubles']\r\n",
        "\r\n",
        "foucault_madness_to_rm = ['\\s+Page\\s']\r\n",
        "\r\n",
        "foucault_clinic_to_rm = ['\\(\\(.+\\)\\)']\r\n",
        "\r\n",
        "deleuze_difference_to_rm = ['Difference and Repetition', 'Difference in Itself',\r\n",
        "                            'Repetition for Itself', 'The Image of Thought',\r\n",
        "                            'Ideas and the Synthesis of Difference',\r\n",
        "                            'Asymmetrical Synthesis of the Sensible', 'Conclusion']\r\n",
        "\r\n",
        "marx_kapital_to_rm = ['http.+', 'Capital\\s+Vol\\..+']\r\n",
        "\r\n",
        "marx_manifesto_to_rm = ['\\s+page\\s+\\d+']\r\n",
        "\r\n",
        "keynes_employment_to_rm = ['(?i)\\s+The\\s+General\\s+Theory\\s+of\\s+Employment,*\\s+interest\\s+and\\s+money\\s+by\\s+john\\s+maynard\\s+keynes\\s+',\r\n",
        "                           'Table of Contents \\| Previous Chapter \\| Next Chapter', \r\n",
        "                           'Chapter\\s+\\d+']       \r\n",
        "\r\n",
        "do_not_remove_capitals = ['essay concerning human understanding bk 2', \r\n",
        "                          'a treatise of human nature', \r\n",
        "                          'dialogues concerning natural religion', 'three dialogues', \r\n",
        "                          'a treatise concerning the principles of human knowledge']\r\n",
        "\r\n",
        "bracketed_fn = ['critique of practical reason', 'the communist manifesto']                                          "
      ],
      "execution_count": null,
      "outputs": []
    },
    {
      "cell_type": "markdown",
      "metadata": {
        "id": "4Z6-svnmMCtz"
      },
      "source": [
        "#### 3. Tokenizing and Rendering the Texts as a Dataframe"
      ]
    },
    {
      "cell_type": "markdown",
      "metadata": {
        "id": "meZEHHSgMEBd"
      },
      "source": [
        "We now are in a position to apply these methods to each text and return a dataframe for each of them. Although we are interested primarily in the schools of thought in general, it would be convenient and more useful for future projects if we also include the specific authors and titles. \r\n",
        "\r\n",
        "To prepare for this project, we build a dictionary for each school, so that we can then iterate over a list of dictionaries to create a dataframe for each."
      ]
    },
    {
      "cell_type": "code",
      "metadata": {
        "colab": {
          "base_uri": "https://localhost:8080/"
        },
        "id": "Ct6SmxnTsM1k",
        "outputId": "7bf666bd-2b32-49e5-ef45-625975c84c63"
      },
      "source": [
        "# prepare lists that will be zipped into a dictionary\r\n",
        "\r\n",
        "# texts \r\n",
        "all_texts\r\n",
        "\r\n",
        "# titles\r\n",
        "title_list = [\"plato - complete works\", \"aristotle - complete works\", \"aristotle - complete works\",\r\n",
        "              'second treatise on government', 'essay concerning human understanding',\r\n",
        "              'essay concerning human understanding', 'a treatise of human nature', \r\n",
        "              'dialogues concerning natural religion', 'three dialogues', \r\n",
        "              'a treatise concerning the principles of human knowledge',\r\n",
        "              'ethics', 'on the improvement of understanding', 'theodicy',\r\n",
        "              'discourse on method', 'meditations on first philosophy', 'the search after truth',\r\n",
        "              'the analysis of mind', 'the problems of philosophy', 'philosophical studies',\r\n",
        "              'philosophical investigations', 'tractatus logico-philosophicus',\r\n",
        "              \"lewis - papers\", \"lewis - papers\", 'quintessence', \r\n",
        "              'the logic of scientific discovery', 'naming and necessity', \r\n",
        "              'philosophical troubles', 'the birth of the clinic', 'madness and civilization',\r\n",
        "              'the order of things', 'writing and difference', 'difference and repetition',\r\n",
        "              'anti-oedipus', 'the phenomenology of perception', \r\n",
        "              'the crisis of the european sciences and phenomenology', \r\n",
        "              'the idea of phenomenology',\r\n",
        "              'being and time', 'off the beaten track', 'critique of practical reason', \r\n",
        "              'critique of judgement', 'critique of pure reason', \r\n",
        "              'the system of ethics', 'science of logic', 'the phenomenology of spirit',\r\n",
        "              'elements of the philosophy of right', 'capital', 'the communist manifesto', \r\n",
        "              'essential works of lenin', 'the wealth of nations', \r\n",
        "              'on the principles of political economy and taxation',\r\n",
        "              'a general theory of employment, interest, and money', 'enchiridion',\r\n",
        "              'meditations']\r\n",
        "\r\n",
        "# authors\r\n",
        "author_list = ['plato', 'aristotle', 'aristotle', 'locke', 'locke', 'locke',\r\n",
        "               'hume', 'hume', 'berkeley', 'berkeley', 'spinoza', 'spinoza',\r\n",
        "               'leibniz', 'descartes', 'descartes', 'malebranche', 'russell', \r\n",
        "               'russell', 'moore', 'wittgenstein', 'wittgenstein', 'lewis', 'lewis',\r\n",
        "               'quine', 'popper', 'kripke', 'kripke', 'foucault', 'foucault', \r\n",
        "               'foucault', 'derrida', 'deleuze', 'deleuze', 'merleau-ponty', \r\n",
        "               'husserl', 'husserl', 'heidegger', 'heidegger', 'kant', 'kant',\r\n",
        "               'kant', 'fichte', 'hegel', 'hegel', 'hegel', 'marx', 'marx', 'lenin',\r\n",
        "               'smith', 'ricardo', 'keynes', 'epictetus', 'marcus aurelius']\r\n",
        "\r\n",
        "school_list = ['plato', 'aristotle', 'aristotle', 'empiricism', 'empiricism', \r\n",
        "               'empiricism', 'empiricism', 'empiricism', 'empiricism', 'empiricism',\r\n",
        "               'rationalism', 'rationalism', 'rationalism', 'rationalism', \r\n",
        "               'rationalism', 'rationalism', 'analytic', 'analytic', 'analytic', \r\n",
        "               'analytic', 'analytic', 'analytic', 'analytic', 'analytic', 'analytic', \r\n",
        "               'analytic', 'analytic', 'continental', 'continental', 'continental', \r\n",
        "               'continental', 'continental', 'continental', 'phenomenology', \r\n",
        "               'phenomenology', 'phenomenology', 'phenomenology', 'phenomenology', \r\n",
        "               'german_idealism', 'german_idealism', 'german_idealism', 'german_idealism',\r\n",
        "               'german_idealism', 'german_idealism', 'german_idealism', 'communism', \r\n",
        "               'communism', 'communism', 'capitalism', 'capitalism', 'capitalism', \r\n",
        "               'stoicism', 'stoicism']               \r\n",
        "\r\n",
        "# words to remove \r\n",
        "to_rm_list = [plato_to_rm, aristotle_to_rm, aristotle_to_rm, locke_gov_to_rm, \r\n",
        "              [], [], [], [], berkeley_dialogues_to_rm, [], [], [], [], [], \r\n",
        "              descartes_meditations_to_rm, malebranche_search_to_rm, [],\r\n",
        "              [], [], [], wittgenstein_tract_to_rm, lewis_papers_1_to_rm, \r\n",
        "              lewis_papers_2_to_rm, quine_quintessence_to_rm, popper_science_to_rm,\r\n",
        "              [], kripke_troubles_to_rm, foucault_clinic_to_rm, foucault_madness_to_rm,\r\n",
        "              foucault_order_to_rm, [], deleuze_difference_to_rm, [],\r\n",
        "              ponty_perception_to_rm, husserl_crisis_to_rm, [], heidegger_b_and_t_to_rm,\r\n",
        "              [], [], kant_judgement_to_rm, kant_pure_reason_to_rm, fichte_ethics_to_rm, \r\n",
        "              hegel_SoL_to_rm, [], hegel_right_to_rm, marx_kapital_to_rm, \r\n",
        "              marx_manifesto_to_rm, [], [], [], keynes_employment_to_rm, [], []]\r\n",
        "\r\n",
        "# check lengths to make sure all are present\r\n",
        "len(to_rm_list), len(all_texts), len(author_list), len(title_list), len(school_list)"
      ],
      "execution_count": null,
      "outputs": [
        {
          "output_type": "execute_result",
          "data": {
            "text/plain": [
              "(53, 53, 53, 53, 53)"
            ]
          },
          "metadata": {
            "tags": []
          },
          "execution_count": 42
        }
      ]
    },
    {
      "cell_type": "code",
      "metadata": {
        "colab": {
          "base_uri": "https://localhost:8080/"
        },
        "id": "jWV3U1XIsPEe",
        "outputId": "0daceb87-2fcd-4c83-860c-7f7d0d17e4a0"
      },
      "source": [
        "# combine all these into a single list of dictionaries\r\n",
        "book_dicts = []\r\n",
        "for i in range(0, len(all_texts)):\r\n",
        "  book_dict = {}\r\n",
        "  book_dict['author'] = author_list[i].title()\r\n",
        "  book_dict['title'] = title_list[i].title()\r\n",
        "  book_dict['text'] = all_texts[i]\r\n",
        "  book_dict['school'] = school_list[i]\r\n",
        "  book_dict['words to remove'] = to_rm_list[i]\r\n",
        "  book_dict['remove capitals'] = True\r\n",
        "  book_dict['bracketed fn'] = False\r\n",
        "  book_dicts.append(book_dict)\r\n",
        "\r\n",
        "# mark the ones with bracketed footnotes \r\n",
        "for book in book_dicts:\r\n",
        "  if book['title'] in bracketed_fn:\r\n",
        "    book['bracketed fn'] = True\r\n",
        "\r\n",
        "# mark the ones with capitals we want to keep\r\n",
        "for book in book_dicts:\r\n",
        "  if book['title'] in do_not_remove_capitals:\r\n",
        "    book['remove capitals'] = False\r\n",
        "  \r\n",
        "# check length again to make sure\r\n",
        "len(book_dicts)"
      ],
      "execution_count": null,
      "outputs": [
        {
          "output_type": "execute_result",
          "data": {
            "text/plain": [
              "53"
            ]
          },
          "metadata": {
            "tags": []
          },
          "execution_count": 43
        }
      ]
    },
    {
      "cell_type": "markdown",
      "metadata": {
        "id": "Old9KJCnMSLo"
      },
      "source": [
        "With a dictionary for each text, we are prepared to clean them, build dataframes for each text, and combine them into a master dataframe for all our data. \r\n",
        "\r\n",
        "As part of that, we use a new dictionary where the keys correspond to textual oddities and the values correspond to their corrected version. This helps deal with many individual cases of strange behavior in the corpus."
      ]
    },
    {
      "cell_type": "code",
      "metadata": {
        "cellView": "form",
        "id": "Xe_GUeVisQ7C"
      },
      "source": [
        "#@title Oddities Dictionary for Cleaning\r\n",
        "# a dictionary of oddities to clean up\r\n",
        "odd_words_dict = {'\\sderstanding': 'derstanding',\r\n",
        "                  '\\sforthe\\s': ' for the ',\r\n",
        "                  '\\sject': 'ject',\r\n",
        "                  '\\sjects': 'jects', \r\n",
        "                  '\\sness': 'ness',\r\n",
        "                  '\\sper\\scent\\s': ' percent ',\r\n",
        "                  '\\sper\\scent\\.': ' percent.',\r\n",
        "                  '\\sper\\scent,': ' percent,',\r\n",
        "                  '\\wi\\son': 'ion',\r\n",
        "                  '\\spri\\sori': ' priori',\r\n",
        "                  '\\stences\\s': 'tences ',\r\n",
        "                  '\\sprincipleb': ' principle',\r\n",
        "                  '\\ssciousness': 'sciousness',\r\n",
        "                  '\\stion': 'tion',\r\n",
        "                  '\\spri\\s': ' pri',\r\n",
        "                  '\\scluding': 'cluding',\r\n",
        "                  '\\sdom': 'dom',\r\n",
        "                  '\\sers': 'ers',\r\n",
        "                  '\\scritiq\\s': ' critique ',\r\n",
        "                  '\\ssensati\\s': ' sensation ',\r\n",
        "                  '(?i)\\syou\\sll': \" you'll\",\r\n",
        "                  '\\sI\\sll': \" I'll\",\r\n",
        "                  '(?i)\\swe\\sll': \" we'll\",\r\n",
        "                  '(?i)he\\sll': \" he'll\",\r\n",
        "                  '(?i)who\\sll': \"who'll\",\r\n",
        "                  '(?i)\\sthere\\sll\\s': \" there'll \",\r\n",
        "                  '\\seduca\\s': ' education ',\r\n",
        "                  '\\slity\\s': 'lity ',\r\n",
        "                  '\\smultaneously\\s': 'multaneously ',\r\n",
        "                  '\\stically\\s': 'tically ',\r\n",
        "                  '\\sDa\\ssein\\s': ' Dasein ',\r\n",
        "                  '(?i)\\sthey\\sll\\s': \" they'll \",\r\n",
        "                  '(?i)\\sin\\tum\\s': ' in turn ',\r\n",
        "                  '\\scon~\\s': ' con',\r\n",
        "                  '\\sà\\s': ' a ',\r\n",
        "                  '\\sjor\\s': ' for ',\r\n",
        "                  '\\sluminating\\s': 'luminating ',\r\n",
        "                  '\\sselj\\s': ' self ',\r\n",
        "                  '\\stial\\s': 'tial ',\r\n",
        "                  '\\sversal\\s': 'versal ',\r\n",
        "                  '\\sexis\\st': ' exist',\r\n",
        "                  '\\splauded\\s': 'plauded ',\r\n",
        "                  '\\suiry\\s': 'uiry ',\r\n",
        "                  '\\svithin\\s': ' within ',\r\n",
        "                  '\\soj\\s': ' of ',\r\n",
        "                  '\\sposi\\st': ' posit',\r\n",
        "                  '\\sra\\sther\\s': ' rather ',\r\n",
        "                  '(?i)\\sthat\\sll\\s': \" that'll \",\r\n",
        "                  '(?i)\\sa\\sll\\s': ' all ',\r\n",
        "                  '\\so\\sther\\s': ' other ',\r\n",
        "                  '\\sra\\sther\\s': ' rather ',\r\n",
        "                  '\\snei\\sther\\s': ' neither ',\r\n",
        "                  '\\sei\\sther\\s': ' either ',\r\n",
        "                  '\\sfur\\sther\\s': ' further ',\r\n",
        "                  '\\sano\\sther': ' another ',\r\n",
        "                  '\\sneces\\s': ' neces',\r\n",
        "                  'u\\slar\\s': 'ular ',\r\n",
        "                  '\\sference\\s': 'ference ',\r\n",
        "                  '(?i)it\\sll\\s': \"it'll \",\r\n",
        "                  '\\stoge\\sther': ' together ',\r\n",
        "                  '\\sknowledgeb\\s': ' knowledge ',\r\n",
        "                  'r\\stain\\s': 'rtain ',\r\n",
        "                  'on\\stain\\s': 'ontain',\r\n",
        "                  '(?i)j\\sect\\s': 'ject',\r\n",
        "                  '\\sob\\sect\\s': ' object ',\r\n",
        "                  '\\sbtle\\s': 'btle ',\r\n",
        "                  '\\snition\\s': 'nition ',\r\n",
        "                  '\\sdering\\s': 'dering ', \r\n",
        "                  '\\sized\\s': 'ized ',\r\n",
        "                  '\\sther\\shand': ' other hand',\r\n",
        "                  '\\ture\\s': 'ture ',\r\n",
        "                  '\\sabso\\sl': ' absol',\r\n",
        "                  '\\stly\\s': 'tly ',\r\n",
        "                  '\\serty\\s': 'erty ',\r\n",
        "                  '\\sobj\\se': ' obj',\r\n",
        "                  '\\sffiir\\s': ' for ',\r\n",
        "                  '\\sndeed\\s': ' indeed ',\r\n",
        "                  '\\sfonn\\s': ' form ',\r\n",
        "                  '\\snally\\s': 'nally ',\r\n",
        "                  'ain\\sty\\s': 'ainty ',\r\n",
        "                  'ici\\sty\\s': 'icity ',\r\n",
        "                  '\\scog\\sni': ' cogni',\r\n",
        "                  '\\sacc\\s': ' acc',\r\n",
        "                  '\\sindi\\svid\\sual': ' individual', \r\n",
        "                  '\\sintu\\sit': ' intuit',\r\n",
        "                  'r\\sance\\s': 'rance ',\r\n",
        "                  '\\ssions\\s': 'sions ',\r\n",
        "                  '\\sances\\s': 'ances ',\r\n",
        "                  '\\sper\\sception\\s': ' perception ',\r\n",
        "                  '\\sse\\sries\\s': ' series ',\r\n",
        "                  '\\sque\\sries\\s': ' queries ',\r\n",
        "                  '\\sessary\\s': 'essary ',\r\n",
        "                  '\\sofa\\s': ' of a ',\r\n",
        "                  '\\scer\\stainty\\s': ' certainty ',\r\n",
        "                  'ec\\stivity\\s': 'ectivity ',\r\n",
        "                  '\\stivity\\s': 'tivity ',\r\n",
        "                  '\\slation\\s': 'lation ',\r\n",
        "                  '\\sir\\sr': ' irr',\r\n",
        "                  '\\ssub\\sstance\\s': ' substance ',\r\n",
        "                  'sec\\sond\\s': 'second ',\r\n",
        "                  '\\s\\.rv': '',\r\n",
        "                  '\\story\\s': 'tory ',\r\n",
        "                  '\\sture\\s': 'ture ',\r\n",
        "                  '\\sminate\\s': 'minate ',\r\n",
        "                  '\\sing\\s': 'ing ',\r\n",
        "                  '\\splicity\\s': 'plicity ',\r\n",
        "                  '\\ssimi\\slar\\s': ' similar ',\r\n",
        "                  '\\scom\\smunity\\s': ' community ',\r\n",
        "                  '\\sitselfa\\s': ' itself a ',\r\n",
        "                  '\\ssimp\\s': ' simply ',\r\n",
        "                  '\\scon\\stex': ' contex',\r\n",
        "                  '\\scon\\sseq': ' conseq',\r\n",
        "                  '\\scon\\stai': ' contai',\r\n",
        "                  '\\sofwhat\\s': ' of what ',\r\n",
        "                  '\\sui\\s': 'ui',\r\n",
        "                  '\\sofan\\s': ' of an ',\r\n",
        "                  '\\saccor\\sdance\\s': ' accordance ',\r\n",
        "                  '\\stranscen\\sdental\\s': ' transcendental ',\r\n",
        "                  '\\sap\\spearances\\s': ' appearances ',\r\n",
        "                  'e\\squences\\s': 'equences ',\r\n",
        "                  '\\sorits\\s': ' or its ',\r\n",
        "                  '\\simma\\sn': ' imman',\r\n",
        "                  '\\seq\\sua': ' equa',\r\n",
        "                  '\\simpl\\sied\\s': ' implied ',\r\n",
        "                  '\\sbuta\\s': ' but a ',\r\n",
        "                  '\\sa\\snd\\s': ' and ',\r\n",
        "                  '\\sence\\s': 'ence ',\r\n",
        "                  '\\stain\\s': 'tain ',\r\n",
        "                  '\\sunder\\sstanding\\s': ' understanding ',\r\n",
        "                  'i\\sence\\s': 'ience ',\r\n",
        "                  'r\\sence\\s': 'rence ',\r\n",
        "                  '\\stical\\s': 'tical ',\r\n",
        "                  '\\sobjectsb\\s': ' objects ',\r\n",
        "                  '\\stbe\\s': ' the ',\r\n",
        "                  '\\smul\\st': ' mult',\r\n",
        "                  '\\sgen\\seral\\s': ' general ',\r\n",
        "                  '\\suniver\\ssal\\s': ' universal ',\r\n",
        "                  '\\scon\\stent\\s': ' content ',\r\n",
        "                  '\\spar\\sticular\\s': ' particular ',\r\n",
        "                  'ver\\ssity\\s': 'versity ',\r\n",
        "                  '\\sCritiq\\s': ' Critique ',\r\n",
        "                  '\\sphilo\\ssophy\\s': ' philosophy ',\r\n",
        "                  '\\seq\\s': ' eq'}"
      ],
      "execution_count": null,
      "outputs": []
    },
    {
      "cell_type": "code",
      "metadata": {
        "colab": {
          "base_uri": "https://localhost:8080/",
          "height": 128
        },
        "id": "G_KZCE6YsYE7",
        "outputId": "8007d575-6472-4336-8871-98d5994c002a"
      },
      "source": [
        "def from_raw_to_df(text_dict):\r\n",
        "  nlp.max_length = 9000000\r\n",
        "  text = text_dict['text']\r\n",
        "  text = remove_words(text, text_dict['words to remove'])\r\n",
        "  text = baseline_clean(text, capitals=text_dict['remove capitals'],\r\n",
        "                        bracketed_fn=text_dict['bracketed fn'],\r\n",
        "                        odd_words_dict=odd_words_dict)\r\n",
        "  text_nlp = nlp(text, disable=['ner'])\r\n",
        "  text_df = pd.DataFrame(columns=['title', 'author', 'school', 'sentence_spacy'])\r\n",
        "  text_df['sentence_spacy'] = list(text_nlp.sents)\r\n",
        "  text_df['author'] = text_dict['author']\r\n",
        "  text_df['title'] = text_dict['title']\r\n",
        "  text_df['school'] = text_dict['school']\r\n",
        "  text_df['sentence_str'] = text_df['sentence_spacy'].apply(lambda x: ''.join(list(str(x))))\r\n",
        "  return text_df\r\n",
        "\r\n",
        "df = pd.DataFrame(columns=['title', 'author', 'school', 'sentence_spacy', 'sentence_str'])\r\n",
        "for book in book_dicts:\r\n",
        "  book_df = from_raw_to_df(book)\r\n",
        "  df = df.append(book_df, ignore_index=True)\r\n",
        "\r\n",
        "len(df)"
      ],
      "execution_count": null,
      "outputs": [
        {
          "output_type": "error",
          "ename": "SyntaxError",
          "evalue": "ignored",
          "traceback": [
            "\u001b[0;36m  File \u001b[0;32m\"<ipython-input-45-8eefc0d0b7bf>\"\u001b[0;36m, line \u001b[0;32m15\u001b[0m\n\u001b[0;31m    print(f'{text_dict['title']} complete')\u001b[0m\n\u001b[0m                            ^\u001b[0m\n\u001b[0;31mSyntaxError\u001b[0m\u001b[0;31m:\u001b[0m invalid syntax\n"
          ]
        }
      ]
    },
    {
      "cell_type": "code",
      "metadata": {
        "colab": {
          "base_uri": "https://localhost:8080/",
          "height": 630
        },
        "id": "0rTa7P8KwXC6",
        "outputId": "8fa2f095-60c1-4d01-af6c-50ede61ae944"
      },
      "source": [
        "pd.options.display.max_colwidth = 200\r\n",
        "df.sample(10)"
      ],
      "execution_count": null,
      "outputs": [
        {
          "output_type": "execute_result",
          "data": {
            "text/html": [
              "<div>\n",
              "<style scoped>\n",
              "    .dataframe tbody tr th:only-of-type {\n",
              "        vertical-align: middle;\n",
              "    }\n",
              "\n",
              "    .dataframe tbody tr th {\n",
              "        vertical-align: top;\n",
              "    }\n",
              "\n",
              "    .dataframe thead th {\n",
              "        text-align: right;\n",
              "    }\n",
              "</style>\n",
              "<table border=\"1\" class=\"dataframe\">\n",
              "  <thead>\n",
              "    <tr style=\"text-align: right;\">\n",
              "      <th></th>\n",
              "      <th>title</th>\n",
              "      <th>author</th>\n",
              "      <th>school</th>\n",
              "      <th>sentence_spacy</th>\n",
              "      <th>sentence_str</th>\n",
              "    </tr>\n",
              "  </thead>\n",
              "  <tbody>\n",
              "    <tr>\n",
              "      <th>121993</th>\n",
              "      <td>A Treatise Concerning The Principles Of Human Knowledge</td>\n",
              "      <td>Berkeley</td>\n",
              "      <td>empiricism</td>\n",
              "      <td>(Likewise, the, idea, of, man, that, I, frame, to, myself, must, be, either, of, a, white, ,, or, a, black, ,, or, a, tawny, ,, a, straight, ,, or, a, crooked, ,, a, tall, ,, or, a, low, ,, or, a,...</td>\n",
              "      <td>Likewise the idea of man that I frame to myself must be either of a white, or a black, or a tawny, a straight, or a crooked, a tall, or a low, or a middle sized man.</td>\n",
              "    </tr>\n",
              "    <tr>\n",
              "      <th>77887</th>\n",
              "      <td>Aristotle - Complete Works</td>\n",
              "      <td>Aristotle</td>\n",
              "      <td>aristotle</td>\n",
              "      <td>(In, size, it, resembles, an, ox, ,, while, the, form, of, its, face, is, like, that, of, a, stag, .)</td>\n",
              "      <td>In size it resembles an ox, while the form of its face is like that of a stag.</td>\n",
              "    </tr>\n",
              "    <tr>\n",
              "      <th>265882</th>\n",
              "      <td>Being And Time</td>\n",
              "      <td>Heidegger</td>\n",
              "      <td>phenomenology</td>\n",
              "      <td>(my, ook, is, missing, ,, etc, .)</td>\n",
              "      <td>my ook is missing, etc.</td>\n",
              "    </tr>\n",
              "    <tr>\n",
              "      <th>89425</th>\n",
              "      <td>Aristotle - Complete Works</td>\n",
              "      <td>Aristotle</td>\n",
              "      <td>aristotle</td>\n",
              "      <td>(And, the, magnificent, man, will, spend, such, sums, for, the, sake, of, the, noble, ;, for, this, is, common, to, the, excellences, .)</td>\n",
              "      <td>And the magnificent man will spend such sums for the sake of the noble; for this is common to the excellences.</td>\n",
              "    </tr>\n",
              "    <tr>\n",
              "      <th>254284</th>\n",
              "      <td>The Crisis Of The European Sciences And Phenomenology</td>\n",
              "      <td>Husserl</td>\n",
              "      <td>phenomenology</td>\n",
              "      <td>(Rather, than, beginning, with, the, latter, ,, psychology, began, with, a, concept, of, soul, which, was, not, at, all, formulated, in, an, original, way, but, which, stemmed, from, Cartesian, du...</td>\n",
              "      <td>Rather than beginning with the latter, psychology began with a concept of soul which was not at all formulated in an original way but which stemmed from Cartesian dualism, a concept furnished by a...</td>\n",
              "    </tr>\n",
              "    <tr>\n",
              "      <th>117431</th>\n",
              "      <td>A Treatise Of Human Nature</td>\n",
              "      <td>Hume</td>\n",
              "      <td>empiricism</td>\n",
              "      <td>(There, could, not, naturally, ,, therefore, ,, arise, any, obligation, from, a, promise, ,, even, supposing, the, mind, could, fall, into, the, absurdity, of, willing, that, obligation, .)</td>\n",
              "      <td>There could not naturally, therefore, arise any obligation from a promise, even supposing the mind could fall into the absurdity of willing that obligation.</td>\n",
              "    </tr>\n",
              "    <tr>\n",
              "      <th>91114</th>\n",
              "      <td>Aristotle - Complete Works</td>\n",
              "      <td>Aristotle</td>\n",
              "      <td>aristotle</td>\n",
              "      <td>(For, to, get, anyone, whatever, anyone, who, is, put, before, us, into, the, right, condition, is, not, for, the, first, chance, comer, ;, if, anyone, can, do, it, ,, it, is, the, man, who, knows...</td>\n",
              "      <td>For to get anyone whatever anyone who is put before us into the right condition is not for the first chance comer; if anyone can do it, it is the man who knows, just as in medicine and all other m...</td>\n",
              "    </tr>\n",
              "    <tr>\n",
              "      <th>78659</th>\n",
              "      <td>Aristotle - Complete Works</td>\n",
              "      <td>Aristotle</td>\n",
              "      <td>aristotle</td>\n",
              "      <td>(But, greenness, does, not, persist, ,, nor, indeed, come, into, existence, without, the, presence, of, moisture, ,, and, is, of, the, element, of, earth, ,, and, is, the, intermediate, colour, be...</td>\n",
              "      <td>But greenness does not persist, nor indeed come into existence without the presence of moisture, and is of the element of earth, and is the intermediate colour between that of earth and water.</td>\n",
              "    </tr>\n",
              "    <tr>\n",
              "      <th>274008</th>\n",
              "      <td>Critique Of Practical Reason</td>\n",
              "      <td>Kant</td>\n",
              "      <td>german_idealism</td>\n",
              "      <td>(For, ,, as, long, as, people, had, not, yet, framed, any, determinate, concepts, of, morality, and, freedom, ,, they, could, not, divine, ,, on, the, one, hand, ,, on, what, ,, as, noumenon, ,, t...</td>\n",
              "      <td>For, as long as people had not yet framed any determinate concepts of morality and freedom, they could not divine, on the one hand, on what, as noumenon, they were to base the alleged appearance, ...</td>\n",
              "    </tr>\n",
              "    <tr>\n",
              "      <th>29303</th>\n",
              "      <td>Plato - Complete Works</td>\n",
              "      <td>Plato</td>\n",
              "      <td>plato</td>\n",
              "      <td>(Certainly, .)</td>\n",
              "      <td>Certainly.</td>\n",
              "    </tr>\n",
              "  </tbody>\n",
              "</table>\n",
              "</div>"
            ],
            "text/plain": [
              "                                                          title  ...                                                                                                                                                                                             sentence_str\n",
              "121993  A Treatise Concerning The Principles Of Human Knowledge  ...                                    Likewise the idea of man that I frame to myself must be either of a white, or a black, or a tawny, a straight, or a crooked, a tall, or a low, or a middle sized man.\n",
              "77887                                Aristotle - Complete Works  ...                                                                                                                           In size it resembles an ox, while the form of its face is like that of a stag.\n",
              "265882                                           Being And Time  ...                                                                                                                                                                                  my ook is missing, etc.\n",
              "89425                                Aristotle - Complete Works  ...                                                                                           And the magnificent man will spend such sums for the sake of the noble; for this is common to the excellences.\n",
              "254284    The Crisis Of The European Sciences And Phenomenology  ...  Rather than beginning with the latter, psychology began with a concept of soul which was not at all formulated in an original way but which stemmed from Cartesian dualism, a concept furnished by a...\n",
              "117431                               A Treatise Of Human Nature  ...                                             There could not naturally, therefore, arise any obligation from a promise, even supposing the mind could fall into the absurdity of willing that obligation.\n",
              "91114                                Aristotle - Complete Works  ...  For to get anyone whatever anyone who is put before us into the right condition is not for the first chance comer; if anyone can do it, it is the man who knows, just as in medicine and all other m...\n",
              "78659                                Aristotle - Complete Works  ...         But greenness does not persist, nor indeed come into existence without the presence of moisture, and is of the element of earth, and is the intermediate colour between that of earth and water.\n",
              "274008                             Critique Of Practical Reason  ...  For, as long as people had not yet framed any determinate concepts of morality and freedom, they could not divine, on the one hand, on what, as noumenon, they were to base the alleged appearance, ...\n",
              "29303                                    Plato - Complete Works  ...                                                                                                                                                                                               Certainly.\n",
              "\n",
              "[10 rows x 5 columns]"
            ]
          },
          "metadata": {
            "tags": []
          },
          "execution_count": 46
        }
      ]
    },
    {
      "cell_type": "code",
      "metadata": {
        "colab": {
          "base_uri": "https://localhost:8080/"
        },
        "id": "EFFcGwHUwTKv",
        "outputId": "53b83997-a032-4896-fa98-39b7d30608f9"
      },
      "source": [
        "df['school'].value_counts(normalize=True)"
      ],
      "execution_count": null,
      "outputs": [
        {
          "output_type": "execute_result",
          "data": {
            "text/plain": [
              "analytic           0.160864\n",
              "aristotle          0.148695\n",
              "plato              0.132042\n",
              "german_idealism    0.131232\n",
              "continental        0.097232\n",
              "phenomenology      0.083793\n",
              "rationalism        0.072214\n",
              "empiricism         0.057397\n",
              "communism          0.057100\n",
              "capitalism         0.052164\n",
              "stoicism           0.007269\n",
              "Name: school, dtype: float64"
            ]
          },
          "metadata": {
            "tags": []
          },
          "execution_count": 47
        }
      ]
    },
    {
      "cell_type": "code",
      "metadata": {
        "colab": {
          "base_uri": "https://localhost:8080/",
          "height": 1000
        },
        "id": "SujsiUfnsfvU",
        "outputId": "04e41f6b-d4eb-4dda-a4b4-626bde210fc3"
      },
      "source": [
        "# use this cell to check the new author's sentences and see if anything seems amiss\r\n",
        "print(len(df[df['author']=='Marcus Aurelius']))\r\n",
        "df[df['author']=='Marcus Aurelius'].sample(20)"
      ],
      "execution_count": null,
      "outputs": [
        {
          "output_type": "stream",
          "text": [
            "2311\n"
          ],
          "name": "stdout"
        },
        {
          "output_type": "execute_result",
          "data": {
            "text/html": [
              "<div>\n",
              "<style scoped>\n",
              "    .dataframe tbody tr th:only-of-type {\n",
              "        vertical-align: middle;\n",
              "    }\n",
              "\n",
              "    .dataframe tbody tr th {\n",
              "        vertical-align: top;\n",
              "    }\n",
              "\n",
              "    .dataframe thead th {\n",
              "        text-align: right;\n",
              "    }\n",
              "</style>\n",
              "<table border=\"1\" class=\"dataframe\">\n",
              "  <thead>\n",
              "    <tr style=\"text-align: right;\">\n",
              "      <th></th>\n",
              "      <th>title</th>\n",
              "      <th>author</th>\n",
              "      <th>school</th>\n",
              "      <th>sentence_spacy</th>\n",
              "      <th>sentence_str</th>\n",
              "    </tr>\n",
              "  </thead>\n",
              "  <tbody>\n",
              "    <tr>\n",
              "      <th>363659</th>\n",
              "      <td>Meditations</td>\n",
              "      <td>Marcus Aurelius</td>\n",
              "      <td>stoicism</td>\n",
              "      <td>(So, is, the, generation, of, men, ;, some, come, into, the, world, ,, and, others, go, out, of, it, ., ')</td>\n",
              "      <td>So is the generation of men; some come into the world, and others go out of it.'</td>\n",
              "    </tr>\n",
              "    <tr>\n",
              "      <th>362763</th>\n",
              "      <td>Meditations</td>\n",
              "      <td>Marcus Aurelius</td>\n",
              "      <td>stoicism</td>\n",
              "      <td>(For, if, thou, shalt, not, be, sensible, of, thine, innocence, ;, if, that, also, shall, be, gone, from, thee, ,, the, comfort, of, a, good, conscience, ,, that, thou, doest, all, things, accordi...</td>\n",
              "      <td>For if thou shalt not be sensible of thine innocence; if that also shall be gone from thee, the comfort of a good conscience, that thou doest all things according to reason: what shouldest thou li...</td>\n",
              "    </tr>\n",
              "    <tr>\n",
              "      <th>362648</th>\n",
              "      <td>Meditations</td>\n",
              "      <td>Marcus Aurelius</td>\n",
              "      <td>stoicism</td>\n",
              "      <td>(but, so, many, pounds, ,, and, not, three, hundred, rather, ?)</td>\n",
              "      <td>but so many pounds, and not three hundred rather?</td>\n",
              "    </tr>\n",
              "    <tr>\n",
              "      <th>363895</th>\n",
              "      <td>Meditations</td>\n",
              "      <td>Marcus Aurelius</td>\n",
              "      <td>stoicism</td>\n",
              "      <td>(heretofore, either, done, or, said, ;, and, all, troublesome, thoughts, concerning, the, future, ,, and, whatsoever, ,, (, as, either, belonging, to, thy, body, or, life, :, ))</td>\n",
              "      <td>heretofore either done or said; and all troublesome thoughts concerning the future, and whatsoever, (as either belonging to thy body or life:)</td>\n",
              "    </tr>\n",
              "    <tr>\n",
              "      <th>362180</th>\n",
              "      <td>Meditations</td>\n",
              "      <td>Marcus Aurelius</td>\n",
              "      <td>stoicism</td>\n",
              "      <td>(thou, think, that, a, mischance, to, the, nature, of, man, ,, which, is, not, contrary, to, the, end, and, will, of, his, nature, ?)</td>\n",
              "      <td>thou think that a mischance to the nature of man, which is not contrary to the end and will of his nature?</td>\n",
              "    </tr>\n",
              "    <tr>\n",
              "      <th>362344</th>\n",
              "      <td>Meditations</td>\n",
              "      <td>Marcus Aurelius</td>\n",
              "      <td>stoicism</td>\n",
              "      <td>(And, truly, ,, if, either, he, that, is, ignorant, that, such, a, thing, hath, happened, unto, him, ,, or, he, that, is, ambitious, to, be, commended, for, his, magnanimity, ,, can, be, patient, ...</td>\n",
              "      <td>And truly, if either he that is ignorant that such a thing hath happened unto him, or he that is ambitious to be commended for his magnanimity, can be patient, and is not grieved:</td>\n",
              "    </tr>\n",
              "    <tr>\n",
              "      <th>362124</th>\n",
              "      <td>Meditations</td>\n",
              "      <td>Marcus Aurelius</td>\n",
              "      <td>stoicism</td>\n",
              "      <td>(And, here, thou, must, remember, ,, that, thy, carriage, in, every, business, must, be, according, to, the, worth, and, due, proportion, of, it, ,, for, so, shalt, thou, not, easily, be, tired, o...</td>\n",
              "      <td>And here thou must remember, that thy carriage in every business must be according to the worth and due proportion of it, for so shalt thou not easily be tired out and vexed, if thou shalt not dwe...</td>\n",
              "    </tr>\n",
              "    <tr>\n",
              "      <th>363105</th>\n",
              "      <td>Meditations</td>\n",
              "      <td>Marcus Aurelius</td>\n",
              "      <td>stoicism</td>\n",
              "      <td>(or, either, Chabrias, or, Diotimus, by, that, of, Adrianus, ?)</td>\n",
              "      <td>or either Chabrias or Diotimus by that of Adrianus?</td>\n",
              "    </tr>\n",
              "    <tr>\n",
              "      <th>361891</th>\n",
              "      <td>Meditations</td>\n",
              "      <td>Marcus Aurelius</td>\n",
              "      <td>stoicism</td>\n",
              "      <td>(This, also, thou, must, observe, ,)</td>\n",
              "      <td>This also thou must observe,</td>\n",
              "    </tr>\n",
              "    <tr>\n",
              "      <th>362591</th>\n",
              "      <td>Meditations</td>\n",
              "      <td>Marcus Aurelius</td>\n",
              "      <td>stoicism</td>\n",
              "      <td>(But, in, things, natural, ,, that, power, which, hath, framed, and, fitted, them, ,, is, and, abideth, within, them, still, :)</td>\n",
              "      <td>But in things natural, that power which hath framed and fitted them, is and abideth within them still:</td>\n",
              "    </tr>\n",
              "    <tr>\n",
              "      <th>363608</th>\n",
              "      <td>Meditations</td>\n",
              "      <td>Marcus Aurelius</td>\n",
              "      <td>stoicism</td>\n",
              "      <td>(Ever, to, mind, and, consider, with, thyself, ;, how, all, things, that, now, are, ,, have, been, heretofore, much, after, the, same, sort, ,, and, after, the, same, fashion)</td>\n",
              "      <td>Ever to mind and consider with thyself; how all things that now are, have been heretofore much after the same sort, and after the same fashion</td>\n",
              "    </tr>\n",
              "    <tr>\n",
              "      <th>363259</th>\n",
              "      <td>Meditations</td>\n",
              "      <td>Marcus Aurelius</td>\n",
              "      <td>stoicism</td>\n",
              "      <td>(However, ,, this, thou)</td>\n",
              "      <td>However, this thou</td>\n",
              "    </tr>\n",
              "    <tr>\n",
              "      <th>362823</th>\n",
              "      <td>Meditations</td>\n",
              "      <td>Marcus Aurelius</td>\n",
              "      <td>stoicism</td>\n",
              "      <td>(How, all, things, upon, earth, are, pell, mell, ;, and, how, miraculously, things, contrary)</td>\n",
              "      <td>How all things upon earth are pell mell; and how miraculously things contrary</td>\n",
              "    </tr>\n",
              "    <tr>\n",
              "      <th>363455</th>\n",
              "      <td>Meditations</td>\n",
              "      <td>Marcus Aurelius</td>\n",
              "      <td>stoicism</td>\n",
              "      <td>(For, without, all, question, ,, thou, thyself, art, much, in, fault, ,, if, either, of, one, that, were, of, such, a, disposition, ,, thou, didst, expect, that, he, should, be, true, unto, thee, ...</td>\n",
              "      <td>For without all question, thou thyself art much in fault, if either of one that were of such a disposition, thou didst expect that he should be true unto thee: or when unto any thou didst a good t...</td>\n",
              "    </tr>\n",
              "    <tr>\n",
              "      <th>363151</th>\n",
              "      <td>Meditations</td>\n",
              "      <td>Marcus Aurelius</td>\n",
              "      <td>stoicism</td>\n",
              "      <td>(As, nothing, can, happen, either, to, an, ox, ,, a, vine, ,, or, to, a, stone, ,, which, is, not, incidental, unto, them, ;, unto, every, one, in, his, own, kind, .)</td>\n",
              "      <td>As nothing can happen either to an ox, a vine, or to a stone, which is not incidental unto them; unto every one in his own kind.</td>\n",
              "    </tr>\n",
              "    <tr>\n",
              "      <th>361963</th>\n",
              "      <td>Meditations</td>\n",
              "      <td>Marcus Aurelius</td>\n",
              "      <td>stoicism</td>\n",
              "      <td>(And, as, for, this, ,, it, proceeds, from, my, neighbour, ,, my, kinsman, ,, my, fellow, :, through, his, ignorance, indeed, ,, because, he, knows, not, what, is, truly, natural, unto, him, :, bu...</td>\n",
              "      <td>And as for this, it proceeds from my neighbour, my kinsman, my fellow: through his ignorance indeed, because he knows not what is truly natural unto him: but I know it, and therefore carry myself ...</td>\n",
              "    </tr>\n",
              "    <tr>\n",
              "      <th>362513</th>\n",
              "      <td>Meditations</td>\n",
              "      <td>Marcus Aurelius</td>\n",
              "      <td>stoicism</td>\n",
              "      <td>(What, else, doth, the, education, of, children, ,, and, all, learned, professions, tend, unto, ?)</td>\n",
              "      <td>What else doth the education of children, and all learned professions tend unto?</td>\n",
              "    </tr>\n",
              "    <tr>\n",
              "      <th>363267</th>\n",
              "      <td>Meditations</td>\n",
              "      <td>Marcus Aurelius</td>\n",
              "      <td>stoicism</td>\n",
              "      <td>(He, that, is, unjust, ,, hurts, himself, ,, in, that, he, makes, himself, worse, than, he, was, before, .)</td>\n",
              "      <td>He that is unjust, hurts himself, in that he makes himself worse than he was before.</td>\n",
              "    </tr>\n",
              "    <tr>\n",
              "      <th>363357</th>\n",
              "      <td>Meditations</td>\n",
              "      <td>Marcus Aurelius</td>\n",
              "      <td>stoicism</td>\n",
              "      <td>(man, !)</td>\n",
              "      <td>man!</td>\n",
              "    </tr>\n",
              "    <tr>\n",
              "      <th>362137</th>\n",
              "      <td>Meditations</td>\n",
              "      <td>Marcus Aurelius</td>\n",
              "      <td>stoicism</td>\n",
              "      <td>(For, if, thou, think, that, that, only, is, seed, ,, which, either, the, earth, or, the, womb, receiveth, ,, thou, art, very, simple, .)</td>\n",
              "      <td>For if thou think that that only is seed, which either the earth or the womb receiveth, thou art very simple.</td>\n",
              "    </tr>\n",
              "  </tbody>\n",
              "</table>\n",
              "</div>"
            ],
            "text/plain": [
              "              title  ...                                                                                                                                                                                             sentence_str\n",
              "363659  Meditations  ...                                                                                                                         So is the generation of men; some come into the world, and others go out of it.'\n",
              "362763  Meditations  ...  For if thou shalt not be sensible of thine innocence; if that also shall be gone from thee, the comfort of a good conscience, that thou doest all things according to reason: what shouldest thou li...\n",
              "362648  Meditations  ...                                                                                                                                                        but so many pounds, and not three hundred rather?\n",
              "363895  Meditations  ...                                                           heretofore either done or said; and all troublesome thoughts concerning the future, and whatsoever, (as either belonging to thy body or life:)\n",
              "362180  Meditations  ...                                                                                               thou think that a mischance to the nature of man, which is not contrary to the end and will of his nature?\n",
              "362344  Meditations  ...                      And truly, if either he that is ignorant that such a thing hath happened unto him, or he that is ambitious to be commended for his magnanimity, can be patient, and is not grieved:\n",
              "362124  Meditations  ...  And here thou must remember, that thy carriage in every business must be according to the worth and due proportion of it, for so shalt thou not easily be tired out and vexed, if thou shalt not dwe...\n",
              "363105  Meditations  ...                                                                                                                                                      or either Chabrias or Diotimus by that of Adrianus?\n",
              "361891  Meditations  ...                                                                                                                                                                             This also thou must observe,\n",
              "362591  Meditations  ...                                                                                                   But in things natural, that power which hath framed and fitted them, is and abideth within them still:\n",
              "363608  Meditations  ...                                                           Ever to mind and consider with thyself; how all things that now are, have been heretofore much after the same sort, and after the same fashion\n",
              "363259  Meditations  ...                                                                                                                                                                                       However, this thou\n",
              "362823  Meditations  ...                                                                                                                            How all things upon earth are pell mell; and how miraculously things contrary\n",
              "363455  Meditations  ...  For without all question, thou thyself art much in fault, if either of one that were of such a disposition, thou didst expect that he should be true unto thee: or when unto any thou didst a good t...\n",
              "363151  Meditations  ...                                                                         As nothing can happen either to an ox, a vine, or to a stone, which is not incidental unto them; unto every one in his own kind.\n",
              "361963  Meditations  ...  And as for this, it proceeds from my neighbour, my kinsman, my fellow: through his ignorance indeed, because he knows not what is truly natural unto him: but I know it, and therefore carry myself ...\n",
              "362513  Meditations  ...                                                                                                                         What else doth the education of children, and all learned professions tend unto?\n",
              "363267  Meditations  ...                                                                                                                     He that is unjust, hurts himself, in that he makes himself worse than he was before.\n",
              "363357  Meditations  ...                                                                                                                                                                                                     man!\n",
              "362137  Meditations  ...                                                                                            For if thou think that that only is seed, which either the earth or the womb receiveth, thou art very simple.\n",
              "\n",
              "[20 rows x 5 columns]"
            ]
          },
          "metadata": {
            "tags": []
          },
          "execution_count": 48
        }
      ]
    },
    {
      "cell_type": "markdown",
      "metadata": {
        "id": "xsIOtvZsMkdx"
      },
      "source": [
        "### Cleaning the Dataframe "
      ]
    },
    {
      "cell_type": "markdown",
      "metadata": {
        "id": "zuTIcCizMweb"
      },
      "source": [
        "But before the fun stuff, to ensure that we get good results, we need to clean the dataframe. This will take a few steps:\r\n",
        "1. Determine a threshold length and cut the (so-called) sentences that are shorter than that length (this will already eliminate meaningless duplicates like punctuations)\r\n",
        "2. Check for words that indicate footnotes (words like 'edition' or 'ibid'); we can then cut these sentences from the data\r\n",
        "3. Check for duplicates; there should be few if any duplicates in the dataframe for each school\r\n",
        "4. Check for words that indicate other languages so that we can eliminate quotations, citations, or other non-English sentences"
      ]
    },
    {
      "cell_type": "markdown",
      "metadata": {
        "id": "WI3KwHHVM8ck"
      },
      "source": [
        "#### 1. Deal with Short Sentences"
      ]
    },
    {
      "cell_type": "code",
      "metadata": {
        "colab": {
          "base_uri": "https://localhost:8080/",
          "height": 213
        },
        "id": "LLkVXKfIwcup",
        "outputId": "7a69ad5a-f8f5-4df3-f903-c8f8a9c59afa"
      },
      "source": [
        "df['sentence_length'] = df['sentence_str'].map(lambda x: len(x))\r\n",
        "num_of_short_entries = len(df[df['sentence_length'] < 20])\r\n",
        "print(f\"there are {num_of_short_entries} so-called sentences with fewer than 20 characters\")\r\n",
        "df[df['sentence_length'] < 20].sample(5)"
      ],
      "execution_count": null,
      "outputs": [
        {
          "output_type": "stream",
          "text": [
            "there are 30083 so-called sentences with fewer than 20 characters\n"
          ],
          "name": "stdout"
        },
        {
          "output_type": "execute_result",
          "data": {
            "text/html": [
              "<div>\n",
              "<style scoped>\n",
              "    .dataframe tbody tr th:only-of-type {\n",
              "        vertical-align: middle;\n",
              "    }\n",
              "\n",
              "    .dataframe tbody tr th {\n",
              "        vertical-align: top;\n",
              "    }\n",
              "\n",
              "    .dataframe thead th {\n",
              "        text-align: right;\n",
              "    }\n",
              "</style>\n",
              "<table border=\"1\" class=\"dataframe\">\n",
              "  <thead>\n",
              "    <tr style=\"text-align: right;\">\n",
              "      <th></th>\n",
              "      <th>title</th>\n",
              "      <th>author</th>\n",
              "      <th>school</th>\n",
              "      <th>sentence_spacy</th>\n",
              "      <th>sentence_str</th>\n",
              "      <th>sentence_length</th>\n",
              "    </tr>\n",
              "  </thead>\n",
              "  <tbody>\n",
              "    <tr>\n",
              "      <th>327412</th>\n",
              "      <td>Capital</td>\n",
              "      <td>Marx</td>\n",
              "      <td>communism</td>\n",
              "      <td>((, Reports, ,, andc, .)</td>\n",
              "      <td>(Reports, andc.</td>\n",
              "      <td>15</td>\n",
              "    </tr>\n",
              "    <tr>\n",
              "      <th>166236</th>\n",
              "      <td>Lewis - Papers</td>\n",
              "      <td>Lewis</td>\n",
              "      <td>analytic</td>\n",
              "      <td>(Argle, .)</td>\n",
              "      <td>Argle.</td>\n",
              "      <td>6</td>\n",
              "    </tr>\n",
              "    <tr>\n",
              "      <th>276783</th>\n",
              "      <td>Critique Of Practical Reason</td>\n",
              "      <td>Kant</td>\n",
              "      <td>german_idealism</td>\n",
              "      <td>(Gr, .)</td>\n",
              "      <td>Gr.</td>\n",
              "      <td>3</td>\n",
              "    </tr>\n",
              "    <tr>\n",
              "      <th>237242</th>\n",
              "      <td>Anti-Oedipus</td>\n",
              "      <td>Deleuze</td>\n",
              "      <td>continental</td>\n",
              "      <td>(I)</td>\n",
              "      <td>I</td>\n",
              "      <td>1</td>\n",
              "    </tr>\n",
              "    <tr>\n",
              "      <th>28823</th>\n",
              "      <td>Plato - Complete Works</td>\n",
              "      <td>Plato</td>\n",
              "      <td>plato</td>\n",
              "      <td>(I)</td>\n",
              "      <td>I</td>\n",
              "      <td>1</td>\n",
              "    </tr>\n",
              "  </tbody>\n",
              "</table>\n",
              "</div>"
            ],
            "text/plain": [
              "                               title   author  ...     sentence_str sentence_length\n",
              "327412                       Capital     Marx  ...  (Reports, andc.              15\n",
              "166236                Lewis - Papers    Lewis  ...           Argle.               6\n",
              "276783  Critique Of Practical Reason     Kant  ...              Gr.               3\n",
              "237242                  Anti-Oedipus  Deleuze  ...                I               1\n",
              "28823         Plato - Complete Works    Plato  ...                I               1\n",
              "\n",
              "[5 rows x 6 columns]"
            ]
          },
          "metadata": {
            "tags": []
          },
          "execution_count": 49
        }
      ]
    },
    {
      "cell_type": "code",
      "metadata": {
        "colab": {
          "base_uri": "https://localhost:8080/"
        },
        "id": "2FOolcqOwcgz",
        "outputId": "daba4664-62f2-41f1-c9bc-c12624529a3b"
      },
      "source": [
        "df = df.drop(df[df['sentence_length'] < 20].index)\r\n",
        "len(df)"
      ],
      "execution_count": null,
      "outputs": [
        {
          "output_type": "execute_result",
          "data": {
            "text/plain": [
              "333945"
            ]
          },
          "metadata": {
            "tags": []
          },
          "execution_count": 50
        }
      ]
    },
    {
      "cell_type": "markdown",
      "metadata": {
        "id": "KaxL3byaM-RA"
      },
      "source": [
        "#### 2. Look at Words that Indicate Footnotes"
      ]
    },
    {
      "cell_type": "code",
      "metadata": {
        "colab": {
          "base_uri": "https://localhost:8080/"
        },
        "id": "SRM_W5p3wbkE",
        "outputId": "49516dd5-9878-4581-f539-77812ceea087"
      },
      "source": [
        "fn_words = ['ch\\.', 'bk', 'sect\\.', 'div\\.', 'cf', 'ibid', 'prop\\.', 'Q\\.E\\.D\\.',\r\n",
        "            'pt\\.', 'coroll\\.', 'cf\\.']\r\n",
        "\r\n",
        "df['sentence_lowered'] = df['sentence_str'].map(lambda x: x.lower())\r\n",
        "\r\n",
        "fn_df = pd.DataFrame()\r\n",
        "for word in fn_words:\r\n",
        "  found_word = df[df['sentence_lowered'].str.contains('\\s' + word.lower())].copy()\r\n",
        "  found_word['word'] = word\r\n",
        "  fn_df = fn_df.append(found_word)\r\n",
        "\r\n",
        "len(fn_df)"
      ],
      "execution_count": null,
      "outputs": [
        {
          "output_type": "execute_result",
          "data": {
            "text/plain": [
              "705"
            ]
          },
          "metadata": {
            "tags": []
          },
          "execution_count": 51
        }
      ]
    },
    {
      "cell_type": "code",
      "metadata": {
        "colab": {
          "base_uri": "https://localhost:8080/",
          "height": 598
        },
        "id": "PyjxVFLmwirp",
        "outputId": "44b5ecd2-cbed-4984-8eda-49fdf30da216"
      },
      "source": [
        "fn_df.sample(5)"
      ],
      "execution_count": null,
      "outputs": [
        {
          "output_type": "execute_result",
          "data": {
            "text/html": [
              "<div>\n",
              "<style scoped>\n",
              "    .dataframe tbody tr th:only-of-type {\n",
              "        vertical-align: middle;\n",
              "    }\n",
              "\n",
              "    .dataframe tbody tr th {\n",
              "        vertical-align: top;\n",
              "    }\n",
              "\n",
              "    .dataframe thead th {\n",
              "        text-align: right;\n",
              "    }\n",
              "</style>\n",
              "<table border=\"1\" class=\"dataframe\">\n",
              "  <thead>\n",
              "    <tr style=\"text-align: right;\">\n",
              "      <th></th>\n",
              "      <th>title</th>\n",
              "      <th>author</th>\n",
              "      <th>school</th>\n",
              "      <th>sentence_spacy</th>\n",
              "      <th>sentence_str</th>\n",
              "      <th>sentence_length</th>\n",
              "      <th>sentence_lowered</th>\n",
              "      <th>word</th>\n",
              "    </tr>\n",
              "  </thead>\n",
              "  <tbody>\n",
              "    <tr>\n",
              "      <th>274421</th>\n",
              "      <td>Critique Of Practical Reason</td>\n",
              "      <td>Kant</td>\n",
              "      <td>german_idealism</td>\n",
              "      <td>(Therefore, pleasure, is, practical, only, insofar, as, the, sensation, of, agreeableness, that, the, subject, expects, from, the, object, 's, actuality, Cf, .)</td>\n",
              "      <td>Therefore pleasure is practical only insofar as the sensation of agreeableness that the subject expects from the object's actuality Cf.</td>\n",
              "      <td>135</td>\n",
              "      <td>therefore pleasure is practical only insofar as the sensation of agreeableness that the subject expects from the object's actuality cf.</td>\n",
              "      <td>cf</td>\n",
              "    </tr>\n",
              "    <tr>\n",
              "      <th>306432</th>\n",
              "      <td>Science Of Logic</td>\n",
              "      <td>Hegel</td>\n",
              "      <td>german_idealism</td>\n",
              "      <td>(But, as, the, unifying, means, ,, the, middle, Cf, .)</td>\n",
              "      <td>But as the unifying means, the middle Cf.</td>\n",
              "      <td>41</td>\n",
              "      <td>but as the unifying means, the middle cf.</td>\n",
              "      <td>cf</td>\n",
              "    </tr>\n",
              "    <tr>\n",
              "      <th>305721</th>\n",
              "      <td>Science Of Logic</td>\n",
              "      <td>Hegel</td>\n",
              "      <td>german_idealism</td>\n",
              "      <td>(Or, what, has, been, shown, on, closer, inspection, of, the, content, of, the, syllogism, of, reflection, is, that, the, singular, stands, connected, to, its, predicate, immediately, ,, not, by, ...</td>\n",
              "      <td>Or what has been shown on closer inspection of the content of the syllogism of reflection is that the singular stands connected to its predicate immediately, not by way of an inference, and that t...</td>\n",
              "      <td>402</td>\n",
              "      <td>or what has been shown on closer inspection of the content of the syllogism of reflection is that the singular stands connected to its predicate immediately, not by way of an inference, and that t...</td>\n",
              "      <td>cf\\.</td>\n",
              "    </tr>\n",
              "    <tr>\n",
              "      <th>115109</th>\n",
              "      <td>A Treatise Of Human Nature</td>\n",
              "      <td>Hume</td>\n",
              "      <td>empiricism</td>\n",
              "      <td>(The, relations, of, blood, ,, being, a, species, of, causation, ,, may, sometimes, contribute, to, the, same, effect, ;, as, also, acquaintance, ,, which, operates, in, the, same, manner, with, e...</td>\n",
              "      <td>The relations of blood, being a species of causation, may sometimes contribute to the same effect; as also acquaintance, which operates in the same manner with education and custom; as we shall se...</td>\n",
              "      <td>219</td>\n",
              "      <td>the relations of blood, being a species of causation, may sometimes contribute to the same effect; as also acquaintance, which operates in the same manner with education and custom; as we shall se...</td>\n",
              "      <td>sect\\.</td>\n",
              "    </tr>\n",
              "    <tr>\n",
              "      <th>123471</th>\n",
              "      <td>Ethics</td>\n",
              "      <td>Spinoza</td>\n",
              "      <td>rationalism</td>\n",
              "      <td>(;, but, it, is, not, limited, by, thought, itself, ,, in, so, far, as, it, has, constituted, the, idea, of, God, (, for, so, far, it, is, supposed, to, be, finite, ), ;, therefore, ,, it, is, lim...</td>\n",
              "      <td>; but it is not limited by thought itself, in so far as it has constituted the idea of God (for so far it is supposed to be finite); therefore, it is limited by thought, in so far as it has not co...</td>\n",
              "      <td>256</td>\n",
              "      <td>; but it is not limited by thought itself, in so far as it has constituted the idea of god (for so far it is supposed to be finite); therefore, it is limited by thought, in so far as it has not co...</td>\n",
              "      <td>prop\\.</td>\n",
              "    </tr>\n",
              "  </tbody>\n",
              "</table>\n",
              "</div>"
            ],
            "text/plain": [
              "                               title  ...    word\n",
              "274421  Critique Of Practical Reason  ...      cf\n",
              "306432              Science Of Logic  ...      cf\n",
              "305721              Science Of Logic  ...    cf\\.\n",
              "115109    A Treatise Of Human Nature  ...  sect\\.\n",
              "123471                        Ethics  ...  prop\\.\n",
              "\n",
              "[5 rows x 8 columns]"
            ]
          },
          "metadata": {
            "tags": []
          },
          "execution_count": 52
        }
      ]
    },
    {
      "cell_type": "markdown",
      "metadata": {
        "id": "MqiX6cbVNDPw"
      },
      "source": [
        "Unfortunately, there was too much noise and too many differences in how the sentences were tokenized, so this kind of cleaning did not prove useful. As can be seen above, many of the relevant terms were used in meaningful sentences attributable to the correct authors. \r\n",
        "\r\n",
        "We were able to tell that 'bk.' was almost never used productively, so we cut that. For others, this was instructive in helping us clean the text and making revisions to the baseline cleaning function."
      ]
    },
    {
      "cell_type": "code",
      "metadata": {
        "colab": {
          "base_uri": "https://localhost:8080/"
        },
        "id": "y2NY8j7Ewj1Q",
        "outputId": "5abf771b-6818-477a-ed5e-1a787b49d9c2"
      },
      "source": [
        "df = df.drop(df[df['sentence_lowered'].str.contains('\\s+bk'.lower())].index)\r\n",
        "\r\n",
        "len(df)"
      ],
      "execution_count": null,
      "outputs": [
        {
          "output_type": "execute_result",
          "data": {
            "text/plain": [
              "333923"
            ]
          },
          "metadata": {
            "tags": []
          },
          "execution_count": 53
        }
      ]
    },
    {
      "cell_type": "markdown",
      "metadata": {
        "id": "MEqfL_K_NE7C"
      },
      "source": [
        "#### 3. Look at cases of Self-Mention by Authors"
      ]
    },
    {
      "cell_type": "code",
      "metadata": {
        "colab": {
          "base_uri": "https://localhost:8080/"
        },
        "id": "S7fhKsiFwj8K",
        "outputId": "10e574d8-2639-4b46-8c5b-c03d5704be77"
      },
      "source": [
        "self_mention_df = pd.DataFrame()\r\n",
        "for author in df['author'].unique():\r\n",
        "  self_mention_slice = df[(df['author'] == author) & \r\n",
        "                          (df['sentence_lowered'].str.contains('\\s'+author.lower()))].copy()\r\n",
        "  self_mention_df = self_mention_df.append(self_mention_slice)\r\n",
        "\r\n",
        "len(self_mention_df)"
      ],
      "execution_count": null,
      "outputs": [
        {
          "output_type": "execute_result",
          "data": {
            "text/plain": [
              "853"
            ]
          },
          "metadata": {
            "tags": []
          },
          "execution_count": 54
        }
      ]
    },
    {
      "cell_type": "code",
      "metadata": {
        "colab": {
          "base_uri": "https://localhost:8080/",
          "height": 514
        },
        "id": "0GFzGEz_wkFt",
        "outputId": "72457bd1-20cc-4fb1-b062-8f2d1e1f6029"
      },
      "source": [
        "self_mention_df.sample(5)"
      ],
      "execution_count": null,
      "outputs": [
        {
          "output_type": "execute_result",
          "data": {
            "text/html": [
              "<div>\n",
              "<style scoped>\n",
              "    .dataframe tbody tr th:only-of-type {\n",
              "        vertical-align: middle;\n",
              "    }\n",
              "\n",
              "    .dataframe tbody tr th {\n",
              "        vertical-align: top;\n",
              "    }\n",
              "\n",
              "    .dataframe thead th {\n",
              "        text-align: right;\n",
              "    }\n",
              "</style>\n",
              "<table border=\"1\" class=\"dataframe\">\n",
              "  <thead>\n",
              "    <tr style=\"text-align: right;\">\n",
              "      <th></th>\n",
              "      <th>title</th>\n",
              "      <th>author</th>\n",
              "      <th>school</th>\n",
              "      <th>sentence_spacy</th>\n",
              "      <th>sentence_str</th>\n",
              "      <th>sentence_length</th>\n",
              "      <th>sentence_lowered</th>\n",
              "    </tr>\n",
              "  </thead>\n",
              "  <tbody>\n",
              "    <tr>\n",
              "      <th>290383</th>\n",
              "      <td>Critique Of Pure Reason</td>\n",
              "      <td>Kant</td>\n",
              "      <td>german_idealism</td>\n",
              "      <td>(a, Added, in, Kant, 's, copy, of, the, first, edition, :)</td>\n",
              "      <td>a Added in Kant's copy of the first edition:</td>\n",
              "      <td>44</td>\n",
              "      <td>a added in kant's copy of the first edition:</td>\n",
              "    </tr>\n",
              "    <tr>\n",
              "      <th>331859</th>\n",
              "      <td>Capital</td>\n",
              "      <td>Marx</td>\n",
              "      <td>communism</td>\n",
              "      <td>(Next, :, Chapter, Seventeen, :, Changes, of, Magnitude, in, the, price, of, Labour, Power, and, in, Surplus, Value, Capital, Volume, One, Index, Karl, Marx, Capital, Volume, One, Part, V, :)</td>\n",
              "      <td>Next: Chapter Seventeen: Changes of Magnitude in the price of Labour Power and in Surplus Value Capital Volume One Index Karl Marx Capital Volume One Part V:</td>\n",
              "      <td>157</td>\n",
              "      <td>next: chapter seventeen: changes of magnitude in the price of labour power and in surplus value capital volume one index karl marx capital volume one part v:</td>\n",
              "    </tr>\n",
              "    <tr>\n",
              "      <th>290725</th>\n",
              "      <td>The System Of Ethics</td>\n",
              "      <td>Fichte</td>\n",
              "      <td>german_idealism</td>\n",
              "      <td>(In, the, original, edition, there, here, followed, two, pages, of, announcements, of, Fichte, 's, other, writings, that, had, appeared, with, the, same, publisher, and, a, Table, of, Contents, of...</td>\n",
              "      <td>In the original edition there here followed two pages of announcements of Fichte's other writings that had appeared with the same publisher and a Table of Contents of The System of Ethics, which h...</td>\n",
              "      <td>284</td>\n",
              "      <td>in the original edition there here followed two pages of announcements of fichte's other writings that had appeared with the same publisher and a table of contents of the system of ethics, which h...</td>\n",
              "    </tr>\n",
              "    <tr>\n",
              "      <th>274112</th>\n",
              "      <td>Critique Of Practical Reason</td>\n",
              "      <td>Kant</td>\n",
              "      <td>german_idealism</td>\n",
              "      <td>(However, ,, Daniel, Jenisch, ,, in, a, letter, to, Kant, dated)</td>\n",
              "      <td>However, Daniel Jenisch, in a letter to Kant dated</td>\n",
              "      <td>50</td>\n",
              "      <td>however, daniel jenisch, in a letter to kant dated</td>\n",
              "    </tr>\n",
              "    <tr>\n",
              "      <th>286016</th>\n",
              "      <td>Critique Of Pure Reason</td>\n",
              "      <td>Kant</td>\n",
              "      <td>german_idealism</td>\n",
              "      <td>(In, �, erted, in, Kant, 's, copy, of, the, first, edition, :, the, highest, concept, is, that, of, the, object, in, general, (, E, .)</td>\n",
              "      <td>In�erted in Kant's copy of the first edition: the highest concept is that of the object in general (E .</td>\n",
              "      <td>103</td>\n",
              "      <td>in�erted in kant's copy of the first edition: the highest concept is that of the object in general (e .</td>\n",
              "    </tr>\n",
              "  </tbody>\n",
              "</table>\n",
              "</div>"
            ],
            "text/plain": [
              "                               title  ...                                                                                                                                                                                         sentence_lowered\n",
              "290383       Critique Of Pure Reason  ...                                                                                                                                                             a added in kant's copy of the first edition:\n",
              "331859                       Capital  ...                                            next: chapter seventeen: changes of magnitude in the price of labour power and in surplus value capital volume one index karl marx capital volume one part v:\n",
              "290725          The System Of Ethics  ...  in the original edition there here followed two pages of announcements of fichte's other writings that had appeared with the same publisher and a table of contents of the system of ethics, which h...\n",
              "274112  Critique Of Practical Reason  ...                                                                                                                                                       however, daniel jenisch, in a letter to kant dated\n",
              "286016       Critique Of Pure Reason  ...                                                                                                  in�erted in kant's copy of the first edition: the highest concept is that of the object in general (e .\n",
              "\n",
              "[5 rows x 7 columns]"
            ]
          },
          "metadata": {
            "tags": []
          },
          "execution_count": 55
        }
      ]
    },
    {
      "cell_type": "code",
      "metadata": {
        "colab": {
          "base_uri": "https://localhost:8080/"
        },
        "id": "9vxUnQkTwkNo",
        "outputId": "5edf66ab-5ce9-42db-a364-242843c6520e"
      },
      "source": [
        "for author in df['author'].unique():\r\n",
        "  df = df.drop(df[(df['author'] == author) & \r\n",
        "                  (df['sentence_lowered'].str.contains('\\s'+author.lower()))].index)\r\n",
        "\r\n",
        "len(df)"
      ],
      "execution_count": null,
      "outputs": [
        {
          "output_type": "execute_result",
          "data": {
            "text/plain": [
              "333070"
            ]
          },
          "metadata": {
            "tags": []
          },
          "execution_count": 56
        }
      ]
    },
    {
      "cell_type": "markdown",
      "metadata": {
        "id": "uMxaZemLNKeH"
      },
      "source": [
        "#### 4. Deal with Duplicates"
      ]
    },
    {
      "cell_type": "code",
      "metadata": {
        "colab": {
          "base_uri": "https://localhost:8080/"
        },
        "id": "QzOcjqfYwkU4",
        "outputId": "10b8ff46-9d1e-4a14-ba91-84696acac4ad"
      },
      "source": [
        "# find the total number of duplicates\r\n",
        "len(df['sentence_str'])-len(df['sentence_str'].drop_duplicates())"
      ],
      "execution_count": null,
      "outputs": [
        {
          "output_type": "execute_result",
          "data": {
            "text/plain": [
              "4691"
            ]
          },
          "metadata": {
            "tags": []
          },
          "execution_count": 57
        }
      ]
    },
    {
      "cell_type": "code",
      "metadata": {
        "colab": {
          "base_uri": "https://localhost:8080/"
        },
        "id": "AtY8ZrQawvZC",
        "outputId": "c7634c68-b47f-4ed1-ef42-ae7bb52d01a9"
      },
      "source": [
        "# get the number of duplicates in each school\r\n",
        "for school in df['school'].unique():\r\n",
        "  print(school)\r\n",
        "  print(len(df.loc[df['school'] == school]['sentence_str']) - \r\n",
        "        len(df.loc[df['school'] == school]['sentence_str'].drop_duplicates()))"
      ],
      "execution_count": null,
      "outputs": [
        {
          "output_type": "stream",
          "text": [
            "plato\n",
            "291\n",
            "aristotle\n",
            "3351\n",
            "empiricism\n",
            "14\n",
            "rationalism\n",
            "39\n",
            "analytic\n",
            "289\n",
            "continental\n",
            "97\n",
            "phenomenology\n",
            "87\n",
            "german_idealism\n",
            "287\n",
            "communism\n",
            "84\n",
            "capitalism\n",
            "92\n",
            "stoicism\n",
            "0\n"
          ],
          "name": "stdout"
        }
      ]
    },
    {
      "cell_type": "code",
      "metadata": {
        "colab": {
          "base_uri": "https://localhost:8080/",
          "height": 447
        },
        "id": "juwoWPstwvgf",
        "outputId": "2225f13e-a80e-47cb-f38f-1fa73d7fbe21"
      },
      "source": [
        "doubles_df = pd.concat(g for _, g in df.groupby(\"sentence_str\") if len(g) > 1)\r\n",
        "doubles_df.sample(5)"
      ],
      "execution_count": null,
      "outputs": [
        {
          "output_type": "execute_result",
          "data": {
            "text/html": [
              "<div>\n",
              "<style scoped>\n",
              "    .dataframe tbody tr th:only-of-type {\n",
              "        vertical-align: middle;\n",
              "    }\n",
              "\n",
              "    .dataframe tbody tr th {\n",
              "        vertical-align: top;\n",
              "    }\n",
              "\n",
              "    .dataframe thead th {\n",
              "        text-align: right;\n",
              "    }\n",
              "</style>\n",
              "<table border=\"1\" class=\"dataframe\">\n",
              "  <thead>\n",
              "    <tr style=\"text-align: right;\">\n",
              "      <th></th>\n",
              "      <th>title</th>\n",
              "      <th>author</th>\n",
              "      <th>school</th>\n",
              "      <th>sentence_spacy</th>\n",
              "      <th>sentence_str</th>\n",
              "      <th>sentence_length</th>\n",
              "      <th>sentence_lowered</th>\n",
              "    </tr>\n",
              "  </thead>\n",
              "  <tbody>\n",
              "    <tr>\n",
              "      <th>83121</th>\n",
              "      <td>Aristotle - Complete Works</td>\n",
              "      <td>Aristotle</td>\n",
              "      <td>aristotle</td>\n",
              "      <td>(So, we, blame, a, man, who, is, a, slave, to, them, and, call, him, incontinent, and, intemperate, ,, because, he, is, a, slave, to, the, worst, pleasures, .)</td>\n",
              "      <td>So we blame a man who is a slave to them and call him incontinent and intemperate, because he is a slave to the worst pleasures.</td>\n",
              "      <td>128</td>\n",
              "      <td>so we blame a man who is a slave to them and call him incontinent and intemperate, because he is a slave to the worst pleasures.</td>\n",
              "    </tr>\n",
              "    <tr>\n",
              "      <th>191966</th>\n",
              "      <td>The Logic Of Scientific Discovery</td>\n",
              "      <td>Popper</td>\n",
              "      <td>analytic</td>\n",
              "      <td>(section, of, appendix, iv, ), .)</td>\n",
              "      <td>section of appendix iv).</td>\n",
              "      <td>24</td>\n",
              "      <td>section of appendix iv).</td>\n",
              "    </tr>\n",
              "    <tr>\n",
              "      <th>198085</th>\n",
              "      <td>Philosophical Troubles</td>\n",
              "      <td>Kripke</td>\n",
              "      <td>analytic</td>\n",
              "      <td>(Cambridge, ,, Harvard, University, Press, .)</td>\n",
              "      <td>Cambridge, Harvard University Press.</td>\n",
              "      <td>36</td>\n",
              "      <td>cambridge, harvard university press.</td>\n",
              "    </tr>\n",
              "    <tr>\n",
              "      <th>67348</th>\n",
              "      <td>Aristotle - Complete Works</td>\n",
              "      <td>Aristotle</td>\n",
              "      <td>aristotle</td>\n",
              "      <td>(Some, effort, has, ,, however, ,, been, made, to, remove, certain, of, the, more, capricious, variations, of, translation, (, especially, in, the, more, philosophical, of, 's, treatises, ), .)</td>\n",
              "      <td>Some effort has, however, been made to remove certain of the more capricious variations of translation (especially in the more philosophical of 's treatises).</td>\n",
              "      <td>158</td>\n",
              "      <td>some effort has, however, been made to remove certain of the more capricious variations of translation (especially in the more philosophical of 's treatises).</td>\n",
              "    </tr>\n",
              "    <tr>\n",
              "      <th>100598</th>\n",
              "      <td>Aristotle - Complete Works</td>\n",
              "      <td>Aristotle</td>\n",
              "      <td>aristotle</td>\n",
              "      <td>(In, Ross, added, a, twelfth, volume, ,, of, selected, fragments, ,, and, thus, completed, the, task, begun, almost, half, a, century, earlier, .)</td>\n",
              "      <td>In Ross added a twelfth volume, of selected fragments, and thus completed the task begun almost half a century earlier.</td>\n",
              "      <td>119</td>\n",
              "      <td>in ross added a twelfth volume, of selected fragments, and thus completed the task begun almost half a century earlier.</td>\n",
              "    </tr>\n",
              "  </tbody>\n",
              "</table>\n",
              "</div>"
            ],
            "text/plain": [
              "                                    title  ...                                                                                                                                                sentence_lowered\n",
              "83121          Aristotle - Complete Works  ...                                so we blame a man who is a slave to them and call him incontinent and intemperate, because he is a slave to the worst pleasures.\n",
              "191966  The Logic Of Scientific Discovery  ...                                                                                                                                        section of appendix iv).\n",
              "198085             Philosophical Troubles  ...                                                                                                                            cambridge, harvard university press.\n",
              "67348          Aristotle - Complete Works  ...  some effort has, however, been made to remove certain of the more capricious variations of translation (especially in the more philosophical of 's treatises).\n",
              "100598         Aristotle - Complete Works  ...                                         in ross added a twelfth volume, of selected fragments, and thus completed the task begun almost half a century earlier.\n",
              "\n",
              "[5 rows x 7 columns]"
            ]
          },
          "metadata": {
            "tags": []
          },
          "execution_count": 59
        }
      ]
    },
    {
      "cell_type": "markdown",
      "metadata": {
        "id": "83xx0eHWNOX3"
      },
      "source": [
        "From this it is clear that many of these duplicates are notes, meaninglessly short, or else headings that somehow escaped earlier efforts. Oddly, an enormous number of Aristotle's sentences seem to be doubled. Looking at the doubled sentences, this appears to be because similar notes were made in both of the two volumes of the text. \r\n",
        "\r\n",
        "Let's eliminate the aristotle doubles first, then take another look to see what the others are like. "
      ]
    },
    {
      "cell_type": "code",
      "metadata": {
        "colab": {
          "base_uri": "https://localhost:8080/"
        },
        "id": "71OS1WlbwvqV",
        "outputId": "731cb906-cc74-428f-9b4c-4cd0d75e6114"
      },
      "source": [
        "len(doubles_df[doubles_df['author'] != 'Aristotle'])"
      ],
      "execution_count": null,
      "outputs": [
        {
          "output_type": "execute_result",
          "data": {
            "text/plain": [
              "2164"
            ]
          },
          "metadata": {
            "tags": []
          },
          "execution_count": 60
        }
      ]
    },
    {
      "cell_type": "code",
      "metadata": {
        "colab": {
          "base_uri": "https://localhost:8080/",
          "height": 464
        },
        "id": "kotnwwvFwvy1",
        "outputId": "ec9ae349-9282-4078-81c1-068cb2dd2f4a"
      },
      "source": [
        "doubles_df[doubles_df['author'] != 'Aristole'].sample(5)"
      ],
      "execution_count": null,
      "outputs": [
        {
          "output_type": "execute_result",
          "data": {
            "text/html": [
              "<div>\n",
              "<style scoped>\n",
              "    .dataframe tbody tr th:only-of-type {\n",
              "        vertical-align: middle;\n",
              "    }\n",
              "\n",
              "    .dataframe tbody tr th {\n",
              "        vertical-align: top;\n",
              "    }\n",
              "\n",
              "    .dataframe thead th {\n",
              "        text-align: right;\n",
              "    }\n",
              "</style>\n",
              "<table border=\"1\" class=\"dataframe\">\n",
              "  <thead>\n",
              "    <tr style=\"text-align: right;\">\n",
              "      <th></th>\n",
              "      <th>title</th>\n",
              "      <th>author</th>\n",
              "      <th>school</th>\n",
              "      <th>sentence_spacy</th>\n",
              "      <th>sentence_str</th>\n",
              "      <th>sentence_length</th>\n",
              "      <th>sentence_lowered</th>\n",
              "    </tr>\n",
              "  </thead>\n",
              "  <tbody>\n",
              "    <tr>\n",
              "      <th>65020</th>\n",
              "      <td>Aristotle - Complete Works</td>\n",
              "      <td>Aristotle</td>\n",
              "      <td>aristotle</td>\n",
              "      <td>(Others, construed, their, task, more, narrowly, ,, but, even, in, their, more, modest, versions, expansive, paraphrase, from, time, to, time, intrudes, .)</td>\n",
              "      <td>Others construed their task more narrowly, but even in their more modest versions expansive paraphrase from time to time intrudes.</td>\n",
              "      <td>130</td>\n",
              "      <td>others construed their task more narrowly, but even in their more modest versions expansive paraphrase from time to time intrudes.</td>\n",
              "    </tr>\n",
              "    <tr>\n",
              "      <th>241220</th>\n",
              "      <td>Anti-Oedipus</td>\n",
              "      <td>Deleuze</td>\n",
              "      <td>continental</td>\n",
              "      <td>(But, that, which, in, the, miser, is, a, mere, idiosyncrasy, ,, is, ,, in, the, capitalist, ,, the, effect, of, the, social, mechanism, ,, of, which, he, is, but, one, of, the, wheels, .)</td>\n",
              "      <td>But that which in the miser is a mere idiosyncrasy, is, in the capitalist, the effect of the social mechanism, of which he is but one of the wheels.</td>\n",
              "      <td>148</td>\n",
              "      <td>but that which in the miser is a mere idiosyncrasy, is, in the capitalist, the effect of the social mechanism, of which he is but one of the wheels.</td>\n",
              "    </tr>\n",
              "    <tr>\n",
              "      <th>192917</th>\n",
              "      <td>The Logic Of Scientific Discovery</td>\n",
              "      <td>Popper</td>\n",
              "      <td>analytic</td>\n",
              "      <td>(Jeans, ,, The, New, Background, of, Science, .)</td>\n",
              "      <td>Jeans, The New Background of Science.</td>\n",
              "      <td>37</td>\n",
              "      <td>jeans, the new background of science.</td>\n",
              "    </tr>\n",
              "    <tr>\n",
              "      <th>275883</th>\n",
              "      <td>Critique Of Practical Reason</td>\n",
              "      <td>Kant</td>\n",
              "      <td>german_idealism</td>\n",
              "      <td>(Ak., also, the, Metaphysics, of, Morals, ,)</td>\n",
              "      <td>Ak. also the Metaphysics of Morals,</td>\n",
              "      <td>35</td>\n",
              "      <td>ak. also the metaphysics of morals,</td>\n",
              "    </tr>\n",
              "    <tr>\n",
              "      <th>55550</th>\n",
              "      <td>Aristotle - Complete Works</td>\n",
              "      <td>Aristotle</td>\n",
              "      <td>aristotle</td>\n",
              "      <td>(of, that, column, of, text, .)</td>\n",
              "      <td>of that column of text.</td>\n",
              "      <td>23</td>\n",
              "      <td>of that column of text.</td>\n",
              "    </tr>\n",
              "  </tbody>\n",
              "</table>\n",
              "</div>"
            ],
            "text/plain": [
              "                                    title  ...                                                                                                                                      sentence_lowered\n",
              "65020          Aristotle - Complete Works  ...                    others construed their task more narrowly, but even in their more modest versions expansive paraphrase from time to time intrudes.\n",
              "241220                       Anti-Oedipus  ...  but that which in the miser is a mere idiosyncrasy, is, in the capitalist, the effect of the social mechanism, of which he is but one of the wheels.\n",
              "192917  The Logic Of Scientific Discovery  ...                                                                                                                 jeans, the new background of science.\n",
              "275883       Critique Of Practical Reason  ...                                                                                                                   ak. also the metaphysics of morals,\n",
              "55550          Aristotle - Complete Works  ...                                                                                                                               of that column of text.\n",
              "\n",
              "[5 rows x 7 columns]"
            ]
          },
          "metadata": {
            "tags": []
          },
          "execution_count": 61
        }
      ]
    },
    {
      "cell_type": "markdown",
      "metadata": {
        "id": "rSzTX0yNNV-K"
      },
      "source": [
        "Deeper exploration of the duplicates reveals that Kant has a lot of doubles that seem to be authentically from his texts. Plato also has several duplicate sentences, but these are almost all short phrases from the dialogues ('of course, yes' and that kind of thing). \r\n",
        "\r\n",
        "To preserve the Kant, while also removing the irrelevant duplicates, we will remove both copies of all duplicates from texts other than the Kant's *Critique of Pure Reason*. For that text, we will remove the short duplicates and keep one copy of the longer ones, thus preserving the meaningful sentences. "
      ]
    },
    {
      "cell_type": "code",
      "metadata": {
        "colab": {
          "base_uri": "https://localhost:8080/"
        },
        "id": "qe5D6a2qwv7f",
        "outputId": "cd725650-b96a-492d-9c82-c26b621c8ddc"
      },
      "source": [
        "non_kant_indexes = df[(df['title'] != 'critique of pure reason') & \r\n",
        "                       (df['sentence_str'].duplicated(keep=False))].index\r\n",
        "kant_short_indexes = df[(df['title'] == 'critique of pure reason') &\r\n",
        "                        (df['sentence_str'].duplicated(keep=False)) &\r\n",
        "                        (df['sentence_length'] < 40)].index\r\n",
        "kant_long_indexes = df[(df['title'] == 'critique of pure reason') &\r\n",
        "                        (df['sentence_str'].duplicated(keep='first')) &\r\n",
        "                        (df['sentence_length'] >= 40)].index\r\n",
        "\r\n",
        "indexes_to_drop = [non_kant_indexes, kant_short_indexes, kant_long_indexes]\r\n",
        "for index in indexes_to_drop:\r\n",
        "  df = df.drop(index)\r\n",
        "\r\n",
        "len(df)"
      ],
      "execution_count": null,
      "outputs": [
        {
          "output_type": "execute_result",
          "data": {
            "text/plain": [
              "327352"
            ]
          },
          "metadata": {
            "tags": []
          },
          "execution_count": 62
        }
      ]
    },
    {
      "cell_type": "code",
      "metadata": {
        "colab": {
          "base_uri": "https://localhost:8080/",
          "height": 514
        },
        "id": "GnNdnY0MwwFM",
        "outputId": "3b6d1efc-18c0-4cfd-c689-75dd83e5c965"
      },
      "source": [
        "(df[df['sentence_str'].str.contains('\\sder\\s')]).sample(5)"
      ],
      "execution_count": null,
      "outputs": [
        {
          "output_type": "execute_result",
          "data": {
            "text/html": [
              "<div>\n",
              "<style scoped>\n",
              "    .dataframe tbody tr th:only-of-type {\n",
              "        vertical-align: middle;\n",
              "    }\n",
              "\n",
              "    .dataframe tbody tr th {\n",
              "        vertical-align: top;\n",
              "    }\n",
              "\n",
              "    .dataframe thead th {\n",
              "        text-align: right;\n",
              "    }\n",
              "</style>\n",
              "<table border=\"1\" class=\"dataframe\">\n",
              "  <thead>\n",
              "    <tr style=\"text-align: right;\">\n",
              "      <th></th>\n",
              "      <th>title</th>\n",
              "      <th>author</th>\n",
              "      <th>school</th>\n",
              "      <th>sentence_spacy</th>\n",
              "      <th>sentence_str</th>\n",
              "      <th>sentence_length</th>\n",
              "      <th>sentence_lowered</th>\n",
              "    </tr>\n",
              "  </thead>\n",
              "  <tbody>\n",
              "    <tr>\n",
              "      <th>325047</th>\n",
              "      <td>Capital</td>\n",
              "      <td>Marx</td>\n",
              "      <td>communism</td>\n",
              "      <td>(In, Zur, Kritik, der, Pol, .)</td>\n",
              "      <td>In Zur Kritik der Pol.</td>\n",
              "      <td>22</td>\n",
              "      <td>in zur kritik der pol.</td>\n",
              "    </tr>\n",
              "    <tr>\n",
              "      <th>319680</th>\n",
              "      <td>Elements Of The Philosophy Of Right</td>\n",
              "      <td>Hegel</td>\n",
              "      <td>german_idealism</td>\n",
              "      <td>(On, the, other, hand, ,, the, individual, der, Eillzebze, in, his, particularity, may, see, him, self, as, the, universal, and, believe, that, he, would, be, lowering, himself, if, he, became, a,...</td>\n",
              "      <td>On the other hand, the individual der Eillzebze in his particularity may see him self as the universal and believe that he would be lowering himself if he became a member of an estate.</td>\n",
              "      <td>184</td>\n",
              "      <td>on the other hand, the individual der eillzebze in his particularity may see him self as the universal and believe that he would be lowering himself if he became a member of an estate.</td>\n",
              "    </tr>\n",
              "    <tr>\n",
              "      <th>247024</th>\n",
              "      <td>The Phenomenology Of Perception</td>\n",
              "      <td>Merleau-Ponty</td>\n",
              "      <td>phenomenology</td>\n",
              "      <td>(It, Benary, ,, Analyse, eines, Seelenbildes, von, der, Sprache, aus, .)</td>\n",
              "      <td>It Benary, Analyse eines Seelenbildes von der Sprache aus.</td>\n",
              "      <td>58</td>\n",
              "      <td>it benary, analyse eines seelenbildes von der sprache aus.</td>\n",
              "    </tr>\n",
              "    <tr>\n",
              "      <th>227330</th>\n",
              "      <td>Writing And Difference</td>\n",
              "      <td>Derrida</td>\n",
              "      <td>continental</td>\n",
              "      <td>(The, transition, from, the, genetic, researches, in, the, only, book, whose, method, ,, or, some, of, whose, psychologistic, presuppositions, ,, Husserl, renounced, (, I, am, thinking, of, Philos...</td>\n",
              "      <td>The transition from the genetic researches in the only book whose method, or some of whose psychologistic presuppositions, Husserl renounced (I am thinking of Philosophie der Arithmetik), to the L...</td>\n",
              "      <td>420</td>\n",
              "      <td>the transition from the genetic researches in the only book whose method, or some of whose psychologistic presuppositions, husserl renounced (i am thinking of philosophie der arithmetik), to the l...</td>\n",
              "    </tr>\n",
              "    <tr>\n",
              "      <th>295924</th>\n",
              "      <td>The System Of Ethics</td>\n",
              "      <td>Fichte</td>\n",
              "      <td>german_idealism</td>\n",
              "      <td>(and, a, system, of, ethics, Geb, ude, der, Sittenlehre, or, to, speculate, at, all, about, the, principles, of, the, same, .)</td>\n",
              "      <td>and a system of ethics Geb ude der Sittenlehre or to speculate at all about the principles of the same.</td>\n",
              "      <td>103</td>\n",
              "      <td>and a system of ethics geb ude der sittenlehre or to speculate at all about the principles of the same.</td>\n",
              "    </tr>\n",
              "  </tbody>\n",
              "</table>\n",
              "</div>"
            ],
            "text/plain": [
              "                                      title  ...                                                                                                                                                                                         sentence_lowered\n",
              "325047                              Capital  ...                                                                                                                                                                                   in zur kritik der pol.\n",
              "319680  Elements Of The Philosophy Of Right  ...                 on the other hand, the individual der eillzebze in his particularity may see him self as the universal and believe that he would be lowering himself if he became a member of an estate.\n",
              "247024      The Phenomenology Of Perception  ...                                                                                                                                               it benary, analyse eines seelenbildes von der sprache aus.\n",
              "227330               Writing And Difference  ...  the transition from the genetic researches in the only book whose method, or some of whose psychologistic presuppositions, husserl renounced (i am thinking of philosophie der arithmetik), to the l...\n",
              "295924                 The System Of Ethics  ...                                                                                                  and a system of ethics geb ude der sittenlehre or to speculate at all about the principles of the same.\n",
              "\n",
              "[5 rows x 7 columns]"
            ]
          },
          "metadata": {
            "tags": []
          },
          "execution_count": 63
        }
      ]
    },
    {
      "cell_type": "markdown",
      "metadata": {
        "id": "kcdlnijMNaMA"
      },
      "source": [
        "#### Check for Foreign-Language Sentences"
      ]
    },
    {
      "cell_type": "code",
      "metadata": {
        "colab": {
          "base_uri": "https://localhost:8080/"
        },
        "id": "JXUfIsqkwwOY",
        "outputId": "eeac89de-aee0-4cbc-9d44-8e64f0fe632d"
      },
      "source": [
        "# checking for 'der', a common article in German\r\n",
        "len((df[df['sentence_str'].str.contains('\\sder\\s')]))"
      ],
      "execution_count": null,
      "outputs": [
        {
          "output_type": "execute_result",
          "data": {
            "text/plain": [
              "314"
            ]
          },
          "metadata": {
            "tags": []
          },
          "execution_count": 64
        }
      ]
    },
    {
      "cell_type": "code",
      "metadata": {
        "colab": {
          "base_uri": "https://localhost:8080/"
        },
        "id": "Sds3G-P8w-KH",
        "outputId": "d7dfe7b7-669c-40ac-e50a-1017bf8165a3"
      },
      "source": [
        "df = df.drop(df[df['sentence_str'].str.contains('\\sder\\s')].index)\r\n",
        "\r\n",
        "len(df)"
      ],
      "execution_count": null,
      "outputs": [
        {
          "output_type": "execute_result",
          "data": {
            "text/plain": [
              "327038"
            ]
          },
          "metadata": {
            "tags": []
          },
          "execution_count": 65
        }
      ]
    },
    {
      "cell_type": "code",
      "metadata": {
        "colab": {
          "base_uri": "https://localhost:8080/",
          "height": 430
        },
        "id": "nsz9L0qCw-UM",
        "outputId": "78aa3a0b-882a-42e5-a403-c91f346a3d05"
      },
      "source": [
        "# checking for 'il', a common article in French\r\n",
        "df[df['sentence_str'].str.contains('\\sil\\s')].sample(5)"
      ],
      "execution_count": null,
      "outputs": [
        {
          "output_type": "execute_result",
          "data": {
            "text/html": [
              "<div>\n",
              "<style scoped>\n",
              "    .dataframe tbody tr th:only-of-type {\n",
              "        vertical-align: middle;\n",
              "    }\n",
              "\n",
              "    .dataframe tbody tr th {\n",
              "        vertical-align: top;\n",
              "    }\n",
              "\n",
              "    .dataframe thead th {\n",
              "        text-align: right;\n",
              "    }\n",
              "</style>\n",
              "<table border=\"1\" class=\"dataframe\">\n",
              "  <thead>\n",
              "    <tr style=\"text-align: right;\">\n",
              "      <th></th>\n",
              "      <th>title</th>\n",
              "      <th>author</th>\n",
              "      <th>school</th>\n",
              "      <th>sentence_spacy</th>\n",
              "      <th>sentence_str</th>\n",
              "      <th>sentence_length</th>\n",
              "      <th>sentence_lowered</th>\n",
              "    </tr>\n",
              "  </thead>\n",
              "  <tbody>\n",
              "    <tr>\n",
              "      <th>260482</th>\n",
              "      <td>Being And Time</td>\n",
              "      <td>Heidegger</td>\n",
              "      <td>phenomenology</td>\n",
              "      <td>(What, is, at, hand, is, discovered, as, such, in, its, serviceability, usab, il, ity, ,, detrimentality, .)</td>\n",
              "      <td>What is at hand is discovered as such in its serviceability usab il ity, detrimentality.</td>\n",
              "      <td>88</td>\n",
              "      <td>what is at hand is discovered as such in its serviceability usab il ity, detrimentality.</td>\n",
              "    </tr>\n",
              "    <tr>\n",
              "      <th>239472</th>\n",
              "      <td>Anti-Oedipus</td>\n",
              "      <td>Deleuze</td>\n",
              "      <td>continental</td>\n",
              "      <td>(But, ethnologists, observe, how, difficult, it, is, to, distinguish, those, protoclasses, from, the, castes, organized, by, the, il, ial, mach.ine, and, from, the, rankings, distributed, by, the,...</td>\n",
              "      <td>But ethnologists observe how difficult it is to distinguish those protoclasses from the castes organized by the il ial mach.ine and from the rankings distributed by the segmentary prmutrve machine.</td>\n",
              "      <td>197</td>\n",
              "      <td>but ethnologists observe how difficult it is to distinguish those protoclasses from the castes organized by the il ial mach.ine and from the rankings distributed by the segmentary prmutrve machine.</td>\n",
              "    </tr>\n",
              "    <tr>\n",
              "      <th>147270</th>\n",
              "      <td>The Search After Truth</td>\n",
              "      <td>Malebranche</td>\n",
              "      <td>rationalism</td>\n",
              "      <td>(regarding, those, of, Arnauld, in, the, second, volume, of, the, il, of, my, replies, .)</td>\n",
              "      <td>regarding those of Arnauld in the second volume of the il of my replies.</td>\n",
              "      <td>72</td>\n",
              "      <td>regarding those of arnauld in the second volume of the il of my replies.</td>\n",
              "    </tr>\n",
              "    <tr>\n",
              "      <th>336408</th>\n",
              "      <td>Capital</td>\n",
              "      <td>Marx</td>\n",
              "      <td>communism</td>\n",
              "      <td>(pas, vendre, sea, productions, et, comme, il, le, veut, ;)</td>\n",
              "      <td>pas vendre sea productions et comme il le veut;</td>\n",
              "      <td>47</td>\n",
              "      <td>pas vendre sea productions et comme il le veut;</td>\n",
              "    </tr>\n",
              "    <tr>\n",
              "      <th>324122</th>\n",
              "      <td>Capital</td>\n",
              "      <td>Marx</td>\n",
              "      <td>communism</td>\n",
              "      <td>(mercante, non, conta, quasi, per, niente, il, lucro, fatto, ,, ma, mira, sempre, al, futuro, .)</td>\n",
              "      <td>mercante non conta quasi per niente il lucro fatto, ma mira sempre al futuro.</td>\n",
              "      <td>77</td>\n",
              "      <td>mercante non conta quasi per niente il lucro fatto, ma mira sempre al futuro.</td>\n",
              "    </tr>\n",
              "  </tbody>\n",
              "</table>\n",
              "</div>"
            ],
            "text/plain": [
              "                         title  ...                                                                                                                                                                                       sentence_lowered\n",
              "260482          Being And Time  ...                                                                                                               what is at hand is discovered as such in its serviceability usab il ity, detrimentality.\n",
              "239472            Anti-Oedipus  ...  but ethnologists observe how difficult it is to distinguish those protoclasses from the castes organized by the il ial mach.ine and from the rankings distributed by the segmentary prmutrve machine.\n",
              "147270  The Search After Truth  ...                                                                                                                               regarding those of arnauld in the second volume of the il of my replies.\n",
              "336408                 Capital  ...                                                                                                                                                        pas vendre sea productions et comme il le veut;\n",
              "324122                 Capital  ...                                                                                                                          mercante non conta quasi per niente il lucro fatto, ma mira sempre al futuro.\n",
              "\n",
              "[5 rows x 7 columns]"
            ]
          },
          "metadata": {
            "tags": []
          },
          "execution_count": 66
        }
      ]
    },
    {
      "cell_type": "code",
      "metadata": {
        "colab": {
          "base_uri": "https://localhost:8080/"
        },
        "id": "-ER9muOkw-qu",
        "outputId": "83926024-785d-4baf-be5b-7add6c5e64ae"
      },
      "source": [
        "df = df.drop(df[df['sentence_str'].str.contains('\\sil\\s')].index)\r\n",
        "\r\n",
        "len(df)"
      ],
      "execution_count": null,
      "outputs": [
        {
          "output_type": "execute_result",
          "data": {
            "text/plain": [
              "326990"
            ]
          },
          "metadata": {
            "tags": []
          },
          "execution_count": 67
        }
      ]
    },
    {
      "cell_type": "markdown",
      "metadata": {
        "id": "0jsR1QpNNlNJ"
      },
      "source": [
        "#### Some Ad Hoc Cleaning"
      ]
    },
    {
      "cell_type": "code",
      "metadata": {
        "colab": {
          "base_uri": "https://localhost:8080/"
        },
        "id": "b1sF0lzxw-zd",
        "outputId": "5d53c278-cb7c-488f-e858-cea5e8f78ab0"
      },
      "source": [
        "# miscellaneous nonsense sentences\r\n",
        "df = df.drop(df[df['sentence_str'].str.contains('\\spp\\s')].index)\r\n",
        "df = df.drop(df[df['sentence_str'].str.contains('\\stotam\\s')].index)\r\n",
        "df = df.drop(df[df['sentence_str'].str.contains('\\srree\\s')].index)\r\n",
        "df = df.drop(df[df['sentence_str'].str.contains('\\sflir\\s')].index)\r\n",
        "df = df.drop(df[(df['sentence_str'].str.contains('\\smodis\\s')) & (df['author'] != 'Kant')].index)\r\n",
        "\r\n",
        "len(df)"
      ],
      "execution_count": null,
      "outputs": [
        {
          "output_type": "execute_result",
          "data": {
            "text/plain": [
              "326984"
            ]
          },
          "metadata": {
            "tags": []
          },
          "execution_count": 68
        }
      ]
    },
    {
      "cell_type": "code",
      "metadata": {
        "colab": {
          "base_uri": "https://localhost:8080/"
        },
        "id": "OqBnHZG6w-9F",
        "outputId": "9f1079c7-c80f-420e-e4f0-cbb583f1c4b8"
      },
      "source": [
        "# markers of french and notes\r\n",
        "df = df.drop(df[df['sentence_str'].str.contains('\\schapitre')].index)\r\n",
        "df = df.drop(df[df['sentence_str'].str.contains('\\salisme')].index)\r\n",
        "df = df.drop(df[df['sentence_str'].str.contains('\\sHahn')].index)\r\n",
        "\r\n",
        "len(df)"
      ],
      "execution_count": null,
      "outputs": [
        {
          "output_type": "execute_result",
          "data": {
            "text/plain": [
              "326967"
            ]
          },
          "metadata": {
            "tags": []
          },
          "execution_count": 69
        }
      ]
    },
    {
      "cell_type": "code",
      "metadata": {
        "colab": {
          "base_uri": "https://localhost:8080/"
        },
        "id": "Oq5I3pL4w9r7",
        "outputId": "f1eee805-a927-4857-d72a-52a95e2cd7cc"
      },
      "source": [
        "# some notes in Kant\r\n",
        "df = df.drop(df[df['sentence_str'].str.contains('\\sVorl\\s')].index)\r\n",
        "\r\n",
        "len(df)"
      ],
      "execution_count": null,
      "outputs": [
        {
          "output_type": "execute_result",
          "data": {
            "text/plain": [
              "326949"
            ]
          },
          "metadata": {
            "tags": []
          },
          "execution_count": 70
        }
      ]
    },
    {
      "cell_type": "code",
      "metadata": {
        "colab": {
          "base_uri": "https://localhost:8080/"
        },
        "id": "w3nv5S4exJXK",
        "outputId": "8cc9dac4-1305-42e3-a13f-ce036cc4bf6b"
      },
      "source": [
        "# a common phrase in Plato / Aristotle footnotes\r\n",
        "df = df.drop(df[(df['author']=='Plato') & (df['sentence_str'].str.contains('(?i)reading')) & (df['sentence_length'] < 40)].index)\r\n",
        "df = df.drop(df[(df['author']=='Aristotle') & (df['sentence_str'].str.contains('(?i)reading')) & (df['sentence_length'] < 40)].index)\r\n",
        "\r\n",
        "len(df)"
      ],
      "execution_count": null,
      "outputs": [
        {
          "output_type": "execute_result",
          "data": {
            "text/plain": [
              "326675"
            ]
          },
          "metadata": {
            "tags": []
          },
          "execution_count": 71
        }
      ]
    },
    {
      "cell_type": "markdown",
      "metadata": {
        "id": "vtli1TPlNq55"
      },
      "source": [
        "### Lemmatizing, Tokenizing, and Exporting"
      ]
    },
    {
      "cell_type": "code",
      "metadata": {
        "colab": {
          "base_uri": "https://localhost:8080/"
        },
        "id": "ybCPk5oixJgd",
        "outputId": "6d1f7c18-b3a0-4c60-cb18-b43e41af5766"
      },
      "source": [
        "df['school'].value_counts(normalize=True)"
      ],
      "execution_count": null,
      "outputs": [
        {
          "output_type": "execute_result",
          "data": {
            "text/plain": [
              "analytic           0.163603\n",
              "aristotle          0.149320\n",
              "german_idealism    0.128988\n",
              "plato              0.117520\n",
              "continental        0.103409\n",
              "phenomenology      0.087466\n",
              "rationalism        0.070253\n",
              "empiricism         0.061012\n",
              "capitalism         0.055694\n",
              "communism          0.054975\n",
              "stoicism           0.007760\n",
              "Name: school, dtype: float64"
            ]
          },
          "metadata": {
            "tags": []
          },
          "execution_count": 72
        }
      ]
    },
    {
      "cell_type": "code",
      "metadata": {
        "id": "S1wT-MvpxJot"
      },
      "source": [
        "from gensim.utils import simple_preprocess\r\n",
        "\r\n",
        "# use gensim to tokenize sentences\r\n",
        "df['tokenized_txt'] = df['sentence_str'].map(lambda x: simple_preprocess(x.lower(),deacc=True,\r\n",
        "                                                        max_len=200))\r\n",
        "\r\n",
        "# use spacey to get intelligent lemmatization\r\n",
        "def lemmatize_sentence(sentence):\r\n",
        "  lemmatized_txt = ''\r\n",
        "  for word in sentence:\r\n",
        "    lemmatized_txt += ' ' + str(word.lemma_)\r\n",
        "  return lemmatized_txt"
      ],
      "execution_count": null,
      "outputs": []
    },
    {
      "cell_type": "code",
      "metadata": {
        "id": "3O3mXZKkxJxM"
      },
      "source": [
        "df['lemmatized_str'] = df['sentence_spacy'].apply(lemmatize_sentence)"
      ],
      "execution_count": null,
      "outputs": []
    },
    {
      "cell_type": "code",
      "metadata": {
        "colab": {
          "base_uri": "https://localhost:8080/",
          "height": 514
        },
        "id": "mxmcq_BQxJ48",
        "outputId": "0f6faa38-c818-449f-b9fb-9dc659c3a23c"
      },
      "source": [
        "df.sample(5)"
      ],
      "execution_count": null,
      "outputs": [
        {
          "output_type": "execute_result",
          "data": {
            "text/html": [
              "<div>\n",
              "<style scoped>\n",
              "    .dataframe tbody tr th:only-of-type {\n",
              "        vertical-align: middle;\n",
              "    }\n",
              "\n",
              "    .dataframe tbody tr th {\n",
              "        vertical-align: top;\n",
              "    }\n",
              "\n",
              "    .dataframe thead th {\n",
              "        text-align: right;\n",
              "    }\n",
              "</style>\n",
              "<table border=\"1\" class=\"dataframe\">\n",
              "  <thead>\n",
              "    <tr style=\"text-align: right;\">\n",
              "      <th></th>\n",
              "      <th>title</th>\n",
              "      <th>author</th>\n",
              "      <th>school</th>\n",
              "      <th>sentence_spacy</th>\n",
              "      <th>sentence_str</th>\n",
              "      <th>sentence_length</th>\n",
              "      <th>sentence_lowered</th>\n",
              "      <th>tokenized_txt</th>\n",
              "      <th>lemmatized_str</th>\n",
              "    </tr>\n",
              "  </thead>\n",
              "  <tbody>\n",
              "    <tr>\n",
              "      <th>34409</th>\n",
              "      <td>Plato - Complete Works</td>\n",
              "      <td>Plato</td>\n",
              "      <td>plato</td>\n",
              "      <td>(And, what, about, the, city, 's, tolerance, ?)</td>\n",
              "      <td>And what about the city's tolerance?</td>\n",
              "      <td>36</td>\n",
              "      <td>and what about the city's tolerance?</td>\n",
              "      <td>[and, what, about, the, city, tolerance]</td>\n",
              "      <td>and what about the city 's tolerance ?</td>\n",
              "    </tr>\n",
              "    <tr>\n",
              "      <th>43709</th>\n",
              "      <td>Plato - Complete Works</td>\n",
              "      <td>Plato</td>\n",
              "      <td>plato</td>\n",
              "      <td>(Now, ,, for, heaven, 's, sake, ,, hold, on, a, minute, .)</td>\n",
              "      <td>Now, for heaven's sake, hold on a minute.</td>\n",
              "      <td>41</td>\n",
              "      <td>now, for heaven's sake, hold on a minute.</td>\n",
              "      <td>[now, for, heaven, sake, hold, on, minute]</td>\n",
              "      <td>now , for heaven 's sake , hold on a minute .</td>\n",
              "    </tr>\n",
              "    <tr>\n",
              "      <th>234263</th>\n",
              "      <td>Difference And Repetition</td>\n",
              "      <td>Deleuze</td>\n",
              "      <td>continental</td>\n",
              "      <td>(Is, this, not, a, way, of, introducing, the, point, of, view, of, consciousness, and, actual, representations, into, what, should, be, the, transcendent, exploration, of, the, Idea, of, the, ling...</td>\n",
              "      <td>Is this not a way of introducing the point of view of consciousness and actual representations into what should be the transcendent exploration of the Idea of the linguistic unconscious in other w...</td>\n",
              "      <td>275</td>\n",
              "      <td>is this not a way of introducing the point of view of consciousness and actual representations into what should be the transcendent exploration of the idea of the linguistic unconscious in other w...</td>\n",
              "      <td>[is, this, not, way, of, introducing, the, point, of, view, of, consciousness, and, actual, representations, into, what, should, be, the, transcendent, exploration, of, the, idea, of, the, linguis...</td>\n",
              "      <td>be this not a way of introduce the point of view of consciousness and actual representation into what should be the transcendent exploration of the Idea of the linguistic unconscious in other wor...</td>\n",
              "    </tr>\n",
              "    <tr>\n",
              "      <th>313286</th>\n",
              "      <td>The Phenomenology Of Spirit</td>\n",
              "      <td>Hegel</td>\n",
              "      <td>german_idealism</td>\n",
              "      <td>(For, pure, negativity, has, in, the, self)</td>\n",
              "      <td>For pure negativity has in the self</td>\n",
              "      <td>35</td>\n",
              "      <td>for pure negativity has in the self</td>\n",
              "      <td>[for, pure, negativity, has, in, the, self]</td>\n",
              "      <td>for pure negativity have in the self</td>\n",
              "    </tr>\n",
              "    <tr>\n",
              "      <th>4965</th>\n",
              "      <td>Plato - Complete Works</td>\n",
              "      <td>Plato</td>\n",
              "      <td>plato</td>\n",
              "      <td>(Theaetetus, will, put, up, with, it, ,, Socrates, .)</td>\n",
              "      <td>Theaetetus will put up with it, Socrates.</td>\n",
              "      <td>41</td>\n",
              "      <td>theaetetus will put up with it, socrates.</td>\n",
              "      <td>[theaetetus, will, put, up, with, it, socrates]</td>\n",
              "      <td>Theaetetus will put up with -PRON- , Socrates .</td>\n",
              "    </tr>\n",
              "  </tbody>\n",
              "</table>\n",
              "</div>"
            ],
            "text/plain": [
              "                              title  ...                                                                                                                                                                                           lemmatized_str\n",
              "34409        Plato - Complete Works  ...                                                                                                                                                                   and what about the city 's tolerance ?\n",
              "43709        Plato - Complete Works  ...                                                                                                                                                            now , for heaven 's sake , hold on a minute .\n",
              "234263    Difference And Repetition  ...   be this not a way of introduce the point of view of consciousness and actual representation into what should be the transcendent exploration of the Idea of the linguistic unconscious in other wor...\n",
              "313286  The Phenomenology Of Spirit  ...                                                                                                                                                                     for pure negativity have in the self\n",
              "4965         Plato - Complete Works  ...                                                                                                                                                          Theaetetus will put up with -PRON- , Socrates .\n",
              "\n",
              "[5 rows x 9 columns]"
            ]
          },
          "metadata": {
            "tags": []
          },
          "execution_count": 75
        }
      ]
    },
    {
      "cell_type": "code",
      "metadata": {
        "colab": {
          "base_uri": "https://localhost:8080/"
        },
        "id": "qlX3Aq4sx3QQ",
        "outputId": "b277f154-45d0-457e-dc22-00e0c701fa8b"
      },
      "source": [
        "# check the new author's presence\r\n",
        "len(df[df['author']=='Marcus Aurelius'])"
      ],
      "execution_count": null,
      "outputs": [
        {
          "output_type": "execute_result",
          "data": {
            "text/plain": [
              "2212"
            ]
          },
          "metadata": {
            "tags": []
          },
          "execution_count": 77
        }
      ]
    },
    {
      "cell_type": "markdown",
      "metadata": {
        "id": "FeEVIBYZN64H"
      },
      "source": [
        "Now we can export the new CSV to use in other projects. "
      ]
    },
    {
      "cell_type": "code",
      "metadata": {
        "id": "6v0M4jbUxKBt",
        "colab": {
          "base_uri": "https://localhost:8080/",
          "height": 33
        },
        "outputId": "938b7908-46eb-406f-d386-114f4a3e72f4"
      },
      "source": [
        "from google.colab import files\r\n",
        "df.to_csv('phil_nlp.csv', index=False) \r\n",
        "files.download('phil_nlp.csv')"
      ],
      "execution_count": null,
      "outputs": [
        {
          "output_type": "display_data",
          "data": {
            "application/javascript": [
              "\n",
              "    async function download(id, filename, size) {\n",
              "      if (!google.colab.kernel.accessAllowed) {\n",
              "        return;\n",
              "      }\n",
              "      const div = document.createElement('div');\n",
              "      const label = document.createElement('label');\n",
              "      label.textContent = `Downloading \"${filename}\": `;\n",
              "      div.appendChild(label);\n",
              "      const progress = document.createElement('progress');\n",
              "      progress.max = size;\n",
              "      div.appendChild(progress);\n",
              "      document.body.appendChild(div);\n",
              "\n",
              "      const buffers = [];\n",
              "      let downloaded = 0;\n",
              "\n",
              "      const channel = await google.colab.kernel.comms.open(id);\n",
              "      // Send a message to notify the kernel that we're ready.\n",
              "      channel.send({})\n",
              "\n",
              "      for await (const message of channel.messages) {\n",
              "        // Send a message to notify the kernel that we're ready.\n",
              "        channel.send({})\n",
              "        if (message.buffers) {\n",
              "          for (const buffer of message.buffers) {\n",
              "            buffers.push(buffer);\n",
              "            downloaded += buffer.byteLength;\n",
              "            progress.value = downloaded;\n",
              "          }\n",
              "        }\n",
              "      }\n",
              "      const blob = new Blob(buffers, {type: 'application/binary'});\n",
              "      const a = document.createElement('a');\n",
              "      a.href = window.URL.createObjectURL(blob);\n",
              "      a.download = filename;\n",
              "      div.appendChild(a);\n",
              "      a.click();\n",
              "      div.remove();\n",
              "    }\n",
              "  "
            ],
            "text/plain": [
              "<IPython.core.display.Javascript object>"
            ]
          },
          "metadata": {
            "tags": []
          }
        },
        {
          "output_type": "display_data",
          "data": {
            "application/javascript": [
              "download(\"download_ac9ccbcd-4c64-4d01-ab8b-ee8ebbae4579\", \"phil_nlp.csv\", 294354839)"
            ],
            "text/plain": [
              "<IPython.core.display.Javascript object>"
            ]
          },
          "metadata": {
            "tags": []
          }
        }
      ]
    },
    {
      "cell_type": "code",
      "metadata": {
        "id": "4asBFcfwOUsx"
      },
      "source": [
        ""
      ],
      "execution_count": null,
      "outputs": []
    }
  ]
}