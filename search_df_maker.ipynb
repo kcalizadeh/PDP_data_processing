{
 "metadata": {
  "language_info": {
   "codemirror_mode": {
    "name": "ipython",
    "version": 3
   },
   "file_extension": ".py",
   "mimetype": "text/x-python",
   "name": "python",
   "nbconvert_exporter": "python",
   "pygments_lexer": "ipython3",
   "version": "3.6.9-final"
  },
  "orig_nbformat": 2,
  "kernelspec": {
   "name": "learn-env",
   "display_name": "learn-env",
   "language": "python"
  }
 },
 "nbformat": 4,
 "nbformat_minor": 2,
 "cells": [
  {
   "cell_type": "code",
   "execution_count": 1,
   "metadata": {},
   "outputs": [],
   "source": [
    "import pandas as pd\n",
    "import pickle"
   ]
  },
  {
   "cell_type": "code",
   "execution_count": 15,
   "metadata": {},
   "outputs": [
    {
     "output_type": "execute_result",
     "data": {
      "text/plain": [
       "                             title       author           school  \\\n",
       "180282      Philosophical Troubles       Kripke         analytic   \n",
       "48795   Aristotle - Complete Works    Aristotle        aristotle   \n",
       "125258      The Search After Truth  Malebranche      rationalism   \n",
       "252871     Critique Of Pure Reason         Kant  german_idealism   \n",
       "235603              Being And Time    Heidegger    phenomenology   \n",
       "\n",
       "                                           sentence_spacy  \\\n",
       "180282                     Northwestern University Press.   \n",
       "48795   For it is the nearest body which is most stron...   \n",
       "125258                   He learned this from his senses.   \n",
       "252871                      In the second edition, but. .   \n",
       "235603  But in the entangled flight from death, the ev...   \n",
       "\n",
       "                                             sentence_str  sentence_length  \\\n",
       "180282                     Northwestern University Press.               30   \n",
       "48795   For it is the nearest body which is most stron...              233   \n",
       "125258                   He learned this from his senses.               32   \n",
       "252871                      In the second edition, but. .               29   \n",
       "235603  But in the entangled flight from death, the ev...              479   \n",
       "\n",
       "                                         sentence_lowered  \\\n",
       "180282                     northwestern university press.   \n",
       "48795   for it is the nearest body which is most stron...   \n",
       "125258                   he learned this from his senses.   \n",
       "252871                      in the second edition, but. .   \n",
       "235603  but in the entangled flight from death, the ev...   \n",
       "\n",
       "                                            tokenized_txt  \\\n",
       "180282            ['northwestern', 'university', 'press']   \n",
       "48795   ['for', 'it', 'is', 'the', 'nearest', 'body', ...   \n",
       "125258  ['he', 'learned', 'this', 'from', 'his', 'sens...   \n",
       "252871          ['in', 'the', 'second', 'edition', 'but']   \n",
       "235603  ['but', 'in', 'the', 'entangled', 'flight', 'f...   \n",
       "\n",
       "                                           lemmatized_str  \n",
       "180282                    Northwestern University Press .  \n",
       "48795    for -PRON- be the near body which be most str...  \n",
       "125258              -PRON- learn this from -PRON- sense .  \n",
       "252871                    in the second edition , but . .  \n",
       "235603   but in the entangled flight from death , the ...  "
      ],
      "text/html": "<div>\n<style scoped>\n    .dataframe tbody tr th:only-of-type {\n        vertical-align: middle;\n    }\n\n    .dataframe tbody tr th {\n        vertical-align: top;\n    }\n\n    .dataframe thead th {\n        text-align: right;\n    }\n</style>\n<table border=\"1\" class=\"dataframe\">\n  <thead>\n    <tr style=\"text-align: right;\">\n      <th></th>\n      <th>title</th>\n      <th>author</th>\n      <th>school</th>\n      <th>sentence_spacy</th>\n      <th>sentence_str</th>\n      <th>sentence_length</th>\n      <th>sentence_lowered</th>\n      <th>tokenized_txt</th>\n      <th>lemmatized_str</th>\n    </tr>\n  </thead>\n  <tbody>\n    <tr>\n      <th>180282</th>\n      <td>Philosophical Troubles</td>\n      <td>Kripke</td>\n      <td>analytic</td>\n      <td>Northwestern University Press.</td>\n      <td>Northwestern University Press.</td>\n      <td>30</td>\n      <td>northwestern university press.</td>\n      <td>['northwestern', 'university', 'press']</td>\n      <td>Northwestern University Press .</td>\n    </tr>\n    <tr>\n      <th>48795</th>\n      <td>Aristotle - Complete Works</td>\n      <td>Aristotle</td>\n      <td>aristotle</td>\n      <td>For it is the nearest body which is most stron...</td>\n      <td>For it is the nearest body which is most stron...</td>\n      <td>233</td>\n      <td>for it is the nearest body which is most stron...</td>\n      <td>['for', 'it', 'is', 'the', 'nearest', 'body', ...</td>\n      <td>for -PRON- be the near body which be most str...</td>\n    </tr>\n    <tr>\n      <th>125258</th>\n      <td>The Search After Truth</td>\n      <td>Malebranche</td>\n      <td>rationalism</td>\n      <td>He learned this from his senses.</td>\n      <td>He learned this from his senses.</td>\n      <td>32</td>\n      <td>he learned this from his senses.</td>\n      <td>['he', 'learned', 'this', 'from', 'his', 'sens...</td>\n      <td>-PRON- learn this from -PRON- sense .</td>\n    </tr>\n    <tr>\n      <th>252871</th>\n      <td>Critique Of Pure Reason</td>\n      <td>Kant</td>\n      <td>german_idealism</td>\n      <td>In the second edition, but. .</td>\n      <td>In the second edition, but. .</td>\n      <td>29</td>\n      <td>in the second edition, but. .</td>\n      <td>['in', 'the', 'second', 'edition', 'but']</td>\n      <td>in the second edition , but . .</td>\n    </tr>\n    <tr>\n      <th>235603</th>\n      <td>Being And Time</td>\n      <td>Heidegger</td>\n      <td>phenomenology</td>\n      <td>But in the entangled flight from death, the ev...</td>\n      <td>But in the entangled flight from death, the ev...</td>\n      <td>479</td>\n      <td>but in the entangled flight from death, the ev...</td>\n      <td>['but', 'in', 'the', 'entangled', 'flight', 'f...</td>\n      <td>but in the entangled flight from death , the ...</td>\n    </tr>\n  </tbody>\n</table>\n</div>"
     },
     "metadata": {},
     "execution_count": 15
    }
   ],
   "source": [
    "df = pd.read_csv('phil_nlp.csv')\n",
    "\n",
    "df.sample(5)"
   ]
  },
  {
   "cell_type": "code",
   "execution_count": 16,
   "metadata": {},
   "outputs": [],
   "source": [
    "df['sentence'] = df['sentence_str']\n",
    "df = df.drop(['sentence_spacy', 'sentence_length', 'sentence_str', 'sentence_lowered', 'tokenized_txt', 'lemmatized_str'], axis=1)\n"
   ]
  },
  {
   "cell_type": "code",
   "execution_count": 17,
   "metadata": {},
   "outputs": [],
   "source": [
    "df.columns = [i.upper() for i in df.columns]"
   ]
  },
  {
   "cell_type": "code",
   "execution_count": 18,
   "metadata": {},
   "outputs": [
    {
     "output_type": "execute_result",
     "data": {
      "text/plain": [
       "                             TITLE     AUTHOR           SCHOOL  \\\n",
       "189428    Madness And Civilization   Foucault      continental   \n",
       "63492   Aristotle - Complete Works  Aristotle        aristotle   \n",
       "161193                Quintessence      Quine         analytic   \n",
       "57614   Aristotle - Complete Works  Aristotle        aristotle   \n",
       "273729            Science Of Logic      Hegel  german_idealism   \n",
       "\n",
       "                                                 SENTENCE  \n",
       "189428                          It is understandable then  \n",
       "63492   To the same class belong also skin, blood vess...  \n",
       "161193  He is thereupon in a position to accumulate in...  \n",
       "57614   There is only one kind of sea louse; they are ...  \n",
       "273729  what amounts to the same thing, that it is onl...  "
      ],
      "text/html": "<div>\n<style scoped>\n    .dataframe tbody tr th:only-of-type {\n        vertical-align: middle;\n    }\n\n    .dataframe tbody tr th {\n        vertical-align: top;\n    }\n\n    .dataframe thead th {\n        text-align: right;\n    }\n</style>\n<table border=\"1\" class=\"dataframe\">\n  <thead>\n    <tr style=\"text-align: right;\">\n      <th></th>\n      <th>TITLE</th>\n      <th>AUTHOR</th>\n      <th>SCHOOL</th>\n      <th>SENTENCE</th>\n    </tr>\n  </thead>\n  <tbody>\n    <tr>\n      <th>189428</th>\n      <td>Madness And Civilization</td>\n      <td>Foucault</td>\n      <td>continental</td>\n      <td>It is understandable then</td>\n    </tr>\n    <tr>\n      <th>63492</th>\n      <td>Aristotle - Complete Works</td>\n      <td>Aristotle</td>\n      <td>aristotle</td>\n      <td>To the same class belong also skin, blood vess...</td>\n    </tr>\n    <tr>\n      <th>161193</th>\n      <td>Quintessence</td>\n      <td>Quine</td>\n      <td>analytic</td>\n      <td>He is thereupon in a position to accumulate in...</td>\n    </tr>\n    <tr>\n      <th>57614</th>\n      <td>Aristotle - Complete Works</td>\n      <td>Aristotle</td>\n      <td>aristotle</td>\n      <td>There is only one kind of sea louse; they are ...</td>\n    </tr>\n    <tr>\n      <th>273729</th>\n      <td>Science Of Logic</td>\n      <td>Hegel</td>\n      <td>german_idealism</td>\n      <td>what amounts to the same thing, that it is onl...</td>\n    </tr>\n  </tbody>\n</table>\n</div>"
     },
     "metadata": {},
     "execution_count": 18
    }
   ],
   "source": [
    "df.sample(5)"
   ]
  },
  {
   "cell_type": "code",
   "execution_count": 19,
   "metadata": {},
   "outputs": [
    {
     "output_type": "execute_result",
     "data": {
      "text/plain": [
       "              TITLE     AUTHOR    SCHOOL  \\\n",
       "324140  Enchiridion  Epictetus  Stoicism   \n",
       "324141  Enchiridion  Epictetus  Stoicism   \n",
       "324142  Enchiridion  Epictetus  Stoicism   \n",
       "324143  Enchiridion  Epictetus  Stoicism   \n",
       "324144  Enchiridion  Epictetus  Stoicism   \n",
       "\n",
       "                                                 SENTENCE  \n",
       "324140  There are things which are within our power, a...  \n",
       "324141  Within our power are opinion, aim, desire, ave...  \n",
       "324142  Beyond our power are body, property, reputatio...  \n",
       "324143  Now the things within our power are by nature ...  \n",
       "324144  Remember, then, that if you attribute freedom ...  "
      ],
      "text/html": "<div>\n<style scoped>\n    .dataframe tbody tr th:only-of-type {\n        vertical-align: middle;\n    }\n\n    .dataframe tbody tr th {\n        vertical-align: top;\n    }\n\n    .dataframe thead th {\n        text-align: right;\n    }\n</style>\n<table border=\"1\" class=\"dataframe\">\n  <thead>\n    <tr style=\"text-align: right;\">\n      <th></th>\n      <th>TITLE</th>\n      <th>AUTHOR</th>\n      <th>SCHOOL</th>\n      <th>SENTENCE</th>\n    </tr>\n  </thead>\n  <tbody>\n    <tr>\n      <th>324140</th>\n      <td>Enchiridion</td>\n      <td>Epictetus</td>\n      <td>Stoicism</td>\n      <td>There are things which are within our power, a...</td>\n    </tr>\n    <tr>\n      <th>324141</th>\n      <td>Enchiridion</td>\n      <td>Epictetus</td>\n      <td>Stoicism</td>\n      <td>Within our power are opinion, aim, desire, ave...</td>\n    </tr>\n    <tr>\n      <th>324142</th>\n      <td>Enchiridion</td>\n      <td>Epictetus</td>\n      <td>Stoicism</td>\n      <td>Beyond our power are body, property, reputatio...</td>\n    </tr>\n    <tr>\n      <th>324143</th>\n      <td>Enchiridion</td>\n      <td>Epictetus</td>\n      <td>Stoicism</td>\n      <td>Now the things within our power are by nature ...</td>\n    </tr>\n    <tr>\n      <th>324144</th>\n      <td>Enchiridion</td>\n      <td>Epictetus</td>\n      <td>Stoicism</td>\n      <td>Remember, then, that if you attribute freedom ...</td>\n    </tr>\n  </tbody>\n</table>\n</div>"
     },
     "metadata": {},
     "execution_count": 19
    }
   ],
   "source": [
    "df['SCHOOL'] = df['SCHOOL'].apply(lambda x: x.replace('_', ' ').title())\n",
    "\n",
    "df[df['SCHOOL'] == 'Stoicism'].head()"
   ]
  },
  {
   "cell_type": "code",
   "execution_count": null,
   "metadata": {},
   "outputs": [],
   "source": []
  },
  {
   "cell_type": "code",
   "execution_count": 20,
   "metadata": {},
   "outputs": [],
   "source": [
    "classifier_dict = {}\n",
    "for author in df['AUTHOR'].unique():\n",
    "  classifier_dict[author] = 'AUTHOR'\n",
    "for title in df['TITLE'].unique():\n",
    "  classifier_dict[title] = 'TITLE'\n",
    "for school in df['SCHOOL'].unique():\n",
    "  classifier_dict[school] = 'SCHOOL'"
   ]
  },
  {
   "cell_type": "code",
   "execution_count": 21,
   "metadata": {},
   "outputs": [],
   "source": [
    "for source in classifier_dict.keys():\n",
    "        source_slice = df[df[classifier_dict[source]]==source]\n",
    "        source = source.title()\n",
    "        source_pkl = open(f'slice_pickles/{source}_slice.pkl', 'wb')\n",
    "        pickle.dump(source_slice, source_pkl)\n",
    "        source_pkl.close()\n"
   ]
  },
  {
   "source": [
    "Now get an updated dropdown menu."
   ],
   "cell_type": "markdown",
   "metadata": {}
  },
  {
   "cell_type": "code",
   "execution_count": 10,
   "metadata": {},
   "outputs": [],
   "source": [
    "all_options = sorted([x.title() for x in list(classifier_dict.keys())])"
   ]
  },
  {
   "cell_type": "code",
   "execution_count": 11,
   "metadata": {},
   "outputs": [
    {
     "output_type": "execute_result",
     "data": {
      "text/plain": [
       "['A General Theory Of Employment, Interest, And Money',\n",
       " 'A Treatise Concerning The Principles Of Human Knowledge',\n",
       " 'A Treatise Of Human Nature',\n",
       " 'Analytic',\n",
       " 'Anti-Oedipus',\n",
       " 'Aristotle',\n",
       " 'Aristotle - Complete Works',\n",
       " 'Being And Time',\n",
       " 'Berkeley',\n",
       " 'Capital',\n",
       " 'Capitalism',\n",
       " 'Communism',\n",
       " 'Continental',\n",
       " 'Critique Of Judgement',\n",
       " 'Critique Of Practical Reason',\n",
       " 'Critique Of Pure Reason',\n",
       " 'Deleuze',\n",
       " 'Derrida',\n",
       " 'Descartes',\n",
       " 'Dialogues Concerning Natural Religion',\n",
       " 'Difference And Repetition',\n",
       " 'Discourse On Method',\n",
       " 'Elements Of The Philosophy Of Right',\n",
       " 'Empiricism',\n",
       " 'Enchiridion',\n",
       " 'Epictetus',\n",
       " 'Essay Concerning Human Understanding',\n",
       " 'Essential Works Of Lenin',\n",
       " 'Ethics',\n",
       " 'Fichte',\n",
       " 'Foucault',\n",
       " 'German Idealism',\n",
       " 'Hegel',\n",
       " 'Heidegger',\n",
       " 'Hume',\n",
       " 'Husserl',\n",
       " 'Kant',\n",
       " 'Keynes',\n",
       " 'Kripke',\n",
       " 'Leibniz',\n",
       " 'Lenin',\n",
       " 'Lewis',\n",
       " 'Lewis - Papers',\n",
       " 'Locke',\n",
       " 'Madness And Civilization',\n",
       " 'Malebranche',\n",
       " 'Marx',\n",
       " 'Meditations',\n",
       " 'Merleau-Ponty',\n",
       " 'Moore',\n",
       " 'Naming And Necessity',\n",
       " 'Off The Beaten Track',\n",
       " 'On The Improvement Of Understanding',\n",
       " 'On The Principles Of Political Economy And Taxation',\n",
       " 'Phenomenology',\n",
       " 'Philosophical Investigations',\n",
       " 'Philosophical Studies',\n",
       " 'Philosophical Troubles',\n",
       " 'Plato',\n",
       " 'Plato - Complete Works',\n",
       " 'Popper',\n",
       " 'Quine',\n",
       " 'Quintessence',\n",
       " 'Rationalism',\n",
       " 'Ricardo',\n",
       " 'Russell',\n",
       " 'Science Of Logic',\n",
       " 'Second Treatise On Government',\n",
       " 'Smith',\n",
       " 'Spinoza',\n",
       " 'Stoicism',\n",
       " 'The Analysis Of Mind',\n",
       " 'The Birth Of The Clinic',\n",
       " 'The Communist Manifesto',\n",
       " 'The Crisis Of The European Sciences And Phenomenology',\n",
       " 'The Idea Of Phenomenology',\n",
       " 'The Logic Of Scientific Discovery',\n",
       " 'The Order Of Things',\n",
       " 'The Phenomenology Of Perception',\n",
       " 'The Phenomenology Of Spirit',\n",
       " 'The Problems Of Philosophy',\n",
       " 'The Search After Truth',\n",
       " 'The System Of Ethics',\n",
       " 'The Wealth Of Nations',\n",
       " 'Theodicy',\n",
       " 'Three Dialogues',\n",
       " 'Tractatus Logico-Philosophicus',\n",
       " 'Wittgenstein',\n",
       " 'Writing And Difference']"
      ]
     },
     "metadata": {},
     "execution_count": 11
    }
   ],
   "source": [
    "all_options"
   ]
  },
  {
   "cell_type": "code",
   "execution_count": 12,
   "metadata": {},
   "outputs": [
    {
     "output_type": "execute_result",
     "data": {
      "text/plain": [
       "[{'label': 'A General Theory Of Employment, Interest, And Money',\n",
       "  'value': 'A General Theory Of Employment, Interest, And Money'},\n",
       " {'label': 'A Treatise Concerning The Principles Of Human Knowledge',\n",
       "  'value': 'A Treatise Concerning The Principles Of Human Knowledge'},\n",
       " {'label': 'A Treatise Of Human Nature',\n",
       "  'value': 'A Treatise Of Human Nature'},\n",
       " {'label': 'Analytic', 'value': 'Analytic'},\n",
       " {'label': 'Anti-Oedipus', 'value': 'Anti-Oedipus'},\n",
       " {'label': 'Aristotle', 'value': 'Aristotle'},\n",
       " {'label': 'Aristotle - Complete Works',\n",
       "  'value': 'Aristotle - Complete Works'},\n",
       " {'label': 'Being And Time', 'value': 'Being And Time'},\n",
       " {'label': 'Berkeley', 'value': 'Berkeley'},\n",
       " {'label': 'Capital', 'value': 'Capital'},\n",
       " {'label': 'Capitalism', 'value': 'Capitalism'},\n",
       " {'label': 'Communism', 'value': 'Communism'},\n",
       " {'label': 'Continental', 'value': 'Continental'},\n",
       " {'label': 'Critique Of Judgement', 'value': 'Critique Of Judgement'},\n",
       " {'label': 'Critique Of Practical Reason',\n",
       "  'value': 'Critique Of Practical Reason'},\n",
       " {'label': 'Critique Of Pure Reason', 'value': 'Critique Of Pure Reason'},\n",
       " {'label': 'Deleuze', 'value': 'Deleuze'},\n",
       " {'label': 'Derrida', 'value': 'Derrida'},\n",
       " {'label': 'Descartes', 'value': 'Descartes'},\n",
       " {'label': 'Dialogues Concerning Natural Religion',\n",
       "  'value': 'Dialogues Concerning Natural Religion'},\n",
       " {'label': 'Difference And Repetition', 'value': 'Difference And Repetition'},\n",
       " {'label': 'Discourse On Method', 'value': 'Discourse On Method'},\n",
       " {'label': 'Elements Of The Philosophy Of Right',\n",
       "  'value': 'Elements Of The Philosophy Of Right'},\n",
       " {'label': 'Empiricism', 'value': 'Empiricism'},\n",
       " {'label': 'Enchiridion', 'value': 'Enchiridion'},\n",
       " {'label': 'Epictetus', 'value': 'Epictetus'},\n",
       " {'label': 'Essay Concerning Human Understanding',\n",
       "  'value': 'Essay Concerning Human Understanding'},\n",
       " {'label': 'Essential Works Of Lenin', 'value': 'Essential Works Of Lenin'},\n",
       " {'label': 'Ethics', 'value': 'Ethics'},\n",
       " {'label': 'Fichte', 'value': 'Fichte'},\n",
       " {'label': 'Foucault', 'value': 'Foucault'},\n",
       " {'label': 'German Idealism', 'value': 'German Idealism'},\n",
       " {'label': 'Hegel', 'value': 'Hegel'},\n",
       " {'label': 'Heidegger', 'value': 'Heidegger'},\n",
       " {'label': 'Hume', 'value': 'Hume'},\n",
       " {'label': 'Husserl', 'value': 'Husserl'},\n",
       " {'label': 'Kant', 'value': 'Kant'},\n",
       " {'label': 'Keynes', 'value': 'Keynes'},\n",
       " {'label': 'Kripke', 'value': 'Kripke'},\n",
       " {'label': 'Leibniz', 'value': 'Leibniz'},\n",
       " {'label': 'Lenin', 'value': 'Lenin'},\n",
       " {'label': 'Lewis', 'value': 'Lewis'},\n",
       " {'label': 'Lewis - Papers', 'value': 'Lewis - Papers'},\n",
       " {'label': 'Locke', 'value': 'Locke'},\n",
       " {'label': 'Madness And Civilization', 'value': 'Madness And Civilization'},\n",
       " {'label': 'Malebranche', 'value': 'Malebranche'},\n",
       " {'label': 'Marx', 'value': 'Marx'},\n",
       " {'label': 'Meditations', 'value': 'Meditations'},\n",
       " {'label': 'Merleau-Ponty', 'value': 'Merleau-Ponty'},\n",
       " {'label': 'Moore', 'value': 'Moore'},\n",
       " {'label': 'Naming And Necessity', 'value': 'Naming And Necessity'},\n",
       " {'label': 'Off The Beaten Track', 'value': 'Off The Beaten Track'},\n",
       " {'label': 'On The Improvement Of Understanding',\n",
       "  'value': 'On The Improvement Of Understanding'},\n",
       " {'label': 'On The Principles Of Political Economy And Taxation',\n",
       "  'value': 'On The Principles Of Political Economy And Taxation'},\n",
       " {'label': 'Phenomenology', 'value': 'Phenomenology'},\n",
       " {'label': 'Philosophical Investigations',\n",
       "  'value': 'Philosophical Investigations'},\n",
       " {'label': 'Philosophical Studies', 'value': 'Philosophical Studies'},\n",
       " {'label': 'Philosophical Troubles', 'value': 'Philosophical Troubles'},\n",
       " {'label': 'Plato', 'value': 'Plato'},\n",
       " {'label': 'Plato - Complete Works', 'value': 'Plato - Complete Works'},\n",
       " {'label': 'Popper', 'value': 'Popper'},\n",
       " {'label': 'Quine', 'value': 'Quine'},\n",
       " {'label': 'Quintessence', 'value': 'Quintessence'},\n",
       " {'label': 'Rationalism', 'value': 'Rationalism'},\n",
       " {'label': 'Ricardo', 'value': 'Ricardo'},\n",
       " {'label': 'Russell', 'value': 'Russell'},\n",
       " {'label': 'Science Of Logic', 'value': 'Science Of Logic'},\n",
       " {'label': 'Second Treatise On Government',\n",
       "  'value': 'Second Treatise On Government'},\n",
       " {'label': 'Smith', 'value': 'Smith'},\n",
       " {'label': 'Spinoza', 'value': 'Spinoza'},\n",
       " {'label': 'Stoicism', 'value': 'Stoicism'},\n",
       " {'label': 'The Analysis Of Mind', 'value': 'The Analysis Of Mind'},\n",
       " {'label': 'The Birth Of The Clinic', 'value': 'The Birth Of The Clinic'},\n",
       " {'label': 'The Communist Manifesto', 'value': 'The Communist Manifesto'},\n",
       " {'label': 'The Crisis Of The European Sciences And Phenomenology',\n",
       "  'value': 'The Crisis Of The European Sciences And Phenomenology'},\n",
       " {'label': 'The Idea Of Phenomenology', 'value': 'The Idea Of Phenomenology'},\n",
       " {'label': 'The Logic Of Scientific Discovery',\n",
       "  'value': 'The Logic Of Scientific Discovery'},\n",
       " {'label': 'The Order Of Things', 'value': 'The Order Of Things'},\n",
       " {'label': 'The Phenomenology Of Perception',\n",
       "  'value': 'The Phenomenology Of Perception'},\n",
       " {'label': 'The Phenomenology Of Spirit',\n",
       "  'value': 'The Phenomenology Of Spirit'},\n",
       " {'label': 'The Problems Of Philosophy',\n",
       "  'value': 'The Problems Of Philosophy'},\n",
       " {'label': 'The Search After Truth', 'value': 'The Search After Truth'},\n",
       " {'label': 'The System Of Ethics', 'value': 'The System Of Ethics'},\n",
       " {'label': 'The Wealth Of Nations', 'value': 'The Wealth Of Nations'},\n",
       " {'label': 'Theodicy', 'value': 'Theodicy'},\n",
       " {'label': 'Three Dialogues', 'value': 'Three Dialogues'},\n",
       " {'label': 'Tractatus Logico-Philosophicus',\n",
       "  'value': 'Tractatus Logico-Philosophicus'},\n",
       " {'label': 'Wittgenstein', 'value': 'Wittgenstein'},\n",
       " {'label': 'Writing And Difference', 'value': 'Writing And Difference'}]"
      ]
     },
     "metadata": {},
     "execution_count": 12
    }
   ],
   "source": [
    "dropdown_menu = []\n",
    "for source in all_options:\n",
    "    dropdown_menu.append({'label': source, 'value': source})\n",
    "\n",
    "dropdown_menu"
   ]
  },
  {
   "cell_type": "code",
   "execution_count": null,
   "metadata": {},
   "outputs": [],
   "source": []
  }
 ]
}