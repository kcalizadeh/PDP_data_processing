{
 "metadata": {
  "language_info": {
   "codemirror_mode": {
    "name": "ipython",
    "version": 3
   },
   "file_extension": ".py",
   "mimetype": "text/x-python",
   "name": "python",
   "nbconvert_exporter": "python",
   "pygments_lexer": "ipython3",
   "version": "3.6.9-final"
  },
  "orig_nbformat": 2,
  "kernelspec": {
   "name": "learn-env",
   "display_name": "learn-env",
   "language": "python"
  }
 },
 "nbformat": 4,
 "nbformat_minor": 2,
 "cells": [
  {
   "cell_type": "code",
   "execution_count": 1,
   "metadata": {},
   "outputs": [],
   "source": [
    "import pandas as pd\n",
    "import pickle"
   ]
  },
  {
   "cell_type": "code",
   "execution_count": 2,
   "metadata": {},
   "outputs": [
    {
     "output_type": "execute_result",
     "data": {
      "text/plain": [
       "                               title        author     school  \\\n",
       "44702     Aristotle - Complete Works     Aristotle  aristotle   \n",
       "141397  Philosophical Investigations  Wittgenstein   analytic   \n",
       "50518     Aristotle - Complete Works     Aristotle  aristotle   \n",
       "294150                       Capital          Marx  communism   \n",
       "159367                  Quintessence         Quine   analytic   \n",
       "\n",
       "                                           sentence_spacy  \\\n",
       "44702   Moreover, there is anger and contentiousness; ...   \n",
       "141397               But the chain of reasons has an end.   \n",
       "50518   Since some things are such as to come to be an...   \n",
       "294150  That mankind in general, are naturally incline...   \n",
       "159367  nary usage are truths involving only 'later th...   \n",
       "\n",
       "                                             sentence_str  sentence_length  \\\n",
       "44702   Moreover, there is anger and contentiousness; ...              111   \n",
       "141397               But the chain of reasons has an end.               36   \n",
       "50518   Since some things are such as to come to be an...              297   \n",
       "294150  That mankind in general, are naturally incline...               69   \n",
       "159367  nary usage are truths involving only 'later th...               89   \n",
       "\n",
       "                                         sentence_lowered  \\\n",
       "44702   moreover, there is anger and contentiousness; ...   \n",
       "141397               but the chain of reasons has an end.   \n",
       "50518   since some things are such as to come to be an...   \n",
       "294150  that mankind in general, are naturally incline...   \n",
       "159367  nary usage are truths involving only 'later th...   \n",
       "\n",
       "                                            tokenized_txt  \\\n",
       "44702   ['moreover', 'there', 'is', 'anger', 'and', 'c...   \n",
       "141397  ['but', 'the', 'chain', 'of', 'reasons', 'has'...   \n",
       "50518   ['since', 'some', 'things', 'are', 'such', 'as...   \n",
       "294150  ['that', 'mankind', 'in', 'general', 'are', 'n...   \n",
       "159367  ['nary', 'usage', 'are', 'truths', 'involving'...   \n",
       "\n",
       "                                           lemmatized_str  \n",
       "44702    moreover , there be anger and contentiousness...  \n",
       "141397              but the chain of reason have an end .  \n",
       "50518    since some thing be such as to come to be and...  \n",
       "294150   that mankind in general , be naturally inclin...  \n",
       "159367   nary usage be truth involve only ' later than...  "
      ],
      "text/html": "<div>\n<style scoped>\n    .dataframe tbody tr th:only-of-type {\n        vertical-align: middle;\n    }\n\n    .dataframe tbody tr th {\n        vertical-align: top;\n    }\n\n    .dataframe thead th {\n        text-align: right;\n    }\n</style>\n<table border=\"1\" class=\"dataframe\">\n  <thead>\n    <tr style=\"text-align: right;\">\n      <th></th>\n      <th>title</th>\n      <th>author</th>\n      <th>school</th>\n      <th>sentence_spacy</th>\n      <th>sentence_str</th>\n      <th>sentence_length</th>\n      <th>sentence_lowered</th>\n      <th>tokenized_txt</th>\n      <th>lemmatized_str</th>\n    </tr>\n  </thead>\n  <tbody>\n    <tr>\n      <th>44702</th>\n      <td>Aristotle - Complete Works</td>\n      <td>Aristotle</td>\n      <td>aristotle</td>\n      <td>Moreover, there is anger and contentiousness; ...</td>\n      <td>Moreover, there is anger and contentiousness; ...</td>\n      <td>111</td>\n      <td>moreover, there is anger and contentiousness; ...</td>\n      <td>['moreover', 'there', 'is', 'anger', 'and', 'c...</td>\n      <td>moreover , there be anger and contentiousness...</td>\n    </tr>\n    <tr>\n      <th>141397</th>\n      <td>Philosophical Investigations</td>\n      <td>Wittgenstein</td>\n      <td>analytic</td>\n      <td>But the chain of reasons has an end.</td>\n      <td>But the chain of reasons has an end.</td>\n      <td>36</td>\n      <td>but the chain of reasons has an end.</td>\n      <td>['but', 'the', 'chain', 'of', 'reasons', 'has'...</td>\n      <td>but the chain of reason have an end .</td>\n    </tr>\n    <tr>\n      <th>50518</th>\n      <td>Aristotle - Complete Works</td>\n      <td>Aristotle</td>\n      <td>aristotle</td>\n      <td>Since some things are such as to come to be an...</td>\n      <td>Since some things are such as to come to be an...</td>\n      <td>297</td>\n      <td>since some things are such as to come to be an...</td>\n      <td>['since', 'some', 'things', 'are', 'such', 'as...</td>\n      <td>since some thing be such as to come to be and...</td>\n    </tr>\n    <tr>\n      <th>294150</th>\n      <td>Capital</td>\n      <td>Marx</td>\n      <td>communism</td>\n      <td>That mankind in general, are naturally incline...</td>\n      <td>That mankind in general, are naturally incline...</td>\n      <td>69</td>\n      <td>that mankind in general, are naturally incline...</td>\n      <td>['that', 'mankind', 'in', 'general', 'are', 'n...</td>\n      <td>that mankind in general , be naturally inclin...</td>\n    </tr>\n    <tr>\n      <th>159367</th>\n      <td>Quintessence</td>\n      <td>Quine</td>\n      <td>analytic</td>\n      <td>nary usage are truths involving only 'later th...</td>\n      <td>nary usage are truths involving only 'later th...</td>\n      <td>89</td>\n      <td>nary usage are truths involving only 'later th...</td>\n      <td>['nary', 'usage', 'are', 'truths', 'involving'...</td>\n      <td>nary usage be truth involve only ' later than...</td>\n    </tr>\n  </tbody>\n</table>\n</div>"
     },
     "metadata": {},
     "execution_count": 2
    }
   ],
   "source": [
    "df = pd.read_csv('phil_nlp.csv')\n",
    "\n",
    "df.sample(5)"
   ]
  },
  {
   "cell_type": "code",
   "execution_count": 3,
   "metadata": {},
   "outputs": [],
   "source": [
    "df['sentence'] = df['sentence_str']\n",
    "df = df.drop(['sentence_spacy', 'sentence_length', 'sentence_str', 'sentence_lowered', 'tokenized_txt', 'lemmatized_str'], axis=1)\n"
   ]
  },
  {
   "cell_type": "code",
   "execution_count": 4,
   "metadata": {},
   "outputs": [],
   "source": [
    "df.columns = [i.upper() for i in df.columns]"
   ]
  },
  {
   "cell_type": "code",
   "execution_count": 5,
   "metadata": {},
   "outputs": [
    {
     "output_type": "execute_result",
     "data": {
      "text/plain": [
       "                                  TITLE         AUTHOR           SCHOOL  \\\n",
       "183991                     On Certainty   Wittgenstein         analytic   \n",
       "20780            Plato - Complete Works          Plato            plato   \n",
       "219654  The Phenomenology Of Perception  Merleau-Ponty    phenomenology   \n",
       "266659             The System Of Ethics         Fichte  german_idealism   \n",
       "293003                          Capital           Marx        communism   \n",
       "\n",
       "                                                 SENTENCE  \n",
       "183991           The child learns by believing the adult.  \n",
       "20780                 That's weird, Hippias, and amazing!  \n",
       "219654  I may, through sight or touch, recognize a cry...  \n",
       "266659  Regardless of what you say, you yourself are n...  \n",
       "293003         The bricklayers, too, figure amongst them.  "
      ],
      "text/html": "<div>\n<style scoped>\n    .dataframe tbody tr th:only-of-type {\n        vertical-align: middle;\n    }\n\n    .dataframe tbody tr th {\n        vertical-align: top;\n    }\n\n    .dataframe thead th {\n        text-align: right;\n    }\n</style>\n<table border=\"1\" class=\"dataframe\">\n  <thead>\n    <tr style=\"text-align: right;\">\n      <th></th>\n      <th>TITLE</th>\n      <th>AUTHOR</th>\n      <th>SCHOOL</th>\n      <th>SENTENCE</th>\n    </tr>\n  </thead>\n  <tbody>\n    <tr>\n      <th>183991</th>\n      <td>On Certainty</td>\n      <td>Wittgenstein</td>\n      <td>analytic</td>\n      <td>The child learns by believing the adult.</td>\n    </tr>\n    <tr>\n      <th>20780</th>\n      <td>Plato - Complete Works</td>\n      <td>Plato</td>\n      <td>plato</td>\n      <td>That's weird, Hippias, and amazing!</td>\n    </tr>\n    <tr>\n      <th>219654</th>\n      <td>The Phenomenology Of Perception</td>\n      <td>Merleau-Ponty</td>\n      <td>phenomenology</td>\n      <td>I may, through sight or touch, recognize a cry...</td>\n    </tr>\n    <tr>\n      <th>266659</th>\n      <td>The System Of Ethics</td>\n      <td>Fichte</td>\n      <td>german_idealism</td>\n      <td>Regardless of what you say, you yourself are n...</td>\n    </tr>\n    <tr>\n      <th>293003</th>\n      <td>Capital</td>\n      <td>Marx</td>\n      <td>communism</td>\n      <td>The bricklayers, too, figure amongst them.</td>\n    </tr>\n  </tbody>\n</table>\n</div>"
     },
     "metadata": {},
     "execution_count": 5
    }
   ],
   "source": [
    "df.sample(5)"
   ]
  },
  {
   "cell_type": "code",
   "execution_count": 6,
   "metadata": {},
   "outputs": [
    {
     "output_type": "execute_result",
     "data": {
      "text/plain": [
       "              TITLE           AUTHOR    SCHOOL  \\\n",
       "326700  Meditations  Marcus Aurelius  Stoicism   \n",
       "328315  Meditations  Marcus Aurelius  Stoicism   \n",
       "326630  Meditations  Marcus Aurelius  Stoicism   \n",
       "328410  Meditations  Marcus Aurelius  Stoicism   \n",
       "327654  Meditations  Marcus Aurelius  Stoicism   \n",
       "\n",
       "                                                 SENTENCE  \n",
       "326700  To follow reason for ordinary duties and actio...  \n",
       "328315                   For that is proper to sore eyes.  \n",
       "326630  Heraclitus having written so many natural trac...  \n",
       "328410          It ought to be written upon thy forehead.  \n",
       "327654  As every fancy and imagination presents itself...  "
      ],
      "text/html": "<div>\n<style scoped>\n    .dataframe tbody tr th:only-of-type {\n        vertical-align: middle;\n    }\n\n    .dataframe tbody tr th {\n        vertical-align: top;\n    }\n\n    .dataframe thead th {\n        text-align: right;\n    }\n</style>\n<table border=\"1\" class=\"dataframe\">\n  <thead>\n    <tr style=\"text-align: right;\">\n      <th></th>\n      <th>TITLE</th>\n      <th>AUTHOR</th>\n      <th>SCHOOL</th>\n      <th>SENTENCE</th>\n    </tr>\n  </thead>\n  <tbody>\n    <tr>\n      <th>326700</th>\n      <td>Meditations</td>\n      <td>Marcus Aurelius</td>\n      <td>Stoicism</td>\n      <td>To follow reason for ordinary duties and actio...</td>\n    </tr>\n    <tr>\n      <th>328315</th>\n      <td>Meditations</td>\n      <td>Marcus Aurelius</td>\n      <td>Stoicism</td>\n      <td>For that is proper to sore eyes.</td>\n    </tr>\n    <tr>\n      <th>326630</th>\n      <td>Meditations</td>\n      <td>Marcus Aurelius</td>\n      <td>Stoicism</td>\n      <td>Heraclitus having written so many natural trac...</td>\n    </tr>\n    <tr>\n      <th>328410</th>\n      <td>Meditations</td>\n      <td>Marcus Aurelius</td>\n      <td>Stoicism</td>\n      <td>It ought to be written upon thy forehead.</td>\n    </tr>\n    <tr>\n      <th>327654</th>\n      <td>Meditations</td>\n      <td>Marcus Aurelius</td>\n      <td>Stoicism</td>\n      <td>As every fancy and imagination presents itself...</td>\n    </tr>\n  </tbody>\n</table>\n</div>"
     },
     "metadata": {},
     "execution_count": 6
    }
   ],
   "source": [
    "df['SCHOOL'] = df['SCHOOL'].apply(lambda x: x.replace('_', ' ').title())\n",
    "\n",
    "df[df['SCHOOL'] == 'Stoicism'].sample(5)"
   ]
  },
  {
   "cell_type": "code",
   "execution_count": 7,
   "metadata": {},
   "outputs": [],
   "source": [
    "classifier_dict = {}\n",
    "for author in df['AUTHOR'].unique():\n",
    "  classifier_dict[author] = 'AUTHOR'\n",
    "for title in df['TITLE'].unique():\n",
    "  classifier_dict[title] = 'TITLE'\n",
    "for school in df['SCHOOL'].unique():\n",
    "  classifier_dict[school] = 'SCHOOL'"
   ]
  },
  {
   "cell_type": "code",
   "execution_count": 8,
   "metadata": {},
   "outputs": [],
   "source": [
    "for source in classifier_dict.keys():\n",
    "        source_slice = df[df[classifier_dict[source]]==source]\n",
    "        source = source.title()\n",
    "        source_pkl = open(f'../search_app/slice_pickles/{source}_slice.pkl', 'wb')\n",
    "        pickle.dump(source_slice, source_pkl)\n",
    "        source_pkl.close()\n"
   ]
  },
  {
   "source": [
    "Now get an updated dropdown menu."
   ],
   "cell_type": "markdown",
   "metadata": {}
  },
  {
   "cell_type": "code",
   "execution_count": 9,
   "metadata": {},
   "outputs": [],
   "source": [
    "all_options = sorted([x.title() for x in list(classifier_dict.keys())])"
   ]
  },
  {
   "cell_type": "code",
   "execution_count": 10,
   "metadata": {},
   "outputs": [
    {
     "output_type": "execute_result",
     "data": {
      "text/plain": [
       "['A General Theory Of Employment, Interest, And Money',\n",
       " 'A Treatise Concerning The Principles Of Human Knowledge',\n",
       " 'A Treatise Of Human Nature',\n",
       " 'Analytic',\n",
       " 'Anti-Oedipus',\n",
       " 'Aristotle',\n",
       " 'Aristotle - Complete Works',\n",
       " 'Being And Time',\n",
       " 'Berkeley',\n",
       " 'Capital',\n",
       " 'Capitalism',\n",
       " 'Communism',\n",
       " 'Continental',\n",
       " 'Critique Of Judgement',\n",
       " 'Critique Of Practical Reason',\n",
       " 'Critique Of Pure Reason',\n",
       " 'Deleuze',\n",
       " 'Derrida',\n",
       " 'Descartes',\n",
       " 'Dialogues Concerning Natural Religion',\n",
       " 'Difference And Repetition',\n",
       " 'Discourse On Method',\n",
       " 'Elements Of The Philosophy Of Right',\n",
       " 'Empiricism',\n",
       " 'Enchiridion',\n",
       " 'Epictetus',\n",
       " 'Essay Concerning Human Understanding',\n",
       " 'Essential Works Of Lenin',\n",
       " 'Ethics',\n",
       " 'Fichte',\n",
       " 'Foucault',\n",
       " 'German Idealism',\n",
       " 'Hegel',\n",
       " 'Heidegger',\n",
       " 'Hume',\n",
       " 'Husserl',\n",
       " 'Kant',\n",
       " 'Keynes',\n",
       " 'Kripke',\n",
       " 'Leibniz',\n",
       " 'Lenin',\n",
       " 'Lewis',\n",
       " 'Lewis - Papers',\n",
       " 'Locke',\n",
       " 'Madness And Civilization',\n",
       " 'Malebranche',\n",
       " 'Marcus Aurelius',\n",
       " 'Marx',\n",
       " 'Meditations',\n",
       " 'Meditations On First Philosophy',\n",
       " 'Merleau-Ponty',\n",
       " 'Moore',\n",
       " 'Naming And Necessity',\n",
       " 'Off The Beaten Track',\n",
       " 'On Certainty',\n",
       " 'On The Improvement Of Understanding',\n",
       " 'On The Principles Of Political Economy And Taxation',\n",
       " 'Phenomenology',\n",
       " 'Philosophical Investigations',\n",
       " 'Philosophical Studies',\n",
       " 'Philosophical Troubles',\n",
       " 'Plato',\n",
       " 'Plato - Complete Works',\n",
       " 'Popper',\n",
       " 'Quine',\n",
       " 'Quintessence',\n",
       " 'Rationalism',\n",
       " 'Ricardo',\n",
       " 'Russell',\n",
       " 'Science Of Logic',\n",
       " 'Second Treatise On Government',\n",
       " 'Smith',\n",
       " 'Spinoza',\n",
       " 'Stoicism',\n",
       " 'The Analysis Of Mind',\n",
       " 'The Birth Of The Clinic',\n",
       " 'The Communist Manifesto',\n",
       " 'The Crisis Of The European Sciences And Phenomenology',\n",
       " 'The Idea Of Phenomenology',\n",
       " 'The Logic Of Scientific Discovery',\n",
       " 'The Order Of Things',\n",
       " 'The Phenomenology Of Perception',\n",
       " 'The Phenomenology Of Spirit',\n",
       " 'The Problems Of Philosophy',\n",
       " 'The Search After Truth',\n",
       " 'The System Of Ethics',\n",
       " 'The Wealth Of Nations',\n",
       " 'Theodicy',\n",
       " 'Three Dialogues',\n",
       " 'Tractatus Logico-Philosophicus',\n",
       " 'Wittgenstein',\n",
       " 'Writing And Difference']"
      ]
     },
     "metadata": {},
     "execution_count": 10
    }
   ],
   "source": [
    "all_options"
   ]
  },
  {
   "cell_type": "code",
   "execution_count": 11,
   "metadata": {},
   "outputs": [
    {
     "output_type": "execute_result",
     "data": {
      "text/plain": [
       "[{'label': 'A General Theory Of Employment, Interest, And Money',\n",
       "  'value': 'A General Theory Of Employment, Interest, And Money'},\n",
       " {'label': 'A Treatise Concerning The Principles Of Human Knowledge',\n",
       "  'value': 'A Treatise Concerning The Principles Of Human Knowledge'},\n",
       " {'label': 'A Treatise Of Human Nature',\n",
       "  'value': 'A Treatise Of Human Nature'},\n",
       " {'label': 'Analytic', 'value': 'Analytic'},\n",
       " {'label': 'Anti-Oedipus', 'value': 'Anti-Oedipus'},\n",
       " {'label': 'Aristotle', 'value': 'Aristotle'},\n",
       " {'label': 'Aristotle - Complete Works',\n",
       "  'value': 'Aristotle - Complete Works'},\n",
       " {'label': 'Being And Time', 'value': 'Being And Time'},\n",
       " {'label': 'Berkeley', 'value': 'Berkeley'},\n",
       " {'label': 'Capital', 'value': 'Capital'},\n",
       " {'label': 'Capitalism', 'value': 'Capitalism'},\n",
       " {'label': 'Communism', 'value': 'Communism'},\n",
       " {'label': 'Continental', 'value': 'Continental'},\n",
       " {'label': 'Critique Of Judgement', 'value': 'Critique Of Judgement'},\n",
       " {'label': 'Critique Of Practical Reason',\n",
       "  'value': 'Critique Of Practical Reason'},\n",
       " {'label': 'Critique Of Pure Reason', 'value': 'Critique Of Pure Reason'},\n",
       " {'label': 'Deleuze', 'value': 'Deleuze'},\n",
       " {'label': 'Derrida', 'value': 'Derrida'},\n",
       " {'label': 'Descartes', 'value': 'Descartes'},\n",
       " {'label': 'Dialogues Concerning Natural Religion',\n",
       "  'value': 'Dialogues Concerning Natural Religion'},\n",
       " {'label': 'Difference And Repetition', 'value': 'Difference And Repetition'},\n",
       " {'label': 'Discourse On Method', 'value': 'Discourse On Method'},\n",
       " {'label': 'Elements Of The Philosophy Of Right',\n",
       "  'value': 'Elements Of The Philosophy Of Right'},\n",
       " {'label': 'Empiricism', 'value': 'Empiricism'},\n",
       " {'label': 'Enchiridion', 'value': 'Enchiridion'},\n",
       " {'label': 'Epictetus', 'value': 'Epictetus'},\n",
       " {'label': 'Essay Concerning Human Understanding',\n",
       "  'value': 'Essay Concerning Human Understanding'},\n",
       " {'label': 'Essential Works Of Lenin', 'value': 'Essential Works Of Lenin'},\n",
       " {'label': 'Ethics', 'value': 'Ethics'},\n",
       " {'label': 'Fichte', 'value': 'Fichte'},\n",
       " {'label': 'Foucault', 'value': 'Foucault'},\n",
       " {'label': 'German Idealism', 'value': 'German Idealism'},\n",
       " {'label': 'Hegel', 'value': 'Hegel'},\n",
       " {'label': 'Heidegger', 'value': 'Heidegger'},\n",
       " {'label': 'Hume', 'value': 'Hume'},\n",
       " {'label': 'Husserl', 'value': 'Husserl'},\n",
       " {'label': 'Kant', 'value': 'Kant'},\n",
       " {'label': 'Keynes', 'value': 'Keynes'},\n",
       " {'label': 'Kripke', 'value': 'Kripke'},\n",
       " {'label': 'Leibniz', 'value': 'Leibniz'},\n",
       " {'label': 'Lenin', 'value': 'Lenin'},\n",
       " {'label': 'Lewis', 'value': 'Lewis'},\n",
       " {'label': 'Lewis - Papers', 'value': 'Lewis - Papers'},\n",
       " {'label': 'Locke', 'value': 'Locke'},\n",
       " {'label': 'Madness And Civilization', 'value': 'Madness And Civilization'},\n",
       " {'label': 'Malebranche', 'value': 'Malebranche'},\n",
       " {'label': 'Marcus Aurelius', 'value': 'Marcus Aurelius'},\n",
       " {'label': 'Marx', 'value': 'Marx'},\n",
       " {'label': 'Meditations', 'value': 'Meditations'},\n",
       " {'label': 'Meditations On First Philosophy',\n",
       "  'value': 'Meditations On First Philosophy'},\n",
       " {'label': 'Merleau-Ponty', 'value': 'Merleau-Ponty'},\n",
       " {'label': 'Moore', 'value': 'Moore'},\n",
       " {'label': 'Naming And Necessity', 'value': 'Naming And Necessity'},\n",
       " {'label': 'Off The Beaten Track', 'value': 'Off The Beaten Track'},\n",
       " {'label': 'On Certainty', 'value': 'On Certainty'},\n",
       " {'label': 'On The Improvement Of Understanding',\n",
       "  'value': 'On The Improvement Of Understanding'},\n",
       " {'label': 'On The Principles Of Political Economy And Taxation',\n",
       "  'value': 'On The Principles Of Political Economy And Taxation'},\n",
       " {'label': 'Phenomenology', 'value': 'Phenomenology'},\n",
       " {'label': 'Philosophical Investigations',\n",
       "  'value': 'Philosophical Investigations'},\n",
       " {'label': 'Philosophical Studies', 'value': 'Philosophical Studies'},\n",
       " {'label': 'Philosophical Troubles', 'value': 'Philosophical Troubles'},\n",
       " {'label': 'Plato', 'value': 'Plato'},\n",
       " {'label': 'Plato - Complete Works', 'value': 'Plato - Complete Works'},\n",
       " {'label': 'Popper', 'value': 'Popper'},\n",
       " {'label': 'Quine', 'value': 'Quine'},\n",
       " {'label': 'Quintessence', 'value': 'Quintessence'},\n",
       " {'label': 'Rationalism', 'value': 'Rationalism'},\n",
       " {'label': 'Ricardo', 'value': 'Ricardo'},\n",
       " {'label': 'Russell', 'value': 'Russell'},\n",
       " {'label': 'Science Of Logic', 'value': 'Science Of Logic'},\n",
       " {'label': 'Second Treatise On Government',\n",
       "  'value': 'Second Treatise On Government'},\n",
       " {'label': 'Smith', 'value': 'Smith'},\n",
       " {'label': 'Spinoza', 'value': 'Spinoza'},\n",
       " {'label': 'Stoicism', 'value': 'Stoicism'},\n",
       " {'label': 'The Analysis Of Mind', 'value': 'The Analysis Of Mind'},\n",
       " {'label': 'The Birth Of The Clinic', 'value': 'The Birth Of The Clinic'},\n",
       " {'label': 'The Communist Manifesto', 'value': 'The Communist Manifesto'},\n",
       " {'label': 'The Crisis Of The European Sciences And Phenomenology',\n",
       "  'value': 'The Crisis Of The European Sciences And Phenomenology'},\n",
       " {'label': 'The Idea Of Phenomenology', 'value': 'The Idea Of Phenomenology'},\n",
       " {'label': 'The Logic Of Scientific Discovery',\n",
       "  'value': 'The Logic Of Scientific Discovery'},\n",
       " {'label': 'The Order Of Things', 'value': 'The Order Of Things'},\n",
       " {'label': 'The Phenomenology Of Perception',\n",
       "  'value': 'The Phenomenology Of Perception'},\n",
       " {'label': 'The Phenomenology Of Spirit',\n",
       "  'value': 'The Phenomenology Of Spirit'},\n",
       " {'label': 'The Problems Of Philosophy',\n",
       "  'value': 'The Problems Of Philosophy'},\n",
       " {'label': 'The Search After Truth', 'value': 'The Search After Truth'},\n",
       " {'label': 'The System Of Ethics', 'value': 'The System Of Ethics'},\n",
       " {'label': 'The Wealth Of Nations', 'value': 'The Wealth Of Nations'},\n",
       " {'label': 'Theodicy', 'value': 'Theodicy'},\n",
       " {'label': 'Three Dialogues', 'value': 'Three Dialogues'},\n",
       " {'label': 'Tractatus Logico-Philosophicus',\n",
       "  'value': 'Tractatus Logico-Philosophicus'},\n",
       " {'label': 'Wittgenstein', 'value': 'Wittgenstein'},\n",
       " {'label': 'Writing And Difference', 'value': 'Writing And Difference'}]"
      ]
     },
     "metadata": {},
     "execution_count": 11
    }
   ],
   "source": [
    "dropdown_menu = []\n",
    "for source in all_options:\n",
    "    dropdown_menu.append({'label': source, 'value': source})\n",
    "\n",
    "dropdown_menu"
   ]
  },
  {
   "cell_type": "code",
   "execution_count": null,
   "metadata": {},
   "outputs": [],
   "source": []
  }
 ]
}