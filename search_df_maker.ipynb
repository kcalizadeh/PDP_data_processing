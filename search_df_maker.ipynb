{
 "metadata": {
  "language_info": {
   "codemirror_mode": {
    "name": "ipython",
    "version": 3
   },
   "file_extension": ".py",
   "mimetype": "text/x-python",
   "name": "python",
   "nbconvert_exporter": "python",
   "pygments_lexer": "ipython3",
   "version": "3.6.9-final"
  },
  "orig_nbformat": 2,
  "kernelspec": {
   "name": "learn-env",
   "display_name": "learn-env",
   "language": "python"
  }
 },
 "nbformat": 4,
 "nbformat_minor": 2,
 "cells": [
  {
   "cell_type": "code",
   "execution_count": 1,
   "metadata": {},
   "outputs": [],
   "source": [
    "import pandas as pd\n",
    "import pickle"
   ]
  },
  {
   "cell_type": "code",
   "execution_count": 2,
   "metadata": {},
   "outputs": [
    {
     "output_type": "execute_result",
     "data": {
      "text/plain": [
       "                                                    title       author  \\\n",
       "123579                             The Search After Truth  Malebranche   \n",
       "175213                             Philosophical Troubles       Kripke   \n",
       "230813  The Crisis Of The European Sciences And Phenom...      Husserl   \n",
       "57574                          Aristotle - Complete Works    Aristotle   \n",
       "107921                                             Ethics      Spinoza   \n",
       "\n",
       "               school                                     sentence_spacy  \\\n",
       "123579    rationalism  There is a specific reason for each of these t...   \n",
       "175213       analytic  I want to say something further about this que...   \n",
       "230813  phenomenology  Interest in persons is naturally not the mere ...   \n",
       "57574       aristotle  And such of the latter as are divided at the w...   \n",
       "107921    rationalism  the human mind does not know the human body it...   \n",
       "\n",
       "                                             sentence_str  sentence_length  \\\n",
       "123579  There is a specific reason for each of these t...              173   \n",
       "175213  I want to say something further about this que...               64   \n",
       "230813  Interest in persons is naturally not the mere ...              156   \n",
       "57574   And such of the latter as are divided at the w...               74   \n",
       "107921  the human mind does not know the human body it...               60   \n",
       "\n",
       "                                         sentence_lowered  \\\n",
       "123579  there is a specific reason for each of these t...   \n",
       "175213  i want to say something further about this que...   \n",
       "230813  interest in persons is naturally not the mere ...   \n",
       "57574   and such of the latter as are divided at the w...   \n",
       "107921  the human mind does not know the human body it...   \n",
       "\n",
       "                                            tokenized_txt  \\\n",
       "123579  ['there', 'is', 'specific', 'reason', 'for', '...   \n",
       "175213  ['want', 'to', 'say', 'something', 'further', ...   \n",
       "230813  ['interest', 'in', 'persons', 'is', 'naturally...   \n",
       "57574   ['and', 'such', 'of', 'the', 'latter', 'as', '...   \n",
       "107921  ['the', 'human', 'mind', 'does', 'not', 'know'...   \n",
       "\n",
       "                                           lemmatized_str  \n",
       "123579   there be a specific reason for each of these ...  \n",
       "175213   -PRON- want to say something further about th...  \n",
       "230813   interest in person be naturally not the mere ...  \n",
       "57574    and such of the latter as be divide at the wa...  \n",
       "107921   the human mind do not know the human body -PR...  "
      ],
      "text/html": "<div>\n<style scoped>\n    .dataframe tbody tr th:only-of-type {\n        vertical-align: middle;\n    }\n\n    .dataframe tbody tr th {\n        vertical-align: top;\n    }\n\n    .dataframe thead th {\n        text-align: right;\n    }\n</style>\n<table border=\"1\" class=\"dataframe\">\n  <thead>\n    <tr style=\"text-align: right;\">\n      <th></th>\n      <th>title</th>\n      <th>author</th>\n      <th>school</th>\n      <th>sentence_spacy</th>\n      <th>sentence_str</th>\n      <th>sentence_length</th>\n      <th>sentence_lowered</th>\n      <th>tokenized_txt</th>\n      <th>lemmatized_str</th>\n    </tr>\n  </thead>\n  <tbody>\n    <tr>\n      <th>123579</th>\n      <td>The Search After Truth</td>\n      <td>Malebranche</td>\n      <td>rationalism</td>\n      <td>There is a specific reason for each of these t...</td>\n      <td>There is a specific reason for each of these t...</td>\n      <td>173</td>\n      <td>there is a specific reason for each of these t...</td>\n      <td>['there', 'is', 'specific', 'reason', 'for', '...</td>\n      <td>there be a specific reason for each of these ...</td>\n    </tr>\n    <tr>\n      <th>175213</th>\n      <td>Philosophical Troubles</td>\n      <td>Kripke</td>\n      <td>analytic</td>\n      <td>I want to say something further about this que...</td>\n      <td>I want to say something further about this que...</td>\n      <td>64</td>\n      <td>i want to say something further about this que...</td>\n      <td>['want', 'to', 'say', 'something', 'further', ...</td>\n      <td>-PRON- want to say something further about th...</td>\n    </tr>\n    <tr>\n      <th>230813</th>\n      <td>The Crisis Of The European Sciences And Phenom...</td>\n      <td>Husserl</td>\n      <td>phenomenology</td>\n      <td>Interest in persons is naturally not the mere ...</td>\n      <td>Interest in persons is naturally not the mere ...</td>\n      <td>156</td>\n      <td>interest in persons is naturally not the mere ...</td>\n      <td>['interest', 'in', 'persons', 'is', 'naturally...</td>\n      <td>interest in person be naturally not the mere ...</td>\n    </tr>\n    <tr>\n      <th>57574</th>\n      <td>Aristotle - Complete Works</td>\n      <td>Aristotle</td>\n      <td>aristotle</td>\n      <td>And such of the latter as are divided at the w...</td>\n      <td>And such of the latter as are divided at the w...</td>\n      <td>74</td>\n      <td>and such of the latter as are divided at the w...</td>\n      <td>['and', 'such', 'of', 'the', 'latter', 'as', '...</td>\n      <td>and such of the latter as be divide at the wa...</td>\n    </tr>\n    <tr>\n      <th>107921</th>\n      <td>Ethics</td>\n      <td>Spinoza</td>\n      <td>rationalism</td>\n      <td>the human mind does not know the human body it...</td>\n      <td>the human mind does not know the human body it...</td>\n      <td>60</td>\n      <td>the human mind does not know the human body it...</td>\n      <td>['the', 'human', 'mind', 'does', 'not', 'know'...</td>\n      <td>the human mind do not know the human body -PR...</td>\n    </tr>\n  </tbody>\n</table>\n</div>"
     },
     "metadata": {},
     "execution_count": 2
    }
   ],
   "source": [
    "df = pd.read_csv('phil_nlp.csv')\n",
    "\n",
    "df.sample(5)"
   ]
  },
  {
   "cell_type": "code",
   "execution_count": 3,
   "metadata": {},
   "outputs": [],
   "source": [
    "df['sentence'] = df['sentence_str']\n",
    "df = df.drop(['sentence_spacy', 'sentence_length', 'sentence_str', 'sentence_lowered', 'tokenized_txt', 'lemmatized_str'], axis=1)\n"
   ]
  },
  {
   "cell_type": "code",
   "execution_count": 4,
   "metadata": {},
   "outputs": [],
   "source": [
    "df.columns = [i.upper() for i in df.columns]"
   ]
  },
  {
   "cell_type": "code",
   "execution_count": 5,
   "metadata": {},
   "outputs": [
    {
     "output_type": "execute_result",
     "data": {
      "text/plain": [
       "                                                    TITLE     AUTHOR  \\\n",
       "53992                          Aristotle - Complete Works  Aristotle   \n",
       "44512                          Aristotle - Complete Works  Aristotle   \n",
       "157801                                     Lewis - Papers      Lewis   \n",
       "81279                          Aristotle - Complete Works  Aristotle   \n",
       "230757  The Crisis Of The European Sciences And Phenom...    Husserl   \n",
       "\n",
       "               SCHOOL                                           SENTENCE  \n",
       "53992       aristotle  For no single element, but only composite subs...  \n",
       "44512       aristotle  Or again, as in Melissus' argument, a man assu...  \n",
       "157801       analytic  If the standard process is defined as the proc...  \n",
       "81279       aristotle   These then are the different kinds of democracy.  \n",
       "230757  phenomenology  that is, which is, absolutely identically, wha...  "
      ],
      "text/html": "<div>\n<style scoped>\n    .dataframe tbody tr th:only-of-type {\n        vertical-align: middle;\n    }\n\n    .dataframe tbody tr th {\n        vertical-align: top;\n    }\n\n    .dataframe thead th {\n        text-align: right;\n    }\n</style>\n<table border=\"1\" class=\"dataframe\">\n  <thead>\n    <tr style=\"text-align: right;\">\n      <th></th>\n      <th>TITLE</th>\n      <th>AUTHOR</th>\n      <th>SCHOOL</th>\n      <th>SENTENCE</th>\n    </tr>\n  </thead>\n  <tbody>\n    <tr>\n      <th>53992</th>\n      <td>Aristotle - Complete Works</td>\n      <td>Aristotle</td>\n      <td>aristotle</td>\n      <td>For no single element, but only composite subs...</td>\n    </tr>\n    <tr>\n      <th>44512</th>\n      <td>Aristotle - Complete Works</td>\n      <td>Aristotle</td>\n      <td>aristotle</td>\n      <td>Or again, as in Melissus' argument, a man assu...</td>\n    </tr>\n    <tr>\n      <th>157801</th>\n      <td>Lewis - Papers</td>\n      <td>Lewis</td>\n      <td>analytic</td>\n      <td>If the standard process is defined as the proc...</td>\n    </tr>\n    <tr>\n      <th>81279</th>\n      <td>Aristotle - Complete Works</td>\n      <td>Aristotle</td>\n      <td>aristotle</td>\n      <td>These then are the different kinds of democracy.</td>\n    </tr>\n    <tr>\n      <th>230757</th>\n      <td>The Crisis Of The European Sciences And Phenom...</td>\n      <td>Husserl</td>\n      <td>phenomenology</td>\n      <td>that is, which is, absolutely identically, wha...</td>\n    </tr>\n  </tbody>\n</table>\n</div>"
     },
     "metadata": {},
     "execution_count": 5
    }
   ],
   "source": [
    "df.sample(5)"
   ]
  },
  {
   "cell_type": "code",
   "execution_count": 6,
   "metadata": {},
   "outputs": [
    {
     "output_type": "execute_result",
     "data": {
      "text/plain": [
       "              TITLE           AUTHOR    SCHOOL  \\\n",
       "328265  Meditations  Marcus Aurelius  Stoicism   \n",
       "326499  Meditations  Marcus Aurelius  Stoicism   \n",
       "328203  Meditations  Marcus Aurelius  Stoicism   \n",
       "327629  Meditations  Marcus Aurelius  Stoicism   \n",
       "326136  Enchiridion        Epictetus  Stoicism   \n",
       "\n",
       "                                                 SENTENCE  \n",
       "328265  Do thou therefore if thou canst, take away tha...  \n",
       "326499                          congiaries, and the like.  \n",
       "328203  In the morning as soon as thou art awaked, whe...  \n",
       "327629       So that thou needest not fear any new thing.  \n",
       "326136  But for the present, altogether restrain desir...  "
      ],
      "text/html": "<div>\n<style scoped>\n    .dataframe tbody tr th:only-of-type {\n        vertical-align: middle;\n    }\n\n    .dataframe tbody tr th {\n        vertical-align: top;\n    }\n\n    .dataframe thead th {\n        text-align: right;\n    }\n</style>\n<table border=\"1\" class=\"dataframe\">\n  <thead>\n    <tr style=\"text-align: right;\">\n      <th></th>\n      <th>TITLE</th>\n      <th>AUTHOR</th>\n      <th>SCHOOL</th>\n      <th>SENTENCE</th>\n    </tr>\n  </thead>\n  <tbody>\n    <tr>\n      <th>328265</th>\n      <td>Meditations</td>\n      <td>Marcus Aurelius</td>\n      <td>Stoicism</td>\n      <td>Do thou therefore if thou canst, take away tha...</td>\n    </tr>\n    <tr>\n      <th>326499</th>\n      <td>Meditations</td>\n      <td>Marcus Aurelius</td>\n      <td>Stoicism</td>\n      <td>congiaries, and the like.</td>\n    </tr>\n    <tr>\n      <th>328203</th>\n      <td>Meditations</td>\n      <td>Marcus Aurelius</td>\n      <td>Stoicism</td>\n      <td>In the morning as soon as thou art awaked, whe...</td>\n    </tr>\n    <tr>\n      <th>327629</th>\n      <td>Meditations</td>\n      <td>Marcus Aurelius</td>\n      <td>Stoicism</td>\n      <td>So that thou needest not fear any new thing.</td>\n    </tr>\n    <tr>\n      <th>326136</th>\n      <td>Enchiridion</td>\n      <td>Epictetus</td>\n      <td>Stoicism</td>\n      <td>But for the present, altogether restrain desir...</td>\n    </tr>\n  </tbody>\n</table>\n</div>"
     },
     "metadata": {},
     "execution_count": 6
    }
   ],
   "source": [
    "df['SCHOOL'] = df['SCHOOL'].apply(lambda x: x.replace('_', ' ').title())\n",
    "\n",
    "df[df['SCHOOL'] == 'Stoicism'].sample(5)"
   ]
  },
  {
   "cell_type": "code",
   "execution_count": 7,
   "metadata": {},
   "outputs": [],
   "source": [
    "classifier_dict = {}\n",
    "for author in df['AUTHOR'].unique():\n",
    "  classifier_dict[author] = 'AUTHOR'\n",
    "for title in df['TITLE'].unique():\n",
    "  classifier_dict[title] = 'TITLE'\n",
    "for school in df['SCHOOL'].unique():\n",
    "  classifier_dict[school] = 'SCHOOL'"
   ]
  },
  {
   "cell_type": "code",
   "execution_count": 8,
   "metadata": {},
   "outputs": [],
   "source": [
    "for source in classifier_dict.keys():\n",
    "        source_slice = df[df[classifier_dict[source]]==source]\n",
    "        source = source.title()\n",
    "        source_pkl = open(f'../search_app/slice_pickles/{source}_slice.pkl', 'wb')\n",
    "        pickle.dump(source_slice, source_pkl)\n",
    "        source_pkl.close()\n"
   ]
  },
  {
   "source": [
    "Now get an updated dropdown menu."
   ],
   "cell_type": "markdown",
   "metadata": {}
  },
  {
   "cell_type": "code",
   "execution_count": 9,
   "metadata": {},
   "outputs": [],
   "source": [
    "all_options = sorted([x.title() for x in list(classifier_dict.keys())])"
   ]
  },
  {
   "cell_type": "code",
   "execution_count": 10,
   "metadata": {},
   "outputs": [
    {
     "output_type": "execute_result",
     "data": {
      "text/plain": [
       "['A General Theory Of Employment, Interest, And Money',\n",
       " 'A Treatise Concerning The Principles Of Human Knowledge',\n",
       " 'A Treatise Of Human Nature',\n",
       " 'Analytic',\n",
       " 'Anti-Oedipus',\n",
       " 'Aristotle',\n",
       " 'Aristotle - Complete Works',\n",
       " 'Being And Time',\n",
       " 'Berkeley',\n",
       " 'Capital',\n",
       " 'Capitalism',\n",
       " 'Communism',\n",
       " 'Continental',\n",
       " 'Critique Of Judgement',\n",
       " 'Critique Of Practical Reason',\n",
       " 'Critique Of Pure Reason',\n",
       " 'Deleuze',\n",
       " 'Derrida',\n",
       " 'Descartes',\n",
       " 'Dialogues Concerning Natural Religion',\n",
       " 'Difference And Repetition',\n",
       " 'Discourse On Method',\n",
       " 'Elements Of The Philosophy Of Right',\n",
       " 'Empiricism',\n",
       " 'Enchiridion',\n",
       " 'Epictetus',\n",
       " 'Essay Concerning Human Understanding',\n",
       " 'Essential Works Of Lenin',\n",
       " 'Ethics',\n",
       " 'Fichte',\n",
       " 'Foucault',\n",
       " 'German Idealism',\n",
       " 'Hegel',\n",
       " 'Heidegger',\n",
       " 'Hume',\n",
       " 'Husserl',\n",
       " 'Kant',\n",
       " 'Keynes',\n",
       " 'Kripke',\n",
       " 'Leibniz',\n",
       " 'Lenin',\n",
       " 'Lewis',\n",
       " 'Lewis - Papers',\n",
       " 'Locke',\n",
       " 'Madness And Civilization',\n",
       " 'Malebranche',\n",
       " 'Marcus Aurelius',\n",
       " 'Marx',\n",
       " 'Meditations',\n",
       " 'Meditations On First Philosophy',\n",
       " 'Merleau-Ponty',\n",
       " 'Moore',\n",
       " 'Naming And Necessity',\n",
       " 'Off The Beaten Track',\n",
       " 'On Certainty',\n",
       " 'On The Improvement Of Understanding',\n",
       " 'On The Principles Of Political Economy And Taxation',\n",
       " 'Phenomenology',\n",
       " 'Philosophical Investigations',\n",
       " 'Philosophical Studies',\n",
       " 'Philosophical Troubles',\n",
       " 'Plato',\n",
       " 'Plato - Complete Works',\n",
       " 'Popper',\n",
       " 'Quine',\n",
       " 'Quintessence',\n",
       " 'Rationalism',\n",
       " 'Ricardo',\n",
       " 'Russell',\n",
       " 'Science Of Logic',\n",
       " 'Second Treatise On Government',\n",
       " 'Smith',\n",
       " 'Spinoza',\n",
       " 'Stoicism',\n",
       " 'The Analysis Of Mind',\n",
       " 'The Birth Of The Clinic',\n",
       " 'The Communist Manifesto',\n",
       " 'The Crisis Of The European Sciences And Phenomenology',\n",
       " 'The Idea Of Phenomenology',\n",
       " 'The Logic Of Scientific Discovery',\n",
       " 'The Order Of Things',\n",
       " 'The Phenomenology Of Perception',\n",
       " 'The Phenomenology Of Spirit',\n",
       " 'The Problems Of Philosophy',\n",
       " 'The Search After Truth',\n",
       " 'The System Of Ethics',\n",
       " 'The Wealth Of Nations',\n",
       " 'Theodicy',\n",
       " 'Three Dialogues',\n",
       " 'Tractatus Logico-Philosophicus',\n",
       " 'Wittgenstein',\n",
       " 'Writing And Difference']"
      ]
     },
     "metadata": {},
     "execution_count": 10
    }
   ],
   "source": [
    "all_options"
   ]
  },
  {
   "cell_type": "code",
   "execution_count": 11,
   "metadata": {},
   "outputs": [
    {
     "output_type": "execute_result",
     "data": {
      "text/plain": [
       "[{'label': 'A General Theory Of Employment, Interest, And Money',\n",
       "  'value': 'A General Theory Of Employment, Interest, And Money'},\n",
       " {'label': 'A Treatise Concerning The Principles Of Human Knowledge',\n",
       "  'value': 'A Treatise Concerning The Principles Of Human Knowledge'},\n",
       " {'label': 'A Treatise Of Human Nature',\n",
       "  'value': 'A Treatise Of Human Nature'},\n",
       " {'label': 'Analytic', 'value': 'Analytic'},\n",
       " {'label': 'Anti-Oedipus', 'value': 'Anti-Oedipus'},\n",
       " {'label': 'Aristotle', 'value': 'Aristotle'},\n",
       " {'label': 'Aristotle - Complete Works',\n",
       "  'value': 'Aristotle - Complete Works'},\n",
       " {'label': 'Being And Time', 'value': 'Being And Time'},\n",
       " {'label': 'Berkeley', 'value': 'Berkeley'},\n",
       " {'label': 'Capital', 'value': 'Capital'},\n",
       " {'label': 'Capitalism', 'value': 'Capitalism'},\n",
       " {'label': 'Communism', 'value': 'Communism'},\n",
       " {'label': 'Continental', 'value': 'Continental'},\n",
       " {'label': 'Critique Of Judgement', 'value': 'Critique Of Judgement'},\n",
       " {'label': 'Critique Of Practical Reason',\n",
       "  'value': 'Critique Of Practical Reason'},\n",
       " {'label': 'Critique Of Pure Reason', 'value': 'Critique Of Pure Reason'},\n",
       " {'label': 'Deleuze', 'value': 'Deleuze'},\n",
       " {'label': 'Derrida', 'value': 'Derrida'},\n",
       " {'label': 'Descartes', 'value': 'Descartes'},\n",
       " {'label': 'Dialogues Concerning Natural Religion',\n",
       "  'value': 'Dialogues Concerning Natural Religion'},\n",
       " {'label': 'Difference And Repetition', 'value': 'Difference And Repetition'},\n",
       " {'label': 'Discourse On Method', 'value': 'Discourse On Method'},\n",
       " {'label': 'Elements Of The Philosophy Of Right',\n",
       "  'value': 'Elements Of The Philosophy Of Right'},\n",
       " {'label': 'Empiricism', 'value': 'Empiricism'},\n",
       " {'label': 'Enchiridion', 'value': 'Enchiridion'},\n",
       " {'label': 'Epictetus', 'value': 'Epictetus'},\n",
       " {'label': 'Essay Concerning Human Understanding',\n",
       "  'value': 'Essay Concerning Human Understanding'},\n",
       " {'label': 'Essential Works Of Lenin', 'value': 'Essential Works Of Lenin'},\n",
       " {'label': 'Ethics', 'value': 'Ethics'},\n",
       " {'label': 'Fichte', 'value': 'Fichte'},\n",
       " {'label': 'Foucault', 'value': 'Foucault'},\n",
       " {'label': 'German Idealism', 'value': 'German Idealism'},\n",
       " {'label': 'Hegel', 'value': 'Hegel'},\n",
       " {'label': 'Heidegger', 'value': 'Heidegger'},\n",
       " {'label': 'Hume', 'value': 'Hume'},\n",
       " {'label': 'Husserl', 'value': 'Husserl'},\n",
       " {'label': 'Kant', 'value': 'Kant'},\n",
       " {'label': 'Keynes', 'value': 'Keynes'},\n",
       " {'label': 'Kripke', 'value': 'Kripke'},\n",
       " {'label': 'Leibniz', 'value': 'Leibniz'},\n",
       " {'label': 'Lenin', 'value': 'Lenin'},\n",
       " {'label': 'Lewis', 'value': 'Lewis'},\n",
       " {'label': 'Lewis - Papers', 'value': 'Lewis - Papers'},\n",
       " {'label': 'Locke', 'value': 'Locke'},\n",
       " {'label': 'Madness And Civilization', 'value': 'Madness And Civilization'},\n",
       " {'label': 'Malebranche', 'value': 'Malebranche'},\n",
       " {'label': 'Marcus Aurelius', 'value': 'Marcus Aurelius'},\n",
       " {'label': 'Marx', 'value': 'Marx'},\n",
       " {'label': 'Meditations', 'value': 'Meditations'},\n",
       " {'label': 'Meditations On First Philosophy',\n",
       "  'value': 'Meditations On First Philosophy'},\n",
       " {'label': 'Merleau-Ponty', 'value': 'Merleau-Ponty'},\n",
       " {'label': 'Moore', 'value': 'Moore'},\n",
       " {'label': 'Naming And Necessity', 'value': 'Naming And Necessity'},\n",
       " {'label': 'Off The Beaten Track', 'value': 'Off The Beaten Track'},\n",
       " {'label': 'On Certainty', 'value': 'On Certainty'},\n",
       " {'label': 'On The Improvement Of Understanding',\n",
       "  'value': 'On The Improvement Of Understanding'},\n",
       " {'label': 'On The Principles Of Political Economy And Taxation',\n",
       "  'value': 'On The Principles Of Political Economy And Taxation'},\n",
       " {'label': 'Phenomenology', 'value': 'Phenomenology'},\n",
       " {'label': 'Philosophical Investigations',\n",
       "  'value': 'Philosophical Investigations'},\n",
       " {'label': 'Philosophical Studies', 'value': 'Philosophical Studies'},\n",
       " {'label': 'Philosophical Troubles', 'value': 'Philosophical Troubles'},\n",
       " {'label': 'Plato', 'value': 'Plato'},\n",
       " {'label': 'Plato - Complete Works', 'value': 'Plato - Complete Works'},\n",
       " {'label': 'Popper', 'value': 'Popper'},\n",
       " {'label': 'Quine', 'value': 'Quine'},\n",
       " {'label': 'Quintessence', 'value': 'Quintessence'},\n",
       " {'label': 'Rationalism', 'value': 'Rationalism'},\n",
       " {'label': 'Ricardo', 'value': 'Ricardo'},\n",
       " {'label': 'Russell', 'value': 'Russell'},\n",
       " {'label': 'Science Of Logic', 'value': 'Science Of Logic'},\n",
       " {'label': 'Second Treatise On Government',\n",
       "  'value': 'Second Treatise On Government'},\n",
       " {'label': 'Smith', 'value': 'Smith'},\n",
       " {'label': 'Spinoza', 'value': 'Spinoza'},\n",
       " {'label': 'Stoicism', 'value': 'Stoicism'},\n",
       " {'label': 'The Analysis Of Mind', 'value': 'The Analysis Of Mind'},\n",
       " {'label': 'The Birth Of The Clinic', 'value': 'The Birth Of The Clinic'},\n",
       " {'label': 'The Communist Manifesto', 'value': 'The Communist Manifesto'},\n",
       " {'label': 'The Crisis Of The European Sciences And Phenomenology',\n",
       "  'value': 'The Crisis Of The European Sciences And Phenomenology'},\n",
       " {'label': 'The Idea Of Phenomenology', 'value': 'The Idea Of Phenomenology'},\n",
       " {'label': 'The Logic Of Scientific Discovery',\n",
       "  'value': 'The Logic Of Scientific Discovery'},\n",
       " {'label': 'The Order Of Things', 'value': 'The Order Of Things'},\n",
       " {'label': 'The Phenomenology Of Perception',\n",
       "  'value': 'The Phenomenology Of Perception'},\n",
       " {'label': 'The Phenomenology Of Spirit',\n",
       "  'value': 'The Phenomenology Of Spirit'},\n",
       " {'label': 'The Problems Of Philosophy',\n",
       "  'value': 'The Problems Of Philosophy'},\n",
       " {'label': 'The Search After Truth', 'value': 'The Search After Truth'},\n",
       " {'label': 'The System Of Ethics', 'value': 'The System Of Ethics'},\n",
       " {'label': 'The Wealth Of Nations', 'value': 'The Wealth Of Nations'},\n",
       " {'label': 'Theodicy', 'value': 'Theodicy'},\n",
       " {'label': 'Three Dialogues', 'value': 'Three Dialogues'},\n",
       " {'label': 'Tractatus Logico-Philosophicus',\n",
       "  'value': 'Tractatus Logico-Philosophicus'},\n",
       " {'label': 'Wittgenstein', 'value': 'Wittgenstein'},\n",
       " {'label': 'Writing And Difference', 'value': 'Writing And Difference'}]"
      ]
     },
     "metadata": {},
     "execution_count": 11
    }
   ],
   "source": [
    "dropdown_menu = []\n",
    "for source in all_options:\n",
    "    dropdown_menu.append({'label': source, 'value': source})\n",
    "\n",
    "dropdown_menu"
   ]
  },
  {
   "cell_type": "code",
   "execution_count": 8,
   "metadata": {},
   "outputs": [
    {
     "output_type": "stream",
     "name": "stdout",
     "text": [
      "{'Plato': 'SCHOOL', 'Aristotle': 'SCHOOL', 'Locke': 'AUTHOR', 'Hume': 'AUTHOR', 'Berkeley': 'AUTHOR', 'Spinoza': 'AUTHOR', 'Leibniz': 'AUTHOR', 'Descartes': 'AUTHOR', 'Malebranche': 'AUTHOR', 'Russell': 'AUTHOR', 'Moore': 'AUTHOR', 'Wittgenstein': 'AUTHOR', 'Lewis': 'AUTHOR', 'Quine': 'AUTHOR', 'Popper': 'AUTHOR', 'Kripke': 'AUTHOR', 'Foucault': 'AUTHOR', 'Derrida': 'AUTHOR', 'Deleuze': 'AUTHOR', 'Merleau-Ponty': 'AUTHOR', 'Husserl': 'AUTHOR', 'Heidegger': 'AUTHOR', 'Kant': 'AUTHOR', 'Fichte': 'AUTHOR', 'Hegel': 'AUTHOR', 'Marx': 'AUTHOR', 'Lenin': 'AUTHOR', 'Smith': 'AUTHOR', 'Ricardo': 'AUTHOR', 'Keynes': 'AUTHOR', 'Epictetus': 'AUTHOR', 'Marcus Aurelius': 'AUTHOR', 'Plato - Complete Works': 'TITLE', 'Aristotle - Complete Works': 'TITLE', 'Second Treatise On Government': 'TITLE', 'Essay Concerning Human Understanding': 'TITLE', 'A Treatise Of Human Nature': 'TITLE', 'Dialogues Concerning Natural Religion': 'TITLE', 'Three Dialogues': 'TITLE', 'A Treatise Concerning The Principles Of Human Knowledge': 'TITLE', 'Ethics': 'TITLE', 'On The Improvement Of Understanding': 'TITLE', 'Theodicy': 'TITLE', 'Discourse On Method': 'TITLE', 'Meditations On First Philosophy': 'TITLE', 'The Search After Truth': 'TITLE', 'The Analysis Of Mind': 'TITLE', 'The Problems Of Philosophy': 'TITLE', 'Philosophical Studies': 'TITLE', 'Philosophical Investigations': 'TITLE', 'Tractatus Logico-Philosophicus': 'TITLE', 'Lewis - Papers': 'TITLE', 'Quintessence': 'TITLE', 'The Logic Of Scientific Discovery': 'TITLE', 'Naming And Necessity': 'TITLE', 'Philosophical Troubles': 'TITLE', 'On Certainty': 'TITLE', 'The Birth Of The Clinic': 'TITLE', 'Madness And Civilization': 'TITLE', 'The Order Of Things': 'TITLE', 'Writing And Difference': 'TITLE', 'Difference And Repetition': 'TITLE', 'Anti-Oedipus': 'TITLE', 'The Phenomenology Of Perception': 'TITLE', 'The Crisis Of The European Sciences And Phenomenology': 'TITLE', 'The Idea Of Phenomenology': 'TITLE', 'Being And Time': 'TITLE', 'Off The Beaten Track': 'TITLE', 'Critique Of Practical Reason': 'TITLE', 'Critique Of Judgement': 'TITLE', 'Critique Of Pure Reason': 'TITLE', 'The System Of Ethics': 'TITLE', 'Science Of Logic': 'TITLE', 'The Phenomenology Of Spirit': 'TITLE', 'Elements Of The Philosophy Of Right': 'TITLE', 'Capital': 'TITLE', 'The Communist Manifesto': 'TITLE', 'Essential Works Of Lenin': 'TITLE', 'The Wealth Of Nations': 'TITLE', 'On The Principles Of Political Economy And Taxation': 'TITLE', 'A General Theory Of Employment, Interest, And Money': 'TITLE', 'Enchiridion': 'TITLE', 'Meditations': 'TITLE', 'Empiricism': 'SCHOOL', 'Rationalism': 'SCHOOL', 'Analytic': 'SCHOOL', 'Continental': 'SCHOOL', 'Phenomenology': 'SCHOOL', 'German Idealism': 'SCHOOL', 'Communism': 'SCHOOL', 'Capitalism': 'SCHOOL', 'Stoicism': 'SCHOOL'}\n"
     ]
    }
   ],
   "source": [
    "print(classifier_dict)"
   ]
  },
  {
   "cell_type": "code",
   "execution_count": null,
   "metadata": {},
   "outputs": [],
   "source": []
  }
 ]
}