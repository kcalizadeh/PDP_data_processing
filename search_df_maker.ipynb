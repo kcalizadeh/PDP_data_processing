{
 "metadata": {
  "language_info": {
   "codemirror_mode": {
    "name": "ipython",
    "version": 3
   },
   "file_extension": ".py",
   "mimetype": "text/x-python",
   "name": "python",
   "nbconvert_exporter": "python",
   "pygments_lexer": "ipython3",
   "version": "3.6.9-final"
  },
  "orig_nbformat": 2,
  "kernelspec": {
   "name": "learn-env",
   "display_name": "learn-env",
   "language": "python"
  }
 },
 "nbformat": 4,
 "nbformat_minor": 2,
 "cells": [
  {
   "cell_type": "code",
   "execution_count": 1,
   "metadata": {},
   "outputs": [],
   "source": [
    "import pandas as pd\n",
    "import pickle"
   ]
  },
  {
   "cell_type": "code",
   "execution_count": 2,
   "metadata": {},
   "outputs": [
    {
     "output_type": "execute_result",
     "data": {
      "text/plain": [
       "                                                    title    author  \\\n",
       "320174  On The Principles Of Political Economy And Tax...   Ricardo   \n",
       "197737                                The Order Of Things  Foucault   \n",
       "350388                                         Proslogion    Anselm   \n",
       "156280                                     Lewis - Papers     Lewis   \n",
       "205805                             Writing And Difference   Derrida   \n",
       "\n",
       "               school                                     sentence_spacy  \\\n",
       "320174     capitalism  The operation of the system of poor laws has b...   \n",
       "197737    continental  Neither memory nor imagination, nor, therefore...   \n",
       "350388  scholasticism  †'The wife is not exactly a partner, but it is...   \n",
       "156280       analytic                             As of course they are.   \n",
       "205805    continental  Through a ruse of life, that is, of reason, li...   \n",
       "\n",
       "                                             sentence_str  \\\n",
       "320174  The operation of the system of poor laws has b...   \n",
       "197737  Neither memory nor imagination, nor, therefore...   \n",
       "350388  †'The wife is not exactly a partner, but it is...   \n",
       "156280                             As of course they are.   \n",
       "205805  Through a ruse of life, that is, of reason, li...   \n",
       "\n",
       "        original_publication_date  corpus_edition_date  sentence_length  \\\n",
       "320174                       1817                 2010               76   \n",
       "197737                       1966                 2002               77   \n",
       "350388                       1077                 2000               77   \n",
       "156280                       1985                 2008               22   \n",
       "205805                       1967                 2001               71   \n",
       "\n",
       "                                         sentence_lowered  \\\n",
       "320174  the operation of the system of poor laws has b...   \n",
       "197737  neither memory nor imagination, nor, therefore...   \n",
       "350388  †'the wife is not exactly a partner, but it is...   \n",
       "156280                             as of course they are.   \n",
       "205805  through a ruse of life, that is, of reason, li...   \n",
       "\n",
       "                                            tokenized_txt  \\\n",
       "320174  ['the', 'operation', 'of', 'the', 'system', 'o...   \n",
       "197737  ['neither', 'memory', 'nor', 'imagination', 'n...   \n",
       "350388  ['the', 'wife', 'is', 'not', 'exactly', 'partn...   \n",
       "156280              ['as', 'of', 'course', 'they', 'are']   \n",
       "205805  ['through', 'ruse', 'of', 'life', 'that', 'is'...   \n",
       "\n",
       "                                           lemmatized_str  \n",
       "320174   the operation of the system of poor law have ...  \n",
       "197737   neither memory nor imagination , nor , theref...  \n",
       "350388   †'the wife be not exactly a partner , but -PR...  \n",
       "156280                           as of course -PRON- be .  \n",
       "205805   through a ruse of life , that is , of reason ...  "
      ],
      "text/html": "<div>\n<style scoped>\n    .dataframe tbody tr th:only-of-type {\n        vertical-align: middle;\n    }\n\n    .dataframe tbody tr th {\n        vertical-align: top;\n    }\n\n    .dataframe thead th {\n        text-align: right;\n    }\n</style>\n<table border=\"1\" class=\"dataframe\">\n  <thead>\n    <tr style=\"text-align: right;\">\n      <th></th>\n      <th>title</th>\n      <th>author</th>\n      <th>school</th>\n      <th>sentence_spacy</th>\n      <th>sentence_str</th>\n      <th>original_publication_date</th>\n      <th>corpus_edition_date</th>\n      <th>sentence_length</th>\n      <th>sentence_lowered</th>\n      <th>tokenized_txt</th>\n      <th>lemmatized_str</th>\n    </tr>\n  </thead>\n  <tbody>\n    <tr>\n      <th>320174</th>\n      <td>On The Principles Of Political Economy And Tax...</td>\n      <td>Ricardo</td>\n      <td>capitalism</td>\n      <td>The operation of the system of poor laws has b...</td>\n      <td>The operation of the system of poor laws has b...</td>\n      <td>1817</td>\n      <td>2010</td>\n      <td>76</td>\n      <td>the operation of the system of poor laws has b...</td>\n      <td>['the', 'operation', 'of', 'the', 'system', 'o...</td>\n      <td>the operation of the system of poor law have ...</td>\n    </tr>\n    <tr>\n      <th>197737</th>\n      <td>The Order Of Things</td>\n      <td>Foucault</td>\n      <td>continental</td>\n      <td>Neither memory nor imagination, nor, therefore...</td>\n      <td>Neither memory nor imagination, nor, therefore...</td>\n      <td>1966</td>\n      <td>2002</td>\n      <td>77</td>\n      <td>neither memory nor imagination, nor, therefore...</td>\n      <td>['neither', 'memory', 'nor', 'imagination', 'n...</td>\n      <td>neither memory nor imagination , nor , theref...</td>\n    </tr>\n    <tr>\n      <th>350388</th>\n      <td>Proslogion</td>\n      <td>Anselm</td>\n      <td>scholasticism</td>\n      <td>†'The wife is not exactly a partner, but it is...</td>\n      <td>†'The wife is not exactly a partner, but it is...</td>\n      <td>1077</td>\n      <td>2000</td>\n      <td>77</td>\n      <td>†'the wife is not exactly a partner, but it is...</td>\n      <td>['the', 'wife', 'is', 'not', 'exactly', 'partn...</td>\n      <td>†'the wife be not exactly a partner , but -PR...</td>\n    </tr>\n    <tr>\n      <th>156280</th>\n      <td>Lewis - Papers</td>\n      <td>Lewis</td>\n      <td>analytic</td>\n      <td>As of course they are.</td>\n      <td>As of course they are.</td>\n      <td>1985</td>\n      <td>2008</td>\n      <td>22</td>\n      <td>as of course they are.</td>\n      <td>['as', 'of', 'course', 'they', 'are']</td>\n      <td>as of course -PRON- be .</td>\n    </tr>\n    <tr>\n      <th>205805</th>\n      <td>Writing And Difference</td>\n      <td>Derrida</td>\n      <td>continental</td>\n      <td>Through a ruse of life, that is, of reason, li...</td>\n      <td>Through a ruse of life, that is, of reason, li...</td>\n      <td>1967</td>\n      <td>2001</td>\n      <td>71</td>\n      <td>through a ruse of life, that is, of reason, li...</td>\n      <td>['through', 'ruse', 'of', 'life', 'that', 'is'...</td>\n      <td>through a ruse of life , that is , of reason ...</td>\n    </tr>\n  </tbody>\n</table>\n</div>"
     },
     "metadata": {},
     "execution_count": 2
    }
   ],
   "source": [
    "df = pd.read_csv('phil_nlp.csv')\n",
    "\n",
    "df.sample(5)"
   ]
  },
  {
   "cell_type": "code",
   "execution_count": 3,
   "metadata": {},
   "outputs": [
    {
     "output_type": "execute_result",
     "data": {
      "text/plain": [
       "371354"
      ]
     },
     "metadata": {},
     "execution_count": 3
    }
   ],
   "source": [
    "len(df)"
   ]
  },
  {
   "cell_type": "code",
   "execution_count": 4,
   "metadata": {},
   "outputs": [
    {
     "output_type": "execute_result",
     "data": {
      "text/plain": [
       "                                      TITLE     AUTHOR           SCHOOL  \\\n",
       "73012            Aristotle - Complete Works  Aristotle        Aristotle   \n",
       "287527  Elements Of The Philosophy Of Right      Hegel  German Idealism   \n",
       "296549                              Capital       Marx        Communism   \n",
       "81826            Aristotle - Complete Works  Aristotle        Aristotle   \n",
       "61987            Aristotle - Complete Works  Aristotle        Aristotle   \n",
       "\n",
       "          DATE                                           SENTENCE  \n",
       "73012   320 BC  And similarly with regard to lifeless things; ...  \n",
       "287527    1820  For it is truly present in God alone, and when...  \n",
       "296549    1883  This is a superior class of workmen, some of t...  \n",
       "81826   320 BC  Others again grew out of the class which were ...  \n",
       "61987   320 BC  As to the animals that are not polydactylous b...  "
      ],
      "text/html": "<div>\n<style scoped>\n    .dataframe tbody tr th:only-of-type {\n        vertical-align: middle;\n    }\n\n    .dataframe tbody tr th {\n        vertical-align: top;\n    }\n\n    .dataframe thead th {\n        text-align: right;\n    }\n</style>\n<table border=\"1\" class=\"dataframe\">\n  <thead>\n    <tr style=\"text-align: right;\">\n      <th></th>\n      <th>TITLE</th>\n      <th>AUTHOR</th>\n      <th>SCHOOL</th>\n      <th>DATE</th>\n      <th>SENTENCE</th>\n    </tr>\n  </thead>\n  <tbody>\n    <tr>\n      <th>73012</th>\n      <td>Aristotle - Complete Works</td>\n      <td>Aristotle</td>\n      <td>Aristotle</td>\n      <td>320 BC</td>\n      <td>And similarly with regard to lifeless things; ...</td>\n    </tr>\n    <tr>\n      <th>287527</th>\n      <td>Elements Of The Philosophy Of Right</td>\n      <td>Hegel</td>\n      <td>German Idealism</td>\n      <td>1820</td>\n      <td>For it is truly present in God alone, and when...</td>\n    </tr>\n    <tr>\n      <th>296549</th>\n      <td>Capital</td>\n      <td>Marx</td>\n      <td>Communism</td>\n      <td>1883</td>\n      <td>This is a superior class of workmen, some of t...</td>\n    </tr>\n    <tr>\n      <th>81826</th>\n      <td>Aristotle - Complete Works</td>\n      <td>Aristotle</td>\n      <td>Aristotle</td>\n      <td>320 BC</td>\n      <td>Others again grew out of the class which were ...</td>\n    </tr>\n    <tr>\n      <th>61987</th>\n      <td>Aristotle - Complete Works</td>\n      <td>Aristotle</td>\n      <td>Aristotle</td>\n      <td>320 BC</td>\n      <td>As to the animals that are not polydactylous b...</td>\n    </tr>\n  </tbody>\n</table>\n</div>"
     },
     "metadata": {},
     "execution_count": 4
    }
   ],
   "source": [
    "for_db = df\n",
    "for_db['date'] = for_db['original_publication_date']\n",
    "for_db['date'] = for_db['date'].apply(lambda x: str(x)[1:]+' BC' if x < 0 else str(x))\n",
    "for_db['sentence'] = for_db['sentence_str']\n",
    "for_db['school'] = for_db['school'].apply(lambda x: x.replace('_', ' ').title())\n",
    "for_db = for_db.drop(['sentence_spacy', \n",
    "                      'sentence_length',\n",
    "                      'sentence_lowered', \n",
    "                      'sentence_str', \n",
    "                      'tokenized_txt', \n",
    "                      'lemmatized_str',\n",
    "                      'corpus_edition_date',\n",
    "                      'original_publication_date'], axis=1)\n",
    "for_db.columns = [i.upper() for i in for_db.columns]\n",
    "\n",
    "for_db.sample(5)\n"
   ]
  },
  {
   "cell_type": "code",
   "execution_count": 5,
   "metadata": {},
   "outputs": [
    {
     "output_type": "execute_result",
     "data": {
      "text/plain": [
       "                             TITLE     AUTHOR           SCHOOL    DATE  \\\n",
       "262833        The System Of Ethics     Fichte  German Idealism    1798   \n",
       "36429       Plato - Complete Works      Plato            Plato  350 BC   \n",
       "101861  A Treatise Of Human Nature       Hume       Empiricism    1739   \n",
       "13557       Plato - Complete Works      Plato            Plato  350 BC   \n",
       "66239   Aristotle - Complete Works  Aristotle        Aristotle  320 BC   \n",
       "\n",
       "                                                 SENTENCE  \n",
       "262833  More specifically, how am I supposed to recogn...  \n",
       "36429   What will happen if we do not, I will not say,...  \n",
       "101861  Though possession be stable, men may often rea...  \n",
       "13557                               Consider it this way.  \n",
       "66239   The reason of the increased vibration is that,...  "
      ],
      "text/html": "<div>\n<style scoped>\n    .dataframe tbody tr th:only-of-type {\n        vertical-align: middle;\n    }\n\n    .dataframe tbody tr th {\n        vertical-align: top;\n    }\n\n    .dataframe thead th {\n        text-align: right;\n    }\n</style>\n<table border=\"1\" class=\"dataframe\">\n  <thead>\n    <tr style=\"text-align: right;\">\n      <th></th>\n      <th>TITLE</th>\n      <th>AUTHOR</th>\n      <th>SCHOOL</th>\n      <th>DATE</th>\n      <th>SENTENCE</th>\n    </tr>\n  </thead>\n  <tbody>\n    <tr>\n      <th>262833</th>\n      <td>The System Of Ethics</td>\n      <td>Fichte</td>\n      <td>German Idealism</td>\n      <td>1798</td>\n      <td>More specifically, how am I supposed to recogn...</td>\n    </tr>\n    <tr>\n      <th>36429</th>\n      <td>Plato - Complete Works</td>\n      <td>Plato</td>\n      <td>Plato</td>\n      <td>350 BC</td>\n      <td>What will happen if we do not, I will not say,...</td>\n    </tr>\n    <tr>\n      <th>101861</th>\n      <td>A Treatise Of Human Nature</td>\n      <td>Hume</td>\n      <td>Empiricism</td>\n      <td>1739</td>\n      <td>Though possession be stable, men may often rea...</td>\n    </tr>\n    <tr>\n      <th>13557</th>\n      <td>Plato - Complete Works</td>\n      <td>Plato</td>\n      <td>Plato</td>\n      <td>350 BC</td>\n      <td>Consider it this way.</td>\n    </tr>\n    <tr>\n      <th>66239</th>\n      <td>Aristotle - Complete Works</td>\n      <td>Aristotle</td>\n      <td>Aristotle</td>\n      <td>320 BC</td>\n      <td>The reason of the increased vibration is that,...</td>\n    </tr>\n  </tbody>\n</table>\n</div>"
     },
     "metadata": {},
     "execution_count": 5
    }
   ],
   "source": [
    "for_db.sample(5)"
   ]
  },
  {
   "cell_type": "code",
   "execution_count": 6,
   "metadata": {},
   "outputs": [
    {
     "output_type": "execute_result",
     "data": {
      "text/plain": [
       "Analytic           0.149251\n",
       "Aristotle          0.131354\n",
       "German Idealism    0.113455\n",
       "Plato              0.103314\n",
       "Continental        0.090962\n",
       "Phenomenology      0.076943\n",
       "Rationalism        0.061798\n",
       "Empiricism         0.053671\n",
       "Scholasticism      0.050184\n",
       "Capitalism         0.048994\n",
       "Communism          0.048358\n",
       "Feminism           0.028275\n",
       "Stoicism           0.020342\n",
       "Nietzsche          0.018349\n",
       "Kierkegaard        0.004750\n",
       "Name: SCHOOL, dtype: float64"
      ]
     },
     "metadata": {},
     "execution_count": 6
    }
   ],
   "source": [
    "for_db['SCHOOL'].value_counts(normalize=True)"
   ]
  },
  {
   "cell_type": "code",
   "execution_count": 7,
   "metadata": {},
   "outputs": [],
   "source": [
    "classifier_dict = {}\n",
    "for author in for_db['AUTHOR'].unique():\n",
    "  classifier_dict[author] = 'AUTHOR'\n",
    "for title in for_db['TITLE'].unique():\n",
    "  classifier_dict[title] = 'TITLE'\n",
    "for school in for_db['SCHOOL'].unique():\n",
    "  classifier_dict[school] = 'SCHOOL'"
   ]
  },
  {
   "cell_type": "code",
   "execution_count": 8,
   "metadata": {},
   "outputs": [
    {
     "output_type": "execute_result",
     "data": {
      "text/plain": [
       "{'Plato': 'SCHOOL',\n",
       " 'Aristotle': 'SCHOOL',\n",
       " 'Locke': 'AUTHOR',\n",
       " 'Hume': 'AUTHOR',\n",
       " 'Berkeley': 'AUTHOR',\n",
       " 'Spinoza': 'AUTHOR',\n",
       " 'Leibniz': 'AUTHOR',\n",
       " 'Descartes': 'AUTHOR',\n",
       " 'Malebranche': 'AUTHOR',\n",
       " 'Russell': 'AUTHOR',\n",
       " 'Moore': 'AUTHOR',\n",
       " 'Wittgenstein': 'AUTHOR',\n",
       " 'Lewis': 'AUTHOR',\n",
       " 'Quine': 'AUTHOR',\n",
       " 'Popper': 'AUTHOR',\n",
       " 'Kripke': 'AUTHOR',\n",
       " 'Foucault': 'AUTHOR',\n",
       " 'Derrida': 'AUTHOR',\n",
       " 'Deleuze': 'AUTHOR',\n",
       " 'Merleau-Ponty': 'AUTHOR',\n",
       " 'Husserl': 'AUTHOR',\n",
       " 'Heidegger': 'AUTHOR',\n",
       " 'Kant': 'AUTHOR',\n",
       " 'Fichte': 'AUTHOR',\n",
       " 'Hegel': 'AUTHOR',\n",
       " 'Marx': 'AUTHOR',\n",
       " 'Lenin': 'AUTHOR',\n",
       " 'Smith': 'AUTHOR',\n",
       " 'Ricardo': 'AUTHOR',\n",
       " 'Keynes': 'AUTHOR',\n",
       " 'Epictetus': 'AUTHOR',\n",
       " 'Marcus Aurelius': 'AUTHOR',\n",
       " 'Nietzsche': 'SCHOOL',\n",
       " 'Wollstonecraft': 'AUTHOR',\n",
       " 'Beauvoir': 'AUTHOR',\n",
       " 'Davis': 'AUTHOR',\n",
       " 'Augustine': 'AUTHOR',\n",
       " 'Anselm': 'AUTHOR',\n",
       " 'Seneca': 'AUTHOR',\n",
       " 'Kierkegaard': 'SCHOOL',\n",
       " 'Plato - Complete Works': 'TITLE',\n",
       " 'Aristotle - Complete Works': 'TITLE',\n",
       " 'Second Treatise On Government': 'TITLE',\n",
       " 'Essay Concerning Human Understanding': 'TITLE',\n",
       " 'A Treatise Of Human Nature': 'TITLE',\n",
       " 'Dialogues Concerning Natural Religion': 'TITLE',\n",
       " 'Three Dialogues': 'TITLE',\n",
       " 'A Treatise Concerning The Principles Of Human Knowledge': 'TITLE',\n",
       " 'Ethics': 'TITLE',\n",
       " 'On The Improvement Of Understanding': 'TITLE',\n",
       " 'Theodicy': 'TITLE',\n",
       " 'Discourse On Method': 'TITLE',\n",
       " 'Meditations On First Philosophy': 'TITLE',\n",
       " 'The Search After Truth': 'TITLE',\n",
       " 'The Analysis Of Mind': 'TITLE',\n",
       " 'The Problems Of Philosophy': 'TITLE',\n",
       " 'Philosophical Studies': 'TITLE',\n",
       " 'Philosophical Investigations': 'TITLE',\n",
       " 'Tractatus Logico-Philosophicus': 'TITLE',\n",
       " 'Lewis - Papers': 'TITLE',\n",
       " 'Quintessence': 'TITLE',\n",
       " 'The Logic Of Scientific Discovery': 'TITLE',\n",
       " 'Naming And Necessity': 'TITLE',\n",
       " 'Philosophical Troubles': 'TITLE',\n",
       " 'On Certainty': 'TITLE',\n",
       " 'The Birth Of The Clinic': 'TITLE',\n",
       " 'History Of Madness': 'TITLE',\n",
       " 'The Order Of Things': 'TITLE',\n",
       " 'Writing And Difference': 'TITLE',\n",
       " 'Difference And Repetition': 'TITLE',\n",
       " 'Anti-Oedipus': 'TITLE',\n",
       " 'The Phenomenology Of Perception': 'TITLE',\n",
       " 'The Crisis Of The European Sciences And Phenomenology': 'TITLE',\n",
       " 'The Idea Of Phenomenology': 'TITLE',\n",
       " 'Being And Time': 'TITLE',\n",
       " 'Off The Beaten Track': 'TITLE',\n",
       " 'Critique Of Practical Reason': 'TITLE',\n",
       " 'Critique Of Judgement': 'TITLE',\n",
       " 'Critique Of Pure Reason': 'TITLE',\n",
       " 'The System Of Ethics': 'TITLE',\n",
       " 'Science Of Logic': 'TITLE',\n",
       " 'The Phenomenology Of Spirit': 'TITLE',\n",
       " 'Elements Of The Philosophy Of Right': 'TITLE',\n",
       " 'Capital': 'TITLE',\n",
       " 'The Communist Manifesto': 'TITLE',\n",
       " 'Essential Works Of Lenin': 'TITLE',\n",
       " 'The Wealth Of Nations': 'TITLE',\n",
       " 'On The Principles Of Political Economy And Taxation': 'TITLE',\n",
       " 'A General Theory Of Employment, Interest, And Money': 'TITLE',\n",
       " 'Enchiridion': 'TITLE',\n",
       " 'Meditations': 'TITLE',\n",
       " 'The Antichrist': 'TITLE',\n",
       " 'Beyond Good And Evil': 'TITLE',\n",
       " 'Ecce Homo': 'TITLE',\n",
       " 'Twilight Of The Idols': 'TITLE',\n",
       " 'Thus Spake Zarathustra': 'TITLE',\n",
       " 'Vindication Of The Rights Of Woman': 'TITLE',\n",
       " 'The Second Sex': 'TITLE',\n",
       " 'Women, Race, And Class': 'TITLE',\n",
       " 'Confessions': 'TITLE',\n",
       " 'Proslogion': 'TITLE',\n",
       " 'De Veritate': 'TITLE',\n",
       " 'On Benefits': 'TITLE',\n",
       " 'On Anger': 'TITLE',\n",
       " 'On Clemency': 'TITLE',\n",
       " 'Fear and Trembling': 'TITLE',\n",
       " 'Empiricism': 'SCHOOL',\n",
       " 'Rationalism': 'SCHOOL',\n",
       " 'Analytic': 'SCHOOL',\n",
       " 'Continental': 'SCHOOL',\n",
       " 'Phenomenology': 'SCHOOL',\n",
       " 'German Idealism': 'SCHOOL',\n",
       " 'Communism': 'SCHOOL',\n",
       " 'Capitalism': 'SCHOOL',\n",
       " 'Stoicism': 'SCHOOL',\n",
       " 'Feminism': 'SCHOOL',\n",
       " 'Scholasticism': 'SCHOOL'}"
      ]
     },
     "metadata": {},
     "execution_count": 8
    }
   ],
   "source": [
    "classifier_dict"
   ]
  },
  {
   "source": [
    "Now get an updated dropdown menu."
   ],
   "cell_type": "markdown",
   "metadata": {}
  },
  {
   "cell_type": "code",
   "execution_count": 9,
   "metadata": {},
   "outputs": [],
   "source": [
    "all_options = sorted([x for x in list(classifier_dict.keys())])"
   ]
  },
  {
   "cell_type": "code",
   "execution_count": 10,
   "metadata": {},
   "outputs": [
    {
     "output_type": "execute_result",
     "data": {
      "text/plain": [
       "[{'label': 'A General Theory Of Employment, Interest, And Money',\n",
       "  'value': 'A General Theory Of Employment, Interest, And Money'},\n",
       " {'label': 'A Treatise Concerning The Principles Of Human Knowledge',\n",
       "  'value': 'A Treatise Concerning The Principles Of Human Knowledge'},\n",
       " {'label': 'A Treatise Of Human Nature',\n",
       "  'value': 'A Treatise Of Human Nature'},\n",
       " {'label': 'Analytic', 'value': 'Analytic'},\n",
       " {'label': 'Anselm', 'value': 'Anselm'},\n",
       " {'label': 'Anti-Oedipus', 'value': 'Anti-Oedipus'},\n",
       " {'label': 'Aristotle', 'value': 'Aristotle'},\n",
       " {'label': 'Aristotle - Complete Works',\n",
       "  'value': 'Aristotle - Complete Works'},\n",
       " {'label': 'Augustine', 'value': 'Augustine'},\n",
       " {'label': 'Beauvoir', 'value': 'Beauvoir'},\n",
       " {'label': 'Being And Time', 'value': 'Being And Time'},\n",
       " {'label': 'Berkeley', 'value': 'Berkeley'},\n",
       " {'label': 'Beyond Good And Evil', 'value': 'Beyond Good And Evil'},\n",
       " {'label': 'Capital', 'value': 'Capital'},\n",
       " {'label': 'Capitalism', 'value': 'Capitalism'},\n",
       " {'label': 'Communism', 'value': 'Communism'},\n",
       " {'label': 'Confessions', 'value': 'Confessions'},\n",
       " {'label': 'Continental', 'value': 'Continental'},\n",
       " {'label': 'Critique Of Judgement', 'value': 'Critique Of Judgement'},\n",
       " {'label': 'Critique Of Practical Reason',\n",
       "  'value': 'Critique Of Practical Reason'},\n",
       " {'label': 'Critique Of Pure Reason', 'value': 'Critique Of Pure Reason'},\n",
       " {'label': 'Davis', 'value': 'Davis'},\n",
       " {'label': 'De Veritate', 'value': 'De Veritate'},\n",
       " {'label': 'Deleuze', 'value': 'Deleuze'},\n",
       " {'label': 'Derrida', 'value': 'Derrida'},\n",
       " {'label': 'Descartes', 'value': 'Descartes'},\n",
       " {'label': 'Dialogues Concerning Natural Religion',\n",
       "  'value': 'Dialogues Concerning Natural Religion'},\n",
       " {'label': 'Difference And Repetition', 'value': 'Difference And Repetition'},\n",
       " {'label': 'Discourse On Method', 'value': 'Discourse On Method'},\n",
       " {'label': 'Ecce Homo', 'value': 'Ecce Homo'},\n",
       " {'label': 'Elements Of The Philosophy Of Right',\n",
       "  'value': 'Elements Of The Philosophy Of Right'},\n",
       " {'label': 'Empiricism', 'value': 'Empiricism'},\n",
       " {'label': 'Enchiridion', 'value': 'Enchiridion'},\n",
       " {'label': 'Epictetus', 'value': 'Epictetus'},\n",
       " {'label': 'Essay Concerning Human Understanding',\n",
       "  'value': 'Essay Concerning Human Understanding'},\n",
       " {'label': 'Essential Works Of Lenin', 'value': 'Essential Works Of Lenin'},\n",
       " {'label': 'Ethics', 'value': 'Ethics'},\n",
       " {'label': 'Fear and Trembling', 'value': 'Fear and Trembling'},\n",
       " {'label': 'Feminism', 'value': 'Feminism'},\n",
       " {'label': 'Fichte', 'value': 'Fichte'},\n",
       " {'label': 'Foucault', 'value': 'Foucault'},\n",
       " {'label': 'German Idealism', 'value': 'German Idealism'},\n",
       " {'label': 'Hegel', 'value': 'Hegel'},\n",
       " {'label': 'Heidegger', 'value': 'Heidegger'},\n",
       " {'label': 'History Of Madness', 'value': 'History Of Madness'},\n",
       " {'label': 'Hume', 'value': 'Hume'},\n",
       " {'label': 'Husserl', 'value': 'Husserl'},\n",
       " {'label': 'Kant', 'value': 'Kant'},\n",
       " {'label': 'Keynes', 'value': 'Keynes'},\n",
       " {'label': 'Kierkegaard', 'value': 'Kierkegaard'},\n",
       " {'label': 'Kripke', 'value': 'Kripke'},\n",
       " {'label': 'Leibniz', 'value': 'Leibniz'},\n",
       " {'label': 'Lenin', 'value': 'Lenin'},\n",
       " {'label': 'Lewis', 'value': 'Lewis'},\n",
       " {'label': 'Lewis - Papers', 'value': 'Lewis - Papers'},\n",
       " {'label': 'Locke', 'value': 'Locke'},\n",
       " {'label': 'Malebranche', 'value': 'Malebranche'},\n",
       " {'label': 'Marcus Aurelius', 'value': 'Marcus Aurelius'},\n",
       " {'label': 'Marx', 'value': 'Marx'},\n",
       " {'label': 'Meditations', 'value': 'Meditations'},\n",
       " {'label': 'Meditations On First Philosophy',\n",
       "  'value': 'Meditations On First Philosophy'},\n",
       " {'label': 'Merleau-Ponty', 'value': 'Merleau-Ponty'},\n",
       " {'label': 'Moore', 'value': 'Moore'},\n",
       " {'label': 'Naming And Necessity', 'value': 'Naming And Necessity'},\n",
       " {'label': 'Nietzsche', 'value': 'Nietzsche'},\n",
       " {'label': 'Off The Beaten Track', 'value': 'Off The Beaten Track'},\n",
       " {'label': 'On Anger', 'value': 'On Anger'},\n",
       " {'label': 'On Benefits', 'value': 'On Benefits'},\n",
       " {'label': 'On Certainty', 'value': 'On Certainty'},\n",
       " {'label': 'On Clemency', 'value': 'On Clemency'},\n",
       " {'label': 'On The Improvement Of Understanding',\n",
       "  'value': 'On The Improvement Of Understanding'},\n",
       " {'label': 'On The Principles Of Political Economy And Taxation',\n",
       "  'value': 'On The Principles Of Political Economy And Taxation'},\n",
       " {'label': 'Phenomenology', 'value': 'Phenomenology'},\n",
       " {'label': 'Philosophical Investigations',\n",
       "  'value': 'Philosophical Investigations'},\n",
       " {'label': 'Philosophical Studies', 'value': 'Philosophical Studies'},\n",
       " {'label': 'Philosophical Troubles', 'value': 'Philosophical Troubles'},\n",
       " {'label': 'Plato', 'value': 'Plato'},\n",
       " {'label': 'Plato - Complete Works', 'value': 'Plato - Complete Works'},\n",
       " {'label': 'Popper', 'value': 'Popper'},\n",
       " {'label': 'Proslogion', 'value': 'Proslogion'},\n",
       " {'label': 'Quine', 'value': 'Quine'},\n",
       " {'label': 'Quintessence', 'value': 'Quintessence'},\n",
       " {'label': 'Rationalism', 'value': 'Rationalism'},\n",
       " {'label': 'Ricardo', 'value': 'Ricardo'},\n",
       " {'label': 'Russell', 'value': 'Russell'},\n",
       " {'label': 'Scholasticism', 'value': 'Scholasticism'},\n",
       " {'label': 'Science Of Logic', 'value': 'Science Of Logic'},\n",
       " {'label': 'Second Treatise On Government',\n",
       "  'value': 'Second Treatise On Government'},\n",
       " {'label': 'Seneca', 'value': 'Seneca'},\n",
       " {'label': 'Smith', 'value': 'Smith'},\n",
       " {'label': 'Spinoza', 'value': 'Spinoza'},\n",
       " {'label': 'Stoicism', 'value': 'Stoicism'},\n",
       " {'label': 'The Analysis Of Mind', 'value': 'The Analysis Of Mind'},\n",
       " {'label': 'The Antichrist', 'value': 'The Antichrist'},\n",
       " {'label': 'The Birth Of The Clinic', 'value': 'The Birth Of The Clinic'},\n",
       " {'label': 'The Communist Manifesto', 'value': 'The Communist Manifesto'},\n",
       " {'label': 'The Crisis Of The European Sciences And Phenomenology',\n",
       "  'value': 'The Crisis Of The European Sciences And Phenomenology'},\n",
       " {'label': 'The Idea Of Phenomenology', 'value': 'The Idea Of Phenomenology'},\n",
       " {'label': 'The Logic Of Scientific Discovery',\n",
       "  'value': 'The Logic Of Scientific Discovery'},\n",
       " {'label': 'The Order Of Things', 'value': 'The Order Of Things'},\n",
       " {'label': 'The Phenomenology Of Perception',\n",
       "  'value': 'The Phenomenology Of Perception'},\n",
       " {'label': 'The Phenomenology Of Spirit',\n",
       "  'value': 'The Phenomenology Of Spirit'},\n",
       " {'label': 'The Problems Of Philosophy',\n",
       "  'value': 'The Problems Of Philosophy'},\n",
       " {'label': 'The Search After Truth', 'value': 'The Search After Truth'},\n",
       " {'label': 'The Second Sex', 'value': 'The Second Sex'},\n",
       " {'label': 'The System Of Ethics', 'value': 'The System Of Ethics'},\n",
       " {'label': 'The Wealth Of Nations', 'value': 'The Wealth Of Nations'},\n",
       " {'label': 'Theodicy', 'value': 'Theodicy'},\n",
       " {'label': 'Three Dialogues', 'value': 'Three Dialogues'},\n",
       " {'label': 'Thus Spake Zarathustra', 'value': 'Thus Spake Zarathustra'},\n",
       " {'label': 'Tractatus Logico-Philosophicus',\n",
       "  'value': 'Tractatus Logico-Philosophicus'},\n",
       " {'label': 'Twilight Of The Idols', 'value': 'Twilight Of The Idols'},\n",
       " {'label': 'Vindication Of The Rights Of Woman',\n",
       "  'value': 'Vindication Of The Rights Of Woman'},\n",
       " {'label': 'Wittgenstein', 'value': 'Wittgenstein'},\n",
       " {'label': 'Wollstonecraft', 'value': 'Wollstonecraft'},\n",
       " {'label': 'Women, Race, And Class', 'value': 'Women, Race, And Class'},\n",
       " {'label': 'Writing And Difference', 'value': 'Writing And Difference'}]"
      ]
     },
     "metadata": {},
     "execution_count": 10
    }
   ],
   "source": [
    "dropdown_menu = []\n",
    "for source in all_options:\n",
    "    dropdown_menu.append({'label': source, 'value': source})\n",
    "\n",
    "dropdown_menu"
   ]
  },
  {
   "source": [
    "The next cell makes pickles of each relevant slice. Not necessary since we run it all on SQL."
   ],
   "cell_type": "markdown",
   "metadata": {}
  },
  {
   "cell_type": "code",
   "execution_count": null,
   "metadata": {},
   "outputs": [],
   "source": [
    "for source in classifier_dict.keys():\n",
    "        source_slice = df[df[classifier_dict[source]]==source]\n",
    "        source = source.title()\n",
    "        source_pkl = open(f'../search_app/slice_pickles/{source}_slice.pkl', 'wb')\n",
    "        pickle.dump(source_slice, source_pkl)\n",
    "        source_pkl.close()\n"
   ]
  }
 ]
}