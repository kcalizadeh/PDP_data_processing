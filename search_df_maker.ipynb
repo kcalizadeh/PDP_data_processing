{
 "metadata": {
  "language_info": {
   "codemirror_mode": {
    "name": "ipython",
    "version": 3
   },
   "file_extension": ".py",
   "mimetype": "text/x-python",
   "name": "python",
   "nbconvert_exporter": "python",
   "pygments_lexer": "ipython3",
   "version": "3.6.9-final"
  },
  "orig_nbformat": 2,
  "kernelspec": {
   "name": "learn-env",
   "display_name": "learn-env",
   "language": "python"
  }
 },
 "nbformat": 4,
 "nbformat_minor": 2,
 "cells": [
  {
   "cell_type": "code",
   "execution_count": 5,
   "metadata": {},
   "outputs": [],
   "source": [
    "import pandas as pd\n",
    "import pickle"
   ]
  },
  {
   "cell_type": "code",
   "execution_count": 6,
   "metadata": {},
   "outputs": [
    {
     "output_type": "execute_result",
     "data": {
      "text/plain": [
       "                                                    title     author  \\\n",
       "227957  The Crisis Of The European Sciences And Phenom...    Husserl   \n",
       "39523                          Aristotle - Complete Works  Aristotle   \n",
       "2214                               Plato - Complete Works      Plato   \n",
       "363201                       Confessions Of St. Augustine  Augustine   \n",
       "247274                               Off The Beaten Track  Heidegger   \n",
       "\n",
       "               school                                     sentence_spacy  \\\n",
       "227957  phenomenology  It could only be inductive inference,.e., infe...   \n",
       "39523       aristotle  Further, if the conclusion is necessary, it fo...   \n",
       "2214            plato  Following Schofield, Classical Quarterly, we t...   \n",
       "363201  Scholasticism  These things do I within, in that vast court o...   \n",
       "247274  phenomenology  He was able to do this through the God given a...   \n",
       "\n",
       "                                             sentence_str  \\\n",
       "227957  It could only be inductive inference,.e., infe...   \n",
       "39523   Further, if the conclusion is necessary, it fo...   \n",
       "2214    Following Schofield, Classical Quarterly, we t...   \n",
       "363201  These things do I within, in that vast court o...   \n",
       "247274  He was able to do this through the God given a...   \n",
       "\n",
       "        original_publication_date  corpus_edition_date  sentence_length  \\\n",
       "227957                       1936                 1970               92   \n",
       "39523                        -320                 1991               93   \n",
       "2214                         -350                 1997               64   \n",
       "363201                        398                 2002               58   \n",
       "247274                       1950                 2001               55   \n",
       "\n",
       "                                         sentence_lowered  \\\n",
       "227957  it could only be inductive inference,.e., infe...   \n",
       "39523   further, if the conclusion is necessary, it fo...   \n",
       "2214    following schofield, classical quarterly, we t...   \n",
       "363201                                                NaN   \n",
       "247274  he was able to do this through the god given a...   \n",
       "\n",
       "                                            tokenized_txt  \\\n",
       "227957  ['it', 'could', 'only', 'be', 'inductive', 'in...   \n",
       "39523   ['further', 'if', 'the', 'conclusion', 'is', '...   \n",
       "2214    ['following', 'schofield', 'classical', 'quart...   \n",
       "363201  ['these', 'things', 'do', 'within', 'in', 'tha...   \n",
       "247274  ['he', 'was', 'able', 'to', 'do', 'this', 'thr...   \n",
       "\n",
       "                                           lemmatized_str  \n",
       "227957   -PRON- could only be inductive inference,.e ....  \n",
       "39523    further , if the conclusion be necessary , -P...  \n",
       "2214     follow Schofield , Classical Quarterly , -PRO...  \n",
       "363201   these thing do -PRON- within , in that vast c...  \n",
       "247274   -PRON- be able to do this through the God giv...  "
      ],
      "text/html": "<div>\n<style scoped>\n    .dataframe tbody tr th:only-of-type {\n        vertical-align: middle;\n    }\n\n    .dataframe tbody tr th {\n        vertical-align: top;\n    }\n\n    .dataframe thead th {\n        text-align: right;\n    }\n</style>\n<table border=\"1\" class=\"dataframe\">\n  <thead>\n    <tr style=\"text-align: right;\">\n      <th></th>\n      <th>title</th>\n      <th>author</th>\n      <th>school</th>\n      <th>sentence_spacy</th>\n      <th>sentence_str</th>\n      <th>original_publication_date</th>\n      <th>corpus_edition_date</th>\n      <th>sentence_length</th>\n      <th>sentence_lowered</th>\n      <th>tokenized_txt</th>\n      <th>lemmatized_str</th>\n    </tr>\n  </thead>\n  <tbody>\n    <tr>\n      <th>227957</th>\n      <td>The Crisis Of The European Sciences And Phenom...</td>\n      <td>Husserl</td>\n      <td>phenomenology</td>\n      <td>It could only be inductive inference,.e., infe...</td>\n      <td>It could only be inductive inference,.e., infe...</td>\n      <td>1936</td>\n      <td>1970</td>\n      <td>92</td>\n      <td>it could only be inductive inference,.e., infe...</td>\n      <td>['it', 'could', 'only', 'be', 'inductive', 'in...</td>\n      <td>-PRON- could only be inductive inference,.e ....</td>\n    </tr>\n    <tr>\n      <th>39523</th>\n      <td>Aristotle - Complete Works</td>\n      <td>Aristotle</td>\n      <td>aristotle</td>\n      <td>Further, if the conclusion is necessary, it fo...</td>\n      <td>Further, if the conclusion is necessary, it fo...</td>\n      <td>-320</td>\n      <td>1991</td>\n      <td>93</td>\n      <td>further, if the conclusion is necessary, it fo...</td>\n      <td>['further', 'if', 'the', 'conclusion', 'is', '...</td>\n      <td>further , if the conclusion be necessary , -P...</td>\n    </tr>\n    <tr>\n      <th>2214</th>\n      <td>Plato - Complete Works</td>\n      <td>Plato</td>\n      <td>plato</td>\n      <td>Following Schofield, Classical Quarterly, we t...</td>\n      <td>Following Schofield, Classical Quarterly, we t...</td>\n      <td>-350</td>\n      <td>1997</td>\n      <td>64</td>\n      <td>following schofield, classical quarterly, we t...</td>\n      <td>['following', 'schofield', 'classical', 'quart...</td>\n      <td>follow Schofield , Classical Quarterly , -PRO...</td>\n    </tr>\n    <tr>\n      <th>363201</th>\n      <td>Confessions Of St. Augustine</td>\n      <td>Augustine</td>\n      <td>Scholasticism</td>\n      <td>These things do I within, in that vast court o...</td>\n      <td>These things do I within, in that vast court o...</td>\n      <td>398</td>\n      <td>2002</td>\n      <td>58</td>\n      <td>NaN</td>\n      <td>['these', 'things', 'do', 'within', 'in', 'tha...</td>\n      <td>these thing do -PRON- within , in that vast c...</td>\n    </tr>\n    <tr>\n      <th>247274</th>\n      <td>Off The Beaten Track</td>\n      <td>Heidegger</td>\n      <td>phenomenology</td>\n      <td>He was able to do this through the God given a...</td>\n      <td>He was able to do this through the God given a...</td>\n      <td>1950</td>\n      <td>2001</td>\n      <td>55</td>\n      <td>he was able to do this through the god given a...</td>\n      <td>['he', 'was', 'able', 'to', 'do', 'this', 'thr...</td>\n      <td>-PRON- be able to do this through the God giv...</td>\n    </tr>\n  </tbody>\n</table>\n</div>"
     },
     "metadata": {},
     "execution_count": 6
    }
   ],
   "source": [
    "df = pd.read_csv('phil_nlp.csv')\n",
    "\n",
    "df.sample(5)"
   ]
  },
  {
   "cell_type": "code",
   "execution_count": 7,
   "metadata": {},
   "outputs": [
    {
     "output_type": "execute_result",
     "data": {
      "text/plain": [
       "                                     TITLE          AUTHOR           SCHOOL  \\\n",
       "344264  Vindication Of The Rights Of Woman  Wollstonecraft         Feminism   \n",
       "295133                             Capital            Marx        Communism   \n",
       "253261               Critique Of Judgement            Kant  German Idealism   \n",
       "220301     The Phenomenology Of Perception   Merleau-Ponty    Phenomenology   \n",
       "342723  Vindication Of The Rights Of Woman  Wollstonecraft         Feminism   \n",
       "\n",
       "        DATE                                           SENTENCE  \n",
       "344264  1792  His father's house was his home, and was ever ...  \n",
       "295133  1883  If one hour's labour is embodied in sixpence, ...  \n",
       "253261  1790  But, where in man, at any rate, are we to plac...  \n",
       "220301  1945  Sense experience, on the other hand, invests t...  \n",
       "342723  1792                     What is then to become of her?  "
      ],
      "text/html": "<div>\n<style scoped>\n    .dataframe tbody tr th:only-of-type {\n        vertical-align: middle;\n    }\n\n    .dataframe tbody tr th {\n        vertical-align: top;\n    }\n\n    .dataframe thead th {\n        text-align: right;\n    }\n</style>\n<table border=\"1\" class=\"dataframe\">\n  <thead>\n    <tr style=\"text-align: right;\">\n      <th></th>\n      <th>TITLE</th>\n      <th>AUTHOR</th>\n      <th>SCHOOL</th>\n      <th>DATE</th>\n      <th>SENTENCE</th>\n    </tr>\n  </thead>\n  <tbody>\n    <tr>\n      <th>344264</th>\n      <td>Vindication Of The Rights Of Woman</td>\n      <td>Wollstonecraft</td>\n      <td>Feminism</td>\n      <td>1792</td>\n      <td>His father's house was his home, and was ever ...</td>\n    </tr>\n    <tr>\n      <th>295133</th>\n      <td>Capital</td>\n      <td>Marx</td>\n      <td>Communism</td>\n      <td>1883</td>\n      <td>If one hour's labour is embodied in sixpence, ...</td>\n    </tr>\n    <tr>\n      <th>253261</th>\n      <td>Critique Of Judgement</td>\n      <td>Kant</td>\n      <td>German Idealism</td>\n      <td>1790</td>\n      <td>But, where in man, at any rate, are we to plac...</td>\n    </tr>\n    <tr>\n      <th>220301</th>\n      <td>The Phenomenology Of Perception</td>\n      <td>Merleau-Ponty</td>\n      <td>Phenomenology</td>\n      <td>1945</td>\n      <td>Sense experience, on the other hand, invests t...</td>\n    </tr>\n    <tr>\n      <th>342723</th>\n      <td>Vindication Of The Rights Of Woman</td>\n      <td>Wollstonecraft</td>\n      <td>Feminism</td>\n      <td>1792</td>\n      <td>What is then to become of her?</td>\n    </tr>\n  </tbody>\n</table>\n</div>"
     },
     "metadata": {},
     "execution_count": 7
    }
   ],
   "source": [
    "for_db = df\n",
    "for_db['date'] = for_db['original_publication_date']\n",
    "for_db['date'] = for_db['date'].apply(lambda x: str(x)[1:]+' BC' if x < 0 else str(x))\n",
    "for_db['sentence'] = for_db['sentence_str']\n",
    "for_db['school'] = for_db['school'].apply(lambda x: x.replace('_', ' ').title())\n",
    "for_db = for_db.drop(['sentence_spacy', \n",
    "                      'sentence_length',\n",
    "                      'sentence_lowered', \n",
    "                      'sentence_str', \n",
    "                      'tokenized_txt', \n",
    "                      'lemmatized_str',\n",
    "                      'corpus_edition_date',\n",
    "                      'original_publication_date'], axis=1)\n",
    "for_db.columns = [i.upper() for i in for_db.columns]\n",
    "\n",
    "for_db.sample(5)\n"
   ]
  },
  {
   "cell_type": "code",
   "execution_count": 14,
   "metadata": {},
   "outputs": [
    {
     "output_type": "execute_result",
     "data": {
      "text/plain": [
       "                                  TITLE         AUTHOR         SCHOOL  YEAR  \\\n",
       "139007     Philosophical Investigations   Wittgenstein       Analytic  1953   \n",
       "226005  The Phenomenology Of Perception  Merleau-Ponty  Phenomenology  1945   \n",
       "129412           The Search After Truth    Malebranche    Rationalism  1674   \n",
       "355456                   The Second Sex       Beauvoir       Feminism  1949   \n",
       "351961                   The Second Sex       Beauvoir       Feminism  1949   \n",
       "\n",
       "                                                 SENTENCE  \n",
       "139007  To repeat naming is something like attaching a...  \n",
       "226005  that of the world, this is because my existenc...  \n",
       "129412  Since rays consist only in rectilinear pressur...  \n",
       "355456  This is what she anxiously wonders while she w...  \n",
       "351961  At she told herself, 'I'll be a lieutenant, an...  "
      ],
      "text/html": "<div>\n<style scoped>\n    .dataframe tbody tr th:only-of-type {\n        vertical-align: middle;\n    }\n\n    .dataframe tbody tr th {\n        vertical-align: top;\n    }\n\n    .dataframe thead th {\n        text-align: right;\n    }\n</style>\n<table border=\"1\" class=\"dataframe\">\n  <thead>\n    <tr style=\"text-align: right;\">\n      <th></th>\n      <th>TITLE</th>\n      <th>AUTHOR</th>\n      <th>SCHOOL</th>\n      <th>YEAR</th>\n      <th>SENTENCE</th>\n    </tr>\n  </thead>\n  <tbody>\n    <tr>\n      <th>139007</th>\n      <td>Philosophical Investigations</td>\n      <td>Wittgenstein</td>\n      <td>Analytic</td>\n      <td>1953</td>\n      <td>To repeat naming is something like attaching a...</td>\n    </tr>\n    <tr>\n      <th>226005</th>\n      <td>The Phenomenology Of Perception</td>\n      <td>Merleau-Ponty</td>\n      <td>Phenomenology</td>\n      <td>1945</td>\n      <td>that of the world, this is because my existenc...</td>\n    </tr>\n    <tr>\n      <th>129412</th>\n      <td>The Search After Truth</td>\n      <td>Malebranche</td>\n      <td>Rationalism</td>\n      <td>1674</td>\n      <td>Since rays consist only in rectilinear pressur...</td>\n    </tr>\n    <tr>\n      <th>355456</th>\n      <td>The Second Sex</td>\n      <td>Beauvoir</td>\n      <td>Feminism</td>\n      <td>1949</td>\n      <td>This is what she anxiously wonders while she w...</td>\n    </tr>\n    <tr>\n      <th>351961</th>\n      <td>The Second Sex</td>\n      <td>Beauvoir</td>\n      <td>Feminism</td>\n      <td>1949</td>\n      <td>At she told herself, 'I'll be a lieutenant, an...</td>\n    </tr>\n  </tbody>\n</table>\n</div>"
     },
     "metadata": {},
     "execution_count": 14
    }
   ],
   "source": [
    "for_db.sample(5)"
   ]
  },
  {
   "cell_type": "code",
   "execution_count": 8,
   "metadata": {},
   "outputs": [
    {
     "output_type": "execute_result",
     "data": {
      "text/plain": [
       "Analytic           55425\n",
       "Aristotle          48779\n",
       "German Idealism    42136\n",
       "Plato              38366\n",
       "Continental        33779\n",
       "Phenomenology      28573\n",
       "Rationalism        22949\n",
       "Empiricism         19931\n",
       "Feminism           18635\n",
       "Capitalism         18194\n",
       "Communism          17958\n",
       "Nietzsche          13548\n",
       "Scholasticism       4068\n",
       "Stoicism            2535\n",
       "Name: SCHOOL, dtype: int64"
      ]
     },
     "metadata": {},
     "execution_count": 8
    }
   ],
   "source": [
    "for_db['SCHOOL'].value_counts()"
   ]
  },
  {
   "cell_type": "code",
   "execution_count": 11,
   "metadata": {},
   "outputs": [],
   "source": [
    "classifier_dict = {}\n",
    "for author in for_db['AUTHOR'].unique():\n",
    "  classifier_dict[author] = 'AUTHOR'\n",
    "for title in for_db['TITLE'].unique():\n",
    "  classifier_dict[title] = 'TITLE'\n",
    "for school in for_db['SCHOOL'].unique():\n",
    "  classifier_dict[school] = 'SCHOOL'"
   ]
  },
  {
   "cell_type": "code",
   "execution_count": 12,
   "metadata": {},
   "outputs": [
    {
     "output_type": "execute_result",
     "data": {
      "text/plain": [
       "{'Plato': 'SCHOOL',\n",
       " 'Aristotle': 'SCHOOL',\n",
       " 'Locke': 'AUTHOR',\n",
       " 'Hume': 'AUTHOR',\n",
       " 'Berkeley': 'AUTHOR',\n",
       " 'Spinoza': 'AUTHOR',\n",
       " 'Leibniz': 'AUTHOR',\n",
       " 'Descartes': 'AUTHOR',\n",
       " 'Malebranche': 'AUTHOR',\n",
       " 'Russell': 'AUTHOR',\n",
       " 'Moore': 'AUTHOR',\n",
       " 'Wittgenstein': 'AUTHOR',\n",
       " 'Lewis': 'AUTHOR',\n",
       " 'Quine': 'AUTHOR',\n",
       " 'Popper': 'AUTHOR',\n",
       " 'Kripke': 'AUTHOR',\n",
       " 'Foucault': 'AUTHOR',\n",
       " 'Derrida': 'AUTHOR',\n",
       " 'Deleuze': 'AUTHOR',\n",
       " 'Merleau-Ponty': 'AUTHOR',\n",
       " 'Husserl': 'AUTHOR',\n",
       " 'Heidegger': 'AUTHOR',\n",
       " 'Kant': 'AUTHOR',\n",
       " 'Fichte': 'AUTHOR',\n",
       " 'Hegel': 'AUTHOR',\n",
       " 'Marx': 'AUTHOR',\n",
       " 'Lenin': 'AUTHOR',\n",
       " 'Smith': 'AUTHOR',\n",
       " 'Ricardo': 'AUTHOR',\n",
       " 'Keynes': 'AUTHOR',\n",
       " 'Epictetus': 'AUTHOR',\n",
       " 'Marcus Aurelius': 'AUTHOR',\n",
       " 'Nietzsche': 'SCHOOL',\n",
       " 'Wollstonecraft': 'AUTHOR',\n",
       " 'Beauvoir': 'AUTHOR',\n",
       " 'Davis': 'AUTHOR',\n",
       " 'Augustine': 'AUTHOR',\n",
       " 'Plato - Complete Works': 'TITLE',\n",
       " 'Aristotle - Complete Works': 'TITLE',\n",
       " 'Second Treatise On Government': 'TITLE',\n",
       " 'Essay Concerning Human Understanding': 'TITLE',\n",
       " 'A Treatise Of Human Nature': 'TITLE',\n",
       " 'Dialogues Concerning Natural Religion': 'TITLE',\n",
       " 'Three Dialogues': 'TITLE',\n",
       " 'A Treatise Concerning The Principles Of Human Knowledge': 'TITLE',\n",
       " 'Ethics': 'TITLE',\n",
       " 'On The Improvement Of Understanding': 'TITLE',\n",
       " 'Theodicy': 'TITLE',\n",
       " 'Discourse On Method': 'TITLE',\n",
       " 'Meditations On First Philosophy': 'TITLE',\n",
       " 'The Search After Truth': 'TITLE',\n",
       " 'The Analysis Of Mind': 'TITLE',\n",
       " 'The Problems Of Philosophy': 'TITLE',\n",
       " 'Philosophical Studies': 'TITLE',\n",
       " 'Philosophical Investigations': 'TITLE',\n",
       " 'Tractatus Logico-Philosophicus': 'TITLE',\n",
       " 'Lewis - Papers': 'TITLE',\n",
       " 'Quintessence': 'TITLE',\n",
       " 'The Logic Of Scientific Discovery': 'TITLE',\n",
       " 'Naming And Necessity': 'TITLE',\n",
       " 'Philosophical Troubles': 'TITLE',\n",
       " 'On Certainty': 'TITLE',\n",
       " 'The Birth Of The Clinic': 'TITLE',\n",
       " 'History Of Madness': 'TITLE',\n",
       " 'The Order Of Things': 'TITLE',\n",
       " 'Writing And Difference': 'TITLE',\n",
       " 'Difference And Repetition': 'TITLE',\n",
       " 'Anti-Oedipus': 'TITLE',\n",
       " 'The Phenomenology Of Perception': 'TITLE',\n",
       " 'The Crisis Of The European Sciences And Phenomenology': 'TITLE',\n",
       " 'The Idea Of Phenomenology': 'TITLE',\n",
       " 'Being And Time': 'TITLE',\n",
       " 'Off The Beaten Track': 'TITLE',\n",
       " 'Critique Of Practical Reason': 'TITLE',\n",
       " 'Critique Of Judgement': 'TITLE',\n",
       " 'Critique Of Pure Reason': 'TITLE',\n",
       " 'The System Of Ethics': 'TITLE',\n",
       " 'Science Of Logic': 'TITLE',\n",
       " 'The Phenomenology Of Spirit': 'TITLE',\n",
       " 'Elements Of The Philosophy Of Right': 'TITLE',\n",
       " 'Capital': 'TITLE',\n",
       " 'The Communist Manifesto': 'TITLE',\n",
       " 'Essential Works Of Lenin': 'TITLE',\n",
       " 'The Wealth Of Nations': 'TITLE',\n",
       " 'On The Principles Of Political Economy And Taxation': 'TITLE',\n",
       " 'A General Theory Of Employment, Interest, And Money': 'TITLE',\n",
       " 'Enchiridion': 'TITLE',\n",
       " 'Meditations': 'TITLE',\n",
       " 'The Antichrist': 'TITLE',\n",
       " 'Beyond Good And Evil': 'TITLE',\n",
       " 'Ecce Homo': 'TITLE',\n",
       " 'Twilight Of The Idols': 'TITLE',\n",
       " 'Thus Spake Zarathustra': 'TITLE',\n",
       " 'Vindication Of The Rights Of Woman': 'TITLE',\n",
       " 'The Second Sex': 'TITLE',\n",
       " 'Women, Race, And Class': 'TITLE',\n",
       " 'Confessions Of St. Augustine': 'TITLE',\n",
       " 'Empiricism': 'SCHOOL',\n",
       " 'Rationalism': 'SCHOOL',\n",
       " 'Analytic': 'SCHOOL',\n",
       " 'Continental': 'SCHOOL',\n",
       " 'Phenomenology': 'SCHOOL',\n",
       " 'German Idealism': 'SCHOOL',\n",
       " 'Communism': 'SCHOOL',\n",
       " 'Capitalism': 'SCHOOL',\n",
       " 'Stoicism': 'SCHOOL',\n",
       " 'Feminism': 'SCHOOL',\n",
       " 'Scholasticism': 'SCHOOL'}"
      ]
     },
     "metadata": {},
     "execution_count": 12
    }
   ],
   "source": [
    "classifier_dict"
   ]
  },
  {
   "source": [
    "Now get an updated dropdown menu."
   ],
   "cell_type": "markdown",
   "metadata": {}
  },
  {
   "cell_type": "code",
   "execution_count": 13,
   "metadata": {},
   "outputs": [],
   "source": [
    "all_options = sorted([x for x in list(classifier_dict.keys())])"
   ]
  },
  {
   "cell_type": "code",
   "execution_count": 14,
   "metadata": {},
   "outputs": [
    {
     "output_type": "execute_result",
     "data": {
      "text/plain": [
       "[{'label': 'A General Theory Of Employment, Interest, And Money',\n",
       "  'value': 'A General Theory Of Employment, Interest, And Money'},\n",
       " {'label': 'A Treatise Concerning The Principles Of Human Knowledge',\n",
       "  'value': 'A Treatise Concerning The Principles Of Human Knowledge'},\n",
       " {'label': 'A Treatise Of Human Nature',\n",
       "  'value': 'A Treatise Of Human Nature'},\n",
       " {'label': 'Analytic', 'value': 'Analytic'},\n",
       " {'label': 'Anti-Oedipus', 'value': 'Anti-Oedipus'},\n",
       " {'label': 'Aristotle', 'value': 'Aristotle'},\n",
       " {'label': 'Aristotle - Complete Works',\n",
       "  'value': 'Aristotle - Complete Works'},\n",
       " {'label': 'Augustine', 'value': 'Augustine'},\n",
       " {'label': 'Beauvoir', 'value': 'Beauvoir'},\n",
       " {'label': 'Being And Time', 'value': 'Being And Time'},\n",
       " {'label': 'Berkeley', 'value': 'Berkeley'},\n",
       " {'label': 'Beyond Good And Evil', 'value': 'Beyond Good And Evil'},\n",
       " {'label': 'Capital', 'value': 'Capital'},\n",
       " {'label': 'Capitalism', 'value': 'Capitalism'},\n",
       " {'label': 'Communism', 'value': 'Communism'},\n",
       " {'label': 'Confessions Of St. Augustine',\n",
       "  'value': 'Confessions Of St. Augustine'},\n",
       " {'label': 'Continental', 'value': 'Continental'},\n",
       " {'label': 'Critique Of Judgement', 'value': 'Critique Of Judgement'},\n",
       " {'label': 'Critique Of Practical Reason',\n",
       "  'value': 'Critique Of Practical Reason'},\n",
       " {'label': 'Critique Of Pure Reason', 'value': 'Critique Of Pure Reason'},\n",
       " {'label': 'Davis', 'value': 'Davis'},\n",
       " {'label': 'Deleuze', 'value': 'Deleuze'},\n",
       " {'label': 'Derrida', 'value': 'Derrida'},\n",
       " {'label': 'Descartes', 'value': 'Descartes'},\n",
       " {'label': 'Dialogues Concerning Natural Religion',\n",
       "  'value': 'Dialogues Concerning Natural Religion'},\n",
       " {'label': 'Difference And Repetition', 'value': 'Difference And Repetition'},\n",
       " {'label': 'Discourse On Method', 'value': 'Discourse On Method'},\n",
       " {'label': 'Ecce Homo', 'value': 'Ecce Homo'},\n",
       " {'label': 'Elements Of The Philosophy Of Right',\n",
       "  'value': 'Elements Of The Philosophy Of Right'},\n",
       " {'label': 'Empiricism', 'value': 'Empiricism'},\n",
       " {'label': 'Enchiridion', 'value': 'Enchiridion'},\n",
       " {'label': 'Epictetus', 'value': 'Epictetus'},\n",
       " {'label': 'Essay Concerning Human Understanding',\n",
       "  'value': 'Essay Concerning Human Understanding'},\n",
       " {'label': 'Essential Works Of Lenin', 'value': 'Essential Works Of Lenin'},\n",
       " {'label': 'Ethics', 'value': 'Ethics'},\n",
       " {'label': 'Feminism', 'value': 'Feminism'},\n",
       " {'label': 'Fichte', 'value': 'Fichte'},\n",
       " {'label': 'Foucault', 'value': 'Foucault'},\n",
       " {'label': 'German Idealism', 'value': 'German Idealism'},\n",
       " {'label': 'Hegel', 'value': 'Hegel'},\n",
       " {'label': 'Heidegger', 'value': 'Heidegger'},\n",
       " {'label': 'History Of Madness', 'value': 'History Of Madness'},\n",
       " {'label': 'Hume', 'value': 'Hume'},\n",
       " {'label': 'Husserl', 'value': 'Husserl'},\n",
       " {'label': 'Kant', 'value': 'Kant'},\n",
       " {'label': 'Keynes', 'value': 'Keynes'},\n",
       " {'label': 'Kripke', 'value': 'Kripke'},\n",
       " {'label': 'Leibniz', 'value': 'Leibniz'},\n",
       " {'label': 'Lenin', 'value': 'Lenin'},\n",
       " {'label': 'Lewis', 'value': 'Lewis'},\n",
       " {'label': 'Lewis - Papers', 'value': 'Lewis - Papers'},\n",
       " {'label': 'Locke', 'value': 'Locke'},\n",
       " {'label': 'Malebranche', 'value': 'Malebranche'},\n",
       " {'label': 'Marcus Aurelius', 'value': 'Marcus Aurelius'},\n",
       " {'label': 'Marx', 'value': 'Marx'},\n",
       " {'label': 'Meditations', 'value': 'Meditations'},\n",
       " {'label': 'Meditations On First Philosophy',\n",
       "  'value': 'Meditations On First Philosophy'},\n",
       " {'label': 'Merleau-Ponty', 'value': 'Merleau-Ponty'},\n",
       " {'label': 'Moore', 'value': 'Moore'},\n",
       " {'label': 'Naming And Necessity', 'value': 'Naming And Necessity'},\n",
       " {'label': 'Nietzsche', 'value': 'Nietzsche'},\n",
       " {'label': 'Off The Beaten Track', 'value': 'Off The Beaten Track'},\n",
       " {'label': 'On Certainty', 'value': 'On Certainty'},\n",
       " {'label': 'On The Improvement Of Understanding',\n",
       "  'value': 'On The Improvement Of Understanding'},\n",
       " {'label': 'On The Principles Of Political Economy And Taxation',\n",
       "  'value': 'On The Principles Of Political Economy And Taxation'},\n",
       " {'label': 'Phenomenology', 'value': 'Phenomenology'},\n",
       " {'label': 'Philosophical Investigations',\n",
       "  'value': 'Philosophical Investigations'},\n",
       " {'label': 'Philosophical Studies', 'value': 'Philosophical Studies'},\n",
       " {'label': 'Philosophical Troubles', 'value': 'Philosophical Troubles'},\n",
       " {'label': 'Plato', 'value': 'Plato'},\n",
       " {'label': 'Plato - Complete Works', 'value': 'Plato - Complete Works'},\n",
       " {'label': 'Popper', 'value': 'Popper'},\n",
       " {'label': 'Quine', 'value': 'Quine'},\n",
       " {'label': 'Quintessence', 'value': 'Quintessence'},\n",
       " {'label': 'Rationalism', 'value': 'Rationalism'},\n",
       " {'label': 'Ricardo', 'value': 'Ricardo'},\n",
       " {'label': 'Russell', 'value': 'Russell'},\n",
       " {'label': 'Scholasticism', 'value': 'Scholasticism'},\n",
       " {'label': 'Science Of Logic', 'value': 'Science Of Logic'},\n",
       " {'label': 'Second Treatise On Government',\n",
       "  'value': 'Second Treatise On Government'},\n",
       " {'label': 'Smith', 'value': 'Smith'},\n",
       " {'label': 'Spinoza', 'value': 'Spinoza'},\n",
       " {'label': 'Stoicism', 'value': 'Stoicism'},\n",
       " {'label': 'The Analysis Of Mind', 'value': 'The Analysis Of Mind'},\n",
       " {'label': 'The Antichrist', 'value': 'The Antichrist'},\n",
       " {'label': 'The Birth Of The Clinic', 'value': 'The Birth Of The Clinic'},\n",
       " {'label': 'The Communist Manifesto', 'value': 'The Communist Manifesto'},\n",
       " {'label': 'The Crisis Of The European Sciences And Phenomenology',\n",
       "  'value': 'The Crisis Of The European Sciences And Phenomenology'},\n",
       " {'label': 'The Idea Of Phenomenology', 'value': 'The Idea Of Phenomenology'},\n",
       " {'label': 'The Logic Of Scientific Discovery',\n",
       "  'value': 'The Logic Of Scientific Discovery'},\n",
       " {'label': 'The Order Of Things', 'value': 'The Order Of Things'},\n",
       " {'label': 'The Phenomenology Of Perception',\n",
       "  'value': 'The Phenomenology Of Perception'},\n",
       " {'label': 'The Phenomenology Of Spirit',\n",
       "  'value': 'The Phenomenology Of Spirit'},\n",
       " {'label': 'The Problems Of Philosophy',\n",
       "  'value': 'The Problems Of Philosophy'},\n",
       " {'label': 'The Search After Truth', 'value': 'The Search After Truth'},\n",
       " {'label': 'The Second Sex', 'value': 'The Second Sex'},\n",
       " {'label': 'The System Of Ethics', 'value': 'The System Of Ethics'},\n",
       " {'label': 'The Wealth Of Nations', 'value': 'The Wealth Of Nations'},\n",
       " {'label': 'Theodicy', 'value': 'Theodicy'},\n",
       " {'label': 'Three Dialogues', 'value': 'Three Dialogues'},\n",
       " {'label': 'Thus Spake Zarathustra', 'value': 'Thus Spake Zarathustra'},\n",
       " {'label': 'Tractatus Logico-Philosophicus',\n",
       "  'value': 'Tractatus Logico-Philosophicus'},\n",
       " {'label': 'Twilight Of The Idols', 'value': 'Twilight Of The Idols'},\n",
       " {'label': 'Vindication Of The Rights Of Woman',\n",
       "  'value': 'Vindication Of The Rights Of Woman'},\n",
       " {'label': 'Wittgenstein', 'value': 'Wittgenstein'},\n",
       " {'label': 'Wollstonecraft', 'value': 'Wollstonecraft'},\n",
       " {'label': 'Women, Race, And Class', 'value': 'Women, Race, And Class'},\n",
       " {'label': 'Writing And Difference', 'value': 'Writing And Difference'}]"
      ]
     },
     "metadata": {},
     "execution_count": 14
    }
   ],
   "source": [
    "dropdown_menu = []\n",
    "for source in all_options:\n",
    "    dropdown_menu.append({'label': source, 'value': source})\n",
    "\n",
    "dropdown_menu"
   ]
  },
  {
   "cell_type": "code",
   "execution_count": null,
   "metadata": {},
   "outputs": [],
   "source": []
  },
  {
   "cell_type": "code",
   "execution_count": 25,
   "metadata": {},
   "outputs": [
    {
     "output_type": "error",
     "ename": "FileNotFoundError",
     "evalue": "[Errno 2] No such file or directory: '../search_app/slice_pickles/Plato_slice.pkl'",
     "traceback": [
      "\u001b[1;31m---------------------------------------------------------------------------\u001b[0m",
      "\u001b[1;31mFileNotFoundError\u001b[0m                         Traceback (most recent call last)",
      "\u001b[1;32m<ipython-input-25-8c48f97c7a28>\u001b[0m in \u001b[0;36m<module>\u001b[1;34m\u001b[0m\n\u001b[0;32m      2\u001b[0m         \u001b[0msource_slice\u001b[0m \u001b[1;33m=\u001b[0m \u001b[0mdf\u001b[0m\u001b[1;33m[\u001b[0m\u001b[0mdf\u001b[0m\u001b[1;33m[\u001b[0m\u001b[0mclassifier_dict\u001b[0m\u001b[1;33m[\u001b[0m\u001b[0msource\u001b[0m\u001b[1;33m]\u001b[0m\u001b[1;33m]\u001b[0m\u001b[1;33m==\u001b[0m\u001b[0msource\u001b[0m\u001b[1;33m]\u001b[0m\u001b[1;33m\u001b[0m\u001b[1;33m\u001b[0m\u001b[0m\n\u001b[0;32m      3\u001b[0m         \u001b[0msource\u001b[0m \u001b[1;33m=\u001b[0m \u001b[0msource\u001b[0m\u001b[1;33m.\u001b[0m\u001b[0mtitle\u001b[0m\u001b[1;33m(\u001b[0m\u001b[1;33m)\u001b[0m\u001b[1;33m\u001b[0m\u001b[1;33m\u001b[0m\u001b[0m\n\u001b[1;32m----> 4\u001b[1;33m         \u001b[0msource_pkl\u001b[0m \u001b[1;33m=\u001b[0m \u001b[0mopen\u001b[0m\u001b[1;33m(\u001b[0m\u001b[1;34mf'../search_app/slice_pickles/{source}_slice.pkl'\u001b[0m\u001b[1;33m,\u001b[0m \u001b[1;34m'wb'\u001b[0m\u001b[1;33m)\u001b[0m\u001b[1;33m\u001b[0m\u001b[1;33m\u001b[0m\u001b[0m\n\u001b[0m\u001b[0;32m      5\u001b[0m         \u001b[0mpickle\u001b[0m\u001b[1;33m.\u001b[0m\u001b[0mdump\u001b[0m\u001b[1;33m(\u001b[0m\u001b[0msource_slice\u001b[0m\u001b[1;33m,\u001b[0m \u001b[0msource_pkl\u001b[0m\u001b[1;33m)\u001b[0m\u001b[1;33m\u001b[0m\u001b[1;33m\u001b[0m\u001b[0m\n\u001b[0;32m      6\u001b[0m         \u001b[0msource_pkl\u001b[0m\u001b[1;33m.\u001b[0m\u001b[0mclose\u001b[0m\u001b[1;33m(\u001b[0m\u001b[1;33m)\u001b[0m\u001b[1;33m\u001b[0m\u001b[1;33m\u001b[0m\u001b[0m\n",
      "\u001b[1;31mFileNotFoundError\u001b[0m: [Errno 2] No such file or directory: '../search_app/slice_pickles/Plato_slice.pkl'"
     ]
    }
   ],
   "source": [
    "for source in classifier_dict.keys():\n",
    "        source_slice = df[df[classifier_dict[source]]==source]\n",
    "        source = source.title()\n",
    "        source_pkl = open(f'../search_app/slice_pickles/{source}_slice.pkl', 'wb')\n",
    "        pickle.dump(source_slice, source_pkl)\n",
    "        source_pkl.close()\n"
   ]
  }
 ]
}