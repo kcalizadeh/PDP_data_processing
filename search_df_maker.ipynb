{
 "metadata": {
  "language_info": {
   "codemirror_mode": {
    "name": "ipython",
    "version": 3
   },
   "file_extension": ".py",
   "mimetype": "text/x-python",
   "name": "python",
   "nbconvert_exporter": "python",
   "pygments_lexer": "ipython3",
   "version": "3.6.9"
  },
  "orig_nbformat": 2,
  "kernelspec": {
   "name": "learn-env",
   "display_name": "learn-env",
   "language": "python"
  }
 },
 "nbformat": 4,
 "nbformat_minor": 2,
 "cells": [
  {
   "cell_type": "code",
   "execution_count": 1,
   "metadata": {},
   "outputs": [],
   "source": [
    "import pandas as pd\n",
    "import pickle"
   ]
  },
  {
   "cell_type": "code",
   "execution_count": 2,
   "metadata": {},
   "outputs": [
    {
     "output_type": "execute_result",
     "data": {
      "text/plain": [
       "                                    title    author       school  \\\n",
       "303451           Essential Works Of Lenin     Lenin    communism   \n",
       "178983             Philosophical Troubles    Kripke     analytic   \n",
       "188826           Madness And Civilization  Foucault  continental   \n",
       "288886                            Capital      Marx    communism   \n",
       "169594  The Logic Of Scientific Discovery    Popper     analytic   \n",
       "\n",
       "                                           sentence_spacy  \\\n",
       "303451  This was the period of dispersion, dissolution...   \n",
       "178983  or I do not have a false visual impression of ...   \n",
       "188826  D'Aumont, who wrote the entry, saw a less pron...   \n",
       "288886  On the other hand, he desires to realise the v...   \n",
       "169594  But this means that all three questions could ...   \n",
       "\n",
       "                                             sentence_str  sentence_length  \\\n",
       "303451  This was the period of dispersion, dissolution...               63   \n",
       "178983  or I do not have a false visual impression of ...               55   \n",
       "188826  D'Aumont, who wrote the entry, saw a less pron...              181   \n",
       "288886  On the other hand, he desires to realise the v...              231   \n",
       "169594  But this means that all three questions could ...              148   \n",
       "\n",
       "                                         sentence_lowered  \\\n",
       "303451  this was the period of dispersion, dissolution...   \n",
       "178983  or i do not have a false visual impression of ...   \n",
       "188826  d'aumont, who wrote the entry, saw a less pron...   \n",
       "288886  on the other hand, he desires to realise the v...   \n",
       "169594  but this means that all three questions could ...   \n",
       "\n",
       "                                            tokenized_txt  \\\n",
       "303451  ['this', 'was', 'the', 'period', 'of', 'disper...   \n",
       "178983  ['or', 'do', 'not', 'have', 'false', 'visual',...   \n",
       "188826  ['aumont', 'who', 'wrote', 'the', 'entry', 'sa...   \n",
       "288886  ['on', 'the', 'other', 'hand', 'he', 'desires'...   \n",
       "169594  ['but', 'this', 'means', 'that', 'all', 'three...   \n",
       "\n",
       "                                           lemmatized_str  \n",
       "303451   this be the period of dispersion , dissolutio...  \n",
       "178983   or -PRON- do not have a false visual impressi...  \n",
       "188826   D'Aumont , who write the entry , see a less p...  \n",
       "288886   on the other hand , -PRON- desire to realise ...  \n",
       "169594   but this mean that all three question could b...  "
      ],
      "text/html": "<div>\n<style scoped>\n    .dataframe tbody tr th:only-of-type {\n        vertical-align: middle;\n    }\n\n    .dataframe tbody tr th {\n        vertical-align: top;\n    }\n\n    .dataframe thead th {\n        text-align: right;\n    }\n</style>\n<table border=\"1\" class=\"dataframe\">\n  <thead>\n    <tr style=\"text-align: right;\">\n      <th></th>\n      <th>title</th>\n      <th>author</th>\n      <th>school</th>\n      <th>sentence_spacy</th>\n      <th>sentence_str</th>\n      <th>sentence_length</th>\n      <th>sentence_lowered</th>\n      <th>tokenized_txt</th>\n      <th>lemmatized_str</th>\n    </tr>\n  </thead>\n  <tbody>\n    <tr>\n      <th>303451</th>\n      <td>Essential Works Of Lenin</td>\n      <td>Lenin</td>\n      <td>communism</td>\n      <td>This was the period of dispersion, dissolution...</td>\n      <td>This was the period of dispersion, dissolution...</td>\n      <td>63</td>\n      <td>this was the period of dispersion, dissolution...</td>\n      <td>['this', 'was', 'the', 'period', 'of', 'disper...</td>\n      <td>this be the period of dispersion , dissolutio...</td>\n    </tr>\n    <tr>\n      <th>178983</th>\n      <td>Philosophical Troubles</td>\n      <td>Kripke</td>\n      <td>analytic</td>\n      <td>or I do not have a false visual impression of ...</td>\n      <td>or I do not have a false visual impression of ...</td>\n      <td>55</td>\n      <td>or i do not have a false visual impression of ...</td>\n      <td>['or', 'do', 'not', 'have', 'false', 'visual',...</td>\n      <td>or -PRON- do not have a false visual impressi...</td>\n    </tr>\n    <tr>\n      <th>188826</th>\n      <td>Madness And Civilization</td>\n      <td>Foucault</td>\n      <td>continental</td>\n      <td>D'Aumont, who wrote the entry, saw a less pron...</td>\n      <td>D'Aumont, who wrote the entry, saw a less pron...</td>\n      <td>181</td>\n      <td>d'aumont, who wrote the entry, saw a less pron...</td>\n      <td>['aumont', 'who', 'wrote', 'the', 'entry', 'sa...</td>\n      <td>D'Aumont , who write the entry , see a less p...</td>\n    </tr>\n    <tr>\n      <th>288886</th>\n      <td>Capital</td>\n      <td>Marx</td>\n      <td>communism</td>\n      <td>On the other hand, he desires to realise the v...</td>\n      <td>On the other hand, he desires to realise the v...</td>\n      <td>231</td>\n      <td>on the other hand, he desires to realise the v...</td>\n      <td>['on', 'the', 'other', 'hand', 'he', 'desires'...</td>\n      <td>on the other hand , -PRON- desire to realise ...</td>\n    </tr>\n    <tr>\n      <th>169594</th>\n      <td>The Logic Of Scientific Discovery</td>\n      <td>Popper</td>\n      <td>analytic</td>\n      <td>But this means that all three questions could ...</td>\n      <td>But this means that all three questions could ...</td>\n      <td>148</td>\n      <td>but this means that all three questions could ...</td>\n      <td>['but', 'this', 'means', 'that', 'all', 'three...</td>\n      <td>but this mean that all three question could b...</td>\n    </tr>\n  </tbody>\n</table>\n</div>"
     },
     "metadata": {},
     "execution_count": 2
    }
   ],
   "source": [
    "df = pd.read_csv('phil_nlp.csv')\n",
    "\n",
    "df.sample(5)"
   ]
  },
  {
   "cell_type": "code",
   "execution_count": 3,
   "metadata": {},
   "outputs": [],
   "source": [
    "df['sentence'] = df['sentence_str']\n",
    "df = df.drop(['sentence_spacy', 'sentence_length', 'sentence_str', 'sentence_lowered', 'tokenized_txt', 'lemmatized_str'], axis=1)\n"
   ]
  },
  {
   "cell_type": "code",
   "execution_count": 4,
   "metadata": {},
   "outputs": [],
   "source": [
    "df.columns = [i.upper() for i in df.columns]"
   ]
  },
  {
   "cell_type": "code",
   "execution_count": 5,
   "metadata": {},
   "outputs": [
    {
     "output_type": "execute_result",
     "data": {
      "text/plain": [
       "                                 TITLE        AUTHOR           SCHOOL  \\\n",
       "63729       Aristotle - Complete Works     Aristotle        aristotle   \n",
       "144364    Philosophical Investigations  Wittgenstein         analytic   \n",
       "255060         Critique Of Pure Reason          Kant  german_idealism   \n",
       "51176       Aristotle - Complete Works     Aristotle        aristotle   \n",
       "144784  Tractatus Logico-Philosophicus  Wittgenstein         analytic   \n",
       "\n",
       "                                                 SENTENCE  \n",
       "63729   the like, one in the smallest, two in those of...  \n",
       "144364  It is not hidden at all, but the concept may e...  \n",
       "255060   I would be determined solely in apprehension,.e.  \n",
       "51176   Stationary water is either that which has coll...  \n",
       "144784  A proposition contains the form, but not the c...  "
      ],
      "text/html": "<div>\n<style scoped>\n    .dataframe tbody tr th:only-of-type {\n        vertical-align: middle;\n    }\n\n    .dataframe tbody tr th {\n        vertical-align: top;\n    }\n\n    .dataframe thead th {\n        text-align: right;\n    }\n</style>\n<table border=\"1\" class=\"dataframe\">\n  <thead>\n    <tr style=\"text-align: right;\">\n      <th></th>\n      <th>TITLE</th>\n      <th>AUTHOR</th>\n      <th>SCHOOL</th>\n      <th>SENTENCE</th>\n    </tr>\n  </thead>\n  <tbody>\n    <tr>\n      <th>63729</th>\n      <td>Aristotle - Complete Works</td>\n      <td>Aristotle</td>\n      <td>aristotle</td>\n      <td>the like, one in the smallest, two in those of...</td>\n    </tr>\n    <tr>\n      <th>144364</th>\n      <td>Philosophical Investigations</td>\n      <td>Wittgenstein</td>\n      <td>analytic</td>\n      <td>It is not hidden at all, but the concept may e...</td>\n    </tr>\n    <tr>\n      <th>255060</th>\n      <td>Critique Of Pure Reason</td>\n      <td>Kant</td>\n      <td>german_idealism</td>\n      <td>I would be determined solely in apprehension,.e.</td>\n    </tr>\n    <tr>\n      <th>51176</th>\n      <td>Aristotle - Complete Works</td>\n      <td>Aristotle</td>\n      <td>aristotle</td>\n      <td>Stationary water is either that which has coll...</td>\n    </tr>\n    <tr>\n      <th>144784</th>\n      <td>Tractatus Logico-Philosophicus</td>\n      <td>Wittgenstein</td>\n      <td>analytic</td>\n      <td>A proposition contains the form, but not the c...</td>\n    </tr>\n  </tbody>\n</table>\n</div>"
     },
     "metadata": {},
     "execution_count": 5
    }
   ],
   "source": [
    "df.sample(5)"
   ]
  },
  {
   "cell_type": "code",
   "execution_count": 8,
   "metadata": {},
   "outputs": [
    {
     "output_type": "execute_result",
     "data": {
      "text/plain": [
       "              TITLE           AUTHOR    SCHOOL  \\\n",
       "326035  Meditations  Marcus Aurelius  Stoicism   \n",
       "326425  Meditations  Marcus Aurelius  Stoicism   \n",
       "324391  Enchiridion        Epictetus  Stoicism   \n",
       "325583  Meditations  Marcus Aurelius  Stoicism   \n",
       "326181  Meditations  Marcus Aurelius  Stoicism   \n",
       "\n",
       "                                                 SENTENCE  \n",
       "326035                     no, they know best themselves.  \n",
       "326425                         man, what doest thou mean!  \n",
       "324391  Therefore, if he judges from false appearances...  \n",
       "325583  which nevertheless a man may well doubt of, wh...  \n",
       "326181  And the word emfrwn a ready and contented acce...  "
      ],
      "text/html": "<div>\n<style scoped>\n    .dataframe tbody tr th:only-of-type {\n        vertical-align: middle;\n    }\n\n    .dataframe tbody tr th {\n        vertical-align: top;\n    }\n\n    .dataframe thead th {\n        text-align: right;\n    }\n</style>\n<table border=\"1\" class=\"dataframe\">\n  <thead>\n    <tr style=\"text-align: right;\">\n      <th></th>\n      <th>TITLE</th>\n      <th>AUTHOR</th>\n      <th>SCHOOL</th>\n      <th>SENTENCE</th>\n    </tr>\n  </thead>\n  <tbody>\n    <tr>\n      <th>326035</th>\n      <td>Meditations</td>\n      <td>Marcus Aurelius</td>\n      <td>Stoicism</td>\n      <td>no, they know best themselves.</td>\n    </tr>\n    <tr>\n      <th>326425</th>\n      <td>Meditations</td>\n      <td>Marcus Aurelius</td>\n      <td>Stoicism</td>\n      <td>man, what doest thou mean!</td>\n    </tr>\n    <tr>\n      <th>324391</th>\n      <td>Enchiridion</td>\n      <td>Epictetus</td>\n      <td>Stoicism</td>\n      <td>Therefore, if he judges from false appearances...</td>\n    </tr>\n    <tr>\n      <th>325583</th>\n      <td>Meditations</td>\n      <td>Marcus Aurelius</td>\n      <td>Stoicism</td>\n      <td>which nevertheless a man may well doubt of, wh...</td>\n    </tr>\n    <tr>\n      <th>326181</th>\n      <td>Meditations</td>\n      <td>Marcus Aurelius</td>\n      <td>Stoicism</td>\n      <td>And the word emfrwn a ready and contented acce...</td>\n    </tr>\n  </tbody>\n</table>\n</div>"
     },
     "metadata": {},
     "execution_count": 8
    }
   ],
   "source": [
    "df['SCHOOL'] = df['SCHOOL'].apply(lambda x: x.replace('_', ' ').title())\n",
    "\n",
    "df[df['SCHOOL'] == 'Stoicism'].sample(5)"
   ]
  },
  {
   "cell_type": "code",
   "execution_count": 9,
   "metadata": {},
   "outputs": [],
   "source": [
    "classifier_dict = {}\n",
    "for author in df['AUTHOR'].unique():\n",
    "  classifier_dict[author] = 'AUTHOR'\n",
    "for title in df['TITLE'].unique():\n",
    "  classifier_dict[title] = 'TITLE'\n",
    "for school in df['SCHOOL'].unique():\n",
    "  classifier_dict[school] = 'SCHOOL'"
   ]
  },
  {
   "cell_type": "code",
   "execution_count": 10,
   "metadata": {},
   "outputs": [],
   "source": [
    "for source in classifier_dict.keys():\n",
    "        source_slice = df[df[classifier_dict[source]]==source]\n",
    "        source = source.title()\n",
    "        source_pkl = open(f'../search_app/slice_pickles/{source}_slice.pkl', 'wb')\n",
    "        pickle.dump(source_slice, source_pkl)\n",
    "        source_pkl.close()\n"
   ]
  },
  {
   "source": [
    "Now get an updated dropdown menu."
   ],
   "cell_type": "markdown",
   "metadata": {}
  },
  {
   "cell_type": "code",
   "execution_count": 11,
   "metadata": {},
   "outputs": [],
   "source": [
    "all_options = sorted([x.title() for x in list(classifier_dict.keys())])"
   ]
  },
  {
   "cell_type": "code",
   "execution_count": 12,
   "metadata": {},
   "outputs": [
    {
     "output_type": "execute_result",
     "data": {
      "text/plain": [
       "['A General Theory Of Employment, Interest, And Money',\n",
       " 'A Treatise Concerning The Principles Of Human Knowledge',\n",
       " 'A Treatise Of Human Nature',\n",
       " 'Analytic',\n",
       " 'Anti-Oedipus',\n",
       " 'Aristotle',\n",
       " 'Aristotle - Complete Works',\n",
       " 'Being And Time',\n",
       " 'Berkeley',\n",
       " 'Capital',\n",
       " 'Capitalism',\n",
       " 'Communism',\n",
       " 'Continental',\n",
       " 'Critique Of Judgement',\n",
       " 'Critique Of Practical Reason',\n",
       " 'Critique Of Pure Reason',\n",
       " 'Deleuze',\n",
       " 'Derrida',\n",
       " 'Descartes',\n",
       " 'Dialogues Concerning Natural Religion',\n",
       " 'Difference And Repetition',\n",
       " 'Discourse On Method',\n",
       " 'Elements Of The Philosophy Of Right',\n",
       " 'Empiricism',\n",
       " 'Enchiridion',\n",
       " 'Epictetus',\n",
       " 'Essay Concerning Human Understanding',\n",
       " 'Essential Works Of Lenin',\n",
       " 'Ethics',\n",
       " 'Fichte',\n",
       " 'Foucault',\n",
       " 'German Idealism',\n",
       " 'Hegel',\n",
       " 'Heidegger',\n",
       " 'Hume',\n",
       " 'Husserl',\n",
       " 'Kant',\n",
       " 'Keynes',\n",
       " 'Kripke',\n",
       " 'Leibniz',\n",
       " 'Lenin',\n",
       " 'Lewis',\n",
       " 'Lewis - Papers',\n",
       " 'Locke',\n",
       " 'Madness And Civilization',\n",
       " 'Malebranche',\n",
       " 'Marcus Aurelius',\n",
       " 'Marx',\n",
       " 'Meditations',\n",
       " 'Meditations On First Philosophy',\n",
       " 'Merleau-Ponty',\n",
       " 'Moore',\n",
       " 'Naming And Necessity',\n",
       " 'Off The Beaten Track',\n",
       " 'On The Improvement Of Understanding',\n",
       " 'On The Principles Of Political Economy And Taxation',\n",
       " 'Phenomenology',\n",
       " 'Philosophical Investigations',\n",
       " 'Philosophical Studies',\n",
       " 'Philosophical Troubles',\n",
       " 'Plato',\n",
       " 'Plato - Complete Works',\n",
       " 'Popper',\n",
       " 'Quine',\n",
       " 'Quintessence',\n",
       " 'Rationalism',\n",
       " 'Ricardo',\n",
       " 'Russell',\n",
       " 'Science Of Logic',\n",
       " 'Second Treatise On Government',\n",
       " 'Smith',\n",
       " 'Spinoza',\n",
       " 'Stoicism',\n",
       " 'The Analysis Of Mind',\n",
       " 'The Birth Of The Clinic',\n",
       " 'The Communist Manifesto',\n",
       " 'The Crisis Of The European Sciences And Phenomenology',\n",
       " 'The Idea Of Phenomenology',\n",
       " 'The Logic Of Scientific Discovery',\n",
       " 'The Order Of Things',\n",
       " 'The Phenomenology Of Perception',\n",
       " 'The Phenomenology Of Spirit',\n",
       " 'The Problems Of Philosophy',\n",
       " 'The Search After Truth',\n",
       " 'The System Of Ethics',\n",
       " 'The Wealth Of Nations',\n",
       " 'Theodicy',\n",
       " 'Three Dialogues',\n",
       " 'Tractatus Logico-Philosophicus',\n",
       " 'Wittgenstein',\n",
       " 'Writing And Difference']"
      ]
     },
     "metadata": {},
     "execution_count": 12
    }
   ],
   "source": [
    "all_options"
   ]
  },
  {
   "cell_type": "code",
   "execution_count": 13,
   "metadata": {},
   "outputs": [
    {
     "output_type": "execute_result",
     "data": {
      "text/plain": [
       "[{'label': 'A General Theory Of Employment, Interest, And Money',\n",
       "  'value': 'A General Theory Of Employment, Interest, And Money'},\n",
       " {'label': 'A Treatise Concerning The Principles Of Human Knowledge',\n",
       "  'value': 'A Treatise Concerning The Principles Of Human Knowledge'},\n",
       " {'label': 'A Treatise Of Human Nature',\n",
       "  'value': 'A Treatise Of Human Nature'},\n",
       " {'label': 'Analytic', 'value': 'Analytic'},\n",
       " {'label': 'Anti-Oedipus', 'value': 'Anti-Oedipus'},\n",
       " {'label': 'Aristotle', 'value': 'Aristotle'},\n",
       " {'label': 'Aristotle - Complete Works',\n",
       "  'value': 'Aristotle - Complete Works'},\n",
       " {'label': 'Being And Time', 'value': 'Being And Time'},\n",
       " {'label': 'Berkeley', 'value': 'Berkeley'},\n",
       " {'label': 'Capital', 'value': 'Capital'},\n",
       " {'label': 'Capitalism', 'value': 'Capitalism'},\n",
       " {'label': 'Communism', 'value': 'Communism'},\n",
       " {'label': 'Continental', 'value': 'Continental'},\n",
       " {'label': 'Critique Of Judgement', 'value': 'Critique Of Judgement'},\n",
       " {'label': 'Critique Of Practical Reason',\n",
       "  'value': 'Critique Of Practical Reason'},\n",
       " {'label': 'Critique Of Pure Reason', 'value': 'Critique Of Pure Reason'},\n",
       " {'label': 'Deleuze', 'value': 'Deleuze'},\n",
       " {'label': 'Derrida', 'value': 'Derrida'},\n",
       " {'label': 'Descartes', 'value': 'Descartes'},\n",
       " {'label': 'Dialogues Concerning Natural Religion',\n",
       "  'value': 'Dialogues Concerning Natural Religion'},\n",
       " {'label': 'Difference And Repetition', 'value': 'Difference And Repetition'},\n",
       " {'label': 'Discourse On Method', 'value': 'Discourse On Method'},\n",
       " {'label': 'Elements Of The Philosophy Of Right',\n",
       "  'value': 'Elements Of The Philosophy Of Right'},\n",
       " {'label': 'Empiricism', 'value': 'Empiricism'},\n",
       " {'label': 'Enchiridion', 'value': 'Enchiridion'},\n",
       " {'label': 'Epictetus', 'value': 'Epictetus'},\n",
       " {'label': 'Essay Concerning Human Understanding',\n",
       "  'value': 'Essay Concerning Human Understanding'},\n",
       " {'label': 'Essential Works Of Lenin', 'value': 'Essential Works Of Lenin'},\n",
       " {'label': 'Ethics', 'value': 'Ethics'},\n",
       " {'label': 'Fichte', 'value': 'Fichte'},\n",
       " {'label': 'Foucault', 'value': 'Foucault'},\n",
       " {'label': 'German Idealism', 'value': 'German Idealism'},\n",
       " {'label': 'Hegel', 'value': 'Hegel'},\n",
       " {'label': 'Heidegger', 'value': 'Heidegger'},\n",
       " {'label': 'Hume', 'value': 'Hume'},\n",
       " {'label': 'Husserl', 'value': 'Husserl'},\n",
       " {'label': 'Kant', 'value': 'Kant'},\n",
       " {'label': 'Keynes', 'value': 'Keynes'},\n",
       " {'label': 'Kripke', 'value': 'Kripke'},\n",
       " {'label': 'Leibniz', 'value': 'Leibniz'},\n",
       " {'label': 'Lenin', 'value': 'Lenin'},\n",
       " {'label': 'Lewis', 'value': 'Lewis'},\n",
       " {'label': 'Lewis - Papers', 'value': 'Lewis - Papers'},\n",
       " {'label': 'Locke', 'value': 'Locke'},\n",
       " {'label': 'Madness And Civilization', 'value': 'Madness And Civilization'},\n",
       " {'label': 'Malebranche', 'value': 'Malebranche'},\n",
       " {'label': 'Marcus Aurelius', 'value': 'Marcus Aurelius'},\n",
       " {'label': 'Marx', 'value': 'Marx'},\n",
       " {'label': 'Meditations', 'value': 'Meditations'},\n",
       " {'label': 'Meditations On First Philosophy',\n",
       "  'value': 'Meditations On First Philosophy'},\n",
       " {'label': 'Merleau-Ponty', 'value': 'Merleau-Ponty'},\n",
       " {'label': 'Moore', 'value': 'Moore'},\n",
       " {'label': 'Naming And Necessity', 'value': 'Naming And Necessity'},\n",
       " {'label': 'Off The Beaten Track', 'value': 'Off The Beaten Track'},\n",
       " {'label': 'On The Improvement Of Understanding',\n",
       "  'value': 'On The Improvement Of Understanding'},\n",
       " {'label': 'On The Principles Of Political Economy And Taxation',\n",
       "  'value': 'On The Principles Of Political Economy And Taxation'},\n",
       " {'label': 'Phenomenology', 'value': 'Phenomenology'},\n",
       " {'label': 'Philosophical Investigations',\n",
       "  'value': 'Philosophical Investigations'},\n",
       " {'label': 'Philosophical Studies', 'value': 'Philosophical Studies'},\n",
       " {'label': 'Philosophical Troubles', 'value': 'Philosophical Troubles'},\n",
       " {'label': 'Plato', 'value': 'Plato'},\n",
       " {'label': 'Plato - Complete Works', 'value': 'Plato - Complete Works'},\n",
       " {'label': 'Popper', 'value': 'Popper'},\n",
       " {'label': 'Quine', 'value': 'Quine'},\n",
       " {'label': 'Quintessence', 'value': 'Quintessence'},\n",
       " {'label': 'Rationalism', 'value': 'Rationalism'},\n",
       " {'label': 'Ricardo', 'value': 'Ricardo'},\n",
       " {'label': 'Russell', 'value': 'Russell'},\n",
       " {'label': 'Science Of Logic', 'value': 'Science Of Logic'},\n",
       " {'label': 'Second Treatise On Government',\n",
       "  'value': 'Second Treatise On Government'},\n",
       " {'label': 'Smith', 'value': 'Smith'},\n",
       " {'label': 'Spinoza', 'value': 'Spinoza'},\n",
       " {'label': 'Stoicism', 'value': 'Stoicism'},\n",
       " {'label': 'The Analysis Of Mind', 'value': 'The Analysis Of Mind'},\n",
       " {'label': 'The Birth Of The Clinic', 'value': 'The Birth Of The Clinic'},\n",
       " {'label': 'The Communist Manifesto', 'value': 'The Communist Manifesto'},\n",
       " {'label': 'The Crisis Of The European Sciences And Phenomenology',\n",
       "  'value': 'The Crisis Of The European Sciences And Phenomenology'},\n",
       " {'label': 'The Idea Of Phenomenology', 'value': 'The Idea Of Phenomenology'},\n",
       " {'label': 'The Logic Of Scientific Discovery',\n",
       "  'value': 'The Logic Of Scientific Discovery'},\n",
       " {'label': 'The Order Of Things', 'value': 'The Order Of Things'},\n",
       " {'label': 'The Phenomenology Of Perception',\n",
       "  'value': 'The Phenomenology Of Perception'},\n",
       " {'label': 'The Phenomenology Of Spirit',\n",
       "  'value': 'The Phenomenology Of Spirit'},\n",
       " {'label': 'The Problems Of Philosophy',\n",
       "  'value': 'The Problems Of Philosophy'},\n",
       " {'label': 'The Search After Truth', 'value': 'The Search After Truth'},\n",
       " {'label': 'The System Of Ethics', 'value': 'The System Of Ethics'},\n",
       " {'label': 'The Wealth Of Nations', 'value': 'The Wealth Of Nations'},\n",
       " {'label': 'Theodicy', 'value': 'Theodicy'},\n",
       " {'label': 'Three Dialogues', 'value': 'Three Dialogues'},\n",
       " {'label': 'Tractatus Logico-Philosophicus',\n",
       "  'value': 'Tractatus Logico-Philosophicus'},\n",
       " {'label': 'Wittgenstein', 'value': 'Wittgenstein'},\n",
       " {'label': 'Writing And Difference', 'value': 'Writing And Difference'}]"
      ]
     },
     "metadata": {},
     "execution_count": 13
    }
   ],
   "source": [
    "dropdown_menu = []\n",
    "for source in all_options:\n",
    "    dropdown_menu.append({'label': source, 'value': source})\n",
    "\n",
    "dropdown_menu"
   ]
  },
  {
   "cell_type": "code",
   "execution_count": null,
   "metadata": {},
   "outputs": [],
   "source": []
  }
 ]
}